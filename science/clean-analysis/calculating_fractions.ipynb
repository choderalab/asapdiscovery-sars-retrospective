{
 "cells": [
  {
   "cell_type": "markdown",
   "id": "d1da558b-5f6a-40fb-94ca-ca97f9e676fa",
   "metadata": {},
   "source": [
    "# Imports"
   ]
  },
  {
   "cell_type": "code",
   "execution_count": 1,
   "id": "85f21dab-0786-4813-a83d-d1062a93e0a2",
   "metadata": {},
   "outputs": [
    {
     "data": {
      "text/plain": [
       "<module 'software.analysis' from '/Users/alexpayne/Scientific_Projects/asapdiscovery-sars-retrospective/software/analysis.py'>"
      ]
     },
     "execution_count": 1,
     "metadata": {},
     "output_type": "execute_result"
    }
   ],
   "source": [
    "import pandas as pd\n",
    "from pathlib import Path\n",
    "import numpy as np\n",
    "from importlib import reload\n",
    "import software.analysis as a\n",
    "reload(a)"
   ]
  },
  {
   "cell_type": "markdown",
   "id": "2614b374-1eaa-40e6-b950-01ec67241016",
   "metadata": {},
   "source": [
    "# Loading"
   ]
  },
  {
   "cell_type": "code",
   "execution_count": null,
   "id": "039abd89-bc4e-4e99-9053-4ec1a32c32cc",
   "metadata": {},
   "outputs": [],
   "source": []
  },
  {
   "cell_type": "markdown",
   "id": "64596bd3-3cb4-427e-a3bc-981e27400730",
   "metadata": {},
   "source": [
    "# Calculating Values"
   ]
  },
  {
   "cell_type": "code",
   "execution_count": null,
   "id": "60095ce1-2727-4b8b-8fba-10b606fdf87b",
   "metadata": {
    "editable": true,
    "slideshow": {
     "slide_type": ""
    },
    "tags": []
   },
   "outputs": [],
   "source": []
  },
  {
   "cell_type": "code",
   "execution_count": null,
   "id": "cb43f473-bbe4-48c2-9fab-8b52dbd7507e",
   "metadata": {},
   "outputs": [],
   "source": []
  },
  {
   "cell_type": "code",
   "execution_count": null,
   "id": "dd64320a-481c-4b56-bf1a-b7ba52a125ef",
   "metadata": {},
   "outputs": [],
   "source": []
  }
 ],
 "metadata": {
  "kernelspec": {
   "display_name": "Python 3 (ipykernel)",
   "language": "python",
   "name": "python3"
  },
  "language_info": {
   "codemirror_mode": {
    "name": "ipython",
    "version": 3
   },
   "file_extension": ".py",
   "mimetype": "text/x-python",
   "name": "python",
   "nbconvert_exporter": "python",
   "pygments_lexer": "ipython3",
   "version": "3.10.13"
  }
 },
 "nbformat": 4,
 "nbformat_minor": 5
}
