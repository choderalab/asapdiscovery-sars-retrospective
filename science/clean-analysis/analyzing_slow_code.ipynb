{
 "cells": [
  {
   "cell_type": "markdown",
   "id": "d1da558b-5f6a-40fb-94ca-ca97f9e676fa",
   "metadata": {},
   "source": [
    "# Imports"
   ]
  },
  {
   "cell_type": "code",
   "execution_count": null,
   "id": "85f21dab-0786-4813-a83d-d1062a93e0a2",
   "metadata": {},
   "outputs": [],
   "source": [
    "import pandas as pd\n",
    "from pathlib import Path\n",
    "import numpy as np\n",
    "from importlib import reload\n",
    "import software.analysis as a\n",
    "reload(a)"
   ]
  },
  {
   "cell_type": "markdown",
   "id": "2614b374-1eaa-40e6-b950-01ec67241016",
   "metadata": {},
   "source": [
    "# Loading"
   ]
  },
  {
   "cell_type": "code",
   "execution_count": null,
   "id": "7f3ff296-2905-4d66-95f5-c2dfceaf98c3",
   "metadata": {},
   "outputs": [],
   "source": [
    "df = pd.read_csv(\"/Users/alexpayne/Scientific_Projects/mers-drug-discovery/sars2-retrospective-analysis/20230611-combined.csv\", index_col=0, engine='pyarrow', dtype_backend=\"pyarrow\")"
   ]
  },
  {
   "cell_type": "markdown",
   "id": "64596bd3-3cb4-427e-a3bc-981e27400730",
   "metadata": {},
   "source": [
    "# Analyzing Slow Code"
   ]
  },
  {
   "cell_type": "code",
   "execution_count": null,
   "id": "8292284c-6ebf-4747-bcde-90fb8de32cf3",
   "metadata": {
    "scrolled": true
   },
   "outputs": [],
   "source": [
    "%%prun\n",
    "random_stats = a.calculate_rmsd_stats(df, query_mol_id=\"Compound_ID\", reference_selection=\"random\", ref_structure_stride=10, score_column=\"POSIT_R\", group_by=[\"Version\"], n_bootstraps=10)"
   ]
  },
  {
   "cell_type": "markdown",
   "id": "d563cb3f-5b3a-4d59-b546-0ef446eea841",
   "metadata": {},
   "source": [
    "## splitting up functions into sub-functions"
   ]
  },
  {
   "cell_type": "code",
   "execution_count": null,
   "id": "7875a236-3986-4310-a9e5-db9fe85698b9",
   "metadata": {},
   "outputs": [],
   "source": [
    "def get_random_sample(df) -> pd.DataFrame:\n",
    "    # Randomize the order of the structures\n",
    "    randomized = df.sample(frac=1)\n",
    "    return randomized"
   ]
  },
  {
   "cell_type": "code",
   "execution_count": null,
   "id": "917f89ab-2066-40da-937b-2d1db02e952d",
   "metadata": {},
   "outputs": [],
   "source": [
    "def get_structure_sort(df, group_by: list, query_mol_id, reference_selection, n_struc) -> pd.DataFrame:\n",
    "    subset_df = df.sort_values(reference_selection).groupby([query_mol_id] + group_by).head(n_struc)\n",
    "    return subset_df"
   ]
  },
  {
   "cell_type": "code",
   "execution_count": null,
   "id": "f7fd2471-3513-4ed4-bc61-a70f90080ccf",
   "metadata": {},
   "outputs": [],
   "source": [
    "def get_score_sort(subset_df, score_column, query_mol_id, group_by):\n",
    "    # Rank the poses by score\n",
    "    return (\n",
    "        subset_df.sort_values(score_column)\n",
    "        .groupby([query_mol_id] + group_by)\n",
    "        .head(1))"
   ]
  },
  {
   "cell_type": "code",
   "execution_count": null,
   "id": "ad267e6c-6203-4160-8c99-412677784af6",
   "metadata": {},
   "outputs": [],
   "source": [
    "def calculate_fraction(scored_df, score_column, query_mol_id, group_by, rmsd_col, rmsd_cutoff, n_mols):\n",
    "    return scored_df.groupby(group_by, group_keys=True)[rmsd_col].apply(lambda x: x <= rmsd_cutoff).groupby(group_by).sum() / n_mols"
   ]
  },
  {
   "cell_type": "code",
   "execution_count": null,
   "id": "c550e637-ff20-4a6b-9177-fc7f69fa9812",
   "metadata": {},
   "outputs": [],
   "source": [
    "def collect_results(rmsd_stats_series, n_ref, score_column, query_mol_id, group_by, n_mols):\n",
    "    split_cols_list = []\n",
    "    score_list = []\n",
    "    n_references = []\n",
    "\n",
    "    min_nrefs = []\n",
    "    max_nrefs = []\n",
    "    mean_nrefs = []\n",
    "\n",
    "    for split_col in rmsd_stats_series.index:\n",
    "        split_cols_list.append(split_col)\n",
    "        score_list.append(rmsd_stats_series[split_col])\n",
    "        n_references.append(n_ref)\n",
    "\n",
    "    # n_allowed_refs = n_references if cumulative else ref_structure_stride\n",
    "\n",
    "    return_df = pd.DataFrame(\n",
    "        {\n",
    "            \"Fraction\": score_list,\n",
    "            \"Version\": split_cols_list,\n",
    "            \"Number of References\": n_references,\n",
    "            \"Structure_Split\": reference_selection,\n",
    "        }\n",
    "    )\n",
    "    if reference_selection == \"random\":\n",
    "        return_df[\"Split_Value_min\"] = \"Random\"\n",
    "        return_df[\"Split_Value_max\"] = \"Random\"\n",
    "    else:\n",
    "        return_df[\"Split_Value_min\"] = subset_df[reference_selection].min()\n",
    "        return_df[\"Split_Value_max\"] = subset_df[reference_selection].max()\n",
    "    return return_df"
   ]
  },
  {
   "cell_type": "code",
   "execution_count": null,
   "id": "6573bc01-c6e1-4f6c-98e6-3dff3e9d06b1",
   "metadata": {},
   "outputs": [],
   "source": []
  },
  {
   "cell_type": "markdown",
   "id": "a2d59db9-c823-4587-8965-76df058fa87f",
   "metadata": {},
   "source": [
    "### combined workflow"
   ]
  },
  {
   "cell_type": "code",
   "execution_count": null,
   "id": "737ca03c-b7ad-41c3-a6c2-18657d426ace",
   "metadata": {},
   "outputs": [],
   "source": [
    "reference_selection = \"Structure_Date\"\n",
    "query_mol_id = \"Compound_ID\"\n",
    "group_by = [\"Version\"]\n",
    "score_column = \"POSIT_R\"\n",
    "rmsd_col=\"RMSD\""
   ]
  },
  {
   "cell_type": "markdown",
   "id": "e0051f49-424d-4bf1-9f21-95672a621846",
   "metadata": {},
   "source": [
    "## with pyarrow"
   ]
  },
  {
   "cell_type": "code",
   "execution_count": null,
   "id": "b877c418-770d-4893-bcdf-942478f653fa",
   "metadata": {},
   "outputs": [],
   "source": [
    "df = pd.read_csv(\"/Users/alexpayne/Scientific_Projects/mers-drug-discovery/sars2-retrospective-analysis/20230611-combined.csv\", index_col=0, engine='pyarrow', dtype_backend=\"pyarrow\")"
   ]
  },
  {
   "cell_type": "code",
   "execution_count": null,
   "id": "01155bd0-6715-4a18-ab48-ffcc841f6807",
   "metadata": {
    "scrolled": true
   },
   "outputs": [],
   "source": [
    "%%prun\n",
    "dfs = []\n",
    "for j in range(1,10):\n",
    "    randomized = get_random_sample(df)\n",
    "    n_mols = len(df[query_mol_id].unique())\n",
    "    for i in range(1, 200, 10):\n",
    "        subset_df = get_structure_sort(randomized, group_by=group_by, query_mol_id = query_mol_id, reference_selection=reference_selection, n_struc=i)\n",
    "        scored_df = get_score_sort(subset_df=subset_df, score_column=score_column, query_mol_id=query_mol_id, group_by=group_by)\n",
    "        fraction = calculate_fraction(scored_df, score_column=score_column, query_mol_id=query_mol_id, group_by=group_by, rmsd_col=rmsd_col, rmsd_cutoff=2, n_mols=n_mols)\n",
    "        dfs.append(collect_results(fraction, i, score_column, query_mol_id, group_by, n_mols))\n",
    "combined = pd.concat(dfs)"
   ]
  },
  {
   "cell_type": "markdown",
   "id": "99d7d460-5e17-4f20-9666-fc399ea2649e",
   "metadata": {},
   "source": [
    "## without pyarrow"
   ]
  },
  {
   "cell_type": "code",
   "execution_count": null,
   "id": "c7340763-f367-43bf-bf41-18b391dd30c9",
   "metadata": {},
   "outputs": [],
   "source": [
    "df = pd.read_csv(\"/Users/alexpayne/Scientific_Projects/mers-drug-discovery/sars2-retrospective-analysis/20230611-combined.csv\", index_col=0)"
   ]
  },
  {
   "cell_type": "code",
   "execution_count": null,
   "id": "21bc1097-ad0e-4c9b-8fdb-b7ebfe18cc05",
   "metadata": {},
   "outputs": [],
   "source": [
    "%%prun\n",
    "dfs = []\n",
    "for j in range(1,10):\n",
    "    randomized = get_random_sample(df)\n",
    "    n_mols = len(df[query_mol_id].unique())\n",
    "    for i in range(1, 200, 10):\n",
    "        subset_df = get_structure_sort(randomized, group_by=group_by, query_mol_id = query_mol_id, reference_selection=reference_selection, n_struc=i)\n",
    "        scored_df = get_score_sort(subset_df=subset_df, score_column=score_column, query_mol_id=query_mol_id, group_by=group_by)\n",
    "        fraction = calculate_fraction(scored_df, score_column=score_column, query_mol_id=query_mol_id, group_by=group_by, rmsd_col=rmsd_col, rmsd_cutoff=2, n_mols=n_mols)\n",
    "        dfs.append(collect_results(fraction, i, score_column, query_mol_id, group_by, n_mols))\n",
    "combined = pd.concat(dfs)"
   ]
  },
  {
   "cell_type": "markdown",
   "id": "b199265f-72ef-4046-bc1d-df1c59e422de",
   "metadata": {},
   "source": [
    "# plotting"
   ]
  },
  {
   "cell_type": "code",
   "execution_count": null,
   "id": "e1cbdf23-b9a0-4818-8da7-e620f6a51fbc",
   "metadata": {},
   "outputs": [],
   "source": [
    "import plotly.express as px\n",
    "from plotly.graph_objs import Figure"
   ]
  },
  {
   "cell_type": "code",
   "execution_count": null,
   "id": "ad4cc33d-5087-459a-b7c2-78f9a3daa5e3",
   "metadata": {
    "tags": []
   },
   "outputs": [],
   "source": [
    "fraction_plot_kwargs = dict(range_y=[-0.1,1.1])"
   ]
  },
  {
   "cell_type": "markdown",
   "id": "a8b2e040-1e1e-40a5-aae7-43b0e6966414",
   "metadata": {},
   "source": [
    "### cleanup functions"
   ]
  },
  {
   "cell_type": "code",
   "execution_count": null,
   "id": "5bd77f69-2e83-46e0-97cd-d9f15659b28c",
   "metadata": {
    "tags": []
   },
   "outputs": [],
   "source": [
    "def replace_xaxis_labels(fig: Figure, axis_title):\n",
    "    fig.for_each_xaxis(lambda x: x.update(title = ''))\n",
    "    fig.add_annotation(x=0.5,y=-0.15,\n",
    "                   text=axis_title, textangle=0,\n",
    "                       font=dict(size=16),\n",
    "                    xref=\"paper\", yref=\"paper\",\n",
    "            showarrow=False,)\n",
    "    return fig"
   ]
  },
  {
   "cell_type": "code",
   "execution_count": null,
   "id": "d91354db-5bbe-48b3-9d3b-c1bb4a9bfbe6",
   "metadata": {
    "tags": []
   },
   "outputs": [],
   "source": [
    "def replace_yaxis_labels(fig: Figure, axis_title):\n",
    "    fig.for_each_yaxis(lambda y: y.update(title = ''))\n",
    "    fig.add_annotation(x=-0.05,y=0.5,\n",
    "                   text=axis_title, textangle=-90,\n",
    "                       font=dict(size=16),\n",
    "                    xref=\"paper\", yref=\"paper\",\n",
    "            showarrow=False,)\n",
    "    return fig"
   ]
  },
  {
   "cell_type": "code",
   "execution_count": null,
   "id": "95530959-7d12-4532-97e0-2dff79a97fb9",
   "metadata": {
    "tags": []
   },
   "outputs": [],
   "source": [
    "def clean_labels(fig):\n",
    "    fig.for_each_annotation(lambda a: a.update(text=a.text.split(\"=\")[-1]))\n",
    "    return fig"
   ]
  },
  {
   "cell_type": "markdown",
   "id": "9e4fb023-4c5f-48e1-ac7d-296ddd26dd17",
   "metadata": {
    "editable": true,
    "slideshow": {
     "slide_type": ""
    },
    "tags": []
   },
   "source": [
    "### scatterplot wrapper"
   ]
  },
  {
   "cell_type": "code",
   "execution_count": null,
   "id": "2154fc32-894e-45d4-b0e9-8347ad20b77f",
   "metadata": {
    "tags": []
   },
   "outputs": [],
   "source": [
    "def scatter_wrapper(df, kwarg_dict, \n",
    "                    x_axis_title=None, \n",
    "                    y_axis_title=None, \n",
    "                    replace_xaxis=False,\n",
    "                    replace_y_axis=False,\n",
    "                    clean=True,\n",
    "                    x_axis_reversed=False\n",
    "                   ):\n",
    "    fig:Figure = px.scatter(df, **kwarg_dict, hover_data=df.columns)\n",
    "    if x_axis_title:\n",
    "        if replace_xaxis:\n",
    "            fig = replace_xaxis_labels(fig, x_axis_title)\n",
    "        else:\n",
    "            fig.update_xaxes(title=x_axis_title)\n",
    "    \n",
    "    if y_axis_title:\n",
    "        if replace_y_axis:\n",
    "            fig = replace_yaxis_labels(fig, y_axis_title)\n",
    "        else:\n",
    "            fig.update_yaxes(title=y_axis_title)\n",
    "    \n",
    "    if clean:\n",
    "        fig = clean_labels(fig)\n",
    "    if x_axis_reversed:\n",
    "        fig.update_xaxes(autorange=\"reversed\")\n",
    "    return fig"
   ]
  },
  {
   "cell_type": "code",
   "execution_count": null,
   "id": "abd9f218-e34c-4097-afa3-a5fc36ecc2fb",
   "metadata": {
    "editable": true,
    "slideshow": {
     "slide_type": ""
    },
    "tags": []
   },
   "outputs": [],
   "source": [
    "fig = scatter_wrapper(combined, \n",
    "                      dict(\n",
    "                          y=\"Fraction\", color=\"Structure_Split\", facet_col=\"Version\",\n",
    "                          color_discrete_sequence=px.colors.qualitative.Dark24,\n",
    "                          # error_y=\"Max\", \n",
    "                          # error_y_minus=\"Min\",\n",
    "                          template=\"seaborn\",\n",
    "                           **fraction_plot_kwargs,\n",
    "                           x=\"Number of References\", \n",
    "                          height=600,\n",
    "                          width=800\n",
    "                           # **single_plot_kwargs\n",
    "                      ),\n",
    "                     y_axis_title=\"Fraction of Poses < 2Å from Reference\",\n",
    "                     x_axis_title=\"Number of References\"\n",
    "                     )\n",
    "fig.for_each_yaxis(lambda y: y.update(title = ''))\n",
    "fig.update_layout(yaxis1=dict(title=\"Fraction of Poses < 2Å from Reference\"), height=400, width=800)\n",
    "fig.show()\n",
    "fig.write_image(\"20231101_sasa_comparison.png\")"
   ]
  },
  {
   "cell_type": "markdown",
   "id": "08b35196-5284-4e01-ba6c-d9ee00f0596a",
   "metadata": {},
   "source": [
    "# What if we didn't sort every time?"
   ]
  },
  {
   "cell_type": "code",
   "execution_count": null,
   "id": "124e4dca-78e8-4881-8afb-bca546030340",
   "metadata": {},
   "outputs": [],
   "source": [
    "structure_sorted = df.sort_values(reference_selection).groupby([query_mol_id] + group_by)"
   ]
  },
  {
   "cell_type": "code",
   "execution_count": null,
   "id": "3a6f4147-8d97-4d13-81b3-a56307436240",
   "metadata": {},
   "outputs": [],
   "source": [
    "structure_sorted.head(10)"
   ]
  },
  {
   "cell_type": "markdown",
   "id": "7fe88a2a-fc53-465e-b9ad-433ee5150637",
   "metadata": {},
   "source": [
    "## yeah lets do that"
   ]
  }
 ],
 "metadata": {
  "kernelspec": {
   "display_name": "Python 3 (ipykernel)",
   "language": "python",
   "name": "python3"
  },
  "language_info": {
   "codemirror_mode": {
    "name": "ipython",
    "version": 3
   },
   "file_extension": ".py",
   "mimetype": "text/x-python",
   "name": "python",
   "nbconvert_exporter": "python",
   "pygments_lexer": "ipython3",
   "version": "3.10.13"
  }
 },
 "nbformat": 4,
 "nbformat_minor": 5
}
