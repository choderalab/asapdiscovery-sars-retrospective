{
 "cells": [
  {
   "cell_type": "markdown",
   "id": "a4cce81b-3f33-4ddd-8808-8bb4ec0e8ea0",
   "metadata": {},
   "source": [
    "# Imports"
   ]
  },
  {
   "cell_type": "code",
   "execution_count": null,
   "id": "99f0da57-7068-4138-a076-11f152d2c03b",
   "metadata": {},
   "outputs": [],
   "source": [
    "import pandas as pd\n",
    "import plotly.express as px"
   ]
  },
  {
   "cell_type": "code",
   "execution_count": null,
   "id": "e064485d-8842-4a24-bf7a-33f5548fd821",
   "metadata": {},
   "outputs": [],
   "source": [
    "df = pd.read_csv(\"/Users/alexpayne/Scientific_Projects/mers-drug-discovery/sars2-retrospective-analysis/20230611-combined.csv\", index_col=0)"
   ]
  },
  {
   "cell_type": "markdown",
   "id": "89c1b117-81da-401b-b196-920fccd32a3f",
   "metadata": {},
   "source": [
    "# Design"
   ]
  },
  {
   "cell_type": "markdown",
   "id": "4d7ccb3a-959f-477a-86c2-d37e4e972b8c",
   "metadata": {},
   "source": [
    "The purpose of this notebook is to outline the different options for possible ways of splitting up the structures"
   ]
  },
  {
   "cell_type": "markdown",
   "id": "388b4a95-e0f5-46b4-9a97-f50a52d9cfd8",
   "metadata": {},
   "source": [
    "The idea is that each section will describe how to take an input set of c"
   ]
  },
  {
   "cell_type": "markdown",
   "id": "bbff58cb-ef05-4dad-b2dc-94961ff11329",
   "metadata": {},
   "source": [
    "# Random"
   ]
  },
  {
   "cell_type": "markdown",
   "id": "c82d4dc6-bf68-4c7a-b6ff-1e569c5a9edc",
   "metadata": {},
   "source": [
    "# Ligand-based : only the identity of the ligand matters"
   ]
  },
  {
   "cell_type": "markdown",
   "id": "80a515d7-6335-4f93-93a6-a4f09884a57e",
   "metadata": {},
   "source": [
    "# Structure-based : only the identity of the structure matters"
   ]
  },
  {
   "cell_type": "code",
   "execution_count": null,
   "id": "d383d4a5-a411-4d0c-b530-2336e062b69e",
   "metadata": {},
   "outputs": [],
   "source": []
  },
  {
   "cell_type": "markdown",
   "id": "7c486eab-0efe-48bc-b191-8199c2a61e39",
   "metadata": {},
   "source": [
    "## n structure per date?"
   ]
  },
  {
   "cell_type": "markdown",
   "id": "38e8bef3-46b2-40ea-9a86-7862779fca3d",
   "metadata": {},
   "source": [
    "## aggregated by month"
   ]
  },
  {
   "cell_type": "code",
   "execution_count": null,
   "id": "899de20a-1d32-4d1a-8371-5aaaff0ed046",
   "metadata": {},
   "outputs": [],
   "source": [
    "df[\"Structure_Date\"] = df.Structure_Date.apply(lambda x: x[:-3])\n",
    "by_date = df.groupby([\"Version\", \"Compound_ID\", \"Structure_Date\"])[\"Docked_File\"].count().reset_index()"
   ]
  },
  {
   "cell_type": "code",
   "execution_count": null,
   "id": "d5aeec23-bdf1-4da4-9046-9e6febaae808",
   "metadata": {
    "scrolled": true
   },
   "outputs": [],
   "source": [
    "by_date_group = by_date.groupby([\"Version\", \"Structure_Date\"])[\"Docked_File\"]\n",
    "by_date_agg = by_date_group.mean().reset_index()\n",
    "by_date_agg[\"Std\"] = by_date_group.std().reset_index()[\"Docked_File\"]"
   ]
  },
  {
   "cell_type": "code",
   "execution_count": null,
   "id": "8ba95070-ea36-4e02-b632-5a2f6dd40606",
   "metadata": {},
   "outputs": [],
   "source": [
    "by_date_agg"
   ]
  },
  {
   "cell_type": "code",
   "execution_count": null,
   "id": "4e0f5447-79f5-4f20-afb5-29b3b7a3178c",
   "metadata": {},
   "outputs": [],
   "source": [
    "px.bar(by_date_agg, color=\"Version\", x=\"Structure_Date\", y=\"Docked_File\", barmode='group', error_y=\"Std\")"
   ]
  },
  {
   "cell_type": "markdown",
   "id": "f08275d0-bda7-401d-8f32-8a2f40165672",
   "metadata": {},
   "source": [
    "## cumulative"
   ]
  },
  {
   "cell_type": "code",
   "execution_count": null,
   "id": "cda485e9-0993-4160-bec1-17ab11566b8a",
   "metadata": {},
   "outputs": [],
   "source": [
    "px.histogram(by_date_agg, x=\"Structure_Date\", y=\"Docked_File\", color=\"Version\",cumulative=True,barmode='group')"
   ]
  },
  {
   "cell_type": "markdown",
   "id": "cb1296f8-974d-404b-a1f6-a4c4110edfc6",
   "metadata": {},
   "source": [
    "## cumulative with errors"
   ]
  },
  {
   "cell_type": "code",
   "execution_count": null,
   "id": "dccdb115-bb87-4605-98bc-2a857bdca3b8",
   "metadata": {},
   "outputs": [],
   "source": [
    "df = pd.read_csv(\"/Users/alexpayne/Scientific_Projects/mers-drug-discovery/sars2-retrospective-analysis/20230611-combined.csv\", index_col=0)"
   ]
  },
  {
   "cell_type": "code",
   "execution_count": null,
   "id": "1f3b38d0-cbeb-4ee3-8466-1adaf8f3cf72",
   "metadata": {},
   "outputs": [],
   "source": [
    "df[\"Structure_Date\"] = df.Structure_Date.apply(lambda x: x[:-3])\n",
    "by_date = df.groupby([\"Version\", \"Compound_ID\", \"Structure_Date\"])[\"Docked_File\"].count().reset_index()"
   ]
  },
  {
   "cell_type": "code",
   "execution_count": null,
   "id": "c5586fb2-918b-43c4-8517-761135b01954",
   "metadata": {},
   "outputs": [],
   "source": [
    "by_date"
   ]
  },
  {
   "cell_type": "code",
   "execution_count": null,
   "id": "e0ec7d04-3bac-4f5f-978c-384f82912ee5",
   "metadata": {},
   "outputs": [],
   "source": [
    "by_date_by_cmpd = by_date.groupby([\"Version\", \"Compound_ID\"]).apply(lambda x: x[\"Docked_File\"].cumsum()).reset_index().drop(columns=[\"level_2\"])"
   ]
  },
  {
   "cell_type": "code",
   "execution_count": null,
   "id": "347ae09b-85ef-4acf-902c-fba1a605bfe2",
   "metadata": {},
   "outputs": [],
   "source": [
    "by_date_by_cmpd[\"Structure_Date\"] = by_date.Structure_Date"
   ]
  },
  {
   "cell_type": "code",
   "execution_count": null,
   "id": "03ad969d-9c0c-4df5-9b9a-bab06394a4ae",
   "metadata": {},
   "outputs": [],
   "source": [
    "px.line(by_date_by_cmpd, color=\"Compound_ID\", y=\"Docked_File\", facet_col=\"Version\", x=\"Structure_Date\")"
   ]
  },
  {
   "cell_type": "markdown",
   "id": "08176e8e-ff10-434f-b5d1-1b9d32a926be",
   "metadata": {},
   "source": [
    "### combining with std"
   ]
  },
  {
   "cell_type": "code",
   "execution_count": null,
   "id": "cc7cc48c-ad69-430c-a338-4726f14e301f",
   "metadata": {},
   "outputs": [],
   "source": [
    "grouped = by_date_by_cmpd.drop(columns=\"Compound_ID\").groupby([\"Version\", \"Structure_Date\"])"
   ]
  },
  {
   "cell_type": "code",
   "execution_count": null,
   "id": "729e8541-329d-4d13-9cc4-a48abc440bdd",
   "metadata": {},
   "outputs": [],
   "source": [
    "with_error = grouped.mean().reset_index()"
   ]
  },
  {
   "cell_type": "code",
   "execution_count": null,
   "id": "47e4be19-6e7f-4b20-96e1-68ab6148e682",
   "metadata": {},
   "outputs": [],
   "source": [
    "with_error[\"Error_minus\"] = with_error.Docked_File - grouped.min().reset_index().Docked_File\n",
    "with_error[\"Error_plus\"] = grouped.max().reset_index().Docked_File - with_error.Docked_File"
   ]
  },
  {
   "cell_type": "code",
   "execution_count": null,
   "id": "65d3b508-65bc-4ee4-b417-7af8a59cf103",
   "metadata": {},
   "outputs": [],
   "source": [
    "px.bar(with_error, x=\"Structure_Date\", y=\"Docked_File\", color=\"Version\",barmode='group', \n",
    "       error_y_minus=\"Error_minus\", error_y=\"Error_plus\"\n",
    "      )"
   ]
  },
  {
   "cell_type": "markdown",
   "id": "c0561ee6-120d-495c-a5f0-1296b4e15183",
   "metadata": {},
   "source": [
    "# Ligand + Structure : Ligand Similarity"
   ]
  },
  {
   "cell_type": "markdown",
   "id": "cce0b7a0-064a-40cd-98e5-3b895efe91ce",
   "metadata": {},
   "source": [
    "# Ligand + Structure : Active Site Similarity"
   ]
  },
  {
   "cell_type": "code",
   "execution_count": null,
   "id": "f3e107d7-5c6a-4f74-8c11-dfa275bc0599",
   "metadata": {},
   "outputs": [],
   "source": []
  }
 ],
 "metadata": {
  "kernelspec": {
   "display_name": "Python 3 (ipykernel)",
   "language": "python",
   "name": "python3"
  },
  "language_info": {
   "codemirror_mode": {
    "name": "ipython",
    "version": 3
   },
   "file_extension": ".py",
   "mimetype": "text/x-python",
   "name": "python",
   "nbconvert_exporter": "python",
   "pygments_lexer": "ipython3",
   "version": "3.10.13"
  }
 },
 "nbformat": 4,
 "nbformat_minor": 5
}
