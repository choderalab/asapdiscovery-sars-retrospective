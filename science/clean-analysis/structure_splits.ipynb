{
 "cells": [
  {
   "cell_type": "markdown",
   "id": "a4cce81b-3f33-4ddd-8808-8bb4ec0e8ea0",
   "metadata": {},
   "source": [
    "# Imports"
   ]
  },
  {
   "cell_type": "markdown",
   "id": "89c1b117-81da-401b-b196-920fccd32a3f",
   "metadata": {},
   "source": [
    "# Design"
   ]
  },
  {
   "cell_type": "markdown",
   "id": "4d7ccb3a-959f-477a-86c2-d37e4e972b8c",
   "metadata": {},
   "source": [
    "The purpose of this notebook is to outline the different options for possible ways of splitting up the structures"
   ]
  },
  {
   "cell_type": "markdown",
   "id": "388b4a95-e0f5-46b4-9a97-f50a52d9cfd8",
   "metadata": {},
   "source": [
    "The idea is that each section will describe how to take an input set of c"
   ]
  },
  {
   "cell_type": "markdown",
   "id": "bbff58cb-ef05-4dad-b2dc-94961ff11329",
   "metadata": {},
   "source": [
    "# Random"
   ]
  },
  {
   "cell_type": "markdown",
   "id": "c82d4dc6-bf68-4c7a-b6ff-1e569c5a9edc",
   "metadata": {},
   "source": [
    "# Ligand-based : only the identity of the ligand matters"
   ]
  },
  {
   "cell_type": "markdown",
   "id": "80a515d7-6335-4f93-93a6-a4f09884a57e",
   "metadata": {},
   "source": [
    "# Structure-based : only the identity of the structure matters"
   ]
  },
  {
   "cell_type": "code",
   "execution_count": null,
   "id": "d383d4a5-a411-4d0c-b530-2336e062b69e",
   "metadata": {},
   "outputs": [],
   "source": []
  },
  {
   "cell_type": "markdown",
   "id": "c0561ee6-120d-495c-a5f0-1296b4e15183",
   "metadata": {},
   "source": [
    "# Ligand + Structure : Ligand Similarity"
   ]
  },
  {
   "cell_type": "markdown",
   "id": "cce0b7a0-064a-40cd-98e5-3b895efe91ce",
   "metadata": {},
   "source": [
    "# Ligand + Structure : Active Site Similarity"
   ]
  },
  {
   "cell_type": "code",
   "execution_count": null,
   "id": "f3e107d7-5c6a-4f74-8c11-dfa275bc0599",
   "metadata": {},
   "outputs": [],
   "source": []
  }
 ],
 "metadata": {
  "kernelspec": {
   "display_name": "Python 3 (ipykernel)",
   "language": "python",
   "name": "python3"
  },
  "language_info": {
   "codemirror_mode": {
    "name": "ipython",
    "version": 3
   },
   "file_extension": ".py",
   "mimetype": "text/x-python",
   "name": "python",
   "nbconvert_exporter": "python",
   "pygments_lexer": "ipython3",
   "version": "3.10.13"
  }
 },
 "nbformat": 4,
 "nbformat_minor": 5
}
