{
 "cells": [
  {
   "cell_type": "markdown",
   "id": "8de0d09d-3d5e-4be6-8257-b844aaaab42c",
   "metadata": {},
   "source": [
    "# Import"
   ]
  },
  {
   "cell_type": "code",
   "execution_count": null,
   "id": "14ec3ec2-5c6b-468d-bb0c-86595856061a",
   "metadata": {},
   "outputs": [],
   "source": [
    "import pandas as pd\n",
    "import software.analysis_schema as a\n",
    "from importlib import reload\n",
    "reload(a)"
   ]
  },
  {
   "cell_type": "code",
   "execution_count": null,
   "id": "b8a8da73-843d-42f4-aaf7-4b42ba358596",
   "metadata": {},
   "outputs": [],
   "source": [
    "df = pd.read_csv(\"/Users/alexpayne/Scientific_Projects/mers-drug-discovery/sars2-retrospective-analysis/20230611-combined.csv\", index_col=0, engine='pyarrow', dtype_backend=\"pyarrow\")"
   ]
  },
  {
   "cell_type": "code",
   "execution_count": null,
   "id": "4b9a19f8-31d7-408c-82b8-77c9d56e75c7",
   "metadata": {},
   "outputs": [],
   "source": [
    "aw = a.AnalysisWorkflow(df=df, query_mol_id=\"Compound_ID\", group_by=[\"Version\"])"
   ]
  },
  {
   "cell_type": "code",
   "execution_count": null,
   "id": "4bf8acc8-b0ae-48c0-afaf-aa85a9ed3e65",
   "metadata": {
    "scrolled": true
   },
   "outputs": [],
   "source": [
    "df1 = aw.run_workflow(score_column=\"POSIT_R\", structure_split=\"Structure_Date\", n_bootstraps=10)"
   ]
  },
  {
   "cell_type": "code",
   "execution_count": null,
   "id": "2386f7c3-d6aa-4dab-98e7-cf217ec04126",
   "metadata": {},
   "outputs": [],
   "source": [
    "df1"
   ]
  },
  {
   "cell_type": "code",
   "execution_count": null,
   "id": "a12440ae-187f-4974-ae10-12ea760e7b49",
   "metadata": {},
   "outputs": [],
   "source": [
    "aw.combined_df.groupby([\"Version\", \"Number of References\"])[\"Fraction\"].quantile(0.975).reset_index()"
   ]
  },
  {
   "cell_type": "code",
   "execution_count": null,
   "id": "b9f63e7e-816b-467d-b03f-e483123474d3",
   "metadata": {},
   "outputs": [],
   "source": [
    "aw.combined_df.groupby([\"Version\", \"Number of References\"])[\"Fraction\"].quantile(0.025).reset_index()[\"Fraction\"]"
   ]
  },
  {
   "cell_type": "code",
   "execution_count": null,
   "id": "ff6a43c3-2c48-4e4f-99ae-1c97d6fbe82c",
   "metadata": {},
   "outputs": [],
   "source": [
    "aw.combined_df.groupby([\"Version\", \"Number of References\"])[\"Fraction\"].mean().reset_index()"
   ]
  },
  {
   "cell_type": "code",
   "execution_count": null,
   "id": "f5d8aee6-1ea5-4e48-9606-a21306413933",
   "metadata": {},
   "outputs": [],
   "source": []
  }
 ],
 "metadata": {
  "kernelspec": {
   "display_name": "Python 3 (ipykernel)",
   "language": "python",
   "name": "python3"
  },
  "language_info": {
   "codemirror_mode": {
    "name": "ipython",
    "version": 3
   },
   "file_extension": ".py",
   "mimetype": "text/x-python",
   "name": "python",
   "nbconvert_exporter": "python",
   "pygments_lexer": "ipython3",
   "version": "3.10.13"
  }
 },
 "nbformat": 4,
 "nbformat_minor": 5
}
