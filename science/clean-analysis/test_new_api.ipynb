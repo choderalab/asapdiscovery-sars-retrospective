{
 "cells": [
  {
   "cell_type": "markdown",
   "id": "8de0d09d-3d5e-4be6-8257-b844aaaab42c",
   "metadata": {},
   "source": [
    "# Import"
   ]
  },
  {
   "cell_type": "code",
   "execution_count": null,
   "id": "14ec3ec2-5c6b-468d-bb0c-86595856061a",
   "metadata": {},
   "outputs": [],
   "source": [
    "import pandas as pd\n",
    "import software.analysis_schema as a\n",
    "from importlib import reload\n",
    "reload(a)"
   ]
  },
  {
   "cell_type": "code",
   "execution_count": null,
   "id": "b8a8da73-843d-42f4-aaf7-4b42ba358596",
   "metadata": {},
   "outputs": [],
   "source": [
    "df = pd.read_csv(\"/Users/alexpayne/Scientific_Projects/mers-drug-discovery/sars2-retrospective-analysis/20230611-combined.csv\", index_col=0, engine='pyarrow', dtype_backend=\"pyarrow\")"
   ]
  },
  {
   "cell_type": "code",
   "execution_count": null,
   "id": "4b9a19f8-31d7-408c-82b8-77c9d56e75c7",
   "metadata": {},
   "outputs": [],
   "source": [
    "aw = a.AnalysisWorkflow(df=df, query_mol_id=\"Compound_ID\", group_by=[\"Version\"])"
   ]
  },
  {
   "cell_type": "code",
   "execution_count": null,
   "id": "4bf8acc8-b0ae-48c0-afaf-aa85a9ed3e65",
   "metadata": {
    "scrolled": true
   },
   "outputs": [],
   "source": [
    "df1 = aw.run_workflow(score_column=\"POSIT_R\", structure_split=\"Structure_Date\", n_bootstraps=10)"
   ]
  },
  {
   "cell_type": "code",
   "execution_count": null,
   "id": "f5d8aee6-1ea5-4e48-9606-a21306413933",
   "metadata": {},
   "outputs": [],
   "source": [
    "df1.to_csv(\"20231113_posit_r_structure_date.csv\")"
   ]
  },
  {
   "cell_type": "code",
   "execution_count": null,
   "id": "0ebba1a7-300e-4b42-98bc-0c0cd6fb722b",
   "metadata": {},
   "outputs": [],
   "source": [
    "aw.get_n_structures(100)"
   ]
  },
  {
   "cell_type": "code",
   "execution_count": null,
   "id": "234c34fb-d0d6-44b1-8da3-5759498cd671",
   "metadata": {},
   "outputs": [],
   "source": [
    "aw.processed.groupby([\"Compound_ID\", \"Version\"])[aw.structure_split].max()"
   ]
  },
  {
   "cell_type": "code",
   "execution_count": null,
   "id": "eca10a80-eb76-42fe-a374-637f982e4aeb",
   "metadata": {},
   "outputs": [],
   "source": [
    "aw.processed.groupby([\"Version\"])[aw.structure_split].max()"
   ]
  },
  {
   "cell_type": "code",
   "execution_count": null,
   "id": "26f5e5d8-541f-4fd3-b846-c3d96075dfee",
   "metadata": {},
   "outputs": [],
   "source": [
    "aw.df.groupby(\"Version\")[aw.structure_split].max()"
   ]
  },
  {
   "cell_type": "code",
   "execution_count": null,
   "id": "10065adb-35d8-4243-8a5b-6c003ef61756",
   "metadata": {},
   "outputs": [],
   "source": [
    "aw.sort_by_structure_split(aw.structure_split)"
   ]
  },
  {
   "cell_type": "code",
   "execution_count": null,
   "id": "1fa9122f-7fa2-4024-83b0-e5b176acd927",
   "metadata": {},
   "outputs": [],
   "source": [
    "aw.structure_sorted"
   ]
  },
  {
   "cell_type": "code",
   "execution_count": null,
   "id": "da6a29ad-5443-4493-9f72-f2b5f778001d",
   "metadata": {},
   "outputs": [],
   "source": [
    "by_date = aw.df.groupby([\"Version\", \"Compound_ID\", \"Structure_Date\"])[\"Docked_File\"].count().reset_index()"
   ]
  },
  {
   "cell_type": "code",
   "execution_count": null,
   "id": "9334cb26-2b6c-4335-b8bd-79625651eb06",
   "metadata": {},
   "outputs": [],
   "source": [
    "by_date.dtypes"
   ]
  },
  {
   "cell_type": "code",
   "execution_count": null,
   "id": "734f5c3c-ae9d-4e35-a420-a3569fa86ecd",
   "metadata": {},
   "outputs": [],
   "source": [
    "by_date_agg = by_date.groupby([\"Version\", \"Structure_Date\"])[\"Docked_File\"].mean().reset_index()"
   ]
  },
  {
   "cell_type": "code",
   "execution_count": null,
   "id": "db4d977d-f23d-48f6-8df4-677020656229",
   "metadata": {},
   "outputs": [],
   "source": [
    "by_date_agg"
   ]
  },
  {
   "cell_type": "code",
   "execution_count": null,
   "id": "c0227ae5-f0aa-4c16-b4c8-b50013861b14",
   "metadata": {},
   "outputs": [],
   "source": []
  }
 ],
 "metadata": {
  "kernelspec": {
   "display_name": "Python 3 (ipykernel)",
   "language": "python",
   "name": "python3"
  },
  "language_info": {
   "codemirror_mode": {
    "name": "ipython",
    "version": 3
   },
   "file_extension": ".py",
   "mimetype": "text/x-python",
   "name": "python",
   "nbconvert_exporter": "python",
   "pygments_lexer": "ipython3",
   "version": "3.10.13"
  }
 },
 "nbformat": 4,
 "nbformat_minor": 5
}
