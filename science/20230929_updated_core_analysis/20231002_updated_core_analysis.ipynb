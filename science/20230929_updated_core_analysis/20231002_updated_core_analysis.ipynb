{
 "cells": [
  {
   "cell_type": "markdown",
   "id": "0048ad31-49fb-45f0-9926-61fc96d42b34",
   "metadata": {
    "pycharm": {
     "is_executing": true
    }
   },
   "source": [
    "# Imports"
   ]
  },
  {
   "cell_type": "code",
   "execution_count": null,
   "id": "af40e0c7-0cc4-4bb2-9b8b-100fc1e062aa",
   "metadata": {
    "pycharm": {
     "is_executing": true
    },
    "tags": []
   },
   "outputs": [],
   "source": [
    "import pandas as pd, numpy as np\n",
    "import plotly.express as px\n",
    "from plotly.graph_objs import Figure\n",
    "from pathlib import Path\n",
    "from importlib import reload\n",
    "import software.analysis as a\n",
    "reload(a)"
   ]
  },
  {
   "cell_type": "markdown",
   "id": "745f6038-4659-42fe-8a84-e7d8454eb43c",
   "metadata": {},
   "source": [
    "# Load Paths"
   ]
  },
  {
   "cell_type": "code",
   "execution_count": null,
   "id": "377c3412-bd7c-4369-a898-99b3dcdd0f74",
   "metadata": {
    "tags": []
   },
   "outputs": [],
   "source": [
    "import sys\n",
    "sys.path.append(str(Path(\"../../../\").resolve()))\n",
    "from software.paths import paths"
   ]
  },
  {
   "cell_type": "code",
   "execution_count": null,
   "id": "a1f6aeaa-ca42-49a1-be71-085678f80fa8",
   "metadata": {
    "tags": []
   },
   "outputs": [],
   "source": [
    "local_analysis = Path(\"/Users/alexpayne/Scientific_Projects/mers-drug-discovery/sars2-retrospective-analysis/\")"
   ]
  },
  {
   "cell_type": "code",
   "execution_count": null,
   "id": "09ef9c7b-e668-4f64-8873-3eaeb076095b",
   "metadata": {
    "tags": []
   },
   "outputs": [],
   "source": [
    "df = pd.read_csv(local_analysis / \"20230611-combined.csv\", index_col=0)"
   ]
  },
  {
   "cell_type": "markdown",
   "id": "122add74-2b97-445d-acda-a36d46b538c9",
   "metadata": {},
   "source": [
    "## Add reverse TC score so that it can be ranked ascending"
   ]
  },
  {
   "cell_type": "code",
   "execution_count": null,
   "id": "9196e48b-82eb-44ea-8246-0d178740f63a",
   "metadata": {
    "tags": []
   },
   "outputs": [],
   "source": [
    "df[\"TanimotoCombo_R\"] = 2-df.TanimotoCombo"
   ]
  },
  {
   "cell_type": "code",
   "execution_count": null,
   "id": "e0204f53-ba63-46c5-a2ec-dcbe49639efd",
   "metadata": {},
   "outputs": [],
   "source": []
  },
  {
   "cell_type": "markdown",
   "id": "d876d741-3b4b-42d4-aa17-1dd816f85d74",
   "metadata": {
    "tags": []
   },
   "source": [
    "# Functions and Variables"
   ]
  },
  {
   "cell_type": "code",
   "execution_count": null,
   "id": "ff6465bd-2f5a-4c03-a129-c9954de8a747",
   "metadata": {},
   "outputs": [],
   "source": []
  },
  {
   "cell_type": "markdown",
   "id": "0e1f6100-b620-4191-affc-edc579e2e78d",
   "metadata": {},
   "source": [
    "## Variables"
   ]
  },
  {
   "cell_type": "code",
   "execution_count": null,
   "id": "5d5f3dfc-aef2-4356-96fc-92980c6f0076",
   "metadata": {
    "tags": []
   },
   "outputs": [],
   "source": [
    "tc = \"TanimotoCombo\"\n",
    "tc_title = \"TanimotoCombo Cutoff for Inclusion of Reference Structures\"\n",
    "tcr = \"TanimotoCombo_R\"\n",
    "y=\"Fraction\"\n",
    "posit_r = \"POSIT_R\"\n",
    "posit_method=\"POSIT_Method\"\n",
    "color=\"Version\"\n",
    "id_col=\"Compound_ID\"\n",
    "rmsd=\"RMSD\"\n",
    "method_split=[posit_method]\n",
    "n=1\n",
    "good=2\n",
    "tc_cutoffs = np.linspace(0,2,50)\n",
    "tcr_cutoffs = np.linspace(2,0,50)\n",
    "sort_cols = [rmsd, posit_r, \"Chemgauss4\", tcr]\n",
    "dates = df.Structure_Date.unique()\n",
    "date_col = \"Structure_Date\"\n",
    "date_title = \"Date for Inclusion of Reference Structures\"\n",
    "reference_col = \"Structure_Source\"\n",
    "split_cols=[\"Version\"]\n",
    "sort_col_name=\"Sorted_By\"\n",
    "full_split_cols=[\"Version\", posit_method]\n",
    "split_column_sets={\"General\":split_cols, \"Detailed\":full_split_cols}\n",
    "general_split_cols = {\"General\":split_cols}\n",
    "detailed_split_cols = {\"Detailed\":full_split_cols}\n",
    "frac_title=f\"Fraction of Poses < {good}Å from Reference\""
   ]
  },
  {
   "cell_type": "markdown",
   "id": "2a3eb223-4019-45c7-a186-25a69cd9a40e",
   "metadata": {},
   "source": [
    "## Calculation Functions"
   ]
  },
  {
   "cell_type": "code",
   "execution_count": null,
   "id": "36e0e02a-202c-443e-b6bf-ce291d89b39a",
   "metadata": {},
   "outputs": [],
   "source": []
  },
  {
   "cell_type": "code",
   "execution_count": null,
   "id": "43785659-ef64-4936-9006-0bbc8cf7655f",
   "metadata": {},
   "outputs": [],
   "source": []
  },
  {
   "cell_type": "code",
   "execution_count": null,
   "id": "6c0d6217-747d-4a38-b6b6-94a23027eedb",
   "metadata": {},
   "outputs": [],
   "source": []
  },
  {
   "cell_type": "markdown",
   "id": "71655e17-bddc-40c0-bdd9-cf998fa601c1",
   "metadata": {},
   "source": [
    "## Plotting Functions"
   ]
  },
  {
   "cell_type": "markdown",
   "id": "fd74d81a-c5f9-433d-920c-2d5a5793332b",
   "metadata": {},
   "source": [
    "### plot kwargs"
   ]
  },
  {
   "cell_type": "code",
   "execution_count": null,
   "id": "d0344ea6-15fe-4933-824e-9e1f0badb678",
   "metadata": {
    "tags": []
   },
   "outputs": [],
   "source": [
    "df.Version.unique()"
   ]
  },
  {
   "cell_type": "code",
   "execution_count": null,
   "id": "1c35d34c-88dc-4b76-8683-d9269df1e098",
   "metadata": {
    "tags": []
   },
   "outputs": [],
   "source": [
    "df.POSIT_Method.unique()"
   ]
  },
  {
   "cell_type": "code",
   "execution_count": null,
   "id": "e73e4c10-2d3f-4f85-b478-94a80d4283cb",
   "metadata": {
    "tags": []
   },
   "outputs": [],
   "source": [
    "# this doesn't actually work\n",
    "full_versions = [(\"All\", method) for method in df.POSIT_Method.unique()] + [(\"Hybrid-Only\", \"HYBRID\")]\n",
    "full_version_labels = [f\"{version}: {method}\" for version, method in full_versions]\n",
    "full_version_label_dict = {og: label for og, label in zip(full_versions, full_version_labels)}"
   ]
  },
  {
   "cell_type": "code",
   "execution_count": null,
   "id": "136655b7-00bc-4971-909a-91af97fa3163",
   "metadata": {
    "tags": []
   },
   "outputs": [],
   "source": [
    "basic_plot_kwargs = dict(color=color, \n",
    "                         )"
   ]
  },
  {
   "cell_type": "code",
   "execution_count": null,
   "id": "9d6a5a25-d3ef-4408-89f2-a4dac77bbb99",
   "metadata": {
    "tags": []
   },
   "outputs": [],
   "source": [
    "big_plot_kwargs = dict(facet_col=sort_col_name,\n",
    "                         facet_row=\"Split\", \n",
    "                         height=600, \n",
    "                         width=1200, )"
   ]
  },
  {
   "cell_type": "code",
   "execution_count": null,
   "id": "3e5e97b6-6b06-4fec-bcfc-2073c12e9aa9",
   "metadata": {
    "tags": []
   },
   "outputs": [],
   "source": [
    "single_plot_kwargs = dict(height=400, width=600)"
   ]
  },
  {
   "cell_type": "code",
   "execution_count": null,
   "id": "e9d618ab-bca8-4d3d-98b1-e284aac883a5",
   "metadata": {
    "tags": []
   },
   "outputs": [],
   "source": [
    "tc_plot_kwargs = dict(x=tc,  \n",
    "                      labels={tc: tc_title},\n",
    "                     range_x=[-0.1,2.1],)"
   ]
  },
  {
   "cell_type": "code",
   "execution_count": null,
   "id": "430c70d4-4ef2-4dc1-bad8-0a50b4d3f32a",
   "metadata": {
    "tags": []
   },
   "outputs": [],
   "source": [
    "date_plot_kwargs = dict(x=date_col,\n",
    "                        labels={date_col:date_title},\n",
    "                       )"
   ]
  },
  {
   "cell_type": "code",
   "execution_count": null,
   "id": "4dccba2b-a5a3-4067-ac20-b3ca99e01dda",
   "metadata": {
    "tags": []
   },
   "outputs": [],
   "source": [
    "fraction_plot_kwargs = dict(range_y=[-0.1,1.1])"
   ]
  },
  {
   "cell_type": "code",
   "execution_count": null,
   "id": "3ab43d8f-e55e-4fb3-9043-58c59cee66e7",
   "metadata": {
    "tags": []
   },
   "outputs": [],
   "source": [
    "stats_kwargs = dict(y=\"Value\", error_y=\"STD\")"
   ]
  },
  {
   "cell_type": "code",
   "execution_count": null,
   "id": "6de6bd54-de29-48d0-bf99-462281af251f",
   "metadata": {
    "tags": []
   },
   "outputs": [],
   "source": [
    "def combine_labels_kwargs(list_of_kwargs):\n",
    "    new_dict = {}\n",
    "    for kwargs in list_of_kwargs:\n",
    "        for k,v in kwargs.items():\n",
    "            if k in new_dict.keys():\n",
    "                if isinstance(v, dict):\n",
    "                    for ik, iv in v.items():\n",
    "                        new_dict[k][ik] = iv\n",
    "                else:\n",
    "                    raise NotImplementedError(f\"combining these kwargs will not work due to repeated use of {k}\")\n",
    "            else:\n",
    "                new_dict[k] = v\n",
    "    return new_dict\n",
    "    "
   ]
  },
  {
   "cell_type": "code",
   "execution_count": null,
   "id": "2ac5bfa2-0b52-433b-8ee9-2671108e739d",
   "metadata": {
    "tags": []
   },
   "outputs": [],
   "source": [
    "combine_labels_kwargs([big_plot_kwargs, tc_plot_kwargs])"
   ]
  },
  {
   "cell_type": "code",
   "execution_count": null,
   "id": "08f135fc-de66-4169-b5a9-c549efae6714",
   "metadata": {
    "tags": []
   },
   "outputs": [],
   "source": [
    "general_posit_kwargs = {sort_col_name: posit_r, \"Split\":\"General\"}"
   ]
  },
  {
   "cell_type": "markdown",
   "id": "912dfff7-ed7c-4406-8e89-e99b99528542",
   "metadata": {},
   "source": [
    "### cleanup functions"
   ]
  },
  {
   "cell_type": "code",
   "execution_count": null,
   "id": "def42be0-446d-4f93-a88c-8b551ef1cc75",
   "metadata": {
    "tags": []
   },
   "outputs": [],
   "source": [
    "def replace_xaxis_labels(fig: Figure, axis_title):\n",
    "    fig.for_each_xaxis(lambda x: x.update(title = ''))\n",
    "    fig.add_annotation(x=0.5,y=-0.15,\n",
    "                   text=axis_title, textangle=0,\n",
    "                       font=dict(size=16),\n",
    "                    xref=\"paper\", yref=\"paper\",\n",
    "            showarrow=False,)\n",
    "    return fig"
   ]
  },
  {
   "cell_type": "code",
   "execution_count": null,
   "id": "9db32095-f8f8-43c5-b616-a2b66dcc9fe3",
   "metadata": {
    "tags": []
   },
   "outputs": [],
   "source": [
    "def replace_yaxis_labels(fig: Figure, axis_title):\n",
    "    fig.for_each_yaxis(lambda y: y.update(title = ''))\n",
    "    fig.add_annotation(x=-0.05,y=0.5,\n",
    "                   text=axis_title, textangle=-90,\n",
    "                       font=dict(size=16),\n",
    "                    xref=\"paper\", yref=\"paper\",\n",
    "            showarrow=False,)\n",
    "    return fig"
   ]
  },
  {
   "cell_type": "code",
   "execution_count": null,
   "id": "70cc3f93-4818-461d-b8d8-67f11cd7a4e6",
   "metadata": {
    "tags": []
   },
   "outputs": [],
   "source": [
    "def clean_labels(fig):\n",
    "    fig.for_each_annotation(lambda a: a.update(text=a.text.split(\"=\")[-1]))\n",
    "    return fig"
   ]
  },
  {
   "cell_type": "markdown",
   "id": "ddb488fc-f03e-40bb-98a5-6f84bd20c029",
   "metadata": {},
   "source": [
    "### scatterplot wrapper"
   ]
  },
  {
   "cell_type": "code",
   "execution_count": null,
   "id": "3e124eb8-e8c8-4792-b9aa-45797ae4ea2f",
   "metadata": {
    "tags": []
   },
   "outputs": [],
   "source": [
    "def scatter_wrapper(df, kwarg_dict, \n",
    "                    x_axis_title=None, \n",
    "                    y_axis_title=None, \n",
    "                    replace_xaxis=False,\n",
    "                    replace_y_axis=False,\n",
    "                    clean=True,\n",
    "                    x_axis_reversed=False\n",
    "                   ):\n",
    "    fig:Figure = px.scatter(df, **kwarg_dict, hover_data=df.columns)\n",
    "    if x_axis_title:\n",
    "        if replace_xaxis:\n",
    "            fig = replace_xaxis_labels(fig, x_axis_title)\n",
    "        else:\n",
    "            fig.update_xaxes(title=x_axis_title)\n",
    "    \n",
    "    if y_axis_title:\n",
    "        if replace_y_axis:\n",
    "            fig = replace_yaxis_labels(fig, y_axis_title)\n",
    "        else:\n",
    "            fig.update_yaxes(title=y_axis_title)\n",
    "    \n",
    "    if clean:\n",
    "        fig = clean_labels(fig)\n",
    "    if x_axis_reversed:\n",
    "        fig.update_xaxes(autorange=\"reversed\")\n",
    "    return fig"
   ]
  },
  {
   "cell_type": "markdown",
   "id": "1f03eefa-ccb2-4f24-ab74-d60f9a504770",
   "metadata": {},
   "source": [
    "### splify df"
   ]
  },
  {
   "cell_type": "code",
   "execution_count": null,
   "id": "e43b4552-6167-4050-a3f1-63052bcbab97",
   "metadata": {
    "tags": []
   },
   "outputs": [],
   "source": [
    "def simplify_df(df, condition_dict):\n",
    "    new_df = df.copy()\n",
    "    for column, value in condition_dict.items():\n",
    "        new_df = new_df[new_df[column] == value]\n",
    "    return new_df"
   ]
  },
  {
   "cell_type": "markdown",
   "id": "2e420dae-8e8c-41ea-bd11-96433a5f530b",
   "metadata": {},
   "source": [
    "# Overall Analysis"
   ]
  },
  {
   "cell_type": "code",
   "execution_count": null,
   "id": "6002b158-321d-442c-874f-bb694f5ca006",
   "metadata": {
    "tags": []
   },
   "outputs": [],
   "source": [
    "df.groupby(\"Version\").nunique()[[\"Complex_ID\", \"Compound_ID\", \"Structure_Source\"]]"
   ]
  },
  {
   "cell_type": "markdown",
   "id": "22b28b36-42e0-482a-9e6b-51e54ff7e4f4",
   "metadata": {},
   "source": [
    "# Drop self docking results and results with diff compounds"
   ]
  },
  {
   "cell_type": "markdown",
   "id": "4591fd62-69a8-44f2-8d1b-7f4c739d391f",
   "metadata": {},
   "source": [
    "# filter by hybrid-only ones"
   ]
  },
  {
   "cell_type": "code",
   "execution_count": null,
   "id": "7376bba3-56c9-458a-ab54-5bb0bc7c572c",
   "metadata": {
    "tags": []
   },
   "outputs": [],
   "source": [
    "cmpds = df[df[\"Version\"] == \"Hybrid-Only\"].Compound_ID.unique()"
   ]
  },
  {
   "cell_type": "code",
   "execution_count": null,
   "id": "9a048a61-ad86-4f13-9b72-d1580737016a",
   "metadata": {
    "tags": []
   },
   "outputs": [],
   "source": [
    "clean = df[df.Compound_ID.isin(cmpds)]"
   ]
  },
  {
   "cell_type": "code",
   "execution_count": null,
   "id": "c7fc03ed-da20-43b5-bd7a-373d4f8ac68e",
   "metadata": {
    "tags": []
   },
   "outputs": [],
   "source": [
    "structures = clean[clean[\"Version\"] == \"Hybrid-Only\"].Structure_Source.unique()"
   ]
  },
  {
   "cell_type": "code",
   "execution_count": null,
   "id": "cb21f318-5bdb-4405-af72-a5db13273954",
   "metadata": {
    "tags": []
   },
   "outputs": [],
   "source": [
    "clean = clean[clean.Structure_Source.isin(structures)]"
   ]
  },
  {
   "cell_type": "markdown",
   "id": "a217a051-d27b-4a35-a57b-d293f432db0c",
   "metadata": {},
   "source": [
    "## remove self-docked"
   ]
  },
  {
   "cell_type": "code",
   "execution_count": null,
   "id": "3189585e-9f01-4a10-8cdd-2d52443084b7",
   "metadata": {
    "tags": []
   },
   "outputs": [],
   "source": [
    "clean = clean[clean.Compound_ID != clean.Reference_Ligand]"
   ]
  },
  {
   "cell_type": "code",
   "execution_count": null,
   "id": "1f461e95-279b-46ca-9a5f-ffbdc5da27fb",
   "metadata": {
    "tags": []
   },
   "outputs": [],
   "source": [
    "clean.groupby(\"Version\").nunique()"
   ]
  },
  {
   "cell_type": "markdown",
   "id": "a1d82629-2d03-4037-b29b-f44bcd09e811",
   "metadata": {},
   "source": [
    "## remove failed hybrid-only ones"
   ]
  },
  {
   "cell_type": "markdown",
   "id": "f7dc245f-589c-4cf5-ad3a-47b1512c3237",
   "metadata": {},
   "source": [
    "### skipping for now"
   ]
  },
  {
   "cell_type": "code",
   "execution_count": null,
   "id": "40e9ca8b-5667-481f-840a-16e978ea4744",
   "metadata": {
    "tags": []
   },
   "outputs": [],
   "source": [
    "#complexes = clean[clean[\"Version\"] == \"Hybrid-Only\"].Complex_ID.unique()"
   ]
  },
  {
   "cell_type": "code",
   "execution_count": null,
   "id": "54ccfb61-1b6d-435d-9d88-ac8538f6ead1",
   "metadata": {
    "tags": []
   },
   "outputs": [],
   "source": [
    "#clean = clean[clean.Complex_ID.isin(complexes)]"
   ]
  },
  {
   "cell_type": "code",
   "execution_count": null,
   "id": "18c05108-f6f8-4ecd-af46-7d86803126ab",
   "metadata": {
    "tags": []
   },
   "outputs": [],
   "source": [
    "#clean.groupby(\"Version\").nunique()[[\"Complex_ID\", \"Compound_ID\", \"Structure_Source\"]]"
   ]
  },
  {
   "cell_type": "code",
   "execution_count": null,
   "id": "55659563-fdb4-4d35-83ca-a2809ad17110",
   "metadata": {
    "tags": []
   },
   "outputs": [],
   "source": [
    "clean_all = clean[clean.Version == \"All\"]"
   ]
  },
  {
   "cell_type": "code",
   "execution_count": null,
   "id": "a96e076d-28ea-409a-8441-c17d26472544",
   "metadata": {
    "tags": []
   },
   "outputs": [],
   "source": [
    "clean_all.groupby(\"Version\").nunique()[[\"Complex_ID\", \"Compound_ID\", \"Structure_Source\"]]"
   ]
  },
  {
   "cell_type": "markdown",
   "id": "4a96f7b9-d277-487b-8d29-0826afda2365",
   "metadata": {},
   "source": [
    "# By Random Sort"
   ]
  },
  {
   "cell_type": "code",
   "execution_count": null,
   "id": "65510abd-4859-45fc-89d6-4cc38459c9a4",
   "metadata": {
    "tags": []
   },
   "outputs": [],
   "source": [
    "from tqdm import tqdm"
   ]
  },
  {
   "cell_type": "code",
   "execution_count": null,
   "id": "9666929e-6dc3-4a00-8dfb-0fcb2f96e19c",
   "metadata": {
    "tags": []
   },
   "outputs": [],
   "source": [
    "structures = clean.Structure_Source.unique()\n",
    "random_dfs = []\n",
    "for i in tqdm(range(0,100)):\n",
    "    shuffled_structures = np.random.choice(structures, len(structures))\n",
    "    # print(structures)\n",
    "    # print(shuffled_structures)\n",
    "    split_cols_list = []\n",
    "    score_list = []\n",
    "    cutoff_list = []\n",
    "    perc_mols_list = []\n",
    "    n_references = []\n",
    "    for n_refs in range(1,len(structures), 5):\n",
    "        # get a random set of structures\n",
    "        sampled_structures = shuffled_structures[0:n_refs]\n",
    "        df_subset = clean[clean.Structure_Source.isin(sampled_structures)]\n",
    "\n",
    "        # now sort by posit score\n",
    "        best = df_subset.sort_values(\"POSIT\", ascending=False).groupby([\"Version\", \"Compound_ID\"]).head(1)\n",
    "\n",
    "        # print(best.groupby(\"Version\").nunique())\n",
    "        perc_good = a.calc_perc_good(best, \n",
    "                         score_column=rmsd, \n",
    "                         good_score=good,\n",
    "                         total_mol=len(df_subset.Compound_ID.unique()))\n",
    "        for split_col in perc_good.index:\n",
    "            split_cols_list.append(split_col)\n",
    "            score_list.append(perc_good[split_col])\n",
    "            n_references.append(n_refs)\n",
    "\n",
    "    return_df = pd.DataFrame(\n",
    "        {\n",
    "            \"Fraction\": score_list,\n",
    "            \"Version\": split_cols_list,\n",
    "            \"Number of References\": n_references,\n",
    "        }\n",
    "    )\n",
    "    random_dfs.append(return_df)"
   ]
  },
  {
   "cell_type": "code",
   "execution_count": null,
   "id": "7ece8b2c-c2a6-43fe-998f-1475bb725b0a",
   "metadata": {
    "tags": []
   },
   "outputs": [],
   "source": [
    "combined = pd.concat(random_dfs)"
   ]
  },
  {
   "cell_type": "code",
   "execution_count": null,
   "id": "e40dc51f-7088-4291-a0ae-d09acc8078bd",
   "metadata": {
    "tags": []
   },
   "outputs": [],
   "source": [
    "stats = combined.groupby([\"Version\", \"Number of References\"]).describe().reset_index()"
   ]
  },
  {
   "cell_type": "code",
   "execution_count": null,
   "id": "64104bf9-47c5-449c-8ef7-11db9d467f35",
   "metadata": {
    "tags": []
   },
   "outputs": [],
   "source": [
    "stats.columns = [\"Version\", \"Number of References\", \"count\", \"mean\", \"std\", \"min\", \"25%\", \"50%\", \"75%\", \"max\"]"
   ]
  },
  {
   "cell_type": "code",
   "execution_count": null,
   "id": "515a3aa0-35c0-4353-8e95-113d6b91d7dd",
   "metadata": {
    "tags": []
   },
   "outputs": [],
   "source": [
    "stats"
   ]
  },
  {
   "cell_type": "code",
   "execution_count": null,
   "id": "cc3a0c1d-6529-4b69-b927-44406cb32fd3",
   "metadata": {
    "tags": []
   },
   "outputs": [],
   "source": [
    "fig = scatter_wrapper(stats, kwarg_dict=dict(y=\"mean\", x=\"Number of References\", error_y=\"std\", **basic_plot_kwargs, **single_plot_kwargs, **fraction_plot_kwargs))\n",
    "fig.update_yaxes(title=frac_title)\n",
    "fig.update_xaxes(title=\"Number of References\")\n",
    "fig.show()\n",
    "fig.write_image(\"20231002_random_posit_full_all.png\")"
   ]
  },
  {
   "cell_type": "markdown",
   "id": "a09fdcb8-4ff0-4664-ab17-5ad1eeb677a8",
   "metadata": {},
   "source": [
    "## use new calculation function"
   ]
  },
  {
   "cell_type": "code",
   "execution_count": null,
   "id": "9523fddc-c0e1-4bd6-93bf-43e806a3a684",
   "metadata": {
    "tags": []
   },
   "outputs": [],
   "source": [
    "reload(a)\n",
    "random_stats = a.calculate_rmsd_stats(clean, query_mol_id=\"Compound_ID\", reference_selection=\"random\", ref_structure_stride=10, score_column=\"POSIT_R\", group_by=[\"Version\"], n_bootstraps=100)\n",
    "date_stats = a.calculate_rmsd_stats(clean, query_mol_id=\"Compound_ID\", reference_selection=\"Structure_Date\", ref_structure_stride=10, score_column=\"POSIT_R\", group_by=[\"Version\"], n_bootstraps=100)"
   ]
  },
  {
   "cell_type": "code",
   "execution_count": null,
   "id": "3e97ec9c-cb0b-49c1-85f3-0b5af55b5753",
   "metadata": {
    "tags": []
   },
   "outputs": [],
   "source": [
    "tc_stats = a.calculate_rmsd_stats(clean, query_mol_id=\"Compound_ID\", reference_selection=\"TanimotoCombo_R\", ref_structure_stride=10, score_column=\"POSIT_R\", group_by=[\"Version\"], n_bootstraps=100)"
   ]
  },
  {
   "cell_type": "code",
   "execution_count": null,
   "id": "e1686459-5af6-45d4-9bd9-cee9ccb9f7ee",
   "metadata": {
    "tags": []
   },
   "outputs": [],
   "source": [
    "tcr_stats = a.calculate_rmsd_stats(clean, query_mol_id=\"Compound_ID\", reference_selection=\"TanimotoCombo\", ref_structure_stride=10, score_column=\"POSIT_R\", group_by=[\"Version\"], n_bootstraps=100)"
   ]
  },
  {
   "cell_type": "code",
   "execution_count": null,
   "id": "be02094b-46b7-41e1-b9b2-df2ba30a9f24",
   "metadata": {
    "tags": []
   },
   "outputs": [],
   "source": [
    "all_stats = pd.concat([random_stats, date_stats, tc_stats, tcr_stats])"
   ]
  },
  {
   "cell_type": "code",
   "execution_count": null,
   "id": "ac1be9e4-91e4-426b-a495-7be9f5879e4c",
   "metadata": {
    "tags": []
   },
   "outputs": [],
   "source": [
    "aggregated = all_stats.groupby([\"Version\", \"Number of References\", \"Structure_Split\", \"Split_Value_min\", \"Split_Value_max\"]).mean().reset_index()\n",
    "aggregated[\"Max\"] = all_stats.groupby([\"Version\", \"Number of References\", \"Structure_Split\"]).quantile(0.975).reset_index()[\"Fraction\"] - aggregated[\"Fraction\"]\n",
    "aggregated[\"Min\"] = aggregated[\"Fraction\"] - all_stats.groupby([\"Version\", \"Number of References\", \"Structure_Split\"]).quantile(0.025).reset_index()[\"Fraction\"]"
   ]
  },
  {
   "cell_type": "code",
   "execution_count": null,
   "id": "6d658b9c-425c-496c-b598-6fff679b0cc1",
   "metadata": {
    "tags": []
   },
   "outputs": [],
   "source": [
    "fig = scatter_wrapper(aggregated[aggregated[\"Version\"] == \"Hybrid-Only\"], \n",
    "                      dict(\n",
    "                          y=\"Fraction\", color=\"Structure_Split\", facet_col=\"Version\",\n",
    "                          color_discrete_sequence=px.colors.qualitative.Dark24,\n",
    "                          error_y=\"Max\", \n",
    "                          error_y_minus=\"Min\",\n",
    "                          template=\"seaborn\",\n",
    "                           **fraction_plot_kwargs,\n",
    "                           x=\"Number of References\", \n",
    "                          height=400,\n",
    "                          width=600\n",
    "                           # **single_plot_kwargs\n",
    "                      ),\n",
    "                     y_axis_title=frac_title,\n",
    "                     x_axis_title=\"Number of References\"\n",
    "                     )\n",
    "fig.show()\n",
    "fig.write_image(\"20231002_structure_splits_hybrid.png\")"
   ]
  },
  {
   "cell_type": "code",
   "execution_count": null,
   "id": "bdef569e-aa9d-4eef-8228-216cc29961ca",
   "metadata": {
    "tags": []
   },
   "outputs": [],
   "source": [
    "fig = scatter_wrapper(aggregated, \n",
    "                      dict(\n",
    "                          y=\"Fraction\", color=\"Structure_Split\", facet_col=\"Version\",\n",
    "                          color_discrete_sequence=px.colors.qualitative.Dark24,\n",
    "                          error_y=\"Max\", \n",
    "                          error_y_minus=\"Min\",\n",
    "                          template=\"seaborn\",\n",
    "                           **fraction_plot_kwargs,\n",
    "                           x=\"Number of References\", \n",
    "                          height=600,\n",
    "                          width=800\n",
    "                           # **single_plot_kwargs\n",
    "                      ),\n",
    "                     y_axis_title=frac_title,\n",
    "                     x_axis_title=\"Number of References\"\n",
    "                     )\n",
    "fig.for_each_yaxis(lambda y: y.update(title = ''))\n",
    "# fig.add_annotation(x=-0.03, y=0.5,text=frac_title, textangle=-90,\n",
    "#                     xref=\"paper\", yref=\"paper\")\n",
    "# fig.update_yaxes(title=frac_title)\n",
    "fig.update_layout(yaxis1=dict(title=frac_title), height=400, width=800)\n",
    "fig.show()\n",
    "fig.write_image(\"20231002_structure_splits_big.png\")"
   ]
  },
  {
   "cell_type": "markdown",
   "id": "887f4df3-9748-4475-9c2f-9e0db573f20b",
   "metadata": {},
   "source": [
    "# Test getting traunches of structures"
   ]
  },
  {
   "cell_type": "code",
   "execution_count": null,
   "id": "58af6dc1-c516-4dc6-82b8-5b43d4844dee",
   "metadata": {
    "tags": []
   },
   "outputs": [],
   "source": [
    "reload(a)\n",
    "traunch_random_stats = a.calculate_rmsd_stats(clean, query_mol_id=\"Compound_ID\", reference_selection=\"random\", ref_structure_stride=10, score_column=\"POSIT_R\", group_by=[\"Version\"], n_bootstraps=3, cumulative=False, count_nrefs=True)\n",
    "traunch_date_stats = a.calculate_rmsd_stats(clean, query_mol_id=\"Compound_ID\", reference_selection=\"Structure_Date\", ref_structure_stride=10, score_column=\"POSIT_R\", group_by=[\"Version\"], n_bootstraps=3, cumulative=False, count_nrefs=True)"
   ]
  },
  {
   "cell_type": "code",
   "execution_count": null,
   "id": "dfad084c-9433-4c0b-bf49-f04eec00de52",
   "metadata": {
    "tags": []
   },
   "outputs": [],
   "source": [
    "traunch_tc_stats = a.calculate_rmsd_stats(clean, query_mol_id=\"Compound_ID\", reference_selection=\"TanimotoCombo_R\", ref_structure_stride=10, score_column=\"POSIT_R\", group_by=[\"Version\"], n_bootstraps=3, cumulative=False, count_nrefs=True)"
   ]
  },
  {
   "cell_type": "code",
   "execution_count": null,
   "id": "23379ef9-11a9-47f3-88bb-d767238184ce",
   "metadata": {
    "tags": []
   },
   "outputs": [],
   "source": [
    "traunch_tcr_stats = a.calculate_rmsd_stats(clean, query_mol_id=\"Compound_ID\", reference_selection=\"TanimotoCombo\", ref_structure_stride=10, score_column=\"POSIT_R\", group_by=[\"Version\"], n_bootstraps=3, cumulative=False, count_nrefs=True)"
   ]
  },
  {
   "cell_type": "code",
   "execution_count": null,
   "id": "e63c7a1a-feca-4270-aee6-9fd7ffd5c138",
   "metadata": {
    "tags": []
   },
   "outputs": [],
   "source": [
    "traunch_all_stats = pd.concat([traunch_random_stats, traunch_date_stats, traunch_tc_stats, traunch_tcr_stats])"
   ]
  },
  {
   "cell_type": "code",
   "execution_count": null,
   "id": "3f6e287d-f2ed-435e-a8cd-6dc0958cf22a",
   "metadata": {
    "tags": []
   },
   "outputs": [],
   "source": [
    "traunch_all_stats"
   ]
  },
  {
   "cell_type": "code",
   "execution_count": null,
   "id": "98ad3fea-7050-413e-bc92-67e2ac4842af",
   "metadata": {
    "tags": []
   },
   "outputs": [],
   "source": [
    "traunch_aggregated = traunch_all_stats.groupby([\"Version\", \"Number of References\", \"Structure_Split\", \"Split_Value_min\", \"Split_Value_max\", \"Mean Number of References\", \"Max Number of References\", \"Min Number of References\"]).mean().reset_index()\n",
    "traunch_aggregated[\"Max\"] = traunch_all_stats.groupby([\"Version\", \"Number of References\", \"Structure_Split\"]).quantile(0.975).reset_index()[\"Fraction\"] - traunch_aggregated[\"Fraction\"]\n",
    "traunch_aggregated[\"Min\"] = traunch_aggregated[\"Fraction\"] - traunch_all_stats.groupby([\"Version\", \"Number of References\", \"Structure_Split\"]).quantile(0.025).reset_index()[\"Fraction\"]"
   ]
  },
  {
   "cell_type": "code",
   "execution_count": null,
   "id": "d490fd44-f06c-489b-bc1f-4a577364163a",
   "metadata": {
    "tags": []
   },
   "outputs": [],
   "source": [
    "traunch_aggregated"
   ]
  },
  {
   "cell_type": "code",
   "execution_count": null,
   "id": "1f4f7545-4963-4f1f-9cb6-1e01f4d9f940",
   "metadata": {
    "tags": []
   },
   "outputs": [],
   "source": [
    "n_docked = clean[clean[\"Version\"] == \"Hybrid-Only\"].groupby(\"Compound_ID\").count()[\"Docked_File\"]"
   ]
  },
  {
   "cell_type": "code",
   "execution_count": null,
   "id": "acce8975-31ac-49d5-9ee6-cc0f66beb16f",
   "metadata": {
    "tags": []
   },
   "outputs": [],
   "source": [
    "n_docked.sum()"
   ]
  },
  {
   "cell_type": "code",
   "execution_count": null,
   "id": "c00ce487-a4fe-4774-bcfe-c7c3545a8802",
   "metadata": {
    "tags": []
   },
   "outputs": [],
   "source": [
    "fig = px.histogram(n_docked, height=600, width=600)\n",
    "fig.update_layout(title=\"Distribution of Successful Docking Runs\")\n",
    "fig.update_xaxes(title=\"Number of Successful Docked Runs\")\n",
    "fig.show()\n",
    "fig.write_image(\"20231010_distribution_successful_docking_runs.png\")"
   ]
  },
  {
   "cell_type": "code",
   "execution_count": null,
   "id": "94a5c128-ddec-4673-8e0b-14ab60205969",
   "metadata": {},
   "outputs": [],
   "source": []
  },
  {
   "cell_type": "code",
   "execution_count": null,
   "id": "0890ac9f-19fa-4bb2-8346-0c2a1e2a059d",
   "metadata": {
    "tags": []
   },
   "outputs": [],
   "source": [
    "traunch_aggregated[\"Range\"] = [f\"{i}-->{j}\" for i,j in zip(traunch_aggregated[\"Number of References\"], traunch_aggregated[\"Number of References\"] + 10)]"
   ]
  },
  {
   "cell_type": "code",
   "execution_count": null,
   "id": "9511b0a4-9270-4edf-9371-3805dfc57726",
   "metadata": {
    "tags": []
   },
   "outputs": [],
   "source": [
    "traunch_aggregated"
   ]
  },
  {
   "cell_type": "code",
   "execution_count": null,
   "id": "129c603e-f950-4713-a4dc-aed4f710ade2",
   "metadata": {},
   "outputs": [],
   "source": []
  },
  {
   "cell_type": "code",
   "execution_count": null,
   "id": "8f382220-9729-40b5-873c-3e298b9c9161",
   "metadata": {
    "tags": []
   },
   "outputs": [],
   "source": [
    "fig = scatter_wrapper(traunch_aggregated, \n",
    "                      dict(\n",
    "                          y=\"Mean Number of References\", color=\"Version\",\n",
    "                          color_discrete_sequence=px.colors.qualitative.Dark24,\n",
    "                          template=\"seaborn\",\n",
    "                           # **fraction_plot_kwargs,\n",
    "                           x=\"Range\", \n",
    "                          height=400,\n",
    "                          width=600\n",
    "                           # **single_plot_kwargs\n",
    "                      ),\n",
    "                     # y_axis_title=frac_title,\n",
    "                     x_axis_title=\"Number of References\"\n",
    "                     )\n",
    "fig.show()\n"
   ]
  },
  {
   "cell_type": "code",
   "execution_count": null,
   "id": "9b88d7c0-f505-4f76-bcd9-e03441ecb4d9",
   "metadata": {
    "tags": []
   },
   "outputs": [],
   "source": [
    "fig = scatter_wrapper(traunch_aggregated[traunch_aggregated[\"Version\"] == \"Hybrid-Only\"], \n",
    "                      dict(\n",
    "                          y=\"Min Number of References\", color=\"Structure_Split\", facet_col=\"Version\",\n",
    "                          color_discrete_sequence=px.colors.qualitative.Dark24,\n",
    "                          template=\"seaborn\",\n",
    "                           # **fraction_plot_kwargs,\n",
    "                           x=\"Range\", \n",
    "                          height=400,\n",
    "                          width=600\n",
    "                           # **single_plot_kwargs\n",
    "                      ),\n",
    "                     # y_axis_title=frac_title,\n",
    "                     x_axis_title=\"Number of References\"\n",
    "                     )\n",
    "fig.show()"
   ]
  },
  {
   "cell_type": "code",
   "execution_count": null,
   "id": "50a16245-50d4-43c2-894b-0e026373f2ea",
   "metadata": {
    "tags": []
   },
   "outputs": [],
   "source": [
    "fig = scatter_wrapper(aggregated[aggregated[\"Version\"] == \"Hybrid-Only\"], \n",
    "                      dict(\n",
    "                          y=\"Mean Number of References\", color=\"Structure_Split\", facet_col=\"Version\",\n",
    "                          color_discrete_sequence=px.colors.qualitative.Dark24,\n",
    "                          template=\"seaborn\",\n",
    "                           # **fraction_plot_kwargs,\n",
    "                           x=\"Range\", \n",
    "                          height=400,\n",
    "                          width=600\n",
    "                           # **single_plot_kwargs\n",
    "                      ),\n",
    "                     y_axis_title=frac_title,\n",
    "                     x_axis_title=\"Number of References\"\n",
    "                     )\n",
    "fig.show()"
   ]
  },
  {
   "cell_type": "code",
   "execution_count": null,
   "id": "de06b81e-99af-48e7-af3f-ca80b411861c",
   "metadata": {
    "tags": []
   },
   "outputs": [],
   "source": [
    "fig = scatter_wrapper(aggregated, \n",
    "                      dict(\n",
    "                          y=\"Fraction\", color=\"Structure_Split\", facet_col=\"Version\",\n",
    "                          color_discrete_sequence=px.colors.qualitative.Dark24,\n",
    "                          error_y=\"Max\", \n",
    "                          error_y_minus=\"Min\",\n",
    "                          template=\"seaborn\",\n",
    "                           **fraction_plot_kwargs,\n",
    "                           x=\"Range\", \n",
    "                          height=600,\n",
    "                          width=800\n",
    "                           # **single_plot_kwargs\n",
    "                      ),\n",
    "                     y_axis_title=frac_title,\n",
    "                     x_axis_title=\"Number of References\"\n",
    "                     )\n",
    "fig.for_each_yaxis(lambda y: y.update(title = ''))\n",
    "# fig.add_annotation(x=-0.03, y=0.5,text=frac_title, textangle=-90,\n",
    "#                     xref=\"paper\", yref=\"paper\")\n",
    "# fig.update_yaxes(title=frac_title)\n",
    "fig.update_layout(yaxis1=dict(title=frac_title), height=400, width=800)\n",
    "fig.show()\n"
   ]
  },
  {
   "cell_type": "markdown",
   "id": "e88a867c-f933-4103-a1e8-30bb0c0b5465",
   "metadata": {},
   "source": [
    "## Using the Kneed Package to "
   ]
  },
  {
   "cell_type": "code",
   "execution_count": null,
   "id": "cb0acf12-2c4e-4cb6-8938-4e67d68e5298",
   "metadata": {},
   "outputs": [],
   "source": [
    "from kneed import KneeLocator"
   ]
  },
  {
   "cell_type": "code",
   "execution_count": null,
   "id": "3950a318-2427-4247-8df4-ed38e660ed09",
   "metadata": {
    "tags": []
   },
   "outputs": [],
   "source": [
    "x1 = stats[stats[\"Version\"] == \"All\"][\"Number of References\"].unique()"
   ]
  },
  {
   "cell_type": "code",
   "execution_count": null,
   "id": "28a1cdeb-ca02-4436-8de0-816e8cfe0949",
   "metadata": {
    "tags": []
   },
   "outputs": [],
   "source": [
    "x2 = stats[stats[\"Version\"] == \"Hybrid-Only\"][\"Number of References\"].unique()"
   ]
  },
  {
   "cell_type": "code",
   "execution_count": null,
   "id": "b34ef504-3107-4d6d-9edd-d0f03ba0143c",
   "metadata": {
    "tags": []
   },
   "outputs": [],
   "source": [
    "x1 == x2"
   ]
  },
  {
   "cell_type": "markdown",
   "id": "20c1278b-4aa8-4483-9123-dae5016c782b",
   "metadata": {},
   "source": [
    "### convert hybrid_only points to x,y"
   ]
  },
  {
   "cell_type": "code",
   "execution_count": null,
   "id": "095a0cac-23d2-4c3f-8d23-2c186db24b71",
   "metadata": {
    "tags": []
   },
   "outputs": [],
   "source": [
    "x = stats[\"Number of References\"].unique()\n",
    "for version in stats.Version.unique():\n",
    "    y = stats[stats[\"Version\"] == version][\"mean\"].to_list()\n",
    "    kneedle = KneeLocator(x, y, S=1.0, curve=\"concave\", direction=\"increasing\")\n",
    "    kneedle.plot_knee_normalized(title=f\"{version} Difference Plot\")\n",
    "    print(version, kneedle.knee)"
   ]
  },
  {
   "cell_type": "code",
   "execution_count": null,
   "id": "f0267db3-fd18-4120-b62e-0ac59a7ac61f",
   "metadata": {},
   "outputs": [],
   "source": []
  }
 ],
 "metadata": {
  "kernelspec": {
   "display_name": "Python 3 (ipykernel)",
   "language": "python",
   "name": "python3"
  },
  "language_info": {
   "codemirror_mode": {
    "name": "ipython",
    "version": 3
   },
   "file_extension": ".py",
   "mimetype": "text/x-python",
   "name": "python",
   "nbconvert_exporter": "python",
   "pygments_lexer": "ipython3",
   "version": "3.9.16"
  }
 },
 "nbformat": 4,
 "nbformat_minor": 5
}
