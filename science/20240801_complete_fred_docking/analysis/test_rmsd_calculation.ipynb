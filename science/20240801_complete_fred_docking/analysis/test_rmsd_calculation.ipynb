{
 "cells": [
  {
   "cell_type": "code",
   "execution_count": null,
   "id": "initial_id",
   "metadata": {
    "collapsed": true
   },
   "outputs": [],
   "source": [
    "import pandas as pd"
   ]
  },
  {
   "cell_type": "code",
   "outputs": [],
   "source": [
    "filtered = pd.read_csv('test_rmsd_calculation.csv')"
   ],
   "metadata": {
    "collapsed": false
   },
   "id": "3d061dd1468b6c7b",
   "execution_count": null
  },
  {
   "cell_type": "code",
   "outputs": [],
   "source": [
    "original = pd.read_csv(\"~/Scientific_Projects/mers-drug-discovery/sars2-retrospective-analysis/1/docking_results_final.csv\")"
   ],
   "metadata": {
    "collapsed": false
   },
   "id": "fbf2efa0d0d3b650",
   "execution_count": null
  },
  {
   "cell_type": "code",
   "outputs": [],
   "source": [
    "filtered.groupby(['Reference_Structure']).count()"
   ],
   "metadata": {
    "collapsed": false
   },
   "id": "bf68820ab72a3a",
   "execution_count": null
  },
  {
   "cell_type": "code",
   "outputs": [],
   "source": [
    "filtered"
   ],
   "metadata": {
    "collapsed": false
   },
   "id": "e1f18fec2b642f76",
   "execution_count": null
  },
  {
   "cell_type": "code",
   "outputs": [],
   "source": [
    "original.columns"
   ],
   "metadata": {
    "collapsed": false
   },
   "id": "ac3d57d71c329b",
   "execution_count": null
  },
  {
   "cell_type": "code",
   "outputs": [],
   "source": [
    "original.groupby(['in-silico_SARS-CoV-2-Mpro_docking-structure-POSIT_msk']).count()"
   ],
   "metadata": {
    "collapsed": false
   },
   "id": "ef90861ad3b209fa",
   "execution_count": null
  },
  {
   "cell_type": "code",
   "outputs": [],
   "source": [],
   "metadata": {
    "collapsed": false
   },
   "id": "5047c9a513bb24a7"
  }
 ],
 "metadata": {
  "kernelspec": {
   "display_name": "Python 3",
   "language": "python",
   "name": "python3"
  },
  "language_info": {
   "codemirror_mode": {
    "name": "ipython",
    "version": 2
   },
   "file_extension": ".py",
   "mimetype": "text/x-python",
   "name": "python",
   "nbconvert_exporter": "python",
   "pygments_lexer": "ipython2",
   "version": "2.7.6"
  }
 },
 "nbformat": 4,
 "nbformat_minor": 5
}
