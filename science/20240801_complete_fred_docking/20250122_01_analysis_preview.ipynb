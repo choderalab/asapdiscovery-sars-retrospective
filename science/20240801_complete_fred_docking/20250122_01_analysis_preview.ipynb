{
 "cells": [
  {
   "cell_type": "markdown",
   "id": "f0e470dc-948c-4163-9f77-3814d1a34a0b",
   "metadata": {
    "collapsed": false,
    "jupyter": {
     "outputs_hidden": false
    }
   },
   "source": [
    "# Imports"
   ]
  },
  {
   "cell_type": "code",
   "execution_count": null,
   "id": "9fae5e11-8748-4175-b643-202e13c9313b",
   "metadata": {
    "collapsed": false,
    "jupyter": {
     "outputs_hidden": false
    }
   },
   "outputs": [],
   "source": [
    "import plotly.express as px\n",
    "import pandas as pd\n",
    "import plotly.graph_objects as go\n",
    "import numpy as np\n",
    "from pathlib import Path\n",
    "from datetime import datetime"
   ]
  },
  {
   "cell_type": "code",
   "execution_count": null,
   "id": "435b1276-9f3b-4042-941a-230253aad76f",
   "metadata": {
    "collapsed": false,
    "jupyter": {
     "outputs_hidden": false
    }
   },
   "outputs": [],
   "source": [
    "# todays date as YYYYMMDD\n",
    "today = datetime.today().strftime('%Y%m%d')"
   ]
  },
  {
   "cell_type": "code",
   "execution_count": null,
   "id": "529f1ddb-13f6-4355-9b8c-f87ab7e77338",
   "metadata": {},
   "outputs": [],
   "source": [
    "csv_path = '/data1/choderaj/paynea/asap-datasets/20250113_fred_docking/rmsc_csvs/20250122_combined_results_with_data.csv'"
   ]
  },
  {
   "cell_type": "code",
   "execution_count": null,
   "id": "b55ae940-f5b3-47ad-99aa-e9e32c0a0cd2",
   "metadata": {},
   "outputs": [],
   "source": [
    "ecfp4 = fred_results[fred_results.Fingerprint == 'ECFP4']"
   ]
  },
  {
   "cell_type": "code",
   "execution_count": null,
   "id": "621b6620-c831-476a-ae35-93550f7fbae8",
   "metadata": {},
   "outputs": [],
   "source": [
    "ecfp4.nunique()"
   ]
  },
  {
   "cell_type": "markdown",
   "id": "c9877734-bf7b-45ec-8118-6b14a3ffe35c",
   "metadata": {},
   "source": [
    "# plot rmsd vs posit"
   ]
  },
  {
   "cell_type": "code",
   "execution_count": null,
   "id": "81757a79-1eeb-4694-a06a-43b531640ce5",
   "metadata": {},
   "outputs": [],
   "source": [
    "fig = px.scatter(ecfp4, x='docking-confidence-POSIT', y='RMSD')"
   ]
  },
  {
   "cell_type": "code",
   "execution_count": null,
   "id": "8184ac97-b7b8-4ed4-a955-524f58cf2fc2",
   "metadata": {},
   "outputs": [],
   "source": [
    "fig.write_image('test.png')"
   ]
  },
  {
   "cell_type": "code",
   "execution_count": null,
   "id": "dd6e2358-3d05-4978-8b93-cf638342edf8",
   "metadata": {},
   "outputs": [],
   "source": [
    "fig = px.density_contour(ecfp4, x='docking-confidence-POSIT', y='RMSD')\n",
    "fig.write_image('2dhist.png')"
   ]
  },
  {
   "cell_type": "code",
   "execution_count": null,
   "id": "09c6ef98-ec0b-419a-8e6e-4b4e0dc2cfd0",
   "metadata": {},
   "outputs": [],
   "source": [
    "fig = px.box(ecfp4, x='docking-confidence-POSIT', y='RMSD')"
   ]
  },
  {
   "cell_type": "code",
   "execution_count": null,
   "id": "06766b4b-4b8a-4abc-88e7-dfc0c2af034e",
   "metadata": {},
   "outputs": [],
   "source": [
    "fig.write_image('box.png')"
   ]
  },
  {
   "cell_type": "code",
   "execution_count": null,
   "id": "48539e34-43ce-4d4d-8008-334a6f67bad0",
   "metadata": {},
   "outputs": [],
   "source": []
  }
 ],
 "metadata": {
  "kernelspec": {
   "display_name": "asapdiscovery-production",
   "language": "python",
   "name": "asapdiscovery-production"
  },
  "language_info": {
   "codemirror_mode": {
    "name": "ipython",
    "version": 3
   },
   "file_extension": ".py",
   "mimetype": "text/x-python",
   "name": "python",
   "nbconvert_exporter": "python",
   "pygments_lexer": "ipython3",
   "version": "3.11.9"
  }
 },
 "nbformat": 4,
 "nbformat_minor": 5
}
