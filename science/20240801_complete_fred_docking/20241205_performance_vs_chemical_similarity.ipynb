{
 "cells": [
  {
   "cell_type": "code",
   "outputs": [],
   "source": [
    "import plotly.express as px\n",
    "import pandas as pd\n",
    "import plotly.graph_objects as go\n",
    "import numpy as np\n",
    "from pathlib import Path\n",
    "import harbor.analysis.cross_docking as cd"
   ],
   "metadata": {
    "collapsed": false
   },
   "id": "e759fb0136e698bd",
   "execution_count": null
  },
  {
   "cell_type": "markdown",
   "source": [
    "# Load Data"
   ],
   "metadata": {
    "collapsed": false
   },
   "id": "7f5166180bf2f871"
  },
  {
   "cell_type": "code",
   "outputs": [],
   "source": [
    "results_csv = Path(\"/Users/alexpayne/Scientific_Projects/mers-drug-discovery/sars2-retrospective-analysis/20240424_multi_pose_docking_cross_docking/results_csvs/20240503_combined_results_with_data.csv\")"
   ],
   "metadata": {
    "collapsed": false
   },
   "id": "ddc7dcf20663813b",
   "execution_count": null
  },
  {
   "cell_type": "code",
   "outputs": [],
   "source": [
    "data_path = results_csv.parent.parent / \"analyzed_data\"\n",
    "figure_path = Path(\"figures\")"
   ],
   "metadata": {
    "collapsed": false
   },
   "id": "d7d587a12c017cd9",
   "execution_count": null
  },
  {
   "cell_type": "code",
   "outputs": [],
   "source": [
    "df_paths = data_path.glob(\"*/*.csv\")"
   ],
   "metadata": {
    "collapsed": false
   },
   "id": "d80e7bb6b6781395",
   "execution_count": null
  },
  {
   "cell_type": "code",
   "outputs": [],
   "source": [
    "dfs = [pd.read_csv(path) for path in df_paths]"
   ],
   "metadata": {
    "collapsed": false
   },
   "id": "35f5cdeb176bbbd6",
   "execution_count": null
  },
  {
   "cell_type": "code",
   "outputs": [],
   "source": [
    "ogdf = pd.concat(dfs)\n",
    "ogdf.N_Per_Split = ogdf.N_Per_Split.astype(int)\n",
    "ogdf.sort_values([\"Split\", \"Score\", \"PoseSelection\", \"StructureChoice\", \"StructureChoice_Choose_N\", \"N_Per_Split\"], inplace=True)"
   ],
   "metadata": {
    "collapsed": false
   },
   "id": "56e8b63ae7b01d83",
   "execution_count": null
  },
  {
   "cell_type": "code",
   "outputs": [],
   "source": [
    "ogdf[\"Error_Lower\"] = ogdf[\"Fraction\"] - ogdf[\"CI_Lower\"]\n",
    "ogdf[\"Error_Upper\"] = ogdf[\"CI_Upper\"] - ogdf[\"Fraction\"]"
   ],
   "metadata": {
    "collapsed": false
   },
   "id": "737f17d99ecbacdd",
   "execution_count": null
  },
  {
   "cell_type": "code",
   "outputs": [],
   "source": [
    "raw_df = ogdf[ogdf.PoseSelection == \"Default\"]"
   ],
   "metadata": {
    "collapsed": false
   },
   "id": "eee25b783c769df9",
   "execution_count": null
  },
  {
   "cell_type": "code",
   "outputs": [],
   "source": [],
   "metadata": {
    "collapsed": false
   },
   "id": "d9dde0702c91dbe2",
   "execution_count": null
  },
  {
   "cell_type": "markdown",
   "source": [
    "# make plot"
   ],
   "metadata": {
    "collapsed": false
   },
   "id": "680a879f2c84439e"
  },
  {
   "cell_type": "code",
   "outputs": [],
   "source": [
    "results_df = pd.read_csv(results_csv, index_col=0)"
   ],
   "metadata": {
    "collapsed": false
   },
   "id": "73d99ca0c7f043da",
   "execution_count": null
  },
  {
   "cell_type": "code",
   "outputs": [],
   "source": [
    "results_df.Fingerprint.unique()"
   ],
   "metadata": {
    "collapsed": false
   },
   "id": "3d415dcc8b2b9132",
   "execution_count": null
  },
  {
   "cell_type": "code",
   "outputs": [],
   "source": [
    "results_df"
   ],
   "metadata": {
    "collapsed": false
   },
   "id": "8d58bbc185332e32",
   "execution_count": null
  },
  {
   "cell_type": "code",
   "outputs": [],
   "source": [
    "tc_cutoffs = np.linspace(0,1,20)\n",
    "settings = cd.Settings()"
   ],
   "metadata": {
    "collapsed": false
   },
   "id": "f4df949778684f",
   "execution_count": null
  },
  {
   "cell_type": "code",
   "outputs": [],
   "source": [
    "divided_datasets = []\n",
    "single_pose = results_df[results_df.Pose_ID == 0]\n",
    "\n",
    "def calculate_sectioned_performance(df, tc_cutoffs, bootstraps=1000):\n",
    "    results_dicts = []\n",
    "    for scorer_fxn, ascending in zip([\"docking-confidence-POSIT\", \"RMSD\"], [False, True]):\n",
    "        for lower, upper in zip(tc_cutoffs[:-1], tc_cutoffs[1:]):\n",
    "            new_df = df[(df.Tanimoto > lower)&(df.Tanimoto <= upper)]\n",
    "            \n",
    "            for i in range(bootstraps):\n",
    "                if i != 0:\n",
    "                    new_df = new_df.groupby('Query_Ligand').sample(frac=1, replace=True)\n",
    "                new_df = new_df.sort_values(scorer_fxn, ascending=ascending)\n",
    "                chosen_poses = new_df.groupby(['Query_Ligand']).head(1)\n",
    "                out_dict = {'Tanimoto_Lower': lower, 'Tanimoto_Upper': upper,'Total': 0, 'Fraction': 0, 'Dataset_Size':0, 'Scorer': scorer_fxn}\n",
    "                if len(chosen_poses) != 0:\n",
    "                    evaluator = cd.BinaryEvaluation(variable='RMSD', cutoff=2.0, below_cutoff_is_good=True)\n",
    "                    fg = evaluator.run(chosen_poses, groupby='Query_Ligand')\n",
    "                    out_dict.update({'Total': fg.total, 'Fraction': fg.fraction, 'Dataset_Size': len(new_df)})\n",
    "                    out_dict.update(chosen_poses.POSIT_Method.value_counts().to_dict())\n",
    "                results_dicts.append(out_dict)\n",
    "    return pd.DataFrame.from_records(results_dicts)\n"
   ],
   "metadata": {
    "collapsed": false
   },
   "id": "1682d711eacb905d",
   "execution_count": null
  },
  {
   "cell_type": "code",
   "outputs": [],
   "source": [
    "df = calculate_sectioned_performance(single_pose, tc_cutoffs, bootstraps=1000)"
   ],
   "metadata": {
    "collapsed": false
   },
   "id": "d9a3f02e0b01520a",
   "execution_count": null
  },
  {
   "cell_type": "code",
   "outputs": [],
   "source": [
    "groupby_cols = [\"Tanimoto_Lower\", \"Scorer\"]"
   ],
   "metadata": {
    "collapsed": false
   },
   "id": "310fe2106234c515",
   "execution_count": null
  },
  {
   "cell_type": "code",
   "outputs": [],
   "source": [
    "means = df.groupby(groupby_cols)[\"Fraction\"].mean().reset_index()"
   ],
   "metadata": {
    "collapsed": false
   },
   "id": "36a25d3f8f638878",
   "execution_count": null
  },
  {
   "cell_type": "code",
   "outputs": [],
   "source": [
    "upper = df.groupby(groupby_cols)[\"Fraction\"].quantile(0.975).reset_index().rename_axis(columns={\"Fraction\": \"CI_Upper\"})\n",
    "lower = df.groupby(groupby_cols)[\"Fraction\"].quantile(0.025).reset_index()"
   ],
   "metadata": {
    "collapsed": false
   },
   "id": "db6813b4ffc08db3",
   "execution_count": null
  },
  {
   "cell_type": "code",
   "outputs": [],
   "source": [
    "upper.columns = groupby_cols + [\"CI_Upper\"]\n",
    "lower.columns = groupby_cols + [\"CI_Lower\"]"
   ],
   "metadata": {
    "collapsed": false
   },
   "id": "acef8069128994d3",
   "execution_count": null
  },
  {
   "cell_type": "code",
   "outputs": [],
   "source": [
    "merged = means.merge(upper, on=groupby_cols).merge(lower, on=groupby_cols)\n",
    "merged['Error_Y'] = merged['CI_Upper'] - merged['Fraction']\n",
    "merged['Error_Y_Minus'] = merged['Fraction'] - merged['CI_Lower']"
   ],
   "metadata": {
    "collapsed": false
   },
   "id": "2aedd8c1c86e96df",
   "execution_count": null
  },
  {
   "cell_type": "code",
   "outputs": [],
   "source": [
    "def calculate_ci_from_bootstrap(df, groupby_cols, main_col) -> pd.DataFrame:\n",
    "    means = df.groupby(groupby_cols)[main_col].mean().reset_index()\n",
    "    upper = df.groupby(groupby_cols)[main_col].quantile(0.975).reset_index().rename_axis(columns={main_col: \"CI_Upper\"})\n",
    "    lower = df.groupby(groupby_cols)[main_col].quantile(0.025).reset_index()\n",
    "    upper.columns = groupby_cols + [\"CI_Upper\"]\n",
    "    lower.columns = groupby_cols + [\"CI_Lower\"]\n",
    "    merged = means.merge(upper, on=groupby_cols).merge(lower, on=groupby_cols)\n",
    "    merged['Error_Y'] = merged['CI_Upper'] - merged[main_col]\n",
    "    merged['Error_Y_Minus'] = merged[main_col] - merged['CI_Lower']\n",
    "    return merged"
   ],
   "metadata": {
    "collapsed": false
   },
   "id": "7a33661c12a99036",
   "execution_count": null
  },
  {
   "cell_type": "code",
   "outputs": [],
   "source": [
    "df"
   ],
   "metadata": {
    "collapsed": false
   },
   "id": "7dc096c79256fed7",
   "execution_count": null
  },
  {
   "cell_type": "code",
   "outputs": [],
   "source": [
    "fraction = calculate_ci_from_bootstrap(df, groupby_cols, \"Fraction\")\n",
    "dataset_size = calculate_ci_from_bootstrap(df, groupby_cols, \"Dataset_Size\")\n",
    "total = calculate_ci_from_bootstrap(df, groupby_cols, \"Total\")"
   ],
   "metadata": {
    "collapsed": false
   },
   "id": "7c8712b7e20db594",
   "execution_count": null
  },
  {
   "cell_type": "code",
   "outputs": [],
   "source": [
    "no_boostraps = calculate_sectioned_performance(single_pose, tc_cutoffs, bootstraps=1)"
   ],
   "metadata": {
    "collapsed": false
   },
   "id": "fca38bd061e47a0f",
   "execution_count": null
  },
  {
   "cell_type": "code",
   "outputs": [],
   "source": [
    "px.line(no_boostraps, x='Tanimoto_Lower', y='Fraction', template=\"simple_white\", width=600, height=400,color='Scorer')"
   ],
   "metadata": {
    "collapsed": false
   },
   "id": "25b00d58a5ca386c",
   "execution_count": null
  },
  {
   "cell_type": "code",
   "outputs": [],
   "source": [
    "px.line(merged, x='Tanimoto_Lower', y='Fraction', template=\"simple_white\", width=600, height=400,color='Scorer', error_y=\"Error_Y\", error_y_minus=\"Error_Y_Minus\")"
   ],
   "metadata": {
    "collapsed": false
   },
   "id": "93f5e65adb3ebc9e",
   "execution_count": null
  },
  {
   "cell_type": "code",
   "outputs": [],
   "source": [
    "px.violin(df, x='Tanimoto_Lower', y='Fraction', template=\"simple_white\", color='Scorer',)"
   ],
   "metadata": {
    "collapsed": false
   },
   "id": "fa5f7565b84fe08d",
   "execution_count": null
  },
  {
   "cell_type": "code",
   "outputs": [],
   "source": [
    "px.bar(dataset_size[dataset_size['Scorer'] == 'RMSD'], x='Tanimoto_Lower', y='Dataset_Size', template=\"simple_white\", width=600, height=400, barmode='group', log_y=True)"
   ],
   "metadata": {
    "collapsed": false
   },
   "id": "31f7e6928c031503",
   "execution_count": null
  },
  {
   "cell_type": "code",
   "outputs": [],
   "source": [
    "def calc_dataset_size_per_ligand(df, tc_cutoffs, bootstraps=100):\n",
    "    dfs = []\n",
    "    for lower, upper in zip(tc_cutoffs[:-1], tc_cutoffs[1:]):\n",
    "            new_df = df[(df.Tanimoto > lower)&(df.Tanimoto <= upper)]\n",
    "            new_df = new_df.groupby('Query_Ligand').size().reset_index(name='Dataset_Size')\n",
    "            new_df['Tanimoto_Lower'] = lower\n",
    "            new_df['Tanimoto_Upper'] = upper\n",
    "            dfs.append(new_df)\n",
    "    return pd.concat(dfs)"
   ],
   "metadata": {
    "collapsed": false
   },
   "id": "797534244e1e9069",
   "execution_count": null
  },
  {
   "cell_type": "code",
   "outputs": [],
   "source": [
    "dataset_size_per_ligand = calc_dataset_size_per_ligand(single_pose, tc_cutoffs)"
   ],
   "metadata": {
    "collapsed": false
   },
   "id": "885edb903290bd35",
   "execution_count": null
  },
  {
   "cell_type": "code",
   "outputs": [],
   "source": [
    "means = []\n",
    "for i in range(100):\n",
    "    means.append(dataset_size_per_ligand.groupby('Tanimoto_Lower').sample(frac=1, replace=True).groupby('Tanimoto_Lower')['Dataset_Size'].mean())\n",
    "means_df = pd.concat(means).reset_index()"
   ],
   "metadata": {
    "collapsed": false
   },
   "id": "1ddf11f5ad557f9",
   "execution_count": null
  },
  {
   "cell_type": "code",
   "outputs": [],
   "source": [
    "means_df"
   ],
   "metadata": {
    "collapsed": false
   },
   "id": "1c44daf82d9df561",
   "execution_count": null
  },
  {
   "cell_type": "code",
   "outputs": [],
   "source": [
    "size_means = means_df.groupby('Tanimoto_Lower')['Dataset_Size'].mean().reset_index()\n",
    "size_upper = means_df.groupby('Tanimoto_Lower')['Dataset_Size'].quantile(0.975).reset_index()\n",
    "size_lower = means_df.groupby('Tanimoto_Lower')['Dataset_Size'].quantile(0.025).reset_index()\n",
    "size_upper.columns = ['Tanimoto_Lower', \"CI_Upper\"]\n",
    "size_lower.columns = ['Tanimoto_Lower', \"CI_Lower\"]"
   ],
   "metadata": {
    "collapsed": false
   },
   "id": "41d31251e3045078",
   "execution_count": null
  },
  {
   "cell_type": "code",
   "outputs": [],
   "source": [
    "size_merged = size_means.merge(size_upper, on='Tanimoto_Lower').merge(size_lower, on='Tanimoto_Lower')"
   ],
   "metadata": {
    "collapsed": false
   },
   "id": "7ccc1a982c1562a5",
   "execution_count": null
  },
  {
   "cell_type": "code",
   "outputs": [],
   "source": [
    "size_merged['Error_Y'] = size_merged['CI_Upper'] - size_merged['Dataset_Size']\n",
    "size_merged['Error_Y_Minus'] = size_merged['Dataset_Size'] - size_merged['CI_Lower']\n"
   ],
   "metadata": {
    "collapsed": false
   },
   "id": "4750ab786b72aaa9",
   "execution_count": null
  },
  {
   "cell_type": "code",
   "outputs": [],
   "source": [
    "px.line(size_merged, x='Tanimoto_Lower', y='Dataset_Size', template=\"simple_white\", width=600, height=400, error_y=\"Error_Y\", error_y_minus=\"Error_Y_Minus\")"
   ],
   "metadata": {
    "collapsed": false
   },
   "id": "eb643160c6401d7",
   "execution_count": null
  },
  {
   "cell_type": "markdown",
   "source": [
    "# Good start. now need to do with the rest"
   ],
   "metadata": {
    "collapsed": false
   },
   "id": "b6401f1ebf182d0c"
  },
  {
   "cell_type": "code",
   "outputs": [],
   "source": [],
   "metadata": {
    "collapsed": false
   },
   "id": "a2c4287f58d07f44"
  }
 ],
 "metadata": {
  "kernelspec": {
   "display_name": "Python 3",
   "language": "python",
   "name": "python3"
  },
  "language_info": {
   "codemirror_mode": {
    "name": "ipython",
    "version": 2
   },
   "file_extension": ".py",
   "mimetype": "text/x-python",
   "name": "python",
   "nbconvert_exporter": "python",
   "pygments_lexer": "ipython2",
   "version": "2.7.6"
  }
 },
 "nbformat": 4,
 "nbformat_minor": 5
}
