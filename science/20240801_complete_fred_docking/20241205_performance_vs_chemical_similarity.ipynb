{
 "cells": [
  {
   "cell_type": "code",
   "execution_count": null,
   "id": "e759fb0136e698bd",
   "metadata": {
    "collapsed": false,
    "jupyter": {
     "outputs_hidden": false
    }
   },
   "outputs": [],
   "source": [
    "import plotly.express as px\n",
    "import pandas as pd\n",
    "import plotly.graph_objects as go\n",
    "import numpy as np\n",
    "from pathlib import Path\n",
    "import harbor.analysis.cross_docking as cd"
   ]
  },
  {
   "cell_type": "markdown",
   "id": "7f5166180bf2f871",
   "metadata": {
    "collapsed": false,
    "jupyter": {
     "outputs_hidden": false
    }
   },
   "source": [
    "# Load Data"
   ]
  },
  {
   "cell_type": "code",
   "execution_count": null,
   "id": "ddc7dcf20663813b",
   "metadata": {
    "collapsed": false,
    "jupyter": {
     "outputs_hidden": false
    }
   },
   "outputs": [],
   "source": [
    "results_csv = Path(\"/Users/alexpayne/Scientific_Projects/mers-drug-discovery/sars2-retrospective-analysis/20240424_multi_pose_docking_cross_docking/results_csvs/20240503_combined_results_with_data.csv\")"
   ]
  },
  {
   "cell_type": "code",
   "execution_count": null,
   "id": "d7d587a12c017cd9",
   "metadata": {
    "collapsed": false,
    "jupyter": {
     "outputs_hidden": false
    }
   },
   "outputs": [],
   "source": [
    "data_path = results_csv.parent.parent / \"analyzed_data\"\n",
    "figure_path = Path(\"figures\")"
   ]
  },
  {
   "cell_type": "code",
   "execution_count": null,
   "id": "d80e7bb6b6781395",
   "metadata": {
    "collapsed": false,
    "jupyter": {
     "outputs_hidden": false
    }
   },
   "outputs": [],
   "source": [
    "df_paths = data_path.glob(\"*/*.csv\")"
   ]
  },
  {
   "cell_type": "code",
   "execution_count": null,
   "id": "35f5cdeb176bbbd6",
   "metadata": {
    "collapsed": false,
    "jupyter": {
     "outputs_hidden": false
    }
   },
   "outputs": [],
   "source": [
    "dfs = [pd.read_csv(path) for path in df_paths]"
   ]
  },
  {
   "cell_type": "code",
   "execution_count": null,
   "id": "56e8b63ae7b01d83",
   "metadata": {
    "collapsed": false,
    "jupyter": {
     "outputs_hidden": false
    }
   },
   "outputs": [],
   "source": [
    "ogdf = pd.concat(dfs)\n",
    "ogdf.N_Per_Split = ogdf.N_Per_Split.astype(int)\n",
    "ogdf.sort_values([\"Split\", \"Score\", \"PoseSelection\", \"StructureChoice\", \"StructureChoice_Choose_N\", \"N_Per_Split\"], inplace=True)"
   ]
  },
  {
   "cell_type": "code",
   "execution_count": null,
   "id": "737f17d99ecbacdd",
   "metadata": {
    "collapsed": false,
    "jupyter": {
     "outputs_hidden": false
    }
   },
   "outputs": [],
   "source": [
    "ogdf[\"Error_Lower\"] = ogdf[\"Fraction\"] - ogdf[\"CI_Lower\"]\n",
    "ogdf[\"Error_Upper\"] = ogdf[\"CI_Upper\"] - ogdf[\"Fraction\"]"
   ]
  },
  {
   "cell_type": "code",
   "execution_count": null,
   "id": "eee25b783c769df9",
   "metadata": {
    "collapsed": false,
    "jupyter": {
     "outputs_hidden": false
    }
   },
   "outputs": [],
   "source": [
    "raw_df = ogdf[ogdf.PoseSelection == \"Default\"]"
   ]
  },
  {
   "cell_type": "code",
   "execution_count": null,
   "id": "d9dde0702c91dbe2",
   "metadata": {
    "collapsed": false,
    "jupyter": {
     "outputs_hidden": false
    }
   },
   "outputs": [],
   "source": []
  },
  {
   "cell_type": "markdown",
   "id": "680a879f2c84439e",
   "metadata": {
    "collapsed": false,
    "jupyter": {
     "outputs_hidden": false
    }
   },
   "source": [
    "# make plot"
   ]
  },
  {
   "cell_type": "code",
   "execution_count": null,
   "id": "73d99ca0c7f043da",
   "metadata": {
    "collapsed": false,
    "jupyter": {
     "outputs_hidden": false
    }
   },
   "outputs": [],
   "source": [
    "results_df = pd.read_csv(results_csv, index_col=0)"
   ]
  },
  {
   "cell_type": "code",
   "execution_count": null,
   "id": "3d415dcc8b2b9132",
   "metadata": {
    "collapsed": false,
    "jupyter": {
     "outputs_hidden": false
    }
   },
   "outputs": [],
   "source": [
    "results_df.Fingerprint.unique()"
   ]
  },
  {
   "cell_type": "code",
   "execution_count": null,
   "id": "8d58bbc185332e32",
   "metadata": {
    "collapsed": false,
    "jupyter": {
     "outputs_hidden": false
    }
   },
   "outputs": [],
   "source": [
    "results_df"
   ]
  },
  {
   "cell_type": "code",
   "execution_count": null,
   "id": "f4df949778684f",
   "metadata": {
    "collapsed": false,
    "jupyter": {
     "outputs_hidden": false
    }
   },
   "outputs": [],
   "source": [
    "tc_cutoffs = np.linspace(0,1,20)\n",
    "settings = cd.Settings()"
   ]
  },
  {
   "cell_type": "code",
   "execution_count": null,
   "id": "1682d711eacb905d",
   "metadata": {
    "collapsed": false,
    "jupyter": {
     "outputs_hidden": false
    }
   },
   "outputs": [],
   "source": [
    "divided_datasets = []\n",
    "single_pose = results_df[results_df.Pose_ID == 0]\n",
    "\n",
    "def calculate_sectioned_performance(df, tc_cutoffs, bootstraps=1000):\n",
    "    results_dicts = []\n",
    "    for scorer_fxn, ascending in zip([\"docking-confidence-POSIT\", \"RMSD\"], [False, True]):\n",
    "        for lower, upper in zip(tc_cutoffs[:-1], tc_cutoffs[1:]):\n",
    "            new_df = df[(df.Tanimoto > lower)&(df.Tanimoto <= upper)]\n",
    "            \n",
    "            for i in range(bootstraps):\n",
    "                if i != 0:\n",
    "                    new_df = new_df.groupby('Query_Ligand').sample(frac=1, replace=True)\n",
    "                new_df = new_df.sort_values(scorer_fxn, ascending=ascending)\n",
    "                chosen_poses = new_df.groupby(['Query_Ligand']).head(1)\n",
    "                out_dict = {'Tanimoto_Lower': lower, 'Tanimoto_Upper': upper,'Total': 0, 'Fraction': 0, 'Dataset_Size':0, 'Scorer': scorer_fxn}\n",
    "                if len(chosen_poses) != 0:\n",
    "                    evaluator = cd.BinaryEvaluation(variable='RMSD', cutoff=2.0, below_cutoff_is_good=True)\n",
    "                    fg = evaluator.run(chosen_poses, groupby='Query_Ligand')\n",
    "                    out_dict.update({'Total': fg.total, 'Fraction': fg.fraction, 'Dataset_Size': len(new_df)})\n",
    "                    out_dict.update(chosen_poses.POSIT_Method.value_counts().to_dict())\n",
    "                results_dicts.append(out_dict)\n",
    "    return pd.DataFrame.from_records(results_dicts)\n"
   ]
  },
  {
   "cell_type": "code",
   "execution_count": null,
   "id": "d9a3f02e0b01520a",
   "metadata": {
    "collapsed": false,
    "jupyter": {
     "outputs_hidden": false
    }
   },
   "outputs": [],
   "source": [
    "df = calculate_sectioned_performance(single_pose, tc_cutoffs, bootstraps=1000)"
   ]
  },
  {
   "cell_type": "code",
   "execution_count": null,
   "id": "310fe2106234c515",
   "metadata": {
    "collapsed": false,
    "jupyter": {
     "outputs_hidden": false
    }
   },
   "outputs": [],
   "source": [
    "groupby_cols = [\"Tanimoto_Lower\", \"Scorer\"]"
   ]
  },
  {
   "cell_type": "code",
   "execution_count": null,
   "id": "36a25d3f8f638878",
   "metadata": {
    "collapsed": false,
    "jupyter": {
     "outputs_hidden": false
    }
   },
   "outputs": [],
   "source": [
    "means = df.groupby(groupby_cols)[\"Fraction\"].mean().reset_index()"
   ]
  },
  {
   "cell_type": "code",
   "execution_count": null,
   "id": "db6813b4ffc08db3",
   "metadata": {
    "collapsed": false,
    "jupyter": {
     "outputs_hidden": false
    }
   },
   "outputs": [],
   "source": [
    "upper = df.groupby(groupby_cols)[\"Fraction\"].quantile(0.975).reset_index().rename_axis(columns={\"Fraction\": \"CI_Upper\"})\n",
    "lower = df.groupby(groupby_cols)[\"Fraction\"].quantile(0.025).reset_index()"
   ]
  },
  {
   "cell_type": "code",
   "execution_count": null,
   "id": "acef8069128994d3",
   "metadata": {
    "collapsed": false,
    "jupyter": {
     "outputs_hidden": false
    }
   },
   "outputs": [],
   "source": [
    "upper.columns = groupby_cols + [\"CI_Upper\"]\n",
    "lower.columns = groupby_cols + [\"CI_Lower\"]"
   ]
  },
  {
   "cell_type": "code",
   "execution_count": null,
   "id": "2aedd8c1c86e96df",
   "metadata": {
    "collapsed": false,
    "jupyter": {
     "outputs_hidden": false
    }
   },
   "outputs": [],
   "source": [
    "merged = means.merge(upper, on=groupby_cols).merge(lower, on=groupby_cols)\n",
    "merged['Error_Y'] = merged['CI_Upper'] - merged['Fraction']\n",
    "merged['Error_Y_Minus'] = merged['Fraction'] - merged['CI_Lower']"
   ]
  },
  {
   "cell_type": "code",
   "execution_count": null,
   "id": "7a33661c12a99036",
   "metadata": {
    "collapsed": false,
    "jupyter": {
     "outputs_hidden": false
    }
   },
   "outputs": [],
   "source": [
    "def calculate_ci_from_bootstrap(df, groupby_cols, main_col) -> pd.DataFrame:\n",
    "    means = df.groupby(groupby_cols)[main_col].mean().reset_index()\n",
    "    upper = df.groupby(groupby_cols)[main_col].quantile(0.975).reset_index().rename_axis(columns={main_col: \"CI_Upper\"})\n",
    "    lower = df.groupby(groupby_cols)[main_col].quantile(0.025).reset_index()\n",
    "    upper.columns = groupby_cols + [\"CI_Upper\"]\n",
    "    lower.columns = groupby_cols + [\"CI_Lower\"]\n",
    "    merged = means.merge(upper, on=groupby_cols).merge(lower, on=groupby_cols)\n",
    "    merged['Error_Y'] = merged['CI_Upper'] - merged[main_col]\n",
    "    merged['Error_Y_Minus'] = merged[main_col] - merged['CI_Lower']\n",
    "    return merged"
   ]
  },
  {
   "cell_type": "code",
   "execution_count": null,
   "id": "7dc096c79256fed7",
   "metadata": {
    "collapsed": false,
    "jupyter": {
     "outputs_hidden": false
    }
   },
   "outputs": [],
   "source": [
    "df"
   ]
  },
  {
   "cell_type": "code",
   "execution_count": null,
   "id": "7c8712b7e20db594",
   "metadata": {
    "collapsed": false,
    "jupyter": {
     "outputs_hidden": false
    }
   },
   "outputs": [],
   "source": [
    "fraction = calculate_ci_from_bootstrap(df, groupby_cols, \"Fraction\")\n",
    "dataset_size = calculate_ci_from_bootstrap(df, groupby_cols, \"Dataset_Size\")\n",
    "total = calculate_ci_from_bootstrap(df, groupby_cols, \"Total\")"
   ]
  },
  {
   "cell_type": "code",
   "execution_count": null,
   "id": "fca38bd061e47a0f",
   "metadata": {
    "collapsed": false,
    "jupyter": {
     "outputs_hidden": false
    }
   },
   "outputs": [],
   "source": [
    "no_boostraps = calculate_sectioned_performance(single_pose, tc_cutoffs, bootstraps=1)"
   ]
  },
  {
   "cell_type": "code",
   "execution_count": null,
   "id": "25b00d58a5ca386c",
   "metadata": {
    "collapsed": false,
    "jupyter": {
     "outputs_hidden": false
    }
   },
   "outputs": [],
   "source": [
    "px.line(no_boostraps, x='Tanimoto_Lower', y='Fraction', template=\"simple_white\", width=600, height=400,color='Scorer')"
   ]
  },
  {
   "cell_type": "code",
   "execution_count": null,
   "id": "93f5e65adb3ebc9e",
   "metadata": {
    "collapsed": false,
    "jupyter": {
     "outputs_hidden": false
    }
   },
   "outputs": [],
   "source": [
    "px.line(merged, x='Tanimoto_Lower', y='Fraction', template=\"simple_white\", width=600, height=400,color='Scorer', error_y=\"Error_Y\", error_y_minus=\"Error_Y_Minus\")"
   ]
  },
  {
   "cell_type": "code",
   "execution_count": null,
   "id": "fa5f7565b84fe08d",
   "metadata": {
    "collapsed": false,
    "jupyter": {
     "outputs_hidden": false
    }
   },
   "outputs": [],
   "source": [
    "px.violin(df, x='Tanimoto_Lower', y='Fraction', template=\"simple_white\", color='Scorer',)"
   ]
  },
  {
   "cell_type": "code",
   "execution_count": null,
   "id": "31f7e6928c031503",
   "metadata": {
    "collapsed": false,
    "jupyter": {
     "outputs_hidden": false
    }
   },
   "outputs": [],
   "source": [
    "px.bar(dataset_size[dataset_size['Scorer'] == 'RMSD'], x='Tanimoto_Lower', y='Dataset_Size', template=\"simple_white\", width=600, height=400, barmode='group', log_y=True)"
   ]
  },
  {
   "cell_type": "code",
   "execution_count": null,
   "id": "797534244e1e9069",
   "metadata": {
    "collapsed": false,
    "jupyter": {
     "outputs_hidden": false
    }
   },
   "outputs": [],
   "source": [
    "def calc_dataset_size_per_ligand(df, tc_cutoffs, bootstraps=100):\n",
    "    dfs = []\n",
    "    for lower, upper in zip(tc_cutoffs[:-1], tc_cutoffs[1:]):\n",
    "            new_df = df[(df.Tanimoto > lower)&(df.Tanimoto <= upper)]\n",
    "            new_df = new_df.groupby('Query_Ligand').size().reset_index(name='Dataset_Size')\n",
    "            new_df['Tanimoto_Lower'] = lower\n",
    "            new_df['Tanimoto_Upper'] = upper\n",
    "            dfs.append(new_df)\n",
    "    return pd.concat(dfs)"
   ]
  },
  {
   "cell_type": "code",
   "execution_count": null,
   "id": "885edb903290bd35",
   "metadata": {
    "collapsed": false,
    "jupyter": {
     "outputs_hidden": false
    }
   },
   "outputs": [],
   "source": [
    "dataset_size_per_ligand = calc_dataset_size_per_ligand(single_pose, tc_cutoffs)"
   ]
  },
  {
   "cell_type": "code",
   "execution_count": null,
   "id": "1ddf11f5ad557f9",
   "metadata": {
    "collapsed": false,
    "jupyter": {
     "outputs_hidden": false
    }
   },
   "outputs": [],
   "source": [
    "means = []\n",
    "for i in range(100):\n",
    "    means.append(dataset_size_per_ligand.groupby('Tanimoto_Lower').sample(frac=1, replace=True).groupby('Tanimoto_Lower')['Dataset_Size'].mean())\n",
    "means_df = pd.concat(means).reset_index()"
   ]
  },
  {
   "cell_type": "code",
   "execution_count": null,
   "id": "1c44daf82d9df561",
   "metadata": {
    "collapsed": false,
    "jupyter": {
     "outputs_hidden": false
    }
   },
   "outputs": [],
   "source": [
    "means_df"
   ]
  },
  {
   "cell_type": "code",
   "execution_count": null,
   "id": "41d31251e3045078",
   "metadata": {
    "collapsed": false,
    "jupyter": {
     "outputs_hidden": false
    }
   },
   "outputs": [],
   "source": [
    "size_means = means_df.groupby('Tanimoto_Lower')['Dataset_Size'].mean().reset_index()\n",
    "size_upper = means_df.groupby('Tanimoto_Lower')['Dataset_Size'].quantile(0.975).reset_index()\n",
    "size_lower = means_df.groupby('Tanimoto_Lower')['Dataset_Size'].quantile(0.025).reset_index()\n",
    "size_upper.columns = ['Tanimoto_Lower', \"CI_Upper\"]\n",
    "size_lower.columns = ['Tanimoto_Lower', \"CI_Lower\"]"
   ]
  },
  {
   "cell_type": "code",
   "execution_count": null,
   "id": "7ccc1a982c1562a5",
   "metadata": {
    "collapsed": false,
    "jupyter": {
     "outputs_hidden": false
    }
   },
   "outputs": [],
   "source": [
    "size_merged = size_means.merge(size_upper, on='Tanimoto_Lower').merge(size_lower, on='Tanimoto_Lower')"
   ]
  },
  {
   "cell_type": "code",
   "execution_count": null,
   "id": "4750ab786b72aaa9",
   "metadata": {
    "collapsed": false,
    "jupyter": {
     "outputs_hidden": false
    }
   },
   "outputs": [],
   "source": [
    "size_merged['Error_Y'] = size_merged['CI_Upper'] - size_merged['Dataset_Size']\n",
    "size_merged['Error_Y_Minus'] = size_merged['Dataset_Size'] - size_merged['CI_Lower']\n"
   ]
  },
  {
   "cell_type": "code",
   "execution_count": null,
   "id": "eb643160c6401d7",
   "metadata": {
    "collapsed": false,
    "jupyter": {
     "outputs_hidden": false
    }
   },
   "outputs": [],
   "source": [
    "px.line(size_merged, x='Tanimoto_Lower', y='Dataset_Size', template=\"simple_white\", width=600, height=400, error_y=\"Error_Y\", error_y_minus=\"Error_Y_Minus\")"
   ]
  },
  {
   "cell_type": "markdown",
   "id": "b6401f1ebf182d0c",
   "metadata": {
    "collapsed": false,
    "jupyter": {
     "outputs_hidden": false
    }
   },
   "source": [
    "# Good start. now need to do with the rest"
   ]
  },
  {
   "cell_type": "code",
   "execution_count": null,
   "id": "a2c4287f58d07f44",
   "metadata": {
    "collapsed": false,
    "jupyter": {
     "outputs_hidden": false
    }
   },
   "outputs": [],
   "source": []
  }
 ],
 "metadata": {
  "kernelspec": {
   "display_name": "Python 3 (ipykernel)",
   "language": "python",
   "name": "python3"
  },
  "language_info": {
   "codemirror_mode": {
    "name": "ipython",
    "version": 3
   },
   "file_extension": ".py",
   "mimetype": "text/x-python",
   "name": "python",
   "nbconvert_exporter": "python",
   "pygments_lexer": "ipython3",
   "version": "3.12.2"
  }
 },
 "nbformat": 4,
 "nbformat_minor": 5
}
