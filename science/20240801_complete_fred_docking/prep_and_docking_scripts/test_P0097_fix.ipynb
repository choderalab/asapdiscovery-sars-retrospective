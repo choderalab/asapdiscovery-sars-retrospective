{
 "cells": [
  {
   "cell_type": "code",
   "execution_count": null,
   "id": "initial_id",
   "metadata": {
    "collapsed": true
   },
   "outputs": [],
   "source": [
    "from asapdiscovery.data.schema.ligand import Ligand"
   ]
  },
  {
   "cell_type": "code",
   "outputs": [],
   "source": [
    "input_sdf = \"/Users/alexpayne/Scientific_Projects/mers-drug-discovery/sars2-retrospective-analysis/combined_split_3d_20250113/130.sdf\""
   ],
   "metadata": {
    "collapsed": false
   },
   "id": "66adb9847aa5aec5",
   "execution_count": null
  },
  {
   "cell_type": "code",
   "outputs": [],
   "source": [
    "ligand = Ligand.from_sdf(input_sdf)"
   ],
   "metadata": {
    "collapsed": false
   },
   "id": "ad669790f4467e8e",
   "execution_count": null
  },
  {
   "cell_type": "code",
   "outputs": [],
   "source": [
    "oemol = ligand.to_oemol()"
   ],
   "metadata": {
    "collapsed": false
   },
   "id": "b715761eb7b3a4f7",
   "execution_count": null
  },
  {
   "cell_type": "code",
   "outputs": [],
   "source": [
    "rdmol = ligand.to_rdkit()"
   ],
   "metadata": {
    "collapsed": false
   },
   "id": "df8c3ea274b6da5c",
   "execution_count": null
  },
  {
   "cell_type": "code",
   "outputs": [],
   "source": [
    "rdmol.GetNumConformers()"
   ],
   "metadata": {
    "collapsed": false
   },
   "id": "49b7ade85f2f7e95",
   "execution_count": null
  },
  {
   "cell_type": "code",
   "outputs": [],
   "source": [
    "rdmol.GetPropsAsDict()"
   ],
   "metadata": {
    "collapsed": false
   },
   "id": "6c2980a8170d8791",
   "execution_count": null
  },
  {
   "cell_type": "code",
   "outputs": [],
   "source": [
    "smiles = ligand.smiles"
   ],
   "metadata": {
    "collapsed": false
   },
   "id": "8a399d0e1ef83ad3",
   "execution_count": null
  },
  {
   "cell_type": "code",
   "outputs": [],
   "source": [
    "true_smiles = smiles.split('.')[0]"
   ],
   "metadata": {
    "collapsed": false
   },
   "id": "7c8a96bea818d2d5",
   "execution_count": null
  },
  {
   "cell_type": "code",
   "outputs": [],
   "source": [
    "true_smiles"
   ],
   "metadata": {
    "collapsed": false
   },
   "id": "8acd525f08ca6ea8",
   "execution_count": null
  },
  {
   "cell_type": "code",
   "outputs": [],
   "source": [
    "import rdkit"
   ],
   "metadata": {
    "collapsed": false
   },
   "id": "f960c9beb5ea6115",
   "execution_count": null
  },
  {
   "cell_type": "code",
   "outputs": [],
   "source": [
    "match = rdmol.GetSubstructMatches(rdkit.Chem.MolFromSmiles(true_smiles))\n",
    "new_mol = rdkit.Chem.PathToSubmol(rdmol, match)"
   ],
   "metadata": {
    "collapsed": false
   },
   "id": "b94cd7b615853376",
   "execution_count": null
  },
  {
   "cell_type": "code",
   "outputs": [],
   "source": [
    "new_moles = []\n",
    "for frag in rdkit.Chem.GetMolFrags(rdmol):\n",
    "    # create new molecule from original and fragment\n",
    "    new_moles.append(rdkit.Chem.PathToSubmol(rdmol, frag))"
   ],
   "metadata": {
    "collapsed": false
   },
   "id": "75f3c01f924585a9",
   "execution_count": null
  },
  {
   "cell_type": "code",
   "outputs": [],
   "source": [
    "new_mol = [rdmol.GetAtomWithIdx(idx) for idx in frag]"
   ],
   "metadata": {
    "collapsed": false
   },
   "id": "5bd34cf8c4bc3d2c",
   "execution_count": null
  },
  {
   "cell_type": "code",
   "outputs": [],
   "source": [
    "rdmol = ligand.to_rdkit()\n",
    "editable = rdkit.Chem.EditableMol(rdmol)"
   ],
   "metadata": {
    "collapsed": false
   },
   "id": "a76d2756659b51f6",
   "execution_count": null
  },
  {
   "cell_type": "code",
   "outputs": [],
   "source": [
    "from rdkit.Chem.Draw import MolDrawing, DrawingOptions"
   ],
   "metadata": {
    "collapsed": false
   },
   "id": "532969fba0b290e0",
   "execution_count": null
  },
  {
   "cell_type": "code",
   "outputs": [],
   "source": [
    "DrawingOptions.includeAtomNumbers=True"
   ],
   "metadata": {
    "collapsed": false
   },
   "id": "26a81043a44bb9db",
   "execution_count": null
  },
  {
   "cell_type": "code",
   "outputs": [],
   "source": [],
   "metadata": {
    "collapsed": false
   },
   "id": "81f0376857b8f0f3",
   "execution_count": null
  },
  {
   "cell_type": "code",
   "outputs": [],
   "source": [
    "_ = [new_rdmol.GetAtomWithIdx(idx) for idx in frag]"
   ],
   "metadata": {
    "collapsed": false
   },
   "id": "609cef94d33e912a",
   "execution_count": null
  },
  {
   "cell_type": "code",
   "outputs": [],
   "source": [
    "rdmol = ligand.to_rdkit()\n",
    "editable = rdkit.Chem.EditableMol(rdmol)\n",
    "for i, idx in enumerate(frag):\n",
    "    idx = idx - i\n",
    "    new_rdmol = editable.GetMol()\n",
    "    smiles = rdkit.Chem.MolToSmiles(new_rdmol)\n",
    "    print(smiles)\n",
    "    print(len(smiles))\n",
    "    editable.RemoveAtom(idx)"
   ],
   "metadata": {
    "collapsed": false
   },
   "id": "42dd1bfefd7655f",
   "execution_count": null
  },
  {
   "cell_type": "code",
   "outputs": [],
   "source": [
    "frag"
   ],
   "metadata": {
    "collapsed": false
   },
   "id": "1c2dfe5ed3c3339f",
   "execution_count": null
  },
  {
   "cell_type": "code",
   "outputs": [],
   "source": [
    "new_mol = editable.GetMol()\n",
    "rdkit.Chem.rdmolops.SanitizeMol(new_mol, sanitizeOps=rdkit.Chem.rdmolops.SANITIZE_ALL)\n",
    "sdf_str = rdkit.Chem.rdmolfiles.MolToMolBlock(new_mol)"
   ],
   "metadata": {
    "collapsed": false
   },
   "id": "6f54ea8a80fd9574",
   "execution_count": null
  },
  {
   "cell_type": "code",
   "outputs": [],
   "source": [
    "from asapdiscovery.data.backend.rdkit import rdkit_mol_to_sdf_str"
   ],
   "metadata": {
    "collapsed": false
   },
   "id": "b691c0c85160f153",
   "execution_count": null
  },
  {
   "cell_type": "code",
   "outputs": [],
   "source": [
    "new_lig = Ligand.from_sdf_str(sdf_str, compound_name=ligand.compound_name)"
   ],
   "metadata": {
    "collapsed": false
   },
   "id": "3d44ba050b10bb8e",
   "execution_count": null
  },
  {
   "cell_type": "code",
   "outputs": [],
   "source": [
    "new_lig.to_sdf('test.sdf')"
   ],
   "metadata": {
    "collapsed": false
   },
   "id": "73971a5fc92cd835",
   "execution_count": null
  },
  {
   "cell_type": "code",
   "outputs": [],
   "source": [
    "# Define the input and output filenames\n",
    "from openeye.oechem import oemolistream, oemolostream, OEWriteMolecule\n",
    "output_sdf = 'output_ligand.sdf'\n",
    "\n",
    "# Open the input SDF file\n",
    "ifs = oemolistream(input_sdf)\n",
    "\n",
    "# Create an output stream to write the ligand\n",
    "ofs = oemolostream(output_sdf)\n",
    "\n",
    "# Loop through the molecules in the input SDF file\n",
    "ligand_count = 0\n",
    "for mol in ifs.GetOEGraphMols():\n",
    "    # Only process the first ligand\n",
    "    if ligand_count == 0:\n",
    "        # Write the first ligand to the output file\n",
    "        OEWriteMolecule(ofs, mol)\n",
    "        ligand_count += 1\n",
    "        break\n",
    "\n",
    "# Close the input and output streams\n",
    "ifs.close()\n",
    "ofs.close()\n",
    "\n",
    "print(f\"First ligand saved to: {output_sdf}\")"
   ],
   "metadata": {
    "collapsed": false
   },
   "id": "1fc3dc76f78e76ec",
   "execution_count": null
  },
  {
   "cell_type": "code",
   "outputs": [],
   "source": [],
   "metadata": {
    "collapsed": false
   },
   "id": "b9dcfbc3d2676322"
  }
 ],
 "metadata": {
  "kernelspec": {
   "display_name": "Python 3",
   "language": "python",
   "name": "python3"
  },
  "language_info": {
   "codemirror_mode": {
    "name": "ipython",
    "version": 2
   },
   "file_extension": ".py",
   "mimetype": "text/x-python",
   "name": "python",
   "nbconvert_exporter": "python",
   "pygments_lexer": "ipython2",
   "version": "2.7.6"
  }
 },
 "nbformat": 4,
 "nbformat_minor": 5
}
