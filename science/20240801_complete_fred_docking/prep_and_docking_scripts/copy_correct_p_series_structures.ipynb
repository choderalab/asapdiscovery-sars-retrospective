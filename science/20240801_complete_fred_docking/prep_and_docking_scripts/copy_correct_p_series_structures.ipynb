{
 "cells": [
  {
   "cell_type": "code",
   "execution_count": null,
   "id": "38b88560-cfae-4977-9e73-a584490b4628",
   "metadata": {},
   "outputs": [],
   "source": [
    "from pathlib import Path\n",
    "import shutil"
   ]
  },
  {
   "cell_type": "code",
   "execution_count": null,
   "id": "a7a2096e-65df-46d4-bf30-f77717fc53ab",
   "metadata": {},
   "outputs": [],
   "source": [
    "correct_structures = Path(\"/home/paynea/asap-datasets/mpro_fragalysis-04-01-24_curated_cache\")"
   ]
  },
  {
   "cell_type": "code",
   "execution_count": null,
   "id": "e5b5f64f-af37-42d0-8d75-5b77005322b9",
   "metadata": {},
   "outputs": [],
   "source": [
    "original = Path(\"/home/paynea/asap-datasets/mpro_fragalysis-04-01-24/aligned\")"
   ]
  },
  {
   "cell_type": "code",
   "execution_count": null,
   "id": "ee5f8148-0387-443c-8eab-11ca5778ce17",
   "metadata": {},
   "outputs": [],
   "source": [
    "new = Path(\"/home/paynea/asap-datasets/mpro_fragalysis-04-01-24_p_series/aligned\")"
   ]
  },
  {
   "cell_type": "code",
   "execution_count": null,
   "id": "04569019-2371-4625-bba9-62bfc5e84514",
   "metadata": {},
   "outputs": [],
   "source": [
    "prepped_dirs = [prepped_dir for prepped_dir in correct_structures.glob(\"Mpro*\")]"
   ]
  },
  {
   "cell_type": "code",
   "execution_count": null,
   "id": "5a7955af-74fe-461a-bb52-64bdc49a477b",
   "metadata": {},
   "outputs": [],
   "source": [
    "len(prepped_dirs)"
   ]
  },
  {
   "cell_type": "code",
   "execution_count": null,
   "id": "db1bba21-fb3d-4171-930a-d459fa497602",
   "metadata": {},
   "outputs": [],
   "source": [
    "frag_dirs = [prepped_dir.stem[:13] for prepped_dir in prepped_dirs]"
   ]
  },
  {
   "cell_type": "code",
   "execution_count": null,
   "id": "9d859d75-26c2-4061-a32c-5a7041e1c61a",
   "metadata": {},
   "outputs": [],
   "source": [
    "for prepped_dir in prepped_dirs:\n",
    "    frag_name = prepped_dir.stem[:13]\n",
    "    shutil.copytree(original / frag_name, new / frag_name)"
   ]
  },
  {
   "cell_type": "code",
   "execution_count": null,
   "id": "4838b95d-1414-4b46-b66b-d9e723b12990",
   "metadata": {},
   "outputs": [],
   "source": []
  }
 ],
 "metadata": {
  "kernelspec": {
   "display_name": "Python [conda env:asapdiscovery]",
   "language": "python",
   "name": "conda-env-asapdiscovery-py"
  },
  "language_info": {
   "codemirror_mode": {
    "name": "ipython",
    "version": 3
   },
   "file_extension": ".py",
   "mimetype": "text/x-python",
   "name": "python",
   "nbconvert_exporter": "python",
   "pygments_lexer": "ipython3",
   "version": "3.10.13"
  }
 },
 "nbformat": 4,
 "nbformat_minor": 5
}
