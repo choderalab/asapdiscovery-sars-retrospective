{
 "cells": [
  {
   "cell_type": "code",
   "execution_count": 19,
   "id": "9b0617d4-9e55-443a-947c-1457bb952cff",
   "metadata": {},
   "outputs": [],
   "source": [
    "from asapdiscovery.data.readers.meta_structure_factory import MetaStructureFactory\n",
    "from asapdiscovery.modeling.protein_prep import ProteinPrepper"
   ]
  },
  {
   "cell_type": "code",
   "execution_count": 30,
   "id": "c1fb210d-47c0-486f-980c-ace44fff03f9",
   "metadata": {},
   "outputs": [],
   "source": [
    "structure_dir = \"/data/chodera/asap-datasets/mpro_fragalysis-04-01-24\"\n",
    "cache_dir = \"/data/chodera/asap-datasets/mpro_fragalysis-04-01-24_curated_cache\"\n",
    "new_structure_dir\n",
    "new_cache_dir = \"/data/chodera/asap-datasets/mpro_fragalysis-04-01-24_curated_cache_p_series\""
   ]
  },
  {
   "cell_type": "code",
   "execution_count": 21,
   "id": "364baab2-2904-4d62-8f5c-7b998e5ddbc7",
   "metadata": {},
   "outputs": [
    {
     "name": "stderr",
     "output_type": "stream",
     "text": [
      "Warning: OE3DToAtomStereo is unable to perceive atom stereo from a flat geometry on atom 8 of molecule 'LIG'\n",
      "Warning: OE3DToAtomStereo had a problem during OEWriteMolecule when writing 'LIG'\n",
      "Warning: OE3DToAtomStereo is unable to perceive atom stereo from a flat geometry on atom 8 of molecule 'LIG'\n",
      "Warning: OE3DToAtomStereo had a problem during OEWriteMolecule when writing 'LIG'\n",
      "Warning: OE3DToAtomStereo is unable to perceive atom stereo from a flat geometry on atom 2 of molecule 'LIG'\n",
      "Warning: OE3DToAtomStereo had a problem during OEWriteMolecule when writing 'LIG'\n",
      "Warning: OE3DToAtomStereo is unable to perceive atom stereo from a flat geometry on atom 8 of molecule 'LIG'\n",
      "Warning: OE3DToAtomStereo is unable to perceive atom stereo from a flat geometry on atom 11 of molecule 'LIG'\n",
      "Warning: OE3DToAtomStereo had a problem during OEWriteMolecule when writing 'LIG'\n",
      "Warning: OECreateInChI: InChI only supports molecules with between 1 and 1023 atoms! (note: large molecule support is experimental)\n",
      "Warning: OECreateInChI: InChI only supports molecules with between 1 and 1023 atoms! (note: large molecule support is experimental)\n",
      "Warning: OECreateInChI: InChI only supports molecules with between 1 and 1023 atoms! (note: large molecule support is experimental)\n",
      "Warning: OECreateInChI: InChI only supports molecules with between 1 and 1023 atoms! (note: large molecule support is experimental)\n",
      "Warning: OECreateInChI: InChI only supports molecules with between 1 and 1023 atoms! (note: large molecule support is experimental)\n",
      "Warning: OECreateInChI: InChI only supports molecules with between 1 and 1023 atoms! (note: large molecule support is experimental)\n",
      "Warning: OECreateInChI: InChI only supports molecules with between 1 and 1023 atoms! (note: large molecule support is experimental)\n",
      "Warning: OECreateInChI: InChI only supports molecules with between 1 and 1023 atoms! (note: large molecule support is experimental)\n",
      "Warning: OECreateInChI: InChI only supports molecules with between 1 and 1023 atoms! (note: large molecule support is experimental)\n",
      "Warning: OECreateInChI: InChI only supports molecules with between 1 and 1023 atoms! (note: large molecule support is experimental)\n",
      "Warning: OECreateInChI: InChI only supports molecules with between 1 and 1023 atoms! (note: large molecule support is experimental)\n",
      "Warning: OECreateInChI: InChI only supports molecules with between 1 and 1023 atoms! (note: large molecule support is experimental)\n"
     ]
    }
   ],
   "source": [
    "structure_factory = MetaStructureFactory(\n",
    "        structure_dir=None,\n",
    "        fragalysis_dir=structure_dir,\n",
    "        pdb_file=None,\n",
    "        # use_dask=inputs.use_dask,\n",
    "        # failure_mode=inputs.failure_mode,\n",
    "        # dask_client=dask_client,\n",
    "    )\n",
    "complexes = structure_factory.load()"
   ]
  },
  {
   "cell_type": "code",
   "execution_count": 22,
   "id": "cf78e9e3-9974-4df6-b3f6-aab3ec794f34",
   "metadata": {},
   "outputs": [
    {
     "data": {
      "text/plain": [
       "803"
      ]
     },
     "execution_count": 22,
     "metadata": {},
     "output_type": "execute_result"
    }
   ],
   "source": [
    "len(complexes)"
   ]
  },
  {
   "cell_type": "code",
   "execution_count": 23,
   "id": "be156064-e77f-4fb7-be56-bf8273b02fc9",
   "metadata": {},
   "outputs": [
    {
     "name": "stderr",
     "output_type": "stream",
     "text": [
      "Warning: OE3DToAtomStereo is unable to perceive atom stereo from a flat geometry on atom 8 of molecule 'LIG'\n",
      "Warning: OE3DToAtomStereo had a problem during conformation test 'LIG'\n",
      "Warning: OE3DToAtomStereo is unable to perceive atom stereo from a flat geometry on atom 8 of molecule 'LIG'\n",
      "Warning: OE3DToAtomStereo had a problem during conformation test 'LIG'\n",
      "Warning: OE3DToAtomStereo is unable to perceive atom stereo from a flat geometry on atom 2 of molecule 'LIG'\n",
      "Warning: OE3DToAtomStereo had a problem during conformation test 'LIG'\n",
      "Warning: OE3DToAtomStereo is unable to perceive atom stereo from a flat geometry on atom 8 of molecule 'LIG'\n",
      "Warning: OE3DToAtomStereo is unable to perceive atom stereo from a flat geometry on atom 11 of molecule 'LIG'\n",
      "Warning: OE3DToAtomStereo had a problem during conformation test 'LIG'\n",
      "Warning: OECreateInChI: InChI only supports molecules with between 1 and 1023 atoms! (note: large molecule support is experimental)\n",
      "Warning: OECreateInChI: InChI only supports molecules with between 1 and 1023 atoms! (note: large molecule support is experimental)\n",
      "Warning: OECreateInChI: InChI only supports molecules with between 1 and 1023 atoms! (note: large molecule support is experimental)\n",
      "Warning: OE3DToAtomStereo is unable to perceive atom stereo from a flat geometry on atom 8 of molecule 'LIG'\n",
      "Warning: OE3DToAtomStereo had a problem during conformation test 'LIG'\n",
      "Warning: OE3DToAtomStereo is unable to perceive atom stereo from a flat geometry on atom 8 of molecule 'LIG'\n",
      "Warning: OE3DToAtomStereo had a problem during conformation test 'LIG'\n",
      "Warning: OE3DToAtomStereo is unable to perceive atom stereo from a flat geometry on atom 2 of molecule 'LIG'\n",
      "Warning: OE3DToAtomStereo had a problem during conformation test 'LIG'\n",
      "Warning: OE3DToAtomStereo is unable to perceive atom stereo from a flat geometry on atom 8 of molecule 'LIG'\n",
      "Warning: OE3DToAtomStereo is unable to perceive atom stereo from a flat geometry on atom 11 of molecule 'LIG'\n",
      "Warning: OE3DToAtomStereo had a problem during conformation test 'LIG'\n",
      "Warning: OECreateInChI: InChI only supports molecules with between 1 and 1023 atoms! (note: large molecule support is experimental)\n",
      "Warning: OECreateInChI: InChI only supports molecules with between 1 and 1023 atoms! (note: large molecule support is experimental)\n",
      "Warning: OECreateInChI: InChI only supports molecules with between 1 and 1023 atoms! (note: large molecule support is experimental)\n",
      "Disregarding 646 structures which could not be found in the cache.\n"
     ]
    }
   ],
   "source": [
    "prepper = ProteinPrepper(cache_dir=cache_dir)\n",
    "prepped_complexes = prepper.prep(\n",
    "    complexes,\n",
    "    # use_dask=inputs.use_dask,\n",
    "    # dask_client=dask_client,\n",
    "    # failure_mode=inputs.failure_mode,\n",
    "    cache_dir=cache_dir,\n",
    "    use_only_cache=True,\n",
    ")"
   ]
  },
  {
   "cell_type": "code",
   "execution_count": 24,
   "id": "ad862707-1150-4325-b6e1-eff3d73b03c5",
   "metadata": {},
   "outputs": [
    {
     "data": {
      "text/plain": [
       "157"
      ]
     },
     "execution_count": 24,
     "metadata": {},
     "output_type": "execute_result"
    }
   ],
   "source": [
    "len(prepped_complexes)"
   ]
  },
  {
   "cell_type": "code",
   "execution_count": null,
   "id": "e33fb9ea-eeba-4e78-819c-23e88540b05b",
   "metadata": {},
   "outputs": [],
   "source": []
  },
  {
   "cell_type": "code",
   "execution_count": 32,
   "id": "89163d6d-ceaf-432e-bd14-fe3009af3f8b",
   "metadata": {},
   "outputs": [
    {
     "name": "stderr",
     "output_type": "stream",
     "text": [
      "Warning: OE3DToAtomStereo is unable to perceive atom stereo from a flat geometry on atom 8 of molecule 'LIG'\n",
      "Warning: OE3DToAtomStereo had a problem during conformation test 'LIG'\n",
      "Warning: OE3DToAtomStereo is unable to perceive atom stereo from a flat geometry on atom 8 of molecule 'LIG'\n",
      "Warning: OE3DToAtomStereo had a problem during conformation test 'LIG'\n",
      "Warning: OE3DToAtomStereo is unable to perceive atom stereo from a flat geometry on atom 2 of molecule 'LIG'\n",
      "Warning: OE3DToAtomStereo had a problem during conformation test 'LIG'\n",
      "Warning: OE3DToAtomStereo is unable to perceive atom stereo from a flat geometry on atom 8 of molecule 'LIG'\n",
      "Warning: OE3DToAtomStereo is unable to perceive atom stereo from a flat geometry on atom 11 of molecule 'LIG'\n",
      "Warning: OE3DToAtomStereo had a problem during conformation test 'LIG'\n",
      "Warning: OECreateInChI: InChI only supports molecules with between 1 and 1023 atoms! (note: large molecule support is experimental)\n",
      "Warning: OECreateInChI: InChI only supports molecules with between 1 and 1023 atoms! (note: large molecule support is experimental)\n",
      "Warning: OECreateInChI: InChI only supports molecules with between 1 and 1023 atoms! (note: large molecule support is experimental)\n",
      "Warning: OE3DToAtomStereo is unable to perceive atom stereo from a flat geometry on atom 8 of molecule 'LIG'\n",
      "Warning: OE3DToAtomStereo had a problem during conformation test 'LIG'\n",
      "Warning: OE3DToAtomStereo is unable to perceive atom stereo from a flat geometry on atom 8 of molecule 'LIG'\n",
      "Warning: OE3DToAtomStereo had a problem during conformation test 'LIG'\n",
      "Warning: OE3DToAtomStereo is unable to perceive atom stereo from a flat geometry on atom 2 of molecule 'LIG'\n",
      "Warning: OE3DToAtomStereo had a problem during conformation test 'LIG'\n",
      "Warning: OE3DToAtomStereo is unable to perceive atom stereo from a flat geometry on atom 8 of molecule 'LIG'\n",
      "Warning: OE3DToAtomStereo is unable to perceive atom stereo from a flat geometry on atom 11 of molecule 'LIG'\n",
      "Warning: OE3DToAtomStereo had a problem during conformation test 'LIG'\n",
      "Warning: OECreateInChI: InChI only supports molecules with between 1 and 1023 atoms! (note: large molecule support is experimental)\n",
      "Warning: OECreateInChI: InChI only supports molecules with between 1 and 1023 atoms! (note: large molecule support is experimental)\n",
      "Warning: OECreateInChI: InChI only supports molecules with between 1 and 1023 atoms! (note: large molecule support is experimental)\n",
      "Disregarding 601 structures which could not be found in the cache.\n"
     ]
    }
   ],
   "source": [
    "new_prepper = ProteinPrepper(cache_dir=new_cache_dir)\n",
    "new_prepped_complexes = prepper.prep(\n",
    "    complexes,\n",
    "    # use_dask=inputs.use_dask,\n",
    "    # dask_client=dask_client,\n",
    "    # failure_mode=inputs.failure_mode,\n",
    "    cache_dir=new_cache_dir,\n",
    "    use_only_cache=True,\n",
    ")"
   ]
  },
  {
   "cell_type": "code",
   "execution_count": 33,
   "id": "511e6b8e-bfe8-427e-a26a-692601a326f1",
   "metadata": {},
   "outputs": [
    {
     "data": {
      "text/plain": [
       "202"
      ]
     },
     "execution_count": 33,
     "metadata": {},
     "output_type": "execute_result"
    }
   ],
   "source": [
    "len(new_prepped_complexes)"
   ]
  },
  {
   "cell_type": "code",
   "execution_count": null,
   "id": "488e9aa6-c844-4fc4-aaa3-886be95501da",
   "metadata": {},
   "outputs": [],
   "source": []
  }
 ],
 "metadata": {
  "kernelspec": {
   "display_name": "Python [conda env:miniforge3-asapdiscovery]",
   "language": "python",
   "name": "conda-env-miniforge3-asapdiscovery-py"
  },
  "language_info": {
   "codemirror_mode": {
    "name": "ipython",
    "version": 3
   },
   "file_extension": ".py",
   "mimetype": "text/x-python",
   "name": "python",
   "nbconvert_exporter": "python",
   "pygments_lexer": "ipython3",
   "version": "3.10.13"
  }
 },
 "nbformat": 4,
 "nbformat_minor": 5
}
