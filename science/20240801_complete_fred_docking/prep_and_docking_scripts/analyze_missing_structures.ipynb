{
 "cells": [
  {
   "cell_type": "code",
   "execution_count": null,
   "id": "initial_id",
   "metadata": {
    "collapsed": true
   },
   "outputs": [],
   "source": [
    "import pandas as pd"
   ]
  },
  {
   "cell_type": "code",
   "outputs": [],
   "source": [
    "df = pd.read_csv(\"/Users/alexpayne/Scientific_Projects/mers-drug-discovery/sars2-retrospective-analysis/1/docking_results_final.csv\")"
   ],
   "metadata": {
    "collapsed": false
   },
   "id": "f23acff9f7022de5",
   "execution_count": null
  },
  {
   "cell_type": "code",
   "outputs": [],
   "source": [
    "df.groupby([\"ligand_id\", \"in-silico_SARS-CoV-2-Mpro_docking-structure-POSIT_msk\"]).nunique()"
   ],
   "metadata": {
    "collapsed": false
   },
   "id": "5336d3511e3e0674",
   "execution_count": null
  },
  {
   "cell_type": "code",
   "outputs": [],
   "source": [
    "mol_ids = df.ligand_id.unique()"
   ],
   "metadata": {
    "collapsed": false
   },
   "id": "5e0d03b3e6a9a876",
   "execution_count": null
  },
  {
   "cell_type": "code",
   "outputs": [],
   "source": [
    "structure_id = set(df[\"in-silico_SARS-CoV-2-Mpro_docking-structure-POSIT_msk\"].unique())"
   ],
   "metadata": {
    "collapsed": false
   },
   "id": "44101b3c0f0823e7",
   "execution_count": null
  },
  {
   "cell_type": "code",
   "outputs": [],
   "source": [
    "len(structure_id)"
   ],
   "metadata": {
    "collapsed": false
   },
   "id": "5a1c8e1a867f6af1",
   "execution_count": null
  },
  {
   "cell_type": "code",
   "outputs": [],
   "source": [
    "from pathlib import Path"
   ],
   "metadata": {
    "collapsed": false
   },
   "id": "6c0172eef2b37a4f",
   "execution_count": null
  },
  {
   "cell_type": "code",
   "outputs": [],
   "source": [
    "xtal_dirs = set([xtal_dir.stem for xtal_dir in Path(\"/Users/alexpayne/Scientific_Projects/mers-drug-discovery/sars2-retrospective-analysis/mpro_fragalysis-04-01-24_p_series/aligned\").glob(\"Mpro*\")])"
   ],
   "metadata": {
    "collapsed": false
   },
   "id": "f0b749bacd3538a8",
   "execution_count": null
  },
  {
   "cell_type": "code",
   "outputs": [],
   "source": [
    "xtal_dirs - structure_id"
   ],
   "metadata": {
    "collapsed": false
   },
   "id": "8a90582cd00a3a4e",
   "execution_count": null
  },
  {
   "cell_type": "code",
   "outputs": [],
   "source": [],
   "metadata": {
    "collapsed": false
   },
   "id": "e39381b8e90365e2"
  }
 ],
 "metadata": {
  "kernelspec": {
   "display_name": "Python 3",
   "language": "python",
   "name": "python3"
  },
  "language_info": {
   "codemirror_mode": {
    "name": "ipython",
    "version": 2
   },
   "file_extension": ".py",
   "mimetype": "text/x-python",
   "name": "python",
   "nbconvert_exporter": "python",
   "pygments_lexer": "ipython2",
   "version": "2.7.6"
  }
 },
 "nbformat": 4,
 "nbformat_minor": 5
}
