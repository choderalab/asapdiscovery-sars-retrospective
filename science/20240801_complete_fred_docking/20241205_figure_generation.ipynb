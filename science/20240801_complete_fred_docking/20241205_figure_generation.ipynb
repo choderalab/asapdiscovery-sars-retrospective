{
 "cells": [
  {
   "cell_type": "markdown",
   "id": "c73ceebada12a78",
   "metadata": {
    "collapsed": false,
    "jupyter": {
     "outputs_hidden": false
    }
   },
   "source": [
    "# Imports"
   ]
  },
  {
   "cell_type": "code",
   "execution_count": null,
   "id": "4e98d07508d72cd2",
   "metadata": {
    "collapsed": false,
    "jupyter": {
     "outputs_hidden": false
    }
   },
   "outputs": [],
   "source": [
    "import plotly.express as px\n",
    "import pandas as pd\n",
    "import plotly.graph_objects as go\n",
    "import numpy as np\n",
    "from pathlib import Path\n",
    "from datetime import datetime"
   ]
  },
  {
   "cell_type": "code",
   "execution_count": null,
   "id": "a7262b28ed385a53",
   "metadata": {
    "collapsed": false,
    "jupyter": {
     "outputs_hidden": false
    }
   },
   "outputs": [],
   "source": [
    "# todays date as YYYYMMDD\n",
    "today = datetime.today().strftime('%Y%m%d')"
   ]
  },
  {
   "cell_type": "code",
   "execution_count": null,
   "id": "435634900d14b0d0",
   "metadata": {
    "collapsed": false,
    "jupyter": {
     "outputs_hidden": false
    }
   },
   "outputs": [],
   "source": [
    "fred_results = pd.read_csv(Path.cwd() / 'analyzed_data' / 'results.csv')"
   ]
  },
  {
   "cell_type": "code",
   "execution_count": null,
   "id": "20914bf13106a143",
   "metadata": {
    "collapsed": false,
    "jupyter": {
     "outputs_hidden": false
    }
   },
   "outputs": [],
   "source": [
    "fred_results[\"Error_Lower\"] = fred_results[\"Fraction\"] - fred_results[\"CI_Lower\"]\n",
    "fred_results[\"Error_Upper\"] = fred_results[\"CI_Upper\"] - fred_results[\"Fraction\"]"
   ]
  },
  {
   "cell_type": "code",
   "execution_count": null,
   "id": "801feaacfeb8fe17",
   "metadata": {
    "collapsed": false,
    "jupyter": {
     "outputs_hidden": false
    }
   },
   "outputs": [],
   "source": [
    "df = fred_results.copy()"
   ]
  },
  {
   "cell_type": "code",
   "execution_count": null,
   "id": "3a2a6108c49d0577",
   "metadata": {
    "collapsed": false,
    "jupyter": {
     "outputs_hidden": false
    }
   },
   "outputs": [],
   "source": [
    "figure_path = Path.cwd() / \"figures\"\n",
    "figure_path.mkdir(exist_ok=True)"
   ]
  },
  {
   "cell_type": "code",
   "execution_count": null,
   "id": "fb1f20e49b479868",
   "metadata": {
    "collapsed": false,
    "jupyter": {
     "outputs_hidden": false
    }
   },
   "outputs": [],
   "source": []
  },
  {
   "cell_type": "markdown",
   "id": "7775dafe7c2c42df",
   "metadata": {
    "collapsed": false,
    "jupyter": {
     "outputs_hidden": false
    }
   },
   "source": [
    "# Plotting Variables"
   ]
  },
  {
   "cell_type": "code",
   "execution_count": null,
   "id": "47ba19ded7192864",
   "metadata": {
    "collapsed": false,
    "jupyter": {
     "outputs_hidden": false
    }
   },
   "outputs": [],
   "source": [
    "large_font = 24\n",
    "small_font = 18 \n",
    "labels = {\"Fraction\": \"<b> Fraction of Poses Docked < 2Å from Reference </b>\",\n",
    "               \"N_Per_Split\": \"<b> Total Number of Reference Structures Available to Use </b>\",\n",
    "          }\n",
    "update_layout_dict = dict(xaxis=dict(title_font=dict(size=large_font), \n",
    "                            color='black', \n",
    "                            ),\n",
    "                  yaxis=dict(range=(0,1),  \n",
    "                      title_font=dict(size=large_font), \n",
    "                             color='black', \n",
    "                             ))"
   ]
  },
  {
   "cell_type": "code",
   "execution_count": null,
   "id": "9736a02b18b3fda4",
   "metadata": {
    "collapsed": false,
    "jupyter": {
     "outputs_hidden": false
    }
   },
   "outputs": [],
   "source": []
  },
  {
   "cell_type": "code",
   "execution_count": null,
   "id": "225d9d7880c17c62",
   "metadata": {
    "collapsed": false,
    "jupyter": {
     "outputs_hidden": false
    }
   },
   "outputs": [],
   "source": [
    "def update_traces(fig):\n",
    "    for trace in fig.data:\n",
    "        trace.name = trace.name.replace(\"_\", \" \")\n",
    "        trace.name = trace.name.replace(\"Split\", \"\")\n",
    "        trace.name = trace.name.replace(\", \", \" - \")\n",
    "        trace.name = trace.name.replace(\"RMSD\", \"RMSD (Positive Control)\")\n",
    "    return fig"
   ]
  },
  {
   "cell_type": "code",
   "execution_count": null,
   "id": "2da24993086102fd",
   "metadata": {
    "collapsed": false,
    "jupyter": {
     "outputs_hidden": false
    }
   },
   "outputs": [],
   "source": [
    "def hex_to_rgb(hex_color: str) -> tuple:\n",
    "    hex_color = hex_color.lstrip(\"#\")\n",
    "    if len(hex_color) == 3:\n",
    "        hex_color = hex_color * 2\n",
    "    return int(hex_color[0:2], 16), int(hex_color[2:4], 16), int(hex_color[4:6], 16)"
   ]
  },
  {
   "cell_type": "code",
   "execution_count": null,
   "id": "7e95c015be5a8b1e",
   "metadata": {
    "collapsed": false,
    "jupyter": {
     "outputs_hidden": false
    }
   },
   "outputs": [],
   "source": [
    "def rgb_to_rgba(rgb_str, alpha):\n",
    "    # Split the RGB string into its components\n",
    "    rgb_values = rgb_str.strip('rgb()').split(',')\n",
    "    \n",
    "    # Extract individual RGB values and convert them to integers\n",
    "    r, g, b = map(int, rgb_values)\n",
    "    \n",
    "    # Construct the RGBA string\n",
    "    rgba_str = f\"rgba({r}, {g}, {b}, {alpha})\"\n",
    "    \n",
    "    return rgba_str"
   ]
  },
  {
   "cell_type": "code",
   "execution_count": null,
   "id": "da05461f698bbbe0",
   "metadata": {
    "collapsed": false,
    "jupyter": {
     "outputs_hidden": false
    }
   },
   "outputs": [],
   "source": []
  },
  {
   "cell_type": "markdown",
   "id": "e4dd0c25121be94b",
   "metadata": {
    "collapsed": false,
    "jupyter": {
     "outputs_hidden": false
    }
   },
   "source": [
    "# Figure 1: Datesplit vs Random for POSIT_Probability vs RMSD"
   ]
  },
  {
   "cell_type": "markdown",
   "id": "17e7f7937607f92e",
   "metadata": {
    "collapsed": false,
    "jupyter": {
     "outputs_hidden": false
    }
   },
   "source": [
    "## dataset mangling"
   ]
  },
  {
   "cell_type": "code",
   "execution_count": null,
   "id": "dd4c31f2a70b254b",
   "metadata": {
    "collapsed": false,
    "jupyter": {
     "outputs_hidden": false
    }
   },
   "outputs": [],
   "source": [
    "dataset_split_df = df[\n",
    "    # (df.StructureChoice == \"Dock_to_All\")&\n",
    "((df.StructureChoice_Choose_N == \"10\")|(df.StructureChoice_Choose_N == \"All\"))&\n",
    "    (df.PoseSelection_Choose_N == 1)\n",
    "]"
   ]
  },
  {
   "cell_type": "code",
   "execution_count": null,
   "id": "aef0d79184f111a5",
   "metadata": {
    "collapsed": false,
    "jupyter": {
     "outputs_hidden": false
    }
   },
   "outputs": [],
   "source": [
    "dataset_split_df"
   ]
  },
  {
   "cell_type": "code",
   "execution_count": null,
   "id": "e2e930d3d9fd64fe",
   "metadata": {
    "collapsed": false,
    "jupyter": {
     "outputs_hidden": false
    }
   },
   "outputs": [],
   "source": [
    "fig = px.line(dataset_split_df, \n",
    "              x=\"N_Per_Split\", \n",
    "              y=\"Fraction\", \n",
    "              color=\"Score\",\n",
    "              line_dash=\"Split\",\n",
    "              # error_y=\"Error_Upper\", \n",
    "              # error_y_minus=\"Error_Lower\", \n",
    "              template=\"simple_white\", \n",
    "              # symbol=\"Score\", \n",
    "              height=1200, \n",
    "              width=800,\n",
    "              facet_row=\"StructureChoice\",\n",
    "              log_x=True,\n",
    "              color_discrete_sequence=px.colors.qualitative.Dark2,\n",
    "              labels = labels\n",
    "              )\n",
    "fig.update_layout(\n",
    "    font=dict(size=small_font, \n",
    "              family='Arial'\n",
    "              ),\n",
    "    legend=dict(title=\"<b> Score Function, Dataset Split </b>\", \n",
    "                              x=0.4, y=0.1, \n",
    "                              # traceorder='reversed', \n",
    "                              title_font_size=large_font, \n",
    "                              font_color='black'),\n",
    "    **update_layout_dict)\n",
    "fig.update_yaxes(tickvals=np.arange(0, 1.1, 0.1)) \n",
    "fig = update_traces(fig)\n",
    "fig.show()\n",
    "fig.write_image(figure_path / f\"{today}_dataset_split_comparison_v3.png\")"
   ]
  },
  {
   "cell_type": "markdown",
   "id": "b1c305a6e3202ea3",
   "metadata": {
    "collapsed": false,
    "jupyter": {
     "outputs_hidden": false
    }
   },
   "source": [
    "# I don't believe this..."
   ]
  },
  {
   "cell_type": "code",
   "execution_count": null,
   "id": "3fd5aa9f81fd00d0",
   "metadata": {
    "collapsed": false,
    "jupyter": {
     "outputs_hidden": false
    }
   },
   "outputs": [],
   "source": [
    "raw_df = pd.read_csv(Path.cwd() / 'results_processing' / '20241205_combined_results_with_data.csv')"
   ]
  },
  {
   "cell_type": "code",
   "execution_count": null,
   "id": "f672954e13b7458d",
   "metadata": {
    "collapsed": false,
    "jupyter": {
     "outputs_hidden": false
    }
   },
   "outputs": [],
   "source": [
    "structures = raw_df.groupby(\"Reference_Structure\").head(1).sort_values([\"Reference_Structure_Date\"]).head(10)[\"Reference_Structure\"].tolist()"
   ]
  },
  {
   "cell_type": "markdown",
   "id": "9eedb4f20b4a9fdd",
   "metadata": {
    "collapsed": false,
    "jupyter": {
     "outputs_hidden": false
    }
   },
   "source": []
  },
  {
   "cell_type": "code",
   "execution_count": null,
   "id": "1d59ce53dea2db69",
   "metadata": {
    "collapsed": false,
    "jupyter": {
     "outputs_hidden": false
    }
   },
   "outputs": [],
   "source": [
    "subset_df = raw_df[raw_df[\"Reference_Structure\"].isin(structures)]\n",
    "single_pose = subset_df[(subset_df[\"Pose_ID\"] == 0)&(subset_df[\"Fingerprint\"] == \"ECFP4\")]"
   ]
  },
  {
   "cell_type": "code",
   "execution_count": null,
   "id": "591ad2d07ad32798",
   "metadata": {
    "collapsed": false,
    "jupyter": {
     "outputs_hidden": false
    }
   },
   "outputs": [],
   "source": [
    "results = single_pose.sort_values([\"docking-confidence-POSIT\"], ascending=False).groupby(\"Query_Ligand\").head(1)"
   ]
  },
  {
   "cell_type": "code",
   "execution_count": null,
   "id": "c52cd3c0afde9190",
   "metadata": {
    "collapsed": false,
    "jupyter": {
     "outputs_hidden": false
    }
   },
   "outputs": [],
   "source": [
    "sum(results.RMSD < 2.0) / len(results)"
   ]
  },
  {
   "cell_type": "code",
   "execution_count": null,
   "id": "b9d76f0fb1275bce",
   "metadata": {
    "collapsed": false,
    "jupyter": {
     "outputs_hidden": false
    }
   },
   "outputs": [],
   "source": [
    "# get random samples of first 10 structures\n",
    "results_list = []\n",
    "structures = raw_df.groupby(\"Reference_Structure\").head(1)[\"Reference_Structure\"]\n",
    "for i in range(100):\n",
    "    subset_structures = structures.sample(10).tolist()\n",
    "    subset_df = raw_df[raw_df[\"Reference_Structure\"].isin(subset_structures)]\n",
    "    single_pose = subset_df[(subset_df[\"Pose_ID\"] == 0)&(subset_df[\"Fingerprint\"] == \"ECFP4\")]\n",
    "    results = single_pose.sort_values([\"docking-confidence-POSIT\"], ascending=False).groupby(\"Query_Ligand\").head(1)\n",
    "    results_list.append(sum(results.RMSD < 2.0) / len(results))"
   ]
  },
  {
   "cell_type": "code",
   "execution_count": null,
   "id": "d71d81ef36ec4d7d",
   "metadata": {
    "collapsed": false,
    "jupyter": {
     "outputs_hidden": false
    }
   },
   "outputs": [],
   "source": [
    "results_list"
   ]
  },
  {
   "cell_type": "code",
   "execution_count": null,
   "id": "ea32222559b0239c",
   "metadata": {
    "collapsed": false,
    "jupyter": {
     "outputs_hidden": false
    }
   },
   "outputs": [],
   "source": [
    "np.mean(results_list)"
   ]
  },
  {
   "cell_type": "code",
   "execution_count": null,
   "id": "350d049f3920e234",
   "metadata": {
    "collapsed": false,
    "jupyter": {
     "outputs_hidden": false
    }
   },
   "outputs": [],
   "source": [
    "np.quantile(results_list, 0.025)"
   ]
  },
  {
   "cell_type": "code",
   "execution_count": null,
   "id": "6be671798ba4e1f6",
   "metadata": {
    "collapsed": false,
    "jupyter": {
     "outputs_hidden": false
    }
   },
   "outputs": [],
   "source": [
    "np.quantile(results_list, 0.975)"
   ]
  },
  {
   "cell_type": "code",
   "execution_count": null,
   "id": "65288ef1585405f0",
   "metadata": {
    "collapsed": false,
    "jupyter": {
     "outputs_hidden": false
    }
   },
   "outputs": [],
   "source": [
    "# get average RMSD of ligands for each structure ordered by date"
   ]
  },
  {
   "cell_type": "code",
   "execution_count": null,
   "id": "b6c5f0dc7dbc1bf",
   "metadata": {
    "collapsed": false,
    "jupyter": {
     "outputs_hidden": false
    }
   },
   "outputs": [],
   "source": [
    "raw_df[\"RMSD\"] = raw_df[\"RMSD\"].astype(float)"
   ]
  },
  {
   "cell_type": "code",
   "execution_count": null,
   "id": "7f505fd9f0c15d09",
   "metadata": {
    "collapsed": false,
    "jupyter": {
     "outputs_hidden": false
    }
   },
   "outputs": [],
   "source": [
    "raw_df"
   ]
  },
  {
   "cell_type": "code",
   "execution_count": null,
   "id": "3f0ea2d7458b43f8",
   "metadata": {
    "collapsed": false,
    "jupyter": {
     "outputs_hidden": false
    }
   },
   "outputs": [],
   "source": [
    "min_rmsds = raw_df.groupby([\"Reference_Structure\", \"Query_Ligand\"]).min()"
   ]
  },
  {
   "cell_type": "code",
   "execution_count": null,
   "id": "a99039fb61357f06",
   "metadata": {
    "collapsed": false,
    "jupyter": {
     "outputs_hidden": false
    }
   },
   "outputs": [],
   "source": [
    "min_rmsds = min_rmsds.reset_index()"
   ]
  },
  {
   "cell_type": "code",
   "execution_count": null,
   "id": "bf469ea5bf42411e",
   "metadata": {
    "collapsed": false,
    "jupyter": {
     "outputs_hidden": false
    }
   },
   "outputs": [],
   "source": [
    "structure_and_date = raw_df.groupby(\"Reference_Structure\").head(1)[[\"Reference_Structure\", \"Reference_Structure_Date\"]]"
   ]
  },
  {
   "cell_type": "code",
   "execution_count": null,
   "id": "510f55f4fa3254b6",
   "metadata": {
    "collapsed": false,
    "jupyter": {
     "outputs_hidden": false
    }
   },
   "outputs": [],
   "source": [
    "avg_min_rmsd = structure_and_date.merge(min_rmsds, on=\"Reference_Structure\")\n",
    "avg_min_rmsd.sort_values(\"Reference_Structure_Date\", inplace=True)"
   ]
  },
  {
   "cell_type": "code",
   "execution_count": null,
   "id": "b30fbb1a42fddb34",
   "metadata": {
    "collapsed": false,
    "jupyter": {
     "outputs_hidden": false
    }
   },
   "outputs": [],
   "source": [
    "px.box(min_rmsds, x=\"Reference_Structure\", y=\"RMSD\")"
   ]
  },
  {
   "cell_type": "code",
   "execution_count": null,
   "id": "ba49b3b09fb2dadc",
   "metadata": {
    "collapsed": false,
    "jupyter": {
     "outputs_hidden": false
    }
   },
   "outputs": [],
   "source": [
    "px.histogram(raw_df[raw_df[\"Reference_Structure\"] == (\"Mpro-P0772_0A\")], x=\"RMSD\", hover_data=[\"Query_Ligand\"])"
   ]
  },
  {
   "cell_type": "code",
   "execution_count": null,
   "id": "47915c1f751e9898",
   "metadata": {
    "collapsed": false,
    "jupyter": {
     "outputs_hidden": false
    }
   },
   "outputs": [],
   "source": [
    "raw_df[raw_df[\"Reference_Ligand\"] == \"EDG-MED-5d232de5-6\"]"
   ]
  },
  {
   "cell_type": "code",
   "execution_count": null,
   "id": "6d606d2137931bf3",
   "metadata": {
    "collapsed": false,
    "jupyter": {
     "outputs_hidden": false
    }
   },
   "outputs": [],
   "source": [
    "min_rmsds[min_rmsds['Reference_Structure']== \"Mpro-P0772_0A\"]"
   ]
  },
  {
   "cell_type": "markdown",
   "id": "18fd0ec434b325fd",
   "metadata": {
    "collapsed": false,
    "jupyter": {
     "outputs_hidden": false
    }
   },
   "source": [
    "# Conclusions\n",
    "Right so in case it isn't obvious, about half of the prepped structures weren't aligned correctly. So I'm going to redo everything starting from prepping."
   ]
  }
 ],
 "metadata": {
  "kernelspec": {
   "display_name": "Python 3 (ipykernel)",
   "language": "python",
   "name": "python3"
  },
  "language_info": {
   "codemirror_mode": {
    "name": "ipython",
    "version": 3
   },
   "file_extension": ".py",
   "mimetype": "text/x-python",
   "name": "python",
   "nbconvert_exporter": "python",
   "pygments_lexer": "ipython3",
   "version": "3.12.2"
  }
 },
 "nbformat": 4,
 "nbformat_minor": 5
}
