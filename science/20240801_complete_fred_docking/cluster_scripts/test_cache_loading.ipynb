{
 "cells": [
  {
   "cell_type": "code",
   "execution_count": null,
   "id": "9b0617d4-9e55-443a-947c-1457bb952cff",
   "metadata": {},
   "outputs": [],
   "source": [
    "from asapdiscovery.data.readers.meta_structure_factory import MetaStructureFactory\n",
    "from asapdiscovery.modeling.protein_prep import ProteinPrepper"
   ]
  },
  {
   "cell_type": "code",
   "execution_count": null,
   "id": "c1fb210d-47c0-486f-980c-ace44fff03f9",
   "metadata": {},
   "outputs": [],
   "source": [
    "structure_dir = \"/data/chodera/asap-datasets/mpro_fragalysis-04-01-24\"\n",
    "cache_dir = \"/data/chodera/asap-datasets/mpro_fragalysis-04-01-24_curated_cache\""
   ]
  },
  {
   "cell_type": "code",
   "execution_count": null,
   "id": "364baab2-2904-4d62-8f5c-7b998e5ddbc7",
   "metadata": {},
   "outputs": [],
   "source": [
    "structure_factory = MetaStructureFactory(\n",
    "        structure_dir=None,\n",
    "        fragalysis_dir=structure_dir,\n",
    "        pdb_file=None,\n",
    "        # use_dask=inputs.use_dask,\n",
    "        # failure_mode=inputs.failure_mode,\n",
    "        # dask_client=dask_client,\n",
    "    )\n",
    "complexes = structure_factory.load()"
   ]
  },
  {
   "cell_type": "code",
   "execution_count": null,
   "id": "cf78e9e3-9974-4df6-b3f6-aab3ec794f34",
   "metadata": {},
   "outputs": [],
   "source": [
    "len(complexes)"
   ]
  },
  {
   "cell_type": "code",
   "execution_count": null,
   "id": "be156064-e77f-4fb7-be56-bf8273b02fc9",
   "metadata": {},
   "outputs": [],
   "source": [
    "prepper = ProteinPrepper(cache_dir=cache_dir)\n",
    "prepped_complexes = prepper.prep(\n",
    "    complexes,\n",
    "    # use_dask=inputs.use_dask,\n",
    "    # dask_client=dask_client,\n",
    "    # failure_mode=inputs.failure_mode,\n",
    "    cache_dir=cache_dir,\n",
    "    use_only_cache=True,\n",
    ")"
   ]
  },
  {
   "cell_type": "code",
   "execution_count": null,
   "id": "ad862707-1150-4325-b6e1-eff3d73b03c5",
   "metadata": {},
   "outputs": [],
   "source": [
    "len(prepped_complexes)"
   ]
  },
  {
   "cell_type": "code",
   "execution_count": null,
   "id": "e33fb9ea-eeba-4e78-819c-23e88540b05b",
   "metadata": {},
   "outputs": [],
   "source": []
  }
 ],
 "metadata": {
  "kernelspec": {
   "display_name": "Python [conda env:miniforge3-asapdiscovery]",
   "language": "python",
   "name": "conda-env-miniforge3-asapdiscovery-py"
  },
  "language_info": {
   "codemirror_mode": {
    "name": "ipython",
    "version": 3
   },
   "file_extension": ".py",
   "mimetype": "text/x-python",
   "name": "python",
   "nbconvert_exporter": "python",
   "pygments_lexer": "ipython3",
   "version": "3.10.13"
  }
 },
 "nbformat": 4,
 "nbformat_minor": 5
}
