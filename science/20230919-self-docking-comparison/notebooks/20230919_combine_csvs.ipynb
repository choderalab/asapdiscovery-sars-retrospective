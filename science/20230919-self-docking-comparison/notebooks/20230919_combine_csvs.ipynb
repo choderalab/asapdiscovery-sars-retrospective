{
 "cells": [
  {
   "cell_type": "markdown",
   "id": "0d01037a-570a-4112-b6ab-a24b02dacd1a",
   "metadata": {
    "pycharm": {
     "is_executing": true
    }
   },
   "source": [
    "# Paths"
   ]
  },
  {
   "cell_type": "code",
   "execution_count": null,
   "id": "0edeebc5-ab45-4bd0-95fe-ec5321605485",
   "metadata": {
    "pycharm": {
     "is_executing": true
    },
    "tags": []
   },
   "outputs": [],
   "source": [
    "local_analysis = Path(\"/Users/alexpayne/Scientific_Projects/mers-drug-discovery/sars2-retrospective-analysis/\")"
   ]
  },
  {
   "cell_type": "code",
   "execution_count": null,
   "id": "00e9cb75",
   "metadata": {},
   "outputs": [],
   "source": [
    "csvs = local_analysis.glob(\"20230919_self_docked*/run_docking_oe.*-results.csv\")"
   ]
  },
  {
   "cell_type": "code",
   "execution_count": null,
   "id": "21440038",
   "metadata": {},
   "outputs": [],
   "source": [
    "df = pd.concat(map(pd.read_csv, csvs), ignore_index= True)"
   ]
  },
  {
   "cell_type": "code",
   "execution_count": null,
   "id": "73d63449",
   "metadata": {},
   "outputs": [],
   "source": [
    "df.groupby([\"POSIT_method\"]).mean()"
   ]
  },
  {
   "cell_type": "code",
   "execution_count": null,
   "id": "b1248c5d",
   "metadata": {},
   "outputs": [],
   "source": [
    "df.columns"
   ]
  },
  {
   "cell_type": "markdown",
   "id": "e1ee8fb4",
   "metadata": {},
   "source": [
    "# Cleanup"
   ]
  },
  {
   "cell_type": "code",
   "execution_count": null,
   "id": "6e0f702b",
   "metadata": {},
   "outputs": [],
   "source": [
    "df.columns = [\"Compound_ID\", \n",
    "                 \"Structure_Source\", \n",
    "                 \"Docked_File\", \n",
    "                 \"Pose_ID\", \n",
    "                 \"RMSD\", \n",
    "                 \"POSIT\", \n",
    "                 \"POSIT_Method\", \n",
    "                 \"Chemgauss4\", \n",
    "                 \"Clash\", \n",
    "                 \"SMILES\", \n",
    "                 \"GAT_Score\",\n",
    "                \"SCHNET_score\"]"
   ]
  },
  {
   "cell_type": "code",
   "execution_count": null,
   "id": "1d12c9b2",
   "metadata": {},
   "outputs": [],
   "source": [
    "df[\"POSIT_R\"] = 1-df[\"POSIT\"]\n",
    "df[\"Complex_ID\"] = df.Compound_ID.apply(str) + \"_\" + df.Structure_Source"
   ]
  },
  {
   "cell_type": "markdown",
   "id": "c52a1746",
   "metadata": {},
   "source": [
    "## remove non-p series structures"
   ]
  },
  {
   "cell_type": "code",
   "execution_count": null,
   "id": "179c5a3d",
   "metadata": {},
   "outputs": [],
   "source": [
    "p_only = df[df.Structure_Source.str.contains(\"Mpro-P\")]"
   ]
  },
  {
   "cell_type": "code",
   "execution_count": null,
   "id": "762ec895",
   "metadata": {},
   "outputs": [],
   "source": [
    "p_only.groupby([\"POSIT_Method\"]).count()"
   ]
  },
  {
   "cell_type": "code",
   "execution_count": null,
   "id": "7834a446",
   "metadata": {},
   "outputs": [],
   "source": []
  },
  {
   "cell_type": "markdown",
   "id": "b2782f49",
   "metadata": {},
   "source": [
    "## get intersection"
   ]
  },
  {
   "cell_type": "code",
   "execution_count": null,
   "id": "e0b525cb",
   "metadata": {},
   "outputs": [],
   "source": [
    "p_only.groupby([\"Compound_ID\", \"POSIT_Method\"]).count()"
   ]
  },
  {
   "cell_type": "code",
   "execution_count": null,
   "id": "f94f6050",
   "metadata": {},
   "outputs": [],
   "source": [
    "p_only[p_only.Compound_ID == \"ALP-POS-133e7cd9-2\"]"
   ]
  },
  {
   "cell_type": "code",
   "execution_count": null,
   "id": "3fbb2e8e",
   "metadata": {},
   "outputs": [],
   "source": [
    "print([file for file in p_only[p_only.Compound_ID == \"ALP-POS-133e7cd9-2\"][\"Docked_File\"]])"
   ]
  },
  {
   "cell_type": "markdown",
   "id": "8039e8c0",
   "metadata": {},
   "source": [
    "### ok somehow POSIT is reverting to using FRED when SHAPEFIT doesn't work"
   ]
  },
  {
   "cell_type": "code",
   "execution_count": null,
   "id": "81d0dafb",
   "metadata": {},
   "outputs": [],
   "source": []
  },
  {
   "cell_type": "markdown",
   "id": "7ae8e06e",
   "metadata": {},
   "source": [
    "# get intersection"
   ]
  },
  {
   "cell_type": "code",
   "execution_count": null,
   "id": "f0cb25db",
   "metadata": {},
   "outputs": [],
   "source": [
    "cmpds = p_only[p_only.POSIT_Method == \"SHAPEFIT\"][\"Compound_ID\"]"
   ]
  },
  {
   "cell_type": "code",
   "execution_count": null,
   "id": "ae9544c5",
   "metadata": {},
   "outputs": [],
   "source": [
    "intersection = p_only[p_only.Compound_ID.isin(cmpds)]"
   ]
  },
  {
   "cell_type": "code",
   "execution_count": null,
   "id": "de94d537",
   "metadata": {},
   "outputs": [],
   "source": [
    "intersection.groupby([\"POSIT_Method\"]).count()"
   ]
  },
  {
   "cell_type": "code",
   "execution_count": null,
   "id": "6cc192aa",
   "metadata": {},
   "outputs": [],
   "source": [
    "cmpds = intersection[intersection.POSIT_Method == \"FRED\"][\"Compound_ID\"]"
   ]
  },
  {
   "cell_type": "code",
   "execution_count": null,
   "id": "de4813e7",
   "metadata": {},
   "outputs": [],
   "source": [
    "intersection = intersection[intersection.Compound_ID.isin(cmpds)]"
   ]
  },
  {
   "cell_type": "code",
   "execution_count": null,
   "id": "5d5baa5d",
   "metadata": {
    "scrolled": true
   },
   "outputs": [],
   "source": [
    "intersection.groupby([\"POSIT_Method\"]).count()"
   ]
  },
  {
   "cell_type": "code",
   "execution_count": null,
   "id": "1f672915",
   "metadata": {},
   "outputs": [],
   "source": [
    "cmpds = intersection[intersection.POSIT_Method == \"HYBRID\"][\"Compound_ID\"]"
   ]
  },
  {
   "cell_type": "code",
   "execution_count": null,
   "id": "19cef103",
   "metadata": {},
   "outputs": [],
   "source": [
    "intersection = intersection[intersection.Compound_ID.isin(cmpds)]"
   ]
  },
  {
   "cell_type": "code",
   "execution_count": null,
   "id": "44205a01",
   "metadata": {
    "scrolled": true
   },
   "outputs": [],
   "source": [
    "intersection.groupby([\"POSIT_Method\"]).count()"
   ]
  },
  {
   "cell_type": "markdown",
   "id": "a203689e",
   "metadata": {},
   "source": [
    "# save csv"
   ]
  },
  {
   "cell_type": "code",
   "execution_count": null,
   "id": "3170c1ad",
   "metadata": {},
   "outputs": [],
   "source": [
    "intersection.to_csv(local_analysis / \"20230919_combined.csv\")"
   ]
  }
 ],
 "metadata": {
  "kernelspec": {
   "display_name": "Python 3 (ipykernel)",
   "language": "python",
   "name": "python3"
  },
  "language_info": {
   "codemirror_mode": {
    "name": "ipython",
    "version": 3
   },
   "file_extension": ".py",
   "mimetype": "text/x-python",
   "name": "python",
   "nbconvert_exporter": "python",
   "pygments_lexer": "ipython3",
   "version": "3.9.16"
  },
  "toc": {
   "base_numbering": 1,
   "nav_menu": {},
   "number_sections": true,
   "sideBar": true,
   "skip_h1_title": false,
   "title_cell": "Table of Contents",
   "title_sidebar": "Contents",
   "toc_cell": false,
   "toc_position": {},
   "toc_section_display": true,
   "toc_window_display": false
  }
 },
 "nbformat": 4,
 "nbformat_minor": 5
}
