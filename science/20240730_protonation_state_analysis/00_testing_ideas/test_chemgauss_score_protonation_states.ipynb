{
 "cells": [
  {
   "cell_type": "code",
   "execution_count": null,
   "id": "initial_id",
   "metadata": {
    "collapsed": true
   },
   "outputs": [],
   "source": [
    "from asapdiscovery.data.operators.state_expanders.protomer_expander import (\n",
    "    EpikExpander,\n",
    "    ProtomerExpander,\n",
    ")\n",
    "from asapdiscovery.docking.docking import DockingResult\n",
    "from asapdiscovery.docking.scorer import ChemGauss4Scorer\n",
    "from asapdiscovery.data.schema.complex import PreppedComplex, Complex\n",
    "from asapdiscovery.data.schema.ligand import Ligand\n",
    "from asapdiscovery.docking.docking import DockingInputPair\n",
    "from asapdiscovery.data.testing.test_resources import fetch_test_file"
   ]
  },
  {
   "cell_type": "code",
   "outputs": [],
   "source": [
    "# Load du\n",
    "prepped_complex = PreppedComplex.from_oedu_file(\n",
    "        fetch_test_file(\"Mpro-P2660_0A_bound-prepped_receptor.oedu\"),\n",
    "        ligand_kwargs={\"compound_name\": \"test\"},\n",
    "        target_kwargs={\"target_name\": \"test\", \"target_hash\": \"mock_hash\"},\n",
    "    )"
   ],
   "metadata": {
    "collapsed": false
   },
   "id": "ac8321a44fe1adca",
   "execution_count": null
  },
  {
   "cell_type": "code",
   "outputs": [],
   "source": [
    "expanded_ligands = ProtomerExpander().expand(ligands=[Ligand.from_smiles(prepped_complex.ligand.smiles, **prepped_complex.ligand.dict())])"
   ],
   "metadata": {
    "collapsed": false
   },
   "id": "1e5cf3c276383942",
   "execution_count": null
  },
  {
   "cell_type": "code",
   "outputs": [],
   "source": [
    "expanded_ligands"
   ],
   "metadata": {
    "collapsed": false
   },
   "id": "420c22631df16f75",
   "execution_count": null
  },
  {
   "cell_type": "code",
   "outputs": [],
   "source": [
    "from openeye import oequacpac, oechem\n",
    "lig = prepped_complex.ligand\n",
    "oemol = lig.to_oemol()\n",
    "for protomer in oequacpac.OEGetReasonableProtomers(oemol):\n",
    "    fmol = oechem.OEMol(protomer)\n",
    "    # copy the ligand properties over to the new molecule, we may want to have more fine grained control over this\n",
    "    # down the track.\n",
    "    protomer_ligand = Ligand.from_oemol(fmol, **lig.dict())"
   ],
   "metadata": {
    "collapsed": false
   },
   "id": "dabd8d714db6001d",
   "execution_count": null
  },
  {
   "cell_type": "code",
   "outputs": [],
   "source": [
    "lig = prepped_complex.ligand\n",
    "lig.data"
   ],
   "metadata": {
    "collapsed": false
   },
   "id": "1b0896ac1775d422",
   "execution_count": null
  },
  {
   "cell_type": "code",
   "outputs": [],
   "source": [
    "oemol = lig.to_oemol()"
   ],
   "metadata": {
    "collapsed": false
   },
   "id": "2edd8377fde5097",
   "execution_count": null
  },
  {
   "cell_type": "code",
   "outputs": [],
   "source": [
    "ligs = []\n",
    "for mol in oequacpac.OEEnumerateFormalCharges(oemol):\n",
    "    ligs.append(Ligand.from_oemol(mol, **lig.dict()))"
   ],
   "metadata": {
    "collapsed": false
   },
   "id": "b8cd138d2571ed3c",
   "execution_count": null
  },
  {
   "cell_type": "code",
   "outputs": [],
   "source": [
    "print([lig.smiles for lig in ligs])"
   ],
   "metadata": {
    "collapsed": false
   },
   "id": "759f96b06f8df13",
   "execution_count": null
  },
  {
   "cell_type": "code",
   "outputs": [],
   "source": [
    "for i,lig in enumerate(ligs):\n",
    "    if i == 0:\n",
    "        lig.compound_name = \"deprotonated\"\n",
    "    else:\n",
    "        lig.compound_name = \"protonated\""
   ],
   "metadata": {
    "collapsed": false
   },
   "id": "f746a5a7bbc705ca",
   "execution_count": null
  },
  {
   "cell_type": "code",
   "outputs": [],
   "source": [
    "ligs.reverse()"
   ],
   "metadata": {
    "collapsed": false
   },
   "id": "e7efe852d77588bd",
   "execution_count": null
  },
  {
   "cell_type": "code",
   "outputs": [],
   "source": [
    "docking_input = DockingInputPair(complex=prepped_complex, ligand=prepped_complex.ligand)"
   ],
   "metadata": {
    "collapsed": false
   },
   "id": "71c41992819c562b",
   "execution_count": null
  },
  {
   "cell_type": "code",
   "outputs": [],
   "source": [
    "docking_result = DockingResult(input_pair=docking_input,posed_ligand=prepped_complex.ligand,provenance={\"test\": \"test\"})"
   ],
   "metadata": {
    "collapsed": false
   },
   "id": "7df8ae7d60d56344",
   "execution_count": null
  },
  {
   "cell_type": "code",
   "outputs": [],
   "source": [
    "docking_results = []\n",
    "for lig in ligs:\n",
    "    docking_input = DockingInputPair(complex=prepped_complex, ligand=lig)\n",
    "    docking_result = DockingResult(input_pair=docking_input,posed_ligand=lig,provenance=lig.provenance)\n",
    "    docking_results.append(docking_result)"
   ],
   "metadata": {
    "collapsed": false
   },
   "id": "527fc123ef0acbcb",
   "execution_count": null
  },
  {
   "cell_type": "code",
   "outputs": [],
   "source": [
    "docking_results"
   ],
   "metadata": {
    "collapsed": false
   },
   "id": "fef7ffc153d4f341",
   "execution_count": null
  },
  {
   "cell_type": "code",
   "outputs": [],
   "source": [
    "docking_result.write_docking_files(\".\")"
   ],
   "metadata": {
    "collapsed": false
   },
   "id": "22adf37234cd8a6f",
   "execution_count": null
  },
  {
   "cell_type": "code",
   "outputs": [],
   "source": [
    "chemgauss_scorer = ChemGauss4Scorer()"
   ],
   "metadata": {
    "collapsed": false
   },
   "id": "6db7c0b5c0f65ce8",
   "execution_count": null
  },
  {
   "cell_type": "code",
   "outputs": [],
   "source": [
    "scores = chemgauss_scorer.score(docking_results, return_df=True)"
   ],
   "metadata": {
    "collapsed": false
   },
   "id": "8824f2b59a79d1fd",
   "execution_count": null
  },
  {
   "cell_type": "code",
   "outputs": [],
   "source": [
    "scores"
   ],
   "metadata": {
    "collapsed": false
   },
   "id": "8db396fab7283c5f",
   "execution_count": null
  },
  {
   "cell_type": "markdown",
   "source": [
    "# Use constrained pose generation"
   ],
   "metadata": {
    "collapsed": false
   },
   "id": "f60c00e3aedfdada"
  },
  {
   "cell_type": "code",
   "outputs": [],
   "source": [
    "from asapdiscovery.docking.schema.pose_generation import OpenEyeConstrainedPoseGenerator"
   ],
   "metadata": {
    "collapsed": false
   },
   "id": "fd1d60bc64bcd4c8",
   "execution_count": null
  },
  {
   "cell_type": "code",
   "outputs": [],
   "source": [
    "pose_gen = OpenEyeConstrainedPoseGenerator()"
   ],
   "metadata": {
    "collapsed": false
   },
   "id": "d19dfc897a3cd279",
   "execution_count": null
  },
  {
   "cell_type": "code",
   "outputs": [],
   "source": [
    "poses = pose_gen.generate_poses(prepped_complex, ligs)"
   ],
   "metadata": {
    "collapsed": false
   },
   "id": "b6f6c643ad3a627d",
   "execution_count": null
  },
  {
   "cell_type": "code",
   "outputs": [],
   "source": [
    "for lig in poses.posed_ligands:\n",
    "    lig.to_sdf(f\"{lig.smiles}.sdf\")"
   ],
   "metadata": {
    "collapsed": false
   },
   "id": "e61cf9f4a16a82b3",
   "execution_count": null
  },
  {
   "cell_type": "code",
   "outputs": [],
   "source": [
    "docking_results = []\n",
    "for lig in poses.posed_ligands:\n",
    "    docking_input = DockingInputPair(complex=prepped_complex, ligand=lig)\n",
    "    docking_result = DockingResult(input_pair=docking_input,posed_ligand=lig,provenance=lig.provenance)\n",
    "    docking_results.append(docking_result)"
   ],
   "metadata": {
    "collapsed": false
   },
   "id": "74d0f495d2d3e752",
   "execution_count": null
  },
  {
   "cell_type": "code",
   "outputs": [],
   "source": [
    "chemgauss_scorer = ChemGauss4Scorer()\n",
    "scores = chemgauss_scorer.score(docking_results, return_df=True)"
   ],
   "metadata": {
    "collapsed": false
   },
   "id": "79d98389ccdbf839",
   "execution_count": null
  },
  {
   "cell_type": "code",
   "outputs": [],
   "source": [
    "scores"
   ],
   "metadata": {
    "collapsed": false
   },
   "id": "9d5d57ff22eba2d",
   "execution_count": null
  },
  {
   "cell_type": "markdown",
   "source": [
    "## the difference in score means that the change in protonation state of the ligand does affect the score"
   ],
   "metadata": {
    "collapsed": false
   },
   "id": "13773c3c37043b33"
  },
  {
   "cell_type": "markdown",
   "source": [
    "strangely, the protonated ligand has a lower score than the deprotonated ligand"
   ],
   "metadata": {
    "collapsed": false
   },
   "id": "3b5a99d715429f2f"
  },
  {
   "cell_type": "code",
   "outputs": [],
   "source": [
    "for result in docking_results:\n",
    "    result.write_docking_files(f\"{result.input_pair.ligand.compound_name}\")"
   ],
   "metadata": {
    "collapsed": false
   },
   "id": "2d45e148fae18798",
   "execution_count": null
  },
  {
   "cell_type": "code",
   "outputs": [],
   "source": [],
   "metadata": {
    "collapsed": false
   },
   "id": "9399db8c05d7500a",
   "execution_count": null
  },
  {
   "cell_type": "code",
   "outputs": [],
   "source": [
    "protonated_complex = Complex.from_pdb(\"protonated/test-mock_hash+JZJCSVMJFIAMQB-DLYUOGNHNA-N_protonated-JZJCSVMJFIAMQB-YZUISDQHNA-O/docked_complex.pdb\", target_kwargs=dict(target_name=\"test\"), ligand_kwargs=dict(compound_name=\"protonated\"))"
   ],
   "metadata": {
    "collapsed": false
   },
   "id": "70bbaa526cfd4ec0",
   "execution_count": null
  },
  {
   "cell_type": "code",
   "outputs": [],
   "source": [
    "deprotonated_complex = Complex.from_pdb(\"deprotonated/test-mock_hash+JZJCSVMJFIAMQB-DLYUOGNHNA-N_deprotonated-JZJCSVMJFIAMQB-DLYUOGNHNA-N/docked_complex.pdb\", target_kwargs=dict(target_name=\"test\"), ligand_kwargs=dict(compound_name=\"deprotonated\"))"
   ],
   "metadata": {
    "collapsed": false
   },
   "id": "ff10ffc4a7e7ddb3",
   "execution_count": null
  },
  {
   "cell_type": "code",
   "outputs": [],
   "source": [
    "scorer = ChemGauss4Scorer()"
   ],
   "metadata": {
    "collapsed": false
   },
   "id": "5828c82473ad095f",
   "execution_count": null
  },
  {
   "cell_type": "code",
   "outputs": [],
   "source": [
    "scorer.score([protonated_complex, deprotonated_complex])"
   ],
   "metadata": {
    "collapsed": false
   },
   "id": "208c9c587181b1dd",
   "execution_count": null
  },
  {
   "cell_type": "code",
   "outputs": [],
   "source": [
    "prepped_complexes = [PreppedComplex.from_complex(complex) for complex in [protonated_complex, deprotonated_complex]]"
   ],
   "metadata": {
    "collapsed": false
   },
   "id": "2a3a3a9f447da29e",
   "execution_count": null
  },
  {
   "cell_type": "code",
   "outputs": [],
   "source": [
    "scorer = ChemGauss4Scorer()\n",
    "scorer.score(prepped_complexes)"
   ],
   "metadata": {
    "collapsed": false
   },
   "id": "15e4792d42794624",
   "execution_count": null
  },
  {
   "cell_type": "code",
   "outputs": [],
   "source": [
    "from openeye import oedocking"
   ],
   "metadata": {
    "collapsed": false
   },
   "id": "9e796ad799255054",
   "execution_count": null
  },
  {
   "cell_type": "code",
   "outputs": [],
   "source": [
    "scores = []\n",
    "for complex in prepped_complexes:\n",
    "    posed_mol = complex.ligand.to_oemol()\n",
    "    pose_scorer = oedocking.OEScore(oedocking.OEScoreType_Chemgauss4)\n",
    "    du = complex.target.to_oedu()\n",
    "    pose_scorer.Initialize(du)\n",
    "    chemgauss_score = pose_scorer.ScoreLigand(posed_mol)\n",
    "    scores.append((complex.ligand.compound_name, chemgauss_score))"
   ],
   "metadata": {
    "collapsed": false
   },
   "id": "e6f9d4951725ec01",
   "execution_count": null
  },
  {
   "cell_type": "code",
   "outputs": [],
   "source": [
    "print([c.ligand.smiles for c in prepped_complexes])"
   ],
   "metadata": {
    "collapsed": false
   },
   "id": "287818e3328af1e2",
   "execution_count": null
  },
  {
   "cell_type": "code",
   "outputs": [],
   "source": [
    "for c in prepped_complexes:\n",
    "    c.ligand.to_sdf(f\"{c.ligand.compound_name}.sdf\")"
   ],
   "metadata": {
    "collapsed": false
   },
   "id": "99a2bc5e94cbbfa7",
   "execution_count": null
  },
  {
   "cell_type": "markdown",
   "source": [
    "# this doesn't work because after prepping the complexes, the sdf files are the same"
   ],
   "metadata": {
    "collapsed": false
   },
   "id": "14f3255cc376f2ba"
  },
  {
   "cell_type": "code",
   "outputs": [],
   "source": [],
   "metadata": {
    "collapsed": false
   },
   "id": "5a6317f67f61266f",
   "execution_count": null
  },
  {
   "cell_type": "code",
   "outputs": [],
   "source": [
    "scores = []\n",
    "for prepped_complex in prepped_complexes:\n",
    "    pose_scorer = oedocking.OEScore(oedocking.OEScoreType_Chemgauss4)\n",
    "    du = prepped_complex.target.to_oedu()\n",
    "    pose_scorer.Initialize(du)\n",
    "    for complex in [protonated_complex, deprotonated_complex]:\n",
    "        posed_mol = complex.ligand.to_oemol()\n",
    "        chemgauss_score = pose_scorer.ScoreLigand(posed_mol)\n",
    "        scores.append((f\"Prepped Complex: {prepped_complex.ligand.compound_name}\", complex.ligand.compound_name, chemgauss_score))"
   ],
   "metadata": {
    "collapsed": false
   },
   "id": "189dc7cfb3a01ec1",
   "execution_count": null
  },
  {
   "cell_type": "code",
   "outputs": [],
   "source": [
    "scores"
   ],
   "metadata": {
    "collapsed": false
   },
   "id": "ffe41170da9018b",
   "execution_count": null
  },
  {
   "cell_type": "code",
   "outputs": [],
   "source": [
    "from asapdiscovery.data.backend.openeye import save_openeye_sdfs"
   ],
   "metadata": {
    "collapsed": false
   },
   "id": "42a6406a5dc17466",
   "execution_count": null
  },
  {
   "cell_type": "code",
   "outputs": [],
   "source": [
    "save_openeye_sdfs([c.ligand.to_oemol() for c in [protonated_complex, deprotonated_complex]], \"multiligand.sdf\")"
   ],
   "metadata": {
    "collapsed": false
   },
   "id": "5a735053706a1a61",
   "execution_count": null
  },
  {
   "cell_type": "code",
   "outputs": [],
   "source": [
    "from openeye import oeshape\n",
    "# Prepare reference molecule for calculation\n",
    "# With default options this will remove any explicit\n",
    "# hydrogens present, and add required color atoms\n",
    "refmol = protonated_complex.ligand.to_oemol()\n",
    "fitmol = deprotonated_complex.ligand.to_oemol()\n",
    "prep = oeshape.OEOverlapPrep()\n",
    "prep.Prep(refmol)\n",
    "\n",
    "# Get appropriate function to calculate exact color\n",
    "func = oeshape.OEOverlapFunc()\n",
    "func.SetupRef(refmol)\n",
    "\n",
    "res = oeshape.OEOverlapResults()\n",
    "prep.Prep(fitmol)\n",
    "func.Overlap(fitmol, res)\n",
    "print(\"title: %s  color score = %.2f\" %\n",
    "      (fitmol.GetTitle(), res.GetColorTanimoto()))"
   ],
   "metadata": {
    "collapsed": false
   },
   "id": "8d9c1f9cbeeaab99",
   "execution_count": null
  },
  {
   "cell_type": "code",
   "outputs": [],
   "source": [
    "res.GetColorScore()"
   ],
   "metadata": {
    "collapsed": false
   },
   "id": "851faeed0ca1e21",
   "execution_count": null
  },
  {
   "cell_type": "code",
   "outputs": [],
   "source": [],
   "metadata": {
    "collapsed": false
   },
   "id": "6e8683f1306bafd8"
  }
 ],
 "metadata": {
  "kernelspec": {
   "display_name": "Python 3",
   "language": "python",
   "name": "python3"
  },
  "language_info": {
   "codemirror_mode": {
    "name": "ipython",
    "version": 2
   },
   "file_extension": ".py",
   "mimetype": "text/x-python",
   "name": "python",
   "nbconvert_exporter": "python",
   "pygments_lexer": "ipython2",
   "version": "2.7.6"
  }
 },
 "nbformat": 4,
 "nbformat_minor": 5
}
