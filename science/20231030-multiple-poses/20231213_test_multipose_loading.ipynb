{
 "cells": [
  {
   "cell_type": "markdown",
   "id": "6603c105-fbc7-4fd1-bf65-ef3884fa59fb",
   "metadata": {},
   "source": [
    "# Imports"
   ]
  },
  {
   "cell_type": "code",
   "execution_count": null,
   "id": "313a5043-e239-4267-add7-4f636902fe25",
   "metadata": {},
   "outputs": [],
   "source": [
    "from tqdm import tqdm\n",
    "import pandas as pd, numpy as np\n",
    "import plotly.express as px\n",
    "from plotly.graph_objs import Figure\n",
    "from pathlib import Path\n",
    "from importlib import reload\n",
    "import software.analysis as a\n",
    "from asapdiscovery.data.schema_v2.ligand import Ligand\n",
    "reload(a)"
   ]
  },
  {
   "cell_type": "markdown",
   "id": "186fc1f3-136e-4593-a7b0-7e336b3ea333",
   "metadata": {},
   "source": [
    "# Load Paths"
   ]
  },
  {
   "cell_type": "code",
   "execution_count": null,
   "id": "b465deb9-81d8-4060-879d-18467f69a768",
   "metadata": {
    "tags": []
   },
   "outputs": [],
   "source": [
    "import sys\n",
    "sys.path.append(str(Path(\"../../../\").resolve()))\n",
    "from software.paths import paths"
   ]
  },
  {
   "cell_type": "code",
   "execution_count": null,
   "id": "84229a5a-eac5-451e-b6f6-e9deb1b0b05f",
   "metadata": {
    "tags": []
   },
   "outputs": [],
   "source": [
    "datadir = Path(\"/Users/alexpayne/Scientific_Projects/mers-drug-discovery/sars2-retrospective-analysis/20231030_cross_docked_hybrid_p_only_2d_50poses/\")"
   ]
  },
  {
   "cell_type": "code",
   "execution_count": null,
   "id": "b92c6c52-0f43-49c6-9ce5-e9d6a17f107b",
   "metadata": {},
   "outputs": [],
   "source": [
    "csvs = [pd.read_csv(csv) for csv in tqdm(datadir.glob(\"*.csv\"))]"
   ]
  },
  {
   "cell_type": "code",
   "execution_count": null,
   "id": "3572f02f-3e50-4635-b434-25df3c992374",
   "metadata": {},
   "outputs": [],
   "source": [
    "df = pd.concat(csvs)"
   ]
  },
  {
   "cell_type": "code",
   "execution_count": null,
   "id": "fb28a9b9-827b-4219-ad0f-9e702cb4374d",
   "metadata": {},
   "outputs": [],
   "source": [
    "df"
   ]
  },
  {
   "cell_type": "code",
   "execution_count": null,
   "id": "ececda2a-3eac-4e60-bc39-fbb9b0299bf3",
   "metadata": {},
   "outputs": [],
   "source": [
    "results_count = df.groupby([\"ligand_id\", \"du_structure\"]).count()['docked_file']"
   ]
  },
  {
   "cell_type": "markdown",
   "id": "7ccb521f-076e-449e-9777-56915b36fbaf",
   "metadata": {},
   "source": [
    "# Get unique structures"
   ]
  },
  {
   "cell_type": "code",
   "execution_count": null,
   "id": "4ce98e3b-2af3-4b7d-8700-3904bb09d38f",
   "metadata": {},
   "outputs": [],
   "source": [
    "structs = df.du_structure.unique()"
   ]
  },
  {
   "cell_type": "code",
   "execution_count": null,
   "id": "e45b195b-5931-4de8-8314-24e8cfa6d8c9",
   "metadata": {},
   "outputs": [],
   "source": [
    "len(structs)"
   ]
  },
  {
   "cell_type": "code",
   "execution_count": null,
   "id": "ae7ff3b7-59e3-4bfb-8a52-04613fa74e0d",
   "metadata": {},
   "outputs": [],
   "source": [
    "sdf_dir = Path(\"/Users/alexpayne/Scientific_Projects/mers-drug-discovery/sars2-retrospective-analysis/full_frag_prepped_mpro_20230603/sdf_lsf_array_p_only_by_name/\")"
   ]
  },
  {
   "cell_type": "code",
   "execution_count": null,
   "id": "720a89ee-184f-4b6d-8fd3-d403d363c387",
   "metadata": {},
   "outputs": [],
   "source": [
    "ligs = [Ligand.from_sdf(sdf) for sdf in sdf_dir.glob(\"*.sdf\")]"
   ]
  },
  {
   "cell_type": "code",
   "execution_count": null,
   "id": "a1f1be3a-f42e-4cd0-8370-c1689ec99665",
   "metadata": {},
   "outputs": [],
   "source": [
    "lig_dict = {lig.tags[\"Dataset\"]: lig for lig in ligs}"
   ]
  },
  {
   "cell_type": "markdown",
   "id": "77f252ad-d900-4ab1-b1ff-92280fe82d1c",
   "metadata": {},
   "source": [
    "## load docked mols"
   ]
  },
  {
   "cell_type": "code",
   "execution_count": null,
   "id": "ebcb69ff-fb79-4733-b309-6bb790184d12",
   "metadata": {},
   "outputs": [],
   "source": [
    "docked_sdfs = [path for path in Path(\"/Users/alexpayne/Scientific_Projects/mers-drug-discovery/sars2-retrospective-analysis/20231030_cross_docked_hybrid_p_only_2d_50poses/\").glob(\"*/*.sdf\")]"
   ]
  },
  {
   "cell_type": "markdown",
   "id": "75e0da44-f173-4f88-b304-fa0010e36361",
   "metadata": {},
   "source": [
    "# Test loading MCMols"
   ]
  },
  {
   "cell_type": "code",
   "execution_count": null,
   "id": "4e5ff6a5-c0ad-49b1-9484-f9e8259e46db",
   "metadata": {},
   "outputs": [],
   "source": [
    "from asapdiscovery.data.openeye import oechem"
   ]
  },
  {
   "cell_type": "code",
   "execution_count": null,
   "id": "514b0ca3-1d1f-434c-b012-3e9598521f36",
   "metadata": {},
   "outputs": [],
   "source": [
    "import copy\n",
    "from asapdiscovery.data.openeye import (\n",
    "    _set_SD_data_repr,\n",
    "    clear_SD_data,\n",
    "    get_SD_data,\n",
    "    load_openeye_sdf,\n",
    "    oechem,\n",
    "    oemol_to_inchi,\n",
    "    oemol_to_inchikey,\n",
    "    oemol_to_sdf_string,\n",
    "    oemol_to_smiles,\n",
    "    oequacpac,\n",
    "    sdf_string_to_oemol,\n",
    "    smiles_to_oemol,\n",
    ")\n",
    "from asapdiscovery.data.schema_v2.identifiers import LigandIdentifiers, LigandProvenance\n",
    "from asapdiscovery.data.schema_v2.schema_base import DataStorageType\n",
    "from asapdiscovery.data.state_expanders.expansion_tag import StateExpansionTag\n",
    "from pydantic import Field, root_validator, validator\n",
    "def from_oemol(mol: oechem.OEMol, **kwargs) -> \"Ligand\":\n",
    "    \"\"\"\n",
    "    Create a Ligand from an OEMol extracting all SD tags into the internal model\n",
    "    \"\"\"\n",
    "    # work with a copy as we change the state of the molecule\n",
    "    input_mol = copy.deepcopy(mol)\n",
    "    kwargs.pop(\"data\", None)\n",
    "    sd_tags = get_SD_data(input_mol)\n",
    "    for key, value in sd_tags.items():\n",
    "        try:\n",
    "            # check to see if we have JSON of a model field\n",
    "            kwargs[key] = json.loads(value)\n",
    "        except json.JSONDecodeError:\n",
    "            kwargs[key] = value\n",
    "\n",
    "    # extract all info as a tag if it has no field on the model\n",
    "    tags = {\n",
    "        (key, value)\n",
    "        for key, value in kwargs.items()\n",
    "        if key not in cls.__fields__.keys()\n",
    "    }\n",
    "    kwargs[\"tags\"] = tags\n",
    "    # clean the sdf data for the internal model\n",
    "    sdf_str = oemol_to_sdf_string(clear_SD_data(input_mol))\n",
    "    # create a smiles which does not have nitrogen stereo\n",
    "    smiles = oemol_to_smiles(input_mol)\n",
    "    # create the internal LigandProvenance model\n",
    "    if \"provenance\" not in kwargs:\n",
    "        provenance = LigandProvenance(\n",
    "            isomeric_smiles=smiles,\n",
    "            inchi=oemol_to_inchi(input_mol),\n",
    "            inchi_key=oemol_to_inchikey(input_mol),\n",
    "            fixed_inchi=oemol_to_inchi(input_mol, fixed_hydrogens=True),\n",
    "            fixed_inchikey=oemol_to_inchikey(input_mol, fixed_hydrogens=True),\n",
    "        )\n",
    "        kwargs[\"provenance\"] = provenance\n",
    "    # check for an openeye title which could be used as a compound name\n",
    "    if mol.GetTitle() != \"\" and kwargs.get(\"compound_name\") is None:\n",
    "        kwargs[\"compound_name\"] = mol.GetTitle()\n",
    "\n",
    "    return Ligand(data=sdf_str, **kwargs)"
   ]
  },
  {
   "cell_type": "code",
   "execution_count": null,
   "id": "5744d561-b680-4fbb-b7b9-fdb09a3fe660",
   "metadata": {},
   "outputs": [],
   "source": [
    "ifs = oechem.oemolistream(str(docked_sdfs[0]))\n",
    "ifs.SetConfTest(oechem.OEOmegaConfTest())\n",
    "for mol in ifs.GetOEMols():\n",
    "    print(mol.GetTitle(), \"has\", mol.NumConfs(), \"conformers\")\n",
    "    # lig = from_oemol(mol)\n",
    "    mol = copy.deepcopy(mol)\n",
    "    print(\"hi\")"
   ]
  },
  {
   "cell_type": "code",
   "execution_count": null,
   "id": "716abf9f-53f3-4538-95fd-e6e9ba6b29c7",
   "metadata": {},
   "outputs": [],
   "source": [
    "get_SD_data(mol)"
   ]
  },
  {
   "cell_type": "code",
   "execution_count": null,
   "id": "1403f5f9-0b09-4eb6-ab4d-b2d131b59b3c",
   "metadata": {},
   "outputs": [],
   "source": [
    "pairs = {dp.GetTag(): dp.GetValue() for dp in oechem.OEGetSDDataPairs(mol)}"
   ]
  },
  {
   "cell_type": "code",
   "execution_count": null,
   "id": "017d2070-0869-48f0-a4a7-4edacaac5763",
   "metadata": {},
   "outputs": [],
   "source": [
    "confs = [conf for conf in mol.GetConfIter()]"
   ]
  },
  {
   "cell_type": "code",
   "execution_count": null,
   "id": "c539d19b-870b-4293-ab46-7b8579e6fe68",
   "metadata": {},
   "outputs": [],
   "source": [
    "get_SD_data(confs[0])"
   ]
  },
  {
   "cell_type": "code",
   "execution_count": null,
   "id": "4f57fd37-4fb2-4c3e-86c2-4ab3a3e334f4",
   "metadata": {},
   "outputs": [],
   "source": [
    "get_SD_data(mol.GetActive())"
   ]
  },
  {
   "cell_type": "code",
   "execution_count": null,
   "id": "2ad82f3d-6fa4-4d0b-97a6-e76eed355438",
   "metadata": {},
   "outputs": [],
   "source": [
    "mol"
   ]
  },
  {
   "cell_type": "code",
   "execution_count": null,
   "id": "2fe16e69-62ee-4c2a-a2f2-d9334d85dd27",
   "metadata": {},
   "outputs": [],
   "source": [
    "mol.NumConfs()"
   ]
  },
  {
   "cell_type": "code",
   "execution_count": null,
   "id": "342d2cfb-9853-44d1-98e7-c79d5d675cf9",
   "metadata": {},
   "outputs": [],
   "source": [
    "from asapdiscovery.data import openeye as oe"
   ]
  },
  {
   "cell_type": "code",
   "execution_count": null,
   "id": "33348b42-24bf-4662-a223-3fde433b7833",
   "metadata": {},
   "outputs": [],
   "source": [
    "reload(oe)"
   ]
  },
  {
   "cell_type": "code",
   "execution_count": null,
   "id": "d63268cb-4d53-42b1-9975-fdfc31aad3a6",
   "metadata": {},
   "outputs": [],
   "source": [
    "multiconf = oe.load_openeye_multiconf_sdf(docked_sdfs[0])"
   ]
  },
  {
   "cell_type": "code",
   "execution_count": null,
   "id": "6e093a8b-c674-48ab-a429-8d2e32ada8c2",
   "metadata": {},
   "outputs": [],
   "source": [
    "multiconf.NumConfs()"
   ]
  },
  {
   "cell_type": "code",
   "execution_count": null,
   "id": "e6559119-e107-4720-ac37-fd03287a40a8",
   "metadata": {},
   "outputs": [],
   "source": [
    "def load_openeye_multiconf_sdf(sdf_fn):\n",
    "    if not Path(sdf_fn).exists():\n",
    "        raise FileNotFoundError(f\"{sdf_fn} does not exist!\")\n",
    "\n",
    "    ifs = oechem.oemolistream()\n",
    "    ifs.SetFlavor(\n",
    "        oechem.OEFormat_SDF,\n",
    "        oechem.OEIFlavor_SDF_Default,\n",
    "    )\n",
    "    ifs.SetConfTest(oechem.OEOmegaConfTest())\n",
    "    if ifs.open(str(sdf_fn)):\n",
    "        for mol in ifs.GetOEMols():\n",
    "            return mol\n",
    "        ifs.close()\n",
    "    else:\n",
    "        oechem.OEThrow.Fatal(f\"Unable to open {sdf_fn}\")"
   ]
  },
  {
   "cell_type": "code",
   "execution_count": null,
   "id": "3d1a68f9-6274-402d-ac90-a20a8f47c599",
   "metadata": {},
   "outputs": [],
   "source": [
    "multiconf = load_openeye_multiconf_sdf(docked_sdfs[0])"
   ]
  },
  {
   "cell_type": "code",
   "execution_count": null,
   "id": "faca072d-0308-4486-9264-3cb0b6595af3",
   "metadata": {
    "scrolled": true
   },
   "outputs": [],
   "source": [
    "for conf in multiconf.GetConfIter():\n",
    "    print(get_SD_data(conf))"
   ]
  }
 ],
 "metadata": {
  "kernelspec": {
   "display_name": "Python 3 (ipykernel)",
   "language": "python",
   "name": "python3"
  },
  "language_info": {
   "codemirror_mode": {
    "name": "ipython",
    "version": 3
   },
   "file_extension": ".py",
   "mimetype": "text/x-python",
   "name": "python",
   "nbconvert_exporter": "python",
   "pygments_lexer": "ipython3",
   "version": "3.10.13"
  }
 },
 "nbformat": 4,
 "nbformat_minor": 5
}
