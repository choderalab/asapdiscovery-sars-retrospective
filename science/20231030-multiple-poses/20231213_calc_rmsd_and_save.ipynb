{
 "cells": [
  {
   "cell_type": "markdown",
   "id": "747077cb-2d49-423c-8919-b3efc9a63923",
   "metadata": {
    "pycharm": {
     "is_executing": true
    }
   },
   "source": [
    "# Imports"
   ]
  },
  {
   "cell_type": "code",
   "execution_count": null,
   "id": "eddd3588-1091-45c2-a180-a5799ff95bce",
   "metadata": {
    "pycharm": {
     "is_executing": true
    },
    "tags": []
   },
   "outputs": [],
   "source": [
    "from tqdm import tqdm\n",
    "import pandas as pd, numpy as np\n",
    "import plotly.express as px\n",
    "from plotly.graph_objs import Figure\n",
    "from pathlib import Path\n",
    "from importlib import reload\n",
    "import software.analysis as a\n",
    "from asapdiscovery.data.schema.ligand import Ligand\n",
    "reload(a)"
   ]
  },
  {
   "cell_type": "markdown",
   "id": "2a905c13-424f-41ab-8c8d-6a62de1891d3",
   "metadata": {},
   "source": [
    "# Load Paths"
   ]
  },
  {
   "cell_type": "code",
   "execution_count": null,
   "id": "cf83fb9f-7054-49b7-a428-72fca3843b1a",
   "metadata": {
    "tags": []
   },
   "outputs": [],
   "source": [
    "datadir = Path(\"/Users/alexpayne/Scientific_Projects/mers-drug-discovery/sars2-retrospective-analysis/20231030_cross_docked_hybrid_p_only_2d_50poses/\")"
   ]
  },
  {
   "cell_type": "code",
   "execution_count": null,
   "id": "a0412dad-4748-4c45-9e24-6ae47866954e",
   "metadata": {},
   "outputs": [],
   "source": [
    "csvs = [pd.read_csv(csv) for csv in tqdm(datadir.glob(\"*.csv\"))]"
   ]
  },
  {
   "cell_type": "code",
   "execution_count": null,
   "id": "2155cb05-21d4-4248-92b9-46197e409d3b",
   "metadata": {},
   "outputs": [],
   "source": [
    "df = pd.concat(csvs)"
   ]
  },
  {
   "cell_type": "code",
   "execution_count": null,
   "id": "5203550d-ff9d-4a45-b071-47b14924f067",
   "metadata": {},
   "outputs": [],
   "source": [
    "len(df)"
   ]
  },
  {
   "cell_type": "code",
   "execution_count": null,
   "id": "f985fecc-2f79-47ef-9fce-5bc0c3517ede",
   "metadata": {},
   "outputs": [],
   "source": [
    "results_count = df.groupby([\"ligand_id\", \"du_structure\"]).count()['docked_file']"
   ]
  },
  {
   "cell_type": "markdown",
   "id": "c187baf2-3b01-42ad-9bdf-5719f028a0f0",
   "metadata": {},
   "source": [
    "# Get unique structures"
   ]
  },
  {
   "cell_type": "code",
   "execution_count": null,
   "id": "6ae82002-f901-4f5d-b5f0-59e584cbff29",
   "metadata": {},
   "outputs": [],
   "source": [
    "structs = df.du_structure.unique()"
   ]
  },
  {
   "cell_type": "code",
   "execution_count": null,
   "id": "c2253460-b398-440f-823b-c2fd0eb53328",
   "metadata": {},
   "outputs": [],
   "source": [
    "len(structs)"
   ]
  },
  {
   "cell_type": "code",
   "execution_count": null,
   "id": "3021a05e-beaa-4425-9143-34efcd83c79d",
   "metadata": {},
   "outputs": [],
   "source": [
    "sdf_dir = Path(\"/Users/alexpayne/Scientific_Projects/mers-drug-discovery/sars2-retrospective-analysis/full_frag_prepped_mpro_20230603/sdf_lsf_array_p_only_by_name/\")"
   ]
  },
  {
   "cell_type": "code",
   "execution_count": null,
   "id": "ccce2562-efbf-4762-bb55-fb9f1b8287ca",
   "metadata": {},
   "outputs": [],
   "source": [
    "ligs = [Ligand.from_sdf(sdf) for sdf in sdf_dir.glob(\"*.sdf\")]"
   ]
  },
  {
   "cell_type": "code",
   "execution_count": null,
   "id": "6713bcc2-02be-4581-a953-d0e878f39a87",
   "metadata": {},
   "outputs": [],
   "source": [
    "lig_dict = {lig.tags[\"Dataset\"]: lig for lig in ligs}"
   ]
  },
  {
   "cell_type": "markdown",
   "id": "10a9d9d5-1c74-4095-b0b0-41707dd54200",
   "metadata": {},
   "source": [
    "## load docked mols"
   ]
  },
  {
   "cell_type": "code",
   "execution_count": null,
   "id": "4e5f736a-13fd-4701-ab5b-f1ed6f5c79ea",
   "metadata": {},
   "outputs": [],
   "source": [
    "docked_sdfs = [path for path in Path(\"/Users/alexpayne/Scientific_Projects/mers-drug-discovery/sars2-retrospective-analysis/20231030_cross_docked_hybrid_p_only_2d_50poses/\").glob(\"*/*.sdf\")]"
   ]
  },
  {
   "cell_type": "markdown",
   "id": "19dffaa7-c80a-4ff3-aeac-1a2fb2be0bee",
   "metadata": {},
   "source": [
    "## since these are multipose sdf files, I'll use a MolFileFactory"
   ]
  },
  {
   "cell_type": "code",
   "execution_count": null,
   "id": "8ac58482-b303-40f6-9c36-82b41a967c69",
   "metadata": {},
   "outputs": [],
   "source": [
    "from asapdiscovery.data.readers.molfile import MolFileFactory"
   ]
  },
  {
   "cell_type": "code",
   "execution_count": null,
   "id": "c9692a8a-10dd-46ee-a9b3-ab526381fe7c",
   "metadata": {},
   "outputs": [],
   "source": [
    "shortened_list = docked_sdfs[0:10]"
   ]
  },
  {
   "cell_type": "code",
   "execution_count": null,
   "id": "f160eb1d-5927-4368-ae8a-1f4077a79056",
   "metadata": {},
   "outputs": [],
   "source": [
    "docked_ligs = [ligand for sdf in tqdm(docked_sdfs) for ligand in MolFileFactory(filename=sdf).load()]"
   ]
  },
  {
   "cell_type": "code",
   "execution_count": null,
   "id": "a5bc1224-4292-4f08-a719-725c0d056fcf",
   "metadata": {},
   "outputs": [],
   "source": [
    "len(docked_sdfs)"
   ]
  },
  {
   "cell_type": "code",
   "execution_count": null,
   "id": "f3445aca-012d-4807-839e-c84e76e5ccc0",
   "metadata": {},
   "outputs": [],
   "source": [
    "f\"Mpro{docked_ligs[0].compound_name.split('_Mpro')[1]}\""
   ]
  },
  {
   "cell_type": "code",
   "execution_count": null,
   "id": "44d6bb5f-a214-4f45-ab85-1f84d55ec51e",
   "metadata": {},
   "outputs": [],
   "source": [
    "from asapdiscovery.docking.analysis import calculate_rmsd_openeye"
   ]
  },
  {
   "cell_type": "markdown",
   "id": "a80e9ad7-cd90-46a7-96b3-065b5f31dcf5",
   "metadata": {},
   "source": [
    "## calculate RMSDs"
   ]
  },
  {
   "cell_type": "code",
   "execution_count": null,
   "id": "ae7399c1-b27a-4583-957e-246be94ea175",
   "metadata": {},
   "outputs": [],
   "source": [
    "compound_ids = []\n",
    "datasets = []\n",
    "rmsds = []\n",
    "for lig in tqdm(docked_ligs):\n",
    "    dataset = f\"Mpro{lig.compound_name.split('_Mpro')[1]}\"\n",
    "    ref_lig = lig_dict[lig.tags[\"Dataset\"]]\n",
    "    compound_id = lig.tags[\"Compound_ID\"]\n",
    "    compound_ids.append(compound_id)\n",
    "    datasets.append(dataset)\n",
    "    rmsds.append(calculate_rmsd_openeye(ref_lig.to_oemol(), lig.to_oemol()))"
   ]
  },
  {
   "cell_type": "code",
   "execution_count": null,
   "id": "8a7e77bd-045b-424d-9b2f-3a0ab6990f59",
   "metadata": {},
   "outputs": [],
   "source": [
    "rmsd_df = pd.DataFrame({\"Compound_ID\": compound_ids, \"Dataset\": datasets, \"RMSD\": rmsds})"
   ]
  },
  {
   "cell_type": "code",
   "execution_count": null,
   "id": "88286948-1678-4845-a6f2-0dccd92ca46d",
   "metadata": {},
   "outputs": [],
   "source": [
    "rmsd_df[(rmsd_df[\"Compound_ID\"] ==\"ADA-UCB-6c2cb422-1\") & (rmsd_df[\"Dataset\"] == \"Mpro-P0008_0A\")]"
   ]
  },
  {
   "cell_type": "code",
   "execution_count": null,
   "id": "ddb0b255-ae6f-42b6-a4b4-6d7b845e7d49",
   "metadata": {},
   "outputs": [],
   "source": [
    "rmsd_df.groupby([\"Compound_ID\", \"Dataset\"]).count()"
   ]
  },
  {
   "cell_type": "code",
   "execution_count": null,
   "id": "d0e5e11e-33aa-4e53-945d-2de46d8cf678",
   "metadata": {},
   "outputs": [],
   "source": [
    "rmsd_df[\"Pose_ID\"] = rmsd_df.groupby([\"Compound_ID\", \"Dataset\"]).cumcount()"
   ]
  },
  {
   "cell_type": "code",
   "execution_count": null,
   "id": "2c688f72-892e-4616-87ae-32d9786b8487",
   "metadata": {},
   "outputs": [],
   "source": [
    "rmsd_df.columns = [\"ligand_id\", \"du_structure\", \"rmsd\", \"pose_id\"]"
   ]
  },
  {
   "cell_type": "code",
   "execution_count": null,
   "id": "19f9ec14-443e-4056-8ba5-ba7df245578c",
   "metadata": {},
   "outputs": [],
   "source": [
    "results_count"
   ]
  },
  {
   "cell_type": "code",
   "execution_count": null,
   "id": "5992c38b-77a9-4adb-a953-d8b160cb8895",
   "metadata": {},
   "outputs": [],
   "source": [
    "rmsd_count = rmsd_df.groupby([\"ligand_id\", \"du_structure\"]).count()[\"rmsd\"]"
   ]
  },
  {
   "cell_type": "code",
   "execution_count": null,
   "id": "a4301f83-313b-4556-951a-de4290679a14",
   "metadata": {},
   "outputs": [],
   "source": [
    "rmsd_count"
   ]
  },
  {
   "cell_type": "code",
   "execution_count": null,
   "id": "c1a95a88-5ce4-4c3e-9822-d577e51dfb72",
   "metadata": {},
   "outputs": [],
   "source": [
    "rmsd_df.nunique()"
   ]
  },
  {
   "cell_type": "code",
   "execution_count": null,
   "id": "adef9130-3fb6-4d67-9503-378f52c0d5f0",
   "metadata": {},
   "outputs": [],
   "source": [
    "df.nunique()"
   ]
  },
  {
   "cell_type": "code",
   "execution_count": null,
   "id": "3b8f15cc-4c66-4066-92de-bcc37b9203a3",
   "metadata": {},
   "outputs": [],
   "source": []
  },
  {
   "cell_type": "markdown",
   "id": "a52acaf0-3191-49ce-ac58-1d515a11377c",
   "metadata": {},
   "source": [
    "## save the RMSD data"
   ]
  },
  {
   "cell_type": "code",
   "execution_count": null,
   "id": "bc6cc65b-1b4d-463a-b061-3eea852a3e87",
   "metadata": {},
   "outputs": [],
   "source": [
    "rmsd_df.to_csv(\"calculated_rmsds.csv\")"
   ]
  },
  {
   "cell_type": "markdown",
   "id": "a5a6e6c1-8f67-45d1-9142-7ef95917cff0",
   "metadata": {},
   "source": [
    "# make dataframe of data from SD tags"
   ]
  },
  {
   "cell_type": "code",
   "execution_count": null,
   "id": "4df21e87-a13d-4c9b-8bc3-db76bc71f8e5",
   "metadata": {},
   "outputs": [],
   "source": [
    "shortened_list = docked_ligs[0:10]\n",
    "smiles = []\n",
    "clash = []\n",
    "chemgauss4 = []\n",
    "posit_method = []\n",
    "posit_score = []\n",
    "\n",
    "for lig in tqdm(docked_ligs):\n",
    "    smiles.append(lig.tags[\"SMILES\"])\n",
    "    clash.append(lig.tags[\"Docking_posit_hybrid_clash_clash\"])\n",
    "    chemgauss4.append(lig.tags[\"Docking_posit_hybrid_clash_Chemgauss4\"])\n",
    "    posit_method.append(lig.tags[\"Docking_posit_hybrid_clash_POSIT_method\"])\n",
    "    posit_score.append(lig.tags[\"Docking_posit_hybrid_clash_POSIT\"])"
   ]
  },
  {
   "cell_type": "code",
   "execution_count": null,
   "id": "c2508993-b96d-4e8d-b636-46a51588bd83",
   "metadata": {},
   "outputs": [],
   "source": []
  },
  {
   "cell_type": "code",
   "execution_count": null,
   "id": "5923d78f-7cc2-4a2b-a55f-3736e31afa0c",
   "metadata": {},
   "outputs": [],
   "source": [
    "data_df = pd.DataFrame({\"SMILES\": smiles, \n",
    "                        \"Chemgauss4\": chemgauss4, \n",
    "                        \"Clash\": clash, \n",
    "                        \"POSIT_Method\": posit_method, \n",
    "                        \"POSIT\": posit_score,\n",
    "                       \"Compound_ID\": compound_ids,\n",
    "                       \"Dataset\": datasets,\n",
    "                       \"Complex_ID\": [f\"{cmpd}_{dataset}\" for cmpd, dataset in zip(compound_ids, datasets)],\n",
    "                        \"RMSD\": rmsds\n",
    "                       })"
   ]
  },
  {
   "cell_type": "code",
   "execution_count": null,
   "id": "2f677e51-6d3f-4a82-8f65-8f4f615678a6",
   "metadata": {},
   "outputs": [],
   "source": [
    "data_df[\"Pose_ID\"] = data_df.groupby([\"Complex_ID\"]).cumcount()"
   ]
  },
  {
   "cell_type": "markdown",
   "id": "8a64afd3-be5f-424c-aeaf-b52121e41a48",
   "metadata": {},
   "source": [
    "### and save it"
   ]
  },
  {
   "cell_type": "code",
   "execution_count": null,
   "id": "e603b84b-1f85-43c5-b95e-987dfb0563b4",
   "metadata": {},
   "outputs": [],
   "source": [
    "data_df.to_csv(\"rmsd_data_with_all_info.csv\")"
   ]
  }
 ],
 "metadata": {
  "kernelspec": {
   "display_name": "Python 3 (ipykernel)",
   "language": "python",
   "name": "python3"
  },
  "language_info": {
   "codemirror_mode": {
    "name": "ipython",
    "version": 3
   },
   "file_extension": ".py",
   "mimetype": "text/x-python",
   "name": "python",
   "nbconvert_exporter": "python",
   "pygments_lexer": "ipython3",
   "version": "3.10.13"
  }
 },
 "nbformat": 4,
 "nbformat_minor": 5
}
