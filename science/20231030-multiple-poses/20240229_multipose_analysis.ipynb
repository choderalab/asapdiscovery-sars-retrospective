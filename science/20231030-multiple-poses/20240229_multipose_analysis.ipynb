{
 "cells": [
  {
   "cell_type": "markdown",
   "source": [
    "# Imports"
   ],
   "metadata": {
    "collapsed": false
   },
   "id": "32920b17e55380bd"
  },
  {
   "cell_type": "code",
   "outputs": [],
   "source": [
    "import numpy as np\n",
    "import matplotlib.pyplot as plt\n",
    "import pandas as pd\n",
    "import yaml\n",
    "from pathlib import Path\n",
    "from rdkit import Chem\n",
    "import plotly.express as px"
   ],
   "metadata": {
    "collapsed": false
   },
   "id": "3039ae77a3a4290f",
   "execution_count": null
  },
  {
   "cell_type": "markdown",
   "source": [
    "## paths"
   ],
   "metadata": {
    "collapsed": false
   },
   "id": "469422eafae6fbd9"
  },
  {
   "cell_type": "code",
   "outputs": [],
   "source": [
    "data_path = Path(\"../../data\")"
   ],
   "metadata": {
    "collapsed": false
   },
   "id": "d8922381971cb0ba",
   "execution_count": null
  },
  {
   "cell_type": "code",
   "outputs": [],
   "source": [
    "df = pd.read_csv('rmsd_data_with_all_info.csv', index_col=0)"
   ],
   "metadata": {
    "collapsed": false
   },
   "id": "ce573b89817f656c",
   "execution_count": null
  },
  {
   "cell_type": "code",
   "outputs": [],
   "source": [
    "df.head()"
   ],
   "metadata": {
    "collapsed": false
   },
   "id": "ec582be1398db786",
   "execution_count": null
  },
  {
   "cell_type": "code",
   "outputs": [],
   "source": [
    "df.groupby(['Dataset', 'Compound_ID']).nunique()"
   ],
   "metadata": {
    "collapsed": false
   },
   "id": "89c93b3602c5d38b",
   "execution_count": null
  },
  {
   "cell_type": "code",
   "outputs": [],
   "source": [
    "df['Reference_Ligand'] = df.Dataset.apply(lambda x: dataset_to_cmpd[\"_\".join(x.split('_')[:-1])])"
   ],
   "metadata": {
    "collapsed": false
   },
   "id": "2871c7149d717d05",
   "execution_count": null
  },
  {
   "cell_type": "code",
   "outputs": [],
   "source": [
    "sum(df['Compound_ID'] == df['Reference_Ligand'])"
   ],
   "metadata": {
    "collapsed": false
   },
   "id": "ecfacbcd86b48448",
   "execution_count": null
  },
  {
   "cell_type": "markdown",
   "source": [
    "# Data Preprocessing"
   ],
   "metadata": {
    "collapsed": false
   },
   "id": "36597a99d5c04ad6"
  },
  {
   "cell_type": "markdown",
   "source": [
    "## Remove pose duplicates"
   ],
   "metadata": {
    "collapsed": false
   },
   "id": "8d10931e011cfba2"
  },
  {
   "cell_type": "code",
   "outputs": [],
   "source": [
    "cols = [col for col in df.columns if not col == \"Pose_ID\"]"
   ],
   "metadata": {
    "collapsed": false
   },
   "id": "72229145fa3175b9",
   "execution_count": null
  },
  {
   "cell_type": "code",
   "outputs": [],
   "source": [
    "df1 = df.drop_duplicates(subset=cols)"
   ],
   "metadata": {
    "collapsed": false
   },
   "id": "46f6faa6f8f04c5c",
   "execution_count": null
  },
  {
   "cell_type": "code",
   "outputs": [],
   "source": [
    "len(df) - len(df1)"
   ],
   "metadata": {
    "collapsed": false
   },
   "id": "ab88301d04f838c0",
   "execution_count": null
  },
  {
   "cell_type": "code",
   "outputs": [],
   "source": [
    "len(df1)"
   ],
   "metadata": {
    "collapsed": false
   },
   "id": "c7860647689a42a0",
   "execution_count": null
  },
  {
   "cell_type": "markdown",
   "source": [
    "## 297286 duplicate poses have been removed, leaving 544518"
   ],
   "metadata": {
    "collapsed": false
   },
   "id": "4aba6f9bbb85f5db"
  },
  {
   "cell_type": "code",
   "outputs": [],
   "source": [
    "cmpd_to_dataset = yaml.safe_load(open(data_path / '202240129_p_only_cmpd_to_frag.yaml', 'r'))"
   ],
   "metadata": {
    "collapsed": false
   },
   "id": "423c53c8d5381a91",
   "execution_count": null
  },
  {
   "cell_type": "code",
   "outputs": [],
   "source": [
    "dataset_to_cmpd = {v: k for k, v in cmpd_to_dataset.items()}"
   ],
   "metadata": {
    "collapsed": false
   },
   "id": "e0be3c488d640878",
   "execution_count": null
  },
  {
   "cell_type": "markdown",
   "source": [
    "## load similarity metrics"
   ],
   "metadata": {
    "collapsed": false
   },
   "id": "8a48cf9d7126ba00"
  },
  {
   "cell_type": "code",
   "outputs": [],
   "source": [
    "similarity_metrics = pd.read_csv(data_path / 'all_tanimoto.csv')"
   ],
   "metadata": {
    "collapsed": false
   },
   "id": "f570aee0788b98d6",
   "execution_count": null
  },
  {
   "cell_type": "code",
   "outputs": [],
   "source": [
    "set(similarity_metrics.Mol1.unique())== set(similarity_metrics.Mol2.unique())"
   ],
   "metadata": {
    "collapsed": false
   },
   "id": "9cc4da1857bf3495",
   "execution_count": null
  },
  {
   "cell_type": "code",
   "outputs": [],
   "source": [
    "set(similarity_metrics.Mol1.unique()) == set(df1.Compound_ID.unique())"
   ],
   "metadata": {
    "collapsed": false
   },
   "id": "33c8fa51690d24cf",
   "execution_count": null
  },
  {
   "cell_type": "code",
   "outputs": [],
   "source": [
    "set(similarity_metrics.Mol1.unique()) - set(df1.Compound_ID.unique())"
   ],
   "metadata": {
    "collapsed": false
   },
   "id": "5f11c72c49fc450",
   "execution_count": null
  },
  {
   "cell_type": "code",
   "outputs": [],
   "source": [
    "set(df1.Compound_ID.unique()) - set(similarity_metrics.Mol1.unique())"
   ],
   "metadata": {
    "collapsed": false
   },
   "id": "e0cb1621fac05fb6",
   "execution_count": null
  },
  {
   "cell_type": "code",
   "outputs": [],
   "source": [
    "'MAT-POS-7174c657-5' in df1.Compound_ID.unique()"
   ],
   "metadata": {
    "collapsed": false
   },
   "id": "ea53dbea4196805d",
   "execution_count": null
  },
  {
   "cell_type": "markdown",
   "source": [
    "## use BEN-DND-4f474d93-1 for ALP-POS-ce760d3f-2"
   ],
   "metadata": {
    "collapsed": false
   },
   "id": "1598f7901580a223"
  },
  {
   "cell_type": "code",
   "outputs": [],
   "source": [
    "df1['Compound_ID'] = df1.Compound_ID.apply(lambda x: 'BEN-DND-4f474d93-1' if x == 'ALP-POS-ce760d3f-2' else x)"
   ],
   "metadata": {
    "collapsed": false
   },
   "id": "bf7547b730015dcf",
   "execution_count": null
  },
  {
   "cell_type": "code",
   "outputs": [],
   "source": [
    "set(df1.Compound_ID.unique()) - set(similarity_metrics.Mol1.unique())"
   ],
   "metadata": {
    "collapsed": false
   },
   "id": "aa7f7a3bfe947f2e",
   "execution_count": null
  },
  {
   "cell_type": "markdown",
   "source": [
    "## drop MAT-POS-7174c657-6"
   ],
   "metadata": {
    "collapsed": false
   },
   "id": "e3576843ceb76910"
  },
  {
   "cell_type": "code",
   "outputs": [],
   "source": [
    "df1 = df1[df1.Compound_ID != 'MAT-POS-7174c657-6']"
   ],
   "metadata": {
    "collapsed": false
   },
   "id": "f9e01f44ea131a87",
   "execution_count": null
  },
  {
   "cell_type": "markdown",
   "source": [
    "## reset Complex_ID"
   ],
   "metadata": {
    "collapsed": false
   },
   "id": "fc9bffa0798af9d3"
  },
  {
   "cell_type": "code",
   "outputs": [],
   "source": [
    "df1['Complex_ID'] = df1.Compound_ID + '_' + [\"_\".join(dataset.split(\"_\")[:-1]) for dataset in df1.Dataset]"
   ],
   "metadata": {
    "collapsed": false
   },
   "id": "4ea9a4fe0205a45e",
   "execution_count": null
  },
  {
   "cell_type": "markdown",
   "source": [
    "# Add Reference Compound"
   ],
   "metadata": {
    "collapsed": false
   },
   "id": "32c312d8839edb8"
  },
  {
   "cell_type": "code",
   "outputs": [],
   "source": [
    "df1['Reference_Compound'] = df1.Dataset.apply(lambda x: dataset_to_cmpd[\"_\".join(x.split('_')[:-1])])"
   ],
   "metadata": {
    "collapsed": false
   },
   "id": "4fa8893c70b0928a",
   "execution_count": null
  },
  {
   "cell_type": "markdown",
   "source": [
    "# add chemical similarity stuff"
   ],
   "metadata": {
    "collapsed": false
   },
   "id": "9a41b218c82e7f3"
  },
  {
   "cell_type": "code",
   "outputs": [],
   "source": [
    "similarity_metrics['Index'] = similarity_metrics.Mol1 + '_' + [cmpd_to_dataset.get(mol, 'FAIL') for mol in similarity_metrics.Mol2]"
   ],
   "metadata": {
    "collapsed": false
   },
   "id": "5d0e0a9a5a271166",
   "execution_count": null
  },
  {
   "cell_type": "code",
   "outputs": [],
   "source": [
    "sim2 = similarity_metrics[similarity_metrics.Index.apply(lambda x: \"FAIL\" not in x)]"
   ],
   "metadata": {
    "collapsed": false
   },
   "id": "72d9fd9476814149",
   "execution_count": null
  },
  {
   "cell_type": "code",
   "outputs": [],
   "source": [
    "wide = sim2.pivot(index=['Index'], columns=['Similarity Metric'], values=['Tanimoto']).reindex()\n",
    "wide.columns = wide.columns.droplevel()\n",
    "wide['Complex_ID'] = wide.index"
   ],
   "metadata": {
    "collapsed": false
   },
   "id": "4a50ca164beee731",
   "execution_count": null
  },
  {
   "cell_type": "code",
   "outputs": [],
   "source": [
    "df2 = pd.merge(df1, wide, on='Complex_ID', how='left')"
   ],
   "metadata": {
    "collapsed": false
   },
   "id": "4f287f20b65aa555",
   "execution_count": null
  },
  {
   "cell_type": "code",
   "outputs": [],
   "source": [
    "df2.nunique()"
   ],
   "metadata": {
    "collapsed": false
   },
   "id": "69d9c90f394c5a3e",
   "execution_count": null
  },
  {
   "cell_type": "markdown",
   "source": [
    "## make Pose_ID an int"
   ],
   "metadata": {
    "collapsed": false
   },
   "id": "59ddcb0dc17dfd07"
  },
  {
   "cell_type": "code",
   "outputs": [],
   "source": [
    "df2['Pose_ID'] = df2.Pose_ID.astype(int)"
   ],
   "metadata": {
    "collapsed": false
   },
   "id": "4ff704a1e8cc7baf",
   "execution_count": null
  },
  {
   "cell_type": "code",
   "outputs": [],
   "source": [
    "df2.columns"
   ],
   "metadata": {
    "collapsed": false
   },
   "id": "c9b1a49a1af83fc1",
   "execution_count": null
  },
  {
   "cell_type": "code",
   "outputs": [],
   "source": [
    "df2['Pose_ID']"
   ],
   "metadata": {
    "collapsed": false
   },
   "id": "875227e459239fa0",
   "execution_count": null
  },
  {
   "cell_type": "markdown",
   "source": [
    "# Ok the goal is to generate a plot with n poses on the x axis and the fraction of compounds with rmsd < 2 on the y axis "
   ],
   "metadata": {
    "collapsed": false
   },
   "id": "4b09fb432d1e8c53"
  },
  {
   "cell_type": "code",
   "outputs": [],
   "source": [
    "df2.columns"
   ],
   "metadata": {
    "collapsed": false
   },
   "id": "d398e79c0c77a4b3",
   "execution_count": null
  },
  {
   "cell_type": "code",
   "outputs": [],
   "source": [
    "sum(df2.ECFP10 == 1)"
   ],
   "metadata": {
    "collapsed": false
   },
   "id": "11535a2042de378a",
   "execution_count": null
  },
  {
   "cell_type": "code",
   "outputs": [],
   "source": [
    "self_docked = df2[df2.Compound_ID == df2.Reference_Compound]"
   ],
   "metadata": {
    "collapsed": false
   },
   "id": "ca04aff18a80f124",
   "execution_count": null
  },
  {
   "cell_type": "code",
   "outputs": [],
   "source": [
    "self_docked"
   ],
   "metadata": {
    "collapsed": false
   },
   "id": "7d63a201a1ec13bf",
   "execution_count": null
  },
  {
   "cell_type": "code",
   "outputs": [],
   "source": [],
   "metadata": {
    "collapsed": false
   },
   "id": "4bfead1ecce56591"
  }
 ],
 "metadata": {
  "kernelspec": {
   "display_name": "Python 3",
   "language": "python",
   "name": "python3"
  },
  "language_info": {
   "codemirror_mode": {
    "name": "ipython",
    "version": 2
   },
   "file_extension": ".py",
   "mimetype": "text/x-python",
   "name": "python",
   "nbconvert_exporter": "python",
   "pygments_lexer": "ipython2",
   "version": "2.7.6"
  }
 },
 "nbformat": 4,
 "nbformat_minor": 5
}
