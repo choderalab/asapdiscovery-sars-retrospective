{
 "cells": [
  {
   "cell_type": "markdown",
   "source": [
    "# Imports"
   ],
   "metadata": {
    "collapsed": false
   },
   "id": "edca2d850cf71534"
  },
  {
   "cell_type": "code",
   "outputs": [],
   "source": [
    "import pandas as pd\n",
    "from asapdiscovery.data.schema.ligand import Ligand\n",
    "from asapdiscovery.data.readers.molfile import MolFileFactory\n",
    "from rdkit.Chem import Draw, rdMolAlign, rdDepictor\n",
    "from rdkit import Chem\n",
    "\n",
    "from rdkit.Chem.Scaffolds import MurckoScaffold\n",
    "from collections import defaultdict"
   ],
   "metadata": {
    "collapsed": false
   },
   "id": "fd95efdaa4618a9f",
   "execution_count": null
  },
  {
   "cell_type": "code",
   "outputs": [],
   "source": [
    "from pathlib import Path\n",
    "data = Path(\"data\")"
   ],
   "metadata": {
    "collapsed": false
   },
   "id": "1f643b09386f5062",
   "execution_count": null
  },
  {
   "cell_type": "markdown",
   "source": [
    "# Load the Ligands"
   ],
   "metadata": {
    "collapsed": false
   },
   "id": "b23a6f694581a310"
  },
  {
   "cell_type": "code",
   "outputs": [],
   "source": [
    "mff = MolFileFactory(filename=data / \"combined_3d.sdf\")\n",
    "ligs = mff.load()"
   ],
   "metadata": {
    "collapsed": false
   },
   "id": "a3e730eb18849367",
   "execution_count": null
  },
  {
   "cell_type": "code",
   "outputs": [],
   "source": [
    "unique_smiles = set([(lig.smiles, lig.compound_name) for lig in ligs])"
   ],
   "metadata": {
    "collapsed": false
   },
   "id": "66a8e490689f7a7",
   "execution_count": null
  },
  {
   "cell_type": "code",
   "outputs": [],
   "source": [
    "dict_data = [{\"smiles\": lig.smiles, \n",
    "              \"compound_name\": lig.compound_name, \n",
    "              \"series\": lig.tags['xtal_name'][5], \n",
    "              \"number\": lig.tags['xtal_name'].split(\"_\")[0][6:], \n",
    "              \"xtal_id\": lig.tags['xtal_name'].split(\"_\")[1], \n",
    "              \"xtal_name\": lig.tags['xtal_name'], \n",
    "              \"lig\": lig,\n",
    "              \"structure_name\": lig.tags['xtal_name'][:-3]} for lig in ligs]"
   ],
   "metadata": {
    "collapsed": false
   },
   "id": "457d31edf2b731f7",
   "execution_count": null
  },
  {
   "cell_type": "code",
   "outputs": [],
   "source": [
    "df = pd.DataFrame.from_records(dict_data)"
   ],
   "metadata": {
    "collapsed": false
   },
   "id": "1772a5b682576785",
   "execution_count": null
  },
  {
   "cell_type": "code",
   "outputs": [],
   "source": [
    "df = df[df[\"series\"].isin([\"x\", \"P\"])]"
   ],
   "metadata": {
    "collapsed": false
   },
   "id": "e3f5cf8a8b0e396",
   "execution_count": null
  },
  {
   "cell_type": "code",
   "outputs": [],
   "source": [
    "unique_compounds = df.sort_values([\"series\", \"number\", \"xtal_id\"], ascending=[True, False, True]).groupby(\"compound_name\").head(1).groupby(\"smiles\").head(1)"
   ],
   "metadata": {
    "collapsed": false
   },
   "id": "20a57db6cb949b61",
   "execution_count": null
  },
  {
   "cell_type": "code",
   "outputs": [],
   "source": [
    "unique_compounds.groupby(\"series\").count()"
   ],
   "metadata": {
    "collapsed": false
   },
   "id": "7c425f89536697bd",
   "execution_count": null
  },
  {
   "cell_type": "code",
   "outputs": [],
   "source": [
    "unique_compounds"
   ],
   "metadata": {
    "collapsed": false
   },
   "id": "39dbfc7db09233d6",
   "execution_count": null
  },
  {
   "cell_type": "markdown",
   "source": [
    "# save as smiles"
   ],
   "metadata": {
    "collapsed": false
   },
   "id": "82bca7cf71510184"
  },
  {
   "cell_type": "code",
   "outputs": [],
   "source": [
    "with open(data / \"unique_compounds.smi\", \"w\") as f:\n",
    "    for smiles, compound_name in unique_compounds[[\"smiles\", \"compound_name\"]].values:\n",
    "        f.write(f\"{smiles} {compound_name.replace(' ', '_')}\\n\")"
   ],
   "metadata": {
    "collapsed": false
   },
   "id": "3d97dda11369ee8f",
   "execution_count": null
  },
  {
   "cell_type": "markdown",
   "source": [
    "# Save as csv"
   ],
   "metadata": {
    "collapsed": false
   },
   "id": "74d1e9997e7319e2"
  },
  {
   "cell_type": "code",
   "outputs": [],
   "source": [
    "unique_compounds.to_csv(data / \"unique_compounds.csv\", index=False)"
   ],
   "metadata": {
    "collapsed": false
   },
   "id": "d649775de7176b30",
   "execution_count": null
  },
  {
   "cell_type": "code",
   "outputs": [],
   "source": [],
   "metadata": {
    "collapsed": false
   },
   "id": "dee4a26ddcf2b3bf"
  }
 ],
 "metadata": {
  "kernelspec": {
   "display_name": "Python 3",
   "language": "python",
   "name": "python3"
  },
  "language_info": {
   "codemirror_mode": {
    "name": "ipython",
    "version": 2
   },
   "file_extension": ".py",
   "mimetype": "text/x-python",
   "name": "python",
   "nbconvert_exporter": "python",
   "pygments_lexer": "ipython2",
   "version": "2.7.6"
  }
 },
 "nbformat": 4,
 "nbformat_minor": 5
}
