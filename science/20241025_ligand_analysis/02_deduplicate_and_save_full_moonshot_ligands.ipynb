{
 "cells": [
  {
   "cell_type": "markdown",
   "source": [
    "# Imports"
   ],
   "metadata": {
    "collapsed": false
   },
   "id": "edca2d850cf71534"
  },
  {
   "cell_type": "code",
   "outputs": [],
   "source": [
    "import pandas as pd\n",
    "from asapdiscovery.data.schema.ligand import Ligand\n",
    "from asapdiscovery.data.readers.molfile import MolFileFactory\n",
    "from rdkit.Chem import Draw, rdMolAlign, rdDepictor\n",
    "from rdkit import Chem\n",
    "\n",
    "from rdkit.Chem.Scaffolds import MurckoScaffold\n",
    "from collections import defaultdict"
   ],
   "metadata": {
    "collapsed": false,
    "ExecuteTime": {
     "end_time": "2024-11-21T21:26:22.492696Z",
     "start_time": "2024-11-21T21:26:17.190562Z"
    }
   },
   "id": "fd95efdaa4618a9f",
   "execution_count": 1
  },
  {
   "cell_type": "code",
   "outputs": [],
   "source": [
    "from pathlib import Path\n",
    "data = Path(\"data\")"
   ],
   "metadata": {
    "collapsed": false,
    "ExecuteTime": {
     "end_time": "2024-11-21T21:26:22.502141Z",
     "start_time": "2024-11-21T21:26:22.495755Z"
    }
   },
   "id": "1f643b09386f5062",
   "execution_count": 2
  },
  {
   "cell_type": "markdown",
   "source": [
    "# Load the Ligands"
   ],
   "metadata": {
    "collapsed": false
   },
   "id": "b23a6f694581a310"
  },
  {
   "cell_type": "code",
   "outputs": [
    {
     "name": "stderr",
     "output_type": "stream",
     "text": [
      "Warning: OE3DToAtomStereo is unable to perceive atom stereo from a flat geometry on atom 8 of molecule 'LIG(A-305)'\n",
      "Warning: OE3DToAtomStereo had a problem during OEMolToSmiles when writing 'LIG(A-305)'\n",
      "Warning: OE3DToAtomStereo is unable to perceive atom stereo from a flat geometry on atom 2 of molecule 'LIG(A-305)'\n",
      "Warning: OE3DToAtomStereo is unable to perceive atom stereo from a flat geometry on atom 13 of molecule 'LIG(A-305)'\n",
      "Warning: OE3DToAtomStereo had a problem during OEMolToSmiles when writing 'LIG(A-305)'\n",
      "Warning: OE3DToAtomStereo is unable to perceive atom stereo from a flat geometry on atom 8 of molecule 'LIG(A-305)'\n",
      "Warning: OE3DToAtomStereo is unable to perceive atom stereo from a flat geometry on atom 11 of molecule 'LIG(A-305)'\n",
      "Warning: OE3DToAtomStereo had a problem during OEMolToSmiles when writing 'LIG(A-305)'\n",
      "Warning: OE3DToAtomStereo is unable to perceive atom stereo from a flat geometry on atom 8 of molecule 'LIG(A-305)'\n",
      "Warning: OE3DToAtomStereo had a problem during OEMolToSmiles when writing 'LIG(A-305)'\n"
     ]
    }
   ],
   "source": [
    "mff = MolFileFactory(filename=data / \"combined_3d.sdf\")\n",
    "ligs = mff.load()"
   ],
   "metadata": {
    "collapsed": false,
    "ExecuteTime": {
     "end_time": "2024-11-21T21:26:23.186911Z",
     "start_time": "2024-11-21T21:26:22.506858Z"
    }
   },
   "id": "a3e730eb18849367",
   "execution_count": 3
  },
  {
   "cell_type": "code",
   "outputs": [
    {
     "name": "stderr",
     "output_type": "stream",
     "text": [
      "Warning: OE3DToAtomStereo is unable to perceive atom stereo from a flat geometry on atom 8 of molecule 'LIG(A-305)'\n",
      "Warning: OE3DToAtomStereo had a problem during conformation test 'LIG(A-305)'\n",
      "Warning: OE3DToAtomStereo is unable to perceive atom stereo from a flat geometry on atom 2 of molecule 'LIG(A-305)'\n",
      "Warning: OE3DToAtomStereo is unable to perceive atom stereo from a flat geometry on atom 13 of molecule 'LIG(A-305)'\n",
      "Warning: OE3DToAtomStereo had a problem during conformation test 'LIG(A-305)'\n",
      "Warning: OE3DToAtomStereo is unable to perceive atom stereo from a flat geometry on atom 8 of molecule 'LIG(A-305)'\n",
      "Warning: OE3DToAtomStereo is unable to perceive atom stereo from a flat geometry on atom 11 of molecule 'LIG(A-305)'\n",
      "Warning: OE3DToAtomStereo had a problem during conformation test 'LIG(A-305)'\n",
      "Warning: OE3DToAtomStereo is unable to perceive atom stereo from a flat geometry on atom 8 of molecule 'LIG(A-305)'\n",
      "Warning: OE3DToAtomStereo had a problem during conformation test 'LIG(A-305)'\n"
     ]
    }
   ],
   "source": [
    "unique_smiles = set([(lig.smiles, lig.compound_name) for lig in ligs])"
   ],
   "metadata": {
    "collapsed": false,
    "ExecuteTime": {
     "end_time": "2024-11-21T21:26:23.779993Z",
     "start_time": "2024-11-21T21:26:23.188595Z"
    }
   },
   "id": "66a8e490689f7a7",
   "execution_count": 4
  },
  {
   "cell_type": "code",
   "outputs": [
    {
     "name": "stderr",
     "output_type": "stream",
     "text": [
      "Warning: OE3DToAtomStereo is unable to perceive atom stereo from a flat geometry on atom 8 of molecule 'LIG(A-305)'\n",
      "Warning: OE3DToAtomStereo had a problem during conformation test 'LIG(A-305)'\n",
      "Warning: OE3DToAtomStereo is unable to perceive atom stereo from a flat geometry on atom 2 of molecule 'LIG(A-305)'\n",
      "Warning: OE3DToAtomStereo is unable to perceive atom stereo from a flat geometry on atom 13 of molecule 'LIG(A-305)'\n",
      "Warning: OE3DToAtomStereo had a problem during conformation test 'LIG(A-305)'\n",
      "Warning: OE3DToAtomStereo is unable to perceive atom stereo from a flat geometry on atom 8 of molecule 'LIG(A-305)'\n",
      "Warning: OE3DToAtomStereo is unable to perceive atom stereo from a flat geometry on atom 11 of molecule 'LIG(A-305)'\n",
      "Warning: OE3DToAtomStereo had a problem during conformation test 'LIG(A-305)'\n",
      "Warning: OE3DToAtomStereo is unable to perceive atom stereo from a flat geometry on atom 8 of molecule 'LIG(A-305)'\n",
      "Warning: OE3DToAtomStereo had a problem during conformation test 'LIG(A-305)'\n"
     ]
    }
   ],
   "source": [
    "dict_data = [{\"smiles\": lig.smiles, \n",
    "              \"compound_name\": lig.compound_name, \n",
    "              \"series\": lig.tags['xtal_name'][5], \n",
    "              \"number\": lig.tags['xtal_name'].split(\"_\")[0][6:], \n",
    "              \"xtal_id\": lig.tags['xtal_name'].split(\"_\")[1], \n",
    "              \"xtal_name\": lig.tags['xtal_name'], \n",
    "              \"lig\": lig,\n",
    "              \"structure_name\": lig.tags['xtal_name'][:-3]} for lig in ligs]"
   ],
   "metadata": {
    "collapsed": false,
    "ExecuteTime": {
     "end_time": "2024-11-21T21:28:03.165891Z",
     "start_time": "2024-11-21T21:28:02.656506Z"
    }
   },
   "id": "457d31edf2b731f7",
   "execution_count": 23
  },
  {
   "cell_type": "code",
   "outputs": [],
   "source": [
    "df = pd.DataFrame.from_records(dict_data)"
   ],
   "metadata": {
    "collapsed": false,
    "ExecuteTime": {
     "end_time": "2024-11-21T21:28:03.172893Z",
     "start_time": "2024-11-21T21:28:03.168445Z"
    }
   },
   "id": "1772a5b682576785",
   "execution_count": 24
  },
  {
   "cell_type": "code",
   "outputs": [],
   "source": [
    "df = df[df[\"series\"].isin([\"x\", \"P\"])]"
   ],
   "metadata": {
    "collapsed": false,
    "ExecuteTime": {
     "end_time": "2024-11-21T21:28:03.357324Z",
     "start_time": "2024-11-21T21:28:03.351410Z"
    }
   },
   "id": "e3f5cf8a8b0e396",
   "execution_count": 25
  },
  {
   "cell_type": "code",
   "outputs": [],
   "source": [
    "unique_compounds = df.sort_values([\"series\", \"number\", \"xtal_id\"], ascending=[True, False, True]).groupby(\"compound_name\").head(1).groupby(\"smiles\").head(1)"
   ],
   "metadata": {
    "collapsed": false,
    "ExecuteTime": {
     "end_time": "2024-11-21T21:28:03.656820Z",
     "start_time": "2024-11-21T21:28:03.646082Z"
    }
   },
   "id": "20a57db6cb949b61",
   "execution_count": 26
  },
  {
   "cell_type": "code",
   "outputs": [
    {
     "data": {
      "text/plain": "        smiles  compound_name  number  xtal_id  xtal_name  lig  structure_name\nseries                                                                        \nP          205            205     205      205        205  205             205\nx          332            332     332      332        332  332             332",
      "text/html": "<div>\n<style scoped>\n    .dataframe tbody tr th:only-of-type {\n        vertical-align: middle;\n    }\n\n    .dataframe tbody tr th {\n        vertical-align: top;\n    }\n\n    .dataframe thead th {\n        text-align: right;\n    }\n</style>\n<table border=\"1\" class=\"dataframe\">\n  <thead>\n    <tr style=\"text-align: right;\">\n      <th></th>\n      <th>smiles</th>\n      <th>compound_name</th>\n      <th>number</th>\n      <th>xtal_id</th>\n      <th>xtal_name</th>\n      <th>lig</th>\n      <th>structure_name</th>\n    </tr>\n    <tr>\n      <th>series</th>\n      <th></th>\n      <th></th>\n      <th></th>\n      <th></th>\n      <th></th>\n      <th></th>\n      <th></th>\n    </tr>\n  </thead>\n  <tbody>\n    <tr>\n      <th>P</th>\n      <td>205</td>\n      <td>205</td>\n      <td>205</td>\n      <td>205</td>\n      <td>205</td>\n      <td>205</td>\n      <td>205</td>\n    </tr>\n    <tr>\n      <th>x</th>\n      <td>332</td>\n      <td>332</td>\n      <td>332</td>\n      <td>332</td>\n      <td>332</td>\n      <td>332</td>\n      <td>332</td>\n    </tr>\n  </tbody>\n</table>\n</div>"
     },
     "execution_count": 27,
     "metadata": {},
     "output_type": "execute_result"
    }
   ],
   "source": [
    "unique_compounds.groupby(\"series\").count()"
   ],
   "metadata": {
    "collapsed": false,
    "ExecuteTime": {
     "end_time": "2024-11-21T21:28:03.965769Z",
     "start_time": "2024-11-21T21:28:03.951777Z"
    }
   },
   "id": "7c425f89536697bd",
   "execution_count": 27
  },
  {
   "cell_type": "code",
   "outputs": [
    {
     "data": {
      "text/plain": "                                                smiles        compound_name  \\\n618  c1ccc2c(c1)cncc2N3CCC[C@@]4(C3=O)C[N@](Cc5c4cc...   ALP-POS-133e7cd9-2   \n387  CC[C@H]1CN(C(=O)[C@@]12C[N@](Cc3c2cc(cc3)Cl)S(...   MAT-POS-50a80394-2   \n200  C[C@H]1CN(C(=O)[C@@]12C[N@](Cc3c2cc(cc3)Cl)S(=...   MAT-POS-50a80394-1   \n406  CNC(=O)C1(CC1)N2C[C@]3(CCN(C3=O)c4cncc5c4cccc5...   MAT-POS-e48723dc-2   \n724  c1ccc2c(c1)cncc2N3CC[C@@]4(C3=O)C[N@H+](Cc5c4c...  ALP-POS-ecbed2ba-12   \n..                                                 ...                  ...   \n357                      C[NH+]1CCN(CC1)C(=O)Nc2ccccc2  AAR-POS-0daf6b7e-44   \n732                        COC(=O)c1ccc(cc1)S(=O)(=O)N   MAT-POS-7dfc56d9-1   \n510                                   Cc1ccncc1NC(=O)C   MAK-UNK-6435e6c2-8   \n782                       CC(=O)NCCc1c[nH]c2c1cc(cc2)F   AAR-POS-d2a4d1df-2   \n27                               CS(=O)(=O)NCCc1ccccc1   AAR-POS-d2a4d1df-1   \n\n    series number xtal_id      xtal_name  \\\n618      P   3074      0A  Mpro-P3074_0A   \n387      P   3054      0A  Mpro-P3054_0A   \n200      P   3050      0A  Mpro-P3050_0A   \n406      P   3038      0A  Mpro-P3038_0A   \n724      P   2730      0A  Mpro-P2730_0A   \n..     ...    ...     ...            ...   \n357      x   0165      0A  Mpro-x0165_0A   \n732      x   0161      0A  Mpro-x0161_0A   \n510      x   0107      0A  Mpro-x0107_0A   \n782      x   0104      0A  Mpro-x0104_0A   \n27       x   0072      0A  Mpro-x0072_0A   \n\n                                                   lig structure_name  \n618  compound_name='ALP-POS-133e7cd9-2' ids=None pr...     Mpro-P3074  \n387  compound_name='MAT-POS-50a80394-2' ids=None pr...     Mpro-P3054  \n200  compound_name='MAT-POS-50a80394-1' ids=None pr...     Mpro-P3050  \n406  compound_name='MAT-POS-e48723dc-2' ids=None pr...     Mpro-P3038  \n724  compound_name='ALP-POS-ecbed2ba-12' ids=None p...     Mpro-P2730  \n..                                                 ...            ...  \n357  compound_name='AAR-POS-0daf6b7e-44' ids=None p...     Mpro-x0165  \n732  compound_name='MAT-POS-7dfc56d9-1' ids=None pr...     Mpro-x0161  \n510  compound_name='MAK-UNK-6435e6c2-8' ids=None pr...     Mpro-x0107  \n782  compound_name='AAR-POS-d2a4d1df-2' ids=None pr...     Mpro-x0104  \n27   compound_name='AAR-POS-d2a4d1df-1' ids=None pr...     Mpro-x0072  \n\n[537 rows x 8 columns]",
      "text/html": "<div>\n<style scoped>\n    .dataframe tbody tr th:only-of-type {\n        vertical-align: middle;\n    }\n\n    .dataframe tbody tr th {\n        vertical-align: top;\n    }\n\n    .dataframe thead th {\n        text-align: right;\n    }\n</style>\n<table border=\"1\" class=\"dataframe\">\n  <thead>\n    <tr style=\"text-align: right;\">\n      <th></th>\n      <th>smiles</th>\n      <th>compound_name</th>\n      <th>series</th>\n      <th>number</th>\n      <th>xtal_id</th>\n      <th>xtal_name</th>\n      <th>lig</th>\n      <th>structure_name</th>\n    </tr>\n  </thead>\n  <tbody>\n    <tr>\n      <th>618</th>\n      <td>c1ccc2c(c1)cncc2N3CCC[C@@]4(C3=O)C[N@](Cc5c4cc...</td>\n      <td>ALP-POS-133e7cd9-2</td>\n      <td>P</td>\n      <td>3074</td>\n      <td>0A</td>\n      <td>Mpro-P3074_0A</td>\n      <td>compound_name='ALP-POS-133e7cd9-2' ids=None pr...</td>\n      <td>Mpro-P3074</td>\n    </tr>\n    <tr>\n      <th>387</th>\n      <td>CC[C@H]1CN(C(=O)[C@@]12C[N@](Cc3c2cc(cc3)Cl)S(...</td>\n      <td>MAT-POS-50a80394-2</td>\n      <td>P</td>\n      <td>3054</td>\n      <td>0A</td>\n      <td>Mpro-P3054_0A</td>\n      <td>compound_name='MAT-POS-50a80394-2' ids=None pr...</td>\n      <td>Mpro-P3054</td>\n    </tr>\n    <tr>\n      <th>200</th>\n      <td>C[C@H]1CN(C(=O)[C@@]12C[N@](Cc3c2cc(cc3)Cl)S(=...</td>\n      <td>MAT-POS-50a80394-1</td>\n      <td>P</td>\n      <td>3050</td>\n      <td>0A</td>\n      <td>Mpro-P3050_0A</td>\n      <td>compound_name='MAT-POS-50a80394-1' ids=None pr...</td>\n      <td>Mpro-P3050</td>\n    </tr>\n    <tr>\n      <th>406</th>\n      <td>CNC(=O)C1(CC1)N2C[C@]3(CCN(C3=O)c4cncc5c4cccc5...</td>\n      <td>MAT-POS-e48723dc-2</td>\n      <td>P</td>\n      <td>3038</td>\n      <td>0A</td>\n      <td>Mpro-P3038_0A</td>\n      <td>compound_name='MAT-POS-e48723dc-2' ids=None pr...</td>\n      <td>Mpro-P3038</td>\n    </tr>\n    <tr>\n      <th>724</th>\n      <td>c1ccc2c(c1)cncc2N3CC[C@@]4(C3=O)C[N@H+](Cc5c4c...</td>\n      <td>ALP-POS-ecbed2ba-12</td>\n      <td>P</td>\n      <td>2730</td>\n      <td>0A</td>\n      <td>Mpro-P2730_0A</td>\n      <td>compound_name='ALP-POS-ecbed2ba-12' ids=None p...</td>\n      <td>Mpro-P2730</td>\n    </tr>\n    <tr>\n      <th>...</th>\n      <td>...</td>\n      <td>...</td>\n      <td>...</td>\n      <td>...</td>\n      <td>...</td>\n      <td>...</td>\n      <td>...</td>\n      <td>...</td>\n    </tr>\n    <tr>\n      <th>357</th>\n      <td>C[NH+]1CCN(CC1)C(=O)Nc2ccccc2</td>\n      <td>AAR-POS-0daf6b7e-44</td>\n      <td>x</td>\n      <td>0165</td>\n      <td>0A</td>\n      <td>Mpro-x0165_0A</td>\n      <td>compound_name='AAR-POS-0daf6b7e-44' ids=None p...</td>\n      <td>Mpro-x0165</td>\n    </tr>\n    <tr>\n      <th>732</th>\n      <td>COC(=O)c1ccc(cc1)S(=O)(=O)N</td>\n      <td>MAT-POS-7dfc56d9-1</td>\n      <td>x</td>\n      <td>0161</td>\n      <td>0A</td>\n      <td>Mpro-x0161_0A</td>\n      <td>compound_name='MAT-POS-7dfc56d9-1' ids=None pr...</td>\n      <td>Mpro-x0161</td>\n    </tr>\n    <tr>\n      <th>510</th>\n      <td>Cc1ccncc1NC(=O)C</td>\n      <td>MAK-UNK-6435e6c2-8</td>\n      <td>x</td>\n      <td>0107</td>\n      <td>0A</td>\n      <td>Mpro-x0107_0A</td>\n      <td>compound_name='MAK-UNK-6435e6c2-8' ids=None pr...</td>\n      <td>Mpro-x0107</td>\n    </tr>\n    <tr>\n      <th>782</th>\n      <td>CC(=O)NCCc1c[nH]c2c1cc(cc2)F</td>\n      <td>AAR-POS-d2a4d1df-2</td>\n      <td>x</td>\n      <td>0104</td>\n      <td>0A</td>\n      <td>Mpro-x0104_0A</td>\n      <td>compound_name='AAR-POS-d2a4d1df-2' ids=None pr...</td>\n      <td>Mpro-x0104</td>\n    </tr>\n    <tr>\n      <th>27</th>\n      <td>CS(=O)(=O)NCCc1ccccc1</td>\n      <td>AAR-POS-d2a4d1df-1</td>\n      <td>x</td>\n      <td>0072</td>\n      <td>0A</td>\n      <td>Mpro-x0072_0A</td>\n      <td>compound_name='AAR-POS-d2a4d1df-1' ids=None pr...</td>\n      <td>Mpro-x0072</td>\n    </tr>\n  </tbody>\n</table>\n<p>537 rows × 8 columns</p>\n</div>"
     },
     "execution_count": 28,
     "metadata": {},
     "output_type": "execute_result"
    }
   ],
   "source": [
    "unique_compounds"
   ],
   "metadata": {
    "collapsed": false,
    "ExecuteTime": {
     "end_time": "2024-11-21T21:28:04.334015Z",
     "start_time": "2024-11-21T21:28:04.318564Z"
    }
   },
   "id": "39dbfc7db09233d6",
   "execution_count": 28
  },
  {
   "cell_type": "markdown",
   "source": [
    "# save as smiles"
   ],
   "metadata": {
    "collapsed": false
   },
   "id": "82bca7cf71510184"
  },
  {
   "cell_type": "code",
   "outputs": [],
   "source": [
    "with open(data / \"unique_compounds.smi\", \"w\") as f:\n",
    "    for smiles, compound_name in unique_compounds[[\"smiles\", \"compound_name\"]].values:\n",
    "        f.write(f\"{smiles} {compound_name.replace(' ', '_')}\\n\")"
   ],
   "metadata": {
    "collapsed": false,
    "ExecuteTime": {
     "end_time": "2024-11-21T21:28:05.638208Z",
     "start_time": "2024-11-21T21:28:05.631828Z"
    }
   },
   "id": "3d97dda11369ee8f",
   "execution_count": 29
  },
  {
   "cell_type": "markdown",
   "source": [
    "# Save as csv"
   ],
   "metadata": {
    "collapsed": false
   },
   "id": "74d1e9997e7319e2"
  },
  {
   "cell_type": "code",
   "outputs": [],
   "source": [
    "unique_compounds.to_csv(data / \"unique_compounds.csv\", index=False)"
   ],
   "metadata": {
    "collapsed": false,
    "ExecuteTime": {
     "end_time": "2024-11-21T21:28:08.291158Z",
     "start_time": "2024-11-21T21:28:08.246804Z"
    }
   },
   "id": "d649775de7176b30",
   "execution_count": 30
  },
  {
   "cell_type": "code",
   "outputs": [],
   "source": [],
   "metadata": {
    "collapsed": false
   },
   "id": "dee4a26ddcf2b3bf"
  }
 ],
 "metadata": {
  "kernelspec": {
   "display_name": "Python 3",
   "language": "python",
   "name": "python3"
  },
  "language_info": {
   "codemirror_mode": {
    "name": "ipython",
    "version": 2
   },
   "file_extension": ".py",
   "mimetype": "text/x-python",
   "name": "python",
   "nbconvert_exporter": "python",
   "pygments_lexer": "ipython2",
   "version": "2.7.6"
  }
 },
 "nbformat": 4,
 "nbformat_minor": 5
}
