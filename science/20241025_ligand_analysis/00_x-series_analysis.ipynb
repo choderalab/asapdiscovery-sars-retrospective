{
 "cells": [
  {
   "cell_type": "markdown",
   "source": [
    "# Imports"
   ],
   "metadata": {
    "collapsed": false
   },
   "id": "dd4eada8d9796d1e"
  },
  {
   "cell_type": "code",
   "outputs": [],
   "source": [
    "import pandas as pd\n",
    "from asapdiscovery.data.schema.ligand import Ligand\n",
    "from asapdiscovery.data.readers.molfile import MolFileFactory\n",
    "from rdkit.Chem import Draw, rdMolAlign, rdDepictor\n",
    "from rdkit import Chem\n",
    "\n",
    "from rdkit.Chem.Scaffolds import MurckoScaffold\n",
    "from collections import defaultdict"
   ],
   "metadata": {
    "collapsed": false
   },
   "id": "ccc56fa13a8d8012",
   "execution_count": null
  },
  {
   "cell_type": "markdown",
   "source": [
    "# Load the Ligands"
   ],
   "metadata": {
    "collapsed": false
   },
   "id": "db26b80ae9eb122e"
  },
  {
   "cell_type": "code",
   "outputs": [],
   "source": [
    "mff = MolFileFactory(filename=\"combined_3d.sdf\")\n",
    "ligs = mff.load()"
   ],
   "metadata": {
    "collapsed": false
   },
   "id": "afca04e2ab159945",
   "execution_count": null
  },
  {
   "cell_type": "code",
   "outputs": [],
   "source": [
    "x_series_ligs = [lig for lig in ligs if \"x\" in lig.tags[\"xtal_name\"]]"
   ],
   "metadata": {
    "collapsed": false
   },
   "id": "838b21a76f591aac",
   "execution_count": null
  },
  {
   "cell_type": "code",
   "outputs": [],
   "source": [
    "len(x_series_ligs)"
   ],
   "metadata": {
    "collapsed": false
   },
   "id": "a591258b1533413b",
   "execution_count": null
  },
  {
   "cell_type": "code",
   "outputs": [],
   "source": [
    "lig_name = {lig.compound_name: lig for lig in x_series_ligs}"
   ],
   "metadata": {
    "collapsed": false
   },
   "id": "73788945a006ee11",
   "execution_count": null
  },
  {
   "cell_type": "code",
   "outputs": [],
   "source": [
    "len(lig_name)"
   ],
   "metadata": {
    "collapsed": false
   },
   "id": "af745cbc15c6f54f",
   "execution_count": null
  },
  {
   "cell_type": "code",
   "outputs": [],
   "source": [
    "lig_dict = defaultdict(list)\n",
    "for lig in x_series_ligs:\n",
    "    lig_dict[lig.compound_name].append(lig)"
   ],
   "metadata": {
    "collapsed": false
   },
   "id": "18e8d9e8fdd23c80",
   "execution_count": null
  },
  {
   "cell_type": "code",
   "outputs": [],
   "source": [
    "doubled_lig_dict = {name: [lig.tags[\"xtal_name\"] for lig in lig_list] for name, lig_list in lig_dict.items() if len(lig_list) > 1}"
   ],
   "metadata": {
    "collapsed": false
   },
   "id": "c58d4de55a033995",
   "execution_count": null
  },
  {
   "cell_type": "code",
   "outputs": [],
   "source": [
    "doubled_lig_dict"
   ],
   "metadata": {
    "collapsed": false
   },
   "id": "4f1e82f27ac13322",
   "execution_count": null
  },
  {
   "cell_type": "markdown",
   "source": [
    "# Function Definitions"
   ],
   "metadata": {
    "collapsed": false
   },
   "id": "d40f886e9ac48f10"
  },
  {
   "cell_type": "code",
   "outputs": [],
   "source": [
    "def generate_scaffold(ligand: Ligand, include_chirality=True):\n",
    "    \"\"\"\n",
    "    Compute the Bemis-Murcko scaffold for a SMILES string.\n",
    "    Implementation copied from https://github.com/chemprop/chemprop.\n",
    "\n",
    "    :param mol: A smiles string or an RDKit molecule.\n",
    "    :param include_chirality: Whether to include chirality.\n",
    "    :return:\n",
    "    \"\"\"\n",
    "    mol = ligand.to_rdkit()\n",
    "    scaffold = MurckoScaffold.MurckoScaffoldSmiles(mol=mol, includeChirality=include_chirality)\n",
    "    \n",
    "    # scaffold = Chem.MolToSmiles(MurckoScaffold.MakeScaffoldGeneric(mol))\n",
    "\n",
    "    return scaffold"
   ],
   "metadata": {
    "collapsed": false
   },
   "id": "145c951859683c29",
   "execution_count": null
  },
  {
   "cell_type": "code",
   "outputs": [],
   "source": [
    "def split_by_scaffold(ligands):\n",
    "    \"\"\"\n",
    "    Split ligands by scaffold.\n",
    "    \"\"\"\n",
    "    \n",
    "    scaffolds = defaultdict(list)\n",
    "    for ligand in ligands:\n",
    "        scaffold = generate_scaffold(ligand)\n",
    "        scaffolds[scaffold].append(ligand)\n",
    "    scaffold_list = [{\"scaffold\": scaffold, \"ligands\": ligands} for scaffold, ligands in scaffolds.items()]\n",
    "    return sorted(scaffold_list, key=lambda x: len(x[\"ligands\"]), reverse=True)"
   ],
   "metadata": {
    "collapsed": false
   },
   "id": "385e513c0da0c075",
   "execution_count": null
  },
  {
   "cell_type": "code",
   "outputs": [],
   "source": [
    "def align_to_scaffold(scaffold: Chem.Mol, mols: list[Chem.Mol]):\n",
    "    rdDepictor.Compute2DCoords(scaffold)\n",
    "    template_match = scaffold.GetSubstructMatch(scaffold)\n",
    "    for mol in mols:\n",
    "        rdDepictor.Compute2DCoords(mol)\n",
    "        query_match = mol.GetSubstructMatch(scaffold)\n",
    "        rdMolAlign.AlignMol(mol, scaffold, atomMap=list(zip(query_match, template_match)))\n",
    "    return scaffold, mols"
   ],
   "metadata": {
    "collapsed": false
   },
   "id": "170a1dbe0e385e7a",
   "execution_count": null
  },
  {
   "cell_type": "code",
   "outputs": [],
   "source": [
    "def draw_scaffold_cluster(scaffold: str, ligands: list[Ligand], filename: str):\n",
    "    \n",
    "    # Convert to rdkit\n",
    "    rdkitmols = [Chem.RemoveHs(ligand.to_rdkit()) for ligand in ligands]\n",
    "    rdkit_scaffold = Chem.MolFromSmiles(scaffold)\n",
    "    \n",
    "    # Align the molecules to the scaffold\n",
    "    rdkit_scaffold, rdkitmols = align_to_scaffold(rdkit_scaffold, rdkitmols)\n",
    "    \n",
    "    \n",
    "    # Find the atoms to highlight\n",
    "    highlight = [mol.GetSubstructMatch(rdkit_scaffold) for mol in rdkitmols]\n",
    "    \n",
    "    # Set Draw Options\n",
    "    dopts = Draw.rdMolDraw2D.MolDrawOptions()\n",
    "    dopts.setHighlightColour((68/256, 178/256, 212/256))\n",
    "    dopts.highlightBondWidthMultiplier = 16\n",
    "    \n",
    "    # Draw the molecules\n",
    "    img = Draw.MolsToGridImage(rdkitmols, \n",
    "                               molsPerRow=6, \n",
    "                               subImgSize=(200, 200), \n",
    "                               highlightAtomLists=highlight,\n",
    "                               useSVG= True,\n",
    "                               legends = [f\"{ligand.compound_name} ({ligand.tags['xtal_name']})\" for ligand in ligands],\n",
    "                               drawOptions=dopts)\n",
    "    with open(filename, 'w') as f:\n",
    "        f.write(img.data)"
   ],
   "metadata": {
    "collapsed": false
   },
   "id": "b6301e890479c3bd",
   "execution_count": null
  },
  {
   "cell_type": "markdown",
   "source": [
    "# Execution"
   ],
   "metadata": {
    "collapsed": false
   },
   "id": "4eab72d393213652"
  },
  {
   "cell_type": "code",
   "outputs": [],
   "source": [
    "scaffolds = split_by_scaffold(x_series_ligs)"
   ],
   "metadata": {
    "collapsed": false
   },
   "id": "a33443be9f4de2c9",
   "execution_count": null
  },
  {
   "cell_type": "code",
   "outputs": [],
   "source": [
    "cluster_labels = []\n",
    "for i, scaffold_dict in enumerate(scaffolds): \n",
    "    try:\n",
    "        draw_scaffold_cluster(scaffold_dict['scaffold'], scaffold_dict['ligands'], f\"scaffold_{i}.svg\")\n",
    "    except Exception as e:\n",
    "        print(f\"Failed to draw scaffold {i}\")\n",
    "        print(e)\n",
    "    for ligand in scaffold_dict['ligands']:\n",
    "        cluster_labels.append({\"Name\": ligand.compound_name, \"Cluster\": i, \"Scaffold_Smiles\": scaffold_dict['scaffold']})"
   ],
   "metadata": {
    "collapsed": false
   },
   "id": "2ea8c614442c3726",
   "execution_count": null
  },
  {
   "cell_type": "markdown",
   "source": [
    "# Save Label Dict"
   ],
   "metadata": {
    "collapsed": false
   },
   "id": "2619bc7c82b34a2f"
  },
  {
   "cell_type": "code",
   "outputs": [],
   "source": [
    "import pandas as pd"
   ],
   "metadata": {
    "collapsed": false
   },
   "id": "e5b52600ce9e9291",
   "execution_count": null
  },
  {
   "cell_type": "code",
   "outputs": [],
   "source": [
    "cluster_df = pd.DataFrame.from_records(cluster_labels)"
   ],
   "metadata": {
    "collapsed": false
   },
   "id": "b3291c0b49eb8a8b",
   "execution_count": null
  },
  {
   "cell_type": "code",
   "outputs": [],
   "source": [
    "cluster_df.to_csv(\"cluster_labels.csv\", index=False)"
   ],
   "metadata": {
    "collapsed": false
   },
   "id": "a8c89268279936db",
   "execution_count": null
  },
  {
   "cell_type": "code",
   "outputs": [],
   "source": [
    "cluster_df.groupby(\"Cluster\").count()"
   ],
   "metadata": {
    "collapsed": false
   },
   "id": "350c9e82dc856d2d",
   "execution_count": null
  },
  {
   "cell_type": "markdown",
   "source": [
    "# Draw Scaffolds"
   ],
   "metadata": {
    "collapsed": false
   },
   "id": "73030c5bd9ae775f"
  },
  {
   "cell_type": "code",
   "outputs": [],
   "source": [
    "scaffold_smiles = [Ligand.from_smiles(scaffold_dict['scaffold'], compound_name=f\"Cluster {i} - {len(scaffold_dict['ligands'])} molecules\") for i, scaffold_dict in enumerate(scaffolds)]"
   ],
   "metadata": {
    "collapsed": false
   },
   "id": "deed7f96ad278e2",
   "execution_count": null
  },
  {
   "cell_type": "code",
   "outputs": [],
   "source": [
    "scaffold_rdmols = [Chem.RemoveHs(ligand.to_rdkit()) for ligand in scaffold_smiles]"
   ],
   "metadata": {
    "collapsed": false
   },
   "id": "632ddc2edd51c8cc",
   "execution_count": null
  },
  {
   "cell_type": "code",
   "outputs": [],
   "source": [
    "n_scaffolds = 12"
   ],
   "metadata": {
    "collapsed": false
   },
   "id": "c843954930973a4",
   "execution_count": null
  },
  {
   "cell_type": "code",
   "outputs": [],
   "source": [
    "# Set Draw Options\n",
    "dopts = Draw.rdMolDraw2D.MolDrawOptions()\n",
    "dopts.setHighlightColour((68/256, 178/256, 212/256))\n",
    "dopts.highlightBondWidthMultiplier = 16"
   ],
   "metadata": {
    "collapsed": false
   },
   "id": "51a3c122edb40740",
   "execution_count": null
  },
  {
   "cell_type": "code",
   "outputs": [],
   "source": [
    "from rdkit.Chem import Draw, rdDepictor\n",
    "d2d = Draw.MolDraw2DCairo(350,300)\n",
    "for mol in scaffold_rdmols[:n_scaffolds]:\n",
    "    Draw.MolToImage(mol, size=(200, 200), options=dopts)\n",
    "    rdDepictor.Compute2DCoords(mol)\n",
    "    rdDepictor.StraightenDepiction(mol)\n",
    "    d2d.DrawMolecule(mol)"
   ],
   "metadata": {
    "collapsed": false
   },
   "id": "fdba1f3e27a7e726",
   "execution_count": null
  },
  {
   "cell_type": "code",
   "outputs": [],
   "source": [
    "img = Draw.MolsToGridImage(scaffold_rdmols[:n_scaffolds], \n",
    "                               molsPerRow=3, \n",
    "                               subImgSize=(200, 200), \n",
    "                               # highlightAtomLists=highlight,\n",
    "                               useSVG= True,\n",
    "                               legends = [ligand.compound_name for ligand in scaffold_smiles[:n_scaffolds]],\n",
    "                               drawOptions=dopts)\n",
    "with open(\"scaffold_images_3x4.svg\", 'w') as f:\n",
    "        f.write(img.data)"
   ],
   "metadata": {
    "collapsed": false
   },
   "id": "e9c5045827461d45",
   "execution_count": null
  },
  {
   "cell_type": "code",
   "outputs": [],
   "source": [
    "img = Draw.MolsToGridImage(scaffold_rdmols[:12], \n",
    "                               molsPerRow=6, \n",
    "                               subImgSize=(200, 200), \n",
    "                               # highlightAtomLists=highlight,\n",
    "                               useSVG= True,\n",
    "                               legends = [ligand.compound_name for ligand in scaffold_smiles[:12]],\n",
    "                               drawOptions=dopts)\n",
    "with open(\"scaffold_images_6x2.svg\", 'w') as f:\n",
    "        f.write(img.data)"
   ],
   "metadata": {
    "collapsed": false
   },
   "id": "cd11c1753e41aa0",
   "execution_count": null
  },
  {
   "cell_type": "code",
   "outputs": [],
   "source": [],
   "metadata": {
    "collapsed": false
   },
   "id": "7992cd696d7db859"
  }
 ],
 "metadata": {
  "kernelspec": {
   "display_name": "Python 3",
   "language": "python",
   "name": "python3"
  },
  "language_info": {
   "codemirror_mode": {
    "name": "ipython",
    "version": 2
   },
   "file_extension": ".py",
   "mimetype": "text/x-python",
   "name": "python",
   "nbconvert_exporter": "python",
   "pygments_lexer": "ipython2",
   "version": "2.7.6"
  }
 },
 "nbformat": 4,
 "nbformat_minor": 5
}
