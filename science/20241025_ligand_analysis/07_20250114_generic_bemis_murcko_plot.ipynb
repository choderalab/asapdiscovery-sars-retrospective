{
 "cells": [
  {
   "cell_type": "code",
   "execution_count": null,
   "id": "initial_id",
   "metadata": {
    "collapsed": true
   },
   "outputs": [],
   "source": [
    "import pandas as pd\n",
    "import json\n",
    "from datetime import datetime\n",
    "import plotly.express as px\n",
    "import numpy as np\n",
    "from pathlib import Path"
   ]
  },
  {
   "cell_type": "code",
   "outputs": [],
   "source": [
    "input_csv = \"./data/generic_cluster_labels.csv\"\n",
    "output_dir = \"test\"\n",
    "compound_data_csv = \"./data/unique_compounds.csv\"\n",
    "date_json = \"/Users/alexpayne/Scientific_Projects/asapdiscovery-sars-retrospective/science/20240403_multi_pose_docking_v2/20240430_analyze_cross_docking_results/20240503_inputs_analysis/date_dict.json\"\n",
    "figures = Path(\"./figures\")"
   ],
   "metadata": {
    "collapsed": false
   },
   "id": "4997fb0b5b4dac62",
   "execution_count": null
  },
  {
   "cell_type": "code",
   "outputs": [],
   "source": [
    "def date_processor(date_string):\n",
    "    if type(date_string) == str and not date_string == \"None\":\n",
    "        try:\n",
    "            return datetime.strptime(date_string, \"%Y-%m-%d %H:%M:%S\")\n",
    "        except ValueError:\n",
    "            return datetime.strptime(date_string, \"%d/%m/%Y %H:%M\")\n",
    "    else:\n",
    "        return None"
   ],
   "metadata": {
    "collapsed": false
   },
   "id": "5f3abb0828a49b48",
   "execution_count": null
  },
  {
   "cell_type": "code",
   "outputs": [],
   "source": [
    "with open(date_json, \"r\") as f:\n",
    "    date_dict = [\n",
    "        {\"Name\": name, \"Date\": date_processor(date)}\n",
    "        for name, date in json.load(f).items()\n",
    "    ]\n",
    "    date_df = pd.DataFrame.from_records(date_dict)\n",
    "\n",
    "compound_data = pd.read_csv(compound_data_csv)\n",
    "\n",
    "compound_data = compound_data.merge(\n",
    "    date_df, left_on=\"structure_name\", right_on=\"Name\"\n",
    ")\n",
    "\n",
    "df = pd.read_csv(input_csv)\n",
    "\n",
    "df = df.merge(compound_data, on=\"compound_name\", how=\"left\")"
   ],
   "metadata": {
    "collapsed": false
   },
   "id": "c9a23cb47f75f477",
   "execution_count": null
  },
  {
   "cell_type": "markdown",
   "source": [
    "## count number of structures per cluster"
   ],
   "metadata": {
    "collapsed": false
   },
   "id": "e18cac0650e83628"
  },
  {
   "cell_type": "code",
   "outputs": [],
   "source": [
    "cluster_counts = df.groupby('cluster_id').count().reset_index()[['cluster_id', 'compound_name']]\n",
    "cluster_counts.columns = ['cluster_id', 'count']"
   ],
   "metadata": {
    "collapsed": false
   },
   "id": "fd37775b23709c4a",
   "execution_count": null
  },
  {
   "cell_type": "code",
   "outputs": [],
   "source": [
    "df_ccounts = pd.merge(df, cluster_counts, on='cluster_id', how='left')"
   ],
   "metadata": {
    "collapsed": false
   },
   "id": "e23a847762c37b76",
   "execution_count": null
  },
  {
   "cell_type": "markdown",
   "source": [
    "## remove singlets"
   ],
   "metadata": {
    "collapsed": false
   },
   "id": "b2f665312fa15d5e"
  },
  {
   "cell_type": "code",
   "outputs": [],
   "source": [
    "no_singlets = df_ccounts[df_ccounts['count'] > 1]"
   ],
   "metadata": {
    "collapsed": false
   },
   "id": "7729f199c06c5ff7",
   "execution_count": null
  },
  {
   "cell_type": "code",
   "outputs": [],
   "source": [
    "no_singlets_ccs = cluster_counts[cluster_counts['count'] > 1]"
   ],
   "metadata": {
    "collapsed": false
   },
   "id": "e8ee972150ba4cff",
   "execution_count": null
  },
  {
   "cell_type": "markdown",
   "source": [
    "# Plot Bar Chart"
   ],
   "metadata": {
    "collapsed": false
   },
   "id": "b24324e669a70e1f"
  },
  {
   "cell_type": "code",
   "outputs": [],
   "source": [
    "int(cluster_counts['count'].max())"
   ],
   "metadata": {
    "collapsed": false
   },
   "id": "454f673236136f18",
   "execution_count": null
  },
  {
   "cell_type": "code",
   "outputs": [],
   "source": [
    "int(no_singlets_ccs['count'].max())"
   ],
   "metadata": {
    "collapsed": false
   },
   "id": "c231eee5956976f0",
   "execution_count": null
  },
  {
   "cell_type": "code",
   "outputs": [],
   "source": [
    "cluster_counts['count'].max()"
   ],
   "metadata": {
    "collapsed": false
   },
   "id": "92871b04014d24a0",
   "execution_count": null
  },
  {
   "cell_type": "code",
   "outputs": [],
   "source": [
    "cluster_counts['count'].min()"
   ],
   "metadata": {
    "collapsed": false
   },
   "id": "b2f627c9cdb58cce",
   "execution_count": null
  },
  {
   "cell_type": "code",
   "outputs": [],
   "source": [
    "def plot_bar_chart(df):\n",
    "    fig = px.histogram(df, x=\"count\", template=\"simple_white\", height=600, width=800, log_y=True, text_auto=True, nbins=int(df['count'].max()))\n",
    "    fig.update_yaxes(title_text=\"<b> Number of Clusters </b>\", tickvals=[(10**big)*small for big in range(0, 3) for small in [1,2,4,6,8]])\n",
    "    fig.update_xaxes(title_text=\"<b> Number of Compounds in Cluster </b>\")\n",
    "    return fig"
   ],
   "metadata": {
    "collapsed": false
   },
   "id": "b0c1d3ff524575f8",
   "execution_count": null
  },
  {
   "cell_type": "code",
   "outputs": [],
   "source": [
    "\n",
    "# plot_bar_chart(no_singlets_ccs)\n",
    "fig = plot_bar_chart(cluster_counts)\n",
    "fig.update_traces(xbins=dict( # bins used for histogram\n",
    "        start=0.0,\n",
    "        end=65.0,\n",
    "        size=1\n",
    "    ))\n",
    "fig.update_xaxes(range=[0, 10], tickvals=[0, 1, 2, 3, 4, 5, 6, 7, 8, 9,])\n",
    "fig.show()"
   ],
   "metadata": {
    "collapsed": false
   },
   "id": "4327026d37f180c5",
   "execution_count": null
  },
  {
   "cell_type": "code",
   "outputs": [],
   "source": [
    "hist_data = cluster_counts.groupby('count').count().reset_index()\n",
    "hist_data.columns = ['count', 'number_of_clusters']"
   ],
   "metadata": {
    "collapsed": false
   },
   "id": "597d417fd289cc66",
   "execution_count": null
  },
  {
   "cell_type": "code",
   "outputs": [],
   "source": [
    "fig1 = px.bar(hist_data, x='count', y='number_of_clusters', template='simple_white', log_y=True, text_auto=True, height=600, width=400)\n",
    "fig1.update_xaxes(title_text=\"<b> Number of Compounds in Cluster </b>\", range=[0, 10], tickvals=[0, 1, 2, 3, 4, 5, 6, 7, 8, 9])\n",
    "fig1.update_yaxes(title_text=\"<b> Number of Clusters </b>\", tickvals=[(10**big)*small for big in range(0, 3) for small in [1,2,4,6,8]])\n",
    "fig1.show()\n",
    "fig1.write_image(figures / f\"20250114_generic_bm_cluster_histogram_fig1.png\")\n",
    "fig1.write_image(figures / f\"20250114_generic_bm_cluster_histogram_fig1.svg\")"
   ],
   "metadata": {
    "collapsed": false
   },
   "id": "a78696e538466ec3",
   "execution_count": null
  },
  {
   "cell_type": "code",
   "outputs": [],
   "source": [
    "hist_data"
   ],
   "metadata": {
    "collapsed": false
   },
   "id": "b1baa2b1b6a96c1",
   "execution_count": null
  },
  {
   "cell_type": "code",
   "outputs": [],
   "source": [
    "cut_hist_data = hist_data[hist_data['count'] > 10]\n",
    "fig2 = px.bar(cut_hist_data, x='count', y='number_of_clusters', template='simple_white', text_auto=True, height=600, width=400)\n",
    "fig2.update_xaxes(title_text=\"<b> Number of Compounds in Cluster </b>\")\n",
    "fig2.update_yaxes(title_text=\"<b> Number of Clusters </b>\")\n",
    "fig2.show()"
   ],
   "metadata": {
    "collapsed": false
   },
   "id": "5e4781b0344eb7bb",
   "execution_count": null
  },
  {
   "cell_type": "code",
   "outputs": [],
   "source": [
    "cut_hist_data['my_index'] = [i for i in [3,2,1,0]]"
   ],
   "metadata": {
    "collapsed": false
   },
   "id": "d36368a1ced8f75c",
   "execution_count": null
  },
  {
   "cell_type": "code",
   "outputs": [],
   "source": [
    "cut_hist_data['values'] = [f'Cluster {i} - {cut_hist_data.iloc[np.abs(3-i)][\"count\"]} Molecules' for i in [3,2,1,0]] "
   ],
   "metadata": {
    "collapsed": false
   },
   "id": "1417890432d7b669",
   "execution_count": null
  },
  {
   "cell_type": "code",
   "outputs": [],
   "source": [
    "cut_hist_data"
   ],
   "metadata": {
    "collapsed": false
   },
   "id": "ebd46346ec33d373",
   "execution_count": null
  },
  {
   "cell_type": "code",
   "outputs": [],
   "source": [
    "fig = px.treemap(cut_hist_data, path=['values'], values='count', template='simple_white', height=600, width=600)\n",
    "fig.update_layout(margin = dict(t=25, l=25, r=25, b=25))\n",
    "fig.show()\n",
    "fig.write_image(figures / f\"20250114_generic_bm_cluster_histogram_fig2_treemap.png\")\n",
    "fig.write_image(figures / f\"20250114_generic_bm_cluster_histogram_fig2_treemap.svg\")"
   ],
   "metadata": {
    "collapsed": false
   },
   "id": "48ed2103fd5e0f53",
   "execution_count": null
  },
  {
   "cell_type": "code",
   "outputs": [],
   "source": [
    "cut_hist_data['simple_values'] = [f'Cluster {i}' for i in [3,2,1,0]]\n",
    "fig2 = px.bar(cut_hist_data, y='simple_values', x='count', template='simple_white', text_auto=True, height=600, width=400)\n",
    "fig2.update_xaxes(title_text=\"<b> Number of Compounds in Cluster </b>\")\n",
    "fig2.update_yaxes(title_text=\"<b> Cluster </b>\")\n",
    "fig2.show()\n",
    "fig2.write_image(figures / f\"20250114_generic_bm_cluster_histogram_fig2_sideways_bar.png\")\n",
    "fig2.write_image(figures / f\"20250114_generic_bm_cluster_histogram_fig2_sideways_bar.svg\")"
   ],
   "metadata": {
    "collapsed": false
   },
   "id": "e6ac9ac37a1b542",
   "execution_count": null
  },
  {
   "cell_type": "code",
   "outputs": [],
   "source": [
    "cut_hist_data['simple_values'] = [f'Cluster {i}' for i in [3,2,1,0]]\n",
    "fig2 = px.bar(cut_hist_data, x='simple_values', y='count', template='simple_white', text_auto=True, height=600, width=400)\n",
    "fig2.update_yaxes(title_text=\"<b> Number of Compounds in Cluster </b>\")\n",
    "fig2.update_xaxes(title_text=\"<b> Cluster </b>\")\n",
    "fig2.show()\n",
    "fig2.write_image(figures / f\"20250114_generic_bm_cluster_histogram_fig2_bar.png\")\n",
    "fig2.write_image(figures / f\"20250114_generic_bm_cluster_histogram_fig2_bar.svg\")"
   ],
   "metadata": {
    "collapsed": false
   },
   "id": "ceeb3424dd1e2955",
   "execution_count": null
  },
  {
   "cell_type": "code",
   "outputs": [],
   "source": [
    "# combine fig1 and fig2 in a sidebyside plot\n",
    "from plotly.subplots import make_subplots\n",
    "fig = make_subplots(rows=1, cols=2, column_widths=[0.5, 0.5])\n",
    "fig1_trace = fig1['data']\n",
    "fig2_trace = fig2['data']\n",
    "combined_traces = fig1_trace + fig2_trace\n",
    "from plotly import graph_objects as go\n",
    "combined_fig = go.Figure(data=combined_traces)"
   ],
   "metadata": {
    "collapsed": false
   },
   "id": "f12bf12d339bef1b",
   "execution_count": null
  },
  {
   "cell_type": "code",
   "outputs": [],
   "source": [
    "combined_fig"
   ],
   "metadata": {
    "collapsed": false
   },
   "id": "17ff883ba733a1a8",
   "execution_count": null
  },
  {
   "cell_type": "markdown",
   "source": [
    "# plot scaffolds over time"
   ],
   "metadata": {
    "collapsed": false
   },
   "id": "7f448dec7e7fb126"
  },
  {
   "cell_type": "code",
   "outputs": [],
   "source": [
    "def make_image(df):\n",
    "    import plotly.express as px\n",
    "\n",
    "    large_font = 24\n",
    "    small_font = 18\n",
    "\n",
    "    fig = px.ecdf(\n",
    "        df,\n",
    "        x=\"Date\",\n",
    "        color=\"cluster_id\",\n",
    "        ecdfnorm=None,\n",
    "        template=\"simple_white\",\n",
    "        height=600,\n",
    "        width=800,\n",
    "    )\n",
    "    # update legend title\n",
    "    fig.update_layout(legend_title_text=\"<b> Bemis-Murcko Cluster </b>\")\n",
    "    fig.update_xaxes(title_text=\"<b> Date of Crystal Structure Collection </b>\")\n",
    "    fig.update_yaxes(title_text=\"<b> Cumulative Number of Structures </b>\")\n",
    "\n",
    "    update_layout_dict = dict(\n",
    "        xaxis=dict(\n",
    "            title_font=dict(size=large_font),\n",
    "            color=\"black\",\n",
    "        ),\n",
    "        yaxis=dict(\n",
    "            # range=(0,1),\n",
    "            title_font=dict(size=large_font),\n",
    "            color=\"black\",\n",
    "        ),\n",
    "    )\n",
    "\n",
    "    # move legend to inside the plot\n",
    "    fig.update_layout(\n",
    "        legend=dict(yanchor=\"bottom\", y=0.25, xanchor=\"right\", x=1.1),\n",
    "        **update_layout_dict,\n",
    "    )\n",
    "\n",
    "    return fig\n"
   ],
   "metadata": {
    "collapsed": false
   },
   "id": "a94cbfc6277c9c9",
   "execution_count": null
  },
  {
   "cell_type": "markdown",
   "source": [
    "## get rid of legend"
   ],
   "metadata": {
    "collapsed": false
   },
   "id": "b4e35f3c537005e3"
  },
  {
   "cell_type": "code",
   "outputs": [],
   "source": [
    "def make_image(df):\n",
    "    import plotly.express as px\n",
    "\n",
    "    large_font = 24\n",
    "    small_font = 18\n",
    "\n",
    "    fig = px.ecdf(\n",
    "        df,\n",
    "        x=\"Date\",\n",
    "        color=\"cluster_id\",\n",
    "        ecdfnorm=None,\n",
    "        template=\"simple_white\",\n",
    "        height=600,\n",
    "        width=800,\n",
    "        # color_discrete_sequence=px.colors.qualitative.Plotly,\n",
    "    )\n",
    "    # update legend title\n",
    "    # fig.update_layout(legend_title_text=\"<b> Bemis-Murcko Cluster </b>\")\n",
    "    fig.update_xaxes(title_text=\"<b> Date of Crystal Structure Collection </b>\")\n",
    "    fig.update_yaxes(title_text=\"<b> Cumulative Number of Structures </b>\")\n",
    "\n",
    "    update_layout_dict = dict(\n",
    "        xaxis=dict(\n",
    "            title_font=dict(size=large_font),\n",
    "            color=\"black\",\n",
    "        ),\n",
    "        yaxis=dict(\n",
    "            # range=(0,1),\n",
    "            title_font=dict(size=large_font),\n",
    "            color=\"black\",\n",
    "        ),\n",
    "    )\n",
    "    fig.update_layout(showlegend=False)\n",
    "\n",
    "    # # move legend to inside the plot\n",
    "    # fig.update_layout(\n",
    "    #     legend=dict(yanchor=\"bottom\", y=0.25, xanchor=\"right\", x=1.1),\n",
    "    #     **update_layout_dict,\n",
    "    # )\n",
    "\n",
    "    return fig"
   ],
   "metadata": {
    "collapsed": false
   },
   "id": "5a815bee690d197c",
   "execution_count": null
  },
  {
   "cell_type": "code",
   "outputs": [],
   "source": [
    "nothing_less_than_4 = no_singlets[no_singlets['count'] > 3]"
   ],
   "metadata": {
    "collapsed": false
   },
   "id": "dc215263a49f7182",
   "execution_count": null
  },
  {
   "cell_type": "code",
   "outputs": [],
   "source": [
    "fig = make_image(nothing_less_than_4)\n",
    "fig.show()\n",
    "fig.write_image(figures / f\"20250114_generic_bm_cluster_over_time.png\")\n",
    "fig.write_image(figures / f\"20250114_generic_bm_cluster_over_time.svg\")"
   ],
   "metadata": {
    "collapsed": false
   },
   "id": "1a6e0367b8e1f329",
   "execution_count": null
  }
 ],
 "metadata": {
  "kernelspec": {
   "display_name": "Python 3",
   "language": "python",
   "name": "python3"
  },
  "language_info": {
   "codemirror_mode": {
    "name": "ipython",
    "version": 2
   },
   "file_extension": ".py",
   "mimetype": "text/x-python",
   "name": "python",
   "nbconvert_exporter": "python",
   "pygments_lexer": "ipython2",
   "version": "2.7.6"
  }
 },
 "nbformat": 4,
 "nbformat_minor": 5
}
