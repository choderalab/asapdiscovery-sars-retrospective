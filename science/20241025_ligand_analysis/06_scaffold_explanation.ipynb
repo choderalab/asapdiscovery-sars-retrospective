{
 "cells": [
  {
   "cell_type": "code",
   "outputs": [],
   "source": [
    "from rdkit.Chem.Scaffolds import MurckoScaffold\n",
    "from asapdiscovery.data.schema.ligand import Ligand\n",
    "from asapdiscovery.data.readers.molfile import MolFileFactory\n",
    "from rdkit import Chem\n",
    "\n",
    "from pydantic import BaseModel\n",
    "from abc import abstractmethod\n",
    "PATT = Chem.MolFromSmarts(\"[$([D1]=[*])]\")\n",
    "REPL = Chem.MolFromSmarts(\"[*]\")"
   ],
   "metadata": {
    "collapsed": false
   },
   "id": "3496273afa12929e",
   "execution_count": null
  },
  {
   "cell_type": "code",
   "outputs": [],
   "source": [
    "class BaseBemisMurckoScaffold(BaseModel):\n",
    "    name: str\n",
    "\n",
    "    @abstractmethod\n",
    "    def run(self, ligand: Ligand) -> str:\n",
    "        \"\"\"\n",
    "        Run the Bemis-Murcko clustering on the ligands\n",
    "        \"\"\"\n",
    "        pass\n",
    "\n",
    "\n",
    "class DefaultRDKitBemisMurckoScaffold(BaseBemisMurckoScaffold):\n",
    "    name = \"RDKit Bemis-Murcko\"\n",
    "\n",
    "    def run(self, ligand: Ligand) -> str:\n",
    "        \"\"\"\n",
    "        Run the Bemis-Murcko clustering on the ligands\n",
    "        \"\"\"\n",
    "        mol = ligand.to_rdkit()\n",
    "        scaff = MurckoScaffold.GetScaffoldForMol(mol)\n",
    "        return Chem.MolToSmiles(scaff)\n",
    "\n",
    "\n",
    "class BajorathBemisMurckoScaffold(BaseBemisMurckoScaffold):\n",
    "    name = \"Bajorath Bemis-Murcko\"\n",
    "\n",
    "    def run(self, ligand: Ligand) -> str:\n",
    "        \"\"\"\n",
    "        Run the Bemis-Murcko clustering on the ligands\n",
    "        \"\"\"\n",
    "        mol = ligand.to_rdkit()\n",
    "        scaff = MurckoScaffold.GetScaffoldForMol(mol)\n",
    "        scaff = Chem.rdmolops.DeleteSubstructs(scaff, PATT)\n",
    "        return Chem.MolToSmiles(scaff)\n",
    "\n",
    "\n",
    "class GenericBemisMurckoScaffold(BaseBemisMurckoScaffold):\n",
    "    name = \"RDKit Generic\"\n",
    "\n",
    "    def run(self, ligand: Ligand) -> str:\n",
    "        \"\"\"\n",
    "        Run the Bemis-Murcko clustering on the ligands\n",
    "        :param ligands:\n",
    "        :return:\n",
    "        \"\"\"\n",
    "        mol = ligand.to_rdkit()\n",
    "        scaff = MurckoScaffold.GetScaffoldForMol(mol)\n",
    "        scaff = MurckoScaffold.MakeScaffoldGeneric(scaff)\n",
    "        return Chem.MolToSmiles(scaff)\n",
    "\n",
    "\n",
    "class CSKBemisMurckoScaffold(BaseBemisMurckoScaffold):\n",
    "    name = \"Cyclic Skeletons\"\n",
    "\n",
    "    def run(self, ligand: Ligand) -> str:\n",
    "        \"\"\"\n",
    "        Run the Bemis-Murcko clustering on the ligands\n",
    "        :param ligands:\n",
    "        :return:\n",
    "        \"\"\"\n",
    "        mol = ligand.to_rdkit()\n",
    "        scaff = MurckoScaffold.GetScaffoldForMol(mol)\n",
    "        scaff = Chem.rdmolops.ReplaceSubstructs(scaff, PATT, REPL, replaceAll=True)[0]\n",
    "        scaff = MurckoScaffold.MakeScaffoldGeneric(scaff)\n",
    "        scaff = MurckoScaffold.GetScaffoldForMol(scaff)\n",
    "\n",
    "        return Chem.MolToSmiles(scaff)"
   ],
   "metadata": {
    "collapsed": false
   },
   "id": "4f25568be1b3fb8d",
   "execution_count": null
  },
  {
   "cell_type": "code",
   "outputs": [],
   "source": [
    "input_smi = \"/Users/alexpayne/Scientific_Projects/asapdiscovery-sars-retrospective/science/20241025_ligand_analysis/data/unique_compounds.smi\""
   ],
   "metadata": {
    "collapsed": false
   },
   "id": "cbb8e5c956196513",
   "execution_count": null
  },
  {
   "cell_type": "code",
   "outputs": [],
   "source": [
    "mff = MolFileFactory(filename=input_smi)\n",
    "ligands = mff.load()\n",
    "\n",
    "scaffold_types = [\n",
    "    DefaultRDKitBemisMurckoScaffold(),\n",
    "    BajorathBemisMurckoScaffold(),\n",
    "    GenericBemisMurckoScaffold(),\n",
    "    CSKBemisMurckoScaffold(),\n",
    "]"
   ],
   "metadata": {
    "collapsed": true
   },
   "id": "initial_id",
   "execution_count": null
  },
  {
   "cell_type": "code",
   "outputs": [],
   "source": [
    "ligand = ligands[0]"
   ],
   "metadata": {
    "collapsed": false
   },
   "id": "f6e24e5c57e1ebe",
   "execution_count": null
  },
  {
   "cell_type": "code",
   "outputs": [],
   "source": [
    "ligand"
   ],
   "metadata": {
    "collapsed": false
   },
   "id": "c7bd1cfa921dc8d5",
   "execution_count": null
  },
  {
   "cell_type": "code",
   "outputs": [],
   "source": [
    "scaffolds = {}\n",
    "for ligand in ligands:\n",
    "    ligs = [(ligand.compound_name, ligand.to_rdkit())]\n",
    "    for scaffold_type in scaffold_types:\n",
    "        ligs.append((f\"{scaffold_type.name}\", Chem.MolFromSmiles(scaffold_type.run(ligand))))\n",
    "    scaffolds[ligand.compound_name] = ligs"
   ],
   "metadata": {
    "collapsed": false
   },
   "id": "23a0ef5b4d4bd759",
   "execution_count": null
  },
  {
   "cell_type": "code",
   "outputs": [],
   "source": [
    "def draw_scaffolds(\n",
    "    scaffold_list: list[(str, Chem.Mol)], first_n=-1, mols_per_row=-1, use_svg=True\n",
    "):\n",
    "    from rdkit.Chem import Draw, rdDepictor\n",
    "\n",
    "    scaffold_rdmols = [Chem.RemoveHs(mol[1]) for mol in scaffold_list]\n",
    "\n",
    "    # Set Draw Options\n",
    "    dopts = Draw.rdMolDraw2D.MolDrawOptions()\n",
    "    dopts.setHighlightColour((68 / 256, 178 / 256, 212 / 256))\n",
    "    dopts.highlightBondWidthMultiplier = 16\n",
    "    d2d = Draw.MolDraw2DCairo(1600, 1600)\n",
    "    print(\"Preparing depictions\")\n",
    "    for mol in scaffold_rdmols[:first_n]:\n",
    "        Draw.MolToImage(mol, size=(400, 400), options=dopts)\n",
    "        rdDepictor.Compute2DCoords(mol)\n",
    "        rdDepictor.StraightenDepiction(mol)\n",
    "        d2d.DrawMolecule(mol)\n",
    "    print(\"Creating image\")\n",
    "    print(first_n, scaffold_rdmols)\n",
    "    img = Draw.MolsToGridImage(\n",
    "        scaffold_rdmols[:first_n],\n",
    "        molsPerRow=mols_per_row,\n",
    "        subImgSize=(200, 200),\n",
    "        useSVG=use_svg,\n",
    "        legends=[mol[0] for mol in scaffold_list[:first_n]],\n",
    "        drawOptions=dopts,\n",
    "    )\n",
    "    return img"
   ],
   "metadata": {
    "collapsed": false
   },
   "id": "66838e8243e3c0f2",
   "execution_count": null
  },
  {
   "cell_type": "code",
   "outputs": [],
   "source": [
    "scaffolds"
   ],
   "metadata": {
    "collapsed": false
   },
   "id": "128e58c91bd7824e",
   "execution_count": null
  },
  {
   "cell_type": "code",
   "outputs": [],
   "source": [
    "import pandas as pd\n",
    "df = pd.read_csv(\"data/csk_cluster_labels.csv\")"
   ],
   "metadata": {
    "collapsed": false
   },
   "id": "42eba2b1c86019d9",
   "execution_count": null
  },
  {
   "cell_type": "code",
   "outputs": [],
   "source": [
    "separated_mols = df.groupby('cluster_id')['compound_name'].head(1).to_list()"
   ],
   "metadata": {
    "collapsed": false
   },
   "id": "f493f806151bc772",
   "execution_count": null
  },
  {
   "cell_type": "code",
   "outputs": [],
   "source": [
    "compound_name = 'AAR-POS-d2a4d1df-38'\n",
    "\n",
    "mols_to_plot = []\n",
    "for i, compound_name in enumerate(separated_mols):\n",
    "    if i % 10 == 0:\n",
    "        if compound_name in scaffolds.keys():\n",
    "            if all([scaffold[1] is not None for scaffold in scaffolds[compound_name]]):\n",
    "                mols_to_plot.extend(scaffolds[compound_name])"
   ],
   "metadata": {
    "collapsed": false
   },
   "id": "f0204b838257f51b",
   "execution_count": null
  },
  {
   "cell_type": "code",
   "outputs": [],
   "source": [
    "base_n_examples = 5\n",
    "n_rows = 3\n",
    "mols_per_row = base_n_examples * 1\n",
    "first_n = mols_per_row * n_rows\n",
    "img = draw_scaffolds(mols_to_plot, first_n=first_n, mols_per_row=mols_per_row, use_svg=False)\n",
    "# img.save(f\"{compound_name}_scaffold_types.png\")\n",
    "\n",
    "with open(f\"scaffold_examples.png\", \"wb\") as f:\n",
    "    f.write(img.data)\n",
    "\n",
    "img = draw_scaffolds(mols_to_plot, first_n=first_n, mols_per_row=mols_per_row, use_svg=True)\n",
    "with open(f\"scaffold_examples.svg\", \"w\") as f:\n",
    "    f.write(img.data)"
   ],
   "metadata": {
    "collapsed": false
   },
   "id": "77a9de23f8d34cd4",
   "execution_count": null
  },
  {
   "cell_type": "code",
   "outputs": [],
   "source": [],
   "metadata": {
    "collapsed": false
   },
   "id": "8083a9a8d26c99f6"
  }
 ],
 "metadata": {
  "kernelspec": {
   "display_name": "Python 3",
   "language": "python",
   "name": "python3"
  },
  "language_info": {
   "codemirror_mode": {
    "name": "ipython",
    "version": 2
   },
   "file_extension": ".py",
   "mimetype": "text/x-python",
   "name": "python",
   "nbconvert_exporter": "python",
   "pygments_lexer": "ipython2",
   "version": "2.7.6"
  }
 },
 "nbformat": 4,
 "nbformat_minor": 5
}
