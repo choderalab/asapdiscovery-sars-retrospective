{
 "cells": [
  {
   "cell_type": "code",
   "execution_count": null,
   "id": "initial_id",
   "metadata": {
    "collapsed": true
   },
   "outputs": [],
   "source": [
    "import pandas as pd"
   ]
  },
  {
   "cell_type": "markdown",
   "source": [
    "# Function Definitions"
   ],
   "metadata": {
    "collapsed": false
   },
   "id": "f11c9d090ac18968"
  },
  {
   "cell_type": "code",
   "outputs": [],
   "source": [
    "import json\n",
    "from datetime import datetime\n",
    "def date_processor(date_string):\n",
    "    if type(date_string) == str and not date_string == 'None':\n",
    "        try:\n",
    "            return datetime.strptime(date_string, \"%Y-%m-%d %H:%M:%S\")\n",
    "        except ValueError:\n",
    "            return datetime.strptime(date_string, \"%d/%m/%Y %H:%M\")\n",
    "    else:\n",
    "        return None"
   ],
   "metadata": {
    "collapsed": false
   },
   "id": "f39d888ef0fb135d",
   "execution_count": null
  },
  {
   "cell_type": "markdown",
   "source": [
    "# Plotting Variables"
   ],
   "metadata": {
    "collapsed": false
   },
   "id": "c1c790e0159722a3"
  },
  {
   "cell_type": "code",
   "outputs": [],
   "source": [
    "large_font = 24\n",
    "small_font = 18 "
   ],
   "metadata": {
    "collapsed": false
   },
   "id": "76dd1647e588bfb3",
   "execution_count": null
  },
  {
   "cell_type": "markdown",
   "source": [
    "# Execution"
   ],
   "metadata": {
    "collapsed": false
   },
   "id": "88f4c6a4afc7f219"
  },
  {
   "cell_type": "code",
   "outputs": [],
   "source": [
    "with open(\"/Users/alexpayne/Scientific_Projects/asapdiscovery-sars-retrospective/science/20240403_multi_pose_docking_v2/20240430_analyze_cross_docking_results/20240503_inputs_analysis/date_dict.json\", \"r\") as f:\n",
    "    date_dict = [{\"Name\": name, \"Date\": date_processor(date)} for name, date in json.load(f).items()]\n",
    "date_df = pd.DataFrame.from_records(date_dict)"
   ],
   "metadata": {
    "collapsed": false
   },
   "id": "40c106e05c2fea63",
   "execution_count": null
  },
  {
   "cell_type": "code",
   "outputs": [],
   "source": [
    "date_df.head()"
   ],
   "metadata": {
    "collapsed": false
   },
   "id": "38b3079c3669ba39",
   "execution_count": null
  },
  {
   "cell_type": "code",
   "outputs": [],
   "source": [
    "generic_scaffolds = pd.read_csv(\"generic_cluster_labels.csv\")\n",
    "scaffolds = pd.read_csv(\"default_cluster_labels.csv\")"
   ],
   "metadata": {
    "collapsed": false
   },
   "id": "fcfc41675af52252",
   "execution_count": null
  },
  {
   "cell_type": "code",
   "outputs": [],
   "source": [
    "# add dates\n",
    "generic_scaffolds = generic_scaffolds.merge(date_df, left_on=\"structure_name\", right_on=\"Name\")\n",
    "scaffolds = scaffolds.merge(date_df, left_on=\"structure_name\", right_on=\"Name\")"
   ],
   "metadata": {
    "collapsed": false
   },
   "id": "78dbbbbdd422e7a4",
   "execution_count": null
  },
  {
   "cell_type": "code",
   "outputs": [],
   "source": [
    "generic_scaffolds.Cluster.nunique()"
   ],
   "metadata": {
    "collapsed": false
   },
   "id": "9d41f0242f707e32",
   "execution_count": null
  },
  {
   "cell_type": "code",
   "outputs": [],
   "source": [
    "scaffolds.Cluster.nunique()"
   ],
   "metadata": {
    "collapsed": false
   },
   "id": "92ce4de6df9b2d81",
   "execution_count": null
  },
  {
   "cell_type": "code",
   "outputs": [],
   "source": [],
   "metadata": {
    "collapsed": false
   },
   "id": "802653c0b2732087"
  },
  {
   "cell_type": "code",
   "outputs": [],
   "source": [
    "gs_counts = generic_scaffolds.groupby(\"Cluster\").count()\n",
    "# rename cluster ID to be ordered by size\n",
    "gs_counts.sort_values(\"name\", ascending=False, inplace=True)\n",
    "gs_counts['Cluster_ID'] = [i for i in range(1, len(gs_counts)+1)]\n",
    "gs_counts['Method'] = \"Generic\"\n",
    "\n",
    "scaffolds_counts = scaffolds.groupby(\"Cluster\").count()\n",
    "scaffolds_counts['Method'] = \"Default\"\n",
    "# rename cluster ID to be ordered by size\n",
    "scaffolds_counts.sort_values(\"name\", ascending=False, inplace=True)\n",
    "scaffolds_counts['Cluster_ID'] = [i for i in range(1, len(scaffolds_counts)+1)]"
   ],
   "metadata": {
    "collapsed": false
   },
   "id": "9a3e9a335f363be3",
   "execution_count": null
  },
  {
   "cell_type": "code",
   "outputs": [],
   "source": [
    "cluster_counts = pd.concat([gs_counts, scaffolds_counts])"
   ],
   "metadata": {
    "collapsed": false
   },
   "id": "be424e2d21926629",
   "execution_count": null
  },
  {
   "cell_type": "code",
   "outputs": [],
   "source": [
    "cluster_counts.sort_values('Cluster_ID', inplace=True)"
   ],
   "metadata": {
    "collapsed": false
   },
   "id": "515d406f59f2e369",
   "execution_count": null
  },
  {
   "cell_type": "code",
   "outputs": [],
   "source": [
    "import plotly.express as px\n",
    "fig = px.ecdf(cluster_counts, \n",
    "              x=\"Cluster_ID\", \n",
    "              color='Method', \n",
    "              y='name', \n",
    "              template='simple_white', \n",
    "              height=600, \n",
    "              width=800, \n",
    "              ecdfnorm=None,\n",
    "              log_x=True,\n",
    "              )\n",
    "fig.update_xaxes(title_text=\"<b> Cluster ID (Ordered by Size) </b>\")\n",
    "fig.update_yaxes(title_text=\"<b> Cumulative Number of Molecules </b>\")\n",
    "fig.update_layout(\n",
    "    margin=dict(\n",
    "        # l=0, \n",
    "        # r=0, \n",
    "        t=large_font, \n",
    "        b=large_font\n",
    "    )  # Set the margins to 0\n",
    ")\n",
    "fig.show()\n",
    "fig.write_image(\"20241106_cluster_size_ecdf.svg\")"
   ],
   "metadata": {
    "collapsed": false
   },
   "id": "a2f915fecb72e338",
   "execution_count": null
  },
  {
   "cell_type": "code",
   "outputs": [],
   "source": [
    "import plotly.express as px\n",
    "fig = px.bar(cluster_counts, x=\"Cluster_ID\", \n",
    "             color='Method',\n",
    "             # color = 'name',\n",
    "             y='name', \n",
    "             template='simple_white', \n",
    "             height=600, width=800, \n",
    "             log_x=True, \n",
    "             # facet_col='Method',\n",
    "             barmode='group',\n",
    "             # barmode='overlay',\n",
    "             )\n",
    "fig.update_xaxes(title_text=\"<b> Cluster ID (Ordered by Size, Log Scale) </b>\")\n",
    "fig.update_yaxes(title_text=\"<b> Number of Molecules In the Cluster </b>\")\n",
    "fig.update_layout(\n",
    "    bargap=0,  # Set the gap between bars to 0\n",
    "    margin=dict(\n",
    "        # l=0, \n",
    "        # r=0, \n",
    "        t=large_font, \n",
    "        # b=large_font\n",
    "    )  # Set the margins to 0\n",
    ")\n",
    "fig.show()\n",
    "fig.write_image(\"20241106_cluster_size_bar.svg\")"
   ],
   "metadata": {
    "collapsed": false
   },
   "id": "e6f2fc80b9191c9",
   "execution_count": null
  },
  {
   "cell_type": "markdown",
   "source": [
    "## overlay both figures"
   ],
   "metadata": {
    "collapsed": false
   },
   "id": "c470b7297cccd115"
  },
  {
   "cell_type": "code",
   "outputs": [],
   "source": [
    "import plotly.graph_objects as go\n",
    "from plotly.subplots import make_subplots\n",
    "import numpy as np\n",
    "# make separate dfs for diff methods\n",
    "methods = cluster_counts['Method'].unique()\n",
    "methods.sort()\n",
    "data_dict = {method: cluster_counts[cluster_counts['Method'] == method] for method in methods}\n",
    "\n",
    "bar_plots = []\n",
    "ecdf_plots = []\n",
    "\n",
    "for i, (method, data) in enumerate(data_dict.items()): \n",
    "    # Create the bar plot\n",
    "    bar_fig = go.Bar(\n",
    "        x=data['Cluster_ID'],\n",
    "        y=data['name'],  # Ensure that 'name' is the count for the bar plot\n",
    "        name=f'{method} - Cluster Count',\n",
    "        marker=dict(color=px.colors.qualitative.Dark2[i]),\n",
    "        opacity=0.5,\n",
    "    )\n",
    "    bar_plots.append(bar_fig)\n",
    "    cumsum = data['name'].cumsum()\n",
    "    cumsum[-0.5] = 0\n",
    "    print(cumsum)\n",
    "    # Create the ECDF plot (line)\n",
    "    ecdf_fig = go.Scatter(\n",
    "        x=data['Cluster_ID'],\n",
    "        y=cumsum,  # Ensure that 'name' is the cumulative value\n",
    "        mode='lines',\n",
    "        name=f'{method} - CDF',\n",
    "        line=dict(color=px.colors.qualitative.Dark2[i]),\n",
    "    )\n",
    "    ecdf_plots.append(ecdf_fig)\n",
    "\n",
    "\n",
    "\n",
    "# Create subplots: one plot with two y-axes\n",
    "fig = make_subplots(\n",
    "    rows=1, cols=1,\n",
    "    shared_xaxes=True,\n",
    "    vertical_spacing=0.1,\n",
    "    subplot_titles=['Cluster Size Distribution by Bemis-Murcko Scaffold Type'],\n",
    "    specs=[[{'secondary_y': True}]]  # Allow secondary y-axis for the bar plot\n",
    ")\n",
    "\n",
    "for ecdf_fig, bar_fig in zip(ecdf_plots, bar_plots):\n",
    "    fig.add_trace(ecdf_fig, row=1, col=1, secondary_y=True)\n",
    "    fig.add_trace(bar_fig, row=1, col=1)\n",
    "\n",
    "# Update the x-axis\n",
    "fig.update_xaxes(title_text=\"<b>Cluster ID (Ordered by Size, Log Scale)</b>\", row=1, col=1, \n",
    "                 type='log',\n",
    "                 range=[0, np.log10(data['Cluster_ID'].max())],\n",
    "                 )\n",
    "\n",
    "# Update the y-axes\n",
    "fig.update_yaxes(title_text=\"<b>Number of Molecules in the Cluster</b>\", row=1, col=1, secondary_y=False)\n",
    "fig.update_yaxes(title_text=\"<b>Cumulative Number of Molecules</b>\", row=1, col=1, secondary_y=True, )\n",
    "\n",
    "\n",
    "# Update the layout\n",
    "fig.update_layout(\n",
    "    template='simple_white',\n",
    "    height=600,\n",
    "    width=800,\n",
    "    bargap=0,\n",
    "    margin=dict(t=large_font),  # Adjust margins as needed\n",
    "    barmode='overlay',  # Overlay the bar plots\n",
    ")\n",
    "\n",
    "# Show the figure\n",
    "fig.show()"
   ],
   "metadata": {
    "collapsed": false
   },
   "id": "15081456285836fb",
   "execution_count": null
  },
  {
   "cell_type": "code",
   "outputs": [],
   "source": [
    "data['Cluster_ID']"
   ],
   "metadata": {
    "collapsed": false
   },
   "id": "219d91ecca88e02d",
   "execution_count": null
  },
  {
   "cell_type": "code",
   "outputs": [],
   "source": [
    "import numpy as np\n",
    "np.log(0.5)"
   ],
   "metadata": {
    "collapsed": false
   },
   "id": "abe42a2dc5ed27a4",
   "execution_count": null
  },
  {
   "cell_type": "code",
   "outputs": [],
   "source": [
    "import plotly.graph_objects as go\n",
    "# make a cdf plot and a bar plot with separate y axes\n",
    "\n",
    "\n"
   ],
   "metadata": {
    "collapsed": false
   },
   "id": "f0b867de89939c42",
   "execution_count": null
  },
  {
   "cell_type": "code",
   "outputs": [],
   "source": [
    "scaffolds.Cluster.nunique()"
   ],
   "metadata": {
    "collapsed": false
   },
   "id": "c6ad16767a9a74fc",
   "execution_count": null
  },
  {
   "cell_type": "code",
   "outputs": [],
   "source": [
    "import plotly.express as px\n",
    "fig = px.ecdf(scaffolds, \n",
    "              x='Date', \n",
    "              color='Cluster', \n",
    "              ecdfnorm=None, \n",
    "              template='simple_white', \n",
    "              log_y=True,height=600,width=800,)\n",
    "# update legend title\n",
    "fig.update_layout(legend_title_text=\"<b> Bemis-Murcko Cluster </b>\")\n",
    "fig.update_xaxes(title_text=\"<b> Date of Crystal Structure Collection </b>\")\n",
    "fig.update_yaxes(title_text=\"<b> Cumulative Number of Structures </b>\")\n",
    "\n",
    "update_layout_dict = dict(xaxis=dict(title_font=dict(size=large_font), \n",
    "                            color='black', \n",
    "                            ),\n",
    "                  yaxis=dict(\n",
    "                      # range=(0,1),  \n",
    "                      title_font=dict(size=large_font), \n",
    "                             color='black', \n",
    "                             ))\n",
    "\n",
    "# move legend to inside the plot\n",
    "fig.update_layout(legend=dict(\n",
    "    yanchor=\"bottom\",\n",
    "    y=0.25,\n",
    "    xanchor=\"right\",\n",
    "    x=1.1\n",
    "), **update_layout_dict)\n",
    "fig.show()\n",
    "fig.write_image(\"20241106_cumulative_cluster_by_date.svg\")"
   ],
   "metadata": {
    "collapsed": false
   },
   "id": "117a358602a3f066",
   "execution_count": null
  },
  {
   "cell_type": "code",
   "outputs": [],
   "source": [],
   "metadata": {
    "collapsed": false
   },
   "id": "615bb1857437efc2"
  }
 ],
 "metadata": {
  "kernelspec": {
   "display_name": "Python 3",
   "language": "python",
   "name": "python3"
  },
  "language_info": {
   "codemirror_mode": {
    "name": "ipython",
    "version": 2
   },
   "file_extension": ".py",
   "mimetype": "text/x-python",
   "name": "python",
   "nbconvert_exporter": "python",
   "pygments_lexer": "ipython2",
   "version": "2.7.6"
  }
 },
 "nbformat": 4,
 "nbformat_minor": 5
}
