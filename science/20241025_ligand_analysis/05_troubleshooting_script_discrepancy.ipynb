{
 "cells": [
  {
   "cell_type": "code",
   "execution_count": null,
   "id": "initial_id",
   "metadata": {
    "collapsed": true
   },
   "outputs": [],
   "source": [
    "import pandas as pd\n",
    "import json\n",
    "from datetime import datetime"
   ]
  },
  {
   "cell_type": "code",
   "outputs": [],
   "source": [
    "input_csv = \"./data/generic_cluster_labels.csv\"\n",
    "output_dir = \"test\"\n",
    "compound_data_csv = \"./data/unique_compounds.csv\"\n",
    "date_json = \"/Users/alexpayne/Scientific_Projects/asapdiscovery-sars-retrospective/science/20240403_multi_pose_docking_v2/20240430_analyze_cross_docking_results/20240503_inputs_analysis/date_dict.json\""
   ],
   "metadata": {
    "collapsed": false
   },
   "id": "b6f9236927962384",
   "execution_count": null
  },
  {
   "cell_type": "code",
   "outputs": [],
   "source": [
    "def date_processor(date_string):\n",
    "    if type(date_string) == str and not date_string == \"None\":\n",
    "        try:\n",
    "            return datetime.strptime(date_string, \"%Y-%m-%d %H:%M:%S\")\n",
    "        except ValueError:\n",
    "            return datetime.strptime(date_string, \"%d/%m/%Y %H:%M\")\n",
    "    else:\n",
    "        return None"
   ],
   "metadata": {
    "collapsed": false
   },
   "id": "8576ebf5638a44df",
   "execution_count": null
  },
  {
   "cell_type": "code",
   "outputs": [],
   "source": [
    "with open(date_json, \"r\") as f:\n",
    "    date_dict = [\n",
    "        {\"Name\": name, \"Date\": date_processor(date)}\n",
    "        for name, date in json.load(f).items()\n",
    "    ]\n",
    "    date_df = pd.DataFrame.from_records(date_dict)\n",
    "\n",
    "compound_data = pd.read_csv(compound_data_csv)\n",
    "\n",
    "compound_data = compound_data.merge(\n",
    "    date_df, left_on=\"structure_name\", right_on=\"Name\"\n",
    ")\n",
    "\n",
    "df = pd.read_csv(input_csv)\n",
    "\n",
    "df = df.merge(compound_data, on=\"compound_name\", how=\"left\")"
   ],
   "metadata": {
    "collapsed": false
   },
   "id": "35d40ca310a074f2",
   "execution_count": null
  },
  {
   "cell_type": "code",
   "outputs": [],
   "source": [
    "def make_image(df):\n",
    "    import plotly.express as px\n",
    "\n",
    "    large_font = 24\n",
    "    small_font = 18\n",
    "\n",
    "    fig = px.ecdf(\n",
    "        df,\n",
    "        x=\"Date\",\n",
    "        color=\"cluster_id\",\n",
    "        ecdfnorm=None,\n",
    "        template=\"simple_white\",\n",
    "        height=600,\n",
    "        width=800,\n",
    "    )\n",
    "    # update legend title\n",
    "    fig.update_layout(legend_title_text=\"<b> Bemis-Murcko Cluster </b>\")\n",
    "    fig.update_xaxes(title_text=\"<b> Date of Crystal Structure Collection </b>\")\n",
    "    fig.update_yaxes(title_text=\"<b> Cumulative Number of Structures </b>\")\n",
    "\n",
    "    update_layout_dict = dict(\n",
    "        xaxis=dict(\n",
    "            title_font=dict(size=large_font),\n",
    "            color=\"black\",\n",
    "        ),\n",
    "        yaxis=dict(\n",
    "            # range=(0,1),\n",
    "            title_font=dict(size=large_font),\n",
    "            color=\"black\",\n",
    "        ),\n",
    "    )\n",
    "\n",
    "    # move legend to inside the plot\n",
    "    fig.update_layout(\n",
    "        legend=dict(yanchor=\"bottom\", y=0.25, xanchor=\"right\", x=1.1),\n",
    "        **update_layout_dict,\n",
    "    )\n",
    "\n",
    "    return fig\n"
   ],
   "metadata": {
    "collapsed": false
   },
   "id": "897fe777545c163c",
   "execution_count": null
  },
  {
   "cell_type": "code",
   "outputs": [],
   "source": [
    "make_image(df)"
   ],
   "metadata": {
    "collapsed": false
   },
   "id": "8d3601c5e29f6058",
   "execution_count": null
  },
  {
   "cell_type": "code",
   "outputs": [],
   "source": [
    "df"
   ],
   "metadata": {
    "collapsed": false
   },
   "id": "d5b777a43a00e5",
   "execution_count": null
  },
  {
   "cell_type": "code",
   "outputs": [],
   "source": [
    "import plotly.express as px"
   ],
   "metadata": {
    "collapsed": false
   },
   "id": "a4546bcb630278bd",
   "execution_count": null
  },
  {
   "cell_type": "code",
   "outputs": [],
   "source": [
    "cluster_counts = df.groupby('cluster_id').count().reset_index()"
   ],
   "metadata": {
    "collapsed": false
   },
   "id": "dd7692ed7081d5d2",
   "execution_count": null
  },
  {
   "cell_type": "code",
   "outputs": [],
   "source": [
    "cluster_counts"
   ],
   "metadata": {
    "collapsed": false
   },
   "id": "51deb8a3924d4ce4",
   "execution_count": null
  },
  {
   "cell_type": "code",
   "outputs": [],
   "source": [
    "px.ecdf(cluster_counts, x=\"cluster_id\", y=\"compound_name\", ecdfnorm=None, template=\"simple_white\", height=600, width=800)"
   ],
   "metadata": {
    "collapsed": false
   },
   "id": "b95fa6c28c64d075",
   "execution_count": null
  },
  {
   "cell_type": "code",
   "outputs": [],
   "source": [
    "fig = px.histogram(cluster_counts, x=\"compound_name\", template=\"simple_white\", height=600, width=800, log_y=True, text_auto=True)\n",
    "fig.update_yaxes(title_text=\"<b> Number of Clusters </b>\", tickvals=[(10**big)*small for big in range(0, 3) for small in [1,2,4,6,8]])\n",
    "fig.update_xaxes(title_text=\"<b> Number of Compounds in Cluster </b>\")\n",
    "fig.show()\n",
    "fig.write_image(\"figures/20241121_generic_cluster_bar.png\")\n",
    "fig.write_image(\"figures/20241121_generic_cluster_bar.svg\")"
   ],
   "metadata": {
    "collapsed": false
   },
   "id": "f298dfa5dbbc5f28",
   "execution_count": null
  },
  {
   "cell_type": "code",
   "outputs": [],
   "source": [
    "from rdkit.Chem import MolFromSmiles"
   ],
   "metadata": {
    "collapsed": false
   },
   "id": "8ea542b0859c1351",
   "execution_count": null
  },
  {
   "cell_type": "code",
   "outputs": [],
   "source": [
    "cluster0 = \"CC(CC1CCCC2CCCCC21)C1CCCC2CCCCC21\"\n",
    "mol = MolFromSmiles(cluster0)"
   ],
   "metadata": {
    "collapsed": false
   },
   "id": "a87836591cf2b1ca",
   "execution_count": null
  },
  {
   "cell_type": "code",
   "outputs": [],
   "source": [
    "mol"
   ],
   "metadata": {
    "collapsed": false
   },
   "id": "597467dcb414af9c",
   "execution_count": null
  },
  {
   "cell_type": "code",
   "outputs": [],
   "source": [
    "df.groupby('cluster_id').nunique()"
   ],
   "metadata": {
    "collapsed": false
   },
   "id": "7890e5a9b2d8db15",
   "execution_count": null
  },
  {
   "cell_type": "code",
   "outputs": [],
   "source": [
    "just_cluster0 = df[df['cluster_id'] == 0]"
   ],
   "metadata": {
    "collapsed": false
   },
   "id": "d78c769f834fd6ed",
   "execution_count": null
  },
  {
   "cell_type": "code",
   "outputs": [],
   "source": [
    "make_image(just_cluster0)"
   ],
   "metadata": {
    "collapsed": false
   },
   "id": "7474e858f49c0b9a",
   "execution_count": null
  },
  {
   "cell_type": "code",
   "outputs": [],
   "source": [
    "just_cluster0.sort_values('Date')"
   ],
   "metadata": {
    "collapsed": false
   },
   "id": "f7eae0d4b0addae3",
   "execution_count": null
  },
  {
   "cell_type": "code",
   "outputs": [],
   "source": [
    "# why all the nans?"
   ],
   "metadata": {
    "collapsed": false
   },
   "id": "4e20556dc9e8e993",
   "execution_count": null
  },
  {
   "cell_type": "code",
   "outputs": [],
   "source": [
    "unique_names = compound_data.compound_name"
   ],
   "metadata": {
    "collapsed": false
   },
   "id": "7948945755d71c06",
   "execution_count": null
  },
  {
   "cell_type": "code",
   "outputs": [],
   "source": [
    "just_cluster0[~just_cluster0['compound_name'].isin(unique_names)]"
   ],
   "metadata": {
    "collapsed": false
   },
   "id": "d3623b231ba29e6",
   "execution_count": null
  },
  {
   "cell_type": "code",
   "outputs": [],
   "source": [
    "example = \"MAT-POS-96f51285-5\""
   ],
   "metadata": {
    "collapsed": false
   },
   "id": "8556df6a7b220988",
   "execution_count": null
  },
  {
   "cell_type": "code",
   "outputs": [],
   "source": [
    "name_list = unique_names.to_list()"
   ],
   "metadata": {
    "collapsed": false
   },
   "id": "9a4fd876bbd34b9",
   "execution_count": null
  },
  {
   "cell_type": "code",
   "outputs": [],
   "source": [
    "example in name_list"
   ],
   "metadata": {
    "collapsed": false
   },
   "id": "4f72818f8ce3b793",
   "execution_count": null
  },
  {
   "cell_type": "code",
   "outputs": [],
   "source": [
    "raw_compound_data = pd.read_csv(compound_data_csv)"
   ],
   "metadata": {
    "collapsed": false
   },
   "id": "d3aa5283c700fd31",
   "execution_count": null
  },
  {
   "cell_type": "code",
   "outputs": [],
   "source": [
    "raw_compound_data[raw_compound_data['compound_name'] == example]"
   ],
   "metadata": {
    "collapsed": false
   },
   "id": "d4d496f8c2a839ba",
   "execution_count": null
  },
  {
   "cell_type": "code",
   "outputs": [],
   "source": [
    "date_df[date_df.Name == \"Mpro-P0831\"]"
   ],
   "metadata": {
    "collapsed": false
   },
   "id": "369ade2de9cd510",
   "execution_count": null
  },
  {
   "cell_type": "code",
   "outputs": [],
   "source": [
    "compound_data = pd.read_csv(compound_data_csv)\n",
    "compound_data[\"structure_name\"] = (\n",
    "    \"Mpro-\" + compound_data[\"series\"] + compound_data[\"number\"].astype(str).str.zfill(4)\n",
    ")\n",
    "\n",
    "compound_data = compound_data.merge(\n",
    "    date_df, left_on=\"structure_name\", right_on=\"Name\"\n",
    ")"
   ],
   "metadata": {
    "collapsed": false
   },
   "id": "e0fdbafac4c0ca9d",
   "execution_count": null
  },
  {
   "cell_type": "code",
   "outputs": [],
   "source": [
    "compound_data[compound_data['structure_name'] == \"Mpro-P0831\"]"
   ],
   "metadata": {
    "collapsed": false
   },
   "id": "f5bb5fe3618f5afa",
   "execution_count": null
  },
  {
   "cell_type": "code",
   "outputs": [],
   "source": [],
   "metadata": {
    "collapsed": false
   },
   "id": "c774a7b6a02a38ec"
  }
 ],
 "metadata": {
  "kernelspec": {
   "display_name": "Python 3",
   "language": "python",
   "name": "python3"
  },
  "language_info": {
   "codemirror_mode": {
    "name": "ipython",
    "version": 2
   },
   "file_extension": ".py",
   "mimetype": "text/x-python",
   "name": "python",
   "nbconvert_exporter": "python",
   "pygments_lexer": "ipython2",
   "version": "2.7.6"
  }
 },
 "nbformat": 4,
 "nbformat_minor": 5
}
