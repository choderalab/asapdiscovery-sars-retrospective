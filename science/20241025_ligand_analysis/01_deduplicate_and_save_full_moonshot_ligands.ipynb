{
 "cells": [
  {
   "cell_type": "markdown",
   "source": [
    "# Imports"
   ],
   "metadata": {
    "collapsed": false
   },
   "id": "edca2d850cf71534"
  },
  {
   "cell_type": "code",
   "outputs": [],
   "source": [
    "import pandas as pd\n",
    "from asapdiscovery.data.schema.ligand import Ligand\n",
    "from asapdiscovery.data.readers.molfile import MolFileFactory\n",
    "from rdkit.Chem import Draw, rdMolAlign, rdDepictor\n",
    "from rdkit import Chem\n",
    "\n",
    "from rdkit.Chem.Scaffolds import MurckoScaffold\n",
    "from collections import defaultdict"
   ],
   "metadata": {
    "collapsed": false,
    "ExecuteTime": {
     "end_time": "2024-11-05T21:11:58.770025Z",
     "start_time": "2024-11-05T21:11:56.626327Z"
    }
   },
   "id": "fd95efdaa4618a9f",
   "execution_count": 1
  },
  {
   "cell_type": "markdown",
   "source": [
    "# Load the Ligands"
   ],
   "metadata": {
    "collapsed": false
   },
   "id": "b23a6f694581a310"
  },
  {
   "cell_type": "code",
   "outputs": [
    {
     "name": "stderr",
     "output_type": "stream",
     "text": [
      "Warning: OE3DToAtomStereo is unable to perceive atom stereo from a flat geometry on atom 8 of molecule 'LIG(A-305)'\n",
      "Warning: OE3DToAtomStereo had a problem during OEMolToSmiles when writing 'LIG(A-305)'\n",
      "Warning: OE3DToAtomStereo is unable to perceive atom stereo from a flat geometry on atom 2 of molecule 'LIG(A-305)'\n",
      "Warning: OE3DToAtomStereo is unable to perceive atom stereo from a flat geometry on atom 13 of molecule 'LIG(A-305)'\n",
      "Warning: OE3DToAtomStereo had a problem during OEMolToSmiles when writing 'LIG(A-305)'\n",
      "Warning: OE3DToAtomStereo is unable to perceive atom stereo from a flat geometry on atom 8 of molecule 'LIG(A-305)'\n",
      "Warning: OE3DToAtomStereo is unable to perceive atom stereo from a flat geometry on atom 11 of molecule 'LIG(A-305)'\n",
      "Warning: OE3DToAtomStereo had a problem during OEMolToSmiles when writing 'LIG(A-305)'\n",
      "Warning: OE3DToAtomStereo is unable to perceive atom stereo from a flat geometry on atom 8 of molecule 'LIG(A-305)'\n",
      "Warning: OE3DToAtomStereo had a problem during OEMolToSmiles when writing 'LIG(A-305)'\n"
     ]
    }
   ],
   "source": [
    "mff = MolFileFactory(filename=\"combined_3d.sdf\")\n",
    "ligs = mff.load()"
   ],
   "metadata": {
    "collapsed": false,
    "ExecuteTime": {
     "end_time": "2024-11-05T21:11:59.365929Z",
     "start_time": "2024-11-05T21:11:58.774232Z"
    }
   },
   "id": "a3e730eb18849367",
   "execution_count": 2
  },
  {
   "cell_type": "code",
   "outputs": [],
   "source": [],
   "metadata": {
    "collapsed": false,
    "ExecuteTime": {
     "end_time": "2024-11-05T21:11:59.370684Z",
     "start_time": "2024-11-05T21:11:59.367808Z"
    }
   },
   "id": "8fa34514bceb3264",
   "execution_count": 2
  },
  {
   "cell_type": "code",
   "outputs": [
    {
     "name": "stderr",
     "output_type": "stream",
     "text": [
      "Warning: OE3DToAtomStereo is unable to perceive atom stereo from a flat geometry on atom 8 of molecule 'LIG(A-305)'\n",
      "Warning: OE3DToAtomStereo had a problem during conformation test 'LIG(A-305)'\n",
      "Warning: OE3DToAtomStereo is unable to perceive atom stereo from a flat geometry on atom 2 of molecule 'LIG(A-305)'\n",
      "Warning: OE3DToAtomStereo is unable to perceive atom stereo from a flat geometry on atom 13 of molecule 'LIG(A-305)'\n",
      "Warning: OE3DToAtomStereo had a problem during conformation test 'LIG(A-305)'\n",
      "Warning: OE3DToAtomStereo is unable to perceive atom stereo from a flat geometry on atom 8 of molecule 'LIG(A-305)'\n",
      "Warning: OE3DToAtomStereo is unable to perceive atom stereo from a flat geometry on atom 11 of molecule 'LIG(A-305)'\n",
      "Warning: OE3DToAtomStereo had a problem during conformation test 'LIG(A-305)'\n",
      "Warning: OE3DToAtomStereo is unable to perceive atom stereo from a flat geometry on atom 8 of molecule 'LIG(A-305)'\n",
      "Warning: OE3DToAtomStereo had a problem during conformation test 'LIG(A-305)'\n"
     ]
    }
   ],
   "source": [
    "unique_smiles = set([(lig.smiles, lig.compound_name) for lig in ligs])"
   ],
   "metadata": {
    "collapsed": false,
    "ExecuteTime": {
     "end_time": "2024-11-05T21:11:59.807512Z",
     "start_time": "2024-11-05T21:11:59.372640Z"
    }
   },
   "id": "66a8e490689f7a7",
   "execution_count": 3
  },
  {
   "cell_type": "code",
   "outputs": [
    {
     "name": "stderr",
     "output_type": "stream",
     "text": [
      "Warning: OE3DToAtomStereo is unable to perceive atom stereo from a flat geometry on atom 8 of molecule 'LIG(A-305)'\n",
      "Warning: OE3DToAtomStereo had a problem during conformation test 'LIG(A-305)'\n",
      "Warning: OE3DToAtomStereo is unable to perceive atom stereo from a flat geometry on atom 2 of molecule 'LIG(A-305)'\n",
      "Warning: OE3DToAtomStereo is unable to perceive atom stereo from a flat geometry on atom 13 of molecule 'LIG(A-305)'\n",
      "Warning: OE3DToAtomStereo had a problem during conformation test 'LIG(A-305)'\n",
      "Warning: OE3DToAtomStereo is unable to perceive atom stereo from a flat geometry on atom 8 of molecule 'LIG(A-305)'\n",
      "Warning: OE3DToAtomStereo is unable to perceive atom stereo from a flat geometry on atom 11 of molecule 'LIG(A-305)'\n",
      "Warning: OE3DToAtomStereo had a problem during conformation test 'LIG(A-305)'\n",
      "Warning: OE3DToAtomStereo is unable to perceive atom stereo from a flat geometry on atom 8 of molecule 'LIG(A-305)'\n",
      "Warning: OE3DToAtomStereo had a problem during conformation test 'LIG(A-305)'\n"
     ]
    }
   ],
   "source": [
    "dict_data = [{\"smiles\": lig.smiles, \"compound_name\": lig.compound_name, \"series\": lig.tags['xtal_name'][5], \"number\": lig.tags['xtal_name'].split(\"_\")[0][6:], \"xtal_id\": lig.tags['xtal_name'].split(\"_\")[1], \"lig\": lig} for lig in ligs]"
   ],
   "metadata": {
    "collapsed": false,
    "ExecuteTime": {
     "end_time": "2024-11-05T21:39:21.878377Z",
     "start_time": "2024-11-05T21:39:21.317994Z"
    }
   },
   "id": "457d31edf2b731f7",
   "execution_count": 15
  },
  {
   "cell_type": "code",
   "outputs": [],
   "source": [
    "df = pd.DataFrame.from_records(dict_data)"
   ],
   "metadata": {
    "collapsed": false,
    "ExecuteTime": {
     "end_time": "2024-11-05T21:39:22.934827Z",
     "start_time": "2024-11-05T21:39:22.926955Z"
    }
   },
   "id": "1772a5b682576785",
   "execution_count": 16
  },
  {
   "cell_type": "code",
   "outputs": [],
   "source": [
    "df = df[df[\"series\"].isin([\"x\", \"P\"])]"
   ],
   "metadata": {
    "collapsed": false,
    "ExecuteTime": {
     "end_time": "2024-11-05T21:39:23.433315Z",
     "start_time": "2024-11-05T21:39:23.427459Z"
    }
   },
   "id": "e3f5cf8a8b0e396",
   "execution_count": 17
  },
  {
   "cell_type": "code",
   "outputs": [],
   "source": [
    "unique_compounds = df.sort_values([\"series\", \"number\", \"xtal_id\"], ascending=[True, False, True]).groupby(\"compound_name\").head(1).groupby(\"smiles\").head(1)"
   ],
   "metadata": {
    "collapsed": false,
    "ExecuteTime": {
     "end_time": "2024-11-05T21:39:23.928077Z",
     "start_time": "2024-11-05T21:39:23.907151Z"
    }
   },
   "id": "20a57db6cb949b61",
   "execution_count": 18
  },
  {
   "cell_type": "code",
   "outputs": [
    {
     "data": {
      "text/plain": "        smiles  compound_name  number  xtal_id  lig\nseries                                             \nP          205            205     205      205  205\nx          332            332     332      332  332",
      "text/html": "<div>\n<style scoped>\n    .dataframe tbody tr th:only-of-type {\n        vertical-align: middle;\n    }\n\n    .dataframe tbody tr th {\n        vertical-align: top;\n    }\n\n    .dataframe thead th {\n        text-align: right;\n    }\n</style>\n<table border=\"1\" class=\"dataframe\">\n  <thead>\n    <tr style=\"text-align: right;\">\n      <th></th>\n      <th>smiles</th>\n      <th>compound_name</th>\n      <th>number</th>\n      <th>xtal_id</th>\n      <th>lig</th>\n    </tr>\n    <tr>\n      <th>series</th>\n      <th></th>\n      <th></th>\n      <th></th>\n      <th></th>\n      <th></th>\n    </tr>\n  </thead>\n  <tbody>\n    <tr>\n      <th>P</th>\n      <td>205</td>\n      <td>205</td>\n      <td>205</td>\n      <td>205</td>\n      <td>205</td>\n    </tr>\n    <tr>\n      <th>x</th>\n      <td>332</td>\n      <td>332</td>\n      <td>332</td>\n      <td>332</td>\n      <td>332</td>\n    </tr>\n  </tbody>\n</table>\n</div>"
     },
     "execution_count": 19,
     "metadata": {},
     "output_type": "execute_result"
    }
   ],
   "source": [
    "unique_compounds.groupby(\"series\").count()"
   ],
   "metadata": {
    "collapsed": false,
    "ExecuteTime": {
     "end_time": "2024-11-05T21:39:24.680855Z",
     "start_time": "2024-11-05T21:39:24.665477Z"
    }
   },
   "id": "7c425f89536697bd",
   "execution_count": 19
  },
  {
   "cell_type": "code",
   "outputs": [],
   "source": [
    "# save as smiles"
   ],
   "metadata": {
    "collapsed": false,
    "ExecuteTime": {
     "end_time": "2024-11-05T21:39:27.904672Z",
     "start_time": "2024-11-05T21:39:27.901830Z"
    }
   },
   "id": "6fa2e2e9ea445dd7",
   "execution_count": 20
  },
  {
   "cell_type": "code",
   "outputs": [],
   "source": [
    "with open(\"combined_3d.smi\", \"w\") as f:\n",
    "    for smiles, compound_name in unique_compounds[[\"smiles\", \"compound_name\"]].values:\n",
    "        f.write(f\"{smiles} {compound_name.replace(' ', '_')}\\n\")"
   ],
   "metadata": {
    "collapsed": false,
    "ExecuteTime": {
     "end_time": "2024-11-05T21:39:32.156178Z",
     "start_time": "2024-11-05T21:39:32.147498Z"
    }
   },
   "id": "3d97dda11369ee8f",
   "execution_count": 21
  },
  {
   "cell_type": "code",
   "outputs": [],
   "source": [],
   "metadata": {
    "collapsed": false
   },
   "id": "d649775de7176b30"
  }
 ],
 "metadata": {
  "kernelspec": {
   "display_name": "Python 3",
   "language": "python",
   "name": "python3"
  },
  "language_info": {
   "codemirror_mode": {
    "name": "ipython",
    "version": 2
   },
   "file_extension": ".py",
   "mimetype": "text/x-python",
   "name": "python",
   "nbconvert_exporter": "python",
   "pygments_lexer": "ipython2",
   "version": "2.7.6"
  }
 },
 "nbformat": 4,
 "nbformat_minor": 5
}
