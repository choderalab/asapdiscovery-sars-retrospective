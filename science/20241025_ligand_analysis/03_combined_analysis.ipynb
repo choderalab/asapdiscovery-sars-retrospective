{
 "cells": [
  {
   "cell_type": "markdown",
   "source": [
    "# Imports"
   ],
   "metadata": {
    "collapsed": false
   },
   "id": "f054d21317bb3183"
  },
  {
   "cell_type": "code",
   "outputs": [],
   "source": [
    "import pandas as pd\n",
    "from asapdiscovery.data.schema.ligand import Ligand\n",
    "from asapdiscovery.data.readers.molfile import MolFileFactory\n",
    "from rdkit.Chem import Draw, rdMolAlign, rdDepictor\n",
    "from rdkit import Chem\n",
    "\n",
    "from rdkit.Chem.Scaffolds import MurckoScaffold\n",
    "from collections import defaultdict"
   ],
   "metadata": {
    "collapsed": false
   },
   "id": "da55ed79bbd41ad0",
   "execution_count": null
  },
  {
   "cell_type": "code",
   "outputs": [],
   "source": [
    "from pathlib import Path\n",
    "figures = Path(\"figures\")\n",
    "data = Path(\"data\")"
   ],
   "metadata": {
    "collapsed": false
   },
   "id": "e72836f854f1313",
   "execution_count": null
  },
  {
   "cell_type": "markdown",
   "source": [
    "# Load the Ligands"
   ],
   "metadata": {
    "collapsed": false
   },
   "id": "24aef1f6ed904bfc"
  },
  {
   "cell_type": "code",
   "outputs": [],
   "source": [
    "mff = MolFileFactory(filename=\"combined_3d.sdf\")\n",
    "ligs = mff.load()"
   ],
   "metadata": {
    "collapsed": false
   },
   "id": "2c98f631b2032298",
   "execution_count": null
  },
  {
   "cell_type": "code",
   "outputs": [],
   "source": [],
   "metadata": {
    "collapsed": false
   },
   "id": "34c139dcf2eba81d",
   "execution_count": null
  },
  {
   "cell_type": "code",
   "outputs": [],
   "source": [
    "unique_smiles = set([(lig.smiles, lig.compound_name) for lig in ligs])"
   ],
   "metadata": {
    "collapsed": false
   },
   "id": "9718a6e14ab46dd8",
   "execution_count": null
  },
  {
   "cell_type": "code",
   "outputs": [],
   "source": [
    "dict_data = [{\"smiles\": lig.smiles, \"compound_name\": lig.compound_name, \"series\": lig.tags['xtal_name'][5], \"number\": lig.tags['xtal_name'].split(\"_\")[0][6:], \"xtal_id\": lig.tags['xtal_name'].split(\"_\")[1], \"lig\": lig} for lig in ligs]"
   ],
   "metadata": {
    "collapsed": false
   },
   "id": "c760819325b0f515",
   "execution_count": null
  },
  {
   "cell_type": "code",
   "outputs": [],
   "source": [
    "df = pd.DataFrame.from_records(dict_data)"
   ],
   "metadata": {
    "collapsed": false
   },
   "id": "93e43959bb41018e",
   "execution_count": null
  },
  {
   "cell_type": "code",
   "outputs": [],
   "source": [
    "df = df[df[\"series\"].isin([\"x\", \"P\"])]"
   ],
   "metadata": {
    "collapsed": false
   },
   "id": "1a8091fc0232a40f",
   "execution_count": null
  },
  {
   "cell_type": "code",
   "outputs": [],
   "source": [
    "unique_compounds = df.sort_values([\"series\", \"number\", \"xtal_id\"], ascending=[True, False, True]).groupby(\"compound_name\").head(1).groupby(\"smiles\").head(1)"
   ],
   "metadata": {
    "collapsed": false
   },
   "id": "f855681412c5b8f6",
   "execution_count": null
  },
  {
   "cell_type": "code",
   "outputs": [],
   "source": [
    "unique_compounds.groupby(\"series\").count()"
   ],
   "metadata": {
    "collapsed": false
   },
   "id": "3273eee2ab0cdf7a",
   "execution_count": null
  },
  {
   "cell_type": "code",
   "outputs": [],
   "source": [
    "ligs = unique_compounds[\"lig\"].tolist()"
   ],
   "metadata": {
    "collapsed": false
   },
   "id": "b7d0cb26eedc1e0e",
   "execution_count": null
  },
  {
   "cell_type": "code",
   "outputs": [],
   "source": [
    "unique_compounds"
   ],
   "metadata": {
    "collapsed": false
   },
   "id": "93d0aef1b997d213",
   "execution_count": null
  },
  {
   "cell_type": "markdown",
   "source": [
    "# Function Definitions"
   ],
   "metadata": {
    "collapsed": false
   },
   "id": "3c020322b53f4fcf"
  },
  {
   "cell_type": "code",
   "outputs": [],
   "source": [
    "def generate_scaffold(ligand: Ligand, generic=False, include_chirality=True):\n",
    "    \"\"\"\n",
    "    Compute the Bemis-Murcko scaffold for a SMILES string.\n",
    "    Implementation copied from https://github.com/chemprop/chemprop.\n",
    "\n",
    "    :param mol: A smiles string or an RDKit molecule.\n",
    "    :param include_chirality: Whether to include chirality.\n",
    "    :return:\n",
    "    \"\"\"\n",
    "    \n",
    "    if include_chirality:\n",
    "        mol = ligand.to_rdkit()\n",
    "    else:\n",
    "        mol = Chem.MolFromSmiles(ligand.non_iso_smiles)\n",
    "    scaffold = MurckoScaffold.GetScaffoldForMol(mol)\n",
    "    if generic:\n",
    "        scaffold = MurckoScaffold.MakeScaffoldGeneric(scaffold)\n",
    "\n",
    "    return Chem.MolToSmiles(scaffold)"
   ],
   "metadata": {
    "collapsed": false
   },
   "id": "94be54212ea8b62d",
   "execution_count": null
  },
  {
   "cell_type": "code",
   "outputs": [],
   "source": [
    "def split_by_scaffold(ligands, generic=False, include_chirality=True):\n",
    "    \"\"\"\n",
    "    Split ligands by scaffold.\n",
    "    \"\"\"\n",
    "    \n",
    "    scaffolds = defaultdict(list)\n",
    "    for ligand in ligands:\n",
    "        scaffold = generate_scaffold(ligand, generic=generic, include_chirality=include_chirality)\n",
    "        scaffolds[scaffold].append(ligand)\n",
    "    scaffold_list = [{\"scaffold\": scaffold, \"ligands\": ligands} for scaffold, ligands in scaffolds.items()]\n",
    "    return sorted(scaffold_list, key=lambda x: len(x[\"ligands\"]), reverse=True)"
   ],
   "metadata": {
    "collapsed": false
   },
   "id": "50a09d2c4a43db90",
   "execution_count": null
  },
  {
   "cell_type": "code",
   "outputs": [],
   "source": [
    "def align_to_scaffold(scaffold: Chem.Mol, mols: list[Chem.Mol]):\n",
    "    rdDepictor.Compute2DCoords(scaffold)\n",
    "    template_match = scaffold.GetSubstructMatch(scaffold)\n",
    "    for mol in mols:\n",
    "        rdDepictor.Compute2DCoords(mol)\n",
    "        query_match = mol.GetSubstructMatch(scaffold)\n",
    "        rdMolAlign.AlignMol(mol, scaffold, atomMap=list(zip(query_match, template_match)))\n",
    "    return scaffold, mols"
   ],
   "metadata": {
    "collapsed": false
   },
   "id": "70b5aa264571e840",
   "execution_count": null
  },
  {
   "cell_type": "code",
   "outputs": [],
   "source": [
    "def draw_scaffold_cluster(scaffold: str, ligands: list[Ligand], filename: str):\n",
    "    \n",
    "    # Convert to rdkit\n",
    "    rdkitmols = [Chem.RemoveHs(ligand.to_rdkit()) for ligand in ligands]\n",
    "    rdkit_scaffold = Chem.MolFromSmiles(scaffold)\n",
    "    \n",
    "    # Align the molecules to the scaffold\n",
    "    rdkit_scaffold, rdkitmols = align_to_scaffold(rdkit_scaffold, rdkitmols)\n",
    "    \n",
    "    \n",
    "    # Find the atoms to highlight\n",
    "    highlight = [mol.GetSubstructMatch(rdkit_scaffold) for mol in rdkitmols]\n",
    "    \n",
    "    # Set Draw Options\n",
    "    dopts = Draw.rdMolDraw2D.MolDrawOptions()\n",
    "    dopts.setHighlightColour((68/256, 178/256, 212/256))\n",
    "    dopts.highlightBondWidthMultiplier = 16\n",
    "    \n",
    "    # Draw the molecules\n",
    "    img = Draw.MolsToGridImage(rdkitmols, \n",
    "                               molsPerRow=6, \n",
    "                               subImgSize=(200, 200), \n",
    "                               highlightAtomLists=highlight,\n",
    "                               useSVG= True,\n",
    "                               legends = [f\"{ligand.compound_name} ({ligand.tags['xtal_name']})\" for ligand in ligands],\n",
    "                               drawOptions=dopts)\n",
    "    with open(filename, 'w') as f:\n",
    "        f.write(img.data) "
   ],
   "metadata": {
    "collapsed": false
   },
   "id": "62a7bf9d61242ea6",
   "execution_count": null
  },
  {
   "cell_type": "code",
   "outputs": [],
   "source": [
    "def draw_scaffolds(scaffold_smiles, first_n=-1, mols_per_row=-1, use_svg=True):\n",
    "    from rdkit.Chem import Draw, rdDepictor\n",
    "    \n",
    "    scaffolds = [Ligand.from_smiles(scaffold_dict['scaffold'], compound_name=f\"Cluster {i} - {len(scaffold_dict['ligands'])} molecules\") for i, scaffold_dict in enumerate(scaffold_smiles)]\n",
    "    scaffold_rdmols = [Chem.RemoveHs(ligand.to_rdkit()) for ligand in scaffolds]\n",
    "    \n",
    "    # Set Draw Options\n",
    "    dopts = Draw.rdMolDraw2D.MolDrawOptions()\n",
    "    dopts.setHighlightColour((68/256, 178/256, 212/256))\n",
    "    dopts.highlightBondWidthMultiplier = 16\n",
    "    d2d = Draw.MolDraw2DCairo(350,300)\n",
    "    for mol in scaffold_rdmols[:first_n]:\n",
    "        Draw.MolToImage(mol, size=(200, 200), options=dopts)\n",
    "        rdDepictor.Compute2DCoords(mol)\n",
    "        rdDepictor.StraightenDepiction(mol)\n",
    "        d2d.DrawMolecule(mol)\n",
    "    img = Draw.MolsToGridImage(scaffold_rdmols[:first_n], \n",
    "                               molsPerRow=mols_per_row, \n",
    "                               subImgSize=(200, 200), \n",
    "                               # highlightAtomLists=highlight,\n",
    "                               maxMols=first_n,\n",
    "                               useSVG=use_svg,\n",
    "                               legends = [ligand.compound_name for ligand in scaffolds[:first_n]],\n",
    "                               drawOptions=dopts)\n",
    "    return img"
   ],
   "metadata": {
    "collapsed": false
   },
   "id": "c46a1b28d92cfa72",
   "execution_count": null
  },
  {
   "cell_type": "markdown",
   "source": [
    "# Execution"
   ],
   "metadata": {
    "collapsed": false
   },
   "id": "6f28fbb4a776ff27"
  },
  {
   "cell_type": "code",
   "outputs": [],
   "source": [
    "generic_scaffolds = split_by_scaffold(ligs, generic=True)\n",
    "scaffolds = split_by_scaffold(ligs, generic=False)\n",
    "generic_achiral = split_by_scaffold(ligs, generic=True, include_chirality=False)\n",
    "achiral = split_by_scaffold(ligs, generic=False, include_chirality=False)"
   ],
   "metadata": {
    "collapsed": false
   },
   "id": "420337f75bb042d1",
   "execution_count": null
  },
  {
   "cell_type": "code",
   "outputs": [],
   "source": [
    "len(generic_scaffolds), len(scaffolds), len(generic_achiral), len(achiral)"
   ],
   "metadata": {
    "collapsed": false
   },
   "id": "cf39735552c642ad",
   "execution_count": null
  },
  {
   "cell_type": "code",
   "outputs": [],
   "source": [
    "scaffolds_labeled = {ligand.compound_name: scaffold for scaffold in scaffolds for ligand in scaffold['ligands']}\n",
    "generic_scaffolds_labeled = {ligand.compound_name: scaffold for scaffold in generic_scaffolds for ligand in scaffold['ligands']}"
   ],
   "metadata": {
    "collapsed": false
   },
   "id": "b80808fa501975c",
   "execution_count": null
  },
  {
   "cell_type": "code",
   "outputs": [],
   "source": [
    "example = 'MAT-POS-7dfc56d9-1'"
   ],
   "metadata": {
    "collapsed": false
   },
   "id": "af9fe13d9c4db6b7",
   "execution_count": null
  },
  {
   "cell_type": "code",
   "outputs": [],
   "source": [
    "lig_dict = {ligand.compound_name: ligand for ligand in ligs}"
   ],
   "metadata": {
    "collapsed": false
   },
   "id": "927ec94fe70e3503",
   "execution_count": null
  },
  {
   "cell_type": "code",
   "outputs": [],
   "source": [
    "Chem.MolFromSmiles(lig_dict[example].smiles)"
   ],
   "metadata": {
    "collapsed": false
   },
   "id": "d77772c65822da73",
   "execution_count": null
  },
  {
   "cell_type": "code",
   "outputs": [],
   "source": [
    "Chem.MolFromSmiles(generic_scaffolds_labeled[example]['scaffold'])"
   ],
   "metadata": {
    "collapsed": false
   },
   "id": "bb8c39a748ef34d7",
   "execution_count": null
  },
  {
   "cell_type": "code",
   "outputs": [],
   "source": [
    "Chem.MolFromSmiles(scaffolds_labeled[example]['scaffold'])"
   ],
   "metadata": {
    "collapsed": false
   },
   "id": "4e667afd9fa17e02",
   "execution_count": null
  },
  {
   "cell_type": "markdown",
   "source": [
    "# Save Label Dict"
   ],
   "metadata": {
    "collapsed": false
   },
   "id": "538ee79298d19424"
  },
  {
   "cell_type": "code",
   "outputs": [],
   "source": [
    "import pandas as pd"
   ],
   "metadata": {
    "collapsed": false
   },
   "id": "69de494a611d9d8d",
   "execution_count": null
  },
  {
   "cell_type": "code",
   "outputs": [],
   "source": [
    "unique_compounds['name'] = unique_compounds['compound_name']\n",
    "unique_compounds.drop(columns=[\"compound_name\"], inplace=True)"
   ],
   "metadata": {
    "collapsed": false
   },
   "id": "458412979f08fb20",
   "execution_count": null
  },
  {
   "cell_type": "markdown",
   "source": [
    "# Draw Scaffolds"
   ],
   "metadata": {
    "collapsed": false
   },
   "id": "c6d99219da44ced1"
  },
  {
   "cell_type": "code",
   "outputs": [],
   "source": [
    "for name, scaffold_list in [(\"generic\", generic_scaffolds), (\"default\", scaffolds), (\"generic_achiral\", generic_achiral), (\"achiral\", achiral)]:\n",
    "    cluster_labels = []\n",
    "    for i, scaffold_dict in enumerate(scaffold_list): \n",
    "        for ligand in scaffold_dict['ligands']:\n",
    "            cluster_labels.append(dict(name=ligand.compound_name, Cluster=i, Scaffold_Smiles=scaffold_dict['scaffold']))\n",
    "        \n",
    "    cluster_df = pd.DataFrame.from_records(cluster_labels)\n",
    "    cluster_df = pd.merge(cluster_df, unique_compounds, on=\"name\")\n",
    "    cluster_df['structure_name'] = \"Mpro-\" + cluster_df['series'] + cluster_df['number']\n",
    "    cluster_df.to_csv(data / f\"{name}_cluster_labels.csv\", index=False)\n",
    "    \n",
    "    for use_svg in [True, False]:\n",
    "        img = draw_scaffolds(scaffold_list, first_n=96, mols_per_row=8, use_svg=use_svg)\n",
    "        with open(figures / f\"{name}_scaffold_images_8x12.svg\" if use_svg else f\"{name}_scaffold_images_8x12.png\", 'w' if use_svg else 'wb') as f:\n",
    "            f.write(img.data)\n",
    "    \n",
    "    \n",
    "    # with open(f\"{name}_scaffold_images_8x12.svg\", 'w') as f:\n",
    "    #         f.write(img.data)"
   ],
   "metadata": {
    "collapsed": false
   },
   "id": "bf9180c0ab8afd71",
   "execution_count": null
  },
  {
   "cell_type": "code",
   "outputs": [],
   "source": [],
   "metadata": {
    "collapsed": false
   },
   "id": "b9759094bf4e6e9d",
   "execution_count": null
  },
  {
   "cell_type": "code",
   "outputs": [],
   "source": [],
   "metadata": {
    "collapsed": false
   },
   "id": "3033702175a5a57"
  },
  {
   "cell_type": "code",
   "outputs": [],
   "source": [],
   "metadata": {
    "collapsed": false
   },
   "id": "7fdc429447d8ccc",
   "execution_count": null
  },
  {
   "cell_type": "code",
   "outputs": [],
   "source": [
    "example_mol = Chem.MolFromSmiles(lig_dict[example].smiles)"
   ],
   "metadata": {
    "collapsed": false
   },
   "id": "d95798deec1a5f38",
   "execution_count": null
  },
  {
   "cell_type": "code",
   "outputs": [],
   "source": [
    "generic_scaffold = Chem.MolFromSmiles(generic_scaffolds_labeled[example]['scaffold'])"
   ],
   "metadata": {
    "collapsed": false
   },
   "id": "94e0e5e6d8f7e500",
   "execution_count": null
  },
  {
   "cell_type": "code",
   "outputs": [],
   "source": [],
   "metadata": {
    "collapsed": false
   },
   "id": "b707658e597e4c69",
   "execution_count": null
  },
  {
   "cell_type": "code",
   "outputs": [],
   "source": [
    "scaff = MurckoScaffold.GetScaffoldForMol(example_mol)"
   ],
   "metadata": {
    "collapsed": false
   },
   "id": "6c93672d2cad35dd",
   "execution_count": null
  },
  {
   "cell_type": "code",
   "outputs": [],
   "source": [
    "print([atom.GetAtomMapNum() for atom in scaff.GetAtoms()])"
   ],
   "metadata": {
    "collapsed": false
   },
   "id": "375c3ce2238b83e5",
   "execution_count": null
  },
  {
   "cell_type": "code",
   "outputs": [],
   "source": [
    "example_mol.GetSubstructMatch(scaff)"
   ],
   "metadata": {
    "collapsed": false
   },
   "id": "469ba8a519288635",
   "execution_count": null
  },
  {
   "cell_type": "code",
   "outputs": [],
   "source": [
    "sarkush_example = Chem.MolFromSmarts(\"O=C(N(c1c[x2]([R4])cc2c[x1]([R3])c([R2])c([R1])c12)[R5])[C@@]1([R15])c2cc([R12])c([R13])c([R14])c2[X3]([R10])([R11])[X2]([R8])([R9])[X1]1([R6])[R7]\")"
   ],
   "metadata": {
    "collapsed": false
   },
   "id": "7b6f5b8d67561684",
   "execution_count": null
  },
  {
   "cell_type": "code",
   "outputs": [],
   "source": [
    "sarkush_example"
   ],
   "metadata": {
    "collapsed": false
   },
   "id": "fe16715b3f71379c",
   "execution_count": null
  },
  {
   "cell_type": "code",
   "outputs": [],
   "source": [
    "report_data = pd.read_csv(, sep=\"\\t\", header=None)"
   ],
   "metadata": {
    "collapsed": false
   },
   "id": "f621141ec0a7c05e",
   "execution_count": null
  },
  {
   "cell_type": "markdown",
   "source": [],
   "metadata": {
    "collapsed": false
   },
   "id": "6ca585d8c3249bcc"
  },
  {
   "cell_type": "code",
   "outputs": [],
   "source": [
    "fn = \"/Users/alexpayne/Downloads/unique_compounds_sarkush_full_data/task_messages.txt\""
   ],
   "metadata": {
    "collapsed": false
   },
   "id": "d65cad52890c7276",
   "execution_count": null
  },
  {
   "cell_type": "code",
   "outputs": [],
   "source": [
    "with open(fn) as f:\n",
    "    report_data = [line.rstrip().split(\"\\t\") for line in f.readlines()]\n",
    "    report_data = {data[0]: data[1] if len(data) > 1 else 'None' for data in report_data}"
   ],
   "metadata": {
    "collapsed": false
   },
   "id": "f0c61d6db8b393d8",
   "execution_count": null
  },
  {
   "cell_type": "code",
   "outputs": [],
   "source": [
    "report_data"
   ],
   "metadata": {
    "collapsed": false
   },
   "id": "ed14fd07adac44fa",
   "execution_count": null
  },
  {
   "cell_type": "code",
   "outputs": [],
   "source": [
    "df = pd.read_csv(\"data/csk_cluster_labels.csv\")"
   ],
   "metadata": {
    "collapsed": false
   },
   "id": "431d11e09614457",
   "execution_count": null
  },
  {
   "cell_type": "code",
   "outputs": [],
   "source": [
    "def convert_csv_to_scaffold_list(df):\n",
    "    cluster_types = df['cluster_type'].unique()\n",
    "    counts = df.groupby(\"cluster_id\").count()['compound_name'].to_list()\n",
    "    cluster_ids = df['cluster_id'].unique()\n",
    "    scaffolds = df['scaffold_smarts'].unique()\n",
    "    \n",
    "    return_dict = {}\n",
    "    for cluster_type in cluster_types:\n",
    "        scaffold_list = []\n",
    "        for scaffold, cluster_id, count in zip(scaffolds, cluster_ids, counts):\n",
    "            try:\n",
    "                scaffold_list.append(Ligand.from_smiles(scaffold, compound_name=f\"Cluster {cluster_id} - {count} molecules\"))\n",
    "            except Exception as e:\n",
    "                print(f\"Failed to generate Ligand for cluster {cluster_id} ({scaffold}) with {count} molecules\")\n",
    "        return_dict[cluster_type] = scaffold_list\n",
    "    return return_dict"
   ],
   "metadata": {
    "collapsed": false
   },
   "id": "6f6990c406cf4849",
   "execution_count": null
  },
  {
   "cell_type": "code",
   "outputs": [],
   "source": [
    "convert_csv_to_scaffold_list(df)"
   ],
   "metadata": {
    "collapsed": false
   },
   "id": "6c1893175dafde93",
   "execution_count": null
  },
  {
   "cell_type": "code",
   "outputs": [],
   "source": [],
   "metadata": {
    "collapsed": false
   },
   "id": "f45b5be0f90ca7be"
  }
 ],
 "metadata": {
  "kernelspec": {
   "display_name": "Python 3",
   "language": "python",
   "name": "python3"
  },
  "language_info": {
   "codemirror_mode": {
    "name": "ipython",
    "version": 2
   },
   "file_extension": ".py",
   "mimetype": "text/x-python",
   "name": "python",
   "nbconvert_exporter": "python",
   "pygments_lexer": "ipython2",
   "version": "2.7.6"
  }
 },
 "nbformat": 4,
 "nbformat_minor": 5
}
