{
 "cells": [
  {
   "cell_type": "markdown",
   "id": "63c68837-197e-43b4-b470-154d418848f6",
   "metadata": {
    "pycharm": {
     "is_executing": true
    }
   },
   "source": [
    "# Imports"
   ]
  },
  {
   "cell_type": "code",
   "execution_count": null,
   "id": "bfcb6062-4ad7-4779-b5ff-b0001368ee46",
   "metadata": {
    "tags": []
   },
   "outputs": [],
   "source": [
    "from pathlib import Path\n",
    "from asapdiscovery.data.openeye import load_openeye_sdfs, oechem, save_openeye_sdfs\n",
    "from asapdiscovery.data.fragalysis import parse_fragalysis\n",
    "import numpy as np\n",
    "import pandas as pd, numpy as np\n",
    "import plotly.express as px\n",
    "from datetime import datetime\n",
    "from tqdm.notebook import tqdm\n",
    "from asapdiscovery.docking.analysis import DockingResults\n",
    "import asapdiscovery.data.openeye as oe\n",
    "import asapdiscovery.modeling.cheminformatics as ci\n",
    "from importlib import reload"
   ]
  },
  {
   "cell_type": "markdown",
   "id": "10b2e4ad-fd01-45c9-acbe-958f457b660e",
   "metadata": {},
   "source": [
    "# Load Paths"
   ]
  },
  {
   "cell_type": "code",
   "execution_count": null,
   "id": "b6155791-9152-4baa-a5de-90aa82d876c4",
   "metadata": {
    "tags": []
   },
   "outputs": [],
   "source": [
    "import sys\n",
    "sys.path.append(str(Path(\"../../../\").resolve()))\n",
    "from software.paths import paths"
   ]
  },
  {
   "cell_type": "code",
   "execution_count": null,
   "id": "d83f30a4-9fa5-406c-934a-719d21eabe70",
   "metadata": {
    "tags": []
   },
   "outputs": [],
   "source": [
    "local_analysis = Path(\"/Users/alexpayne/Scientific_Projects/mers-drug-discovery/sars2-retrospective-analysis/\")"
   ]
  },
  {
   "cell_type": "code",
   "execution_count": null,
   "id": "882d35d4-c994-4211-a5f2-ae3cd9abd530",
   "metadata": {
    "tags": []
   },
   "outputs": [],
   "source": [
    "full_posit = local_analysis / \"results_with_structure_dates.csv\"\n",
    "hybrid = local_analysis / \"results_cleaned_tc_scores.csv\""
   ]
  },
  {
   "cell_type": "code",
   "execution_count": null,
   "id": "3cf81e97-c1ef-4d60-ad56-e180b0e4c832",
   "metadata": {
    "tags": []
   },
   "outputs": [],
   "source": [
    "posit_df = pd.read_csv(full_posit, index_col=0)"
   ]
  },
  {
   "cell_type": "code",
   "execution_count": null,
   "id": "a44f4350-c153-44f3-8216-af43181e9f2a",
   "metadata": {
    "tags": []
   },
   "outputs": [],
   "source": [
    "len(posit_df)"
   ]
  },
  {
   "cell_type": "code",
   "execution_count": null,
   "id": "a219cef9-fcdb-429a-8bd0-6cf444a1f156",
   "metadata": {
    "tags": []
   },
   "outputs": [],
   "source": [
    "len(hybrid_df)"
   ]
  },
  {
   "cell_type": "code",
   "execution_count": null,
   "id": "6cc37e5e-5735-4969-ac3c-347871a8ebd8",
   "metadata": {
    "tags": []
   },
   "outputs": [],
   "source": [
    "hybrid_df = pd.read_csv(hybrid, index_col=0)"
   ]
  },
  {
   "cell_type": "code",
   "execution_count": null,
   "id": "e870b5b5-ce57-49d8-802d-762338e66070",
   "metadata": {},
   "outputs": [],
   "source": []
  }
 ],
 "metadata": {
  "kernelspec": {
   "display_name": "Python 3 (ipykernel)",
   "language": "python",
   "name": "python3"
  },
  "language_info": {
   "codemirror_mode": {
    "name": "ipython",
    "version": 3
   },
   "file_extension": ".py",
   "mimetype": "text/x-python",
   "name": "python",
   "nbconvert_exporter": "python",
   "pygments_lexer": "ipython3",
   "version": "3.9.16"
  }
 },
 "nbformat": 4,
 "nbformat_minor": 5
}
