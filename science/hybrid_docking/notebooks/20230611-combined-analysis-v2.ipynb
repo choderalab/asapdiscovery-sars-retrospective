{
 "cells": [
  {
   "cell_type": "markdown",
   "metadata": {
    "pycharm": {
     "is_executing": true
    }
   },
   "source": [
    "# Imports"
   ]
  },
  {
   "cell_type": "code",
   "execution_count": null,
   "metadata": {
    "tags": []
   },
   "outputs": [],
   "source": [
    "import pandas as pd, numpy as np\n",
    "import plotly.express as px\n",
    "from pathlib import Path\n",
    "from asapdiscovery.docking.analysis import get_df_subset, calc_perc_good, calculate_perc_good\n",
    "from importlib import reload\n",
    "import asapdiscovery.docking.analysis as a"
   ]
  },
  {
   "cell_type": "markdown",
   "metadata": {},
   "source": [
    "# Load Paths"
   ]
  },
  {
   "cell_type": "code",
   "execution_count": null,
   "metadata": {
    "tags": []
   },
   "outputs": [],
   "source": [
    "import sys\n",
    "sys.path.append(str(Path(\"../../../\").resolve()))\n",
    "from software.paths import paths"
   ]
  },
  {
   "cell_type": "code",
   "execution_count": null,
   "metadata": {
    "tags": []
   },
   "outputs": [],
   "source": [
    "local_analysis = Path(\"/Users/alexpayne/Scientific_Projects/mers-drug-discovery/sars2-retrospective-analysis/\")"
   ]
  },
  {
   "cell_type": "code",
   "execution_count": null,
   "metadata": {
    "tags": []
   },
   "outputs": [],
   "source": [
    "df = pd.read_csv(local_analysis / \"20230611-combined.csv\", index_col=0)"
   ]
  },
  {
   "cell_type": "markdown",
   "metadata": {},
   "source": [
    "## a bit of fixing"
   ]
  },
  {
   "cell_type": "code",
   "execution_count": null,
   "metadata": {
    "tags": []
   },
   "outputs": [],
   "source": [
    "df[\"TanimotoCombo_R\"] = 2-df.TanimotoCombo"
   ]
  },
  {
   "cell_type": "markdown",
   "metadata": {},
   "source": [
    "# Plotting"
   ]
  },
  {
   "cell_type": "markdown",
   "metadata": {},
   "source": [
    "## standard variables"
   ]
  },
  {
   "cell_type": "code",
   "execution_count": null,
   "metadata": {
    "tags": []
   },
   "outputs": [],
   "source": [
    "tc = \"TanimotoCombo\"\n",
    "tcr = \"TanimotoCombo_R\"\n",
    "y=\"Percentage\"\n",
    "color=\"Version\"\n",
    "idcol=\"Compound_ID\"\n",
    "rmsd=\"RMSD\"\n",
    "split_cols=[\"Version\"]\n",
    "full_split_cols=[\"Version\", \"POSIT_Method\"]\n",
    "method_split=[\"POSIT_Method\"]\n",
    "n=1\n",
    "good=2\n",
    "tc_cutoffs = np.linspace(0,2,50)\n",
    "tcr_cutoffs = np.linspace(2,0,50)\n",
    "sort_cols = [\"RMSD\", \"POSIT_R\", \"Chemgauss4\", \"TanimotoCombo_R\"]\n",
    "sort_col_name = \"Sorted_By\"\n",
    "dates = df.Structure_Date.unique()\n",
    "date_col = \"Structure_Date\""
   ]
  },
  {
   "cell_type": "markdown",
   "metadata": {},
   "source": [
    "## TanimotoCombo"
   ]
  },
  {
   "cell_type": "markdown",
   "metadata": {},
   "source": [
    "### use_per_split_mol=False"
   ]
  },
  {
   "cell_type": "code",
   "execution_count": null,
   "metadata": {
    "tags": []
   },
   "outputs": [],
   "source": [
    "dfs = []\n",
    "for splits in [split_cols, full_split_cols]:\n",
    "    for sort_column in sort_cols:\n",
    "        new_df = a.calculate_perc_good(df,\n",
    "                                        id_column=idcol,\n",
    "                        filter_column=tc,\n",
    "                        filter_cutoffs=tc_cutoffs,\n",
    "                        sort_column=sort_column,\n",
    "                        n=n,\n",
    "                        score_column=rmsd,\n",
    "                        good_score=good,\n",
    "                        split_cols=splits,\n",
    "                                      reference_col=\"Structure_Source\")\n",
    "        new_df[sort_col_name] = sort_column\n",
    "        new_df[\"Percentage References Used\"] = new_df[\"Number of References\"] / 219 # this estimate of percentage is wrong?\n",
    "        dfs.append(new_df)"
   ]
  },
  {
   "cell_type": "code",
   "execution_count": null,
   "metadata": {
    "tags": []
   },
   "outputs": [],
   "source": [
    "split_combined = [pd.concat(dfs[0:4]), pd.concat(dfs[4:])]"
   ]
  },
  {
   "cell_type": "code",
   "execution_count": null,
   "metadata": {
    "tags": []
   },
   "outputs": [],
   "source": [
    "split_combined[0][\"Vtype\"] = \"General\"\n",
    "split_combined[1][\"Vtype\"] = \"Detailed\""
   ]
  },
  {
   "cell_type": "code",
   "execution_count": null,
   "metadata": {
    "tags": []
   },
   "outputs": [],
   "source": [
    "combined = pd.concat(split_combined)"
   ]
  },
  {
   "cell_type": "code",
   "execution_count": null,
   "metadata": {
    "tags": []
   },
   "outputs": [],
   "source": [
    "fig = px.scatter(combined,\n",
    "                 x=tc,\n",
    "                 color=color,\n",
    "                 facet_col=\"Vtype\",\n",
    "                 y=\"Percentage Docked\",)"
   ]
  },
  {
   "cell_type": "code",
   "execution_count": null,
   "metadata": {
    "tags": []
   },
   "outputs": [],
   "source": [
    "fig.show()"
   ]
  },
  {
   "cell_type": "code",
   "execution_count": null,
   "metadata": {
    "tags": []
   },
   "outputs": [],
   "source": [
    "fig = px.scatter(combined,\n",
    "                 x=tc,\n",
    "                 color=color,\n",
    "                 facet_col=sort_col_name,\n",
    "                 facet_row=\"Vtype\",\n",
    "                 y=\"Percentage References Used\",\n",
    "                hover_data=combined.columns,\n",
    "                height=600, \n",
    "                 width=1200,)"
   ]
  },
  {
   "cell_type": "code",
   "execution_count": null,
   "metadata": {
    "tags": []
   },
   "outputs": [],
   "source": [
    "fig.show()"
   ]
  },
  {
   "cell_type": "code",
   "execution_count": null,
   "metadata": {},
   "outputs": [],
   "source": []
  },
  {
   "cell_type": "code",
   "execution_count": null,
   "metadata": {
    "tags": []
   },
   "outputs": [],
   "source": [
    "fig = px.scatter(combined, x=tc, \n",
    "                 y=y, \n",
    "                 color=color,\n",
    "                 facet_col=sort_col_name,\n",
    "                 facet_row=\"Vtype\",\n",
    "                 hover_data=combined.columns,\n",
    "                 height=600, \n",
    "                 width=1200,)\n",
    "fig.show()"
   ]
  },
  {
   "cell_type": "code",
   "execution_count": null,
   "metadata": {
    "tags": []
   },
   "outputs": [],
   "source": [
    "fig = px.scatter(combined[(combined.Sorted_By==\"POSIT_R\") & (combined.Vtype == \"General\")], x=tc, \n",
    "                 y=y, \n",
    "                 color=color,\n",
    "                 # facet_row=\"Vtype\",\n",
    "                 hover_data=combined.columns,\n",
    "                 height=400, \n",
    "                 width=600,range_y=[0,1.1])\n",
    "fig.update_xaxes(title=\"TanimotoCombo Cutoff for Inclusion of Reference Structures\")\n",
    "fig.show()"
   ]
  },
  {
   "cell_type": "markdown",
   "metadata": {},
   "source": [
    "### use_per_split_mol=True"
   ]
  },
  {
   "cell_type": "code",
   "execution_count": null,
   "metadata": {
    "tags": []
   },
   "outputs": [],
   "source": [
    "dfs = []\n",
    "for splits in [split_cols, full_split_cols]:\n",
    "    for sort_column in sort_cols:\n",
    "        new_df = a.calculate_perc_good(df,\n",
    "                                        id_column=idcol,\n",
    "                        filter_column=tc,\n",
    "                        filter_cutoffs=tc_cutoffs,\n",
    "                        sort_column=sort_column,\n",
    "                        n=n,\n",
    "                        score_column=rmsd,\n",
    "                        good_score=good,\n",
    "                        split_cols=splits,\n",
    "                                    use_per_split_mol=True,\n",
    "                                      reference_col=\"Structure_Source\")\n",
    "        new_df[sort_col_name] = sort_column\n",
    "        dfs.append(new_df)"
   ]
  },
  {
   "cell_type": "code",
   "execution_count": null,
   "metadata": {
    "tags": []
   },
   "outputs": [],
   "source": [
    "combined = pd.concat(dfs)"
   ]
  },
  {
   "cell_type": "code",
   "execution_count": null,
   "metadata": {
    "tags": []
   },
   "outputs": [],
   "source": [
    "fig = px.scatter(combined, x=tc, \n",
    "                 y=y, \n",
    "                 color=color,\n",
    "                 facet_col=sort_col_name,\n",
    "                 hover_data=combined.columns,\n",
    "                 height=600, \n",
    "                 width=1200,)\n",
    "fig.show()"
   ]
  },
  {
   "cell_type": "markdown",
   "metadata": {},
   "source": [
    "### reverse TC"
   ]
  },
  {
   "cell_type": "code",
   "execution_count": null,
   "metadata": {
    "tags": []
   },
   "outputs": [],
   "source": [
    "reload(a)\n",
    "dfs = []\n",
    "for splits in [split_cols, full_split_cols]:\n",
    "    for sort_column in sort_cols:\n",
    "        new_df = a.calculate_perc_good(df,\n",
    "                                        id_column=idcol,\n",
    "                        filter_column=tcr,\n",
    "                        filter_cutoffs=tc_cutoffs,\n",
    "                        sort_column=sort_column,\n",
    "                        n=n_,\n",
    "                        score_column=rmsd,\n",
    "                        good_score=good,\n",
    "                        split_cols=splits,\n",
    "                                     use_per_split_mol=True,\n",
    "                                      reference_col=\"Reference_Ligand\")\n",
    "        new_df[sort_col_name] = sort_column\n",
    "        new_df[\"TanimotoCombo\"] = 2-new_df[\"TanimotoCombo_R\"]\n",
    "        dfs.append(new_df)"
   ]
  },
  {
   "cell_type": "code",
   "execution_count": null,
   "metadata": {
    "tags": []
   },
   "outputs": [],
   "source": [
    "split_combined = [pd.concat(dfs[0:4]), pd.concat(dfs[4:])]"
   ]
  },
  {
   "cell_type": "code",
   "execution_count": null,
   "metadata": {
    "tags": []
   },
   "outputs": [],
   "source": [
    "split_combined[0][\"Vtype\"] = \"General\"\n",
    "split_combined[1][\"Vtype\"] = \"Detailed\""
   ]
  },
  {
   "cell_type": "code",
   "execution_count": null,
   "metadata": {
    "tags": []
   },
   "outputs": [],
   "source": [
    "combined = pd.concat(split_combined)"
   ]
  },
  {
   "cell_type": "code",
   "execution_count": null,
   "metadata": {
    "tags": []
   },
   "outputs": [],
   "source": [
    "fig = px.scatter(combined, \n",
    "                 x=tc, \n",
    "                 y=y, \n",
    "                 color=color,\n",
    "                 facet_col=sort_col_name,\n",
    "                 facet_row = \"Vtype\",\n",
    "                 hover_data=combined.columns,\n",
    "                 height=600, \n",
    "                 width=1200,\n",
    "                range_y=[0,1.1])\n",
    "fig.update_xaxes(autorange=\"reversed\")\n",
    "fig.show()"
   ]
  },
  {
   "cell_type": "code",
   "execution_count": null,
   "metadata": {
    "tags": []
   },
   "outputs": [],
   "source": [
    "fig = px.scatter(combined[(combined.Sorted_By==\"POSIT_R\") & (combined.Vtype == \"General\")], x=tc, \n",
    "                 y=y, \n",
    "                 color=color,\n",
    "                 # facet_row=\"Vtype\",\n",
    "                 hover_data=combined.columns,\n",
    "                 height=600, \n",
    "                 width=600,range_y=[0,1.1])\n",
    "fig.update_xaxes(title=\"TanimotoCombo Cutoff for Inclusion of Reference Structures\")\n",
    "fig.update_xaxes(autorange=\"reversed\")\n",
    "fig.show()"
   ]
  },
  {
   "cell_type": "code",
   "execution_count": null,
   "metadata": {
    "tags": []
   },
   "outputs": [],
   "source": [
    "means = []\n",
    "cutoffs = []\n",
    "versions = []\n",
    "sortby = []\n",
    "sds = []\n",
    "for sort_col in sort_cols:\n",
    "    for cutoff in tc_cutoffs:\n",
    "        rmsds = a.get_df_subset(df, tcr, cutoff, sort_col).groupby(\"Version\")[\"RMSD\"]\n",
    "        mean_list = rmsds.mean()\n",
    "        sd = rmsds.std()\n",
    "        for version in mean_list.index:\n",
    "            means.append(mean_list[version])\n",
    "            cutoffs.append(2-cutoff)\n",
    "            versions.append(version)\n",
    "            sortby.append(sort_col)\n",
    "            sds.append(sd[version])"
   ]
  },
  {
   "cell_type": "code",
   "execution_count": null,
   "metadata": {
    "tags": []
   },
   "outputs": [],
   "source": [
    "mean_df = pd.DataFrame({\"Mean RMSD (Å)\":means, \"TanimotoCombo\":cutoffs, \"Version\":versions, \"Sorted_By\":sortby, \"RMSD Std\":sds})"
   ]
  },
  {
   "cell_type": "code",
   "execution_count": null,
   "metadata": {
    "tags": []
   },
   "outputs": [],
   "source": [
    "fig = px.scatter(mean_df,y=\"Mean RMSD (Å)\", facet_col=\"Sorted_By\", error_y=\"RMSD Std\", x=tc, color=color)\n",
    "fig.update_xaxes(autorange=\"reversed\")"
   ]
  },
  {
   "cell_type": "markdown",
   "metadata": {},
   "source": [
    "## how to calculate nrefs?"
   ]
  },
  {
   "cell_type": "code",
   "execution_count": null,
   "metadata": {
    "tags": []
   },
   "outputs": [],
   "source": [
    "means = []\n",
    "cutoffs = []\n",
    "versions = []\n",
    "sds = []\n",
    "for cutoff in tc_cutoffs:\n",
    "    ref_list = df[df[tc] <= cutoff].groupby([\"Version\", \"Compound_ID\"])[\"Structure_Source\"].count()\n",
    "    mean_list = ref_list.groupby(\"Version\").mean()\n",
    "    sd_list = ref_list.groupby(\"Version\").std()\n",
    "    for version in mean_list.index:\n",
    "        means.append(mean_list[version])\n",
    "        cutoffs.append(cutoff)\n",
    "        versions.append(version)\n",
    "        sds.append(sd_list[version])"
   ]
  },
  {
   "cell_type": "code",
   "execution_count": null,
   "metadata": {
    "tags": []
   },
   "outputs": [],
   "source": [
    "mean_df = pd.DataFrame({\"Mean Number of References\":means, \"TanimotoCombo\":cutoffs, \"Version\":versions, \"STD\":sds})"
   ]
  },
  {
   "cell_type": "code",
   "execution_count": null,
   "metadata": {
    "tags": []
   },
   "outputs": [],
   "source": [
    "fig = px.scatter(mean_df,y=\"Mean Number of References\", x=tc, color=color, height=400, width=600)"
   ]
  },
  {
   "cell_type": "code",
   "execution_count": null,
   "metadata": {
    "tags": []
   },
   "outputs": [],
   "source": [
    "fig.show()"
   ]
  },
  {
   "cell_type": "markdown",
   "metadata": {},
   "source": [
    "## more fun with RMSD using TC bounds"
   ]
  },
  {
   "cell_type": "code",
   "execution_count": null,
   "metadata": {
    "tags": []
   },
   "outputs": [],
   "source": [
    "bins = np.linspace(0,2,9)\n",
    "bounds = [(i,j) for i,j in zip(bins[:-1], bins[1:])]"
   ]
  },
  {
   "cell_type": "code",
   "execution_count": null,
   "metadata": {
    "tags": []
   },
   "outputs": [],
   "source": [
    "dfs = []\n",
    "for name, metric in {\"Min\":np.min, \"Max\":np.max, \"Mean\": np.mean}.items():\n",
    "    means = []\n",
    "    versions = []\n",
    "    avg_tc = []\n",
    "    sds = []\n",
    "    for i,j in bounds:\n",
    "        values = df[(df[tc] > i) & (df[tc]<=j)].groupby([\"Version\", \"Compound_ID\"])[\"RMSD\"].apply(metric)\n",
    "        mean = values.groupby(\"Version\").mean()\n",
    "        sd = values.groupby(\"Version\").std()\n",
    "        for version in mean.index:\n",
    "            means.append(mean[version])\n",
    "            versions.append(version)\n",
    "            avg_tc.append(str(np.mean([i,j])))\n",
    "            sds.append(sd[version])\n",
    "    dfs.append(pd.DataFrame({\"Value\": means, \"Metric\": name, \"STD\": sds, \"Version\":versions, \"TanimotoCombo\":avg_tc}))"
   ]
  },
  {
   "cell_type": "code",
   "execution_count": null,
   "metadata": {
    "tags": []
   },
   "outputs": [],
   "source": [
    "combined = pd.concat(dfs)"
   ]
  },
  {
   "cell_type": "code",
   "execution_count": null,
   "metadata": {
    "tags": []
   },
   "outputs": [],
   "source": [
    "fig = px.scatter(combined, \n",
    "                 x=\"TanimotoCombo\", \n",
    "                 y=\"Value\",\n",
    "                 facet_col=\"Version\",\n",
    "                 error_y=\"STD\",\n",
    "             color=\"Metric\")\n",
    "fig.show()"
   ]
  },
  {
   "cell_type": "markdown",
   "metadata": {},
   "source": [
    "## Structure Dates"
   ]
  },
  {
   "cell_type": "markdown",
   "metadata": {},
   "source": [
    "### use_per_split_mol=False"
   ]
  },
  {
   "cell_type": "code",
   "execution_count": null,
   "metadata": {
    "tags": []
   },
   "outputs": [],
   "source": [
    "dfs = []\n",
    "for splits in [split_cols, full_split_cols]:\n",
    "    for sort_column in sort_cols:\n",
    "        new_df = calculate_perc_good(df,\n",
    "                                        id_column=idcol,\n",
    "                        filter_column=date_col,\n",
    "                        filter_cutoffs=dates,\n",
    "                        sort_column=sort_column,\n",
    "                        n=n,\n",
    "                        score_column=rmsd,\n",
    "                        good_score=good,\n",
    "                        split_cols=splits,\n",
    "                                    reference_col=\"Structure_Source\")\n",
    "        new_df[sort_col_name] = sort_column\n",
    "        dfs.append(new_df)"
   ]
  },
  {
   "cell_type": "code",
   "execution_count": null,
   "metadata": {
    "tags": []
   },
   "outputs": [],
   "source": [
    "split_combined = [pd.concat(dfs[0:4]), pd.concat(dfs[4:])]"
   ]
  },
  {
   "cell_type": "code",
   "execution_count": null,
   "metadata": {
    "tags": []
   },
   "outputs": [],
   "source": [
    "split_combined[0][\"Vtype\"] = \"General\"\n",
    "split_combined[1][\"Vtype\"] = \"Detailed\""
   ]
  },
  {
   "cell_type": "code",
   "execution_count": null,
   "metadata": {
    "tags": []
   },
   "outputs": [],
   "source": [
    "structure_df = pd.concat(split_combined)"
   ]
  },
  {
   "cell_type": "code",
   "execution_count": null,
   "metadata": {
    "tags": []
   },
   "outputs": [],
   "source": [
    "fig = px.scatter(structure_df[(structure_df.Sorted_By==\"POSIT_R\") & (structure_df.Vtype == \"General\")],\n",
    "                 x=date_col,\n",
    "                 color=color,\n",
    "                 # facet_col=sort_col_name,\n",
    "                 # facet_row=\"Vtype\",\n",
    "                 y=y,height=400, width=600)\n",
    "fig.show()"
   ]
  },
  {
   "cell_type": "code",
   "execution_count": null,
   "metadata": {
    "tags": []
   },
   "outputs": [],
   "source": [
    "fig = px.scatter(structure_df, \n",
    "                 x=date_col, \n",
    "                 y=y, \n",
    "                 color=color,\n",
    "                 facet_col=sort_col_name,\n",
    "                 hover_data=structure_df.columns,\n",
    "                 height=600, \n",
    "                 width=1200,)\n",
    "fig.show()"
   ]
  },
  {
   "cell_type": "markdown",
   "metadata": {},
   "source": [
    "## How do the different methods compare with the POSIT vs RMSD score?"
   ]
  },
  {
   "cell_type": "code",
   "execution_count": null,
   "metadata": {
    "tags": []
   },
   "outputs": [],
   "source": [
    "df_ = df[df.Version == \"All\"]\n",
    "for method in df.POSIT_Method.unique():\n",
    "    fig = px.density_heatmap(df_[df_.POSIT_Method == method],\n",
    "                     x=\"RMSD\",\n",
    "                     y=\"POSIT\",\n",
    "                             marginal_x=\"histogram\", marginal_y=\"histogram\",\n",
    "                             height=800,\n",
    "                             width=800,\n",
    "                             title=method,\n",
    "                             range_x=[0,11],\n",
    "                             range_y=[0,1.1]\n",
    "                            )\n",
    "    fig.show()\n",
    "    "
   ]
  },
  {
   "cell_type": "markdown",
   "metadata": {},
   "source": [
    "## how about TC vs RMSD?"
   ]
  },
  {
   "cell_type": "code",
   "execution_count": null,
   "metadata": {
    "tags": []
   },
   "outputs": [],
   "source": [
    "df_ = df[df.Version == \"All\"]\n",
    "for method in df.POSIT_Method.unique():\n",
    "    fig = px.density_heatmap(df_[df_.POSIT_Method == method],\n",
    "                     x=\"RMSD\",\n",
    "                     y=tc,\n",
    "                             marginal_x=\"histogram\", marginal_y=\"histogram\",\n",
    "                             height=800,\n",
    "                             width=800,\n",
    "                             title=method,\n",
    "                             range_x=[0,11],\n",
    "                             range_y=[0,2.1]\n",
    "                            )\n",
    "    fig.show()\n",
    "    "
   ]
  },
  {
   "cell_type": "code",
   "execution_count": null,
   "metadata": {},
   "outputs": [],
   "source": []
  },
  {
   "cell_type": "code",
   "execution_count": null,
   "metadata": {
    "tags": []
   },
   "outputs": [],
   "source": [
    "for version in df.Version.unique():\n",
    "    fig = px.density_heatmap(df[df.Version == version],\n",
    "                     x=\"RMSD\",\n",
    "                     y=tc,\n",
    "                             marginal_x=\"histogram\", marginal_y=\"histogram\",\n",
    "                             height=800,\n",
    "                             width=800,\n",
    "                             title=version,\n",
    "                             range_x=[0,11],\n",
    "                             range_y=[0,2.1]\n",
    "                            )\n",
    "    fig.show()\n",
    "    "
   ]
  },
  {
   "cell_type": "code",
   "execution_count": null,
   "metadata": {
    "tags": []
   },
   "outputs": [],
   "source": [
    "for version in df.Version.unique():\n",
    "    fig = px.density_contour(df[df.Version == version],\n",
    "                     x=\"RMSD\",\n",
    "                     y=tc,\n",
    "                             marginal_x=\"histogram\", marginal_y=\"histogram\",\n",
    "                             height=800,\n",
    "                             width=800,\n",
    "                             title=version,\n",
    "                             range_x=[0,11],\n",
    "                             range_y=[0,2.1]\n",
    "                            )\n",
    "    fig.show()\n",
    "    "
   ]
  },
  {
   "cell_type": "markdown",
   "metadata": {},
   "source": [
    "# How do RMSDs for self-docking look?"
   ]
  },
  {
   "cell_type": "code",
   "execution_count": null,
   "metadata": {
    "tags": []
   },
   "outputs": [],
   "source": [
    "self_docked = df[(df.Reference_Ligand == df.Compound_ID)]"
   ]
  },
  {
   "cell_type": "code",
   "execution_count": null,
   "metadata": {
    "tags": []
   },
   "outputs": [],
   "source": [
    "self_docked.TanimotoCombo.unique()"
   ]
  },
  {
   "cell_type": "code",
   "execution_count": null,
   "metadata": {
    "tags": []
   },
   "outputs": [],
   "source": [
    "self_docked.groupby(\"Version\").nunique()"
   ]
  },
  {
   "cell_type": "code",
   "execution_count": null,
   "metadata": {
    "tags": []
   },
   "outputs": [],
   "source": [
    "from functools import reduce"
   ]
  },
  {
   "cell_type": "code",
   "execution_count": null,
   "metadata": {
    "tags": []
   },
   "outputs": [],
   "source": [
    "intersection = reduce(lambda x,y: x.intersection(y), self_docked.groupby(\"Version\")[\"Compound_ID\"].apply(lambda x: set(x.unique())))"
   ]
  },
  {
   "cell_type": "code",
   "execution_count": null,
   "metadata": {
    "tags": []
   },
   "outputs": [],
   "source": [
    "len(intersection)"
   ]
  },
  {
   "cell_type": "code",
   "execution_count": null,
   "metadata": {
    "tags": []
   },
   "outputs": [],
   "source": [
    "self_docked_filtered = self_docked[self_docked.Compound_ID.isin(intersection)]"
   ]
  },
  {
   "cell_type": "code",
   "execution_count": null,
   "metadata": {
    "tags": []
   },
   "outputs": [],
   "source": [
    "len(self_docked_filtered)"
   ]
  },
  {
   "cell_type": "code",
   "execution_count": null,
   "metadata": {
    "tags": []
   },
   "outputs": [],
   "source": [
    "len(self_docked)"
   ]
  },
  {
   "cell_type": "code",
   "execution_count": null,
   "metadata": {
    "tags": []
   },
   "outputs": [],
   "source": [
    "import plotly.figure_factory as ff"
   ]
  },
  {
   "cell_type": "code",
   "execution_count": null,
   "metadata": {
    "tags": []
   },
   "outputs": [],
   "source": []
  },
  {
   "cell_type": "code",
   "execution_count": null,
   "metadata": {
    "tags": []
   },
   "outputs": [],
   "source": []
  },
  {
   "cell_type": "code",
   "execution_count": null,
   "metadata": {},
   "outputs": [],
   "source": []
  },
  {
   "cell_type": "code",
   "execution_count": null,
   "metadata": {
    "tags": []
   },
   "outputs": [],
   "source": [
    "def plot_kde(df, value_column, group_column, groups):\n",
    "    arrays = [df[df[group_column] == group][value_column] for group in groups]\n",
    "    fig = ff.create_distplot(arrays, group_labels=groups, bin_size=0.25, show_rug=False)\n",
    "    fig.update_layout(width=800, height=800)\n",
    "    fig.update_xaxes(title=\"RMSD (Å)\", range=[0,8])\n",
    "    fig.update_yaxes(title=\"Frequency\", range=[0,1])\n",
    "    return fig"
   ]
  },
  {
   "cell_type": "code",
   "execution_count": null,
   "metadata": {
    "tags": []
   },
   "outputs": [],
   "source": [
    "plot_kde(self_docked, \"RMSD\", \"Version\", [\"All\", \"Hybrid-Only\"])"
   ]
  },
  {
   "cell_type": "code",
   "execution_count": null,
   "metadata": {
    "tags": []
   },
   "outputs": [],
   "source": [
    "fig2 = plot_kde(self_docked_filtered, \"RMSD\", \"Version\", [\"All\", \"Hybrid-Only\"])"
   ]
  },
  {
   "cell_type": "code",
   "execution_count": null,
   "metadata": {
    "tags": []
   },
   "outputs": [],
   "source": [
    "fig2.write_image(\"20230613_self_docking_RMSD_kde.png\")"
   ]
  },
  {
   "cell_type": "code",
   "execution_count": null,
   "metadata": {},
   "outputs": [],
   "source": []
  }
 ],
 "metadata": {
  "kernelspec": {
   "display_name": "Python 3 (ipykernel)",
   "language": "python",
   "name": "python3"
  },
  "language_info": {
   "codemirror_mode": {
    "name": "ipython",
    "version": 3
   },
   "file_extension": ".py",
   "mimetype": "text/x-python",
   "name": "python",
   "nbconvert_exporter": "python",
   "pygments_lexer": "ipython3",
   "version": "3.9.16"
  }
 },
 "nbformat": 4,
 "nbformat_minor": 4
}