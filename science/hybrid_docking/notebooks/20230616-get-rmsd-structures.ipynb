{
 "cells": [
  {
   "cell_type": "markdown",
   "id": "ff7349bf-b906-4389-b54c-7bc163b582bc",
   "metadata": {
    "pycharm": {
     "is_executing": true
    }
   },
   "source": [
    "# Imports"
   ]
  },
  {
   "cell_type": "code",
   "execution_count": null,
   "id": "b1c52a22-34b3-4e87-a034-31b1a14752e3",
   "metadata": {
    "tags": []
   },
   "outputs": [],
   "source": [
    "import pandas as pd, numpy as np\n",
    "import plotly.express as px\n",
    "from plotly.graph_objs import Figure\n",
    "from pathlib import Path\n",
    "from asapdiscovery.docking.analysis import get_df_subset, calc_perc_good, calculate_perc_good\n",
    "from importlib import reload\n",
    "import asapdiscovery.docking.analysis as a\n",
    "from functools import reduce\n",
    "import operator\n",
    "import shutil"
   ]
  },
  {
   "cell_type": "markdown",
   "id": "65cd7f39-bc72-4884-9319-216f9e106257",
   "metadata": {},
   "source": [
    "# Load Paths"
   ]
  },
  {
   "cell_type": "code",
   "execution_count": null,
   "id": "4623c21d-be07-40d8-a249-c37fd1b11464",
   "metadata": {
    "tags": []
   },
   "outputs": [],
   "source": [
    "import sys\n",
    "sys.path.append(str(Path(\"../../../\").resolve()))\n",
    "from software.paths import paths"
   ]
  },
  {
   "cell_type": "code",
   "execution_count": null,
   "id": "15e649b5-97ae-426a-bee8-a9ee03ae010f",
   "metadata": {
    "tags": []
   },
   "outputs": [],
   "source": [
    "local_analysis = Path(\"/Users/alexpayne/Scientific_Projects/mers-drug-discovery/sars2-retrospective-analysis/\")"
   ]
  },
  {
   "cell_type": "code",
   "execution_count": null,
   "id": "4a06d8b0-b945-42a1-8785-15ce6afa2ba3",
   "metadata": {
    "tags": []
   },
   "outputs": [],
   "source": [
    "df = pd.read_csv(local_analysis / \"20230611-combined.csv\", index_col=0)"
   ]
  },
  {
   "cell_type": "markdown",
   "id": "e492f410-6142-4353-af60-a4e307a9a3b4",
   "metadata": {},
   "source": [
    "## a bit of fixing"
   ]
  },
  {
   "cell_type": "code",
   "execution_count": null,
   "id": "b24d622f-dff7-4220-9b60-ab3ffedc1c70",
   "metadata": {
    "tags": []
   },
   "outputs": [],
   "source": [
    "df[\"TanimotoCombo_R\"] = 2-df.TanimotoCombo"
   ]
  },
  {
   "cell_type": "code",
   "execution_count": null,
   "id": "444865f3-9861-4c24-9178-5a7bb0d8f4a4",
   "metadata": {},
   "outputs": [],
   "source": []
  },
  {
   "cell_type": "markdown",
   "id": "64ac94cb-9945-4723-beda-a95bb208c8f1",
   "metadata": {},
   "source": [
    "# Functions"
   ]
  },
  {
   "cell_type": "markdown",
   "id": "6f6dd10e-206c-41a7-b846-371b89b7ea6a",
   "metadata": {},
   "source": [
    "# Find a Compound_ID with RMSD values close to desired"
   ]
  },
  {
   "cell_type": "code",
   "execution_count": null,
   "id": "cec58e27-a476-412f-83f8-c72797058a97",
   "metadata": {
    "tags": []
   },
   "outputs": [],
   "source": [
    "def get_cmpds_at_rmsds(df, rmsds, tolerance=0.1):\n",
    "    all_cmpds = df.Compound_ID.unique()\n",
    "    bool_arrays = [np.isclose(df.RMSD, rmsd, atol=tolerance) for rmsd in rmsds]\n",
    "    compound_ids = [np.isin(all_cmpds, df[array][\"Compound_ID\"].unique()) for array in bool_arrays]\n",
    "    selector = reduce(operator.and_, compound_ids)\n",
    "    \n",
    "    selected_cmpds = all_cmpds[selector]\n",
    "    if len(selected_cmpds) == 0:\n",
    "        return None\n",
    "    \n",
    "    dfs = []\n",
    "    for cmpd in selected_cmpds:\n",
    "        cmpd_dfs = [df[(df.Compound_ID == cmpd) & (bool_array)].head(1) for bool_array in bool_arrays]\n",
    "        dfs.append(pd.concat(cmpd_dfs))\n",
    "    return pd.concat(dfs)"
   ]
  },
  {
   "cell_type": "code",
   "execution_count": null,
   "id": "8db9abc5-d62d-48d2-9632-642bedea5b13",
   "metadata": {
    "tags": []
   },
   "outputs": [],
   "source": [
    "selected_df = get_cmpds_at_rmsds(df, (0.1,2), tolerance=0.05)"
   ]
  },
  {
   "cell_type": "code",
   "execution_count": null,
   "id": "59c7aca1-79bc-4fb3-aafe-b0d4de662fe1",
   "metadata": {
    "tags": []
   },
   "outputs": [],
   "source": [
    "selected_df.Compound_ID.unique()"
   ]
  },
  {
   "cell_type": "code",
   "execution_count": null,
   "id": "3f5dbc97-1f5f-495a-8a18-59729d4a4893",
   "metadata": {
    "tags": []
   },
   "outputs": [],
   "source": [
    "sdf_paths = []\n",
    "rmsds = []\n",
    "for record in selected_df.to_dict(orient=\"records\"):\n",
    "    lilac_path = Path(record[\"Docked_File\"])\n",
    "    mounted_path = paths.ap_local / lilac_path.relative_to(list(lilac_path.parents)[-5])\n",
    "    mounted_path.exists()\n",
    "    new_path = local_analysis / f\"{record['Compound_ID']}_{record['RMSD']:.1f}.sdf\"\n",
    "    shutil.copy(mounted_path, new_path)\n",
    "    \n",
    "    "
   ]
  },
  {
   "cell_type": "markdown",
   "id": "260f5e0a-cd1f-49c9-aefc-d258ebd1cddf",
   "metadata": {},
   "source": [
    "$$Tanimoto(f,g) = \\frac{Intersection(f,g)}{Union(f,g)}$$\n",
    "\n",
    "$$Intersection(f,g)=\\int f(x,y,z)g(x,y,z)dV$$\n",
    "\n",
    "$$I(f,g) = I(g,f)$$\n",
    "\n",
    "$$ShapeTanimoto(f,g) = \\frac{I(f,g)}{I(f,f) + I(g,g) - 2*I(f,g)}$$"
   ]
  },
  {
   "cell_type": "code",
   "execution_count": null,
   "id": "8d4afaa8-feb3-4e9f-8a46-2bc8407865d1",
   "metadata": {},
   "outputs": [],
   "source": []
  }
 ],
 "metadata": {
  "kernelspec": {
   "display_name": "Python 3 (ipykernel)",
   "language": "python",
   "name": "python3"
  },
  "language_info": {
   "codemirror_mode": {
    "name": "ipython",
    "version": 3
   },
   "file_extension": ".py",
   "mimetype": "text/x-python",
   "name": "python",
   "nbconvert_exporter": "python",
   "pygments_lexer": "ipython3",
   "version": "3.9.16"
  }
 },
 "nbformat": 4,
 "nbformat_minor": 5
}
