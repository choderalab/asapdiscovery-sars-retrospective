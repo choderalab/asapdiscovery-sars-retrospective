{
 "cells": [
  {
   "cell_type": "markdown",
   "id": "63c68837-197e-43b4-b470-154d418848f6",
   "metadata": {
    "pycharm": {
     "is_executing": true
    }
   },
   "source": [
    "# Imports"
   ]
  },
  {
   "cell_type": "code",
   "execution_count": null,
   "id": "bfcb6062-4ad7-4779-b5ff-b0001368ee46",
   "metadata": {
    "tags": []
   },
   "outputs": [],
   "source": [
    "from pathlib import Path\n",
    "from asapdiscovery.data.openeye import load_openeye_sdfs, oechem, save_openeye_sdfs\n",
    "from asapdiscovery.data.fragalysis import parse_fragalysis\n",
    "import numpy as np\n",
    "import pandas as pd, numpy as np\n",
    "import plotly.express as px\n",
    "from datetime import datetime\n",
    "from tqdm.notebook import tqdm\n",
    "from asapdiscovery.docking.analysis import DockingResults\n",
    "import asapdiscovery.data.openeye as oe\n",
    "import asapdiscovery.modeling.cheminformatics as ci\n",
    "from importlib import reload"
   ]
  },
  {
   "cell_type": "markdown",
   "id": "10b2e4ad-fd01-45c9-acbe-958f457b660e",
   "metadata": {},
   "source": [
    "# Load Paths"
   ]
  },
  {
   "cell_type": "code",
   "execution_count": null,
   "id": "b6155791-9152-4baa-a5de-90aa82d876c4",
   "metadata": {
    "tags": []
   },
   "outputs": [],
   "source": [
    "import sys\n",
    "sys.path.append(str(Path(\"../../../\").resolve()))\n",
    "from software.paths import paths"
   ]
  },
  {
   "cell_type": "code",
   "execution_count": null,
   "id": "d83f30a4-9fa5-406c-934a-719d21eabe70",
   "metadata": {
    "tags": []
   },
   "outputs": [],
   "source": [
    "local_analysis = Path(\"/Users/alexpayne/Scientific_Projects/mers-drug-discovery/sars2-retrospective-analysis/\")"
   ]
  },
  {
   "cell_type": "code",
   "execution_count": null,
   "id": "882d35d4-c994-4211-a5f2-ae3cd9abd530",
   "metadata": {
    "tags": []
   },
   "outputs": [],
   "source": [
    "full_posit = local_analysis / \"results_with_structure_dates.csv\"\n",
    "hybrid = local_analysis / \"results_cleaned_tc_scores.csv\""
   ]
  },
  {
   "cell_type": "code",
   "execution_count": null,
   "id": "3cf81e97-c1ef-4d60-ad56-e180b0e4c832",
   "metadata": {
    "tags": []
   },
   "outputs": [],
   "source": [
    "posit_df = pd.read_csv(full_posit, index_col=0)"
   ]
  },
  {
   "cell_type": "code",
   "execution_count": null,
   "id": "a44f4350-c153-44f3-8216-af43181e9f2a",
   "metadata": {
    "tags": []
   },
   "outputs": [],
   "source": [
    "len(posit_df)"
   ]
  },
  {
   "cell_type": "code",
   "execution_count": null,
   "id": "6cc37e5e-5735-4969-ac3c-347871a8ebd8",
   "metadata": {
    "tags": []
   },
   "outputs": [],
   "source": [
    "hybrid_df = pd.read_csv(hybrid, index_col=0)"
   ]
  },
  {
   "cell_type": "code",
   "execution_count": null,
   "id": "e870b5b5-ce57-49d8-802d-762338e66070",
   "metadata": {},
   "outputs": [],
   "source": [
    "len(hybrid_df)"
   ]
  },
  {
   "cell_type": "markdown",
   "id": "25cb3954-aa70-48fe-b428-c3200a7cadbb",
   "metadata": {},
   "source": [
    "# create joined csv"
   ]
  },
  {
   "cell_type": "code",
   "execution_count": null,
   "id": "a4c02716-c023-4763-883e-27784aa6dec0",
   "metadata": {
    "tags": []
   },
   "outputs": [],
   "source": [
    "hybrid_df.columns"
   ]
  },
  {
   "cell_type": "code",
   "execution_count": null,
   "id": "5c6d8c81-192a-48a7-a7eb-feabecadb90a",
   "metadata": {
    "tags": []
   },
   "outputs": [],
   "source": [
    "tidy_columns = [\"Docked_File\", \"RMSD\", \"POSIT\", \"POSIT_Method\", \"Chemgauss4\", \"Clash\", \"POSIT_R\"]"
   ]
  },
  {
   "cell_type": "code",
   "execution_count": null,
   "id": "ec8cdfc4-7efd-47d3-a212-03719671c3c3",
   "metadata": {
    "tags": []
   },
   "outputs": [],
   "source": [
    "complex_info_cols = [col for col in hybrid_df.columns if col not in tidy_columns]\n",
    "hybrid_complex_info = hybrid_df.loc[:, complex_info_cols]\n",
    "complex_info_cols = [col for col in posit_df.columns if col not in tidy_columns]\n",
    "posit_complex_info = posit_df.loc[:, complex_info_cols]"
   ]
  },
  {
   "cell_type": "code",
   "execution_count": null,
   "id": "995fa4d0-7bd2-4d77-9697-c9470dcbf2bb",
   "metadata": {
    "tags": []
   },
   "outputs": [],
   "source": [
    "on_cols = [col for col in posit_complex_info.columns if col in hybrid_complex_info.columns]"
   ]
  },
  {
   "cell_type": "code",
   "execution_count": null,
   "id": "2564cdfc-6fba-497d-8646-1ec5fe538953",
   "metadata": {
    "tags": []
   },
   "outputs": [],
   "source": [
    "complex_info_df = pd.merge(posit_complex_info, hybrid_complex_info, on=on_cols)"
   ]
  },
  {
   "cell_type": "code",
   "execution_count": null,
   "id": "0669d648-50c3-4fc1-8bf3-a726810fdb7b",
   "metadata": {
    "tags": []
   },
   "outputs": [],
   "source": [
    "hybrid_to_merge = hybrid_df.loc[:, tidy_columns + [\"Complex_ID\"]]"
   ]
  },
  {
   "cell_type": "code",
   "execution_count": null,
   "id": "b783733f-4682-4df5-85bd-81f1bfd51238",
   "metadata": {
    "tags": []
   },
   "outputs": [],
   "source": [
    "hybrid_to_merge[\"Version\"] = \"Hybrid-Only\""
   ]
  },
  {
   "cell_type": "code",
   "execution_count": null,
   "id": "c17ccffc-71dd-4a35-b553-3f190437c9c1",
   "metadata": {
    "tags": []
   },
   "outputs": [],
   "source": [
    "hybrid_to_merge"
   ]
  },
  {
   "cell_type": "code",
   "execution_count": null,
   "id": "65ed8a2b-4d48-4646-a6ba-38062eaba0b1",
   "metadata": {
    "tags": []
   },
   "outputs": [],
   "source": [
    "posit_to_merge = posit_df.loc[:, tidy_columns + [\"Complex_ID\"]]"
   ]
  },
  {
   "cell_type": "code",
   "execution_count": null,
   "id": "a670dd6f-31d5-4b0f-84b5-b32c3f600982",
   "metadata": {
    "tags": []
   },
   "outputs": [],
   "source": [
    "posit_to_merge[\"Version\"] = \"All\""
   ]
  },
  {
   "cell_type": "code",
   "execution_count": null,
   "id": "c618223e-14aa-48ef-a441-6a25f9ac34c7",
   "metadata": {
    "tags": []
   },
   "outputs": [],
   "source": [
    "tidy_df = pd.concat([posit_to_merge, hybrid_to_merge])"
   ]
  },
  {
   "cell_type": "code",
   "execution_count": null,
   "id": "248f5358-a898-4d0e-ae7b-702c30498d44",
   "metadata": {
    "tags": []
   },
   "outputs": [],
   "source": [
    "np.shape(tidy_df)"
   ]
  },
  {
   "cell_type": "code",
   "execution_count": null,
   "id": "5ca7298d-7058-4a0d-ab75-838a2cfcdcba",
   "metadata": {
    "tags": []
   },
   "outputs": [],
   "source": [
    "outer = pd.merge(tidy_df, complex_info_df, how=\"outer\", on=\"Complex_ID\")"
   ]
  },
  {
   "cell_type": "code",
   "execution_count": null,
   "id": "76445156-82e5-4dda-8b62-e4432042e9a8",
   "metadata": {
    "tags": []
   },
   "outputs": [],
   "source": [
    "inner = pd.merge(tidy_df, complex_info_df, how=\"inner\", on=\"Complex_ID\")"
   ]
  },
  {
   "cell_type": "code",
   "execution_count": null,
   "id": "d226f35f-baf9-4445-afcb-169d78e686e5",
   "metadata": {
    "tags": []
   },
   "outputs": [],
   "source": [
    "np.shape(outer)"
   ]
  },
  {
   "cell_type": "code",
   "execution_count": null,
   "id": "4609baaa-4367-4c74-99e9-93b406ad5e9d",
   "metadata": {
    "tags": []
   },
   "outputs": [],
   "source": [
    "np.shape(inner)"
   ]
  },
  {
   "cell_type": "markdown",
   "id": "1e0b141b-38ab-438b-bc51-3f61e115ed5f",
   "metadata": {
    "tags": []
   },
   "source": [
    "## conclusion: better to use pd.merge(how=\"outer\") to capture all the values"
   ]
  },
  {
   "cell_type": "code",
   "execution_count": null,
   "id": "f224e4e7-e31d-4819-a46a-6f18c750dca3",
   "metadata": {
    "tags": []
   },
   "outputs": [],
   "source": [
    "missing = set(outer.Complex_ID.unique()) - set(inner.Complex_ID.unique())"
   ]
  },
  {
   "cell_type": "code",
   "execution_count": null,
   "id": "21589d8f-0167-4fb5-b3a1-8137512abeca",
   "metadata": {
    "tags": []
   },
   "outputs": [],
   "source": [
    "gained = outer[outer.Complex_ID.isin(missing)]"
   ]
  },
  {
   "cell_type": "code",
   "execution_count": null,
   "id": "ce118a8f-04b6-48ca-a175-f70d7a473402",
   "metadata": {
    "tags": []
   },
   "outputs": [],
   "source": [
    "gained.Compound_ID.unique()"
   ]
  },
  {
   "cell_type": "markdown",
   "id": "580e607f-9de1-4f04-8469-e6c17369c6c2",
   "metadata": {},
   "source": [
    "### problem: why didn't these compound ids get included in the complex info?"
   ]
  },
  {
   "cell_type": "markdown",
   "id": "bf3127f3-80dc-45e3-b873-2468de350f1b",
   "metadata": {},
   "source": [
    "### because i also didn't use inner / outer correctly here, when generating the complex info"
   ]
  },
  {
   "cell_type": "code",
   "execution_count": null,
   "id": "fdea6f6c-2112-4678-9dd0-5e3243f1f8cb",
   "metadata": {
    "tags": []
   },
   "outputs": [],
   "source": [
    "complex_info_df = pd.merge(posit_complex_info, hybrid_complex_info, on=on_cols, how=\"outer\")"
   ]
  },
  {
   "cell_type": "code",
   "execution_count": null,
   "id": "67fe0496-538b-46de-9bf8-35e18fe63059",
   "metadata": {
    "tags": []
   },
   "outputs": [],
   "source": [
    "outer = pd.merge(tidy_df, complex_info_df, how=\"outer\", on=\"Complex_ID\")"
   ]
  },
  {
   "cell_type": "code",
   "execution_count": null,
   "id": "2b2149ce-4bdc-4f84-a981-df3fed7b90b5",
   "metadata": {
    "tags": []
   },
   "outputs": [],
   "source": [
    "inner = pd.merge(tidy_df, complex_info_df, how=\"inner\", on=\"Complex_ID\")"
   ]
  },
  {
   "cell_type": "code",
   "execution_count": null,
   "id": "44a7fb20-5d91-4451-936a-f2ee2fa048f7",
   "metadata": {
    "tags": []
   },
   "outputs": [],
   "source": [
    "set(outer.Complex_ID.unique()) - set(inner.Complex_ID.unique())"
   ]
  },
  {
   "cell_type": "markdown",
   "id": "54cc0b84-1903-4ba0-b302-66061009f7dc",
   "metadata": {},
   "source": [
    "## now nothing is missing"
   ]
  },
  {
   "cell_type": "code",
   "execution_count": null,
   "id": "5b9792b5-fc31-4c2f-b978-65c07e4a76c7",
   "metadata": {
    "tags": []
   },
   "outputs": [],
   "source": [
    "len(outer.Reference_Ligand.unique())"
   ]
  },
  {
   "cell_type": "code",
   "execution_count": null,
   "id": "b5cafcbb-6099-4ea8-b69e-2ba1ca3a3900",
   "metadata": {
    "tags": []
   },
   "outputs": [],
   "source": [
    "len(outer.Structure_Source.unique())"
   ]
  },
  {
   "cell_type": "code",
   "execution_count": null,
   "id": "fb05fb3f-2813-42a2-a828-689c17e1096e",
   "metadata": {
    "tags": []
   },
   "outputs": [],
   "source": [
    "len(outer.Compound_ID.unique())"
   ]
  },
  {
   "cell_type": "code",
   "execution_count": null,
   "id": "cc0f94bd-a808-4750-9c82-80bf62d81887",
   "metadata": {
    "tags": []
   },
   "outputs": [],
   "source": [
    "len(outer.Complex_ID.unique())"
   ]
  },
  {
   "cell_type": "code",
   "execution_count": null,
   "id": "df8b51e2-2b5d-4a29-affd-650303493d05",
   "metadata": {
    "tags": []
   },
   "outputs": [],
   "source": [
    "219*219"
   ]
  },
  {
   "cell_type": "markdown",
   "id": "56a5adc3-83b0-4336-9d85-bb78c827f00c",
   "metadata": {},
   "source": [
    "# Why so many in \"ALL\"? Can't be more than 47961"
   ]
  },
  {
   "cell_type": "code",
   "execution_count": null,
   "id": "e9ac18aa-e519-4c13-880b-c7fdb53204c4",
   "metadata": {
    "tags": []
   },
   "outputs": [],
   "source": [
    "len(posit_df.Complex_ID.unique())"
   ]
  },
  {
   "cell_type": "code",
   "execution_count": null,
   "id": "f2d4bc99-89ea-4fad-9889-2d3b31b699d8",
   "metadata": {
    "tags": []
   },
   "outputs": [],
   "source": [
    "posit_df.groupby(\"Compound_ID\").apply(lambda x: len(x.Structure_Source.unique())).unique()"
   ]
  },
  {
   "cell_type": "code",
   "execution_count": null,
   "id": "c818c9fe-2da8-42c1-b4dd-ecead004001e",
   "metadata": {
    "tags": []
   },
   "outputs": [],
   "source": [
    "outer.groupby([\"Version\"])[\"Complex_ID\"].apply(lambda x: len(x.unique()))"
   ]
  },
  {
   "cell_type": "code",
   "execution_count": null,
   "id": "51371efb-db97-40be-8b8a-b7ec912b3a61",
   "metadata": {
    "tags": []
   },
   "outputs": [],
   "source": [
    "outer.groupby([\"Version\"])[\"Complex_ID\"].count()"
   ]
  },
  {
   "cell_type": "code",
   "execution_count": null,
   "id": "a7975488-70d6-4795-8c87-0c5bf9bb32a5",
   "metadata": {
    "tags": []
   },
   "outputs": [],
   "source": [
    "_ = outer.groupby([\"Version\", \"Complex_ID\"])[\"Complex_ID\"].count()"
   ]
  },
  {
   "cell_type": "code",
   "execution_count": null,
   "id": "7317fbd3-bd86-47e3-9a6d-d38bd1d95ee1",
   "metadata": {
    "tags": []
   },
   "outputs": [],
   "source": [
    "duplicates = _[_ > 1]"
   ]
  },
  {
   "cell_type": "code",
   "execution_count": null,
   "id": "16cfc47a-495d-4e06-9296-4b5f6d063825",
   "metadata": {
    "tags": []
   },
   "outputs": [],
   "source": [
    "duplicates[\"All\"].index"
   ]
  },
  {
   "cell_type": "code",
   "execution_count": null,
   "id": "714eb1ce-c5bc-4b5c-8e3d-cfb952f685d4",
   "metadata": {
    "tags": []
   },
   "outputs": [],
   "source": [
    "dups_removed = outer.drop_duplicates()"
   ]
  },
  {
   "cell_type": "code",
   "execution_count": null,
   "id": "1368a74d-0659-48f1-9ac3-ab98a5ff8823",
   "metadata": {
    "tags": []
   },
   "outputs": [],
   "source": [
    "dups_removed.groupby([\"Version\"])[\"Complex_ID\"].apply(lambda x: len(x.unique()))"
   ]
  },
  {
   "cell_type": "code",
   "execution_count": null,
   "id": "08dd7ae2-b18d-4faa-b0f1-50d6b71e4993",
   "metadata": {
    "tags": []
   },
   "outputs": [],
   "source": [
    "dups_removed.groupby([\"Version\"])[\"Complex_ID\"].count()"
   ]
  },
  {
   "cell_type": "code",
   "execution_count": null,
   "id": "80cab916-3dd9-4948-a6ac-3f08bbc07bd6",
   "metadata": {
    "tags": []
   },
   "outputs": [],
   "source": [
    "_ = dups_removed.groupby([\"Version\", \"Complex_ID\"])[\"Complex_ID\"].count()"
   ]
  },
  {
   "cell_type": "code",
   "execution_count": null,
   "id": "41ff5987-529f-4295-a607-25eadfd8e478",
   "metadata": {
    "tags": []
   },
   "outputs": [],
   "source": [
    "duplicates = _[_ > 1]"
   ]
  },
  {
   "cell_type": "code",
   "execution_count": null,
   "id": "999ddf57-00bb-4dd9-899f-4242ea1f7edf",
   "metadata": {
    "tags": []
   },
   "outputs": [],
   "source": [
    "duplicates[\"All\"].index"
   ]
  },
  {
   "cell_type": "code",
   "execution_count": null,
   "id": "cbc2ee4f-e8b5-49eb-9b7c-42598e8fa489",
   "metadata": {
    "tags": []
   },
   "outputs": [],
   "source": [
    "np.shape(duplicates)"
   ]
  },
  {
   "cell_type": "code",
   "execution_count": null,
   "id": "4b91fb19-b363-43d6-8634-bdde5cc86f19",
   "metadata": {
    "tags": []
   },
   "outputs": [],
   "source": [
    "duplicates"
   ]
  },
  {
   "cell_type": "code",
   "execution_count": null,
   "id": "426dcf64-f9a0-4902-999c-1efd8ed537ff",
   "metadata": {
    "tags": []
   },
   "outputs": [],
   "source": [
    "dups_removed[dups_removed.Complex_ID == \"ALP-POS-133e7cd9-2_Mpro-P0010_0A\"]"
   ]
  },
  {
   "cell_type": "code",
   "execution_count": null,
   "id": "c32827af-89c4-4f7d-969a-afc7c07828f7",
   "metadata": {},
   "outputs": [],
   "source": []
  },
  {
   "cell_type": "markdown",
   "id": "610aa42b-a375-4069-a3b4-81a5a8c82873",
   "metadata": {},
   "source": [
    "### so we've kept 214 reference structures and 208 query ligands"
   ]
  },
  {
   "cell_type": "markdown",
   "id": "c763087d-5810-41a8-885e-592a0cf50450",
   "metadata": {},
   "source": [
    "## save the combined df"
   ]
  },
  {
   "cell_type": "code",
   "execution_count": null,
   "id": "ab430b95-4540-45c4-ab31-4d58aaad3778",
   "metadata": {
    "tags": []
   },
   "outputs": [],
   "source": [
    "merged.to_csv(local_analysis / \"20230610-combined.csv\")"
   ]
  },
  {
   "cell_type": "code",
   "execution_count": null,
   "id": "479a2202-fb02-4fb9-a75c-3d1b940f009c",
   "metadata": {},
   "outputs": [],
   "source": []
  }
 ],
 "metadata": {
  "kernelspec": {
   "display_name": "Python 3 (ipykernel)",
   "language": "python",
   "name": "python3"
  },
  "language_info": {
   "codemirror_mode": {
    "name": "ipython",
    "version": 3
   },
   "file_extension": ".py",
   "mimetype": "text/x-python",
   "name": "python",
   "nbconvert_exporter": "python",
   "pygments_lexer": "ipython3",
   "version": "3.9.16"
  }
 },
 "nbformat": 4,
 "nbformat_minor": 5
}
