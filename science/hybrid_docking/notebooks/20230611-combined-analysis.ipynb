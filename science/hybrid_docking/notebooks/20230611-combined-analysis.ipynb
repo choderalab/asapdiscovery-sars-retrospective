{
 "cells": [
  {
   "cell_type": "markdown",
   "id": "bc6e08e3-ab9f-46c2-972a-55f1eebca717",
   "metadata": {
    "pycharm": {
     "is_executing": true
    }
   },
   "source": [
    "# Imports"
   ]
  },
  {
   "cell_type": "code",
   "execution_count": null,
   "id": "1078b303-4c40-4465-9433-dcce3c218140",
   "metadata": {
    "tags": []
   },
   "outputs": [],
   "source": [
    "from pathlib import Path\n",
    "from asapdiscovery.data.openeye import load_openeye_sdfs, oechem, save_openeye_sdfs\n",
    "from asapdiscovery.data.fragalysis import parse_fragalysis\n",
    "import numpy as np\n",
    "import pandas as pd, numpy as np\n",
    "import plotly.express as px\n",
    "from datetime import datetime\n",
    "from tqdm.notebook import tqdm\n",
    "from asapdiscovery.docking.analysis import DockingResults\n",
    "import asapdiscovery.data.openeye as oe\n",
    "import asapdiscovery.modeling.cheminformatics as ci\n",
    "from importlib import reload"
   ]
  },
  {
   "cell_type": "markdown",
   "id": "16f458e6-e671-4c3c-9ce1-da31138b375e",
   "metadata": {},
   "source": [
    "# Load Paths"
   ]
  },
  {
   "cell_type": "code",
   "execution_count": null,
   "id": "e49acb0f-b140-48a4-9cf2-226e58d2f42c",
   "metadata": {
    "tags": []
   },
   "outputs": [],
   "source": [
    "import sys\n",
    "sys.path.append(str(Path(\"../../../\").resolve()))\n",
    "from software.paths import paths"
   ]
  },
  {
   "cell_type": "code",
   "execution_count": null,
   "id": "b602411e-6a1d-4ef3-b15f-1aca7ee281c5",
   "metadata": {
    "tags": []
   },
   "outputs": [],
   "source": [
    "local_analysis = Path(\"/Users/alexpayne/Scientific_Projects/mers-drug-discovery/sars2-retrospective-analysis/\")"
   ]
  },
  {
   "cell_type": "code",
   "execution_count": null,
   "id": "b11eb339-87df-4990-a713-4e34d844a990",
   "metadata": {
    "tags": []
   },
   "outputs": [],
   "source": [
    "df = pd.read_csv(local_analysis / \"20230611-combined.csv\", index_col=0)"
   ]
  },
  {
   "cell_type": "code",
   "execution_count": null,
   "id": "0e87fb7a-56c3-45f7-a1bd-a1cad8f29e7e",
   "metadata": {
    "tags": []
   },
   "outputs": [],
   "source": [
    "np.shape(df)"
   ]
  },
  {
   "cell_type": "code",
   "execution_count": null,
   "id": "7210cf7e-f75a-489f-9cb0-6eb8ad515f47",
   "metadata": {
    "tags": []
   },
   "outputs": [],
   "source": [
    "df.groupby([\"Version\"]).apply(lambda x: len(x.Complex_ID.unique()))"
   ]
  },
  {
   "cell_type": "code",
   "execution_count": null,
   "id": "535cec4f-ae50-42cf-9537-6e97189faed8",
   "metadata": {
    "tags": []
   },
   "outputs": [],
   "source": [
    "df.nunique()"
   ]
  },
  {
   "cell_type": "code",
   "execution_count": null,
   "id": "6168e408-b570-4c63-9fcd-65dcd31b3d2c",
   "metadata": {
    "tags": []
   },
   "outputs": [],
   "source": [
    "cutoff = 1"
   ]
  },
  {
   "cell_type": "code",
   "execution_count": null,
   "id": "43695fcb-70ef-4b84-83d2-a7da173273ed",
   "metadata": {
    "tags": []
   },
   "outputs": [],
   "source": [
    "df[\"TanimotoCombo_R\"] = 2-df.TanimotoCombo"
   ]
  },
  {
   "cell_type": "code",
   "execution_count": null,
   "id": "2427ee1c-5442-4c69-8d3d-9782c9cdf329",
   "metadata": {
    "tags": []
   },
   "outputs": [],
   "source": [
    "test = df[df.TanimotoCombo <= cutoff]"
   ]
  },
  {
   "cell_type": "code",
   "execution_count": null,
   "id": "88642f9e-a188-4aca-9859-956d23d4a41a",
   "metadata": {
    "tags": []
   },
   "outputs": [],
   "source": [
    "selected = test.sort_values(\"RMSD\").groupby([\"Compound_ID\", \"Version\"]).head(1)"
   ]
  },
  {
   "cell_type": "code",
   "execution_count": null,
   "id": "0ab71d5e-8a45-414c-88ff-7a5e40af8d8d",
   "metadata": {
    "tags": []
   },
   "outputs": [],
   "source": [
    "group = selected.groupby(\"Version\", group_keys=True)"
   ]
  },
  {
   "cell_type": "code",
   "execution_count": null,
   "id": "b057a55c-8385-4b16-9937-a9c0ec2ab801",
   "metadata": {
    "tags": []
   },
   "outputs": [],
   "source": [
    "perc_good = group[\"RMSD\"].apply(lambda x: x <= 2).groupby([\"Version\"]).sum() / group[\"RMSD\"].count()"
   ]
  },
  {
   "cell_type": "code",
   "execution_count": null,
   "id": "276f9089-c852-4277-9635-40b1aa563ac3",
   "metadata": {
    "tags": []
   },
   "outputs": [],
   "source": [
    "versions = []"
   ]
  },
  {
   "cell_type": "code",
   "execution_count": null,
   "id": "20cca51a-6fbe-48fb-be74-a69af95871b4",
   "metadata": {
    "tags": []
   },
   "outputs": [],
   "source": [
    "perc_good_list = []"
   ]
  },
  {
   "cell_type": "code",
   "execution_count": null,
   "id": "81d51381-bdb7-4437-891c-7d38913e9152",
   "metadata": {
    "tags": []
   },
   "outputs": [],
   "source": [
    "for version in perc_good.index:\n",
    "    versions.append(version)\n",
    "    perc_good_list.append(perc_good[version])"
   ]
  },
  {
   "cell_type": "code",
   "execution_count": null,
   "id": "c5131865-275c-4ed6-a60e-e951d7c860f5",
   "metadata": {
    "tags": []
   },
   "outputs": [],
   "source": [
    "perc_good_list"
   ]
  },
  {
   "cell_type": "code",
   "execution_count": null,
   "id": "45dd1adf-51b3-49f7-ba24-849ffa3a0538",
   "metadata": {
    "tags": []
   },
   "outputs": [],
   "source": [
    "def get_selected(df, cutoff_column, cutoff, sort_column, n, selection_cols=(\"Compound_ID\", \"Version\")):\n",
    "    return df[df[cutoff_column] <= cutoff].sort_values(sort_column).groupby(list(selection_cols)).head(n)"
   ]
  },
  {
   "cell_type": "code",
   "execution_count": null,
   "id": "f02594a6-3ebe-455c-b9f6-834f320ff7a6",
   "metadata": {
    "tags": []
   },
   "outputs": [],
   "source": [
    "selected = get_selected(df, \"TanimotoCombo\", 2, \"RMSD\", 1, selection_cols=[\"Compound_ID\", \"Version\", \"POSIT_Method\"])"
   ]
  },
  {
   "cell_type": "code",
   "execution_count": null,
   "id": "43ae1f85-1d66-41c1-8c53-868e7881c78f",
   "metadata": {
    "tags": []
   },
   "outputs": [],
   "source": [
    "def calc_perc_good(df, score_column, good_score, total_mol, split_cols=(\"Version\")):\n",
    "    group = df.groupby(split_cols, group_keys=True)\n",
    "    return group[score_column].apply(lambda x: x <= good_score).groupby(split_cols).sum() / total_mol\n",
    "    "
   ]
  },
  {
   "cell_type": "code",
   "execution_count": null,
   "id": "22a1b084-a8d0-49d3-8357-7b1c8ddf9829",
   "metadata": {
    "tags": []
   },
   "outputs": [],
   "source": [
    "total_mol = selected.groupby([\"Version\", \"POSIT_Method\"])[\"Compound_ID\"].nunique()"
   ]
  },
  {
   "cell_type": "code",
   "execution_count": null,
   "id": "7b98dec7-ec34-4c36-b0bd-438d1a249473",
   "metadata": {
    "tags": []
   },
   "outputs": [],
   "source": [
    "calc_perc_good(selected, \"RMSD\", 2, split_cols=[\"Version\", \"POSIT_Method\"], total_mol=total_mol)"
   ]
  },
  {
   "cell_type": "code",
   "execution_count": null,
   "id": "2e5f2433-a7dc-4896-888b-406d913227a7",
   "metadata": {
    "tags": []
   },
   "outputs": [],
   "source": [
    "fred_df = df[df.POSIT_Method == \"FRED\"]"
   ]
  },
  {
   "cell_type": "code",
   "execution_count": null,
   "id": "acc6b12b-77fe-45f1-b4d9-36b07153a5d1",
   "metadata": {
    "tags": []
   },
   "outputs": [],
   "source": [
    "fred_df.nunique()"
   ]
  },
  {
   "cell_type": "code",
   "execution_count": null,
   "id": "276ae165-1c67-40c3-9f0b-633bc30306b8",
   "metadata": {},
   "outputs": [],
   "source": []
  },
  {
   "cell_type": "code",
   "execution_count": null,
   "id": "ba6023b2-3af7-4b0d-b049-bb20c3b5c103",
   "metadata": {},
   "outputs": [],
   "source": []
  },
  {
   "cell_type": "code",
   "execution_count": null,
   "id": "34b330f4-0d85-45e3-9cc3-fc12219270b8",
   "metadata": {},
   "outputs": [],
   "source": []
  },
  {
   "cell_type": "code",
   "execution_count": null,
   "id": "773750da-f46c-4bd7-a930-4849f2842c09",
   "metadata": {
    "tags": []
   },
   "outputs": [],
   "source": [
    "def calculate_perc_good(df, cutoff_column, cutoffs: list, sort_column, n, selection_cols, score_column:str, good_score, split_cols, use_per_split_mol=False):\n",
    "    total_mols = len(df.Compound_ID.unique())\n",
    "    version_list = []\n",
    "    score_list = []\n",
    "    cutoff_list = []\n",
    "    perc_mols_list = []\n",
    "    for cutoff in cutoffs:\n",
    "        selected = get_selected(df, cutoff_column, cutoff, sort_column, n, selection_cols)\n",
    "        \n",
    "        if use_per_split_mol:\n",
    "            total_mols = df.groupby(split_cols)[\"Compound_ID\"].apply(lambda x: len(x.unique()))\n",
    "        \n",
    "        perc_mols = selected.groupby(split_cols).nunique()[\"Compound_ID\"] / total_mols\n",
    "        score_array = calc_perc_good(selected, score_column, good_score, total_mols, split_cols)\n",
    "        \n",
    "        for version in score_array.index:\n",
    "            version_list.append(version)\n",
    "            score_list.append(score_array[version])\n",
    "            cutoff_list.append(cutoff)\n",
    "            perc_mols_list.append(perc_mols[version])\n",
    "    \n",
    "    return_df = pd.DataFrame({f\"Percentage\": score_list, cutoff_column:cutoff_list, \"Version\":version_list, \"Percentage Docked\": perc_mols_list})\n",
    "    return return_df"
   ]
  },
  {
   "cell_type": "code",
   "execution_count": null,
   "id": "a6393de4-e1a5-4717-b2b8-2a09436e02f4",
   "metadata": {
    "tags": []
   },
   "outputs": [],
   "source": [
    "true_positive = calculate_perc_good(df,\n",
    "                    cutoff_column=\"TanimotoCombo\",\n",
    "                    cutoffs=np.linspace(0,2,50),\n",
    "                    sort_column=\"RMSD\",\n",
    "                    n=1,\n",
    "                    selection_cols=[\"Compound_ID\", \"Version\"],\n",
    "                    score_column=\"RMSD\",\n",
    "                    good_score=2,\n",
    "                    split_cols=[\"Version\"])"
   ]
  },
  {
   "cell_type": "code",
   "execution_count": null,
   "id": "ba0451a9-d7ef-41f7-9d8c-5782d598c638",
   "metadata": {
    "tags": []
   },
   "outputs": [],
   "source": [
    "fig = px.scatter(true_positive, x=\"TanimotoCombo\", \n",
    "                 y=\"Percentage\", \n",
    "                 color=\"Version\",\n",
    "                 height=600, \n",
    "                 width=600,)\n",
    "fig.show()"
   ]
  },
  {
   "cell_type": "code",
   "execution_count": null,
   "id": "39d0f49b-eba0-4a41-8b45-867fe721a8bd",
   "metadata": {
    "tags": []
   },
   "outputs": [],
   "source": [
    "sorted_by_posit = calculate_perc_good(df,\n",
    "                    cutoff_column=\"TanimotoCombo\",\n",
    "                    cutoffs=np.linspace(0,2,50),\n",
    "                    sort_column=\"POSIT_R\",\n",
    "                    n=1,\n",
    "                    selection_cols=[\"Compound_ID\", \"Version\"],\n",
    "                    score_column=\"RMSD\",\n",
    "                    good_score=2,\n",
    "                    split_cols=[\"Version\"])"
   ]
  },
  {
   "cell_type": "code",
   "execution_count": null,
   "id": "3bb04802-d837-47ca-948f-e9c7b2a0f24f",
   "metadata": {
    "tags": []
   },
   "outputs": [],
   "source": [
    "fig = px.scatter(sorted_by_posit, x=\"TanimotoCombo\", \n",
    "                 y=\"Percentage\", \n",
    "                 color=\"Version\",\n",
    "                 height=600, \n",
    "                 width=600,)\n",
    "fig.show()"
   ]
  },
  {
   "cell_type": "code",
   "execution_count": null,
   "id": "8c516a7b-1f9b-4cea-bf21-7b90173e6f16",
   "metadata": {
    "tags": []
   },
   "outputs": [],
   "source": [
    "dfs = []\n",
    "for sort_col in [\"RMSD\", \"POSIT_R\", \"Chemgauss4\", \"TanimotoCombo_R\"]:\n",
    "    new_df = calculate_perc_good(df,\n",
    "                cutoff_column=\"TanimotoCombo\",\n",
    "                cutoffs=np.linspace(0,2,50),\n",
    "                sort_column=sort_col,\n",
    "                n=1,\n",
    "                selection_cols=[\"Compound_ID\", \"Version\"],\n",
    "                score_column=\"RMSD\",\n",
    "                good_score=2,\n",
    "                split_cols=[\"Version\"])\n",
    "    new_df[\"Sorted_By\"] = sort_col\n",
    "    dfs.append(new_df)\n",
    "combined = pd.concat(dfs)"
   ]
  },
  {
   "cell_type": "code",
   "execution_count": null,
   "id": "799f9ee7-1513-44c2-995d-c803daa94cf8",
   "metadata": {
    "tags": []
   },
   "outputs": [],
   "source": [
    "fig = px.scatter(combined, x=\"TanimotoCombo\", \n",
    "                 y=\"Percentage\", \n",
    "                 color=\"Version\",\n",
    "                 facet_col=\"Sorted_By\",\n",
    "                 hover_data=combined.columns,\n",
    "                 height=600, \n",
    "                 width=1200,)\n",
    "fig.show()"
   ]
  },
  {
   "cell_type": "code",
   "execution_count": null,
   "id": "e8111056-ef93-4c12-9b8d-bfa513502fbd",
   "metadata": {
    "tags": []
   },
   "outputs": [],
   "source": [
    "dfs = []\n",
    "for sort_col in [\"RMSD\", \"POSIT_R\", \"Chemgauss4\", \"TanimotoCombo_R\"]:\n",
    "    new_df = calculate_perc_good(df,\n",
    "                cutoff_column=\"TanimotoCombo\",\n",
    "                cutoffs=np.linspace(0,2,50),\n",
    "                sort_column=sort_col,\n",
    "                n=1,\n",
    "                selection_cols=[\"Compound_ID\", \"Version\", \"POSIT_Method\"],\n",
    "                score_column=\"RMSD\",\n",
    "                good_score=2,\n",
    "                split_cols=[\"Version\", \"POSIT_Method\"])\n",
    "    new_df[\"Sorted_By\"] = sort_col\n",
    "    dfs.append(new_df)\n",
    "combined = pd.concat(dfs)"
   ]
  },
  {
   "cell_type": "code",
   "execution_count": null,
   "id": "76281deb-2f2b-465e-a306-5cf1101eb299",
   "metadata": {
    "tags": []
   },
   "outputs": [],
   "source": [
    "fig = px.scatter(combined, x=\"TanimotoCombo\", \n",
    "                 y=\"Percentage\", \n",
    "                 color=\"Version\",\n",
    "                 facet_col=\"Sorted_By\",\n",
    "                 hover_data=combined.columns,\n",
    "                 height=600, \n",
    "                 width=1200,)\n",
    "fig.show()"
   ]
  },
  {
   "cell_type": "code",
   "execution_count": null,
   "id": "4eaf5ed0-3b6a-4894-a229-4c33cf3f08f7",
   "metadata": {
    "tags": []
   },
   "outputs": [],
   "source": [
    "dates = df.Structure_Date.unique()\n",
    "dates.sort()\n",
    "dfs = []\n",
    "for sort_col in [\"RMSD\", \"POSIT_R\", \"Chemgauss4\", \"TanimotoCombo_R\"]:\n",
    "    new_df = calculate_perc_good(df,\n",
    "                cutoff_column=\"Structure_Date\",\n",
    "                cutoffs=dates,\n",
    "                sort_column=sort_col,\n",
    "                n=1,\n",
    "                selection_cols=[\"Compound_ID\", \"Version\"],\n",
    "                score_column=\"RMSD\",\n",
    "                good_score=2,\n",
    "                split_cols=[\"Version\"])\n",
    "    new_df[\"Sorted_By\"] = sort_col\n",
    "    dfs.append(new_df)\n",
    "combined = pd.concat(dfs)"
   ]
  },
  {
   "cell_type": "code",
   "execution_count": null,
   "id": "10b732bd-c4f5-4ee9-89c1-8c573b570c86",
   "metadata": {
    "tags": []
   },
   "outputs": [],
   "source": [
    "fig = px.scatter(combined, x=\"Structure_Date\", \n",
    "                 y=\"Percentage\", \n",
    "                 color=\"Version\",\n",
    "                 facet_col=\"Sorted_By\",\n",
    "                 hover_data=combined.columns,\n",
    "                 height=600, \n",
    "                 width=1200,)\n",
    "fig.show()"
   ]
  },
  {
   "cell_type": "code",
   "execution_count": null,
   "id": "e7f7120d-88ca-4f3a-b01b-20628870bcbf",
   "metadata": {},
   "outputs": [],
   "source": []
  },
  {
   "cell_type": "code",
   "execution_count": null,
   "id": "f20268fd-fea2-4b61-99c2-c7918ea0f605",
   "metadata": {
    "tags": []
   },
   "outputs": [],
   "source": [
    "dates = df.Structure_Date.unique()\n",
    "dates.sort()\n",
    "dfs = []\n",
    "for sort_col in [\"RMSD\", \"POSIT_R\", \"Chemgauss4\", \"TanimotoCombo_R\"]:\n",
    "    new_df = calculate_perc_good(df,\n",
    "                cutoff_column=\"Structure_Date\",\n",
    "                cutoffs=dates,\n",
    "                sort_column=sort_col,\n",
    "                n=1,\n",
    "                selection_cols=[\"Compound_ID\", \"Version\", \"POSIT_Method\"],\n",
    "                score_column=\"RMSD\",\n",
    "                good_score=2,\n",
    "                split_cols=[\"Version\", \"POSIT_Method\"],\n",
    "                                use_per_split_mol=False)\n",
    "    new_df[\"Sorted_By\"] = sort_col\n",
    "    dfs.append(new_df)\n",
    "combined = pd.concat(dfs)"
   ]
  },
  {
   "cell_type": "code",
   "execution_count": null,
   "id": "d4c282b9-827e-4a1f-8dba-7401128504ef",
   "metadata": {
    "tags": []
   },
   "outputs": [],
   "source": [
    "fig = px.scatter(combined, x=\"Structure_Date\", \n",
    "                 y=\"Percentage\", \n",
    "                 color=\"Version\",\n",
    "                 facet_col=\"Sorted_By\",\n",
    "                 hover_data=combined.columns,\n",
    "                 height=600, \n",
    "                 width=1200,)\n",
    "fig.show()"
   ]
  },
  {
   "cell_type": "code",
   "execution_count": null,
   "id": "ba1664e4-3fd7-4bba-8bbe-6de487382396",
   "metadata": {
    "tags": []
   },
   "outputs": [],
   "source": [
    "fig = px.scatter(combined, x=\"Structure_Date\", \n",
    "                 y=\"Percentage Docked\", \n",
    "                 facet_col=\"Version\",\n",
    "                 hover_data=combined.columns,\n",
    "                 height=600, \n",
    "                 width=1200,)\n",
    "fig.update_yaxes(range=[0,1.1])\n",
    "fig.show()"
   ]
  },
  {
   "cell_type": "code",
   "execution_count": null,
   "id": "182a86f7-1e80-4b06-818f-df9923107294",
   "metadata": {
    "tags": []
   },
   "outputs": [],
   "source": [
    "for method in df.POSIT_Method.unique():\n",
    "    fig = px.density_heatmap(df[df.POSIT_Method == method],\n",
    "                     x=\"RMSD\",\n",
    "                     y=\"POSIT\",\n",
    "                             marginal_x=\"histogram\", marginal_y=\"histogram\",\n",
    "                             height=800,\n",
    "                             width=800,\n",
    "                             title=method,\n",
    "                             range_x=[0,11],\n",
    "                             range_y=[0,1.1]\n",
    "                            )\n",
    "    fig.show()\n",
    "    "
   ]
  },
  {
   "cell_type": "code",
   "execution_count": null,
   "id": "5e0d08aa-8734-46c2-910d-f7066ea9f583",
   "metadata": {},
   "outputs": [],
   "source": []
  }
 ],
 "metadata": {
  "kernelspec": {
   "display_name": "Python 3 (ipykernel)",
   "language": "python",
   "name": "python3"
  },
  "language_info": {
   "codemirror_mode": {
    "name": "ipython",
    "version": 3
   },
   "file_extension": ".py",
   "mimetype": "text/x-python",
   "name": "python",
   "nbconvert_exporter": "python",
   "pygments_lexer": "ipython3",
   "version": "3.9.16"
  }
 },
 "nbformat": 4,
 "nbformat_minor": 5
}
