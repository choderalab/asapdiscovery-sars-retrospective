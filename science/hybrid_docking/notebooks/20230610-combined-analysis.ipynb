{
 "cells": [
  {
   "cell_type": "markdown",
   "id": "296b6701-37cc-4170-b5c9-ef5a0f50fea5",
   "metadata": {
    "pycharm": {
     "is_executing": true
    }
   },
   "source": [
    "# Imports"
   ]
  },
  {
   "cell_type": "code",
   "execution_count": null,
   "id": "e707f015-2d83-4f6b-8c7f-09f6888348d6",
   "metadata": {
    "tags": []
   },
   "outputs": [],
   "source": [
    "from pathlib import Path\n",
    "from asapdiscovery.data.openeye import load_openeye_sdfs, oechem, save_openeye_sdfs\n",
    "from asapdiscovery.data.fragalysis import parse_fragalysis\n",
    "import numpy as np\n",
    "import pandas as pd, numpy as np\n",
    "import plotly.express as px\n",
    "from datetime import datetime\n",
    "from tqdm.notebook import tqdm\n",
    "from asapdiscovery.docking.analysis import DockingResults\n",
    "import asapdiscovery.data.openeye as oe\n",
    "import asapdiscovery.modeling.cheminformatics as ci\n",
    "from importlib import reload"
   ]
  },
  {
   "cell_type": "markdown",
   "id": "edae54e5-beee-44a5-bc72-db1887970b75",
   "metadata": {},
   "source": [
    "# Load Paths"
   ]
  },
  {
   "cell_type": "code",
   "execution_count": null,
   "id": "9e3a728b-d9c4-44d8-b246-58af25ac9040",
   "metadata": {
    "tags": []
   },
   "outputs": [],
   "source": [
    "import sys\n",
    "sys.path.append(str(Path(\"../../../\").resolve()))\n",
    "from software.paths import paths"
   ]
  },
  {
   "cell_type": "code",
   "execution_count": null,
   "id": "43a552ab-29fe-4ee2-8545-72874b61a38e",
   "metadata": {
    "tags": []
   },
   "outputs": [],
   "source": [
    "local_analysis = Path(\"/Users/alexpayne/Scientific_Projects/mers-drug-discovery/sars2-retrospective-analysis/\")"
   ]
  },
  {
   "cell_type": "code",
   "execution_count": null,
   "id": "a2c45395-075b-415f-802e-c306099a1fca",
   "metadata": {
    "tags": []
   },
   "outputs": [],
   "source": [
    "df = pd.read_csv(local_analysis / \"20230610-combined.csv\", index_col=0)"
   ]
  },
  {
   "cell_type": "code",
   "execution_count": null,
   "id": "e7b5b062-6421-4436-b27a-1c8e2ba5382f",
   "metadata": {
    "tags": []
   },
   "outputs": [],
   "source": [
    "np.shape(df)"
   ]
  },
  {
   "cell_type": "code",
   "execution_count": null,
   "id": "8b7733df-d577-499f-8811-b9df41a90524",
   "metadata": {
    "tags": []
   },
   "outputs": [],
   "source": [
    "df.groupby([\"Version\"]).apply(lambda x: len(x.Complex_ID.unique()))"
   ]
  },
  {
   "cell_type": "code",
   "execution_count": null,
   "id": "d9268577-b0e2-4efb-8c28-be790ebc2465",
   "metadata": {
    "tags": []
   },
   "outputs": [],
   "source": [
    "test = df[df.TanimotoCombo <= 2]"
   ]
  },
  {
   "cell_type": "code",
   "execution_count": null,
   "id": "ddf3cfe0-fe7b-473a-923d-f7503108e75b",
   "metadata": {
    "tags": []
   },
   "outputs": [],
   "source": [
    "selected = test.sort_values(\"POSIT_R\").groupby([\"Compound_ID\", \"Version\"]).head(1)"
   ]
  },
  {
   "cell_type": "code",
   "execution_count": null,
   "id": "22c30cb3-d835-4d93-9fee-174164166256",
   "metadata": {
    "tags": []
   },
   "outputs": [],
   "source": [
    "selected.groupby(\"Version\").apply(lambda x: x.RMSD.apply(lambda x: x<=2).sum()) / (len(selected) / 2)"
   ]
  },
  {
   "cell_type": "markdown",
   "id": "c823398d-7ae0-4a49-93a0-6b4cbd2b88df",
   "metadata": {},
   "source": [
    "### a problem here is that this analysis is flawed as I have thrown out missing or failed values"
   ]
  },
  {
   "cell_type": "code",
   "execution_count": null,
   "id": "fb5db8df-e76b-4b1d-a071-687df340ef02",
   "metadata": {
    "tags": []
   },
   "outputs": [],
   "source": [
    "def calculate_true_positives(df):\n",
    "    perc_good_list = []\n",
    "    for i in range(0,221):\n",
    "        try:\n",
    "            true_positive = df.sort_values(\"RMSD\").groupby([\"Compound_ID\", \"Version\"]).head(i)\n",
    "            perc_good_list.append(true_positive.groupby(\"Version\").apply(lambda x: x.RMSD.apply(lambda x: x<=2).sum()) / (len(true_positive) / 2))\n",
    "        except Exception as e:\n",
    "            print(e)\n",
    "    return perc_good_list"
   ]
  },
  {
   "cell_type": "code",
   "execution_count": null,
   "id": "77b33408-1321-4164-bc8f-c053007fac12",
   "metadata": {
    "tags": []
   },
   "outputs": [],
   "source": [
    "perc_good = calculate_true_positives(df)"
   ]
  },
  {
   "cell_type": "code",
   "execution_count": null,
   "id": "81fb9b12-92a0-4d2a-a589-6befbef2a1a6",
   "metadata": {
    "tags": []
   },
   "outputs": [],
   "source": [
    "len(perc_good)"
   ]
  },
  {
   "cell_type": "markdown",
   "id": "fcfb2296-e668-4544-b6e5-0efb684263fa",
   "metadata": {},
   "source": [
    "## so I *could* do it this way. but i'd rather not"
   ]
  },
  {
   "cell_type": "markdown",
   "id": "23ced99e-c2b9-4124-8195-3eee153a3ad7",
   "metadata": {},
   "source": [
    "# TC analysis"
   ]
  },
  {
   "cell_type": "code",
   "execution_count": null,
   "id": "f9309cef-56f6-416e-ac9f-15339879d4c4",
   "metadata": {
    "tags": []
   },
   "outputs": [],
   "source": [
    "def calculate_perc_good(df, tc_scores, cutoffs:list=[2.0]):\n",
    "    sorted_df = df.sort_values([\"POSIT\"], ascending=[False])\n",
    "    perc_good = []\n",
    "    n_selected = []\n",
    "    cutoff_list = []\n",
    "    tc_list = []\n",
    "    n_structures = []\n",
    "    n_final_reference=[]\n",
    "    for cutoff in tqdm(cutoffs):\n",
    "        for tc_score in tc_scores:\n",
    "            selected = sorted_df[sorted_df.TanimotoCombo <= tc_score]\n",
    "            top_posit_score = selected.groupby([\"Compound_ID\", \"Version\"]).head(1)\n",
    "            n_selected.append(len(top_posit_score))\n",
    "            perc_good.append(top_posit_score.RMSD.apply(lambda x: x <=cutoff).sum() / len(top_posit_score))\n",
    "            cutoff_list.append(cutoff)\n",
    "            tc_list.append(tc_score)\n",
    "            n_structures.append(len(selected.Structure_Source.unique()))\n",
    "            n_final_reference.append(len(top_posit_score.Structure_Source.unique()))\n",
    "    df = pd.DataFrame({\"TanimotoCombo\": tc_list, \"Cutoff (Å)\": cutoff_list, \"Percentage\": perc_good, \"Number of Reference Structures\": n_structures, \"Number of Structures Used in Best Pose\": n_final_reference})\n",
    "    return df"
   ]
  },
  {
   "cell_type": "code",
   "execution_count": null,
   "id": "47941ca2-1316-4670-8e60-1089c05d2dce",
   "metadata": {},
   "outputs": [],
   "source": [
    "plotdata = calculate_perc_good(df, tc_scores=np.linspace(0,2.0,50), cutoffs=[2])"
   ]
  },
  {
   "cell_type": "code",
   "execution_count": null,
   "id": "8b184e29-d784-46c4-848b-280eca3b0c57",
   "metadata": {},
   "outputs": [],
   "source": [
    "plotdata[\"Cutoff (Å)\"] = plotdata[\"Cutoff (Å)\"].astype(str)"
   ]
  },
  {
   "cell_type": "code",
   "execution_count": null,
   "id": "477bc9b9-0daf-4a38-9d76-f39952de6192",
   "metadata": {},
   "outputs": [],
   "source": [
    "fig = px.scatter(plotdata, x=\"TanimotoCombo\", \n",
    "                 y=\"Percentage\", \n",
    "                 color=\"Version\",\n",
    "                 category_orders={\"Cutoff (Å)\":[\"2.0\",\"1.5\", \"1.0\", ]},\n",
    "                 height=600, \n",
    "                 width=600,)\n",
    "fig.update_xaxes(title=\"TanimotoCombo Score of Query to Reference Molecule\", range=[0,2.1])\n",
    "fig.update_yaxes(title=\"Fraction of Posed Molecules with RMSD to Crystal Structure < Cutoff\", range=[0,1])\n",
    "fig.show()"
   ]
  },
  {
   "cell_type": "code",
   "execution_count": null,
   "id": "327baacb-664e-47af-a956-b35a04605454",
   "metadata": {},
   "outputs": [],
   "source": []
  },
  {
   "cell_type": "code",
   "execution_count": null,
   "id": "d8347424-baeb-41e3-aaa8-6e4abc65e663",
   "metadata": {},
   "outputs": [],
   "source": []
  }
 ],
 "metadata": {
  "kernelspec": {
   "display_name": "Python 3 (ipykernel)",
   "language": "python",
   "name": "python3"
  },
  "language_info": {
   "codemirror_mode": {
    "name": "ipython",
    "version": 3
   },
   "file_extension": ".py",
   "mimetype": "text/x-python",
   "name": "python",
   "nbconvert_exporter": "python",
   "pygments_lexer": "ipython3",
   "version": "3.9.16"
  }
 },
 "nbformat": 4,
 "nbformat_minor": 5
}
