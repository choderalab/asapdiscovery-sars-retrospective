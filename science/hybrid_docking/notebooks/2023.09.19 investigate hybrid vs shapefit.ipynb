{
 "cells": [
  {
   "cell_type": "markdown",
   "id": "0d01037a-570a-4112-b6ab-a24b02dacd1a",
   "metadata": {
    "pycharm": {
     "is_executing": true
    }
   },
   "source": [
    "# Imports"
   ]
  },
  {
   "cell_type": "code",
   "execution_count": null,
   "id": "0edeebc5-ab45-4bd0-95fe-ec5321605485",
   "metadata": {
    "pycharm": {
     "is_executing": true
    },
    "tags": []
   },
   "outputs": [],
   "source": [
    "import pandas as pd, numpy as np\n",
    "import plotly.express as px\n",
    "from plotly.graph_objs import Figure\n",
    "from pathlib import Path\n",
    "from importlib import reload\n",
    "import software.analysis as a\n",
    "import software.plotting as pl\n",
    "reload(a)"
   ]
  },
  {
   "cell_type": "markdown",
   "id": "3f74d453-7b80-4f1e-ab9f-7313fa6ead73",
   "metadata": {},
   "source": [
    "# Load Paths"
   ]
  },
  {
   "cell_type": "code",
   "execution_count": null,
   "id": "4082f393-d0ba-4ae8-952b-ead9443ca4db",
   "metadata": {
    "tags": []
   },
   "outputs": [],
   "source": [
    "import sys\n",
    "sys.path.append(str(Path(\"../../../\").resolve()))\n",
    "from software.paths import paths"
   ]
  },
  {
   "cell_type": "code",
   "execution_count": null,
   "id": "cbfeb449-5dc4-4829-bdae-6b2fd6b7c7b8",
   "metadata": {
    "tags": []
   },
   "outputs": [],
   "source": [
    "local_analysis = Path(\"/Users/alexpayne/Scientific_Projects/mers-drug-discovery/sars2-retrospective-analysis/\")"
   ]
  },
  {
   "cell_type": "code",
   "execution_count": null,
   "id": "e078ad98-a5a9-48d2-a729-eadcebc0d3a8",
   "metadata": {
    "tags": []
   },
   "outputs": [],
   "source": [
    "df = pd.read_csv(local_analysis / \"20230611-combined.csv\", index_col=0)"
   ]
  },
  {
   "cell_type": "markdown",
   "id": "9091e492-5ed1-4050-ad73-ef27e479f35e",
   "metadata": {},
   "source": [
    "## a bit of fixing"
   ]
  },
  {
   "cell_type": "code",
   "execution_count": null,
   "id": "cbaf765a-9a59-49e2-a1fc-2e737b2f3817",
   "metadata": {
    "tags": []
   },
   "outputs": [],
   "source": [
    "df[\"TanimotoCombo_R\"] = 2-df.TanimotoCombo"
   ]
  },
  {
   "cell_type": "markdown",
   "id": "32db96c8",
   "metadata": {},
   "source": [
    "# Overview"
   ]
  },
  {
   "cell_type": "code",
   "execution_count": null,
   "id": "da73ed99",
   "metadata": {},
   "outputs": [],
   "source": [
    "df.columns"
   ]
  },
  {
   "cell_type": "markdown",
   "id": "b6a9577b",
   "metadata": {},
   "source": [
    "## How well do we do at self-docking?"
   ]
  },
  {
   "cell_type": "code",
   "execution_count": null,
   "id": "77aedeb0",
   "metadata": {},
   "outputs": [],
   "source": [
    "self_docked = df[df.Reference_Ligand == df.Compound_ID]"
   ]
  },
  {
   "cell_type": "code",
   "execution_count": null,
   "id": "e8fd339a",
   "metadata": {},
   "outputs": [],
   "source": [
    "self_docked.groupby(\"Version\").nunique()[[\"Complex_ID\", \"Compound_ID\", \"Structure_Source\"]]"
   ]
  },
  {
   "cell_type": "code",
   "execution_count": null,
   "id": "1a17089c",
   "metadata": {},
   "outputs": [],
   "source": [
    "from functools import reduce\n",
    "\n",
    "intersection = reduce(lambda x,y: x.intersection(y), self_docked.groupby(\"Version\")[\"Compound_ID\"].apply(lambda x: set(x.unique())))\n",
    "\n",
    "self_docked_intersection = self_docked[self_docked.Compound_ID.isin(intersection)]"
   ]
  },
  {
   "cell_type": "code",
   "execution_count": null,
   "id": "3f7b6067",
   "metadata": {},
   "outputs": [],
   "source": [
    "self_docked_intersection.groupby([\"Version\", \"POSIT_Method\"]).mean()[[\"RMSD\", \"POSIT\", \"Chemgauss4\"]]"
   ]
  },
  {
   "cell_type": "code",
   "execution_count": null,
   "id": "dce93254",
   "metadata": {},
   "outputs": [],
   "source": [
    "fig = pl.plot_kde(self_docked_intersection, \"RMSD\", \"POSIT_Method\", [\"HYBRID\", \"SHAPEFIT\"])\n",
    "fig.update_layout(title=\"RMSD Distribution for Self-Docking Results\")\n",
    "fig.write_image(\"test.png\")"
   ]
  },
  {
   "cell_type": "markdown",
   "id": "b9060c00",
   "metadata": {},
   "source": [
    "### Is hybrid docking out performing shapefit for self-docked molecules?"
   ]
  },
  {
   "cell_type": "code",
   "execution_count": null,
   "id": "46a3b907",
   "metadata": {},
   "outputs": [],
   "source": [
    "# the 'min' here is only necessary to visualize the table, I'm only changing how the data is shown\n",
    "self_docked_intersection.groupby([\"Compound_ID\", \"Version\"]).min()"
   ]
  },
  {
   "cell_type": "code",
   "execution_count": null,
   "id": "27356dfd",
   "metadata": {},
   "outputs": [],
   "source": [
    "self_docked_intersection.groupby([\"Version\", \"POSIT_Method\"]).count()"
   ]
  },
  {
   "cell_type": "code",
   "execution_count": null,
   "id": "f3ce5b60",
   "metadata": {},
   "outputs": [],
   "source": [
    "self_docked_intersection.groupby([\"Version\", \"POSIT_Method\"]).mean()"
   ]
  },
  {
   "cell_type": "code",
   "execution_count": null,
   "id": "10a3438d",
   "metadata": {},
   "outputs": [],
   "source": [
    "self_docked_intersection.groupby([\"Version\", \"POSIT_Method\"]).min()"
   ]
  },
  {
   "cell_type": "code",
   "execution_count": null,
   "id": "9bf8ac03",
   "metadata": {},
   "outputs": [],
   "source": [
    "self_docked_intersection.groupby([\"Version\", \"POSIT_Method\"]).max()"
   ]
  },
  {
   "cell_type": "code",
   "execution_count": null,
   "id": "6f7fd38b",
   "metadata": {},
   "outputs": [],
   "source": [
    "df.groupby"
   ]
  }
 ],
 "metadata": {
  "kernelspec": {
   "display_name": "Python 3 (ipykernel)",
   "language": "python",
   "name": "python3"
  },
  "language_info": {
   "codemirror_mode": {
    "name": "ipython",
    "version": 3
   },
   "file_extension": ".py",
   "mimetype": "text/x-python",
   "name": "python",
   "nbconvert_exporter": "python",
   "pygments_lexer": "ipython3",
   "version": "3.9.16"
  },
  "toc": {
   "base_numbering": 1,
   "nav_menu": {},
   "number_sections": true,
   "sideBar": true,
   "skip_h1_title": false,
   "title_cell": "Table of Contents",
   "title_sidebar": "Contents",
   "toc_cell": false,
   "toc_position": {},
   "toc_section_display": true,
   "toc_window_display": false
  }
 },
 "nbformat": 4,
 "nbformat_minor": 5
}
