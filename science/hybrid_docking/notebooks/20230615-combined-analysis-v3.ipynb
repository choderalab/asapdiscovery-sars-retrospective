{
 "cells": [
  {
   "cell_type": "markdown",
   "id": "0d01037a-570a-4112-b6ab-a24b02dacd1a",
   "metadata": {
    "pycharm": {
     "is_executing": true
    }
   },
   "source": [
    "# Imports"
   ]
  },
  {
   "cell_type": "code",
   "execution_count": null,
   "id": "0edeebc5-ab45-4bd0-95fe-ec5321605485",
   "metadata": {
    "tags": []
   },
   "outputs": [],
   "source": [
    "import pandas as pd, numpy as np\n",
    "import plotly.express as px\n",
    "from plotly.graph_objs import Figure\n",
    "from pathlib import Path\n",
    "from asapdiscovery.docking.analysis import get_df_subset, calc_perc_good, calculate_perc_good\n",
    "from importlib import reload\n",
    "import asapdiscovery.docking.analysis as a"
   ]
  },
  {
   "cell_type": "markdown",
   "id": "3f74d453-7b80-4f1e-ab9f-7313fa6ead73",
   "metadata": {},
   "source": [
    "# Load Paths"
   ]
  },
  {
   "cell_type": "code",
   "execution_count": null,
   "id": "4082f393-d0ba-4ae8-952b-ead9443ca4db",
   "metadata": {
    "tags": []
   },
   "outputs": [],
   "source": [
    "import sys\n",
    "sys.path.append(str(Path(\"../../../\").resolve()))\n",
    "from software.paths import paths"
   ]
  },
  {
   "cell_type": "code",
   "execution_count": null,
   "id": "cbfeb449-5dc4-4829-bdae-6b2fd6b7c7b8",
   "metadata": {
    "tags": []
   },
   "outputs": [],
   "source": [
    "local_analysis = Path(\"/Users/alexpayne/Scientific_Projects/mers-drug-discovery/sars2-retrospective-analysis/\")"
   ]
  },
  {
   "cell_type": "code",
   "execution_count": null,
   "id": "e078ad98-a5a9-48d2-a729-eadcebc0d3a8",
   "metadata": {
    "tags": []
   },
   "outputs": [],
   "source": [
    "df = pd.read_csv(local_analysis / \"20230611-combined.csv\", index_col=0)"
   ]
  },
  {
   "cell_type": "markdown",
   "id": "9091e492-5ed1-4050-ad73-ef27e479f35e",
   "metadata": {},
   "source": [
    "## a bit of fixing"
   ]
  },
  {
   "cell_type": "code",
   "execution_count": null,
   "id": "cbaf765a-9a59-49e2-a1fc-2e737b2f3817",
   "metadata": {
    "tags": []
   },
   "outputs": [],
   "source": [
    "df[\"TanimotoCombo_R\"] = 2-df.TanimotoCombo"
   ]
  },
  {
   "cell_type": "code",
   "execution_count": null,
   "id": "cb7b07a5-b9c1-42b5-80d0-7aab8a3f3d3f",
   "metadata": {},
   "outputs": [],
   "source": []
  },
  {
   "cell_type": "markdown",
   "id": "c47331d9-ed86-4246-a00f-018fac4d8b84",
   "metadata": {},
   "source": [
    "# Functions and Variables"
   ]
  },
  {
   "cell_type": "markdown",
   "id": "ad5ba39a-2261-44ee-bbc3-f29f8ba38c52",
   "metadata": {},
   "source": [
    "# Variables"
   ]
  },
  {
   "cell_type": "code",
   "execution_count": null,
   "id": "69dab55b-d899-44fe-a427-b6f7153792b1",
   "metadata": {
    "tags": []
   },
   "outputs": [],
   "source": [
    "tc = \"TanimotoCombo\"\n",
    "tc_title = \"TanimotoCombo Cutoff for Inclusion of Reference Structures\"\n",
    "tcr = \"TanimotoCombo_R\"\n",
    "y=\"Fraction\"\n",
    "posit_r = \"POSIT_R\"\n",
    "posit_method=\"POSIT_Method\"\n",
    "color=\"Version\"\n",
    "id_col=\"Compound_ID\"\n",
    "rmsd=\"RMSD\"\n",
    "split_cols=[\"Version\"]\n",
    "full_split_cols=[\"Version\", posit_method]\n",
    "method_split=[posit_method]\n",
    "n=1\n",
    "good=2\n",
    "tc_cutoffs = np.linspace(0,2,50)\n",
    "tcr_cutoffs = np.linspace(2,0,50)\n",
    "sort_cols = [rmsd, posit_r, \"Chemgauss4\", tcr]\n",
    "sort_col_name = \"Sorted_By\"\n",
    "dates = df.Structure_Date.unique()\n",
    "date_col = \"Structure_Date\"\n",
    "date_title = \"Date for Inclusion of Reference Structures\"\n",
    "reference_col = \"Structure_Source\"\n",
    "split_column_sets={\"General\":split_cols, \"Detailed\":full_split_cols}\n",
    "general_split_cols = {\"General\":split_cols}\n",
    "detailed_split_cols = {\"Detailed\":full_split_cols}\n",
    "frac_title=f\"Fraction of Poses < {good}Å from Reference\""
   ]
  },
  {
   "cell_type": "markdown",
   "id": "369e9ee3-5946-4897-bb9c-cd00e23ddebb",
   "metadata": {},
   "source": [
    "## Calculation Functions"
   ]
  },
  {
   "cell_type": "code",
   "execution_count": null,
   "id": "626bf39d-3653-4c8c-9739-d6cfca837a47",
   "metadata": {
    "tags": []
   },
   "outputs": [],
   "source": [
    "def calculate_perc_good_wrapper(split_column_sets: dict, sort_columns, n_refs, **kwargs):\n",
    "    split_dfs = []\n",
    "    for name, split in split_column_sets.items():\n",
    "        sort_dfs = []\n",
    "        \n",
    "        for sort_column in sort_columns:\n",
    "            new_df = a.calculate_perc_good(sort_column=sort_column,\n",
    "                                           split_cols=split,\n",
    "                                           **kwargs)\n",
    "            new_df[sort_col_name] = sort_column\n",
    "            new_df[\"Fraction of References Used\"] = new_df[\"Number of References\"] / n_refs\n",
    "            sort_dfs.append(new_df)\n",
    "        split_combined = pd.concat(sort_dfs)\n",
    "        split_combined[\"Split\"] = name\n",
    "        split_dfs.append(split_combined)\n",
    "    combined = pd.concat(split_dfs)\n",
    "    return combined"
   ]
  },
  {
   "cell_type": "code",
   "execution_count": null,
   "id": "a5d97e5e-4074-41a4-8bcc-a10ee6cbdd9c",
   "metadata": {
    "tags": []
   },
   "outputs": [],
   "source": [
    "def calculate_stats(df,\n",
    "                    metric_dict,\n",
    "                     summary_col,\n",
    "                     filter_column, \n",
    "                     filter_cutoffs,\n",
    "                    value_column,\n",
    "                    extra_groupby_cols=None):\n",
    "    \n",
    "    groupby_cols = [summary_col] + extra_groupby_cols\n",
    "    dfs = []\n",
    "    for name, metric in metric_dict.items():\n",
    "        means = []\n",
    "        cutoffs = []\n",
    "        summary_types = []\n",
    "        sds = []\n",
    "        for cutoff in filter_cutoffs:\n",
    "            values = df[df[filter_column] <= cutoff].groupby(groupby_cols, group_keys=True)[value_column].apply(metric)\n",
    "            mean_list = values.groupby([summary_col]).mean()\n",
    "            sd_list = values.groupby([summary_col]).std()\n",
    "            for summary_type in mean_list.index:\n",
    "                means.append(mean_list[summary_type])\n",
    "                cutoffs.append(cutoff)\n",
    "                summary_types.append(summary_type)\n",
    "                sds.append(sd_list[summary_type])\n",
    "        mean_df = pd.DataFrame({f\"Value\":means, \"Metric\": name, filter_column:cutoffs, summary_col:summary_types, \"STD\":sds})\n",
    "        dfs.append(mean_df)\n",
    "\n",
    "    return pd.concat(dfs)"
   ]
  },
  {
   "cell_type": "code",
   "execution_count": null,
   "id": "406db0b7-cc1d-4f01-b59d-e396ba55fb24",
   "metadata": {
    "tags": []
   },
   "outputs": [],
   "source": [
    "def calculate_rmsd_stats(df, bins):\n",
    "    bounds = [(i,j) for i,j in zip(bins[:-1], bins[1:])]\n",
    "    dfs = []\n",
    "    for name, metric in {\"Min\":np.min, \"Max\":np.max, \"Mean\": np.mean}.items():\n",
    "        means = []\n",
    "        versions = []\n",
    "        avg_tc = []\n",
    "        sds = []\n",
    "        for i,j in bounds:\n",
    "            values = df[(df[tc] > i) & (df[tc]<=j)].groupby([\"Version\", \"Compound_ID\"])[\"RMSD\"].apply(metric)\n",
    "            mean = values.groupby([\"Version\"]).mean()\n",
    "            sd = values.groupby([\"Version\"]).std()\n",
    "            for version in mean.index:\n",
    "                means.append(mean[version])\n",
    "                versions.append(version)\n",
    "                avg_tc.append(str(np.mean([i,j])))\n",
    "                sds.append(sd[version])\n",
    "        dfs.append(pd.DataFrame({\"Value\": means, \"Metric\": name, \"STD\": sds, \"Version\":versions, \"TanimotoCombo\":avg_tc}))\n",
    "    "
   ]
  },
  {
   "cell_type": "markdown",
   "id": "48ea14ae-1572-4c53-8ec1-a899ccb06db5",
   "metadata": {},
   "source": [
    "## Plotting Functions"
   ]
  },
  {
   "cell_type": "markdown",
   "id": "6cdd399b-0db5-47cf-9c33-ee4b091d79f2",
   "metadata": {},
   "source": [
    "### plot kwargs"
   ]
  },
  {
   "cell_type": "code",
   "execution_count": null,
   "id": "63c51ee9-1e4e-4b8c-ae68-c6ce0a3ab0bc",
   "metadata": {
    "tags": []
   },
   "outputs": [],
   "source": [
    "df.Version.unique()"
   ]
  },
  {
   "cell_type": "code",
   "execution_count": null,
   "id": "f04f2873-ecdc-4ec8-8bc3-1d69e4ed26b6",
   "metadata": {
    "tags": []
   },
   "outputs": [],
   "source": [
    "df.POSIT_Method.unique()"
   ]
  },
  {
   "cell_type": "code",
   "execution_count": null,
   "id": "73b4948d-6a58-4049-84bd-898b9df9c890",
   "metadata": {
    "tags": []
   },
   "outputs": [],
   "source": [
    "# this doesn't actually work\n",
    "full_versions = [(\"All\", method) for method in df.POSIT_Method.unique()] + [(\"Hybrid-Only\", \"HYBRID\")]\n",
    "full_version_labels = [f\"{version}: {method}\" for version, method in full_versions]\n",
    "full_version_label_dict = {og: label for og, label in zip(full_versions, full_version_labels)}"
   ]
  },
  {
   "cell_type": "code",
   "execution_count": null,
   "id": "40040a4b-6247-424c-88be-ded8c0503962",
   "metadata": {
    "tags": []
   },
   "outputs": [],
   "source": [
    "basic_plot_kwargs = dict(color=color, \n",
    "                         )"
   ]
  },
  {
   "cell_type": "code",
   "execution_count": null,
   "id": "3e999302-391b-43f2-9c5c-4da7f7513691",
   "metadata": {
    "tags": []
   },
   "outputs": [],
   "source": [
    "big_plot_kwargs = dict(facet_col=sort_col_name,\n",
    "                         facet_row=\"Split\", \n",
    "                         height=600, \n",
    "                         width=1200, )"
   ]
  },
  {
   "cell_type": "code",
   "execution_count": null,
   "id": "2fc27ad6-fedd-4800-a002-43dcabb08502",
   "metadata": {
    "tags": []
   },
   "outputs": [],
   "source": [
    "single_plot_kwargs = dict(height=400, width=600)"
   ]
  },
  {
   "cell_type": "code",
   "execution_count": null,
   "id": "26c83092-01f9-41cd-8a38-703061cfa027",
   "metadata": {
    "tags": []
   },
   "outputs": [],
   "source": [
    "tc_plot_kwargs = dict(x=tc,  \n",
    "                      labels={tc: tc_title},\n",
    "                     range_x=[-0.1,2.1],)"
   ]
  },
  {
   "cell_type": "code",
   "execution_count": null,
   "id": "064c782e-ec9d-4450-82aa-20ccc9f57098",
   "metadata": {
    "tags": []
   },
   "outputs": [],
   "source": [
    "date_plot_kwargs = dict(x=date_col,\n",
    "                        labels={date_col:date_title},\n",
    "                       )"
   ]
  },
  {
   "cell_type": "code",
   "execution_count": null,
   "id": "df8854ca-3d29-4b22-84ca-761c278cb33e",
   "metadata": {
    "tags": []
   },
   "outputs": [],
   "source": [
    "fraction_plot_kwargs = dict(range_y=[-0.1,1.1])"
   ]
  },
  {
   "cell_type": "code",
   "execution_count": null,
   "id": "85f1c384-a7d7-4c8d-aaee-e41714f9f2ee",
   "metadata": {
    "tags": []
   },
   "outputs": [],
   "source": [
    "stats_kwargs = dict(y=\"Value\", error_y=\"STD\")"
   ]
  },
  {
   "cell_type": "code",
   "execution_count": null,
   "id": "6574730d-db7e-476a-8414-4b96dc3b1c8b",
   "metadata": {
    "tags": []
   },
   "outputs": [],
   "source": [
    "def combine_labels_kwargs(list_of_kwargs):\n",
    "    new_dict = {}\n",
    "    for kwargs in list_of_kwargs:\n",
    "        for k,v in kwargs.items():\n",
    "            if k in new_dict.keys():\n",
    "                if isinstance(v, dict):\n",
    "                    for ik, iv in v.items():\n",
    "                        new_dict[k][ik] = iv\n",
    "                else:\n",
    "                    raise NotImplementedError(f\"combining these kwargs will not work due to repeated use of {k}\")\n",
    "            else:\n",
    "                new_dict[k] = v\n",
    "    return new_dict\n",
    "    "
   ]
  },
  {
   "cell_type": "code",
   "execution_count": null,
   "id": "e89cbbcc-1e7a-4855-a4b4-ecc1b89769de",
   "metadata": {
    "tags": []
   },
   "outputs": [],
   "source": [
    "combine_labels_kwargs([big_plot_kwargs, tc_plot_kwargs])"
   ]
  },
  {
   "cell_type": "code",
   "execution_count": null,
   "id": "e404c2c4-5b31-4c3d-8a46-1cce740a6e2f",
   "metadata": {
    "tags": []
   },
   "outputs": [],
   "source": [
    "general_posit_kwargs = {sort_col_name: posit_r, \"Split\":\"General\"}"
   ]
  },
  {
   "cell_type": "markdown",
   "id": "d1f25dcb-1d66-4f17-8443-fa7d01cf79dd",
   "metadata": {},
   "source": [
    "### cleanup functions"
   ]
  },
  {
   "cell_type": "code",
   "execution_count": null,
   "id": "a8256644-b2bc-4893-8f6a-e2095cf6aaf0",
   "metadata": {
    "tags": []
   },
   "outputs": [],
   "source": [
    "def replace_xaxis_labels(fig: Figure, axis_title):\n",
    "    fig.for_each_xaxis(lambda x: x.update(title = ''))\n",
    "    fig.add_annotation(x=0.5,y=-0.15,\n",
    "                   text=axis_title, textangle=0,\n",
    "                       font=dict(size=16),\n",
    "                    xref=\"paper\", yref=\"paper\",\n",
    "            showarrow=False,)\n",
    "    return fig"
   ]
  },
  {
   "cell_type": "code",
   "execution_count": null,
   "id": "18575ad4-d9cc-4610-a02a-7e28d7d8ad2a",
   "metadata": {
    "tags": []
   },
   "outputs": [],
   "source": [
    "def replace_yaxis_labels(fig: Figure, axis_title):\n",
    "    fig.for_each_yaxis(lambda y: y.update(title = ''))\n",
    "    fig.add_annotation(x=-0.05,y=0.5,\n",
    "                   text=axis_title, textangle=-90,\n",
    "                       font=dict(size=16),\n",
    "                    xref=\"paper\", yref=\"paper\",\n",
    "            showarrow=False,)\n",
    "    return fig"
   ]
  },
  {
   "cell_type": "code",
   "execution_count": null,
   "id": "25f1cf60-b2db-4a64-98f7-941268376f09",
   "metadata": {
    "tags": []
   },
   "outputs": [],
   "source": [
    "def clean_labels(fig):\n",
    "    fig.for_each_annotation(lambda a: a.update(text=a.text.split(\"=\")[-1]))\n",
    "    return fig"
   ]
  },
  {
   "cell_type": "markdown",
   "id": "14d2f3b0-db63-4777-b6cb-1687798ef58b",
   "metadata": {},
   "source": [
    "### scatterplot wrapper"
   ]
  },
  {
   "cell_type": "code",
   "execution_count": null,
   "id": "a185db13-ecc8-4544-94bc-522ebcf5a40c",
   "metadata": {
    "tags": []
   },
   "outputs": [],
   "source": [
    "def scatter_wrapper(df, kwarg_dict, \n",
    "                    x_axis_title=None, \n",
    "                    y_axis_title=None, \n",
    "                    replace_xaxis=False,\n",
    "                    replace_y_axis=False,\n",
    "                    clean=True,\n",
    "                    x_axis_reversed=False\n",
    "                   ):\n",
    "    fig:Figure = px.scatter(df, **kwarg_dict, hover_data=df.columns)\n",
    "    if x_axis_title:\n",
    "        if replace_xaxis:\n",
    "            fig = replace_xaxis_labels(fig, x_axis_title)\n",
    "        else:\n",
    "            fig.update_xaxes(title=x_axis_title)\n",
    "    \n",
    "    if y_axis_title:\n",
    "        if replace_y_axis:\n",
    "            fig = replace_yaxis_labels(fig, y_axis_title)\n",
    "        else:\n",
    "            fig.update_yaxes(title=y_axis_title)\n",
    "    \n",
    "    if clean:\n",
    "        fig = clean_labels(fig)\n",
    "    if x_axis_reversed:\n",
    "        fig.update_xaxes(autorange=\"reversed\")\n",
    "    return fig"
   ]
  },
  {
   "cell_type": "markdown",
   "id": "d0e457d0-7f2e-4a24-a7a0-7bdfe0f88f4b",
   "metadata": {},
   "source": [
    "### splify df"
   ]
  },
  {
   "cell_type": "code",
   "execution_count": null,
   "id": "2b567978-8ca9-48ac-b38d-8b8ca4fdc2e2",
   "metadata": {
    "tags": []
   },
   "outputs": [],
   "source": [
    "def simplify_df(df, condition_dict):\n",
    "    new_df = df.copy()\n",
    "    for column, value in condition_dict.items():\n",
    "        new_df = new_df[new_df[column] == value]\n",
    "    return new_df"
   ]
  },
  {
   "cell_type": "markdown",
   "id": "5b4030f7-4a85-42a6-bc66-0aeacbc3075d",
   "metadata": {},
   "source": [
    "# Overall Analysis"
   ]
  },
  {
   "cell_type": "code",
   "execution_count": null,
   "id": "81e50d71-412b-4c2a-bb7c-397ce8fa9015",
   "metadata": {
    "tags": []
   },
   "outputs": [],
   "source": [
    "df.groupby(\"Version\").nunique()[[\"Complex_ID\", \"Compound_ID\", \"Structure_Source\"]]"
   ]
  },
  {
   "cell_type": "markdown",
   "id": "2bc8acd4-f170-4c8d-bc87-a64af1979c38",
   "metadata": {},
   "source": [
    "# By TanimotoCombo"
   ]
  },
  {
   "cell_type": "markdown",
   "id": "139d37e8-0503-44ab-a882-1e30b44c350f",
   "metadata": {},
   "source": [
    "## calculate cumulative from 0 to 2 TC"
   ]
  },
  {
   "cell_type": "code",
   "execution_count": null,
   "id": "a5bd7ea7-cbeb-40ff-88df-d3bdd92c56e2",
   "metadata": {
    "tags": []
   },
   "outputs": [],
   "source": [
    "tc_kwargs = dict(df=df,\n",
    "              id_column=id_col,\n",
    "              filter_column=tc,\n",
    "              filter_cutoffs=tc_cutoffs,\n",
    "                 n=n,\n",
    "                 good_score=good,\n",
    "                 score_column=rmsd,\n",
    "                 reference_col= reference_col)\n",
    "              "
   ]
  },
  {
   "cell_type": "code",
   "execution_count": null,
   "id": "20289269-66bc-4ab1-8506-39422673bdfe",
   "metadata": {
    "tags": []
   },
   "outputs": [],
   "source": [
    "df1 = calculate_perc_good_wrapper(split_column_sets=split_column_sets,\n",
    "                                 sort_columns=sort_cols,\n",
    "                                  n_refs=219,\n",
    "                                  **tc_kwargs\n",
    "                                 )"
   ]
  },
  {
   "cell_type": "markdown",
   "id": "b03b3640-817b-470c-b35d-1e1a090056c8",
   "metadata": {},
   "source": [
    "### Full Plot"
   ]
  },
  {
   "cell_type": "code",
   "execution_count": null,
   "id": "eb093d16-b84c-49ee-8a93-41c680978066",
   "metadata": {
    "tags": []
   },
   "outputs": [],
   "source": [
    "fig = scatter_wrapper(df1, \n",
    "                      dict(y=y,**fraction_plot_kwargs,**tc_plot_kwargs, **basic_plot_kwargs, **big_plot_kwargs),\n",
    "                     y_axis_title=frac_title,\n",
    "                      replace_xaxis=True,\n",
    "                      replace_y_axis=True,\n",
    "                     x_axis_title=tc_title)\n",
    "fig.show()\n",
    "fig.write_image(\"20230615_tc_full_frac.png\")"
   ]
  },
  {
   "cell_type": "markdown",
   "id": "00129783-25c5-4231-95f0-21d7208a7228",
   "metadata": {},
   "source": [
    "### Simple Plot"
   ]
  },
  {
   "cell_type": "code",
   "execution_count": null,
   "id": "9731b0a9-ec48-422a-b0f1-5c74dee4bc07",
   "metadata": {
    "tags": []
   },
   "outputs": [],
   "source": [
    "fig = scatter_wrapper(simplify_df(df1, general_posit_kwargs), \n",
    "                      dict(y=y,\n",
    "                           **fraction_plot_kwargs,\n",
    "                           **tc_plot_kwargs, \n",
    "                           **basic_plot_kwargs, \n",
    "                           **single_plot_kwargs),\n",
    "                     y_axis_title=frac_title,\n",
    "                     x_axis_title=tc_title)\n",
    "fig.update_layout(title=\"Sorted by POSIT Score\")\n",
    "fig.show()\n",
    "fig.write_image(\"20230615_tc_posit_frac.png\")"
   ]
  },
  {
   "cell_type": "markdown",
   "id": "de2a781d-efd0-4a1a-bf20-e6f52aaf3049",
   "metadata": {},
   "source": [
    "### Calculate N Refs "
   ]
  },
  {
   "cell_type": "code",
   "execution_count": null,
   "id": "8239f6b2-701f-43f9-b68a-e5b88a411efc",
   "metadata": {
    "tags": []
   },
   "outputs": [],
   "source": [
    "nrefdf1 = calculate_stats(df, \n",
    "                metric_dict={\"Number of References\": np.count_nonzero},\n",
    "                summary_col=\"Version\", \n",
    "                 filter_column=tc, \n",
    "                 filter_cutoffs=tc_cutoffs,\n",
    "                          value_column=reference_col,\n",
    "                          extra_groupby_cols=[id_col])"
   ]
  },
  {
   "cell_type": "code",
   "execution_count": null,
   "id": "a3681437-c813-414d-80e7-86e4b6fd4c85",
   "metadata": {
    "tags": []
   },
   "outputs": [],
   "source": [
    "nref_column=\"Mean Number of References\"\n",
    "fig = scatter_wrapper(nrefdf1, \n",
    "                      dict(**stats_kwargs,\n",
    "                          **tc_plot_kwargs, \n",
    "                           **basic_plot_kwargs, \n",
    "                           **single_plot_kwargs),\n",
    "                     y_axis_title=nref_column,\n",
    "                     x_axis_title=tc_title)\n",
    "fig.show()\n",
    "fig.write_image(\"20230615_tc_nref.png\")"
   ]
  },
  {
   "cell_type": "code",
   "execution_count": null,
   "id": "c7858571-d58f-4e23-90da-b2f67eacf873",
   "metadata": {},
   "outputs": [],
   "source": []
  },
  {
   "cell_type": "markdown",
   "id": "0c0f6c5b-7add-4b03-8025-bfe751e67b86",
   "metadata": {
    "tags": []
   },
   "source": [
    "## calculate cumulative from 2 to 0 TC"
   ]
  },
  {
   "cell_type": "code",
   "execution_count": null,
   "id": "6a2022a8-2b36-43bc-9ee2-1b4850eaecb9",
   "metadata": {
    "tags": []
   },
   "outputs": [],
   "source": [
    "tcr_kwargs = dict(df=df,\n",
    "              id_column=id_col,\n",
    "              filter_column=tcr,\n",
    "              filter_cutoffs=tc_cutoffs,\n",
    "                 n=n,\n",
    "                 good_score=good,\n",
    "                 score_column=rmsd,\n",
    "                 reference_col= reference_col)\n",
    "              "
   ]
  },
  {
   "cell_type": "code",
   "execution_count": null,
   "id": "f25ab37f-5da8-4b68-922d-130a71a72fe6",
   "metadata": {
    "tags": []
   },
   "outputs": [],
   "source": [
    "df2 = calculate_perc_good_wrapper(split_column_sets=split_column_sets,\n",
    "                                 sort_columns=sort_cols,\n",
    "                                  n_refs=219,\n",
    "                                  **tcr_kwargs\n",
    "                                 )"
   ]
  },
  {
   "cell_type": "code",
   "execution_count": null,
   "id": "b7702647-2edf-4a0a-bf6b-aaa9498cfeea",
   "metadata": {
    "tags": []
   },
   "outputs": [],
   "source": [
    "df2[\"TanimotoCombo\"] = 2-df2[\"TanimotoCombo_R\"]"
   ]
  },
  {
   "cell_type": "markdown",
   "id": "20b18d35-2e88-4eeb-9c99-5e4526106478",
   "metadata": {},
   "source": [
    "### Full Plot"
   ]
  },
  {
   "cell_type": "code",
   "execution_count": null,
   "id": "db34a332-e806-48de-b115-4b751f9729f7",
   "metadata": {
    "tags": []
   },
   "outputs": [],
   "source": [
    "fig = scatter_wrapper(df2, \n",
    "                      combine_labels_kwargs([dict(y=y),fraction_plot_kwargs,tc_plot_kwargs, basic_plot_kwargs, big_plot_kwargs]),\n",
    "                     y_axis_title=frac_title,\n",
    "                      replace_xaxis=True,\n",
    "                      replace_y_axis=True,\n",
    "                     x_axis_title=tc_title,\n",
    "                     x_axis_reversed=True)\n",
    "fig.show()\n",
    "fig.write_image(\"20230615_tcr_full_frac.png\")"
   ]
  },
  {
   "cell_type": "markdown",
   "id": "986448c2-c565-499f-b43b-c79f42eebd7d",
   "metadata": {},
   "source": [
    "### Simple Plot"
   ]
  },
  {
   "cell_type": "code",
   "execution_count": null,
   "id": "18fc52e3-5da7-449a-9cf5-e352b2d6f778",
   "metadata": {
    "tags": []
   },
   "outputs": [],
   "source": [
    "fig = scatter_wrapper(simplify_df(df2, general_posit_kwargs), \n",
    "                      dict(y=y,\n",
    "                           **fraction_plot_kwargs,\n",
    "                           **tc_plot_kwargs, \n",
    "                           **basic_plot_kwargs, \n",
    "                           **single_plot_kwargs),\n",
    "                     y_axis_title=frac_title,\n",
    "                     x_axis_title=tc_title,\n",
    "                     x_axis_reversed=True)\n",
    "fig.show()\n",
    "fig.write_image(\"20230615_tcr_posit_frac.png\")"
   ]
  },
  {
   "cell_type": "markdown",
   "id": "4b3745f5-53da-425c-bb92-8489df752e49",
   "metadata": {},
   "source": [
    "### Calculate N Refs "
   ]
  },
  {
   "cell_type": "code",
   "execution_count": null,
   "id": "b567ca88-5bc3-4b9e-9def-8e50dd896f79",
   "metadata": {
    "tags": []
   },
   "outputs": [],
   "source": [
    "nrefdf2 = calculate_stats(df, \n",
    "                metric_dict={\"Number of References\": np.count_nonzero},\n",
    "                summary_col=\"Version\", \n",
    "                 filter_column=tcr, \n",
    "                 filter_cutoffs=tc_cutoffs,\n",
    "                          value_column=reference_col,\n",
    "                          extra_groupby_cols=[id_col])\n",
    "nrefdf2[\"TanimotoCombo\"] = 2-nrefdf2[\"TanimotoCombo_R\"]"
   ]
  },
  {
   "cell_type": "code",
   "execution_count": null,
   "id": "a92ea1b1-7cab-464e-802d-016585a6712f",
   "metadata": {
    "tags": []
   },
   "outputs": [],
   "source": [
    "nref_column=\"Mean Number of References\"\n",
    "fig = scatter_wrapper(nrefdf2, \n",
    "                      dict(**stats_kwargs,\n",
    "                          **tc_plot_kwargs, \n",
    "                           **basic_plot_kwargs, \n",
    "                           **single_plot_kwargs),\n",
    "                     y_axis_title=nref_column,\n",
    "                     x_axis_title=tc_title,\n",
    "                     x_axis_reversed=True)\n",
    "fig.show()\n",
    "fig.write_image(\"20230615_tcr_nref.png\")"
   ]
  },
  {
   "cell_type": "markdown",
   "id": "1e1b2939-28ba-47b2-9924-bb93aa64a6be",
   "metadata": {},
   "source": [
    "# By Structure Date"
   ]
  },
  {
   "cell_type": "code",
   "execution_count": null,
   "id": "f21118d0-335c-485b-a84f-871f2bf5036c",
   "metadata": {
    "tags": []
   },
   "outputs": [],
   "source": [
    "date_kwargs = dict(df=df,\n",
    "              id_column=id_col,\n",
    "              filter_column=date_col,\n",
    "              filter_cutoffs=dates,\n",
    "                 n=n,\n",
    "                 good_score=good,\n",
    "                 score_column=rmsd,\n",
    "                 reference_col= reference_col)\n",
    "              "
   ]
  },
  {
   "cell_type": "code",
   "execution_count": null,
   "id": "c4699ce6-f566-48fe-9fc8-1ac836a4d6ad",
   "metadata": {
    "tags": []
   },
   "outputs": [],
   "source": [
    "sdf1 = calculate_perc_good_wrapper(split_column_sets=split_column_sets,\n",
    "                                 sort_columns=sort_cols,\n",
    "                                  n_refs=219,\n",
    "                                  **date_kwargs\n",
    "                                 )"
   ]
  },
  {
   "cell_type": "markdown",
   "id": "fd284ee1-f802-4fa0-9722-015409351a6a",
   "metadata": {},
   "source": [
    "### Full Plot"
   ]
  },
  {
   "cell_type": "code",
   "execution_count": null,
   "id": "8061a684-35f0-41fd-83ed-b1007939f5fc",
   "metadata": {
    "tags": []
   },
   "outputs": [],
   "source": [
    "fig = scatter_wrapper(sdf1, \n",
    "                      dict(y=y,**fraction_plot_kwargs,**date_plot_kwargs, **basic_plot_kwargs, **big_plot_kwargs),\n",
    "                     y_axis_title=frac_title,\n",
    "                      replace_xaxis=True,\n",
    "                      replace_y_axis=True,\n",
    "                     x_axis_title=date_title)\n",
    "fig.show()\n",
    "fig.write_image(\"20230615_dates_full_frac.png\")"
   ]
  },
  {
   "cell_type": "markdown",
   "id": "2d35e96f-9f3c-474f-b948-63da70874aff",
   "metadata": {},
   "source": [
    "### Simple Plot"
   ]
  },
  {
   "cell_type": "code",
   "execution_count": null,
   "id": "62e8cbab-043c-483a-8107-daa5b33490ed",
   "metadata": {
    "tags": []
   },
   "outputs": [],
   "source": [
    "fig = scatter_wrapper(simplify_df(sdf1, general_posit_kwargs), \n",
    "                      dict(y=y,\n",
    "                           **fraction_plot_kwargs,\n",
    "                           **date_plot_kwargs, \n",
    "                           **basic_plot_kwargs, \n",
    "                           **single_plot_kwargs),\n",
    "                     y_axis_title=frac_title,\n",
    "                     x_axis_title=date_title)\n",
    "fig.show()\n",
    "fig.write_image(\"20230615_dates_posit_frac.png\")"
   ]
  },
  {
   "cell_type": "markdown",
   "id": "4d1c865c-d677-4f12-81a1-e5b2be86e984",
   "metadata": {},
   "source": [
    "### Calculate N Refs "
   ]
  },
  {
   "cell_type": "code",
   "execution_count": null,
   "id": "53954703-1fb0-4b9a-aa80-0bf294d69ad1",
   "metadata": {
    "tags": []
   },
   "outputs": [],
   "source": [
    "nrefsdf = calculate_stats(df, \n",
    "                metric_dict={\"Number of References\": np.count_nonzero},\n",
    "                summary_col=\"Version\", \n",
    "                 filter_column=date_col, \n",
    "                 filter_cutoffs=dates,\n",
    "                          value_column=reference_col,\n",
    "                          extra_groupby_cols=[id_col])"
   ]
  },
  {
   "cell_type": "code",
   "execution_count": null,
   "id": "28183b41-100f-4c2e-baf0-30219a80e437",
   "metadata": {
    "tags": []
   },
   "outputs": [],
   "source": [
    "fig = scatter_wrapper(nrefsdf, \n",
    "                      dict(y=\"Value\",\n",
    "                          **date_plot_kwargs, \n",
    "                           **basic_plot_kwargs, \n",
    "                           **single_plot_kwargs),\n",
    "                     y_axis_title=\"Mean Number of References\",\n",
    "                     x_axis_title=date_title)\n",
    "fig.show()\n",
    "fig.write_image(\"20230615_dates_nref.png\")"
   ]
  },
  {
   "cell_type": "markdown",
   "id": "5752c05b-d092-4d73-a89e-a7db7ae3f7a7",
   "metadata": {},
   "source": [
    "# How is RMSD changing"
   ]
  },
  {
   "cell_type": "code",
   "execution_count": null,
   "id": "c1eeccf7-d32f-4326-8c40-f2124158a382",
   "metadata": {
    "tags": []
   },
   "outputs": [],
   "source": [
    "y_axis_title = \"RMSD (Å)\"\n",
    "rmsd_kwargs = dict(y=\"Value\",\n",
    "                           facet_col=\"Version\",\n",
    "                           color=\"Metric\",\n",
    "                          error_y=\"STD\",\n",
    "                          width=1000, height=400,)"
   ]
  },
  {
   "cell_type": "markdown",
   "id": "956d34ad-9f86-4c40-9a41-6022ee00cb68",
   "metadata": {},
   "source": [
    "## by tc"
   ]
  },
  {
   "cell_type": "code",
   "execution_count": null,
   "id": "a44cedf7-c18d-4e9a-b450-de7204994763",
   "metadata": {
    "tags": []
   },
   "outputs": [],
   "source": [
    "rmsddf = calculate_stats(df=df,\n",
    "                         metric_dict={\"Mininum RMSD\":np.min, \"Maximum RMSD\":np.max, \"Mean RMSD\": np.mean},\n",
    "                         summary_col=\"Version\", \n",
    "                 filter_column=tc, \n",
    "                 filter_cutoffs=tc_cutoffs,\n",
    "                          value_column=rmsd,\n",
    "                          extra_groupby_cols=[id_col])\n",
    "                         "
   ]
  },
  {
   "cell_type": "code",
   "execution_count": null,
   "id": "c928c4f7-805b-4d05-928a-ba842099cef9",
   "metadata": {
    "tags": []
   },
   "outputs": [],
   "source": [
    "fig = scatter_wrapper(rmsddf, \n",
    "                      dict(x=tc, **rmsd_kwargs),\n",
    "                      replace_y_axis=True,\n",
    "                      replace_xaxis=True,\n",
    "                     y_axis_title=y_axis_title,\n",
    "                     x_axis_title=tc_title)\n",
    "fig.show()\n",
    "fig.write_image(\"20230615_rmsd_tc.png\")"
   ]
  },
  {
   "cell_type": "markdown",
   "id": "c3726e74-bba9-45c1-8405-f2ebc1dfe376",
   "metadata": {},
   "source": [
    "## by tcr"
   ]
  },
  {
   "cell_type": "code",
   "execution_count": null,
   "id": "e1f41c46-e6fa-472f-9754-97c42c09b46b",
   "metadata": {
    "tags": []
   },
   "outputs": [],
   "source": [
    "rmsddf = calculate_stats(df=df,\n",
    "                         metric_dict={\"Mininum RMSD\":np.min, \"Maximum RMSD\":np.max, \"Mean RMSD\": np.mean},\n",
    "                         summary_col=\"Version\", \n",
    "                 filter_column=tcr, \n",
    "                 filter_cutoffs=tc_cutoffs,\n",
    "                          value_column=rmsd,\n",
    "                          extra_groupby_cols=[id_col])\n",
    "rmsddf[\"TanimotoCombo\"] = 2-rmsddf[\"TanimotoCombo_R\"]"
   ]
  },
  {
   "cell_type": "code",
   "execution_count": null,
   "id": "0bbbcbf7-9bc3-4b4c-b070-e82d7c543135",
   "metadata": {
    "tags": []
   },
   "outputs": [],
   "source": [
    "fig = scatter_wrapper(rmsddf, \n",
    "                      dict(x=tc, **rmsd_kwargs),\n",
    "                      replace_y_axis=True,\n",
    "                      replace_xaxis=True,\n",
    "                     y_axis_title=y_axis_title,\n",
    "                     x_axis_title=tc_title,\n",
    "                     x_axis_reversed=True)\n",
    "fig.show()\n",
    "fig.write_image(\"20230615_rmsd_tcr.png\")"
   ]
  },
  {
   "cell_type": "markdown",
   "id": "2634225f-fc95-4c23-bbe6-4593c3bbc7f8",
   "metadata": {},
   "source": [
    "## by date"
   ]
  },
  {
   "cell_type": "code",
   "execution_count": null,
   "id": "8af31f0f-e5c4-46ad-8aab-f865ffd6c10d",
   "metadata": {
    "tags": []
   },
   "outputs": [],
   "source": [
    "rmsddf = calculate_stats(df=df,\n",
    "                         metric_dict={\"Mininum RMSD\":np.min, \"Maximum RMSD\":np.max, \"Mean RMSD\": np.mean},\n",
    "                         summary_col=\"Version\", \n",
    "                 filter_column=date_col, \n",
    "                 filter_cutoffs=dates,\n",
    "                          value_column=rmsd,\n",
    "                          extra_groupby_cols=[id_col])"
   ]
  },
  {
   "cell_type": "code",
   "execution_count": null,
   "id": "eb2c1da5-1665-420b-b6db-3b4123ddd04b",
   "metadata": {
    "tags": []
   },
   "outputs": [],
   "source": [
    "nref_column=\"RMSD\"\n",
    "fig = scatter_wrapper(rmsddf, \n",
    "                      dict(x=date_col, **rmsd_kwargs),\n",
    "                      replace_xaxis=True,\n",
    "                      replace_y_axis=True,\n",
    "                     y_axis_title=y_axis_title,\n",
    "                     x_axis_title=date_title,)\n",
    "fig.show()\n",
    "fig.write_image(\"20230615_rmsd_dates.png\")"
   ]
  },
  {
   "cell_type": "code",
   "execution_count": null,
   "id": "7536301d-fc63-4b1a-a0b3-dedddb118c96",
   "metadata": {},
   "outputs": [],
   "source": []
  },
  {
   "cell_type": "markdown",
   "id": "0f99f86a-7132-4d81-8e22-176b946102da",
   "metadata": {},
   "source": [
    "## How do the different methods compare with the POSIT vs RMSD score?"
   ]
  },
  {
   "cell_type": "code",
   "execution_count": null,
   "id": "cdedd017-8029-4649-b731-189b7f87d3c6",
   "metadata": {
    "tags": []
   },
   "outputs": [],
   "source": [
    "df_ = df[df.Version == \"All\"]\n",
    "for method in df.POSIT_Method.unique():\n",
    "    fig = px.density_heatmap(df_[df_.POSIT_Method == method],\n",
    "                     x=\"RMSD\",\n",
    "                     y=\"POSIT\",\n",
    "                             marginal_x=\"histogram\", marginal_y=\"histogram\",\n",
    "                             height=800,\n",
    "                             width=800,\n",
    "                             title=method,\n",
    "                             range_x=[0,11],\n",
    "                             range_y=[0,1.1]\n",
    "                            )\n",
    "    fig.show()\n",
    "    "
   ]
  },
  {
   "cell_type": "markdown",
   "id": "6284a761-716b-40e6-8f11-fac45b98ea47",
   "metadata": {},
   "source": [
    "## how about TC vs RMSD?"
   ]
  },
  {
   "cell_type": "code",
   "execution_count": null,
   "id": "aa1ebfe8-88ea-45d4-afe2-7e5856aef489",
   "metadata": {
    "tags": []
   },
   "outputs": [],
   "source": [
    "df_ = df[df.Version == \"All\"]\n",
    "for method in df.POSIT_Method.unique():\n",
    "    fig = px.density_heatmap(df_[df_.POSIT_Method == method],\n",
    "                     x=\"RMSD\",\n",
    "                     y=tc,\n",
    "                             marginal_x=\"histogram\", marginal_y=\"histogram\",\n",
    "                             height=800,\n",
    "                             width=800,\n",
    "                             title=method,\n",
    "                             range_x=[0,11],\n",
    "                             range_y=[0,2.1]\n",
    "                            )\n",
    "    fig.show()\n",
    "    "
   ]
  },
  {
   "cell_type": "code",
   "execution_count": null,
   "id": "b961b822-fcad-4d00-aeb3-1aebf1a04c8f",
   "metadata": {},
   "outputs": [],
   "source": []
  },
  {
   "cell_type": "code",
   "execution_count": null,
   "id": "b34d8d41-9f44-4708-a7f9-967eb01cf0d8",
   "metadata": {
    "tags": []
   },
   "outputs": [],
   "source": [
    "for version in df.Version.unique():\n",
    "    fig = px.density_heatmap(df[df.Version == version],\n",
    "                     x=\"RMSD\",\n",
    "                     y=tc,\n",
    "                             marginal_x=\"histogram\", marginal_y=\"histogram\",\n",
    "                             height=800,\n",
    "                             width=800,\n",
    "                             title=version,\n",
    "                             range_x=[0,11],\n",
    "                             range_y=[0,2.1]\n",
    "                            )\n",
    "    fig.show()\n",
    "    "
   ]
  },
  {
   "cell_type": "code",
   "execution_count": null,
   "id": "ae137590-0fac-4a07-b9e2-19e3ad6d142c",
   "metadata": {
    "tags": []
   },
   "outputs": [],
   "source": [
    "for version in df.Version.unique():\n",
    "    fig = px.density_contour(df[df.Version == version],\n",
    "                     x=\"RMSD\",\n",
    "                     y=tc,\n",
    "                             marginal_x=\"histogram\", marginal_y=\"histogram\",\n",
    "                             height=800,\n",
    "                             width=800,\n",
    "                             title=version,\n",
    "                             range_x=[0,11],\n",
    "                             range_y=[0,2.1]\n",
    "                            )\n",
    "    fig.show()\n",
    "    "
   ]
  },
  {
   "cell_type": "markdown",
   "id": "8b66380f-5e31-4468-bb6e-bf93eb0d0780",
   "metadata": {},
   "source": [
    "# How do RMSDs for self-docking look?"
   ]
  },
  {
   "cell_type": "code",
   "execution_count": null,
   "id": "b5d2efee-5c5e-4068-9e5e-fdc772e6415c",
   "metadata": {
    "tags": []
   },
   "outputs": [],
   "source": [
    "self_docked = df[(df.Reference_Ligand == df.Compound_ID)]"
   ]
  },
  {
   "cell_type": "code",
   "execution_count": null,
   "id": "293f40a6-88ae-417e-bdc6-c5b2416d12d1",
   "metadata": {
    "tags": []
   },
   "outputs": [],
   "source": [
    "self_docked.TanimotoCombo.unique()"
   ]
  },
  {
   "cell_type": "code",
   "execution_count": null,
   "id": "e622e457-8c41-41f6-92a6-e48a784169e0",
   "metadata": {
    "tags": []
   },
   "outputs": [],
   "source": [
    "self_docked.groupby(\"Version\").nunique()[[\"Compound_ID\"]]"
   ]
  },
  {
   "cell_type": "code",
   "execution_count": null,
   "id": "b9b9cb7b-2b16-4a0a-9d00-3de41db3f5e9",
   "metadata": {
    "tags": []
   },
   "outputs": [],
   "source": [
    "from functools import reduce"
   ]
  },
  {
   "cell_type": "code",
   "execution_count": null,
   "id": "e4b2d418-d6b1-480d-924d-349b9b8c69cf",
   "metadata": {
    "tags": []
   },
   "outputs": [],
   "source": [
    "intersection = reduce(lambda x,y: x.intersection(y), self_docked.groupby(\"Version\")[\"Compound_ID\"].apply(lambda x: set(x.unique())))"
   ]
  },
  {
   "cell_type": "code",
   "execution_count": null,
   "id": "47b29f7a-5b3a-42ba-bd0f-ac17a1f1298b",
   "metadata": {
    "tags": []
   },
   "outputs": [],
   "source": [
    "len(intersection)"
   ]
  },
  {
   "cell_type": "code",
   "execution_count": null,
   "id": "339e74aa-27b1-42df-b371-7b34a22927f5",
   "metadata": {
    "tags": []
   },
   "outputs": [],
   "source": [
    "self_docked_filtered = self_docked[self_docked.Compound_ID.isin(intersection)]"
   ]
  },
  {
   "cell_type": "code",
   "execution_count": null,
   "id": "326f8981-bc88-4286-8174-0e9cba3dc9ae",
   "metadata": {
    "tags": []
   },
   "outputs": [],
   "source": [
    "len(self_docked_filtered)"
   ]
  },
  {
   "cell_type": "code",
   "execution_count": null,
   "id": "6e0a805e-c03f-48f2-9851-494990269953",
   "metadata": {
    "tags": []
   },
   "outputs": [],
   "source": [
    "len(self_docked)"
   ]
  },
  {
   "cell_type": "code",
   "execution_count": null,
   "id": "04aa7889-a764-461c-8dfe-10808e70492f",
   "metadata": {
    "tags": []
   },
   "outputs": [],
   "source": [
    "import plotly.figure_factory as ff"
   ]
  },
  {
   "cell_type": "code",
   "execution_count": null,
   "id": "b0206ec6-2d4a-4d25-b653-d35acba31d4f",
   "metadata": {
    "tags": []
   },
   "outputs": [],
   "source": []
  },
  {
   "cell_type": "code",
   "execution_count": null,
   "id": "be5f0b95-666c-420e-a526-59d60a052990",
   "metadata": {
    "tags": []
   },
   "outputs": [],
   "source": []
  },
  {
   "cell_type": "code",
   "execution_count": null,
   "id": "0a6892ad-3053-44e1-a823-0ddae0e7c00e",
   "metadata": {},
   "outputs": [],
   "source": [
    "self_docked_filtered.groupby([\"Version\", \"POSIT_Method\"]).nunique()"
   ]
  },
  {
   "cell_type": "code",
   "execution_count": null,
   "id": "d2717a80-91ec-40f7-bc54-8ba6ce8dbaad",
   "metadata": {
    "tags": []
   },
   "outputs": [],
   "source": [
    "def plot_kde(df, value_column, group_column, groups):\n",
    "    arrays = [df[df[group_column] == group][value_column] for group in groups]\n",
    "    fig = ff.create_distplot(arrays, group_labels=groups, bin_size=0.25, show_rug=False)\n",
    "    fig.update_layout(width=600, height=400)\n",
    "    fig.update_xaxes(title=\"RMSD (Å)\", range=[0,8])\n",
    "    fig.update_yaxes(title=\"Frequency\", range=[0,1])\n",
    "    return fig"
   ]
  },
  {
   "cell_type": "code",
   "execution_count": null,
   "id": "6a7a8cac-c574-440e-9d3b-03e1aac8bef7",
   "metadata": {
    "tags": []
   },
   "outputs": [],
   "source": [
    "fig = plot_kde(self_docked, \"RMSD\", \"Version\", [\"All\", \"Hybrid-Only\"])\n",
    "fig.update_layout(title=\"RMSD Distribution for Self-Docking Results\")"
   ]
  },
  {
   "cell_type": "code",
   "execution_count": null,
   "id": "fc7fada7-d9df-4df2-8649-b96af7b9ef02",
   "metadata": {
    "tags": []
   },
   "outputs": [],
   "source": [
    "fig2 = plot_kde(self_docked_filtered, \"RMSD\", \"Version\", [\"All\", \"Hybrid-Only\"])"
   ]
  },
  {
   "cell_type": "code",
   "execution_count": null,
   "id": "e840b6c0-497e-42b1-9216-f98ae6fc4cd0",
   "metadata": {
    "tags": []
   },
   "outputs": [],
   "source": [
    "fig2.write_image(\"20230613_self_docking_RMSD_kde.png\")"
   ]
  },
  {
   "cell_type": "code",
   "execution_count": null,
   "id": "d3accd00-4fe1-40a2-aee3-a82d6b7cf8cf",
   "metadata": {},
   "outputs": [],
   "source": []
  }
 ],
 "metadata": {
  "kernelspec": {
   "display_name": "Python 3 (ipykernel)",
   "language": "python",
   "name": "python3"
  },
  "language_info": {
   "codemirror_mode": {
    "name": "ipython",
    "version": 3
   },
   "file_extension": ".py",
   "mimetype": "text/x-python",
   "name": "python",
   "nbconvert_exporter": "python",
   "pygments_lexer": "ipython3",
   "version": "3.9.16"
  }
 },
 "nbformat": 4,
 "nbformat_minor": 5
}
