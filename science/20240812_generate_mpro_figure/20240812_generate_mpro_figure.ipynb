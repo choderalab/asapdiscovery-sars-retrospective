{
 "cells": [
  {
   "cell_type": "markdown",
   "source": [
    "# Imports"
   ],
   "metadata": {
    "collapsed": false
   },
   "id": "a7d978c3f6483da2"
  },
  {
   "cell_type": "code",
   "outputs": [],
   "source": [
    "from asapdiscovery.docking import analysis as a\n",
    "from importlib import reload\n",
    "reload(a)\n",
    "from asapdiscovery.data.schema.complex import Complex\n",
    "from pathlib import Path\n",
    "import json\n",
    "import pandas as pd\n",
    "import rdkit"
   ],
   "metadata": {
    "collapsed": false
   },
   "id": "b8575ca3919943ff",
   "execution_count": null
  },
  {
   "cell_type": "markdown",
   "source": [
    "## Load the data"
   ],
   "metadata": {
    "collapsed": false
   },
   "id": "f4082d0fe890824"
  },
  {
   "cell_type": "code",
   "outputs": [],
   "source": [
    "data_path = Path(\"../../data/20240202_fragalysis_p_series_schema\")"
   ],
   "metadata": {
    "collapsed": false
   },
   "id": "7512be56e3f77f80",
   "execution_count": null
  },
  {
   "cell_type": "code",
   "outputs": [],
   "source": [
    "complexes = [Complex.from_dict(json.load(open(p))) for p in data_path.glob(\"*.json\")]"
   ],
   "metadata": {
    "collapsed": false
   },
   "id": "1cc1e100d90a5b92",
   "execution_count": null
  },
  {
   "cell_type": "code",
   "outputs": [],
   "source": [
    "ligs_to_use = [\n",
    "    \"MAT-POS-e194df51-1\",\n",
    "    \"MAT-POS-3ccb8ef6-1\",\n",
    "    \"EDG-MED-5d232de5-7\",\n",
    "    \"ALP-POS-477dc5b7-4\",\n",
    "    \"ALP-POS-e0fe77e5-13\",\n",
    "    \"MAT-POS-50a80394-2\",\n",
    "    # \"MAT-POS-853c0ffa-9\"\n",
    "               ]"
   ],
   "metadata": {
    "collapsed": false
   },
   "id": "cd61f6c26fba49a",
   "execution_count": null
  },
  {
   "cell_type": "code",
   "outputs": [],
   "source": [
    "selected_complexes = [c for c in complexes if c.ligand.compound_name in ligs_to_use]"
   ],
   "metadata": {
    "collapsed": false
   },
   "id": "9c56d7c7d43e8c6e",
   "execution_count": null
  },
  {
   "cell_type": "code",
   "outputs": [],
   "source": [
    "import yaml\n",
    "with open(\"../20240403_multi_pose_docking_v2/20240430_analyze_cross_docking_results/20240503_inputs_analysis/date_dict.json\") as f:\n",
    "    date_dict = yaml.load(f, Loader=yaml.FullLoader)"
   ],
   "metadata": {
    "collapsed": false
   },
   "id": "d31498b0a6bf8907",
   "execution_count": null
  },
  {
   "cell_type": "code",
   "outputs": [],
   "source": [
    "dates = [date_dict[c.target.target_name.split(\"_\")[0]] for c in selected_complexes]"
   ],
   "metadata": {
    "collapsed": false
   },
   "id": "58248a248e1aaec6",
   "execution_count": null
  },
  {
   "cell_type": "code",
   "outputs": [],
   "source": [
    "compound_id = [c.ligand.compound_name for c in selected_complexes]\n",
    "target_id = [c.target.target_name for c in selected_complexes]\n",
    "mols = [c.ligand.to_rdkit() for c in selected_complexes]"
   ],
   "metadata": {
    "collapsed": false
   },
   "id": "c319b2730c34211f",
   "execution_count": null
  },
  {
   "cell_type": "code",
   "outputs": [],
   "source": [
    "df = pd.DataFrame({\"compound_id\": compound_id, \"target_id\": target_id, \"date\": dates, \"mol\": mols}) "
   ],
   "metadata": {
    "collapsed": false
   },
   "id": "72d4b71b8c3e6249",
   "execution_count": null
  },
  {
   "cell_type": "code",
   "outputs": [],
   "source": [
    "df.sort_values(\"date\", inplace=True)"
   ],
   "metadata": {
    "collapsed": false
   },
   "id": "8245697a12d2d3c5",
   "execution_count": null
  },
  {
   "cell_type": "code",
   "outputs": [],
   "source": [
    "df"
   ],
   "metadata": {
    "collapsed": false
   },
   "id": "5ca3e547e415490",
   "execution_count": null
  },
  {
   "cell_type": "code",
   "outputs": [],
   "source": [],
   "metadata": {
    "collapsed": false
   },
   "id": "374b082342467aba",
   "execution_count": null
  }
 ],
 "metadata": {
  "kernelspec": {
   "display_name": "Python 3",
   "language": "python",
   "name": "python3"
  },
  "language_info": {
   "codemirror_mode": {
    "name": "ipython",
    "version": 2
   },
   "file_extension": ".py",
   "mimetype": "text/x-python",
   "name": "python",
   "nbconvert_exporter": "python",
   "pygments_lexer": "ipython2",
   "version": "2.7.6"
  }
 },
 "nbformat": 4,
 "nbformat_minor": 5
}
