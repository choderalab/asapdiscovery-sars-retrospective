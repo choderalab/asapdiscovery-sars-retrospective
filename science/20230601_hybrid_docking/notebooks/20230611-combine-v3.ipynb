{
 "cells": [
  {
   "cell_type": "markdown",
   "id": "2e1143a6-9285-45fc-babb-02cefdafd85f",
   "metadata": {
    "pycharm": {
     "is_executing": true
    }
   },
   "source": [
    "# Imports"
   ]
  },
  {
   "cell_type": "code",
   "execution_count": null,
   "id": "f9c682f0-2d71-43a3-9e24-cd180cb0dfa5",
   "metadata": {
    "tags": []
   },
   "outputs": [],
   "source": [
    "from pathlib import Path\n",
    "from asapdiscovery.data.openeye import load_openeye_sdfs, oechem, save_openeye_sdfs\n",
    "from asapdiscovery.data.fragalysis import parse_fragalysis\n",
    "import numpy as np\n",
    "import pandas as pd, numpy as np\n",
    "import plotly.express as px\n",
    "from datetime import datetime\n",
    "from tqdm.notebook import tqdm\n",
    "from asapdiscovery.docking.analysis import DockingResults\n",
    "import asapdiscovery.data.openeye as oe\n",
    "import asapdiscovery.modeling.cheminformatics as ci\n",
    "from importlib import reload"
   ]
  },
  {
   "cell_type": "markdown",
   "id": "b91a5563-9b43-4cc4-a505-7f501067dc56",
   "metadata": {},
   "source": [
    "# Load Paths"
   ]
  },
  {
   "cell_type": "code",
   "execution_count": null,
   "id": "cec60146-8fe8-488f-b6c7-d5bb626eb95e",
   "metadata": {
    "tags": []
   },
   "outputs": [],
   "source": [
    "import sys\n",
    "sys.path.append(str(Path(\"../../../\").resolve()))\n",
    "from software.paths import paths"
   ]
  },
  {
   "cell_type": "code",
   "execution_count": null,
   "id": "356cb814-7e3f-4c60-94df-c48a0d46e093",
   "metadata": {
    "tags": []
   },
   "outputs": [],
   "source": [
    "local_analysis = Path(\"/Users/alexpayne/Scientific_Projects/mers-drug-discovery/sars2-retrospective-analysis/\")"
   ]
  },
  {
   "cell_type": "code",
   "execution_count": null,
   "id": "9ef20520-cd3b-44fc-894c-5e5dff5636ed",
   "metadata": {
    "tags": []
   },
   "outputs": [],
   "source": [
    "full_posit = local_analysis / \"results_with_structure_dates.csv\"\n",
    "hybrid = local_analysis / \"results_cleaned_tc_scores.csv\""
   ]
  },
  {
   "cell_type": "code",
   "execution_count": null,
   "id": "13b67acc-2984-434f-a7be-4066a6ef5130",
   "metadata": {
    "tags": []
   },
   "outputs": [],
   "source": [
    "posit_df = pd.read_csv(full_posit, index_col=0)"
   ]
  },
  {
   "cell_type": "code",
   "execution_count": null,
   "id": "baecf8a2-da1c-4147-997f-a4be8f482f65",
   "metadata": {
    "tags": []
   },
   "outputs": [],
   "source": [
    "len(posit_df)"
   ]
  },
  {
   "cell_type": "code",
   "execution_count": null,
   "id": "0dd145d1-64cc-4b44-840a-da73ca53e32e",
   "metadata": {
    "tags": []
   },
   "outputs": [],
   "source": [
    "hybrid_df = pd.read_csv(hybrid, index_col=0)"
   ]
  },
  {
   "cell_type": "code",
   "execution_count": null,
   "id": "5e59bbab-a393-44c7-a583-985aade46740",
   "metadata": {},
   "outputs": [],
   "source": [
    "len(hybrid_df)"
   ]
  },
  {
   "cell_type": "markdown",
   "id": "1202980f-76ed-45ff-85d9-daa3ea8c7b3f",
   "metadata": {},
   "source": [
    "## why does posit_df have more?"
   ]
  },
  {
   "cell_type": "code",
   "execution_count": null,
   "id": "6a79bbfb-347c-4538-b464-c86029b7961a",
   "metadata": {
    "tags": []
   },
   "outputs": [],
   "source": [
    "np.shape(posit_df)"
   ]
  },
  {
   "cell_type": "code",
   "execution_count": null,
   "id": "116f9f1f-2972-42c5-b8a7-43f31c6afd17",
   "metadata": {
    "tags": []
   },
   "outputs": [],
   "source": [
    "posit_df.nunique()"
   ]
  },
  {
   "cell_type": "code",
   "execution_count": null,
   "id": "6d5e0fbf-d711-49db-ab21-46104a8a36da",
   "metadata": {
    "tags": []
   },
   "outputs": [],
   "source": [
    "_ = posit_df.groupby(\"Complex_ID\")[\"Complex_ID\"].count()\n",
    "dups = _[_ > 1]"
   ]
  },
  {
   "cell_type": "code",
   "execution_count": null,
   "id": "59917f3b-5b29-48d7-bb3d-4d80be47528c",
   "metadata": {
    "tags": []
   },
   "outputs": [],
   "source": [
    "dups.index"
   ]
  },
  {
   "cell_type": "code",
   "execution_count": null,
   "id": "66f63ea4-0d70-4049-92b1-452f648c8425",
   "metadata": {
    "tags": []
   },
   "outputs": [],
   "source": [
    "posit_df[posit_df.Complex_ID == 'ADA-UCB-6c2cb422-1_Mpro-P0008_0A'].nunique()"
   ]
  },
  {
   "cell_type": "code",
   "execution_count": null,
   "id": "423672b0-7941-4c2c-a3de-d75137368762",
   "metadata": {
    "tags": []
   },
   "outputs": [],
   "source": [
    "dups_removed = posit_df.drop_duplicates()"
   ]
  },
  {
   "cell_type": "code",
   "execution_count": null,
   "id": "ac4115d1-4616-4779-906a-762e211258e0",
   "metadata": {
    "tags": []
   },
   "outputs": [],
   "source": [
    "dups_removed[dups_removed.Complex_ID == 'ADA-UCB-6c2cb422-1_Mpro-P0008_0A']"
   ]
  },
  {
   "cell_type": "markdown",
   "id": "7d206915-2120-46e6-bc9c-1e9eccd146cc",
   "metadata": {},
   "source": [
    "# Remove duplicates just to be sure"
   ]
  },
  {
   "cell_type": "code",
   "execution_count": null,
   "id": "369f4b8a-0fd4-4738-9a83-35ed45d8cc9c",
   "metadata": {
    "tags": []
   },
   "outputs": [],
   "source": [
    "np.shape(dups_removed)"
   ]
  },
  {
   "cell_type": "code",
   "execution_count": null,
   "id": "fa1cec34-ef0a-49bc-ad89-7fa3a3429725",
   "metadata": {
    "tags": []
   },
   "outputs": [],
   "source": [
    "hybrid_dups_removed = hybrid_df.drop_duplicates()"
   ]
  },
  {
   "cell_type": "code",
   "execution_count": null,
   "id": "ab363998-1953-4d99-92b1-c9a0aa8d06f9",
   "metadata": {
    "tags": []
   },
   "outputs": [],
   "source": [
    "np.shape(hybrid_dups_removed)"
   ]
  },
  {
   "cell_type": "markdown",
   "id": "c3d7bba3-615e-4ba1-8bca-0b15296567a3",
   "metadata": {},
   "source": [
    "# now get the compound info"
   ]
  },
  {
   "cell_type": "code",
   "execution_count": null,
   "id": "38095e1e-56e9-4213-b0f6-939e05f39cdf",
   "metadata": {
    "tags": []
   },
   "outputs": [],
   "source": [
    "tidy_columns = [\"Docked_File\", \"RMSD\", \"POSIT\", \"POSIT_Method\", \"Chemgauss4\", \"Clash\", \"POSIT_R\"]"
   ]
  },
  {
   "cell_type": "code",
   "execution_count": null,
   "id": "dd18a2d3-bebb-476a-80b0-be4d7481b0e7",
   "metadata": {
    "tags": []
   },
   "outputs": [],
   "source": [
    "complex_info_cols = [col for col in hybrid_dups_removed.columns if col not in tidy_columns]\n",
    "hybrid_complex_info = hybrid_dups_removed.loc[:, complex_info_cols]\n",
    "hybrid_complex_info[\"Version\"] = \"Hybrid-Only\"\n",
    "\n",
    "complex_info_cols = [col for col in dups_removed.columns if col not in tidy_columns]\n",
    "posit_complex_info = dups_removed.loc[:, complex_info_cols]\n",
    "posit_complex_info[\"Version\"] = \"All\""
   ]
  },
  {
   "cell_type": "code",
   "execution_count": null,
   "id": "5473000d-adf3-4f11-848b-dfb15d83f253",
   "metadata": {
    "tags": []
   },
   "outputs": [],
   "source": [
    "hybrid_to_concat = hybrid_dups_removed.loc[:, tidy_columns + [\"Complex_ID\"]]\n",
    "hybrid_to_concat[\"Version\"] = \"Hybrid-Only\"\n",
    "\n",
    "posit_to_concat = dups_removed.loc[:, tidy_columns + [\"Complex_ID\"]]\n",
    "posit_to_concat[\"Version\"] = \"All\""
   ]
  },
  {
   "cell_type": "code",
   "execution_count": null,
   "id": "18233ddf-7a94-4441-98a9-91c803ebda05",
   "metadata": {
    "tags": []
   },
   "outputs": [],
   "source": [
    "on_cols = [col for col in posit_complex_info.columns if col in hybrid_complex_info.columns and col not in [\"Version\"]]\n",
    "outer_info = pd.merge(posit_complex_info, hybrid_complex_info, on=on_cols + [\"Version\"], how=\"outer\")"
   ]
  },
  {
   "cell_type": "code",
   "execution_count": null,
   "id": "bcc8a8f9-6858-465f-b2aa-2e2c5db91874",
   "metadata": {
    "tags": []
   },
   "outputs": [],
   "source": [
    "inner_info = pd.merge(posit_complex_info, hybrid_complex_info, on=on_cols, how=\"inner\")"
   ]
  },
  {
   "cell_type": "code",
   "execution_count": null,
   "id": "04bbfb86-bf3b-4f14-aeb0-a7209919191e",
   "metadata": {
    "tags": []
   },
   "outputs": [],
   "source": [
    "np.shape(outer_info)"
   ]
  },
  {
   "cell_type": "code",
   "execution_count": null,
   "id": "64437e5c-514b-4665-be38-acb14aa40886",
   "metadata": {
    "tags": []
   },
   "outputs": [],
   "source": [
    "np.shape(inner_info)"
   ]
  },
  {
   "cell_type": "code",
   "execution_count": null,
   "id": "94768432-b0cd-4e09-b193-0665ced78fc2",
   "metadata": {
    "tags": []
   },
   "outputs": [],
   "source": [
    "outer_info.nunique()"
   ]
  },
  {
   "cell_type": "code",
   "execution_count": null,
   "id": "7e179139-6495-40df-ba16-521b8b758729",
   "metadata": {
    "tags": []
   },
   "outputs": [],
   "source": [
    "_ = outer_info.groupby(\"Complex_ID\")[\"Complex_ID\"].count()\n",
    "dups = _[_ > 1]"
   ]
  },
  {
   "cell_type": "code",
   "execution_count": null,
   "id": "2d873050-9589-472c-97eb-f0368a74d88b",
   "metadata": {
    "tags": []
   },
   "outputs": [],
   "source": [
    "dups"
   ]
  },
  {
   "cell_type": "code",
   "execution_count": null,
   "id": "a4f05c12-0f10-4884-947f-248d96b0709f",
   "metadata": {
    "tags": []
   },
   "outputs": [],
   "source": [
    "outer_info[outer_info.Complex_ID == \"ALP-POS-133e7cd9-2_Mpro-P0010_0A\"].nunique()"
   ]
  },
  {
   "cell_type": "markdown",
   "id": "ca933ddc-e972-488c-9a9a-a77e0737a2f0",
   "metadata": {},
   "source": [
    "### THE SMILES STRING IS THE CULPRIT"
   ]
  },
  {
   "cell_type": "code",
   "execution_count": null,
   "id": "3f8b6ca7-b459-44fe-a01b-54dc485a46a2",
   "metadata": {
    "tags": []
   },
   "outputs": [],
   "source": [
    "print([smiles for smiles in outer_info[outer_info.Complex_ID == \"ALP-POS-133e7cd9-2_Mpro-P0010_0A\"].SMILES])"
   ]
  },
  {
   "cell_type": "code",
   "execution_count": null,
   "id": "8e0e1164-ccf3-4f85-87a4-be00d6aac9c7",
   "metadata": {
    "tags": []
   },
   "outputs": [],
   "source": [
    "'c1ccc2c(c1)cncc2N3CCC[C@@]4(C3=O)C[N@@](Cc5c4cc(cc5)Cl)S(=O)(=O)CC6(CC6)C#N'\n",
    "'c1ccc2c(c1)cncc2N3CCC[C@@]4(C3=O)CN(Cc5c4cc(cc5)Cl)S(=O)(=O)CC6(CC6)C#N'"
   ]
  },
  {
   "cell_type": "code",
   "execution_count": null,
   "id": "512aadbc-495c-412d-b5d8-ffdc71594eba",
   "metadata": {
    "tags": []
   },
   "outputs": [],
   "source": [
    "outer_info[outer_info.Complex_ID == \"ALP-POS-133e7cd9-2_Mpro-P0010_0A\"]"
   ]
  },
  {
   "cell_type": "markdown",
   "id": "e915dc41-7235-47b2-a68f-2dabe9eefcdb",
   "metadata": {},
   "source": [
    "## for some reason the smiles string from full posit is better (includes stereochem)"
   ]
  },
  {
   "cell_type": "markdown",
   "id": "5cf542bf-119c-4481-99ef-d1006b970aac",
   "metadata": {},
   "source": [
    "## in that case, lets drop SMILES from the hybrid df and then merge"
   ]
  },
  {
   "cell_type": "code",
   "execution_count": null,
   "id": "ccfd5acb-100e-46f2-a216-dd98010ea308",
   "metadata": {
    "tags": []
   },
   "outputs": [],
   "source": [
    "complex_info_cols = [col for col in hybrid_dups_removed.columns if col not in tidy_columns]\n",
    "hybrid_complex_info = hybrid_dups_removed.loc[:, complex_info_cols]\n",
    "# hybrid_complex_info[\"Version\"] = \"Hybrid-Only\"\n",
    "\n",
    "complex_info_cols = [col for col in dups_removed.columns if col not in tidy_columns]\n",
    "posit_complex_info = dups_removed.loc[:, complex_info_cols]\n",
    "# posit_complex_info[\"Version\"] = \"All\""
   ]
  },
  {
   "cell_type": "code",
   "execution_count": null,
   "id": "36edacb3-06e9-4ff0-bd1a-150c360ac21a",
   "metadata": {
    "tags": []
   },
   "outputs": [],
   "source": [
    "hybrid_complex_info_no_smiles = hybrid_complex_info.drop(columns=[\"SMILES\"])"
   ]
  },
  {
   "cell_type": "code",
   "execution_count": null,
   "id": "89898485-a6f9-4d45-ae45-5587b8dcdcc3",
   "metadata": {
    "tags": []
   },
   "outputs": [],
   "source": [
    "on_cols = [col for col in posit_complex_info.columns if col in hybrid_complex_info_no_smiles.columns and col not in [\"Version\"]]\n",
    "outer_info = pd.merge(posit_complex_info, hybrid_complex_info_no_smiles, on=on_cols, how=\"outer\")"
   ]
  },
  {
   "cell_type": "code",
   "execution_count": null,
   "id": "55e18056-7900-4b4f-bdc5-c64697aeb62f",
   "metadata": {
    "tags": []
   },
   "outputs": [],
   "source": [
    "inner_info = pd.merge(posit_complex_info, hybrid_complex_info_no_smiles, on=on_cols, how=\"inner\")"
   ]
  },
  {
   "cell_type": "code",
   "execution_count": null,
   "id": "6fcf03b8-f1de-488c-b3c8-90ce535f5d10",
   "metadata": {
    "tags": []
   },
   "outputs": [],
   "source": [
    "np.shape(outer_info)"
   ]
  },
  {
   "cell_type": "code",
   "execution_count": null,
   "id": "12c3b4e1-0ef1-497b-986c-2f48724b7d10",
   "metadata": {
    "tags": []
   },
   "outputs": [],
   "source": [
    "np.shape(inner_info)"
   ]
  },
  {
   "cell_type": "code",
   "execution_count": null,
   "id": "c152995f-59c6-4f8a-9c6f-f457e1bb33c7",
   "metadata": {
    "tags": []
   },
   "outputs": [],
   "source": [
    "outer_info.nunique()"
   ]
  },
  {
   "cell_type": "code",
   "execution_count": null,
   "id": "4d9431fe-c3f9-431a-b56b-72703c961bda",
   "metadata": {
    "tags": []
   },
   "outputs": [],
   "source": [
    "214*219"
   ]
  },
  {
   "cell_type": "markdown",
   "id": "e310f8f4-e52a-460c-acd0-5677e82b0b0c",
   "metadata": {},
   "source": [
    "## Good, now the number of unique complex_IDs == len(df) == len(Compound_ID) * len(Structure_Source)"
   ]
  },
  {
   "cell_type": "markdown",
   "id": "32607e5b-f182-43e6-b4b4-24699e754df3",
   "metadata": {},
   "source": [
    "# Is there anything missing?"
   ]
  },
  {
   "cell_type": "code",
   "execution_count": null,
   "id": "71e46f7f-db59-4328-99f2-f84448a4b120",
   "metadata": {
    "tags": []
   },
   "outputs": [],
   "source": [
    "outer_info.isna().sum()"
   ]
  },
  {
   "cell_type": "markdown",
   "id": "162167b6-c5c8-4b4f-834f-2ed901ce980b",
   "metadata": {},
   "source": [
    "## yes, there are Reference Ligands and Tanimoto scores missing"
   ]
  },
  {
   "cell_type": "markdown",
   "id": "d4b677ff-fb0d-4d6e-ab1c-d731af4b8c3e",
   "metadata": {},
   "source": [
    "## Add Reference Compound"
   ]
  },
  {
   "cell_type": "markdown",
   "id": "a5c2efc4-282d-4ab5-bb9c-3a5e9a8506a1",
   "metadata": {},
   "source": [
    "## load from yaml"
   ]
  },
  {
   "cell_type": "code",
   "execution_count": null,
   "id": "cb33fda9-8be9-4d42-8d2e-af046f9f1ad3",
   "metadata": {
    "scrolled": true
   },
   "outputs": [],
   "source": [
    "from asapdiscovery.data.utils import get_compound_id_xtal_dicts\n",
    "import yaml"
   ]
  },
  {
   "cell_type": "code",
   "execution_count": null,
   "id": "ab20273f-4e86-4ca6-b8d3-b1742b44e7d8",
   "metadata": {
    "scrolled": true
   },
   "outputs": [],
   "source": [
    "with open(\"/Users/alexpayne/Scientific_Projects/covid-moonshot-ml/metadata/cmpd_to_frag.yaml\") as f:\n",
    "    cmpd_to_frag_dict = yaml.safe_load(f)"
   ]
  },
  {
   "cell_type": "code",
   "execution_count": null,
   "id": "ab5368ef-84e3-43ec-a79a-d4c977fd097e",
   "metadata": {
    "tags": []
   },
   "outputs": [],
   "source": [
    "frag_to_cmpd_dict = {v:k for k,v in cmpd_to_frag_dict.items()}"
   ]
  },
  {
   "cell_type": "code",
   "execution_count": null,
   "id": "f4cf8ccf-fc47-47f0-b74a-3dad466ec284",
   "metadata": {
    "tags": []
   },
   "outputs": [],
   "source": [
    "reference_df = pd.DataFrame({\"Compound_ID\": cmpd_to_frag_dict.keys(), \n",
    "                           \"Structure_Source\": [source for source in cmpd_to_frag_dict.values()]})"
   ]
  },
  {
   "cell_type": "code",
   "execution_count": null,
   "id": "a8c1c4e9-e197-40d1-9ce4-46dd9a22c41b",
   "metadata": {
    "tags": []
   },
   "outputs": [],
   "source": [
    "Structure_Source = outer_info.Structure_Source.apply(lambda x: x.split(\"_\")[0])"
   ]
  },
  {
   "cell_type": "code",
   "execution_count": null,
   "id": "559826b3-fd06-4ca3-af11-30e60b1a3d48",
   "metadata": {
    "tags": []
   },
   "outputs": [],
   "source": [
    "ref_lig = Structure_Source.apply(lambda x: frag_to_cmpd_dict[x])"
   ]
  },
  {
   "cell_type": "markdown",
   "id": "3d820713-8034-4255-9ee2-4a0c748d6eaf",
   "metadata": {},
   "source": [
    "## add to compound info df"
   ]
  },
  {
   "cell_type": "code",
   "execution_count": null,
   "id": "4049a9b3-dea5-468e-9760-be4cbaccbfcb",
   "metadata": {
    "tags": []
   },
   "outputs": [],
   "source": [
    "outer_info[\"Reference_Ligand\"] = ref_lig"
   ]
  },
  {
   "cell_type": "code",
   "execution_count": null,
   "id": "d724660f-bd62-41a4-b3e6-7ee483fa0df7",
   "metadata": {
    "tags": []
   },
   "outputs": [],
   "source": [
    "outer_info.isna().sum()"
   ]
  },
  {
   "cell_type": "markdown",
   "id": "e9ffa3e2-08e4-4774-8ec6-dcac0161c02a",
   "metadata": {},
   "source": [
    "# Add TC score"
   ]
  },
  {
   "cell_type": "code",
   "execution_count": null,
   "id": "14f32cf1-3cb1-4e85-92ad-be184356c826",
   "metadata": {
    "tags": []
   },
   "outputs": [],
   "source": [
    "from asapdiscovery.modeling.cheminformatics import get_n_to_n_tanimoto"
   ]
  },
  {
   "cell_type": "markdown",
   "id": "3cdb04b5-2eb4-42c4-860f-79554927aa5a",
   "metadata": {},
   "source": [
    "## load mols"
   ]
  },
  {
   "cell_type": "code",
   "execution_count": null,
   "id": "594a14d6-b9a6-424e-a88a-0299fcf9283c",
   "metadata": {
    "tags": []
   },
   "outputs": [],
   "source": [
    "sdfs = load_openeye_sdfs(str(paths.combined_p_only_sdf))"
   ]
  },
  {
   "cell_type": "markdown",
   "id": "1fc246cf-9643-4044-87fe-79e45f9d1721",
   "metadata": {},
   "source": [
    "## Calculate Tanimoto"
   ]
  },
  {
   "cell_type": "code",
   "execution_count": null,
   "id": "f095ba2b-dee2-459c-81de-0737202014d6",
   "metadata": {
    "tags": []
   },
   "outputs": [],
   "source": [
    "tc_df = ci.get_n_to_n_tanimoto(sdfs, sdfs)"
   ]
  },
  {
   "cell_type": "code",
   "execution_count": null,
   "id": "a6d8f0e3-b064-47b2-8b87-fc6b55670db9",
   "metadata": {
    "tags": []
   },
   "outputs": [],
   "source": [
    "outer_info.drop(columns=[\"TanimotoCombo\"], inplace=True)"
   ]
  },
  {
   "cell_type": "code",
   "execution_count": null,
   "id": "9a525c8c-918b-449d-a3c7-84eaa27f66fa",
   "metadata": {
    "tags": []
   },
   "outputs": [],
   "source": [
    "complex_info_complex_tc = pd.merge(outer_info, tc_df, on=[\"Compound_ID\", \"Reference_Ligand\"])"
   ]
  },
  {
   "cell_type": "code",
   "execution_count": null,
   "id": "09a5176a-cf20-4699-a5aa-5e67667df767",
   "metadata": {
    "tags": []
   },
   "outputs": [],
   "source": [
    "np.shape(outer_info)"
   ]
  },
  {
   "cell_type": "code",
   "execution_count": null,
   "id": "246959be-4f94-4d94-a6c5-6d647deb3de6",
   "metadata": {
    "tags": []
   },
   "outputs": [],
   "source": [
    "np.shape(complex_info_complex_tc)"
   ]
  },
  {
   "cell_type": "markdown",
   "id": "a06b1039-1c16-4b69-a8a8-6c4d3d3fc06a",
   "metadata": {},
   "source": [
    "## why are we losing information?"
   ]
  },
  {
   "cell_type": "code",
   "execution_count": null,
   "id": "25c2d121-47a7-414b-9947-e7b82d24d992",
   "metadata": {
    "tags": []
   },
   "outputs": [],
   "source": [
    "set(outer_info.Compound_ID) - set(tc_df.Compound_ID)"
   ]
  },
  {
   "cell_type": "code",
   "execution_count": null,
   "id": "6aefeba2-c661-443f-9f3b-45903fa4673e",
   "metadata": {
    "tags": []
   },
   "outputs": [],
   "source": [
    "set(tc_df.Compound_ID) - set(outer_info.Compound_ID)"
   ]
  },
  {
   "cell_type": "code",
   "execution_count": null,
   "id": "a6b56f35-3a0c-4c5c-a218-e4152d190ede",
   "metadata": {
    "tags": []
   },
   "outputs": [],
   "source": [
    "outer_info.Compound_ID = outer_info.Compound_ID.apply(lambda x: x.strip(\" \"))"
   ]
  },
  {
   "cell_type": "code",
   "execution_count": null,
   "id": "6d8fa296-1596-4dc0-bdd4-7461a81969f5",
   "metadata": {
    "tags": []
   },
   "outputs": [],
   "source": [
    "outer_info.Complex_ID = outer_info.Complex_ID.replace(\" \", \"\")"
   ]
  },
  {
   "cell_type": "code",
   "execution_count": null,
   "id": "a8bfafbe-825e-495a-b018-565288bbbf27",
   "metadata": {
    "tags": []
   },
   "outputs": [],
   "source": [
    "set(outer_info.Compound_ID) - set(tc_df.Compound_ID)"
   ]
  },
  {
   "cell_type": "code",
   "execution_count": null,
   "id": "6ab9ebd3-80a0-4d52-90ba-5a4a9bc499a0",
   "metadata": {
    "tags": []
   },
   "outputs": [],
   "source": [
    "set(tc_df.Compound_ID) - set(outer_info.Compound_ID)"
   ]
  },
  {
   "cell_type": "code",
   "execution_count": null,
   "id": "5885e9db-bd9c-4f5a-8c23-a89933ad2b1f",
   "metadata": {
    "tags": []
   },
   "outputs": [],
   "source": [
    "set(tc_df.Reference_Ligand) - set(outer_info.Reference_Ligand)"
   ]
  },
  {
   "cell_type": "code",
   "execution_count": null,
   "id": "ad39ae9f-532d-4438-a830-6690acee0768",
   "metadata": {
    "tags": []
   },
   "outputs": [],
   "source": [
    "set(outer_info.Reference_Ligand) - set(tc_df.Reference_Ligand)"
   ]
  },
  {
   "cell_type": "code",
   "execution_count": null,
   "id": "eace8d75-dab8-4d5f-9fef-0faf8c2bb0b9",
   "metadata": {},
   "outputs": [],
   "source": [
    "compound_info_with_merged_tc = pd.merge(tc_df, outer_info, on=[\"Reference_Ligand\", \"Compound_ID\"])"
   ]
  },
  {
   "cell_type": "code",
   "execution_count": null,
   "id": "90cbef30-2ada-4415-9060-1fb2f991bfa2",
   "metadata": {
    "tags": []
   },
   "outputs": [],
   "source": [
    "set(tc_df.Reference_Ligand) - set(tc_df.Compound_ID)"
   ]
  },
  {
   "cell_type": "code",
   "execution_count": null,
   "id": "682fc401-8719-4c6f-ab54-8974cdf34c81",
   "metadata": {
    "tags": []
   },
   "outputs": [],
   "source": [
    "set(tc_df.Compound_ID) - set(tc_df.Reference_Ligand)"
   ]
  },
  {
   "cell_type": "code",
   "execution_count": null,
   "id": "38dd0afd-2efb-4634-bc14-a5091eab4401",
   "metadata": {
    "tags": []
   },
   "outputs": [],
   "source": [
    "tc_df[tc_df.Compound_ID.isin(set(outer_info.Reference_Ligand) - set(tc_df.Reference_Ligand))]"
   ]
  },
  {
   "cell_type": "code",
   "execution_count": null,
   "id": "c5c05e8b-21c1-4863-9b35-c3d551e3cc03",
   "metadata": {
    "tags": []
   },
   "outputs": [],
   "source": [
    "cmpd_ids = [mol.GetTitle() for mol in sdfs]"
   ]
  },
  {
   "cell_type": "code",
   "execution_count": null,
   "id": "9566db97-faa5-4f16-94d5-1d65c42e5936",
   "metadata": {
    "tags": []
   },
   "outputs": [],
   "source": [
    "set(outer_info.Reference_Ligand) - set(cmpd_ids)"
   ]
  },
  {
   "cell_type": "code",
   "execution_count": null,
   "id": "dbc5a435-ed8c-4790-a76a-ced86c592156",
   "metadata": {
    "tags": []
   },
   "outputs": [],
   "source": [
    "outer_info[outer_info.Reference_Ligand.isin(set(outer_info.Reference_Ligand) - set(cmpd_ids))]"
   ]
  },
  {
   "cell_type": "code",
   "execution_count": null,
   "id": "1620d534-dc89-40d5-b661-3f330122385a",
   "metadata": {
    "tags": []
   },
   "outputs": [],
   "source": [
    "outer_info.Reference_Ligand = outer_info.Reference_Ligand.apply(lambda x: x.strip(\" \"))"
   ]
  },
  {
   "cell_type": "code",
   "execution_count": null,
   "id": "0e6cf93b-e3ff-431a-b3c4-9b4d2d6e1501",
   "metadata": {
    "tags": []
   },
   "outputs": [],
   "source": [
    "missing = set(outer_info.Reference_Ligand) - set(cmpd_ids)"
   ]
  },
  {
   "cell_type": "code",
   "execution_count": null,
   "id": "50063a63-29a9-4f50-8f84-be1085ad326d",
   "metadata": {
    "tags": []
   },
   "outputs": [],
   "source": [
    "missing"
   ]
  },
  {
   "cell_type": "code",
   "execution_count": null,
   "id": "ef7afe02-b6eb-4f5d-a5d4-febbb20b8523",
   "metadata": {
    "tags": []
   },
   "outputs": [],
   "source": [
    "lig1 = \"EDG-MED-971238d3-4\"\n",
    "smi1 = \"N[C@@]1(C(=O)Nc2cncc3ccccc23)CCOc2ccc(Cl)cc21\"\n",
    "lig2 = \"MAT-POS-3b97339c-2\" "
   ]
  },
  {
   "cell_type": "code",
   "execution_count": null,
   "id": "3989d26b-f084-4fe1-9f64-edb62c889afe",
   "metadata": {
    "tags": []
   },
   "outputs": [],
   "source": [
    "outer_info[outer_info.Reference_Ligand == lig2]"
   ]
  },
  {
   "cell_type": "code",
   "execution_count": null,
   "id": "33b1304c-cbca-4f3d-8bf8-484075d7a050",
   "metadata": {
    "tags": []
   },
   "outputs": [],
   "source": [
    "\"EDG-MED-971238d3-4\" in cmpd_ids"
   ]
  },
  {
   "cell_type": "code",
   "execution_count": null,
   "id": "84aedcf9-c2f9-475d-bf64-7d614965b311",
   "metadata": {
    "tags": []
   },
   "outputs": [],
   "source": [
    "mol = [mol for mol in sdfs if mol.GetTitle() == \"EDG-MED-971238d3-4\"][0]"
   ]
  },
  {
   "cell_type": "code",
   "execution_count": null,
   "id": "048b728c-8e44-4634-bea5-4a9a8fbbec74",
   "metadata": {
    "tags": []
   },
   "outputs": [],
   "source": [
    "mol2 = [mol for mol in sdfs if mol.GetTitle() == \"MAT-POS-3b97339c-2\"][0]"
   ]
  },
  {
   "cell_type": "code",
   "execution_count": null,
   "id": "bd9330b0-be79-4f65-99d6-cce7e8cc26cf",
   "metadata": {
    "tags": []
   },
   "outputs": [],
   "source": [
    "from asapdiscovery.data.openeye import oechem"
   ]
  },
  {
   "cell_type": "code",
   "execution_count": null,
   "id": "36b80fd8-e1e5-4fae-85c8-72676b344911",
   "metadata": {
    "tags": []
   },
   "outputs": [],
   "source": [
    "oe.oedepict.OEPrepareDepiction(mol)\n",
    "disp = oe.oedepict.OE2DMolDisplay(mol)"
   ]
  },
  {
   "cell_type": "code",
   "execution_count": null,
   "id": "beeb5b00-8baf-42d5-a386-58c66456a738",
   "metadata": {
    "tags": []
   },
   "outputs": [],
   "source": [
    "out_fn = \"EDG-MED-971238d3-4.png\""
   ]
  },
  {
   "cell_type": "code",
   "execution_count": null,
   "id": "3f5110b9-a3d5-4e2c-8f50-fc3df549c517",
   "metadata": {
    "tags": []
   },
   "outputs": [],
   "source": [
    "oe.oedepict.OERenderMolecule(out_fn, disp)"
   ]
  },
  {
   "cell_type": "markdown",
   "id": "d8c7f151-13d8-40df-9bb8-039039dfe277",
   "metadata": {},
   "source": [
    "# Ok so the problem here is that the Mpro_combined sdf has potentially incorrect names for the molecules"
   ]
  },
  {
   "cell_type": "markdown",
   "id": "c7e209c1-85e1-402a-8370-ba2bf25bc082",
   "metadata": {},
   "source": [
    "https://asapdiscovery.slack.com/archives/C03GZL9D8UD/p1686512398903609"
   ]
  },
  {
   "cell_type": "markdown",
   "id": "eb994b29-4713-46eb-91fb-37b324a9f9f4",
   "metadata": {},
   "source": [
    "| compound tracker | structure | metadata | Suspected_ID pointer|\n",
    "|-|-|-|-|\n",
    "| BEN-DND-4f474d93-1 | Mpro-P0012 | ALP-POS-ce760d3f-2 | no |\n",
    "| MAT-POS-3b97339c-2 | Mpro-P0208 | EDG-MED-971238d3-4 | no |\n",
    "|EDG-MED-5d232de5-4 | Mpro-P0148 | EDG-MED-5d232de5-3| yes |\n",
    "|EDG-MED-5d232de5-5| Mpro-P0171 | EDG-MED-5d232de5-6 | yes |\n",
    "| VLA-UNK-cf7facf1-1 | Mpro-P0143 | VLA-UCB-34f3ed0c-11 | yes |"
   ]
  },
  {
   "cell_type": "code",
   "execution_count": null,
   "id": "806093db-c057-402a-b590-494c5336e241",
   "metadata": {
    "tags": []
   },
   "outputs": [],
   "source": [
    "missing_mols = list(missing)"
   ]
  },
  {
   "cell_type": "code",
   "execution_count": null,
   "id": "745a35c1-0ea9-44ac-9768-29edb786bd92",
   "metadata": {
    "tags": []
   },
   "outputs": [],
   "source": [
    "missing_mols"
   ]
  },
  {
   "cell_type": "code",
   "execution_count": null,
   "id": "ea0ad3d2-b8fa-4fbe-9604-8907e07cb0da",
   "metadata": {
    "tags": []
   },
   "outputs": [],
   "source": [
    "correct_mols = ['ALP-POS-ce760d3f-2',\n",
    "                'EDG-MED-5d232de5-3',\n",
    "                'VLA-UCB-34f3ed0c-11',\n",
    "                'EDG-MED-5d232de5-6',\n",
    "                'EDG-MED-971238d3-4',\n",
    "               ]"
   ]
  },
  {
   "cell_type": "code",
   "execution_count": null,
   "id": "2250d33e-547b-4d7a-be9f-544594868cae",
   "metadata": {
    "tags": []
   },
   "outputs": [],
   "source": [
    "id_correction_dict = {wrong: right for wrong, right in zip(missing, correct_mols)}"
   ]
  },
  {
   "cell_type": "code",
   "execution_count": null,
   "id": "65210ffc-bda6-4f1a-81d2-0957d2ef4acb",
   "metadata": {
    "tags": []
   },
   "outputs": [],
   "source": [
    "id_correction_dict"
   ]
  },
  {
   "cell_type": "code",
   "execution_count": null,
   "id": "f3ecd1c7-9468-42ce-b456-5b1f1e4c8be6",
   "metadata": {
    "tags": []
   },
   "outputs": [],
   "source": [
    "new_ref_lig = outer_info.Reference_Ligand.apply(lambda x: id_correction_dict.get(x, x))"
   ]
  },
  {
   "cell_type": "code",
   "execution_count": null,
   "id": "e611697f-4ba3-4755-881f-10d4a5d5c249",
   "metadata": {
    "tags": []
   },
   "outputs": [],
   "source": [
    "set(new_ref_lig) - set(tc_df.Reference_Ligand)"
   ]
  },
  {
   "cell_type": "code",
   "execution_count": null,
   "id": "6b49983d-3ae5-402e-bd07-3f72e7b1ed4d",
   "metadata": {
    "tags": []
   },
   "outputs": [],
   "source": [
    "set(tc_df.Reference_Ligand) - set(new_ref_lig)"
   ]
  },
  {
   "cell_type": "markdown",
   "id": "51739073-f3bf-4ad1-84fc-863ee1efaf9a",
   "metadata": {},
   "source": [
    "## ok now it looks like we can get the correct ref ligs"
   ]
  },
  {
   "cell_type": "code",
   "execution_count": null,
   "id": "2cab2e19-6101-4d96-91f7-f0c5c4bfa104",
   "metadata": {
    "tags": []
   },
   "outputs": [],
   "source": [
    "outer_info.Reference_Ligand = new_ref_lig"
   ]
  },
  {
   "cell_type": "code",
   "execution_count": null,
   "id": "178181db-be01-4eb8-a279-36101ac372fc",
   "metadata": {
    "tags": []
   },
   "outputs": [],
   "source": [
    "outer_info.nunique()"
   ]
  },
  {
   "cell_type": "code",
   "execution_count": null,
   "id": "eec8fa7d-7713-4f60-bb4c-76aeac6a9676",
   "metadata": {
    "tags": []
   },
   "outputs": [],
   "source": [
    "set(outer_info.Compound_ID) - set(outer_info.Reference_Ligand)"
   ]
  },
  {
   "cell_type": "code",
   "execution_count": null,
   "id": "d9269a93-4d17-4bd8-868d-1d0552b6628d",
   "metadata": {
    "tags": []
   },
   "outputs": [],
   "source": [
    "set(outer_info.Reference_Ligand) - set(outer_info.Compound_ID)"
   ]
  },
  {
   "cell_type": "markdown",
   "id": "5550af4a-20f3-4880-858c-97790389335a",
   "metadata": {
    "tags": []
   },
   "source": [
    "# Ok add the tc score correctly this time"
   ]
  },
  {
   "cell_type": "code",
   "execution_count": null,
   "id": "e9800672-1add-4fa2-a00e-e76415c684ba",
   "metadata": {
    "tags": []
   },
   "outputs": [],
   "source": [
    "compound_info_with_tc = pd.merge(outer_info, tc_df, on=[\"Reference_Ligand\", \"Compound_ID\"])"
   ]
  },
  {
   "cell_type": "markdown",
   "id": "50e2f53c-0a97-4a17-b4c9-e3a15ff4f3fe",
   "metadata": {},
   "source": [
    "# Now lets make a new combined df!!"
   ]
  },
  {
   "cell_type": "code",
   "execution_count": null,
   "id": "765dd777-a6b2-445a-9e19-cba7bd988703",
   "metadata": {
    "tags": []
   },
   "outputs": [],
   "source": [
    "tidy_df = pd.concat([hybrid_to_concat, posit_to_concat])"
   ]
  },
  {
   "cell_type": "code",
   "execution_count": null,
   "id": "36256642-9a84-4014-8f4d-205d1664bbaa",
   "metadata": {
    "tags": []
   },
   "outputs": [],
   "source": [
    "set(tidy_df.Complex_ID) - set(compound_info_with_tc.Complex_ID)"
   ]
  },
  {
   "cell_type": "code",
   "execution_count": null,
   "id": "89ae3b72-6e64-4ded-9905-23b3f80d7532",
   "metadata": {
    "tags": []
   },
   "outputs": [],
   "source": [
    "set(compound_info_with_tc.Complex_ID) - set(tidy_df.Complex_ID)"
   ]
  },
  {
   "cell_type": "code",
   "execution_count": null,
   "id": "39745a47-6e4b-4446-9369-ee574bc1965a",
   "metadata": {
    "tags": []
   },
   "outputs": [],
   "source": [
    "tidy_df.nunique()"
   ]
  },
  {
   "cell_type": "code",
   "execution_count": null,
   "id": "843566c4-7376-45bb-8670-2b31957c7fa2",
   "metadata": {
    "tags": []
   },
   "outputs": [],
   "source": [
    "np.shape(tidy_df)"
   ]
  },
  {
   "cell_type": "code",
   "execution_count": null,
   "id": "8189d4f1-d717-43b5-b49d-9c6ac5e8bdee",
   "metadata": {
    "tags": []
   },
   "outputs": [],
   "source": [
    "len(tidy_df.Complex_ID.unique()) * 2"
   ]
  },
  {
   "cell_type": "code",
   "execution_count": null,
   "id": "a44c75a3-6597-4a54-8275-8f661e3b997a",
   "metadata": {
    "tags": []
   },
   "outputs": [],
   "source": [
    "tidy_df.groupby(\"Version\").nunique()"
   ]
  },
  {
   "cell_type": "code",
   "execution_count": null,
   "id": "685178dc-545c-402e-bad6-6b0173da2bfb",
   "metadata": {
    "tags": []
   },
   "outputs": [],
   "source": [
    "tidy_df.groupby(\"Version\").apply(lambda x: x.isna().sum())"
   ]
  },
  {
   "cell_type": "code",
   "execution_count": null,
   "id": "f2526c55-6163-4617-84cf-3747481a40db",
   "metadata": {
    "tags": []
   },
   "outputs": [],
   "source": [
    "set(tidy_df.Complex_ID) - set(outer_info.Complex_ID)"
   ]
  },
  {
   "cell_type": "code",
   "execution_count": null,
   "id": "f496dbbc-9588-40f0-9482-7ca7873cf520",
   "metadata": {
    "tags": []
   },
   "outputs": [],
   "source": [
    "set(outer_info.Complex_ID) - set(tidy_df.Complex_ID)"
   ]
  },
  {
   "cell_type": "code",
   "execution_count": null,
   "id": "c00c683f-15de-4e12-b1d0-9434ab3da456",
   "metadata": {
    "tags": []
   },
   "outputs": [],
   "source": [
    "merged = pd.merge(tidy_df, compound_info_with_tc, on=\"Complex_ID\")"
   ]
  },
  {
   "cell_type": "code",
   "execution_count": null,
   "id": "14632134-122f-4480-aafa-f5c939aa2472",
   "metadata": {
    "tags": []
   },
   "outputs": [],
   "source": [
    "merged.nunique()"
   ]
  },
  {
   "cell_type": "code",
   "execution_count": null,
   "id": "2fb733cc-165d-4df0-a0cc-e0aa885c06be",
   "metadata": {
    "tags": []
   },
   "outputs": [],
   "source": [
    "np.shape(merged)"
   ]
  },
  {
   "cell_type": "code",
   "execution_count": null,
   "id": "52b09e2e-d991-4320-bc06-5bbc4f4dc26b",
   "metadata": {
    "tags": []
   },
   "outputs": [],
   "source": [
    "merged.to_csv(local_analysis / \"20230611-combined.csv\")"
   ]
  },
  {
   "cell_type": "code",
   "execution_count": null,
   "id": "df2ecd6b-7f1f-45a9-813a-677901155d0f",
   "metadata": {},
   "outputs": [],
   "source": []
  }
 ],
 "metadata": {
  "kernelspec": {
   "display_name": "Python 3 (ipykernel)",
   "language": "python",
   "name": "python3"
  },
  "language_info": {
   "codemirror_mode": {
    "name": "ipython",
    "version": 3
   },
   "file_extension": ".py",
   "mimetype": "text/x-python",
   "name": "python",
   "nbconvert_exporter": "python",
   "pygments_lexer": "ipython3",
   "version": "3.9.16"
  }
 },
 "nbformat": 4,
 "nbformat_minor": 5
}