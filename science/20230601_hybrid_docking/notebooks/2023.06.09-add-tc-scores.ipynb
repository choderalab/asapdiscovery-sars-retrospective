{
 "cells": [
  {
   "cell_type": "markdown",
   "id": "f91b16dd-a27f-4382-95fd-d4a1c8b2fa39",
   "metadata": {
    "pycharm": {
     "is_executing": true
    }
   },
   "source": [
    "# Imports"
   ]
  },
  {
   "cell_type": "code",
   "execution_count": null,
   "id": "adf5f8ab-b440-42c2-ad31-6e4e25346d80",
   "metadata": {
    "tags": []
   },
   "outputs": [],
   "source": [
    "from pathlib import Path\n",
    "from asapdiscovery.data.openeye import load_openeye_sdfs, oechem, save_openeye_sdfs\n",
    "from asapdiscovery.data.fragalysis import parse_fragalysis\n",
    "import numpy as np\n",
    "import pandas as pd, numpy as np\n",
    "import plotly.express as px\n",
    "from datetime import datetime\n",
    "from tqdm.notebook import tqdm\n",
    "from asapdiscovery.docking.analysis import DockingResults\n",
    "import asapdiscovery.data.openeye as oe\n",
    "import asapdiscovery.modeling.cheminformatics as ci\n",
    "from importlib import reload"
   ]
  },
  {
   "cell_type": "markdown",
   "id": "eb703fe1-12c8-4044-9885-f1168306f234",
   "metadata": {},
   "source": [
    "# Load Paths"
   ]
  },
  {
   "cell_type": "code",
   "execution_count": null,
   "id": "3d042220-e954-4817-84bb-b2153c255c86",
   "metadata": {
    "tags": []
   },
   "outputs": [],
   "source": [
    "import sys\n",
    "sys.path.append(str(Path(\"../../../\").resolve()))\n",
    "from software.paths import paths"
   ]
  },
  {
   "cell_type": "code",
   "execution_count": null,
   "id": "79674610-a225-43bc-8a4d-7dd4f2bf1b82",
   "metadata": {
    "tags": []
   },
   "outputs": [],
   "source": [
    "csv_path = paths.sars_hybrid / \"results_cleaned.csv\""
   ]
  },
  {
   "cell_type": "code",
   "execution_count": null,
   "id": "62cc7254-311c-4d3a-b162-15eb42063eb1",
   "metadata": {
    "tags": []
   },
   "outputs": [],
   "source": [
    "df = pd.read_csv(csv_path)"
   ]
  },
  {
   "cell_type": "markdown",
   "id": "df9acd54-0f39-4034-b559-31dbb8351eeb",
   "metadata": {},
   "source": [
    "# load mols"
   ]
  },
  {
   "cell_type": "code",
   "execution_count": null,
   "id": "4813fd16-95b3-4903-aa3b-64eeab33d8b4",
   "metadata": {
    "tags": []
   },
   "outputs": [],
   "source": [
    "sdfs = load_openeye_sdfs(str(paths.combined_p_only_sdf))"
   ]
  },
  {
   "cell_type": "markdown",
   "id": "50333046-9601-4adc-b207-e565838a3465",
   "metadata": {},
   "source": [
    "# Calculate Tanimoto"
   ]
  },
  {
   "cell_type": "code",
   "execution_count": null,
   "id": "1113b911-1cef-4aec-bf6e-3574fb7a0311",
   "metadata": {
    "tags": []
   },
   "outputs": [],
   "source": [
    "reload(ci)"
   ]
  },
  {
   "cell_type": "code",
   "execution_count": null,
   "id": "edbc0600-6547-442d-aa05-45dada8c1dd1",
   "metadata": {
    "tags": []
   },
   "outputs": [],
   "source": [
    "tc_df = ci.get_n_to_n_tanimoto(sdfs, sdfs)"
   ]
  },
  {
   "cell_type": "code",
   "execution_count": null,
   "id": "81e90c5f-ec1b-4f6b-8b07-9ba3f7174298",
   "metadata": {
    "tags": []
   },
   "outputs": [],
   "source": [
    "self_tc = tc_df[tc_df.Compound_ID == tc_df.Reference_Ligand]"
   ]
  },
  {
   "cell_type": "code",
   "execution_count": null,
   "id": "57333f20-ef55-4c0b-b124-9c1645a35373",
   "metadata": {
    "tags": []
   },
   "outputs": [],
   "source": [
    "sum(self_tc.TanimotoCombo == 2.0)"
   ]
  },
  {
   "cell_type": "code",
   "execution_count": null,
   "id": "f575b43f-1dc4-4d2c-be8a-a829d4db8f9b",
   "metadata": {},
   "outputs": [],
   "source": [
    "flipped = pd.DataFrame({\"Compound_ID\":tc_df.Reference_Ligand, \"Reference_Ligand\":tc_df.Compound_ID, \"TanimotoCombo\":tc_df.TanimotoCombo})"
   ]
  },
  {
   "cell_type": "code",
   "execution_count": null,
   "id": "8912b37b-f212-47f6-bf45-6b191995d954",
   "metadata": {},
   "outputs": [],
   "source": [
    "merged = pd.merge(tc_df, flipped, on=[\"Compound_ID\", \"Reference_Ligand\"])"
   ]
  },
  {
   "cell_type": "code",
   "execution_count": null,
   "id": "dc61f22e-f2d8-4a54-8315-d8cb7afb5c49",
   "metadata": {
    "tags": []
   },
   "outputs": [],
   "source": [
    "px.histogram(merged.TanimotoCombo_x - merged.TanimotoCombo_y)"
   ]
  },
  {
   "cell_type": "code",
   "execution_count": null,
   "id": "e35370d4-3f47-4603-a122-2590c982c709",
   "metadata": {
    "tags": []
   },
   "outputs": [],
   "source": [
    "px.scatter(flipped, x=\"Reference_Ligand\", y=\"Compound_ID\", color=\"TanimotoCombo\")"
   ]
  },
  {
   "cell_type": "markdown",
   "id": "828578c2-4ef9-4706-bdaa-f598d1b758df",
   "metadata": {},
   "source": [
    "# Add to main df"
   ]
  },
  {
   "cell_type": "code",
   "execution_count": null,
   "id": "4c3541a2-bd24-4d21-88a2-f4578614b38e",
   "metadata": {
    "tags": []
   },
   "outputs": [],
   "source": [
    "to_save = pd.merge(df, tc_df, on=[\"Compound_ID\", \"Reference_Ligand\"])"
   ]
  },
  {
   "cell_type": "code",
   "execution_count": null,
   "id": "61ad982f-e9f7-4fe6-a7fc-2c2e3ea3d0ae",
   "metadata": {
    "tags": []
   },
   "outputs": [],
   "source": [
    "to_save = to_save.drop(columns=\"Unnamed: 0\")"
   ]
  },
  {
   "cell_type": "code",
   "execution_count": null,
   "id": "3e3fbd62-e289-4aa4-b50b-361b41d1b517",
   "metadata": {
    "tags": []
   },
   "outputs": [],
   "source": [
    "to_save.to_csv(csv_path.parent / \"results_cleaned_tc_scores.csv\")"
   ]
  },
  {
   "cell_type": "code",
   "execution_count": null,
   "id": "937566b0-64bc-4bf3-b3aa-a0527de2e3ef",
   "metadata": {
    "tags": []
   },
   "outputs": [],
   "source": [
    "out = csv_path.parent / \"results_cleaned_tc_scores.csv\""
   ]
  },
  {
   "cell_type": "code",
   "execution_count": null,
   "id": "c5553386-fb19-4f69-ba3c-7894ea3aeb32",
   "metadata": {
    "tags": []
   },
   "outputs": [],
   "source": [
    "out"
   ]
  },
  {
   "cell_type": "code",
   "execution_count": null,
   "id": "82014075-3511-4e00-bf61-a2dd65889b6c",
   "metadata": {},
   "outputs": [],
   "source": []
  }
 ],
 "metadata": {
  "kernelspec": {
   "display_name": "Python 3 (ipykernel)",
   "language": "python",
   "name": "python3"
  },
  "language_info": {
   "codemirror_mode": {
    "name": "ipython",
    "version": 3
   },
   "file_extension": ".py",
   "mimetype": "text/x-python",
   "name": "python",
   "nbconvert_exporter": "python",
   "pygments_lexer": "ipython3",
   "version": "3.10.13"
  }
 },
 "nbformat": 4,
 "nbformat_minor": 5
}
