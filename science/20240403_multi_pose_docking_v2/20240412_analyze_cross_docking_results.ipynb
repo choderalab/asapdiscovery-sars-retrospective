{
 "cells": [
  {
   "cell_type": "markdown",
   "id": "8b6db209-0f26-48a3-87a8-a1615a152320",
   "metadata": {},
   "source": [
    "# Imports"
   ]
  },
  {
   "cell_type": "code",
   "execution_count": null,
   "id": "ba7c1b68-a4dd-45af-a117-9de7ebfab7dc",
   "metadata": {},
   "outputs": [],
   "source": [
    "from pathlib import Path\n",
    "from tqdm import tqdm"
   ]
  },
  {
   "cell_type": "code",
   "execution_count": null,
   "id": "783bb39a-6189-4b4b-84ac-4f91fdc5e809",
   "metadata": {},
   "outputs": [],
   "source": [
    "from asapdiscovery.data.schema.ligand import Ligand\n",
    "from asapdiscovery.data.backend.openeye import load_openeye_sdfs"
   ]
  },
  {
   "cell_type": "markdown",
   "id": "77b75276-7711-4f8c-8b4c-145ef579c834",
   "metadata": {},
   "source": [
    "# Define Paths"
   ]
  },
  {
   "cell_type": "code",
   "execution_count": null,
   "id": "ac71f408-a478-46c8-abac-6ff634e5d400",
   "metadata": {},
   "outputs": [],
   "source": [
    "data_path = Path(\"/lila/data/chodera/asap-datasets/retro_docking/sars_fragalysis_retrospective/20240403_multi_pose_docking_cross_docking\")"
   ]
  },
  {
   "cell_type": "code",
   "execution_count": null,
   "id": "80a82092-e3d7-4533-83a1-3910ceb3c701",
   "metadata": {},
   "outputs": [],
   "source": [
    "sdf_paths = list(data_path.glob(\"*.sdf/docking_results/*/*.sdf\"))"
   ]
  },
  {
   "cell_type": "code",
   "execution_count": null,
   "id": "abd74dc9-c3df-4749-89c6-2fd63b9f392a",
   "metadata": {},
   "outputs": [],
   "source": [
    "len(sdf_paths)"
   ]
  },
  {
   "cell_type": "markdown",
   "id": "76d5cc8b-b9ad-44a4-b4c5-73e99893b061",
   "metadata": {},
   "source": [
    "# How many were successful?"
   ]
  },
  {
   "cell_type": "markdown",
   "id": "de1a7bed-04d6-4af7-b669-4855d9623f3f",
   "metadata": {},
   "source": [
    "There should be 205*204 = 41,820 docked structures, but only 37637 were successful"
   ]
  },
  {
   "cell_type": "code",
   "execution_count": null,
   "id": "7f542551-1c58-4199-8767-7dac3f59017e",
   "metadata": {},
   "outputs": [],
   "source": [
    "multipose_ligs = [Ligand.from_sdf(sdf_path) for sdf_path in tqdm(sdf_paths)]"
   ]
  },
  {
   "cell_type": "code",
   "execution_count": null,
   "id": "658471a6-e6e2-4b0b-9221-8193b560512c",
   "metadata": {},
   "outputs": [],
   "source": [
    "multipose_ligs[0]"
   ]
  },
  {
   "cell_type": "code",
   "execution_count": null,
   "id": "50470324-80c0-43bf-87b5-829b000a619d",
   "metadata": {},
   "outputs": [],
   "source": [
    "for lig in multipose_ligs:\n",
    "    if lig.conf_tags.get(\"Alternate Pose\"):\n",
    "\n",
    "        lig.conf_tags.update({\"Alternate Pose\": [0] + lig.conf_tags.get(\"Alternate Pose\")})\n",
    "    else:\n",
    "        lig.conf_tags.update({\"Alternate Pose\": [0]})\n",
    "    lig.tags.update({\"Alternate Pose\": 0})"
   ]
  },
  {
   "cell_type": "code",
   "execution_count": null,
   "id": "939c840b-363c-4426-a838-849c929704ec",
   "metadata": {},
   "outputs": [],
   "source": [
    "n_poses = [lig.num_poses for lig in multipose_ligs]"
   ]
  },
  {
   "cell_type": "markdown",
   "id": "ad373f17-0c85-402f-a0e8-08486ad7030f",
   "metadata": {},
   "source": [
    "# Save Combined Results"
   ]
  },
  {
   "cell_type": "code",
   "execution_count": null,
   "id": "a107f27a-fac9-48bf-9498-767e2293421c",
   "metadata": {},
   "outputs": [],
   "source": [
    "out_dir = data_path / \"processed_sdfs\""
   ]
  },
  {
   "cell_type": "code",
   "execution_count": null,
   "id": "95a60450-4b79-4d2e-972f-c7ea01c289e3",
   "metadata": {},
   "outputs": [],
   "source": [
    "out_dir.mkdir()"
   ]
  },
  {
   "cell_type": "code",
   "execution_count": null,
   "id": "e708255e-bebf-4c0a-833e-5e1d75a1b675",
   "metadata": {},
   "outputs": [],
   "source": [
    "for lig in multipose_ligs:\n",
    "    lig.to_sdf(out_dir / f\"{lig.compound_name}.sdf\")"
   ]
  }
 ],
 "metadata": {
  "kernelspec": {
   "display_name": "Python [conda env:asapdiscovery]",
   "language": "python",
   "name": "conda-env-asapdiscovery-py"
  },
  "language_info": {
   "codemirror_mode": {
    "name": "ipython",
    "version": 3
   },
   "file_extension": ".py",
   "mimetype": "text/x-python",
   "name": "python",
   "nbconvert_exporter": "python",
   "pygments_lexer": "ipython3",
   "version": "3.10.13"
  }
 },
 "nbformat": 4,
 "nbformat_minor": 5
}
