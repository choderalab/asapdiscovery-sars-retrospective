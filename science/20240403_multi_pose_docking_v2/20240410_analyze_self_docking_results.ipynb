{
 "cells": [
  {
   "cell_type": "markdown",
   "id": "8e19a2c3-7743-4f3d-bb78-9184fab6f996",
   "metadata": {},
   "source": [
    "# Imports"
   ]
  },
  {
   "cell_type": "code",
   "execution_count": null,
   "id": "723e88df-d1a1-4600-a224-34f5c7b340f9",
   "metadata": {},
   "outputs": [],
   "source": [
    "from pathlib import Path\n",
    "from tqdm import tqdm"
   ]
  },
  {
   "cell_type": "code",
   "execution_count": null,
   "id": "58fa26a9-97df-4a88-a6ba-7a45fc321c5d",
   "metadata": {},
   "outputs": [],
   "source": [
    "from asapdiscovery.data.schema.ligand import Ligand\n",
    "from asapdiscovery.data.backend.openeye import load_openeye_sdfs"
   ]
  },
  {
   "cell_type": "markdown",
   "id": "d8cfee5c-a923-4be5-b91d-65b01cee52ee",
   "metadata": {},
   "source": [
    "# Define Paths"
   ]
  },
  {
   "cell_type": "code",
   "execution_count": null,
   "id": "3a19474b-dddd-4007-bf34-0602094dfbbc",
   "metadata": {},
   "outputs": [],
   "source": [
    "data_path = Path(\"/lila/data/chodera/asap-datasets/retro_docking/sars_fragalysis_retrospective/20240403_multi_pose_docking_self_docking\")"
   ]
  },
  {
   "cell_type": "markdown",
   "id": "1483559a-a28c-48df-a1dc-ea5a56426519",
   "metadata": {},
   "source": [
    "# combine results"
   ]
  },
  {
   "cell_type": "code",
   "execution_count": null,
   "id": "55bb907b-11cd-4538-b8ea-a98d83f9d6a7",
   "metadata": {},
   "outputs": [],
   "source": [
    "sdf_paths = list(data_path.glob(\"*.sdf/docking_results.sdf\"))"
   ]
  },
  {
   "cell_type": "code",
   "execution_count": null,
   "id": "2a426dd8-5faa-492e-b14e-e0046a60ae51",
   "metadata": {},
   "outputs": [],
   "source": [
    "multipose_ligs = [Ligand.from_sdf(sdf_path) for sdf_path in sdf_paths]"
   ]
  },
  {
   "cell_type": "code",
   "execution_count": null,
   "id": "71576e1e-5b65-42f7-be44-00bebd975f0b",
   "metadata": {},
   "outputs": [],
   "source": [
    "multipose_ligs[0].num_poses"
   ]
  },
  {
   "cell_type": "code",
   "execution_count": null,
   "id": "261659ba-3995-4b25-a7a0-bfd893149107",
   "metadata": {},
   "outputs": [],
   "source": [
    "len(multipose_ligs[0].conf_tags[\"docking-confidence-POSIT\"])"
   ]
  },
  {
   "cell_type": "code",
   "execution_count": null,
   "id": "9eaedb57-819f-400f-82e2-5edd92b3d156",
   "metadata": {},
   "outputs": [],
   "source": [
    "test_lig = multipose_ligs[0]"
   ]
  },
  {
   "cell_type": "code",
   "execution_count": null,
   "id": "ffb7134d-3475-4818-b85f-51bb88080345",
   "metadata": {},
   "outputs": [],
   "source": [
    "alt_poses = test_lig.conf_tags.pop(\"Alternate Pose\")"
   ]
  },
  {
   "cell_type": "code",
   "execution_count": null,
   "id": "6dde44d9-204e-4b92-a448-84a8a324fc86",
   "metadata": {},
   "outputs": [],
   "source": [
    "len(alt_poses)"
   ]
  },
  {
   "cell_type": "code",
   "execution_count": null,
   "id": "33e7d290-3a3e-4b43-b33d-8e51ad60a8f4",
   "metadata": {},
   "outputs": [],
   "source": [
    "test_lig.conf_tags.update({\"Alternate Pose\": [1] + alt_poses})"
   ]
  },
  {
   "cell_type": "code",
   "execution_count": null,
   "id": "b7ee0fef-2700-47e4-add2-aabce016b0e2",
   "metadata": {},
   "outputs": [],
   "source": [
    "test_lig.num_poses"
   ]
  },
  {
   "cell_type": "code",
   "execution_count": null,
   "id": "f335dfba-c832-45c6-8eb7-156d1a113205",
   "metadata": {
    "tags": []
   },
   "outputs": [],
   "source": [
    "test_lig.conf_tags"
   ]
  },
  {
   "cell_type": "markdown",
   "id": "755dd89f-abae-47b1-bb52-c1cc2459a970",
   "metadata": {},
   "source": [
    "## for this to work i'll need to make sure where the alternate poses counting starts"
   ]
  },
  {
   "cell_type": "code",
   "execution_count": null,
   "id": "f841e97a-a4c6-4a91-9f36-177fc53993ee",
   "metadata": {},
   "outputs": [],
   "source": [
    "alt_pose_possibilities = [lig.conf_tags.get(\"Alternate Pose\") for lig in multipose_ligs]"
   ]
  },
  {
   "cell_type": "code",
   "execution_count": null,
   "id": "a427f875-9e56-4950-a5ba-3828b4a4d95a",
   "metadata": {
    "tags": []
   },
   "outputs": [],
   "source": [
    "alt_pose_possibilities"
   ]
  },
  {
   "cell_type": "markdown",
   "id": "9117ac44-2701-4bd4-b219-dfd67ad3bccc",
   "metadata": {},
   "source": [
    "## starts at 1! so I'll add 0"
   ]
  },
  {
   "cell_type": "code",
   "execution_count": null,
   "id": "97d8f715-7d0f-4f75-98f4-90294972aa45",
   "metadata": {},
   "outputs": [],
   "source": [
    "sdf_paths = list(data_path.glob(\"*.sdf/docking_results.sdf\"))"
   ]
  },
  {
   "cell_type": "code",
   "execution_count": null,
   "id": "79dac7bc-dcb2-4b51-9bb8-0994eea72aec",
   "metadata": {},
   "outputs": [],
   "source": [
    "multipose_ligs = [Ligand.from_sdf(sdf_path) for sdf_path in sdf_paths]"
   ]
  },
  {
   "cell_type": "code",
   "execution_count": null,
   "id": "8a6bc368-7949-4770-8bde-ddbdbadfa573",
   "metadata": {},
   "outputs": [],
   "source": [
    "for lig in multipose_ligs:\n",
    "    if lig.conf_tags.get(\"Alternate Pose\"):\n",
    "\n",
    "        lig.conf_tags.update({\"Alternate Pose\": [0] + lig.conf_tags.get(\"Alternate Pose\")})\n",
    "    else:\n",
    "        lig.conf_tags.update({\"Alternate Pose\": [0]})\n",
    "    lig.tags.update({\"Alternate Pose\": 0})"
   ]
  },
  {
   "cell_type": "code",
   "execution_count": null,
   "id": "4edbcd8c-09f0-47b3-bee7-7b9b7ad9545c",
   "metadata": {},
   "outputs": [],
   "source": [
    "n_poses = [lig.num_poses for lig in multipose_ligs]"
   ]
  },
  {
   "cell_type": "markdown",
   "id": "10428393-5df5-4ad6-9405-0e4da8720bd2",
   "metadata": {},
   "source": [
    "# Save Combined Results"
   ]
  },
  {
   "cell_type": "code",
   "execution_count": null,
   "id": "d871e6bd-6c49-448f-97a1-fec87ab28b65",
   "metadata": {},
   "outputs": [],
   "source": [
    "out_dir = data_path / \"processed_sdfs\""
   ]
  },
  {
   "cell_type": "code",
   "execution_count": null,
   "id": "0009e70e-8d99-4d3a-b2de-833de1cf3661",
   "metadata": {},
   "outputs": [],
   "source": [
    "out_dir.mkdir()"
   ]
  },
  {
   "cell_type": "code",
   "execution_count": null,
   "id": "04c6dfc3-88fd-4921-9deb-3be5d56ba04a",
   "metadata": {},
   "outputs": [],
   "source": [
    "for lig in multipose_ligs:\n",
    "    lig.to_sdf(out_dir / f\"{lig.compound_name}.sdf\")"
   ]
  },
  {
   "cell_type": "code",
   "execution_count": null,
   "id": "3468896a-c2d0-4913-b021-337de524c226",
   "metadata": {},
   "outputs": [],
   "source": [
    "from asapdiscovery.docking.analysis import calculate_rmsd_openeye"
   ]
  },
  {
   "cell_type": "code",
   "execution_count": null,
   "id": "abb246dd-5c48-464f-a5c8-c8840dddcf5a",
   "metadata": {},
   "outputs": [],
   "source": [
    "orig_ligs = [Ligand.from_oemol(mol) for mol in load_openeye_sdfs(Path(\"/data/chodera/asap-datasets/mpro_fragalysis-04-01-24_curated_cache/combined_3d.sdf\"))]\n",
    "orig_lig_dict = {lig.compound_name: lig for lig in orig_ligs}"
   ]
  },
  {
   "cell_type": "code",
   "execution_count": null,
   "id": "0595a4ee-6e2e-4cb0-987d-6968f7ae0394",
   "metadata": {},
   "outputs": [],
   "source": [
    "pose_rmsds = []\n",
    "for pose in lig.to_single_conformers():\n",
    "    pose_rmsds.append(calculate_rmsd_openeye(orig_lig_dict[pose.compound_name].to_oemol(), pose.to_oemol()))"
   ]
  },
  {
   "cell_type": "code",
   "execution_count": null,
   "id": "2a063943-48d7-45bb-a37d-9c8fa612d56e",
   "metadata": {},
   "outputs": [],
   "source": [
    "pose_rmsds"
   ]
  },
  {
   "cell_type": "code",
   "execution_count": null,
   "id": "a877a4e2-0973-4757-966c-6560875059f0",
   "metadata": {},
   "outputs": [],
   "source": [
    "rmsds = []\n",
    "lig_name = []\n",
    "pose_num = []\n",
    "for lig in tqdm(multipose_ligs):\n",
    "    for i, pose in enumerate(lig.to_single_conformers()):\n",
    "        rmsds.append(calculate_rmsd_openeye(orig_lig_dict[pose.compound_name].to_oemol(), pose.to_oemol()))\n",
    "        lig_name.append(pose.compound_name)\n",
    "        pose_num.append(i)"
   ]
  },
  {
   "cell_type": "code",
   "execution_count": null,
   "id": "8aa30767-4140-4a78-b72e-dad8f4b4a83c",
   "metadata": {},
   "outputs": [],
   "source": [
    "import pandas as pd"
   ]
  },
  {
   "cell_type": "code",
   "execution_count": null,
   "id": "55f86cc1-9596-4c60-b0c8-ee695e9036c9",
   "metadata": {},
   "outputs": [],
   "source": [
    "df = pd.DataFrame({\"RMSD\": rmsds, \"Compound_Name\":lig_name, \"Pose_ID\":pose_num})"
   ]
  },
  {
   "cell_type": "code",
   "execution_count": null,
   "id": "1a1eaa72-2c8f-4d95-991b-ad3d6e7c6629",
   "metadata": {},
   "outputs": [],
   "source": [
    "import plotly.express as px"
   ]
  },
  {
   "cell_type": "code",
   "execution_count": null,
   "id": "4bb0bd2a-9753-4847-a34d-4f4138cf735d",
   "metadata": {},
   "outputs": [],
   "source": [
    "fig = px.line(df, x=\"Pose_ID\", y=\"RMSD\", color=\"Compound_Name\")"
   ]
  },
  {
   "cell_type": "code",
   "execution_count": null,
   "id": "0405cfa1-dcb1-4444-bd1f-df54ce072fea",
   "metadata": {},
   "outputs": [],
   "source": [
    "fig.write_image(\"self_docked_rmsds.png\")\n",
    "fig.write_image(\"self_docked_rmsds.svg\")"
   ]
  },
  {
   "cell_type": "code",
   "execution_count": null,
   "id": "49f5de96-86ad-4376-b797-0d9c8e12750e",
   "metadata": {},
   "outputs": [],
   "source": [
    "df.to_csv(\"self_docked_rmsds.csv\")"
   ]
  },
  {
   "cell_type": "code",
   "execution_count": null,
   "id": "e15cea08-d6f5-4edc-be49-2bb8440d3133",
   "metadata": {},
   "outputs": [],
   "source": []
  }
 ],
 "metadata": {
  "kernelspec": {
   "display_name": "Python [conda env:asapdiscovery]",
   "language": "python",
   "name": "conda-env-asapdiscovery-py"
  },
  "language_info": {
   "codemirror_mode": {
    "name": "ipython",
    "version": 3
   },
   "file_extension": ".py",
   "mimetype": "text/x-python",
   "name": "python",
   "nbconvert_exporter": "python",
   "pygments_lexer": "ipython3",
   "version": "3.10.13"
  }
 },
 "nbformat": 4,
 "nbformat_minor": 5
}
