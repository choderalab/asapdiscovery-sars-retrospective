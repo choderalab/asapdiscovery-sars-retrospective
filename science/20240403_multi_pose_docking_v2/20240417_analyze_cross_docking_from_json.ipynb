{
 "cells": [
  {
   "cell_type": "markdown",
   "id": "4ae52cff-2aad-49ec-b849-d8372743b637",
   "metadata": {},
   "source": [
    "# Goal"
   ]
  },
  {
   "cell_type": "markdown",
   "id": "fe6ad0d7-31fc-40dd-ad86-b91d27e55145",
   "metadata": {},
   "source": [
    "Instead of analyzing the results by first loading in the molecules, try using the POSIT results objects"
   ]
  },
  {
   "cell_type": "markdown",
   "id": "701cce54-ce44-4e8f-b5a2-eaaea9f3196a",
   "metadata": {},
   "source": [
    "# Imports"
   ]
  },
  {
   "cell_type": "code",
   "execution_count": null,
   "id": "e51a9b21-a196-4592-aade-b818f33145b5",
   "metadata": {},
   "outputs": [],
   "source": [
    "from pathlib import Path\n",
    "from tqdm import tqdm"
   ]
  },
  {
   "cell_type": "code",
   "execution_count": null,
   "id": "698d6456-bfc1-4469-a4c7-9145ebf2d22b",
   "metadata": {},
   "outputs": [],
   "source": [
    "from asapdiscovery.docking.openeye import POSITDockingResults"
   ]
  },
  {
   "cell_type": "markdown",
   "id": "8ff5e215-1887-4ba4-899d-9c9ca13eec41",
   "metadata": {},
   "source": [
    "# Define Paths"
   ]
  },
  {
   "cell_type": "code",
   "execution_count": null,
   "id": "b96f898b-12fb-4b23-925a-8b80ecf990b2",
   "metadata": {},
   "outputs": [],
   "source": [
    "data_path = Path(\"/lila/data/chodera/asap-datasets/retro_docking/sars_fragalysis_retrospective/20240403_multi_pose_docking_cross_docking\")"
   ]
  },
  {
   "cell_type": "code",
   "execution_count": null,
   "id": "21ee6553-1987-45ca-ac6a-b91c5b374734",
   "metadata": {},
   "outputs": [],
   "source": [
    "json_paths = list(data_path.glob(\"*.sdf/docking_results/*/docking_result.json\"))"
   ]
  },
  {
   "cell_type": "code",
   "execution_count": null,
   "id": "2e516c07-6083-488f-b8fc-b1d8ea48d6bf",
   "metadata": {},
   "outputs": [],
   "source": [
    "len(json_paths)"
   ]
  },
  {
   "cell_type": "code",
   "execution_count": null,
   "id": "fea3494a-7996-4cae-8d22-486d8e0ecbb8",
   "metadata": {},
   "outputs": [],
   "source": [
    "test_res = POSITDockingResults.from_json_file(json_paths[0])"
   ]
  },
  {
   "cell_type": "code",
   "execution_count": null,
   "id": "4eed5927-d3d0-44a0-8157-5cfd04a42892",
   "metadata": {},
   "outputs": [],
   "source": [
    "test_res.posed_ligand.data"
   ]
  },
  {
   "cell_type": "code",
   "execution_count": null,
   "id": "470b33b7-dc80-4b7d-85c9-a87e81196809",
   "metadata": {},
   "outputs": [],
   "source": [
    "test_res"
   ]
  },
  {
   "cell_type": "code",
   "execution_count": null,
   "id": "2f3d5775-3d58-4ade-a9cf-8449a87fe19b",
   "metadata": {},
   "outputs": [],
   "source": []
  }
 ],
 "metadata": {
  "kernelspec": {
   "display_name": "Python [conda env:asapdiscovery]",
   "language": "python",
   "name": "conda-env-asapdiscovery-py"
  },
  "language_info": {
   "codemirror_mode": {
    "name": "ipython",
    "version": 3
   },
   "file_extension": ".py",
   "mimetype": "text/x-python",
   "name": "python",
   "nbconvert_exporter": "python",
   "pygments_lexer": "ipython3",
   "version": "3.10.13"
  }
 },
 "nbformat": 4,
 "nbformat_minor": 5
}
