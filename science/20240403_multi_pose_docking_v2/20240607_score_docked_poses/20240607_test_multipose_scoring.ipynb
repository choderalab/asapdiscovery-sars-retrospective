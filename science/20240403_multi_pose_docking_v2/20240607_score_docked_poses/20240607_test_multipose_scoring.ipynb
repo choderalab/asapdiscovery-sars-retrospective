{
 "cells": [
  {
   "cell_type": "code",
   "execution_count": null,
   "id": "initial_id",
   "metadata": {
    "collapsed": true
   },
   "outputs": [],
   "source": [
    "from asapdiscovery.docking.openeye import POSITDockingResults\n",
    "from pathlib import Path"
   ]
  },
  {
   "cell_type": "code",
   "outputs": [],
   "source": [
    "results_path = Path(\"/Users/alexpayne/Scientific_Projects/mers-drug-discovery/sars2-retrospective-analysis/20240424_multi_pose_docking_cross_docking/example_results/Mpro-P0008_0A-bf628f9fb30354e55f22d931086710f76af6d325c34c9eee9a6064ba43305dfa+SNQHLYWSRJDLGK-DHKJJFSMNA-N_EDG-MED-5d232de5-6-NIZLDWOVHDTVKM-ZJHKTUGWNA-N\") "
   ],
   "metadata": {
    "collapsed": false
   },
   "id": "c451fccd5df4656",
   "execution_count": null
  },
  {
   "cell_type": "code",
   "outputs": [],
   "source": [
    "results = POSITDockingResults.from_json_file(results_path / \"docking_result.json\")"
   ],
   "metadata": {
    "collapsed": false
   },
   "id": "22e9b31f46dbdd36",
   "execution_count": null
  },
  {
   "cell_type": "code",
   "outputs": [],
   "source": [
    "results"
   ],
   "metadata": {
    "collapsed": false
   },
   "id": "787d4ca240860f18",
   "execution_count": null
  },
  {
   "cell_type": "code",
   "outputs": [],
   "source": [
    "from asapdiscovery.docking.scorer import ChemGauss4Scorer"
   ],
   "metadata": {
    "collapsed": false
   },
   "id": "773995cd070465d2",
   "execution_count": null
  },
  {
   "cell_type": "code",
   "outputs": [],
   "source": [
    "scorer = ChemGauss4Scorer()"
   ],
   "metadata": {
    "collapsed": false
   },
   "id": "e7122af170a5bcb2",
   "execution_count": null
  },
  {
   "cell_type": "code",
   "outputs": [],
   "source": [
    "score = scorer.score([results])"
   ],
   "metadata": {
    "collapsed": false
   },
   "id": "7da186a074a7a408",
   "execution_count": null
  },
  {
   "cell_type": "code",
   "outputs": [],
   "source": [
    "score = score[0]"
   ],
   "metadata": {
    "collapsed": false
   },
   "id": "f172b80c3aad2600",
   "execution_count": null
  },
  {
   "cell_type": "code",
   "outputs": [],
   "source": [
    "score.dict().keys()"
   ],
   "metadata": {
    "collapsed": false
   },
   "id": "64df2c3635c3711e",
   "execution_count": null
  },
  {
   "cell_type": "code",
   "outputs": [],
   "source": [
    "from asapdiscovery.data.backend.openeye import oedocking\n",
    "from asapdiscovery.docking.scorer import Score"
   ],
   "metadata": {
    "collapsed": false
   },
   "id": "79df37a210d9a9cd",
   "execution_count": null
  },
  {
   "cell_type": "code",
   "outputs": [],
   "source": [
    "inp"
   ],
   "metadata": {
    "collapsed": false
   },
   "id": "8c5ff4c11c00aa80",
   "execution_count": null
  },
  {
   "cell_type": "code",
   "outputs": [],
   "source": [
    "inp = results\n",
    "\n",
    "output = []\n",
    "pose_scorer = oedocking.OEScore(oedocking.OEScoreType_Chemgauss4)\n",
    "du = inp.input_pair.complex.target.to_oedu()\n",
    "pose_scorer.Initialize(du)\n",
    "for conf in inp.posed_ligand.to_single_conformers():\n",
    "    chemgauss_score = pose_scorer.ScoreLigand(conf.to_oemol())\n",
    "    output.append(\n",
    "        Score.from_score_and_docking_result(\n",
    "            chemgauss_score, ChemGauss4Scorer.score_type, ChemGauss4Scorer.units, inp\n",
    "        )\n",
    "    )"
   ],
   "metadata": {
    "collapsed": false
   },
   "id": "dc2a6799cbc861c8",
   "execution_count": null
  },
  {
   "cell_type": "code",
   "outputs": [],
   "source": [
    "scores = [score.score for score in output]"
   ],
   "metadata": {
    "collapsed": false
   },
   "id": "7661cece5d2934a9",
   "execution_count": null
  },
  {
   "cell_type": "code",
   "outputs": [],
   "source": [
    "scores"
   ],
   "metadata": {
    "collapsed": false
   },
   "id": "14f7a52dc6c660c5",
   "execution_count": null
  },
  {
   "cell_type": "code",
   "outputs": [],
   "source": [
    "posed_oemol = inp.to_posed_oemol()"
   ],
   "metadata": {
    "collapsed": false
   },
   "id": "bbe3ea082cf5b42d",
   "execution_count": null
  },
  {
   "cell_type": "code",
   "outputs": [],
   "source": [
    "from asapdiscovery.data.backend.openeye import save_openeye_pdb"
   ],
   "metadata": {
    "collapsed": false
   },
   "id": "69d932c45bfd1d87",
   "execution_count": null
  },
  {
   "cell_type": "code",
   "outputs": [],
   "source": [
    "save_openeye_pdb(posed_oemol, \"posed_oemol.pdb\")"
   ],
   "metadata": {
    "collapsed": false
   },
   "id": "440726854c77eba2",
   "execution_count": null
  },
  {
   "cell_type": "code",
   "outputs": [],
   "source": [],
   "metadata": {
    "collapsed": false
   },
   "id": "955abedb169e7558"
  }
 ],
 "metadata": {
  "kernelspec": {
   "display_name": "Python 3",
   "language": "python",
   "name": "python3"
  },
  "language_info": {
   "codemirror_mode": {
    "name": "ipython",
    "version": 2
   },
   "file_extension": ".py",
   "mimetype": "text/x-python",
   "name": "python",
   "nbconvert_exporter": "python",
   "pygments_lexer": "ipython2",
   "version": "2.7.6"
  }
 },
 "nbformat": 4,
 "nbformat_minor": 5
}
