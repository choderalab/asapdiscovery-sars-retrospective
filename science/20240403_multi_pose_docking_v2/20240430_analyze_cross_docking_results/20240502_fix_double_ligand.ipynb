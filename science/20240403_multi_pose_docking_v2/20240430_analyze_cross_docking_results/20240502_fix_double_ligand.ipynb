{
 "cells": [
  {
   "cell_type": "markdown",
   "id": "1a868ceb-8e07-4cbf-8ebf-e4a3563f8bb8",
   "metadata": {},
   "source": [
    "# Imports"
   ]
  },
  {
   "cell_type": "code",
   "execution_count": null,
   "id": "b8b6daf8-916c-49fe-add8-7e11fd609942",
   "metadata": {},
   "outputs": [],
   "source": [
    "from asapdiscovery.data.schema.ligand import Ligand"
   ]
  },
  {
   "cell_type": "code",
   "execution_count": null,
   "id": "e39d961c-0afa-4dd0-a526-7afe999edd29",
   "metadata": {},
   "outputs": [],
   "source": [
    "duplicate_sdf = \"/data/chodera/asap-datasets/mpro_fragalysis-04-01-24_curated_cache/combined_split_2d/203.sdf\""
   ]
  },
  {
   "cell_type": "code",
   "execution_count": null,
   "id": "2cae8f10-d912-4d98-b8d9-3fae71c7ece9",
   "metadata": {},
   "outputs": [],
   "source": [
    "lig = Ligand.from_sdf(duplicate_sdf)"
   ]
  },
  {
   "cell_type": "code",
   "execution_count": null,
   "id": "f756b2b8-6c5a-48bb-8518-ca84a9ad616f",
   "metadata": {},
   "outputs": [],
   "source": [
    "lig.num_poses"
   ]
  },
  {
   "cell_type": "code",
   "execution_count": null,
   "id": "21f697e6-eff3-43b1-90e8-704a552c9a99",
   "metadata": {},
   "outputs": [],
   "source": [
    "lig.to_rdkit()"
   ]
  },
  {
   "cell_type": "code",
   "execution_count": null,
   "id": "99d76c5b-2ba0-4f19-bf7b-88be6a37d828",
   "metadata": {},
   "outputs": [],
   "source": [
    "new_version = Ligand.from_smiles(\"CN(C)C(=O)C[C@]1(CCOc2c1cc(cc2)Cl)C(=O)Nc3cncc4c3cccc4\", compound_name=lig.compound_name, ids = lig.ids, tags = lig.tags, conf_tags = lig.conf_tags)"
   ]
  },
  {
   "cell_type": "code",
   "execution_count": null,
   "id": "20e9ca49-bb55-4f6d-9318-fba27da63628",
   "metadata": {},
   "outputs": [],
   "source": [
    "new_version.to_sdf(duplicate_sdf)"
   ]
  },
  {
   "cell_type": "markdown",
   "id": "29e397c8-8264-4197-93cb-41ce5c538339",
   "metadata": {},
   "source": [
    "# I fixed the 3d version in pymol, so I'll update the sd data here:"
   ]
  },
  {
   "cell_type": "code",
   "execution_count": null,
   "id": "3f50e650-4db9-4518-81ce-f989fcf061fa",
   "metadata": {},
   "outputs": [],
   "source": [
    "lig3d = Ligand.from_sdf(\"/data/chodera/asap-datasets/mpro_fragalysis-04-01-24_curated_cache/combined_split_3d/MAT-POS-5d65ec79-1.sdf\", compound_name=lig.compound_name, ids = lig.ids, tags = lig.tags, conf_tags = lig.conf_tags)"
   ]
  },
  {
   "cell_type": "code",
   "execution_count": null,
   "id": "25097599-9dcd-4df3-90a0-7679ebb49370",
   "metadata": {},
   "outputs": [],
   "source": [
    "lig3d.to_sdf(\"/data/chodera/asap-datasets/mpro_fragalysis-04-01-24_curated_cache/combined_split_3d/203.sdf\")"
   ]
  },
  {
   "cell_type": "markdown",
   "id": "ec819fb5-7082-45ff-ab3c-04d06e33332d",
   "metadata": {},
   "source": [
    "# I'll fixe the combined 3d version as well"
   ]
  },
  {
   "cell_type": "code",
   "execution_count": null,
   "id": "5e52bcb1-0da6-4398-b0fa-2d3dd9b334db",
   "metadata": {},
   "outputs": [],
   "source": [
    "from asapdiscovery.data.readers.molfile import MolFileFactory"
   ]
  },
  {
   "cell_type": "code",
   "execution_count": null,
   "id": "5d888067-82af-457a-8eb7-d1aacb3a0dc8",
   "metadata": {},
   "outputs": [],
   "source": [
    "mff = MolFileFactory(filename=\"/data/chodera/asap-datasets/mpro_fragalysis-04-01-24_curated_cache/combined_3d.sdf\")"
   ]
  },
  {
   "cell_type": "code",
   "execution_count": null,
   "id": "167b7b85-efd4-4a5c-a614-d9e043e59334",
   "metadata": {},
   "outputs": [],
   "source": [
    "ligs = mff.load()"
   ]
  },
  {
   "cell_type": "code",
   "execution_count": null,
   "id": "6d52259a-01b1-41ea-8995-ce204ea2eb54",
   "metadata": {},
   "outputs": [],
   "source": [
    "len(ligs)"
   ]
  },
  {
   "cell_type": "code",
   "execution_count": null,
   "id": "a5230498-79d7-4511-8c6a-d298a9843675",
   "metadata": {},
   "outputs": [],
   "source": [
    "ligs = [lig for lig in ligs if not lig.compound_name == \"MAT-POS-5d65ec79-1\"]"
   ]
  },
  {
   "cell_type": "code",
   "execution_count": null,
   "id": "4cf972fc-d5cc-4937-bc29-95b3124e2d98",
   "metadata": {},
   "outputs": [],
   "source": [
    "len(ligs)"
   ]
  },
  {
   "cell_type": "code",
   "execution_count": null,
   "id": "4bc12d74-7f78-43d9-b9e3-eb7a135dd520",
   "metadata": {},
   "outputs": [],
   "source": [
    "ligs += [lig3d]"
   ]
  },
  {
   "cell_type": "code",
   "execution_count": null,
   "id": "8a691c38-d516-44dd-96b0-8ffebc406686",
   "metadata": {},
   "outputs": [],
   "source": [
    "from asapdiscovery.data.schema.ligand import write_ligands_to_multi_sdf"
   ]
  },
  {
   "cell_type": "code",
   "execution_count": null,
   "id": "7eac0a20-af79-48bb-908c-652b4af98ba9",
   "metadata": {},
   "outputs": [],
   "source": [
    "write_ligands_to_multi_sdf(\"/data/chodera/asap-datasets/mpro_fragalysis-04-01-24_curated_cache/combined_3d.sdf\", ligs, overwrite=True)"
   ]
  },
  {
   "cell_type": "code",
   "execution_count": null,
   "id": "098df057-1f64-495a-94a3-2f19030a63e2",
   "metadata": {},
   "outputs": [],
   "source": []
  }
 ],
 "metadata": {
  "kernelspec": {
   "display_name": "Python [conda env:asapdiscovery]",
   "language": "python",
   "name": "conda-env-asapdiscovery-py"
  },
  "language_info": {
   "codemirror_mode": {
    "name": "ipython",
    "version": 3
   },
   "file_extension": ".py",
   "mimetype": "text/x-python",
   "name": "python",
   "nbconvert_exporter": "python",
   "pygments_lexer": "ipython3",
   "version": "3.10.13"
  }
 },
 "nbformat": 4,
 "nbformat_minor": 5
}
