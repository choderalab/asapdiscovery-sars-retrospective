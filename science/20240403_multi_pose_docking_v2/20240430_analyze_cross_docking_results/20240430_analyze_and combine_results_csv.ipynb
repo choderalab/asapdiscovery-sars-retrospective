{
 "cells": [
  {
   "cell_type": "markdown",
   "id": "ad42d961-09ca-4474-9de3-5fd07c17f56a",
   "metadata": {},
   "source": [
    "# Imports"
   ]
  },
  {
   "cell_type": "code",
   "execution_count": null,
   "id": "712ab61d-439e-4f65-89ce-a4cc61cc3c5e",
   "metadata": {},
   "outputs": [],
   "source": [
    "import numpy as np\n",
    "from pathlib import Path\n",
    "import pandas as pd\n",
    "from tqdm import tqdm\n",
    "from asapdiscovery.docking.analysis import calculate_rmsd_openeye\n",
    "from asapdiscovery.data.schema.ligand import Ligand\n",
    "from asapdiscovery.data.readers.molfile import MolFileFactory\n",
    "from asapdiscovery.modeling.protein_prep import ProteinPrepper\n",
    "import plotly.express as px"
   ]
  },
  {
   "cell_type": "markdown",
   "id": "8442754a-9da0-4db1-96da-c904b81cb0ab",
   "metadata": {
    "tags": []
   },
   "source": [
    "# Load Data"
   ]
  },
  {
   "cell_type": "code",
   "execution_count": null,
   "id": "fd475b98-1dbb-46e6-9662-4f0b000a7242",
   "metadata": {},
   "outputs": [],
   "source": [
    "from asapdiscovery.modeling.protein_prep import ProteinPrepper\n",
    "complexes = ProteinPrepper.load_cache(\"/data/chodera/asap-datasets/mpro_fragalysis-04-01-24_curated_cache\")"
   ]
  },
  {
   "cell_type": "code",
   "execution_count": null,
   "id": "935fa3d4-6452-47e5-8948-976905cac0f8",
   "metadata": {},
   "outputs": [],
   "source": [
    "cmpd_to_frag_dict = {c.ligand.compound_name: c.target.target_name for c in complexes}"
   ]
  },
  {
   "cell_type": "code",
   "execution_count": null,
   "id": "45ce55e1-0398-48cc-9cc8-84bf97569874",
   "metadata": {},
   "outputs": [],
   "source": [
    "original_ligand_path = Path(\"/data/chodera/asap-datasets/mpro_fragalysis-04-01-24_curated_cache/combined_3d.sdf\")"
   ]
  },
  {
   "cell_type": "code",
   "execution_count": null,
   "id": "d55f220e-6075-4b55-b9fb-ea2272c26fc2",
   "metadata": {},
   "outputs": [],
   "source": [
    "mff = MolFileFactory(filename=original_ligand_path)\n",
    "ligs = mff.load()"
   ]
  },
  {
   "cell_type": "code",
   "execution_count": null,
   "id": "afd7c05d-7249-4125-98b2-2dcfe008cb84",
   "metadata": {},
   "outputs": [],
   "source": [
    "lig_dict = {lig.compound_name: lig for lig in ligs}"
   ]
  },
  {
   "cell_type": "code",
   "execution_count": null,
   "id": "9da621b4-e910-46f7-8ec0-e6c18030519f",
   "metadata": {},
   "outputs": [],
   "source": [
    "results_paths = list(Path(\"/lila/data/chodera/asap-datasets/retro_docking/sars_fragalysis_retrospective/20240424_multi_pose_docking_cross_docking\").glob(\"*.csv\"))"
   ]
  },
  {
   "cell_type": "code",
   "execution_count": null,
   "id": "165e92dd-b0cc-4da9-bf64-0656af6c292c",
   "metadata": {},
   "outputs": [],
   "source": [
    "dfs = [pd.read_csv(_csv) for _csv in results_paths]"
   ]
  },
  {
   "cell_type": "code",
   "execution_count": null,
   "id": "60fbd07c-c279-4b59-a810-64d9a7c711e4",
   "metadata": {},
   "outputs": [],
   "source": [
    "df = pd.concat(dfs)"
   ]
  },
  {
   "cell_type": "code",
   "execution_count": null,
   "id": "6bf0b94a-3001-456b-af09-36a03c759685",
   "metadata": {},
   "outputs": [],
   "source": [
    "DO_NOT_EDIT = df.copy()"
   ]
  },
  {
   "cell_type": "markdown",
   "id": "f4278dff-5da2-4291-9785-2387469c0693",
   "metadata": {},
   "source": [
    "# Basic Analysis"
   ]
  },
  {
   "cell_type": "markdown",
   "id": "41e288c5-8bbe-48ca-a752-4f879b4b2a19",
   "metadata": {},
   "source": [
    "## What is the distribution of targets included in each ligand"
   ]
  },
  {
   "cell_type": "code",
   "execution_count": null,
   "id": "07f3f358-bba8-4200-bda7-a8bbda8bc5ce",
   "metadata": {},
   "outputs": [],
   "source": [
    "target_distribution = df.groupby([\"Query_Ligand\"]).nunique()"
   ]
  },
  {
   "cell_type": "code",
   "execution_count": null,
   "id": "2cf75665-2213-4e41-85d9-3abfe6110766",
   "metadata": {},
   "outputs": [],
   "source": [
    "fig = px.histogram(target_distribution, x=\"Reference_Ligand\")\n",
    "fig.write_image(\"target_distribution.png\")"
   ]
  },
  {
   "cell_type": "markdown",
   "id": "fcf3922e-9e75-4d02-b837-3cf684d2d86e",
   "metadata": {},
   "source": [
    "# What is the distribution of ligands successfully docked per target?"
   ]
  },
  {
   "cell_type": "code",
   "execution_count": null,
   "id": "ded3b663-a169-4027-b99f-bfd94c53caed",
   "metadata": {},
   "outputs": [],
   "source": [
    "ligand_distribution = df.groupby([\"Reference_Ligand\"]).nunique()"
   ]
  },
  {
   "cell_type": "code",
   "execution_count": null,
   "id": "bc74dc35-031e-4462-90f5-43b58247ac97",
   "metadata": {},
   "outputs": [],
   "source": [
    "fig = px.histogram(ligand_distribution, x=\"Query_Ligand\")\n",
    "fig.write_image(\"ligand_distribution.png\")"
   ]
  },
  {
   "cell_type": "markdown",
   "id": "0c3d3aef-0a60-4c02-9b3c-fc1882b2aa39",
   "metadata": {},
   "source": [
    "## are all targets and ligands represented?"
   ]
  },
  {
   "cell_type": "code",
   "execution_count": null,
   "id": "69a57c3e-ea70-43d5-b8b5-d3a7bb87d35d",
   "metadata": {},
   "outputs": [],
   "source": [
    "original_lig_ids = set(lig_dict.keys())"
   ]
  },
  {
   "cell_type": "code",
   "execution_count": null,
   "id": "37ee397f-85a8-4e3d-a1be-76082f288a7d",
   "metadata": {},
   "outputs": [],
   "source": [
    "original_lig_ids - set(df.Query_Ligand)"
   ]
  },
  {
   "cell_type": "code",
   "execution_count": null,
   "id": "c53bc42f-cc7b-44b9-a84e-971943c3a03a",
   "metadata": {},
   "outputs": [],
   "source": [
    "original_lig_ids - set(df.Reference_Ligand)"
   ]
  },
  {
   "cell_type": "code",
   "execution_count": null,
   "id": "a6961d62-75ff-4003-afff-d7e135ada8de",
   "metadata": {},
   "outputs": [],
   "source": [
    "set(df.Query_Ligand) - set(df.Reference_Ligand)"
   ]
  },
  {
   "cell_type": "code",
   "execution_count": null,
   "id": "4b896bc3-583e-4fa1-a3c8-57677390442e",
   "metadata": {},
   "outputs": [],
   "source": [
    "set(df.Reference_Ligand) - set(df.Query_Ligand)"
   ]
  },
  {
   "cell_type": "markdown",
   "id": "f789decf-a393-413c-9335-d1a2d424f4ea",
   "metadata": {},
   "source": [
    "### so 3 structures are never docked to:\n",
    "'BRU-THA-92256091-17', 'PET-UNK-8df914d1-2', 'RAL-THA-8416115c-13'"
   ]
  },
  {
   "cell_type": "code",
   "execution_count": null,
   "id": "aadcf480-1329-4c44-8614-6d87e07a64c3",
   "metadata": {},
   "outputs": [],
   "source": [
    "missing_refs = [lig_dict[missing] for missing in original_lig_ids - set(df.Reference_Ligand)]"
   ]
  },
  {
   "cell_type": "markdown",
   "id": "0e3fe83e-7f61-4fba-9bc8-6a526d30e3e5",
   "metadata": {},
   "source": [
    "## what pairs are present?"
   ]
  },
  {
   "cell_type": "code",
   "execution_count": null,
   "id": "12ec33a0-a126-4d53-8db0-8662ea7ffc1f",
   "metadata": {},
   "outputs": [],
   "source": [
    "refs = df.Reference_Ligand\n",
    "queries = df.Query_Ligand\n",
    "pairs = {(ref, query) for ref, query in zip(refs,queries)}"
   ]
  },
  {
   "cell_type": "code",
   "execution_count": null,
   "id": "dfc6bb14-0c36-456f-9856-824013ccdb72",
   "metadata": {},
   "outputs": [],
   "source": [
    "len(pairs)"
   ]
  },
  {
   "cell_type": "code",
   "execution_count": null,
   "id": "ffbe6326-6de9-4619-ba2c-f98ddf69264e",
   "metadata": {},
   "outputs": [],
   "source": [
    "\n",
    "possible_pairs = {(ref, query) for ref, query in zip(lig_dict.keys(), lig_dict.keys())}"
   ]
  },
  {
   "cell_type": "code",
   "execution_count": null,
   "id": "1542a4c3-6be7-441b-86d6-f2693d655b74",
   "metadata": {},
   "outputs": [],
   "source": [
    "len(possible_pairs)"
   ]
  },
  {
   "cell_type": "code",
   "execution_count": null,
   "id": "43f9f345-b8a2-4a3e-959d-6c171574f499",
   "metadata": {},
   "outputs": [],
   "source": [
    "from itertools import permutations\n",
    "possible_pairs = set(list(permutations(lig_dict.keys(), 2)))"
   ]
  },
  {
   "cell_type": "code",
   "execution_count": null,
   "id": "051c9ea3-59c9-495b-a42a-fdfe6ba3c9bb",
   "metadata": {},
   "outputs": [],
   "source": [
    "len(possible_pairs)"
   ]
  },
  {
   "cell_type": "markdown",
   "id": "5669a910-a36e-453c-a0de-6756a92071ea",
   "metadata": {},
   "source": [
    "# Adding null results"
   ]
  },
  {
   "cell_type": "code",
   "execution_count": null,
   "id": "8ec67a28-ed71-46af-8f7a-e11463559bfd",
   "metadata": {},
   "outputs": [],
   "source": [
    "missing_pairs = possible_pairs - pairs"
   ]
  },
  {
   "cell_type": "code",
   "execution_count": null,
   "id": "38afddc0-dfeb-4413-bd33-ff6b7c69d4b5",
   "metadata": {},
   "outputs": [],
   "source": [
    "len(missing_pairs)"
   ]
  },
  {
   "cell_type": "code",
   "execution_count": null,
   "id": "880b66dc-9bb4-4a11-95d5-4fb18cf4b88c",
   "metadata": {},
   "outputs": [],
   "source": [
    "null_df = pd.DataFrame({\"Query_Ligand\": [i for i,j in missing_pairs], \n",
    "                        \"Reference_Ligand\":[j for i,j in missing_pairs],\n",
    "                       \"RMSD\": np.nan,\n",
    "                       \"Pose_ID\": 0,\n",
    "                       \"POSIT_Method\": \"Failed\"})"
   ]
  },
  {
   "cell_type": "code",
   "execution_count": null,
   "id": "01af813a-dd53-4919-bdca-178f5095af3f",
   "metadata": {},
   "outputs": [],
   "source": [
    "null_df"
   ]
  },
  {
   "cell_type": "markdown",
   "id": "1cd9bf79-f529-4219-9904-64b6fdcccaef",
   "metadata": {},
   "source": [
    "## add structures"
   ]
  },
  {
   "cell_type": "code",
   "execution_count": null,
   "id": "3f93bd7f-efd7-419c-ad74-431516499c69",
   "metadata": {},
   "outputs": [],
   "source": [
    "null_df[\"Reference_Structure\"] = null_df.Reference_Ligand.apply(lambda x: cmpd_to_frag_dict[x])"
   ]
  },
  {
   "cell_type": "markdown",
   "id": "3aa3e643-344e-4802-8858-e7971a05d52e",
   "metadata": {},
   "source": [
    "## concat null results"
   ]
  },
  {
   "cell_type": "code",
   "execution_count": null,
   "id": "307799a7-9672-4d7a-94a2-75c2a3ea4bd3",
   "metadata": {},
   "outputs": [],
   "source": [
    "padded = pd.concat([df, null_df])"
   ]
  },
  {
   "cell_type": "code",
   "execution_count": null,
   "id": "fbb7863d-6c80-4d11-93bd-fbf7dda22178",
   "metadata": {},
   "outputs": [],
   "source": [
    "df = padded.copy()"
   ]
  },
  {
   "cell_type": "markdown",
   "id": "525b84f2-93b4-4b41-b132-32a15d192851",
   "metadata": {
    "tags": []
   },
   "source": [
    "# Add Query_Structure "
   ]
  },
  {
   "cell_type": "markdown",
   "id": "bfb286b3-840e-4a48-a433-ce0bbbf6abd8",
   "metadata": {},
   "source": [
    "## make sure the references structures match?"
   ]
  },
  {
   "cell_type": "code",
   "execution_count": null,
   "id": "8d5ea4c3-0476-410b-8ee4-156076f83a51",
   "metadata": {},
   "outputs": [],
   "source": [
    "all(df[\"Reference_Structure\"] == df.Reference_Ligand.apply(lambda x: cmpd_to_frag_dict[x]))"
   ]
  },
  {
   "cell_type": "markdown",
   "id": "e69066fd-6579-4f10-81f5-d39609465a30",
   "metadata": {},
   "source": [
    "## they do, good"
   ]
  },
  {
   "cell_type": "code",
   "execution_count": null,
   "id": "b40a39ae-4ed6-4709-a688-c4888e838059",
   "metadata": {},
   "outputs": [],
   "source": [
    "df[\"Query_Structure\"] = df.Query_Ligand.apply(lambda x: cmpd_to_frag_dict[x])"
   ]
  },
  {
   "cell_type": "markdown",
   "id": "57d975ad-3a14-450e-bdae-983e77f03c8b",
   "metadata": {},
   "source": [
    "# lets go ahead and save this"
   ]
  },
  {
   "cell_type": "code",
   "execution_count": null,
   "id": "6e99ff51-8d6f-4efb-8297-6610a1273711",
   "metadata": {},
   "outputs": [],
   "source": [
    "df.to_csv(\"20240502_combined_results_with_rmsd_and_null_results.csv\")"
   ]
  },
  {
   "cell_type": "code",
   "execution_count": null,
   "id": "37849dd1-6ea6-4624-ad22-159986445385",
   "metadata": {},
   "outputs": [],
   "source": []
  }
 ],
 "metadata": {
  "kernelspec": {
   "display_name": "Python [conda env:asapdiscovery]",
   "language": "python",
   "name": "conda-env-asapdiscovery-py"
  },
  "language_info": {
   "codemirror_mode": {
    "name": "ipython",
    "version": 3
   },
   "file_extension": ".py",
   "mimetype": "text/x-python",
   "name": "python",
   "nbconvert_exporter": "python",
   "pygments_lexer": "ipython3",
   "version": "3.10.13"
  }
 },
 "nbformat": 4,
 "nbformat_minor": 5
}
