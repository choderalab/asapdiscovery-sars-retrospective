{
 "cells": [
  {
   "cell_type": "markdown",
   "id": "2e63208fa898dfa6",
   "metadata": {
    "collapsed": false
   },
   "source": [
    "# Goal"
   ]
  },
  {
   "cell_type": "markdown",
   "id": "e61b7fe91924f116",
   "metadata": {
    "collapsed": false
   },
   "source": [
    "For about ~10% of the molecules, we never find the low RMSD pose even though it is there. I'd like to identify which molecules are problematic and why."
   ]
  },
  {
   "cell_type": "code",
   "execution_count": null,
   "id": "5f6039862832a442",
   "metadata": {
    "collapsed": false
   },
   "outputs": [],
   "source": [
    "import pandas as pd\n",
    "import numpy as np\n",
    "from pathlib import Path\n",
    "import plotly.express as px"
   ]
  },
  {
   "cell_type": "markdown",
   "id": "e368c332ce657a22",
   "metadata": {
    "collapsed": false
   },
   "source": [
    "# Load the data"
   ]
  },
  {
   "cell_type": "code",
   "execution_count": null,
   "id": "35b934a1e0ef80b",
   "metadata": {
    "collapsed": false
   },
   "outputs": [],
   "source": [
    "figure_path = Path(\"/Users/alexpayne/Scientific_Projects/asapdiscovery-sars-retrospective/science/20240403_multi_pose_docking_v2/20240430_analyze_cross_docking_results/figures\")"
   ]
  },
  {
   "cell_type": "code",
   "execution_count": null,
   "id": "26c883961c3f74ee",
   "metadata": {
    "collapsed": false
   },
   "outputs": [],
   "source": [
    "results_csv = Path(\n",
    "    \"/Users/alexpayne/Scientific_Projects/mers-drug-discovery/sars2-retrospective-analysis/20240424_multi_pose_docking_cross_docking/results_csvs/20240503_combined_results_with_data.csv\")"
   ]
  },
  {
   "cell_type": "code",
   "execution_count": null,
   "id": "591622650ce2a857",
   "metadata": {
    "collapsed": false
   },
   "outputs": [],
   "source": [
    "df = pd.read_csv(results_csv, index_col=0)"
   ]
  },
  {
   "cell_type": "code",
   "execution_count": null,
   "id": "4710c46a10a3df1",
   "metadata": {
    "collapsed": false
   },
   "outputs": [],
   "source": [
    "df.columns"
   ]
  },
  {
   "cell_type": "code",
   "execution_count": null,
   "id": "58fa2c557e2bd260",
   "metadata": {
    "collapsed": false
   },
   "outputs": [],
   "source": [
    "true_best = df.sort_values([\"RMSD\"]).groupby(\"Query_Ligand\").head(1)"
   ]
  },
  {
   "cell_type": "code",
   "execution_count": null,
   "id": "106d62a018200f62",
   "metadata": {
    "collapsed": false
   },
   "outputs": [],
   "source": [
    "sum(true_best.RMSD < 2.0) / len(true_best)"
   ]
  },
  {
   "cell_type": "code",
   "execution_count": null,
   "id": "6c4f073e6c276efa",
   "metadata": {
    "collapsed": false
   },
   "outputs": [],
   "source": [
    "posit_best = df.sort_values([\"docking-confidence-POSIT\"], ascending=False).groupby(\"Query_Ligand\").head(1)"
   ]
  },
  {
   "cell_type": "code",
   "execution_count": null,
   "id": "d03cfe2743f3bb26",
   "metadata": {
    "collapsed": false
   },
   "outputs": [],
   "source": [
    "sum(posit_best.RMSD < 2.0) / len(posit_best)"
   ]
  },
  {
   "cell_type": "code",
   "execution_count": null,
   "id": "853c15b16fb53236",
   "metadata": {
    "collapsed": false
   },
   "outputs": [],
   "source": [
    "failed = posit_best[posit_best.RMSD >=2.0]"
   ]
  },
  {
   "cell_type": "code",
   "execution_count": null,
   "id": "31319f4147e1102d",
   "metadata": {
    "collapsed": false
   },
   "outputs": [],
   "source": [
    "failed"
   ]
  },
  {
   "cell_type": "code",
   "execution_count": null,
   "id": "f2e522fbf10a3b8d",
   "metadata": {
    "collapsed": false
   },
   "outputs": [],
   "source": [
    "failed_ligs = set(failed.Query_Ligand)"
   ]
  },
  {
   "cell_type": "code",
   "execution_count": null,
   "id": "39ac1c802bc206a5",
   "metadata": {
    "collapsed": false
   },
   "outputs": [],
   "source": [
    "rmsd_failed_ligs = set(true_best[true_best.RMSD >=2.0].Query_Ligand)"
   ]
  },
  {
   "cell_type": "code",
   "execution_count": null,
   "id": "8ebb80eead56210a",
   "metadata": {
    "collapsed": false
   },
   "outputs": [],
   "source": [
    "rmsd_failed_ligs"
   ]
  },
  {
   "cell_type": "code",
   "execution_count": null,
   "id": "4478ac2663810c1e",
   "metadata": {
    "collapsed": false
   },
   "outputs": [],
   "source": [
    "posit_failed_ligs = failed_ligs - rmsd_failed_ligs"
   ]
  },
  {
   "cell_type": "markdown",
   "id": "4647a1613711eb1d",
   "metadata": {
    "collapsed": false
   },
   "source": [
    "as expected, there aren't any that failed in POSIT but not RMSD"
   ]
  },
  {
   "cell_type": "code",
   "execution_count": null,
   "id": "e73071d6a696609f",
   "metadata": {
    "collapsed": false
   },
   "outputs": [],
   "source": [
    "rmsd_failed_ligs - failed_ligs"
   ]
  },
  {
   "cell_type": "markdown",
   "id": "58bf91c1d6452d43",
   "metadata": {
    "collapsed": false
   },
   "source": [
    "## Here are the ligands that failed in POSIT but not RMSD"
   ]
  },
  {
   "cell_type": "code",
   "execution_count": null,
   "id": "2bfb6c80d1397bf1",
   "metadata": {
    "collapsed": false
   },
   "outputs": [],
   "source": [
    "posit_failed_ligs"
   ]
  },
  {
   "cell_type": "code",
   "execution_count": null,
   "id": "2c7c2811155a567e",
   "metadata": {
    "collapsed": false
   },
   "outputs": [],
   "source": [
    "failed_lig_df = df[df.Query_Ligand.isin(posit_failed_ligs)]"
   ]
  },
  {
   "cell_type": "code",
   "execution_count": null,
   "id": "98a39c130ec46b1d",
   "metadata": {
    "collapsed": false
   },
   "outputs": [],
   "source": [
    "fig = px.histogram(failed_lig_df, \n",
    "                   x=\"RMSD\", \n",
    "                   color=\"Query_Ligand\", \n",
    "                   range_x=[0, 10],\n",
    "                   height=400,\n",
    "                   width=600,\n",
    "                   template=\"plotly_white\",)\n",
    "fig.add_vline(x=2.0, line_dash=\"dash\", line_color=\"black\")\n",
    "fig.show()\n",
    "fig.write_image(figure_path / \"20240606_failed_ligand_RMSD_histogram.png\")"
   ]
  },
  {
   "cell_type": "code",
   "execution_count": null,
   "id": "65c7f199d268108c",
   "metadata": {
    "collapsed": false
   },
   "outputs": [],
   "source": [
    "successful_ligs = list(set(df.Query_Ligand) - failed_ligs)"
   ]
  },
  {
   "cell_type": "code",
   "execution_count": null,
   "id": "acc9119af47aea54",
   "metadata": {
    "collapsed": false
   },
   "outputs": [],
   "source": [
    "import random"
   ]
  },
  {
   "cell_type": "code",
   "execution_count": null,
   "id": "a20ecc513c3101a0",
   "metadata": {
    "collapsed": false
   },
   "outputs": [],
   "source": [
    "for i in range(10):\n",
    "    successful_sample = random.sample(successful_ligs, 13)\n",
    "    success_lig_df = df[df.Query_Ligand.isin(successful_sample)]\n",
    "    fig = px.histogram(success_lig_df, x=\"RMSD\", color=\"Query_Ligand\",range_x=[0, 10],\n",
    "                   height=400,\n",
    "                   width=600,\n",
    "                   template=\"plotly_white\",)\n",
    "    fig.add_vline(x=2.0, line_dash=\"dash\", line_color=\"black\")\n",
    "    fig.write_image(figure_path / f\"20240606_successful_ligand_RMSD_histogram_example_{i}.png\")"
   ]
  },
  {
   "cell_type": "markdown",
   "id": "707c94ea04109316",
   "metadata": {
    "collapsed": false
   },
   "source": [
    "# Plot the ligands"
   ]
  },
  {
   "cell_type": "code",
   "execution_count": null,
   "id": "7a07007a458e562c",
   "metadata": {
    "collapsed": false
   },
   "outputs": [],
   "source": [
    "smiles = failed_lig_df.SMILES "
   ]
  },
  {
   "cell_type": "code",
   "execution_count": null,
   "id": "92bde0f6139a9f78",
   "metadata": {
    "collapsed": false
   },
   "outputs": [],
   "source": [
    "from asapdiscovery.data.schema.ligand import Ligand"
   ]
  },
  {
   "cell_type": "code",
   "execution_count": null,
   "id": "4d727bfbf802e26f",
   "metadata": {
    "collapsed": false
   },
   "outputs": [],
   "source": [
    "ligs = []\n",
    "for row in failed_lig_df.groupby(\"Query_Ligand\").head(1).iterrows():\n",
    "    ligs.append(Ligand.from_smiles(row[1].SMILES, compound_name=row[1].Query_Ligand)) "
   ]
  },
  {
   "cell_type": "code",
   "execution_count": null,
   "id": "e8595be534965e14",
   "metadata": {
    "collapsed": false
   },
   "outputs": [],
   "source": [
    "from harbor.plotting.ligands import plot_ligands_with_mcs"
   ]
  },
  {
   "cell_type": "code",
   "execution_count": null,
   "id": "9b6f4f941c931304",
   "metadata": {
    "collapsed": false
   },
   "outputs": [],
   "source": [
    "import mols2grid"
   ]
  },
  {
   "cell_type": "code",
   "execution_count": null,
   "id": "78f72ce0-2697-4070-b371-6bc7ef62aaa0",
   "metadata": {},
   "outputs": [],
   "source": [
    "mols2grid.__version__"
   ]
  },
  {
   "cell_type": "code",
   "execution_count": null,
   "id": "a455dcf5-6cf2-4d10-8e40-207a8d642fc3",
   "metadata": {},
   "outputs": [],
   "source": [
    "grid = mols2grid.MolGrid(failed_lig_df.groupby(\"Query_Ligand\").head(1))"
   ]
  },
  {
   "cell_type": "code",
   "outputs": [],
   "source": [
    "grid.display(size=(800,800))\n",
    "grid.save(figure_path / \"failed_ligs.html\")"
   ],
   "metadata": {
    "collapsed": false
   },
   "id": "ce1377fa9f271da5",
   "execution_count": null
  },
  {
   "cell_type": "code",
   "outputs": [],
   "source": [
    "failed_lig_df.to_csv(\"analyzed_data/failed_ligs.csv\")"
   ],
   "metadata": {
    "collapsed": false
   },
   "id": "8caa555b979fac34",
   "execution_count": null
  },
  {
   "cell_type": "code",
   "outputs": [],
   "source": [],
   "metadata": {
    "collapsed": false
   },
   "id": "b9475940e5986508"
  },
  {
   "cell_type": "markdown",
   "source": [
    "# Are these ligands from particularly early or late in the discovery process?"
   ],
   "metadata": {
    "collapsed": false
   },
   "id": "a25b6928d4821dd7"
  },
  {
   "cell_type": "code",
   "outputs": [],
   "source": [
    "all_lig_df = df.groupby(\"Query_Ligand\").head(1)"
   ],
   "metadata": {
    "collapsed": false
   },
   "id": "1af245ddcf1ad501",
   "execution_count": null
  },
  {
   "cell_type": "code",
   "outputs": [],
   "source": [
    "fig = px.histogram(all_lig_df, \n",
    "                   x=\"Query_Structure_Date\",\n",
    "                   height=400,\n",
    "                   width=600,\n",
    "                   labels={\"Query_Structure_Date\": \"<b> Structure Deposition Date <b>\"},\n",
    "                   template=\"plotly_white\",\n",
    "                   range_x=[\"2021-02-01\", \"2022-03-01\"],\n",
    "                   nbins=14)\n",
    "fig.update_yaxes(title_text=\"<b> Number of Ligands <b>\")\n",
    "fig.show()\n",
    "fig.write_image(figure_path / \"ligand_structure_dates.png\")"
   ],
   "metadata": {
    "collapsed": false
   },
   "id": "19f5fd0279fddfe7",
   "execution_count": null
  },
  {
   "cell_type": "code",
   "outputs": [],
   "source": [
    "fig = px.histogram(failed_lig_df.groupby(\"Query_Ligand\").head(1), \n",
    "                   x=\"Query_Structure_Date\",\n",
    "                   height=400,\n",
    "                   width=600,\n",
    "                   labels={\"Query_Structure_Date\": \"<b> Structure Deposition Date <b>\"},\n",
    "                   template=\"plotly_white\",\n",
    "                   range_x=[\"2021-02-01\", \"2022-03-01\"],\n",
    "                   nbins=14)\n",
    "fig.update_yaxes(title_text=\"<b> Number of Ligands <b>\")\n",
    "fig.show()\n",
    "fig.write_image(figure_path / \"failed_ligand_structure_dates.png\")"
   ],
   "metadata": {
    "collapsed": false
   },
   "id": "9c2fd5105eeb2db1",
   "execution_count": null
  },
  {
   "cell_type": "code",
   "outputs": [],
   "source": [
    "structures = failed_lig_df.groupby(\"Query_Ligand\").head(1).Query_Structure"
   ],
   "metadata": {
    "collapsed": false
   },
   "id": "cac56667cc13ba6d",
   "execution_count": null
  },
  {
   "cell_type": "code",
   "outputs": [],
   "source": [
    "with open(\"load_failed_lig_structures.txt\", \"w\") as f:\n",
    "    for structure in structures:\n",
    "        for suffix in [\"sdf\", \"pdb\"]:\n",
    "            f.write(f\"loadall {structure}*/*.{suffix}\\n\")"
   ],
   "metadata": {
    "collapsed": false
   },
   "id": "a85927d590a511a1",
   "execution_count": null
  },
  {
   "cell_type": "code",
   "outputs": [],
   "source": [],
   "metadata": {
    "collapsed": false
   },
   "id": "30bdd737904c59ab"
  }
 ],
 "metadata": {
  "kernelspec": {
   "display_name": "Python 3 (ipykernel)",
   "language": "python",
   "name": "python3"
  },
  "language_info": {
   "codemirror_mode": {
    "name": "ipython",
    "version": 3
   },
   "file_extension": ".py",
   "mimetype": "text/x-python",
   "name": "python",
   "nbconvert_exporter": "python",
   "pygments_lexer": "ipython3",
   "version": "3.10.13"
  }
 },
 "nbformat": 4,
 "nbformat_minor": 5
}
