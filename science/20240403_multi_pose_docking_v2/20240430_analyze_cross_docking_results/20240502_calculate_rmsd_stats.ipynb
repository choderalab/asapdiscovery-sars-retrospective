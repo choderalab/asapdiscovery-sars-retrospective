{
 "cells": [
  {
   "cell_type": "markdown",
   "source": [
    "# Imports"
   ],
   "metadata": {
    "collapsed": false
   },
   "id": "6c3b75b94de069d0"
  },
  {
   "cell_type": "code",
   "outputs": [],
   "source": [
    "from pathlib import Path\n",
    "import pandas as pd\n",
    "import numpy as np\n",
    "from pydantic import BaseModel, Field\n",
    "import abc\n",
    "from tqdm import tqdm"
   ],
   "metadata": {
    "collapsed": false
   },
   "id": "e87efd316597a364",
   "execution_count": null
  },
  {
   "cell_type": "markdown",
   "source": [
    "## Paths"
   ],
   "metadata": {
    "collapsed": false
   },
   "id": "4a105953608d2b7"
  },
  {
   "cell_type": "code",
   "outputs": [],
   "source": [
    "data_path = Path(\"/Users/alexpayne/Scientific_Projects/mers-drug-discovery/sars2-retrospective-analysis/20240424_multi_pose_docking_cross_docking/\")\n",
    "csvs_path = data_path / (\"results_csvs\")\n",
    "result_csv = csvs_path / \"20240503_combined_results_with_data.csv\""
   ],
   "metadata": {
    "collapsed": false
   },
   "id": "419361011c0de886",
   "execution_count": null
  },
  {
   "cell_type": "code",
   "outputs": [],
   "source": [
    "output_data_path = Path(\"analyzed_data\")"
   ],
   "metadata": {
    "collapsed": false
   },
   "id": "56f990b0d6557cbb",
   "execution_count": null
  },
  {
   "cell_type": "code",
   "outputs": [],
   "source": [
    "result_csv.exists()"
   ],
   "metadata": {
    "collapsed": false
   },
   "id": "1844be003e8b9165",
   "execution_count": null
  },
  {
   "cell_type": "markdown",
   "source": [
    "## Load Data"
   ],
   "metadata": {
    "collapsed": false
   },
   "id": "11891c736b5f2b33"
  },
  {
   "cell_type": "code",
   "outputs": [],
   "source": [
    "df = pd.read_csv(result_csv, index_col=0)"
   ],
   "metadata": {
    "collapsed": false
   },
   "id": "1b6acc3a451f87bf",
   "execution_count": null
  },
  {
   "cell_type": "code",
   "outputs": [],
   "source": [
    "df.nunique()"
   ],
   "metadata": {
    "collapsed": false
   },
   "id": "31dd3f125c71b092",
   "execution_count": null
  },
  {
   "cell_type": "markdown",
   "source": [
    "# Explanation"
   ],
   "metadata": {
    "collapsed": false
   },
   "id": "7a112e61b9a4205a"
  },
  {
   "cell_type": "markdown",
   "source": [
    "By this point I'd like to have some library code to point to for this kind of analysis. But that takes a while to write, and I'm realizing that having to look in another package just to figure out what I'm doing is kind of annoying. So instead of doing that I'm going to write out everything I'm doing here, if that ends up in library code someday (probably in harbor), that's great."
   ],
   "metadata": {
    "collapsed": false
   },
   "id": "9bf3354b1a2e4a7"
  },
  {
   "cell_type": "markdown",
   "source": [
    "## Code Path"
   ],
   "metadata": {
    "collapsed": false
   },
   "id": "3190256d578f9a03"
  },
  {
   "cell_type": "markdown",
   "source": [
    "# Base Code"
   ],
   "metadata": {
    "collapsed": false
   },
   "id": "168fd239edfbd14a"
  },
  {
   "cell_type": "markdown",
   "source": [
    "## utils"
   ],
   "metadata": {
    "collapsed": false
   },
   "id": "e87367d3fed96b81"
  },
  {
   "cell_type": "code",
   "outputs": [],
   "source": [
    "class ModelBase(BaseModel):\n",
    "    \n",
    "    @abc.abstractmethod\n",
    "    def plot_name(self) -> str:\n",
    "        pass\n",
    "    \n",
    "    @abc.abstractmethod\n",
    "    def get_records(self) -> dict:\n",
    "        pass"
   ],
   "metadata": {
    "collapsed": false
   },
   "id": "279d75eafbc52adf",
   "execution_count": null
  },
  {
   "cell_type": "code",
   "outputs": [],
   "source": [
    "class SplitBase(ModelBase):\n",
    "    name = 'SplitBase'\n",
    "    variable: str = Field(description=\"Name of variable used to split the data\")\n",
    "    n_splits: int = Field(1, description=\"number of splits to generate\")\n",
    "    n_per_split: int = Field(..., description=\"Number of values per split to generate\")\n",
    "    \n",
    "    @abc.abstractmethod\n",
    "    def run(self, df:pd.DataFrame) -> [pd.DataFrame]:\n",
    "        pass\n",
    "    \n",
    "    @property\n",
    "    def plot_name(self) -> str:\n",
    "        return f\"{self.name}_{self.n_per_split}\"\n",
    "        \n",
    "    def get_records(self) -> dict:\n",
    "        return {\"Split\": self.name,\n",
    "                  \"N_Per_Split\": self.n_per_split}\n",
    "        \n",
    "        "
   ],
   "metadata": {
    "collapsed": false
   },
   "id": "adaf282f4c73f73d",
   "execution_count": null
  },
  {
   "cell_type": "markdown",
   "source": [
    "# Dataset Splits"
   ],
   "metadata": {
    "collapsed": false
   },
   "id": "bc4e6f0344d28d87"
  },
  {
   "cell_type": "code",
   "outputs": [],
   "source": [
    "class RandomSplit(SplitBase):\n",
    "    \"\"\"\n",
    "    Randomly \n",
    "    \"\"\"\n",
    "    name = 'RandomSplit'\n",
    "    \n",
    "    def run(self, df: pd.DataFrame) -> [pd.DataFrame]:\n",
    "        from random import shuffle\n",
    "        variable_list = df[self.variable].unique()\n",
    "        shuffle(variable_list)\n",
    "        \n",
    "        variable_splits = []\n",
    "        dfs = []\n",
    "        for i in range(self.n_splits):\n",
    "            start = i * self.n_per_split\n",
    "            end = i * self.n_per_split + self.n_per_split\n",
    "            variable_splits.append(variable_list[start:end])\n",
    "            dfs.append(df[df[self.variable].isin(variable_list[start:end])])\n",
    "        return dfs\n",
    "        "
   ],
   "metadata": {
    "collapsed": false
   },
   "id": "5d9436f1856a584f",
   "execution_count": null
  },
  {
   "cell_type": "markdown",
   "source": [
    "# Sorter"
   ],
   "metadata": {
    "collapsed": false
   },
   "id": "96d153b8907d1f9a"
  },
  {
   "cell_type": "code",
   "outputs": [],
   "source": [
    "class SorterBase(ModelBase):\n",
    "    name: str = Field(..., description=\"Name of sorting method\")\n",
    "    category: str = Field(..., description=\"Category of sort (i.e. why is sorting necessary here\")\n",
    "    variable: str = Field(..., description=\"Variable used to sort the data\")\n",
    "    higher_is_better: bool = Field(True, description=\"Higher values are better. Defaults True\")\n",
    "    number_to_return: None | int = Field(description=\"Number of values to return. Returns all values if None.\")\n",
    "    \n",
    "    def run(self, df, groupby: list[str]) -> pd.DataFrame:\n",
    "        return df.sort_values(self.variable, ascending=not self.higher_is_better).groupby(groupby).head(self.number_to_return)\n",
    "    \n",
    "    @property\n",
    "    def plot_name(self) -> str:\n",
    "        return f\"{self.name}_Choose_{'All' if not self.number_to_return else self.number_to_return}\"\n",
    "    \n",
    "    def get_records(self) -> dict:\n",
    "        return {self.category: self.name, f\"{self.category}_Choose_N\":'All' if not self.number_to_return else self.number_to_return}"
   ],
   "metadata": {
    "collapsed": false
   },
   "id": "c96c51f7b70dfd4b",
   "execution_count": null
  },
  {
   "cell_type": "code",
   "outputs": [],
   "source": [
    "class StructureChoice(SorterBase):\n",
    "    category = 'StructureChoice'"
   ],
   "metadata": {
    "collapsed": false
   },
   "id": "2f3966542f313136",
   "execution_count": null
  },
  {
   "cell_type": "code",
   "outputs": [],
   "source": [
    "class Scorer(SorterBase):\n",
    "    category = 'Score'"
   ],
   "metadata": {
    "collapsed": false
   },
   "id": "1dca3f6d8524fe73",
   "execution_count": null
  },
  {
   "cell_type": "markdown",
   "source": [
    "# Poses"
   ],
   "metadata": {
    "collapsed": false
   },
   "id": "780564fddcef56f8"
  },
  {
   "cell_type": "markdown",
   "source": [
    "# Scoring"
   ],
   "metadata": {
    "collapsed": false
   },
   "id": "35e39f9352c03ad1"
  },
  {
   "cell_type": "markdown",
   "source": [
    "# Evaluation"
   ],
   "metadata": {
    "collapsed": false
   },
   "id": "cde616cd29694e18"
  },
  {
   "cell_type": "code",
   "outputs": [],
   "source": [
    "from pydantic import confloat\n",
    "class FractionGood(ModelBase):\n",
    "    name = 'FractionGood'\n",
    "    total: int = Field(..., description='Total number of items being evaluated')\n",
    "    fraction: confloat(ge=0, le=1) = Field(..., description='Fraction of \"good\" values returned')\n",
    "    replicates: list[float] = Field([], description='List of \"good\" fractions for error bar analysis')\n",
    "    \n",
    "    @property\n",
    "    def min(self) -> float:\n",
    "        return np.array(self.replicates).min()\n",
    "    \n",
    "    @property\n",
    "    def max(self) -> float:\n",
    "        return np.array(self.replicates).max()\n",
    "    \n",
    "    @property\n",
    "    def ci_upper(self):\n",
    "        n_reps = len(self.replicates)\n",
    "        self.replicates.sort()\n",
    "        return self.replicates[int(0.975 * n_reps)]\n",
    "    \n",
    "    @property\n",
    "    def ci_lower(self):\n",
    "        n_reps = len(self.replicates)\n",
    "        self.replicates.sort()\n",
    "        return self.replicates[int(0.025 * n_reps)]\n",
    "    \n",
    "    @classmethod\n",
    "    def from_replicates(cls, reps = list['FractionGood']) -> 'FractionGood':\n",
    "        all_fracs = np.array([rep.fraction for rep in reps])\n",
    "        totals = np.array([rep.total for rep in reps])\n",
    "        return FractionGood(total=totals.mean(), fraction=all_fracs.mean(), replicates=list(all_fracs))\n",
    "    \n",
    "    def get_records(self) -> dict:\n",
    "        mydict = {\"Min\": self.min,\n",
    "                  \"Max\": self.max,\n",
    "                  \"CI_Upper\": self.ci_upper,\n",
    "                  \"CI_Lower\": self.ci_lower,\n",
    "                  \"Total\": self.total,\n",
    "                  \"Fraction\": self.fraction}\n",
    "        return mydict\n",
    "    def plot_name(self) -> str:\n",
    "        return \"Fraction\""
   ],
   "metadata": {
    "collapsed": false
   },
   "id": "25fe855e8f9a8956",
   "execution_count": null
  },
  {
   "cell_type": "code",
   "outputs": [],
   "source": [
    "class BinaryEvaluation(ModelBase):\n",
    "    name = 'BinaryEvaluation'\n",
    "    variable: str = Field(..., description=\"Variable used to evaluate the results\")\n",
    "    cutoff: float = Field(..., description=\"Cutoff used to determine if a result is good\")\n",
    "    below_cutoff_is_good: bool = Field(True, description='Whether values below or above the cutoff are good. Defaults to below.')\n",
    "    \n",
    "    def run(self, df, groupby: list[str] = []) -> FractionGood:\n",
    "        total = len(df.groupby(groupby))\n",
    "        if self.below_cutoff_is_good:\n",
    "            fraction = df[self.variable].apply(lambda x: x <= self.cutoff).sum() / total\n",
    "        else:\n",
    "            fraction = df[self.variable].apply(lambda x: x >= self.cutoff).sum() / total\n",
    "        return FractionGood(total=total, fraction=fraction)\n",
    "    \n",
    "    def get_records(self) -> dict:\n",
    "        return {\"EvaluationMetric\": self.variable, \"EvaluationMetric_Cutoff\": self.cutoff}\n",
    "    \n",
    "    def plot_name(self) -> str:\n",
    "        return \"_\".join([self.name, self.variable, self.cutoff])\n",
    "        "
   ],
   "metadata": {
    "collapsed": false
   },
   "id": "60bd893363c526b1",
   "execution_count": null
  },
  {
   "cell_type": "code",
   "outputs": [],
   "source": [],
   "metadata": {
    "collapsed": false
   },
   "id": "71f781784d25fc4a",
   "execution_count": null
  },
  {
   "cell_type": "code",
   "outputs": [],
   "source": [
    "class Evaluator(ModelBase):\n",
    "    name = 'Evaluator'\n",
    "    dataset_split: SplitBase = Field(..., description='Dataset split')\n",
    "    structure_choice: StructureChoice = Field(..., description=\"How to choose which structures to dock to\")\n",
    "    scorer: Scorer = Field(..., description=\"How to score and rank resulting poses\")\n",
    "    evaluator: BinaryEvaluation = Field(..., description=\"How to determine how good the results are\")\n",
    "    n_bootstraps: int = Field(1, description=\"Number of bootstrap replicates to run\")\n",
    "    groupby: list[str] = Field(..., description=\"List of variables that group the data\")\n",
    "    \n",
    "    \n",
    "    def run(self, df:pd.DataFrame) -> FractionGood:\n",
    "        results = []\n",
    "        for i in range(self.n_bootstraps):\n",
    "            split1 = self.dataset_split.run(df)[0]\n",
    "            subset_df = self.structure_choice.run(split1, groupby=groupby)\n",
    "            subset_df = self.scorer.run(subset_df, groupby=groupby)\n",
    "            results.append(self.evaluator.run(subset_df, groupby=groupby))\n",
    "        return FractionGood.from_replicates(results)\n",
    "        \n",
    "    @property\n",
    "    def plot_name(self) -> str:\n",
    "        variables = [model.plot_name for model in [self.dataset_split, self.structure_choice, self.scorer]]\n",
    "        variables += [f\"{self.n_bootstraps}reps\"]\n",
    "        return \"_\".join(variables)\n",
    "    \n",
    "    def get_records(self) -> dict:\n",
    "        mydict = {\"Bootstraps\": n_bootstraps}\n",
    "        for container in [self.structure_choice,\n",
    "                          self.scorer,\n",
    "                          self.evaluator,\n",
    "                          self.dataset_split]:\n",
    "            mydict.update(container.get_records())\n",
    "        return mydict"
   ],
   "metadata": {
    "collapsed": false
   },
   "id": "5380476365b36bd",
   "execution_count": null
  },
  {
   "cell_type": "code",
   "outputs": [],
   "source": [
    "class Results(BaseModel):\n",
    "    evaluator: Evaluator\n",
    "    fraction_good: FractionGood\n",
    "    \n",
    "    def get_records(self) -> dict:\n",
    "        mydict = self.evaluator.get_records()\n",
    "        mydict.update(self.fraction_good.get_records())\n",
    "        return mydict\n",
    "    \n",
    "    @classmethod\n",
    "    def calculate_results(cls, df: pd.DataFrame, evaluators: list['Evaluator']) -> list['Results']:\n",
    "        for ev in tqdm(evaluators):\n",
    "            result = ev.run(df)\n",
    "            yield cls(evaluator=ev, fraction_good=result)\n",
    "    \n",
    "    @classmethod\n",
    "    def df_from_results(cls, results : list['Results']) -> pd.DataFrame:\\\n",
    "        return pd.DataFrame.from_records([result.get_records() for result in results])\n",
    "        "
   ],
   "metadata": {
    "collapsed": false
   },
   "id": "4db1325c9ca0b259",
   "execution_count": null
  },
  {
   "cell_type": "markdown",
   "source": [
    "# Basic Analysis"
   ],
   "metadata": {
    "collapsed": false
   },
   "id": "bbec0845bd9a3d8"
  },
  {
   "cell_type": "code",
   "outputs": [],
   "source": [
    "df.nunique()"
   ],
   "metadata": {
    "collapsed": false
   },
   "id": "c265cd8349df9a2",
   "execution_count": null
  },
  {
   "cell_type": "code",
   "outputs": [],
   "source": [
    "refs = df.Reference_Ligand\n",
    "queries = df.Query_Ligand\n",
    "pairs = {(ref, query) for ref, query in zip(refs,queries)}"
   ],
   "metadata": {
    "collapsed": false
   },
   "id": "81601906da6b2aef",
   "execution_count": null
  },
  {
   "cell_type": "code",
   "outputs": [],
   "source": [
    "len(pairs)"
   ],
   "metadata": {
    "collapsed": false
   },
   "id": "570ca3692aca6643",
   "execution_count": null
  },
  {
   "cell_type": "markdown",
   "source": [
    "# Plotting"
   ],
   "metadata": {
    "collapsed": false
   },
   "id": "3f1e6150ae3dcd09"
  },
  {
   "cell_type": "markdown",
   "source": [
    "## Plot Variables"
   ],
   "metadata": {
    "collapsed": false
   },
   "id": "fa8e3cdd0dc6011d"
  },
  {
   "cell_type": "code",
   "outputs": [],
   "source": [
    "n_bootstraps = 100\n",
    "rmsd_cutoff = 2.0\n",
    "n_per_splits = np.array([1] + list(range(5,206,50)))\n",
    "groupby = [\"Query_Ligand\"]"
   ],
   "metadata": {
    "collapsed": false
   },
   "id": "2dce4369f4d07a8",
   "execution_count": null
  },
  {
   "cell_type": "code",
   "outputs": [],
   "source": [
    "single_pose = df.groupby([\"Query_Ligand\", \"Reference_Ligand\"]).head(1)"
   ],
   "metadata": {
    "collapsed": false
   },
   "id": "4e9dbd29a875e4a2",
   "execution_count": null
  },
  {
   "cell_type": "markdown",
   "source": [
    "# SinglePose - RandomSplit - POSIT Score - Structure Choices"
   ],
   "metadata": {
    "collapsed": false
   },
   "id": "3aead7118d00ef75"
  },
  {
   "cell_type": "markdown",
   "source": [
    "## Exp 1 : SinglePose - RandomSplit - POSIT Score"
   ],
   "metadata": {
    "collapsed": false
   },
   "id": "bef58d88d95d6296"
  },
  {
   "cell_type": "code",
   "outputs": [],
   "source": [
    "evaluators = [Evaluator(\n",
    "    dataset_split=RandomSplit(variable=\"Reference_Ligand\", n_per_split=n_per_split),\n",
    "    structure_choice=StructureChoice(name=\"Dock_to_All\", variable=\"Tanimoto\", higher_is_better=True),\n",
    "    scorer=Scorer(name=\"POSIT_Probability\", variable=\"docking-confidence-POSIT\", higher_is_better=True, number_to_return=1),\n",
    "    evaluator=BinaryEvaluation(variable=\"RMSD\", cutoff=rmsd_cutoff),\n",
    "    groupby=groupby,\n",
    "    n_bootstraps=n_bootstraps,\n",
    ") for n_per_split in n_per_splits]"
   ],
   "metadata": {
    "collapsed": false
   },
   "id": "692c6c0d1a0befda",
   "execution_count": null
  },
  {
   "cell_type": "code",
   "outputs": [],
   "source": [
    "results = list(Results.calculate_results(single_pose, evaluators))"
   ],
   "metadata": {
    "collapsed": false
   },
   "id": "393dc164ce042d07",
   "execution_count": null
  },
  {
   "cell_type": "code",
   "outputs": [],
   "source": [
    "df1 = Results.df_from_results(results)"
   ],
   "metadata": {
    "collapsed": false
   },
   "id": "d9098bef30566878",
   "execution_count": null
  },
  {
   "cell_type": "code",
   "outputs": [],
   "source": [
    "df1.to_csv(output_data_path / \"20240503_random_posit.csv\", index=False)"
   ],
   "metadata": {
    "collapsed": false
   },
   "id": "33280b8eeeff2840",
   "execution_count": null
  },
  {
   "cell_type": "markdown",
   "source": [
    "## Exp 2: ECFP4 choose n"
   ],
   "metadata": {
    "collapsed": false
   },
   "id": "28b62e3bb2b7a555"
  },
  {
   "cell_type": "code",
   "outputs": [],
   "source": [
    "structure_choices = [1, 2, 5, 10]\n",
    "evaluators = [Evaluator(\n",
    "    dataset_split=RandomSplit(variable=\"Reference_Ligand\", n_per_split=n_per_split),\n",
    "    structure_choice=StructureChoice(name=\"ECFP4_Similarity\", variable=\"Tanimoto\", higher_is_better=True, number_to_return=structure_choice),\n",
    "    scorer=Scorer(name=\"POSIT_Probability\", variable=\"docking-confidence-POSIT\", higher_is_better=True, number_to_return=1),\n",
    "    evaluator=BinaryEvaluation(variable=\"RMSD\", cutoff=rmsd_cutoff),\n",
    "    groupby=groupby,\n",
    "    n_bootstraps=n_bootstraps,\n",
    ") for n_per_split in n_per_splits for structure_choice in structure_choices]"
   ],
   "metadata": {
    "collapsed": false
   },
   "id": "165e2a12e8ace4f8",
   "execution_count": null
  },
  {
   "cell_type": "code",
   "outputs": [],
   "source": [
    "results = list(Results.calculate_results(single_pose, evaluators))"
   ],
   "metadata": {
    "collapsed": false
   },
   "id": "4cbe4d277fc6075a",
   "execution_count": null
  },
  {
   "cell_type": "code",
   "outputs": [],
   "source": [
    "df2 = Results.df_from_results(results)"
   ],
   "metadata": {
    "collapsed": false
   },
   "id": "c22ef5c5405f46e2",
   "execution_count": null
  },
  {
   "cell_type": "code",
   "outputs": [],
   "source": [
    "df2.to_csv(output_data_path / \"20240503_random_posit_ecfp4_choose_n.csv\", index=False)"
   ],
   "metadata": {
    "collapsed": false
   },
   "id": "35eae4c50e356164",
   "execution_count": null
  },
  {
   "cell_type": "markdown",
   "source": [
    "## Exp 3: MCSS Choose N"
   ],
   "metadata": {
    "collapsed": false
   },
   "id": "6b6cb0844017bbb9"
  },
  {
   "cell_type": "code",
   "outputs": [],
   "source": [
    "structure_choices = [1, 2, 5, 10]\n",
    "evaluators = [Evaluator(\n",
    "    dataset_split=RandomSplit(variable=\"Reference_Ligand\", n_per_split=n_per_split),\n",
    "    structure_choice=StructureChoice(name=\"MCSS_Similarity\", variable=\"Num_Atoms_in_MCS\", higher_is_better=True, number_to_return=structure_choice),\n",
    "    scorer=Scorer(name=\"POSIT_Probability\", variable=\"docking-confidence-POSIT\", higher_is_better=True, number_to_return=1),\n",
    "    evaluator=BinaryEvaluation(variable=\"RMSD\", cutoff=rmsd_cutoff),\n",
    "    groupby=groupby,\n",
    "    n_bootstraps=n_bootstraps,\n",
    ") for n_per_split in n_per_splits for structure_choice in structure_choices]"
   ],
   "metadata": {
    "collapsed": false
   },
   "id": "bf32939d7cdfe351",
   "execution_count": null
  },
  {
   "cell_type": "code",
   "outputs": [],
   "source": [
    "results = list(Results.calculate_results(single_pose, evaluators))"
   ],
   "metadata": {
    "collapsed": false
   },
   "id": "54410f99e19d0fcd",
   "execution_count": null
  },
  {
   "cell_type": "code",
   "outputs": [],
   "source": [
    "df3 = Results.df_from_results(results)"
   ],
   "metadata": {
    "collapsed": false
   },
   "id": "bf034f2ddbac55ff",
   "execution_count": null
  },
  {
   "cell_type": "code",
   "outputs": [],
   "source": [
    "df3.to_csv(output_data_path / \"20240503_random_posit_mcss_choose_n.csv\", index=False)"
   ],
   "metadata": {
    "collapsed": false
   },
   "id": "17032a82eb047c58",
   "execution_count": null
  },
  {
   "cell_type": "code",
   "outputs": [],
   "source": [],
   "metadata": {
    "collapsed": false
   },
   "id": "ea44a47b827b465"
  }
 ],
 "metadata": {
  "kernelspec": {
   "display_name": "Python 3",
   "language": "python",
   "name": "python3"
  },
  "language_info": {
   "codemirror_mode": {
    "name": "ipython",
    "version": 2
   },
   "file_extension": ".py",
   "mimetype": "text/x-python",
   "name": "python",
   "nbconvert_exporter": "python",
   "pygments_lexer": "ipython2",
   "version": "2.7.6"
  }
 },
 "nbformat": 4,
 "nbformat_minor": 5
}
