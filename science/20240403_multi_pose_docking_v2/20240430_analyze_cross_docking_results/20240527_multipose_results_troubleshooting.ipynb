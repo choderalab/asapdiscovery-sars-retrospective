{
 "cells": [
  {
   "cell_type": "markdown",
   "source": [
    "# Question"
   ],
   "metadata": {
    "collapsed": false
   },
   "id": "972bc2280edcba69"
  },
  {
   "cell_type": "markdown",
   "source": [
    "Plotting the mulitpose results shows that as we increase the number of poses included for the randomly split, sorted by RMSD results, they get worse. this shouldn't be possible so i think something must be wrong"
   ],
   "metadata": {
    "collapsed": false
   },
   "id": "d665fb1e3c9d1bd9"
  },
  {
   "cell_type": "code",
   "outputs": [],
   "source": [],
   "metadata": {
    "collapsed": false
   },
   "id": "916f06ba442aa6a9",
   "execution_count": null
  },
  {
   "cell_type": "markdown",
   "source": [
    "# Imports"
   ],
   "metadata": {
    "collapsed": false
   },
   "id": "66f6e837e97107dc"
  },
  {
   "cell_type": "code",
   "outputs": [],
   "source": [
    "from pathlib import Path\n",
    "import pandas as pd\n",
    "import numpy as np\n",
    "from pydantic import BaseModel, Field\n",
    "import abc\n",
    "from tqdm import tqdm"
   ],
   "metadata": {
    "collapsed": false
   },
   "id": "eef51be1b8ef6830",
   "execution_count": null
  },
  {
   "cell_type": "markdown",
   "source": [
    "## Paths"
   ],
   "metadata": {
    "collapsed": false
   },
   "id": "65ffbd0d81b617f"
  },
  {
   "cell_type": "code",
   "outputs": [],
   "source": [
    "data_path = Path(\"/Users/alexpayne/Scientific_Projects/mers-drug-discovery/sars2-retrospective-analysis/20240424_multi_pose_docking_cross_docking/\")\n",
    "csvs_path = data_path / (\"results_csvs\")\n",
    "result_csv = csvs_path / \"20240503_combined_results_with_data.csv\""
   ],
   "metadata": {
    "collapsed": false
   },
   "id": "fc13d36e6ad81100",
   "execution_count": null
  },
  {
   "cell_type": "code",
   "outputs": [],
   "source": [
    "output_data_path = Path(\"analyzed_data\")"
   ],
   "metadata": {
    "collapsed": false
   },
   "id": "94cf4a300e04b2bc",
   "execution_count": null
  },
  {
   "cell_type": "code",
   "outputs": [],
   "source": [
    "result_csv.exists()"
   ],
   "metadata": {
    "collapsed": false
   },
   "id": "fbe678c5e6f69e49",
   "execution_count": null
  },
  {
   "cell_type": "markdown",
   "source": [
    "## Load Data"
   ],
   "metadata": {
    "collapsed": false
   },
   "id": "4938ff0f5e4b4857"
  },
  {
   "cell_type": "code",
   "outputs": [],
   "source": [
    "df = pd.read_csv(result_csv, index_col=0)\n",
    "df[\"Complex_ID\"] = df[\"Query_Ligand\"] + \"_\" + df[\"Reference_Structure\"]"
   ],
   "metadata": {
    "collapsed": false
   },
   "id": "c7f7d82415d36037",
   "execution_count": null
  },
  {
   "cell_type": "markdown",
   "source": [
    "# only keep first dataset split"
   ],
   "metadata": {
    "collapsed": false
   },
   "id": "7f4182e9a08d132b"
  },
  {
   "cell_type": "code",
   "outputs": [],
   "source": [
    "dates = df.Reference_Structure_Date.unique()\n",
    "dates.sort()\n",
    "earliest = dates[:45]"
   ],
   "metadata": {
    "collapsed": false
   },
   "id": "64ce020e1ad59f4e",
   "execution_count": null
  },
  {
   "cell_type": "code",
   "outputs": [],
   "source": [
    "df_split = df[df.Reference_Structure_Date.isin(earliest)]"
   ],
   "metadata": {
    "collapsed": false
   },
   "id": "b7b460dcbf227dd4",
   "execution_count": null
  },
  {
   "cell_type": "code",
   "outputs": [],
   "source": [
    "df_split.Reference_Structure_Date.nunique()"
   ],
   "metadata": {
    "collapsed": false
   },
   "id": "87912625a8c1478e",
   "execution_count": null
  },
  {
   "cell_type": "code",
   "outputs": [],
   "source": [
    "poses1 = df_split.sort_values(\"Pose_ID\", ascending=True).groupby([\"Query_Ligand\", \"Reference_Ligand\"]).head(1)"
   ],
   "metadata": {
    "collapsed": false
   },
   "id": "dfacdfb586bfcef8",
   "execution_count": null
  },
  {
   "cell_type": "code",
   "outputs": [],
   "source": [
    "poses20 = df_split.sort_values(\"Pose_ID\", ascending=True).groupby([\"Query_Ligand\", \"Reference_Ligand\"]).head(20)"
   ],
   "metadata": {
    "collapsed": false
   },
   "id": "f5b47854855c670e",
   "execution_count": null
  },
  {
   "cell_type": "code",
   "outputs": [],
   "source": [
    "poses50 = df_split.sort_values(\"Pose_ID\", ascending=True).groupby([\"Query_Ligand\", \"Reference_Ligand\"]).head(50)"
   ],
   "metadata": {
    "collapsed": false
   },
   "id": "9665bd3a2beea9c4",
   "execution_count": null
  },
  {
   "cell_type": "code",
   "outputs": [],
   "source": [
    "poses1_scored = poses1.sort_values(\"RMSD\", ascending=True).groupby([\"Query_Ligand\"]).head(1)"
   ],
   "metadata": {
    "collapsed": false
   },
   "id": "c50cfba2662ecb9e",
   "execution_count": null
  },
  {
   "cell_type": "code",
   "outputs": [],
   "source": [
    "poses20_scored = poses20.sort_values(\"RMSD\", ascending=True).groupby([\"Query_Ligand\"]).head(1)"
   ],
   "metadata": {
    "collapsed": false
   },
   "id": "a9adede4e63d4faa",
   "execution_count": null
  },
  {
   "cell_type": "code",
   "outputs": [],
   "source": [
    "poses50_scored = poses50.sort_values(\"RMSD\", ascending=True).groupby([\"Query_Ligand\"]).head(1)"
   ],
   "metadata": {
    "collapsed": false
   },
   "id": "39a56fdcd5d39b38",
   "execution_count": null
  },
  {
   "cell_type": "code",
   "outputs": [],
   "source": [
    "poses1_scored[\"RMSD\"].apply(lambda x: x <= 2.0).sum() / 205"
   ],
   "metadata": {
    "collapsed": false
   },
   "id": "4c504316ef2b86bc",
   "execution_count": null
  },
  {
   "cell_type": "code",
   "outputs": [],
   "source": [
    "poses20_scored[\"RMSD\"].apply(lambda x: x <= 2.0).sum() / 205"
   ],
   "metadata": {
    "collapsed": false
   },
   "id": "9369bc78a497f1db",
   "execution_count": null
  },
  {
   "cell_type": "code",
   "outputs": [],
   "source": [
    "poses50_scored[\"RMSD\"].apply(lambda x: x <= 2.0).sum() / 205"
   ],
   "metadata": {
    "collapsed": false
   },
   "id": "867d4195d0a555a9",
   "execution_count": null
  },
  {
   "cell_type": "markdown",
   "source": [
    "# what about if we use the posit score?"
   ],
   "metadata": {
    "collapsed": false
   },
   "id": "81f03cdcf2319596"
  },
  {
   "cell_type": "code",
   "outputs": [],
   "source": [
    "poses1_scored_posit = poses1.sort_values(\"docking-confidence-POSIT\", ascending=False).groupby([\"Query_Ligand\"]).head(1)"
   ],
   "metadata": {
    "collapsed": false
   },
   "id": "343fc87655d94f24",
   "execution_count": null
  },
  {
   "cell_type": "code",
   "outputs": [],
   "source": [
    "poses20_scored_posit = poses20.sort_values(\"docking-confidence-POSIT\", ascending=False).groupby([\"Query_Ligand\"]).head(1)"
   ],
   "metadata": {
    "collapsed": false
   },
   "id": "7183fbf4c078cfe4",
   "execution_count": null
  },
  {
   "cell_type": "code",
   "outputs": [],
   "source": [
    "poses50_scored_posit = poses50.sort_values(\"docking-confidence-POSIT\", ascending=False).groupby([\"Query_Ligand\"]).head(1)"
   ],
   "metadata": {
    "collapsed": false
   },
   "id": "8aa4f05ce4c5a48",
   "execution_count": null
  },
  {
   "cell_type": "code",
   "outputs": [],
   "source": [
    "poses1_scored_posit[\"RMSD\"].apply(lambda x: x <= 2.0).sum() / 205"
   ],
   "metadata": {
    "collapsed": false
   },
   "id": "1c38887b80952785",
   "execution_count": null
  },
  {
   "cell_type": "code",
   "outputs": [],
   "source": [
    "poses20_scored_posit[\"RMSD\"].apply(lambda x: x <= 2.0).sum() / 205"
   ],
   "metadata": {
    "collapsed": false
   },
   "id": "3bdc99d4937df237",
   "execution_count": null
  },
  {
   "cell_type": "code",
   "outputs": [],
   "source": [
    "poses50_scored_posit[\"RMSD\"].apply(lambda x: x <= 2.0).sum() / 205"
   ],
   "metadata": {
    "collapsed": false
   },
   "id": "40b85b6518adb5d2",
   "execution_count": null
  },
  {
   "cell_type": "markdown",
   "source": [
    "# why is it getting worse?"
   ],
   "metadata": {
    "collapsed": false
   },
   "id": "aebf45d170331563"
  },
  {
   "cell_type": "code",
   "outputs": [],
   "source": [
    "poses50_scored_posit.sort_values([\"RMSD\"])"
   ],
   "metadata": {
    "collapsed": false
   },
   "id": "ce528c7c33199b57",
   "execution_count": null
  },
  {
   "cell_type": "code",
   "outputs": [],
   "source": [
    "poses1_scored_posit.sort_values([\"RMSD\"])"
   ],
   "metadata": {
    "collapsed": false
   },
   "id": "b4de229a7e64d6e9",
   "execution_count": null
  },
  {
   "cell_type": "code",
   "outputs": [],
   "source": [
    "failed1 = poses1_scored_posit[poses1_scored_posit.RMSD > 2.0].Query_Ligand"
   ],
   "metadata": {
    "collapsed": false
   },
   "id": "e9527b57607094ab",
   "execution_count": null
  },
  {
   "cell_type": "code",
   "outputs": [],
   "source": [
    "failed50 = poses50_scored_posit[poses50_scored_posit.RMSD > 2.0].Query_Ligand"
   ],
   "metadata": {
    "collapsed": false
   },
   "id": "d13f62401947fa70",
   "execution_count": null
  },
  {
   "cell_type": "code",
   "outputs": [],
   "source": [
    "set(failed1) - set(failed50)"
   ],
   "metadata": {
    "collapsed": false
   },
   "id": "6e51bcc61783b943",
   "execution_count": null
  },
  {
   "cell_type": "code",
   "outputs": [],
   "source": [
    "set(failed50) - set(failed1)"
   ],
   "metadata": {
    "collapsed": false
   },
   "id": "46abeb8f8c6afdef",
   "execution_count": null
  },
  {
   "cell_type": "code",
   "outputs": [],
   "source": [
    "example1 = poses1[poses1.Query_Ligand == \"EDG-MED-b1ef7fe3-1\"]"
   ],
   "metadata": {
    "collapsed": false
   },
   "id": "22161b55decc5946",
   "execution_count": null
  },
  {
   "cell_type": "code",
   "outputs": [],
   "source": [
    "example50 = poses50[poses50.Query_Ligand == \"EDG-MED-b1ef7fe3-1\"]"
   ],
   "metadata": {
    "collapsed": false
   },
   "id": "9207faab11ba06a5",
   "execution_count": null
  },
  {
   "cell_type": "code",
   "outputs": [],
   "source": [
    "example1"
   ],
   "metadata": {
    "collapsed": false
   },
   "id": "1661deae63929b24",
   "execution_count": null
  },
  {
   "cell_type": "code",
   "outputs": [],
   "source": [
    "example50"
   ],
   "metadata": {
    "collapsed": false
   },
   "id": "3694394213eac0a2",
   "execution_count": null
  },
  {
   "cell_type": "markdown",
   "source": [
    "# Why are these so different?"
   ],
   "metadata": {
    "collapsed": false
   },
   "id": "e01a72e5d705d4fd"
  },
  {
   "cell_type": "code",
   "outputs": [],
   "source": [
    "import plotly.express as px\n",
    "from software.plotting import plot_scatter_with_regression_line_plotly\n",
    "plot_scatter_with_regression_line_plotly(poses1_scored[\"RMSD\"], poses1_scored[\"docking-confidence-POSIT\"])"
   ],
   "metadata": {
    "collapsed": false
   },
   "id": "7f783ba3fff2446",
   "execution_count": null
  },
  {
   "cell_type": "code",
   "outputs": [],
   "source": [
    "fig = plot_scatter_with_regression_line_plotly(poses1_scored_posit[\"RMSD\"], poses1_scored_posit[\"docking-confidence-POSIT\"])\n",
    "fig.update_layout(height=400, width=600)"
   ],
   "metadata": {
    "collapsed": false
   },
   "id": "c9b3f36cd50338f2",
   "execution_count": null
  },
  {
   "cell_type": "code",
   "outputs": [],
   "source": [
    "px.density_contour(poses1_scored, \n",
    "                   x=\"RMSD\", y=\"docking-confidence-POSIT\", \n",
    "                   marginal_x=\"histogram\", \n",
    "                   marginal_y=\"histogram\", \n",
    "                   range_x=[0, 5], \n",
    "                   range_y=[0, 1],\n",
    "                   template=\"plotly_white\",\n",
    "                   height=600,\n",
    "                   width=800)"
   ],
   "metadata": {
    "collapsed": false
   },
   "id": "d1b77c96db99406e",
   "execution_count": null
  },
  {
   "cell_type": "code",
   "outputs": [],
   "source": [
    "px.density_contour(poses1_scored_posit, \n",
    "                   x=\"RMSD\", y=\"docking-confidence-POSIT\", \n",
    "                   marginal_x=\"histogram\", \n",
    "                   marginal_y=\"histogram\", \n",
    "                   range_x=[0, 5], \n",
    "                   range_y=[0, 1],\n",
    "                   template=\"plotly_white\",\n",
    "                   height=600,\n",
    "                   width=800)"
   ],
   "metadata": {
    "collapsed": false
   },
   "id": "ba90ecf225298b57",
   "execution_count": null
  },
  {
   "cell_type": "code",
   "outputs": [],
   "source": [
    "px.density_contour(poses20_scored_posit, \n",
    "                   x=\"RMSD\", y=\"docking-confidence-POSIT\", \n",
    "                   marginal_x=\"histogram\", \n",
    "                   marginal_y=\"histogram\", \n",
    "                   range_x=[0, 5], \n",
    "                   range_y=[0, 1],\n",
    "                   template=\"plotly_white\",\n",
    "                   height=600,\n",
    "                   width=800)"
   ],
   "metadata": {
    "collapsed": false
   },
   "id": "303cb8a8bed28c0e",
   "execution_count": null
  },
  {
   "cell_type": "code",
   "outputs": [],
   "source": [
    "px.density_contour(poses50_scored_posit, \n",
    "                   x=\"RMSD\", y=\"docking-confidence-POSIT\", \n",
    "                   marginal_x=\"histogram\", \n",
    "                   marginal_y=\"histogram\", \n",
    "                   range_x=[0, 5], \n",
    "                   range_y=[0, 1],\n",
    "                   template=\"plotly_white\",\n",
    "                   height=600,\n",
    "                   width=800)"
   ],
   "metadata": {
    "collapsed": false
   },
   "id": "e8df8134e61e5773",
   "execution_count": null
  },
  {
   "cell_type": "code",
   "outputs": [],
   "source": [
    "fig = plot_scatter_with_regression_line_plotly(poses50_scored[\"Pose_ID\"], poses50_scored[\"RMSD\"])\n",
    "fig.update_layout(height=400, width=600, template=\"plotly_white\")\n",
    "fig.update_xaxes(title_text=\"Pose ID\")\n",
    "fig.update_yaxes(title_text=\"RMSD\")"
   ],
   "metadata": {
    "collapsed": false
   },
   "id": "154223ad0f74a2a7",
   "execution_count": null
  },
  {
   "cell_type": "markdown",
   "source": [
    "# maybe a way to show this is to count the number of complexes where a pose after the first has a lower RMSD?"
   ],
   "metadata": {
    "collapsed": false
   },
   "id": "cecc1f1feca43c15"
  },
  {
   "cell_type": "markdown",
   "source": [
    "## I'd like to do this for the full dataset"
   ],
   "metadata": {
    "collapsed": false
   },
   "id": "cf38eb8c67fb55ab"
  },
  {
   "cell_type": "code",
   "outputs": [],
   "source": [
    "poses1 = df.sort_values(\"Pose_ID\", ascending=True).groupby([\"Query_Ligand\", \"Reference_Structure\"]).head(1)"
   ],
   "metadata": {
    "collapsed": false
   },
   "id": "be269433a337131c",
   "execution_count": null
  },
  {
   "cell_type": "code",
   "outputs": [],
   "source": [
    "poses_not_1 = df[df.Pose_ID != 0]"
   ],
   "metadata": {
    "collapsed": false
   },
   "id": "7c3554e308e9cd6d",
   "execution_count": null
  },
  {
   "cell_type": "code",
   "outputs": [],
   "source": [
    "poses_not_1_best = poses_not_1.sort_values([\"RMSD\"]).groupby([\"Query_Ligand\", \"Reference_Structure\"]).head(1)"
   ],
   "metadata": {
    "collapsed": false
   },
   "id": "4c5bcb95aacd0c64",
   "execution_count": null
  },
  {
   "cell_type": "code",
   "outputs": [],
   "source": [
    "poses_not_1_best.nunique()"
   ],
   "metadata": {
    "collapsed": false
   },
   "id": "b7395b94e2967772",
   "execution_count": null
  },
  {
   "cell_type": "code",
   "outputs": [],
   "source": [
    "merged = poses1.merge(poses_not_1_best, on=\"Complex_ID\", suffixes=(\"_1\", \"_not_1\"), how=\"inner\")"
   ],
   "metadata": {
    "collapsed": false
   },
   "id": "d8ed3aab6bdbbfac",
   "execution_count": null
  },
  {
   "cell_type": "code",
   "outputs": [],
   "source": [
    "len(merged)"
   ],
   "metadata": {
    "collapsed": false
   },
   "id": "78c657930f26e7af",
   "execution_count": null
  },
  {
   "cell_type": "code",
   "outputs": [],
   "source": [
    "merged[\"dRMSD\"] = merged[\"RMSD_not_1\"] - merged[\"RMSD_1\"]"
   ],
   "metadata": {
    "collapsed": false
   },
   "id": "bccdc8211599a395",
   "execution_count": null
  },
  {
   "cell_type": "code",
   "outputs": [],
   "source": [
    "sum(merged[\"dRMSD\"] < 0)"
   ],
   "metadata": {
    "collapsed": false
   },
   "id": "7aaea6791ec6a5ed",
   "execution_count": null
  },
  {
   "cell_type": "code",
   "outputs": [],
   "source": [
    "sum(merged[\"dRMSD\"] > 0)"
   ],
   "metadata": {
    "collapsed": false
   },
   "id": "8616cb7fd3860ca",
   "execution_count": null
  },
  {
   "cell_type": "code",
   "outputs": [],
   "source": [
    "rmsd = np.sqrt(sum((merged[\"dRMSD\"])**2))"
   ],
   "metadata": {
    "collapsed": false
   },
   "id": "ffac8ee1ef6e2f74",
   "execution_count": null
  },
  {
   "cell_type": "code",
   "outputs": [],
   "source": [
    "rmsd"
   ],
   "metadata": {
    "collapsed": false
   },
   "id": "28fdb87db34eeb04",
   "execution_count": null
  },
  {
   "cell_type": "code",
   "outputs": [],
   "source": [
    "px.histogram(merged[\"dRMSD\"], height=400, width=600, template=\"plotly_white\")"
   ],
   "metadata": {
    "collapsed": false
   },
   "id": "806fc64649927599",
   "execution_count": null
  },
  {
   "cell_type": "code",
   "outputs": [],
   "source": [
    "merged_big = poses1.merge(poses_not_1, on=\"Complex_ID\", suffixes=(\"_1\", \"_not_1\"), how=\"inner\")\n",
    "merged_big[\"dRMSD\"] = merged_big[\"RMSD_not_1\"] - merged_big[\"RMSD_1\"]"
   ],
   "metadata": {
    "collapsed": false
   },
   "id": "a7199a4c83730bda",
   "execution_count": null
  },
  {
   "cell_type": "code",
   "outputs": [],
   "source": [
    "px.histogram(merged_big[\"dRMSD\"], height=400, width=600, template=\"plotly_white\")"
   ],
   "metadata": {
    "collapsed": false
   },
   "id": "ae94b6ae1fdcf1f0",
   "execution_count": null
  },
  {
   "cell_type": "markdown",
   "source": [
    "# Reference Structure Mpro-P0097 is causing problems again"
   ],
   "metadata": {
    "collapsed": false
   },
   "id": "1eb95a215e61f0bd"
  },
  {
   "cell_type": "code",
   "outputs": [],
   "source": [
    "mpro_p0097 = merged_big[merged_big.Reference_Structure_1 == \"Mpro-P0097_0A\"]"
   ],
   "metadata": {
    "collapsed": false
   },
   "id": "5d1670c0c845c442",
   "execution_count": null
  },
  {
   "cell_type": "code",
   "outputs": [],
   "source": [
    "mpro_p0097"
   ],
   "metadata": {
    "collapsed": false
   },
   "id": "fe7154e86b21d0e",
   "execution_count": null
  },
  {
   "cell_type": "code",
   "outputs": [],
   "source": [],
   "metadata": {
    "collapsed": false
   },
   "id": "8a21c1361f15c069"
  }
 ],
 "metadata": {
  "kernelspec": {
   "display_name": "Python 3",
   "language": "python",
   "name": "python3"
  },
  "language_info": {
   "codemirror_mode": {
    "name": "ipython",
    "version": 2
   },
   "file_extension": ".py",
   "mimetype": "text/x-python",
   "name": "python",
   "nbconvert_exporter": "python",
   "pygments_lexer": "ipython2",
   "version": "2.7.6"
  }
 },
 "nbformat": 4,
 "nbformat_minor": 5
}
