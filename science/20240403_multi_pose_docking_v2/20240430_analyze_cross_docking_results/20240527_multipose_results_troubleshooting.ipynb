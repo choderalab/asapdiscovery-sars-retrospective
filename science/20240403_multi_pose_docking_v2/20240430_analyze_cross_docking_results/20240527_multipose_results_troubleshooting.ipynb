{
 "cells": [
  {
   "cell_type": "markdown",
   "source": [
    "# Question"
   ],
   "metadata": {
    "collapsed": false
   },
   "id": "972bc2280edcba69"
  },
  {
   "cell_type": "markdown",
   "source": [
    "Plotting the mulitpose results shows that as we increase the number of poses included for the randomly split, sorted by RMSD results, they get worse. this shouldn't be possible so i think something must be wrong"
   ],
   "metadata": {
    "collapsed": false
   },
   "id": "d665fb1e3c9d1bd9"
  },
  {
   "cell_type": "code",
   "outputs": [],
   "source": [],
   "metadata": {
    "collapsed": false
   },
   "id": "916f06ba442aa6a9",
   "execution_count": null
  },
  {
   "cell_type": "markdown",
   "source": [
    "# Imports"
   ],
   "metadata": {
    "collapsed": false
   },
   "id": "66f6e837e97107dc"
  },
  {
   "cell_type": "code",
   "outputs": [],
   "source": [
    "from pathlib import Path\n",
    "import pandas as pd\n",
    "import numpy as np\n",
    "from pydantic import BaseModel, Field\n",
    "import abc\n",
    "from tqdm import tqdm"
   ],
   "metadata": {
    "collapsed": false
   },
   "id": "eef51be1b8ef6830",
   "execution_count": null
  },
  {
   "cell_type": "markdown",
   "source": [
    "## Paths"
   ],
   "metadata": {
    "collapsed": false
   },
   "id": "65ffbd0d81b617f"
  },
  {
   "cell_type": "code",
   "outputs": [],
   "source": [
    "data_path = Path(\"/Users/alexpayne/Scientific_Projects/mers-drug-discovery/sars2-retrospective-analysis/20240424_multi_pose_docking_cross_docking/\")\n",
    "csvs_path = data_path / (\"results_csvs\")\n",
    "result_csv = csvs_path / \"20240503_combined_results_with_data.csv\""
   ],
   "metadata": {
    "collapsed": false
   },
   "id": "fc13d36e6ad81100",
   "execution_count": null
  },
  {
   "cell_type": "code",
   "outputs": [],
   "source": [
    "output_data_path = Path(\"analyzed_data\")"
   ],
   "metadata": {
    "collapsed": false
   },
   "id": "94cf4a300e04b2bc",
   "execution_count": null
  },
  {
   "cell_type": "code",
   "outputs": [],
   "source": [
    "result_csv.exists()"
   ],
   "metadata": {
    "collapsed": false
   },
   "id": "fbe678c5e6f69e49",
   "execution_count": null
  },
  {
   "cell_type": "markdown",
   "source": [
    "## Load Data"
   ],
   "metadata": {
    "collapsed": false
   },
   "id": "4938ff0f5e4b4857"
  },
  {
   "cell_type": "code",
   "outputs": [],
   "source": [
    "df = pd.read_csv(result_csv, index_col=0)\n",
    "df[\"Complex_ID\"] = df[\"Query_Ligand\"] + \"_\" + df[\"Reference_Structure\"]"
   ],
   "metadata": {
    "collapsed": false
   },
   "id": "c7f7d82415d36037",
   "execution_count": null
  },
  {
   "cell_type": "markdown",
   "source": [
    "# only keep first dataset split"
   ],
   "metadata": {
    "collapsed": false
   },
   "id": "7f4182e9a08d132b"
  },
  {
   "cell_type": "code",
   "outputs": [],
   "source": [
    "dates = df.Reference_Structure_Date.unique()\n",
    "dates.sort()\n",
    "earliest = dates[:45]"
   ],
   "metadata": {
    "collapsed": false
   },
   "id": "64ce020e1ad59f4e",
   "execution_count": null
  },
  {
   "cell_type": "code",
   "outputs": [],
   "source": [
    "df_split = df[df.Reference_Structure_Date.isin(earliest)]"
   ],
   "metadata": {
    "collapsed": false
   },
   "id": "b7b460dcbf227dd4",
   "execution_count": null
  },
  {
   "cell_type": "code",
   "outputs": [],
   "source": [
    "df_split.Reference_Structure_Date.nunique()"
   ],
   "metadata": {
    "collapsed": false
   },
   "id": "87912625a8c1478e",
   "execution_count": null
  },
  {
   "cell_type": "code",
   "outputs": [],
   "source": [
    "poses1 = df_split.sort_values(\"Pose_ID\", ascending=True).groupby([\"Query_Ligand\", \"Reference_Ligand\"]).head(1)"
   ],
   "metadata": {
    "collapsed": false
   },
   "id": "dfacdfb586bfcef8",
   "execution_count": null
  },
  {
   "cell_type": "code",
   "outputs": [],
   "source": [
    "poses20 = df_split.sort_values(\"Pose_ID\", ascending=True).groupby([\"Query_Ligand\", \"Reference_Ligand\"]).head(20)"
   ],
   "metadata": {
    "collapsed": false
   },
   "id": "f5b47854855c670e",
   "execution_count": null
  },
  {
   "cell_type": "code",
   "outputs": [],
   "source": [
    "poses50 = df_split.sort_values(\"Pose_ID\", ascending=True).groupby([\"Query_Ligand\", \"Reference_Ligand\"]).head(50)"
   ],
   "metadata": {
    "collapsed": false
   },
   "id": "9665bd3a2beea9c4",
   "execution_count": null
  },
  {
   "cell_type": "code",
   "outputs": [],
   "source": [
    "poses1_scored = poses1.sort_values(\"RMSD\", ascending=True).groupby([\"Query_Ligand\"]).head(1)"
   ],
   "metadata": {
    "collapsed": false
   },
   "id": "c50cfba2662ecb9e",
   "execution_count": null
  },
  {
   "cell_type": "code",
   "outputs": [],
   "source": [
    "poses20_scored = poses20.sort_values(\"RMSD\", ascending=True).groupby([\"Query_Ligand\"]).head(1)"
   ],
   "metadata": {
    "collapsed": false
   },
   "id": "a9adede4e63d4faa",
   "execution_count": null
  },
  {
   "cell_type": "code",
   "outputs": [],
   "source": [
    "poses50_scored = poses50.sort_values(\"RMSD\", ascending=True).groupby([\"Query_Ligand\"]).head(1)"
   ],
   "metadata": {
    "collapsed": false
   },
   "id": "39a56fdcd5d39b38",
   "execution_count": null
  },
  {
   "cell_type": "code",
   "outputs": [],
   "source": [
    "poses1_scored[\"RMSD\"].apply(lambda x: x <= 2.0).sum() / 205"
   ],
   "metadata": {
    "collapsed": false
   },
   "id": "4c504316ef2b86bc",
   "execution_count": null
  },
  {
   "cell_type": "code",
   "outputs": [],
   "source": [
    "poses20_scored[\"RMSD\"].apply(lambda x: x <= 2.0).sum() / 205"
   ],
   "metadata": {
    "collapsed": false
   },
   "id": "9369bc78a497f1db",
   "execution_count": null
  },
  {
   "cell_type": "code",
   "outputs": [],
   "source": [
    "poses50_scored[\"RMSD\"].apply(lambda x: x <= 2.0).sum() / 205"
   ],
   "metadata": {
    "collapsed": false
   },
   "id": "867d4195d0a555a9",
   "execution_count": null
  },
  {
   "cell_type": "markdown",
   "source": [
    "# what about if we use the posit score?"
   ],
   "metadata": {
    "collapsed": false
   },
   "id": "81f03cdcf2319596"
  },
  {
   "cell_type": "code",
   "outputs": [],
   "source": [
    "poses1_scored_posit = poses1.sort_values(\"docking-confidence-POSIT\", ascending=False).groupby([\"Query_Ligand\"]).head(1)"
   ],
   "metadata": {
    "collapsed": false
   },
   "id": "343fc87655d94f24",
   "execution_count": null
  },
  {
   "cell_type": "code",
   "outputs": [],
   "source": [
    "poses20_scored = poses20.sort_values(\"docking-confidence-POSIT\", ascending=False).groupby([\"Query_Ligand\"]).head(1)"
   ],
   "metadata": {
    "collapsed": false
   },
   "id": "7183fbf4c078cfe4",
   "execution_count": null
  },
  {
   "cell_type": "code",
   "outputs": [],
   "source": [
    "poses50_scored = poses50.sort_values(\"docking-confidence-POSIT\", ascending=False).groupby([\"Query_Ligand\"]).head(1)"
   ],
   "metadata": {
    "collapsed": false
   },
   "id": "8aa4f05ce4c5a48",
   "execution_count": null
  },
  {
   "cell_type": "code",
   "outputs": [],
   "source": [
    "poses1_scored_posit[\"RMSD\"].apply(lambda x: x <= 2.0).sum() / 205"
   ],
   "metadata": {
    "collapsed": false
   },
   "id": "1c38887b80952785",
   "execution_count": null
  },
  {
   "cell_type": "code",
   "outputs": [],
   "source": [
    "poses20_scored[\"RMSD\"].apply(lambda x: x <= 2.0).sum() / 205"
   ],
   "metadata": {
    "collapsed": false
   },
   "id": "3bdc99d4937df237",
   "execution_count": null
  },
  {
   "cell_type": "code",
   "outputs": [],
   "source": [
    "poses50_scored[\"RMSD\"].apply(lambda x: x <= 2.0).sum() / 205"
   ],
   "metadata": {
    "collapsed": false
   },
   "id": "40b85b6518adb5d2",
   "execution_count": null
  },
  {
   "cell_type": "code",
   "outputs": [],
   "source": [],
   "metadata": {
    "collapsed": false
   },
   "id": "27e7af49629a0ab3"
  },
  {
   "cell_type": "markdown",
   "source": [
    "# Why are these so different?"
   ],
   "metadata": {
    "collapsed": false
   },
   "id": "e01a72e5d705d4fd"
  },
  {
   "cell_type": "code",
   "outputs": [],
   "source": [
    "import plotly.express as px"
   ],
   "metadata": {
    "collapsed": false
   },
   "id": "7f783ba3fff2446",
   "execution_count": null
  },
  {
   "cell_type": "code",
   "outputs": [],
   "source": [
    "px.scatter(poses1_scored, x=\"RMSD\", y=\"docking-confidence-POSIT\")"
   ],
   "metadata": {
    "collapsed": false
   },
   "id": "c9b3f36cd50338f2",
   "execution_count": null
  },
  {
   "cell_type": "code",
   "outputs": [],
   "source": [
    "px.scatter(poses1_scored_posit, x=\"RMSD\", y=\"docking-confidence-POSIT\")"
   ],
   "metadata": {
    "collapsed": false
   },
   "id": "7900424e32b4dc8f",
   "execution_count": null
  },
  {
   "cell_type": "code",
   "outputs": [],
   "source": [],
   "metadata": {
    "collapsed": false
   },
   "id": "a664c77da8383272"
  }
 ],
 "metadata": {
  "kernelspec": {
   "display_name": "Python 3",
   "language": "python",
   "name": "python3"
  },
  "language_info": {
   "codemirror_mode": {
    "name": "ipython",
    "version": 2
   },
   "file_extension": ".py",
   "mimetype": "text/x-python",
   "name": "python",
   "nbconvert_exporter": "python",
   "pygments_lexer": "ipython2",
   "version": "2.7.6"
  }
 },
 "nbformat": 4,
 "nbformat_minor": 5
}
