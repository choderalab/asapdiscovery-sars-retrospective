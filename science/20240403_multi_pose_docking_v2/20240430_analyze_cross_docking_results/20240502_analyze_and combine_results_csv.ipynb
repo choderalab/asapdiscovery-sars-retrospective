{
 "cells": [
  {
   "cell_type": "markdown",
   "id": "ad42d961-09ca-4474-9de3-5fd07c17f56a",
   "metadata": {},
   "source": [
    "# Imports"
   ]
  },
  {
   "cell_type": "code",
   "execution_count": null,
   "id": "712ab61d-439e-4f65-89ce-a4cc61cc3c5e",
   "metadata": {},
   "outputs": [],
   "source": [
    "import numpy as np\n",
    "from pathlib import Path\n",
    "import pandas as pd\n",
    "from tqdm import tqdm\n",
    "from asapdiscovery.docking.analysis import calculate_rmsd_openeye\n",
    "from asapdiscovery.data.schema.ligand import Ligand\n",
    "from asapdiscovery.data.readers.molfile import MolFileFactory\n",
    "from asapdiscovery.modeling.protein_prep import ProteinPrepper\n",
    "import plotly.express as px"
   ]
  },
  {
   "cell_type": "markdown",
   "id": "8442754a-9da0-4db1-96da-c904b81cb0ab",
   "metadata": {
    "tags": []
   },
   "source": [
    "# Load Data"
   ]
  },
  {
   "cell_type": "code",
   "execution_count": null,
   "id": "dcb098de-660e-4ca5-b84b-3d6814ff60f2",
   "metadata": {},
   "outputs": [],
   "source": [
    "# results_path = Path(\"/lila/data/chodera/asap-datasets/retro_docking/sars_fragalysis_retrospective/20240424_multi_pose_docking_cross_docking/\")\n",
    "results_path = Path(\"/Users/alexpayne/Scientific_Projects/mers-drug-discovery/sars2-retrospective-analysis/20240424_multi_pose_docking_cross_docking/results_csvs\")"
   ]
  },
  {
   "cell_type": "code",
   "outputs": [],
   "source": [
    "# cache_path = Path(\"/data/chodera/asap-datasets/mpro_fragalysis-04-01-24_curated_cache\")\n",
    "cache_path = Path(\"/Users/alexpayne/Scientific_Projects/mers-drug-discovery/sars2-retrospective-analysis/mpro_fragalysis-04-01-24_curated_cache\")"
   ],
   "metadata": {
    "collapsed": false
   },
   "id": "e927b3fa39cc313b",
   "execution_count": null
  },
  {
   "cell_type": "code",
   "outputs": [],
   "source": [
    "# original_ligand_path = Path(\"/data/chodera/asap-datasets/mpro_fragalysis-04-01-24_curated_cache/combined_3d.sdf\")\n",
    "original_ligand_path = cache_path / \"combined_3d.sdf\""
   ],
   "metadata": {
    "collapsed": false
   },
   "id": "a8b297a1b99800a2",
   "execution_count": null
  },
  {
   "cell_type": "code",
   "outputs": [],
   "source": [
    "results_path.exists()"
   ],
   "metadata": {
    "collapsed": false
   },
   "id": "34eb9c1ab887fac",
   "execution_count": null
  },
  {
   "cell_type": "code",
   "outputs": [],
   "source": [
    "original_ligand_path.exists()"
   ],
   "metadata": {
    "collapsed": false
   },
   "id": "d77dc792c46d1aa0",
   "execution_count": null
  },
  {
   "cell_type": "code",
   "execution_count": null,
   "id": "fd475b98-1dbb-46e6-9662-4f0b000a7242",
   "metadata": {},
   "outputs": [],
   "source": [
    "from asapdiscovery.modeling.protein_prep import ProteinPrepper\n",
    "complexes = ProteinPrepper.load_cache(cache_path)"
   ]
  },
  {
   "cell_type": "code",
   "execution_count": null,
   "id": "935fa3d4-6452-47e5-8948-976905cac0f8",
   "metadata": {},
   "outputs": [],
   "source": [
    "cmpd_to_frag_dict = {c.ligand.compound_name: c.target.target_name for c in complexes}"
   ]
  },
  {
   "cell_type": "code",
   "execution_count": null,
   "id": "d55f220e-6075-4b55-b9fb-ea2272c26fc2",
   "metadata": {},
   "outputs": [],
   "source": [
    "mff = MolFileFactory(filename=original_ligand_path)\n",
    "ligs = mff.load()"
   ]
  },
  {
   "cell_type": "code",
   "execution_count": null,
   "id": "afd7c05d-7249-4125-98b2-2dcfe008cb84",
   "metadata": {},
   "outputs": [],
   "source": [
    "lig_dict = {lig.compound_name: lig for lig in ligs}"
   ]
  },
  {
   "cell_type": "code",
   "execution_count": null,
   "id": "9da621b4-e910-46f7-8ec0-e6c18030519f",
   "metadata": {},
   "outputs": [],
   "source": [
    "results_paths = list(results_path.glob(\"20240430*.csv\"))"
   ]
  },
  {
   "cell_type": "code",
   "execution_count": null,
   "id": "165e92dd-b0cc-4da9-bf64-0656af6c292c",
   "metadata": {},
   "outputs": [],
   "source": [
    "dfs = [pd.read_csv(_csv) for _csv in results_paths]"
   ]
  },
  {
   "cell_type": "code",
   "outputs": [],
   "source": [
    "df = pd.concat(dfs)"
   ],
   "metadata": {
    "collapsed": false
   },
   "id": "14e3eef33d547380",
   "execution_count": null
  },
  {
   "cell_type": "code",
   "outputs": [],
   "source": [
    "len(df)"
   ],
   "metadata": {
    "collapsed": false
   },
   "id": "7ae0b6a1a036f2c5",
   "execution_count": null
  },
  {
   "cell_type": "markdown",
   "id": "f4278dff-5da2-4291-9785-2387469c0693",
   "metadata": {},
   "source": [
    "# Basic Analysis"
   ]
  },
  {
   "cell_type": "markdown",
   "id": "41e288c5-8bbe-48ca-a752-4f879b4b2a19",
   "metadata": {},
   "source": [
    "## What is the distribution of targets included in each ligand"
   ]
  },
  {
   "cell_type": "code",
   "execution_count": null,
   "id": "07f3f358-bba8-4200-bda7-a8bbda8bc5ce",
   "metadata": {},
   "outputs": [],
   "source": [
    "target_distribution = df.groupby([\"Query_Ligand\"]).nunique()"
   ]
  },
  {
   "cell_type": "code",
   "execution_count": null,
   "id": "2cf75665-2213-4e41-85d9-3abfe6110766",
   "metadata": {},
   "outputs": [],
   "source": [
    "fig = px.histogram(target_distribution, x=\"Reference_Ligand\")\n",
    "fig.write_image(\"target_distribution.png\")"
   ]
  },
  {
   "cell_type": "markdown",
   "id": "fcf3922e-9e75-4d02-b837-3cf684d2d86e",
   "metadata": {},
   "source": [
    "# What is the distribution of ligands successfully docked per target?"
   ]
  },
  {
   "cell_type": "code",
   "execution_count": null,
   "id": "ded3b663-a169-4027-b99f-bfd94c53caed",
   "metadata": {},
   "outputs": [],
   "source": [
    "ligand_distribution = df.groupby([\"Reference_Ligand\"]).nunique()"
   ]
  },
  {
   "cell_type": "code",
   "execution_count": null,
   "id": "bc74dc35-031e-4462-90f5-43b58247ac97",
   "metadata": {},
   "outputs": [],
   "source": [
    "fig = px.histogram(ligand_distribution, x=\"Query_Ligand\")\n",
    "fig.write_image(\"ligand_distribution.png\")"
   ]
  },
  {
   "cell_type": "markdown",
   "id": "0c3d3aef-0a60-4c02-9b3c-fc1882b2aa39",
   "metadata": {},
   "source": [
    "## are all targets and ligands represented?"
   ]
  },
  {
   "cell_type": "code",
   "execution_count": null,
   "id": "69a57c3e-ea70-43d5-b8b5-d3a7bb87d35d",
   "metadata": {},
   "outputs": [],
   "source": [
    "original_lig_ids = set(lig_dict.keys())"
   ]
  },
  {
   "cell_type": "code",
   "execution_count": null,
   "id": "37ee397f-85a8-4e3d-a1be-76082f288a7d",
   "metadata": {},
   "outputs": [],
   "source": [
    "original_lig_ids - set(df.Query_Ligand)"
   ]
  },
  {
   "cell_type": "code",
   "execution_count": null,
   "id": "c53bc42f-cc7b-44b9-a84e-971943c3a03a",
   "metadata": {},
   "outputs": [],
   "source": [
    "original_lig_ids - set(df.Reference_Ligand)"
   ]
  },
  {
   "cell_type": "code",
   "execution_count": null,
   "id": "a6961d62-75ff-4003-afff-d7e135ada8de",
   "metadata": {},
   "outputs": [],
   "source": [
    "set(df.Query_Ligand) - set(df.Reference_Ligand)"
   ]
  },
  {
   "cell_type": "code",
   "execution_count": null,
   "id": "4b896bc3-583e-4fa1-a3c8-57677390442e",
   "metadata": {},
   "outputs": [],
   "source": [
    "set(df.Reference_Ligand) - set(df.Query_Ligand)"
   ]
  },
  {
   "cell_type": "markdown",
   "id": "f789decf-a393-413c-9335-d1a2d424f4ea",
   "metadata": {},
   "source": [
    "### so 3 structures are never docked to:\n",
    "'BRU-THA-92256091-17', 'PET-UNK-8df914d1-2', 'RAL-THA-8416115c-13'"
   ]
  },
  {
   "cell_type": "code",
   "execution_count": null,
   "id": "aadcf480-1329-4c44-8614-6d87e07a64c3",
   "metadata": {},
   "outputs": [],
   "source": [
    "missing_refs = [lig_dict[missing] for missing in original_lig_ids - set(df.Reference_Ligand)]"
   ]
  },
  {
   "cell_type": "markdown",
   "id": "0e3fe83e-7f61-4fba-9bc8-6a526d30e3e5",
   "metadata": {},
   "source": [
    "## what pairs are present?"
   ]
  },
  {
   "cell_type": "code",
   "execution_count": null,
   "id": "12ec33a0-a126-4d53-8db0-8662ea7ffc1f",
   "metadata": {},
   "outputs": [],
   "source": [
    "refs = df.Reference_Ligand\n",
    "queries = df.Query_Ligand\n",
    "pairs = {(ref, query) for ref, query in zip(refs,queries)}"
   ]
  },
  {
   "cell_type": "code",
   "execution_count": null,
   "id": "dfc6bb14-0c36-456f-9856-824013ccdb72",
   "metadata": {},
   "outputs": [],
   "source": [
    "len(pairs)"
   ]
  },
  {
   "cell_type": "code",
   "outputs": [],
   "source": [
    "('MAT-POS-4223bc15-18', 'MAT-POS-2e8b2191-10') in  pairs"
   ],
   "metadata": {
    "collapsed": false
   },
   "id": "b68d1980f27ce9e0",
   "execution_count": null
  },
  {
   "cell_type": "code",
   "execution_count": null,
   "id": "43f9f345-b8a2-4a3e-959d-6c171574f499",
   "metadata": {},
   "outputs": [],
   "source": [
    "from itertools import permutations\n",
    "possible_pairs = set(list(permutations(lig_dict.keys(), 2)))"
   ]
  },
  {
   "cell_type": "code",
   "execution_count": null,
   "id": "051c9ea3-59c9-495b-a42a-fdfe6ba3c9bb",
   "metadata": {},
   "outputs": [],
   "source": [
    "len(possible_pairs)"
   ]
  },
  {
   "cell_type": "code",
   "execution_count": null,
   "id": "7ffaa579-ffa1-4e2b-b8f4-28f109e4ae09",
   "metadata": {},
   "outputs": [],
   "source": []
  },
  {
   "cell_type": "markdown",
   "id": "5669a910-a36e-453c-a0de-6756a92071ea",
   "metadata": {},
   "source": [
    "# Adding null results"
   ]
  },
  {
   "cell_type": "code",
   "execution_count": null,
   "id": "8ec67a28-ed71-46af-8f7a-e11463559bfd",
   "metadata": {},
   "outputs": [],
   "source": [
    "missing_pairs = possible_pairs - pairs"
   ]
  },
  {
   "cell_type": "code",
   "execution_count": null,
   "id": "38afddc0-dfeb-4413-bd33-ff6b7c69d4b5",
   "metadata": {},
   "outputs": [],
   "source": [
    "len(missing_pairs)"
   ]
  },
  {
   "cell_type": "code",
   "execution_count": null,
   "id": "880b66dc-9bb4-4a11-95d5-4fb18cf4b88c",
   "metadata": {},
   "outputs": [],
   "source": [
    "null_df = pd.DataFrame({\"Reference_Ligand\": [i for i,j in missing_pairs], \n",
    "                        \"Query_Ligand\":[j for i,j in missing_pairs],\n",
    "                       \"RMSD\": np.nan,\n",
    "                       \"Pose_ID\": 0,\n",
    "                       \"POSIT_Method\": \"Failed\"})"
   ]
  },
  {
   "cell_type": "code",
   "execution_count": null,
   "id": "01af813a-dd53-4919-bdca-178f5095af3f",
   "metadata": {},
   "outputs": [],
   "source": [
    "null_df"
   ]
  },
  {
   "cell_type": "markdown",
   "id": "1cd9bf79-f529-4219-9904-64b6fdcccaef",
   "metadata": {},
   "source": [
    "## add structures"
   ]
  },
  {
   "cell_type": "code",
   "execution_count": null,
   "id": "3f93bd7f-efd7-419c-ad74-431516499c69",
   "metadata": {},
   "outputs": [],
   "source": [
    "null_df[\"Reference_Structure\"] = null_df.Reference_Ligand.apply(lambda x: cmpd_to_frag_dict[x])"
   ]
  },
  {
   "cell_type": "markdown",
   "id": "3aa3e643-344e-4802-8858-e7971a05d52e",
   "metadata": {},
   "source": [
    "## concat null results"
   ]
  },
  {
   "cell_type": "code",
   "execution_count": null,
   "id": "307799a7-9672-4d7a-94a2-75c2a3ea4bd3",
   "metadata": {},
   "outputs": [],
   "source": [
    "padded = pd.concat([df, null_df])"
   ]
  },
  {
   "cell_type": "code",
   "execution_count": null,
   "id": "fbb7863d-6c80-4d11-93bd-fbf7dda22178",
   "metadata": {},
   "outputs": [],
   "source": [
    "df = padded.copy()\n",
    "df = df.reindex()"
   ]
  },
  {
   "cell_type": "code",
   "outputs": [],
   "source": [
    "df[(df[\"Reference_Ligand\"] == \"MAT-POS-4223bc15-18\")&(df[\"Query_Ligand\"] == \"MAT-POS-2e8b2191-10\")]"
   ],
   "metadata": {
    "collapsed": false
   },
   "id": "e865e3c0076d13ca",
   "execution_count": null
  },
  {
   "cell_type": "markdown",
   "source": [
    "## check that all pairs are present now"
   ],
   "metadata": {
    "collapsed": false
   },
   "id": "563c3d83956604a4"
  },
  {
   "cell_type": "code",
   "outputs": [],
   "source": [
    "refs = df.Reference_Ligand\n",
    "queries = df.Query_Ligand\n",
    "pairs = {(ref, query) for ref, query in zip(refs,queries)}"
   ],
   "metadata": {
    "collapsed": false
   },
   "id": "7e883be27033fc26",
   "execution_count": null
  },
  {
   "cell_type": "code",
   "outputs": [],
   "source": [
    "len(pairs) == len(possible_pairs)"
   ],
   "metadata": {
    "collapsed": false
   },
   "id": "6bb3a51257272752",
   "execution_count": null
  },
  {
   "cell_type": "markdown",
   "id": "525b84f2-93b4-4b41-b132-32a15d192851",
   "metadata": {
    "tags": []
   },
   "source": [
    "# Add Query_Structure "
   ]
  },
  {
   "cell_type": "markdown",
   "id": "bfb286b3-840e-4a48-a433-ce0bbbf6abd8",
   "metadata": {},
   "source": [
    "## make sure the references structures match?"
   ]
  },
  {
   "cell_type": "code",
   "execution_count": null,
   "id": "8d5ea4c3-0476-410b-8ee4-156076f83a51",
   "metadata": {},
   "outputs": [],
   "source": [
    "all(df[\"Reference_Structure\"] == df.Reference_Ligand.apply(lambda x: cmpd_to_frag_dict[x]))"
   ]
  },
  {
   "cell_type": "markdown",
   "id": "e69066fd-6579-4f10-81f5-d39609465a30",
   "metadata": {},
   "source": [
    "## they do, good"
   ]
  },
  {
   "cell_type": "code",
   "execution_count": null,
   "id": "b40a39ae-4ed6-4709-a688-c4888e838059",
   "metadata": {},
   "outputs": [],
   "source": [
    "df[\"Query_Structure\"] = df.Query_Ligand.apply(lambda x: cmpd_to_frag_dict[x])"
   ]
  },
  {
   "cell_type": "markdown",
   "id": "6c1a6900-ddf2-4a3c-8fb2-746610da6d2f",
   "metadata": {
    "tags": []
   },
   "source": [
    "# what is the RMSD distribution?"
   ]
  },
  {
   "cell_type": "code",
   "execution_count": null,
   "id": "5d29aa8c-13e0-4979-8495-7d469a84f046",
   "metadata": {},
   "outputs": [],
   "source": [
    "fig = px.histogram(df, x=\"RMSD\")\n",
    "fig.write_image(\"rmsd_distribution.png\")"
   ]
  },
  {
   "cell_type": "code",
   "execution_count": null,
   "id": "ff61434d-61a4-4f2f-946e-46fec1a7ecc0",
   "metadata": {},
   "outputs": [],
   "source": [
    "failed_rmsd_calculation = df[df.RMSD == -1]"
   ]
  },
  {
   "cell_type": "code",
   "execution_count": null,
   "id": "3db43981-1761-4270-9772-2a0be81b249f",
   "metadata": {},
   "outputs": [],
   "source": [
    "failed_rmsd_calculation.nunique()"
   ]
  },
  {
   "cell_type": "code",
   "execution_count": null,
   "id": "1a908a46-f2a2-42a2-9c48-42a31e1c66d7",
   "metadata": {},
   "outputs": [],
   "source": [
    "failed_rmsd_calculation.Query_Ligand.unique()"
   ]
  },
  {
   "cell_type": "code",
   "execution_count": null,
   "id": "3a6f8a00-1baa-47ec-a852-b4a5cc0ea66b",
   "metadata": {},
   "outputs": [],
   "source": [
    "failed_rmsd_calculation.Query_Structure.unique()"
   ]
  },
  {
   "cell_type": "markdown",
   "id": "5246d919-93b3-4056-8ce6-9726895d9a06",
   "metadata": {},
   "source": [
    "## all the failed rmsd calculations are from 'MAT-POS-5d65ec79-1' - which I have now fixed"
   ]
  },
  {
   "cell_type": "markdown",
   "id": "d297d8a3-4232-4572-a9c2-552e4b125f91",
   "metadata": {},
   "source": [
    "## lets just set those to null for now"
   ]
  },
  {
   "cell_type": "code",
   "execution_count": null,
   "id": "1955fe64-0602-4b0e-8367-0b5e9db4ce62",
   "metadata": {},
   "outputs": [],
   "source": [
    "# df[\"RMSD\"] = df.RMSD.apply(lambda x: np.nan if x == -1 else x)"
   ]
  },
  {
   "cell_type": "code",
   "outputs": [],
   "source": [],
   "metadata": {
    "collapsed": false
   },
   "id": "4af081be1d37182e",
   "execution_count": null
  },
  {
   "cell_type": "markdown",
   "id": "57d975ad-3a14-450e-bdae-983e77f03c8b",
   "metadata": {
    "tags": []
   },
   "source": [
    "# Save the combined csv"
   ]
  },
  {
   "cell_type": "markdown",
   "id": "bb1cf65f-e767-4de8-bc0d-8d23413e8a54",
   "metadata": {},
   "source": [
    "# save a subset for testing"
   ]
  },
  {
   "cell_type": "code",
   "execution_count": null,
   "id": "6e99ff51-8d6f-4efb-8297-6610a1273711",
   "metadata": {
    "tags": []
   },
   "outputs": [],
   "source": [
    "df.to_csv(results_path / \"20240502_combined_results_with_rmsd_and_null_results.csv\")"
   ]
  },
  {
   "cell_type": "code",
   "execution_count": null,
   "id": "9f2f6786-3073-41a4-84e8-f7ea69cb8dae",
   "metadata": {},
   "outputs": [],
   "source": [
    "randomized = df.sample(frac=0.001, replace=False)"
   ]
  },
  {
   "cell_type": "code",
   "execution_count": null,
   "id": "46c8acfb-f089-4196-9bd0-d470af554125",
   "metadata": {},
   "outputs": [],
   "source": [
    "randomized.RMSD.min()"
   ]
  },
  {
   "cell_type": "code",
   "execution_count": null,
   "id": "ca40e415-4b9f-466f-b3f9-a913c7847f80",
   "metadata": {},
   "outputs": [],
   "source": [
    "randomized.RMSD.max()"
   ]
  },
  {
   "cell_type": "code",
   "execution_count": null,
   "id": "4cf15a0e-a571-4f5f-a39f-04f6412db1dc",
   "metadata": {},
   "outputs": [],
   "source": [
    "randomized.nunique()"
   ]
  },
  {
   "cell_type": "code",
   "execution_count": null,
   "id": "21990c6d-1119-410c-8a64-0a881b61b45a",
   "metadata": {},
   "outputs": [],
   "source": [
    "randomized.to_csv(results_path / \"20240502_combined_results_with_rmsd_and_null_results_subset.csv\")"
   ]
  },
  {
   "cell_type": "markdown",
   "source": [
    "# Add Date Information"
   ],
   "metadata": {
    "collapsed": false
   },
   "id": "68247a8b32916768"
  },
  {
   "cell_type": "code",
   "outputs": [],
   "source": [],
   "metadata": {
    "collapsed": false
   },
   "id": "ffed21f4bd29c15",
   "execution_count": null
  },
  {
   "cell_type": "markdown",
   "source": [
    "# Add Chemical Similarity Information"
   ],
   "metadata": {
    "collapsed": false
   },
   "id": "2416caf572acef44"
  },
  {
   "cell_type": "markdown",
   "source": [
    "## Num Atoms in MCSS"
   ],
   "metadata": {
    "collapsed": false
   },
   "id": "ad82f560b2dc1ba2"
  },
  {
   "cell_type": "code",
   "outputs": [],
   "source": [
    "num_atoms_in_mcss = pd.read_csv(\"20240503_ligand_analysis/20240503_mcss_num_atoms.csv\")"
   ],
   "metadata": {
    "collapsed": false
   },
   "id": "fff3a84bde71549e",
   "execution_count": null
  },
  {
   "cell_type": "code",
   "outputs": [],
   "source": [
    "df = df.merge(num_atoms_in_mcss, on=[\"Query_Ligand\", \"Reference_Ligand\"], how=\"left\")"
   ],
   "metadata": {
    "collapsed": false
   },
   "id": "478541764ab1bfdc",
   "execution_count": null
  },
  {
   "cell_type": "markdown",
   "source": [
    "## Tanimoto Similarity of ECFP4"
   ],
   "metadata": {
    "collapsed": false
   },
   "id": "68e7802c85516b2c"
  },
  {
   "cell_type": "code",
   "outputs": [],
   "source": [
    "ecfp4_similarities = pd.read_csv(\"20240503_ligand_analysis/20240503_all_tc_comparison.csv\")"
   ],
   "metadata": {
    "collapsed": false
   },
   "id": "d6a84983ef7cfe76",
   "execution_count": null
  },
  {
   "cell_type": "code",
   "outputs": [],
   "source": [
    "ecfp4_similarities = ecfp4_similarities[ecfp4_similarities[\"Fingerprint\"] == \"ECFP4\"]"
   ],
   "metadata": {
    "collapsed": false
   },
   "id": "2bd8ac2a4f6385e1",
   "execution_count": null
  },
  {
   "cell_type": "code",
   "outputs": [],
   "source": [
    "df = df.merge(ecfp4_similarities, on=[\"Query_Ligand\", \"Reference_Ligand\"], how=\"left\")"
   ],
   "metadata": {
    "collapsed": false
   },
   "id": "d64bcf67441fa53c",
   "execution_count": null
  },
  {
   "cell_type": "markdown",
   "source": [
    "## TanimotoCombo"
   ],
   "metadata": {
    "collapsed": false
   },
   "id": "f8b7bf7149665b72"
  },
  {
   "cell_type": "markdown",
   "source": [
    "# Save CSV with Data"
   ],
   "metadata": {
    "collapsed": false
   },
   "id": "c3918e04b1dedfe8"
  },
  {
   "cell_type": "code",
   "outputs": [],
   "source": [
    "df.to_csv(results_path / \"20240503_combined_results_with_data.csv\")"
   ],
   "metadata": {
    "collapsed": false
   },
   "id": "773fe74a1fb872e1",
   "execution_count": null
  },
  {
   "cell_type": "code",
   "outputs": [],
   "source": [],
   "metadata": {
    "collapsed": false
   },
   "id": "8b1d1a46137f8878",
   "execution_count": null
  }
 ],
 "metadata": {
  "kernelspec": {
   "name": "python3",
   "language": "python",
   "display_name": "Python 3 (ipykernel)"
  },
  "language_info": {
   "codemirror_mode": {
    "name": "ipython",
    "version": 3
   },
   "file_extension": ".py",
   "mimetype": "text/x-python",
   "name": "python",
   "nbconvert_exporter": "python",
   "pygments_lexer": "ipython3",
   "version": "3.10.13"
  }
 },
 "nbformat": 4,
 "nbformat_minor": 5
}
