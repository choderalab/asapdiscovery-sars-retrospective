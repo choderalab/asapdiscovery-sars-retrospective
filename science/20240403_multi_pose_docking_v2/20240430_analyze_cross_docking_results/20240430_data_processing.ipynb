{
 "cells": [
  {
   "cell_type": "markdown",
   "id": "f536e19a-7ef7-47bf-8843-8416d10178ad",
   "metadata": {},
   "source": [
    "# Import"
   ]
  },
  {
   "cell_type": "code",
   "execution_count": null,
   "id": "217402fb-c1e7-498a-9896-4f62bedf8093",
   "metadata": {},
   "outputs": [],
   "source": []
  },
  {
   "cell_type": "markdown",
   "id": "81d1e74f-1b01-45ee-8988-a4ed2df9ce40",
   "metadata": {},
   "source": [
    "# Load Data"
   ]
  },
  {
   "cell_type": "code",
   "execution_count": null,
   "id": "78d11c11-0afe-43e9-8c9a-50d02a1d7d09",
   "metadata": {},
   "outputs": [],
   "source": []
  },
  {
   "cell_type": "code",
   "execution_count": null,
   "id": "9e33bd3e-5f84-4e54-a4da-924a69492d7f",
   "metadata": {},
   "outputs": [],
   "source": []
  }
 ],
 "metadata": {
  "kernelspec": {
   "display_name": "Python 3 (ipykernel)",
   "language": "python",
   "name": "python3"
  },
  "language_info": {
   "codemirror_mode": {
    "name": "ipython",
    "version": 3
   },
   "file_extension": ".py",
   "mimetype": "text/x-python",
   "name": "python",
   "nbconvert_exporter": "python",
   "pygments_lexer": "ipython3",
   "version": "3.9.7"
  }
 },
 "nbformat": 4,
 "nbformat_minor": 5
}
