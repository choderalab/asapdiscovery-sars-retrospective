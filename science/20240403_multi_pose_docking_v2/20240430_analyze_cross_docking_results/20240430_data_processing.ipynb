{
 "cells": [
  {
   "cell_type": "markdown",
   "id": "f536e19a-7ef7-47bf-8843-8416d10178ad",
   "metadata": {},
   "source": [
    "# Import"
   ]
  },
  {
   "cell_type": "code",
   "execution_count": null,
   "id": "217402fb-c1e7-498a-9896-4f62bedf8093",
   "metadata": {},
   "outputs": [],
   "source": [
    "import numpy as np\n",
    "from pathlib import Path\n",
    "import pandas as pd\n",
    "from tqdm import tqdm\n",
    "from asapdiscovery.docking.analysis import calculate_rmsd_openeye\n",
    "from asapdiscovery.data.schema.ligand import Ligand\n",
    "from asapdiscovery.data.readers.molfile import MolFileFactory"
   ]
  },
  {
   "cell_type": "markdown",
   "id": "81d1e74f-1b01-45ee-8988-a4ed2df9ce40",
   "metadata": {},
   "source": [
    "# Load Data"
   ]
  },
  {
   "cell_type": "code",
   "execution_count": null,
   "id": "78d11c11-0afe-43e9-8c9a-50d02a1d7d09",
   "metadata": {},
   "outputs": [],
   "source": [
    "original_ligand_path = Path(\"/data/chodera/asap-datasets/mpro_fragalysis-04-01-24_curated_cache/combined_3d.sdf\")"
   ]
  },
  {
   "cell_type": "code",
   "execution_count": null,
   "id": "8bcbff31-c89b-46d1-9478-d01fcd7ce1c8",
   "metadata": {},
   "outputs": [],
   "source": [
    "mff = MolFileFactory(filename=original_ligand_path)\n",
    "ligs = mff.load()"
   ]
  },
  {
   "cell_type": "code",
   "execution_count": null,
   "id": "1b12c307-c64b-4ad8-9ae4-bc633b7eb17b",
   "metadata": {},
   "outputs": [],
   "source": [
    "results_dfs = list(Path(\"/lila/data/chodera/asap-datasets/retro_docking/sars_fragalysis_retrospective/20240424_multi_pose_docking_cross_docking\").glob(\"*.csv\")]"
   ]
  },
  {
   "cell_type": "code",
   "execution_count": null,
   "id": "db2efe61-dea9-4f0f-b09a-9090329ee946",
   "metadata": {},
   "outputs": [],
   "source": []
  },
  {
   "cell_type": "markdown",
   "id": "36aec29d-5e2f-4bb7-9c17-1a5bd002827a",
   "metadata": {},
   "source": [
    "# Calculate n-to-n MCS"
   ]
  },
  {
   "cell_type": "code",
   "execution_count": null,
   "id": "a77c738f-5292-473f-8d0b-7754e6d45cb3",
   "metadata": {},
   "outputs": [],
   "source": [
    "def get_n_to_n_mcs(mols: list[Ligand]):\n",
    "    from asapdiscovery.data.backend.openeye import oechem\n",
    "   # these are the defaaults for atom and bond expressions but just to be explicit I'm putting them here\n",
    "    atomexpr = (\n",
    "        oechem.OEExprOpts_Aromaticity\n",
    "        | oechem.OEExprOpts_AtomicNumber\n",
    "        | oechem.OEExprOpts_FormalCharge\n",
    "    )\n",
    "    bondexpr = (\n",
    "        oechem.OEExprOpts_Aromaticity\n",
    "        | oechem.OEExprOpts_BondOrder\n",
    "    )\n",
    "    \n",
    "    # want to make these separately so that they don't get silently edited\n",
    "    refmols = [mol.to_oemol() for mol in mols]\n",
    "    querymols = [mol.to_oemol() for mol in mols]\n",
    "    \n",
    "    # Set up the search pattern and MCS objects\n",
    "    mcs_num_atoms = np.zeros((len(refmols), len(querymols)), dtype=int)\n",
    "    for i, refmol in tqdm(enumerate(refmols), total=len(refmols)):\n",
    "        pattern_query = oechem.OEQMol(refmol)\n",
    "        pattern_query.BuildExpressions(atomexpr, bondexpr)\n",
    "        mcss = oechem.OEMCSSearch(pattern_query)\n",
    "        mcss.SetMCSFunc(oechem.OEMCSMaxAtomsCompleteCycles())\n",
    "\n",
    "        for j, querymol in enumerate(querymols):\n",
    "            # MCS search\n",
    "            try:\n",
    "                mcs = next(iter(mcss.Match(querymol, True)))\n",
    "                mcs_num_atoms[i, j] = mcs.NumAtoms()\n",
    "            except StopIteration:  # no match found\n",
    "                mcs_num_atoms[i, j] = 0\n",
    "    return mcs_num_atoms"
   ]
  },
  {
   "cell_type": "code",
   "execution_count": null,
   "id": "cad19742-5a77-4f81-959a-224e44cfd91a",
   "metadata": {
    "tags": []
   },
   "outputs": [],
   "source": [
    "mcs_num_atoms = get_n_to_n_mcs(ligs)"
   ]
  },
  {
   "cell_type": "code",
   "execution_count": null,
   "id": "77d603ec-0f08-463b-9e6e-0b9ddceff054",
   "metadata": {
    "tags": []
   },
   "outputs": [],
   "source": []
  }
 ],
 "metadata": {
  "kernelspec": {
   "display_name": "Python [conda env:asapdiscovery]",
   "language": "python",
   "name": "conda-env-asapdiscovery-py"
  },
  "language_info": {
   "codemirror_mode": {
    "name": "ipython",
    "version": 3
   },
   "file_extension": ".py",
   "mimetype": "text/x-python",
   "name": "python",
   "nbconvert_exporter": "python",
   "pygments_lexer": "ipython3",
   "version": "3.10.13"
  }
 },
 "nbformat": 4,
 "nbformat_minor": 5
}
