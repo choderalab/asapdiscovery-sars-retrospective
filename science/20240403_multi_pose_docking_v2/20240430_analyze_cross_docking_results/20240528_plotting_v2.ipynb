{
 "cells": [
  {
   "cell_type": "markdown",
   "source": [
    "# Imports"
   ],
   "metadata": {
    "collapsed": false
   },
   "id": "3d4de4189cf012e"
  },
  {
   "cell_type": "code",
   "outputs": [],
   "source": [
    "import plotly.express as px\n",
    "import pandas as pd\n",
    "import plotly.graph_objects as go\n",
    "import numpy as np\n",
    "from pathlib import Path"
   ],
   "metadata": {
    "collapsed": false
   },
   "id": "7953e5245b35ecc1",
   "execution_count": null
  },
  {
   "cell_type": "markdown",
   "source": [
    "# Load Data"
   ],
   "metadata": {
    "collapsed": false
   },
   "id": "572abee4b02093b9"
  },
  {
   "cell_type": "code",
   "outputs": [],
   "source": [
    "results_csv = Path(\"/Users/alexpayne/Scientific_Projects/mers-drug-discovery/sars2-retrospective-analysis/20240424_multi_pose_docking_cross_docking/results_csvs/20240503_combined_results_with_data.csv\")"
   ],
   "metadata": {
    "collapsed": false
   },
   "id": "3a6ff430627b3f8",
   "execution_count": null
  },
  {
   "cell_type": "code",
   "outputs": [],
   "source": [
    "data_path = results_csv.parent.parent / \"analyzed_data\"\n",
    "figure_path = Path(\"figures\")"
   ],
   "metadata": {
    "collapsed": false
   },
   "id": "4f72a20134752d6c",
   "execution_count": null
  },
  {
   "cell_type": "code",
   "outputs": [],
   "source": [
    "df_paths = data_path.glob(\"*/*.csv\")"
   ],
   "metadata": {
    "collapsed": false
   },
   "id": "aa28c2fe361b1f63",
   "execution_count": null
  },
  {
   "cell_type": "code",
   "outputs": [],
   "source": [
    "dfs = [pd.read_csv(path) for path in df_paths]"
   ],
   "metadata": {
    "collapsed": false
   },
   "id": "223c0b7e3c8d65b1",
   "execution_count": null
  },
  {
   "cell_type": "code",
   "outputs": [],
   "source": [
    "ogdf = pd.concat(dfs)"
   ],
   "metadata": {
    "collapsed": false
   },
   "id": "761e94df75480d98",
   "execution_count": null
  },
  {
   "cell_type": "code",
   "outputs": [],
   "source": [
    "ogdf[\"Error_Lower\"] = ogdf[\"Fraction\"] - ogdf[\"CI_Lower\"]\n",
    "ogdf[\"Error_Upper\"] = ogdf[\"CI_Upper\"] - ogdf[\"Fraction\"]"
   ],
   "metadata": {
    "collapsed": false
   },
   "id": "6bf1d036d5d75a4c",
   "execution_count": null
  },
  {
   "cell_type": "code",
   "outputs": [],
   "source": [
    "df = ogdf[ogdf.PoseSelection == \"Default\"]"
   ],
   "metadata": {
    "collapsed": false
   },
   "id": "1cbb2493f8354375",
   "execution_count": null
  },
  {
   "cell_type": "markdown",
   "source": [
    "# Plotting Variables"
   ],
   "metadata": {
    "collapsed": false
   },
   "id": "39f23fb59cd4e7f8"
  },
  {
   "cell_type": "code",
   "outputs": [],
   "source": [
    "large_font = 18\n",
    "small_font = 12"
   ],
   "metadata": {
    "collapsed": false
   },
   "id": "949f189910ee49cd",
   "execution_count": null
  },
  {
   "cell_type": "markdown",
   "source": [
    "# Plotting Functions"
   ],
   "metadata": {
    "collapsed": false
   },
   "id": "8d9627b78817e75a"
  },
  {
   "cell_type": "code",
   "outputs": [],
   "source": [
    "def hex_to_rgb(hex_color: str) -> tuple:\n",
    "    hex_color = hex_color.lstrip(\"#\")\n",
    "    if len(hex_color) == 3:\n",
    "        hex_color = hex_color * 2\n",
    "    return int(hex_color[0:2], 16), int(hex_color[2:4], 16), int(hex_color[4:6], 16)"
   ],
   "metadata": {
    "collapsed": false
   },
   "id": "4f41a18bb9246bca",
   "execution_count": null
  },
  {
   "cell_type": "code",
   "outputs": [],
   "source": [
    "def rgb_to_rgba(rgb_str, alpha):\n",
    "    # Split the RGB string into its components\n",
    "    rgb_values = rgb_str.strip('rgb()').split(',')\n",
    "    \n",
    "    # Extract individual RGB values and convert them to integers\n",
    "    r, g, b = map(int, rgb_values)\n",
    "    \n",
    "    # Construct the RGBA string\n",
    "    rgba_str = f\"rgba({r}, {g}, {b}, {alpha})\"\n",
    "    \n",
    "    return rgba_str"
   ],
   "metadata": {
    "collapsed": false
   },
   "id": "eb1944da0bbffdbf",
   "execution_count": null
  },
  {
   "cell_type": "code",
   "outputs": [],
   "source": [
    "def plot_scatter_with_confidence_bands(df, x, y, split_by, error_y_plus, error_y_minus, template=\"plotly_white\", height=600, width=800, colors=px.colors.qualitative.Plotly):\n",
    "    traces = []\n",
    "    \n",
    "    # Covert Colors\n",
    "    if colors[0][0] == \"#\":\n",
    "        colors = [f\"rgb{hex_to_rgb(color)}\" for color in colors]\n",
    "        \n",
    "    \n",
    "    # order by mean\n",
    "    \n",
    "    ordered_splits = df.groupby(split_by)[y].mean().sort_values().index.tolist()\n",
    "    for i, split in enumerate(ordered_splits):\n",
    "        subdf = df[df[split_by] == split]\n",
    "        traces.append(go.Scatter(name=f\"{split}\",\n",
    "                                 x=subdf[x],\n",
    "                                 y=subdf[y],\n",
    "                                 mode='lines',\n",
    "                                 showlegend=True,\n",
    "                                 line_color=rgb_to_rgba(colors[i], 1),\n",
    "                                 ))\n",
    "        traces.append(go.Scatter(name=f\"{split}\",\n",
    "                                 x=subdf[x],\n",
    "                                 y=subdf[y] + subdf[error_y_plus],\n",
    "                                 mode='lines',\n",
    "                                 fillcolor=rgb_to_rgba(colors[i], 0.15),\n",
    "                                 line_width=0,\n",
    "                                 showlegend=False,\n",
    "                                 ))\n",
    "        traces.append(go.Scatter(name=f\"{split}\",\n",
    "                                 x=subdf[x],\n",
    "                                 y=subdf[y] - subdf[error_y_minus],\n",
    "                                 fill='tonexty',\n",
    "                                 mode='lines',\n",
    "                                fillcolor=rgb_to_rgba(colors[i], 0.15),\n",
    "                                 line_width=0,\n",
    "                                 showlegend=False, \n",
    "                                 ))\n",
    "    fig = go.Figure(traces)\n",
    "    fig.update_layout(template=template, height=height, width=width)\n",
    "    return fig"
   ],
   "metadata": {
    "collapsed": false
   },
   "id": "e862d56acfaabed",
   "execution_count": null
  },
  {
   "cell_type": "markdown",
   "source": [
    "# Dataset Split Comparison"
   ],
   "metadata": {
    "collapsed": false
   },
   "id": "d63482fd41e09b1d"
  },
  {
   "cell_type": "code",
   "outputs": [],
   "source": [
    "dataset_split_df = df[(df.StructureChoice == \"Dock_to_All\")&(df.PoseSelection_Choose_N == 1)]"
   ],
   "metadata": {
    "collapsed": false
   },
   "id": "f859d99c8bbf3cd7",
   "execution_count": null
  },
  {
   "cell_type": "code",
   "outputs": [],
   "source": [
    "dataset_split_df.nunique()"
   ],
   "metadata": {
    "collapsed": false
   },
   "id": "9a1af09670e7a899",
   "execution_count": null
  },
  {
   "cell_type": "code",
   "outputs": [],
   "source": [
    "# there are duplicates but they are identical\n",
    "dataset_split_df_simple = dataset_split_df.groupby([\"Score\", \"Split\", \"N_Per_Split\"]).max().reset_index()"
   ],
   "metadata": {
    "collapsed": false
   },
   "id": "5855767854c51cf0",
   "execution_count": null
  },
  {
   "cell_type": "code",
   "outputs": [],
   "source": [
    "dataset_split_df_simple.nunique()"
   ],
   "metadata": {
    "collapsed": false
   },
   "id": "f70ff2c64a9dca13",
   "execution_count": null
  },
  {
   "cell_type": "code",
   "outputs": [],
   "source": [
    "fig = plot_scatter_with_confidence_bands(df = dataset_split_df_simple, \n",
    "                                         x = \"N_Per_Split\", \n",
    "                                         y = \"Fraction\", \n",
    "                                         split_by = \"Split\", \n",
    "                                         error_y_plus=\"Error_Upper\", \n",
    "                                         error_y_minus=\"Error_Lower\", \n",
    "                                         template=\"simple_white\", \n",
    "                                         height=600, \n",
    "                                         width=800, \n",
    "                                         colors=px.colors.qualitative.Plotly)\n",
    "\n",
    "fig.update_layout(\n",
    "    font=dict(size=small_font, \n",
    "              family='Arial'\n",
    "              ),\n",
    "    legend=dict(title=\"<b> Dataset Split </b>\", \n",
    "                              x=0.4, y=0.1, \n",
    "                              traceorder='reversed', \n",
    "                              title_font_size=large_font, \n",
    "                              font_color='black'),\n",
    "                 xaxis=dict(title=\"<b> Total Number of References Available to Use </b>\", \n",
    "                            title_font=dict(size=large_font), \n",
    "                            color='black', \n",
    "                            ),\n",
    "                  yaxis=dict(range=(0,1), \n",
    "                             title=\"<b> Fraction of Poses Docked < 2Å from Reference </b>\", \n",
    "                      title_font=dict(size=large_font), \n",
    "                             color='black', \n",
    "                             ),)\n",
    "fig.update_yaxes(tickvals=np.arange(0, 1.1, 0.1)) \n",
    "fig.show()\n",
    "fig.write_image(figure_path / \"20240528_dataset_split_comparison.png\")\n",
    "fig.write_html(figure_path / \"20240528_dataset_split_comparison.html\")"
   ],
   "metadata": {
    "collapsed": false
   },
   "id": "b6164562edbda9fa",
   "execution_count": null
  },
  {
   "cell_type": "markdown",
   "source": [
    " # Use default plotly express stuff"
   ],
   "metadata": {
    "collapsed": false
   },
   "id": "d1b2059cdc382e43"
  },
  {
   "cell_type": "code",
   "outputs": [],
   "source": [
    "fig = px.line(dataset_split_df_simple, x=\"N_Per_Split\", y=\"Fraction\", color=\"Split\", error_y=\"Error_Upper\", error_y_minus=\"Error_Lower\", template=\"simple_white\", symbol=\"Score\", height=600, width=800, color_discrete_sequence=px.colors.qualitative.Safe)\n",
    "fig.update_layout(\n",
    "    font=dict(size=small_font, \n",
    "              family='Arial'\n",
    "              ),\n",
    "    legend=dict(title=\"<b> Dataset Split, Score Function </b>\", \n",
    "                              x=0.4, y=0.1, \n",
    "                              traceorder='reversed', \n",
    "                              title_font_size=large_font, \n",
    "                              font_color='black'),\n",
    "                 xaxis=dict(title=\"<b> Total Number of References Available to Use </b>\", \n",
    "                            title_font=dict(size=large_font), \n",
    "                            color='black', \n",
    "                            ),\n",
    "                  yaxis=dict(range=(0,1), \n",
    "                             title=\"<b> Fraction of Poses Docked < 2Å from Reference </b>\", \n",
    "                      title_font=dict(size=large_font), \n",
    "                             color='black', \n",
    "                             ),)\n",
    "fig.update_yaxes(tickvals=np.arange(0, 1.1, 0.1)) \n",
    "fig.show()\n",
    "fig.write_image(figure_path / \"20240528_dataset_split_comparison_v2.png\")"
   ],
   "metadata": {
    "collapsed": false
   },
   "id": "dd7f8a8a25c2ff3c",
   "execution_count": null
  },
  {
   "cell_type": "markdown",
   "source": [
    "# Plot Everything Separately"
   ],
   "metadata": {
    "collapsed": false
   },
   "id": "ae4a2d3e2b14ca4d"
  },
  {
   "cell_type": "code",
   "outputs": [],
   "source": [
    "for split in df.Split.unique().tolist():\n",
    "    structure_choice_df = df[df.Split == split]\n",
    "    for choice in structure_choice_df.StructureChoice.unique().tolist():\n",
    "        subset_df = structure_choice_df[structure_choice_df.StructureChoice == choice]\n",
    "        if len(subset_df) == 0:\n",
    "            continue\n",
    "        fig = plot_scatter_with_confidence_bands(subset_df, \n",
    "                                                 \"N_Per_Split\", \n",
    "                                                 \"Fraction\", \n",
    "                                                 \"StructureChoice_Choose_N\", \n",
    "                                                 \"Error_Upper\", \n",
    "                                                 \"Error_Lower\", \n",
    "                                                 template=\"simple_white\", \n",
    "                                                 height=600, \n",
    "                                                 width=800, \n",
    "                                                 colors=px.colors.qualitative.Plotly)\n",
    "        fig.update_layout(\n",
    "            font=dict(size=small_font, \n",
    "                      family='Arial'\n",
    "                      ),\n",
    "            legend=dict(title=f\"<b> DatasetSplit:</b> {split} <br>\"\n",
    "                              f\"<b> StructureChoice:</b> {choice}\", \n",
    "                                      x=0.4, y=0.1, \n",
    "                                      traceorder='reversed', \n",
    "                                      title_font_size=large_font, \n",
    "                                      font_color='black'),\n",
    "                         xaxis=dict(title=\"<b> Total Number of References Available to Use </b>\", \n",
    "                                    title_font=dict(size=large_font), \n",
    "                                    color='black', \n",
    "                                    ),\n",
    "                          yaxis=dict(range=(0,1), \n",
    "                                     title=\"<b> Fraction of Poses Docked < 2Å from Reference </b>\", \n",
    "                              title_font=dict(size=large_font), \n",
    "                                     color='black', \n",
    "                                     ),)\n",
    "        fig.update_yaxes(tickvals=np.arange(0, 1.1, 0.1)) \n",
    "        fig.write_image(figure_path / f\"20240503_{split}_{choice}.png\")\n",
    "        fig.write_html(figure_path / f\"20240503_{split}_{choice}.html\")"
   ],
   "metadata": {
    "collapsed": false
   },
   "id": "692fc71eb23fc88d",
   "execution_count": null
  },
  {
   "cell_type": "markdown",
   "source": [
    "# DateSplit - Structure Choice Comparison"
   ],
   "metadata": {
    "collapsed": false
   },
   "id": "dc20189aef69fe60"
  },
  {
   "cell_type": "code",
   "outputs": [],
   "source": [
    "choose_n = [1,10, \"All\"]\n",
    "structure_choice_comparison_df = pd.concat([\n",
    "    df[(df.Split == \"DateSplit\")&(df.StructureChoice_Choose_N.isin(choose_n))],\n",
    "], )\n",
    "structure_choice_comparison_df[\"Structure Choice\"] = [f\"{i}_{j}\" for i, j in zip(structure_choice_comparison_df[\"StructureChoice\"].tolist(), structure_choice_comparison_df[\"StructureChoice_Choose_N\"].tolist())]"
   ],
   "metadata": {
    "collapsed": false
   },
   "id": "4a325cfbc5ea40e1",
   "execution_count": null
  },
  {
   "cell_type": "code",
   "outputs": [],
   "source": [
    "fig = plot_scatter_with_confidence_bands(df=structure_choice_comparison_df, \n",
    "                                            x=\"N_Per_Split\", \n",
    "                                             y=\"Fraction\", \n",
    "                                             split_by=\"Structure Choice\", \n",
    "                                             error_y_plus=\"Error_Upper\", \n",
    "                                             error_y_minus=\"Error_Lower\", \n",
    "                                             template=\"simple_white\", \n",
    "                                             height=600, \n",
    "                                             width=800, \n",
    "                                             colors=px.colors.qualitative.Safe)\n",
    "fig.update_layout(\n",
    "    font=dict(size=small_font, \n",
    "              family='Arial'\n",
    "              ),\n",
    "    legend=dict(title=f\"<b> Structure Choice</b>\", \n",
    "                              x=0.4, y=0.1, \n",
    "                              traceorder='reversed', \n",
    "                              title_font_size=large_font, \n",
    "                              font_color='black'),\n",
    "                 xaxis=dict(title=\"<b> Total Number of References Available to Use </b>\", \n",
    "                            title_font=dict(size=large_font), \n",
    "                            color='black', \n",
    "                            ),\n",
    "                  yaxis=dict(range=(0,1), \n",
    "                             title=\"<b> Fraction of Poses Docked < 2Å from Reference </b>\", \n",
    "                      title_font=dict(size=large_font), \n",
    "                             color='black', \n",
    "                             ),)\n",
    "fig.update_yaxes(tickvals=np.arange(0, 1.1, 0.1)) \n",
    "fig.write_image(figure_path / f\"20240503_date_split_structure_choice_comparison_{choose_n}.png\")\n",
    "fig.write_html(figure_path / f\"20240503_date_split_structure_choice_comparison_{choose_n}.html\")"
   ],
   "metadata": {
    "collapsed": false
   },
   "id": "4c9e60a4866b5462",
   "execution_count": null
  },
  {
   "cell_type": "markdown",
   "source": [
    "# Calculate how many poses"
   ],
   "metadata": {
    "collapsed": false
   },
   "id": "e9929adf9a8caa9b"
  },
  {
   "cell_type": "code",
   "outputs": [],
   "source": [
    "rdf = pd.read_csv(results_csv, index_col=0)"
   ],
   "metadata": {
    "collapsed": false
   },
   "id": "73c17be7b3f46962",
   "execution_count": null
  },
  {
   "cell_type": "code",
   "outputs": [],
   "source": [
    "rdf = rdf.sort_values([\"Query_Ligand\", \"Reference_Ligand\", \"RMSD\"])"
   ],
   "metadata": {
    "collapsed": false
   },
   "id": "d8519afadf3fb2b4",
   "execution_count": null
  },
  {
   "cell_type": "code",
   "outputs": [],
   "source": [
    "rdf.RMSD.isna().sum()"
   ],
   "metadata": {
    "collapsed": false
   },
   "id": "7f83334a3d61c21d",
   "execution_count": null
  },
  {
   "cell_type": "markdown",
   "source": [
    "## drop the previously added missing values"
   ],
   "metadata": {
    "collapsed": false
   },
   "id": "c8ce8a3f6bec786b"
  },
  {
   "cell_type": "code",
   "outputs": [],
   "source": [
    "rdf = rdf.dropna(subset=[\"RMSD\"])"
   ],
   "metadata": {
    "collapsed": false
   },
   "id": "2c05712bb58deb49",
   "execution_count": null
  },
  {
   "cell_type": "code",
   "outputs": [],
   "source": [
    "n_poses = rdf.groupby([\"Query_Ligand\", \"Reference_Ligand\"]).count().reset_index()"
   ],
   "metadata": {
    "collapsed": false
   },
   "id": "bee4a053bc3ebdcb",
   "execution_count": null
  },
  {
   "cell_type": "code",
   "outputs": [],
   "source": [
    "combined_data = rdf.sort_values(\"RMSD\").groupby([\"Query_Ligand\", \"Reference_Ligand\"]).head(1).reset_index()"
   ],
   "metadata": {
    "collapsed": false
   },
   "id": "f2dd3004c34be7d2",
   "execution_count": null
  },
  {
   "cell_type": "code",
   "outputs": [],
   "source": [
    "n_poses = n_poses.rename(columns={\"Pose_ID\": \"N_Poses\"})"
   ],
   "metadata": {
    "collapsed": false
   },
   "id": "2b77fe598cba8a31",
   "execution_count": null
  },
  {
   "cell_type": "code",
   "outputs": [],
   "source": [
    "n_poses = n_poses[[\"Query_Ligand\", \"Reference_Ligand\", \"N_Poses\"]]"
   ],
   "metadata": {
    "collapsed": false
   },
   "id": "332f53a267d90352",
   "execution_count": null
  },
  {
   "cell_type": "code",
   "outputs": [],
   "source": [
    "merged = n_poses.merge(combined_data, on=[\"Query_Ligand\", \"Reference_Ligand\"])"
   ],
   "metadata": {
    "collapsed": false
   },
   "id": "558d963e7e105dfe",
   "execution_count": null
  },
  {
   "cell_type": "code",
   "outputs": [],
   "source": [
    "lig_orders = merged.sort_values(\"Reference_Structure_Date\").Reference_Ligand.unique().tolist()"
   ],
   "metadata": {
    "collapsed": false
   },
   "id": "12850cfe2656aa47",
   "execution_count": null
  },
  {
   "cell_type": "code",
   "outputs": [],
   "source": [
    "fig = px.density_heatmap(merged,x=\"Query_Ligand\", y=\"Reference_Ligand\", z=\"N_Poses\", category_orders={\"Query_Ligand\": lig_orders, \"Reference_Ligand\": lig_orders,}, color_continuous_scale=\"Viridis\", height=800, width=1000)\n",
    "fig.write_image(figure_path / \"20240521_n_poses_density_heatmap.png\")\n",
    "fig.write_html(figure_path / \"20240521_n_poses_density_heatmap.html\")"
   ],
   "metadata": {
    "collapsed": false
   },
   "id": "15b010f4e92c2d78",
   "execution_count": null
  },
  {
   "cell_type": "markdown",
   "source": [
    "# is the number of poses related to how similar reference / query are?"
   ],
   "metadata": {
    "collapsed": false
   },
   "id": "147fe3c17e9b8d0f"
  },
  {
   "cell_type": "code",
   "outputs": [],
   "source": [
    "fig = px.density_heatmap(merged, y=\"N_Poses\", x=\"Tanimoto\", marginal_x=\"histogram\", marginal_y=\"histogram\", color_continuous_scale=px.colors.sequential.Viridis, height=800, width=1000, template=\"simple_white\", title=\"Number of Poses vs Chemical Similarity (ECFP4) for All Complex Pairs\")\n",
    "fig.write_image(figure_path / \"20240521_n_poses_vs_tanimoto_density_heatmap.png\")\n",
    "fig.write_html(figure_path / \"20240521_n_poses_vs_tanimoto_density_heatmap.html\")"
   ],
   "metadata": {
    "collapsed": false
   },
   "id": "a74a350b1ab40a03",
   "execution_count": null
  },
  {
   "cell_type": "markdown",
   "source": [
    "## no"
   ],
   "metadata": {
    "collapsed": false
   },
   "id": "76c1b5578011109a"
  },
  {
   "cell_type": "markdown",
   "source": [
    "## is is more obvious without the zero pose ones?"
   ],
   "metadata": {
    "collapsed": false
   },
   "id": "de241539027b5e0d"
  },
  {
   "cell_type": "markdown",
   "source": [
    "## no difference because there are no longer any pairs with only 1 pose (or 0 poses)"
   ],
   "metadata": {
    "collapsed": false
   },
   "id": "c66d21838d56ff5e"
  },
  {
   "cell_type": "code",
   "outputs": [],
   "source": [
    "merged_no_zero_poses = merged[merged.N_Poses > 0]"
   ],
   "metadata": {
    "collapsed": false
   },
   "id": "ae23d2f1485e4771",
   "execution_count": null
  },
  {
   "cell_type": "code",
   "outputs": [],
   "source": [
    "sum(merged_no_zero_poses.N_Poses == 1)"
   ],
   "metadata": {
    "collapsed": false
   },
   "id": "9ca7a5baf71d2f3a",
   "execution_count": null
  },
  {
   "cell_type": "code",
   "outputs": [],
   "source": [
    "fig = px.density_heatmap(merged_no_zero_poses, y=\"N_Poses\", x=\"Tanimoto\", marginal_x=\"histogram\", marginal_y=\"histogram\", color_continuous_scale=px.colors.sequential.Viridis, height=800, width=1000, template=\"simple_white\")\n",
    "fig.write_image(figure_path / \"20240521_n_poses_vs_tanimoto_density_heatmap_no_zero_poses.png\")\n",
    "fig.write_html(figure_path / \"20240521_n_poses_vs_tanimoto_density_heatmap_no_zero_poses.html\")"
   ],
   "metadata": {
    "collapsed": false
   },
   "id": "e50965486b786a36",
   "execution_count": null
  },
  {
   "cell_type": "markdown",
   "source": [
    "## is there a difference if you just look at good rmsd poses?"
   ],
   "metadata": {
    "collapsed": false
   },
   "id": "61754a457f532fa4"
  },
  {
   "cell_type": "code",
   "outputs": [],
   "source": [
    "best_rmsd_per_complex = rdf.sort_values([\"RMSD\"]).groupby([\"Query_Ligand\", \"Reference_Ligand\"]).head(1)"
   ],
   "metadata": {
    "collapsed": false
   },
   "id": "5cf28d3447165234",
   "execution_count": null
  },
  {
   "cell_type": "code",
   "outputs": [],
   "source": [
    "best_rmsd_per_complex[\"Good_RMSD\"] = best_rmsd_per_complex.apply(lambda x: x[\"RMSD\"] < 2, axis=1)\n",
    "best_rmsd = best_rmsd_per_complex[best_rmsd_per_complex.Good_RMSD]"
   ],
   "metadata": {
    "collapsed": false
   },
   "id": "f8405f28e3b1d6b",
   "execution_count": null
  },
  {
   "cell_type": "code",
   "outputs": [],
   "source": [
    "best_rmsd_with_n_poses = best_rmsd.merge(n_poses, on=[\"Query_Ligand\", \"Reference_Ligand\"])"
   ],
   "metadata": {
    "collapsed": false
   },
   "id": "aa51d3ac355c2cae",
   "execution_count": null
  },
  {
   "cell_type": "code",
   "outputs": [],
   "source": [
    "fig = px.density_heatmap(best_rmsd_with_n_poses, y=\"N_Poses\", x=\"Tanimoto\", marginal_x=\"histogram\", marginal_y=\"histogram\", color_continuous_scale=px.colors.sequential.Viridis, height=800, width=1000, template=\"simple_white\", title=\"Number of Poses vs Chemical Similarity (ECFP4) for Best RMSD Poses (<2Å)\")\n",
    "fig.write_image(figure_path / \"20240521_best_rmsd_vs_tanimoto_density_heatmap.png\")\n",
    "fig.write_html(figure_path / \"20240521_best_rmsd_vs_tanimoto_density_heatmap.html\")"
   ],
   "metadata": {
    "collapsed": false
   },
   "id": "c0cc355e4ceb32d1",
   "execution_count": null
  },
  {
   "cell_type": "markdown",
   "source": [
    "## scatter plot with trendline"
   ],
   "metadata": {
    "collapsed": false
   },
   "id": "936a8a1b9e8449cc"
  },
  {
   "cell_type": "code",
   "outputs": [],
   "source": [
    "fig = px.scatter(merged, x=\"Tanimoto\", y=\"N_Poses\", trendline=\"ols\", height=800, width=1000, template=\"simple_white\", title=\"Number of Poses vs Chemical Similarity (ECFP4) for Best RMSD Poses (<2Å)\")"
   ],
   "metadata": {
    "collapsed": false
   },
   "id": "cf3ddbc4c8ae6058",
   "execution_count": null
  },
  {
   "cell_type": "markdown",
   "source": [
    "## actually it's kind of annoying to add a trendline to this plot"
   ],
   "metadata": {
    "collapsed": false
   },
   "id": "451cacd4510bac9b"
  },
  {
   "cell_type": "code",
   "outputs": [],
   "source": [
    "from software.plotting import plot_scatter_with_regression_line_plotly"
   ],
   "metadata": {
    "collapsed": false
   },
   "id": "ede017c23492f3b1",
   "execution_count": null
  },
  {
   "cell_type": "code",
   "outputs": [],
   "source": [
    "fig = plot_scatter_with_regression_line_plotly(merged.Tanimoto, merged.N_Poses)\n",
    "fig.update_layout(template=\"simple_white\", height=600, width=800, title=\"Number of Poses vs Chemical Similarity (ECFP4) for All Complex Pairs\")\n",
    "fig.update_layout(\n",
    "    font=dict(size=small_font, \n",
    "              family='Arial'\n",
    "              ),\n",
    "    legend=dict(\n",
    "                              x=0.4, y=0.1,),\n",
    "                 xaxis=dict(title=\"<b> Tanimoto (ECFP4) </b>\", \n",
    "                            title_font=dict(size=large_font), \n",
    "                            color='black', \n",
    "                            ),\n",
    "                  yaxis=dict(title=\"<b> Number of Poses </b>\", \n",
    "                      title_font=dict(size=large_font), \n",
    "                             color='black', \n",
    "                             ),)\n",
    "fig.write_image(figure_path / \"20240521_n_poses_vs_tanimoto_regression.png\")"
   ],
   "metadata": {
    "collapsed": false
   },
   "id": "e4a387e737c01e25",
   "execution_count": null
  },
  {
   "cell_type": "markdown",
   "source": [
    "## only good rmsds"
   ],
   "metadata": {
    "collapsed": false
   },
   "id": "339bfb7176d3be08"
  },
  {
   "cell_type": "code",
   "outputs": [],
   "source": [
    "fig = plot_scatter_with_regression_line_plotly(best_rmsd_with_n_poses.Tanimoto, best_rmsd_with_n_poses.N_Poses)\n",
    "fig.update_layout(template=\"simple_white\", height=600, width=800, title=\"Number of Poses vs Chemical Similarity (ECFP4) for Best RMSD Poses (<2Å)\")\n",
    "fig.update_layout(\n",
    "    font=dict(size=small_font, \n",
    "              family='Arial'\n",
    "              ),\n",
    "    legend=dict(\n",
    "                              x=0.4, y=0.1,),\n",
    "                 xaxis=dict(title=\"<b> Tanimoto (ECFP4) </b>\", \n",
    "                            title_font=dict(size=large_font), \n",
    "                            color='black', \n",
    "                            ),\n",
    "                  yaxis=dict(title=\"<b> Number of Poses </b>\", \n",
    "                      title_font=dict(size=large_font), \n",
    "                             color='black', \n",
    "                             ),)\n",
    "fig.write_image(figure_path / \"20240521_n_poses_vs_tanimoto_regression_best_rmsd.png\")"
   ],
   "metadata": {
    "collapsed": false
   },
   "id": "e04c55c43db33d16",
   "execution_count": null
  },
  {
   "cell_type": "markdown",
   "source": [
    "# what's the correlation between RMSD and number of poses?"
   ],
   "metadata": {
    "collapsed": false
   },
   "id": "3a2968d0d83f2219"
  },
  {
   "cell_type": "code",
   "outputs": [],
   "source": [
    "fig = plot_scatter_with_regression_line_plotly(merged.N_Poses, merged.RMSD)\n",
    "fig.update_layout(template=\"simple_white\", height=600, width=800, title=\"Number of Poses vs Best RMSD for All Complex Pairs\")\n",
    "fig.update_layout(\n",
    "    font=dict(size=small_font, \n",
    "              family='Arial'\n",
    "              ),\n",
    "    legend=dict(\n",
    "                              x=0.4, y=0.1,),\n",
    "                 xaxis=dict(title=\"<b> Number of Poses </b>\", \n",
    "                            title_font=dict(size=large_font), \n",
    "                            color='black', \n",
    "                            ),\n",
    "                  yaxis=dict(title=\"<b> RMSD (A) </b>\", \n",
    "                      title_font=dict(size=large_font), \n",
    "                             color='black', \n",
    "                             ),)\n",
    "fig.write_image(figure_path / \"20240521_n_poses_vs_rmsd.png\")"
   ],
   "metadata": {
    "collapsed": false
   },
   "id": "b81fcca3ef03d6ed",
   "execution_count": null
  },
  {
   "cell_type": "markdown",
   "source": [
    "# Do we do better if we have more poses?"
   ],
   "metadata": {
    "collapsed": false
   },
   "id": "b0ab56080104d327"
  },
  {
   "cell_type": "code",
   "outputs": [],
   "source": [
    "multipose = ogdf[ogdf.PoseSelection != \"Default\"]"
   ],
   "metadata": {
    "collapsed": false
   },
   "id": "91ced3e1044e2f41",
   "execution_count": null
  },
  {
   "cell_type": "code",
   "outputs": [],
   "source": [
    "ogdf.PoseSelection_Choose_N.unique()"
   ],
   "metadata": {
    "collapsed": false
   },
   "id": "6a52e981806483cf",
   "execution_count": null
  },
  {
   "cell_type": "code",
   "outputs": [],
   "source": [
    "random = multipose[multipose.Split == \"RandomSplit\"]"
   ],
   "metadata": {
    "collapsed": false
   },
   "id": "fb4908047692e176",
   "execution_count": null
  },
  {
   "cell_type": "code",
   "outputs": [],
   "source": [
    "random.Score.unique()"
   ],
   "metadata": {
    "collapsed": false
   },
   "id": "d931a5e1a09e0697",
   "execution_count": null
  },
  {
   "cell_type": "code",
   "outputs": [],
   "source": [
    "random"
   ],
   "metadata": {
    "collapsed": false
   },
   "id": "56e697016b28ee23",
   "execution_count": null
  },
  {
   "cell_type": "code",
   "outputs": [],
   "source": [
    "fig = plot_scatter_with_confidence_bands(df=random, \n",
    "                                            x=\"N_Per_Split\", \n",
    "                                             y=\"Fraction\", \n",
    "                                             split_by=\"PoseSelection_Choose_N\", \n",
    "                                             error_y_plus=\"Error_Upper\", \n",
    "                                             error_y_minus=\"Error_Lower\", \n",
    "                                             template=\"simple_white\", \n",
    "                                             height=600, \n",
    "                                             width=800, \n",
    "                                             colors=px.colors.qualitative.Safe)\n",
    "fig.update_layout(\n",
    "    font=dict(size=small_font, \n",
    "              family='Arial'\n",
    "              ),\n",
    "    legend=dict(title=f\"<b> Number of Poses Included </b>\", \n",
    "                              x=0.4, y=0.1, \n",
    "                              traceorder='reversed', \n",
    "                              title_font_size=large_font, \n",
    "                              font_color='black'),\n",
    "                 xaxis=dict(title=\"<b> Total Number of References Available to Use </b>\", \n",
    "                            title_font=dict(size=large_font), \n",
    "                            color='black', \n",
    "                            ),\n",
    "                  yaxis=dict(range=(0,1), \n",
    "                             title=\"<b> Fraction of Poses Docked < 2Å from Reference </b>\", \n",
    "                      title_font=dict(size=large_font), \n",
    "                             color='black', \n",
    "                             ),)\n",
    "fig.update_yaxes(tickvals=np.arange(0, 1.1, 0.1)) \n",
    "fig.show()\n",
    "fig.write_image(figure_path / f\"20240527_n_poses_random_rmsd.png\")\n",
    "fig.write_html(figure_path / f\"20240527_n_poses_random_rmsd.html\")"
   ],
   "metadata": {
    "collapsed": false
   },
   "id": "123ab81b904ab822",
   "execution_count": null
  },
  {
   "cell_type": "code",
   "outputs": [],
   "source": [
    "datesplit = multipose[(multipose.Split == \"DateSplit\")&(multipose.Score == \"RMSD\")]"
   ],
   "metadata": {
    "collapsed": false
   },
   "id": "d406d291e357f3be",
   "execution_count": null
  },
  {
   "cell_type": "code",
   "outputs": [],
   "source": [
    "fig = plot_scatter_with_confidence_bands(df=datesplit, \n",
    "                                            x=\"N_Per_Split\", \n",
    "                                             y=\"Fraction\", \n",
    "                                             split_by=\"PoseSelection_Choose_N\", \n",
    "                                             error_y_plus=\"Error_Upper\", \n",
    "                                             error_y_minus=\"Error_Lower\", \n",
    "                                             template=\"simple_white\", \n",
    "                                             height=600, \n",
    "                                             width=800, \n",
    "                                             colors=px.colors.qualitative.Safe)\n",
    "fig.update_layout(\n",
    "    font=dict(size=small_font, \n",
    "              family='Arial'\n",
    "              ),\n",
    "    legend=dict(title=f\"<b> Number of Poses Included </b>\", \n",
    "                              x=0.4, y=0.1, \n",
    "                              traceorder='reversed', \n",
    "                              title_font_size=large_font, \n",
    "                              font_color='black'),\n",
    "                 xaxis=dict(title=\"<b> Total Number of References Available to Use </b>\", \n",
    "                            title_font=dict(size=large_font), \n",
    "                            color='black', \n",
    "                            ),\n",
    "                  yaxis=dict(range=(0,1), \n",
    "                             title=\"<b> Fraction of Poses Docked < 2Å from Reference </b>\", \n",
    "                      title_font=dict(size=large_font), \n",
    "                             color='black', \n",
    "                             ),)\n",
    "fig.update_yaxes(tickvals=np.arange(0, 1.1, 0.1)) \n",
    "fig.show()\n",
    "fig.write_image(figure_path / f\"20240527_n_poses_datesplit_rmsd.png\")\n",
    "fig.write_html(figure_path / f\"20240527_n_poses_datesplit_rmsd.html\")"
   ],
   "metadata": {
    "collapsed": false
   },
   "id": "7ee9925a66fddb07",
   "execution_count": null
  },
  {
   "cell_type": "code",
   "outputs": [],
   "source": [
    "posit_datesplit = multipose[(multipose.Split == \"DateSplit\")&(multipose.Score == \"POSIT_Probability\")]"
   ],
   "metadata": {
    "collapsed": false
   },
   "id": "68a8ab90de2f6efb",
   "execution_count": null
  },
  {
   "cell_type": "code",
   "outputs": [],
   "source": [
    "posit_datesplit"
   ],
   "metadata": {
    "collapsed": false
   },
   "id": "72cb250a1bbc2284",
   "execution_count": null
  },
  {
   "cell_type": "code",
   "outputs": [],
   "source": [
    "fig = plot_scatter_with_confidence_bands(df=posit_datesplit, \n",
    "                                            x=\"N_Per_Split\", \n",
    "                                             y=\"Fraction\", \n",
    "                                             split_by=\"PoseSelection_Choose_N\", \n",
    "                                             error_y_plus=\"Error_Upper\", \n",
    "                                             error_y_minus=\"Error_Lower\", \n",
    "                                             template=\"simple_white\", \n",
    "                                             height=600, \n",
    "                                             width=800, \n",
    "                                             colors=px.colors.qualitative.Safe)\n",
    "fig.update_layout(\n",
    "    font=dict(size=small_font, \n",
    "              family='Arial'\n",
    "              ),\n",
    "    legend=dict(title=f\"<b> Number of Poses Included </b>\", \n",
    "                              x=0.4, y=0.1, \n",
    "                              traceorder='reversed', \n",
    "                              title_font_size=large_font, \n",
    "                              font_color='black'),\n",
    "                 xaxis=dict(title=\"<b> Total Number of References Available to Use </b>\", \n",
    "                            title_font=dict(size=large_font), \n",
    "                            color='black', \n",
    "                            ),\n",
    "                  yaxis=dict(range=(0,1), \n",
    "                             title=\"<b> Fraction of Poses Docked < 2Å from Reference </b>\", \n",
    "                      title_font=dict(size=large_font), \n",
    "                             color='black', \n",
    "                             ),)\n",
    "fig.update_yaxes(tickvals=np.arange(0, 1.1, 0.1)) \n",
    "fig.show()\n",
    "fig.write_image(figure_path / f\"20240527_n_poses_datesplit_posit.png\")\n",
    "fig.write_html(figure_path / f\"20240527_n_poses_datesplit_posit.html\")"
   ],
   "metadata": {
    "collapsed": false
   },
   "id": "e2457df26fecceb6",
   "execution_count": null
  },
  {
   "cell_type": "code",
   "outputs": [],
   "source": [],
   "metadata": {
    "collapsed": false
   },
   "id": "bba3893e74e98b27",
   "execution_count": null
  }
 ],
 "metadata": {
  "kernelspec": {
   "display_name": "Python 3",
   "language": "python",
   "name": "python3"
  },
  "language_info": {
   "codemirror_mode": {
    "name": "ipython",
    "version": 2
   },
   "file_extension": ".py",
   "mimetype": "text/x-python",
   "name": "python",
   "nbconvert_exporter": "python",
   "pygments_lexer": "ipython2",
   "version": "2.7.6"
  }
 },
 "nbformat": 4,
 "nbformat_minor": 5
}
