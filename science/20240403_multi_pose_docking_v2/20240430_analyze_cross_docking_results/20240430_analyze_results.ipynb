{
 "cells": [
  {
   "cell_type": "markdown",
   "id": "ad42d961-09ca-4474-9de3-5fd07c17f56a",
   "metadata": {},
   "source": [
    "# Imports"
   ]
  },
  {
   "cell_type": "code",
   "execution_count": 1,
   "id": "712ab61d-439e-4f65-89ce-a4cc61cc3c5e",
   "metadata": {},
   "outputs": [],
   "source": [
    "import numpy as np\n",
    "from pathlib import Path\n",
    "import pandas as pd\n",
    "from tqdm import tqdm\n",
    "from asapdiscovery.docking.analysis import calculate_rmsd_openeye\n",
    "from asapdiscovery.data.schema.ligand import Ligand\n",
    "from asapdiscovery.data.readers.molfile import MolFileFactory\n",
    "from asapdiscovery.modeling.protein_prep import ProteinPrepper\n",
    "import plotly.express as px"
   ]
  },
  {
   "cell_type": "markdown",
   "id": "8442754a-9da0-4db1-96da-c904b81cb0ab",
   "metadata": {
    "tags": []
   },
   "source": [
    "# Load Data"
   ]
  },
  {
   "cell_type": "code",
   "execution_count": 31,
   "id": "fd475b98-1dbb-46e6-9662-4f0b000a7242",
   "metadata": {},
   "outputs": [],
   "source": [
    "from asapdiscovery.modeling.protein_prep import ProteinPrepper\n",
    "complexes = ProteinPrepper.load_cache(\"/data/chodera/asap-datasets/mpro_fragalysis-04-01-24_curated_cache\")"
   ]
  },
  {
   "cell_type": "code",
   "execution_count": 35,
   "id": "935fa3d4-6452-47e5-8948-976905cac0f8",
   "metadata": {},
   "outputs": [],
   "source": [
    "cmpd_to_frag_dict = {c.ligand.compound_name: c.target.target_name for c in complexes}"
   ]
  },
  {
   "cell_type": "code",
   "execution_count": 15,
   "id": "45ce55e1-0398-48cc-9cc8-84bf97569874",
   "metadata": {},
   "outputs": [],
   "source": [
    "original_ligand_path = Path(\"/data/chodera/asap-datasets/mpro_fragalysis-04-01-24_curated_cache/combined_3d.sdf\")"
   ]
  },
  {
   "cell_type": "code",
   "execution_count": 16,
   "id": "d55f220e-6075-4b55-b9fb-ea2272c26fc2",
   "metadata": {},
   "outputs": [],
   "source": [
    "mff = MolFileFactory(filename=original_ligand_path)\n",
    "ligs = mff.load()"
   ]
  },
  {
   "cell_type": "code",
   "execution_count": 17,
   "id": "afd7c05d-7249-4125-98b2-2dcfe008cb84",
   "metadata": {},
   "outputs": [],
   "source": [
    "lig_dict = {lig.compound_name: lig for lig in ligs}"
   ]
  },
  {
   "cell_type": "code",
   "execution_count": 2,
   "id": "9da621b4-e910-46f7-8ec0-e6c18030519f",
   "metadata": {},
   "outputs": [],
   "source": [
    "results_paths = list(Path(\"/lila/data/chodera/asap-datasets/retro_docking/sars_fragalysis_retrospective/20240424_multi_pose_docking_cross_docking\").glob(\"*.csv\"))"
   ]
  },
  {
   "cell_type": "code",
   "execution_count": 3,
   "id": "165e92dd-b0cc-4da9-bf64-0656af6c292c",
   "metadata": {},
   "outputs": [],
   "source": [
    "dfs = [pd.read_csv(_csv) for _csv in results_paths]"
   ]
  },
  {
   "cell_type": "code",
   "execution_count": 4,
   "id": "60fbd07c-c279-4b59-a810-64d9a7c711e4",
   "metadata": {},
   "outputs": [],
   "source": [
    "df = pd.concat(dfs)"
   ]
  },
  {
   "cell_type": "code",
   "execution_count": 29,
   "id": "6bf0b94a-3001-456b-af09-36a03c759685",
   "metadata": {},
   "outputs": [],
   "source": [
    "DO_NOT_EDIT = df.copy()"
   ]
  },
  {
   "cell_type": "markdown",
   "id": "f4278dff-5da2-4291-9785-2387469c0693",
   "metadata": {},
   "source": [
    "# Basic Analysis"
   ]
  },
  {
   "cell_type": "markdown",
   "id": "41e288c5-8bbe-48ca-a752-4f879b4b2a19",
   "metadata": {},
   "source": [
    "## What is the distribution of targets included in each ligand"
   ]
  },
  {
   "cell_type": "code",
   "execution_count": 6,
   "id": "07f3f358-bba8-4200-bda7-a8bbda8bc5ce",
   "metadata": {},
   "outputs": [],
   "source": [
    "target_distribution = df.groupby([\"Query_Ligand\"]).nunique()"
   ]
  },
  {
   "cell_type": "code",
   "execution_count": 9,
   "id": "2cf75665-2213-4e41-85d9-3abfe6110766",
   "metadata": {},
   "outputs": [],
   "source": [
    "fig = px.histogram(target_distribution, x=\"Reference_Ligand\")\n",
    "fig.write_image(\"target_distribution.png\")"
   ]
  },
  {
   "cell_type": "markdown",
   "id": "fcf3922e-9e75-4d02-b837-3cf684d2d86e",
   "metadata": {},
   "source": [
    "# What is the distribution of ligands successfully docked per target?"
   ]
  },
  {
   "cell_type": "code",
   "execution_count": 10,
   "id": "ded3b663-a169-4027-b99f-bfd94c53caed",
   "metadata": {},
   "outputs": [],
   "source": [
    "ligand_distribution = df.groupby([\"Reference_Ligand\"]).nunique()"
   ]
  },
  {
   "cell_type": "code",
   "execution_count": 11,
   "id": "bc74dc35-031e-4462-90f5-43b58247ac97",
   "metadata": {},
   "outputs": [],
   "source": [
    "fig = px.histogram(ligand_distribution, x=\"Query_Ligand\")\n",
    "fig.write_image(\"ligand_distribution.png\")"
   ]
  },
  {
   "cell_type": "markdown",
   "id": "0c3d3aef-0a60-4c02-9b3c-fc1882b2aa39",
   "metadata": {},
   "source": [
    "## are all targets and ligands represented?"
   ]
  },
  {
   "cell_type": "code",
   "execution_count": 18,
   "id": "69a57c3e-ea70-43d5-b8b5-d3a7bb87d35d",
   "metadata": {},
   "outputs": [],
   "source": [
    "original_lig_ids = set(lig_dict.keys())"
   ]
  },
  {
   "cell_type": "code",
   "execution_count": 19,
   "id": "37ee397f-85a8-4e3d-a1be-76082f288a7d",
   "metadata": {},
   "outputs": [
    {
     "data": {
      "text/plain": [
       "set()"
      ]
     },
     "execution_count": 19,
     "metadata": {},
     "output_type": "execute_result"
    }
   ],
   "source": [
    "original_lig_ids - set(df.Query_Ligand)"
   ]
  },
  {
   "cell_type": "code",
   "execution_count": 20,
   "id": "c53bc42f-cc7b-44b9-a84e-971943c3a03a",
   "metadata": {},
   "outputs": [
    {
     "data": {
      "text/plain": [
       "{'BRU-THA-92256091-17', 'PET-UNK-8df914d1-2', 'RAL-THA-8416115c-13'}"
      ]
     },
     "execution_count": 20,
     "metadata": {},
     "output_type": "execute_result"
    }
   ],
   "source": [
    "original_lig_ids - set(df.Reference_Ligand)"
   ]
  },
  {
   "cell_type": "code",
   "execution_count": 13,
   "id": "a6961d62-75ff-4003-afff-d7e135ada8de",
   "metadata": {},
   "outputs": [
    {
     "data": {
      "text/plain": [
       "{'BRU-THA-92256091-17', 'PET-UNK-8df914d1-2', 'RAL-THA-8416115c-13'}"
      ]
     },
     "execution_count": 13,
     "metadata": {},
     "output_type": "execute_result"
    }
   ],
   "source": [
    "set(df.Query_Ligand) - set(df.Reference_Ligand)"
   ]
  },
  {
   "cell_type": "code",
   "execution_count": 14,
   "id": "4b896bc3-583e-4fa1-a3c8-57677390442e",
   "metadata": {},
   "outputs": [
    {
     "data": {
      "text/plain": [
       "set()"
      ]
     },
     "execution_count": 14,
     "metadata": {},
     "output_type": "execute_result"
    }
   ],
   "source": [
    "set(df.Reference_Ligand) - set(df.Query_Ligand)"
   ]
  },
  {
   "cell_type": "markdown",
   "id": "f789decf-a393-413c-9335-d1a2d424f4ea",
   "metadata": {},
   "source": [
    "### so 3 structures are never docked to:\n",
    "'BRU-THA-92256091-17', 'PET-UNK-8df914d1-2', 'RAL-THA-8416115c-13'"
   ]
  },
  {
   "cell_type": "code",
   "execution_count": 22,
   "id": "aadcf480-1329-4c44-8614-6d87e07a64c3",
   "metadata": {},
   "outputs": [],
   "source": [
    "missing_refs = [lig_dict[missing] for missing in original_lig_ids - set(df.Reference_Ligand)]"
   ]
  },
  {
   "cell_type": "markdown",
   "id": "0e3fe83e-7f61-4fba-9bc8-6a526d30e3e5",
   "metadata": {},
   "source": [
    "## what pairs are present?"
   ]
  },
  {
   "cell_type": "code",
   "execution_count": 43,
   "id": "12ec33a0-a126-4d53-8db0-8662ea7ffc1f",
   "metadata": {},
   "outputs": [],
   "source": [
    "refs = df.Reference_Ligand\n",
    "queries = df.Query_Ligand\n",
    "pairs = {(ref, query) for ref, query in zip(refs,queries)}"
   ]
  },
  {
   "cell_type": "code",
   "execution_count": 44,
   "id": "dfc6bb14-0c36-456f-9856-824013ccdb72",
   "metadata": {},
   "outputs": [
    {
     "data": {
      "text/plain": [
       "33429"
      ]
     },
     "execution_count": 44,
     "metadata": {},
     "output_type": "execute_result"
    }
   ],
   "source": [
    "len(pairs)"
   ]
  },
  {
   "cell_type": "code",
   "execution_count": 45,
   "id": "ffbe6326-6de9-4619-ba2c-f98ddf69264e",
   "metadata": {},
   "outputs": [],
   "source": [
    "\n",
    "possible_pairs = {(ref, query) for ref, query in zip(lig_dict.keys(), lig_dict.keys())}"
   ]
  },
  {
   "cell_type": "code",
   "execution_count": 47,
   "id": "1542a4c3-6be7-441b-86d6-f2693d655b74",
   "metadata": {},
   "outputs": [
    {
     "data": {
      "text/plain": [
       "205"
      ]
     },
     "execution_count": 47,
     "metadata": {},
     "output_type": "execute_result"
    }
   ],
   "source": [
    "len(possible_pairs)"
   ]
  },
  {
   "cell_type": "code",
   "execution_count": 49,
   "id": "43f9f345-b8a2-4a3e-959d-6c171574f499",
   "metadata": {},
   "outputs": [],
   "source": [
    "from itertools import permutations\n",
    "possible_pairs = permutations(lig_dict.keys())"
   ]
  },
  {
   "cell_type": "code",
   "execution_count": 50,
   "id": "051c9ea3-59c9-495b-a42a-fdfe6ba3c9bb",
   "metadata": {},
   "outputs": [
    {
     "data": {
      "text/plain": [
       "<itertools.permutations at 0x2b7a48fd9f30>"
      ]
     },
     "execution_count": 50,
     "metadata": {},
     "output_type": "execute_result"
    }
   ],
   "source": [
    "list(possible_pairs"
   ]
  },
  {
   "cell_type": "markdown",
   "id": "5669a910-a36e-453c-a0de-6756a92071ea",
   "metadata": {},
   "source": [
    "# Adding null results"
   ]
  },
  {
   "cell_type": "code",
   "execution_count": null,
   "id": "8ec67a28-ed71-46af-8f7a-e11463559bfd",
   "metadata": {},
   "outputs": [],
   "source": []
  },
  {
   "cell_type": "markdown",
   "id": "525b84f2-93b4-4b41-b132-32a15d192851",
   "metadata": {
    "tags": []
   },
   "source": [
    "# Add Query_Structure "
   ]
  },
  {
   "cell_type": "code",
   "execution_count": 38,
   "id": "b40a39ae-4ed6-4709-a688-c4888e838059",
   "metadata": {},
   "outputs": [],
   "source": [
    "df[\"Query_Structure\"] = df.Query_Ligand.apply(lambda x: cmpd_to_frag_dict[x])"
   ]
  },
  {
   "cell_type": "code",
   "execution_count": null,
   "id": "0f9e0258-0417-4885-869d-190bc2757925",
   "metadata": {},
   "outputs": [],
   "source": []
  },
  {
   "cell_type": "code",
   "execution_count": null,
   "id": "09c41be9-afa2-460f-8842-29240f87f2e4",
   "metadata": {},
   "outputs": [],
   "source": []
  },
  {
   "cell_type": "markdown",
   "id": "9d691114-fc03-4d09-9926-d4eea94ff4dc",
   "metadata": {},
   "source": [
    "# Dataset Split"
   ]
  },
  {
   "cell_type": "code",
   "execution_count": null,
   "id": "7ab6c906-f9a5-49b7-b1a3-3cfafca07fdc",
   "metadata": {},
   "outputs": [],
   "source": []
  },
  {
   "cell_type": "code",
   "execution_count": null,
   "id": "1cd2d435-6841-49d5-a0d0-a999e8839f79",
   "metadata": {},
   "outputs": [],
   "source": []
  },
  {
   "cell_type": "code",
   "execution_count": null,
   "id": "6e99ff51-8d6f-4efb-8297-6610a1273711",
   "metadata": {},
   "outputs": [],
   "source": []
  }
 ],
 "metadata": {
  "kernelspec": {
   "display_name": "Python [conda env:asapdiscovery]",
   "language": "python",
   "name": "conda-env-asapdiscovery-py"
  },
  "language_info": {
   "codemirror_mode": {
    "name": "ipython",
    "version": 3
   },
   "file_extension": ".py",
   "mimetype": "text/x-python",
   "name": "python",
   "nbconvert_exporter": "python",
   "pygments_lexer": "ipython3",
   "version": "3.10.13"
  }
 },
 "nbformat": 4,
 "nbformat_minor": 5
}
