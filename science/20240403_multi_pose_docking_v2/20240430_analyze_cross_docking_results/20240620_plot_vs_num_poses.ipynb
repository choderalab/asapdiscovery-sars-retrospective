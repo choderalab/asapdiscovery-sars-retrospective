{
 "cells": [
  {
   "cell_type": "markdown",
   "source": [
    "# Intro"
   ],
   "metadata": {
    "collapsed": false
   },
   "id": "ce3ddb0d32de4476"
  },
  {
   "cell_type": "markdown",
   "source": [
    "The purpose of this notebook is to generate the plots where the number of poses is on the x-axis and the fraction of protein-ligand complexes docked within 2A is on the y-axis."
   ],
   "metadata": {
    "collapsed": false
   },
   "id": "abb88b14bc64c47b"
  },
  {
   "cell_type": "markdown",
   "source": [
    "# Imports"
   ],
   "metadata": {
    "collapsed": false
   },
   "id": "19e19127ab455634"
  },
  {
   "cell_type": "code",
   "outputs": [],
   "source": [
    "from pathlib import Path\n",
    "import pandas as pd\n",
    "import plotly.express as px\n",
    "from harbor.analysis.cross_docking import FractionGood\n",
    "import numpy as np"
   ],
   "metadata": {
    "collapsed": false
   },
   "id": "5560ef3333cd3b34",
   "execution_count": null
  },
  {
   "cell_type": "code",
   "outputs": [],
   "source": [
    "results_csv = Path(\"/Users/alexpayne/Scientific_Projects/mers-drug-discovery/sars2-retrospective-analysis/20240424_multi_pose_docking_cross_docking/results_csvs/20240503_combined_results_with_data.csv\")"
   ],
   "metadata": {
    "collapsed": false
   },
   "id": "87d07d1a670655e5",
   "execution_count": null
  },
  {
   "cell_type": "code",
   "outputs": [],
   "source": [
    "data_path = results_csv.parent.parent / \"analyzed_data\"\n",
    "figure_path = Path(\"figures\")"
   ],
   "metadata": {
    "collapsed": false
   },
   "id": "552ca231f44f4e4",
   "execution_count": null
  },
  {
   "cell_type": "code",
   "outputs": [],
   "source": [
    "df = pd.read_csv(results_csv, index_col=0)"
   ],
   "metadata": {
    "collapsed": false
   },
   "id": "57b15652f6977f15",
   "execution_count": null
  },
  {
   "cell_type": "code",
   "outputs": [],
   "source": [
    "df[\"Complex_ID\"] = df[\"Query_Ligand\"] + \"_\" + df[\"Reference_Structure\"]"
   ],
   "metadata": {
    "collapsed": false
   },
   "id": "33a842e770563d2c",
   "execution_count": null
  },
  {
   "cell_type": "markdown",
   "source": [
    "# Remove failed complexes"
   ],
   "metadata": {
    "collapsed": false
   },
   "id": "648642eaaebca389"
  },
  {
   "cell_type": "code",
   "outputs": [],
   "source": [
    "df = df[~df[\"RMSD\"].isna()]"
   ],
   "metadata": {
    "collapsed": false
   },
   "id": "ce7f11c546617317",
   "execution_count": null
  },
  {
   "cell_type": "code",
   "outputs": [],
   "source": [
    "fractions = []\n",
    "total = df.Complex_ID.nunique()\n",
    "n_poses_list = [1] + list(range(5,51, 5))\n",
    "n_actual_poses_list = []\n",
    "for n_poses in n_poses_list:\n",
    "    subset_df = df.groupby([\"Complex_ID\"]).head(n_poses)\n",
    "    n_poses_df = subset_df.groupby(\"Complex_ID\")[\"Pose_ID\"].count()\n",
    "    n_poses_df['N_Poses'] = n_poses\n",
    "    n_actual_poses_list.append(n_poses_df)\n",
    "    fraction = sum(subset_df.sort_values(\"RMSD\").groupby(\"Complex_ID\").head(1)[\"RMSD\"] <= 2.0) / total\n",
    "    fg = FractionGood(name=f'{n_poses}_Poses', total=total, fraction=fraction, replicates=[fraction])\n",
    "    fractions.append(fg)"
   ],
   "metadata": {
    "collapsed": false
   },
   "id": "b154b9909ca57282",
   "execution_count": null
  },
  {
   "cell_type": "code",
   "outputs": [],
   "source": [
    "n_actual_poses_list[0][\"Test\"] = 1"
   ],
   "metadata": {
    "collapsed": false
   },
   "id": "2773e487f7f119f6",
   "execution_count": null
  },
  {
   "cell_type": "code",
   "outputs": [],
   "source": [
    "n_actual_poses_dfs = []\n",
    "for i, n_poses_series in enumerate(n_actual_poses_list):\n",
    "    n_actual_poses_dfs.append(pd.DataFrame({\"Actual_Poses\": n_poses_series, \"N_Poses\": n_poses_list[i]}))"
   ],
   "metadata": {
    "collapsed": false
   },
   "id": "2fa1bca589487fcf",
   "execution_count": null
  },
  {
   "cell_type": "code",
   "outputs": [],
   "source": [
    "n_actual_poses_df = pd.concat(n_actual_poses_dfs)"
   ],
   "metadata": {
    "collapsed": false
   },
   "id": "17964a3f64302761",
   "execution_count": null
  },
  {
   "cell_type": "code",
   "outputs": [],
   "source": [
    "from plotly import figure_factory as ff\n",
    "def plot_kde(df, value_column, group_column, groups=None):\n",
    "    \"\"\"\n",
    "    Plots a KDE plot of the values in `value_column` grouped by the values in `group_column`.\n",
    "    :param df:\n",
    "    :param value_column:\n",
    "    :param group_column:\n",
    "    :param groups:\n",
    "    :return:\n",
    "    \"\"\"\n",
    "    if not groups:\n",
    "        groups = df[group_column].unique()\n",
    "    arrays = [df[df[group_column] == group][value_column] for group in groups]\n",
    "    fig = ff.create_distplot(arrays, group_labels=[str(group) for group in groups], bin_size=0.25, show_rug=False)    \n",
    "    fig.update_layout(width=600, height=400)\n",
    "    return fig"
   ],
   "metadata": {
    "collapsed": false
   },
   "id": "6185acf58cb10465",
   "execution_count": null
  },
  {
   "cell_type": "code",
   "outputs": [],
   "source": [
    "fig = plot_kde(n_actual_poses_df[n_actual_poses_df.N_Poses > 1], \"Actual_Poses\", \"N_Poses\", groups=None)"
   ],
   "metadata": {
    "collapsed": false
   },
   "id": "67534004dd9006a2",
   "execution_count": null
  },
  {
   "cell_type": "code",
   "outputs": [],
   "source": [
    "n_poses_list"
   ],
   "metadata": {
    "collapsed": false
   },
   "id": "456d58d600577c46",
   "execution_count": null
  },
  {
   "cell_type": "code",
   "outputs": [],
   "source": [
    "fig = px.histogram(n_actual_poses_df,\n",
    "                   category_orders={\"N_Poses\": n_poses_list},\n",
    "             x=\"Actual_Poses\", \n",
    "             color=\"N_Poses\", \n",
    "             template=\"simple_white\", \n",
    "             height=1200, \n",
    "             width=1200, \n",
    "             barmode=\"overlay\", \n",
    "             marginal=\"box\", \n",
    "             opacity=0.6, \n",
    "             color_discrete_sequence=px.colors.qualitative.Safe)"
   ],
   "metadata": {
    "collapsed": false
   },
   "id": "c3a9f8bb47126df7",
   "execution_count": null
  },
  {
   "cell_type": "code",
   "outputs": [],
   "source": [
    "fig.show()"
   ],
   "metadata": {
    "collapsed": false
   },
   "id": "b7c87053d162fca1",
   "execution_count": null
  },
  {
   "cell_type": "code",
   "outputs": [],
   "source": [],
   "metadata": {
    "collapsed": false
   },
   "id": "4fe40cea31533585"
  },
  {
   "cell_type": "code",
   "outputs": [],
   "source": [
    "fraction_df = pd.DataFrame.from_records([f.get_records() for f in fractions])"
   ],
   "metadata": {
    "collapsed": false
   },
   "id": "7fc606c7e6668b59",
   "execution_count": null
  },
  {
   "cell_type": "code",
   "outputs": [],
   "source": [
    "fraction_df[\"N_Poses\"] = n_poses_list"
   ],
   "metadata": {
    "collapsed": false
   },
   "id": "eaac355188b09a86",
   "execution_count": null
  },
  {
   "cell_type": "code",
   "outputs": [],
   "source": [
    "fraction_df[\"Error_Lower\"] = fraction_df[\"Fraction\"] - fraction_df[\"CI_Lower\"]\n",
    "fraction_df[\"Error_Upper\"] = fraction_df[\"CI_Upper\"] - fraction_df[\"Fraction\"]"
   ],
   "metadata": {
    "collapsed": false
   },
   "id": "b9357ec8793c9e9f",
   "execution_count": null
  },
  {
   "cell_type": "code",
   "outputs": [],
   "source": [
    "large_font = 18\n",
    "small_font = 12"
   ],
   "metadata": {
    "collapsed": false
   },
   "id": "2102302ea963280b",
   "execution_count": null
  },
  {
   "cell_type": "code",
   "outputs": [],
   "source": [
    "fig = px.line(fraction_df, x=\"N_Poses\", y=\"Fraction\", error_y=\"Error_Upper\", error_y_minus=\"Error_Lower\", template=\"simple_white\", height=600, width=800, color_discrete_sequence=px.colors.qualitative.Safe)\n",
    "fig.update_layout(\n",
    "    font=dict(size=small_font, \n",
    "              family='Arial'\n",
    "              ),\n",
    "    legend=dict(title=\"<b> Dataset Split, Score Function </b>\", \n",
    "                              x=0.4, y=0.1, \n",
    "                              traceorder='reversed', \n",
    "                              title_font_size=large_font, \n",
    "                              font_color='black'),\n",
    "                 xaxis=dict(title=\"<b> Total Number of Kept Poses </b>\", \n",
    "                            title_font=dict(size=large_font), \n",
    "                            color='black', \n",
    "                            ),\n",
    "                  yaxis=dict(range=(0,1), \n",
    "                             title=\"<b> Fraction of Poses Docked < 2Å from Reference </b>\", \n",
    "                      title_font=dict(size=large_font), \n",
    "                             color='black', \n",
    "                             ),)\n",
    "fig.update_yaxes(tickvals=np.arange(0, 1.1, 0.1)) \n",
    "fig.show()\n",
    "fig.write_image(figure_path / \"20240620_png\")"
   ],
   "metadata": {
    "collapsed": false
   },
   "id": "8a3132a94da49dcc",
   "execution_count": null
  },
  {
   "cell_type": "code",
   "outputs": [],
   "source": [],
   "metadata": {
    "collapsed": false
   },
   "id": "d57afc31db13d062"
  },
  {
   "cell_type": "markdown",
   "source": [
    "# I guess what we really want to know is, for each complex with a pose < 2A, what is its number?"
   ],
   "metadata": {
    "collapsed": false
   },
   "id": "4b4b6ababa7cf448"
  },
  {
   "cell_type": "markdown",
   "source": [
    "## First, get complex_id with at least 1 pose < 2A"
   ],
   "metadata": {
    "collapsed": false
   },
   "id": "ebf3ee6e2ebef982"
  },
  {
   "cell_type": "code",
   "outputs": [],
   "source": [
    "good_complexes_df = df[df[\"RMSD\"] <= 2.0]"
   ],
   "metadata": {
    "collapsed": false
   },
   "id": "3b695bcd6845967d",
   "execution_count": null
  },
  {
   "cell_type": "code",
   "outputs": [],
   "source": [
    "first_below_2A = good_complexes_df.sort_values(\"Pose_ID\").groupby(\"Complex_ID\").head(1)['Pose_ID']\n",
    "best_pose = good_complexes_df.sort_values(\"RMSD\").groupby(\"Complex_ID\").head(1)['Pose_ID']"
   ],
   "metadata": {
    "collapsed": false
   },
   "id": "d00e030c062bf738",
   "execution_count": null
  },
  {
   "cell_type": "code",
   "outputs": [],
   "source": [
    "df1 = pd.DataFrame({\"Pose_ID\": first_below_2A, \"Label\": \"First < 2Å\"})\n",
    "df2 = pd.DataFrame({\"Pose_ID\": best_pose, \"Label\": \"Best < 2Å\"})\n",
    "grouped_df = pd.concat([df1, df2])"
   ],
   "metadata": {
    "collapsed": false
   },
   "id": "fb7523d45c012400",
   "execution_count": null
  },
  {
   "cell_type": "code",
   "outputs": [],
   "source": [
    "px.histogram(grouped_df, x=\"Pose_ID\", template=\"simple_white\", height=600, width=800, color_discrete_sequence=px.colors.qualitative.Safe, color=\"Label\", barmode=\"overlay\")"
   ],
   "metadata": {
    "collapsed": false
   },
   "id": "5ec8c3bb5f34d24",
   "execution_count": null
  },
  {
   "cell_type": "code",
   "outputs": [],
   "source": [
    "fig = px.ecdf(grouped_df, x=\"Pose_ID\", template=\"simple_white\", color=\"Label\", height=600, width=800, color_discrete_sequence=px.colors.qualitative.Safe)\n",
    "fig.update_layout(title=\"Distribution of < 2Å poses in the list of returned poses\", xaxis_title=\"Pose Number\", yaxis_title=f\"Fraction of Complexes ({len(first_below_2A)} total)\", legend_title=\"Pose Type\")\n",
    "fig.write_image(figure_path / \"20240620_pose_distribution_of_2A_poses.png\")"
   ],
   "metadata": {
    "collapsed": false
   },
   "id": "9add092292e04f4b",
   "execution_count": null
  },
  {
   "cell_type": "code",
   "outputs": [],
   "source": [
    "first_rmsds = good_complexes_df.sort_values(\"Pose_ID\").groupby(\"Complex_ID\").head(1).sort_values(\"Complex_ID\")[\"RMSD\"].astype(float).reset_index()\n",
    "best_rmsds = good_complexes_df.sort_values(\"RMSD\").groupby(\"Complex_ID\").head(1).sort_values(\"Complex_ID\")[\"RMSD\"].astype(float).reset_index()"
   ],
   "metadata": {
    "collapsed": false
   },
   "id": "f5cd19d98208cd9",
   "execution_count": null
  },
  {
   "cell_type": "code",
   "outputs": [],
   "source": [
    "rmsd_diffs = first_rmsds - best_rmsds"
   ],
   "metadata": {
    "collapsed": false
   },
   "id": "2ae911e9fc3e8481",
   "execution_count": null
  },
  {
   "cell_type": "code",
   "outputs": [],
   "source": [
    "rmsd_diffs.mean()\n",
    "rmsd_diffs.describe()"
   ],
   "metadata": {
    "collapsed": false
   },
   "id": "231beb8515532640",
   "execution_count": null
  },
  {
   "cell_type": "markdown",
   "source": [],
   "metadata": {
    "collapsed": false
   },
   "id": "5efde68a1517914d"
  },
  {
   "cell_type": "code",
   "outputs": [],
   "source": [
    "fig = px.ecdf(rmsd_diffs, x=\"RMSD\", template=\"simple_white\", height=600, width=800)\n",
    "fig.update_layout(title=\"Difference between the best pose and the first <2Å pose for all complexes with a <2Å Pose\", xaxis_title=\"dRMSD (Å)\", yaxis_title=f\"Fraction of Complexes ({len(rmsd_diffs)} total)\")\n",
    "fig.write_image(figure_path / \"20240620_dRMSD_ecdf_first_2A_pose.png\")"
   ],
   "metadata": {
    "collapsed": false
   },
   "id": "926bd316d9acc795",
   "execution_count": null
  },
  {
   "cell_type": "markdown",
   "source": [
    "## When the first pose isn't the best pose, how much worse is it?"
   ],
   "metadata": {
    "collapsed": false
   },
   "id": "64d3f34b30db87ad"
  },
  {
   "cell_type": "code",
   "outputs": [],
   "source": [
    "good_complexes_df_all_poses = df[df.Complex_ID.isin(good_complexes_df.Complex_ID.unique())]"
   ],
   "metadata": {
    "collapsed": false
   },
   "id": "3b48cc79b64d8897",
   "execution_count": null
  },
  {
   "cell_type": "code",
   "outputs": [],
   "source": [
    "first_pose_rmsds = good_complexes_df_all_poses.sort_values(\"Pose_ID\").groupby(\"Complex_ID\").head(1).sort_values(\"Complex_ID\")\n",
    "best_rmsds = good_complexes_df.sort_values(\"RMSD\").groupby(\"Complex_ID\").head(1).sort_values(\"Complex_ID\")"
   ],
   "metadata": {
    "collapsed": false
   },
   "id": "b7f982bb1d45ae46",
   "execution_count": null
  },
  {
   "cell_type": "code",
   "outputs": [],
   "source": [
    "rmsd_diffs2 = first_pose_rmsds[\"RMSD\"].reset_index().astype(float) - best_rmsds[\"RMSD\"].reset_index().astype(float)"
   ],
   "metadata": {
    "collapsed": false
   },
   "id": "755b95d89e0db481",
   "execution_count": null
  },
  {
   "cell_type": "code",
   "outputs": [],
   "source": [
    "fig = px.ecdf(rmsd_diffs2, x=\"RMSD\", template=\"simple_white\", height=600, width=800, range_x=[0, 8])\n",
    "fig.update_layout(title=\"Difference between the best pose and the first pose for all complexes with a <2Å Pose\", xaxis_title=\"dRMSD (Å)\", yaxis_title=f\"Fraction of Complexes ({len(rmsd_diffs)} total)\")\n",
    "fig.write_image(figure_path / \"20240620_dRMSD_ecdf.png\")"
   ],
   "metadata": {
    "collapsed": false
   },
   "id": "9ba16bdf82a38f85",
   "execution_count": null
  },
  {
   "cell_type": "code",
   "outputs": [],
   "source": [
    "rmsd_df1 = pd.DataFrame({\"RMSD\": rmsd_diffs[\"RMSD\"], \"Type\": \"First Pose < 2Å\"})\n",
    "rmsd_df2 = pd.DataFrame({\"RMSD\": rmsd_diffs2[\"RMSD\"], \"Type\": \"First Pose\"})\n",
    "rmsd_df = pd.concat([rmsd_df1, rmsd_df2])"
   ],
   "metadata": {
    "collapsed": false
   },
   "id": "f9f160d7dd1d0758",
   "execution_count": null
  },
  {
   "cell_type": "code",
   "outputs": [],
   "source": [
    "fig = px.ecdf(rmsd_df, x=\"RMSD\", template=\"simple_white\", height=600, width=800, range_x=[0, 8], color=\"Type\")\n",
    "fig.update_layout(title=\"<b> RMSD difference from the best pose for complexes with a <2Å Pose </b>\", xaxis_title=\"dRMSD (Å)\", yaxis_title=f\"<b>Fraction of Complexes ({len(rmsd_diffs)} total)</b>\")\n",
    "fig.update_layout(legend=dict(title=\"<b> Chosen Pose </b>\", \n",
    "                              x=0.4, y=0.1, \n",
    "                              traceorder='reversed', \n",
    "                              # title_font_size=large_font, \n",
    "                              font_color='black'),)\n",
    "fig.write_image(figure_path / \"20240620_dRMSD_ecdf.png\")"
   ],
   "metadata": {
    "collapsed": false
   },
   "id": "2e5344761dd1ec61",
   "execution_count": null
  },
  {
   "cell_type": "code",
   "outputs": [],
   "source": [
    "fig.show()"
   ],
   "metadata": {
    "collapsed": false
   },
   "id": "7852999543ec7812",
   "execution_count": null
  },
  {
   "cell_type": "code",
   "outputs": [],
   "source": [],
   "metadata": {
    "collapsed": false
   },
   "id": "13521d4d4e96c4cb"
  }
 ],
 "metadata": {
  "kernelspec": {
   "display_name": "Python 3",
   "language": "python",
   "name": "python3"
  },
  "language_info": {
   "codemirror_mode": {
    "name": "ipython",
    "version": 2
   },
   "file_extension": ".py",
   "mimetype": "text/x-python",
   "name": "python",
   "nbconvert_exporter": "python",
   "pygments_lexer": "ipython2",
   "version": "2.7.6"
  }
 },
 "nbformat": 4,
 "nbformat_minor": 5
}
