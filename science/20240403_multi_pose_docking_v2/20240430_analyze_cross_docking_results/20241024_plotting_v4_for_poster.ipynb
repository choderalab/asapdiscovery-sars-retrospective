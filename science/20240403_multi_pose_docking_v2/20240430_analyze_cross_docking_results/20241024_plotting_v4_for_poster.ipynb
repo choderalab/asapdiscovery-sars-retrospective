{
 "cells": [
  {
   "cell_type": "code",
   "execution_count": null,
   "id": "initial_id",
   "metadata": {
    "collapsed": true
   },
   "outputs": [],
   "source": [
    "import plotly.express as px\n",
    "import pandas as pd\n",
    "import plotly.graph_objects as go\n",
    "import numpy as np\n",
    "from pathlib import Path"
   ]
  },
  {
   "cell_type": "code",
   "outputs": [],
   "source": [],
   "metadata": {
    "collapsed": false
   },
   "id": "340295f54d54a755",
   "execution_count": null
  },
  {
   "cell_type": "markdown",
   "source": [
    "# Load Data"
   ],
   "metadata": {
    "collapsed": false
   },
   "id": "b6427830a49d9961"
  },
  {
   "cell_type": "code",
   "outputs": [],
   "source": [
    "results_csv = Path(\"/Users/alexpayne/Scientific_Projects/mers-drug-discovery/sars2-retrospective-analysis/20240424_multi_pose_docking_cross_docking/results_csvs/20240503_combined_results_with_data.csv\")"
   ],
   "metadata": {
    "collapsed": false
   },
   "id": "80567fb2c710d501",
   "execution_count": null
  },
  {
   "cell_type": "code",
   "outputs": [],
   "source": [
    "data_path = results_csv.parent.parent / \"analyzed_data\"\n",
    "figure_path = Path(\"figures\")"
   ],
   "metadata": {
    "collapsed": false
   },
   "id": "6b2bca8e24055947",
   "execution_count": null
  },
  {
   "cell_type": "code",
   "outputs": [],
   "source": [
    "df_paths = data_path.glob(\"*/*.csv\")"
   ],
   "metadata": {
    "collapsed": false
   },
   "id": "7713791d219d4d7a",
   "execution_count": null
  },
  {
   "cell_type": "code",
   "outputs": [],
   "source": [
    "dfs = [pd.read_csv(path) for path in df_paths]"
   ],
   "metadata": {
    "collapsed": false
   },
   "id": "b62e804655846a53",
   "execution_count": null
  },
  {
   "cell_type": "code",
   "outputs": [],
   "source": [
    "ogdf = pd.concat(dfs)\n",
    "ogdf.N_Per_Split = ogdf.N_Per_Split.astype(int)\n",
    "ogdf.sort_values([\"Split\", \"Score\", \"PoseSelection\", \"StructureChoice\", \"StructureChoice_Choose_N\", \"N_Per_Split\"], inplace=True)"
   ],
   "metadata": {
    "collapsed": false
   },
   "id": "221c34fc5c183953",
   "execution_count": null
  },
  {
   "cell_type": "code",
   "outputs": [],
   "source": [
    "ogdf[\"Error_Lower\"] = ogdf[\"Fraction\"] - ogdf[\"CI_Lower\"]\n",
    "ogdf[\"Error_Upper\"] = ogdf[\"CI_Upper\"] - ogdf[\"Fraction\"]"
   ],
   "metadata": {
    "collapsed": false
   },
   "id": "165628776f03d5ce",
   "execution_count": null
  },
  {
   "cell_type": "code",
   "outputs": [],
   "source": [
    "df = ogdf[ogdf.PoseSelection == \"Default\"]\n",
    "multipose = ogdf[ogdf.PoseSelection != \"Default\"]"
   ],
   "metadata": {
    "collapsed": false
   },
   "id": "b6646b1d41bfdba",
   "execution_count": null
  },
  {
   "cell_type": "code",
   "outputs": [],
   "source": [
    "ogdf.StructureChoice.unique()"
   ],
   "metadata": {
    "collapsed": false
   },
   "id": "8d59b5d9377f3cd3",
   "execution_count": null
  },
  {
   "cell_type": "code",
   "outputs": [],
   "source": [
    "ogdf.Split.unique()"
   ],
   "metadata": {
    "collapsed": false
   },
   "id": "cada4bb1d630c133",
   "execution_count": null
  },
  {
   "cell_type": "markdown",
   "source": [
    "# Plotting Variables"
   ],
   "metadata": {
    "collapsed": false
   },
   "id": "fd72ff10b53fe96a"
  },
  {
   "cell_type": "code",
   "outputs": [],
   "source": [
    "large_font = 24\n",
    "small_font = 18 \n",
    "labels = {\"Fraction\": \"<b> Fraction of Poses Docked < 2Å from Reference </b>\",\n",
    "               \"N_Per_Split\": \"<b> Total Number of Reference Structures Available to Use </b>\",\n",
    "          }\n",
    "update_layout_dict = dict(xaxis=dict(title_font=dict(size=large_font), \n",
    "                            color='black', \n",
    "                            ),\n",
    "                  yaxis=dict(range=(0,1),  \n",
    "                      title_font=dict(size=large_font), \n",
    "                             color='black', \n",
    "                             ))"
   ],
   "metadata": {
    "collapsed": false
   },
   "id": "68b9d5959e0dbc1f",
   "execution_count": null
  },
  {
   "cell_type": "code",
   "outputs": [],
   "source": [
    "def update_traces(fig):\n",
    "    for trace in fig.data:\n",
    "        if trace.name is None:\n",
    "            continue\n",
    "        trace.name = trace.name.replace(\"_\", \" \")\n",
    "        trace.name = trace.name.replace(\"Split\", \"\")\n",
    "        trace.name = trace.name.replace(\", \", \" | \")\n",
    "        trace.name = trace.name.replace(\"RMSD\", \"RMSD (Positive Control)\")\n",
    "    return fig"
   ],
   "metadata": {
    "collapsed": false
   },
   "id": "bc7d3b5adb8b1e6c",
   "execution_count": null
  },
  {
   "cell_type": "code",
   "outputs": [],
   "source": [
    "def hex_to_rgb(hex_color: str) -> tuple:\n",
    "    hex_color = hex_color.lstrip(\"#\")\n",
    "    if len(hex_color) == 3:\n",
    "        hex_color = hex_color * 2\n",
    "    return int(hex_color[0:2], 16), int(hex_color[2:4], 16), int(hex_color[4:6], 16)"
   ],
   "metadata": {
    "collapsed": false
   },
   "id": "efd003dd45c79385",
   "execution_count": null
  },
  {
   "cell_type": "code",
   "outputs": [],
   "source": [
    "def rgb_to_rgba(rgb_str, alpha):\n",
    "    # Split the RGB string into its components\n",
    "    rgb_values = rgb_str.strip('rgb()').split(',')\n",
    "    \n",
    "    # Extract individual RGB values and convert them to integers\n",
    "    r, g, b = map(int, rgb_values)\n",
    "    \n",
    "    # Construct the RGBA string\n",
    "    rgba_str = f\"rgba({r}, {g}, {b}, {alpha})\"\n",
    "    \n",
    "    return rgba_str"
   ],
   "metadata": {
    "collapsed": false
   },
   "id": "4a5b0957e1aca1c9",
   "execution_count": null
  },
  {
   "cell_type": "code",
   "outputs": [],
   "source": [
    "def plot_scatter_with_confidence_bands(df, x, y, split_by, error_y_plus, error_y_minus, template=\"plotly_white\", height=600, width=800, colors=px.colors.qualitative.Plotly):\n",
    "    traces = []\n",
    "    \n",
    "    # Covert Colors\n",
    "    if colors[0][0] == \"#\":\n",
    "        colors = [f\"rgb{hex_to_rgb(color)}\" for color in colors]\n",
    "        \n",
    "    \n",
    "    # order by mean\n",
    "    \n",
    "    ordered_splits = df.groupby(split_by)[y].mean().sort_values().index.tolist()\n",
    "    print(ordered_splits)\n",
    "    for i, split in enumerate(ordered_splits):\n",
    "        # subset the dataframe by the split, which can be a tuple\n",
    "        if not isinstance(split, tuple):\n",
    "            subdf = df[df[split_by] == split]\n",
    "        else:\n",
    "            subdf = df[(df[split_by[0]] == split[0])&(df[split_by[1]] == split[1])]\n",
    "        # subdf = df[df[split_by] == split]\n",
    "        traces.append(go.Scatter(name=f\"{split}\",\n",
    "                                 x=subdf[x],\n",
    "                                 y=subdf[y],\n",
    "                                 mode='lines',\n",
    "                                 showlegend=True,\n",
    "                                 line_color=rgb_to_rgba(colors[i], 1),\n",
    "                                 ))\n",
    "        traces.append(go.Scatter(name=f\"{split}\",\n",
    "                                 x=subdf[x],\n",
    "                                 y=subdf[y] + subdf[error_y_plus],\n",
    "                                 mode='lines',\n",
    "                                 fillcolor=rgb_to_rgba(colors[i], 0.15),\n",
    "                                 line_width=0,\n",
    "                                 showlegend=False,\n",
    "                                 ))\n",
    "        traces.append(go.Scatter(name=f\"{split}\",\n",
    "                                 x=subdf[x],\n",
    "                                 y=subdf[y] - subdf[error_y_minus],\n",
    "                                 fill='tonexty',\n",
    "                                 mode='lines',\n",
    "                                fillcolor=rgb_to_rgba(colors[i], 0.15),\n",
    "                                 line_width=0,\n",
    "                                 showlegend=False, \n",
    "                                 ))\n",
    "    fig = go.Figure(traces)\n",
    "    fig.update_layout(template=template, height=height, width=width)\n",
    "    return fig"
   ],
   "metadata": {
    "collapsed": false
   },
   "id": "7deca08a74706dc7",
   "execution_count": null
  },
  {
   "cell_type": "markdown",
   "source": [
    "# I'd like to remake the dataset split figure with shaded error bars"
   ],
   "metadata": {
    "collapsed": false
   },
   "id": "97fb891faeea1acc"
  },
  {
   "cell_type": "code",
   "outputs": [],
   "source": [
    "dataset_split_df = df[(df.StructureChoice == \"Dock_to_All\")&(df.PoseSelection_Choose_N == 1)]"
   ],
   "metadata": {
    "collapsed": false
   },
   "id": "60c9bf955ad0e541",
   "execution_count": null
  },
  {
   "cell_type": "markdown",
   "source": [
    "found here - https://stackoverflow.com/questions/69587547/continuous-error-band-with-plotly-express-in-python"
   ],
   "metadata": {
    "collapsed": false
   },
   "id": "c05c5107bdedb39c"
  },
  {
   "cell_type": "code",
   "outputs": [],
   "source": [
    "def line(error_y_mode=None, **kwargs):\n",
    "    \"\"\"Extension of `plotly.express.line` to use error bands.\"\"\"\n",
    "    ERROR_MODES = {'bar','band','bars','bands',None}\n",
    "    if error_y_mode not in ERROR_MODES:\n",
    "        raise ValueError(f\"'error_y_mode' must be one of {ERROR_MODES}, received {repr(error_y_mode)}.\")\n",
    "    if error_y_mode in {'bar','bars',None}:\n",
    "        fig = px.line(**kwargs)\n",
    "    elif error_y_mode in {'band','bands'}:\n",
    "        if 'error_y' not in kwargs:\n",
    "            raise ValueError(f\"If you provide argument 'error_y_mode' you must also provide 'error_y'.\")\n",
    "        figure_with_error_bars = px.line(**kwargs)\n",
    "        fig = px.line(**{arg: val for arg,val in kwargs.items() if arg != 'error_y'})\n",
    "        for data in figure_with_error_bars.data:\n",
    "            x = list(data['x'])\n",
    "            y_upper = list(data['y'] + data['error_y']['array'])\n",
    "            y_lower = list(data['y'] - data['error_y']['array'] if data['error_y']['arrayminus'] is None else data['y'] - data['error_y']['arrayminus'])\n",
    "            color = f\"rgba({tuple(int(data['line']['color'].lstrip('#')[i:i+2], 16) for i in (0, 2, 4))},.3)\".replace('((','(').replace('),',',').replace(' ','')\n",
    "            fig.add_trace(\n",
    "                go.Scatter(\n",
    "                    x = x+x[::-1],\n",
    "                    y = y_upper+y_lower[::-1],\n",
    "                    fill = 'toself',\n",
    "                    fillcolor = color,\n",
    "                    line = dict(\n",
    "                        color = 'rgba(255,255,255,0)'\n",
    "                    ),\n",
    "                    hoverinfo = \"skip\",\n",
    "                    showlegend = False,\n",
    "                    legendgroup = data['legendgroup'],\n",
    "                    xaxis = data['xaxis'],\n",
    "                    yaxis = data['yaxis'],\n",
    "                )\n",
    "            )\n",
    "        # Reorder data as said here: https://stackoverflow.com/a/66854398/8849755\n",
    "        reordered_data = []\n",
    "        for i in range(int(len(fig.data)/2)):\n",
    "            reordered_data.append(fig.data[i+int(len(fig.data)/2)])\n",
    "            reordered_data.append(fig.data[i])\n",
    "        fig.data = tuple(reordered_data)\n",
    "    return fig"
   ],
   "metadata": {
    "collapsed": false
   },
   "id": "3f995b8dd9c4b478",
   "execution_count": null
  },
  {
   "cell_type": "code",
   "outputs": [],
   "source": [
    "fig = line(data_frame=dataset_split_df, \n",
    "              x=\"N_Per_Split\", \n",
    "              y=\"Fraction\", \n",
    "              color=\"Score\",\n",
    "              line_dash=\"Split\",\n",
    "              error_y=\"Error_Upper\", \n",
    "              error_y_minus=\"Error_Lower\", \n",
    "           error_y_mode=\"band\",\n",
    "              template=\"simple_white\", \n",
    "              # symbol=\"Score\", \n",
    "              height=600, \n",
    "              width=800,\n",
    "              log_x=True,\n",
    "              # color_discrete_sequence=px.colors.qualitative.Dark2,\n",
    "              labels = labels\n",
    "              )\n",
    "fig.update_layout(\n",
    "    font=dict(size=small_font, \n",
    "              family='Arial'\n",
    "              ),\n",
    "    legend=dict(title=\"<b> Score Function | Dataset Split </b>\", \n",
    "                              x=0.4, y=0.1, \n",
    "                              traceorder='reversed', \n",
    "                              title_font_size=large_font, \n",
    "                              font_color='black'),\n",
    "    **update_layout_dict)\n",
    "fig.update_yaxes(tickvals=np.arange(0, 1.1, 0.1)) \n",
    "fig = update_traces(fig)\n",
    "fig.show()\n",
    "fig.write_image(figure_path / \"20241024_dataset_split_comparison_v3.svg\")"
   ],
   "metadata": {
    "collapsed": false
   },
   "id": "427426c0b120a0fd",
   "execution_count": null
  },
  {
   "cell_type": "markdown",
   "source": [
    "# Make figure of number of structures vs date"
   ],
   "metadata": {
    "collapsed": false
   },
   "id": "7046575e7d552cfe"
  },
  {
   "cell_type": "code",
   "outputs": [],
   "source": [
    "results_csv = Path(\n",
    "    \"/Users/alexpayne/Scientific_Projects/mers-drug-discovery/sars2-retrospective-analysis/20240424_multi_pose_docking_cross_docking/results_csvs/20240503_combined_results_with_data.csv\")"
   ],
   "metadata": {
    "collapsed": false
   },
   "id": "eb38338b79701350",
   "execution_count": null
  },
  {
   "cell_type": "code",
   "outputs": [],
   "source": [
    "all_results_df = pd.read_csv(results_csv, index_col=0)"
   ],
   "metadata": {
    "collapsed": false
   },
   "id": "562926f79249b727",
   "execution_count": null
  },
  {
   "cell_type": "code",
   "outputs": [],
   "source": [
    "unique_dates = all_results_df.Reference_Structure_Date.unique()"
   ],
   "metadata": {
    "collapsed": false
   },
   "id": "2106b12ffcaa4d13",
   "execution_count": null
  },
  {
   "cell_type": "code",
   "outputs": [],
   "source": [
    "import json\n",
    "from datetime import datetime "
   ],
   "metadata": {
    "collapsed": false
   },
   "id": "b9c1d78aa451ce5b",
   "execution_count": null
  },
  {
   "cell_type": "code",
   "outputs": [],
   "source": [
    "def date_processor(date_string):\n",
    "    if type(date_string) == str and not date_string == 'None':\n",
    "        try:\n",
    "            return datetime.strptime(date_string, \"%Y-%m-%d %H:%M:%S\")\n",
    "        except ValueError:\n",
    "            return datetime.strptime(date_string, \"%d/%m/%Y %H:%M\")\n",
    "    else:\n",
    "        return None"
   ],
   "metadata": {
    "collapsed": false
   },
   "id": "da967d9ffa6d9f7d",
   "execution_count": null
  },
  {
   "cell_type": "code",
   "outputs": [],
   "source": [
    "with open(\"20240503_inputs_analysis/date_dict.json\", \"r\") as f:\n",
    "    date_dict = [{\"Name\": name, \"Date\": date_processor(date)} for  name, date in json.load(f).items()]"
   ],
   "metadata": {
    "collapsed": false
   },
   "id": "5fe1b7417e54dc37",
   "execution_count": null
  },
  {
   "cell_type": "code",
   "outputs": [],
   "source": [
    "date_df = pd.DataFrame.from_records(date_dict)"
   ],
   "metadata": {
    "collapsed": false
   },
   "id": "f76d9796894ad0b7",
   "execution_count": null
  },
  {
   "cell_type": "code",
   "outputs": [],
   "source": [
    "date_df"
   ],
   "metadata": {
    "collapsed": false
   },
   "id": "cfe75c27ee709e5c",
   "execution_count": null
  },
  {
   "cell_type": "code",
   "outputs": [],
   "source": [
    "reference_ligand_df = all_results_df.groupby(['Reference_Ligand']).head(1)"
   ],
   "metadata": {
    "collapsed": false
   },
   "id": "f3ec2ad05413633f",
   "execution_count": null
  },
  {
   "cell_type": "code",
   "outputs": [],
   "source": [
    "from rdkit.Chem import MolFromSmiles"
   ],
   "metadata": {
    "collapsed": false
   },
   "id": "d644d96a19c010f4",
   "execution_count": null
  },
  {
   "cell_type": "code",
   "outputs": [],
   "source": [
    "reference_ligand_df[\"rdkit_mol\"] = [MolFromSmiles(str(smiles)) if not str(smiles) == 'nan' else None for smiles in reference_ligand_df.Reference_Ligand_SMILES]"
   ],
   "metadata": {
    "collapsed": false
   },
   "id": "992ce01351307401",
   "execution_count": null
  },
  {
   "cell_type": "code",
   "outputs": [],
   "source": [
    "reference_ligand_df = reference_ligand_df[~reference_ligand_df.rdkit_mol.isna()]"
   ],
   "metadata": {
    "collapsed": false
   },
   "id": "c8e97d25b693fee7",
   "execution_count": null
  },
  {
   "cell_type": "code",
   "outputs": [],
   "source": [
    "reference_ligand_df[\"n_atoms\"] = reference_ligand_df.rdkit_mol.apply(lambda x: x.GetNumAtoms())"
   ],
   "metadata": {
    "collapsed": false
   },
   "id": "f77a7b84dc2bd19e",
   "execution_count": null
  },
  {
   "cell_type": "code",
   "outputs": [],
   "source": [
    "reference_ligand_df.sort_values(\"Reference_Structure_Date\", inplace=True)"
   ],
   "metadata": {
    "collapsed": false
   },
   "id": "cd37bdc20e1fce3c",
   "execution_count": null
  },
  {
   "cell_type": "code",
   "outputs": [],
   "source": [
    "reference_ligand_df[\"cum_max\"] = reference_ligand_df['n_atoms'].cummax()"
   ],
   "metadata": {
    "collapsed": false
   },
   "id": "f1d91b5816676833",
   "execution_count": null
  },
  {
   "cell_type": "code",
   "outputs": [],
   "source": [
    "reference_ligand_df = all_results_df.groupby(['Reference_Ligand']).head(1)"
   ],
   "metadata": {
    "collapsed": false
   },
   "id": "244118c6d2f02996",
   "execution_count": null
  },
  {
   "cell_type": "code",
   "outputs": [],
   "source": [
    "bemis_murcko_cluster_df = pd.read_csv(\"/Users/alexpayne/Scientific_Projects/harbor/examples/cluster_labels.csv\")"
   ],
   "metadata": {
    "collapsed": false
   },
   "id": "3627e27412c33f99",
   "execution_count": null
  },
  {
   "cell_type": "code",
   "outputs": [],
   "source": [
    "bemis_murcko_cluster_df.columns"
   ],
   "metadata": {
    "collapsed": false
   },
   "id": "819fbf769d368f6f",
   "execution_count": null
  },
  {
   "cell_type": "code",
   "outputs": [],
   "source": [
    "bemis_murcko_cluster_df.columns = [\"Reference_Ligand\", \"Cluster\", \"Scaffold_Smiles\"]"
   ],
   "metadata": {
    "collapsed": false
   },
   "id": "1aeb144be9f467cf",
   "execution_count": null
  },
  {
   "cell_type": "code",
   "outputs": [],
   "source": [
    "plot_df = pd.merge(reference_ligand_df, bemis_murcko_cluster_df, on=\"Reference_Ligand\")"
   ],
   "metadata": {
    "collapsed": false
   },
   "id": "d357bcaaffed1202",
   "execution_count": null
  },
  {
   "cell_type": "code",
   "outputs": [],
   "source": [
    "plot_df"
   ],
   "metadata": {
    "collapsed": false
   },
   "id": "47e83b99a33f38e",
   "execution_count": null
  },
  {
   "cell_type": "code",
   "outputs": [],
   "source": [
    "plot_df.groupby(\"Cluster\").count()"
   ],
   "metadata": {
    "collapsed": false
   },
   "id": "3f5c72e2a1d224c9",
   "execution_count": null
  },
  {
   "cell_type": "code",
   "outputs": [],
   "source": [
    "plot_df['simple_clusters'] = plot_df.Cluster.apply(lambda x: str(x) if x <= 5 else \"6-90\") "
   ],
   "metadata": {
    "collapsed": false
   },
   "id": "c99c26bd6308a38",
   "execution_count": null
  },
  {
   "cell_type": "code",
   "outputs": [],
   "source": [
    "plot_df.sort_values('simple_clusters', inplace=True)"
   ],
   "metadata": {
    "collapsed": false
   },
   "id": "bf37260ed760f6c6",
   "execution_count": null
  },
  {
   "cell_type": "code",
   "outputs": [],
   "source": [
    "fig = px.ecdf(plot_df, \n",
    "              x='Reference_Structure_Date', \n",
    "              color='simple_clusters', \n",
    "              ecdfnorm=None, \n",
    "              template='simple_white', \n",
    "              log_y=True,height=600,width=800,)\n",
    "# update legend title\n",
    "fig.update_layout(legend_title_text=\"<b> Bemis-Murcko Cluster </b>\")\n",
    "fig.update_xaxes(title_text=\"<b> Date of Crystal Structure Collection </b>\")\n",
    "fig.update_yaxes(title_text=\"<b> Cumulative Number of Structures </b>\")\n",
    "\n",
    "update_layout_dict = dict(xaxis=dict(title_font=dict(size=large_font), \n",
    "                            color='black', \n",
    "                            ),\n",
    "                  yaxis=dict(\n",
    "                      # range=(0,1),  \n",
    "                      title_font=dict(size=large_font), \n",
    "                             color='black', \n",
    "                             ))\n",
    "\n",
    "# move legend to inside the plot\n",
    "fig.update_layout(legend=dict(\n",
    "    yanchor=\"bottom\",\n",
    "    y=0.25,\n",
    "    xanchor=\"right\",\n",
    "    x=1.1\n",
    "), **update_layout_dict)\n",
    "fig.show()\n",
    "fig.write_image(figure_path / \"20241024_cumulative_cluster_by_date.svg\")"
   ],
   "metadata": {
    "collapsed": false
   },
   "id": "9ba683608f94a3ab",
   "execution_count": null
  },
  {
   "cell_type": "markdown",
   "source": [
    "# Make new multipose datesplit plot without POSIT sorting"
   ],
   "metadata": {
    "collapsed": false
   },
   "id": "3a5d003c4bb1b4a4"
  },
  {
   "cell_type": "code",
   "outputs": [],
   "source": [
    "# Multipose Plots\n",
    "datesplit = multipose[(multipose.Split == \"DateSplit\")&(multipose.Score == \"RMSD\")]\n",
    "fig = line(data_frame=datesplit,\n",
    "              x=\"N_Per_Split\",\n",
    "              y=\"Fraction\",\n",
    "              color=\"PoseSelection_Choose_N\",\n",
    "              line_dash=\"Score\",\n",
    "              error_y=\"Error_Upper\",\n",
    "           error_y_mode='bands',\n",
    "              error_y_minus=\"Error_Lower\", \n",
    "              template=\"simple_white\",\n",
    "              # symbol=\"\", \n",
    "              height=600,\n",
    "              width=800,\n",
    "              log_x=True,\n",
    "              color_discrete_sequence=px.colors.sequential.Viridis,\n",
    "              labels=labels\n",
    "              )\n",
    "fig.update_layout(\n",
    "    font=dict(size=small_font,\n",
    "              family='Arial'\n",
    "              ),\n",
    "    legend=dict(title=\"<b> Number of Poses Returned by POSIT </b>\",\n",
    "                x=0.3, y=0.1,\n",
    "                # traceorder='reversed', \n",
    "                title_font_size=large_font,\n",
    "                font_color='black'),\n",
    "    **update_layout_dict)\n",
    "fig.update_yaxes(tickvals=np.arange(0, 1.1, 0.1))\n",
    "for trace in fig.data:\n",
    "        if trace.name is None:\n",
    "            continue\n",
    "        trace.name = trace.name.replace(\"_\", \" \")\n",
    "        trace.name = trace.name.replace(\"Split\", \"\")\n",
    "        trace.name = trace.name.replace(\", \", \"\")\n",
    "        trace.name = trace.name.replace(\"RMSD\", \"\")\n",
    "fig.show()\n",
    "fig.write_image(figure_path / \"20241024_multipose_datesplit.svg\")"
   ],
   "metadata": {
    "collapsed": false
   },
   "id": "5f22cdc079deb22f",
   "execution_count": null
  },
  {
   "cell_type": "code",
   "outputs": [],
   "source": [
    "all_results_df"
   ],
   "metadata": {
    "collapsed": false
   },
   "id": "6595c2ba8ea6bc2f",
   "execution_count": null
  },
  {
   "cell_type": "code",
   "outputs": [],
   "source": [
    "tc_cuttofs = np.linspace(0,2, 20)"
   ],
   "metadata": {
    "collapsed": false
   },
   "id": "f12f664aeff247fb",
   "execution_count": null
  },
  {
   "cell_type": "code",
   "outputs": [],
   "source": [
    "tc_cuttofs[0]"
   ],
   "metadata": {
    "collapsed": false
   },
   "id": "6f13a94aa7850127",
   "execution_count": null
  },
  {
   "cell_type": "code",
   "outputs": [],
   "source": [
    "for tc_cuttof in tc_cuttofs[:1]:\n",
    "    subset = all_results_df[all_results_df.Tanimoto <= tc_cuttof].sort_values(\"docking-confidence-POSIT\")\n",
    "    subset.groupby([\"Query_Ligand\"])"
   ],
   "metadata": {
    "collapsed": false
   },
   "id": "9c6f951b8a2cb148",
   "execution_count": null
  },
  {
   "cell_type": "code",
   "outputs": [],
   "source": [],
   "metadata": {
    "collapsed": false
   },
   "id": "5c93b4f8ed528fc7"
  }
 ],
 "metadata": {
  "kernelspec": {
   "display_name": "Python 3",
   "language": "python",
   "name": "python3"
  },
  "language_info": {
   "codemirror_mode": {
    "name": "ipython",
    "version": 2
   },
   "file_extension": ".py",
   "mimetype": "text/x-python",
   "name": "python",
   "nbconvert_exporter": "python",
   "pygments_lexer": "ipython2",
   "version": "2.7.6"
  }
 },
 "nbformat": 4,
 "nbformat_minor": 5
}
