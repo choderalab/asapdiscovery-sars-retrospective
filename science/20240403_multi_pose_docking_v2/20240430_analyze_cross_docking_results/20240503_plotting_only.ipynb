{
 "cells": [
  {
   "cell_type": "markdown",
   "source": [
    "# Imports"
   ],
   "metadata": {
    "collapsed": false
   },
   "id": "3d4de4189cf012e"
  },
  {
   "cell_type": "code",
   "outputs": [],
   "source": [
    "import plotly.express as px\n",
    "import pandas as pd\n",
    "import plotly.graph_objects as go\n",
    "import numpy as np\n",
    "from pathlib import Path"
   ],
   "metadata": {
    "collapsed": false
   },
   "id": "7953e5245b35ecc1",
   "execution_count": null
  },
  {
   "cell_type": "markdown",
   "source": [
    "# Load Data"
   ],
   "metadata": {
    "collapsed": false
   },
   "id": "572abee4b02093b9"
  },
  {
   "cell_type": "code",
   "outputs": [],
   "source": [
    "data_path = Path(\"analyzed_data\")\n",
    "figure_path = Path(\"figures\")"
   ],
   "metadata": {
    "collapsed": false
   },
   "id": "4f72a20134752d6c",
   "execution_count": null
  },
  {
   "cell_type": "code",
   "outputs": [],
   "source": [
    "df_paths = data_path.glob(\"*.csv\")"
   ],
   "metadata": {
    "collapsed": false
   },
   "id": "aa28c2fe361b1f63",
   "execution_count": null
  },
  {
   "cell_type": "code",
   "outputs": [],
   "source": [
    "dfs = [pd.read_csv(path) for path in df_paths]\n",
    "df = pd.concat(dfs)"
   ],
   "metadata": {
    "collapsed": false
   },
   "id": "223c0b7e3c8d65b1",
   "execution_count": null
  },
  {
   "cell_type": "code",
   "outputs": [],
   "source": [
    "df"
   ],
   "metadata": {
    "collapsed": false
   },
   "id": "40e4656a3a50a9b7",
   "execution_count": null
  },
  {
   "cell_type": "code",
   "outputs": [],
   "source": [
    "df[\"Error_Lower\"] = df[\"Fraction\"] - df[\"CI_Lower\"]\n",
    "df[\"Error_Upper\"] = df[\"CI_Upper\"] - df[\"Fraction\"]"
   ],
   "metadata": {
    "collapsed": false
   },
   "id": "6d2c9989844bf027",
   "execution_count": null
  },
  {
   "cell_type": "markdown",
   "source": [
    "# Plotting Variables"
   ],
   "metadata": {
    "collapsed": false
   },
   "id": "39f23fb59cd4e7f8"
  },
  {
   "cell_type": "code",
   "outputs": [],
   "source": [
    "large_font = 18\n",
    "small_font = 12"
   ],
   "metadata": {
    "collapsed": false
   },
   "id": "949f189910ee49cd",
   "execution_count": null
  },
  {
   "cell_type": "markdown",
   "source": [
    "# Plotting Functions"
   ],
   "metadata": {
    "collapsed": false
   },
   "id": "8d9627b78817e75a"
  },
  {
   "cell_type": "code",
   "outputs": [],
   "source": [
    "def plot_scatter_with_confidence_bands(df, x, y, split_by, error_y_plus, error_y_minus, template=\"plotly_white\", height=600, width=800, colors=px.colors.qualitative.Plotly):\n",
    "    traces = []\n",
    "    \n",
    "    # order by mean\n",
    "    ordered_splits = df.groupby(split_by)[y].mean().sort_values().index\n",
    "    for i, split in enumerate(ordered_splits):\n",
    "        subdf = df[df[split_by] == split]\n",
    "        traces.append(go.Scatter(name=split,\n",
    "                                 x=subdf[x],\n",
    "                                 y=subdf[y],\n",
    "                                 mode='lines',\n",
    "                                 showlegend=True,\n",
    "                                 line_color=colors[i]))\n",
    "        traces.append(go.Scatter(name=split,\n",
    "                                 x=subdf[x],\n",
    "                                 y=subdf[y] + subdf[error_y_plus],\n",
    "                                 mode='lines',\n",
    "                                 line_color=colors[i],\n",
    "                                 line_width=0,\n",
    "                                 showlegend=False))\n",
    "        traces.append(go.Scatter(name=split,\n",
    "                                 x=subdf[x],\n",
    "                                 y=subdf[y] - subdf[error_y_minus],\n",
    "                                 fill='tonexty',\n",
    "                                 mode='lines',\n",
    "                                    line_color=colors[i],\n",
    "                                 line_width=0,\n",
    "                                 showlegend=False))\n",
    "    fig = go.Figure(traces)\n",
    "    fig.update_layout(template=template, height=height, width=width) \n",
    "    return fig"
   ],
   "metadata": {
    "collapsed": false
   },
   "id": "e862d56acfaabed",
   "execution_count": null
  },
  {
   "cell_type": "markdown",
   "source": [
    "# Actual Plots"
   ],
   "metadata": {
    "collapsed": false
   },
   "id": "d63482fd41e09b1d"
  },
  {
   "cell_type": "code",
   "outputs": [],
   "source": [
    "fig = plot_scatter_with_confidence_bands(df, \n",
    "                                         \"N_Per_Split\", \n",
    "                                         \"Fraction\", \n",
    "                                         \"StructureChoice\", \n",
    "                                         \"Error_Upper\", \n",
    "                                         \"Error_Lower\", \n",
    "                                         template=\"simple_white\", \n",
    "                                         height=600, \n",
    "                                         width=800, \n",
    "                                         colors=px.colors.qualitative.Safe)\n",
    "\n",
    "fig.update_layout(\n",
    "    font=dict(size=small_font, \n",
    "              family='Arial'\n",
    "              ),\n",
    "    legend=dict(title=\"<b> Dataset Split </b>\", \n",
    "                              x=0.4, y=0.1, \n",
    "                              traceorder='reversed', \n",
    "                              title_font_size=large_font, \n",
    "                              font_color='black'),\n",
    "                 xaxis=dict(title=\"<b> Total Number of References Available to Use </b>\", \n",
    "                            title_font=dict(size=large_font), \n",
    "                            color='black', \n",
    "                            ),\n",
    "                  yaxis=dict(range=(0,1), \n",
    "                             title=\"<b> Fraction of Poses Docked < 2Å from Reference </b>\", \n",
    "                      title_font=dict(size=large_font), \n",
    "                             color='black', \n",
    "                             ),)\n",
    "fig.update_yaxes(tickvals=np.arange(0, 1.1, 0.1)) \n",
    "fig.write_image(figure_path / \"20240503_random_split.png\")\n",
    "fig.write_html(figure_path / \"20240503_random_split.html\")"
   ],
   "metadata": {
    "collapsed": false
   },
   "id": "b6164562edbda9fa",
   "execution_count": null
  },
  {
   "cell_type": "code",
   "outputs": [],
   "source": [
    "df.columns"
   ],
   "metadata": {
    "collapsed": false
   },
   "id": "dc29e0968020b902",
   "execution_count": null
  },
  {
   "cell_type": "code",
   "outputs": [],
   "source": [
    "for choice in df.StructureChoice.unique().tolist():\n",
    "    fig = plot_scatter_with_confidence_bands(df[df.StructureChoice == choice], \n",
    "                                             \"N_Per_Split\", \n",
    "                                             \"Fraction\", \n",
    "                                             \"StructureChoice_Choose_N\", \n",
    "                                             \"Error_Upper\", \n",
    "                                             \"Error_Lower\", \n",
    "                                             template=\"simple_white\", \n",
    "                                             height=600, \n",
    "                                             width=800, \n",
    "                                             colors=px.colors.qualitative.Safe)\n",
    "    fig.update_layout(\n",
    "        font=dict(size=small_font, \n",
    "                  family='Arial'\n",
    "                  ),\n",
    "        legend=dict(title=f\"<b> Dataset Split: {choice} </b>\", \n",
    "                                  x=0.4, y=0.1, \n",
    "                                  traceorder='reversed', \n",
    "                                  title_font_size=large_font, \n",
    "                                  font_color='black'),\n",
    "                     xaxis=dict(title=\"<b> Total Number of References Available to Use </b>\", \n",
    "                                title_font=dict(size=large_font), \n",
    "                                color='black', \n",
    "                                ),\n",
    "                      yaxis=dict(range=(0,1), \n",
    "                                 title=\"<b> Fraction of Poses Docked < 2Å from Reference </b>\", \n",
    "                          title_font=dict(size=large_font), \n",
    "                                 color='black', \n",
    "                                 ),)\n",
    "    fig.update_yaxes(tickvals=np.arange(0, 1.1, 0.1)) \n",
    "    fig.write_image(figure_path / f\"20240503_random_split_{choice}.png\")\n",
    "    fig.write_html(figure_path / f\"20240503_random_split_{choice}.html\")"
   ],
   "metadata": {
    "collapsed": false
   },
   "id": "692fc71eb23fc88d",
   "execution_count": null
  },
  {
   "cell_type": "code",
   "outputs": [],
   "source": [],
   "metadata": {
    "collapsed": false
   },
   "id": "fea5878c364042c1",
   "execution_count": null
  }
 ],
 "metadata": {
  "kernelspec": {
   "display_name": "Python 3",
   "language": "python",
   "name": "python3"
  },
  "language_info": {
   "codemirror_mode": {
    "name": "ipython",
    "version": 2
   },
   "file_extension": ".py",
   "mimetype": "text/x-python",
   "name": "python",
   "nbconvert_exporter": "python",
   "pygments_lexer": "ipython2",
   "version": "2.7.6"
  }
 },
 "nbformat": 4,
 "nbformat_minor": 5
}
