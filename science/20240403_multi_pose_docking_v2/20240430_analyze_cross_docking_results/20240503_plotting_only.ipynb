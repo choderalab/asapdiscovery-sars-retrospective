{
 "cells": [
  {
   "cell_type": "markdown",
   "source": [
    "# Imports"
   ],
   "metadata": {
    "collapsed": false
   },
   "id": "3d4de4189cf012e"
  },
  {
   "cell_type": "code",
   "outputs": [],
   "source": [
    "import plotly.express as px\n",
    "import pandas as pd\n",
    "import plotly.graph_objects as go\n",
    "import numpy as np\n",
    "from pathlib import Path"
   ],
   "metadata": {
    "collapsed": false
   },
   "id": "7953e5245b35ecc1",
   "execution_count": null
  },
  {
   "cell_type": "markdown",
   "source": [
    "# Load Data"
   ],
   "metadata": {
    "collapsed": false
   },
   "id": "572abee4b02093b9"
  },
  {
   "cell_type": "code",
   "outputs": [],
   "source": [
    "results_csv = Path(\"/Users/alexpayne/Scientific_Projects/mers-drug-discovery/sars2-retrospective-analysis/20240424_multi_pose_docking_cross_docking/results_csvs/20240503_combined_results_with_data.csv\")"
   ],
   "metadata": {
    "collapsed": false
   },
   "id": "3a6ff430627b3f8",
   "execution_count": null
  },
  {
   "cell_type": "code",
   "outputs": [],
   "source": [
    "data_path = Path(\"analyzed_data\")\n",
    "figure_path = Path(\"figures\")"
   ],
   "metadata": {
    "collapsed": false
   },
   "id": "4f72a20134752d6c",
   "execution_count": null
  },
  {
   "cell_type": "code",
   "outputs": [],
   "source": [
    "df_paths = data_path.glob(\"*.csv\")"
   ],
   "metadata": {
    "collapsed": false
   },
   "id": "aa28c2fe361b1f63",
   "execution_count": null
  },
  {
   "cell_type": "code",
   "outputs": [],
   "source": [
    "dfs = [pd.read_csv(path) for path in df_paths]"
   ],
   "metadata": {
    "collapsed": false
   },
   "id": "223c0b7e3c8d65b1",
   "execution_count": null
  },
  {
   "cell_type": "code",
   "outputs": [],
   "source": [
    "df = pd.concat(dfs)"
   ],
   "metadata": {
    "collapsed": false
   },
   "id": "761e94df75480d98",
   "execution_count": null
  },
  {
   "cell_type": "code",
   "outputs": [],
   "source": [
    "df[\"Error_Lower\"] = df[\"Fraction\"] - df[\"CI_Lower\"]\n",
    "df[\"Error_Upper\"] = df[\"CI_Upper\"] - df[\"Fraction\"]"
   ],
   "metadata": {
    "collapsed": false
   },
   "id": "6bf1d036d5d75a4c",
   "execution_count": null
  },
  {
   "cell_type": "markdown",
   "source": [
    "# Plotting Variables"
   ],
   "metadata": {
    "collapsed": false
   },
   "id": "39f23fb59cd4e7f8"
  },
  {
   "cell_type": "code",
   "outputs": [],
   "source": [
    "large_font = 18\n",
    "small_font = 12"
   ],
   "metadata": {
    "collapsed": false
   },
   "id": "949f189910ee49cd",
   "execution_count": null
  },
  {
   "cell_type": "markdown",
   "source": [
    "# Plotting Functions"
   ],
   "metadata": {
    "collapsed": false
   },
   "id": "8d9627b78817e75a"
  },
  {
   "cell_type": "code",
   "outputs": [],
   "source": [
    "def hex_to_rgb(hex_color: str) -> tuple:\n",
    "    hex_color = hex_color.lstrip(\"#\")\n",
    "    if len(hex_color) == 3:\n",
    "        hex_color = hex_color * 2\n",
    "    return int(hex_color[0:2], 16), int(hex_color[2:4], 16), int(hex_color[4:6], 16)"
   ],
   "metadata": {
    "collapsed": false
   },
   "id": "4f41a18bb9246bca",
   "execution_count": null
  },
  {
   "cell_type": "code",
   "outputs": [],
   "source": [
    "def rgb_to_rgba(rgb_str, alpha):\n",
    "    # Split the RGB string into its components\n",
    "    rgb_values = rgb_str.strip('rgb()').split(',')\n",
    "    \n",
    "    # Extract individual RGB values and convert them to integers\n",
    "    r, g, b = map(int, rgb_values)\n",
    "    \n",
    "    # Construct the RGBA string\n",
    "    rgba_str = f\"rgba({r}, {g}, {b}, {alpha})\"\n",
    "    \n",
    "    return rgba_str"
   ],
   "metadata": {
    "collapsed": false
   },
   "id": "eb1944da0bbffdbf",
   "execution_count": null
  },
  {
   "cell_type": "code",
   "outputs": [],
   "source": [
    "def group_by_two_columns(df, col1, col2):\n",
    "    \"\"\"\n",
    "    Groups the DataFrame by two specified columns and returns a list of DataFrames,\n",
    "    each corresponding to a unique pair in those two columns.\n",
    "\n",
    "    Parameters:\n",
    "    df (pd.DataFrame): The input DataFrame.\n",
    "    col1 (str): The name of the first column to group by.\n",
    "    col2 (str): The name of the second column to group by.\n",
    "\n",
    "    Returns:\n",
    "    list: A list of DataFrames, each corresponding to a unique pair in col1 and col2.\n",
    "    \"\"\"\n",
    "    grouped = df.groupby([col1, col2])\n",
    "    dfs = [group for _, group in grouped]\n",
    "    return dfs\n",
    "\n",
    "# Example usage:\n",
    "# df = pd.DataFrame({\n",
    "#     'A': ['foo', 'foo', 'bar', 'bar', 'foo', 'bar', 'foo'],\n",
    "#     'B': ['one', 'one', 'one', 'two', 'two', 'two', 'one'],\n",
    "#     'C': [1, 2, 3, 4, 5, 6, 7]\n",
    "# })\n",
    "\n",
    "# result = group_by_two_columns(df, 'A', 'B')\n",
    "# for df in result:\n",
    "#     print(df)"
   ],
   "metadata": {
    "collapsed": false
   },
   "id": "ddd4cb51ce6c0d2c",
   "execution_count": null
  },
  {
   "cell_type": "code",
   "outputs": [],
   "source": [
    "def plot_scatter_with_confidence_bands(df, x, y, split_by, error_y_plus, error_y_minus, extra_split=None, template=\"plotly_white\", height=600, width=800, colors=px.colors.qualitative.Plotly):\n",
    "    traces = []\n",
    "    \n",
    "    # Covert Colors\n",
    "    if colors[0][0] == \"#\":\n",
    "        colors = [f\"rgb{hex_to_rgb(color)}\" for color in colors]\n",
    "        \n",
    "    \n",
    "    # order by mean\n",
    "    grouped = df.groupby([split_by, extra_split])\n",
    "    dfs = [group for _, group in grouped]\n",
    "    ordered_idx = np.argsort([x[y].mean() for x in dfs if not len(x) == 0])\n",
    "    for i, idx in enumerate(ordered_idx):\n",
    "        subdf = dfs[idx]\n",
    "        traces.append(go.Scatter(name=f\"{split}\",\n",
    "                                 x=subdf[x],\n",
    "                                 y=subdf[y],\n",
    "                                 mode='lines',\n",
    "                                 showlegend=True,\n",
    "                                 line_color=rgb_to_rgba(colors[i], 1),\n",
    "                                 ))\n",
    "        traces.append(go.Scatter(name=f\"{split}\",\n",
    "                                 x=subdf[x],\n",
    "                                 y=subdf[y] + subdf[error_y_plus],\n",
    "                                 mode='lines',\n",
    "                                 fillcolor=rgb_to_rgba(colors[i], 0.15),\n",
    "                                 line_width=0,\n",
    "                                 showlegend=False,\n",
    "                                 ))\n",
    "        traces.append(go.Scatter(name=f\"{split}\",\n",
    "                                 x=subdf[x],\n",
    "                                 y=subdf[y] - subdf[error_y_minus],\n",
    "                                 fill='tonexty',\n",
    "                                 mode='lines',\n",
    "                                fillcolor=rgb_to_rgba(colors[i], 0.15),\n",
    "                                 line_width=0,\n",
    "                                 showlegend=False, \n",
    "                                 ))\n",
    "    fig = go.Figure(traces)\n",
    "    fig.update_layout(template=template, height=height, width=width)\n",
    "    return fig"
   ],
   "metadata": {
    "collapsed": false
   },
   "id": "e862d56acfaabed",
   "execution_count": null
  },
  {
   "cell_type": "markdown",
   "source": [
    "# Dataset Split Comparison"
   ],
   "metadata": {
    "collapsed": false
   },
   "id": "d63482fd41e09b1d"
  },
  {
   "cell_type": "code",
   "outputs": [],
   "source": [
    "dataset_split_df = df[df.StructureChoice == \"Dock_to_All\"]"
   ],
   "metadata": {
    "collapsed": false
   },
   "id": "f859d99c8bbf3cd7",
   "execution_count": null
  },
  {
   "cell_type": "code",
   "outputs": [],
   "source": [
    "fig = plot_scatter_with_confidence_bands(df = dataset_split_df, \n",
    "                                         x = \"N_Per_Split\", \n",
    "                                         y = \"Fraction\", \n",
    "                                         split_by = \"Split\", \n",
    "                                         error_y_plus=\"Error_Upper\", \n",
    "                                         error_y_minus=\"Error_Lower\", \n",
    "                                         template=\"simple_white\", \n",
    "                                         height=600, \n",
    "                                         width=800, \n",
    "                                         colors=px.colors.qualitative.Plotly)\n",
    "\n",
    "fig.update_layout(\n",
    "    font=dict(size=small_font, \n",
    "              family='Arial'\n",
    "              ),\n",
    "    legend=dict(title=\"<b> Dataset Split </b>\", \n",
    "                              x=0.4, y=0.1, \n",
    "                              traceorder='reversed', \n",
    "                              title_font_size=large_font, \n",
    "                              font_color='black'),\n",
    "                 xaxis=dict(title=\"<b> Total Number of References Available to Use </b>\", \n",
    "                            title_font=dict(size=large_font), \n",
    "                            color='black', \n",
    "                            ),\n",
    "                  yaxis=dict(range=(0,1), \n",
    "                             title=\"<b> Fraction of Poses Docked < 2Å from Reference </b>\", \n",
    "                      title_font=dict(size=large_font), \n",
    "                             color='black', \n",
    "                             ),)\n",
    "fig.update_yaxes(tickvals=np.arange(0, 1.1, 0.1)) \n",
    "fig.write_image(figure_path / \"20240510_dataset_split_comparison.png\")\n",
    "fig.write_html(figure_path / \"20240510_dataset_split_comparison.html\")"
   ],
   "metadata": {
    "collapsed": false
   },
   "id": "b6164562edbda9fa",
   "execution_count": null
  },
  {
   "cell_type": "markdown",
   "source": [
    "# Plot Everything Separately"
   ],
   "metadata": {
    "collapsed": false
   },
   "id": "ae4a2d3e2b14ca4d"
  },
  {
   "cell_type": "code",
   "outputs": [],
   "source": [
    "for split in df.Split.unique().tolist():\n",
    "    structure_choice_df = df[df.Split == split]\n",
    "    for choice in structure_choice_df.StructureChoice.unique().tolist():\n",
    "        subset_df = structure_choice_df[structure_choice_df.StructureChoice == choice]\n",
    "        if len(subset_df) == 0:\n",
    "            continue\n",
    "        fig = plot_scatter_with_confidence_bands(subset_df, \n",
    "                                                 \"N_Per_Split\", \n",
    "                                                 \"Fraction\", \n",
    "                                                 \"StructureChoice_Choose_N\", \n",
    "                                                 \"Error_Upper\", \n",
    "                                                 \"Error_Lower\", \n",
    "                                                 template=\"simple_white\", \n",
    "                                                 height=600, \n",
    "                                                 width=800, \n",
    "                                                 colors=px.colors.qualitative.Plotly)\n",
    "        fig.update_layout(\n",
    "            font=dict(size=small_font, \n",
    "                      family='Arial'\n",
    "                      ),\n",
    "            legend=dict(title=f\"<b> DatasetSplit:</b> {split} <br>\"\n",
    "                              f\"<b> StructureChoice:</b> {choice}\", \n",
    "                                      x=0.4, y=0.1, \n",
    "                                      traceorder='reversed', \n",
    "                                      title_font_size=large_font, \n",
    "                                      font_color='black'),\n",
    "                         xaxis=dict(title=\"<b> Total Number of References Available to Use </b>\", \n",
    "                                    title_font=dict(size=large_font), \n",
    "                                    color='black', \n",
    "                                    ),\n",
    "                          yaxis=dict(range=(0,1), \n",
    "                                     title=\"<b> Fraction of Poses Docked < 2Å from Reference </b>\", \n",
    "                              title_font=dict(size=large_font), \n",
    "                                     color='black', \n",
    "                                     ),)\n",
    "        fig.update_yaxes(tickvals=np.arange(0, 1.1, 0.1)) \n",
    "        fig.write_image(figure_path / f\"20240503_{split}_{choice}.png\")\n",
    "        fig.write_html(figure_path / f\"20240503_{split}_{choice}.html\")"
   ],
   "metadata": {
    "collapsed": false
   },
   "id": "692fc71eb23fc88d",
   "execution_count": null
  },
  {
   "cell_type": "markdown",
   "source": [
    "# DateSplit - Structure Choice Comparison"
   ],
   "metadata": {
    "collapsed": false
   },
   "id": "dc20189aef69fe60"
  },
  {
   "cell_type": "code",
   "outputs": [],
   "source": [
    "choose_n = [1,10]\n",
    "structure_choice_comparison_df = df[(df.Split == \"DateSplit\")&(df.StructureChoice_Choose_N.isin(choose_n))]"
   ],
   "metadata": {
    "collapsed": false
   },
   "id": "4a325cfbc5ea40e1",
   "execution_count": null
  },
  {
   "cell_type": "code",
   "outputs": [],
   "source": [
    "fig = plot_scatter_with_confidence_bands(df=structure_choice_comparison_df, \n",
    "                                            x=\"N_Per_Split\", \n",
    "                                             y=\"Fraction\", \n",
    "                                             split_by=\"StructureChoice\", \n",
    "                                             error_y_plus=\"Error_Upper\", \n",
    "                                             error_y_minus=\"Error_Lower\", \n",
    "                                             template=\"simple_white\", \n",
    "                                         extra_split=\"StructureChoice_Choose_N\",\n",
    "                                             height=600, \n",
    "                                             width=800, \n",
    "                                             colors=px.colors.qualitative.Safe)\n",
    "fig.update_layout(\n",
    "    font=dict(size=small_font, \n",
    "              family='Arial'\n",
    "              ),\n",
    "    legend=dict(title=f\"<b> StructureChoice</b>\", \n",
    "                              x=0.4, y=0.1, \n",
    "                              traceorder='reversed', \n",
    "                              title_font_size=large_font, \n",
    "                              font_color='black'),\n",
    "                 xaxis=dict(title=\"<b> Total Number of References Available to Use </b>\", \n",
    "                            title_font=dict(size=large_font), \n",
    "                            color='black', \n",
    "                            ),\n",
    "                  yaxis=dict(range=(0,1), \n",
    "                             title=\"<b> Fraction of Poses Docked < 2Å from Reference </b>\", \n",
    "                      title_font=dict(size=large_font), \n",
    "                             color='black', \n",
    "                             ),)\n",
    "fig.update_yaxes(tickvals=np.arange(0, 1.1, 0.1)) \n",
    "fig.write_image(figure_path / f\"20240503_date_split_structure_choice_comparison_{choose_n}.png\")\n",
    "fig.write_html(figure_path / f\"20240503_date_split_structure_choice_comparison_{choose_n}.html\")"
   ],
   "metadata": {
    "collapsed": false
   },
   "id": "4c9e60a4866b5462",
   "execution_count": null
  },
  {
   "cell_type": "markdown",
   "source": [
    "# Calculate how many poses"
   ],
   "metadata": {
    "collapsed": false
   },
   "id": "e9929adf9a8caa9b"
  },
  {
   "cell_type": "code",
   "outputs": [],
   "source": [
    "rdf = pd.read_csv(results_csv, index_col=0)"
   ],
   "metadata": {
    "collapsed": false
   },
   "id": "73c17be7b3f46962",
   "execution_count": null
  },
  {
   "cell_type": "code",
   "outputs": [],
   "source": [
    "n_poses = rdf.groupby([\"Query_Ligand\", \"Reference_Ligand\"]).count().reset_index()"
   ],
   "metadata": {
    "collapsed": false
   },
   "id": "bee4a053bc3ebdcb",
   "execution_count": null
  },
  {
   "cell_type": "code",
   "outputs": [],
   "source": [
    "combined_data = rdf.groupby([\"Query_Ligand\", \"Reference_Ligand\"]).head(1).reset_index()"
   ],
   "metadata": {
    "collapsed": false
   },
   "id": "f2dd3004c34be7d2",
   "execution_count": null
  },
  {
   "cell_type": "code",
   "outputs": [],
   "source": [
    "combined_data"
   ],
   "metadata": {
    "collapsed": false
   },
   "id": "1e715784ef47236a",
   "execution_count": null
  },
  {
   "cell_type": "code",
   "outputs": [],
   "source": [
    "n_poses = n_poses.rename(columns={\"Pose_ID\": \"N_Poses\"})"
   ],
   "metadata": {
    "collapsed": false
   },
   "id": "2b77fe598cba8a31",
   "execution_count": null
  },
  {
   "cell_type": "code",
   "outputs": [],
   "source": [
    "n_poses = n_poses[[\"Query_Ligand\", \"Reference_Ligand\", \"N_Poses\"]]"
   ],
   "metadata": {
    "collapsed": false
   },
   "id": "332f53a267d90352",
   "execution_count": null
  },
  {
   "cell_type": "code",
   "outputs": [],
   "source": [
    "merged = n_poses.merge(combined_data, on=[\"Query_Ligand\", \"Reference_Ligand\"])"
   ],
   "metadata": {
    "collapsed": false
   },
   "id": "558d963e7e105dfe",
   "execution_count": null
  },
  {
   "cell_type": "code",
   "outputs": [],
   "source": [
    "lig_orders = merged.sort_values(\"Reference_Structure_Date\").Reference_Ligand.unique().tolist()"
   ],
   "metadata": {
    "collapsed": false
   },
   "id": "12850cfe2656aa47",
   "execution_count": null
  },
  {
   "cell_type": "code",
   "outputs": [],
   "source": [
    "fig = px.density_heatmap(merged,x=\"Query_Ligand\", y=\"Reference_Ligand\", z=\"N_Poses\", category_orders={\"Query_Ligand\": lig_orders, \"Reference_Ligand\": lig_orders,}, color_continuous_scale=\"Viridis\", height=800, width=1000)\n",
    "fig.write_image(figure_path / \"20240521_n_poses_density_heatmap.png\")\n",
    "fig.write_html(figure_path / \"20240521_n_poses_density_heatmap.html\")"
   ],
   "metadata": {
    "collapsed": false
   },
   "id": "15b010f4e92c2d78",
   "execution_count": null
  },
  {
   "cell_type": "markdown",
   "source": [
    "# is the number of poses related to how similar reference / query are?"
   ],
   "metadata": {
    "collapsed": false
   },
   "id": "147fe3c17e9b8d0f"
  },
  {
   "cell_type": "code",
   "outputs": [],
   "source": [
    "fig = px.density_heatmap(merged, y=\"N_Poses\", x=\"Tanimoto\", marginal_x=\"histogram\", marginal_y=\"histogram\", color_continuous_scale=px.colors.sequential.Viridis, height=800, width=1000, )\n",
    "fig.write_image(figure_path / \"20240521_n_poses_vs_tanimoto_density_heatmap.png\")\n",
    "fig.write_html(figure_path / \"20240521_n_poses_vs_tanimoto_density_heatmap.html\")"
   ],
   "metadata": {
    "collapsed": false
   },
   "id": "a74a350b1ab40a03",
   "execution_count": null
  },
  {
   "cell_type": "markdown",
   "source": [
    "## no"
   ],
   "metadata": {
    "collapsed": false
   },
   "id": "76c1b5578011109a"
  },
  {
   "cell_type": "code",
   "outputs": [],
   "source": [
    "best_rmsd_per_complex = rdf.sort_values([\"RMSD\"]).groupby([\"Query_Ligand\", \"Reference_Ligand\"]).head(1)"
   ],
   "metadata": {
    "collapsed": false
   },
   "id": "5cf28d3447165234",
   "execution_count": null
  },
  {
   "cell_type": "code",
   "outputs": [],
   "source": [
    "best_rmsd_per_complex[\"Good_RMSD\"] = best_rmsd_per_complex.apply(lambda x: x[\"RMSD\"] < 2, axis=1)\n",
    "best_rmsd = best_rmsd_per_complex[best_rmsd_per_complex.Good_RMSD]"
   ],
   "metadata": {
    "collapsed": false
   },
   "id": "f8405f28e3b1d6b",
   "execution_count": null
  },
  {
   "cell_type": "code",
   "outputs": [],
   "source": [
    "best_rmsd_with_n_poses = best_rmsd.merge(n_poses, on=[\"Query_Ligand\", \"Reference_Ligand\"])"
   ],
   "metadata": {
    "collapsed": false
   },
   "id": "aa51d3ac355c2cae",
   "execution_count": null
  },
  {
   "cell_type": "code",
   "outputs": [],
   "source": [
    "fig = px.density_heatmap(best_rmsd_with_n_poses, y=\"N_Poses\", x=\"Tanimoto\", marginal_x=\"histogram\", marginal_y=\"histogram\", color_continuous_scale=px.colors.sequential.Viridis, height=800, width=1000, )\n",
    "fig.write_image(figure_path / \"20240521_best_rmsd_vs_tanimoto_density_heatmap.png\")\n",
    "fig.write_html(figure_path / \"20240521_best_rmsd_vs_tanimoto_density_heatmap.html\")"
   ],
   "metadata": {
    "collapsed": false
   },
   "id": "c0cc355e4ceb32d1",
   "execution_count": null
  },
  {
   "cell_type": "code",
   "outputs": [],
   "source": [],
   "metadata": {
    "collapsed": false
   },
   "id": "89c1ace66492a677",
   "execution_count": null
  }
 ],
 "metadata": {
  "kernelspec": {
   "display_name": "Python 3",
   "language": "python",
   "name": "python3"
  },
  "language_info": {
   "codemirror_mode": {
    "name": "ipython",
    "version": 2
   },
   "file_extension": ".py",
   "mimetype": "text/x-python",
   "name": "python",
   "nbconvert_exporter": "python",
   "pygments_lexer": "ipython2",
   "version": "2.7.6"
  }
 },
 "nbformat": 4,
 "nbformat_minor": 5
}
