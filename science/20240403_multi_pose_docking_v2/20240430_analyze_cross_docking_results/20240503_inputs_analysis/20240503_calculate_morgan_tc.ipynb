{
 "cells": [
  {
   "cell_type": "markdown",
   "source": [
    "# Imports"
   ],
   "metadata": {
    "collapsed": false
   },
   "id": "25c87eb83c22f58d"
  },
  {
   "cell_type": "code",
   "outputs": [],
   "source": [
    "import numpy as np\n",
    "import pandas as pd\n",
    "from asapdiscovery.docking import analysis as a\n",
    "from importlib import reload\n",
    "reload(a)\n",
    "import plotly.figure_factory as ff\n",
    "from openeye import oegraphsim\n",
    "from asapdiscovery.data.readers.molfile import MolFileFactory\n",
    "from pathlib import Path"
   ],
   "metadata": {
    "collapsed": false
   },
   "id": "76781f490c6973b9",
   "execution_count": null
  },
  {
   "cell_type": "markdown",
   "source": [
    "# Load the data"
   ],
   "metadata": {
    "collapsed": false
   },
   "id": "f01c241810885929"
  },
  {
   "cell_type": "code",
   "outputs": [],
   "source": [
    "ogpath = Path(\"/Users/alexpayne/Scientific_Projects/mers-drug-discovery/sars2-retrospective-analysis/mpro_fragalysis-04-01-24_curated_cache/combined_2d.sdf\")"
   ],
   "metadata": {
    "collapsed": false
   },
   "id": "2cab8fd587c33f03",
   "execution_count": null
  },
  {
   "cell_type": "code",
   "outputs": [],
   "source": [
    "ligs = MolFileFactory(filename=ogpath).load() "
   ],
   "metadata": {
    "collapsed": false
   },
   "id": "d0e26450d7b5045",
   "execution_count": null
  },
  {
   "cell_type": "code",
   "outputs": [],
   "source": [
    "len(ligs)"
   ],
   "metadata": {
    "collapsed": false
   },
   "id": "4c166b29b94240ff",
   "execution_count": null
  },
  {
   "cell_type": "code",
   "outputs": [],
   "source": [
    "def get_fp(mol, bit_size=2048, radius=2):\n",
    "    fp = oegraphsim.OEFingerPrint()\n",
    "    oegraphsim.OEMakeCircularFP(fp, mol, bit_size, 0, radius, oegraphsim.OEFPAtomType_DefaultCircularAtom, oegraphsim.OEFPBondType_DefaultCircularBond)\n",
    "    return fp"
   ],
   "metadata": {
    "collapsed": false
   },
   "id": "edc3cf80bd02e6e8",
   "execution_count": null
  },
  {
   "cell_type": "code",
   "outputs": [],
   "source": [
    "fps = [get_fp(mol.to_oemol()) for mol in ligs]"
   ],
   "metadata": {
    "collapsed": false
   },
   "id": "eff37d83460635c9",
   "execution_count": null
  },
  {
   "cell_type": "code",
   "outputs": [],
   "source": [
    "def calculate_tanimoto(fp1, fp2):\n",
    "    return oegraphsim.OETanimoto(fp1, fp2)"
   ],
   "metadata": {
    "collapsed": false
   },
   "id": "324995438a9ea554",
   "execution_count": null
  },
  {
   "cell_type": "code",
   "outputs": [],
   "source": [
    "tc_list = [calculate_tanimoto(fp1, fp2) for fp1 in fps for fp2 in fps]"
   ],
   "metadata": {
    "collapsed": false
   },
   "id": "e20684ed5738dfa",
   "execution_count": null
  },
  {
   "cell_type": "code",
   "outputs": [],
   "source": [
    "tc_matrix = np.array(tc_list).reshape(len(fps), len(fps))"
   ],
   "metadata": {
    "collapsed": false
   },
   "id": "2b282aa834bc5f31",
   "execution_count": null
  },
  {
   "cell_type": "code",
   "outputs": [],
   "source": [
    "def get_tc_df(mols, bit_size=2048, radius=2, filter_out_self=True):\n",
    "    fps = [get_fp(mol.to_oemol(), bit_size, radius) for mol in mols]\n",
    "    tc_list = [calculate_tanimoto(fp1, fp2) for fp1 in fps for fp2 in fps]\n",
    "    df = pd.DataFrame({\"Reference_Ligand\": [m.compound_name for m in mols for _ in mols], \n",
    "                       \"Query_Ligand\": [m.compound_name for _ in mols for m in mols], \n",
    "                       \"Tanimoto\": tc_list,\n",
    "                       \"Fingerprint\": f\"ECFP{2*radius}\",\n",
    "                       \"BitSize\": f\"{bit_size} bits\"})\n",
    "    if filter_out_self:\n",
    "        df = df[df[\"Reference_Ligand\"] != df[\"Query_Ligand\"]]\n",
    "    return df"
   ],
   "metadata": {
    "collapsed": false
   },
   "id": "484d33da27c8beaf",
   "execution_count": null
  },
  {
   "cell_type": "code",
   "outputs": [],
   "source": [
    "dfs = []\n",
    "for radius in [2, 3, 4, 5]:\n",
    "    for bit_size in [2048]:\n",
    "        df = get_tc_df(ligs, bit_size, radius)\n",
    "        dfs.append(df)"
   ],
   "metadata": {
    "collapsed": false
   },
   "id": "96b9b223e1a88c2b",
   "execution_count": null
  },
  {
   "cell_type": "code",
   "outputs": [],
   "source": [
    "all_df = pd.concat(dfs)"
   ],
   "metadata": {
    "collapsed": false
   },
   "id": "cf6a8c2a9eb84c17",
   "execution_count": null
  },
  {
   "cell_type": "code",
   "outputs": [],
   "source": [
    "all_df.to_csv(\"20240503_all_tc_comparison.csv\", index=False)"
   ],
   "metadata": {
    "collapsed": false
   },
   "id": "c1eba949b7336acb",
   "execution_count": null
  },
  {
   "cell_type": "markdown",
   "source": [
    "# Plot"
   ],
   "metadata": {
    "collapsed": false
   },
   "id": "1026d4d4ce573844"
  },
  {
   "cell_type": "markdown",
   "source": [
    "## Max"
   ],
   "metadata": {
    "collapsed": false
   },
   "id": "a6be0eb0e1179202"
  },
  {
   "cell_type": "markdown",
   "source": [
    "### for this to make sense, need to remove the stereoisomeric pairs that have a 2D TC of 1"
   ],
   "metadata": {
    "collapsed": false
   },
   "id": "2059c28e1d2df2b4"
  },
  {
   "cell_type": "code",
   "outputs": [],
   "source": [
    "all_top_df = all_df[all_df.Tanimoto != 1.0]\n",
    "all_top_df = all_top_df.groupby([\"Query_Ligand\", \"Fingerprint\", \"BitSize\",], group_keys=True).max().reset_index()"
   ],
   "metadata": {
    "collapsed": false
   },
   "id": "f34d1f1220f77a2b",
   "execution_count": null
  },
  {
   "cell_type": "code",
   "outputs": [],
   "source": [
    "hist_data = [all_top_df[all_top_df[\"Fingerprint\"] == fp][\"Tanimoto\"] for fp in \n",
    "             [\"ECFP4\", \"ECFP6\", \"ECFP8\", \"ECFP10\"]]"
   ],
   "metadata": {
    "collapsed": false
   },
   "id": "b6eba4517da45645",
   "execution_count": null
  },
  {
   "cell_type": "code",
   "outputs": [],
   "source": [
    "fig = ff.create_distplot(hist_data, \n",
    "                         group_labels=[\"ECFP4\", \"ECFP6\", \"ECFP8\", \"ECFP10\"], \n",
    "                         bin_size=0.1, \n",
    "                         histnorm=\"probability\", \n",
    "                         show_rug=False,\n",
    "                         show_hist=False)"
   ],
   "metadata": {
    "collapsed": false
   },
   "id": "ce0019202ecdcb56",
   "execution_count": null
  },
  {
   "cell_type": "code",
   "outputs": [],
   "source": [
    "fig.update_xaxes(range=[0, 1])\n",
    "fig.update_yaxes(range=[0, 1])\n",
    "fig.update_layout(template=\"simple_white\", \n",
    "                  title=\"Maximum Tanimoto similarities in this dataset\", \n",
    "                  xaxis_title=\"Tanimoto similarity\", \n",
    "                  yaxis_title=\"Probability\", \n",
    "                  height=400, \n",
    "                  width=600,\n",
    "                  legend=dict(title=\"Fingerprint Type\", y=0.5, x=0.2),\n",
    "                  )\n",
    "fig.write_image(\"tanimoto_max_kde.png\")"
   ],
   "metadata": {
    "collapsed": false
   },
   "id": "49eea7ee2b1fdd81",
   "execution_count": null
  },
  {
   "cell_type": "code",
   "outputs": [],
   "source": [],
   "metadata": {
    "collapsed": false
   },
   "id": "3b1eb5b6807ccd38"
  }
 ],
 "metadata": {
  "kernelspec": {
   "display_name": "Python 3",
   "language": "python",
   "name": "python3"
  },
  "language_info": {
   "codemirror_mode": {
    "name": "ipython",
    "version": 2
   },
   "file_extension": ".py",
   "mimetype": "text/x-python",
   "name": "python",
   "nbconvert_exporter": "python",
   "pygments_lexer": "ipython2",
   "version": "2.7.6"
  }
 },
 "nbformat": 4,
 "nbformat_minor": 5
}
