{
 "cells": [
  {
   "cell_type": "code",
   "execution_count": null,
   "id": "initial_id",
   "metadata": {
    "collapsed": true
   },
   "outputs": [],
   "source": [
    "from pathlib import Path\n",
    "import pandas as pd\n",
    "from datetime import datetime"
   ]
  },
  {
   "cell_type": "code",
   "outputs": [],
   "source": [
    "mpro_soaks = Path(\"/Users/alexpayne/Scientific_Projects/mers-drug-discovery/sars2-retrospective-analysis/mpro_fragalysis-04-01-24/extra_files/Mpro_soaks.csv\")"
   ],
   "metadata": {
    "collapsed": false
   },
   "id": "9d9a201bc3933d1",
   "execution_count": null
  },
  {
   "cell_type": "code",
   "outputs": [],
   "source": [
    "date_df = pd.read_csv(mpro_soaks)"
   ],
   "metadata": {
    "collapsed": false
   },
   "id": "2a2d650750647676",
   "execution_count": null
  },
  {
   "cell_type": "code",
   "outputs": [],
   "source": [
    "ddf = date_df.loc[:, [\"Sample Name\", \"Data Collection Date\"]]"
   ],
   "metadata": {
    "collapsed": false
   },
   "id": "a06ff42d1dbe63a0",
   "execution_count": null
  },
  {
   "cell_type": "code",
   "outputs": [],
   "source": [
    "ddf.head()"
   ],
   "metadata": {
    "collapsed": false
   },
   "id": "e5d316262c3879db",
   "execution_count": null
  },
  {
   "cell_type": "code",
   "outputs": [],
   "source": [
    "def date_processor(date_string):\n",
    "    if type(date_string) == str and not date_string == 'None':\n",
    "        try:\n",
    "            return datetime.strptime(date_string, \"%Y-%m-%d %H:%M:%S\")\n",
    "        except ValueError:\n",
    "            return datetime.strptime(date_string, \"%d/%m/%Y %H:%M\")\n",
    "    else:\n",
    "        return None"
   ],
   "metadata": {
    "collapsed": false
   },
   "id": "a185773fc378b414",
   "execution_count": null
  },
  {
   "cell_type": "code",
   "outputs": [],
   "source": [
    "ddf['Sanitized_Date'] = ddf[\"Data Collection Date\"].apply(date_processor)"
   ],
   "metadata": {
    "collapsed": false
   },
   "id": "f3fe6406c5b817b5",
   "execution_count": null
  },
  {
   "cell_type": "code",
   "outputs": [],
   "source": [
    "ddf.columns = [\"Structure_Name\", \"Data_Collection_Date\", \"Structure_Date\"]"
   ],
   "metadata": {
    "collapsed": false
   },
   "id": "29a2d9f07a711526",
   "execution_count": null
  },
  {
   "cell_type": "code",
   "outputs": [],
   "source": [
    "date_dict = ddf.set_index(\"Structure_Name\").to_dict()[\"Structure_Date\"]"
   ],
   "metadata": {
    "collapsed": false
   },
   "id": "7edc24005901167c",
   "execution_count": null
  },
  {
   "cell_type": "code",
   "outputs": [],
   "source": [
    "date_dict = {k: str(v) for k, v in date_dict.items() if str(v) != \"NaT\"}"
   ],
   "metadata": {
    "collapsed": false
   },
   "id": "8f04cf073b7c6095",
   "execution_count": null
  },
  {
   "cell_type": "code",
   "outputs": [],
   "source": [
    "import json"
   ],
   "metadata": {
    "collapsed": false
   },
   "id": "db5f5a962cf79920",
   "execution_count": null
  },
  {
   "cell_type": "code",
   "outputs": [],
   "source": [
    "with open(\"date_dict.json\", \"w\") as f:\n",
    "    json.dump(date_dict, f)"
   ],
   "metadata": {
    "collapsed": false
   },
   "id": "73fa7e6c0c48e890",
   "execution_count": null
  },
  {
   "cell_type": "code",
   "outputs": [],
   "source": [
    "date_dict"
   ],
   "metadata": {
    "collapsed": false
   },
   "id": "e674efbc6e136378",
   "execution_count": null
  },
  {
   "cell_type": "code",
   "outputs": [],
   "source": [],
   "metadata": {
    "collapsed": false
   },
   "id": "36c26c446afd2746"
  }
 ],
 "metadata": {
  "kernelspec": {
   "display_name": "Python 3",
   "language": "python",
   "name": "python3"
  },
  "language_info": {
   "codemirror_mode": {
    "name": "ipython",
    "version": 2
   },
   "file_extension": ".py",
   "mimetype": "text/x-python",
   "name": "python",
   "nbconvert_exporter": "python",
   "pygments_lexer": "ipython2",
   "version": "2.7.6"
  }
 },
 "nbformat": 4,
 "nbformat_minor": 5
}
