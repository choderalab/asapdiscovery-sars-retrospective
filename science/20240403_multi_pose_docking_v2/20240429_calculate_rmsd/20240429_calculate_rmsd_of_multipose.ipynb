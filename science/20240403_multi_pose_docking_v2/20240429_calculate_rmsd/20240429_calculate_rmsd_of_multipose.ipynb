{
 "cells": [
  {
   "cell_type": "markdown",
   "id": "2e9515a6b661dbd5",
   "metadata": {},
   "source": [
    "# Imports"
   ]
  },
  {
   "cell_type": "code",
   "execution_count": null,
   "id": "6b68f6ca04d4ff45",
   "metadata": {
    "collapsed": false,
    "jupyter": {
     "outputs_hidden": false
    }
   },
   "outputs": [],
   "source": [
    "import numpy as np\n",
    "from pathlib import Path\n",
    "import pandas as pd\n",
    "from tqdm import tqdm\n",
    "from asapdiscovery.docking.analysis import calculate_rmsd_openeye\n",
    "from asapdiscovery.data.schema.ligand import Ligand\n",
    "from asapdiscovery.data.readers.molfile import MolFileFactory"
   ]
  },
  {
   "cell_type": "markdown",
   "id": "6714767866098524",
   "metadata": {},
   "source": [
    "# Load the data"
   ]
  },
  {
   "cell_type": "code",
   "execution_count": null,
   "id": "90f7a7fb-bc46-453e-b450-b4a8d82f7766",
   "metadata": {
    "collapsed": false,
    "jupyter": {
     "outputs_hidden": false
    }
   },
   "outputs": [],
   "source": [
    "ogpath = Path(\"/data/chodera/asap-datasets/mpro_fragalysis-04-01-24_curated_cache/combined_3d.sdf\")"
   ]
  },
  {
   "cell_type": "code",
   "execution_count": null,
   "id": "f704053a-44c4-4e39-8d9a-9e8241b6a9ae",
   "metadata": {},
   "outputs": [],
   "source": [
    "posed_path = Path(\"/lila/data/chodera/asap-datasets/retro_docking/sars_fragalysis_retrospective/20240424_multi_pose_docking_cross_docking\")"
   ]
  },
  {
   "cell_type": "code",
   "execution_count": null,
   "id": "03e8bac2-0ae7-49ba-ad16-cf83bdb0726e",
   "metadata": {},
   "outputs": [],
   "source": [
    "posed_paths = list(posed_path.glob(\"20240424_multi_pose_docking_cross_docking*/docking_results.sdf\"))"
   ]
  },
  {
   "cell_type": "code",
   "execution_count": null,
   "id": "87389359-b3ca-495f-aa25-4dbb23d78efe",
   "metadata": {},
   "outputs": [],
   "source": [
    "mff = MolFileFactory(filename=ogpath)\n",
    "ligs = mff.load()"
   ]
  },
  {
   "cell_type": "code",
   "execution_count": null,
   "id": "546cef64-556a-44a6-924f-8ecb3f548c9d",
   "metadata": {},
   "outputs": [],
   "source": [
    "len(ligs)"
   ]
  },
  {
   "cell_type": "code",
   "execution_count": null,
   "id": "1ac61123-0172-4d3b-b15b-3a8cbac8202b",
   "metadata": {},
   "outputs": [],
   "source": [
    "lig_dict = {lig.compound_name:lig for lig in ligs}"
   ]
  },
  {
   "cell_type": "code",
   "execution_count": null,
   "id": "de4e166b-0fda-4338-bfe9-2c288117c486",
   "metadata": {},
   "outputs": [],
   "source": [
    "from typing import Union\n",
    "from asapdiscovery.data.backend.openeye import oechem\n",
    "def load_openeye_sdfs(sdf_fn: Union[str, Path]) -> [oechem.OEMol]:\n",
    "    \"\"\"\n",
    "    Load an OpenEye SDF file and return it as an OpenEye OEMol object.\n",
    "    Reads multiple conformers into the OEMol object but if the sdf file contains\n",
    "    multiple molecules, it will only return the first one.\n",
    "\n",
    "    Parameters\n",
    "    ----------\n",
    "    sdf_fn : Union[str, Path]\n",
    "        Path to the SDF file to load.\n",
    "\n",
    "    Returns\n",
    "    -------\n",
    "    oechem.OEMol\n",
    "        An OpenEye OEMol object containing the molecule data from the SDF file.\n",
    "\n",
    "    Raises\n",
    "    ------\n",
    "    FileNotFoundError\n",
    "        If the specified file does not exist.\n",
    "    oechem.OEError\n",
    "        If the SDF file cannot be opened.\n",
    "\n",
    "    Notes\n",
    "    -----\n",
    "    This function assumes that the SDF file contains a single molecule. If the\n",
    "    file contains more than one molecule, only the first molecule will be loaded.\n",
    "    \"\"\"\n",
    "\n",
    "    if not Path(sdf_fn).exists():\n",
    "        raise FileNotFoundError(f\"{sdf_fn} does not exist!\")\n",
    "\n",
    "    ifs = oechem.oemolistream()\n",
    "    ifs.SetFlavor(\n",
    "        oechem.OEFormat_SDF,\n",
    "        oechem.OEIFlavor_SDF_Default,\n",
    "    )\n",
    "    ifs.SetConfTest(oechem.OEOmegaConfTest())\n",
    "    mol_list = []\n",
    "    if ifs.open(str(sdf_fn)):\n",
    "        for mol in ifs.GetOEMols():\n",
    "            mol_list.append(mol.CreateCopy())\n",
    "        ifs.close()\n",
    "        return mol_list\n",
    "    else:\n",
    "        oechem.OEThrow.Fatal(f\"Unable to open {sdf_fn}\")"
   ]
  },
  {
   "cell_type": "code",
   "execution_count": null,
   "id": "c5da8223-2a2f-4424-9a2b-8eb551bf62f8",
   "metadata": {},
   "outputs": [],
   "source": [
    "posed_ligs1 = [Ligand.from_oemol(mol) for mol in load_openeye_sdfs(posed_paths[0])]"
   ]
  },
  {
   "cell_type": "code",
   "execution_count": null,
   "id": "3a516abb-c5d6-4bf7-8845-49ef5c8893ca",
   "metadata": {},
   "outputs": [],
   "source": [
    "posed_ligs1[0].compound_name"
   ]
  },
  {
   "cell_type": "code",
   "execution_count": null,
   "id": "1dc206ff-8b17-4169-bb1d-118873922d83",
   "metadata": {},
   "outputs": [],
   "source": [
    "posed_ligs1[0].conf_tags.keys()"
   ]
  },
  {
   "cell_type": "code",
   "execution_count": null,
   "id": "6bf49b0d-7530-4d53-b91d-163966962feb",
   "metadata": {},
   "outputs": [],
   "source": [
    "posed_lig = posed_ligs1[0]\n",
    "posed_mol = posed_lig.to_oemol()"
   ]
  },
  {
   "cell_type": "code",
   "execution_count": null,
   "id": "90134f38-f829-4a7d-b5ca-24efd42a4254",
   "metadata": {},
   "outputs": [],
   "source": [
    "posed_lig.provenance"
   ]
  },
  {
   "cell_type": "code",
   "execution_count": null,
   "id": "0a344678-8498-4aa0-be1a-d26d7ecf4145",
   "metadata": {},
   "outputs": [],
   "source": [
    "og_lig = lig_dict[posed_lig.compound_name]\n",
    "og_mol = og_lig.to_oemol()"
   ]
  },
  {
   "cell_type": "code",
   "execution_count": null,
   "id": "b9b03ad1-d590-4c35-b581-3574216228a2",
   "metadata": {},
   "outputs": [],
   "source": [
    "calculate_rmsd_openeye(og_mol, posed_mol)"
   ]
  },
  {
   "cell_type": "code",
   "execution_count": null,
   "id": "ac5efa8d-5243-4a44-aded-48efd03ae1d9",
   "metadata": {},
   "outputs": [],
   "source": [
    "posed_lig.num_poses"
   ]
  },
  {
   "cell_type": "markdown",
   "id": "ca2c6b37-3a42-4edd-aaf4-d5c541429953",
   "metadata": {},
   "source": [
    "# right, this isn't going to work because there's nothing to distinguish which structure was used to docking, we'll have to load from the results objects"
   ]
  },
  {
   "cell_type": "code",
   "execution_count": null,
   "id": "f2f2b26f-dd7e-4602-96ce-b97183958ca5",
   "metadata": {},
   "outputs": [],
   "source": [
    "from asapdiscovery.docking.openeye import POSITDockingResults"
   ]
  },
  {
   "cell_type": "code",
   "execution_count": null,
   "id": "36d6627e-9146-410e-8e78-c1ec538f1bfe",
   "metadata": {},
   "outputs": [],
   "source": [
    "json_paths = list(posed_path.glob(\"20240424_multi_pose_docking_cross_docking95/docking_results/*/docking_result.json\"))"
   ]
  },
  {
   "cell_type": "code",
   "execution_count": null,
   "id": "918abff8-dc3b-4a77-bfb8-4076e02b7da4",
   "metadata": {
    "tags": []
   },
   "outputs": [],
   "source": [
    "results = [POSITDockingResults.from_json_file(json_file) for json_file in json_paths]"
   ]
  },
  {
   "cell_type": "code",
   "execution_count": null,
   "id": "73e73f12-1567-4bfa-a270-49e756697cf9",
   "metadata": {},
   "outputs": [],
   "source": [
    "posed_lig1 = results[0].posed_ligand"
   ]
  },
  {
   "cell_type": "code",
   "execution_count": null,
   "id": "4ae5dec4-401f-4c44-8145-87e194851120",
   "metadata": {},
   "outputs": [],
   "source": [
    "posed_lig1"
   ]
  },
  {
   "cell_type": "code",
   "execution_count": null,
   "id": "bbcbbe37-97c3-43e4-9c23-4430d9ae5cf6",
   "metadata": {},
   "outputs": [],
   "source": [
    "og_lig = lig_dict[posed_lig1.compound_name]"
   ]
  },
  {
   "cell_type": "code",
   "execution_count": null,
   "id": "5157cd0f-7877-440d-b147-e3b1a720fdf5",
   "metadata": {},
   "outputs": [],
   "source": [
    "def calculate_ligand_rmsd(ref: Ligand, fit: Ligand) -> list[float]:\n",
    "    fitmol = fit.to_oemol()\n",
    "    refmol = ref.to_oemol()\n",
    "    nConfs = fit.num_poses\n",
    "    vecRmsd = oechem.OEDoubleArray(nConfs)\n",
    "    success = OERMSD(refmol, fitmol, vecRmsd)\n",
    "    if not success:\n",
    "        print(\"RMSD calculation failed\")\n",
    "    fit.set_SD_data({\"RMSD\": list(vecRmsd)})\n",
    "    return fit"
   ]
  },
  {
   "cell_type": "code",
   "execution_count": null,
   "id": "f76ed30b-0e9b-41f0-8ef9-d6482ce4a144",
   "metadata": {},
   "outputs": [],
   "source": [
    "for result in tqdm(results):\n",
    "    posed_lig = result.posed_ligand\n",
    "    ref = lig_dict[posed_lig.compound_name]\n",
    "    calculate_ligand_rmsd(ref, posed_lig)"
   ]
  },
  {
   "cell_type": "code",
   "execution_count": null,
   "id": "74185dfd-006a-4191-9374-96922bbf98b3",
   "metadata": {},
   "outputs": [],
   "source": [
    "result.posed_ligand"
   ]
  },
  {
   "cell_type": "code",
   "execution_count": null,
   "id": "0abebc88-4faf-4338-8762-37ed4a1c3b8a",
   "metadata": {},
   "outputs": [],
   "source": [
    "result"
   ]
  },
  {
   "cell_type": "code",
   "execution_count": null,
   "id": "3d277fc0-2506-48f2-99e4-4cdc99e986d7",
   "metadata": {},
   "outputs": [],
   "source": [
    "result.to_df()"
   ]
  },
  {
   "cell_type": "code",
   "execution_count": null,
   "id": "6779369e-eb26-4416-bc53-3dbb221c11a5",
   "metadata": {},
   "outputs": [],
   "source": [
    "result.input_pair.ligand"
   ]
  },
  {
   "cell_type": "markdown",
   "id": "4b35f1a0-bb39-4311-b0cd-f64e2c3ca917",
   "metadata": {},
   "source": [
    "# make df from docking results"
   ]
  },
  {
   "cell_type": "code",
   "execution_count": null,
   "id": "a146057c-0169-4838-a58c-5b305c0b9f7f",
   "metadata": {},
   "outputs": [],
   "source": [
    "def make_df_from_docking_results(results = list[POSITDockingResults]):\n",
    "    import pandas as pd\n",
    "    from asapdiscovery.docking.docking_data_validation import DockingResultCols\n",
    "\n",
    "    dfs = []\n",
    "    for result in results:\n",
    "        docking_dict = {}\n",
    "        docking_dict[\"Query_Ligand\"] = (\n",
    "            result.input_pair.ligand.compound_name\n",
    "        )\n",
    "        docking_dict[\"Reference_Structure\"] = (\n",
    "            result.input_pair.complex.target.target_name\n",
    "        )\n",
    "        docking_dict[\"Reference_Ligand_SMILES\"] = (\n",
    "            result.input_pair.complex.ligand.smiles\n",
    "        )\n",
    "        docking_dict[DockingResultCols.SMILES.value] = (\n",
    "            result.input_pair.ligand.smiles\n",
    "        )\n",
    "        docking_dict[DockingResultCols.DOCKING_CONFIDENCE_POSIT.value] = (\n",
    "            result.posed_ligand.conf_tags[\"docking-confidence-POSIT\"]\n",
    "        )\n",
    "        docking_dict[\"RMSD\"] = result.posed_ligand.conf_tags[\"RMSD\"]\n",
    "        docking_dict[\"Pose_ID\"] = result.posed_ligand.conf_tags['Pose_ID']\n",
    "        docking_dict[\"POSIT_Method\"] = result.posed_ligand.conf_tags['_POSIT_method']\n",
    "        docking_dict[\"Reference_Ligand\"] = result.input_pair.complex.ligand.compound_name\n",
    "        \n",
    "        dfs.append(pd.DataFrame(docking_dict))\n",
    "\n",
    "    df = pd.concat(dfs)\n",
    "    return df"
   ]
  },
  {
   "cell_type": "code",
   "execution_count": null,
   "id": "77efe481-8c6b-4648-a5ee-c7d7a607b276",
   "metadata": {},
   "outputs": [],
   "source": [
    "make_df_from_docking_results(results)"
   ]
  },
  {
   "cell_type": "markdown",
   "id": "8e6eb250-3059-4567-83bd-2b448a5738a0",
   "metadata": {},
   "source": [
    "# Ok this is about good enough, now I'll turn into a script and parallelize across ligands"
   ]
  },
  {
   "cell_type": "code",
   "execution_count": null,
   "id": "006cef0f-f96a-43cd-b29d-fae6457f2b5a",
   "metadata": {},
   "outputs": [],
   "source": [
    "result"
   ]
  },
  {
   "cell_type": "code",
   "execution_count": null,
   "id": "5d855ff9-08e4-49b9-aecd-4fe55e6735be",
   "metadata": {},
   "outputs": [],
   "source": []
  }
 ],
 "metadata": {
  "kernelspec": {
   "display_name": "Python [conda env:asapdiscovery]",
   "language": "python",
   "name": "conda-env-asapdiscovery-py"
  },
  "language_info": {
   "codemirror_mode": {
    "name": "ipython",
    "version": 3
   },
   "file_extension": ".py",
   "mimetype": "text/x-python",
   "name": "python",
   "nbconvert_exporter": "python",
   "pygments_lexer": "ipython3",
   "version": "3.10.13"
  }
 },
 "nbformat": 4,
 "nbformat_minor": 5
}
