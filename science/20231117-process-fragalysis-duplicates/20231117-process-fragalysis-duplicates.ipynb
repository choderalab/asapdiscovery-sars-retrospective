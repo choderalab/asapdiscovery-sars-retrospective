{
 "cells": [
  {
   "cell_type": "markdown",
   "metadata": {
    "collapsed": true,
    "jupyter": {
     "outputs_hidden": true
    }
   },
   "source": [
    "# Imports"
   ]
  },
  {
   "cell_type": "code",
   "execution_count": null,
   "metadata": {},
   "outputs": [],
   "source": [
    "from asapdiscovery.data.schema_v2 import ligand\n",
    "import pandas as pd\n",
    "from itertools import product\n",
    "from asapdiscovery.data.openeye import oechem\n",
    "from asapdiscovery.dataviz.molecules import display_openeye_ligand"
   ]
  },
  {
   "cell_type": "code",
   "execution_count": null,
   "metadata": {},
   "outputs": [],
   "source": [
    "from importlib import reload\n",
    "reload(ligand)"
   ]
  },
  {
   "cell_type": "code",
   "execution_count": null,
   "metadata": {},
   "outputs": [],
   "source": [
    "problem_ids = [f\"EDG-MED-5d232de5-{i}\" for i in range(3,9)]"
   ]
  },
  {
   "cell_type": "code",
   "execution_count": null,
   "metadata": {},
   "outputs": [],
   "source": [
    "compound_data = pd.read_csv(\"/Users/alexpayne/Scientific_Projects/mers-drug-discovery/fragalysis_downloads/20230611-mpro/extra_files/Mpro_compound_tracker_csv.csv\")"
   ]
  },
  {
   "cell_type": "code",
   "execution_count": null,
   "metadata": {},
   "outputs": [],
   "source": [
    "ligs = [ligand.Ligand.from_smiles(compound_name=compound_id, smiles=compound_data[(compound_data[\"Compound ID\"] == compound_id)].iloc[0,2]) for compound_id in problem_ids]"
   ]
  },
  {
   "cell_type": "code",
   "execution_count": null,
   "metadata": {},
   "outputs": [],
   "source": [
    "ligs[0].smiles"
   ]
  },
  {
   "cell_type": "code",
   "execution_count": null,
   "metadata": {},
   "outputs": [],
   "source": [
    "ligs[0].compound_name"
   ]
  },
  {
   "cell_type": "code",
   "execution_count": null,
   "metadata": {},
   "outputs": [],
   "source": [
    "ligs[1].smiles"
   ]
  },
  {
   "cell_type": "code",
   "execution_count": null,
   "metadata": {},
   "outputs": [],
   "source": [
    "tautomer = ligand.Ligand.from_smiles(compound_name='EDG-MED-5d232de5-3_taut', smiles=\"CC(N1CC[C@@H](/C(O)=N\\c2c3ccccc3cnc2)c4cc(Cl)ccc41)=O\")"
   ]
  },
  {
   "cell_type": "code",
   "execution_count": null,
   "metadata": {},
   "outputs": [],
   "source": [
    "tautomer"
   ]
  },
  {
   "cell_type": "code",
   "execution_count": null,
   "metadata": {},
   "outputs": [],
   "source": [
    "conjugate_acid = ligand.Ligand.from_smiles(compound_name='EDG-MED-5d232de5-3_acid', smiles=\"CC(N1CC[C@@H](C([NH2+]c2c3ccccc3cnc2)=O)c4cc(Cl)ccc41)=O\")\n",
    "tautomer_acid = ligand.Ligand.from_smiles(compound_name='EDG-MED-5d232de5-3_acid_taut', smiles=\"CC(N1CC[C@@H](/C(O)=[NH+]\\c2c3ccccc3cnc2)c4cc(Cl)ccc41)=O\")"
   ]
  },
  {
   "cell_type": "code",
   "execution_count": null,
   "metadata": {},
   "outputs": [],
   "source": [
    "ligs = ligs + [tautomer, conjugate_acid, tautomer_acid]"
   ]
  },
  {
   "cell_type": "code",
   "execution_count": null,
   "metadata": {},
   "outputs": [],
   "source": [
    "for lig in ligs:\n",
    "    mol = lig.to_oemol()\n",
    "    print(lig.compound_name)\n",
    "    print(lig.smiles)\n",
    "    # print(oechem.OECreateCanSmiString(lig.to_oemol()))"
   ]
  },
  {
   "cell_type": "code",
   "execution_count": null,
   "metadata": {},
   "outputs": [],
   "source": [
    "taut_mol = tautomer.canonical_tautomer.to_oemol()"
   ]
  },
  {
   "cell_type": "code",
   "execution_count": null,
   "metadata": {},
   "outputs": [],
   "source": [
    "taut_mol.GetMaxAtomIdx()"
   ]
  },
  {
   "cell_type": "code",
   "execution_count": null,
   "metadata": {},
   "outputs": [],
   "source": [
    "# simple = ligs[0:2] + ligs[-3:]\n",
    "for lig1, lig2 in product(ligs, ligs):\n",
    "    print(lig1.compound_name, lig2.compound_name)\n",
    "    print(lig1.get_chemical_relationship(lig2))\n",
    "    print()"
   ]
  },
  {
   "cell_type": "code",
   "execution_count": null,
   "metadata": {},
   "outputs": [],
   "source": [
    "import mols2grid"
   ]
  },
  {
   "cell_type": "code",
   "execution_count": null,
   "metadata": {},
   "outputs": [],
   "source": []
  },
  {
   "cell_type": "code",
   "execution_count": null,
   "metadata": {},
   "outputs": [],
   "source": []
  }
 ],
 "metadata": {
  "kernelspec": {
   "display_name": "Python 3 (ipykernel)",
   "language": "python",
   "name": "python3"
  },
  "language_info": {
   "codemirror_mode": {
    "name": "ipython",
    "version": 3
   },
   "file_extension": ".py",
   "mimetype": "text/x-python",
   "name": "python",
   "nbconvert_exporter": "python",
   "pygments_lexer": "ipython3",
   "version": "3.10.13"
  }
 },
 "nbformat": 4,
 "nbformat_minor": 4
}