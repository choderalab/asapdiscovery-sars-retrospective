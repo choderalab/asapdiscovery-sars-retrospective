{
 "cells": [
  {
   "cell_type": "markdown",
   "id": "8adc6aab-c271-4dc9-bc35-aabc09923018",
   "metadata": {},
   "source": [
    "# Imports"
   ]
  },
  {
   "cell_type": "code",
   "execution_count": null,
   "id": "69fe8850-691d-4cbb-bac2-05a36de684ba",
   "metadata": {},
   "outputs": [],
   "source": [
    "from asapdiscovery.data.schema_v2.ligand import Ligand\n",
    "from asapdiscovery.data.schema_v2.molfile import MolFileFactory\n",
    "from tqdm import tqdm\n",
    "from itertools import product, combinations, combinations_with_replacement\n",
    "import pandas as pd\n",
    "from pathlib import Path\n",
    "from asapdiscovery.data.openeye import oechem\n",
    "from asapdiscovery.data.schema_v2.fragalysis import FragalysisFactory"
   ]
  },
  {
   "cell_type": "code",
   "execution_count": null,
   "id": "2802e523-98a2-478b-8c07-10e66d22ed36",
   "metadata": {},
   "outputs": [],
   "source": [
    "ff = FragalysisFactory(parent_dir=\"/Users/alexpayne/Scientific_Projects/mers-drug-discovery/sars2-retrospective-analysis/full_frag_prepped_mpro_20230603/\")"
   ]
  },
  {
   "cell_type": "markdown",
   "id": "96a2d1e0-555e-481c-a4c3-496a060e5324",
   "metadata": {},
   "source": [
    "## this isn't gonna work because the filenames in the new \"aligned\" directory is different from anything in metadata.csv"
   ]
  },
  {
   "cell_type": "markdown",
   "id": "02566cb5-89a2-4b1b-9479-1964171a60c0",
   "metadata": {},
   "source": [
    "# let's try just parsing the sdf"
   ]
  },
  {
   "cell_type": "code",
   "execution_count": null,
   "id": "2dc86a62-f839-4f09-9791-3c9bf01c9555",
   "metadata": {},
   "outputs": [],
   "source": [
    "MolFileFactory?"
   ]
  },
  {
   "cell_type": "code",
   "execution_count": null,
   "id": "163ff667-bd12-4903-bd9b-3f29886e9af6",
   "metadata": {},
   "outputs": [],
   "source": [
    "mff = MolFileFactory.from_file(filename=\"/Users/alexpayne/Scientific_Projects/mers-drug-discovery/sars2-retrospective-analysis/full_frag_prepped_mpro_20230603/2022_12_02_fragalysis_correct_bond_orders_220_P_structures.sdf\")"
   ]
  },
  {
   "cell_type": "code",
   "execution_count": null,
   "id": "c5e9eb7d-e776-4456-942c-79889ebf534a",
   "metadata": {},
   "outputs": [],
   "source": [
    "from asapdiscovery.data.schema_v2.ligand import ChemicalRelationship"
   ]
  },
  {
   "cell_type": "code",
   "execution_count": null,
   "id": "d4125d43-835c-47d0-bc72-59029a22bbce",
   "metadata": {},
   "outputs": [],
   "source": [
    "tested_dict = {}\n",
    "for lig1, lig2 in tqdm(combinations(mff.ligands, 2)):\n",
    "    if lig1.get_chemical_relationship(lig2) not in ChemicalRelationship.DISTINCT:\n",
    "        print(lig1.compound_name, lig2.compound_name)"
   ]
  },
  {
   "cell_type": "code",
   "execution_count": null,
   "id": "dedaa165-4433-4af8-bd5b-34b1d6ddc9e0",
   "metadata": {},
   "outputs": [],
   "source": [
    "duplicates = [\n",
    "    ('ALP-POS-4483ae88-4', 'MIK-UNK-78dbf1b8-1'),\n",
    "    ('BEN-BAS-c2bc0d80-6', 'VLA-UCB-50c39ae8-2'),\n",
    "    ('BEN-DND-f2e727cd-5', 'MAT-POS-3ccb8ef6-1'),\n",
    "    ('EDG-MED-0e5afe9d-3', 'PET-UNK-29afea89-2'),\n",
    "    ('EDG-MED-5d232de5-5', 'MIC-UNK-91acba05-6'),\n",
    "    ('EDG-MED-5d232de5-7', 'EDG-MED-5d232de5-8'),\n",
    "    ('EDG-MED-5d232de5-7', 'PET-UNK-c9c1e0d8-4'),\n",
    "    ('EDG-MED-5d232de5-8', 'PET-UNK-c9c1e0d8-4'),\n",
    "    ('EDJ-MED-015fb6b4-2', 'MAT-POS-a54ce14d-2'),\n",
    "    ('EDJ-MED-37aac4bd-4', 'MAT-POS-932d1078-3'),\n",
    "    ('EDJ-MED-8bb691af-4', 'MAT-POS-c7726e07-5'),\n",
    "    ('EDJ-MED-976a33d5-1', 'MAT-POS-e48723dc-2'),\n",
    "    ('MAT-POS-090737b9-1', 'VLA-UCB-50c39ae8-7'),\n",
    "    ('MAT-POS-7174c657-5', 'MAT-POS-7174c657-6'),\n",
    "    ('MAT-POS-7174c657-5', 'MAT-POS-a13804f0-4'),\n",
    "    ('MAT-POS-7174c657-6', 'MAT-POS-a13804f0-4'),\n",
    "    ('MAT-POS-a13804f0-3', 'RAL-THA-05e671eb-10'),\n",
    "    ('MIK-ENA-5d9157e9-5', 'MIK-ENA-5d9157e9-6'),\n",
    "    ('VLA-UCB-29506327-1', 'VLA-UNK-cf7facf1-1')\n",
    "]"
   ]
  },
  {
   "cell_type": "code",
   "execution_count": null,
   "id": "fb231c5d-c323-4b1e-9a0f-b08668b1bce8",
   "metadata": {},
   "outputs": [],
   "source": [
    "unique = {item for sublist in duplicates for item in sublist}"
   ]
  },
  {
   "cell_type": "code",
   "execution_count": null,
   "id": "f5fa0589-ddbc-4826-a3d5-f4857b7852ef",
   "metadata": {},
   "outputs": [],
   "source": [
    "unique_ligs = {lig.compound_name: lig for lig in mff.ligands if lig.compound_name in unique}"
   ]
  },
  {
   "cell_type": "code",
   "execution_count": null,
   "id": "71d168e3-acde-4619-a597-175979b67b17",
   "metadata": {},
   "outputs": [],
   "source": [
    "df = pd.DataFrame({\"Smiles\": [lig.smiles for lig in mff.ligands if lig.compound_name in unique], \"Compound_ID\": [lig.compound_name for lig in mff.ligands if lig.compound_name in unique]})"
   ]
  },
  {
   "cell_type": "code",
   "execution_count": null,
   "id": "1638984f-6ea7-492a-8ffa-27bbb55e94c5",
   "metadata": {},
   "outputs": [],
   "source": [
    "df = pd.DataFrame({\"Smiles\": [lig1.smiles, lig2.smiles], \"Compound_ID\": [lig1.compound_name, lig2.compound_name]})"
   ]
  },
  {
   "cell_type": "code",
   "execution_count": null,
   "id": "d16b42fe-62bf-4aaa-a1fd-09b8098d2385",
   "metadata": {},
   "outputs": [],
   "source": [
    "import mols2grid\n",
    "from asapdiscovery.data.schema_v2.ligand import Ligand, ChemicalRelationship"
   ]
  },
  {
   "cell_type": "code",
   "execution_count": null,
   "id": "03742a27-b494-461e-b8a3-b53addf54e88",
   "metadata": {},
   "outputs": [],
   "source": [
    "smiles=[]\n",
    "compound_name=[]\n",
    "chem_rel = []\n",
    "lig1_has_stereo = []\n",
    "lig2_has_stereo = []\n",
    "for name1, name2 in duplicates:\n",
    "    lig1 = unique_ligs[name1]\n",
    "    lig2 = unique_ligs[name2]\n",
    "    smiles.append(lig1.smiles)\n",
    "    smiles.append(lig2.smiles)\n",
    "    compound_name.append(lig1.compound_name)\n",
    "    compound_name.append(lig2.compound_name)\n",
    "    chem_rel.append(lig1.get_chemical_relationship(lig2))\n",
    "    lig1_has_stereo.append(lig1.has_defined_stereo)\n",
    "    lig2_has_stereo.append(lig2.has_defined_stereo)"
   ]
  },
  {
   "cell_type": "code",
   "execution_count": null,
   "id": "8107e73e-7d29-4e50-8d0d-45f8a2e6a3dd",
   "metadata": {},
   "outputs": [],
   "source": [
    "df = pd.DataFrame({\"Smiles\": smiles, \"Compound_ID\": compound_name})"
   ]
  },
  {
   "cell_type": "code",
   "execution_count": null,
   "id": "fa93ef7c-dfe7-4328-a410-2bb5c7b9b3ee",
   "metadata": {},
   "outputs": [],
   "source": [
    "mols2grid.display(df, smiles_col=\"Smiles\")"
   ]
  },
  {
   "cell_type": "code",
   "execution_count": null,
   "id": "79dddd3b-4146-4db5-9d4d-6a997ae99260",
   "metadata": {},
   "outputs": [],
   "source": [
    "rel_df = pd.DataFrame({\"Lig1\": [lig[0] for lig in duplicates], \n",
    "                       \"Lig2\": [lig[1] for lig in duplicates], \n",
    "                       \"Chemical_Relationships\":chem_rel, \n",
    "                       \"Lig1 Stereospecific\": lig1_has_stereo,\n",
    "                      \"Lig2 Stereospecific\": lig2_has_stereo})"
   ]
  },
  {
   "cell_type": "code",
   "execution_count": null,
   "id": "87089a66-2397-4f3c-86e5-80c69a8ea66e",
   "metadata": {},
   "outputs": [],
   "source": [
    "rel_df[\"Diff Stereospecificity\"] = rel_df[\"Lig1 Stereospecific\"] != rel_df[\"Lig2 Stereospecific\"]"
   ]
  },
  {
   "cell_type": "code",
   "execution_count": null,
   "id": "de6cf56d-b59f-480a-8119-60c959f6fd97",
   "metadata": {},
   "outputs": [],
   "source": [
    "weird = rel_df[rel_df[\"Diff Stereospecificity\"] == False]"
   ]
  },
  {
   "cell_type": "code",
   "execution_count": null,
   "id": "a9252890-7e03-4a7c-b8ee-4fbbff47b8b4",
   "metadata": {},
   "outputs": [],
   "source": [
    "weird"
   ]
  },
  {
   "cell_type": "code",
   "execution_count": null,
   "id": "7bed44cd-1469-4881-9f1c-a7477d0bdc99",
   "metadata": {},
   "outputs": [],
   "source": [
    "weird_list = set(weird.Lig1.unique()) | set((weird.Lig2.unique()))"
   ]
  },
  {
   "cell_type": "code",
   "execution_count": null,
   "id": "919df7a5-a800-4799-886b-38c4fea9c026",
   "metadata": {},
   "outputs": [],
   "source": [
    "weird_list"
   ]
  },
  {
   "cell_type": "code",
   "execution_count": null,
   "id": "bcf1da6f-2c7c-4c41-8b7e-31ff766c5337",
   "metadata": {},
   "outputs": [],
   "source": [
    "mols2grid.display(df[df['Compound_ID'].isin(weird_list)], smiles_col=\"Smiles\")"
   ]
  },
  {
   "cell_type": "code",
   "execution_count": null,
   "id": "26154a2a-fb9e-4b1e-be6a-e51902bbab00",
   "metadata": {},
   "outputs": [],
   "source": []
  },
  {
   "cell_type": "code",
   "execution_count": null,
   "id": "4aa70599-127b-4688-8998-cffcbb9f3411",
   "metadata": {},
   "outputs": [],
   "source": []
  },
  {
   "cell_type": "code",
   "execution_count": null,
   "id": "38624a6f-e6fb-4e68-a5cd-d8f54b4a8f5c",
   "metadata": {},
   "outputs": [],
   "source": [
    "rel_df.to_csv(\"20231212_fragalysis_duplicates.csv\")"
   ]
  },
  {
   "cell_type": "code",
   "execution_count": null,
   "id": "94946fb2-2a33-45b1-acbc-3b67d6222e1c",
   "metadata": {},
   "outputs": [],
   "source": []
  }
 ],
 "metadata": {
  "kernelspec": {
   "display_name": "Python 3 (ipykernel)",
   "language": "python",
   "name": "python3"
  },
  "language_info": {
   "codemirror_mode": {
    "name": "ipython",
    "version": 3
   },
   "file_extension": ".py",
   "mimetype": "text/x-python",
   "name": "python",
   "nbconvert_exporter": "python",
   "pygments_lexer": "ipython3",
   "version": "3.10.13"
  }
 },
 "nbformat": 4,
 "nbformat_minor": 5
}
