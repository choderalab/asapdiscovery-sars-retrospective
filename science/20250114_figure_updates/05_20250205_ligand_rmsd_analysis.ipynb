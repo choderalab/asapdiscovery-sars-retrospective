{
 "cells": [
  {
   "cell_type": "markdown",
   "source": [
    "# the goal of this notebook is to identify docked poses at set RMSD values away from the crystal pose"
   ],
   "metadata": {
    "collapsed": false
   },
   "id": "bb144c0116a0917b"
  },
  {
   "cell_type": "markdown",
   "source": [
    "# Imports"
   ],
   "metadata": {
    "collapsed": false
   },
   "id": "29091db61b9ec2e4"
  },
  {
   "cell_type": "code",
   "outputs": [],
   "source": [
    "import pandas as pd\n",
    "import numpy as np"
   ],
   "metadata": {
    "collapsed": false
   },
   "id": "dfa142513c329a1e",
   "execution_count": null
  },
  {
   "cell_type": "code",
   "outputs": [],
   "source": [
    "df = pd.read_csv('/Users/alexpayne/Scientific_Projects/mers-drug-discovery/sars2-retrospective-analysis/20240424_multi_pose_docking_cross_docking/results_csvs/20240503_combined_results_with_data.csv', index_col=0)"
   ],
   "metadata": {
    "collapsed": false
   },
   "id": "ddea4e920ba2fc6",
   "execution_count": null
  },
  {
   "cell_type": "code",
   "outputs": [],
   "source": [
    "cmpd_id = ('EDJ-MED-705e09b8-1')"
   ],
   "metadata": {
    "collapsed": false
   },
   "id": "d9be97069c08d6ac",
   "execution_count": null
  },
  {
   "cell_type": "code",
   "outputs": [],
   "source": [
    "examples = df[df['Query_Ligand']== cmpd_id].groupby(\"RMSD\").head(1)"
   ],
   "metadata": {
    "collapsed": false
   },
   "id": "6bbbe7b273644fc",
   "execution_count": null
  },
  {
   "cell_type": "code",
   "outputs": [],
   "source": [
    "# for each rmsd, find a pose that is within that rmsd of the crystal pose\n",
    "df[\"RMSD_Rounded\"] = df.RMSD.apply(lambda x: np.round(x, 1))\n",
    "rounded_rmsds = df.groupby([\"Query_Ligand\", \"RMSD_Rounded\"]).head(1).sort_values(\"RMSD_Rounded\")"
   ],
   "metadata": {
    "collapsed": false
   },
   "id": "64299796354d59aa",
   "execution_count": null
  },
  {
   "cell_type": "code",
   "outputs": [],
   "source": [
    "cmpd_id = 'MAT-POS-a54ce14d-2'\n",
    "example = rounded_rmsds[rounded_rmsds['Query_Ligand']== cmpd_id]"
   ],
   "metadata": {
    "collapsed": false
   },
   "id": "2304bbfe1390445b",
   "execution_count": null
  },
  {
   "cell_type": "code",
   "outputs": [],
   "source": [
    "# Get the Query Lig, Ref Structure, and Pose for each row that has rmsd in the list\n",
    "rmsds = [0.1, 0.5, 1.0, 1.5, 2.0, 3.0, 5.0, 7.9]\n",
    "final_df = example[example['RMSD_Rounded'].isin(rmsds)][['Query_Ligand', 'Reference_Structure', 'Pose_ID', 'RMSD_Rounded']]"
   ],
   "metadata": {
    "collapsed": false
   },
   "id": "fb735f7522e0b5fa",
   "execution_count": null
  },
  {
   "cell_type": "code",
   "outputs": [],
   "source": [
    "final_df"
   ],
   "metadata": {
    "collapsed": false
   },
   "id": "7f4664d987f5b087",
   "execution_count": null
  },
  {
   "cell_type": "code",
   "outputs": [],
   "source": [
    "local_path = '/Users/alexpayne/Scientific_Projects/mers-drug-discovery/sars2-retrospective-analysis/20240424_multi_pose_docking_cross_docking/20240424_multi_pose_docking_cross_docking89/docking_results'"
   ],
   "metadata": {
    "collapsed": false
   },
   "id": "db0cbfedfb7909ad",
   "execution_count": null
  },
  {
   "cell_type": "markdown",
   "source": [
    "# write a script to load in the sdfs and extract the relevant poses"
   ],
   "metadata": {
    "collapsed": false
   },
   "id": "71cb3e7ec0722d1d"
  },
  {
   "cell_type": "code",
   "outputs": [],
   "source": [
    "# for each row in the final_df, load in the sdf, extract the pose, and write it to a new sdf\n",
    "from pathlib import Path\n",
    "from asapdiscovery.data.schema.ligand import Ligand\n",
    "final_poses = []\n",
    "for index, row in final_df.iterrows():\n",
    "    # Load in the sdf\n",
    "    sdf_path = list(Path(local_path).glob(f'./*{row[\"Reference_Structure\"]}*{cmpd_id}*/*.sdf'))[0]\n",
    "    rmsd = row[\"RMSD_Rounded\"]\n",
    "    pose_id = row[\"Pose_ID\"]\n",
    "    ref_structure = row[\"Reference_Structure\"]\n",
    "    \n",
    "    # Get the correct pose\n",
    "    lig = Ligand.from_sdf(sdf_path)\n",
    "    poses = lig.to_single_conformers()\n",
    "    pose = [pose for pose in poses if pose.tags['Pose_ID'] == str(row['Pose_ID'])][0]\n",
    "    pose.to_sdf(f'RMSD{rmsd}_{pose.compound_name}_{ref_structure}.sdf')"
   ],
   "metadata": {
    "collapsed": false
   },
   "id": "32012cd5fe0c5b1b",
   "execution_count": null
  },
  {
   "cell_type": "code",
   "outputs": [],
   "source": [],
   "metadata": {
    "collapsed": false
   },
   "id": "c5be134d22d11c2e",
   "execution_count": null
  }
 ],
 "metadata": {
  "kernelspec": {
   "display_name": "Python 3",
   "language": "python",
   "name": "python3"
  },
  "language_info": {
   "codemirror_mode": {
    "name": "ipython",
    "version": 2
   },
   "file_extension": ".py",
   "mimetype": "text/x-python",
   "name": "python",
   "nbconvert_exporter": "python",
   "pygments_lexer": "ipython2",
   "version": "2.7.6"
  }
 },
 "nbformat": 4,
 "nbformat_minor": 5
}
