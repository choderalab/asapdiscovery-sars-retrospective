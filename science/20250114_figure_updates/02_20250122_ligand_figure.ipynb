{
 "cells": [
  {
   "cell_type": "code",
   "execution_count": 306,
   "id": "initial_id",
   "metadata": {
    "collapsed": true,
    "ExecuteTime": {
     "end_time": "2025-01-22T20:52:48.963862Z",
     "start_time": "2025-01-22T20:52:48.959390Z"
    }
   },
   "outputs": [],
   "source": [
    "# load in sdf files for:\n",
    "# Mpro-x2646 (TRY-UNI-714a760b-6)\n",
    "# Mpro-P0950 (ALP-POS-e0fe77e5-13)\n",
    "# Mpro-P3054 (MAT-POS-50a80394-2)\n",
    "# and write out png files for them\n",
    "import pandas as pd\n",
    "from asapdiscovery.data.schema.ligand import Ligand\n",
    "from asapdiscovery.data.readers.molfile import MolFileFactory\n",
    "from rdkit.Chem import Draw, rdMolAlign, rdDepictor\n",
    "from rdkit import Chem\n",
    "\n",
    "from rdkit.Chem.Scaffolds import MurckoScaffold\n",
    "from collections import defaultdict"
   ]
  },
  {
   "cell_type": "code",
   "outputs": [],
   "source": [
    "from asapdiscovery.data.schema.ligand import Ligand\n",
    "from asapdiscovery.data.readers.molfile import MolFileFactory\n",
    "from rdkit import Chem\n",
    "import pandas as pd"
   ],
   "metadata": {
    "collapsed": false,
    "ExecuteTime": {
     "end_time": "2025-01-22T20:52:49.130604Z",
     "start_time": "2025-01-22T20:52:49.127828Z"
    }
   },
   "id": "1c83a1181a6b2e6a",
   "execution_count": 307
  },
  {
   "cell_type": "code",
   "outputs": [],
   "source": [
    "df = pd.read_csv('/Users/alexpayne/Scientific_Projects/mers-drug-discovery/sars2-retrospective-analysis/mpro_fragalysis-04-01-24/metadata.csv', index_col=0)"
   ],
   "metadata": {
    "collapsed": false,
    "ExecuteTime": {
     "end_time": "2025-01-22T20:52:49.328918Z",
     "start_time": "2025-01-22T20:52:49.303457Z"
    }
   },
   "id": "32749f60492c8fbc",
   "execution_count": 308
  },
  {
   "cell_type": "code",
   "outputs": [],
   "source": [
    "ligs_to_keep = ['TRY-UNI-714a760b-6', 'ALP-POS-e0fe77e5-13', 'MAT-POS-50a80394-2']"
   ],
   "metadata": {
    "collapsed": false,
    "ExecuteTime": {
     "end_time": "2025-01-22T20:52:49.428440Z",
     "start_time": "2025-01-22T20:52:49.425818Z"
    }
   },
   "id": "8944a7abaaba588e",
   "execution_count": 309
  },
  {
   "cell_type": "code",
   "outputs": [
    {
     "name": "stdout",
     "output_type": "stream",
     "text": [
      "Mpro-x2646\n",
      "Mpro-P0950\n",
      "Mpro-P3054\n"
     ]
    }
   ],
   "source": [
    "ligs = []\n",
    "for lig in ligs_to_keep:\n",
    "    row = df[df['alternate_name'] == lig]\n",
    "    print(row['RealCrystalName'].values[0])\n",
    "    ligs.append(Ligand.from_smiles(compound_name=lig, smiles=row['smiles'].values[0], **{'xtal_name': row['RealCrystalName'].values[0]}))    "
   ],
   "metadata": {
    "collapsed": false,
    "ExecuteTime": {
     "end_time": "2025-01-22T20:52:49.550239Z",
     "start_time": "2025-01-22T20:52:49.518181Z"
    }
   },
   "id": "a52d4411c3521eee",
   "execution_count": 310
  },
  {
   "cell_type": "code",
   "outputs": [
    {
     "data": {
      "text/plain": "3"
     },
     "execution_count": 311,
     "metadata": {},
     "output_type": "execute_result"
    }
   ],
   "source": [
    "len(ligs)"
   ],
   "metadata": {
    "collapsed": false,
    "ExecuteTime": {
     "end_time": "2025-01-22T20:52:49.646227Z",
     "start_time": "2025-01-22T20:52:49.642136Z"
    }
   },
   "id": "19cbcca48ce244b4",
   "execution_count": 311
  },
  {
   "cell_type": "code",
   "outputs": [
    {
     "data": {
      "text/plain": "[Ligand(compound_name='TRY-UNI-714a760b-6', ids=None, provenance=LigandProvenance(isomeric_smiles='Cc1ccncc1NC(=O)Cc2cccc(c2)Cl', inchi='InChI=1S/C14H13ClN2O/c1-10-5-6-16-9-13(10)17-14(18)8-11-3-2-4-12(15)7-11/h2-7,9H,8H2,1H3,(H,17,18)', inchi_key='ZROFBWFSOGSOQG-UHFFFAOYSA-N', fixed_inchi='InChI=1/C14H13ClN2O/c1-10-5-6-16-9-13(10)17-14(18)8-11-3-2-4-12(15)7-11/h2-7,9H,8H2,1H3,(H,17,18)/f/h17H', fixed_inchikey='ZROFBWFSOGSOQG-HCKMINDGNA-N'), experimental_data=None, expansion_tag=None, charge_provenance=None, bespoke_parameters=None, tags={'xtal_name': 'Mpro-x2646'}, conf_tags={}, data_format=<DataStorageType.sdf: 'sdf'>),\n Ligand(compound_name='ALP-POS-e0fe77e5-13', ids=None, provenance=LigandProvenance(isomeric_smiles='c1ccc2c(c1)cncc2N3CCCC4(C3=O)CCNc5c4cc(cc5)Cl', inchi='InChI=1S/C22H20ClN3O/c23-16-6-7-19-18(12-16)22(9-10-25-19)8-3-11-26(21(22)27)20-14-24-13-15-4-1-2-5-17(15)20/h1-2,4-7,12-14,25H,3,8-11H2', inchi_key='GMEVLWIDIJTOMX-UHFFFAOYSA-N', fixed_inchi='InChI=1/C22H20ClN3O/c23-16-6-7-19-18(12-16)22(9-10-25-19)8-3-11-26(21(22)27)20-14-24-13-15-4-1-2-5-17(15)20/h1-2,4-7,12-14,25H,3,8-11H2', fixed_inchikey='GMEVLWIDIJTOMX-UHFFFAOYNA-N'), experimental_data=None, expansion_tag=None, charge_provenance=None, bespoke_parameters=None, tags={'xtal_name': 'Mpro-P0950'}, conf_tags={}, data_format=<DataStorageType.sdf: 'sdf'>),\n Ligand(compound_name='MAT-POS-50a80394-2', ids=None, provenance=LigandProvenance(isomeric_smiles='CCC1CN(C(=O)C12CN(Cc3c2cc(cc3)Cl)S(=O)(=O)CC4(CC4)C#N)c5cncc6c5cccc6', inchi='InChI=1S/C28H27ClN4O3S/c1-2-21-15-33(25-13-31-12-19-5-3-4-6-23(19)25)26(34)28(21)17-32(14-20-7-8-22(29)11-24(20)28)37(35,36)18-27(16-30)9-10-27/h3-8,11-13,21H,2,9-10,14-15,17-18H2,1H3', inchi_key='BPMHGPSPIBHHKD-UHFFFAOYSA-N', fixed_inchi='InChI=1/C28H27ClN4O3S/c1-2-21-15-33(25-13-31-12-19-5-3-4-6-23(19)25)26(34)28(21)17-32(14-20-7-8-22(29)11-24(20)28)37(35,36)18-27(16-30)9-10-27/h3-8,11-13,21H,2,9-10,14-15,17-18H2,1H3', fixed_inchikey='BPMHGPSPIBHHKD-UHFFFAOYNA-N'), experimental_data=None, expansion_tag=None, charge_provenance=None, bespoke_parameters=None, tags={'xtal_name': 'Mpro-P3054'}, conf_tags={}, data_format=<DataStorageType.sdf: 'sdf'>)]"
     },
     "execution_count": 312,
     "metadata": {},
     "output_type": "execute_result"
    }
   ],
   "source": [
    "ligs"
   ],
   "metadata": {
    "collapsed": false,
    "ExecuteTime": {
     "end_time": "2025-01-22T20:52:49.729855Z",
     "start_time": "2025-01-22T20:52:49.725353Z"
    }
   },
   "id": "d3ae0e4baa77d259",
   "execution_count": 312
  },
  {
   "cell_type": "code",
   "outputs": [],
   "source": [
    "def draw_scaffolds(\n",
    "    scaffold_list: list[(str, Chem.Mol)], first_n=-1, mols_per_row=-1, use_svg=True\n",
    "):\n",
    "    from rdkit.Chem import Draw, rdDepictor\n",
    "\n",
    "    scaffold_rdmols = [Chem.RemoveHs(mol[1]) for mol in scaffold_list]\n",
    "\n",
    "    # Set Draw Options\n",
    "    dopts = Draw.rdMolDraw2D.MolDrawOptions()\n",
    "    dopts.setHighlightColour((68 / 256, 178 / 256, 212 / 256))\n",
    "    dopts.highlightBondWidthMultiplier = 16\n",
    "    d2d = Draw.MolDraw2DCairo(1600, 1600)\n",
    "    print(\"Preparing depictions\")\n",
    "    for mol in scaffold_rdmols[:first_n]:\n",
    "        Draw.MolToImage(mol, size=(400, 400), options=dopts)\n",
    "        rdDepictor.Compute2DCoords(mol)\n",
    "        rdDepictor.StraightenDepiction(mol)\n",
    "        d2d.DrawMolecule(mol)\n",
    "    print(\"Creating image\")\n",
    "    print(first_n, scaffold_rdmols)\n",
    "    img = Draw.MolsToGridImage(\n",
    "        scaffold_rdmols[:first_n],\n",
    "        molsPerRow=mols_per_row,\n",
    "        subImgSize=(200, 200),\n",
    "        useSVG=use_svg,\n",
    "        legends=[mol[0] for mol in scaffold_list[:first_n]],\n",
    "        drawOptions=dopts,\n",
    "    )\n",
    "    return img"
   ],
   "metadata": {
    "collapsed": false,
    "ExecuteTime": {
     "end_time": "2025-01-22T20:52:49.821879Z",
     "start_time": "2025-01-22T20:52:49.815448Z"
    }
   },
   "id": "62fbc181d4b34a3",
   "execution_count": 313
  },
  {
   "cell_type": "code",
   "outputs": [],
   "source": [
    "rdmols = [(lig.compound_name, Chem.RemoveHs(lig.to_rdkit())) for lig in ligs]"
   ],
   "metadata": {
    "collapsed": false,
    "ExecuteTime": {
     "end_time": "2025-01-22T20:52:49.940268Z",
     "start_time": "2025-01-22T20:52:49.904205Z"
    }
   },
   "id": "c22b492b697b6fe2",
   "execution_count": 314
  },
  {
   "cell_type": "code",
   "outputs": [
    {
     "name": "stdout",
     "output_type": "stream",
     "text": [
      "Preparing depictions\n",
      "Creating image\n",
      "3 [<rdkit.Chem.rdchem.Mol object at 0x17603bb50>, <rdkit.Chem.rdchem.Mol object at 0x17603bbc0>, <rdkit.Chem.rdchem.Mol object at 0x17603a1f0>]\n"
     ]
    }
   ],
   "source": [
    "img = draw_scaffolds(rdmols, first_n=3, mols_per_row=3, use_svg=False)\n",
    "with open(f\"lig_examples.png\", \"wb\") as f:\n",
    "    f.write(img.data)"
   ],
   "metadata": {
    "collapsed": false,
    "ExecuteTime": {
     "end_time": "2025-01-22T20:52:50.070866Z",
     "start_time": "2025-01-22T20:52:50.005410Z"
    }
   },
   "id": "3b62b9065c9a91e0",
   "execution_count": 315
  },
  {
   "cell_type": "code",
   "outputs": [],
   "source": [
    "# Write a function that draws ligands aligned to the maximum common substructure between them\n",
    "from rdkit import Chem\n",
    "from rdkit.Chem import AllChem\n",
    "from rdkit.Chem import rdMolDescriptors\n",
    "from rdkit.Chem import Draw\n",
    "from rdkit.Chem import rdFMCS\n",
    "\n",
    "def align_mols_to_mcs(mol_list, threshold=0.7):\n",
    "    \"\"\"\n",
    "    Align a list of RDKit Mol objects to the maximum common substructure (MCS) of the smallest molecule.\n",
    "    \n",
    "    Parameters:\n",
    "        mol_list (list): List of RDKit Mol objects\n",
    "    \n",
    "    Returns:\n",
    "        list: List of RDKit Mol objects aligned to MCS\n",
    "    \"\"\"\n",
    "    # Step 1: Find the maximum common substructure (MCS)\n",
    "    mcs_result = rdFMCS.FindMCS(mol_list, threshold=threshold)  # 70% match threshold (can be adjusted)\n",
    "    print(mcs_result)\n",
    "    mcs_smarts = mcs_result.smartsString  # Get the SMARTS of the MCS\n",
    "    print(f\"MCS SMARTS: {mcs_smarts}\")\n",
    "    \n",
    "    if not mcs_smarts:\n",
    "        raise ValueError(\"No common substructure found among the molecules.\")\n",
    "\n",
    "    mcs_pattern = Chem.MolFromSmarts(mcs_smarts)\n",
    "    # \n",
    "    # # Step 2: Align all molecules to the MCS (find the largest MCS substructure in each molecule)\n",
    "    # aligned_mols = []\n",
    "    # for mol in mol_list:\n",
    "    #     # Find the substructure of MCS in the molecule\n",
    "    #     AllChem.Compute2DCoords(mol)  # Make sure the molecule has 2D coordinates\n",
    "    # \n",
    "    #     # Generate alignment based on MCS\n",
    "    #     # One way to align is to perform a 3D alignment of molecules\n",
    "    #     mol_copy = Chem.Mol(mol)  # Copy the molecule to avoid modifying the original\n",
    "    #     match = mol_copy.GetSubstructMatch(mcs_pattern)\n",
    "    #     if match:\n",
    "    #         # Align the molecule to the MCS by using the alignment function\n",
    "    #         print(f\"Aligning molecule to MCS: {mol.GetProp('_Name')}\")\n",
    "    #         AllChem.AlignMol(mol_copy, mcs_pattern, atomMap=match)\n",
    "    # \n",
    "    #     aligned_mols.append(mol_copy)\n",
    "    # \n",
    "    # return Chem.MolToSmiles(mcs_pattern)\n",
    "    return mcs_pattern\n",
    "\n",
    "\n"
   ],
   "metadata": {
    "collapsed": false,
    "ExecuteTime": {
     "end_time": "2025-01-22T20:52:50.096010Z",
     "start_time": "2025-01-22T20:52:50.091084Z"
    }
   },
   "id": "f3beae0f1b8fb8d7",
   "execution_count": 316
  },
  {
   "cell_type": "code",
   "outputs": [
    {
     "name": "stdout",
     "output_type": "stream",
     "text": [
      "<rdkit.Chem.rdFMCS.MCSResult object at 0x17564bf40>\n",
      "MCS SMARTS: [#6]-,:[#6]1:[#6](:[#6]:[#7]:[#6]:[#6]:1)-[#7]-[#6](=[#8])-[#6]-[#6]1:[#6]:[#6](:[#6]:[#6]:[#6]:1)-[#17]\n"
     ]
    }
   ],
   "source": [
    "rdmols = [Chem.RemoveHs(lig.to_rdkit()) for lig in ligs]\n",
    "smiles = align_mols_to_mcs(rdmols)"
   ],
   "metadata": {
    "collapsed": false,
    "ExecuteTime": {
     "end_time": "2025-01-22T20:52:50.244263Z",
     "start_time": "2025-01-22T20:52:50.210315Z"
    }
   },
   "id": "891ce310151027af",
   "execution_count": 317
  },
  {
   "cell_type": "code",
   "outputs": [],
   "source": [
    "def align_to_scaffold(scaffold: Chem.Mol, mols: list[Chem.Mol]):\n",
    "    rdDepictor.Compute2DCoords(scaffold)\n",
    "    template_match = scaffold.GetSubstructMatch(scaffold)\n",
    "    for mol in mols:\n",
    "        rdDepictor.Compute2DCoords(mol)\n",
    "        query_match = mol.GetSubstructMatch(scaffold)\n",
    "        rdMolAlign.AlignMol(mol, scaffold, atomMap=list(zip(query_match, template_match)))\n",
    "        # rdDepictor.StraightenDepiction(mol)\n",
    "    return scaffold, mols"
   ],
   "metadata": {
    "collapsed": false,
    "ExecuteTime": {
     "end_time": "2025-01-22T20:52:50.327950Z",
     "start_time": "2025-01-22T20:52:50.324266Z"
    }
   },
   "id": "9f41990cb4cc220b",
   "execution_count": 318
  },
  {
   "cell_type": "code",
   "outputs": [],
   "source": [
    "scaffold, mols = align_to_scaffold(smiles, rdmols)"
   ],
   "metadata": {
    "collapsed": false,
    "ExecuteTime": {
     "end_time": "2025-01-22T20:52:50.396478Z",
     "start_time": "2025-01-22T20:52:50.392394Z"
    }
   },
   "id": "63200acefbfeeea8",
   "execution_count": 319
  },
  {
   "cell_type": "code",
   "outputs": [
    {
     "data": {
      "text/plain": "<rdkit.Chem.rdchem.Mol at 0x17603bbc0>",
      "image/png": "[encoded data removed]"
     },
     "execution_count": 320,
     "metadata": {},
     "output_type": "execute_result"
    }
   ],
   "source": [
    "scaffold"
   ],
   "metadata": {
    "collapsed": false,
    "ExecuteTime": {
     "end_time": "2025-01-22T20:52:50.512498Z",
     "start_time": "2025-01-22T20:52:50.496347Z"
    }
   },
   "id": "bd8c3ab5e9374d0e",
   "execution_count": 320
  },
  {
   "cell_type": "code",
   "outputs": [
    {
     "data": {
      "text/plain": "<rdkit.Chem.rdchem.Mol at 0x17603b8b0>",
      "text/html": "<table><tr><td colspan=\"2\" style=\"text-align: center;\"><image src=\"data:image/png;base64,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\"></td></tr>\n<tr><th style=\"text-align: right\">compound_name</th><td style=\"text-align: left\">TRY-UNI-714a760b-6</td></tr>\n<tr><th style=\"text-align: right\">provenance</th><td style=\"text-align: left\">{&quot;isomeric_smiles&quot;: &quot;Cc1ccncc1NC(=O)Cc2cccc(c2)Cl&quot;, &quot;inchi&quot;: &quot;InChI=1S/C14H13ClN2O/c1-10-5-6-16-9-13(10)17-14(18)8-11-3-2-4-12(15)7-11/h2-7,9H,8H2,1H3,(H,17,18)&quot;, &quot;inchi_key&quot;: &quot;ZROFBWFSOGSOQG-UHFFFAOYSA-N&quot;, &quot;fixed_inchi&quot;: &quot;InChI=1/C14H13ClN2O/c1-10-5-6-16-9-13(10)17-14(18)8-11-3-2-4-12(15)7-11/h2-7,9H,8H2,1H3,(H,17,18)/f/h17H&quot;, &quot;fixed_inchikey&quot;: &quot;ZROFBWFSOGSOQG-HCKMINDGNA-N&quot;}</td></tr>\n<tr><th style=\"text-align: right\">data_format</th><td style=\"text-align: left\">sdf</td></tr>\n<tr><th style=\"text-align: right\">xtal_name</th><td style=\"text-align: left\">Mpro-x2646</td></tr></table>",
      "image/png": "[encoded data removed]"
     },
     "execution_count": 321,
     "metadata": {},
     "output_type": "execute_result"
    }
   ],
   "source": [
    "mols[0]"
   ],
   "metadata": {
    "collapsed": false,
    "ExecuteTime": {
     "end_time": "2025-01-22T20:52:50.616940Z",
     "start_time": "2025-01-22T20:52:50.594847Z"
    }
   },
   "id": "b5041ec7c0335476",
   "execution_count": 321
  },
  {
   "cell_type": "code",
   "outputs": [
    {
     "data": {
      "text/plain": "<rdkit.Chem.rdchem.Mol at 0x17603ab90>",
      "text/html": "<table><tr><td colspan=\"2\" style=\"text-align: center;\"><image src=\"data:image/png;base64,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\"></td></tr>\n<tr><th style=\"text-align: right\">compound_name</th><td style=\"text-align: left\">ALP-POS-e0fe77e5-13</td></tr>\n<tr><th style=\"text-align: right\">provenance</th><td style=\"text-align: left\">{&quot;isomeric_smiles&quot;: &quot;c1ccc2c(c1)cncc2N3CCCC4(C3=O)CCNc5c4cc(cc5)Cl&quot;, &quot;inchi&quot;: &quot;InChI=1S/C22H20ClN3O/c23-16-6-7-19-18(12-16)22(9-10-25-19)8-3-11-26(21(22)27)20-14-24-13-15-4-1-2-5-17(15)20/h1-2,4-7,12-14,25H,3,8-11H2&quot;, &quot;inchi_key&quot;: &quot;GMEVLWIDIJTOMX-UHFFFAOYSA-N&quot;, &quot;fixed_inchi&quot;: &quot;InChI=1/C22H20ClN3O/c23-16-6-7-19-18(12-16)22(9-10-25-19)8-3-11-26(21(22)27)20-14-24-13-15-4-1-2-5-17(15)20/h1-2,4-7,12-14,25H,3,8-11H2&quot;, &quot;fixed_inchikey&quot;: &quot;GMEVLWIDIJTOMX-UHFFFAOYNA-N&quot;}</td></tr>\n<tr><th style=\"text-align: right\">data_format</th><td style=\"text-align: left\">sdf</td></tr>\n<tr><th style=\"text-align: right\">xtal_name</th><td style=\"text-align: left\">Mpro-P0950</td></tr></table>",
      "image/png": "[encoded data removed]"
     },
     "execution_count": 322,
     "metadata": {},
     "output_type": "execute_result"
    }
   ],
   "source": [
    "mols[1]"
   ],
   "metadata": {
    "collapsed": false,
    "ExecuteTime": {
     "end_time": "2025-01-22T20:52:50.719401Z",
     "start_time": "2025-01-22T20:52:50.697012Z"
    }
   },
   "id": "e7e502c93597cb49",
   "execution_count": 322
  },
  {
   "cell_type": "code",
   "outputs": [
    {
     "data": {
      "text/plain": "<rdkit.Chem.rdchem.Mol at 0x17603b3e0>",
      "text/html": "<table><tr><td colspan=\"2\" style=\"text-align: center;\"><image src=\"data:image/png;base64,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\"></td></tr>\n<tr><th style=\"text-align: right\">compound_name</th><td style=\"text-align: left\">MAT-POS-50a80394-2</td></tr>\n<tr><th style=\"text-align: right\">provenance</th><td style=\"text-align: left\">{&quot;isomeric_smiles&quot;: &quot;CCC1CN(C(=O)C12CN(Cc3c2cc(cc3)Cl)S(=O)(=O)CC4(CC4)C#N)c5cncc6c5cccc6&quot;, &quot;inchi&quot;: &quot;InChI=1S/C28H27ClN4O3S/c1-2-21-15-33(25-13-31-12-19-5-3-4-6-23(19)25)26(34)28(21)17-32(14-20-7-8-22(29)11-24(20)28)37(35,36)18-27(16-30)9-10-27/h3-8,11-13,21H,2,9-10,14-15,17-18H2,1H3&quot;, &quot;inchi_key&quot;: &quot;BPMHGPSPIBHHKD-UHFFFAOYSA-N&quot;, &quot;fixed_inchi&quot;: &quot;InChI=1/C28H27ClN4O3S/c1-2-21-15-33(25-13-31-12-19-5-3-4-6-23(19)25)26(34)28(21)17-32(14-20-7-8-22(29)11-24(20)28)37(35,36)18-27(16-30)9-10-27/h3-8,11-13,21H,2,9-10,14-15,17-18H2,1H3&quot;, &quot;fixed_inchikey&quot;: &quot;BPMHGPSPIBHHKD-UHFFFAOYNA-N&quot;}</td></tr>\n<tr><th style=\"text-align: right\">data_format</th><td style=\"text-align: left\">sdf</td></tr>\n<tr><th style=\"text-align: right\">xtal_name</th><td style=\"text-align: left\">Mpro-P3054</td></tr></table>",
      "image/png": "[encoded data removed]"
     },
     "execution_count": 323,
     "metadata": {},
     "output_type": "execute_result"
    }
   ],
   "source": [
    "mols[2]"
   ],
   "metadata": {
    "collapsed": false,
    "ExecuteTime": {
     "end_time": "2025-01-22T20:52:51.533231Z",
     "start_time": "2025-01-22T20:52:51.510254Z"
    }
   },
   "id": "3c11a9a82984147a",
   "execution_count": 323
  },
  {
   "cell_type": "code",
   "outputs": [],
   "source": [
    "def draw_ligs(rdkitmols, legends, use_svg=True):\n",
    "    # Find the atoms to highlight\n",
    "    # highlight = [mol.GetSubstructMatch(rdkit_scaffold) for mol in rdkitmols]\n",
    "    \n",
    "    # Set Draw Options\n",
    "    dopts = Draw.rdMolDraw2D.MolDrawOptions()\n",
    "    dopts.setHighlightColour((68 / 256, 178 / 256, 212 / 256))\n",
    "    dopts.highlightBondWidthMultiplier = 16\n",
    "    d2d = Draw.MolDraw2DCairo(1600, 1600)\n",
    "    # print(\"Preparing depictions\")\n",
    "    # for mol in rdkitmols:\n",
    "    #     Chem.RemoveHs(mol)\n",
    "    #     Draw.MolToImage(mol, size=(400, 400), options=dopts)\n",
    "    #     rdDepictor.Compute2DCoords(mol)\n",
    "    #     rdDepictor.StraightenDepiction(mol)\n",
    "    #     d2d.DrawMolecule(mol)\n",
    "    # \n",
    "    # Draw the molecules\n",
    "    img = Draw.MolsToGridImage(rdkitmols, \n",
    "                               molsPerRow=6, \n",
    "                               subImgSize=(200, 200), \n",
    "                               # highlightAtomLists=highlight,\n",
    "                               useSVG= use_svg,\n",
    "                               legends = legends,\n",
    "                               drawOptions=dopts)\n",
    "    return img"
   ],
   "metadata": {
    "collapsed": false,
    "ExecuteTime": {
     "end_time": "2025-01-22T20:54:00.631615Z",
     "start_time": "2025-01-22T20:54:00.627156Z"
    }
   },
   "id": "50f18e8a55732ab1",
   "execution_count": 328
  },
  {
   "cell_type": "code",
   "outputs": [],
   "source": [
    "# legends = [f\"{ligand.compound_name} ({ligand.tags['xtal_name']})\" for ligand in ligs]\n",
    "legends = [f\"{ligand.compound_name}\" for ligand in ligs]"
   ],
   "metadata": {
    "collapsed": false,
    "ExecuteTime": {
     "end_time": "2025-01-22T20:54:45.133059Z",
     "start_time": "2025-01-22T20:54:45.130441Z"
    }
   },
   "id": "b96cdde7c9f3d1ca",
   "execution_count": 333
  },
  {
   "cell_type": "code",
   "outputs": [],
   "source": [
    "img = draw_ligs(mols, legends=legends)"
   ],
   "metadata": {
    "collapsed": false,
    "ExecuteTime": {
     "end_time": "2025-01-22T20:54:45.662736Z",
     "start_time": "2025-01-22T20:54:45.647999Z"
    }
   },
   "id": "9b21c71595ee1bf3",
   "execution_count": 334
  },
  {
   "cell_type": "code",
   "outputs": [],
   "source": [
    "img = draw_ligs(mols, legends=legends, use_svg=True)\n",
    "with open(f\"lig_examples.svg\", \"w\") as f:\n",
    "    f.write(img.data)\n",
    "\n",
    "img = draw_ligs(mols, legends=legends, use_svg=False)\n",
    "with open(f\"lig_examples.png\", \"wb\") as f:\n",
    "    f.write(img.data)"
   ],
   "metadata": {
    "collapsed": false,
    "ExecuteTime": {
     "end_time": "2025-01-22T20:54:46.001879Z",
     "start_time": "2025-01-22T20:54:45.965265Z"
    }
   },
   "id": "f8af413a9d12b238",
   "execution_count": 335
  },
  {
   "cell_type": "code",
   "outputs": [],
   "source": [
    "ex = ligs[1].to_rdkit()\n",
    "# remove hydrogns\n",
    "ex = Chem.RemoveHs(ex)"
   ],
   "metadata": {
    "collapsed": false,
    "ExecuteTime": {
     "end_time": "2025-01-22T20:50:52.640089Z",
     "start_time": "2025-01-22T20:50:52.625885Z"
    }
   },
   "id": "dee6e5ea8b49fa37",
   "execution_count": 287
  },
  {
   "cell_type": "code",
   "outputs": [
    {
     "ename": "RuntimeError",
     "evalue": "No sub-structure match found between the probe and query mol",
     "output_type": "error",
     "traceback": [
      "\u001B[0;31m---------------------------------------------------------------------------\u001B[0m",
      "\u001B[0;31mRuntimeError\u001B[0m                              Traceback (most recent call last)",
      "Cell \u001B[0;32mIn[131], line 1\u001B[0m\n\u001B[0;32m----> 1\u001B[0m \u001B[43malign_to_scaffold\u001B[49m\u001B[43m(\u001B[49m\u001B[43mscaff\u001B[49m\u001B[43m,\u001B[49m\u001B[43m \u001B[49m\u001B[43m[\u001B[49m\u001B[43mex\u001B[49m\u001B[43m]\u001B[49m\u001B[43m)\u001B[49m\n",
      "Cell \u001B[0;32mIn[121], line 7\u001B[0m, in \u001B[0;36malign_to_scaffold\u001B[0;34m(scaffold, mols)\u001B[0m\n\u001B[1;32m      5\u001B[0m     rdDepictor\u001B[38;5;241m.\u001B[39mCompute2DCoords(mol)\n\u001B[1;32m      6\u001B[0m     query_match \u001B[38;5;241m=\u001B[39m mol\u001B[38;5;241m.\u001B[39mGetSubstructMatch(scaffold)\n\u001B[0;32m----> 7\u001B[0m     \u001B[43mrdMolAlign\u001B[49m\u001B[38;5;241;43m.\u001B[39;49m\u001B[43mAlignMol\u001B[49m\u001B[43m(\u001B[49m\u001B[43mmol\u001B[49m\u001B[43m,\u001B[49m\u001B[43m \u001B[49m\u001B[43mscaffold\u001B[49m\u001B[43m)\u001B[49m \u001B[38;5;66;03m#, atomMap=list(zip(query_match, template_match)))\u001B[39;00m\n\u001B[1;32m      8\u001B[0m \u001B[38;5;28;01mreturn\u001B[39;00m scaffold, mols\n",
      "\u001B[0;31mRuntimeError\u001B[0m: No sub-structure match found between the probe and query mol"
     ]
    }
   ],
   "source": [
    "align_to_scaffold(scaff, [ex])"
   ],
   "metadata": {
    "collapsed": false,
    "ExecuteTime": {
     "end_time": "2025-01-22T20:21:27.802493Z",
     "start_time": "2025-01-22T20:21:27.772927Z"
    }
   },
   "id": "781272b7801b88b6",
   "execution_count": 131
  },
  {
   "cell_type": "code",
   "outputs": [],
   "source": [
    "from asapdiscovery.data.backend.openeye import oechem, oedepict\n",
    "import numpy as np"
   ],
   "metadata": {
    "collapsed": false,
    "ExecuteTime": {
     "end_time": "2025-01-22T20:28:24.463110Z",
     "start_time": "2025-01-22T20:28:24.460095Z"
    }
   },
   "id": "6298c2cde868d7c8",
   "execution_count": 141
  },
  {
   "cell_type": "code",
   "outputs": [],
   "source": [
    "def get_mcs_from_mcs_mol(mcs_mol: oechem.OEMol):\n",
    "    # Prep MCS\n",
    "    atomexpr = (\n",
    "        oechem.OEExprOpts_Aromaticity\n",
    "        # | oechem.OEExprOpts_AtomicNumber\n",
    "        # | oechem.OEExprOpts_FormalCharge\n",
    "        | oechem.OEExprOpts_RingMember\n",
    "    )\n",
    "    bondexpr = ( \n",
    "            oechem.OEExprOpts_Aromaticity \n",
    "            # | oechem.OEExprOpts_BondOrder\n",
    "    )\n",
    "    # create maximum common substructure object\n",
    "    pattern_query = oechem.OEQMol(mcs_mol)\n",
    "    pattern_query.BuildExpressions(atomexpr, bondexpr)\n",
    "    mcss = oechem.OEMCSSearch(pattern_query)\n",
    "    mcss.SetMCSFunc(oechem.OEMCSMaxAtoms())\n",
    "    return mcss\n",
    "\n",
    "\n",
    "def get_n_rows_and_cols(n_mols, mols_per_row=None):\n",
    "    if mols_per_row is not None:\n",
    "        return int(np.ceil(n_mols / mols_per_row)), mols_per_row\n",
    "        \n",
    "    return int(np.round(np.sqrt(n_mols))), int(np.ceil(np.sqrt(n_mols)))\n",
    "\n",
    "\n",
    "def get_row_col(i, rows, cols, zero_indexed=True):\n",
    "    row = i // cols + (0 if zero_indexed else 1)\n",
    "    col = i % cols + (0 if zero_indexed else 1)\n",
    "    return int(row), int(col)"
   ],
   "metadata": {
    "collapsed": false,
    "ExecuteTime": {
     "end_time": "2025-01-22T20:32:11.779600Z",
     "start_time": "2025-01-22T20:32:11.774301Z"
    }
   },
   "id": "41638f4b1d660798",
   "execution_count": 153
  },
  {
   "cell_type": "code",
   "outputs": [],
   "source": [
    "def plot_ligands_with_mcs(\n",
    "    filename: str,\n",
    "    mcs_mol: oechem.OEMol = None,\n",
    "    mols=list[oechem.OEMol],\n",
    "    max_width: int = 4,\n",
    "    quantum_width=150,\n",
    "    quantum_height=200,\n",
    "    reference=\"smallest\",\n",
    "        mols_per_row=None,\n",
    "):\n",
    "    # count n ligands + the mcs_mol\n",
    "    n_ligands = len(mols)  # + 1\n",
    "    print(f\"{n_ligands} molecules to plot\")\n",
    "    print([mol.GetTitle() for mol in mols])\n",
    "\n",
    "    mol_array = np.array(mols)\n",
    "    n_atoms = np.array([mol.NumAtoms() for mol in mols])\n",
    "    print(n_atoms)\n",
    "\n",
    "    if reference == \"smallest\":\n",
    "        order = np.argsort(n_atoms)\n",
    "        mol_array = mol_array[order]\n",
    "        n_atoms = n_atoms[order]\n",
    "\n",
    "        smallest_sort = np.argmin(n_atoms)\n",
    "        refmol = mol_array[smallest_sort]\n",
    "        mols = np.delete(mol_array, smallest_sort)\n",
    "    elif reference == \"largest\":\n",
    "        order = np.argsort(-n_atoms)\n",
    "        mol_array = mol_array[order]\n",
    "        n_atoms = n_atoms[order]\n",
    "\n",
    "        largest_sort = np.argmax(n_atoms)\n",
    "        refmol = mol_array[largest_sort]\n",
    "        mols = np.delete(mol_array, largest_sort)\n",
    "    elif reference == \"mcs_mol\" and mcs_mol is not None:\n",
    "        order = np.argsort(n_atoms)\n",
    "        mol_array = mol_array[order]\n",
    "        n_atoms = n_atoms[order]\n",
    "\n",
    "        mols = mol_array\n",
    "        refmol = mcs_mol\n",
    "        n_ligands += 1\n",
    "    else:\n",
    "        raise NotImplementedError\n",
    "\n",
    "    # Prepare image\n",
    "    rows, cols = get_n_rows_and_cols(n_ligands, mols_per_row=mols_per_row)\n",
    "\n",
    "    print(f\"Generating a figure with {rows} rows and {cols} columns\")\n",
    "    image = oedepict.OEImage(quantum_width * cols, quantum_height * rows)\n",
    "    grid = oedepict.OEImageGrid(image, rows, cols)\n",
    "    opts = oedepict.OE2DMolDisplayOptions(\n",
    "        grid.GetCellWidth(), grid.GetCellHeight(), oedepict.OEScale_AutoScale\n",
    "    )\n",
    "    opts.SetTitleLocation(oedepict.OETitleLocation_Bottom)\n",
    "    opts.SetHydrogenStyle(oedepict.OEHydrogenStyle_Hidden)\n",
    "\n",
    "    refscale = oedepict.OEGetMoleculeScale(refmol, opts)\n",
    "\n",
    "    oedepict.OEPrepareDepiction(refmol)\n",
    "\n",
    "    mcss = get_mcs_from_mcs_mol(refmol)\n",
    "    oedepict.OEPrepareAlignedDepiction(refmol, mcss)\n",
    "\n",
    "    opts.SetScale(refscale)\n",
    "    refdisp = oedepict.OE2DMolDisplay(refmol, opts)\n",
    "    refcell = grid.GetCell(1, 1)\n",
    "\n",
    "    oedepict.OERenderMolecule(refcell, refdisp)\n",
    "\n",
    "    print([mol.GetTitle() for mol in mols])\n",
    "    for i, fitmol in enumerate(mols):\n",
    "        i += 1\n",
    "        row, col = get_row_col(i, rows, cols, zero_indexed=False)\n",
    "        print(row, col)\n",
    "\n",
    "        alignres = oedepict.OEPrepareAlignedDepiction(fitmol, mcss)\n",
    "\n",
    "        if not alignres.IsValid():\n",
    "            oedepict.OEPrepareDepiction(fitmol)\n",
    "\n",
    "        fitdisp = oedepict.OE2DMolDisplay(fitmol, opts)\n",
    "        if alignres.IsValid():\n",
    "            fitabset = oechem.OEAtomBondSet(\n",
    "                alignres.GetTargetAtoms(), alignres.GetTargetBonds()\n",
    "            )\n",
    "            oedepict.OEAddHighlighting(\n",
    "                fitdisp,\n",
    "                oechem.OEBlueTint,\n",
    "                oedepict.OEHighlightStyle_BallAndStick,\n",
    "                fitabset,\n",
    "            )\n",
    "        fitcell = grid.GetCell(row, col)\n",
    "        oedepict.OERenderMolecule(fitcell, fitdisp)\n",
    "\n",
    "    oedepict.OEWriteImage(filename, image)"
   ],
   "metadata": {
    "collapsed": false,
    "ExecuteTime": {
     "end_time": "2025-01-22T20:32:12.320996Z",
     "start_time": "2025-01-22T20:32:12.307924Z"
    }
   },
   "id": "caae7e03fec946dd",
   "execution_count": 154
  },
  {
   "cell_type": "code",
   "outputs": [
    {
     "name": "stdout",
     "output_type": "stream",
     "text": [
      "3 molecules to plot\n",
      "['', '', '']\n",
      "[31 47 64]\n",
      "Generating a figure with 1 rows and 3 columns\n",
      "['', '']\n",
      "1 2\n",
      "1 3\n"
     ]
    },
    {
     "name": "stderr",
     "output_type": "stream",
     "text": [
      "Warning: MCS search truncated\n"
     ]
    }
   ],
   "source": [
    "plot_ligands_with_mcs('test.png', mols=[lig.to_oemol() for lig in ligs], reference='largest', mols_per_row=3)"
   ],
   "metadata": {
    "collapsed": false,
    "ExecuteTime": {
     "end_time": "2025-01-22T20:32:25.724188Z",
     "start_time": "2025-01-22T20:32:13.321440Z"
    }
   },
   "id": "e14138a7126a12b5",
   "execution_count": 155
  },
  {
   "cell_type": "code",
   "outputs": [],
   "source": [],
   "metadata": {
    "collapsed": false
   },
   "id": "f30ae9c874a5ec13"
  }
 ],
 "metadata": {
  "kernelspec": {
   "display_name": "Python 3",
   "language": "python",
   "name": "python3"
  },
  "language_info": {
   "codemirror_mode": {
    "name": "ipython",
    "version": 2
   },
   "file_extension": ".py",
   "mimetype": "text/x-python",
   "name": "python",
   "nbconvert_exporter": "python",
   "pygments_lexer": "ipython2",
   "version": "2.7.6"
  }
 },
 "nbformat": 4,
 "nbformat_minor": 5
}
