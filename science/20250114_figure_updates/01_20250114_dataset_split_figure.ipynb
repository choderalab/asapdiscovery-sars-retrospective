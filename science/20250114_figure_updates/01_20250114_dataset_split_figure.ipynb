{
 "cells": [
  {
   "cell_type": "code",
   "outputs": [],
   "source": [
    "# bc of pydantic discrepancies, need to run in harbor environment instead of asap2025"
   ],
   "metadata": {
    "collapsed": false
   },
   "id": "1f8a6b08136151f0",
   "execution_count": null
  },
  {
   "cell_type": "code",
   "outputs": [],
   "source": [
    "import plotly.express as px\n",
    "import pandas as pd\n",
    "import plotly.graph_objects as go\n",
    "import numpy as np\n",
    "from pathlib import Path\n",
    "import harbor.analysis.cross_docking as cd"
   ],
   "metadata": {
    "collapsed": false
   },
   "id": "34281b9bf122aa2d",
   "execution_count": null
  },
  {
   "cell_type": "markdown",
   "source": [
    "# Load Data"
   ],
   "metadata": {
    "collapsed": false
   },
   "id": "b4387937ed9aafd2"
  },
  {
   "cell_type": "code",
   "outputs": [],
   "source": [
    "results_csv = Path(\"/Users/alexpayne/Scientific_Projects/mers-drug-discovery/sars2-retrospective-analysis/20240424_multi_pose_docking_cross_docking/results_csvs/20240503_combined_results_with_data.csv\")"
   ],
   "metadata": {
    "collapsed": false
   },
   "id": "d3dfb7a483cc81d8",
   "execution_count": null
  },
  {
   "cell_type": "code",
   "outputs": [],
   "source": [
    "data_path = results_csv.parent.parent / \"analyzed_data\"\n",
    "figure_path = Path(\"figures\")"
   ],
   "metadata": {
    "collapsed": false
   },
   "id": "b2da7c7c8679ac1c",
   "execution_count": null
  },
  {
   "cell_type": "code",
   "outputs": [],
   "source": [
    "df_paths = data_path.glob(\"*/*.csv\")"
   ],
   "metadata": {
    "collapsed": false
   },
   "id": "e593bae0dab2218c",
   "execution_count": null
  },
  {
   "cell_type": "code",
   "outputs": [],
   "source": [
    "dfs = [pd.read_csv(path) for path in df_paths]"
   ],
   "metadata": {
    "collapsed": false
   },
   "id": "e51a0abe965f1962",
   "execution_count": null
  },
  {
   "cell_type": "code",
   "outputs": [],
   "source": [
    "ogdf = pd.concat(dfs)\n",
    "ogdf.N_Per_Split = ogdf.N_Per_Split.astype(int)\n",
    "ogdf.sort_values([\"Split\", \"Score\", \"PoseSelection\", \"StructureChoice\", \"StructureChoice_Choose_N\", \"N_Per_Split\"], inplace=True)\n",
    "ogdf[\"Error_Lower\"] = ogdf[\"Fraction\"] - ogdf[\"CI_Lower\"]\n",
    "ogdf[\"Error_Upper\"] = ogdf[\"CI_Upper\"] - ogdf[\"Fraction\"]"
   ],
   "metadata": {
    "collapsed": false
   },
   "id": "4004d2cdfff83cc1",
   "execution_count": null
  },
  {
   "cell_type": "code",
   "outputs": [],
   "source": [
    "df = ogdf[ogdf.PoseSelection == \"Default\"]\n",
    "multipose = ogdf[ogdf.PoseSelection != \"Default\"]"
   ],
   "metadata": {
    "collapsed": false
   },
   "id": "3c57af8b3fd2124d",
   "execution_count": null
  },
  {
   "cell_type": "markdown",
   "source": [
    "# adding a datesplit analysis using different first structures"
   ],
   "metadata": {
    "collapsed": false
   },
   "id": "9b7a70286b644ffa"
  },
  {
   "cell_type": "code",
   "outputs": [],
   "source": [
    "settings = cd.Settings(date_dict_path=\"/Users/alexpayne/Scientific_Projects/asapdiscovery-sars-retrospective/science/20240403_multi_pose_docking_v2/20240430_analyze_cross_docking_results/20240503_inputs_analysis/date_dict.json\")"
   ],
   "metadata": {
    "collapsed": false
   },
   "id": "9d5a9f7868d5b1fd",
   "execution_count": null
  },
  {
   "cell_type": "code",
   "outputs": [],
   "source": [
    "raw = pd.read_csv(\"/Users/alexpayne/Scientific_Projects/mers-drug-discovery/sars2-retrospective-analysis/20240424_multi_pose_docking_cross_docking/results_csvs/20240503_combined_results_with_data.csv\", index_col=0)"
   ],
   "metadata": {
    "collapsed": false
   },
   "id": "4656bf8975e1fdd4",
   "execution_count": null
  },
  {
   "cell_type": "code",
   "outputs": [],
   "source": [
    "import json\n",
    "\n",
    "with open(settings.date_dict_path, \"r\") as f:\n",
    "    date_dict = json.load(f)\n",
    "simplified_date_dict = {\n",
    "    ref_structure: date_dict[ref_structure[:-3]]\n",
    "    for ref_structure in raw.Reference_Structure.unique()\n",
    "}"
   ],
   "metadata": {
    "collapsed": false
   },
   "id": "7db119e9c5820123",
   "execution_count": null
  },
  {
   "cell_type": "markdown",
   "source": [
    "## update datesplit function to randomly sort first split"
   ],
   "metadata": {
    "collapsed": false
   },
   "id": "a4e4074dce7418fe"
  },
  {
   "cell_type": "code",
   "outputs": [],
   "source": [
    "n_per_split = np.arange(1,21)\n",
    "n_per_split = np.concatenate((n_per_split, np.arange(25, 206, 20)))"
   ],
   "metadata": {
    "collapsed": false
   },
   "id": "968f1e3a60229cf1",
   "execution_count": null
  },
  {
   "cell_type": "code",
   "outputs": [],
   "source": [
    "evaluators = []\n",
    "\n",
    "# Set up pose selectors\n",
    "pose_selectors = [\n",
    "    cd.PoseSelector(name=\"Default\", variable=\"Pose_ID\", number_to_return=1)\n",
    "]\n",
    "\n",
    "# Set up dataset splits\n",
    "dataset_splits = []\n",
    "dataset_splits.extend(\n",
    "    [\n",
    "        cd.RandomSplit(\n",
    "            variable=settings.reference_ligand_column,\n",
    "            n_splits=1,\n",
    "            n_per_split=n_per_split,\n",
    "        )\n",
    "        for n_per_split in settings.n_per_split\n",
    "    ]\n",
    ")\n",
    "dataset_splits.extend(\n",
    "    [\n",
    "        cd.DateSplit(\n",
    "            variable=settings.reference_structure_column,\n",
    "            n_per_split=n_per_split,\n",
    "            balanced=True,\n",
    "            date_dict=simplified_date_dict,\n",
    "            randomize_by_n_days=1,\n",
    "        )\n",
    "        for n_per_split in n_per_split\n",
    "    ]\n",
    ")\n",
    "\n",
    "# add structure choices\n",
    "structure_choices = [\n",
    "    cd.StructureChoice(\n",
    "        name=\"Dock_to_All\",\n",
    "        variable=\"Tanimoto\",\n",
    "        higher_is_better=True,\n",
    "    )\n",
    "]\n",
    "\n",
    "# Add scorers\n",
    "scorers = [\n",
    "    cd.Scorer(\n",
    "        name=\"POSIT_Probability\",\n",
    "        variable=\"docking-confidence-POSIT\",\n",
    "        number_to_return=1,\n",
    "    ),\n",
    "    cd.Scorer(\n",
    "            name=\"RMSD\", variable=\"RMSD\", higher_is_better=False, number_to_return=1\n",
    "        ),\n",
    "]\n",
    "rmsd_evaluator = cd.BinaryEvaluation(variable=\"RMSD\", cutoff=settings.rmsd_cutoff)\n",
    "\n",
    "for scorer in scorers:\n",
    "    for split in dataset_splits:\n",
    "        for selector in pose_selectors:\n",
    "            for structure_choice in structure_choices:\n",
    "                evaluators.append(\n",
    "                    cd.Evaluator(\n",
    "                        pose_selector=selector,\n",
    "                        dataset_split=split,\n",
    "                        structure_choice=structure_choice,\n",
    "                        scorer=scorer,\n",
    "                        evaluator=rmsd_evaluator,\n",
    "                        groupby=[settings.query_ligand_column],\n",
    "                        n_bootstraps=(100\n",
    "                        ),\n",
    "                    )\n",
    "                )"
   ],
   "metadata": {
    "collapsed": false
   },
   "id": "5936eaca60a71ed1",
   "execution_count": null
  },
  {
   "cell_type": "code",
   "outputs": [],
   "source": [
    "from pydantic import BaseModel\n",
    "class Results(BaseModel):\n",
    "    evaluator: cd.Evaluator\n",
    "    fraction_good: cd.FractionGood\n",
    "\n",
    "    def get_records(self) -> dict:\n",
    "        mydict = self.evaluator.get_records()\n",
    "        mydict.update(self.fraction_good.get_records())\n",
    "        return mydict\n",
    "\n",
    "    @classmethod\n",
    "    def calculate_result(cls, evaluator: cd.Evaluator, df: pd.DataFrame) -> \"Results\":\n",
    "        result = evaluator.run(df)\n",
    "        return cls(evaluator=evaluator, fraction_good=result)\n",
    "    \n",
    "    @classmethod\n",
    "    def df_from_results(cls, results: list[\"Results\"]) -> pd.DataFrame:\n",
    "        return pd.DataFrame.from_records([result.get_records() for result in results])"
   ],
   "metadata": {
    "collapsed": false
   },
   "id": "20ef82892092850",
   "execution_count": null
  },
  {
   "cell_type": "code",
   "outputs": [],
   "source": [
    "len(evaluators)"
   ],
   "metadata": {
    "collapsed": false
   },
   "id": "ea0334500cf04a8f",
   "execution_count": null
  },
  {
   "cell_type": "code",
   "outputs": [],
   "source": [
    "results = [Results.calculate_result(evaluator, raw) for evaluator in evaluators]"
   ],
   "metadata": {
    "collapsed": false
   },
   "id": "2df677b2dc12b541",
   "execution_count": null
  },
  {
   "cell_type": "code",
   "outputs": [],
   "source": [
    "results_df = Results.df_from_results(results)"
   ],
   "metadata": {
    "collapsed": false
   },
   "id": "77dbc82777ac0290",
   "execution_count": null
  },
  {
   "cell_type": "code",
   "outputs": [],
   "source": [
    "results_df.N_Per_Split = results_df.N_Per_Split.astype(int)\n",
    "results_df.sort_values([\"Split\", \"Score\", \"PoseSelection\", \"StructureChoice\", \"StructureChoice_Choose_N\", \"N_Per_Split\"], inplace=True)\n",
    "results_df[\"Error_Lower\"] = results_df[\"Fraction\"] - results_df[\"CI_Lower\"]\n",
    "results_df[\"Error_Upper\"] = results_df[\"CI_Upper\"] - results_df[\"Fraction\"]"
   ],
   "metadata": {
    "collapsed": false
   },
   "id": "1779d33689d71e96",
   "execution_count": null
  },
  {
   "cell_type": "markdown",
   "source": [
    "# Plotting Variables"
   ],
   "metadata": {
    "collapsed": false
   },
   "id": "c8bbffc9e25cf2b4"
  },
  {
   "cell_type": "code",
   "outputs": [],
   "source": [
    "large_font = 24\n",
    "small_font = 18 \n",
    "labels = {\"Fraction\": \"<b> Fraction of Poses Docked < 2Å from Reference </b>\",\n",
    "               \"N_Per_Split\": \"<b> Total Number of Reference Structures Available to Use </b>\",\n",
    "          \"Date\": \"Temporally Ordered\",\n",
    "                   \"Random\": \"Randomly Shuffled\"\n",
    "          }\n",
    "update_layout_dict = dict(xaxis=dict(title_font=dict(size=large_font), \n",
    "                            color='black', \n",
    "                            ),\n",
    "                  yaxis=dict(range=(0,1),  \n",
    "                      title_font=dict(size=large_font), \n",
    "                             color='black', \n",
    "                             ))"
   ],
   "metadata": {
    "collapsed": false
   },
   "id": "71904fcdb09a04f",
   "execution_count": null
  },
  {
   "cell_type": "code",
   "outputs": [],
   "source": [
    "def update_traces(fig):\n",
    "    for trace in fig.data:\n",
    "        if trace.name is None:\n",
    "            continue\n",
    "        trace.name = trace.name.replace(\"_\", \" \")\n",
    "        trace.name = trace.name.replace(\"Split\", \"\")\n",
    "        trace.name = trace.name.replace(\", \", \" | \")\n",
    "        trace.name = trace.name.replace(\"RMSD\", \"RMSD (Positive Control)\")\n",
    "        for k, v in labels.items():\n",
    "            trace.name = trace.name.replace(k, v)\n",
    "    return fig"
   ],
   "metadata": {
    "collapsed": false
   },
   "id": "967e90e5c22d448c",
   "execution_count": null
  },
  {
   "cell_type": "code",
   "outputs": [],
   "source": [
    "def hex_to_rgb(hex_color: str) -> tuple:\n",
    "    hex_color = hex_color.lstrip(\"#\")\n",
    "    if len(hex_color) == 3:\n",
    "        hex_color = hex_color * 2\n",
    "    return int(hex_color[0:2], 16), int(hex_color[2:4], 16), int(hex_color[4:6], 16)"
   ],
   "metadata": {
    "collapsed": false
   },
   "id": "2dffae43ba0baadf",
   "execution_count": null
  },
  {
   "cell_type": "code",
   "outputs": [],
   "source": [
    "def rgb_to_rgba(rgb_str, alpha):\n",
    "    # Split the RGB string into its components\n",
    "    rgb_values = rgb_str.strip('rgb()').split(',')\n",
    "    \n",
    "    # Extract individual RGB values and convert them to integers\n",
    "    r, g, b = map(int, rgb_values)\n",
    "    \n",
    "    # Construct the RGBA string\n",
    "    rgba_str = f\"rgba({r}, {g}, {b}, {alpha})\"\n",
    "    \n",
    "    return rgba_str"
   ],
   "metadata": {
    "collapsed": false
   },
   "id": "a1bfe06268b15c60",
   "execution_count": null
  },
  {
   "cell_type": "code",
   "outputs": [],
   "source": [
    "def plot_scatter_with_confidence_bands(df, x, y, split_by, error_y_plus, error_y_minus, template=\"plotly_white\", height=600, width=800, colors=px.colors.qualitative.Plotly):\n",
    "    traces = []\n",
    "    \n",
    "    # Covert Colors\n",
    "    if colors[0][0] == \"#\":\n",
    "        colors = [f\"rgb{hex_to_rgb(color)}\" for color in colors]\n",
    "        \n",
    "    \n",
    "    # order by mean\n",
    "    \n",
    "    ordered_splits = df.groupby(split_by)[y].mean().sort_values().index.tolist()\n",
    "    print(ordered_splits)\n",
    "    for i, split in enumerate(ordered_splits):\n",
    "        # subset the dataframe by the split, which can be a tuple\n",
    "        if not isinstance(split, tuple):\n",
    "            subdf = df[df[split_by] == split]\n",
    "        else:\n",
    "            subdf = df[(df[split_by[0]] == split[0])&(df[split_by[1]] == split[1])]\n",
    "        # subdf = df[df[split_by] == split]\n",
    "        traces.append(go.Scatter(name=f\"{split}\",\n",
    "                                 x=subdf[x],\n",
    "                                 y=subdf[y],\n",
    "                                 mode='lines',\n",
    "                                 showlegend=True,\n",
    "                                 line_color=rgb_to_rgba(colors[i], 1),\n",
    "                                 ))\n",
    "        traces.append(go.Scatter(name=f\"{split}\",\n",
    "                                 x=subdf[x],\n",
    "                                 y=subdf[y] + subdf[error_y_plus],\n",
    "                                 mode='lines',\n",
    "                                 fillcolor=rgb_to_rgba(colors[i], 0.15),\n",
    "                                 line_width=0,\n",
    "                                 showlegend=False,\n",
    "                                 ))\n",
    "        traces.append(go.Scatter(name=f\"{split}\",\n",
    "                                 x=subdf[x],\n",
    "                                 y=subdf[y] - subdf[error_y_minus],\n",
    "                                 fill='tonexty',\n",
    "                                 mode='lines',\n",
    "                                fillcolor=rgb_to_rgba(colors[i], 0.15),\n",
    "                                 line_width=0,\n",
    "                                 showlegend=False, \n",
    "                                 ))\n",
    "    fig = go.Figure(traces)\n",
    "    fig.update_layout(template=template, height=height, width=width)\n",
    "    return fig"
   ],
   "metadata": {
    "collapsed": false
   },
   "id": "aa788de157648816",
   "execution_count": null
  },
  {
   "cell_type": "markdown",
   "source": [
    "# I'd like to remake the dataset split figure with shaded error bars"
   ],
   "metadata": {
    "collapsed": false
   },
   "id": "ea70fe2280a18537"
  },
  {
   "cell_type": "code",
   "outputs": [],
   "source": [
    "dataset_split_df = df[(df.StructureChoice == \"Dock_to_All\")&(df.PoseSelection_Choose_N == 1)]"
   ],
   "metadata": {
    "collapsed": false
   },
   "id": "3ab76b4fdecadaa9",
   "execution_count": null
  },
  {
   "cell_type": "code",
   "outputs": [],
   "source": [
    "df"
   ],
   "metadata": {
    "collapsed": false
   },
   "id": "a0ca2076aeb6f598",
   "execution_count": null
  },
  {
   "cell_type": "markdown",
   "source": [
    "found here - https://stackoverflow.com/questions/69587547/continuous-error-band-with-plotly-express-in-python"
   ],
   "metadata": {
    "collapsed": false
   },
   "id": "825890a9a9124cac"
  },
  {
   "cell_type": "code",
   "outputs": [],
   "source": [
    "def line(error_y_mode=None, **kwargs):\n",
    "    \"\"\"Extension of `plotly.express.line` to use error bands.\"\"\"\n",
    "    ERROR_MODES = {'bar','band','bars','bands',None}\n",
    "    if error_y_mode not in ERROR_MODES:\n",
    "        raise ValueError(f\"'error_y_mode' must be one of {ERROR_MODES}, received {repr(error_y_mode)}.\")\n",
    "    if error_y_mode in {'bar','bars',None}:\n",
    "        fig = px.line(**kwargs)\n",
    "    elif error_y_mode in {'band','bands'}:\n",
    "        if 'error_y' not in kwargs:\n",
    "            raise ValueError(f\"If you provide argument 'error_y_mode' you must also provide 'error_y'.\")\n",
    "        figure_with_error_bars = px.line(**kwargs)\n",
    "        fig = px.line(**{arg: val for arg,val in kwargs.items() if arg != 'error_y'})\n",
    "        for data in figure_with_error_bars.data:\n",
    "            x = list(data['x'])\n",
    "            y_upper = list(data['y'] + data['error_y']['array'])\n",
    "            y_lower = list(data['y'] - data['error_y']['array'] if data['error_y']['arrayminus'] is None else data['y'] - data['error_y']['arrayminus'])\n",
    "            color = f\"rgba({tuple(int(data['line']['color'].lstrip('#')[i:i+2], 16) for i in (0, 2, 4))},.3)\".replace('((','(').replace('),',',').replace(' ','')\n",
    "            fig.add_trace(\n",
    "                go.Scatter(\n",
    "                    x = x+x[::-1],\n",
    "                    y = y_upper+y_lower[::-1],\n",
    "                    fill = 'toself',\n",
    "                    fillcolor = color,\n",
    "                    line = dict(\n",
    "                        color = 'rgba(255,255,255,0)'\n",
    "                    ),\n",
    "                    hoverinfo = \"skip\",\n",
    "                    showlegend = False,\n",
    "                    legendgroup = data['legendgroup'],\n",
    "                    xaxis = data['xaxis'],\n",
    "                    yaxis = data['yaxis'],\n",
    "                )\n",
    "            )\n",
    "        # Reorder data as said here: https://stackoverflow.com/a/66854398/8849755\n",
    "        reordered_data = []\n",
    "        for i in range(int(len(fig.data)/2)):\n",
    "            reordered_data.append(fig.data[i+int(len(fig.data)/2)])\n",
    "            reordered_data.append(fig.data[i])\n",
    "        fig.data = tuple(reordered_data)\n",
    "    return fig"
   ],
   "metadata": {
    "collapsed": false
   },
   "id": "bd406d3bbd1b9ffe",
   "execution_count": null
  },
  {
   "cell_type": "code",
   "outputs": [],
   "source": [
    "fig = line(data_frame=dataset_split_df, \n",
    "              x=\"N_Per_Split\", \n",
    "              y=\"Fraction\", \n",
    "              color=\"Score\",\n",
    "              line_dash=\"Split\",\n",
    "              error_y=\"Error_Upper\", \n",
    "              error_y_minus=\"Error_Lower\", \n",
    "           error_y_mode=\"band\",\n",
    "              template=\"simple_white\", \n",
    "              # symbol=\"Score\", \n",
    "              height=600, \n",
    "              width=800,\n",
    "              log_x=True,\n",
    "              # color_discrete_sequence=px.colors.qualitative.Dark2,\n",
    "              labels = labels\n",
    "              )\n",
    "fig.update_layout(\n",
    "    font=dict(size=small_font, \n",
    "              family='Arial'\n",
    "              ),\n",
    "    legend=dict(title=\"<b> Score Function | Dataset Split </b>\", \n",
    "                              x=0.4, y=0.1, \n",
    "                              traceorder='reversed', \n",
    "                              title_font_size=large_font, \n",
    "                              font_color='black'),\n",
    "    **update_layout_dict)\n",
    "fig.update_yaxes(tickvals=np.arange(0, 1.1, 0.1)) \n",
    "fig = update_traces(fig)\n",
    "fig.show()\n",
    "fig.write_image(figure_path / \"20250114_dataset_split_comparison.svg\")\n",
    "fig.write_image(figure_path / \"20250114_dataset_split_comparison.png\")"
   ],
   "metadata": {
    "collapsed": false
   },
   "id": "91086036a9b7d147",
   "execution_count": null
  },
  {
   "cell_type": "markdown",
   "source": [
    "## Just the random split"
   ],
   "metadata": {
    "collapsed": false
   },
   "id": "efccde5914c240d4"
  },
  {
   "cell_type": "code",
   "outputs": [],
   "source": [
    "random_split = dataset_split_df[dataset_split_df.Split == \"RandomSplit\"]\n",
    "fig = line(data_frame=random_split, \n",
    "              x=\"N_Per_Split\", \n",
    "              y=\"Fraction\", \n",
    "              color=\"Score\",\n",
    "              line_dash=\"Split\",\n",
    "              error_y=\"Error_Upper\", \n",
    "              error_y_minus=\"Error_Lower\", \n",
    "           error_y_mode=\"band\",\n",
    "              template=\"simple_white\", \n",
    "              # symbol=\"Score\", \n",
    "              height=600, \n",
    "              width=800,\n",
    "              log_x=True,\n",
    "              # color_discrete_sequence=px.colors.qualitative.Dark2,\n",
    "              labels = labels\n",
    "              )\n",
    "fig.update_layout(\n",
    "    font=dict(size=small_font, \n",
    "              family='Arial'\n",
    "              ),\n",
    "    legend=dict(title=\"<b> Score Function | Dataset Split </b>\", \n",
    "                              x=0.4, y=0.1, \n",
    "                              traceorder='reversed', \n",
    "                              title_font_size=large_font, \n",
    "                              font_color='black'),\n",
    "    **update_layout_dict)\n",
    "fig.update_yaxes(tickvals=np.arange(0, 1.1, 0.1)) \n",
    "fig = update_traces(fig)\n",
    "fig.show()\n",
    "fig.write_image(figure_path / \"20250114_dataset_split_comparison_random_only.svg\")\n",
    "fig.write_image(figure_path / \"20250114_dataset_split_comparison_random_only.png\")"
   ],
   "metadata": {
    "collapsed": false
   },
   "id": "84b516c094785548",
   "execution_count": null
  },
  {
   "cell_type": "markdown",
   "source": [
    "## try just first 20"
   ],
   "metadata": {
    "collapsed": false
   },
   "id": "1e86e8852c196b56"
  },
  {
   "cell_type": "code",
   "outputs": [],
   "source": [
    "fig = line(data_frame=results_df, \n",
    "              x=\"N_Per_Split\", \n",
    "              y=\"Fraction\", \n",
    "              color=\"Score\",\n",
    "              line_dash=\"Split\",\n",
    "              error_y=\"Error_Upper\", \n",
    "              error_y_minus=\"Error_Lower\", \n",
    "           error_y_mode=\"band\",\n",
    "              template=\"simple_white\", \n",
    "              # symbol=\"Score\", \n",
    "              height=600, \n",
    "              width=800,\n",
    "              log_x=True,\n",
    "              # color_discrete_sequence=px.colors.qualitative.Dark2,\n",
    "              labels = labels\n",
    "              )\n",
    "fig.update_layout(\n",
    "    font=dict(size=small_font, \n",
    "              family='Arial'\n",
    "              ),\n",
    "    legend=dict(title=\"<b> Score Function | Dataset Split </b>\", \n",
    "                              x=0.4, y=0.1, \n",
    "                              traceorder='reversed', \n",
    "                              title_font_size=large_font, \n",
    "                              font_color='black'),\n",
    "    **update_layout_dict)\n",
    "fig.update_yaxes(tickvals=np.arange(0, 1.1, 0.1)) \n",
    "fig = update_traces(fig)\n",
    "fig.show()\n",
    "fig.write_image(figure_path / \"20250114_dataset_split_comparison_first_20.svg\")\n",
    "fig.write_image(figure_path / \"20250114_dataset_split_comparison_first_20.png\")"
   ],
   "metadata": {
    "collapsed": false
   },
   "id": "662eec1752cd0f86",
   "execution_count": null
  },
  {
   "cell_type": "markdown",
   "source": [
    "# Make figure of number of structures vs date"
   ],
   "metadata": {
    "collapsed": false
   },
   "id": "2b4a87f80224bedc"
  },
  {
   "cell_type": "code",
   "outputs": [],
   "source": [
    "results_csv = Path(\n",
    "    \"/Users/alexpayne/Scientific_Projects/mers-drug-discovery/sars2-retrospective-analysis/20240424_multi_pose_docking_cross_docking/results_csvs/20240503_combined_results_with_data.csv\")"
   ],
   "metadata": {
    "collapsed": false
   },
   "id": "e479e16984b75a0a",
   "execution_count": null
  },
  {
   "cell_type": "code",
   "outputs": [],
   "source": [
    "all_results_df = pd.read_csv(results_csv, index_col=0)"
   ],
   "metadata": {
    "collapsed": false
   },
   "id": "59b3dcde670c302c",
   "execution_count": null
  },
  {
   "cell_type": "code",
   "outputs": [],
   "source": [
    "unique_dates = all_results_df.Reference_Structure_Date.unique()"
   ],
   "metadata": {
    "collapsed": false
   },
   "id": "e2a9f4cdbcb316bb",
   "execution_count": null
  },
  {
   "cell_type": "code",
   "outputs": [],
   "source": [
    "import json\n",
    "from datetime import datetime "
   ],
   "metadata": {
    "collapsed": false
   },
   "id": "8c3296633d46bfb8",
   "execution_count": null
  },
  {
   "cell_type": "code",
   "outputs": [],
   "source": [
    "def date_processor(date_string):\n",
    "    if type(date_string) == str and not date_string == 'None':\n",
    "        try:\n",
    "            return datetime.strptime(date_string, \"%Y-%m-%d %H:%M:%S\")\n",
    "        except ValueError:\n",
    "            return datetime.strptime(date_string, \"%d/%m/%Y %H:%M\")\n",
    "    else:\n",
    "        return None"
   ],
   "metadata": {
    "collapsed": false
   },
   "id": "fe6900d6a63bae56",
   "execution_count": null
  },
  {
   "cell_type": "code",
   "outputs": [],
   "source": [
    "simple_date_df = raw.groupby(\"Reference_Structure\").head(1)"
   ],
   "metadata": {
    "collapsed": false
   },
   "id": "ec4426636f2b78",
   "execution_count": null
  },
  {
   "cell_type": "markdown",
   "source": [
    "## make basic # structures over time plot"
   ],
   "metadata": {
    "collapsed": false
   },
   "id": "9fe9bc178214d37e"
  },
  {
   "cell_type": "code",
   "outputs": [],
   "source": [
    "fig = px.ecdf(simple_date_df, x=\"Reference_Structure_Date\", template=\"simple_white\", height=300, width=800, ecdfnorm=None)\n",
    "fig.update_layout(xaxis=dict(title=\"<b> Date of Crystal Structure Collection </b>\", \n",
    "                             title_font=dict(size=large_font), \n",
    "                             color='black'), \n",
    "                  yaxis=dict(title=\"<b> Cumulative Number<br> of Structures </b>\", \n",
    "                             # title_font=dict(size=large_font), \n",
    "                             color='black'))\n",
    "# add more yticks\n",
    "fig.update_yaxes(tickvals=np.arange(0, len(simple_date_df), 20))\n",
    "fig.show()\n",
    "fig.write_image(figure_path / \"20250114_cumulative_structures_by_date.svg\")\n",
    "fig.write_image(figure_path / \"20250114_cumulative_structures_by_date.png\")"
   ],
   "metadata": {
    "collapsed": false
   },
   "id": "11bf449465614548",
   "execution_count": null
  },
  {
   "cell_type": "code",
   "outputs": [],
   "source": [
    "fig = px.histogram(simple_date_df, x=\"Reference_Structure_Date\", template=\"simple_white\", height=300, width=800)\n",
    "fig.show()"
   ],
   "metadata": {
    "collapsed": false
   },
   "id": "97f853232a37f98d",
   "execution_count": null
  },
  {
   "cell_type": "code",
   "outputs": [],
   "source": [
    "# convert datetime to day\n",
    "simple_date_df[\"day\"] = simple_date_df.Reference_Structure_Date.apply(lambda x: datetime.strptime(x, \"%Y-%m-%d %H:%M:%S\").date().isoformat())"
   ],
   "metadata": {
    "collapsed": false
   },
   "id": "cb6da7b92c706941",
   "execution_count": null
  },
  {
   "cell_type": "code",
   "outputs": [],
   "source": [
    "from datetime import timedelta"
   ],
   "metadata": {
    "collapsed": false
   },
   "id": "298c87980fa625db",
   "execution_count": null
  },
  {
   "cell_type": "code",
   "outputs": [],
   "source": [
    "date_dict"
   ],
   "metadata": {
    "collapsed": false
   },
   "id": "9bd494ece7717e0",
   "execution_count": null
  },
  {
   "cell_type": "code",
   "outputs": [],
   "source": [],
   "metadata": {
    "collapsed": false
   },
   "id": "eb61c9bed56459f9",
   "execution_count": null
  },
  {
   "cell_type": "code",
   "outputs": [],
   "source": [
    "day_df = simple_date_df.groupby('day').count().reset_index()[['day', 'Reference_Structure']]\n",
    "day_df.columns = ['day', 'n_structures']"
   ],
   "metadata": {
    "collapsed": false
   },
   "id": "d4854f78de154807",
   "execution_count": null
  },
  {
   "cell_type": "code",
   "outputs": [],
   "source": [
    "fig = px.bar(day_df, x='day', y='n_structures', template=\"simple_white\", height=300, width=800)\n",
    "fig.update_layout(xaxis=dict(type='category'))"
   ],
   "metadata": {
    "collapsed": false
   },
   "id": "9e3887a2e8d4882a",
   "execution_count": null
  },
  {
   "cell_type": "code",
   "outputs": [],
   "source": [
    "import plotly.express as px\n",
    "import pandas as pd\n",
    "from datetime import datetime, timedelta\n",
    "\n",
    "# Define start date for both groups\n",
    "start_date_group_1 = datetime(2023, 1, 1)  # Start date for Group 1\n",
    "start_date_group_2 = datetime(2023, 1, 1)  # Start date for Group 2\n",
    "\n",
    "# Group 1: Tasks, each lasting 1 year (these tasks start at the same time)\n",
    "tasks_group_1 = ['Task A', 'Task B', 'Task C', 'Task D']\n",
    "durations_group_1 = [365, 365, 365, 365]  # Each task takes 365 days (1 year)\n",
    "start_dates_group_1 = [start_date_group_1] * 4  # All tasks start at the same time\n",
    "\n",
    "# Group 2: Tasks, each lasting 3 months (sequential tasks)\n",
    "tasks_group_2 = ['Task A', 'Task B', 'Task C', 'Task D']\n",
    "durations_group_2 = [90, 90, 90, 90]  # Each task takes 90 days (3 months)\n",
    "start_dates_group_2 = [start_date_group_2 + timedelta(days=90 * i) for i in range(4)]  # Sequential start dates\n",
    "\n",
    "# Combine both groups of tasks into a DataFrame\n",
    "tasks = tasks_group_1 + tasks_group_2\n",
    "start_dates = start_dates_group_1 + start_dates_group_2\n",
    "durations = durations_group_1 + durations_group_2\n",
    "end_dates = [start + timedelta(days=duration) for start, duration in zip(start_dates, durations)]\n",
    "\n",
    "# Create DataFrame\n",
    "df = pd.DataFrame({\n",
    "    'Task': tasks,\n",
    "    'Start': start_dates,\n",
    "    'Finish': end_dates,\n",
    "    'Duration (days)': durations,\n",
    "    'Group': ['Group 1'] * 4 + ['Group 2'] * 4\n",
    "})"
   ],
   "metadata": {
    "collapsed": false
   },
   "id": "cd8e81335a137d4",
   "execution_count": null
  },
  {
   "cell_type": "code",
   "outputs": [],
   "source": [
    "day_df['cdf'] = day_df.n_structures.cumsum()"
   ],
   "metadata": {
    "collapsed": false
   },
   "id": "3191cf951f4ca9bd",
   "execution_count": null
  },
  {
   "cell_type": "code",
   "outputs": [],
   "source": [
    "day_df['month'] = day_df.day.apply(lambda x: x[:7])"
   ],
   "metadata": {
    "collapsed": false
   },
   "id": "840cbb105392de97",
   "execution_count": null
  },
  {
   "cell_type": "code",
   "outputs": [],
   "source": [
    "day_df['cdf_minus_one'] = day_df.cdf.shift(1).fillna(0).astype(int)"
   ],
   "metadata": {
    "collapsed": false
   },
   "id": "4803593b3a7ee4d4",
   "execution_count": null
  },
  {
   "cell_type": "code",
   "outputs": [],
   "source": [
    "month_df = day_df.groupby('month').sum().reset_index()"
   ],
   "metadata": {
    "collapsed": false
   },
   "id": "a0d5891aa7053712",
   "execution_count": null
  },
  {
   "cell_type": "code",
   "outputs": [],
   "source": [
    "# gantt_day_df = pd.DataFrame({\n",
    "#     'Nth_Structure': day_df.cdf,\n",
    "#     'Start': day_df.day,\n",
    "#     'Finish': day_df.day.apply(lambda x: datetime.strptime(x, '%Y-%m-%d') + timedelta(days=1)),\n",
    "# })\n",
    "gantt_day_df = pd.DataFrame({\n",
    "    'Nth_Structure': [f\"{day_df.cdf_minus_one[i]} - {day_df.cdf[i]}\" for i in range(len(day_df))],\n",
    "    'Start': [f\"2025-01-01 00:00:{i:0>2}\" for i in range(len(day_df))],\n",
    "    'Finish': [f\"2025-01-01 00:00:{i+1:0>2}\" for i in range(len(day_df))]\n",
    "})"
   ],
   "metadata": {
    "collapsed": false
   },
   "id": "972851e72f8788c6",
   "execution_count": null
  },
  {
   "cell_type": "code",
   "outputs": [],
   "source": [
    "day_df"
   ],
   "metadata": {
    "collapsed": false
   },
   "id": "8e65483eebdc5fee",
   "execution_count": null
  },
  {
   "cell_type": "code",
   "outputs": [],
   "source": [
    "# Create the Gantt chart\n",
    "fig = px.timeline(gantt_day_df, \n",
    "                  x_start=\"Start\", \n",
    "                  x_end=\"Finish\", \n",
    "                  y=\"Nth_Structure\", \n",
    "                  title=\"Gantt Chart of Tasks\",\n",
    "                  labels={\"Task\": \"Task Name\"},\n",
    "                  # color=\"Task\",\n",
    "                  color_discrete_sequence=px.colors.qualitative.Set2,\n",
    "                  # facet_row_spacing=0,\n",
    "                  # facet_row='Group',\n",
    "                  )\n",
    "\n",
    "# Update layout to improve readability\n",
    "fig.update_layout(\n",
    "    xaxis_title=\"Timeline\",\n",
    "    yaxis_title=\"Tasks\",\n",
    "    showlegend=False,\n",
    "    xaxis=dict(ticktext=day_df.day)\n",
    ")\n",
    "\n",
    "# Show the plot\n",
    "fig.show()"
   ],
   "metadata": {
    "collapsed": false
   },
   "id": "e81baa88387c08a2",
   "execution_count": null
  },
  {
   "cell_type": "code",
   "outputs": [],
   "source": [],
   "metadata": {
    "collapsed": false
   },
   "id": "84f2af70fe1d31ec"
  },
  {
   "cell_type": "code",
   "outputs": [],
   "source": [
    "reference_ligand_df = all_results_df.groupby(['Reference_Ligand']).head(1)"
   ],
   "metadata": {
    "collapsed": false
   },
   "id": "2a81bb249d1927bc",
   "execution_count": null
  },
  {
   "cell_type": "code",
   "outputs": [],
   "source": [
    "from rdkit.Chem import MolFromSmiles"
   ],
   "metadata": {
    "collapsed": false
   },
   "id": "57f8da1861d7b16a",
   "execution_count": null
  },
  {
   "cell_type": "code",
   "outputs": [],
   "source": [
    "reference_ligand_df[\"rdkit_mol\"] = [MolFromSmiles(str(smiles)) if not str(smiles) == 'nan' else None for smiles in reference_ligand_df.Reference_Ligand_SMILES]"
   ],
   "metadata": {
    "collapsed": false
   },
   "id": "4c44b62dbbc80d2c",
   "execution_count": null
  },
  {
   "cell_type": "code",
   "outputs": [],
   "source": [
    "reference_ligand_df = reference_ligand_df[~reference_ligand_df.rdkit_mol.isna()]"
   ],
   "metadata": {
    "collapsed": false
   },
   "id": "2f6cd0b8ea6d19ff",
   "execution_count": null
  },
  {
   "cell_type": "code",
   "outputs": [],
   "source": [
    "reference_ligand_df[\"n_atoms\"] = reference_ligand_df.rdkit_mol.apply(lambda x: x.GetNumAtoms())"
   ],
   "metadata": {
    "collapsed": false
   },
   "id": "ccab588da2f3e892",
   "execution_count": null
  },
  {
   "cell_type": "code",
   "outputs": [],
   "source": [
    "reference_ligand_df.sort_values(\"Reference_Structure_Date\", inplace=True)"
   ],
   "metadata": {
    "collapsed": false
   },
   "id": "4d672c07dd42b85d",
   "execution_count": null
  },
  {
   "cell_type": "code",
   "outputs": [],
   "source": [
    "reference_ligand_df[\"cum_max\"] = reference_ligand_df['n_atoms'].cummax()"
   ],
   "metadata": {
    "collapsed": false
   },
   "id": "e216f393ecd0d7ae",
   "execution_count": null
  },
  {
   "cell_type": "code",
   "outputs": [],
   "source": [
    "reference_ligand_df = all_results_df.groupby(['Reference_Ligand']).head(1)"
   ],
   "metadata": {
    "collapsed": false
   },
   "id": "737a6d730006a9e7",
   "execution_count": null
  },
  {
   "cell_type": "code",
   "outputs": [],
   "source": [
    "bemis_murcko_cluster_df = pd.read_csv(\"/Users/alexpayne/Scientific_Projects/harbor/examples/cluster_labels.csv\")"
   ],
   "metadata": {
    "collapsed": false
   },
   "id": "7b091e57fc0788fa",
   "execution_count": null
  },
  {
   "cell_type": "code",
   "outputs": [],
   "source": [
    "bemis_murcko_cluster_df.columns"
   ],
   "metadata": {
    "collapsed": false
   },
   "id": "c4ebe0e1de159310",
   "execution_count": null
  },
  {
   "cell_type": "code",
   "outputs": [],
   "source": [
    "bemis_murcko_cluster_df.columns = [\"Reference_Ligand\", \"Cluster\", \"Scaffold_Smiles\"]"
   ],
   "metadata": {
    "collapsed": false
   },
   "id": "5148fb6da785b352",
   "execution_count": null
  },
  {
   "cell_type": "code",
   "outputs": [],
   "source": [
    "plot_df = pd.merge(reference_ligand_df, bemis_murcko_cluster_df, on=\"Reference_Ligand\")"
   ],
   "metadata": {
    "collapsed": false
   },
   "id": "4713eadb62e2ec9a",
   "execution_count": null
  },
  {
   "cell_type": "code",
   "outputs": [],
   "source": [
    "plot_df"
   ],
   "metadata": {
    "collapsed": false
   },
   "id": "b31f8ed428ff27e6",
   "execution_count": null
  },
  {
   "cell_type": "code",
   "outputs": [],
   "source": [
    "plot_df.groupby(\"Cluster\").count()"
   ],
   "metadata": {
    "collapsed": false
   },
   "id": "ca4006529d7706a5",
   "execution_count": null
  },
  {
   "cell_type": "code",
   "outputs": [],
   "source": [
    "plot_df['simple_clusters'] = plot_df.Cluster.apply(lambda x: str(x) if x <= 5 else \"6-90\") "
   ],
   "metadata": {
    "collapsed": false
   },
   "id": "ae261105fe8d5aa5",
   "execution_count": null
  },
  {
   "cell_type": "code",
   "outputs": [],
   "source": [
    "plot_df.sort_values('simple_clusters', inplace=True)"
   ],
   "metadata": {
    "collapsed": false
   },
   "id": "e44594e27288ab41",
   "execution_count": null
  },
  {
   "cell_type": "code",
   "outputs": [],
   "source": [
    "fig = px.ecdf(plot_df, \n",
    "              x='Reference_Structure_Date', \n",
    "              color='simple_clusters', \n",
    "              ecdfnorm=None, \n",
    "              template='simple_white', \n",
    "              log_y=True,height=600,width=800,)\n",
    "# update legend title\n",
    "fig.update_layout(legend_title_text=\"<b> Bemis-Murcko Cluster </b>\")\n",
    "fig.update_xaxes(title_text=\"<b> Date of Crystal Structure Collection </b>\")\n",
    "fig.update_yaxes(title_text=\"<b> Cumulative Number of Structures </b>\")\n",
    "\n",
    "update_layout_dict = dict(xaxis=dict(title_font=dict(size=large_font), \n",
    "                            color='black', \n",
    "                            ),\n",
    "                  yaxis=dict(\n",
    "                      # range=(0,1),  \n",
    "                      title_font=dict(size=large_font), \n",
    "                             color='black', \n",
    "                             ))\n",
    "\n",
    "# move legend to inside the plot\n",
    "fig.update_layout(legend=dict(\n",
    "    yanchor=\"bottom\",\n",
    "    y=0.25,\n",
    "    xanchor=\"right\",\n",
    "    x=1.1\n",
    "), **update_layout_dict)\n",
    "fig.show()\n",
    "fig.write_image(figure_path / \"20241024_cumulative_cluster_by_date.svg\")"
   ],
   "metadata": {
    "collapsed": false
   },
   "id": "52700c4679de08b9",
   "execution_count": null
  },
  {
   "cell_type": "markdown",
   "source": [
    "# Make new multipose datesplit plot without POSIT sorting"
   ],
   "metadata": {
    "collapsed": false
   },
   "id": "ae3a3954254eb222"
  },
  {
   "cell_type": "code",
   "outputs": [],
   "source": [
    "# Multipose Plots\n",
    "datesplit = multipose[(multipose.Split == \"DateSplit\")&(multipose.Score == \"RMSD\")]\n",
    "fig = line(data_frame=datesplit,\n",
    "              x=\"N_Per_Split\",\n",
    "              y=\"Fraction\",\n",
    "              color=\"PoseSelection_Choose_N\",\n",
    "              line_dash=\"Score\",\n",
    "              error_y=\"Error_Upper\",\n",
    "           error_y_mode='bands',\n",
    "              error_y_minus=\"Error_Lower\", \n",
    "              template=\"simple_white\",\n",
    "              # symbol=\"\", \n",
    "              height=600,\n",
    "              width=800,\n",
    "              log_x=True,\n",
    "              color_discrete_sequence=px.colors.sequential.Viridis,\n",
    "              labels=labels\n",
    "              )\n",
    "fig.update_layout(\n",
    "    font=dict(size=small_font,\n",
    "              family='Arial'\n",
    "              ),\n",
    "    legend=dict(title=\"<b> Number of Poses Returned by POSIT </b>\",\n",
    "                x=0.3, y=0.1,\n",
    "                # traceorder='reversed', \n",
    "                title_font_size=large_font,\n",
    "                font_color='black'),\n",
    "    **update_layout_dict)\n",
    "fig.update_yaxes(tickvals=np.arange(0, 1.1, 0.1))\n",
    "for trace in fig.data:\n",
    "        if trace.name is None:\n",
    "            continue\n",
    "        trace.name = trace.name.replace(\"_\", \" \")\n",
    "        trace.name = trace.name.replace(\"Split\", \"\")\n",
    "        trace.name = trace.name.replace(\", \", \"\")\n",
    "        trace.name = trace.name.replace(\"RMSD\", \"\")\n",
    "fig.show()\n",
    "fig.write_image(figure_path / \"20241024_multipose_datesplit.svg\")"
   ],
   "metadata": {
    "collapsed": false
   },
   "id": "b5e97e611c285754",
   "execution_count": null
  },
  {
   "cell_type": "code",
   "outputs": [],
   "source": [
    "all_results_df"
   ],
   "metadata": {
    "collapsed": false
   },
   "id": "9961388d98588a50",
   "execution_count": null
  },
  {
   "cell_type": "code",
   "outputs": [],
   "source": [
    "tc_cuttofs = np.linspace(0,2, 20)"
   ],
   "metadata": {
    "collapsed": false
   },
   "id": "a0a46b41eea59ed1",
   "execution_count": null
  },
  {
   "cell_type": "code",
   "outputs": [],
   "source": [
    "tc_cuttofs[0]"
   ],
   "metadata": {
    "collapsed": false
   },
   "id": "ea7bc8befb3d2c42",
   "execution_count": null
  },
  {
   "cell_type": "code",
   "outputs": [],
   "source": [
    "for tc_cuttof in tc_cuttofs[:1]:\n",
    "    subset = all_results_df[all_results_df.Tanimoto <= tc_cuttof].sort_values(\"docking-confidence-POSIT\")\n",
    "    subset.groupby([\"Query_Ligand\"])"
   ],
   "metadata": {
    "collapsed": false
   },
   "id": "dfd167630929b548",
   "execution_count": null
  },
  {
   "cell_type": "code",
   "outputs": [],
   "source": [],
   "metadata": {
    "collapsed": false
   },
   "id": "ca6d6742280a4ce1",
   "execution_count": null
  }
 ],
 "metadata": {
  "kernelspec": {
   "display_name": "Python 3",
   "language": "python",
   "name": "python3"
  },
  "language_info": {
   "codemirror_mode": {
    "name": "ipython",
    "version": 2
   },
   "file_extension": ".py",
   "mimetype": "text/x-python",
   "name": "python",
   "nbconvert_exporter": "python",
   "pygments_lexer": "ipython2",
   "version": "2.7.6"
  }
 },
 "nbformat": 4,
 "nbformat_minor": 5
}
