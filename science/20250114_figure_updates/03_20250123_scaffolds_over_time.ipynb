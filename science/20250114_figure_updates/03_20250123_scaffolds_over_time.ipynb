{
 "cells": [
  {
   "cell_type": "code",
   "outputs": [],
   "source": [
    "import pandas as pd\n",
    "import json\n",
    "from datetime import datetime\n",
    "import plotly.express as px\n",
    "from pathlib import Path"
   ],
   "metadata": {
    "collapsed": false
   },
   "id": "4909b54962df5c21",
   "execution_count": null
  },
  {
   "cell_type": "code",
   "outputs": [],
   "source": [
    "input_csv = \"/Users/alexpayne/Scientific_Projects/asapdiscovery-sars-retrospective/science/20241025_ligand_analysis/data/generic_cluster_labels.csv\"\n",
    "compound_data_csv = \"/Users/alexpayne/Scientific_Projects/asapdiscovery-sars-retrospective/science/20241025_ligand_analysis/data/unique_compounds.csv\"\n",
    "date_json = \"/Users/alexpayne/Scientific_Projects/asapdiscovery-sars-retrospective/science/20240403_multi_pose_docking_v2/20240430_analyze_cross_docking_results/20240503_inputs_analysis/date_dict.json\"\n",
    "figures = Path(\"./figures\")"
   ],
   "metadata": {
    "collapsed": false
   },
   "id": "f6803423444dddf0",
   "execution_count": null
  },
  {
   "cell_type": "code",
   "outputs": [],
   "source": [
    "def date_processor(date_string):\n",
    "    if type(date_string) == str and not date_string == \"None\":\n",
    "        try:\n",
    "            return datetime.strptime(date_string, \"%Y-%m-%d %H:%M:%S\")\n",
    "        except ValueError:\n",
    "            return datetime.strptime(date_string, \"%d/%m/%Y %H:%M\")\n",
    "    else:\n",
    "        return None"
   ],
   "metadata": {
    "collapsed": false
   },
   "id": "3ba1a44d269324d1",
   "execution_count": null
  },
  {
   "cell_type": "code",
   "outputs": [],
   "source": [
    "with open(date_json, \"r\") as f:\n",
    "    date_dict = [\n",
    "        {\"Name\": name, \"Date\": date_processor(date)}\n",
    "        for name, date in json.load(f).items()\n",
    "    ]\n",
    "    date_df = pd.DataFrame.from_records(date_dict)\n",
    "\n",
    "compound_data = pd.read_csv(compound_data_csv)\n",
    "\n",
    "compound_data = compound_data.merge(\n",
    "    date_df, left_on=\"structure_name\", right_on=\"Name\"\n",
    ")\n",
    "\n",
    "df = pd.read_csv(input_csv)\n",
    "\n",
    "df = df.merge(compound_data, on=\"compound_name\", how=\"left\")"
   ],
   "metadata": {
    "collapsed": false
   },
   "id": "76c25549040900a1",
   "execution_count": null
  },
  {
   "cell_type": "markdown",
   "source": [
    "## count number of structures per cluster"
   ],
   "metadata": {
    "collapsed": false
   },
   "id": "479d83cd728a6cc"
  },
  {
   "cell_type": "code",
   "outputs": [],
   "source": [
    "cluster_counts = df.groupby('cluster_id').count().reset_index()[['cluster_id', 'compound_name']]\n",
    "cluster_counts.columns = ['cluster_id', 'count']"
   ],
   "metadata": {
    "collapsed": false
   },
   "id": "684d390d091b18cf",
   "execution_count": null
  },
  {
   "cell_type": "code",
   "outputs": [],
   "source": [
    "df_ccounts = pd.merge(df, cluster_counts, on='cluster_id', how='left')"
   ],
   "metadata": {
    "collapsed": false
   },
   "id": "c5fda82383f14a4e",
   "execution_count": null
  },
  {
   "cell_type": "markdown",
   "source": [
    "## remove singlets"
   ],
   "metadata": {
    "collapsed": false
   },
   "id": "eacd411940bcf177"
  },
  {
   "cell_type": "code",
   "outputs": [],
   "source": [
    "no_singlets = df_ccounts[df_ccounts['count'] > 1]"
   ],
   "metadata": {
    "collapsed": false
   },
   "id": "bf73d9bd5ac9af8e",
   "execution_count": null
  },
  {
   "cell_type": "code",
   "outputs": [],
   "source": [
    "no_singlets_ccs = cluster_counts[cluster_counts['count'] > 1]"
   ],
   "metadata": {
    "collapsed": false
   },
   "id": "8c7c17367e4bf8d0",
   "execution_count": null
  },
  {
   "cell_type": "markdown",
   "source": [
    "# Plot Scaffolds Over Time"
   ],
   "metadata": {
    "collapsed": false
   },
   "id": "6346bc6e64de226e"
  },
  {
   "cell_type": "code",
   "outputs": [],
   "source": [
    "def make_image(df,x_col = \"Date\", color=\"cluster_id\"):\n",
    "    import plotly.express as px\n",
    "\n",
    "    large_font = 24\n",
    "    small_font = 18\n",
    "\n",
    "    fig = px.ecdf(\n",
    "        df,\n",
    "        x=x_col,\n",
    "        color=color,\n",
    "        ecdfnorm=None,\n",
    "        template=\"simple_white\",\n",
    "        height=600,\n",
    "        width=800,\n",
    "    )\n",
    "    # update legend title\n",
    "    fig.update_layout(legend_title_text=\"<b> Scaffold </b>\")\n",
    "    fig.update_xaxes(title_text=\"<b> Date of Crystal Structure Collection </b>\")\n",
    "    fig.update_yaxes(title_text=\"<b> Cumulative Number of Structures </b>\")\n",
    "\n",
    "    update_layout_dict = dict(\n",
    "        xaxis=dict(\n",
    "            title_font=dict(size=large_font),\n",
    "            color=\"black\",\n",
    "        ),\n",
    "        yaxis=dict(\n",
    "            # range=(0,1),\n",
    "            title_font=dict(size=large_font),\n",
    "            color=\"black\",\n",
    "        ),\n",
    "    )\n",
    "\n",
    "    # move legend to inside the plot\n",
    "    fig.update_layout(\n",
    "        legend=dict(yanchor=\"bottom\", y=0.25, xanchor=\"right\", x=1.1),\n",
    "        **update_layout_dict,\n",
    "    )\n",
    "\n",
    "    return fig"
   ],
   "metadata": {
    "collapsed": false
   },
   "id": "7f04539de6b04975",
   "execution_count": null
  },
  {
   "cell_type": "code",
   "outputs": [],
   "source": [
    "df.cluster_id.max()"
   ],
   "metadata": {
    "collapsed": false
   },
   "id": "c4af4cb74a72071e",
   "execution_count": null
  },
  {
   "cell_type": "code",
   "outputs": [],
   "source": [
    "no_singlets.cluster_id.max()"
   ],
   "metadata": {
    "collapsed": false
   },
   "id": "530d7a680651068a",
   "execution_count": null
  },
  {
   "cell_type": "code",
   "outputs": [],
   "source": [
    "df[df.cluster_id > 4]"
   ],
   "metadata": {
    "collapsed": false
   },
   "id": "62ae38e0f266916d",
   "execution_count": null
  },
  {
   "cell_type": "code",
   "outputs": [],
   "source": [
    "max_id = 5\n",
    "df['Simplified_Cluster_ID'] = df.cluster_id.apply(lambda x: x if x < max_id else f'Scaffold {max_id}-{df.cluster_id.max()}')"
   ],
   "metadata": {
    "collapsed": false
   },
   "id": "4595070333100d13",
   "execution_count": null
  },
  {
   "cell_type": "code",
   "outputs": [],
   "source": [
    "fig = make_image(df)"
   ],
   "metadata": {
    "collapsed": false
   },
   "id": "7658cd752349fcea",
   "execution_count": null
  },
  {
   "cell_type": "code",
   "outputs": [],
   "source": [
    "fig.write_image(figures / \"20250123_scaffold_over_time.png\")\n",
    "fig.write_image(figures / \"20250123_scaffold_over_time.svg\")"
   ],
   "metadata": {
    "collapsed": false
   },
   "id": "c7403df2281a760a",
   "execution_count": null
  },
  {
   "cell_type": "markdown",
   "source": [
    "# make sideways bar"
   ],
   "metadata": {
    "collapsed": false
   },
   "id": "95d7ccefdcf13932"
  },
  {
   "cell_type": "code",
   "outputs": [],
   "source": [
    "top_clusters = df[df.cluster_id < 4]"
   ],
   "metadata": {
    "collapsed": false
   },
   "id": "ba22bdeff865d09a",
   "execution_count": null
  },
  {
   "cell_type": "code",
   "outputs": [],
   "source": [
    "count_df = top_clusters.groupby(\"cluster_id\").count().reset_index()[['cluster_id', 'compound_name']]\n",
    "count_df.columns = ['Scaffold', 'Count']\n",
    "count_df.Scaffold = [f'Scaffold {i+1}' for i in count_df.Scaffold] "
   ],
   "metadata": {
    "collapsed": false
   },
   "id": "b00ac36171869481",
   "execution_count": null
  },
  {
   "cell_type": "code",
   "outputs": [],
   "source": [
    "labels = {'Count': 'Number of Molecules with Scaffold',\n",
    "          'Scaffold': 'Scaffold ID'}"
   ],
   "metadata": {
    "collapsed": false
   },
   "id": "1235332921f56b04",
   "execution_count": null
  },
  {
   "cell_type": "code",
   "outputs": [],
   "source": [
    "fig = px.bar(count_df, x='Count', y='Scaffold', template='simple_white', height=400, width=600)\n",
    "fig.update_xaxes(range=[20,65])\n",
    "fig.show()\n",
    "fig.write_image(figures / \"20250123_count_scaffolds_sideways_bar.svg\")"
   ],
   "metadata": {
    "collapsed": false
   },
   "id": "81f77b1917a1bf6e",
   "execution_count": null
  },
  {
   "cell_type": "markdown",
   "source": [
    "# Plot Structure Collection Dates"
   ],
   "metadata": {
    "collapsed": false
   },
   "id": "8b8e89f1d856d638"
  },
  {
   "cell_type": "code",
   "outputs": [],
   "source": [
    "from datetime import datetime\n",
    "df[\"Day\"] = df.Date.apply(lambda x: x.date())\n",
    "df_pseries = df[df.series == 'P']"
   ],
   "metadata": {
    "collapsed": false
   },
   "id": "eababce5d2560fc8",
   "execution_count": null
  },
  {
   "cell_type": "code",
   "outputs": [],
   "source": [
    "# get date counts\n",
    "date_counts = df_pseries.groupby('Day').count().reset_index()[['Day', 'compound_name']]\n",
    "date_counts.columns = ['Day', 'Count']\n",
    "date_counts.sort_values('Day')"
   ],
   "metadata": {
    "collapsed": false
   },
   "id": "a24e896d1b1f8fdd",
   "execution_count": null
  },
  {
   "cell_type": "code",
   "outputs": [],
   "source": [
    "date_counts[\"cumulative\"] = date_counts.Count.cumsum()"
   ],
   "metadata": {
    "collapsed": false
   },
   "id": "9e07b1a32ec3026",
   "execution_count": null
  },
  {
   "cell_type": "code",
   "outputs": [],
   "source": [
    "date_counts"
   ],
   "metadata": {
    "collapsed": false
   },
   "id": "da2afecd1bf96561",
   "execution_count": null
  },
  {
   "cell_type": "markdown",
   "source": [
    "# Plot just P-Series"
   ],
   "metadata": {
    "collapsed": false
   },
   "id": "5c54489de83c10c4"
  },
  {
   "cell_type": "code",
   "outputs": [],
   "source": [
    "p_series = df[df.series == 'P']"
   ],
   "metadata": {
    "collapsed": false
   },
   "id": "9c36115e74b83edf",
   "execution_count": null
  },
  {
   "cell_type": "code",
   "outputs": [],
   "source": [
    "fig = make_image(p_series)\n",
    "fig.write_image(figures / \"20250123_scaffold_over_time_p_series.png\")\n",
    "fig.write_image(figures / \"20250123_scaffold_over_time_p_series.svg\")"
   ],
   "metadata": {
    "collapsed": false
   },
   "id": "8ce13ffb04e17551",
   "execution_count": null
  },
  {
   "cell_type": "markdown",
   "source": [
    "# save svg of all scaffolds"
   ],
   "metadata": {
    "collapsed": false
   },
   "id": "7b5287d7b056ffbb"
  },
  {
   "cell_type": "code",
   "outputs": [],
   "source": [
    "from rdkit import Chem\n",
    "from rdkit.Chem import Draw, rdDepictor"
   ],
   "metadata": {
    "collapsed": false
   },
   "id": "b3d7d211c0444362",
   "execution_count": null
  },
  {
   "cell_type": "code",
   "outputs": [],
   "source": [
    "# get tuple of scaffold_id and rdkit mol\n",
    "scaffold_mols = df.groupby('cluster_id').first().reset_index()[['cluster_id', 'scaffold_smarts']]\n",
    "scaffold_mols['scaffold_mol'] = scaffold_mols.scaffold_smarts.apply(lambda x: Chem.MolFromSmiles(x) if x is not None else None)"
   ],
   "metadata": {
    "collapsed": false
   },
   "id": "7ddd39faa68d1de2",
   "execution_count": null
  },
  {
   "cell_type": "code",
   "outputs": [],
   "source": [
    "def draw_single_mol(mol, fn, size=(400, 400)):\n",
    "    mol = Chem.RemoveHs(mol)\n",
    "    rdDepictor.Compute2DCoords(mol)\n",
    "    rdDepictor.StraightenDepiction(mol)\n",
    "    \n",
    "    # Create the drawing object\n",
    "    drawer = Draw.rdMolDraw2D.MolDraw2DSVG(*size)\n",
    "    drawer.DrawMolecule(mol)\n",
    "    drawer.FinishDrawing()\n",
    "    svg = drawer.GetDrawingText()\n",
    "    with open(fn, \"w\") as f:\n",
    "        f.write(svg)\n",
    "    \n",
    "    img = Draw.MolsToImage([mol], subImgSize=size, legends=[f\"Scaffold {row.cluster_id}\"])\n",
    "    img.save(fn.with_suffix(\".png\"))"
   ],
   "metadata": {
    "collapsed": false
   },
   "id": "62d8ee78dc3f6dee",
   "execution_count": null
  },
  {
   "cell_type": "code",
   "outputs": [],
   "source": [
    "scaff_dir = figures / \"scaffolds\"\n",
    "scaff_dir.mkdir(exist_ok=True)\n",
    "for i, row in scaffold_mols.iterrows():\n",
    "    if row.scaffold_mol is not None:\n",
    "        row.scaffold_mol.SetProp(\"_Name\", f\"Scaffold {row.cluster_id}\")\n",
    "        draw_single_mol(row.scaffold_mol, scaff_dir / f\"generic_scaffold_{row.cluster_id}.svg\")"
   ],
   "metadata": {
    "collapsed": false
   },
   "id": "2929be91ab1b5171",
   "execution_count": null
  },
  {
   "cell_type": "markdown",
   "source": [
    "# do the same thing but with the generic scaffolds"
   ],
   "metadata": {
    "collapsed": false
   },
   "id": "2e78cc74e6869ba1"
  },
  {
   "cell_type": "code",
   "outputs": [],
   "source": [
    "default_df = pd.read_csv(\"/Users/alexpayne/Scientific_Projects/asapdiscovery-sars-retrospective/science/20241025_ligand_analysis/data/default_cluster_labels.csv\")\n",
    "default_df = default_df.merge(compound_data, on=\"compound_name\", how=\"left\")"
   ],
   "metadata": {
    "collapsed": false
   },
   "id": "1e08113d016a686e",
   "execution_count": null
  },
  {
   "cell_type": "code",
   "outputs": [],
   "source": [
    "p_series_default = default_df[default_df.series == 'P']"
   ],
   "metadata": {
    "collapsed": false
   },
   "id": "f1d565cd141a990e",
   "execution_count": null
  },
  {
   "cell_type": "code",
   "outputs": [],
   "source": [
    "p_series_default"
   ],
   "metadata": {
    "collapsed": false
   },
   "id": "d071248cc6f6aecd",
   "execution_count": null
  },
  {
   "cell_type": "code",
   "outputs": [],
   "source": [
    "fig = make_image(p_series_default)\n",
    "fig.write_image(figures / \"20250123_scaffold_over_time_p_series_default.png\")\n",
    "fig.write_image(figures / \"20250123_scaffold_over_time_p_series_default.svg\")"
   ],
   "metadata": {
    "collapsed": false
   },
   "id": "f089b6764caacc8",
   "execution_count": null
  },
  {
   "cell_type": "code",
   "outputs": [],
   "source": [
    "# get tuple of scaffold_id and rdkit mol\n",
    "scaffold_mols = default_df.groupby('cluster_id').first().reset_index()[['cluster_id', 'scaffold_smarts']]\n",
    "scaffold_mols['scaffold_mol'] = scaffold_mols.scaffold_smarts.apply(lambda x: Chem.MolFromSmiles(x) if x is not None else None)"
   ],
   "metadata": {
    "collapsed": false
   },
   "id": "c1fd156f8a47efd2",
   "execution_count": null
  },
  {
   "cell_type": "code",
   "outputs": [],
   "source": [
    "scaff_dir = figures / \"scaffolds\"\n",
    "scaff_dir.mkdir(exist_ok=True)\n",
    "for i, row in scaffold_mols.iterrows():\n",
    "    if row.scaffold_mol is not None:\n",
    "        row.scaffold_mol.SetProp(\"_Name\", f\"Scaffold {row.cluster_id}\")\n",
    "        draw_single_mol(row.scaffold_mol, scaff_dir / f\"default_scaffold_{row.cluster_id}.svg\")"
   ],
   "metadata": {
    "collapsed": false
   },
   "id": "b0a5900591a7e79e",
   "execution_count": null
  },
  {
   "cell_type": "code",
   "outputs": [],
   "source": [],
   "metadata": {
    "collapsed": false
   },
   "id": "6f77897527d2424"
  }
 ],
 "metadata": {
  "kernelspec": {
   "display_name": "Python 3",
   "language": "python",
   "name": "python3"
  },
  "language_info": {
   "codemirror_mode": {
    "name": "ipython",
    "version": 2
   },
   "file_extension": ".py",
   "mimetype": "text/x-python",
   "name": "python",
   "nbconvert_exporter": "python",
   "pygments_lexer": "ipython2",
   "version": "2.7.6"
  }
 },
 "nbformat": 4,
 "nbformat_minor": 5
}
