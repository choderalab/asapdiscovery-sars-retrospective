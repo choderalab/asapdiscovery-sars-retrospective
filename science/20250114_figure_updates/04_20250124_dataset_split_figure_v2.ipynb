{
 "cells": [
  {
   "cell_type": "code",
   "outputs": [],
   "source": [
    "# bc of pydantic discrepancies, need to run in harbor environment instead of asap2025"
   ],
   "metadata": {
    "collapsed": false
   },
   "id": "7a9327d79eef4cfd",
   "execution_count": null
  },
  {
   "cell_type": "code",
   "outputs": [],
   "source": [
    "import plotly.express as px\n",
    "import pandas as pd\n",
    "import plotly.graph_objects as go\n",
    "import numpy as np\n",
    "from pathlib import Path\n",
    "import harbor.analysis.cross_docking as cd"
   ],
   "metadata": {
    "collapsed": false
   },
   "id": "7e70097c7469aca4",
   "execution_count": null
  },
  {
   "cell_type": "markdown",
   "source": [
    "# Load Data"
   ],
   "metadata": {
    "collapsed": false
   },
   "id": "268d5c538f776939"
  },
  {
   "cell_type": "code",
   "outputs": [],
   "source": [
    "data_path = Path(\"01_analysis_scripts/analyzed_data/results.csv\")\n",
    "figure_path = Path(\"figures\")"
   ],
   "metadata": {
    "collapsed": false
   },
   "id": "3399cade0bff5b96",
   "execution_count": null
  },
  {
   "cell_type": "code",
   "outputs": [],
   "source": [
    "results_df = pd.read_csv(data_path)\n",
    "results_df.N_Per_Split = results_df.N_Per_Split.astype(int)\n",
    "results_df.sort_values(\n",
    "    [\"Split\", \"Score\", \"PoseSelection\", \"StructureChoice\", \"StructureChoice_Choose_N\", \"N_Per_Split\"], inplace=True)\n",
    "results_df[\"Error_Lower\"] = results_df[\"Fraction\"] - results_df[\"CI_Lower\"]\n",
    "results_df[\"Error_Upper\"] = results_df[\"CI_Upper\"] - results_df[\"Fraction\"]"
   ],
   "metadata": {
    "collapsed": false
   },
   "id": "64fd23a1f22a6204",
   "execution_count": null
  },
  {
   "cell_type": "code",
   "outputs": [],
   "source": [],
   "metadata": {
    "collapsed": false
   },
   "id": "95e337c2080b84eb",
   "execution_count": null
  },
  {
   "cell_type": "markdown",
   "source": [
    "# Plotting Variables"
   ],
   "metadata": {
    "collapsed": false
   },
   "id": "3c50777216c99229"
  },
  {
   "cell_type": "code",
   "outputs": [],
   "source": [
    "large_font = 24\n",
    "small_font = 18 \n",
    "labels = {\"Fraction\": \"<b> Fraction of Poses Docked < 2Å from Reference </b>\",\n",
    "               \"N_Per_Split\": \"<b> Total Number of Reference Structures Available to Use </b>\",\n",
    "          \"Date\": \"Temporally Ordered\",\n",
    "                   \"Random\": \"Randomly Shuffled\"\n",
    "          }\n",
    "update_layout_dict = dict(xaxis=dict(title_font=dict(size=large_font), \n",
    "                            color='black', \n",
    "                            ),\n",
    "                  yaxis=dict(range=(0,1),  \n",
    "                      title_font=dict(size=large_font), \n",
    "                             color='black', \n",
    "                             ))"
   ],
   "metadata": {
    "collapsed": false
   },
   "id": "5f504c4f28f3c6e2",
   "execution_count": null
  },
  {
   "cell_type": "code",
   "outputs": [],
   "source": [
    "def update_traces(fig):\n",
    "    for trace in fig.data:\n",
    "        if trace.name is None:\n",
    "            continue\n",
    "        trace.name = trace.name.replace(\"_\", \" \")\n",
    "        trace.name = trace.name.replace(\"Split\", \"\")\n",
    "        trace.name = trace.name.replace(\", \", \" | \")\n",
    "        trace.name = trace.name.replace(\"RMSD\", \"RMSD (Positive Control)\")\n",
    "        for k, v in labels.items():\n",
    "            trace.name = trace.name.replace(k, v)\n",
    "    return fig"
   ],
   "metadata": {
    "collapsed": false
   },
   "id": "a7a14172df7156ea",
   "execution_count": null
  },
  {
   "cell_type": "code",
   "outputs": [],
   "source": [
    "def clean_labels(fig):\n",
    "    fig.for_each_annotation(lambda a: a.update(text=a.text.split(\"=\")[-1]))\n",
    "    return fig"
   ],
   "metadata": {
    "collapsed": false
   },
   "id": "8bda003087c2d012",
   "execution_count": null
  },
  {
   "cell_type": "code",
   "outputs": [],
   "source": [
    "def hex_to_rgb(hex_color: str) -> tuple:\n",
    "    hex_color = hex_color.lstrip(\"#\")\n",
    "    if len(hex_color) == 3:\n",
    "        hex_color = hex_color * 2\n",
    "    return int(hex_color[0:2], 16), int(hex_color[2:4], 16), int(hex_color[4:6], 16)"
   ],
   "metadata": {
    "collapsed": false
   },
   "id": "cc8c49560b6340a7",
   "execution_count": null
  },
  {
   "cell_type": "code",
   "outputs": [],
   "source": [
    "def rgb_to_rgba(rgb_str, alpha):\n",
    "    # Split the RGB string into its components\n",
    "    rgb_values = rgb_str.strip('rgb()').split(',')\n",
    "    \n",
    "    # Extract individual RGB values and convert them to integers\n",
    "    r, g, b = map(int, rgb_values)\n",
    "    \n",
    "    # Construct the RGBA string\n",
    "    rgba_str = f\"rgba({r}, {g}, {b}, {alpha})\"\n",
    "    \n",
    "    return rgba_str"
   ],
   "metadata": {
    "collapsed": false
   },
   "id": "99bf90ac050242c5",
   "execution_count": null
  },
  {
   "cell_type": "code",
   "outputs": [],
   "source": [
    "def plot_scatter_with_confidence_bands(df, x, y, split_by, error_y_plus, error_y_minus, template=\"plotly_white\", height=600, width=800, colors=px.colors.qualitative.Plotly):\n",
    "    traces = []\n",
    "    \n",
    "    # Covert Colors\n",
    "    if colors[0][0] == \"#\":\n",
    "        colors = [f\"rgb{hex_to_rgb(color)}\" for color in colors]\n",
    "        \n",
    "    \n",
    "    # order by mean\n",
    "    \n",
    "    ordered_splits = df.groupby(split_by)[y].mean().sort_values().index.tolist()\n",
    "    print(ordered_splits)\n",
    "    for i, split in enumerate(ordered_splits):\n",
    "        # subset the dataframe by the split, which can be a tuple\n",
    "        if not isinstance(split, tuple):\n",
    "            subdf = df[df[split_by] == split]\n",
    "        else:\n",
    "            subdf = df[(df[split_by[0]] == split[0])&(df[split_by[1]] == split[1])]\n",
    "        # subdf = df[df[split_by] == split]\n",
    "        traces.append(go.Scatter(name=f\"{split}\",\n",
    "                                 x=subdf[x],\n",
    "                                 y=subdf[y],\n",
    "                                 mode='lines',\n",
    "                                 showlegend=True,\n",
    "                                 line_color=rgb_to_rgba(colors[i], 1),\n",
    "                                 ))\n",
    "        traces.append(go.Scatter(name=f\"{split}\",\n",
    "                                 x=subdf[x],\n",
    "                                 y=subdf[y] + subdf[error_y_plus],\n",
    "                                 mode='lines',\n",
    "                                 fillcolor=rgb_to_rgba(colors[i], 0.15),\n",
    "                                 line_width=0,\n",
    "                                 showlegend=False,\n",
    "                                 ))\n",
    "        traces.append(go.Scatter(name=f\"{split}\",\n",
    "                                 x=subdf[x],\n",
    "                                 y=subdf[y] - subdf[error_y_minus],\n",
    "                                 fill='tonexty',\n",
    "                                 mode='lines',\n",
    "                                fillcolor=rgb_to_rgba(colors[i], 0.15),\n",
    "                                 line_width=0,\n",
    "                                 showlegend=False, \n",
    "                                 ))\n",
    "    fig = go.Figure(traces)\n",
    "    fig.update_layout(template=template, height=height, width=width)\n",
    "    return fig"
   ],
   "metadata": {
    "collapsed": false
   },
   "id": "b8c475945d8cbb8c",
   "execution_count": null
  },
  {
   "cell_type": "code",
   "outputs": [],
   "source": [],
   "metadata": {
    "collapsed": false
   },
   "id": "8f6a87cf3790d5b1"
  },
  {
   "cell_type": "markdown",
   "source": [
    "found here - https://stackoverflow.com/questions/69587547/continuous-error-band-with-plotly-express-in-python"
   ],
   "metadata": {
    "collapsed": false
   },
   "id": "779306aec0e89e95"
  },
  {
   "cell_type": "code",
   "outputs": [],
   "source": [
    "def line(error_y_mode=None, override_color=None, **kwargs):\n",
    "        \"\"\"Extension of `plotly.express.line` to use error bands.\"\"\"\n",
    "        ERROR_MODES = {'bar', 'band', 'bars', 'bands', None}\n",
    "        if error_y_mode not in ERROR_MODES:\n",
    "            raise ValueError(f\"'error_y_mode' must be one of {ERROR_MODES}, received {repr(error_y_mode)}.\")\n",
    "        if error_y_mode in {'bar', 'bars', None}:\n",
    "            fig = px.line(**kwargs)\n",
    "        elif error_y_mode in {'band', 'bands'}:\n",
    "            if 'error_y' not in kwargs:\n",
    "                raise ValueError(f\"If you provide argument 'error_y_mode' you must also provide 'error_y'.\")\n",
    "            figure_with_error_bars = px.line(**kwargs)\n",
    "            fig = px.line(**{arg: val for arg, val in kwargs.items() if arg != 'error_y'})\n",
    "            for data in figure_with_error_bars.data:\n",
    "                x = list(data['x'])\n",
    "                y_upper = list(data['y'] + data['error_y']['array'])\n",
    "                y_lower = list(\n",
    "                    data['y'] - data['error_y']['array'] if data['error_y']['arrayminus'] is None else data['y'] -\n",
    "                                                                                                       data['error_y'][\n",
    "                                                                                                           'arrayminus'])\n",
    "                hex_color = data['line']['color'] if override_color is None else override_color\n",
    "                color = f\"rgba({tuple(int(hex_color.lstrip('#')[i:i + 2], 16) for i in (0, 2, 4))},.3)\".replace(\n",
    "                    '((', '(').replace('),', ',').replace(' ', '')\n",
    "                fig.add_trace(\n",
    "                    go.Scatter(\n",
    "                        x=x + x[::-1],\n",
    "                        y=y_upper + y_lower[::-1],\n",
    "                        fill='toself',\n",
    "                        fillcolor=color,\n",
    "                        # line=dict(\n",
    "                        #     color='rgba(255,255,255,1)',\n",
    "                        #     dash='dash'\n",
    "                        # ),\n",
    "                        line=dict(color=color,\n",
    "                                  dash=data['line']['dash'],\n",
    "                                  ),\n",
    "                        hoverinfo=\"skip\",\n",
    "                        showlegend=False,\n",
    "                        legendgroup=data['legendgroup'],\n",
    "                        xaxis=data['xaxis'],\n",
    "                        yaxis=data['yaxis'],\n",
    "                    )\n",
    "                )\n",
    "            # Reorder data as said here: https://stackoverflow.com/a/66854398/8849755\n",
    "            reordered_data = []\n",
    "            for i in range(int(len(fig.data) / 2)):\n",
    "                reordered_data.append(fig.data[i + int(len(fig.data) / 2)])\n",
    "                reordered_data.append(fig.data[i])\n",
    "            fig.data = tuple(reordered_data)\n",
    "        return fig"
   ],
   "metadata": {
    "collapsed": false
   },
   "id": "b30b65f20e870be7",
   "execution_count": null
  },
  {
   "cell_type": "code",
   "outputs": [],
   "source": [
    "fig = line(data_frame=results_df,\n",
    "           x=\"N_Per_Split\",\n",
    "           y=\"Fraction\",\n",
    "           color=\"Split\",\n",
    "           line_dash=\"Score\",\n",
    "           error_y=\"Error_Upper\",\n",
    "           error_y_minus=\"Error_Lower\",\n",
    "           error_y_mode=\"band\",\n",
    "           template=\"simple_white\",\n",
    "           # symbol=\"Score\", \n",
    "           height=600,\n",
    "           width=800,\n",
    "           log_x=True,\n",
    "           # color_discrete_sequence=px.colors.qualitative.Dark2,\n",
    "           labels=labels\n",
    "           )\n",
    "fig.update_layout(\n",
    "    font=dict(size=small_font,\n",
    "              family='Arial'\n",
    "              ),\n",
    "    legend=dict(title=\"<b> Dataset Split | Score Function </b>\",\n",
    "                x=0.4, y=0.1,\n",
    "                traceorder='reversed',\n",
    "                title_font_size=large_font,\n",
    "                font_color='black'),\n",
    "    **update_layout_dict)\n",
    "fig.update_yaxes(tickvals=np.arange(0, 1.1, 0.1))\n",
    "fig = update_traces(fig)\n",
    "fig.show()\n",
    "fig.write_image(figure_path / \"20250124_dataset_split_comparison.svg\")\n",
    "fig.write_image(figure_path / \"20250124_dataset_split_comparison.png\")"
   ],
   "metadata": {
    "collapsed": false
   },
   "id": "79664d6f3b7d27ae",
   "execution_count": null
  },
  {
   "cell_type": "code",
   "outputs": [],
   "source": [
    "fig.data"
   ],
   "metadata": {
    "collapsed": false
   },
   "id": "4908c3bb088e3fa3",
   "execution_count": null
  },
  {
   "cell_type": "code",
   "outputs": [],
   "source": [
    "orange = 'FF7F0E'\n",
    "blue = '1F77B4'"
   ],
   "metadata": {
    "collapsed": false
   },
   "id": "9bde58e6587d745",
   "execution_count": null
  },
  {
   "cell_type": "markdown",
   "source": [
    "## Two Figures"
   ],
   "metadata": {
    "collapsed": false
   },
   "id": "9834352238e46ec8"
  },
  {
   "cell_type": "code",
   "outputs": [],
   "source": [
    "fig = line(data_frame=results_df,\n",
    "           x=\"N_Per_Split\",\n",
    "           y=\"Fraction\",\n",
    "           color=\"Split\",\n",
    "           line_dash=\"Score\",\n",
    "           error_y=\"Error_Upper\",\n",
    "           error_y_minus=\"Error_Lower\",\n",
    "           error_y_mode=\"band\",\n",
    "           template=\"simple_white\",\n",
    "           facet_col=\"Split\",\n",
    "           # symbol=\"Score\", \n",
    "           height=600,\n",
    "           width=1600,\n",
    "           log_x=True,\n",
    "           # color_discrete_sequence=px.colors.qualitative.Dark2,\n",
    "           labels=labels\n",
    "           )\n",
    "fig.update_layout(\n",
    "    font=dict(size=small_font,\n",
    "              family='Arial'\n",
    "              ),\n",
    "    legend=dict(title=\"<b> Dataset Split | Score Function </b>\",\n",
    "                x=0.4, y=0.1,\n",
    "                traceorder='reversed',\n",
    "                title_font_size=large_font,\n",
    "                font_color='black'),\n",
    "    **update_layout_dict)\n",
    "fig = clean_labels(fig)\n",
    "fig.update_yaxes(tickvals=np.arange(0, 1.1, 0.1))\n",
    "fig = update_traces(fig)\n",
    "fig.show()\n",
    "fig.write_image(figure_path / \"20250124_dataset_split_comparison_split.svg\")\n",
    "fig.write_image(figure_path / \"20250124_dataset_split_comparison_split.png\")"
   ],
   "metadata": {
    "collapsed": false
   },
   "id": "5640da0358d2057f",
   "execution_count": null
  },
  {
   "cell_type": "markdown",
   "source": [
    "## randomly shuffled"
   ],
   "metadata": {
    "collapsed": false
   },
   "id": "ca852ee1c2b5d525"
  },
  {
   "cell_type": "code",
   "outputs": [],
   "source": [
    "results_df.Split.unique()"
   ],
   "metadata": {
    "collapsed": false
   },
   "id": "478dac043cfea57a",
   "execution_count": null
  },
  {
   "cell_type": "code",
   "outputs": [],
   "source": [
    "fig = line(data_frame=results_df[results_df.Split == \"RandomSplit\"],\n",
    "           x=\"N_Per_Split\",\n",
    "           y=\"Fraction\",\n",
    "           # color=\"Split\",\n",
    "           line_dash=\"Score\",\n",
    "           error_y=\"Error_Upper\",\n",
    "           error_y_minus=\"Error_Lower\",\n",
    "           error_y_mode=\"band\",\n",
    "           template=\"simple_white\",\n",
    "           # symbol=\"Score\", \n",
    "           height=600,\n",
    "           width=800,\n",
    "           log_x=True,\n",
    "           color_discrete_map = {'RandomSplit': blue, 'DateSplit': orange},\n",
    "           # color_discrete_sequence=px.colors.qualitative.Dark2,\n",
    "           labels=labels\n",
    "           )\n",
    "fig.update_layout(\n",
    "    font=dict(size=small_font,\n",
    "              family='Arial'\n",
    "              ),\n",
    "    legend=dict(title=\"<b> Score Function </b>\",\n",
    "                x=0.4, y=0.1,\n",
    "                traceorder='reversed',\n",
    "                title_font_size=large_font,\n",
    "                font_color='black'),\n",
    "    **update_layout_dict)\n",
    "fig.update_yaxes(tickvals=np.arange(0, 1.1, 0.1))\n",
    "fig = update_traces(fig)\n",
    "fig.show()\n",
    "fig.write_image(figure_path / \"20250124_dataset_split_comparison_random.svg\")\n",
    "fig.write_image(figure_path / \"20250124_dataset_split_comparison_random.png\")"
   ],
   "metadata": {
    "collapsed": false
   },
   "id": "7994bd7d22d8e9cc",
   "execution_count": null
  },
  {
   "cell_type": "code",
   "outputs": [],
   "source": [
    "fig = line(data_frame=results_df[results_df.Split == \"DateSplit\"],\n",
    "           x=\"N_Per_Split\",\n",
    "           y=\"Fraction\",\n",
    "           # color=\"Split\",\n",
    "           line_dash=\"Score\",\n",
    "           error_y=\"Error_Upper\",\n",
    "           error_y_minus=\"Error_Lower\",\n",
    "           error_y_mode=\"band\",\n",
    "           template=\"simple_white\",\n",
    "           # color='1F77B4',\n",
    "           color_discrete_map = {'RandomSplit': 'blue', 'DateSplit': 'red'},\n",
    "           # symbol=\"Score\", \n",
    "           height=600,\n",
    "           width=800,\n",
    "           log_x=True,\n",
    "           # color_discrete_sequence=px.colors.qualitative.Dark2,\n",
    "           labels=labels\n",
    "           )\n",
    "fig.update_layout(\n",
    "    font=dict(size=small_font,\n",
    "              family='Arial'\n",
    "              ),\n",
    "    legend=dict(title=\"<b> Score Function </b>\",\n",
    "                x=0.4, y=0.1,\n",
    "                traceorder='reversed',\n",
    "                title_font_size=large_font,\n",
    "                font_color='black'),\n",
    "    **update_layout_dict)\n",
    "fig.update_yaxes(tickvals=np.arange(0, 1.1, 0.1))\n",
    "fig = update_traces(fig)\n",
    "fig.show()\n",
    "fig.write_image(figure_path / \"20250124_dataset_split_comparison_date.svg\")\n",
    "fig.write_image(figure_path / \"20250124_dataset_split_comparison_date.png\")"
   ],
   "metadata": {
    "collapsed": false
   },
   "id": "d55e5007a9b870a",
   "execution_count": null
  },
  {
   "cell_type": "code",
   "outputs": [],
   "source": [],
   "metadata": {
    "collapsed": false
   },
   "id": "26d861ba4bbc9e4b"
  }
 ],
 "metadata": {
  "kernelspec": {
   "display_name": "Python 3",
   "language": "python",
   "name": "python3"
  },
  "language_info": {
   "codemirror_mode": {
    "name": "ipython",
    "version": 2
   },
   "file_extension": ".py",
   "mimetype": "text/x-python",
   "name": "python",
   "nbconvert_exporter": "python",
   "pygments_lexer": "ipython2",
   "version": "2.7.6"
  }
 },
 "nbformat": 4,
 "nbformat_minor": 5
}
