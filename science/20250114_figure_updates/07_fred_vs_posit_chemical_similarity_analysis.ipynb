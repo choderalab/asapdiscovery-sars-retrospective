{
 "cells": [
  {
   "cell_type": "code",
   "outputs": [],
   "source": [
    "# bc of pydantic discrepancies, need to run in harbor environment instead of asap2025"
   ],
   "metadata": {
    "collapsed": false
   },
   "id": "26c00096d560be85",
   "execution_count": null
  },
  {
   "cell_type": "markdown",
   "source": [
    "# Imports"
   ],
   "metadata": {
    "collapsed": false
   },
   "id": "19aee2db386d7eeb"
  },
  {
   "cell_type": "code",
   "outputs": [],
   "source": [
    "import numpy as np\n",
    "import pandas as pd\n",
    "import plotly.express as px\n",
    "from pathlib import Path\n",
    "import harbor.analysis.cross_docking as cd\n",
    "import multiprocessing as mp\n",
    "from pydantic import BaseModel\n",
    "import plotly.graph_objects as go"
   ],
   "metadata": {
    "collapsed": false
   },
   "id": "d781e22e657fd958",
   "execution_count": null
  },
  {
   "cell_type": "code",
   "outputs": [],
   "source": [
    "# load data\n",
    "fred_data = pd.read_csv('/Users/alexpayne/Scientific_Projects/mers-drug-discovery/sars2-retrospective-analysis/20250113_fred_docking/rmsd_csvs/20250122_combined_results_with_data.csv', index_col=0)\n",
    "posit_data = pd.read_csv(\"/Users/alexpayne/Scientific_Projects/mers-drug-discovery/sars2-retrospective-analysis/20240424_multi_pose_docking_cross_docking/results_csvs/20240503_combined_results_with_data.csv\", index_col=0)\n",
    "figure_path = Path(\"figures\")\n",
    "fred_data['Engine'] = 'FRED'\n",
    "posit_data['Engine'] = 'POSIT'\n",
    "results_df = pd.concat([fred_data, posit_data])"
   ],
   "metadata": {
    "collapsed": false
   },
   "id": "15288000fde0c4f9",
   "execution_count": null
  },
  {
   "cell_type": "code",
   "outputs": [],
   "source": [
    "fred_data_sp = fred_data.sort_values(['Pose_ID']).groupby(['Query_Ligand', 'Reference_Structure']).head(1)\n",
    "posit_data_sp = posit_data.sort_values(['Pose_ID']).groupby(['Query_Ligand', 'Reference_Structure']).head(1)"
   ],
   "metadata": {
    "collapsed": false
   },
   "id": "b36f0567d3cd588",
   "execution_count": null
  },
  {
   "cell_type": "code",
   "outputs": [],
   "source": [
    "n_per_splits = np.arange(1, 21)\n",
    "n_per_splits = np.concatenate((n_per_splits, np.arange(25, 206, 20)))"
   ],
   "metadata": {
    "collapsed": false
   },
   "id": "bbeb30a813fcdae7",
   "execution_count": null
  },
  {
   "cell_type": "code",
   "outputs": [],
   "source": [
    "class Results(BaseModel):\n",
    "    evaluator: cd.Evaluator\n",
    "    fraction_good: cd.FractionGood\n",
    "\n",
    "    def get_records(self) -> dict:\n",
    "        mydict = self.evaluator.get_records()\n",
    "        mydict.update(self.fraction_good.get_records())\n",
    "        return mydict\n",
    "\n",
    "    @classmethod\n",
    "    def calculate_result(cls, evaluator: cd.Evaluator, df: pd.DataFrame) -> \"Results\":\n",
    "        result = evaluator.run(df)\n",
    "        return cls(evaluator=evaluator, fraction_good=result)\n",
    "\n",
    "    @classmethod\n",
    "    def calculate_results(\n",
    "        cls, df: pd.DataFrame, evaluators: list[cd.Evaluator], cpus: int = 1\n",
    "    ) -> list[\"Results\"]:\n",
    "        with mp.Pool(cpus) as p:\n",
    "            return p.starmap(\n",
    "                cls.calculate_result,\n",
    "                [(evaluator, df) for evaluator in evaluators],\n",
    "            )\n",
    "\n",
    "    @classmethod\n",
    "    def df_from_results(cls, results: list[\"Results\"]) -> pd.DataFrame:\n",
    "        return pd.DataFrame.from_records([result.get_records() for result in results])"
   ],
   "metadata": {
    "collapsed": false
   },
   "id": "7370f9f5e412d179",
   "execution_count": null
  },
  {
   "cell_type": "code",
   "outputs": [],
   "source": [
    "evaluators = []\n",
    "# Set up pose selectors\n",
    "pose_selectors = [\n",
    "    cd.PoseSelector(name=\"Default\", variable=\"Pose_ID\", number_to_return=1)\n",
    "]\n",
    "# Set up dataset splits\n",
    "dataset_splits = []\n",
    "dataset_splits.extend(\n",
    "    [\n",
    "        cd.RandomSplit(\n",
    "            variable=\"Query_Ligand\",\n",
    "            n_splits=1,\n",
    "            n_per_split=-1,\n",
    "        )\n",
    "    ]\n",
    ")\n",
    "structure_choices = []\n",
    "structure_choices.extend(\n",
    "        [\n",
    "            cd.StructureChoice(\n",
    "                name=\"ECFP4_Similarity\",\n",
    "                variable=\"Tanimoto\",\n",
    "                higher_is_better=False,\n",
    "                number_to_return=n_per_split,\n",
    "            )\n",
    "            for n_per_split in n_per_splits\n",
    "        ]\n",
    "    )\n",
    "\n",
    "# Add scorers\n",
    "scorers = [\n",
    "    cd.Scorer(\n",
    "        name=\"POSIT_Probability\",\n",
    "        variable=\"docking-confidence-POSIT\",\n",
    "        number_to_return=1,\n",
    "    ),\n",
    "    cd.Scorer(\n",
    "        name=\"RMSD\", variable=\"RMSD\", higher_is_better=False, number_to_return=1\n",
    "    ),\n",
    "]\n",
    "rmsd_evaluator = cd.BinaryEvaluation(variable=\"RMSD\", cutoff=2)"
   ],
   "metadata": {
    "collapsed": false
   },
   "id": "de6f65cb66cb7835",
   "execution_count": null
  },
  {
   "cell_type": "code",
   "outputs": [],
   "source": [
    "for scorer in scorers:\n",
    "    for split in dataset_splits:\n",
    "        for selector in pose_selectors:\n",
    "            for structure_choice in structure_choices:\n",
    "                evaluators.append(\n",
    "                    cd.Evaluator(\n",
    "                        pose_selector=selector,\n",
    "                        dataset_split=split,\n",
    "                        structure_choice=structure_choice,\n",
    "                        scorer=scorer,\n",
    "                        evaluator=rmsd_evaluator,\n",
    "                        groupby=[\"Query_Ligand\"],\n",
    "                        n_bootstraps=(100),\n",
    "                    )\n",
    "                )"
   ],
   "metadata": {
    "collapsed": false
   },
   "id": "64dfedcb239fdf6e",
   "execution_count": null
  },
  {
   "cell_type": "code",
   "outputs": [],
   "source": [
    "results = []\n",
    "from tqdm import tqdm\n",
    "for evaluator in tqdm(evaluators):\n",
    "    results.append(Results.calculate_result(evaluator=evaluator, df=posit_data_sp))\n",
    "    results.append(Results.calculate_result(evaluator=evaluator, df=fred_data_sp))"
   ],
   "metadata": {
    "collapsed": false
   },
   "id": "a06076a691876921",
   "execution_count": null
  },
  {
   "cell_type": "code",
   "outputs": [],
   "source": [
    "# pull out every other result\n",
    "posit_results = results[::2]\n",
    "fred_results = results[1::2]"
   ],
   "metadata": {
    "collapsed": false
   },
   "id": "38ae41b32d8686fc",
   "execution_count": null
  },
  {
   "cell_type": "code",
   "outputs": [],
   "source": [
    "pr_df = Results.df_from_results(posit_results)\n",
    "fr_df = Results.df_from_results(fred_results)"
   ],
   "metadata": {
    "collapsed": false
   },
   "id": "ffc81aefe61f40a5",
   "execution_count": null
  },
  {
   "cell_type": "code",
   "outputs": [],
   "source": [
    "pr_df['Engine'] = 'POSIT'\n",
    "fr_df['Engine'] = 'FRED'"
   ],
   "metadata": {
    "collapsed": false
   },
   "id": "7b627b8b6d30770",
   "execution_count": null
  },
  {
   "cell_type": "code",
   "outputs": [],
   "source": [
    "results_df = pd.concat([pr_df, fr_df])"
   ],
   "metadata": {
    "collapsed": false
   },
   "id": "b55a14e3f7c580ea",
   "execution_count": null
  },
  {
   "cell_type": "code",
   "outputs": [],
   "source": [
    "results_df.N_Per_Split = results_df.N_Per_Split.astype(int)\n",
    "results_df.sort_values([\"Split\", \"Score\", \"PoseSelection\", \"StructureChoice\", \"StructureChoice_Choose_N\", \"N_Per_Split\"], inplace=True)\n",
    "results_df[\"Error_Lower\"] = results_df[\"Fraction\"] - results_df[\"CI_Lower\"]\n",
    "results_df[\"Error_Upper\"] = results_df[\"CI_Upper\"] - results_df[\"Fraction\"]"
   ],
   "metadata": {
    "collapsed": false
   },
   "id": "1fadb4c5223c21b6",
   "execution_count": null
  },
  {
   "cell_type": "code",
   "outputs": [],
   "source": [],
   "metadata": {
    "collapsed": false
   },
   "id": "2dd72bea8bc35e8"
  },
  {
   "cell_type": "markdown",
   "source": [
    "# Plotting Variables"
   ],
   "metadata": {
    "collapsed": false
   },
   "id": "5f0d863dc0d7138b"
  },
  {
   "cell_type": "code",
   "outputs": [],
   "source": [
    "large_font = 24\n",
    "small_font = 18 \n",
    "labels = {\"Fraction\": \"<b> Fraction of Poses Docked < 2Å from Reference </b>\",\n",
    "               \"N_Per_Split\": \"<b> Total Number of Reference Structures Available to Use </b>\",\n",
    "          \"Date\": \"Temporally Ordered\",\n",
    "                   \"Random\": \"Randomly Shuffled\"\n",
    "          }\n",
    "update_layout_dict = dict(xaxis=dict(title_font=dict(size=large_font), \n",
    "                            color='black', \n",
    "                            ),\n",
    "                  yaxis=dict(range=(0,1),  \n",
    "                      title_font=dict(size=large_font), \n",
    "                             color='black', \n",
    "                             ))"
   ],
   "metadata": {
    "collapsed": false
   },
   "id": "66acbe1f05c37ae4",
   "execution_count": null
  },
  {
   "cell_type": "code",
   "outputs": [],
   "source": [
    "def update_traces(fig):\n",
    "    for trace in fig.data:\n",
    "        if trace.name is None:\n",
    "            continue\n",
    "        trace.name = trace.name.replace(\"_\", \" \")\n",
    "        trace.name = trace.name.replace(\"Split\", \"\")\n",
    "        trace.name = trace.name.replace(\", \", \" | \")\n",
    "        trace.name = trace.name.replace(\"RMSD\", \"RMSD (Positive Control)\")\n",
    "        for k, v in labels.items():\n",
    "            trace.name = trace.name.replace(k, v)\n",
    "    return fig"
   ],
   "metadata": {
    "collapsed": false
   },
   "id": "cf0eeffc81bcb3c7",
   "execution_count": null
  },
  {
   "cell_type": "code",
   "outputs": [],
   "source": [
    "def hex_to_rgb(hex_color: str) -> tuple:\n",
    "    hex_color = hex_color.lstrip(\"#\")\n",
    "    if len(hex_color) == 3:\n",
    "        hex_color = hex_color * 2\n",
    "    return int(hex_color[0:2], 16), int(hex_color[2:4], 16), int(hex_color[4:6], 16)"
   ],
   "metadata": {
    "collapsed": false
   },
   "id": "d32fa534a973feee",
   "execution_count": null
  },
  {
   "cell_type": "code",
   "outputs": [],
   "source": [
    "def rgb_to_rgba(rgb_str, alpha):\n",
    "    # Split the RGB string into its components\n",
    "    rgb_values = rgb_str.strip('rgb()').split(',')\n",
    "    \n",
    "    # Extract individual RGB values and convert them to integers\n",
    "    r, g, b = map(int, rgb_values)\n",
    "    \n",
    "    # Construct the RGBA string\n",
    "    rgba_str = f\"rgba({r}, {g}, {b}, {alpha})\"\n",
    "    \n",
    "    return rgba_str"
   ],
   "metadata": {
    "collapsed": false
   },
   "id": "4ac72a3c0a642dba",
   "execution_count": null
  },
  {
   "cell_type": "code",
   "outputs": [],
   "source": [
    "def line(error_y_mode=None, **kwargs):\n",
    "    \"\"\"Extension of `plotly.express.line` to use error bands.\"\"\"\n",
    "    ERROR_MODES = {'bar','band','bars','bands',None}\n",
    "    if error_y_mode not in ERROR_MODES:\n",
    "        raise ValueError(f\"'error_y_mode' must be one of {ERROR_MODES}, received {repr(error_y_mode)}.\")\n",
    "    if error_y_mode in {'bar','bars',None}:\n",
    "        fig = px.line(**kwargs)\n",
    "    elif error_y_mode in {'band','bands'}:\n",
    "        if 'error_y' not in kwargs:\n",
    "            raise ValueError(f\"If you provide argument 'error_y_mode' you must also provide 'error_y'.\")\n",
    "        figure_with_error_bars = px.line(**kwargs)\n",
    "        fig = px.line(**{arg: val for arg,val in kwargs.items() if arg != 'error_y'})\n",
    "        for data in figure_with_error_bars.data:\n",
    "            x = list(data['x'])\n",
    "            y_upper = list(data['y'] + data['error_y']['array'])\n",
    "            y_lower = list(data['y'] - data['error_y']['array'] if data['error_y']['arrayminus'] is None else data['y'] - data['error_y']['arrayminus'])\n",
    "            color = f\"rgba({tuple(int(data['line']['color'].lstrip('#')[i:i+2], 16) for i in (0, 2, 4))},.3)\".replace('((','(').replace('),',',').replace(' ','')\n",
    "            fig.add_trace(\n",
    "                go.Scatter(\n",
    "                    x = x+x[::-1],\n",
    "                    y = y_upper+y_lower[::-1],\n",
    "                    fill = 'toself',\n",
    "                    fillcolor = color,\n",
    "                    line = dict(\n",
    "                        color = 'rgba(255,255,255,0)'\n",
    "                    ),\n",
    "                    hoverinfo = \"skip\",\n",
    "                    showlegend = False,\n",
    "                    legendgroup = data['legendgroup'],\n",
    "                    xaxis = data['xaxis'],\n",
    "                    yaxis = data['yaxis'],\n",
    "                )\n",
    "            )\n",
    "        # Reorder data as said here: https://stackoverflow.com/a/66854398/8849755\n",
    "        reordered_data = []\n",
    "        for i in range(int(len(fig.data)/2)):\n",
    "            reordered_data.append(fig.data[i+int(len(fig.data)/2)])\n",
    "            reordered_data.append(fig.data[i])\n",
    "        fig.data = tuple(reordered_data)\n",
    "    return fig"
   ],
   "metadata": {
    "collapsed": false
   },
   "id": "5d3bc5a7928c36a9",
   "execution_count": null
  },
  {
   "cell_type": "code",
   "outputs": [],
   "source": [
    "results_df"
   ],
   "metadata": {
    "collapsed": false
   },
   "id": "ee6565c9b5ac1ce2",
   "execution_count": null
  },
  {
   "cell_type": "code",
   "outputs": [],
   "source": [
    "fig = line(data_frame=results_df, \n",
    "              x=\"StructureChoice_Choose_N\", \n",
    "              y=\"Fraction\", \n",
    "              color=\"Score\",\n",
    "              line_dash=\"Split\",\n",
    "              error_y=\"Error_Upper\", \n",
    "              error_y_minus=\"Error_Lower\", \n",
    "           error_y_mode=\"band\",\n",
    "              template=\"simple_white\",\n",
    "           facet_col=\"Engine\",\n",
    "              # symbol=\"Score\", \n",
    "              height=600, \n",
    "              width=800,\n",
    "              log_x=True,\n",
    "              # color_discrete_sequence=px.colors.qualitative.Dark2,\n",
    "              labels = labels\n",
    "              )\n",
    "fig.update_layout(\n",
    "    font=dict(size=small_font, \n",
    "              family='Arial'\n",
    "              ),\n",
    "    legend=dict(title=\"<b> Score Function | Dataset Split </b>\", \n",
    "                              x=0.4, y=0.75, \n",
    "                              traceorder='reversed', \n",
    "                              title_font_size=large_font, \n",
    "                              font_color='black'),\n",
    "    **update_layout_dict)\n",
    "fig.update_yaxes(tickvals=np.arange(0, 1.1, 0.1)) \n",
    "fig = update_traces(fig)\n",
    "fig.show()\n",
    "fig.write_image(figure_path / \"20250207_chemical_similarity.svg\")\n",
    "fig.write_image(figure_path / \"20250207_chemical_similarity.png\")"
   ],
   "metadata": {
    "collapsed": false
   },
   "id": "cd07daa11db5ff67",
   "execution_count": null
  },
  {
   "cell_type": "code",
   "outputs": [],
   "source": [],
   "metadata": {
    "collapsed": false
   },
   "id": "e7b3a7f1bf4446d3"
  },
  {
   "cell_type": "code",
   "outputs": [],
   "source": [],
   "metadata": {
    "collapsed": false
   },
   "id": "28f9e3b85642c931"
  },
  {
   "cell_type": "code",
   "outputs": [],
   "source": [],
   "metadata": {
    "collapsed": false
   },
   "id": "98531baba59c39bf"
  },
  {
   "cell_type": "code",
   "outputs": [],
   "source": [],
   "metadata": {
    "collapsed": false
   },
   "id": "6e47ff29a1851e4c"
  }
 ],
 "metadata": {
  "kernelspec": {
   "display_name": "Python 3",
   "language": "python",
   "name": "python3"
  },
  "language_info": {
   "codemirror_mode": {
    "name": "ipython",
    "version": 2
   },
   "file_extension": ".py",
   "mimetype": "text/x-python",
   "name": "python",
   "nbconvert_exporter": "python",
   "pygments_lexer": "ipython2",
   "version": "2.7.6"
  }
 },
 "nbformat": 4,
 "nbformat_minor": 5
}
