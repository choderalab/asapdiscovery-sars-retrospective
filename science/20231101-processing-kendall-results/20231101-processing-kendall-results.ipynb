{
 "cells": [
  {
   "cell_type": "markdown",
   "id": "f88160f2-e5de-4806-b9e1-8ef48e10ea9d",
   "metadata": {},
   "source": [
    "# Import "
   ]
  },
  {
   "cell_type": "code",
   "execution_count": 97,
   "id": "6e886351-d7b0-4a77-b200-879bd0b47313",
   "metadata": {
    "tags": []
   },
   "outputs": [
    {
     "data": {
      "text/plain": [
       "<module 'software.analysis' from '/Users/alexpayne/Scientific_Projects/asapdiscovery-sars-retrospective/software/analysis.py'>"
      ]
     },
     "execution_count": 97,
     "metadata": {},
     "output_type": "execute_result"
    }
   ],
   "source": [
    "import pandas as pd\n",
    "from pathlib import Path\n",
    "import numpy as np\n",
    "import plotly.express as px\n",
    "from plotly.graph_objs import Figure\n",
    "from importlib import reload\n",
    "import software.analysis as a\n",
    "reload(a)"
   ]
  },
  {
   "cell_type": "markdown",
   "id": "0117792c-539c-4a44-9a69-3c0033aff245",
   "metadata": {},
   "source": [
    "# Load CSVs"
   ]
  },
  {
   "cell_type": "code",
   "execution_count": 2,
   "id": "6d16f279-0fe7-4f72-991e-e64aa88f5952",
   "metadata": {
    "tags": []
   },
   "outputs": [],
   "source": [
    "active_site_torsions = pd.read_csv(\"/Users/alexpayne/Scientific_Projects/mers-drug-discovery/sars2-retrospective-analysis/torsion_actst.csv\")"
   ]
  },
  {
   "cell_type": "code",
   "execution_count": 5,
   "id": "3452eed7-558a-44c5-a1ec-bf107db1ebba",
   "metadata": {
    "tags": []
   },
   "outputs": [
    {
     "data": {
      "text/plain": [
       "'[-0.21488283574581146, -0.7021403908729553, -0.9453724026679993, 0.41017937660217285, -2.5573437213897705, -2.594928503036499, -0.6006665229797363, -3.138399600982666, -3.1410694122314453, -2.3693289756774902, -1.2101986408233643, -0.4871918261051178, -1.2067476511001587, 2.2615983486175537, -3.105968952178955, -3.1409122943878174, -3.140967845916748, 3.1380319595336914, -0.8218186497688293, -1.0727018117904663, -0.36876994371414185, -0.5118576884269714, -0.7081678509712219, 1.3122137784957886, -1.912137746810913, -3.0031964778900146, -2.8186755180358887, 0.04907023534178734, 3.1144487857818604, -0.06571930646896362, 1.007720708847046, 1.0401407480239868, -1.0147669315338135, -0.531128466129303, -1.105394721031189, -2.5957882404327393, -1.3426345586776733, 2.880308151245117, -0.7133517265319824, 2.1653552055358887, -0.8408876061439514, -0.8431228399276733, -0.5974004864692688, -1.0537173748016357, -2.286526679992676, -1.1622872352600098, 0.11255794763565063, 0.11758086830377579, -0.40268078446388245, -0.2674335539340973, -0.7108575701713562, -0.35110849142074585, -1.2844674587249756, -0.20475809276103973, -0.6130772829055786, -0.6802483201026917, 1.284123420715332, -1.66995108127594, 3.0551962852478027, 3.1328699588775635, -3.117166519165039, 3.118265390396118, 0.1443704515695572, -1.4578185081481934, 0.5542983412742615, -0.8075166344642639, -0.5564386248588562, 2.126854419708252, -0.2888948917388916, -0.2232513576745987, 2.391406297683716, -1.7992572784423828, -3.1235058307647705, 0.5003911256790161, 1.2787898778915405, -0.5729339122772217, 2.207279682159424, -2.0354652404785156, 2.228717088699341, -3.1233627796173096, 3.138829469680786, -1.0460056066513062, 2.607483148574829, 0.6527764797210693, -2.2016568183898926, -2.5249502658843994, 2.8332393169403076, 0.910433828830719, -0.30892398953437805, -0.3858318626880646, -2.3905272483825684, 2.4491050243377686, 0.6687010526657104, 2.6527464389801025, 2.4426162242889404, -0.16941918432712555, 0.17414645850658417, -1.8929446935653687, 2.465437412261963, 0.7108263373374939, -2.089832067489624, -2.6210997104644775, 0.9031100869178772, -3.1394712924957275, 0.6885861754417419, 0.9085734486579895, -2.986814260482788, 3.049609899520874, -3.1257071495056152, -3.134455919265747, -1.9194780588150024, 3.030031681060791, 0.5330851674079895, -1.7223619222640991, 1.5192915201187134, 0.29511499404907227, -2.1089539527893066, -0.9136276841163635, -0.6027388572692871, 1.6329742670059204, -1.6101154088974, -0.9436164498329163, 1.0802680253982544, -3.0096845626831055, -0.03769253194332123, -0.2534481883049011, -0.7157719731330872, 1.751636266708374, 1.8190969228744507, -0.015264062210917473, 2.9156911373138428, -0.6805742383003235, -0.8410822749137878, -0.6001123785972595, -1.188731074333191, -1.950027346611023, -1.8377039432525635, 3.114330768585205, 0.1479714810848236, 2.4308266639709473, -0.9220559000968933, -0.9417302012443542, -0.5964911580085754, -1.2662400007247925, 3.0091216564178467, -0.7413497567176819, 0.7769203782081604, -1.2956392765045166, -0.8160405158996582, -0.6237233281135559, 1.7957130670547485, -2.96768856048584, 0.6428250670433044, -2.676923990249634, -0.9555971026420593, -1.2230960130691528, -0.44881439208984375, -1.3613927364349365, 0.6187074184417725, -2.164199113845825, 2.2975375652313232, 1.1029281616210938, -3.0820424556732178, -3.0907504558563232, -1.704721212387085, 2.9342048168182373, 0.5420141816139221, -2.8410820960998535, -1.4802995920181274, 1.071663498878479, 1.9959949254989624, -2.6597304344177246, -0.7650503516197205, -0.6458533406257629, 1.6541895866394043, -2.8460147380828857, 0.7232876420021057, -2.757990598678589, -0.8851527571678162, -0.9545201659202576, -0.5601728558540344, 1.2775607109069824, -2.6680586338043213, 0.8278738260269165, -2.913939952850342, -1.3172262907028198, 0.08531992882490158, -0.6414179801940918, -2.4217607975006104, 0.7346469759941101, 2.137627124786377, -1.0146770477294922, -0.8008610010147095, 0.09378619492053986, -0.588193416595459, -0.6893618702888489, 1.9607564210891724, -2.1586852073669434, 3.0882112979888916, -0.24900038540363312, 2.438110589981079, -1.3706876039505005, -0.36757373809814453, 3.12477707862854, 3.1178433895111084, -1.9788638353347778, -1.1131970882415771, -0.48630625009536743, -1.4405689239501953, 2.1973698139190674, 2.1399190425872803, 0.15876390039920807, 2.2688422203063965, -0.6892543435096741, -1.257723093032837, -0.4374763071537018, -1.6254535913467407, 1.4808109998703003, 2.9914355278015137, 3.049513578414917, 3.11492919921875, 0.00579132279381156, -3.141329288482666, -3.1082828044891357, 3.1190855503082275, -0.37098875641822815, -2.0523135662078857, -1.2161316871643066, -0.9597657918930054, -0.5539177060127258, 1.674885869026184, 2.016042470932007, 2.1764798164367676, -0.6613293886184692, -1.1834436655044556, 2.516641616821289, 0.7388321757316589, -0.2065228670835495, 2.835261106491089, -0.9375391006469727, -3.1306114196777344, -0.008942047134041786, 3.021705389022827, 0.5457618236541748, -2.6572046279907227, 0.2601635754108429, 1.7949937582015991, -1.1938693523406982, -3.129870891571045, -0.6420711874961853, -1.7149715423583984, -2.912097930908203, -0.7012796998023987, -0.6626996397972107, -1.1379404067993164, 2.9659247398376465, -0.7369478940963745, 0.5912425518035889, -0.7888460159301758, -0.9423157572746277, -0.572020947933197, -1.3582372665405273, 2.9919817447662354, -0.7888345718383789, 0.5478273630142212, -0.8917915225028992, -0.8235578536987305, -0.6146373152732849, 1.8440918922424316, 0.5326408743858337, -3.1297881603240967, 3.131653070449829, 3.1223208904266357, 3.1252923011779785, 3.1230499744415283, 1.178867220878601, -0.1876857578754425, -1.8256652355194092, -0.25503289699554443, -0.6847662329673767, -2.3361616134643555, 0.6214641332626343, 3.1337602138519287, -0.042665936052799225, -0.7008973360061646, -0.6078646183013916, 2.2498250007629395, -0.3476388454437256, -0.14776015281677246, 2.181488275527954, -1.251202940940857, 2.823279857635498, 0.5845819115638733, 1.34537672996521, 2.2865049839019775, 2.990281343460083, 3.045567035675049, -0.013570519164204597, -3.107961416244507, 0.20700740814208984, 2.165623426437378, -2.7754406929016113, 3.0633528232574463, 0.47771841287612915, 1.4896786212921143]'"
      ]
     },
     "execution_count": 5,
     "metadata": {},
     "output_type": "execute_result"
    }
   ],
   "source": [
    "active_site_torsions.Torsion_0[0]"
   ]
  },
  {
   "cell_type": "code",
   "execution_count": 6,
   "id": "7ec64bdf-aefe-445c-829b-7f8a8e4b8162",
   "metadata": {
    "tags": []
   },
   "outputs": [],
   "source": [
    "active_site_sasa = pd.read_csv(\"/Users/alexpayne/Scientific_Projects/mers-drug-discovery/sars2-retrospective-analysis/summation_matrix(1).csv\")"
   ]
  },
  {
   "cell_type": "code",
   "execution_count": 18,
   "id": "19de4ac0-ff2e-48a9-9836-79b8db074b46",
   "metadata": {
    "tags": []
   },
   "outputs": [
    {
     "data": {
      "text/plain": [
       "'/Users/kendalllemons/Downloads/asap-datasets/full_frag_prepped_mpro_20230603/prepped_structures/splits/refined/Mpro-P2201_0B_PET-UNK-d899bab6-1-prepped_protein_active_site.pdb'"
      ]
     },
     "execution_count": 18,
     "metadata": {},
     "output_type": "execute_result"
    }
   ],
   "source": [
    "active_site_sasa.iloc[4,0]"
   ]
  },
  {
   "cell_type": "code",
   "execution_count": 31,
   "id": "164aa86e-d239-42a2-a916-c63a8716ed04",
   "metadata": {
    "tags": []
   },
   "outputs": [
    {
     "data": {
      "text/plain": [
       "Complex_File    /Users/kendalllemons/Downloads/asap-datasets/f...\n",
       "Summation                                              147.578023\n",
       "Name: 0, dtype: object"
      ]
     },
     "execution_count": 31,
     "metadata": {},
     "output_type": "execute_result"
    }
   ],
   "source": [
    "active_site_sasa.iloc[0, :]"
   ]
  },
  {
   "cell_type": "code",
   "execution_count": 20,
   "id": "eda91a79-d908-4c91-9baf-5172690ed4d3",
   "metadata": {
    "tags": []
   },
   "outputs": [],
   "source": [
    "full_sasa = pd.read_csv(\"/Users/alexpayne/Scientific_Projects/mers-drug-discovery/sars2-retrospective-analysis/sasa_data.csv\")"
   ]
  },
  {
   "cell_type": "code",
   "execution_count": 24,
   "id": "547e030b-b55d-4c0e-a244-a3ef6c5f88e5",
   "metadata": {
    "tags": []
   },
   "outputs": [
    {
     "data": {
      "text/plain": [
       "0      147.578023\n",
       "1      145.006389\n",
       "2      144.659330\n",
       "3       29.294029\n",
       "4       29.752665\n",
       "          ...    \n",
       "431    147.916719\n",
       "432    148.704412\n",
       "433    146.508971\n",
       "434     29.984808\n",
       "435     29.359516\n",
       "Length: 436, dtype: float64"
      ]
     },
     "execution_count": 24,
     "metadata": {},
     "output_type": "execute_result"
    }
   ],
   "source": [
    "full_sasa.sum(numeric_only=True, axis=1)"
   ]
  },
  {
   "cell_type": "code",
   "execution_count": 74,
   "id": "d19e69b5-b314-45bc-9e00-373f080ef6ba",
   "metadata": {
    "tags": []
   },
   "outputs": [
    {
     "data": {
      "text/html": [
       "<div>\n",
       "<style scoped>\n",
       "    .dataframe tbody tr th:only-of-type {\n",
       "        vertical-align: middle;\n",
       "    }\n",
       "\n",
       "    .dataframe tbody tr th {\n",
       "        vertical-align: top;\n",
       "    }\n",
       "\n",
       "    .dataframe thead th {\n",
       "        text-align: right;\n",
       "    }\n",
       "</style>\n",
       "<table border=\"1\" class=\"dataframe\">\n",
       "  <thead>\n",
       "    <tr style=\"text-align: right;\">\n",
       "      <th></th>\n",
       "      <th>SASA (nm^2)</th>\n",
       "      <th>Structure_Name</th>\n",
       "    </tr>\n",
       "  </thead>\n",
       "  <tbody>\n",
       "    <tr>\n",
       "      <th>0</th>\n",
       "      <td>29.294029</td>\n",
       "      <td>Mpro-P0906</td>\n",
       "    </tr>\n",
       "    <tr>\n",
       "      <th>1</th>\n",
       "      <td>29.752665</td>\n",
       "      <td>Mpro-P2201</td>\n",
       "    </tr>\n",
       "    <tr>\n",
       "      <th>2</th>\n",
       "      <td>29.491965</td>\n",
       "      <td>Mpro-P0154</td>\n",
       "    </tr>\n",
       "    <tr>\n",
       "      <th>3</th>\n",
       "      <td>29.440856</td>\n",
       "      <td>Mpro-P0157</td>\n",
       "    </tr>\n",
       "    <tr>\n",
       "      <th>4</th>\n",
       "      <td>30.117635</td>\n",
       "      <td>Mpro-P0053</td>\n",
       "    </tr>\n",
       "    <tr>\n",
       "      <th>...</th>\n",
       "      <td>...</td>\n",
       "      <td>...</td>\n",
       "    </tr>\n",
       "    <tr>\n",
       "      <th>213</th>\n",
       "      <td>29.421417</td>\n",
       "      <td>Mpro-P0661</td>\n",
       "    </tr>\n",
       "    <tr>\n",
       "      <th>214</th>\n",
       "      <td>29.921860</td>\n",
       "      <td>Mpro-P2724</td>\n",
       "    </tr>\n",
       "    <tr>\n",
       "      <th>215</th>\n",
       "      <td>29.428685</td>\n",
       "      <td>Mpro-P0800</td>\n",
       "    </tr>\n",
       "    <tr>\n",
       "      <th>216</th>\n",
       "      <td>29.984808</td>\n",
       "      <td>Mpro-P1980</td>\n",
       "    </tr>\n",
       "    <tr>\n",
       "      <th>217</th>\n",
       "      <td>29.359516</td>\n",
       "      <td>Mpro-P0121</td>\n",
       "    </tr>\n",
       "  </tbody>\n",
       "</table>\n",
       "<p>218 rows × 2 columns</p>\n",
       "</div>"
      ],
      "text/plain": [
       "     SASA (nm^2) Structure_Name\n",
       "0      29.294029     Mpro-P0906\n",
       "1      29.752665     Mpro-P2201\n",
       "2      29.491965     Mpro-P0154\n",
       "3      29.440856     Mpro-P0157\n",
       "4      30.117635     Mpro-P0053\n",
       "..           ...            ...\n",
       "213    29.421417     Mpro-P0661\n",
       "214    29.921860     Mpro-P2724\n",
       "215    29.428685     Mpro-P0800\n",
       "216    29.984808     Mpro-P1980\n",
       "217    29.359516     Mpro-P0121\n",
       "\n",
       "[218 rows x 2 columns]"
      ]
     },
     "execution_count": 74,
     "metadata": {},
     "output_type": "execute_result"
    }
   ],
   "source": [
    "sasa_v2 = pd.read_csv(\"/Users/alexpayne/Scientific_Projects/mers-drug-discovery/sars2-retrospective-analysis/summation_matrix(2).csv\")\n",
    "sasa_v2[\"Structure_Source\"] = sasa_v2.Complex_File.apply(lambda x: Path(x).name.split(\"-prepped\")[0].split(\"_0\")[0])\n",
    "sasa_v2_edited = sasa_v2.drop(columns=[\"Complex_File\"])\n",
    "sasa_v2_edited.columns = [\"SASA (nm^2)\", \"Structure_Name\"]\n",
    "sasa_v2_edited"
   ]
  },
  {
   "cell_type": "markdown",
   "id": "69b7a9cc-b4cc-4723-bd66-3bfe33f40032",
   "metadata": {},
   "source": [
    "## load docking results"
   ]
  },
  {
   "cell_type": "code",
   "execution_count": 75,
   "id": "b4d4d556-33ff-4f61-824e-7308e0a3466a",
   "metadata": {
    "tags": []
   },
   "outputs": [],
   "source": [
    "df = pd.read_csv(\"/Users/alexpayne/Scientific_Projects/mers-drug-discovery/sars2-retrospective-analysis/20230611-combined.csv\", index_col=0)"
   ]
  },
  {
   "cell_type": "code",
   "execution_count": 76,
   "id": "e09e996a-5e16-4e74-9e94-c9156489f563",
   "metadata": {
    "tags": []
   },
   "outputs": [
    {
     "data": {
      "text/plain": [
       "0        Mpro-P2075\n",
       "1        Mpro-P2075\n",
       "2        Mpro-P2075\n",
       "3        Mpro-P2075\n",
       "4        Mpro-P2075\n",
       "            ...    \n",
       "84493    Mpro-P0121\n",
       "84494    Mpro-P0121\n",
       "84495    Mpro-P0121\n",
       "84496    Mpro-P0121\n",
       "84497    Mpro-P0121\n",
       "Name: Structure_Name, Length: 84498, dtype: object"
      ]
     },
     "execution_count": 76,
     "metadata": {},
     "output_type": "execute_result"
    }
   ],
   "source": [
    "df.Structure_Name"
   ]
  },
  {
   "cell_type": "code",
   "execution_count": 78,
   "id": "7a743fdb-0d99-4f7e-8f1f-f34abb2ddcf4",
   "metadata": {
    "tags": []
   },
   "outputs": [],
   "source": [
    "df_sasa = pd.merge(df, sasa_v2_edited, on=\"Structure_Name\", how=\"outer\")"
   ]
  },
  {
   "cell_type": "code",
   "execution_count": 150,
   "id": "2f6ec313-1b0d-4282-aaeb-a23bcf93926f",
   "metadata": {
    "tags": []
   },
   "outputs": [],
   "source": [
    "df=df_sasa"
   ]
  },
  {
   "cell_type": "markdown",
   "id": "e74fc80e-025e-4464-9586-da9ec9474c40",
   "metadata": {},
   "source": [
    "# Overall Analysis"
   ]
  },
  {
   "cell_type": "code",
   "execution_count": 151,
   "id": "f0e64cbd-625b-4ce0-9ee5-196928fc093c",
   "metadata": {
    "tags": []
   },
   "outputs": [
    {
     "data": {
      "text/html": [
       "<div>\n",
       "<style scoped>\n",
       "    .dataframe tbody tr th:only-of-type {\n",
       "        vertical-align: middle;\n",
       "    }\n",
       "\n",
       "    .dataframe tbody tr th {\n",
       "        vertical-align: top;\n",
       "    }\n",
       "\n",
       "    .dataframe thead th {\n",
       "        text-align: right;\n",
       "    }\n",
       "</style>\n",
       "<table border=\"1\" class=\"dataframe\">\n",
       "  <thead>\n",
       "    <tr style=\"text-align: right;\">\n",
       "      <th></th>\n",
       "      <th>Complex_ID</th>\n",
       "      <th>Compound_ID</th>\n",
       "      <th>Structure_Source</th>\n",
       "    </tr>\n",
       "    <tr>\n",
       "      <th>Version</th>\n",
       "      <th></th>\n",
       "      <th></th>\n",
       "      <th></th>\n",
       "    </tr>\n",
       "  </thead>\n",
       "  <tbody>\n",
       "    <tr>\n",
       "      <th>All</th>\n",
       "      <td>46866</td>\n",
       "      <td>214</td>\n",
       "      <td>219</td>\n",
       "    </tr>\n",
       "    <tr>\n",
       "      <th>Hybrid-Only</th>\n",
       "      <td>37632</td>\n",
       "      <td>207</td>\n",
       "      <td>213</td>\n",
       "    </tr>\n",
       "  </tbody>\n",
       "</table>\n",
       "</div>"
      ],
      "text/plain": [
       "             Complex_ID  Compound_ID  Structure_Source\n",
       "Version                                               \n",
       "All               46866          214               219\n",
       "Hybrid-Only       37632          207               213"
      ]
     },
     "execution_count": 151,
     "metadata": {},
     "output_type": "execute_result"
    }
   ],
   "source": [
    "df.groupby(\"Version\").nunique()[[\"Complex_ID\", \"Compound_ID\", \"Structure_Source\"]]"
   ]
  },
  {
   "cell_type": "markdown",
   "id": "75513c74-869c-4475-8a14-067738915af3",
   "metadata": {},
   "source": [
    "# Drop self docking results and results with diff compounds"
   ]
  },
  {
   "cell_type": "markdown",
   "id": "fa0c28a6-bedd-4105-9269-d8bb8fadc52b",
   "metadata": {},
   "source": [
    "# filter by hybrid-only ones"
   ]
  },
  {
   "cell_type": "code",
   "execution_count": 152,
   "id": "c4fea02f-e629-4ded-a1ab-4354391c43c5",
   "metadata": {
    "tags": []
   },
   "outputs": [],
   "source": [
    "cmpds = df[df[\"Version\"] == \"Hybrid-Only\"].Compound_ID.unique()"
   ]
  },
  {
   "cell_type": "code",
   "execution_count": 153,
   "id": "b44d1b56-65ee-4a4c-9836-09bc97c6213b",
   "metadata": {
    "tags": []
   },
   "outputs": [],
   "source": [
    "clean = df[df.Compound_ID.isin(cmpds)]"
   ]
  },
  {
   "cell_type": "code",
   "execution_count": 154,
   "id": "7a3ad445-266e-432f-98e7-1d45c23d56a3",
   "metadata": {
    "tags": []
   },
   "outputs": [],
   "source": [
    "structures = clean[clean[\"Version\"] == \"Hybrid-Only\"].Structure_Source.unique()"
   ]
  },
  {
   "cell_type": "code",
   "execution_count": 155,
   "id": "f66b085a-68c9-4698-b193-619e2db001e3",
   "metadata": {
    "tags": []
   },
   "outputs": [],
   "source": [
    "clean = clean[clean.Structure_Source.isin(structures)]"
   ]
  },
  {
   "cell_type": "markdown",
   "id": "5581cf14-a5f6-4058-b83f-c60c33f46616",
   "metadata": {},
   "source": [
    "## remove self-docked"
   ]
  },
  {
   "cell_type": "code",
   "execution_count": 156,
   "id": "ad8cfb91-a944-42f7-9953-055923cfb9ab",
   "metadata": {
    "tags": []
   },
   "outputs": [],
   "source": [
    "clean = clean[clean.Compound_ID != clean.Reference_Ligand]"
   ]
  },
  {
   "cell_type": "code",
   "execution_count": 157,
   "id": "2d191982-20b1-446a-98d1-30b8bdf47b98",
   "metadata": {
    "tags": []
   },
   "outputs": [
    {
     "data": {
      "text/html": [
       "<div>\n",
       "<style scoped>\n",
       "    .dataframe tbody tr th:only-of-type {\n",
       "        vertical-align: middle;\n",
       "    }\n",
       "\n",
       "    .dataframe tbody tr th {\n",
       "        vertical-align: top;\n",
       "    }\n",
       "\n",
       "    .dataframe thead th {\n",
       "        text-align: right;\n",
       "    }\n",
       "</style>\n",
       "<table border=\"1\" class=\"dataframe\">\n",
       "  <thead>\n",
       "    <tr style=\"text-align: right;\">\n",
       "      <th></th>\n",
       "      <th>Docked_File</th>\n",
       "      <th>RMSD</th>\n",
       "      <th>POSIT</th>\n",
       "      <th>POSIT_Method</th>\n",
       "      <th>Chemgauss4</th>\n",
       "      <th>Clash</th>\n",
       "      <th>POSIT_R</th>\n",
       "      <th>Complex_ID</th>\n",
       "      <th>Compound_ID</th>\n",
       "      <th>Structure_Source</th>\n",
       "      <th>...</th>\n",
       "      <th>GAT_Score</th>\n",
       "      <th>Structure_Path</th>\n",
       "      <th>Compound_Source</th>\n",
       "      <th>Structure_Name</th>\n",
       "      <th>Data_Collection_Date</th>\n",
       "      <th>Structure_Date</th>\n",
       "      <th>SCHNET_score</th>\n",
       "      <th>Reference_Ligand</th>\n",
       "      <th>TanimotoCombo</th>\n",
       "      <th>SASA (nm^2)</th>\n",
       "    </tr>\n",
       "    <tr>\n",
       "      <th>Version</th>\n",
       "      <th></th>\n",
       "      <th></th>\n",
       "      <th></th>\n",
       "      <th></th>\n",
       "      <th></th>\n",
       "      <th></th>\n",
       "      <th></th>\n",
       "      <th></th>\n",
       "      <th></th>\n",
       "      <th></th>\n",
       "      <th></th>\n",
       "      <th></th>\n",
       "      <th></th>\n",
       "      <th></th>\n",
       "      <th></th>\n",
       "      <th></th>\n",
       "      <th></th>\n",
       "      <th></th>\n",
       "      <th></th>\n",
       "      <th></th>\n",
       "      <th></th>\n",
       "    </tr>\n",
       "  </thead>\n",
       "  <tbody>\n",
       "    <tr>\n",
       "      <th>All</th>\n",
       "      <td>43884</td>\n",
       "      <td>43884</td>\n",
       "      <td>28</td>\n",
       "      <td>3</td>\n",
       "      <td>40633</td>\n",
       "      <td>2</td>\n",
       "      <td>28</td>\n",
       "      <td>43884</td>\n",
       "      <td>207</td>\n",
       "      <td>213</td>\n",
       "      <td>...</td>\n",
       "      <td>0</td>\n",
       "      <td>213</td>\n",
       "      <td>207</td>\n",
       "      <td>213</td>\n",
       "      <td>211</td>\n",
       "      <td>33</td>\n",
       "      <td>0</td>\n",
       "      <td>213</td>\n",
       "      <td>43759</td>\n",
       "      <td>211</td>\n",
       "    </tr>\n",
       "    <tr>\n",
       "      <th>Hybrid-Only</th>\n",
       "      <td>37482</td>\n",
       "      <td>37482</td>\n",
       "      <td>22</td>\n",
       "      <td>1</td>\n",
       "      <td>35490</td>\n",
       "      <td>2</td>\n",
       "      <td>22</td>\n",
       "      <td>37482</td>\n",
       "      <td>207</td>\n",
       "      <td>213</td>\n",
       "      <td>...</td>\n",
       "      <td>0</td>\n",
       "      <td>213</td>\n",
       "      <td>207</td>\n",
       "      <td>213</td>\n",
       "      <td>211</td>\n",
       "      <td>33</td>\n",
       "      <td>0</td>\n",
       "      <td>213</td>\n",
       "      <td>37390</td>\n",
       "      <td>211</td>\n",
       "    </tr>\n",
       "  </tbody>\n",
       "</table>\n",
       "<p>2 rows × 22 columns</p>\n",
       "</div>"
      ],
      "text/plain": [
       "             Docked_File   RMSD  POSIT  POSIT_Method  Chemgauss4  Clash  \\\n",
       "Version                                                                   \n",
       "All                43884  43884     28             3       40633      2   \n",
       "Hybrid-Only        37482  37482     22             1       35490      2   \n",
       "\n",
       "             POSIT_R  Complex_ID  Compound_ID  Structure_Source  ...  \\\n",
       "Version                                                          ...   \n",
       "All               28       43884          207               213  ...   \n",
       "Hybrid-Only       22       37482          207               213  ...   \n",
       "\n",
       "             GAT_Score  Structure_Path  Compound_Source  Structure_Name  \\\n",
       "Version                                                                   \n",
       "All                  0             213              207             213   \n",
       "Hybrid-Only          0             213              207             213   \n",
       "\n",
       "             Data_Collection_Date  Structure_Date  SCHNET_score  \\\n",
       "Version                                                           \n",
       "All                           211              33             0   \n",
       "Hybrid-Only                   211              33             0   \n",
       "\n",
       "             Reference_Ligand  TanimotoCombo  SASA (nm^2)  \n",
       "Version                                                    \n",
       "All                       213          43759          211  \n",
       "Hybrid-Only               213          37390          211  \n",
       "\n",
       "[2 rows x 22 columns]"
      ]
     },
     "execution_count": 157,
     "metadata": {},
     "output_type": "execute_result"
    }
   ],
   "source": [
    "clean.groupby(\"Version\").nunique()"
   ]
  },
  {
   "cell_type": "markdown",
   "id": "13c58477-8b86-47f0-ab85-0ba8187432b3",
   "metadata": {},
   "source": [
    "## remove failed hybrid-only ones"
   ]
  },
  {
   "cell_type": "code",
   "execution_count": 158,
   "id": "3a8f8b46-5fc2-4a2b-9442-2a93b0dcfda6",
   "metadata": {
    "tags": []
   },
   "outputs": [],
   "source": [
    "ref_ligs = clean[clean[\"Version\"] == \"Hybrid-Only\"].Reference_Ligand.unique()"
   ]
  },
  {
   "cell_type": "code",
   "execution_count": 159,
   "id": "03118488-87aa-41e4-8650-7137258fa247",
   "metadata": {
    "tags": []
   },
   "outputs": [
    {
     "data": {
      "text/plain": [
       "207"
      ]
     },
     "execution_count": 159,
     "metadata": {},
     "output_type": "execute_result"
    }
   ],
   "source": [
    "len(np.intersect1d(ref_ligs, cmpds))"
   ]
  },
  {
   "cell_type": "code",
   "execution_count": 160,
   "id": "910ac499-bba7-4063-b06f-4f70ba2f3e5d",
   "metadata": {
    "tags": []
   },
   "outputs": [],
   "source": [
    "n_successfully_docked =clean.groupby(\"Compound_ID\").nunique().Docked_File"
   ]
  },
  {
   "cell_type": "code",
   "execution_count": 161,
   "id": "aac1e90d-169b-4093-9860-0d3753288d2b",
   "metadata": {
    "tags": []
   },
   "outputs": [
    {
     "data": {
      "application/vnd.plotly.v1+json": {
       "config": {
        "plotlyServerURL": "https://plot.ly"
       },
       "data": [
        {
         "alignmentgroup": "True",
         "bingroup": "x",
         "hovertemplate": "variable=Docked_File<br>value=%{x}<br>count=%{y}<extra></extra>",
         "legendgroup": "Docked_File",
         "marker": {
          "color": "#636efa",
          "pattern": {
           "shape": ""
          }
         },
         "name": "Docked_File",
         "offsetgroup": "Docked_File",
         "orientation": "v",
         "showlegend": true,
         "type": "histogram",
         "x": [
          212,
          212,
          206.5,
          201.5,
          212,
          204,
          195.5,
          212,
          195,
          178.5,
          212,
          201.5,
          197.5,
          188.5,
          212,
          204.5,
          153.5,
          205,
          212,
          202.5,
          212,
          192,
          207,
          192,
          212,
          188,
          197,
          198,
          212,
          212,
          212,
          212,
          178,
          194.5,
          206.5,
          199.5,
          211.5,
          190,
          184,
          199.5,
          208,
          155,
          202.5,
          201,
          212,
          183.5,
          182,
          212,
          191.5,
          184,
          183.5,
          171.5,
          175,
          208.5,
          190,
          170.5,
          179.5,
          197,
          192,
          205.5,
          198,
          179.5,
          198.5,
          194.5,
          183,
          160,
          184,
          155,
          175.5,
          208.5,
          181.5,
          212,
          196.5,
          206,
          184,
          197,
          176.5,
          186.5,
          212,
          212,
          211.5,
          205.5,
          203.5,
          210,
          210.5,
          194,
          176.5,
          188,
          193,
          180.5,
          196,
          202,
          186.5,
          200.5,
          193,
          167,
          212,
          175,
          187.5,
          196,
          171.5,
          199,
          168,
          173.5,
          192.5,
          156,
          171,
          212,
          153,
          166.5,
          168,
          177,
          212,
          211,
          179.5,
          201.5,
          208.5,
          209.5,
          193,
          208.5,
          211.5,
          212,
          205,
          210.5,
          192.5,
          204.5,
          212,
          204,
          197,
          201.5,
          203,
          212,
          195.5,
          184.5,
          205.5,
          205,
          204,
          206,
          168,
          199,
          212,
          210,
          195,
          212,
          183.5,
          212,
          197.5,
          204.5,
          198,
          165.5,
          167,
          155,
          156,
          159.5,
          190,
          172,
          170.5,
          190.5,
          200,
          200,
          212,
          186.5,
          199.5,
          204,
          211,
          212,
          209,
          212,
          206.5,
          194,
          209,
          177.5,
          209.5,
          203,
          204.5,
          207,
          210,
          212,
          210.5,
          209.5,
          206,
          209.5,
          200.5,
          202.5,
          212,
          212,
          209,
          205.5,
          212,
          212,
          209.5,
          211.5,
          212,
          209.5,
          212,
          194,
          185,
          192.5,
          200.5,
          211,
          200.5,
          212,
          208.5,
          206,
          203.5,
          187,
          212
         ],
         "xaxis": "x",
         "yaxis": "y"
        }
       ],
       "layout": {
        "autosize": true,
        "barmode": "relative",
        "legend": {
         "title": {
          "text": "variable"
         },
         "tracegroupgap": 0
        },
        "margin": {
         "t": 60
        },
        "template": {
         "data": {
          "bar": [
           {
            "error_x": {
             "color": "#2a3f5f"
            },
            "error_y": {
             "color": "#2a3f5f"
            },
            "marker": {
             "line": {
              "color": "#E5ECF6",
              "width": 0.5
             },
             "pattern": {
              "fillmode": "overlay",
              "size": 10,
              "solidity": 0.2
             }
            },
            "type": "bar"
           }
          ],
          "barpolar": [
           {
            "marker": {
             "line": {
              "color": "#E5ECF6",
              "width": 0.5
             },
             "pattern": {
              "fillmode": "overlay",
              "size": 10,
              "solidity": 0.2
             }
            },
            "type": "barpolar"
           }
          ],
          "carpet": [
           {
            "aaxis": {
             "endlinecolor": "#2a3f5f",
             "gridcolor": "white",
             "linecolor": "white",
             "minorgridcolor": "white",
             "startlinecolor": "#2a3f5f"
            },
            "baxis": {
             "endlinecolor": "#2a3f5f",
             "gridcolor": "white",
             "linecolor": "white",
             "minorgridcolor": "white",
             "startlinecolor": "#2a3f5f"
            },
            "type": "carpet"
           }
          ],
          "choropleth": [
           {
            "colorbar": {
             "outlinewidth": 0,
             "ticks": ""
            },
            "type": "choropleth"
           }
          ],
          "contour": [
           {
            "colorbar": {
             "outlinewidth": 0,
             "ticks": ""
            },
            "colorscale": [
             [
              0,
              "#0d0887"
             ],
             [
              0.1111111111111111,
              "#46039f"
             ],
             [
              0.2222222222222222,
              "#7201a8"
             ],
             [
              0.3333333333333333,
              "#9c179e"
             ],
             [
              0.4444444444444444,
              "#bd3786"
             ],
             [
              0.5555555555555556,
              "#d8576b"
             ],
             [
              0.6666666666666666,
              "#ed7953"
             ],
             [
              0.7777777777777778,
              "#fb9f3a"
             ],
             [
              0.8888888888888888,
              "#fdca26"
             ],
             [
              1,
              "#f0f921"
             ]
            ],
            "type": "contour"
           }
          ],
          "contourcarpet": [
           {
            "colorbar": {
             "outlinewidth": 0,
             "ticks": ""
            },
            "type": "contourcarpet"
           }
          ],
          "heatmap": [
           {
            "colorbar": {
             "outlinewidth": 0,
             "ticks": ""
            },
            "colorscale": [
             [
              0,
              "#0d0887"
             ],
             [
              0.1111111111111111,
              "#46039f"
             ],
             [
              0.2222222222222222,
              "#7201a8"
             ],
             [
              0.3333333333333333,
              "#9c179e"
             ],
             [
              0.4444444444444444,
              "#bd3786"
             ],
             [
              0.5555555555555556,
              "#d8576b"
             ],
             [
              0.6666666666666666,
              "#ed7953"
             ],
             [
              0.7777777777777778,
              "#fb9f3a"
             ],
             [
              0.8888888888888888,
              "#fdca26"
             ],
             [
              1,
              "#f0f921"
             ]
            ],
            "type": "heatmap"
           }
          ],
          "heatmapgl": [
           {
            "colorbar": {
             "outlinewidth": 0,
             "ticks": ""
            },
            "colorscale": [
             [
              0,
              "#0d0887"
             ],
             [
              0.1111111111111111,
              "#46039f"
             ],
             [
              0.2222222222222222,
              "#7201a8"
             ],
             [
              0.3333333333333333,
              "#9c179e"
             ],
             [
              0.4444444444444444,
              "#bd3786"
             ],
             [
              0.5555555555555556,
              "#d8576b"
             ],
             [
              0.6666666666666666,
              "#ed7953"
             ],
             [
              0.7777777777777778,
              "#fb9f3a"
             ],
             [
              0.8888888888888888,
              "#fdca26"
             ],
             [
              1,
              "#f0f921"
             ]
            ],
            "type": "heatmapgl"
           }
          ],
          "histogram": [
           {
            "marker": {
             "pattern": {
              "fillmode": "overlay",
              "size": 10,
              "solidity": 0.2
             }
            },
            "type": "histogram"
           }
          ],
          "histogram2d": [
           {
            "colorbar": {
             "outlinewidth": 0,
             "ticks": ""
            },
            "colorscale": [
             [
              0,
              "#0d0887"
             ],
             [
              0.1111111111111111,
              "#46039f"
             ],
             [
              0.2222222222222222,
              "#7201a8"
             ],
             [
              0.3333333333333333,
              "#9c179e"
             ],
             [
              0.4444444444444444,
              "#bd3786"
             ],
             [
              0.5555555555555556,
              "#d8576b"
             ],
             [
              0.6666666666666666,
              "#ed7953"
             ],
             [
              0.7777777777777778,
              "#fb9f3a"
             ],
             [
              0.8888888888888888,
              "#fdca26"
             ],
             [
              1,
              "#f0f921"
             ]
            ],
            "type": "histogram2d"
           }
          ],
          "histogram2dcontour": [
           {
            "colorbar": {
             "outlinewidth": 0,
             "ticks": ""
            },
            "colorscale": [
             [
              0,
              "#0d0887"
             ],
             [
              0.1111111111111111,
              "#46039f"
             ],
             [
              0.2222222222222222,
              "#7201a8"
             ],
             [
              0.3333333333333333,
              "#9c179e"
             ],
             [
              0.4444444444444444,
              "#bd3786"
             ],
             [
              0.5555555555555556,
              "#d8576b"
             ],
             [
              0.6666666666666666,
              "#ed7953"
             ],
             [
              0.7777777777777778,
              "#fb9f3a"
             ],
             [
              0.8888888888888888,
              "#fdca26"
             ],
             [
              1,
              "#f0f921"
             ]
            ],
            "type": "histogram2dcontour"
           }
          ],
          "mesh3d": [
           {
            "colorbar": {
             "outlinewidth": 0,
             "ticks": ""
            },
            "type": "mesh3d"
           }
          ],
          "parcoords": [
           {
            "line": {
             "colorbar": {
              "outlinewidth": 0,
              "ticks": ""
             }
            },
            "type": "parcoords"
           }
          ],
          "pie": [
           {
            "automargin": true,
            "type": "pie"
           }
          ],
          "scatter": [
           {
            "fillpattern": {
             "fillmode": "overlay",
             "size": 10,
             "solidity": 0.2
            },
            "type": "scatter"
           }
          ],
          "scatter3d": [
           {
            "line": {
             "colorbar": {
              "outlinewidth": 0,
              "ticks": ""
             }
            },
            "marker": {
             "colorbar": {
              "outlinewidth": 0,
              "ticks": ""
             }
            },
            "type": "scatter3d"
           }
          ],
          "scattercarpet": [
           {
            "marker": {
             "colorbar": {
              "outlinewidth": 0,
              "ticks": ""
             }
            },
            "type": "scattercarpet"
           }
          ],
          "scattergeo": [
           {
            "marker": {
             "colorbar": {
              "outlinewidth": 0,
              "ticks": ""
             }
            },
            "type": "scattergeo"
           }
          ],
          "scattergl": [
           {
            "marker": {
             "colorbar": {
              "outlinewidth": 0,
              "ticks": ""
             }
            },
            "type": "scattergl"
           }
          ],
          "scattermapbox": [
           {
            "marker": {
             "colorbar": {
              "outlinewidth": 0,
              "ticks": ""
             }
            },
            "type": "scattermapbox"
           }
          ],
          "scatterpolar": [
           {
            "marker": {
             "colorbar": {
              "outlinewidth": 0,
              "ticks": ""
             }
            },
            "type": "scatterpolar"
           }
          ],
          "scatterpolargl": [
           {
            "marker": {
             "colorbar": {
              "outlinewidth": 0,
              "ticks": ""
             }
            },
            "type": "scatterpolargl"
           }
          ],
          "scatterternary": [
           {
            "marker": {
             "colorbar": {
              "outlinewidth": 0,
              "ticks": ""
             }
            },
            "type": "scatterternary"
           }
          ],
          "surface": [
           {
            "colorbar": {
             "outlinewidth": 0,
             "ticks": ""
            },
            "colorscale": [
             [
              0,
              "#0d0887"
             ],
             [
              0.1111111111111111,
              "#46039f"
             ],
             [
              0.2222222222222222,
              "#7201a8"
             ],
             [
              0.3333333333333333,
              "#9c179e"
             ],
             [
              0.4444444444444444,
              "#bd3786"
             ],
             [
              0.5555555555555556,
              "#d8576b"
             ],
             [
              0.6666666666666666,
              "#ed7953"
             ],
             [
              0.7777777777777778,
              "#fb9f3a"
             ],
             [
              0.8888888888888888,
              "#fdca26"
             ],
             [
              1,
              "#f0f921"
             ]
            ],
            "type": "surface"
           }
          ],
          "table": [
           {
            "cells": {
             "fill": {
              "color": "#EBF0F8"
             },
             "line": {
              "color": "white"
             }
            },
            "header": {
             "fill": {
              "color": "#C8D4E3"
             },
             "line": {
              "color": "white"
             }
            },
            "type": "table"
           }
          ]
         },
         "layout": {
          "annotationdefaults": {
           "arrowcolor": "#2a3f5f",
           "arrowhead": 0,
           "arrowwidth": 1
          },
          "autotypenumbers": "strict",
          "coloraxis": {
           "colorbar": {
            "outlinewidth": 0,
            "ticks": ""
           }
          },
          "colorscale": {
           "diverging": [
            [
             0,
             "#8e0152"
            ],
            [
             0.1,
             "#c51b7d"
            ],
            [
             0.2,
             "#de77ae"
            ],
            [
             0.3,
             "#f1b6da"
            ],
            [
             0.4,
             "#fde0ef"
            ],
            [
             0.5,
             "#f7f7f7"
            ],
            [
             0.6,
             "#e6f5d0"
            ],
            [
             0.7,
             "#b8e186"
            ],
            [
             0.8,
             "#7fbc41"
            ],
            [
             0.9,
             "#4d9221"
            ],
            [
             1,
             "#276419"
            ]
           ],
           "sequential": [
            [
             0,
             "#0d0887"
            ],
            [
             0.1111111111111111,
             "#46039f"
            ],
            [
             0.2222222222222222,
             "#7201a8"
            ],
            [
             0.3333333333333333,
             "#9c179e"
            ],
            [
             0.4444444444444444,
             "#bd3786"
            ],
            [
             0.5555555555555556,
             "#d8576b"
            ],
            [
             0.6666666666666666,
             "#ed7953"
            ],
            [
             0.7777777777777778,
             "#fb9f3a"
            ],
            [
             0.8888888888888888,
             "#fdca26"
            ],
            [
             1,
             "#f0f921"
            ]
           ],
           "sequentialminus": [
            [
             0,
             "#0d0887"
            ],
            [
             0.1111111111111111,
             "#46039f"
            ],
            [
             0.2222222222222222,
             "#7201a8"
            ],
            [
             0.3333333333333333,
             "#9c179e"
            ],
            [
             0.4444444444444444,
             "#bd3786"
            ],
            [
             0.5555555555555556,
             "#d8576b"
            ],
            [
             0.6666666666666666,
             "#ed7953"
            ],
            [
             0.7777777777777778,
             "#fb9f3a"
            ],
            [
             0.8888888888888888,
             "#fdca26"
            ],
            [
             1,
             "#f0f921"
            ]
           ]
          },
          "colorway": [
           "#636efa",
           "#EF553B",
           "#00cc96",
           "#ab63fa",
           "#FFA15A",
           "#19d3f3",
           "#FF6692",
           "#B6E880",
           "#FF97FF",
           "#FECB52"
          ],
          "font": {
           "color": "#2a3f5f"
          },
          "geo": {
           "bgcolor": "white",
           "lakecolor": "white",
           "landcolor": "#E5ECF6",
           "showlakes": true,
           "showland": true,
           "subunitcolor": "white"
          },
          "hoverlabel": {
           "align": "left"
          },
          "hovermode": "closest",
          "mapbox": {
           "style": "light"
          },
          "paper_bgcolor": "white",
          "plot_bgcolor": "#E5ECF6",
          "polar": {
           "angularaxis": {
            "gridcolor": "white",
            "linecolor": "white",
            "ticks": ""
           },
           "bgcolor": "#E5ECF6",
           "radialaxis": {
            "gridcolor": "white",
            "linecolor": "white",
            "ticks": ""
           }
          },
          "scene": {
           "xaxis": {
            "backgroundcolor": "#E5ECF6",
            "gridcolor": "white",
            "gridwidth": 2,
            "linecolor": "white",
            "showbackground": true,
            "ticks": "",
            "zerolinecolor": "white"
           },
           "yaxis": {
            "backgroundcolor": "#E5ECF6",
            "gridcolor": "white",
            "gridwidth": 2,
            "linecolor": "white",
            "showbackground": true,
            "ticks": "",
            "zerolinecolor": "white"
           },
           "zaxis": {
            "backgroundcolor": "#E5ECF6",
            "gridcolor": "white",
            "gridwidth": 2,
            "linecolor": "white",
            "showbackground": true,
            "ticks": "",
            "zerolinecolor": "white"
           }
          },
          "shapedefaults": {
           "line": {
            "color": "#2a3f5f"
           }
          },
          "ternary": {
           "aaxis": {
            "gridcolor": "white",
            "linecolor": "white",
            "ticks": ""
           },
           "baxis": {
            "gridcolor": "white",
            "linecolor": "white",
            "ticks": ""
           },
           "bgcolor": "#E5ECF6",
           "caxis": {
            "gridcolor": "white",
            "linecolor": "white",
            "ticks": ""
           }
          },
          "title": {
           "x": 0.05
          },
          "xaxis": {
           "automargin": true,
           "gridcolor": "white",
           "linecolor": "white",
           "ticks": "",
           "title": {
            "standoff": 15
           },
           "zerolinecolor": "white",
           "zerolinewidth": 2
          },
          "yaxis": {
           "automargin": true,
           "gridcolor": "white",
           "linecolor": "white",
           "ticks": "",
           "title": {
            "standoff": 15
           },
           "zerolinecolor": "white",
           "zerolinewidth": 2
          }
         }
        },
        "xaxis": {
         "anchor": "y",
         "autorange": true,
         "domain": [
          0,
          1
         ],
         "range": [
          150,
          215
         ],
         "title": {
          "text": "value"
         },
         "type": "linear"
        },
        "yaxis": {
         "anchor": "x",
         "autorange": true,
         "domain": [
          0,
          1
         ],
         "range": [
          0,
          54.73684210526316
         ],
         "title": {
          "text": "count"
         }
        }
       }
      },
      "image/png": "[encoded data removed]",
      "text/html": [
       "<div>                            <div id=\"5fa11b4c-5ed4-4de4-b0d7-d74c13350f3a\" class=\"plotly-graph-div\" style=\"height:525px; width:100%;\"></div>            <script type=\"text/javascript\">                require([\"plotly\"], function(Plotly) {                    window.PLOTLYENV=window.PLOTLYENV || {};                                    if (document.getElementById(\"5fa11b4c-5ed4-4de4-b0d7-d74c13350f3a\")) {                    Plotly.newPlot(                        \"5fa11b4c-5ed4-4de4-b0d7-d74c13350f3a\",                        [{\"alignmentgroup\":\"True\",\"bingroup\":\"x\",\"hovertemplate\":\"variable=Docked_File<br>value=%{x}<br>count=%{y}<extra></extra>\",\"legendgroup\":\"Docked_File\",\"marker\":{\"color\":\"#636efa\",\"pattern\":{\"shape\":\"\"}},\"name\":\"Docked_File\",\"offsetgroup\":\"Docked_File\",\"orientation\":\"v\",\"showlegend\":true,\"x\":[212.0,212.0,206.5,201.5,212.0,204.0,195.5,212.0,195.0,178.5,212.0,201.5,197.5,188.5,212.0,204.5,153.5,205.0,212.0,202.5,212.0,192.0,207.0,192.0,212.0,188.0,197.0,198.0,212.0,212.0,212.0,212.0,178.0,194.5,206.5,199.5,211.5,190.0,184.0,199.5,208.0,155.0,202.5,201.0,212.0,183.5,182.0,212.0,191.5,184.0,183.5,171.5,175.0,208.5,190.0,170.5,179.5,197.0,192.0,205.5,198.0,179.5,198.5,194.5,183.0,160.0,184.0,155.0,175.5,208.5,181.5,212.0,196.5,206.0,184.0,197.0,176.5,186.5,212.0,212.0,211.5,205.5,203.5,210.0,210.5,194.0,176.5,188.0,193.0,180.5,196.0,202.0,186.5,200.5,193.0,167.0,212.0,175.0,187.5,196.0,171.5,199.0,168.0,173.5,192.5,156.0,171.0,212.0,153.0,166.5,168.0,177.0,212.0,211.0,179.5,201.5,208.5,209.5,193.0,208.5,211.5,212.0,205.0,210.5,192.5,204.5,212.0,204.0,197.0,201.5,203.0,212.0,195.5,184.5,205.5,205.0,204.0,206.0,168.0,199.0,212.0,210.0,195.0,212.0,183.5,212.0,197.5,204.5,198.0,165.5,167.0,155.0,156.0,159.5,190.0,172.0,170.5,190.5,200.0,200.0,212.0,186.5,199.5,204.0,211.0,212.0,209.0,212.0,206.5,194.0,209.0,177.5,209.5,203.0,204.5,207.0,210.0,212.0,210.5,209.5,206.0,209.5,200.5,202.5,212.0,212.0,209.0,205.5,212.0,212.0,209.5,211.5,212.0,209.5,212.0,194.0,185.0,192.5,200.5,211.0,200.5,212.0,208.5,206.0,203.5,187.0,212.0],\"xaxis\":\"x\",\"yaxis\":\"y\",\"type\":\"histogram\"}],                        {\"template\":{\"data\":{\"histogram2dcontour\":[{\"type\":\"histogram2dcontour\",\"colorbar\":{\"outlinewidth\":0,\"ticks\":\"\"},\"colorscale\":[[0.0,\"#0d0887\"],[0.1111111111111111,\"#46039f\"],[0.2222222222222222,\"#7201a8\"],[0.3333333333333333,\"#9c179e\"],[0.4444444444444444,\"#bd3786\"],[0.5555555555555556,\"#d8576b\"],[0.6666666666666666,\"#ed7953\"],[0.7777777777777778,\"#fb9f3a\"],[0.8888888888888888,\"#fdca26\"],[1.0,\"#f0f921\"]]}],\"choropleth\":[{\"type\":\"choropleth\",\"colorbar\":{\"outlinewidth\":0,\"ticks\":\"\"}}],\"histogram2d\":[{\"type\":\"histogram2d\",\"colorbar\":{\"outlinewidth\":0,\"ticks\":\"\"},\"colorscale\":[[0.0,\"#0d0887\"],[0.1111111111111111,\"#46039f\"],[0.2222222222222222,\"#7201a8\"],[0.3333333333333333,\"#9c179e\"],[0.4444444444444444,\"#bd3786\"],[0.5555555555555556,\"#d8576b\"],[0.6666666666666666,\"#ed7953\"],[0.7777777777777778,\"#fb9f3a\"],[0.8888888888888888,\"#fdca26\"],[1.0,\"#f0f921\"]]}],\"heatmap\":[{\"type\":\"heatmap\",\"colorbar\":{\"outlinewidth\":0,\"ticks\":\"\"},\"colorscale\":[[0.0,\"#0d0887\"],[0.1111111111111111,\"#46039f\"],[0.2222222222222222,\"#7201a8\"],[0.3333333333333333,\"#9c179e\"],[0.4444444444444444,\"#bd3786\"],[0.5555555555555556,\"#d8576b\"],[0.6666666666666666,\"#ed7953\"],[0.7777777777777778,\"#fb9f3a\"],[0.8888888888888888,\"#fdca26\"],[1.0,\"#f0f921\"]]}],\"heatmapgl\":[{\"type\":\"heatmapgl\",\"colorbar\":{\"outlinewidth\":0,\"ticks\":\"\"},\"colorscale\":[[0.0,\"#0d0887\"],[0.1111111111111111,\"#46039f\"],[0.2222222222222222,\"#7201a8\"],[0.3333333333333333,\"#9c179e\"],[0.4444444444444444,\"#bd3786\"],[0.5555555555555556,\"#d8576b\"],[0.6666666666666666,\"#ed7953\"],[0.7777777777777778,\"#fb9f3a\"],[0.8888888888888888,\"#fdca26\"],[1.0,\"#f0f921\"]]}],\"contourcarpet\":[{\"type\":\"contourcarpet\",\"colorbar\":{\"outlinewidth\":0,\"ticks\":\"\"}}],\"contour\":[{\"type\":\"contour\",\"colorbar\":{\"outlinewidth\":0,\"ticks\":\"\"},\"colorscale\":[[0.0,\"#0d0887\"],[0.1111111111111111,\"#46039f\"],[0.2222222222222222,\"#7201a8\"],[0.3333333333333333,\"#9c179e\"],[0.4444444444444444,\"#bd3786\"],[0.5555555555555556,\"#d8576b\"],[0.6666666666666666,\"#ed7953\"],[0.7777777777777778,\"#fb9f3a\"],[0.8888888888888888,\"#fdca26\"],[1.0,\"#f0f921\"]]}],\"surface\":[{\"type\":\"surface\",\"colorbar\":{\"outlinewidth\":0,\"ticks\":\"\"},\"colorscale\":[[0.0,\"#0d0887\"],[0.1111111111111111,\"#46039f\"],[0.2222222222222222,\"#7201a8\"],[0.3333333333333333,\"#9c179e\"],[0.4444444444444444,\"#bd3786\"],[0.5555555555555556,\"#d8576b\"],[0.6666666666666666,\"#ed7953\"],[0.7777777777777778,\"#fb9f3a\"],[0.8888888888888888,\"#fdca26\"],[1.0,\"#f0f921\"]]}],\"mesh3d\":[{\"type\":\"mesh3d\",\"colorbar\":{\"outlinewidth\":0,\"ticks\":\"\"}}],\"scatter\":[{\"fillpattern\":{\"fillmode\":\"overlay\",\"size\":10,\"solidity\":0.2},\"type\":\"scatter\"}],\"parcoords\":[{\"type\":\"parcoords\",\"line\":{\"colorbar\":{\"outlinewidth\":0,\"ticks\":\"\"}}}],\"scatterpolargl\":[{\"type\":\"scatterpolargl\",\"marker\":{\"colorbar\":{\"outlinewidth\":0,\"ticks\":\"\"}}}],\"bar\":[{\"error_x\":{\"color\":\"#2a3f5f\"},\"error_y\":{\"color\":\"#2a3f5f\"},\"marker\":{\"line\":{\"color\":\"#E5ECF6\",\"width\":0.5},\"pattern\":{\"fillmode\":\"overlay\",\"size\":10,\"solidity\":0.2}},\"type\":\"bar\"}],\"scattergeo\":[{\"type\":\"scattergeo\",\"marker\":{\"colorbar\":{\"outlinewidth\":0,\"ticks\":\"\"}}}],\"scatterpolar\":[{\"type\":\"scatterpolar\",\"marker\":{\"colorbar\":{\"outlinewidth\":0,\"ticks\":\"\"}}}],\"histogram\":[{\"marker\":{\"pattern\":{\"fillmode\":\"overlay\",\"size\":10,\"solidity\":0.2}},\"type\":\"histogram\"}],\"scattergl\":[{\"type\":\"scattergl\",\"marker\":{\"colorbar\":{\"outlinewidth\":0,\"ticks\":\"\"}}}],\"scatter3d\":[{\"type\":\"scatter3d\",\"line\":{\"colorbar\":{\"outlinewidth\":0,\"ticks\":\"\"}},\"marker\":{\"colorbar\":{\"outlinewidth\":0,\"ticks\":\"\"}}}],\"scattermapbox\":[{\"type\":\"scattermapbox\",\"marker\":{\"colorbar\":{\"outlinewidth\":0,\"ticks\":\"\"}}}],\"scatterternary\":[{\"type\":\"scatterternary\",\"marker\":{\"colorbar\":{\"outlinewidth\":0,\"ticks\":\"\"}}}],\"scattercarpet\":[{\"type\":\"scattercarpet\",\"marker\":{\"colorbar\":{\"outlinewidth\":0,\"ticks\":\"\"}}}],\"carpet\":[{\"aaxis\":{\"endlinecolor\":\"#2a3f5f\",\"gridcolor\":\"white\",\"linecolor\":\"white\",\"minorgridcolor\":\"white\",\"startlinecolor\":\"#2a3f5f\"},\"baxis\":{\"endlinecolor\":\"#2a3f5f\",\"gridcolor\":\"white\",\"linecolor\":\"white\",\"minorgridcolor\":\"white\",\"startlinecolor\":\"#2a3f5f\"},\"type\":\"carpet\"}],\"table\":[{\"cells\":{\"fill\":{\"color\":\"#EBF0F8\"},\"line\":{\"color\":\"white\"}},\"header\":{\"fill\":{\"color\":\"#C8D4E3\"},\"line\":{\"color\":\"white\"}},\"type\":\"table\"}],\"barpolar\":[{\"marker\":{\"line\":{\"color\":\"#E5ECF6\",\"width\":0.5},\"pattern\":{\"fillmode\":\"overlay\",\"size\":10,\"solidity\":0.2}},\"type\":\"barpolar\"}],\"pie\":[{\"automargin\":true,\"type\":\"pie\"}]},\"layout\":{\"autotypenumbers\":\"strict\",\"colorway\":[\"#636efa\",\"#EF553B\",\"#00cc96\",\"#ab63fa\",\"#FFA15A\",\"#19d3f3\",\"#FF6692\",\"#B6E880\",\"#FF97FF\",\"#FECB52\"],\"font\":{\"color\":\"#2a3f5f\"},\"hovermode\":\"closest\",\"hoverlabel\":{\"align\":\"left\"},\"paper_bgcolor\":\"white\",\"plot_bgcolor\":\"#E5ECF6\",\"polar\":{\"bgcolor\":\"#E5ECF6\",\"angularaxis\":{\"gridcolor\":\"white\",\"linecolor\":\"white\",\"ticks\":\"\"},\"radialaxis\":{\"gridcolor\":\"white\",\"linecolor\":\"white\",\"ticks\":\"\"}},\"ternary\":{\"bgcolor\":\"#E5ECF6\",\"aaxis\":{\"gridcolor\":\"white\",\"linecolor\":\"white\",\"ticks\":\"\"},\"baxis\":{\"gridcolor\":\"white\",\"linecolor\":\"white\",\"ticks\":\"\"},\"caxis\":{\"gridcolor\":\"white\",\"linecolor\":\"white\",\"ticks\":\"\"}},\"coloraxis\":{\"colorbar\":{\"outlinewidth\":0,\"ticks\":\"\"}},\"colorscale\":{\"sequential\":[[0.0,\"#0d0887\"],[0.1111111111111111,\"#46039f\"],[0.2222222222222222,\"#7201a8\"],[0.3333333333333333,\"#9c179e\"],[0.4444444444444444,\"#bd3786\"],[0.5555555555555556,\"#d8576b\"],[0.6666666666666666,\"#ed7953\"],[0.7777777777777778,\"#fb9f3a\"],[0.8888888888888888,\"#fdca26\"],[1.0,\"#f0f921\"]],\"sequentialminus\":[[0.0,\"#0d0887\"],[0.1111111111111111,\"#46039f\"],[0.2222222222222222,\"#7201a8\"],[0.3333333333333333,\"#9c179e\"],[0.4444444444444444,\"#bd3786\"],[0.5555555555555556,\"#d8576b\"],[0.6666666666666666,\"#ed7953\"],[0.7777777777777778,\"#fb9f3a\"],[0.8888888888888888,\"#fdca26\"],[1.0,\"#f0f921\"]],\"diverging\":[[0,\"#8e0152\"],[0.1,\"#c51b7d\"],[0.2,\"#de77ae\"],[0.3,\"#f1b6da\"],[0.4,\"#fde0ef\"],[0.5,\"#f7f7f7\"],[0.6,\"#e6f5d0\"],[0.7,\"#b8e186\"],[0.8,\"#7fbc41\"],[0.9,\"#4d9221\"],[1,\"#276419\"]]},\"xaxis\":{\"gridcolor\":\"white\",\"linecolor\":\"white\",\"ticks\":\"\",\"title\":{\"standoff\":15},\"zerolinecolor\":\"white\",\"automargin\":true,\"zerolinewidth\":2},\"yaxis\":{\"gridcolor\":\"white\",\"linecolor\":\"white\",\"ticks\":\"\",\"title\":{\"standoff\":15},\"zerolinecolor\":\"white\",\"automargin\":true,\"zerolinewidth\":2},\"scene\":{\"xaxis\":{\"backgroundcolor\":\"#E5ECF6\",\"gridcolor\":\"white\",\"linecolor\":\"white\",\"showbackground\":true,\"ticks\":\"\",\"zerolinecolor\":\"white\",\"gridwidth\":2},\"yaxis\":{\"backgroundcolor\":\"#E5ECF6\",\"gridcolor\":\"white\",\"linecolor\":\"white\",\"showbackground\":true,\"ticks\":\"\",\"zerolinecolor\":\"white\",\"gridwidth\":2},\"zaxis\":{\"backgroundcolor\":\"#E5ECF6\",\"gridcolor\":\"white\",\"linecolor\":\"white\",\"showbackground\":true,\"ticks\":\"\",\"zerolinecolor\":\"white\",\"gridwidth\":2}},\"shapedefaults\":{\"line\":{\"color\":\"#2a3f5f\"}},\"annotationdefaults\":{\"arrowcolor\":\"#2a3f5f\",\"arrowhead\":0,\"arrowwidth\":1},\"geo\":{\"bgcolor\":\"white\",\"landcolor\":\"#E5ECF6\",\"subunitcolor\":\"white\",\"showland\":true,\"showlakes\":true,\"lakecolor\":\"white\"},\"title\":{\"x\":0.05},\"mapbox\":{\"style\":\"light\"}}},\"xaxis\":{\"anchor\":\"y\",\"domain\":[0.0,1.0],\"title\":{\"text\":\"value\"}},\"yaxis\":{\"anchor\":\"x\",\"domain\":[0.0,1.0],\"title\":{\"text\":\"count\"}},\"legend\":{\"title\":{\"text\":\"variable\"},\"tracegroupgap\":0},\"margin\":{\"t\":60},\"barmode\":\"relative\"},                        {\"responsive\": true}                    ).then(function(){\n",
       "                            \n",
       "var gd = document.getElementById('5fa11b4c-5ed4-4de4-b0d7-d74c13350f3a');\n",
       "var x = new MutationObserver(function (mutations, observer) {{\n",
       "        var display = window.getComputedStyle(gd).display;\n",
       "        if (!display || display === 'none') {{\n",
       "            console.log([gd, 'removed!']);\n",
       "            Plotly.purge(gd);\n",
       "            observer.disconnect();\n",
       "        }}\n",
       "}});\n",
       "\n",
       "// Listen for the removal of the full notebook cells\n",
       "var notebookContainer = gd.closest('#notebook-container');\n",
       "if (notebookContainer) {{\n",
       "    x.observe(notebookContainer, {childList: true});\n",
       "}}\n",
       "\n",
       "// Listen for the clearing of the current output cell\n",
       "var outputEl = gd.closest('.output');\n",
       "if (outputEl) {{\n",
       "    x.observe(outputEl, {childList: true});\n",
       "}}\n",
       "\n",
       "                        })                };                });            </script>        </div>"
      ]
     },
     "metadata": {},
     "output_type": "display_data"
    }
   ],
   "source": [
    "px.histogram(n_successfully_docked / 2)"
   ]
  },
  {
   "cell_type": "code",
   "execution_count": 162,
   "id": "636ada90-bace-49ff-a47f-6d93adbb9557",
   "metadata": {
    "tags": []
   },
   "outputs": [
    {
     "data": {
      "text/plain": [
       "Compound_ID\n",
       "ALP-POS-ecbed2ba-12    307\n",
       "MAT-POS-5cd9ea36-2     306\n",
       "Name: Docked_File, dtype: int64"
      ]
     },
     "execution_count": 162,
     "metadata": {},
     "output_type": "execute_result"
    }
   ],
   "source": [
    "n_successfully_docked[n_successfully_docked < 308]"
   ]
  },
  {
   "cell_type": "code",
   "execution_count": 163,
   "id": "78bddfb2-a031-42b6-b9bc-c4405e01bd36",
   "metadata": {
    "tags": []
   },
   "outputs": [
    {
     "data": {
      "text/html": [
       "<div>\n",
       "<style scoped>\n",
       "    .dataframe tbody tr th:only-of-type {\n",
       "        vertical-align: middle;\n",
       "    }\n",
       "\n",
       "    .dataframe tbody tr th {\n",
       "        vertical-align: top;\n",
       "    }\n",
       "\n",
       "    .dataframe thead th {\n",
       "        text-align: right;\n",
       "    }\n",
       "</style>\n",
       "<table border=\"1\" class=\"dataframe\">\n",
       "  <thead>\n",
       "    <tr style=\"text-align: right;\">\n",
       "      <th></th>\n",
       "      <th>Docked_File</th>\n",
       "      <th>RMSD</th>\n",
       "      <th>POSIT</th>\n",
       "      <th>POSIT_Method</th>\n",
       "      <th>Chemgauss4</th>\n",
       "      <th>Clash</th>\n",
       "      <th>POSIT_R</th>\n",
       "      <th>Complex_ID</th>\n",
       "      <th>Compound_ID</th>\n",
       "      <th>Structure_Source</th>\n",
       "      <th>...</th>\n",
       "      <th>GAT_Score</th>\n",
       "      <th>Structure_Path</th>\n",
       "      <th>Compound_Source</th>\n",
       "      <th>Structure_Name</th>\n",
       "      <th>Data_Collection_Date</th>\n",
       "      <th>Structure_Date</th>\n",
       "      <th>SCHNET_score</th>\n",
       "      <th>Reference_Ligand</th>\n",
       "      <th>TanimotoCombo</th>\n",
       "      <th>SASA (nm^2)</th>\n",
       "    </tr>\n",
       "    <tr>\n",
       "      <th>Version</th>\n",
       "      <th></th>\n",
       "      <th></th>\n",
       "      <th></th>\n",
       "      <th></th>\n",
       "      <th></th>\n",
       "      <th></th>\n",
       "      <th></th>\n",
       "      <th></th>\n",
       "      <th></th>\n",
       "      <th></th>\n",
       "      <th></th>\n",
       "      <th></th>\n",
       "      <th></th>\n",
       "      <th></th>\n",
       "      <th></th>\n",
       "      <th></th>\n",
       "      <th></th>\n",
       "      <th></th>\n",
       "      <th></th>\n",
       "      <th></th>\n",
       "      <th></th>\n",
       "    </tr>\n",
       "  </thead>\n",
       "  <tbody>\n",
       "    <tr>\n",
       "      <th>All</th>\n",
       "      <td>212</td>\n",
       "      <td>212</td>\n",
       "      <td>14</td>\n",
       "      <td>3</td>\n",
       "      <td>203</td>\n",
       "      <td>2</td>\n",
       "      <td>14</td>\n",
       "      <td>212</td>\n",
       "      <td>1</td>\n",
       "      <td>212</td>\n",
       "      <td>...</td>\n",
       "      <td>0</td>\n",
       "      <td>212</td>\n",
       "      <td>1</td>\n",
       "      <td>212</td>\n",
       "      <td>210</td>\n",
       "      <td>32</td>\n",
       "      <td>0</td>\n",
       "      <td>212</td>\n",
       "      <td>212</td>\n",
       "      <td>210</td>\n",
       "    </tr>\n",
       "    <tr>\n",
       "      <th>Hybrid-Only</th>\n",
       "      <td>95</td>\n",
       "      <td>95</td>\n",
       "      <td>9</td>\n",
       "      <td>1</td>\n",
       "      <td>95</td>\n",
       "      <td>2</td>\n",
       "      <td>9</td>\n",
       "      <td>95</td>\n",
       "      <td>1</td>\n",
       "      <td>95</td>\n",
       "      <td>...</td>\n",
       "      <td>0</td>\n",
       "      <td>95</td>\n",
       "      <td>1</td>\n",
       "      <td>95</td>\n",
       "      <td>95</td>\n",
       "      <td>25</td>\n",
       "      <td>0</td>\n",
       "      <td>95</td>\n",
       "      <td>95</td>\n",
       "      <td>93</td>\n",
       "    </tr>\n",
       "  </tbody>\n",
       "</table>\n",
       "<p>2 rows × 22 columns</p>\n",
       "</div>"
      ],
      "text/plain": [
       "             Docked_File  RMSD  POSIT  POSIT_Method  Chemgauss4  Clash  \\\n",
       "Version                                                                  \n",
       "All                  212   212     14             3         203      2   \n",
       "Hybrid-Only           95    95      9             1          95      2   \n",
       "\n",
       "             POSIT_R  Complex_ID  Compound_ID  Structure_Source  ...  \\\n",
       "Version                                                          ...   \n",
       "All               14         212            1               212  ...   \n",
       "Hybrid-Only        9          95            1                95  ...   \n",
       "\n",
       "             GAT_Score  Structure_Path  Compound_Source  Structure_Name  \\\n",
       "Version                                                                   \n",
       "All                  0             212                1             212   \n",
       "Hybrid-Only          0              95                1              95   \n",
       "\n",
       "             Data_Collection_Date  Structure_Date  SCHNET_score  \\\n",
       "Version                                                           \n",
       "All                           210              32             0   \n",
       "Hybrid-Only                    95              25             0   \n",
       "\n",
       "             Reference_Ligand  TanimotoCombo  SASA (nm^2)  \n",
       "Version                                                    \n",
       "All                       212            212          210  \n",
       "Hybrid-Only                95             95           93  \n",
       "\n",
       "[2 rows x 22 columns]"
      ]
     },
     "execution_count": 163,
     "metadata": {},
     "output_type": "execute_result"
    }
   ],
   "source": [
    "clean[clean.Compound_ID == \"ALP-POS-ecbed2ba-12\"].groupby(\"Version\").nunique()"
   ]
  },
  {
   "cell_type": "code",
   "execution_count": 164,
   "id": "9bbd706d-df70-4d23-99ea-14d602a56b35",
   "metadata": {
    "tags": []
   },
   "outputs": [],
   "source": [
    "minimal_success = clean[(clean.Compound_ID == \"ALP-POS-ecbed2ba-12\") & (clean.Version == \"Hybrid-Only\")].Reference_Ligand.unique()"
   ]
  },
  {
   "cell_type": "code",
   "execution_count": 165,
   "id": "80850b0d-0559-40e4-a759-10cfe96400e5",
   "metadata": {
    "tags": []
   },
   "outputs": [],
   "source": [
    "superclean = clean[clean.Compound_ID.isin(minimal_success)]\n",
    "superclean = superclean[superclean.Reference_Ligand.isin(minimal_success)]"
   ]
  },
  {
   "cell_type": "code",
   "execution_count": 166,
   "id": "eb591020-68cd-4522-8638-4d2694c3b847",
   "metadata": {
    "tags": []
   },
   "outputs": [],
   "source": [
    "n_successfully_docked_superclean = superclean.groupby(\"Compound_ID\").nunique().Docked_File"
   ]
  },
  {
   "cell_type": "code",
   "execution_count": 167,
   "id": "6b88ca08-bd03-462c-8d4d-8ee06c3d7e88",
   "metadata": {
    "tags": []
   },
   "outputs": [
    {
     "data": {
      "application/vnd.plotly.v1+json": {
       "config": {
        "plotlyServerURL": "https://plot.ly"
       },
       "data": [
        {
         "alignmentgroup": "True",
         "bingroup": "x",
         "hovertemplate": "variable=Docked_File<br>value=%{x}<br>count=%{y}<extra></extra>",
         "legendgroup": "Docked_File",
         "marker": {
          "color": "#636efa",
          "pattern": {
           "shape": ""
          }
         },
         "name": "Docked_File",
         "offsetgroup": "Docked_File",
         "orientation": "v",
         "showlegend": true,
         "type": "histogram",
         "x": [
          94,
          94,
          88,
          94,
          94,
          90.5,
          87,
          89,
          94,
          89,
          87.5,
          87,
          94,
          87,
          91,
          88.5,
          84.5,
          92.5,
          94,
          83.5,
          89,
          89.5,
          89.5,
          86,
          87.5,
          82,
          92.5,
          94,
          90,
          91.5,
          83,
          94,
          92,
          90,
          92.5,
          88,
          87.5,
          92,
          89,
          84.5,
          91,
          81.5,
          75.5,
          80.5,
          85,
          94,
          93.5,
          80.5,
          91.5,
          94,
          91.5,
          94,
          93,
          90,
          91.5,
          89,
          89,
          91,
          86.5,
          83.5,
          93,
          94,
          92.5,
          94,
          90,
          88.5,
          85,
          77.5,
          78,
          89,
          94,
          84,
          90,
          94,
          92.5,
          93,
          91,
          91,
          93,
          94,
          93,
          92.5,
          94,
          90,
          93,
          94,
          94,
          90,
          88.5,
          92,
          84.5,
          94
         ],
         "xaxis": "x",
         "yaxis": "y"
        }
       ],
       "layout": {
        "autosize": true,
        "barmode": "relative",
        "legend": {
         "title": {
          "text": "variable"
         },
         "tracegroupgap": 0
        },
        "margin": {
         "t": 60
        },
        "template": {
         "data": {
          "bar": [
           {
            "error_x": {
             "color": "#2a3f5f"
            },
            "error_y": {
             "color": "#2a3f5f"
            },
            "marker": {
             "line": {
              "color": "#E5ECF6",
              "width": 0.5
             },
             "pattern": {
              "fillmode": "overlay",
              "size": 10,
              "solidity": 0.2
             }
            },
            "type": "bar"
           }
          ],
          "barpolar": [
           {
            "marker": {
             "line": {
              "color": "#E5ECF6",
              "width": 0.5
             },
             "pattern": {
              "fillmode": "overlay",
              "size": 10,
              "solidity": 0.2
             }
            },
            "type": "barpolar"
           }
          ],
          "carpet": [
           {
            "aaxis": {
             "endlinecolor": "#2a3f5f",
             "gridcolor": "white",
             "linecolor": "white",
             "minorgridcolor": "white",
             "startlinecolor": "#2a3f5f"
            },
            "baxis": {
             "endlinecolor": "#2a3f5f",
             "gridcolor": "white",
             "linecolor": "white",
             "minorgridcolor": "white",
             "startlinecolor": "#2a3f5f"
            },
            "type": "carpet"
           }
          ],
          "choropleth": [
           {
            "colorbar": {
             "outlinewidth": 0,
             "ticks": ""
            },
            "type": "choropleth"
           }
          ],
          "contour": [
           {
            "colorbar": {
             "outlinewidth": 0,
             "ticks": ""
            },
            "colorscale": [
             [
              0,
              "#0d0887"
             ],
             [
              0.1111111111111111,
              "#46039f"
             ],
             [
              0.2222222222222222,
              "#7201a8"
             ],
             [
              0.3333333333333333,
              "#9c179e"
             ],
             [
              0.4444444444444444,
              "#bd3786"
             ],
             [
              0.5555555555555556,
              "#d8576b"
             ],
             [
              0.6666666666666666,
              "#ed7953"
             ],
             [
              0.7777777777777778,
              "#fb9f3a"
             ],
             [
              0.8888888888888888,
              "#fdca26"
             ],
             [
              1,
              "#f0f921"
             ]
            ],
            "type": "contour"
           }
          ],
          "contourcarpet": [
           {
            "colorbar": {
             "outlinewidth": 0,
             "ticks": ""
            },
            "type": "contourcarpet"
           }
          ],
          "heatmap": [
           {
            "colorbar": {
             "outlinewidth": 0,
             "ticks": ""
            },
            "colorscale": [
             [
              0,
              "#0d0887"
             ],
             [
              0.1111111111111111,
              "#46039f"
             ],
             [
              0.2222222222222222,
              "#7201a8"
             ],
             [
              0.3333333333333333,
              "#9c179e"
             ],
             [
              0.4444444444444444,
              "#bd3786"
             ],
             [
              0.5555555555555556,
              "#d8576b"
             ],
             [
              0.6666666666666666,
              "#ed7953"
             ],
             [
              0.7777777777777778,
              "#fb9f3a"
             ],
             [
              0.8888888888888888,
              "#fdca26"
             ],
             [
              1,
              "#f0f921"
             ]
            ],
            "type": "heatmap"
           }
          ],
          "heatmapgl": [
           {
            "colorbar": {
             "outlinewidth": 0,
             "ticks": ""
            },
            "colorscale": [
             [
              0,
              "#0d0887"
             ],
             [
              0.1111111111111111,
              "#46039f"
             ],
             [
              0.2222222222222222,
              "#7201a8"
             ],
             [
              0.3333333333333333,
              "#9c179e"
             ],
             [
              0.4444444444444444,
              "#bd3786"
             ],
             [
              0.5555555555555556,
              "#d8576b"
             ],
             [
              0.6666666666666666,
              "#ed7953"
             ],
             [
              0.7777777777777778,
              "#fb9f3a"
             ],
             [
              0.8888888888888888,
              "#fdca26"
             ],
             [
              1,
              "#f0f921"
             ]
            ],
            "type": "heatmapgl"
           }
          ],
          "histogram": [
           {
            "marker": {
             "pattern": {
              "fillmode": "overlay",
              "size": 10,
              "solidity": 0.2
             }
            },
            "type": "histogram"
           }
          ],
          "histogram2d": [
           {
            "colorbar": {
             "outlinewidth": 0,
             "ticks": ""
            },
            "colorscale": [
             [
              0,
              "#0d0887"
             ],
             [
              0.1111111111111111,
              "#46039f"
             ],
             [
              0.2222222222222222,
              "#7201a8"
             ],
             [
              0.3333333333333333,
              "#9c179e"
             ],
             [
              0.4444444444444444,
              "#bd3786"
             ],
             [
              0.5555555555555556,
              "#d8576b"
             ],
             [
              0.6666666666666666,
              "#ed7953"
             ],
             [
              0.7777777777777778,
              "#fb9f3a"
             ],
             [
              0.8888888888888888,
              "#fdca26"
             ],
             [
              1,
              "#f0f921"
             ]
            ],
            "type": "histogram2d"
           }
          ],
          "histogram2dcontour": [
           {
            "colorbar": {
             "outlinewidth": 0,
             "ticks": ""
            },
            "colorscale": [
             [
              0,
              "#0d0887"
             ],
             [
              0.1111111111111111,
              "#46039f"
             ],
             [
              0.2222222222222222,
              "#7201a8"
             ],
             [
              0.3333333333333333,
              "#9c179e"
             ],
             [
              0.4444444444444444,
              "#bd3786"
             ],
             [
              0.5555555555555556,
              "#d8576b"
             ],
             [
              0.6666666666666666,
              "#ed7953"
             ],
             [
              0.7777777777777778,
              "#fb9f3a"
             ],
             [
              0.8888888888888888,
              "#fdca26"
             ],
             [
              1,
              "#f0f921"
             ]
            ],
            "type": "histogram2dcontour"
           }
          ],
          "mesh3d": [
           {
            "colorbar": {
             "outlinewidth": 0,
             "ticks": ""
            },
            "type": "mesh3d"
           }
          ],
          "parcoords": [
           {
            "line": {
             "colorbar": {
              "outlinewidth": 0,
              "ticks": ""
             }
            },
            "type": "parcoords"
           }
          ],
          "pie": [
           {
            "automargin": true,
            "type": "pie"
           }
          ],
          "scatter": [
           {
            "fillpattern": {
             "fillmode": "overlay",
             "size": 10,
             "solidity": 0.2
            },
            "type": "scatter"
           }
          ],
          "scatter3d": [
           {
            "line": {
             "colorbar": {
              "outlinewidth": 0,
              "ticks": ""
             }
            },
            "marker": {
             "colorbar": {
              "outlinewidth": 0,
              "ticks": ""
             }
            },
            "type": "scatter3d"
           }
          ],
          "scattercarpet": [
           {
            "marker": {
             "colorbar": {
              "outlinewidth": 0,
              "ticks": ""
             }
            },
            "type": "scattercarpet"
           }
          ],
          "scattergeo": [
           {
            "marker": {
             "colorbar": {
              "outlinewidth": 0,
              "ticks": ""
             }
            },
            "type": "scattergeo"
           }
          ],
          "scattergl": [
           {
            "marker": {
             "colorbar": {
              "outlinewidth": 0,
              "ticks": ""
             }
            },
            "type": "scattergl"
           }
          ],
          "scattermapbox": [
           {
            "marker": {
             "colorbar": {
              "outlinewidth": 0,
              "ticks": ""
             }
            },
            "type": "scattermapbox"
           }
          ],
          "scatterpolar": [
           {
            "marker": {
             "colorbar": {
              "outlinewidth": 0,
              "ticks": ""
             }
            },
            "type": "scatterpolar"
           }
          ],
          "scatterpolargl": [
           {
            "marker": {
             "colorbar": {
              "outlinewidth": 0,
              "ticks": ""
             }
            },
            "type": "scatterpolargl"
           }
          ],
          "scatterternary": [
           {
            "marker": {
             "colorbar": {
              "outlinewidth": 0,
              "ticks": ""
             }
            },
            "type": "scatterternary"
           }
          ],
          "surface": [
           {
            "colorbar": {
             "outlinewidth": 0,
             "ticks": ""
            },
            "colorscale": [
             [
              0,
              "#0d0887"
             ],
             [
              0.1111111111111111,
              "#46039f"
             ],
             [
              0.2222222222222222,
              "#7201a8"
             ],
             [
              0.3333333333333333,
              "#9c179e"
             ],
             [
              0.4444444444444444,
              "#bd3786"
             ],
             [
              0.5555555555555556,
              "#d8576b"
             ],
             [
              0.6666666666666666,
              "#ed7953"
             ],
             [
              0.7777777777777778,
              "#fb9f3a"
             ],
             [
              0.8888888888888888,
              "#fdca26"
             ],
             [
              1,
              "#f0f921"
             ]
            ],
            "type": "surface"
           }
          ],
          "table": [
           {
            "cells": {
             "fill": {
              "color": "#EBF0F8"
             },
             "line": {
              "color": "white"
             }
            },
            "header": {
             "fill": {
              "color": "#C8D4E3"
             },
             "line": {
              "color": "white"
             }
            },
            "type": "table"
           }
          ]
         },
         "layout": {
          "annotationdefaults": {
           "arrowcolor": "#2a3f5f",
           "arrowhead": 0,
           "arrowwidth": 1
          },
          "autotypenumbers": "strict",
          "coloraxis": {
           "colorbar": {
            "outlinewidth": 0,
            "ticks": ""
           }
          },
          "colorscale": {
           "diverging": [
            [
             0,
             "#8e0152"
            ],
            [
             0.1,
             "#c51b7d"
            ],
            [
             0.2,
             "#de77ae"
            ],
            [
             0.3,
             "#f1b6da"
            ],
            [
             0.4,
             "#fde0ef"
            ],
            [
             0.5,
             "#f7f7f7"
            ],
            [
             0.6,
             "#e6f5d0"
            ],
            [
             0.7,
             "#b8e186"
            ],
            [
             0.8,
             "#7fbc41"
            ],
            [
             0.9,
             "#4d9221"
            ],
            [
             1,
             "#276419"
            ]
           ],
           "sequential": [
            [
             0,
             "#0d0887"
            ],
            [
             0.1111111111111111,
             "#46039f"
            ],
            [
             0.2222222222222222,
             "#7201a8"
            ],
            [
             0.3333333333333333,
             "#9c179e"
            ],
            [
             0.4444444444444444,
             "#bd3786"
            ],
            [
             0.5555555555555556,
             "#d8576b"
            ],
            [
             0.6666666666666666,
             "#ed7953"
            ],
            [
             0.7777777777777778,
             "#fb9f3a"
            ],
            [
             0.8888888888888888,
             "#fdca26"
            ],
            [
             1,
             "#f0f921"
            ]
           ],
           "sequentialminus": [
            [
             0,
             "#0d0887"
            ],
            [
             0.1111111111111111,
             "#46039f"
            ],
            [
             0.2222222222222222,
             "#7201a8"
            ],
            [
             0.3333333333333333,
             "#9c179e"
            ],
            [
             0.4444444444444444,
             "#bd3786"
            ],
            [
             0.5555555555555556,
             "#d8576b"
            ],
            [
             0.6666666666666666,
             "#ed7953"
            ],
            [
             0.7777777777777778,
             "#fb9f3a"
            ],
            [
             0.8888888888888888,
             "#fdca26"
            ],
            [
             1,
             "#f0f921"
            ]
           ]
          },
          "colorway": [
           "#636efa",
           "#EF553B",
           "#00cc96",
           "#ab63fa",
           "#FFA15A",
           "#19d3f3",
           "#FF6692",
           "#B6E880",
           "#FF97FF",
           "#FECB52"
          ],
          "font": {
           "color": "#2a3f5f"
          },
          "geo": {
           "bgcolor": "white",
           "lakecolor": "white",
           "landcolor": "#E5ECF6",
           "showlakes": true,
           "showland": true,
           "subunitcolor": "white"
          },
          "hoverlabel": {
           "align": "left"
          },
          "hovermode": "closest",
          "mapbox": {
           "style": "light"
          },
          "paper_bgcolor": "white",
          "plot_bgcolor": "#E5ECF6",
          "polar": {
           "angularaxis": {
            "gridcolor": "white",
            "linecolor": "white",
            "ticks": ""
           },
           "bgcolor": "#E5ECF6",
           "radialaxis": {
            "gridcolor": "white",
            "linecolor": "white",
            "ticks": ""
           }
          },
          "scene": {
           "xaxis": {
            "backgroundcolor": "#E5ECF6",
            "gridcolor": "white",
            "gridwidth": 2,
            "linecolor": "white",
            "showbackground": true,
            "ticks": "",
            "zerolinecolor": "white"
           },
           "yaxis": {
            "backgroundcolor": "#E5ECF6",
            "gridcolor": "white",
            "gridwidth": 2,
            "linecolor": "white",
            "showbackground": true,
            "ticks": "",
            "zerolinecolor": "white"
           },
           "zaxis": {
            "backgroundcolor": "#E5ECF6",
            "gridcolor": "white",
            "gridwidth": 2,
            "linecolor": "white",
            "showbackground": true,
            "ticks": "",
            "zerolinecolor": "white"
           }
          },
          "shapedefaults": {
           "line": {
            "color": "#2a3f5f"
           }
          },
          "ternary": {
           "aaxis": {
            "gridcolor": "white",
            "linecolor": "white",
            "ticks": ""
           },
           "baxis": {
            "gridcolor": "white",
            "linecolor": "white",
            "ticks": ""
           },
           "bgcolor": "#E5ECF6",
           "caxis": {
            "gridcolor": "white",
            "linecolor": "white",
            "ticks": ""
           }
          },
          "title": {
           "x": 0.05
          },
          "xaxis": {
           "automargin": true,
           "gridcolor": "white",
           "linecolor": "white",
           "ticks": "",
           "title": {
            "standoff": 15
           },
           "zerolinecolor": "white",
           "zerolinewidth": 2
          },
          "yaxis": {
           "automargin": true,
           "gridcolor": "white",
           "linecolor": "white",
           "ticks": "",
           "title": {
            "standoff": 15
           },
           "zerolinecolor": "white",
           "zerolinewidth": 2
          }
         }
        },
        "xaxis": {
         "anchor": "y",
         "autorange": true,
         "domain": [
          0,
          1
         ],
         "range": [
          74,
          96
         ],
         "title": {
          "text": "value"
         },
         "type": "linear"
        },
        "yaxis": {
         "anchor": "x",
         "autorange": true,
         "domain": [
          0,
          1
         ],
         "range": [
          0,
          22.105263157894736
         ],
         "title": {
          "text": "count"
         }
        }
       }
      },
      "image/png": "[encoded data removed]",
      "text/html": [
       "<div>                            <div id=\"699b0c63-8dab-4469-92c9-ff43b0f939ec\" class=\"plotly-graph-div\" style=\"height:525px; width:100%;\"></div>            <script type=\"text/javascript\">                require([\"plotly\"], function(Plotly) {                    window.PLOTLYENV=window.PLOTLYENV || {};                                    if (document.getElementById(\"699b0c63-8dab-4469-92c9-ff43b0f939ec\")) {                    Plotly.newPlot(                        \"699b0c63-8dab-4469-92c9-ff43b0f939ec\",                        [{\"alignmentgroup\":\"True\",\"bingroup\":\"x\",\"hovertemplate\":\"variable=Docked_File<br>value=%{x}<br>count=%{y}<extra></extra>\",\"legendgroup\":\"Docked_File\",\"marker\":{\"color\":\"#636efa\",\"pattern\":{\"shape\":\"\"}},\"name\":\"Docked_File\",\"offsetgroup\":\"Docked_File\",\"orientation\":\"v\",\"showlegend\":true,\"x\":[94.0,94.0,88.0,94.0,94.0,90.5,87.0,89.0,94.0,89.0,87.5,87.0,94.0,87.0,91.0,88.5,84.5,92.5,94.0,83.5,89.0,89.5,89.5,86.0,87.5,82.0,92.5,94.0,90.0,91.5,83.0,94.0,92.0,90.0,92.5,88.0,87.5,92.0,89.0,84.5,91.0,81.5,75.5,80.5,85.0,94.0,93.5,80.5,91.5,94.0,91.5,94.0,93.0,90.0,91.5,89.0,89.0,91.0,86.5,83.5,93.0,94.0,92.5,94.0,90.0,88.5,85.0,77.5,78.0,89.0,94.0,84.0,90.0,94.0,92.5,93.0,91.0,91.0,93.0,94.0,93.0,92.5,94.0,90.0,93.0,94.0,94.0,90.0,88.5,92.0,84.5,94.0],\"xaxis\":\"x\",\"yaxis\":\"y\",\"type\":\"histogram\"}],                        {\"template\":{\"data\":{\"histogram2dcontour\":[{\"type\":\"histogram2dcontour\",\"colorbar\":{\"outlinewidth\":0,\"ticks\":\"\"},\"colorscale\":[[0.0,\"#0d0887\"],[0.1111111111111111,\"#46039f\"],[0.2222222222222222,\"#7201a8\"],[0.3333333333333333,\"#9c179e\"],[0.4444444444444444,\"#bd3786\"],[0.5555555555555556,\"#d8576b\"],[0.6666666666666666,\"#ed7953\"],[0.7777777777777778,\"#fb9f3a\"],[0.8888888888888888,\"#fdca26\"],[1.0,\"#f0f921\"]]}],\"choropleth\":[{\"type\":\"choropleth\",\"colorbar\":{\"outlinewidth\":0,\"ticks\":\"\"}}],\"histogram2d\":[{\"type\":\"histogram2d\",\"colorbar\":{\"outlinewidth\":0,\"ticks\":\"\"},\"colorscale\":[[0.0,\"#0d0887\"],[0.1111111111111111,\"#46039f\"],[0.2222222222222222,\"#7201a8\"],[0.3333333333333333,\"#9c179e\"],[0.4444444444444444,\"#bd3786\"],[0.5555555555555556,\"#d8576b\"],[0.6666666666666666,\"#ed7953\"],[0.7777777777777778,\"#fb9f3a\"],[0.8888888888888888,\"#fdca26\"],[1.0,\"#f0f921\"]]}],\"heatmap\":[{\"type\":\"heatmap\",\"colorbar\":{\"outlinewidth\":0,\"ticks\":\"\"},\"colorscale\":[[0.0,\"#0d0887\"],[0.1111111111111111,\"#46039f\"],[0.2222222222222222,\"#7201a8\"],[0.3333333333333333,\"#9c179e\"],[0.4444444444444444,\"#bd3786\"],[0.5555555555555556,\"#d8576b\"],[0.6666666666666666,\"#ed7953\"],[0.7777777777777778,\"#fb9f3a\"],[0.8888888888888888,\"#fdca26\"],[1.0,\"#f0f921\"]]}],\"heatmapgl\":[{\"type\":\"heatmapgl\",\"colorbar\":{\"outlinewidth\":0,\"ticks\":\"\"},\"colorscale\":[[0.0,\"#0d0887\"],[0.1111111111111111,\"#46039f\"],[0.2222222222222222,\"#7201a8\"],[0.3333333333333333,\"#9c179e\"],[0.4444444444444444,\"#bd3786\"],[0.5555555555555556,\"#d8576b\"],[0.6666666666666666,\"#ed7953\"],[0.7777777777777778,\"#fb9f3a\"],[0.8888888888888888,\"#fdca26\"],[1.0,\"#f0f921\"]]}],\"contourcarpet\":[{\"type\":\"contourcarpet\",\"colorbar\":{\"outlinewidth\":0,\"ticks\":\"\"}}],\"contour\":[{\"type\":\"contour\",\"colorbar\":{\"outlinewidth\":0,\"ticks\":\"\"},\"colorscale\":[[0.0,\"#0d0887\"],[0.1111111111111111,\"#46039f\"],[0.2222222222222222,\"#7201a8\"],[0.3333333333333333,\"#9c179e\"],[0.4444444444444444,\"#bd3786\"],[0.5555555555555556,\"#d8576b\"],[0.6666666666666666,\"#ed7953\"],[0.7777777777777778,\"#fb9f3a\"],[0.8888888888888888,\"#fdca26\"],[1.0,\"#f0f921\"]]}],\"surface\":[{\"type\":\"surface\",\"colorbar\":{\"outlinewidth\":0,\"ticks\":\"\"},\"colorscale\":[[0.0,\"#0d0887\"],[0.1111111111111111,\"#46039f\"],[0.2222222222222222,\"#7201a8\"],[0.3333333333333333,\"#9c179e\"],[0.4444444444444444,\"#bd3786\"],[0.5555555555555556,\"#d8576b\"],[0.6666666666666666,\"#ed7953\"],[0.7777777777777778,\"#fb9f3a\"],[0.8888888888888888,\"#fdca26\"],[1.0,\"#f0f921\"]]}],\"mesh3d\":[{\"type\":\"mesh3d\",\"colorbar\":{\"outlinewidth\":0,\"ticks\":\"\"}}],\"scatter\":[{\"fillpattern\":{\"fillmode\":\"overlay\",\"size\":10,\"solidity\":0.2},\"type\":\"scatter\"}],\"parcoords\":[{\"type\":\"parcoords\",\"line\":{\"colorbar\":{\"outlinewidth\":0,\"ticks\":\"\"}}}],\"scatterpolargl\":[{\"type\":\"scatterpolargl\",\"marker\":{\"colorbar\":{\"outlinewidth\":0,\"ticks\":\"\"}}}],\"bar\":[{\"error_x\":{\"color\":\"#2a3f5f\"},\"error_y\":{\"color\":\"#2a3f5f\"},\"marker\":{\"line\":{\"color\":\"#E5ECF6\",\"width\":0.5},\"pattern\":{\"fillmode\":\"overlay\",\"size\":10,\"solidity\":0.2}},\"type\":\"bar\"}],\"scattergeo\":[{\"type\":\"scattergeo\",\"marker\":{\"colorbar\":{\"outlinewidth\":0,\"ticks\":\"\"}}}],\"scatterpolar\":[{\"type\":\"scatterpolar\",\"marker\":{\"colorbar\":{\"outlinewidth\":0,\"ticks\":\"\"}}}],\"histogram\":[{\"marker\":{\"pattern\":{\"fillmode\":\"overlay\",\"size\":10,\"solidity\":0.2}},\"type\":\"histogram\"}],\"scattergl\":[{\"type\":\"scattergl\",\"marker\":{\"colorbar\":{\"outlinewidth\":0,\"ticks\":\"\"}}}],\"scatter3d\":[{\"type\":\"scatter3d\",\"line\":{\"colorbar\":{\"outlinewidth\":0,\"ticks\":\"\"}},\"marker\":{\"colorbar\":{\"outlinewidth\":0,\"ticks\":\"\"}}}],\"scattermapbox\":[{\"type\":\"scattermapbox\",\"marker\":{\"colorbar\":{\"outlinewidth\":0,\"ticks\":\"\"}}}],\"scatterternary\":[{\"type\":\"scatterternary\",\"marker\":{\"colorbar\":{\"outlinewidth\":0,\"ticks\":\"\"}}}],\"scattercarpet\":[{\"type\":\"scattercarpet\",\"marker\":{\"colorbar\":{\"outlinewidth\":0,\"ticks\":\"\"}}}],\"carpet\":[{\"aaxis\":{\"endlinecolor\":\"#2a3f5f\",\"gridcolor\":\"white\",\"linecolor\":\"white\",\"minorgridcolor\":\"white\",\"startlinecolor\":\"#2a3f5f\"},\"baxis\":{\"endlinecolor\":\"#2a3f5f\",\"gridcolor\":\"white\",\"linecolor\":\"white\",\"minorgridcolor\":\"white\",\"startlinecolor\":\"#2a3f5f\"},\"type\":\"carpet\"}],\"table\":[{\"cells\":{\"fill\":{\"color\":\"#EBF0F8\"},\"line\":{\"color\":\"white\"}},\"header\":{\"fill\":{\"color\":\"#C8D4E3\"},\"line\":{\"color\":\"white\"}},\"type\":\"table\"}],\"barpolar\":[{\"marker\":{\"line\":{\"color\":\"#E5ECF6\",\"width\":0.5},\"pattern\":{\"fillmode\":\"overlay\",\"size\":10,\"solidity\":0.2}},\"type\":\"barpolar\"}],\"pie\":[{\"automargin\":true,\"type\":\"pie\"}]},\"layout\":{\"autotypenumbers\":\"strict\",\"colorway\":[\"#636efa\",\"#EF553B\",\"#00cc96\",\"#ab63fa\",\"#FFA15A\",\"#19d3f3\",\"#FF6692\",\"#B6E880\",\"#FF97FF\",\"#FECB52\"],\"font\":{\"color\":\"#2a3f5f\"},\"hovermode\":\"closest\",\"hoverlabel\":{\"align\":\"left\"},\"paper_bgcolor\":\"white\",\"plot_bgcolor\":\"#E5ECF6\",\"polar\":{\"bgcolor\":\"#E5ECF6\",\"angularaxis\":{\"gridcolor\":\"white\",\"linecolor\":\"white\",\"ticks\":\"\"},\"radialaxis\":{\"gridcolor\":\"white\",\"linecolor\":\"white\",\"ticks\":\"\"}},\"ternary\":{\"bgcolor\":\"#E5ECF6\",\"aaxis\":{\"gridcolor\":\"white\",\"linecolor\":\"white\",\"ticks\":\"\"},\"baxis\":{\"gridcolor\":\"white\",\"linecolor\":\"white\",\"ticks\":\"\"},\"caxis\":{\"gridcolor\":\"white\",\"linecolor\":\"white\",\"ticks\":\"\"}},\"coloraxis\":{\"colorbar\":{\"outlinewidth\":0,\"ticks\":\"\"}},\"colorscale\":{\"sequential\":[[0.0,\"#0d0887\"],[0.1111111111111111,\"#46039f\"],[0.2222222222222222,\"#7201a8\"],[0.3333333333333333,\"#9c179e\"],[0.4444444444444444,\"#bd3786\"],[0.5555555555555556,\"#d8576b\"],[0.6666666666666666,\"#ed7953\"],[0.7777777777777778,\"#fb9f3a\"],[0.8888888888888888,\"#fdca26\"],[1.0,\"#f0f921\"]],\"sequentialminus\":[[0.0,\"#0d0887\"],[0.1111111111111111,\"#46039f\"],[0.2222222222222222,\"#7201a8\"],[0.3333333333333333,\"#9c179e\"],[0.4444444444444444,\"#bd3786\"],[0.5555555555555556,\"#d8576b\"],[0.6666666666666666,\"#ed7953\"],[0.7777777777777778,\"#fb9f3a\"],[0.8888888888888888,\"#fdca26\"],[1.0,\"#f0f921\"]],\"diverging\":[[0,\"#8e0152\"],[0.1,\"#c51b7d\"],[0.2,\"#de77ae\"],[0.3,\"#f1b6da\"],[0.4,\"#fde0ef\"],[0.5,\"#f7f7f7\"],[0.6,\"#e6f5d0\"],[0.7,\"#b8e186\"],[0.8,\"#7fbc41\"],[0.9,\"#4d9221\"],[1,\"#276419\"]]},\"xaxis\":{\"gridcolor\":\"white\",\"linecolor\":\"white\",\"ticks\":\"\",\"title\":{\"standoff\":15},\"zerolinecolor\":\"white\",\"automargin\":true,\"zerolinewidth\":2},\"yaxis\":{\"gridcolor\":\"white\",\"linecolor\":\"white\",\"ticks\":\"\",\"title\":{\"standoff\":15},\"zerolinecolor\":\"white\",\"automargin\":true,\"zerolinewidth\":2},\"scene\":{\"xaxis\":{\"backgroundcolor\":\"#E5ECF6\",\"gridcolor\":\"white\",\"linecolor\":\"white\",\"showbackground\":true,\"ticks\":\"\",\"zerolinecolor\":\"white\",\"gridwidth\":2},\"yaxis\":{\"backgroundcolor\":\"#E5ECF6\",\"gridcolor\":\"white\",\"linecolor\":\"white\",\"showbackground\":true,\"ticks\":\"\",\"zerolinecolor\":\"white\",\"gridwidth\":2},\"zaxis\":{\"backgroundcolor\":\"#E5ECF6\",\"gridcolor\":\"white\",\"linecolor\":\"white\",\"showbackground\":true,\"ticks\":\"\",\"zerolinecolor\":\"white\",\"gridwidth\":2}},\"shapedefaults\":{\"line\":{\"color\":\"#2a3f5f\"}},\"annotationdefaults\":{\"arrowcolor\":\"#2a3f5f\",\"arrowhead\":0,\"arrowwidth\":1},\"geo\":{\"bgcolor\":\"white\",\"landcolor\":\"#E5ECF6\",\"subunitcolor\":\"white\",\"showland\":true,\"showlakes\":true,\"lakecolor\":\"white\"},\"title\":{\"x\":0.05},\"mapbox\":{\"style\":\"light\"}}},\"xaxis\":{\"anchor\":\"y\",\"domain\":[0.0,1.0],\"title\":{\"text\":\"value\"}},\"yaxis\":{\"anchor\":\"x\",\"domain\":[0.0,1.0],\"title\":{\"text\":\"count\"}},\"legend\":{\"title\":{\"text\":\"variable\"},\"tracegroupgap\":0},\"margin\":{\"t\":60},\"barmode\":\"relative\"},                        {\"responsive\": true}                    ).then(function(){\n",
       "                            \n",
       "var gd = document.getElementById('699b0c63-8dab-4469-92c9-ff43b0f939ec');\n",
       "var x = new MutationObserver(function (mutations, observer) {{\n",
       "        var display = window.getComputedStyle(gd).display;\n",
       "        if (!display || display === 'none') {{\n",
       "            console.log([gd, 'removed!']);\n",
       "            Plotly.purge(gd);\n",
       "            observer.disconnect();\n",
       "        }}\n",
       "}});\n",
       "\n",
       "// Listen for the removal of the full notebook cells\n",
       "var notebookContainer = gd.closest('#notebook-container');\n",
       "if (notebookContainer) {{\n",
       "    x.observe(notebookContainer, {childList: true});\n",
       "}}\n",
       "\n",
       "// Listen for the clearing of the current output cell\n",
       "var outputEl = gd.closest('.output');\n",
       "if (outputEl) {{\n",
       "    x.observe(outputEl, {childList: true});\n",
       "}}\n",
       "\n",
       "                        })                };                });            </script>        </div>"
      ]
     },
     "metadata": {},
     "output_type": "display_data"
    }
   ],
   "source": [
    "px.histogram(n_successfully_docked_superclean / 2)"
   ]
  },
  {
   "cell_type": "code",
   "execution_count": 168,
   "id": "af68662f-0f42-4eaa-a8cc-987c6c9eace5",
   "metadata": {
    "tags": []
   },
   "outputs": [],
   "source": [
    "minimal_success = superclean[(superclean.Compound_ID == \"MAT-POS-5cd9ea36-16\") & (superclean.Version == \"Hybrid-Only\")].Reference_Ligand.unique()"
   ]
  },
  {
   "cell_type": "code",
   "execution_count": 169,
   "id": "317a18a8-a0f4-4e46-8a8f-7669eb912762",
   "metadata": {
    "tags": []
   },
   "outputs": [],
   "source": [
    "superclean = superclean[superclean.Compound_ID.isin(minimal_success)]\n",
    "superclean = superclean[superclean.Reference_Ligand.isin(minimal_success)]"
   ]
  },
  {
   "cell_type": "code",
   "execution_count": 170,
   "id": "3ea52985-8280-4e5a-9863-f1f8093ec544",
   "metadata": {
    "tags": []
   },
   "outputs": [],
   "source": [
    "n_successfully_docked_superclean = superclean.groupby(\"Compound_ID\").nunique().Docked_File"
   ]
  },
  {
   "cell_type": "code",
   "execution_count": 171,
   "id": "614484c3-be7b-4a0a-b132-077d9fac8858",
   "metadata": {
    "tags": []
   },
   "outputs": [
    {
     "data": {
      "application/vnd.plotly.v1+json": {
       "config": {
        "plotlyServerURL": "https://plot.ly"
       },
       "data": [
        {
         "alignmentgroup": "True",
         "bingroup": "x",
         "hovertemplate": "variable=Docked_File<br>value=%{x}<br>count=%{y}<extra></extra>",
         "legendgroup": "Docked_File",
         "marker": {
          "color": "#636efa",
          "pattern": {
           "shape": ""
          }
         },
         "name": "Docked_File",
         "offsetgroup": "Docked_File",
         "orientation": "v",
         "showlegend": true,
         "type": "histogram",
         "x": [
          56,
          55,
          52,
          56,
          53,
          56,
          53,
          51,
          54.5,
          56,
          49.5,
          54,
          54.5,
          51,
          55.5,
          53.5,
          55.5,
          56,
          53.5,
          55,
          52.5,
          54,
          48,
          51,
          53,
          55.5,
          50,
          54,
          56,
          54.5,
          56,
          56,
          53.5,
          54,
          52.5,
          52,
          55,
          52,
          55,
          55.5,
          56,
          52,
          52.5,
          56,
          55,
          54,
          55,
          56,
          55,
          55.5,
          56,
          54.5,
          56,
          53.5,
          50,
          56
         ],
         "xaxis": "x",
         "yaxis": "y"
        }
       ],
       "layout": {
        "autosize": true,
        "barmode": "relative",
        "legend": {
         "title": {
          "text": "variable"
         },
         "tracegroupgap": 0
        },
        "margin": {
         "t": 60
        },
        "template": {
         "data": {
          "bar": [
           {
            "error_x": {
             "color": "#2a3f5f"
            },
            "error_y": {
             "color": "#2a3f5f"
            },
            "marker": {
             "line": {
              "color": "#E5ECF6",
              "width": 0.5
             },
             "pattern": {
              "fillmode": "overlay",
              "size": 10,
              "solidity": 0.2
             }
            },
            "type": "bar"
           }
          ],
          "barpolar": [
           {
            "marker": {
             "line": {
              "color": "#E5ECF6",
              "width": 0.5
             },
             "pattern": {
              "fillmode": "overlay",
              "size": 10,
              "solidity": 0.2
             }
            },
            "type": "barpolar"
           }
          ],
          "carpet": [
           {
            "aaxis": {
             "endlinecolor": "#2a3f5f",
             "gridcolor": "white",
             "linecolor": "white",
             "minorgridcolor": "white",
             "startlinecolor": "#2a3f5f"
            },
            "baxis": {
             "endlinecolor": "#2a3f5f",
             "gridcolor": "white",
             "linecolor": "white",
             "minorgridcolor": "white",
             "startlinecolor": "#2a3f5f"
            },
            "type": "carpet"
           }
          ],
          "choropleth": [
           {
            "colorbar": {
             "outlinewidth": 0,
             "ticks": ""
            },
            "type": "choropleth"
           }
          ],
          "contour": [
           {
            "colorbar": {
             "outlinewidth": 0,
             "ticks": ""
            },
            "colorscale": [
             [
              0,
              "#0d0887"
             ],
             [
              0.1111111111111111,
              "#46039f"
             ],
             [
              0.2222222222222222,
              "#7201a8"
             ],
             [
              0.3333333333333333,
              "#9c179e"
             ],
             [
              0.4444444444444444,
              "#bd3786"
             ],
             [
              0.5555555555555556,
              "#d8576b"
             ],
             [
              0.6666666666666666,
              "#ed7953"
             ],
             [
              0.7777777777777778,
              "#fb9f3a"
             ],
             [
              0.8888888888888888,
              "#fdca26"
             ],
             [
              1,
              "#f0f921"
             ]
            ],
            "type": "contour"
           }
          ],
          "contourcarpet": [
           {
            "colorbar": {
             "outlinewidth": 0,
             "ticks": ""
            },
            "type": "contourcarpet"
           }
          ],
          "heatmap": [
           {
            "colorbar": {
             "outlinewidth": 0,
             "ticks": ""
            },
            "colorscale": [
             [
              0,
              "#0d0887"
             ],
             [
              0.1111111111111111,
              "#46039f"
             ],
             [
              0.2222222222222222,
              "#7201a8"
             ],
             [
              0.3333333333333333,
              "#9c179e"
             ],
             [
              0.4444444444444444,
              "#bd3786"
             ],
             [
              0.5555555555555556,
              "#d8576b"
             ],
             [
              0.6666666666666666,
              "#ed7953"
             ],
             [
              0.7777777777777778,
              "#fb9f3a"
             ],
             [
              0.8888888888888888,
              "#fdca26"
             ],
             [
              1,
              "#f0f921"
             ]
            ],
            "type": "heatmap"
           }
          ],
          "heatmapgl": [
           {
            "colorbar": {
             "outlinewidth": 0,
             "ticks": ""
            },
            "colorscale": [
             [
              0,
              "#0d0887"
             ],
             [
              0.1111111111111111,
              "#46039f"
             ],
             [
              0.2222222222222222,
              "#7201a8"
             ],
             [
              0.3333333333333333,
              "#9c179e"
             ],
             [
              0.4444444444444444,
              "#bd3786"
             ],
             [
              0.5555555555555556,
              "#d8576b"
             ],
             [
              0.6666666666666666,
              "#ed7953"
             ],
             [
              0.7777777777777778,
              "#fb9f3a"
             ],
             [
              0.8888888888888888,
              "#fdca26"
             ],
             [
              1,
              "#f0f921"
             ]
            ],
            "type": "heatmapgl"
           }
          ],
          "histogram": [
           {
            "marker": {
             "pattern": {
              "fillmode": "overlay",
              "size": 10,
              "solidity": 0.2
             }
            },
            "type": "histogram"
           }
          ],
          "histogram2d": [
           {
            "colorbar": {
             "outlinewidth": 0,
             "ticks": ""
            },
            "colorscale": [
             [
              0,
              "#0d0887"
             ],
             [
              0.1111111111111111,
              "#46039f"
             ],
             [
              0.2222222222222222,
              "#7201a8"
             ],
             [
              0.3333333333333333,
              "#9c179e"
             ],
             [
              0.4444444444444444,
              "#bd3786"
             ],
             [
              0.5555555555555556,
              "#d8576b"
             ],
             [
              0.6666666666666666,
              "#ed7953"
             ],
             [
              0.7777777777777778,
              "#fb9f3a"
             ],
             [
              0.8888888888888888,
              "#fdca26"
             ],
             [
              1,
              "#f0f921"
             ]
            ],
            "type": "histogram2d"
           }
          ],
          "histogram2dcontour": [
           {
            "colorbar": {
             "outlinewidth": 0,
             "ticks": ""
            },
            "colorscale": [
             [
              0,
              "#0d0887"
             ],
             [
              0.1111111111111111,
              "#46039f"
             ],
             [
              0.2222222222222222,
              "#7201a8"
             ],
             [
              0.3333333333333333,
              "#9c179e"
             ],
             [
              0.4444444444444444,
              "#bd3786"
             ],
             [
              0.5555555555555556,
              "#d8576b"
             ],
             [
              0.6666666666666666,
              "#ed7953"
             ],
             [
              0.7777777777777778,
              "#fb9f3a"
             ],
             [
              0.8888888888888888,
              "#fdca26"
             ],
             [
              1,
              "#f0f921"
             ]
            ],
            "type": "histogram2dcontour"
           }
          ],
          "mesh3d": [
           {
            "colorbar": {
             "outlinewidth": 0,
             "ticks": ""
            },
            "type": "mesh3d"
           }
          ],
          "parcoords": [
           {
            "line": {
             "colorbar": {
              "outlinewidth": 0,
              "ticks": ""
             }
            },
            "type": "parcoords"
           }
          ],
          "pie": [
           {
            "automargin": true,
            "type": "pie"
           }
          ],
          "scatter": [
           {
            "fillpattern": {
             "fillmode": "overlay",
             "size": 10,
             "solidity": 0.2
            },
            "type": "scatter"
           }
          ],
          "scatter3d": [
           {
            "line": {
             "colorbar": {
              "outlinewidth": 0,
              "ticks": ""
             }
            },
            "marker": {
             "colorbar": {
              "outlinewidth": 0,
              "ticks": ""
             }
            },
            "type": "scatter3d"
           }
          ],
          "scattercarpet": [
           {
            "marker": {
             "colorbar": {
              "outlinewidth": 0,
              "ticks": ""
             }
            },
            "type": "scattercarpet"
           }
          ],
          "scattergeo": [
           {
            "marker": {
             "colorbar": {
              "outlinewidth": 0,
              "ticks": ""
             }
            },
            "type": "scattergeo"
           }
          ],
          "scattergl": [
           {
            "marker": {
             "colorbar": {
              "outlinewidth": 0,
              "ticks": ""
             }
            },
            "type": "scattergl"
           }
          ],
          "scattermapbox": [
           {
            "marker": {
             "colorbar": {
              "outlinewidth": 0,
              "ticks": ""
             }
            },
            "type": "scattermapbox"
           }
          ],
          "scatterpolar": [
           {
            "marker": {
             "colorbar": {
              "outlinewidth": 0,
              "ticks": ""
             }
            },
            "type": "scatterpolar"
           }
          ],
          "scatterpolargl": [
           {
            "marker": {
             "colorbar": {
              "outlinewidth": 0,
              "ticks": ""
             }
            },
            "type": "scatterpolargl"
           }
          ],
          "scatterternary": [
           {
            "marker": {
             "colorbar": {
              "outlinewidth": 0,
              "ticks": ""
             }
            },
            "type": "scatterternary"
           }
          ],
          "surface": [
           {
            "colorbar": {
             "outlinewidth": 0,
             "ticks": ""
            },
            "colorscale": [
             [
              0,
              "#0d0887"
             ],
             [
              0.1111111111111111,
              "#46039f"
             ],
             [
              0.2222222222222222,
              "#7201a8"
             ],
             [
              0.3333333333333333,
              "#9c179e"
             ],
             [
              0.4444444444444444,
              "#bd3786"
             ],
             [
              0.5555555555555556,
              "#d8576b"
             ],
             [
              0.6666666666666666,
              "#ed7953"
             ],
             [
              0.7777777777777778,
              "#fb9f3a"
             ],
             [
              0.8888888888888888,
              "#fdca26"
             ],
             [
              1,
              "#f0f921"
             ]
            ],
            "type": "surface"
           }
          ],
          "table": [
           {
            "cells": {
             "fill": {
              "color": "#EBF0F8"
             },
             "line": {
              "color": "white"
             }
            },
            "header": {
             "fill": {
              "color": "#C8D4E3"
             },
             "line": {
              "color": "white"
             }
            },
            "type": "table"
           }
          ]
         },
         "layout": {
          "annotationdefaults": {
           "arrowcolor": "#2a3f5f",
           "arrowhead": 0,
           "arrowwidth": 1
          },
          "autotypenumbers": "strict",
          "coloraxis": {
           "colorbar": {
            "outlinewidth": 0,
            "ticks": ""
           }
          },
          "colorscale": {
           "diverging": [
            [
             0,
             "#8e0152"
            ],
            [
             0.1,
             "#c51b7d"
            ],
            [
             0.2,
             "#de77ae"
            ],
            [
             0.3,
             "#f1b6da"
            ],
            [
             0.4,
             "#fde0ef"
            ],
            [
             0.5,
             "#f7f7f7"
            ],
            [
             0.6,
             "#e6f5d0"
            ],
            [
             0.7,
             "#b8e186"
            ],
            [
             0.8,
             "#7fbc41"
            ],
            [
             0.9,
             "#4d9221"
            ],
            [
             1,
             "#276419"
            ]
           ],
           "sequential": [
            [
             0,
             "#0d0887"
            ],
            [
             0.1111111111111111,
             "#46039f"
            ],
            [
             0.2222222222222222,
             "#7201a8"
            ],
            [
             0.3333333333333333,
             "#9c179e"
            ],
            [
             0.4444444444444444,
             "#bd3786"
            ],
            [
             0.5555555555555556,
             "#d8576b"
            ],
            [
             0.6666666666666666,
             "#ed7953"
            ],
            [
             0.7777777777777778,
             "#fb9f3a"
            ],
            [
             0.8888888888888888,
             "#fdca26"
            ],
            [
             1,
             "#f0f921"
            ]
           ],
           "sequentialminus": [
            [
             0,
             "#0d0887"
            ],
            [
             0.1111111111111111,
             "#46039f"
            ],
            [
             0.2222222222222222,
             "#7201a8"
            ],
            [
             0.3333333333333333,
             "#9c179e"
            ],
            [
             0.4444444444444444,
             "#bd3786"
            ],
            [
             0.5555555555555556,
             "#d8576b"
            ],
            [
             0.6666666666666666,
             "#ed7953"
            ],
            [
             0.7777777777777778,
             "#fb9f3a"
            ],
            [
             0.8888888888888888,
             "#fdca26"
            ],
            [
             1,
             "#f0f921"
            ]
           ]
          },
          "colorway": [
           "#636efa",
           "#EF553B",
           "#00cc96",
           "#ab63fa",
           "#FFA15A",
           "#19d3f3",
           "#FF6692",
           "#B6E880",
           "#FF97FF",
           "#FECB52"
          ],
          "font": {
           "color": "#2a3f5f"
          },
          "geo": {
           "bgcolor": "white",
           "lakecolor": "white",
           "landcolor": "#E5ECF6",
           "showlakes": true,
           "showland": true,
           "subunitcolor": "white"
          },
          "hoverlabel": {
           "align": "left"
          },
          "hovermode": "closest",
          "mapbox": {
           "style": "light"
          },
          "paper_bgcolor": "white",
          "plot_bgcolor": "#E5ECF6",
          "polar": {
           "angularaxis": {
            "gridcolor": "white",
            "linecolor": "white",
            "ticks": ""
           },
           "bgcolor": "#E5ECF6",
           "radialaxis": {
            "gridcolor": "white",
            "linecolor": "white",
            "ticks": ""
           }
          },
          "scene": {
           "xaxis": {
            "backgroundcolor": "#E5ECF6",
            "gridcolor": "white",
            "gridwidth": 2,
            "linecolor": "white",
            "showbackground": true,
            "ticks": "",
            "zerolinecolor": "white"
           },
           "yaxis": {
            "backgroundcolor": "#E5ECF6",
            "gridcolor": "white",
            "gridwidth": 2,
            "linecolor": "white",
            "showbackground": true,
            "ticks": "",
            "zerolinecolor": "white"
           },
           "zaxis": {
            "backgroundcolor": "#E5ECF6",
            "gridcolor": "white",
            "gridwidth": 2,
            "linecolor": "white",
            "showbackground": true,
            "ticks": "",
            "zerolinecolor": "white"
           }
          },
          "shapedefaults": {
           "line": {
            "color": "#2a3f5f"
           }
          },
          "ternary": {
           "aaxis": {
            "gridcolor": "white",
            "linecolor": "white",
            "ticks": ""
           },
           "baxis": {
            "gridcolor": "white",
            "linecolor": "white",
            "ticks": ""
           },
           "bgcolor": "#E5ECF6",
           "caxis": {
            "gridcolor": "white",
            "linecolor": "white",
            "ticks": ""
           }
          },
          "title": {
           "x": 0.05
          },
          "xaxis": {
           "automargin": true,
           "gridcolor": "white",
           "linecolor": "white",
           "ticks": "",
           "title": {
            "standoff": 15
           },
           "zerolinecolor": "white",
           "zerolinewidth": 2
          },
          "yaxis": {
           "automargin": true,
           "gridcolor": "white",
           "linecolor": "white",
           "ticks": "",
           "title": {
            "standoff": 15
           },
           "zerolinecolor": "white",
           "zerolinewidth": 2
          }
         }
        },
        "xaxis": {
         "anchor": "y",
         "autorange": true,
         "domain": [
          0,
          1
         ],
         "range": [
          48,
          57
         ],
         "title": {
          "text": "value"
         },
         "type": "linear"
        },
        "yaxis": {
         "anchor": "x",
         "autorange": true,
         "domain": [
          0,
          1
         ],
         "range": [
          0,
          14.736842105263158
         ],
         "title": {
          "text": "count"
         }
        }
       }
      },
      "image/png": "[encoded data removed]",
      "text/html": [
       "<div>                            <div id=\"adccad0f-ce60-44cc-acf4-3597df857dbd\" class=\"plotly-graph-div\" style=\"height:525px; width:100%;\"></div>            <script type=\"text/javascript\">                require([\"plotly\"], function(Plotly) {                    window.PLOTLYENV=window.PLOTLYENV || {};                                    if (document.getElementById(\"adccad0f-ce60-44cc-acf4-3597df857dbd\")) {                    Plotly.newPlot(                        \"adccad0f-ce60-44cc-acf4-3597df857dbd\",                        [{\"alignmentgroup\":\"True\",\"bingroup\":\"x\",\"hovertemplate\":\"variable=Docked_File<br>value=%{x}<br>count=%{y}<extra></extra>\",\"legendgroup\":\"Docked_File\",\"marker\":{\"color\":\"#636efa\",\"pattern\":{\"shape\":\"\"}},\"name\":\"Docked_File\",\"offsetgroup\":\"Docked_File\",\"orientation\":\"v\",\"showlegend\":true,\"x\":[56.0,55.0,52.0,56.0,53.0,56.0,53.0,51.0,54.5,56.0,49.5,54.0,54.5,51.0,55.5,53.5,55.5,56.0,53.5,55.0,52.5,54.0,48.0,51.0,53.0,55.5,50.0,54.0,56.0,54.5,56.0,56.0,53.5,54.0,52.5,52.0,55.0,52.0,55.0,55.5,56.0,52.0,52.5,56.0,55.0,54.0,55.0,56.0,55.0,55.5,56.0,54.5,56.0,53.5,50.0,56.0],\"xaxis\":\"x\",\"yaxis\":\"y\",\"type\":\"histogram\"}],                        {\"template\":{\"data\":{\"histogram2dcontour\":[{\"type\":\"histogram2dcontour\",\"colorbar\":{\"outlinewidth\":0,\"ticks\":\"\"},\"colorscale\":[[0.0,\"#0d0887\"],[0.1111111111111111,\"#46039f\"],[0.2222222222222222,\"#7201a8\"],[0.3333333333333333,\"#9c179e\"],[0.4444444444444444,\"#bd3786\"],[0.5555555555555556,\"#d8576b\"],[0.6666666666666666,\"#ed7953\"],[0.7777777777777778,\"#fb9f3a\"],[0.8888888888888888,\"#fdca26\"],[1.0,\"#f0f921\"]]}],\"choropleth\":[{\"type\":\"choropleth\",\"colorbar\":{\"outlinewidth\":0,\"ticks\":\"\"}}],\"histogram2d\":[{\"type\":\"histogram2d\",\"colorbar\":{\"outlinewidth\":0,\"ticks\":\"\"},\"colorscale\":[[0.0,\"#0d0887\"],[0.1111111111111111,\"#46039f\"],[0.2222222222222222,\"#7201a8\"],[0.3333333333333333,\"#9c179e\"],[0.4444444444444444,\"#bd3786\"],[0.5555555555555556,\"#d8576b\"],[0.6666666666666666,\"#ed7953\"],[0.7777777777777778,\"#fb9f3a\"],[0.8888888888888888,\"#fdca26\"],[1.0,\"#f0f921\"]]}],\"heatmap\":[{\"type\":\"heatmap\",\"colorbar\":{\"outlinewidth\":0,\"ticks\":\"\"},\"colorscale\":[[0.0,\"#0d0887\"],[0.1111111111111111,\"#46039f\"],[0.2222222222222222,\"#7201a8\"],[0.3333333333333333,\"#9c179e\"],[0.4444444444444444,\"#bd3786\"],[0.5555555555555556,\"#d8576b\"],[0.6666666666666666,\"#ed7953\"],[0.7777777777777778,\"#fb9f3a\"],[0.8888888888888888,\"#fdca26\"],[1.0,\"#f0f921\"]]}],\"heatmapgl\":[{\"type\":\"heatmapgl\",\"colorbar\":{\"outlinewidth\":0,\"ticks\":\"\"},\"colorscale\":[[0.0,\"#0d0887\"],[0.1111111111111111,\"#46039f\"],[0.2222222222222222,\"#7201a8\"],[0.3333333333333333,\"#9c179e\"],[0.4444444444444444,\"#bd3786\"],[0.5555555555555556,\"#d8576b\"],[0.6666666666666666,\"#ed7953\"],[0.7777777777777778,\"#fb9f3a\"],[0.8888888888888888,\"#fdca26\"],[1.0,\"#f0f921\"]]}],\"contourcarpet\":[{\"type\":\"contourcarpet\",\"colorbar\":{\"outlinewidth\":0,\"ticks\":\"\"}}],\"contour\":[{\"type\":\"contour\",\"colorbar\":{\"outlinewidth\":0,\"ticks\":\"\"},\"colorscale\":[[0.0,\"#0d0887\"],[0.1111111111111111,\"#46039f\"],[0.2222222222222222,\"#7201a8\"],[0.3333333333333333,\"#9c179e\"],[0.4444444444444444,\"#bd3786\"],[0.5555555555555556,\"#d8576b\"],[0.6666666666666666,\"#ed7953\"],[0.7777777777777778,\"#fb9f3a\"],[0.8888888888888888,\"#fdca26\"],[1.0,\"#f0f921\"]]}],\"surface\":[{\"type\":\"surface\",\"colorbar\":{\"outlinewidth\":0,\"ticks\":\"\"},\"colorscale\":[[0.0,\"#0d0887\"],[0.1111111111111111,\"#46039f\"],[0.2222222222222222,\"#7201a8\"],[0.3333333333333333,\"#9c179e\"],[0.4444444444444444,\"#bd3786\"],[0.5555555555555556,\"#d8576b\"],[0.6666666666666666,\"#ed7953\"],[0.7777777777777778,\"#fb9f3a\"],[0.8888888888888888,\"#fdca26\"],[1.0,\"#f0f921\"]]}],\"mesh3d\":[{\"type\":\"mesh3d\",\"colorbar\":{\"outlinewidth\":0,\"ticks\":\"\"}}],\"scatter\":[{\"fillpattern\":{\"fillmode\":\"overlay\",\"size\":10,\"solidity\":0.2},\"type\":\"scatter\"}],\"parcoords\":[{\"type\":\"parcoords\",\"line\":{\"colorbar\":{\"outlinewidth\":0,\"ticks\":\"\"}}}],\"scatterpolargl\":[{\"type\":\"scatterpolargl\",\"marker\":{\"colorbar\":{\"outlinewidth\":0,\"ticks\":\"\"}}}],\"bar\":[{\"error_x\":{\"color\":\"#2a3f5f\"},\"error_y\":{\"color\":\"#2a3f5f\"},\"marker\":{\"line\":{\"color\":\"#E5ECF6\",\"width\":0.5},\"pattern\":{\"fillmode\":\"overlay\",\"size\":10,\"solidity\":0.2}},\"type\":\"bar\"}],\"scattergeo\":[{\"type\":\"scattergeo\",\"marker\":{\"colorbar\":{\"outlinewidth\":0,\"ticks\":\"\"}}}],\"scatterpolar\":[{\"type\":\"scatterpolar\",\"marker\":{\"colorbar\":{\"outlinewidth\":0,\"ticks\":\"\"}}}],\"histogram\":[{\"marker\":{\"pattern\":{\"fillmode\":\"overlay\",\"size\":10,\"solidity\":0.2}},\"type\":\"histogram\"}],\"scattergl\":[{\"type\":\"scattergl\",\"marker\":{\"colorbar\":{\"outlinewidth\":0,\"ticks\":\"\"}}}],\"scatter3d\":[{\"type\":\"scatter3d\",\"line\":{\"colorbar\":{\"outlinewidth\":0,\"ticks\":\"\"}},\"marker\":{\"colorbar\":{\"outlinewidth\":0,\"ticks\":\"\"}}}],\"scattermapbox\":[{\"type\":\"scattermapbox\",\"marker\":{\"colorbar\":{\"outlinewidth\":0,\"ticks\":\"\"}}}],\"scatterternary\":[{\"type\":\"scatterternary\",\"marker\":{\"colorbar\":{\"outlinewidth\":0,\"ticks\":\"\"}}}],\"scattercarpet\":[{\"type\":\"scattercarpet\",\"marker\":{\"colorbar\":{\"outlinewidth\":0,\"ticks\":\"\"}}}],\"carpet\":[{\"aaxis\":{\"endlinecolor\":\"#2a3f5f\",\"gridcolor\":\"white\",\"linecolor\":\"white\",\"minorgridcolor\":\"white\",\"startlinecolor\":\"#2a3f5f\"},\"baxis\":{\"endlinecolor\":\"#2a3f5f\",\"gridcolor\":\"white\",\"linecolor\":\"white\",\"minorgridcolor\":\"white\",\"startlinecolor\":\"#2a3f5f\"},\"type\":\"carpet\"}],\"table\":[{\"cells\":{\"fill\":{\"color\":\"#EBF0F8\"},\"line\":{\"color\":\"white\"}},\"header\":{\"fill\":{\"color\":\"#C8D4E3\"},\"line\":{\"color\":\"white\"}},\"type\":\"table\"}],\"barpolar\":[{\"marker\":{\"line\":{\"color\":\"#E5ECF6\",\"width\":0.5},\"pattern\":{\"fillmode\":\"overlay\",\"size\":10,\"solidity\":0.2}},\"type\":\"barpolar\"}],\"pie\":[{\"automargin\":true,\"type\":\"pie\"}]},\"layout\":{\"autotypenumbers\":\"strict\",\"colorway\":[\"#636efa\",\"#EF553B\",\"#00cc96\",\"#ab63fa\",\"#FFA15A\",\"#19d3f3\",\"#FF6692\",\"#B6E880\",\"#FF97FF\",\"#FECB52\"],\"font\":{\"color\":\"#2a3f5f\"},\"hovermode\":\"closest\",\"hoverlabel\":{\"align\":\"left\"},\"paper_bgcolor\":\"white\",\"plot_bgcolor\":\"#E5ECF6\",\"polar\":{\"bgcolor\":\"#E5ECF6\",\"angularaxis\":{\"gridcolor\":\"white\",\"linecolor\":\"white\",\"ticks\":\"\"},\"radialaxis\":{\"gridcolor\":\"white\",\"linecolor\":\"white\",\"ticks\":\"\"}},\"ternary\":{\"bgcolor\":\"#E5ECF6\",\"aaxis\":{\"gridcolor\":\"white\",\"linecolor\":\"white\",\"ticks\":\"\"},\"baxis\":{\"gridcolor\":\"white\",\"linecolor\":\"white\",\"ticks\":\"\"},\"caxis\":{\"gridcolor\":\"white\",\"linecolor\":\"white\",\"ticks\":\"\"}},\"coloraxis\":{\"colorbar\":{\"outlinewidth\":0,\"ticks\":\"\"}},\"colorscale\":{\"sequential\":[[0.0,\"#0d0887\"],[0.1111111111111111,\"#46039f\"],[0.2222222222222222,\"#7201a8\"],[0.3333333333333333,\"#9c179e\"],[0.4444444444444444,\"#bd3786\"],[0.5555555555555556,\"#d8576b\"],[0.6666666666666666,\"#ed7953\"],[0.7777777777777778,\"#fb9f3a\"],[0.8888888888888888,\"#fdca26\"],[1.0,\"#f0f921\"]],\"sequentialminus\":[[0.0,\"#0d0887\"],[0.1111111111111111,\"#46039f\"],[0.2222222222222222,\"#7201a8\"],[0.3333333333333333,\"#9c179e\"],[0.4444444444444444,\"#bd3786\"],[0.5555555555555556,\"#d8576b\"],[0.6666666666666666,\"#ed7953\"],[0.7777777777777778,\"#fb9f3a\"],[0.8888888888888888,\"#fdca26\"],[1.0,\"#f0f921\"]],\"diverging\":[[0,\"#8e0152\"],[0.1,\"#c51b7d\"],[0.2,\"#de77ae\"],[0.3,\"#f1b6da\"],[0.4,\"#fde0ef\"],[0.5,\"#f7f7f7\"],[0.6,\"#e6f5d0\"],[0.7,\"#b8e186\"],[0.8,\"#7fbc41\"],[0.9,\"#4d9221\"],[1,\"#276419\"]]},\"xaxis\":{\"gridcolor\":\"white\",\"linecolor\":\"white\",\"ticks\":\"\",\"title\":{\"standoff\":15},\"zerolinecolor\":\"white\",\"automargin\":true,\"zerolinewidth\":2},\"yaxis\":{\"gridcolor\":\"white\",\"linecolor\":\"white\",\"ticks\":\"\",\"title\":{\"standoff\":15},\"zerolinecolor\":\"white\",\"automargin\":true,\"zerolinewidth\":2},\"scene\":{\"xaxis\":{\"backgroundcolor\":\"#E5ECF6\",\"gridcolor\":\"white\",\"linecolor\":\"white\",\"showbackground\":true,\"ticks\":\"\",\"zerolinecolor\":\"white\",\"gridwidth\":2},\"yaxis\":{\"backgroundcolor\":\"#E5ECF6\",\"gridcolor\":\"white\",\"linecolor\":\"white\",\"showbackground\":true,\"ticks\":\"\",\"zerolinecolor\":\"white\",\"gridwidth\":2},\"zaxis\":{\"backgroundcolor\":\"#E5ECF6\",\"gridcolor\":\"white\",\"linecolor\":\"white\",\"showbackground\":true,\"ticks\":\"\",\"zerolinecolor\":\"white\",\"gridwidth\":2}},\"shapedefaults\":{\"line\":{\"color\":\"#2a3f5f\"}},\"annotationdefaults\":{\"arrowcolor\":\"#2a3f5f\",\"arrowhead\":0,\"arrowwidth\":1},\"geo\":{\"bgcolor\":\"white\",\"landcolor\":\"#E5ECF6\",\"subunitcolor\":\"white\",\"showland\":true,\"showlakes\":true,\"lakecolor\":\"white\"},\"title\":{\"x\":0.05},\"mapbox\":{\"style\":\"light\"}}},\"xaxis\":{\"anchor\":\"y\",\"domain\":[0.0,1.0],\"title\":{\"text\":\"value\"}},\"yaxis\":{\"anchor\":\"x\",\"domain\":[0.0,1.0],\"title\":{\"text\":\"count\"}},\"legend\":{\"title\":{\"text\":\"variable\"},\"tracegroupgap\":0},\"margin\":{\"t\":60},\"barmode\":\"relative\"},                        {\"responsive\": true}                    ).then(function(){\n",
       "                            \n",
       "var gd = document.getElementById('adccad0f-ce60-44cc-acf4-3597df857dbd');\n",
       "var x = new MutationObserver(function (mutations, observer) {{\n",
       "        var display = window.getComputedStyle(gd).display;\n",
       "        if (!display || display === 'none') {{\n",
       "            console.log([gd, 'removed!']);\n",
       "            Plotly.purge(gd);\n",
       "            observer.disconnect();\n",
       "        }}\n",
       "}});\n",
       "\n",
       "// Listen for the removal of the full notebook cells\n",
       "var notebookContainer = gd.closest('#notebook-container');\n",
       "if (notebookContainer) {{\n",
       "    x.observe(notebookContainer, {childList: true});\n",
       "}}\n",
       "\n",
       "// Listen for the clearing of the current output cell\n",
       "var outputEl = gd.closest('.output');\n",
       "if (outputEl) {{\n",
       "    x.observe(outputEl, {childList: true});\n",
       "}}\n",
       "\n",
       "                        })                };                });            </script>        </div>"
      ]
     },
     "metadata": {},
     "output_type": "display_data"
    }
   ],
   "source": [
    "px.histogram(n_successfully_docked_superclean / 2)"
   ]
  },
  {
   "cell_type": "code",
   "execution_count": 172,
   "id": "7bacd14a-82cc-4e50-9257-8f025129fdd3",
   "metadata": {
    "tags": []
   },
   "outputs": [
    {
     "data": {
      "text/html": [
       "<div>\n",
       "<style scoped>\n",
       "    .dataframe tbody tr th:only-of-type {\n",
       "        vertical-align: middle;\n",
       "    }\n",
       "\n",
       "    .dataframe tbody tr th {\n",
       "        vertical-align: top;\n",
       "    }\n",
       "\n",
       "    .dataframe thead th {\n",
       "        text-align: right;\n",
       "    }\n",
       "</style>\n",
       "<table border=\"1\" class=\"dataframe\">\n",
       "  <thead>\n",
       "    <tr style=\"text-align: right;\">\n",
       "      <th></th>\n",
       "      <th>Docked_File</th>\n",
       "      <th>RMSD</th>\n",
       "      <th>POSIT</th>\n",
       "      <th>POSIT_Method</th>\n",
       "      <th>Chemgauss4</th>\n",
       "      <th>Clash</th>\n",
       "      <th>POSIT_R</th>\n",
       "      <th>Complex_ID</th>\n",
       "      <th>Version</th>\n",
       "      <th>Structure_Source</th>\n",
       "      <th>...</th>\n",
       "      <th>GAT_Score</th>\n",
       "      <th>Structure_Path</th>\n",
       "      <th>Compound_Source</th>\n",
       "      <th>Structure_Name</th>\n",
       "      <th>Data_Collection_Date</th>\n",
       "      <th>Structure_Date</th>\n",
       "      <th>SCHNET_score</th>\n",
       "      <th>Reference_Ligand</th>\n",
       "      <th>TanimotoCombo</th>\n",
       "      <th>SASA (nm^2)</th>\n",
       "    </tr>\n",
       "    <tr>\n",
       "      <th>Compound_ID</th>\n",
       "      <th></th>\n",
       "      <th></th>\n",
       "      <th></th>\n",
       "      <th></th>\n",
       "      <th></th>\n",
       "      <th></th>\n",
       "      <th></th>\n",
       "      <th></th>\n",
       "      <th></th>\n",
       "      <th></th>\n",
       "      <th></th>\n",
       "      <th></th>\n",
       "      <th></th>\n",
       "      <th></th>\n",
       "      <th></th>\n",
       "      <th></th>\n",
       "      <th></th>\n",
       "      <th></th>\n",
       "      <th></th>\n",
       "      <th></th>\n",
       "      <th></th>\n",
       "    </tr>\n",
       "  </thead>\n",
       "  <tbody>\n",
       "    <tr>\n",
       "      <th>MAT-POS-5cd9ea36-13</th>\n",
       "      <td>96</td>\n",
       "      <td>86</td>\n",
       "      <td>12</td>\n",
       "      <td>3</td>\n",
       "      <td>83</td>\n",
       "      <td>2</td>\n",
       "      <td>12</td>\n",
       "      <td>56</td>\n",
       "      <td>2</td>\n",
       "      <td>56</td>\n",
       "      <td>...</td>\n",
       "      <td>0</td>\n",
       "      <td>56</td>\n",
       "      <td>1</td>\n",
       "      <td>56</td>\n",
       "      <td>56</td>\n",
       "      <td>18</td>\n",
       "      <td>0</td>\n",
       "      <td>56</td>\n",
       "      <td>56</td>\n",
       "      <td>54</td>\n",
       "    </tr>\n",
       "    <tr>\n",
       "      <th>EDG-MED-ba1ac7b9-21</th>\n",
       "      <td>99</td>\n",
       "      <td>78</td>\n",
       "      <td>8</td>\n",
       "      <td>3</td>\n",
       "      <td>77</td>\n",
       "      <td>2</td>\n",
       "      <td>8</td>\n",
       "      <td>56</td>\n",
       "      <td>2</td>\n",
       "      <td>56</td>\n",
       "      <td>...</td>\n",
       "      <td>0</td>\n",
       "      <td>56</td>\n",
       "      <td>1</td>\n",
       "      <td>56</td>\n",
       "      <td>56</td>\n",
       "      <td>19</td>\n",
       "      <td>0</td>\n",
       "      <td>56</td>\n",
       "      <td>56</td>\n",
       "      <td>54</td>\n",
       "    </tr>\n",
       "    <tr>\n",
       "      <th>MAT-POS-6c284e65-1</th>\n",
       "      <td>100</td>\n",
       "      <td>74</td>\n",
       "      <td>9</td>\n",
       "      <td>3</td>\n",
       "      <td>74</td>\n",
       "      <td>1</td>\n",
       "      <td>9</td>\n",
       "      <td>56</td>\n",
       "      <td>2</td>\n",
       "      <td>56</td>\n",
       "      <td>...</td>\n",
       "      <td>0</td>\n",
       "      <td>56</td>\n",
       "      <td>1</td>\n",
       "      <td>56</td>\n",
       "      <td>56</td>\n",
       "      <td>19</td>\n",
       "      <td>0</td>\n",
       "      <td>56</td>\n",
       "      <td>56</td>\n",
       "      <td>54</td>\n",
       "    </tr>\n",
       "    <tr>\n",
       "      <th>VLA-UCB-50c39ae8-7</th>\n",
       "      <td>100</td>\n",
       "      <td>89</td>\n",
       "      <td>12</td>\n",
       "      <td>3</td>\n",
       "      <td>89</td>\n",
       "      <td>2</td>\n",
       "      <td>12</td>\n",
       "      <td>56</td>\n",
       "      <td>2</td>\n",
       "      <td>56</td>\n",
       "      <td>...</td>\n",
       "      <td>0</td>\n",
       "      <td>56</td>\n",
       "      <td>1</td>\n",
       "      <td>56</td>\n",
       "      <td>56</td>\n",
       "      <td>19</td>\n",
       "      <td>0</td>\n",
       "      <td>56</td>\n",
       "      <td>56</td>\n",
       "      <td>54</td>\n",
       "    </tr>\n",
       "    <tr>\n",
       "      <th>MAT-POS-5cd9ea36-21</th>\n",
       "      <td>102</td>\n",
       "      <td>87</td>\n",
       "      <td>12</td>\n",
       "      <td>3</td>\n",
       "      <td>87</td>\n",
       "      <td>2</td>\n",
       "      <td>12</td>\n",
       "      <td>56</td>\n",
       "      <td>2</td>\n",
       "      <td>56</td>\n",
       "      <td>...</td>\n",
       "      <td>0</td>\n",
       "      <td>56</td>\n",
       "      <td>1</td>\n",
       "      <td>56</td>\n",
       "      <td>56</td>\n",
       "      <td>19</td>\n",
       "      <td>0</td>\n",
       "      <td>56</td>\n",
       "      <td>56</td>\n",
       "      <td>54</td>\n",
       "    </tr>\n",
       "    <tr>\n",
       "      <th>EDJ-MED-7889e8da-5</th>\n",
       "      <td>102</td>\n",
       "      <td>78</td>\n",
       "      <td>9</td>\n",
       "      <td>3</td>\n",
       "      <td>74</td>\n",
       "      <td>2</td>\n",
       "      <td>9</td>\n",
       "      <td>56</td>\n",
       "      <td>2</td>\n",
       "      <td>56</td>\n",
       "      <td>...</td>\n",
       "      <td>0</td>\n",
       "      <td>56</td>\n",
       "      <td>1</td>\n",
       "      <td>56</td>\n",
       "      <td>56</td>\n",
       "      <td>19</td>\n",
       "      <td>0</td>\n",
       "      <td>56</td>\n",
       "      <td>56</td>\n",
       "      <td>54</td>\n",
       "    </tr>\n",
       "    <tr>\n",
       "      <th>EDG-MED-70ae9412-2</th>\n",
       "      <td>102</td>\n",
       "      <td>86</td>\n",
       "      <td>8</td>\n",
       "      <td>3</td>\n",
       "      <td>86</td>\n",
       "      <td>1</td>\n",
       "      <td>8</td>\n",
       "      <td>56</td>\n",
       "      <td>2</td>\n",
       "      <td>56</td>\n",
       "      <td>...</td>\n",
       "      <td>0</td>\n",
       "      <td>56</td>\n",
       "      <td>1</td>\n",
       "      <td>56</td>\n",
       "      <td>56</td>\n",
       "      <td>19</td>\n",
       "      <td>0</td>\n",
       "      <td>56</td>\n",
       "      <td>56</td>\n",
       "      <td>54</td>\n",
       "    </tr>\n",
       "    <tr>\n",
       "      <th>MAT-POS-90fd5f68-31</th>\n",
       "      <td>104</td>\n",
       "      <td>89</td>\n",
       "      <td>9</td>\n",
       "      <td>3</td>\n",
       "      <td>87</td>\n",
       "      <td>2</td>\n",
       "      <td>9</td>\n",
       "      <td>56</td>\n",
       "      <td>2</td>\n",
       "      <td>56</td>\n",
       "      <td>...</td>\n",
       "      <td>0</td>\n",
       "      <td>56</td>\n",
       "      <td>1</td>\n",
       "      <td>56</td>\n",
       "      <td>56</td>\n",
       "      <td>19</td>\n",
       "      <td>0</td>\n",
       "      <td>56</td>\n",
       "      <td>56</td>\n",
       "      <td>54</td>\n",
       "    </tr>\n",
       "    <tr>\n",
       "      <th>ALP-POS-9c80c481-1</th>\n",
       "      <td>104</td>\n",
       "      <td>93</td>\n",
       "      <td>11</td>\n",
       "      <td>3</td>\n",
       "      <td>93</td>\n",
       "      <td>2</td>\n",
       "      <td>11</td>\n",
       "      <td>56</td>\n",
       "      <td>2</td>\n",
       "      <td>56</td>\n",
       "      <td>...</td>\n",
       "      <td>0</td>\n",
       "      <td>56</td>\n",
       "      <td>1</td>\n",
       "      <td>56</td>\n",
       "      <td>56</td>\n",
       "      <td>19</td>\n",
       "      <td>0</td>\n",
       "      <td>56</td>\n",
       "      <td>56</td>\n",
       "      <td>54</td>\n",
       "    </tr>\n",
       "    <tr>\n",
       "      <th>MAT-POS-e69ad64a-2</th>\n",
       "      <td>104</td>\n",
       "      <td>93</td>\n",
       "      <td>8</td>\n",
       "      <td>3</td>\n",
       "      <td>93</td>\n",
       "      <td>2</td>\n",
       "      <td>8</td>\n",
       "      <td>56</td>\n",
       "      <td>2</td>\n",
       "      <td>56</td>\n",
       "      <td>...</td>\n",
       "      <td>0</td>\n",
       "      <td>56</td>\n",
       "      <td>1</td>\n",
       "      <td>56</td>\n",
       "      <td>56</td>\n",
       "      <td>18</td>\n",
       "      <td>0</td>\n",
       "      <td>56</td>\n",
       "      <td>56</td>\n",
       "      <td>54</td>\n",
       "    </tr>\n",
       "    <tr>\n",
       "      <th>MAT-POS-90fd5f68-7</th>\n",
       "      <td>104</td>\n",
       "      <td>90</td>\n",
       "      <td>10</td>\n",
       "      <td>3</td>\n",
       "      <td>82</td>\n",
       "      <td>2</td>\n",
       "      <td>10</td>\n",
       "      <td>56</td>\n",
       "      <td>2</td>\n",
       "      <td>56</td>\n",
       "      <td>...</td>\n",
       "      <td>0</td>\n",
       "      <td>56</td>\n",
       "      <td>1</td>\n",
       "      <td>56</td>\n",
       "      <td>56</td>\n",
       "      <td>19</td>\n",
       "      <td>0</td>\n",
       "      <td>56</td>\n",
       "      <td>56</td>\n",
       "      <td>54</td>\n",
       "    </tr>\n",
       "    <tr>\n",
       "      <th>MAT-POS-090737b9-1</th>\n",
       "      <td>105</td>\n",
       "      <td>91</td>\n",
       "      <td>11</td>\n",
       "      <td>3</td>\n",
       "      <td>91</td>\n",
       "      <td>2</td>\n",
       "      <td>11</td>\n",
       "      <td>56</td>\n",
       "      <td>2</td>\n",
       "      <td>56</td>\n",
       "      <td>...</td>\n",
       "      <td>0</td>\n",
       "      <td>56</td>\n",
       "      <td>1</td>\n",
       "      <td>56</td>\n",
       "      <td>56</td>\n",
       "      <td>19</td>\n",
       "      <td>0</td>\n",
       "      <td>56</td>\n",
       "      <td>56</td>\n",
       "      <td>54</td>\n",
       "    </tr>\n",
       "    <tr>\n",
       "      <th>MAT-POS-e9e99895-6</th>\n",
       "      <td>105</td>\n",
       "      <td>75</td>\n",
       "      <td>7</td>\n",
       "      <td>3</td>\n",
       "      <td>74</td>\n",
       "      <td>1</td>\n",
       "      <td>7</td>\n",
       "      <td>56</td>\n",
       "      <td>2</td>\n",
       "      <td>56</td>\n",
       "      <td>...</td>\n",
       "      <td>0</td>\n",
       "      <td>56</td>\n",
       "      <td>1</td>\n",
       "      <td>56</td>\n",
       "      <td>56</td>\n",
       "      <td>18</td>\n",
       "      <td>0</td>\n",
       "      <td>56</td>\n",
       "      <td>56</td>\n",
       "      <td>54</td>\n",
       "    </tr>\n",
       "    <tr>\n",
       "      <th>MAT-POS-90fd5f68-28</th>\n",
       "      <td>105</td>\n",
       "      <td>84</td>\n",
       "      <td>10</td>\n",
       "      <td>3</td>\n",
       "      <td>84</td>\n",
       "      <td>2</td>\n",
       "      <td>10</td>\n",
       "      <td>56</td>\n",
       "      <td>2</td>\n",
       "      <td>56</td>\n",
       "      <td>...</td>\n",
       "      <td>0</td>\n",
       "      <td>56</td>\n",
       "      <td>1</td>\n",
       "      <td>56</td>\n",
       "      <td>56</td>\n",
       "      <td>19</td>\n",
       "      <td>0</td>\n",
       "      <td>56</td>\n",
       "      <td>56</td>\n",
       "      <td>54</td>\n",
       "    </tr>\n",
       "    <tr>\n",
       "      <th>EDG-MED-10fcb19e-1</th>\n",
       "      <td>106</td>\n",
       "      <td>87</td>\n",
       "      <td>9</td>\n",
       "      <td>3</td>\n",
       "      <td>84</td>\n",
       "      <td>2</td>\n",
       "      <td>9</td>\n",
       "      <td>56</td>\n",
       "      <td>2</td>\n",
       "      <td>56</td>\n",
       "      <td>...</td>\n",
       "      <td>0</td>\n",
       "      <td>56</td>\n",
       "      <td>1</td>\n",
       "      <td>56</td>\n",
       "      <td>56</td>\n",
       "      <td>19</td>\n",
       "      <td>0</td>\n",
       "      <td>56</td>\n",
       "      <td>56</td>\n",
       "      <td>54</td>\n",
       "    </tr>\n",
       "    <tr>\n",
       "      <th>ALP-UNI-8d415491-3</th>\n",
       "      <td>106</td>\n",
       "      <td>93</td>\n",
       "      <td>10</td>\n",
       "      <td>3</td>\n",
       "      <td>93</td>\n",
       "      <td>2</td>\n",
       "      <td>10</td>\n",
       "      <td>56</td>\n",
       "      <td>2</td>\n",
       "      <td>56</td>\n",
       "      <td>...</td>\n",
       "      <td>0</td>\n",
       "      <td>56</td>\n",
       "      <td>1</td>\n",
       "      <td>56</td>\n",
       "      <td>56</td>\n",
       "      <td>19</td>\n",
       "      <td>0</td>\n",
       "      <td>56</td>\n",
       "      <td>56</td>\n",
       "      <td>54</td>\n",
       "    </tr>\n",
       "    <tr>\n",
       "      <th>MAT-POS-5cd9ea36-23</th>\n",
       "      <td>106</td>\n",
       "      <td>80</td>\n",
       "      <td>14</td>\n",
       "      <td>3</td>\n",
       "      <td>80</td>\n",
       "      <td>2</td>\n",
       "      <td>14</td>\n",
       "      <td>56</td>\n",
       "      <td>2</td>\n",
       "      <td>56</td>\n",
       "      <td>...</td>\n",
       "      <td>0</td>\n",
       "      <td>56</td>\n",
       "      <td>1</td>\n",
       "      <td>56</td>\n",
       "      <td>56</td>\n",
       "      <td>19</td>\n",
       "      <td>0</td>\n",
       "      <td>56</td>\n",
       "      <td>56</td>\n",
       "      <td>54</td>\n",
       "    </tr>\n",
       "    <tr>\n",
       "      <th>MAT-POS-90fd5f68-2</th>\n",
       "      <td>107</td>\n",
       "      <td>85</td>\n",
       "      <td>11</td>\n",
       "      <td>3</td>\n",
       "      <td>78</td>\n",
       "      <td>2</td>\n",
       "      <td>11</td>\n",
       "      <td>56</td>\n",
       "      <td>2</td>\n",
       "      <td>56</td>\n",
       "      <td>...</td>\n",
       "      <td>0</td>\n",
       "      <td>56</td>\n",
       "      <td>1</td>\n",
       "      <td>56</td>\n",
       "      <td>56</td>\n",
       "      <td>19</td>\n",
       "      <td>0</td>\n",
       "      <td>56</td>\n",
       "      <td>56</td>\n",
       "      <td>54</td>\n",
       "    </tr>\n",
       "    <tr>\n",
       "      <th>EDJ-MED-be9e6f63-3</th>\n",
       "      <td>107</td>\n",
       "      <td>77</td>\n",
       "      <td>8</td>\n",
       "      <td>3</td>\n",
       "      <td>75</td>\n",
       "      <td>1</td>\n",
       "      <td>8</td>\n",
       "      <td>56</td>\n",
       "      <td>2</td>\n",
       "      <td>56</td>\n",
       "      <td>...</td>\n",
       "      <td>0</td>\n",
       "      <td>56</td>\n",
       "      <td>1</td>\n",
       "      <td>56</td>\n",
       "      <td>56</td>\n",
       "      <td>19</td>\n",
       "      <td>0</td>\n",
       "      <td>56</td>\n",
       "      <td>56</td>\n",
       "      <td>54</td>\n",
       "    </tr>\n",
       "    <tr>\n",
       "      <th>RUB-POS-1325a9ea-4</th>\n",
       "      <td>107</td>\n",
       "      <td>92</td>\n",
       "      <td>11</td>\n",
       "      <td>3</td>\n",
       "      <td>92</td>\n",
       "      <td>2</td>\n",
       "      <td>11</td>\n",
       "      <td>56</td>\n",
       "      <td>2</td>\n",
       "      <td>56</td>\n",
       "      <td>...</td>\n",
       "      <td>0</td>\n",
       "      <td>56</td>\n",
       "      <td>1</td>\n",
       "      <td>56</td>\n",
       "      <td>56</td>\n",
       "      <td>19</td>\n",
       "      <td>0</td>\n",
       "      <td>56</td>\n",
       "      <td>56</td>\n",
       "      <td>54</td>\n",
       "    </tr>\n",
       "    <tr>\n",
       "      <th>KAD-UNI-80f122c8-2</th>\n",
       "      <td>107</td>\n",
       "      <td>79</td>\n",
       "      <td>7</td>\n",
       "      <td>3</td>\n",
       "      <td>79</td>\n",
       "      <td>1</td>\n",
       "      <td>7</td>\n",
       "      <td>56</td>\n",
       "      <td>2</td>\n",
       "      <td>56</td>\n",
       "      <td>...</td>\n",
       "      <td>0</td>\n",
       "      <td>56</td>\n",
       "      <td>1</td>\n",
       "      <td>56</td>\n",
       "      <td>56</td>\n",
       "      <td>19</td>\n",
       "      <td>0</td>\n",
       "      <td>56</td>\n",
       "      <td>56</td>\n",
       "      <td>54</td>\n",
       "    </tr>\n",
       "    <tr>\n",
       "      <th>MAT-POS-90fd5f68-22</th>\n",
       "      <td>108</td>\n",
       "      <td>88</td>\n",
       "      <td>11</td>\n",
       "      <td>3</td>\n",
       "      <td>87</td>\n",
       "      <td>2</td>\n",
       "      <td>11</td>\n",
       "      <td>56</td>\n",
       "      <td>2</td>\n",
       "      <td>56</td>\n",
       "      <td>...</td>\n",
       "      <td>0</td>\n",
       "      <td>56</td>\n",
       "      <td>1</td>\n",
       "      <td>56</td>\n",
       "      <td>56</td>\n",
       "      <td>18</td>\n",
       "      <td>0</td>\n",
       "      <td>56</td>\n",
       "      <td>56</td>\n",
       "      <td>54</td>\n",
       "    </tr>\n",
       "    <tr>\n",
       "      <th>MAT-POS-7174c657-5</th>\n",
       "      <td>108</td>\n",
       "      <td>73</td>\n",
       "      <td>8</td>\n",
       "      <td>3</td>\n",
       "      <td>73</td>\n",
       "      <td>1</td>\n",
       "      <td>8</td>\n",
       "      <td>56</td>\n",
       "      <td>2</td>\n",
       "      <td>56</td>\n",
       "      <td>...</td>\n",
       "      <td>0</td>\n",
       "      <td>56</td>\n",
       "      <td>1</td>\n",
       "      <td>56</td>\n",
       "      <td>56</td>\n",
       "      <td>19</td>\n",
       "      <td>0</td>\n",
       "      <td>56</td>\n",
       "      <td>56</td>\n",
       "      <td>54</td>\n",
       "    </tr>\n",
       "    <tr>\n",
       "      <th>MAT-POS-50a80394-2</th>\n",
       "      <td>108</td>\n",
       "      <td>85</td>\n",
       "      <td>10</td>\n",
       "      <td>3</td>\n",
       "      <td>84</td>\n",
       "      <td>2</td>\n",
       "      <td>10</td>\n",
       "      <td>56</td>\n",
       "      <td>2</td>\n",
       "      <td>56</td>\n",
       "      <td>...</td>\n",
       "      <td>0</td>\n",
       "      <td>56</td>\n",
       "      <td>1</td>\n",
       "      <td>56</td>\n",
       "      <td>56</td>\n",
       "      <td>18</td>\n",
       "      <td>0</td>\n",
       "      <td>56</td>\n",
       "      <td>56</td>\n",
       "      <td>54</td>\n",
       "    </tr>\n",
       "    <tr>\n",
       "      <th>EDJ-MED-12c4873b-2</th>\n",
       "      <td>108</td>\n",
       "      <td>81</td>\n",
       "      <td>8</td>\n",
       "      <td>3</td>\n",
       "      <td>81</td>\n",
       "      <td>1</td>\n",
       "      <td>8</td>\n",
       "      <td>56</td>\n",
       "      <td>2</td>\n",
       "      <td>56</td>\n",
       "      <td>...</td>\n",
       "      <td>0</td>\n",
       "      <td>56</td>\n",
       "      <td>1</td>\n",
       "      <td>56</td>\n",
       "      <td>56</td>\n",
       "      <td>18</td>\n",
       "      <td>0</td>\n",
       "      <td>56</td>\n",
       "      <td>56</td>\n",
       "      <td>54</td>\n",
       "    </tr>\n",
       "    <tr>\n",
       "      <th>PET-UNK-29afea89-2</th>\n",
       "      <td>108</td>\n",
       "      <td>94</td>\n",
       "      <td>12</td>\n",
       "      <td>3</td>\n",
       "      <td>94</td>\n",
       "      <td>1</td>\n",
       "      <td>12</td>\n",
       "      <td>56</td>\n",
       "      <td>2</td>\n",
       "      <td>56</td>\n",
       "      <td>...</td>\n",
       "      <td>0</td>\n",
       "      <td>56</td>\n",
       "      <td>1</td>\n",
       "      <td>56</td>\n",
       "      <td>56</td>\n",
       "      <td>19</td>\n",
       "      <td>0</td>\n",
       "      <td>56</td>\n",
       "      <td>56</td>\n",
       "      <td>54</td>\n",
       "    </tr>\n",
       "    <tr>\n",
       "      <th>EDG-MED-971238d3-5</th>\n",
       "      <td>109</td>\n",
       "      <td>105</td>\n",
       "      <td>11</td>\n",
       "      <td>3</td>\n",
       "      <td>105</td>\n",
       "      <td>1</td>\n",
       "      <td>11</td>\n",
       "      <td>56</td>\n",
       "      <td>2</td>\n",
       "      <td>56</td>\n",
       "      <td>...</td>\n",
       "      <td>0</td>\n",
       "      <td>56</td>\n",
       "      <td>1</td>\n",
       "      <td>56</td>\n",
       "      <td>56</td>\n",
       "      <td>19</td>\n",
       "      <td>0</td>\n",
       "      <td>56</td>\n",
       "      <td>56</td>\n",
       "      <td>54</td>\n",
       "    </tr>\n",
       "    <tr>\n",
       "      <th>PET-UNK-d899bab6-1</th>\n",
       "      <td>109</td>\n",
       "      <td>93</td>\n",
       "      <td>10</td>\n",
       "      <td>3</td>\n",
       "      <td>93</td>\n",
       "      <td>2</td>\n",
       "      <td>10</td>\n",
       "      <td>56</td>\n",
       "      <td>2</td>\n",
       "      <td>56</td>\n",
       "      <td>...</td>\n",
       "      <td>0</td>\n",
       "      <td>56</td>\n",
       "      <td>1</td>\n",
       "      <td>56</td>\n",
       "      <td>56</td>\n",
       "      <td>19</td>\n",
       "      <td>0</td>\n",
       "      <td>56</td>\n",
       "      <td>56</td>\n",
       "      <td>54</td>\n",
       "    </tr>\n",
       "    <tr>\n",
       "      <th>MAT-POS-853c0ffa-9</th>\n",
       "      <td>109</td>\n",
       "      <td>81</td>\n",
       "      <td>9</td>\n",
       "      <td>3</td>\n",
       "      <td>81</td>\n",
       "      <td>2</td>\n",
       "      <td>9</td>\n",
       "      <td>56</td>\n",
       "      <td>2</td>\n",
       "      <td>56</td>\n",
       "      <td>...</td>\n",
       "      <td>0</td>\n",
       "      <td>56</td>\n",
       "      <td>1</td>\n",
       "      <td>56</td>\n",
       "      <td>56</td>\n",
       "      <td>18</td>\n",
       "      <td>0</td>\n",
       "      <td>56</td>\n",
       "      <td>56</td>\n",
       "      <td>54</td>\n",
       "    </tr>\n",
       "    <tr>\n",
       "      <th>EDJ-MED-4fff0a85-3</th>\n",
       "      <td>109</td>\n",
       "      <td>73</td>\n",
       "      <td>9</td>\n",
       "      <td>3</td>\n",
       "      <td>73</td>\n",
       "      <td>2</td>\n",
       "      <td>9</td>\n",
       "      <td>56</td>\n",
       "      <td>2</td>\n",
       "      <td>56</td>\n",
       "      <td>...</td>\n",
       "      <td>0</td>\n",
       "      <td>56</td>\n",
       "      <td>1</td>\n",
       "      <td>56</td>\n",
       "      <td>56</td>\n",
       "      <td>19</td>\n",
       "      <td>0</td>\n",
       "      <td>56</td>\n",
       "      <td>56</td>\n",
       "      <td>54</td>\n",
       "    </tr>\n",
       "    <tr>\n",
       "      <th>PET-UNK-b38839dc-1</th>\n",
       "      <td>110</td>\n",
       "      <td>95</td>\n",
       "      <td>10</td>\n",
       "      <td>3</td>\n",
       "      <td>93</td>\n",
       "      <td>2</td>\n",
       "      <td>10</td>\n",
       "      <td>56</td>\n",
       "      <td>2</td>\n",
       "      <td>56</td>\n",
       "      <td>...</td>\n",
       "      <td>0</td>\n",
       "      <td>56</td>\n",
       "      <td>1</td>\n",
       "      <td>56</td>\n",
       "      <td>56</td>\n",
       "      <td>19</td>\n",
       "      <td>0</td>\n",
       "      <td>56</td>\n",
       "      <td>56</td>\n",
       "      <td>54</td>\n",
       "    </tr>\n",
       "    <tr>\n",
       "      <th>MAT-POS-90fd5f68-37</th>\n",
       "      <td>110</td>\n",
       "      <td>90</td>\n",
       "      <td>11</td>\n",
       "      <td>3</td>\n",
       "      <td>88</td>\n",
       "      <td>2</td>\n",
       "      <td>11</td>\n",
       "      <td>56</td>\n",
       "      <td>2</td>\n",
       "      <td>56</td>\n",
       "      <td>...</td>\n",
       "      <td>0</td>\n",
       "      <td>56</td>\n",
       "      <td>1</td>\n",
       "      <td>56</td>\n",
       "      <td>56</td>\n",
       "      <td>19</td>\n",
       "      <td>0</td>\n",
       "      <td>56</td>\n",
       "      <td>56</td>\n",
       "      <td>54</td>\n",
       "    </tr>\n",
       "    <tr>\n",
       "      <th>LON-WEI-9739a092-6</th>\n",
       "      <td>110</td>\n",
       "      <td>87</td>\n",
       "      <td>7</td>\n",
       "      <td>3</td>\n",
       "      <td>82</td>\n",
       "      <td>1</td>\n",
       "      <td>7</td>\n",
       "      <td>56</td>\n",
       "      <td>2</td>\n",
       "      <td>56</td>\n",
       "      <td>...</td>\n",
       "      <td>0</td>\n",
       "      <td>56</td>\n",
       "      <td>1</td>\n",
       "      <td>56</td>\n",
       "      <td>56</td>\n",
       "      <td>19</td>\n",
       "      <td>0</td>\n",
       "      <td>56</td>\n",
       "      <td>56</td>\n",
       "      <td>54</td>\n",
       "    </tr>\n",
       "    <tr>\n",
       "      <th>MAT-POS-a13804f0-4</th>\n",
       "      <td>110</td>\n",
       "      <td>74</td>\n",
       "      <td>8</td>\n",
       "      <td>3</td>\n",
       "      <td>74</td>\n",
       "      <td>1</td>\n",
       "      <td>8</td>\n",
       "      <td>56</td>\n",
       "      <td>2</td>\n",
       "      <td>56</td>\n",
       "      <td>...</td>\n",
       "      <td>0</td>\n",
       "      <td>56</td>\n",
       "      <td>1</td>\n",
       "      <td>56</td>\n",
       "      <td>56</td>\n",
       "      <td>19</td>\n",
       "      <td>0</td>\n",
       "      <td>56</td>\n",
       "      <td>56</td>\n",
       "      <td>54</td>\n",
       "    </tr>\n",
       "    <tr>\n",
       "      <th>PET-UNK-7fb4f80a-2</th>\n",
       "      <td>110</td>\n",
       "      <td>89</td>\n",
       "      <td>10</td>\n",
       "      <td>3</td>\n",
       "      <td>89</td>\n",
       "      <td>2</td>\n",
       "      <td>10</td>\n",
       "      <td>56</td>\n",
       "      <td>2</td>\n",
       "      <td>56</td>\n",
       "      <td>...</td>\n",
       "      <td>0</td>\n",
       "      <td>56</td>\n",
       "      <td>1</td>\n",
       "      <td>56</td>\n",
       "      <td>56</td>\n",
       "      <td>19</td>\n",
       "      <td>0</td>\n",
       "      <td>56</td>\n",
       "      <td>56</td>\n",
       "      <td>55</td>\n",
       "    </tr>\n",
       "    <tr>\n",
       "      <th>ALP-POS-8b8a49e1-4</th>\n",
       "      <td>110</td>\n",
       "      <td>104</td>\n",
       "      <td>11</td>\n",
       "      <td>3</td>\n",
       "      <td>82</td>\n",
       "      <td>2</td>\n",
       "      <td>11</td>\n",
       "      <td>56</td>\n",
       "      <td>2</td>\n",
       "      <td>56</td>\n",
       "      <td>...</td>\n",
       "      <td>0</td>\n",
       "      <td>56</td>\n",
       "      <td>1</td>\n",
       "      <td>56</td>\n",
       "      <td>56</td>\n",
       "      <td>19</td>\n",
       "      <td>0</td>\n",
       "      <td>56</td>\n",
       "      <td>56</td>\n",
       "      <td>54</td>\n",
       "    </tr>\n",
       "    <tr>\n",
       "      <th>MIC-UNK-91acba05-6</th>\n",
       "      <td>110</td>\n",
       "      <td>110</td>\n",
       "      <td>9</td>\n",
       "      <td>3</td>\n",
       "      <td>87</td>\n",
       "      <td>2</td>\n",
       "      <td>9</td>\n",
       "      <td>56</td>\n",
       "      <td>2</td>\n",
       "      <td>56</td>\n",
       "      <td>...</td>\n",
       "      <td>0</td>\n",
       "      <td>56</td>\n",
       "      <td>1</td>\n",
       "      <td>56</td>\n",
       "      <td>56</td>\n",
       "      <td>19</td>\n",
       "      <td>0</td>\n",
       "      <td>56</td>\n",
       "      <td>56</td>\n",
       "      <td>54</td>\n",
       "    </tr>\n",
       "    <tr>\n",
       "      <th>EDJ-MED-92e193ae-1</th>\n",
       "      <td>111</td>\n",
       "      <td>85</td>\n",
       "      <td>11</td>\n",
       "      <td>3</td>\n",
       "      <td>85</td>\n",
       "      <td>1</td>\n",
       "      <td>11</td>\n",
       "      <td>56</td>\n",
       "      <td>2</td>\n",
       "      <td>56</td>\n",
       "      <td>...</td>\n",
       "      <td>0</td>\n",
       "      <td>56</td>\n",
       "      <td>1</td>\n",
       "      <td>56</td>\n",
       "      <td>56</td>\n",
       "      <td>19</td>\n",
       "      <td>0</td>\n",
       "      <td>56</td>\n",
       "      <td>56</td>\n",
       "      <td>54</td>\n",
       "    </tr>\n",
       "    <tr>\n",
       "      <th>EDJ-MED-c3ea9889-6</th>\n",
       "      <td>111</td>\n",
       "      <td>86</td>\n",
       "      <td>11</td>\n",
       "      <td>3</td>\n",
       "      <td>86</td>\n",
       "      <td>1</td>\n",
       "      <td>11</td>\n",
       "      <td>56</td>\n",
       "      <td>2</td>\n",
       "      <td>56</td>\n",
       "      <td>...</td>\n",
       "      <td>0</td>\n",
       "      <td>56</td>\n",
       "      <td>1</td>\n",
       "      <td>56</td>\n",
       "      <td>56</td>\n",
       "      <td>19</td>\n",
       "      <td>0</td>\n",
       "      <td>56</td>\n",
       "      <td>56</td>\n",
       "      <td>55</td>\n",
       "    </tr>\n",
       "    <tr>\n",
       "      <th>MAT-POS-5d65ec79-2</th>\n",
       "      <td>111</td>\n",
       "      <td>98</td>\n",
       "      <td>11</td>\n",
       "      <td>3</td>\n",
       "      <td>98</td>\n",
       "      <td>2</td>\n",
       "      <td>11</td>\n",
       "      <td>56</td>\n",
       "      <td>2</td>\n",
       "      <td>56</td>\n",
       "      <td>...</td>\n",
       "      <td>0</td>\n",
       "      <td>56</td>\n",
       "      <td>1</td>\n",
       "      <td>56</td>\n",
       "      <td>56</td>\n",
       "      <td>19</td>\n",
       "      <td>0</td>\n",
       "      <td>56</td>\n",
       "      <td>56</td>\n",
       "      <td>54</td>\n",
       "    </tr>\n",
       "    <tr>\n",
       "      <th>MAT-POS-bfb445d4-2</th>\n",
       "      <td>111</td>\n",
       "      <td>93</td>\n",
       "      <td>13</td>\n",
       "      <td>3</td>\n",
       "      <td>93</td>\n",
       "      <td>2</td>\n",
       "      <td>13</td>\n",
       "      <td>56</td>\n",
       "      <td>2</td>\n",
       "      <td>56</td>\n",
       "      <td>...</td>\n",
       "      <td>0</td>\n",
       "      <td>56</td>\n",
       "      <td>1</td>\n",
       "      <td>56</td>\n",
       "      <td>56</td>\n",
       "      <td>19</td>\n",
       "      <td>0</td>\n",
       "      <td>56</td>\n",
       "      <td>56</td>\n",
       "      <td>54</td>\n",
       "    </tr>\n",
       "    <tr>\n",
       "      <th>PET-UNK-bb7ffe78-1</th>\n",
       "      <td>111</td>\n",
       "      <td>93</td>\n",
       "      <td>12</td>\n",
       "      <td>3</td>\n",
       "      <td>93</td>\n",
       "      <td>2</td>\n",
       "      <td>12</td>\n",
       "      <td>56</td>\n",
       "      <td>2</td>\n",
       "      <td>56</td>\n",
       "      <td>...</td>\n",
       "      <td>0</td>\n",
       "      <td>56</td>\n",
       "      <td>1</td>\n",
       "      <td>56</td>\n",
       "      <td>56</td>\n",
       "      <td>19</td>\n",
       "      <td>0</td>\n",
       "      <td>56</td>\n",
       "      <td>56</td>\n",
       "      <td>54</td>\n",
       "    </tr>\n",
       "    <tr>\n",
       "      <th>PET-UNK-8df914d1-2</th>\n",
       "      <td>112</td>\n",
       "      <td>112</td>\n",
       "      <td>9</td>\n",
       "      <td>3</td>\n",
       "      <td>87</td>\n",
       "      <td>2</td>\n",
       "      <td>9</td>\n",
       "      <td>56</td>\n",
       "      <td>2</td>\n",
       "      <td>56</td>\n",
       "      <td>...</td>\n",
       "      <td>0</td>\n",
       "      <td>56</td>\n",
       "      <td>1</td>\n",
       "      <td>56</td>\n",
       "      <td>56</td>\n",
       "      <td>19</td>\n",
       "      <td>0</td>\n",
       "      <td>56</td>\n",
       "      <td>56</td>\n",
       "      <td>54</td>\n",
       "    </tr>\n",
       "    <tr>\n",
       "      <th>PET-UNK-c9c1e0d8-4</th>\n",
       "      <td>112</td>\n",
       "      <td>96</td>\n",
       "      <td>10</td>\n",
       "      <td>3</td>\n",
       "      <td>96</td>\n",
       "      <td>2</td>\n",
       "      <td>10</td>\n",
       "      <td>56</td>\n",
       "      <td>2</td>\n",
       "      <td>56</td>\n",
       "      <td>...</td>\n",
       "      <td>0</td>\n",
       "      <td>56</td>\n",
       "      <td>1</td>\n",
       "      <td>56</td>\n",
       "      <td>56</td>\n",
       "      <td>19</td>\n",
       "      <td>0</td>\n",
       "      <td>56</td>\n",
       "      <td>56</td>\n",
       "      <td>54</td>\n",
       "    </tr>\n",
       "    <tr>\n",
       "      <th>RAL-THA-2d450e86-33</th>\n",
       "      <td>112</td>\n",
       "      <td>100</td>\n",
       "      <td>12</td>\n",
       "      <td>3</td>\n",
       "      <td>100</td>\n",
       "      <td>2</td>\n",
       "      <td>12</td>\n",
       "      <td>56</td>\n",
       "      <td>2</td>\n",
       "      <td>56</td>\n",
       "      <td>...</td>\n",
       "      <td>0</td>\n",
       "      <td>56</td>\n",
       "      <td>1</td>\n",
       "      <td>56</td>\n",
       "      <td>56</td>\n",
       "      <td>19</td>\n",
       "      <td>0</td>\n",
       "      <td>56</td>\n",
       "      <td>56</td>\n",
       "      <td>54</td>\n",
       "    </tr>\n",
       "    <tr>\n",
       "      <th>ALP-POS-6479a3a9-2</th>\n",
       "      <td>112</td>\n",
       "      <td>96</td>\n",
       "      <td>8</td>\n",
       "      <td>3</td>\n",
       "      <td>96</td>\n",
       "      <td>2</td>\n",
       "      <td>8</td>\n",
       "      <td>56</td>\n",
       "      <td>2</td>\n",
       "      <td>56</td>\n",
       "      <td>...</td>\n",
       "      <td>0</td>\n",
       "      <td>56</td>\n",
       "      <td>1</td>\n",
       "      <td>56</td>\n",
       "      <td>56</td>\n",
       "      <td>19</td>\n",
       "      <td>0</td>\n",
       "      <td>56</td>\n",
       "      <td>56</td>\n",
       "      <td>54</td>\n",
       "    </tr>\n",
       "    <tr>\n",
       "      <th>MAT-POS-c20a539d-4</th>\n",
       "      <td>112</td>\n",
       "      <td>91</td>\n",
       "      <td>10</td>\n",
       "      <td>3</td>\n",
       "      <td>86</td>\n",
       "      <td>2</td>\n",
       "      <td>10</td>\n",
       "      <td>56</td>\n",
       "      <td>2</td>\n",
       "      <td>56</td>\n",
       "      <td>...</td>\n",
       "      <td>0</td>\n",
       "      <td>56</td>\n",
       "      <td>1</td>\n",
       "      <td>56</td>\n",
       "      <td>56</td>\n",
       "      <td>19</td>\n",
       "      <td>0</td>\n",
       "      <td>56</td>\n",
       "      <td>56</td>\n",
       "      <td>54</td>\n",
       "    </tr>\n",
       "    <tr>\n",
       "      <th>MAT-POS-90fd5f68-14</th>\n",
       "      <td>112</td>\n",
       "      <td>96</td>\n",
       "      <td>9</td>\n",
       "      <td>3</td>\n",
       "      <td>89</td>\n",
       "      <td>2</td>\n",
       "      <td>9</td>\n",
       "      <td>56</td>\n",
       "      <td>2</td>\n",
       "      <td>56</td>\n",
       "      <td>...</td>\n",
       "      <td>0</td>\n",
       "      <td>56</td>\n",
       "      <td>1</td>\n",
       "      <td>56</td>\n",
       "      <td>56</td>\n",
       "      <td>19</td>\n",
       "      <td>0</td>\n",
       "      <td>56</td>\n",
       "      <td>56</td>\n",
       "      <td>54</td>\n",
       "    </tr>\n",
       "    <tr>\n",
       "      <th>MAT-POS-8695a11f-1</th>\n",
       "      <td>112</td>\n",
       "      <td>103</td>\n",
       "      <td>8</td>\n",
       "      <td>3</td>\n",
       "      <td>103</td>\n",
       "      <td>2</td>\n",
       "      <td>8</td>\n",
       "      <td>56</td>\n",
       "      <td>2</td>\n",
       "      <td>56</td>\n",
       "      <td>...</td>\n",
       "      <td>0</td>\n",
       "      <td>56</td>\n",
       "      <td>1</td>\n",
       "      <td>56</td>\n",
       "      <td>56</td>\n",
       "      <td>18</td>\n",
       "      <td>0</td>\n",
       "      <td>56</td>\n",
       "      <td>56</td>\n",
       "      <td>54</td>\n",
       "    </tr>\n",
       "    <tr>\n",
       "      <th>MAT-POS-7174c657-6</th>\n",
       "      <td>112</td>\n",
       "      <td>75</td>\n",
       "      <td>8</td>\n",
       "      <td>3</td>\n",
       "      <td>75</td>\n",
       "      <td>1</td>\n",
       "      <td>8</td>\n",
       "      <td>56</td>\n",
       "      <td>2</td>\n",
       "      <td>56</td>\n",
       "      <td>...</td>\n",
       "      <td>0</td>\n",
       "      <td>56</td>\n",
       "      <td>1</td>\n",
       "      <td>56</td>\n",
       "      <td>56</td>\n",
       "      <td>19</td>\n",
       "      <td>0</td>\n",
       "      <td>56</td>\n",
       "      <td>56</td>\n",
       "      <td>54</td>\n",
       "    </tr>\n",
       "    <tr>\n",
       "      <th>JAN-GHE-5a013bed-2</th>\n",
       "      <td>112</td>\n",
       "      <td>112</td>\n",
       "      <td>13</td>\n",
       "      <td>3</td>\n",
       "      <td>96</td>\n",
       "      <td>2</td>\n",
       "      <td>13</td>\n",
       "      <td>56</td>\n",
       "      <td>2</td>\n",
       "      <td>56</td>\n",
       "      <td>...</td>\n",
       "      <td>0</td>\n",
       "      <td>56</td>\n",
       "      <td>1</td>\n",
       "      <td>56</td>\n",
       "      <td>56</td>\n",
       "      <td>19</td>\n",
       "      <td>0</td>\n",
       "      <td>56</td>\n",
       "      <td>56</td>\n",
       "      <td>54</td>\n",
       "    </tr>\n",
       "    <tr>\n",
       "      <th>EDG-MED-ba1ac7b9-19</th>\n",
       "      <td>112</td>\n",
       "      <td>76</td>\n",
       "      <td>8</td>\n",
       "      <td>3</td>\n",
       "      <td>76</td>\n",
       "      <td>1</td>\n",
       "      <td>8</td>\n",
       "      <td>56</td>\n",
       "      <td>2</td>\n",
       "      <td>56</td>\n",
       "      <td>...</td>\n",
       "      <td>0</td>\n",
       "      <td>56</td>\n",
       "      <td>1</td>\n",
       "      <td>56</td>\n",
       "      <td>56</td>\n",
       "      <td>19</td>\n",
       "      <td>0</td>\n",
       "      <td>56</td>\n",
       "      <td>56</td>\n",
       "      <td>54</td>\n",
       "    </tr>\n",
       "    <tr>\n",
       "      <th>BRU-THA-92256091-17</th>\n",
       "      <td>112</td>\n",
       "      <td>111</td>\n",
       "      <td>3</td>\n",
       "      <td>2</td>\n",
       "      <td>111</td>\n",
       "      <td>1</td>\n",
       "      <td>3</td>\n",
       "      <td>56</td>\n",
       "      <td>2</td>\n",
       "      <td>56</td>\n",
       "      <td>...</td>\n",
       "      <td>0</td>\n",
       "      <td>56</td>\n",
       "      <td>1</td>\n",
       "      <td>56</td>\n",
       "      <td>56</td>\n",
       "      <td>19</td>\n",
       "      <td>0</td>\n",
       "      <td>56</td>\n",
       "      <td>56</td>\n",
       "      <td>54</td>\n",
       "    </tr>\n",
       "    <tr>\n",
       "      <th>ALP-POS-c3a96089-4</th>\n",
       "      <td>112</td>\n",
       "      <td>91</td>\n",
       "      <td>8</td>\n",
       "      <td>3</td>\n",
       "      <td>89</td>\n",
       "      <td>1</td>\n",
       "      <td>8</td>\n",
       "      <td>56</td>\n",
       "      <td>2</td>\n",
       "      <td>56</td>\n",
       "      <td>...</td>\n",
       "      <td>0</td>\n",
       "      <td>56</td>\n",
       "      <td>1</td>\n",
       "      <td>56</td>\n",
       "      <td>56</td>\n",
       "      <td>19</td>\n",
       "      <td>0</td>\n",
       "      <td>56</td>\n",
       "      <td>56</td>\n",
       "      <td>54</td>\n",
       "    </tr>\n",
       "    <tr>\n",
       "      <th>MAT-POS-fce787c2-4</th>\n",
       "      <td>112</td>\n",
       "      <td>96</td>\n",
       "      <td>10</td>\n",
       "      <td>3</td>\n",
       "      <td>96</td>\n",
       "      <td>2</td>\n",
       "      <td>10</td>\n",
       "      <td>56</td>\n",
       "      <td>2</td>\n",
       "      <td>56</td>\n",
       "      <td>...</td>\n",
       "      <td>0</td>\n",
       "      <td>56</td>\n",
       "      <td>1</td>\n",
       "      <td>56</td>\n",
       "      <td>56</td>\n",
       "      <td>19</td>\n",
       "      <td>0</td>\n",
       "      <td>56</td>\n",
       "      <td>56</td>\n",
       "      <td>54</td>\n",
       "    </tr>\n",
       "    <tr>\n",
       "      <th>VLA-UNK-82501c2c-1</th>\n",
       "      <td>112</td>\n",
       "      <td>98</td>\n",
       "      <td>10</td>\n",
       "      <td>3</td>\n",
       "      <td>98</td>\n",
       "      <td>2</td>\n",
       "      <td>10</td>\n",
       "      <td>56</td>\n",
       "      <td>2</td>\n",
       "      <td>56</td>\n",
       "      <td>...</td>\n",
       "      <td>0</td>\n",
       "      <td>56</td>\n",
       "      <td>1</td>\n",
       "      <td>56</td>\n",
       "      <td>56</td>\n",
       "      <td>19</td>\n",
       "      <td>0</td>\n",
       "      <td>56</td>\n",
       "      <td>56</td>\n",
       "      <td>54</td>\n",
       "    </tr>\n",
       "  </tbody>\n",
       "</table>\n",
       "<p>56 rows × 22 columns</p>\n",
       "</div>"
      ],
      "text/plain": [
       "                     Docked_File  RMSD  POSIT  POSIT_Method  Chemgauss4  \\\n",
       "Compound_ID                                                               \n",
       "MAT-POS-5cd9ea36-13           96    86     12             3          83   \n",
       "EDG-MED-ba1ac7b9-21           99    78      8             3          77   \n",
       "MAT-POS-6c284e65-1           100    74      9             3          74   \n",
       "VLA-UCB-50c39ae8-7           100    89     12             3          89   \n",
       "MAT-POS-5cd9ea36-21          102    87     12             3          87   \n",
       "EDJ-MED-7889e8da-5           102    78      9             3          74   \n",
       "EDG-MED-70ae9412-2           102    86      8             3          86   \n",
       "MAT-POS-90fd5f68-31          104    89      9             3          87   \n",
       "ALP-POS-9c80c481-1           104    93     11             3          93   \n",
       "MAT-POS-e69ad64a-2           104    93      8             3          93   \n",
       "MAT-POS-90fd5f68-7           104    90     10             3          82   \n",
       "MAT-POS-090737b9-1           105    91     11             3          91   \n",
       "MAT-POS-e9e99895-6           105    75      7             3          74   \n",
       "MAT-POS-90fd5f68-28          105    84     10             3          84   \n",
       "EDG-MED-10fcb19e-1           106    87      9             3          84   \n",
       "ALP-UNI-8d415491-3           106    93     10             3          93   \n",
       "MAT-POS-5cd9ea36-23          106    80     14             3          80   \n",
       "MAT-POS-90fd5f68-2           107    85     11             3          78   \n",
       "EDJ-MED-be9e6f63-3           107    77      8             3          75   \n",
       "RUB-POS-1325a9ea-4           107    92     11             3          92   \n",
       "KAD-UNI-80f122c8-2           107    79      7             3          79   \n",
       "MAT-POS-90fd5f68-22          108    88     11             3          87   \n",
       "MAT-POS-7174c657-5           108    73      8             3          73   \n",
       "MAT-POS-50a80394-2           108    85     10             3          84   \n",
       "EDJ-MED-12c4873b-2           108    81      8             3          81   \n",
       "PET-UNK-29afea89-2           108    94     12             3          94   \n",
       "EDG-MED-971238d3-5           109   105     11             3         105   \n",
       "PET-UNK-d899bab6-1           109    93     10             3          93   \n",
       "MAT-POS-853c0ffa-9           109    81      9             3          81   \n",
       "EDJ-MED-4fff0a85-3           109    73      9             3          73   \n",
       "PET-UNK-b38839dc-1           110    95     10             3          93   \n",
       "MAT-POS-90fd5f68-37          110    90     11             3          88   \n",
       "LON-WEI-9739a092-6           110    87      7             3          82   \n",
       "MAT-POS-a13804f0-4           110    74      8             3          74   \n",
       "PET-UNK-7fb4f80a-2           110    89     10             3          89   \n",
       "ALP-POS-8b8a49e1-4           110   104     11             3          82   \n",
       "MIC-UNK-91acba05-6           110   110      9             3          87   \n",
       "EDJ-MED-92e193ae-1           111    85     11             3          85   \n",
       "EDJ-MED-c3ea9889-6           111    86     11             3          86   \n",
       "MAT-POS-5d65ec79-2           111    98     11             3          98   \n",
       "MAT-POS-bfb445d4-2           111    93     13             3          93   \n",
       "PET-UNK-bb7ffe78-1           111    93     12             3          93   \n",
       "PET-UNK-8df914d1-2           112   112      9             3          87   \n",
       "PET-UNK-c9c1e0d8-4           112    96     10             3          96   \n",
       "RAL-THA-2d450e86-33          112   100     12             3         100   \n",
       "ALP-POS-6479a3a9-2           112    96      8             3          96   \n",
       "MAT-POS-c20a539d-4           112    91     10             3          86   \n",
       "MAT-POS-90fd5f68-14          112    96      9             3          89   \n",
       "MAT-POS-8695a11f-1           112   103      8             3         103   \n",
       "MAT-POS-7174c657-6           112    75      8             3          75   \n",
       "JAN-GHE-5a013bed-2           112   112     13             3          96   \n",
       "EDG-MED-ba1ac7b9-19          112    76      8             3          76   \n",
       "BRU-THA-92256091-17          112   111      3             2         111   \n",
       "ALP-POS-c3a96089-4           112    91      8             3          89   \n",
       "MAT-POS-fce787c2-4           112    96     10             3          96   \n",
       "VLA-UNK-82501c2c-1           112    98     10             3          98   \n",
       "\n",
       "                     Clash  POSIT_R  Complex_ID  Version  Structure_Source  \\\n",
       "Compound_ID                                                                  \n",
       "MAT-POS-5cd9ea36-13      2       12          56        2                56   \n",
       "EDG-MED-ba1ac7b9-21      2        8          56        2                56   \n",
       "MAT-POS-6c284e65-1       1        9          56        2                56   \n",
       "VLA-UCB-50c39ae8-7       2       12          56        2                56   \n",
       "MAT-POS-5cd9ea36-21      2       12          56        2                56   \n",
       "EDJ-MED-7889e8da-5       2        9          56        2                56   \n",
       "EDG-MED-70ae9412-2       1        8          56        2                56   \n",
       "MAT-POS-90fd5f68-31      2        9          56        2                56   \n",
       "ALP-POS-9c80c481-1       2       11          56        2                56   \n",
       "MAT-POS-e69ad64a-2       2        8          56        2                56   \n",
       "MAT-POS-90fd5f68-7       2       10          56        2                56   \n",
       "MAT-POS-090737b9-1       2       11          56        2                56   \n",
       "MAT-POS-e9e99895-6       1        7          56        2                56   \n",
       "MAT-POS-90fd5f68-28      2       10          56        2                56   \n",
       "EDG-MED-10fcb19e-1       2        9          56        2                56   \n",
       "ALP-UNI-8d415491-3       2       10          56        2                56   \n",
       "MAT-POS-5cd9ea36-23      2       14          56        2                56   \n",
       "MAT-POS-90fd5f68-2       2       11          56        2                56   \n",
       "EDJ-MED-be9e6f63-3       1        8          56        2                56   \n",
       "RUB-POS-1325a9ea-4       2       11          56        2                56   \n",
       "KAD-UNI-80f122c8-2       1        7          56        2                56   \n",
       "MAT-POS-90fd5f68-22      2       11          56        2                56   \n",
       "MAT-POS-7174c657-5       1        8          56        2                56   \n",
       "MAT-POS-50a80394-2       2       10          56        2                56   \n",
       "EDJ-MED-12c4873b-2       1        8          56        2                56   \n",
       "PET-UNK-29afea89-2       1       12          56        2                56   \n",
       "EDG-MED-971238d3-5       1       11          56        2                56   \n",
       "PET-UNK-d899bab6-1       2       10          56        2                56   \n",
       "MAT-POS-853c0ffa-9       2        9          56        2                56   \n",
       "EDJ-MED-4fff0a85-3       2        9          56        2                56   \n",
       "PET-UNK-b38839dc-1       2       10          56        2                56   \n",
       "MAT-POS-90fd5f68-37      2       11          56        2                56   \n",
       "LON-WEI-9739a092-6       1        7          56        2                56   \n",
       "MAT-POS-a13804f0-4       1        8          56        2                56   \n",
       "PET-UNK-7fb4f80a-2       2       10          56        2                56   \n",
       "ALP-POS-8b8a49e1-4       2       11          56        2                56   \n",
       "MIC-UNK-91acba05-6       2        9          56        2                56   \n",
       "EDJ-MED-92e193ae-1       1       11          56        2                56   \n",
       "EDJ-MED-c3ea9889-6       1       11          56        2                56   \n",
       "MAT-POS-5d65ec79-2       2       11          56        2                56   \n",
       "MAT-POS-bfb445d4-2       2       13          56        2                56   \n",
       "PET-UNK-bb7ffe78-1       2       12          56        2                56   \n",
       "PET-UNK-8df914d1-2       2        9          56        2                56   \n",
       "PET-UNK-c9c1e0d8-4       2       10          56        2                56   \n",
       "RAL-THA-2d450e86-33      2       12          56        2                56   \n",
       "ALP-POS-6479a3a9-2       2        8          56        2                56   \n",
       "MAT-POS-c20a539d-4       2       10          56        2                56   \n",
       "MAT-POS-90fd5f68-14      2        9          56        2                56   \n",
       "MAT-POS-8695a11f-1       2        8          56        2                56   \n",
       "MAT-POS-7174c657-6       1        8          56        2                56   \n",
       "JAN-GHE-5a013bed-2       2       13          56        2                56   \n",
       "EDG-MED-ba1ac7b9-19      1        8          56        2                56   \n",
       "BRU-THA-92256091-17      1        3          56        2                56   \n",
       "ALP-POS-c3a96089-4       1        8          56        2                56   \n",
       "MAT-POS-fce787c2-4       2       10          56        2                56   \n",
       "VLA-UNK-82501c2c-1       2       10          56        2                56   \n",
       "\n",
       "                     ...  GAT_Score  Structure_Path  Compound_Source  \\\n",
       "Compound_ID          ...                                               \n",
       "MAT-POS-5cd9ea36-13  ...          0              56                1   \n",
       "EDG-MED-ba1ac7b9-21  ...          0              56                1   \n",
       "MAT-POS-6c284e65-1   ...          0              56                1   \n",
       "VLA-UCB-50c39ae8-7   ...          0              56                1   \n",
       "MAT-POS-5cd9ea36-21  ...          0              56                1   \n",
       "EDJ-MED-7889e8da-5   ...          0              56                1   \n",
       "EDG-MED-70ae9412-2   ...          0              56                1   \n",
       "MAT-POS-90fd5f68-31  ...          0              56                1   \n",
       "ALP-POS-9c80c481-1   ...          0              56                1   \n",
       "MAT-POS-e69ad64a-2   ...          0              56                1   \n",
       "MAT-POS-90fd5f68-7   ...          0              56                1   \n",
       "MAT-POS-090737b9-1   ...          0              56                1   \n",
       "MAT-POS-e9e99895-6   ...          0              56                1   \n",
       "MAT-POS-90fd5f68-28  ...          0              56                1   \n",
       "EDG-MED-10fcb19e-1   ...          0              56                1   \n",
       "ALP-UNI-8d415491-3   ...          0              56                1   \n",
       "MAT-POS-5cd9ea36-23  ...          0              56                1   \n",
       "MAT-POS-90fd5f68-2   ...          0              56                1   \n",
       "EDJ-MED-be9e6f63-3   ...          0              56                1   \n",
       "RUB-POS-1325a9ea-4   ...          0              56                1   \n",
       "KAD-UNI-80f122c8-2   ...          0              56                1   \n",
       "MAT-POS-90fd5f68-22  ...          0              56                1   \n",
       "MAT-POS-7174c657-5   ...          0              56                1   \n",
       "MAT-POS-50a80394-2   ...          0              56                1   \n",
       "EDJ-MED-12c4873b-2   ...          0              56                1   \n",
       "PET-UNK-29afea89-2   ...          0              56                1   \n",
       "EDG-MED-971238d3-5   ...          0              56                1   \n",
       "PET-UNK-d899bab6-1   ...          0              56                1   \n",
       "MAT-POS-853c0ffa-9   ...          0              56                1   \n",
       "EDJ-MED-4fff0a85-3   ...          0              56                1   \n",
       "PET-UNK-b38839dc-1   ...          0              56                1   \n",
       "MAT-POS-90fd5f68-37  ...          0              56                1   \n",
       "LON-WEI-9739a092-6   ...          0              56                1   \n",
       "MAT-POS-a13804f0-4   ...          0              56                1   \n",
       "PET-UNK-7fb4f80a-2   ...          0              56                1   \n",
       "ALP-POS-8b8a49e1-4   ...          0              56                1   \n",
       "MIC-UNK-91acba05-6   ...          0              56                1   \n",
       "EDJ-MED-92e193ae-1   ...          0              56                1   \n",
       "EDJ-MED-c3ea9889-6   ...          0              56                1   \n",
       "MAT-POS-5d65ec79-2   ...          0              56                1   \n",
       "MAT-POS-bfb445d4-2   ...          0              56                1   \n",
       "PET-UNK-bb7ffe78-1   ...          0              56                1   \n",
       "PET-UNK-8df914d1-2   ...          0              56                1   \n",
       "PET-UNK-c9c1e0d8-4   ...          0              56                1   \n",
       "RAL-THA-2d450e86-33  ...          0              56                1   \n",
       "ALP-POS-6479a3a9-2   ...          0              56                1   \n",
       "MAT-POS-c20a539d-4   ...          0              56                1   \n",
       "MAT-POS-90fd5f68-14  ...          0              56                1   \n",
       "MAT-POS-8695a11f-1   ...          0              56                1   \n",
       "MAT-POS-7174c657-6   ...          0              56                1   \n",
       "JAN-GHE-5a013bed-2   ...          0              56                1   \n",
       "EDG-MED-ba1ac7b9-19  ...          0              56                1   \n",
       "BRU-THA-92256091-17  ...          0              56                1   \n",
       "ALP-POS-c3a96089-4   ...          0              56                1   \n",
       "MAT-POS-fce787c2-4   ...          0              56                1   \n",
       "VLA-UNK-82501c2c-1   ...          0              56                1   \n",
       "\n",
       "                     Structure_Name  Data_Collection_Date  Structure_Date  \\\n",
       "Compound_ID                                                                 \n",
       "MAT-POS-5cd9ea36-13              56                    56              18   \n",
       "EDG-MED-ba1ac7b9-21              56                    56              19   \n",
       "MAT-POS-6c284e65-1               56                    56              19   \n",
       "VLA-UCB-50c39ae8-7               56                    56              19   \n",
       "MAT-POS-5cd9ea36-21              56                    56              19   \n",
       "EDJ-MED-7889e8da-5               56                    56              19   \n",
       "EDG-MED-70ae9412-2               56                    56              19   \n",
       "MAT-POS-90fd5f68-31              56                    56              19   \n",
       "ALP-POS-9c80c481-1               56                    56              19   \n",
       "MAT-POS-e69ad64a-2               56                    56              18   \n",
       "MAT-POS-90fd5f68-7               56                    56              19   \n",
       "MAT-POS-090737b9-1               56                    56              19   \n",
       "MAT-POS-e9e99895-6               56                    56              18   \n",
       "MAT-POS-90fd5f68-28              56                    56              19   \n",
       "EDG-MED-10fcb19e-1               56                    56              19   \n",
       "ALP-UNI-8d415491-3               56                    56              19   \n",
       "MAT-POS-5cd9ea36-23              56                    56              19   \n",
       "MAT-POS-90fd5f68-2               56                    56              19   \n",
       "EDJ-MED-be9e6f63-3               56                    56              19   \n",
       "RUB-POS-1325a9ea-4               56                    56              19   \n",
       "KAD-UNI-80f122c8-2               56                    56              19   \n",
       "MAT-POS-90fd5f68-22              56                    56              18   \n",
       "MAT-POS-7174c657-5               56                    56              19   \n",
       "MAT-POS-50a80394-2               56                    56              18   \n",
       "EDJ-MED-12c4873b-2               56                    56              18   \n",
       "PET-UNK-29afea89-2               56                    56              19   \n",
       "EDG-MED-971238d3-5               56                    56              19   \n",
       "PET-UNK-d899bab6-1               56                    56              19   \n",
       "MAT-POS-853c0ffa-9               56                    56              18   \n",
       "EDJ-MED-4fff0a85-3               56                    56              19   \n",
       "PET-UNK-b38839dc-1               56                    56              19   \n",
       "MAT-POS-90fd5f68-37              56                    56              19   \n",
       "LON-WEI-9739a092-6               56                    56              19   \n",
       "MAT-POS-a13804f0-4               56                    56              19   \n",
       "PET-UNK-7fb4f80a-2               56                    56              19   \n",
       "ALP-POS-8b8a49e1-4               56                    56              19   \n",
       "MIC-UNK-91acba05-6               56                    56              19   \n",
       "EDJ-MED-92e193ae-1               56                    56              19   \n",
       "EDJ-MED-c3ea9889-6               56                    56              19   \n",
       "MAT-POS-5d65ec79-2               56                    56              19   \n",
       "MAT-POS-bfb445d4-2               56                    56              19   \n",
       "PET-UNK-bb7ffe78-1               56                    56              19   \n",
       "PET-UNK-8df914d1-2               56                    56              19   \n",
       "PET-UNK-c9c1e0d8-4               56                    56              19   \n",
       "RAL-THA-2d450e86-33              56                    56              19   \n",
       "ALP-POS-6479a3a9-2               56                    56              19   \n",
       "MAT-POS-c20a539d-4               56                    56              19   \n",
       "MAT-POS-90fd5f68-14              56                    56              19   \n",
       "MAT-POS-8695a11f-1               56                    56              18   \n",
       "MAT-POS-7174c657-6               56                    56              19   \n",
       "JAN-GHE-5a013bed-2               56                    56              19   \n",
       "EDG-MED-ba1ac7b9-19              56                    56              19   \n",
       "BRU-THA-92256091-17              56                    56              19   \n",
       "ALP-POS-c3a96089-4               56                    56              19   \n",
       "MAT-POS-fce787c2-4               56                    56              19   \n",
       "VLA-UNK-82501c2c-1               56                    56              19   \n",
       "\n",
       "                     SCHNET_score  Reference_Ligand  TanimotoCombo  \\\n",
       "Compound_ID                                                          \n",
       "MAT-POS-5cd9ea36-13             0                56             56   \n",
       "EDG-MED-ba1ac7b9-21             0                56             56   \n",
       "MAT-POS-6c284e65-1              0                56             56   \n",
       "VLA-UCB-50c39ae8-7              0                56             56   \n",
       "MAT-POS-5cd9ea36-21             0                56             56   \n",
       "EDJ-MED-7889e8da-5              0                56             56   \n",
       "EDG-MED-70ae9412-2              0                56             56   \n",
       "MAT-POS-90fd5f68-31             0                56             56   \n",
       "ALP-POS-9c80c481-1              0                56             56   \n",
       "MAT-POS-e69ad64a-2              0                56             56   \n",
       "MAT-POS-90fd5f68-7              0                56             56   \n",
       "MAT-POS-090737b9-1              0                56             56   \n",
       "MAT-POS-e9e99895-6              0                56             56   \n",
       "MAT-POS-90fd5f68-28             0                56             56   \n",
       "EDG-MED-10fcb19e-1              0                56             56   \n",
       "ALP-UNI-8d415491-3              0                56             56   \n",
       "MAT-POS-5cd9ea36-23             0                56             56   \n",
       "MAT-POS-90fd5f68-2              0                56             56   \n",
       "EDJ-MED-be9e6f63-3              0                56             56   \n",
       "RUB-POS-1325a9ea-4              0                56             56   \n",
       "KAD-UNI-80f122c8-2              0                56             56   \n",
       "MAT-POS-90fd5f68-22             0                56             56   \n",
       "MAT-POS-7174c657-5              0                56             56   \n",
       "MAT-POS-50a80394-2              0                56             56   \n",
       "EDJ-MED-12c4873b-2              0                56             56   \n",
       "PET-UNK-29afea89-2              0                56             56   \n",
       "EDG-MED-971238d3-5              0                56             56   \n",
       "PET-UNK-d899bab6-1              0                56             56   \n",
       "MAT-POS-853c0ffa-9              0                56             56   \n",
       "EDJ-MED-4fff0a85-3              0                56             56   \n",
       "PET-UNK-b38839dc-1              0                56             56   \n",
       "MAT-POS-90fd5f68-37             0                56             56   \n",
       "LON-WEI-9739a092-6              0                56             56   \n",
       "MAT-POS-a13804f0-4              0                56             56   \n",
       "PET-UNK-7fb4f80a-2              0                56             56   \n",
       "ALP-POS-8b8a49e1-4              0                56             56   \n",
       "MIC-UNK-91acba05-6              0                56             56   \n",
       "EDJ-MED-92e193ae-1              0                56             56   \n",
       "EDJ-MED-c3ea9889-6              0                56             56   \n",
       "MAT-POS-5d65ec79-2              0                56             56   \n",
       "MAT-POS-bfb445d4-2              0                56             56   \n",
       "PET-UNK-bb7ffe78-1              0                56             56   \n",
       "PET-UNK-8df914d1-2              0                56             56   \n",
       "PET-UNK-c9c1e0d8-4              0                56             56   \n",
       "RAL-THA-2d450e86-33             0                56             56   \n",
       "ALP-POS-6479a3a9-2              0                56             56   \n",
       "MAT-POS-c20a539d-4              0                56             56   \n",
       "MAT-POS-90fd5f68-14             0                56             56   \n",
       "MAT-POS-8695a11f-1              0                56             56   \n",
       "MAT-POS-7174c657-6              0                56             56   \n",
       "JAN-GHE-5a013bed-2              0                56             56   \n",
       "EDG-MED-ba1ac7b9-19             0                56             56   \n",
       "BRU-THA-92256091-17             0                56             56   \n",
       "ALP-POS-c3a96089-4              0                56             56   \n",
       "MAT-POS-fce787c2-4              0                56             56   \n",
       "VLA-UNK-82501c2c-1              0                56             56   \n",
       "\n",
       "                     SASA (nm^2)  \n",
       "Compound_ID                       \n",
       "MAT-POS-5cd9ea36-13           54  \n",
       "EDG-MED-ba1ac7b9-21           54  \n",
       "MAT-POS-6c284e65-1            54  \n",
       "VLA-UCB-50c39ae8-7            54  \n",
       "MAT-POS-5cd9ea36-21           54  \n",
       "EDJ-MED-7889e8da-5            54  \n",
       "EDG-MED-70ae9412-2            54  \n",
       "MAT-POS-90fd5f68-31           54  \n",
       "ALP-POS-9c80c481-1            54  \n",
       "MAT-POS-e69ad64a-2            54  \n",
       "MAT-POS-90fd5f68-7            54  \n",
       "MAT-POS-090737b9-1            54  \n",
       "MAT-POS-e9e99895-6            54  \n",
       "MAT-POS-90fd5f68-28           54  \n",
       "EDG-MED-10fcb19e-1            54  \n",
       "ALP-UNI-8d415491-3            54  \n",
       "MAT-POS-5cd9ea36-23           54  \n",
       "MAT-POS-90fd5f68-2            54  \n",
       "EDJ-MED-be9e6f63-3            54  \n",
       "RUB-POS-1325a9ea-4            54  \n",
       "KAD-UNI-80f122c8-2            54  \n",
       "MAT-POS-90fd5f68-22           54  \n",
       "MAT-POS-7174c657-5            54  \n",
       "MAT-POS-50a80394-2            54  \n",
       "EDJ-MED-12c4873b-2            54  \n",
       "PET-UNK-29afea89-2            54  \n",
       "EDG-MED-971238d3-5            54  \n",
       "PET-UNK-d899bab6-1            54  \n",
       "MAT-POS-853c0ffa-9            54  \n",
       "EDJ-MED-4fff0a85-3            54  \n",
       "PET-UNK-b38839dc-1            54  \n",
       "MAT-POS-90fd5f68-37           54  \n",
       "LON-WEI-9739a092-6            54  \n",
       "MAT-POS-a13804f0-4            54  \n",
       "PET-UNK-7fb4f80a-2            55  \n",
       "ALP-POS-8b8a49e1-4            54  \n",
       "MIC-UNK-91acba05-6            54  \n",
       "EDJ-MED-92e193ae-1            54  \n",
       "EDJ-MED-c3ea9889-6            55  \n",
       "MAT-POS-5d65ec79-2            54  \n",
       "MAT-POS-bfb445d4-2            54  \n",
       "PET-UNK-bb7ffe78-1            54  \n",
       "PET-UNK-8df914d1-2            54  \n",
       "PET-UNK-c9c1e0d8-4            54  \n",
       "RAL-THA-2d450e86-33           54  \n",
       "ALP-POS-6479a3a9-2            54  \n",
       "MAT-POS-c20a539d-4            54  \n",
       "MAT-POS-90fd5f68-14           54  \n",
       "MAT-POS-8695a11f-1            54  \n",
       "MAT-POS-7174c657-6            54  \n",
       "JAN-GHE-5a013bed-2            54  \n",
       "EDG-MED-ba1ac7b9-19           54  \n",
       "BRU-THA-92256091-17           54  \n",
       "ALP-POS-c3a96089-4            54  \n",
       "MAT-POS-fce787c2-4            54  \n",
       "VLA-UNK-82501c2c-1            54  \n",
       "\n",
       "[56 rows x 22 columns]"
      ]
     },
     "execution_count": 172,
     "metadata": {},
     "output_type": "execute_result"
    }
   ],
   "source": [
    "superclean.groupby(\"Compound_ID\").nunique().sort_values(\"Docked_File\")"
   ]
  },
  {
   "cell_type": "code",
   "execution_count": 173,
   "id": "f2972a6f-c7b7-40de-8a5f-3694ef7018c9",
   "metadata": {
    "tags": []
   },
   "outputs": [],
   "source": [
    "minimal_success = superclean[(superclean.Compound_ID == \"MAT-POS-5cd9ea36-13\") & (superclean.Version == \"Hybrid-Only\")].Reference_Ligand.unique()"
   ]
  },
  {
   "cell_type": "code",
   "execution_count": 174,
   "id": "ddadb338-945c-4fea-a310-b9a51c7300d1",
   "metadata": {
    "tags": []
   },
   "outputs": [],
   "source": [
    "superclean = superclean[superclean.Compound_ID.isin(minimal_success)]\n",
    "superclean = superclean[superclean.Reference_Ligand.isin(minimal_success)]"
   ]
  },
  {
   "cell_type": "code",
   "execution_count": 175,
   "id": "2626189d-fbdb-4c6d-973e-37ed01372715",
   "metadata": {
    "tags": []
   },
   "outputs": [],
   "source": [
    "n_successfully_docked_superclean = superclean.groupby(\"Compound_ID\").nunique().Docked_File"
   ]
  },
  {
   "cell_type": "code",
   "execution_count": 176,
   "id": "7911a98e-2eee-4dca-8612-7aaaf19874ae",
   "metadata": {
    "tags": []
   },
   "outputs": [
    {
     "data": {
      "application/vnd.plotly.v1+json": {
       "config": {
        "plotlyServerURL": "https://plot.ly"
       },
       "data": [
        {
         "alignmentgroup": "True",
         "bingroup": "x",
         "hovertemplate": "variable=Docked_File<br>value=%{x}<br>count=%{y}<extra></extra>",
         "legendgroup": "Docked_File",
         "marker": {
          "color": "#636efa",
          "pattern": {
           "shape": ""
          }
         },
         "name": "Docked_File",
         "offsetgroup": "Docked_File",
         "orientation": "v",
         "showlegend": true,
         "type": "histogram",
         "x": [
          39,
          38,
          36.5,
          39,
          35,
          37.5,
          39,
          33.5,
          35.5,
          38.5,
          39,
          36.5,
          37,
          38,
          38,
          38.5,
          34.5,
          39,
          39,
          39,
          39,
          37.5,
          38,
          37.5,
          36.5,
          39,
          39,
          39,
          38,
          37,
          39,
          39,
          38.5,
          39,
          38,
          39,
          37.5,
          35.5,
          39
         ],
         "xaxis": "x",
         "yaxis": "y"
        }
       ],
       "layout": {
        "autosize": true,
        "barmode": "relative",
        "legend": {
         "title": {
          "text": "variable"
         },
         "tracegroupgap": 0
        },
        "margin": {
         "t": 60
        },
        "template": {
         "data": {
          "bar": [
           {
            "error_x": {
             "color": "#2a3f5f"
            },
            "error_y": {
             "color": "#2a3f5f"
            },
            "marker": {
             "line": {
              "color": "#E5ECF6",
              "width": 0.5
             },
             "pattern": {
              "fillmode": "overlay",
              "size": 10,
              "solidity": 0.2
             }
            },
            "type": "bar"
           }
          ],
          "barpolar": [
           {
            "marker": {
             "line": {
              "color": "#E5ECF6",
              "width": 0.5
             },
             "pattern": {
              "fillmode": "overlay",
              "size": 10,
              "solidity": 0.2
             }
            },
            "type": "barpolar"
           }
          ],
          "carpet": [
           {
            "aaxis": {
             "endlinecolor": "#2a3f5f",
             "gridcolor": "white",
             "linecolor": "white",
             "minorgridcolor": "white",
             "startlinecolor": "#2a3f5f"
            },
            "baxis": {
             "endlinecolor": "#2a3f5f",
             "gridcolor": "white",
             "linecolor": "white",
             "minorgridcolor": "white",
             "startlinecolor": "#2a3f5f"
            },
            "type": "carpet"
           }
          ],
          "choropleth": [
           {
            "colorbar": {
             "outlinewidth": 0,
             "ticks": ""
            },
            "type": "choropleth"
           }
          ],
          "contour": [
           {
            "colorbar": {
             "outlinewidth": 0,
             "ticks": ""
            },
            "colorscale": [
             [
              0,
              "#0d0887"
             ],
             [
              0.1111111111111111,
              "#46039f"
             ],
             [
              0.2222222222222222,
              "#7201a8"
             ],
             [
              0.3333333333333333,
              "#9c179e"
             ],
             [
              0.4444444444444444,
              "#bd3786"
             ],
             [
              0.5555555555555556,
              "#d8576b"
             ],
             [
              0.6666666666666666,
              "#ed7953"
             ],
             [
              0.7777777777777778,
              "#fb9f3a"
             ],
             [
              0.8888888888888888,
              "#fdca26"
             ],
             [
              1,
              "#f0f921"
             ]
            ],
            "type": "contour"
           }
          ],
          "contourcarpet": [
           {
            "colorbar": {
             "outlinewidth": 0,
             "ticks": ""
            },
            "type": "contourcarpet"
           }
          ],
          "heatmap": [
           {
            "colorbar": {
             "outlinewidth": 0,
             "ticks": ""
            },
            "colorscale": [
             [
              0,
              "#0d0887"
             ],
             [
              0.1111111111111111,
              "#46039f"
             ],
             [
              0.2222222222222222,
              "#7201a8"
             ],
             [
              0.3333333333333333,
              "#9c179e"
             ],
             [
              0.4444444444444444,
              "#bd3786"
             ],
             [
              0.5555555555555556,
              "#d8576b"
             ],
             [
              0.6666666666666666,
              "#ed7953"
             ],
             [
              0.7777777777777778,
              "#fb9f3a"
             ],
             [
              0.8888888888888888,
              "#fdca26"
             ],
             [
              1,
              "#f0f921"
             ]
            ],
            "type": "heatmap"
           }
          ],
          "heatmapgl": [
           {
            "colorbar": {
             "outlinewidth": 0,
             "ticks": ""
            },
            "colorscale": [
             [
              0,
              "#0d0887"
             ],
             [
              0.1111111111111111,
              "#46039f"
             ],
             [
              0.2222222222222222,
              "#7201a8"
             ],
             [
              0.3333333333333333,
              "#9c179e"
             ],
             [
              0.4444444444444444,
              "#bd3786"
             ],
             [
              0.5555555555555556,
              "#d8576b"
             ],
             [
              0.6666666666666666,
              "#ed7953"
             ],
             [
              0.7777777777777778,
              "#fb9f3a"
             ],
             [
              0.8888888888888888,
              "#fdca26"
             ],
             [
              1,
              "#f0f921"
             ]
            ],
            "type": "heatmapgl"
           }
          ],
          "histogram": [
           {
            "marker": {
             "pattern": {
              "fillmode": "overlay",
              "size": 10,
              "solidity": 0.2
             }
            },
            "type": "histogram"
           }
          ],
          "histogram2d": [
           {
            "colorbar": {
             "outlinewidth": 0,
             "ticks": ""
            },
            "colorscale": [
             [
              0,
              "#0d0887"
             ],
             [
              0.1111111111111111,
              "#46039f"
             ],
             [
              0.2222222222222222,
              "#7201a8"
             ],
             [
              0.3333333333333333,
              "#9c179e"
             ],
             [
              0.4444444444444444,
              "#bd3786"
             ],
             [
              0.5555555555555556,
              "#d8576b"
             ],
             [
              0.6666666666666666,
              "#ed7953"
             ],
             [
              0.7777777777777778,
              "#fb9f3a"
             ],
             [
              0.8888888888888888,
              "#fdca26"
             ],
             [
              1,
              "#f0f921"
             ]
            ],
            "type": "histogram2d"
           }
          ],
          "histogram2dcontour": [
           {
            "colorbar": {
             "outlinewidth": 0,
             "ticks": ""
            },
            "colorscale": [
             [
              0,
              "#0d0887"
             ],
             [
              0.1111111111111111,
              "#46039f"
             ],
             [
              0.2222222222222222,
              "#7201a8"
             ],
             [
              0.3333333333333333,
              "#9c179e"
             ],
             [
              0.4444444444444444,
              "#bd3786"
             ],
             [
              0.5555555555555556,
              "#d8576b"
             ],
             [
              0.6666666666666666,
              "#ed7953"
             ],
             [
              0.7777777777777778,
              "#fb9f3a"
             ],
             [
              0.8888888888888888,
              "#fdca26"
             ],
             [
              1,
              "#f0f921"
             ]
            ],
            "type": "histogram2dcontour"
           }
          ],
          "mesh3d": [
           {
            "colorbar": {
             "outlinewidth": 0,
             "ticks": ""
            },
            "type": "mesh3d"
           }
          ],
          "parcoords": [
           {
            "line": {
             "colorbar": {
              "outlinewidth": 0,
              "ticks": ""
             }
            },
            "type": "parcoords"
           }
          ],
          "pie": [
           {
            "automargin": true,
            "type": "pie"
           }
          ],
          "scatter": [
           {
            "fillpattern": {
             "fillmode": "overlay",
             "size": 10,
             "solidity": 0.2
            },
            "type": "scatter"
           }
          ],
          "scatter3d": [
           {
            "line": {
             "colorbar": {
              "outlinewidth": 0,
              "ticks": ""
             }
            },
            "marker": {
             "colorbar": {
              "outlinewidth": 0,
              "ticks": ""
             }
            },
            "type": "scatter3d"
           }
          ],
          "scattercarpet": [
           {
            "marker": {
             "colorbar": {
              "outlinewidth": 0,
              "ticks": ""
             }
            },
            "type": "scattercarpet"
           }
          ],
          "scattergeo": [
           {
            "marker": {
             "colorbar": {
              "outlinewidth": 0,
              "ticks": ""
             }
            },
            "type": "scattergeo"
           }
          ],
          "scattergl": [
           {
            "marker": {
             "colorbar": {
              "outlinewidth": 0,
              "ticks": ""
             }
            },
            "type": "scattergl"
           }
          ],
          "scattermapbox": [
           {
            "marker": {
             "colorbar": {
              "outlinewidth": 0,
              "ticks": ""
             }
            },
            "type": "scattermapbox"
           }
          ],
          "scatterpolar": [
           {
            "marker": {
             "colorbar": {
              "outlinewidth": 0,
              "ticks": ""
             }
            },
            "type": "scatterpolar"
           }
          ],
          "scatterpolargl": [
           {
            "marker": {
             "colorbar": {
              "outlinewidth": 0,
              "ticks": ""
             }
            },
            "type": "scatterpolargl"
           }
          ],
          "scatterternary": [
           {
            "marker": {
             "colorbar": {
              "outlinewidth": 0,
              "ticks": ""
             }
            },
            "type": "scatterternary"
           }
          ],
          "surface": [
           {
            "colorbar": {
             "outlinewidth": 0,
             "ticks": ""
            },
            "colorscale": [
             [
              0,
              "#0d0887"
             ],
             [
              0.1111111111111111,
              "#46039f"
             ],
             [
              0.2222222222222222,
              "#7201a8"
             ],
             [
              0.3333333333333333,
              "#9c179e"
             ],
             [
              0.4444444444444444,
              "#bd3786"
             ],
             [
              0.5555555555555556,
              "#d8576b"
             ],
             [
              0.6666666666666666,
              "#ed7953"
             ],
             [
              0.7777777777777778,
              "#fb9f3a"
             ],
             [
              0.8888888888888888,
              "#fdca26"
             ],
             [
              1,
              "#f0f921"
             ]
            ],
            "type": "surface"
           }
          ],
          "table": [
           {
            "cells": {
             "fill": {
              "color": "#EBF0F8"
             },
             "line": {
              "color": "white"
             }
            },
            "header": {
             "fill": {
              "color": "#C8D4E3"
             },
             "line": {
              "color": "white"
             }
            },
            "type": "table"
           }
          ]
         },
         "layout": {
          "annotationdefaults": {
           "arrowcolor": "#2a3f5f",
           "arrowhead": 0,
           "arrowwidth": 1
          },
          "autotypenumbers": "strict",
          "coloraxis": {
           "colorbar": {
            "outlinewidth": 0,
            "ticks": ""
           }
          },
          "colorscale": {
           "diverging": [
            [
             0,
             "#8e0152"
            ],
            [
             0.1,
             "#c51b7d"
            ],
            [
             0.2,
             "#de77ae"
            ],
            [
             0.3,
             "#f1b6da"
            ],
            [
             0.4,
             "#fde0ef"
            ],
            [
             0.5,
             "#f7f7f7"
            ],
            [
             0.6,
             "#e6f5d0"
            ],
            [
             0.7,
             "#b8e186"
            ],
            [
             0.8,
             "#7fbc41"
            ],
            [
             0.9,
             "#4d9221"
            ],
            [
             1,
             "#276419"
            ]
           ],
           "sequential": [
            [
             0,
             "#0d0887"
            ],
            [
             0.1111111111111111,
             "#46039f"
            ],
            [
             0.2222222222222222,
             "#7201a8"
            ],
            [
             0.3333333333333333,
             "#9c179e"
            ],
            [
             0.4444444444444444,
             "#bd3786"
            ],
            [
             0.5555555555555556,
             "#d8576b"
            ],
            [
             0.6666666666666666,
             "#ed7953"
            ],
            [
             0.7777777777777778,
             "#fb9f3a"
            ],
            [
             0.8888888888888888,
             "#fdca26"
            ],
            [
             1,
             "#f0f921"
            ]
           ],
           "sequentialminus": [
            [
             0,
             "#0d0887"
            ],
            [
             0.1111111111111111,
             "#46039f"
            ],
            [
             0.2222222222222222,
             "#7201a8"
            ],
            [
             0.3333333333333333,
             "#9c179e"
            ],
            [
             0.4444444444444444,
             "#bd3786"
            ],
            [
             0.5555555555555556,
             "#d8576b"
            ],
            [
             0.6666666666666666,
             "#ed7953"
            ],
            [
             0.7777777777777778,
             "#fb9f3a"
            ],
            [
             0.8888888888888888,
             "#fdca26"
            ],
            [
             1,
             "#f0f921"
            ]
           ]
          },
          "colorway": [
           "#636efa",
           "#EF553B",
           "#00cc96",
           "#ab63fa",
           "#FFA15A",
           "#19d3f3",
           "#FF6692",
           "#B6E880",
           "#FF97FF",
           "#FECB52"
          ],
          "font": {
           "color": "#2a3f5f"
          },
          "geo": {
           "bgcolor": "white",
           "lakecolor": "white",
           "landcolor": "#E5ECF6",
           "showlakes": true,
           "showland": true,
           "subunitcolor": "white"
          },
          "hoverlabel": {
           "align": "left"
          },
          "hovermode": "closest",
          "mapbox": {
           "style": "light"
          },
          "paper_bgcolor": "white",
          "plot_bgcolor": "#E5ECF6",
          "polar": {
           "angularaxis": {
            "gridcolor": "white",
            "linecolor": "white",
            "ticks": ""
           },
           "bgcolor": "#E5ECF6",
           "radialaxis": {
            "gridcolor": "white",
            "linecolor": "white",
            "ticks": ""
           }
          },
          "scene": {
           "xaxis": {
            "backgroundcolor": "#E5ECF6",
            "gridcolor": "white",
            "gridwidth": 2,
            "linecolor": "white",
            "showbackground": true,
            "ticks": "",
            "zerolinecolor": "white"
           },
           "yaxis": {
            "backgroundcolor": "#E5ECF6",
            "gridcolor": "white",
            "gridwidth": 2,
            "linecolor": "white",
            "showbackground": true,
            "ticks": "",
            "zerolinecolor": "white"
           },
           "zaxis": {
            "backgroundcolor": "#E5ECF6",
            "gridcolor": "white",
            "gridwidth": 2,
            "linecolor": "white",
            "showbackground": true,
            "ticks": "",
            "zerolinecolor": "white"
           }
          },
          "shapedefaults": {
           "line": {
            "color": "#2a3f5f"
           }
          },
          "ternary": {
           "aaxis": {
            "gridcolor": "white",
            "linecolor": "white",
            "ticks": ""
           },
           "baxis": {
            "gridcolor": "white",
            "linecolor": "white",
            "ticks": ""
           },
           "bgcolor": "#E5ECF6",
           "caxis": {
            "gridcolor": "white",
            "linecolor": "white",
            "ticks": ""
           }
          },
          "title": {
           "x": 0.05
          },
          "xaxis": {
           "automargin": true,
           "gridcolor": "white",
           "linecolor": "white",
           "ticks": "",
           "title": {
            "standoff": 15
           },
           "zerolinecolor": "white",
           "zerolinewidth": 2
          },
          "yaxis": {
           "automargin": true,
           "gridcolor": "white",
           "linecolor": "white",
           "ticks": "",
           "title": {
            "standoff": 15
           },
           "zerolinecolor": "white",
           "zerolinewidth": 2
          }
         }
        },
        "xaxis": {
         "anchor": "y",
         "autorange": true,
         "domain": [
          0,
          1
         ],
         "range": [
          33,
          40
         ],
         "title": {
          "text": "value"
         },
         "type": "linear"
        },
        "yaxis": {
         "anchor": "x",
         "autorange": true,
         "domain": [
          0,
          1
         ],
         "range": [
          0,
          16.842105263157894
         ],
         "title": {
          "text": "count"
         }
        }
       }
      },
      "image/png": "[encoded data removed]",
      "text/html": [
       "<div>                            <div id=\"12fb3d67-53c3-4a16-88d0-9bfc2fc4fe36\" class=\"plotly-graph-div\" style=\"height:525px; width:100%;\"></div>            <script type=\"text/javascript\">                require([\"plotly\"], function(Plotly) {                    window.PLOTLYENV=window.PLOTLYENV || {};                                    if (document.getElementById(\"12fb3d67-53c3-4a16-88d0-9bfc2fc4fe36\")) {                    Plotly.newPlot(                        \"12fb3d67-53c3-4a16-88d0-9bfc2fc4fe36\",                        [{\"alignmentgroup\":\"True\",\"bingroup\":\"x\",\"hovertemplate\":\"variable=Docked_File<br>value=%{x}<br>count=%{y}<extra></extra>\",\"legendgroup\":\"Docked_File\",\"marker\":{\"color\":\"#636efa\",\"pattern\":{\"shape\":\"\"}},\"name\":\"Docked_File\",\"offsetgroup\":\"Docked_File\",\"orientation\":\"v\",\"showlegend\":true,\"x\":[39.0,38.0,36.5,39.0,35.0,37.5,39.0,33.5,35.5,38.5,39.0,36.5,37.0,38.0,38.0,38.5,34.5,39.0,39.0,39.0,39.0,37.5,38.0,37.5,36.5,39.0,39.0,39.0,38.0,37.0,39.0,39.0,38.5,39.0,38.0,39.0,37.5,35.5,39.0],\"xaxis\":\"x\",\"yaxis\":\"y\",\"type\":\"histogram\"}],                        {\"template\":{\"data\":{\"histogram2dcontour\":[{\"type\":\"histogram2dcontour\",\"colorbar\":{\"outlinewidth\":0,\"ticks\":\"\"},\"colorscale\":[[0.0,\"#0d0887\"],[0.1111111111111111,\"#46039f\"],[0.2222222222222222,\"#7201a8\"],[0.3333333333333333,\"#9c179e\"],[0.4444444444444444,\"#bd3786\"],[0.5555555555555556,\"#d8576b\"],[0.6666666666666666,\"#ed7953\"],[0.7777777777777778,\"#fb9f3a\"],[0.8888888888888888,\"#fdca26\"],[1.0,\"#f0f921\"]]}],\"choropleth\":[{\"type\":\"choropleth\",\"colorbar\":{\"outlinewidth\":0,\"ticks\":\"\"}}],\"histogram2d\":[{\"type\":\"histogram2d\",\"colorbar\":{\"outlinewidth\":0,\"ticks\":\"\"},\"colorscale\":[[0.0,\"#0d0887\"],[0.1111111111111111,\"#46039f\"],[0.2222222222222222,\"#7201a8\"],[0.3333333333333333,\"#9c179e\"],[0.4444444444444444,\"#bd3786\"],[0.5555555555555556,\"#d8576b\"],[0.6666666666666666,\"#ed7953\"],[0.7777777777777778,\"#fb9f3a\"],[0.8888888888888888,\"#fdca26\"],[1.0,\"#f0f921\"]]}],\"heatmap\":[{\"type\":\"heatmap\",\"colorbar\":{\"outlinewidth\":0,\"ticks\":\"\"},\"colorscale\":[[0.0,\"#0d0887\"],[0.1111111111111111,\"#46039f\"],[0.2222222222222222,\"#7201a8\"],[0.3333333333333333,\"#9c179e\"],[0.4444444444444444,\"#bd3786\"],[0.5555555555555556,\"#d8576b\"],[0.6666666666666666,\"#ed7953\"],[0.7777777777777778,\"#fb9f3a\"],[0.8888888888888888,\"#fdca26\"],[1.0,\"#f0f921\"]]}],\"heatmapgl\":[{\"type\":\"heatmapgl\",\"colorbar\":{\"outlinewidth\":0,\"ticks\":\"\"},\"colorscale\":[[0.0,\"#0d0887\"],[0.1111111111111111,\"#46039f\"],[0.2222222222222222,\"#7201a8\"],[0.3333333333333333,\"#9c179e\"],[0.4444444444444444,\"#bd3786\"],[0.5555555555555556,\"#d8576b\"],[0.6666666666666666,\"#ed7953\"],[0.7777777777777778,\"#fb9f3a\"],[0.8888888888888888,\"#fdca26\"],[1.0,\"#f0f921\"]]}],\"contourcarpet\":[{\"type\":\"contourcarpet\",\"colorbar\":{\"outlinewidth\":0,\"ticks\":\"\"}}],\"contour\":[{\"type\":\"contour\",\"colorbar\":{\"outlinewidth\":0,\"ticks\":\"\"},\"colorscale\":[[0.0,\"#0d0887\"],[0.1111111111111111,\"#46039f\"],[0.2222222222222222,\"#7201a8\"],[0.3333333333333333,\"#9c179e\"],[0.4444444444444444,\"#bd3786\"],[0.5555555555555556,\"#d8576b\"],[0.6666666666666666,\"#ed7953\"],[0.7777777777777778,\"#fb9f3a\"],[0.8888888888888888,\"#fdca26\"],[1.0,\"#f0f921\"]]}],\"surface\":[{\"type\":\"surface\",\"colorbar\":{\"outlinewidth\":0,\"ticks\":\"\"},\"colorscale\":[[0.0,\"#0d0887\"],[0.1111111111111111,\"#46039f\"],[0.2222222222222222,\"#7201a8\"],[0.3333333333333333,\"#9c179e\"],[0.4444444444444444,\"#bd3786\"],[0.5555555555555556,\"#d8576b\"],[0.6666666666666666,\"#ed7953\"],[0.7777777777777778,\"#fb9f3a\"],[0.8888888888888888,\"#fdca26\"],[1.0,\"#f0f921\"]]}],\"mesh3d\":[{\"type\":\"mesh3d\",\"colorbar\":{\"outlinewidth\":0,\"ticks\":\"\"}}],\"scatter\":[{\"fillpattern\":{\"fillmode\":\"overlay\",\"size\":10,\"solidity\":0.2},\"type\":\"scatter\"}],\"parcoords\":[{\"type\":\"parcoords\",\"line\":{\"colorbar\":{\"outlinewidth\":0,\"ticks\":\"\"}}}],\"scatterpolargl\":[{\"type\":\"scatterpolargl\",\"marker\":{\"colorbar\":{\"outlinewidth\":0,\"ticks\":\"\"}}}],\"bar\":[{\"error_x\":{\"color\":\"#2a3f5f\"},\"error_y\":{\"color\":\"#2a3f5f\"},\"marker\":{\"line\":{\"color\":\"#E5ECF6\",\"width\":0.5},\"pattern\":{\"fillmode\":\"overlay\",\"size\":10,\"solidity\":0.2}},\"type\":\"bar\"}],\"scattergeo\":[{\"type\":\"scattergeo\",\"marker\":{\"colorbar\":{\"outlinewidth\":0,\"ticks\":\"\"}}}],\"scatterpolar\":[{\"type\":\"scatterpolar\",\"marker\":{\"colorbar\":{\"outlinewidth\":0,\"ticks\":\"\"}}}],\"histogram\":[{\"marker\":{\"pattern\":{\"fillmode\":\"overlay\",\"size\":10,\"solidity\":0.2}},\"type\":\"histogram\"}],\"scattergl\":[{\"type\":\"scattergl\",\"marker\":{\"colorbar\":{\"outlinewidth\":0,\"ticks\":\"\"}}}],\"scatter3d\":[{\"type\":\"scatter3d\",\"line\":{\"colorbar\":{\"outlinewidth\":0,\"ticks\":\"\"}},\"marker\":{\"colorbar\":{\"outlinewidth\":0,\"ticks\":\"\"}}}],\"scattermapbox\":[{\"type\":\"scattermapbox\",\"marker\":{\"colorbar\":{\"outlinewidth\":0,\"ticks\":\"\"}}}],\"scatterternary\":[{\"type\":\"scatterternary\",\"marker\":{\"colorbar\":{\"outlinewidth\":0,\"ticks\":\"\"}}}],\"scattercarpet\":[{\"type\":\"scattercarpet\",\"marker\":{\"colorbar\":{\"outlinewidth\":0,\"ticks\":\"\"}}}],\"carpet\":[{\"aaxis\":{\"endlinecolor\":\"#2a3f5f\",\"gridcolor\":\"white\",\"linecolor\":\"white\",\"minorgridcolor\":\"white\",\"startlinecolor\":\"#2a3f5f\"},\"baxis\":{\"endlinecolor\":\"#2a3f5f\",\"gridcolor\":\"white\",\"linecolor\":\"white\",\"minorgridcolor\":\"white\",\"startlinecolor\":\"#2a3f5f\"},\"type\":\"carpet\"}],\"table\":[{\"cells\":{\"fill\":{\"color\":\"#EBF0F8\"},\"line\":{\"color\":\"white\"}},\"header\":{\"fill\":{\"color\":\"#C8D4E3\"},\"line\":{\"color\":\"white\"}},\"type\":\"table\"}],\"barpolar\":[{\"marker\":{\"line\":{\"color\":\"#E5ECF6\",\"width\":0.5},\"pattern\":{\"fillmode\":\"overlay\",\"size\":10,\"solidity\":0.2}},\"type\":\"barpolar\"}],\"pie\":[{\"automargin\":true,\"type\":\"pie\"}]},\"layout\":{\"autotypenumbers\":\"strict\",\"colorway\":[\"#636efa\",\"#EF553B\",\"#00cc96\",\"#ab63fa\",\"#FFA15A\",\"#19d3f3\",\"#FF6692\",\"#B6E880\",\"#FF97FF\",\"#FECB52\"],\"font\":{\"color\":\"#2a3f5f\"},\"hovermode\":\"closest\",\"hoverlabel\":{\"align\":\"left\"},\"paper_bgcolor\":\"white\",\"plot_bgcolor\":\"#E5ECF6\",\"polar\":{\"bgcolor\":\"#E5ECF6\",\"angularaxis\":{\"gridcolor\":\"white\",\"linecolor\":\"white\",\"ticks\":\"\"},\"radialaxis\":{\"gridcolor\":\"white\",\"linecolor\":\"white\",\"ticks\":\"\"}},\"ternary\":{\"bgcolor\":\"#E5ECF6\",\"aaxis\":{\"gridcolor\":\"white\",\"linecolor\":\"white\",\"ticks\":\"\"},\"baxis\":{\"gridcolor\":\"white\",\"linecolor\":\"white\",\"ticks\":\"\"},\"caxis\":{\"gridcolor\":\"white\",\"linecolor\":\"white\",\"ticks\":\"\"}},\"coloraxis\":{\"colorbar\":{\"outlinewidth\":0,\"ticks\":\"\"}},\"colorscale\":{\"sequential\":[[0.0,\"#0d0887\"],[0.1111111111111111,\"#46039f\"],[0.2222222222222222,\"#7201a8\"],[0.3333333333333333,\"#9c179e\"],[0.4444444444444444,\"#bd3786\"],[0.5555555555555556,\"#d8576b\"],[0.6666666666666666,\"#ed7953\"],[0.7777777777777778,\"#fb9f3a\"],[0.8888888888888888,\"#fdca26\"],[1.0,\"#f0f921\"]],\"sequentialminus\":[[0.0,\"#0d0887\"],[0.1111111111111111,\"#46039f\"],[0.2222222222222222,\"#7201a8\"],[0.3333333333333333,\"#9c179e\"],[0.4444444444444444,\"#bd3786\"],[0.5555555555555556,\"#d8576b\"],[0.6666666666666666,\"#ed7953\"],[0.7777777777777778,\"#fb9f3a\"],[0.8888888888888888,\"#fdca26\"],[1.0,\"#f0f921\"]],\"diverging\":[[0,\"#8e0152\"],[0.1,\"#c51b7d\"],[0.2,\"#de77ae\"],[0.3,\"#f1b6da\"],[0.4,\"#fde0ef\"],[0.5,\"#f7f7f7\"],[0.6,\"#e6f5d0\"],[0.7,\"#b8e186\"],[0.8,\"#7fbc41\"],[0.9,\"#4d9221\"],[1,\"#276419\"]]},\"xaxis\":{\"gridcolor\":\"white\",\"linecolor\":\"white\",\"ticks\":\"\",\"title\":{\"standoff\":15},\"zerolinecolor\":\"white\",\"automargin\":true,\"zerolinewidth\":2},\"yaxis\":{\"gridcolor\":\"white\",\"linecolor\":\"white\",\"ticks\":\"\",\"title\":{\"standoff\":15},\"zerolinecolor\":\"white\",\"automargin\":true,\"zerolinewidth\":2},\"scene\":{\"xaxis\":{\"backgroundcolor\":\"#E5ECF6\",\"gridcolor\":\"white\",\"linecolor\":\"white\",\"showbackground\":true,\"ticks\":\"\",\"zerolinecolor\":\"white\",\"gridwidth\":2},\"yaxis\":{\"backgroundcolor\":\"#E5ECF6\",\"gridcolor\":\"white\",\"linecolor\":\"white\",\"showbackground\":true,\"ticks\":\"\",\"zerolinecolor\":\"white\",\"gridwidth\":2},\"zaxis\":{\"backgroundcolor\":\"#E5ECF6\",\"gridcolor\":\"white\",\"linecolor\":\"white\",\"showbackground\":true,\"ticks\":\"\",\"zerolinecolor\":\"white\",\"gridwidth\":2}},\"shapedefaults\":{\"line\":{\"color\":\"#2a3f5f\"}},\"annotationdefaults\":{\"arrowcolor\":\"#2a3f5f\",\"arrowhead\":0,\"arrowwidth\":1},\"geo\":{\"bgcolor\":\"white\",\"landcolor\":\"#E5ECF6\",\"subunitcolor\":\"white\",\"showland\":true,\"showlakes\":true,\"lakecolor\":\"white\"},\"title\":{\"x\":0.05},\"mapbox\":{\"style\":\"light\"}}},\"xaxis\":{\"anchor\":\"y\",\"domain\":[0.0,1.0],\"title\":{\"text\":\"value\"}},\"yaxis\":{\"anchor\":\"x\",\"domain\":[0.0,1.0],\"title\":{\"text\":\"count\"}},\"legend\":{\"title\":{\"text\":\"variable\"},\"tracegroupgap\":0},\"margin\":{\"t\":60},\"barmode\":\"relative\"},                        {\"responsive\": true}                    ).then(function(){\n",
       "                            \n",
       "var gd = document.getElementById('12fb3d67-53c3-4a16-88d0-9bfc2fc4fe36');\n",
       "var x = new MutationObserver(function (mutations, observer) {{\n",
       "        var display = window.getComputedStyle(gd).display;\n",
       "        if (!display || display === 'none') {{\n",
       "            console.log([gd, 'removed!']);\n",
       "            Plotly.purge(gd);\n",
       "            observer.disconnect();\n",
       "        }}\n",
       "}});\n",
       "\n",
       "// Listen for the removal of the full notebook cells\n",
       "var notebookContainer = gd.closest('#notebook-container');\n",
       "if (notebookContainer) {{\n",
       "    x.observe(notebookContainer, {childList: true});\n",
       "}}\n",
       "\n",
       "// Listen for the clearing of the current output cell\n",
       "var outputEl = gd.closest('.output');\n",
       "if (outputEl) {{\n",
       "    x.observe(outputEl, {childList: true});\n",
       "}}\n",
       "\n",
       "                        })                };                });            </script>        </div>"
      ]
     },
     "metadata": {},
     "output_type": "display_data"
    }
   ],
   "source": [
    "px.histogram(n_successfully_docked_superclean / 2)"
   ]
  },
  {
   "cell_type": "code",
   "execution_count": 177,
   "id": "d4c31b1e-3166-44cb-9cae-6caa7a86e3da",
   "metadata": {
    "tags": []
   },
   "outputs": [],
   "source": [
    "#clean = clean[clean.Complex_ID.isin(complexes)]"
   ]
  },
  {
   "cell_type": "code",
   "execution_count": 178,
   "id": "ee94b857-0869-453f-a65f-e4b67c86efe2",
   "metadata": {
    "tags": []
   },
   "outputs": [],
   "source": [
    "#clean.groupby(\"Version\").nunique()[[\"Complex_ID\", \"Compound_ID\", \"Structure_Source\"]]"
   ]
  },
  {
   "cell_type": "code",
   "execution_count": 179,
   "id": "9a0cfac7-43a0-411a-8be6-09081dcde038",
   "metadata": {
    "tags": []
   },
   "outputs": [],
   "source": [
    "clean_all = clean[clean.Version == \"All\"]"
   ]
  },
  {
   "cell_type": "code",
   "execution_count": 180,
   "id": "c0d27507-b35c-4bf2-8b06-5f4fb8494ade",
   "metadata": {
    "tags": []
   },
   "outputs": [
    {
     "data": {
      "text/html": [
       "<div>\n",
       "<style scoped>\n",
       "    .dataframe tbody tr th:only-of-type {\n",
       "        vertical-align: middle;\n",
       "    }\n",
       "\n",
       "    .dataframe tbody tr th {\n",
       "        vertical-align: top;\n",
       "    }\n",
       "\n",
       "    .dataframe thead th {\n",
       "        text-align: right;\n",
       "    }\n",
       "</style>\n",
       "<table border=\"1\" class=\"dataframe\">\n",
       "  <thead>\n",
       "    <tr style=\"text-align: right;\">\n",
       "      <th></th>\n",
       "      <th>Complex_ID</th>\n",
       "      <th>Compound_ID</th>\n",
       "      <th>Structure_Source</th>\n",
       "    </tr>\n",
       "    <tr>\n",
       "      <th>Version</th>\n",
       "      <th></th>\n",
       "      <th></th>\n",
       "      <th></th>\n",
       "    </tr>\n",
       "  </thead>\n",
       "  <tbody>\n",
       "    <tr>\n",
       "      <th>All</th>\n",
       "      <td>43884</td>\n",
       "      <td>207</td>\n",
       "      <td>213</td>\n",
       "    </tr>\n",
       "  </tbody>\n",
       "</table>\n",
       "</div>"
      ],
      "text/plain": [
       "         Complex_ID  Compound_ID  Structure_Source\n",
       "Version                                           \n",
       "All           43884          207               213"
      ]
     },
     "execution_count": 180,
     "metadata": {},
     "output_type": "execute_result"
    }
   ],
   "source": [
    "clean_all.groupby(\"Version\").nunique()[[\"Complex_ID\", \"Compound_ID\", \"Structure_Source\"]]"
   ]
  },
  {
   "cell_type": "markdown",
   "id": "b46f39d2-47da-412b-a36c-16636f679966",
   "metadata": {},
   "source": [
    "## Variables"
   ]
  },
  {
   "cell_type": "code",
   "execution_count": 181,
   "id": "20b3a7a9-735c-494c-8e1d-8a495a4414d9",
   "metadata": {
    "tags": []
   },
   "outputs": [],
   "source": [
    "tc = \"TanimotoCombo\"\n",
    "tc_title = \"TanimotoCombo Cutoff for Inclusion of Reference Structures\"\n",
    "tcr = \"TanimotoCombo_R\"\n",
    "y=\"Fraction\"\n",
    "posit_r = \"POSIT_R\"\n",
    "posit_method=\"POSIT_Method\"\n",
    "color=\"Version\"\n",
    "id_col=\"Compound_ID\"\n",
    "rmsd=\"RMSD\"\n",
    "method_split=[posit_method]\n",
    "n=1\n",
    "good=2\n",
    "tc_cutoffs = np.linspace(0,2,50)\n",
    "tcr_cutoffs = np.linspace(2,0,50)\n",
    "sort_cols = [rmsd, posit_r, \"Chemgauss4\", tcr]\n",
    "dates = df.Structure_Date.unique()\n",
    "date_col = \"Structure_Date\"\n",
    "date_title = \"Date for Inclusion of Reference Structures\"\n",
    "reference_col = \"Structure_Source\"\n",
    "split_cols=[\"Version\"]\n",
    "sort_col_name=\"Sorted_By\"\n",
    "full_split_cols=[\"Version\", posit_method]\n",
    "split_column_sets={\"General\":split_cols, \"Detailed\":full_split_cols}\n",
    "general_split_cols = {\"General\":split_cols}\n",
    "detailed_split_cols = {\"Detailed\":full_split_cols}\n",
    "frac_title=f\"Fraction of Poses < {good}Å from Reference\""
   ]
  },
  {
   "cell_type": "markdown",
   "id": "7fd23315-08d4-4f20-bee7-8356a142a0c0",
   "metadata": {},
   "source": [
    "## Calculation Functions"
   ]
  },
  {
   "cell_type": "code",
   "execution_count": null,
   "id": "baafb716-f764-4fc6-aafc-8ea122cb3828",
   "metadata": {},
   "outputs": [],
   "source": []
  },
  {
   "cell_type": "code",
   "execution_count": null,
   "id": "5aed7b15-0ae8-4a33-9a92-cf35bf8951a8",
   "metadata": {},
   "outputs": [],
   "source": []
  },
  {
   "cell_type": "code",
   "execution_count": null,
   "id": "79a2514a-6c5b-43e6-930a-c7ff0088af50",
   "metadata": {},
   "outputs": [],
   "source": []
  },
  {
   "cell_type": "markdown",
   "id": "cfdfdc4e-3878-4950-8691-1cf74ec7834e",
   "metadata": {
    "tags": []
   },
   "source": [
    "## Plotting Functions"
   ]
  },
  {
   "cell_type": "markdown",
   "id": "35c3ee80-ca50-4970-a197-80b364a4b278",
   "metadata": {},
   "source": [
    "### plot kwargs"
   ]
  },
  {
   "cell_type": "code",
   "execution_count": 182,
   "id": "f23d6a0f-c4e4-4a5f-880a-3819e65d8911",
   "metadata": {
    "tags": []
   },
   "outputs": [
    {
     "data": {
      "text/plain": [
       "array(['Hybrid-Only', 'All', nan], dtype=object)"
      ]
     },
     "execution_count": 182,
     "metadata": {},
     "output_type": "execute_result"
    }
   ],
   "source": [
    "df.Version.unique()"
   ]
  },
  {
   "cell_type": "code",
   "execution_count": 183,
   "id": "35f868a6-4163-4999-abe0-d8fd426efee1",
   "metadata": {
    "tags": []
   },
   "outputs": [
    {
     "data": {
      "text/plain": [
       "array(['HYBRID', 'SHAPEFIT', 'FRED', nan], dtype=object)"
      ]
     },
     "execution_count": 183,
     "metadata": {},
     "output_type": "execute_result"
    }
   ],
   "source": [
    "df.POSIT_Method.unique()"
   ]
  },
  {
   "cell_type": "code",
   "execution_count": 184,
   "id": "dc386378-78c5-4736-a5bf-9ee51bfe03d2",
   "metadata": {
    "tags": []
   },
   "outputs": [],
   "source": [
    "# this doesn't actually work\n",
    "full_versions = [(\"All\", method) for method in df.POSIT_Method.unique()] + [(\"Hybrid-Only\", \"HYBRID\")]\n",
    "full_version_labels = [f\"{version}: {method}\" for version, method in full_versions]\n",
    "full_version_label_dict = {og: label for og, label in zip(full_versions, full_version_labels)}"
   ]
  },
  {
   "cell_type": "code",
   "execution_count": 185,
   "id": "ffcc2535-71c9-43aa-a9f1-b0bac289ac43",
   "metadata": {
    "tags": []
   },
   "outputs": [],
   "source": [
    "basic_plot_kwargs = dict(color=color, \n",
    "                         )"
   ]
  },
  {
   "cell_type": "code",
   "execution_count": 186,
   "id": "3cfbf2f1-3a36-4fd3-af27-e94c8edbfa27",
   "metadata": {
    "tags": []
   },
   "outputs": [],
   "source": [
    "big_plot_kwargs = dict(facet_col=sort_col_name,\n",
    "                         facet_row=\"Split\", \n",
    "                         height=600, \n",
    "                         width=1200, )"
   ]
  },
  {
   "cell_type": "code",
   "execution_count": 187,
   "id": "ea3af16a-a7bc-465e-b871-0d9196cf43ca",
   "metadata": {
    "tags": []
   },
   "outputs": [],
   "source": [
    "single_plot_kwargs = dict(height=400, width=600)"
   ]
  },
  {
   "cell_type": "code",
   "execution_count": 188,
   "id": "012b99bc-815a-4f19-ad2d-66fd3af89b6d",
   "metadata": {
    "tags": []
   },
   "outputs": [],
   "source": [
    "tc_plot_kwargs = dict(x=tc,  \n",
    "                      labels={tc: tc_title},\n",
    "                     range_x=[-0.1,2.1],)"
   ]
  },
  {
   "cell_type": "code",
   "execution_count": 189,
   "id": "a190f2cc-6262-4680-bb73-08b8d17d3394",
   "metadata": {
    "tags": []
   },
   "outputs": [],
   "source": [
    "date_plot_kwargs = dict(x=date_col,\n",
    "                        labels={date_col:date_title},\n",
    "                       )"
   ]
  },
  {
   "cell_type": "code",
   "execution_count": 190,
   "id": "e30bd49a-75c6-4d6e-9485-ef2e12dae614",
   "metadata": {
    "tags": []
   },
   "outputs": [],
   "source": [
    "fraction_plot_kwargs = dict(range_y=[-0.1,1.1])"
   ]
  },
  {
   "cell_type": "code",
   "execution_count": 191,
   "id": "19aab13b-40fd-4571-94f1-6e81952aa28a",
   "metadata": {
    "tags": []
   },
   "outputs": [],
   "source": [
    "stats_kwargs = dict(y=\"Value\", error_y=\"STD\")"
   ]
  },
  {
   "cell_type": "code",
   "execution_count": 192,
   "id": "bc90ce7f-6bd5-43b5-aa2a-2c7eee42a6d3",
   "metadata": {
    "tags": []
   },
   "outputs": [],
   "source": [
    "def combine_labels_kwargs(list_of_kwargs):\n",
    "    new_dict = {}\n",
    "    for kwargs in list_of_kwargs:\n",
    "        for k,v in kwargs.items():\n",
    "            if k in new_dict.keys():\n",
    "                if isinstance(v, dict):\n",
    "                    for ik, iv in v.items():\n",
    "                        new_dict[k][ik] = iv\n",
    "                else:\n",
    "                    raise NotImplementedError(f\"combining these kwargs will not work due to repeated use of {k}\")\n",
    "            else:\n",
    "                new_dict[k] = v\n",
    "    return new_dict\n",
    "    "
   ]
  },
  {
   "cell_type": "code",
   "execution_count": 193,
   "id": "cc1ef7b8-2fb7-44a0-9d66-c225f74ce975",
   "metadata": {
    "tags": []
   },
   "outputs": [
    {
     "data": {
      "text/plain": [
       "{'facet_col': 'Sorted_By',\n",
       " 'facet_row': 'Split',\n",
       " 'height': 600,\n",
       " 'width': 1200,\n",
       " 'x': 'TanimotoCombo',\n",
       " 'labels': {'TanimotoCombo': 'TanimotoCombo Cutoff for Inclusion of Reference Structures'},\n",
       " 'range_x': [-0.1, 2.1]}"
      ]
     },
     "execution_count": 193,
     "metadata": {},
     "output_type": "execute_result"
    }
   ],
   "source": [
    "combine_labels_kwargs([big_plot_kwargs, tc_plot_kwargs])"
   ]
  },
  {
   "cell_type": "code",
   "execution_count": 194,
   "id": "2ec6599f-99d1-4c3b-a496-538b3c2a8a92",
   "metadata": {
    "tags": []
   },
   "outputs": [],
   "source": [
    "general_posit_kwargs = {sort_col_name: posit_r, \"Split\":\"General\"}"
   ]
  },
  {
   "cell_type": "markdown",
   "id": "34ba84b3-63e7-45c3-843f-6473471cfc82",
   "metadata": {},
   "source": [
    "### cleanup functions"
   ]
  },
  {
   "cell_type": "code",
   "execution_count": 195,
   "id": "8f9a16ef-2c50-49b9-ab5e-1432bf97613b",
   "metadata": {
    "tags": []
   },
   "outputs": [],
   "source": [
    "def replace_xaxis_labels(fig: Figure, axis_title):\n",
    "    fig.for_each_xaxis(lambda x: x.update(title = ''))\n",
    "    fig.add_annotation(x=0.5,y=-0.15,\n",
    "                   text=axis_title, textangle=0,\n",
    "                       font=dict(size=16),\n",
    "                    xref=\"paper\", yref=\"paper\",\n",
    "            showarrow=False,)\n",
    "    return fig"
   ]
  },
  {
   "cell_type": "code",
   "execution_count": 196,
   "id": "d3caa91b-6bf7-4650-82cf-cb0d46becc60",
   "metadata": {
    "tags": []
   },
   "outputs": [],
   "source": [
    "def replace_yaxis_labels(fig: Figure, axis_title):\n",
    "    fig.for_each_yaxis(lambda y: y.update(title = ''))\n",
    "    fig.add_annotation(x=-0.05,y=0.5,\n",
    "                   text=axis_title, textangle=-90,\n",
    "                       font=dict(size=16),\n",
    "                    xref=\"paper\", yref=\"paper\",\n",
    "            showarrow=False,)\n",
    "    return fig"
   ]
  },
  {
   "cell_type": "code",
   "execution_count": 197,
   "id": "62361e7f-2eb5-470b-94b4-2d5f7af0e9ec",
   "metadata": {
    "tags": []
   },
   "outputs": [],
   "source": [
    "def clean_labels(fig):\n",
    "    fig.for_each_annotation(lambda a: a.update(text=a.text.split(\"=\")[-1]))\n",
    "    return fig"
   ]
  },
  {
   "cell_type": "markdown",
   "id": "8f025501-4324-4b2c-a353-9de60cbc7d2c",
   "metadata": {},
   "source": [
    "### scatterplot wrapper"
   ]
  },
  {
   "cell_type": "code",
   "execution_count": 198,
   "id": "a40e6b82-e860-48a9-aa63-3ec44c25d174",
   "metadata": {
    "tags": []
   },
   "outputs": [],
   "source": [
    "def scatter_wrapper(df, kwarg_dict, \n",
    "                    x_axis_title=None, \n",
    "                    y_axis_title=None, \n",
    "                    replace_xaxis=False,\n",
    "                    replace_y_axis=False,\n",
    "                    clean=True,\n",
    "                    x_axis_reversed=False\n",
    "                   ):\n",
    "    fig:Figure = px.scatter(df, **kwarg_dict, hover_data=df.columns)\n",
    "    if x_axis_title:\n",
    "        if replace_xaxis:\n",
    "            fig = replace_xaxis_labels(fig, x_axis_title)\n",
    "        else:\n",
    "            fig.update_xaxes(title=x_axis_title)\n",
    "    \n",
    "    if y_axis_title:\n",
    "        if replace_y_axis:\n",
    "            fig = replace_yaxis_labels(fig, y_axis_title)\n",
    "        else:\n",
    "            fig.update_yaxes(title=y_axis_title)\n",
    "    \n",
    "    if clean:\n",
    "        fig = clean_labels(fig)\n",
    "    if x_axis_reversed:\n",
    "        fig.update_xaxes(autorange=\"reversed\")\n",
    "    return fig"
   ]
  },
  {
   "cell_type": "markdown",
   "id": "5ec319f9-e988-42d7-9cb6-d0b19f972eee",
   "metadata": {},
   "source": [
    "### splify df"
   ]
  },
  {
   "cell_type": "code",
   "execution_count": 199,
   "id": "a4538940-df6d-4c80-9f95-3b570a604ba7",
   "metadata": {
    "tags": []
   },
   "outputs": [],
   "source": [
    "def simplify_df(df, condition_dict):\n",
    "    new_df = df.copy()\n",
    "    for column, value in condition_dict.items():\n",
    "        new_df = new_df[new_df[column] == value]\n",
    "    return new_df"
   ]
  },
  {
   "cell_type": "markdown",
   "id": "ec851812-6a3f-4419-b0d7-7767026fcc5b",
   "metadata": {},
   "source": [
    "# Add new analysis"
   ]
  },
  {
   "cell_type": "code",
   "execution_count": null,
   "id": "d3acf12c-ec77-4133-b8a8-d50d303ddb12",
   "metadata": {},
   "outputs": [],
   "source": []
  },
  {
   "cell_type": "code",
   "execution_count": 218,
   "id": "89405c78-6b28-4a12-a9d4-a7d6a7eb4d13",
   "metadata": {
    "tags": []
   },
   "outputs": [],
   "source": [
    "reload(a)\n",
    "random_stats = a.calculate_rmsd_stats(clean, query_mol_id=\"Compound_ID\", reference_selection=\"random\", ref_structure_stride=10, score_column=\"POSIT_R\", group_by=[\"Version\"], n_bootstraps=100)"
   ]
  },
  {
   "cell_type": "code",
   "execution_count": 219,
   "id": "fc33e5c3-3fad-418f-992d-9c55d3940065",
   "metadata": {
    "tags": []
   },
   "outputs": [],
   "source": [
    "sasa_stats = a.calculate_rmsd_stats(clean, query_mol_id=\"Compound_ID\", reference_selection=\"SASA (nm^2)\", ref_structure_stride=10, score_column=\"POSIT_R\", group_by=[\"Version\"], n_bootstraps=100)"
   ]
  },
  {
   "cell_type": "code",
   "execution_count": 220,
   "id": "b1a41a2f-47f6-4c9d-9c5c-c0befb8aaf58",
   "metadata": {
    "tags": []
   },
   "outputs": [],
   "source": [
    "clean[\"SASA_R\"] = 0 - clean[\"SASA (nm^2)\"]"
   ]
  },
  {
   "cell_type": "code",
   "execution_count": 221,
   "id": "bfa4699b-a17f-4e09-95cb-2a9e045289da",
   "metadata": {
    "tags": []
   },
   "outputs": [],
   "source": [
    "sasa_r_stats = a.calculate_rmsd_stats(clean, query_mol_id=\"Compound_ID\", reference_selection=\"SASA_R\", ref_structure_stride=10, score_column=\"POSIT_R\", group_by=[\"Version\"], n_bootstraps=100)"
   ]
  },
  {
   "cell_type": "code",
   "execution_count": 222,
   "id": "a34e0759-a89b-4561-8db7-2a120feac822",
   "metadata": {
    "tags": []
   },
   "outputs": [],
   "source": [
    "all_stats = pd.concat([random_stats, sasa_stats, sasa_r_stats])"
   ]
  },
  {
   "cell_type": "code",
   "execution_count": 223,
   "id": "83e83fce-9d4c-4999-9aa2-0d626e079448",
   "metadata": {
    "tags": []
   },
   "outputs": [
    {
     "name": "stderr",
     "output_type": "stream",
     "text": [
      "/var/folders/cf/d42qwdmd5_g5s63r3g_vgx2c0000gn/T/ipykernel_28191/919425509.py:1: FutureWarning:\n",
      "\n",
      "The default value of numeric_only in DataFrameGroupBy.mean is deprecated. In a future version, numeric_only will default to False. Either specify numeric_only or select only columns which should be valid for the function.\n",
      "\n",
      "/var/folders/cf/d42qwdmd5_g5s63r3g_vgx2c0000gn/T/ipykernel_28191/919425509.py:2: FutureWarning:\n",
      "\n",
      "The default value of numeric_only in DataFrameGroupBy.quantile is deprecated. In a future version, numeric_only will default to False. Either specify numeric_only or select only columns which should be valid for the function.\n",
      "\n",
      "/var/folders/cf/d42qwdmd5_g5s63r3g_vgx2c0000gn/T/ipykernel_28191/919425509.py:3: FutureWarning:\n",
      "\n",
      "The default value of numeric_only in DataFrameGroupBy.quantile is deprecated. In a future version, numeric_only will default to False. Either specify numeric_only or select only columns which should be valid for the function.\n",
      "\n"
     ]
    }
   ],
   "source": [
    "aggregated = all_stats.groupby([\"Version\", \"Number of References\", \"Structure_Split\", \"Split_Value_min\", \"Split_Value_max\"]).mean().reset_index()\n",
    "aggregated[\"Max\"] = all_stats.groupby([\"Version\", \"Number of References\", \"Structure_Split\"]).quantile(0.975).reset_index()[\"Fraction\"] - aggregated[\"Fraction\"]\n",
    "aggregated[\"Min\"] = aggregated[\"Fraction\"] - all_stats.groupby([\"Version\", \"Number of References\", \"Structure_Split\"]).quantile(0.025).reset_index()[\"Fraction\"]"
   ]
  },
  {
   "cell_type": "code",
   "execution_count": 224,
   "id": "643081ee-a8d5-42a8-a2fc-4308d96e5bb1",
   "metadata": {
    "tags": []
   },
   "outputs": [
    {
     "data": {
      "text/html": [
       "<div>\n",
       "<style scoped>\n",
       "    .dataframe tbody tr th:only-of-type {\n",
       "        vertical-align: middle;\n",
       "    }\n",
       "\n",
       "    .dataframe tbody tr th {\n",
       "        vertical-align: top;\n",
       "    }\n",
       "\n",
       "    .dataframe thead th {\n",
       "        text-align: right;\n",
       "    }\n",
       "</style>\n",
       "<table border=\"1\" class=\"dataframe\">\n",
       "  <thead>\n",
       "    <tr style=\"text-align: right;\">\n",
       "      <th></th>\n",
       "      <th>Version</th>\n",
       "      <th>Number of References</th>\n",
       "      <th>Structure_Split</th>\n",
       "      <th>Split_Value_min</th>\n",
       "      <th>Split_Value_max</th>\n",
       "      <th>Fraction</th>\n",
       "      <th>Max</th>\n",
       "      <th>Min</th>\n",
       "    </tr>\n",
       "  </thead>\n",
       "  <tbody>\n",
       "    <tr>\n",
       "      <th>0</th>\n",
       "      <td>All</td>\n",
       "      <td>1</td>\n",
       "      <td>SASA (nm^2)</td>\n",
       "      <td>29.205152</td>\n",
       "      <td>29.248864</td>\n",
       "      <td>0.111111</td>\n",
       "      <td>0.000000</td>\n",
       "      <td>0.000000</td>\n",
       "    </tr>\n",
       "    <tr>\n",
       "      <th>1</th>\n",
       "      <td>All</td>\n",
       "      <td>1</td>\n",
       "      <td>SASA_R</td>\n",
       "      <td>-30.669591</td>\n",
       "      <td>-30.466556</td>\n",
       "      <td>0.362319</td>\n",
       "      <td>0.000000</td>\n",
       "      <td>0.000000</td>\n",
       "    </tr>\n",
       "    <tr>\n",
       "      <th>2</th>\n",
       "      <td>All</td>\n",
       "      <td>1</td>\n",
       "      <td>random</td>\n",
       "      <td>Random</td>\n",
       "      <td>Random</td>\n",
       "      <td>0.435556</td>\n",
       "      <td>0.054903</td>\n",
       "      <td>0.063816</td>\n",
       "    </tr>\n",
       "    <tr>\n",
       "      <th>3</th>\n",
       "      <td>All</td>\n",
       "      <td>11</td>\n",
       "      <td>SASA (nm^2)</td>\n",
       "      <td>29.205152</td>\n",
       "      <td>29.403708</td>\n",
       "      <td>0.709710</td>\n",
       "      <td>0.019758</td>\n",
       "      <td>0.023720</td>\n",
       "    </tr>\n",
       "    <tr>\n",
       "      <th>4</th>\n",
       "      <td>All</td>\n",
       "      <td>11</td>\n",
       "      <td>SASA_R</td>\n",
       "      <td>-30.669591</td>\n",
       "      <td>-30.07588</td>\n",
       "      <td>0.667923</td>\n",
       "      <td>0.022899</td>\n",
       "      <td>0.018285</td>\n",
       "    </tr>\n",
       "    <tr>\n",
       "      <th>...</th>\n",
       "      <td>...</td>\n",
       "      <td>...</td>\n",
       "      <td>...</td>\n",
       "      <td>...</td>\n",
       "      <td>...</td>\n",
       "      <td>...</td>\n",
       "      <td>...</td>\n",
       "      <td>...</td>\n",
       "    </tr>\n",
       "    <tr>\n",
       "      <th>127</th>\n",
       "      <td>Hybrid-Only</td>\n",
       "      <td>201</td>\n",
       "      <td>SASA_R</td>\n",
       "      <td>-30.669591</td>\n",
       "      <td>-29.205152</td>\n",
       "      <td>0.913623</td>\n",
       "      <td>0.009082</td>\n",
       "      <td>0.010242</td>\n",
       "    </tr>\n",
       "    <tr>\n",
       "      <th>128</th>\n",
       "      <td>Hybrid-Only</td>\n",
       "      <td>201</td>\n",
       "      <td>random</td>\n",
       "      <td>Random</td>\n",
       "      <td>Random</td>\n",
       "      <td>0.911498</td>\n",
       "      <td>0.011208</td>\n",
       "      <td>0.012947</td>\n",
       "    </tr>\n",
       "    <tr>\n",
       "      <th>129</th>\n",
       "      <td>Hybrid-Only</td>\n",
       "      <td>211</td>\n",
       "      <td>SASA (nm^2)</td>\n",
       "      <td>29.205152</td>\n",
       "      <td>30.669591</td>\n",
       "      <td>0.913188</td>\n",
       "      <td>0.009517</td>\n",
       "      <td>0.009807</td>\n",
       "    </tr>\n",
       "    <tr>\n",
       "      <th>130</th>\n",
       "      <td>Hybrid-Only</td>\n",
       "      <td>211</td>\n",
       "      <td>SASA_R</td>\n",
       "      <td>-30.669591</td>\n",
       "      <td>-29.205152</td>\n",
       "      <td>0.914251</td>\n",
       "      <td>0.008454</td>\n",
       "      <td>0.006039</td>\n",
       "    </tr>\n",
       "    <tr>\n",
       "      <th>131</th>\n",
       "      <td>Hybrid-Only</td>\n",
       "      <td>211</td>\n",
       "      <td>random</td>\n",
       "      <td>Random</td>\n",
       "      <td>Random</td>\n",
       "      <td>0.911353</td>\n",
       "      <td>0.011353</td>\n",
       "      <td>0.012802</td>\n",
       "    </tr>\n",
       "  </tbody>\n",
       "</table>\n",
       "<p>132 rows × 8 columns</p>\n",
       "</div>"
      ],
      "text/plain": [
       "         Version  Number of References Structure_Split Split_Value_min  \\\n",
       "0            All                     1     SASA (nm^2)       29.205152   \n",
       "1            All                     1          SASA_R      -30.669591   \n",
       "2            All                     1          random          Random   \n",
       "3            All                    11     SASA (nm^2)       29.205152   \n",
       "4            All                    11          SASA_R      -30.669591   \n",
       "..           ...                   ...             ...             ...   \n",
       "127  Hybrid-Only                   201          SASA_R      -30.669591   \n",
       "128  Hybrid-Only                   201          random          Random   \n",
       "129  Hybrid-Only                   211     SASA (nm^2)       29.205152   \n",
       "130  Hybrid-Only                   211          SASA_R      -30.669591   \n",
       "131  Hybrid-Only                   211          random          Random   \n",
       "\n",
       "    Split_Value_max  Fraction       Max       Min  \n",
       "0         29.248864  0.111111  0.000000  0.000000  \n",
       "1        -30.466556  0.362319  0.000000  0.000000  \n",
       "2            Random  0.435556  0.054903  0.063816  \n",
       "3         29.403708  0.709710  0.019758  0.023720  \n",
       "4         -30.07588  0.667923  0.022899  0.018285  \n",
       "..              ...       ...       ...       ...  \n",
       "127      -29.205152  0.913623  0.009082  0.010242  \n",
       "128          Random  0.911498  0.011208  0.012947  \n",
       "129       30.669591  0.913188  0.009517  0.009807  \n",
       "130      -29.205152  0.914251  0.008454  0.006039  \n",
       "131          Random  0.911353  0.011353  0.012802  \n",
       "\n",
       "[132 rows x 8 columns]"
      ]
     },
     "execution_count": 224,
     "metadata": {},
     "output_type": "execute_result"
    }
   ],
   "source": [
    "aggregated"
   ]
  },
  {
   "cell_type": "code",
   "execution_count": 226,
   "id": "f0b499f7-995c-41e7-a187-75e95ad6e653",
   "metadata": {
    "tags": []
   },
   "outputs": [
    {
     "data": {
      "application/vnd.plotly.v1+json": {
       "config": {
        "plotlyServerURL": "https://plot.ly"
       },
       "data": [
        {
         "customdata": [
          [
           "All",
           "SASA (nm^2)",
           29.20515206,
           29.24886382,
           0,
           0
          ],
          [
           "All",
           "SASA (nm^2)",
           29.20515206,
           29.40370785,
           0.019758454106280188,
           0.023719806763285
          ],
          [
           "All",
           "SASA (nm^2)",
           29.20515206,
           29.46273239,
           0.0214009661835749,
           0.029444444444444384
          ],
          [
           "All",
           "SASA (nm^2)",
           29.20515206,
           29.56601627,
           0.02038647342995159,
           0.025628019323671536
          ],
          [
           "All",
           "SASA (nm^2)",
           29.20515206,
           29.65866997,
           0.026473429951690775,
           0.03149758454106277
          ],
          [
           "All",
           "SASA (nm^2)",
           29.20515206,
           29.7626721,
           0.027077294685990294,
           0.02147342995169088
          ],
          [
           "All",
           "SASA (nm^2)",
           29.20515206,
           29.83830749,
           0.02316425120772936,
           0.022850241545893768
          ],
          [
           "All",
           "SASA (nm^2)",
           29.20515206,
           29.96981044,
           0.02850241545893728,
           0.02946859903381638
          ],
          [
           "All",
           "SASA (nm^2)",
           29.20515206,
           30.11763467,
           0.024420289855072497,
           0.026425120772946897
          ],
          [
           "All",
           "SASA (nm^2)",
           29.20515206,
           30.57139977,
           0.024710144927536204,
           0.02613526570048308
          ],
          [
           "All",
           "SASA (nm^2)",
           29.20515206,
           30.669590629999995,
           0.016521739130434754,
           0.01983091787439617
          ],
          [
           "All",
           "SASA (nm^2)",
           29.20515206,
           30.669590629999995,
           0.01917874396135255,
           0.024299516908212637
          ],
          [
           "All",
           "SASA (nm^2)",
           29.20515206,
           30.669590629999995,
           0.01758454106280205,
           0.016231884057970936
          ],
          [
           "All",
           "SASA (nm^2)",
           29.20515206,
           30.669590629999995,
           0.021328502415458916,
           0.022391304347826102
          ],
          [
           "All",
           "SASA (nm^2)",
           29.20515206,
           30.669590629999995,
           0.01746376811594208,
           0.018888888888888844
          ],
          [
           "All",
           "SASA (nm^2)",
           29.20515206,
           30.669590629999995,
           0.01734299516908222,
           0.019009661835748703
          ],
          [
           "All",
           "SASA (nm^2)",
           29.20515206,
           30.669590629999995,
           0.019275362318840417,
           0.014541062801932458
          ],
          [
           "All",
           "SASA (nm^2)",
           29.20515206,
           30.669590629999995,
           0.016908212560386437,
           0.019444444444444375
          ],
          [
           "All",
           "SASA (nm^2)",
           29.20515206,
           30.669590629999995,
           0.025821256038647267,
           0.02019323671497586
          ],
          [
           "All",
           "SASA (nm^2)",
           29.20515206,
           30.669590629999995,
           0.01958937198067634,
           0.016763285024154584
          ],
          [
           "All",
           "SASA (nm^2)",
           29.20515206,
           30.669590629999995,
           0.01666666666666672,
           0.017149758454106268
          ],
          [
           "All",
           "SASA (nm^2)",
           29.20515206,
           30.669590629999995,
           0.021497584541062764,
           0.019685990338164205
          ]
         ],
         "error_y": {
          "array": [
           0,
           0.019758454106280188,
           0.0214009661835749,
           0.02038647342995159,
           0.026473429951690775,
           0.027077294685990294,
           0.02316425120772936,
           0.02850241545893728,
           0.024420289855072497,
           0.024710144927536204,
           0.016521739130434754,
           0.01917874396135255,
           0.01758454106280205,
           0.021328502415458916,
           0.01746376811594208,
           0.01734299516908222,
           0.019275362318840417,
           0.016908212560386437,
           0.025821256038647267,
           0.01958937198067634,
           0.01666666666666672,
           0.021497584541062764
          ],
          "arrayminus": [
           0,
           0.023719806763285,
           0.029444444444444384,
           0.025628019323671536,
           0.03149758454106277,
           0.02147342995169088,
           0.022850241545893768,
           0.02946859903381638,
           0.026425120772946897,
           0.02613526570048308,
           0.01983091787439617,
           0.024299516908212637,
           0.016231884057970936,
           0.022391304347826102,
           0.018888888888888844,
           0.019009661835748703,
           0.014541062801932458,
           0.019444444444444375,
           0.02019323671497586,
           0.016763285024154584,
           0.017149758454106268,
           0.019685990338164205
          ]
         },
         "hovertemplate": "Structure_Split=%{customdata[1]}<br>Version=%{customdata[0]}<br>Number of References=%{x}<br>Fraction=%{y}<br>Split_Value_min=%{customdata[2]}<br>Split_Value_max=%{customdata[3]}<br>Max=%{customdata[4]}<br>Min=%{customdata[5]}<extra></extra>",
         "legendgroup": "SASA (nm^2)",
         "marker": {
          "color": "#2E91E5",
          "symbol": "circle"
         },
         "mode": "markers",
         "name": "SASA (nm^2)",
         "orientation": "v",
         "showlegend": true,
         "type": "scatter",
         "x": [
          1,
          11,
          21,
          31,
          41,
          51,
          61,
          71,
          81,
          91,
          101,
          111,
          121,
          131,
          141,
          151,
          161,
          171,
          181,
          191,
          201,
          211
         ],
         "xaxis": "x",
         "y": [
          0.1111111111111111,
          0.7097101449275363,
          0.7273913043478261,
          0.7235748792270532,
          0.7368115942028985,
          0.7339130434782609,
          0.7426570048309179,
          0.7589371980676328,
          0.7655555555555555,
          0.7990821256038647,
          0.7854106280193237,
          0.8020772946859904,
          0.8133333333333332,
          0.8169565217391305,
          0.811159420289855,
          0.8184057971014492,
          0.8213043478260871,
          0.8236714975845411,
          0.8221256038647343,
          0.8331884057971014,
          0.8384057971014492,
          0.8480676328502416
         ],
         "yaxis": "y"
        },
        {
         "customdata": [
          [
           "Hybrid-Only",
           "SASA (nm^2)",
           29.20515206,
           29.24886382,
           0,
           0
          ],
          [
           "Hybrid-Only",
           "SASA (nm^2)",
           29.20515206,
           29.40370785,
           0.013961352657004822,
           0.012729468599033789
          ],
          [
           "Hybrid-Only",
           "SASA (nm^2)",
           29.20515206,
           29.46273239,
           0.00995169082125602,
           0.014202898550724652
          ],
          [
           "Hybrid-Only",
           "SASA (nm^2)",
           29.20515206,
           29.56601627,
           0.018840579710144967,
           0.01497584541062802
          ],
          [
           "Hybrid-Only",
           "SASA (nm^2)",
           29.20515206,
           29.65866997,
           0.013429951690821285,
           0.018091787439613483
          ],
          [
           "Hybrid-Only",
           "SASA (nm^2)",
           29.20515206,
           29.7626721,
           0.016280193236714924,
           0.017536231884058062
          ],
          [
           "Hybrid-Only",
           "SASA (nm^2)",
           29.20515206,
           29.83830749,
           0.014299516908212628,
           0.019516908212560358
          ],
          [
           "Hybrid-Only",
           "SASA (nm^2)",
           29.20515206,
           29.96981044,
           0.007391304347826089,
           0.011932367149758427
          ],
          [
           "Hybrid-Only",
           "SASA (nm^2)",
           29.20515206,
           30.11763467,
           0.007874396135265749,
           0.011449275362318767
          ],
          [
           "Hybrid-Only",
           "SASA (nm^2)",
           29.20515206,
           30.57139977,
           0.01159420289855062,
           0.012560386473430052
          ],
          [
           "Hybrid-Only",
           "SASA (nm^2)",
           29.20515206,
           30.669590629999995,
           0.012995169082125502,
           0.015990338164251217
          ],
          [
           "Hybrid-Only",
           "SASA (nm^2)",
           29.20515206,
           30.669590629999995,
           0.012246376811594128,
           0.012149758454106263
          ],
          [
           "Hybrid-Only",
           "SASA (nm^2)",
           29.20515206,
           30.669590629999995,
           0.011014492753623206,
           0.013140096618357466
          ],
          [
           "Hybrid-Only",
           "SASA (nm^2)",
           29.20515206,
           30.669590629999995,
           0.00830917874396142,
           0.011014492753623095
          ],
          [
           "Hybrid-Only",
           "SASA (nm^2)",
           29.20515206,
           30.669590629999995,
           0.009758454106280179,
           0.014396135265700494
          ],
          [
           "Hybrid-Only",
           "SASA (nm^2)",
           29.20515206,
           30.669590629999995,
           0.00946859903381636,
           0.009855072463768155
          ],
          [
           "Hybrid-Only",
           "SASA (nm^2)",
           29.20515206,
           30.669590629999995,
           0.008985507246376812,
           0.010338164251207704
          ],
          [
           "Hybrid-Only",
           "SASA (nm^2)",
           29.20515206,
           30.669590629999995,
           0.010314009661835821,
           0.011545893719806632
          ],
          [
           "Hybrid-Only",
           "SASA (nm^2)",
           29.20515206,
           30.669590629999995,
           0.01079710144927537,
           0.013599033816425021
          ],
          [
           "Hybrid-Only",
           "SASA (nm^2)",
           29.20515206,
           30.669590629999995,
           0.008357487922705298,
           0.008671497584541
          ],
          [
           "Hybrid-Only",
           "SASA (nm^2)",
           29.20515206,
           30.669590629999995,
           0.009710144927536302,
           0.009613526570048214
          ],
          [
           "Hybrid-Only",
           "SASA (nm^2)",
           29.20515206,
           30.669590629999995,
           0.00951690821256046,
           0.009806763285024056
          ]
         ],
         "error_y": {
          "array": [
           0,
           0.013961352657004822,
           0.00995169082125602,
           0.018840579710144967,
           0.013429951690821285,
           0.016280193236714924,
           0.014299516908212628,
           0.007391304347826089,
           0.007874396135265749,
           0.01159420289855062,
           0.012995169082125502,
           0.012246376811594128,
           0.011014492753623206,
           0.00830917874396142,
           0.009758454106280179,
           0.00946859903381636,
           0.008985507246376812,
           0.010314009661835821,
           0.01079710144927537,
           0.008357487922705298,
           0.009710144927536302,
           0.00951690821256046
          ],
          "arrayminus": [
           0,
           0.012729468599033789,
           0.014202898550724652,
           0.01497584541062802,
           0.018091787439613483,
           0.017536231884058062,
           0.019516908212560358,
           0.011932367149758427,
           0.011449275362318767,
           0.012560386473430052,
           0.015990338164251217,
           0.012149758454106263,
           0.013140096618357466,
           0.011014492753623095,
           0.014396135265700494,
           0.009855072463768155,
           0.010338164251207704,
           0.011545893719806632,
           0.013599033816425021,
           0.008671497584541,
           0.009613526570048214,
           0.009806763285024056
          ]
         },
         "hovertemplate": "Structure_Split=%{customdata[1]}<br>Version=%{customdata[0]}<br>Number of References=%{x}<br>Fraction=%{y}<br>Split_Value_min=%{customdata[2]}<br>Split_Value_max=%{customdata[3]}<br>Max=%{customdata[4]}<br>Min=%{customdata[5]}<extra></extra>",
         "legendgroup": "SASA (nm^2)",
         "marker": {
          "color": "#2E91E5",
          "symbol": "circle"
         },
         "mode": "markers",
         "name": "SASA (nm^2)",
         "orientation": "v",
         "showlegend": false,
         "type": "scatter",
         "x": [
          1,
          11,
          21,
          31,
          41,
          51,
          61,
          71,
          81,
          91,
          101,
          111,
          121,
          131,
          141,
          151,
          161,
          171,
          181,
          191,
          201,
          211
         ],
         "xaxis": "x2",
         "y": [
          0.0821256038647343,
          0.7541545893719807,
          0.8161352657004831,
          0.8314009661835748,
          0.8464734299516908,
          0.8629468599033817,
          0.8600966183574879,
          0.8718357487922705,
          0.8665217391304347,
          0.8531400966183575,
          0.8517391304347827,
          0.8598550724637681,
          0.8633816425120773,
          0.8709178743961352,
          0.888792270531401,
          0.8890821256038648,
          0.8895652173913043,
          0.8956038647342994,
          0.9096135265700482,
          0.9095169082125604,
          0.9129951690821255,
          0.9131884057971014
         ],
         "yaxis": "y2"
        },
        {
         "customdata": [
          [
           "All",
           "SASA_R",
           -30.669590629999995,
           -30.46655614,
           0,
           0
          ],
          [
           "All",
           "SASA_R",
           -30.669590629999995,
           -30.07587985,
           0.022898550724637534,
           0.018285024154589435
          ],
          [
           "All",
           "SASA_R",
           -30.669590629999995,
           -29.93730052,
           0.02741545893719799,
           0.023429951690821293
          ],
          [
           "All",
           "SASA_R",
           -30.669590629999995,
           -29.79386765,
           0.017487922705314074,
           0.01886473429951685
          ],
          [
           "All",
           "SASA_R",
           -30.669590629999995,
           -29.68874533,
           0.01782608695652166,
           0.020821256038647373
          ],
          [
           "All",
           "SASA_R",
           -30.669590629999995,
           -29.60027149,
           0.021545893719806752,
           0.024468599033816485
          ],
          [
           "All",
           "SASA_R",
           -30.669590629999995,
           -29.52150475,
           0.017632850241545817,
           0.021014492753623215
          ],
          [
           "All",
           "SASA_R",
           -30.669590629999995,
           -29.447555900000005,
           0.01958937198067634,
           0.02159420289855074
          ],
          [
           "All",
           "SASA_R",
           -30.669590629999995,
           -29.37764067,
           0.01910628019323668,
           0.01978260869565207
          ],
          [
           "All",
           "SASA_R",
           -30.669590629999995,
           -29.25277312,
           0.0180676328502416,
           0.020579710144927432
          ],
          [
           "All",
           "SASA_R",
           -30.669590629999995,
           -29.20515206,
           0.016280193236715035,
           0.02007246376811589
          ],
          [
           "All",
           "SASA_R",
           -30.669590629999995,
           -29.20515206,
           0.026280193236714933,
           0.019734299516908305
          ],
          [
           "All",
           "SASA_R",
           -30.669590629999995,
           -29.20515206,
           0.019927536231884035,
           0.01642512077294689
          ],
          [
           "All",
           "SASA_R",
           -30.669590629999995,
           -29.20515206,
           0.02328502415458933,
           0.025024154589372016
          ],
          [
           "All",
           "SASA_R",
           -30.669590629999995,
           -29.20515206,
           0.01594202898550723,
           0.015579710144927428
          ],
          [
           "All",
           "SASA_R",
           -30.669590629999995,
           -29.20515206,
           0.02099033816425122,
           0.01789855072463764
          ],
          [
           "All",
           "SASA_R",
           -30.669590629999995,
           -29.20515206,
           0.016328502415459023,
           0.012657004830917806
          ],
          [
           "All",
           "SASA_R",
           -30.669590629999995,
           -29.20515206,
           0.021932367149758547,
           0.019251207729468534
          ],
          [
           "All",
           "SASA_R",
           -30.669590629999995,
           -29.20515206,
           0.016908212560386437,
           0.016908212560386437
          ],
          [
           "All",
           "SASA_R",
           -30.669590629999995,
           -29.20515206,
           0.019323671497584516,
           0.01449275362318847
          ],
          [
           "All",
           "SASA_R",
           -30.669590629999995,
           -29.20515206,
           0.019637681159420217,
           0.016714975845410596
          ],
          [
           "All",
           "SASA_R",
           -30.669590629999995,
           -29.20515206,
           0.01917874396135255,
           0.029130434782608794
          ]
         ],
         "error_y": {
          "array": [
           0,
           0.022898550724637534,
           0.02741545893719799,
           0.017487922705314074,
           0.01782608695652166,
           0.021545893719806752,
           0.017632850241545817,
           0.01958937198067634,
           0.01910628019323668,
           0.0180676328502416,
           0.016280193236715035,
           0.026280193236714933,
           0.019927536231884035,
           0.02328502415458933,
           0.01594202898550723,
           0.02099033816425122,
           0.016328502415459023,
           0.021932367149758547,
           0.016908212560386437,
           0.019323671497584516,
           0.019637681159420217,
           0.01917874396135255
          ],
          "arrayminus": [
           0,
           0.018285024154589435,
           0.023429951690821293,
           0.01886473429951685,
           0.020821256038647373,
           0.024468599033816485,
           0.021014492753623215,
           0.02159420289855074,
           0.01978260869565207,
           0.020579710144927432,
           0.02007246376811589,
           0.019734299516908305,
           0.01642512077294689,
           0.025024154589372016,
           0.015579710144927428,
           0.01789855072463764,
           0.012657004830917806,
           0.019251207729468534,
           0.016908212560386437,
           0.01449275362318847,
           0.016714975845410596,
           0.029130434782608794
          ]
         },
         "hovertemplate": "Structure_Split=%{customdata[1]}<br>Version=%{customdata[0]}<br>Number of References=%{x}<br>Fraction=%{y}<br>Split_Value_min=%{customdata[2]}<br>Split_Value_max=%{customdata[3]}<br>Max=%{customdata[4]}<br>Min=%{customdata[5]}<extra></extra>",
         "legendgroup": "SASA_R",
         "marker": {
          "color": "#E15F99",
          "symbol": "circle"
         },
         "mode": "markers",
         "name": "SASA_R",
         "orientation": "v",
         "showlegend": true,
         "type": "scatter",
         "x": [
          1,
          11,
          21,
          31,
          41,
          51,
          61,
          71,
          81,
          91,
          101,
          111,
          121,
          131,
          141,
          151,
          161,
          171,
          181,
          191,
          201,
          211
         ],
         "xaxis": "x",
         "y": [
          0.36231884057971014,
          0.6679227053140098,
          0.7094202898550726,
          0.736135265700483,
          0.75512077294686,
          0.7658937198067634,
          0.7794685990338165,
          0.7897101449275362,
          0.7757004830917874,
          0.7790338164251207,
          0.7856521739130434,
          0.7804830917874397,
          0.7893719806763285,
          0.7979710144927536,
          0.8004830917874396,
          0.812463768115942,
          0.8145893719806763,
          0.8138164251207729,
          0.8236714975845411,
          0.8309178743961353,
          0.8476328502415459,
          0.8455555555555556
         ],
         "yaxis": "y"
        },
        {
         "customdata": [
          [
           "Hybrid-Only",
           "SASA_R",
           -30.669590629999995,
           -30.46655614,
           0,
           0
          ],
          [
           "Hybrid-Only",
           "SASA_R",
           -30.669590629999995,
           -30.07587985,
           0.009275362318840519,
           0.007753623188405778
          ],
          [
           "Hybrid-Only",
           "SASA_R",
           -30.669590629999995,
           -29.93730052,
           0.012294685990338117,
           0.012101449275362275
          ],
          [
           "Hybrid-Only",
           "SASA_R",
           -30.669590629999995,
           -29.79386765,
           0.014396135265700494,
           0.014589371980676336
          ],
          [
           "Hybrid-Only",
           "SASA_R",
           -30.669590629999995,
           -29.68874533,
           0.012004830917874298,
           0.009855072463768155
          ],
          [
           "Hybrid-Only",
           "SASA_R",
           -30.669590629999995,
           -29.60027149,
           0.011932367149758538,
           0.014758454106280072
          ],
          [
           "Hybrid-Only",
           "SASA_R",
           -30.669590629999995,
           -29.52150475,
           0.011690821256038708,
           0.007632850241545808
          ],
          [
           "Hybrid-Only",
           "SASA_R",
           -30.669590629999995,
           -29.447555900000005,
           0.012584541062801935,
           0.014106280193236675
          ],
          [
           "Hybrid-Only",
           "SASA_R",
           -30.669590629999995,
           -29.37764067,
           0.012826086956521765,
           0.013864734299516845
          ],
          [
           "Hybrid-Only",
           "SASA_R",
           -30.669590629999995,
           -29.25277312,
           0.01396135265700471,
           0.0127294685990339
          ],
          [
           "Hybrid-Only",
           "SASA_R",
           -30.669590629999995,
           -29.20515206,
           0.01031400966183571,
           0.011545893719806744
          ],
          [
           "Hybrid-Only",
           "SASA_R",
           -30.669590629999995,
           -29.20515206,
           0.011739130434782585,
           0.012415458937198087
          ],
          [
           "Hybrid-Only",
           "SASA_R",
           -30.669590629999995,
           -29.20515206,
           0.013913043478260945,
           0.012777777777777666
          ],
          [
           "Hybrid-Only",
           "SASA_R",
           -30.669590629999995,
           -29.20515206,
           0.00879227053140097,
           0.015362318840579703
          ],
          [
           "Hybrid-Only",
           "SASA_R",
           -30.669590629999995,
           -29.20515206,
           0.012512077294686064,
           0.011642512077294609
          ],
          [
           "Hybrid-Only",
           "SASA_R",
           -30.669590629999995,
           -29.20515206,
           0.00971014492753619,
           0.009613526570048436
          ],
          [
           "Hybrid-Only",
           "SASA_R",
           -30.669590629999995,
           -29.20515206,
           0.010772946859903376,
           0.013381642512077296
          ],
          [
           "Hybrid-Only",
           "SASA_R",
           -30.669590629999995,
           -29.20515206,
           0.008888888888888946,
           0.01043478260869557
          ],
          [
           "Hybrid-Only",
           "SASA_R",
           -30.669590629999995,
           -29.20515206,
           0.010000000000000009,
           0.009323671497584507
          ],
          [
           "Hybrid-Only",
           "SASA_R",
           -30.669590629999995,
           -29.20515206,
           0.00995169082125602,
           0.009371980676328495
          ],
          [
           "Hybrid-Only",
           "SASA_R",
           -30.669590629999995,
           -29.20515206,
           0.009082125603864788,
           0.010241545893719728
          ],
          [
           "Hybrid-Only",
           "SASA_R",
           -30.669590629999995,
           -29.20515206,
           0.008454106280193274,
           0.006038647342995085
          ]
         ],
         "error_y": {
          "array": [
           0,
           0.009275362318840519,
           0.012294685990338117,
           0.014396135265700494,
           0.012004830917874298,
           0.011932367149758538,
           0.011690821256038708,
           0.012584541062801935,
           0.012826086956521765,
           0.01396135265700471,
           0.01031400966183571,
           0.011739130434782585,
           0.013913043478260945,
           0.00879227053140097,
           0.012512077294686064,
           0.00971014492753619,
           0.010772946859903376,
           0.008888888888888946,
           0.010000000000000009,
           0.00995169082125602,
           0.009082125603864788,
           0.008454106280193274
          ],
          "arrayminus": [
           0,
           0.007753623188405778,
           0.012101449275362275,
           0.014589371980676336,
           0.009855072463768155,
           0.014758454106280072,
           0.007632850241545808,
           0.014106280193236675,
           0.013864734299516845,
           0.0127294685990339,
           0.011545893719806744,
           0.012415458937198087,
           0.012777777777777666,
           0.015362318840579703,
           0.011642512077294609,
           0.009613526570048436,
           0.013381642512077296,
           0.01043478260869557,
           0.009323671497584507,
           0.009371980676328495,
           0.010241545893719728,
           0.006038647342995085
          ]
         },
         "hovertemplate": "Structure_Split=%{customdata[1]}<br>Version=%{customdata[0]}<br>Number of References=%{x}<br>Fraction=%{y}<br>Split_Value_min=%{customdata[2]}<br>Split_Value_max=%{customdata[3]}<br>Max=%{customdata[4]}<br>Min=%{customdata[5]}<extra></extra>",
         "legendgroup": "SASA_R",
         "marker": {
          "color": "#E15F99",
          "symbol": "circle"
         },
         "mode": "markers",
         "name": "SASA_R",
         "orientation": "v",
         "showlegend": false,
         "type": "scatter",
         "x": [
          1,
          11,
          21,
          31,
          41,
          51,
          61,
          71,
          81,
          91,
          101,
          111,
          121,
          131,
          141,
          151,
          161,
          171,
          181,
          191,
          201,
          211
         ],
         "xaxis": "x2",
         "y": [
          0.3285024154589372,
          0.7298550724637681,
          0.8114975845410628,
          0.8310144927536232,
          0.8456038647342996,
          0.8576328502415458,
          0.8675362318840579,
          0.8691787439613526,
          0.8689371980676328,
          0.8797584541062803,
          0.8907729468599034,
          0.8868115942028986,
          0.8894685990338164,
          0.8945893719806763,
          0.8957004830917874,
          0.8985024154589373,
          0.9022705314009661,
          0.9138164251207729,
          0.9127053140096618,
          0.9127536231884058,
          0.913623188405797,
          0.9142512077294686
         ],
         "yaxis": "y2"
        },
        {
         "customdata": [
          [
           "All",
           "random",
           "Random",
           "Random",
           0.05490338164251202,
           0.06381642512077296
          ],
          [
           "All",
           "random",
           "Random",
           "Random",
           0.061521739130434794,
           0.049830917874396086
          ],
          [
           "All",
           "random",
           "Random",
           "Random",
           0.04463768115942035,
           0.04714975845410618
          ],
          [
           "All",
           "random",
           "Random",
           "Random",
           0.05915458937198059,
           0.040000000000000036
          ],
          [
           "All",
           "random",
           "Random",
           "Random",
           0.05289855072463756,
           0.04166666666666663
          ],
          [
           "All",
           "random",
           "Random",
           "Random",
           0.04760869565217396,
           0.041884057971014466
          ],
          [
           "All",
           "random",
           "Random",
           "Random",
           0.04637681159420293,
           0.04311594202898539
          ],
          [
           "All",
           "random",
           "Random",
           "Random",
           0.04519323671497577,
           0.042004830917874436
          ],
          [
           "All",
           "random",
           "Random",
           "Random",
           0.03828502415458934,
           0.03925120772946855
          ],
          [
           "All",
           "random",
           "Random",
           "Random",
           0.02637681159420291,
           0.03413043478260869
          ],
          [
           "All",
           "random",
           "Random",
           "Random",
           0.03256038647342985,
           0.033019323671497625
          ],
          [
           "All",
           "random",
           "Random",
           "Random",
           0.02898550724637672,
           0.033816425120772986
          ],
          [
           "All",
           "random",
           "Random",
           "Random",
           0.027246376811594142,
           0.030724637681159406
          ],
          [
           "All",
           "random",
           "Random",
           "Random",
           0.03555555555555556,
           0.0320772946859903
          ],
          [
           "All",
           "random",
           "Random",
           "Random",
           0.03002415458937191,
           0.033019323671497625
          ],
          [
           "All",
           "random",
           "Random",
           "Random",
           0.02838164251207731,
           0.02753623188405796
          ],
          [
           "All",
           "random",
           "Random",
           "Random",
           0.02432367149758452,
           0.036183574879227076
          ],
          [
           "All",
           "random",
           "Random",
           "Random",
           0.023913043478260954,
           0.02693236714975833
          ],
          [
           "All",
           "random",
           "Random",
           "Random",
           0.022028985507246412,
           0.021449275362318887
          ],
          [
           "All",
           "random",
           "Random",
           "Random",
           0.02086956521739136,
           0.022608695652173938
          ],
          [
           "All",
           "random",
           "Random",
           "Random",
           0.01710144927536228,
           0.019251207729468645
          ],
          [
           "All",
           "random",
           "Random",
           "Random",
           0.019420289855072492,
           0.024057971014492696
          ]
         ],
         "error_y": {
          "array": [
           0.05490338164251202,
           0.061521739130434794,
           0.04463768115942035,
           0.05915458937198059,
           0.05289855072463756,
           0.04760869565217396,
           0.04637681159420293,
           0.04519323671497577,
           0.03828502415458934,
           0.02637681159420291,
           0.03256038647342985,
           0.02898550724637672,
           0.027246376811594142,
           0.03555555555555556,
           0.03002415458937191,
           0.02838164251207731,
           0.02432367149758452,
           0.023913043478260954,
           0.022028985507246412,
           0.02086956521739136,
           0.01710144927536228,
           0.019420289855072492
          ],
          "arrayminus": [
           0.06381642512077296,
           0.049830917874396086,
           0.04714975845410618,
           0.040000000000000036,
           0.04166666666666663,
           0.041884057971014466,
           0.04311594202898539,
           0.042004830917874436,
           0.03925120772946855,
           0.03413043478260869,
           0.033019323671497625,
           0.033816425120772986,
           0.030724637681159406,
           0.0320772946859903,
           0.033019323671497625,
           0.02753623188405796,
           0.036183574879227076,
           0.02693236714975833,
           0.021449275362318887,
           0.022608695652173938,
           0.019251207729468645,
           0.024057971014492696
          ]
         },
         "hovertemplate": "Structure_Split=%{customdata[1]}<br>Version=%{customdata[0]}<br>Number of References=%{x}<br>Fraction=%{y}<br>Split_Value_min=%{customdata[2]}<br>Split_Value_max=%{customdata[3]}<br>Max=%{customdata[4]}<br>Min=%{customdata[5]}<extra></extra>",
         "legendgroup": "random",
         "marker": {
          "color": "#1CA71C",
          "symbol": "circle"
         },
         "mode": "markers",
         "name": "random",
         "orientation": "v",
         "showlegend": true,
         "type": "scatter",
         "x": [
          1,
          11,
          21,
          31,
          41,
          51,
          61,
          71,
          81,
          91,
          101,
          111,
          121,
          131,
          141,
          151,
          161,
          171,
          181,
          191,
          201,
          211
         ],
         "xaxis": "x",
         "y": [
          0.4355555555555556,
          0.6946376811594203,
          0.7234782608695651,
          0.7356521739130435,
          0.7492753623188406,
          0.7616908212560386,
          0.77487922705314,
          0.7834299516908213,
          0.7903381642512077,
          0.7997101449275362,
          0.8034299516908213,
          0.8115942028985508,
          0.8181642512077295,
          0.8195169082125604,
          0.8227536231884058,
          0.8292270531400966,
          0.8332850241545894,
          0.8359903381642512,
          0.8378743961352657,
          0.8390338164251208,
          0.8428019323671498,
          0.8453140096618357
         ],
         "yaxis": "y"
        },
        {
         "customdata": [
          [
           "Hybrid-Only",
           "random",
           "Random",
           "Random",
           0.0581642512077295,
           0.0481159420289855
          ],
          [
           "Hybrid-Only",
           "random",
           "Random",
           "Random",
           0.0404106280193236,
           0.03966183574879234
          ],
          [
           "Hybrid-Only",
           "random",
           "Random",
           "Random",
           0.0357246376811593,
           0.03698067632850244
          ],
          [
           "Hybrid-Only",
           "random",
           "Random",
           "Random",
           0.029130434782608683,
           0.03367149758454113
          ],
          [
           "Hybrid-Only",
           "random",
           "Random",
           "Random",
           0.026594202898550745,
           0.029082125603864695
          ],
          [
           "Hybrid-Only",
           "random",
           "Random",
           "Random",
           0.02857487922705315,
           0.029637681159420226
          ],
          [
           "Hybrid-Only",
           "random",
           "Random",
           "Random",
           0.024637681159420333,
           0.033333333333333215
          ],
          [
           "Hybrid-Only",
           "random",
           "Random",
           "Random",
           0.02753623188405807,
           0.030434782608695587
          ],
          [
           "Hybrid-Only",
           "random",
           "Random",
           "Random",
           0.02966183574879233,
           0.030845410628019265
          ],
          [
           "Hybrid-Only",
           "random",
           "Random",
           "Random",
           0.021642512077294618,
           0.026666666666666727
          ],
          [
           "Hybrid-Only",
           "random",
           "Random",
           "Random",
           0.024516908212560473,
           0.02632850241545881
          ],
          [
           "Hybrid-Only",
           "random",
           "Random",
           "Random",
           0.0230434782608695,
           0.02043478260869569
          ],
          [
           "Hybrid-Only",
           "random",
           "Random",
           "Random",
           0.026763285024154482,
           0.0240821256038648
          ],
          [
           "Hybrid-Only",
           "random",
           "Random",
           "Random",
           0.025193236714975753,
           0.020821256038647373
          ],
          [
           "Hybrid-Only",
           "random",
           "Random",
           "Random",
           0.02062801932367142,
           0.02055555555555555
          ],
          [
           "Hybrid-Only",
           "random",
           "Random",
           "Random",
           0.020942028985507233,
           0.01541062801932358
          ],
          [
           "Hybrid-Only",
           "random",
           "Random",
           "Random",
           0.01425120772946864,
           0.019565217391304235
          ],
          [
           "Hybrid-Only",
           "random",
           "Random",
           "Random",
           0.01333333333333342,
           0.01565217391304341
          ],
          [
           "Hybrid-Only",
           "random",
           "Random",
           "Random",
           0.015072463768115996,
           0.013913043478260834
          ],
          [
           "Hybrid-Only",
           "random",
           "Random",
           "Random",
           0.009371980676328384,
           0.009951690821256132
          ],
          [
           "Hybrid-Only",
           "random",
           "Random",
           "Random",
           0.011207729468599048,
           0.012946859903381625
          ],
          [
           "Hybrid-Only",
           "random",
           "Random",
           "Random",
           0.011352657004830902,
           0.012801932367149771
          ]
         ],
         "error_y": {
          "array": [
           0.0581642512077295,
           0.0404106280193236,
           0.0357246376811593,
           0.029130434782608683,
           0.026594202898550745,
           0.02857487922705315,
           0.024637681159420333,
           0.02753623188405807,
           0.02966183574879233,
           0.021642512077294618,
           0.024516908212560473,
           0.0230434782608695,
           0.026763285024154482,
           0.025193236714975753,
           0.02062801932367142,
           0.020942028985507233,
           0.01425120772946864,
           0.01333333333333342,
           0.015072463768115996,
           0.009371980676328384,
           0.011207729468599048,
           0.011352657004830902
          ],
          "arrayminus": [
           0.0481159420289855,
           0.03966183574879234,
           0.03698067632850244,
           0.03367149758454113,
           0.029082125603864695,
           0.029637681159420226,
           0.033333333333333215,
           0.030434782608695587,
           0.030845410628019265,
           0.026666666666666727,
           0.02632850241545881,
           0.02043478260869569,
           0.0240821256038648,
           0.020821256038647373,
           0.02055555555555555,
           0.01541062801932358,
           0.019565217391304235,
           0.01565217391304341,
           0.013913043478260834,
           0.009951690821256132,
           0.012946859903381625,
           0.012801932367149771
          ]
         },
         "hovertemplate": "Structure_Split=%{customdata[1]}<br>Version=%{customdata[0]}<br>Number of References=%{x}<br>Fraction=%{y}<br>Split_Value_min=%{customdata[2]}<br>Split_Value_max=%{customdata[3]}<br>Max=%{customdata[4]}<br>Min=%{customdata[5]}<extra></extra>",
         "legendgroup": "random",
         "marker": {
          "color": "#1CA71C",
          "symbol": "circle"
         },
         "mode": "markers",
         "name": "random",
         "orientation": "v",
         "showlegend": false,
         "type": "scatter",
         "x": [
          1,
          11,
          21,
          31,
          41,
          51,
          61,
          71,
          81,
          91,
          101,
          111,
          121,
          131,
          141,
          151,
          161,
          171,
          181,
          191,
          201,
          211
         ],
         "xaxis": "x2",
         "y": [
          0.37178743961352656,
          0.7546376811594203,
          0.8073913043478261,
          0.8307729468599034,
          0.8455072463768115,
          0.8531884057971014,
          0.8642512077294685,
          0.8710144927536231,
          0.8785507246376811,
          0.8817391304347827,
          0.8862318840579709,
          0.89,
          0.8911111111111112,
          0.8952173913043479,
          0.8972463768115942,
          0.8994685990338164,
          0.903623188405797,
          0.9045410628019322,
          0.9076328502415458,
          0.9085024154589373,
          0.9114975845410628,
          0.9113526570048309
         ],
         "yaxis": "y2"
        }
       ],
       "layout": {
        "annotations": [
         {
          "font": {},
          "showarrow": false,
          "text": "All",
          "x": 0.245,
          "xanchor": "center",
          "xref": "paper",
          "y": 1,
          "yanchor": "bottom",
          "yref": "paper"
         },
         {
          "font": {},
          "showarrow": false,
          "text": "Hybrid-Only",
          "x": 0.755,
          "xanchor": "center",
          "xref": "paper",
          "y": 1,
          "yanchor": "bottom",
          "yref": "paper"
         }
        ],
        "height": 400,
        "legend": {
         "title": {
          "text": "Structure_Split"
         },
         "tracegroupgap": 0
        },
        "margin": {
         "t": 60
        },
        "template": {
         "data": {
          "bar": [
           {
            "error_x": {
             "color": "rgb(36,36,36)"
            },
            "error_y": {
             "color": "rgb(36,36,36)"
            },
            "marker": {
             "line": {
              "color": "rgb(234,234,242)",
              "width": 0.5
             },
             "pattern": {
              "fillmode": "overlay",
              "size": 10,
              "solidity": 0.2
             }
            },
            "type": "bar"
           }
          ],
          "barpolar": [
           {
            "marker": {
             "line": {
              "color": "rgb(234,234,242)",
              "width": 0.5
             },
             "pattern": {
              "fillmode": "overlay",
              "size": 10,
              "solidity": 0.2
             }
            },
            "type": "barpolar"
           }
          ],
          "carpet": [
           {
            "aaxis": {
             "endlinecolor": "rgb(36,36,36)",
             "gridcolor": "white",
             "linecolor": "white",
             "minorgridcolor": "white",
             "startlinecolor": "rgb(36,36,36)"
            },
            "baxis": {
             "endlinecolor": "rgb(36,36,36)",
             "gridcolor": "white",
             "linecolor": "white",
             "minorgridcolor": "white",
             "startlinecolor": "rgb(36,36,36)"
            },
            "type": "carpet"
           }
          ],
          "choropleth": [
           {
            "colorbar": {
             "outlinewidth": 0,
             "tickcolor": "rgb(36,36,36)",
             "ticklen": 8,
             "ticks": "outside",
             "tickwidth": 2
            },
            "type": "choropleth"
           }
          ],
          "contour": [
           {
            "colorbar": {
             "outlinewidth": 0,
             "tickcolor": "rgb(36,36,36)",
             "ticklen": 8,
             "ticks": "outside",
             "tickwidth": 2
            },
            "colorscale": [
             [
              0,
              "rgb(2,4,25)"
             ],
             [
              0.06274509803921569,
              "rgb(24,15,41)"
             ],
             [
              0.12549019607843137,
              "rgb(47,23,57)"
             ],
             [
              0.18823529411764706,
              "rgb(71,28,72)"
             ],
             [
              0.25098039215686274,
              "rgb(97,30,82)"
             ],
             [
              0.3137254901960784,
              "rgb(123,30,89)"
             ],
             [
              0.3764705882352941,
              "rgb(150,27,91)"
             ],
             [
              0.4392156862745098,
              "rgb(177,22,88)"
             ],
             [
              0.5019607843137255,
              "rgb(203,26,79)"
             ],
             [
              0.5647058823529412,
              "rgb(223,47,67)"
             ],
             [
              0.6274509803921569,
              "rgb(236,76,61)"
             ],
             [
              0.6901960784313725,
              "rgb(242,107,73)"
             ],
             [
              0.7529411764705882,
              "rgb(244,135,95)"
             ],
             [
              0.8156862745098039,
              "rgb(245,162,122)"
             ],
             [
              0.8784313725490196,
              "rgb(246,188,153)"
             ],
             [
              0.9411764705882353,
              "rgb(247,212,187)"
             ],
             [
              1,
              "rgb(250,234,220)"
             ]
            ],
            "type": "contour"
           }
          ],
          "contourcarpet": [
           {
            "colorbar": {
             "outlinewidth": 0,
             "tickcolor": "rgb(36,36,36)",
             "ticklen": 8,
             "ticks": "outside",
             "tickwidth": 2
            },
            "type": "contourcarpet"
           }
          ],
          "heatmap": [
           {
            "colorbar": {
             "outlinewidth": 0,
             "tickcolor": "rgb(36,36,36)",
             "ticklen": 8,
             "ticks": "outside",
             "tickwidth": 2
            },
            "colorscale": [
             [
              0,
              "rgb(2,4,25)"
             ],
             [
              0.06274509803921569,
              "rgb(24,15,41)"
             ],
             [
              0.12549019607843137,
              "rgb(47,23,57)"
             ],
             [
              0.18823529411764706,
              "rgb(71,28,72)"
             ],
             [
              0.25098039215686274,
              "rgb(97,30,82)"
             ],
             [
              0.3137254901960784,
              "rgb(123,30,89)"
             ],
             [
              0.3764705882352941,
              "rgb(150,27,91)"
             ],
             [
              0.4392156862745098,
              "rgb(177,22,88)"
             ],
             [
              0.5019607843137255,
              "rgb(203,26,79)"
             ],
             [
              0.5647058823529412,
              "rgb(223,47,67)"
             ],
             [
              0.6274509803921569,
              "rgb(236,76,61)"
             ],
             [
              0.6901960784313725,
              "rgb(242,107,73)"
             ],
             [
              0.7529411764705882,
              "rgb(244,135,95)"
             ],
             [
              0.8156862745098039,
              "rgb(245,162,122)"
             ],
             [
              0.8784313725490196,
              "rgb(246,188,153)"
             ],
             [
              0.9411764705882353,
              "rgb(247,212,187)"
             ],
             [
              1,
              "rgb(250,234,220)"
             ]
            ],
            "type": "heatmap"
           }
          ],
          "heatmapgl": [
           {
            "colorbar": {
             "outlinewidth": 0,
             "tickcolor": "rgb(36,36,36)",
             "ticklen": 8,
             "ticks": "outside",
             "tickwidth": 2
            },
            "colorscale": [
             [
              0,
              "rgb(2,4,25)"
             ],
             [
              0.06274509803921569,
              "rgb(24,15,41)"
             ],
             [
              0.12549019607843137,
              "rgb(47,23,57)"
             ],
             [
              0.18823529411764706,
              "rgb(71,28,72)"
             ],
             [
              0.25098039215686274,
              "rgb(97,30,82)"
             ],
             [
              0.3137254901960784,
              "rgb(123,30,89)"
             ],
             [
              0.3764705882352941,
              "rgb(150,27,91)"
             ],
             [
              0.4392156862745098,
              "rgb(177,22,88)"
             ],
             [
              0.5019607843137255,
              "rgb(203,26,79)"
             ],
             [
              0.5647058823529412,
              "rgb(223,47,67)"
             ],
             [
              0.6274509803921569,
              "rgb(236,76,61)"
             ],
             [
              0.6901960784313725,
              "rgb(242,107,73)"
             ],
             [
              0.7529411764705882,
              "rgb(244,135,95)"
             ],
             [
              0.8156862745098039,
              "rgb(245,162,122)"
             ],
             [
              0.8784313725490196,
              "rgb(246,188,153)"
             ],
             [
              0.9411764705882353,
              "rgb(247,212,187)"
             ],
             [
              1,
              "rgb(250,234,220)"
             ]
            ],
            "type": "heatmapgl"
           }
          ],
          "histogram": [
           {
            "marker": {
             "pattern": {
              "fillmode": "overlay",
              "size": 10,
              "solidity": 0.2
             }
            },
            "type": "histogram"
           }
          ],
          "histogram2d": [
           {
            "colorbar": {
             "outlinewidth": 0,
             "tickcolor": "rgb(36,36,36)",
             "ticklen": 8,
             "ticks": "outside",
             "tickwidth": 2
            },
            "colorscale": [
             [
              0,
              "rgb(2,4,25)"
             ],
             [
              0.06274509803921569,
              "rgb(24,15,41)"
             ],
             [
              0.12549019607843137,
              "rgb(47,23,57)"
             ],
             [
              0.18823529411764706,
              "rgb(71,28,72)"
             ],
             [
              0.25098039215686274,
              "rgb(97,30,82)"
             ],
             [
              0.3137254901960784,
              "rgb(123,30,89)"
             ],
             [
              0.3764705882352941,
              "rgb(150,27,91)"
             ],
             [
              0.4392156862745098,
              "rgb(177,22,88)"
             ],
             [
              0.5019607843137255,
              "rgb(203,26,79)"
             ],
             [
              0.5647058823529412,
              "rgb(223,47,67)"
             ],
             [
              0.6274509803921569,
              "rgb(236,76,61)"
             ],
             [
              0.6901960784313725,
              "rgb(242,107,73)"
             ],
             [
              0.7529411764705882,
              "rgb(244,135,95)"
             ],
             [
              0.8156862745098039,
              "rgb(245,162,122)"
             ],
             [
              0.8784313725490196,
              "rgb(246,188,153)"
             ],
             [
              0.9411764705882353,
              "rgb(247,212,187)"
             ],
             [
              1,
              "rgb(250,234,220)"
             ]
            ],
            "type": "histogram2d"
           }
          ],
          "histogram2dcontour": [
           {
            "colorbar": {
             "outlinewidth": 0,
             "tickcolor": "rgb(36,36,36)",
             "ticklen": 8,
             "ticks": "outside",
             "tickwidth": 2
            },
            "colorscale": [
             [
              0,
              "rgb(2,4,25)"
             ],
             [
              0.06274509803921569,
              "rgb(24,15,41)"
             ],
             [
              0.12549019607843137,
              "rgb(47,23,57)"
             ],
             [
              0.18823529411764706,
              "rgb(71,28,72)"
             ],
             [
              0.25098039215686274,
              "rgb(97,30,82)"
             ],
             [
              0.3137254901960784,
              "rgb(123,30,89)"
             ],
             [
              0.3764705882352941,
              "rgb(150,27,91)"
             ],
             [
              0.4392156862745098,
              "rgb(177,22,88)"
             ],
             [
              0.5019607843137255,
              "rgb(203,26,79)"
             ],
             [
              0.5647058823529412,
              "rgb(223,47,67)"
             ],
             [
              0.6274509803921569,
              "rgb(236,76,61)"
             ],
             [
              0.6901960784313725,
              "rgb(242,107,73)"
             ],
             [
              0.7529411764705882,
              "rgb(244,135,95)"
             ],
             [
              0.8156862745098039,
              "rgb(245,162,122)"
             ],
             [
              0.8784313725490196,
              "rgb(246,188,153)"
             ],
             [
              0.9411764705882353,
              "rgb(247,212,187)"
             ],
             [
              1,
              "rgb(250,234,220)"
             ]
            ],
            "type": "histogram2dcontour"
           }
          ],
          "mesh3d": [
           {
            "colorbar": {
             "outlinewidth": 0,
             "tickcolor": "rgb(36,36,36)",
             "ticklen": 8,
             "ticks": "outside",
             "tickwidth": 2
            },
            "type": "mesh3d"
           }
          ],
          "parcoords": [
           {
            "line": {
             "colorbar": {
              "outlinewidth": 0,
              "tickcolor": "rgb(36,36,36)",
              "ticklen": 8,
              "ticks": "outside",
              "tickwidth": 2
             }
            },
            "type": "parcoords"
           }
          ],
          "pie": [
           {
            "automargin": true,
            "type": "pie"
           }
          ],
          "scatter": [
           {
            "fillpattern": {
             "fillmode": "overlay",
             "size": 10,
             "solidity": 0.2
            },
            "type": "scatter"
           }
          ],
          "scatter3d": [
           {
            "line": {
             "colorbar": {
              "outlinewidth": 0,
              "tickcolor": "rgb(36,36,36)",
              "ticklen": 8,
              "ticks": "outside",
              "tickwidth": 2
             }
            },
            "marker": {
             "colorbar": {
              "outlinewidth": 0,
              "tickcolor": "rgb(36,36,36)",
              "ticklen": 8,
              "ticks": "outside",
              "tickwidth": 2
             }
            },
            "type": "scatter3d"
           }
          ],
          "scattercarpet": [
           {
            "marker": {
             "colorbar": {
              "outlinewidth": 0,
              "tickcolor": "rgb(36,36,36)",
              "ticklen": 8,
              "ticks": "outside",
              "tickwidth": 2
             }
            },
            "type": "scattercarpet"
           }
          ],
          "scattergeo": [
           {
            "marker": {
             "colorbar": {
              "outlinewidth": 0,
              "tickcolor": "rgb(36,36,36)",
              "ticklen": 8,
              "ticks": "outside",
              "tickwidth": 2
             }
            },
            "type": "scattergeo"
           }
          ],
          "scattergl": [
           {
            "marker": {
             "colorbar": {
              "outlinewidth": 0,
              "tickcolor": "rgb(36,36,36)",
              "ticklen": 8,
              "ticks": "outside",
              "tickwidth": 2
             }
            },
            "type": "scattergl"
           }
          ],
          "scattermapbox": [
           {
            "marker": {
             "colorbar": {
              "outlinewidth": 0,
              "tickcolor": "rgb(36,36,36)",
              "ticklen": 8,
              "ticks": "outside",
              "tickwidth": 2
             }
            },
            "type": "scattermapbox"
           }
          ],
          "scatterpolar": [
           {
            "marker": {
             "colorbar": {
              "outlinewidth": 0,
              "tickcolor": "rgb(36,36,36)",
              "ticklen": 8,
              "ticks": "outside",
              "tickwidth": 2
             }
            },
            "type": "scatterpolar"
           }
          ],
          "scatterpolargl": [
           {
            "marker": {
             "colorbar": {
              "outlinewidth": 0,
              "tickcolor": "rgb(36,36,36)",
              "ticklen": 8,
              "ticks": "outside",
              "tickwidth": 2
             }
            },
            "type": "scatterpolargl"
           }
          ],
          "scatterternary": [
           {
            "marker": {
             "colorbar": {
              "outlinewidth": 0,
              "tickcolor": "rgb(36,36,36)",
              "ticklen": 8,
              "ticks": "outside",
              "tickwidth": 2
             }
            },
            "type": "scatterternary"
           }
          ],
          "surface": [
           {
            "colorbar": {
             "outlinewidth": 0,
             "tickcolor": "rgb(36,36,36)",
             "ticklen": 8,
             "ticks": "outside",
             "tickwidth": 2
            },
            "colorscale": [
             [
              0,
              "rgb(2,4,25)"
             ],
             [
              0.06274509803921569,
              "rgb(24,15,41)"
             ],
             [
              0.12549019607843137,
              "rgb(47,23,57)"
             ],
             [
              0.18823529411764706,
              "rgb(71,28,72)"
             ],
             [
              0.25098039215686274,
              "rgb(97,30,82)"
             ],
             [
              0.3137254901960784,
              "rgb(123,30,89)"
             ],
             [
              0.3764705882352941,
              "rgb(150,27,91)"
             ],
             [
              0.4392156862745098,
              "rgb(177,22,88)"
             ],
             [
              0.5019607843137255,
              "rgb(203,26,79)"
             ],
             [
              0.5647058823529412,
              "rgb(223,47,67)"
             ],
             [
              0.6274509803921569,
              "rgb(236,76,61)"
             ],
             [
              0.6901960784313725,
              "rgb(242,107,73)"
             ],
             [
              0.7529411764705882,
              "rgb(244,135,95)"
             ],
             [
              0.8156862745098039,
              "rgb(245,162,122)"
             ],
             [
              0.8784313725490196,
              "rgb(246,188,153)"
             ],
             [
              0.9411764705882353,
              "rgb(247,212,187)"
             ],
             [
              1,
              "rgb(250,234,220)"
             ]
            ],
            "type": "surface"
           }
          ],
          "table": [
           {
            "cells": {
             "fill": {
              "color": "rgb(231,231,240)"
             },
             "line": {
              "color": "white"
             }
            },
            "header": {
             "fill": {
              "color": "rgb(183,183,191)"
             },
             "line": {
              "color": "white"
             }
            },
            "type": "table"
           }
          ]
         },
         "layout": {
          "annotationdefaults": {
           "arrowcolor": "rgb(67,103,167)"
          },
          "autotypenumbers": "strict",
          "coloraxis": {
           "colorbar": {
            "outlinewidth": 0,
            "tickcolor": "rgb(36,36,36)",
            "ticklen": 8,
            "ticks": "outside",
            "tickwidth": 2
           }
          },
          "colorscale": {
           "sequential": [
            [
             0,
             "rgb(2,4,25)"
            ],
            [
             0.06274509803921569,
             "rgb(24,15,41)"
            ],
            [
             0.12549019607843137,
             "rgb(47,23,57)"
            ],
            [
             0.18823529411764706,
             "rgb(71,28,72)"
            ],
            [
             0.25098039215686274,
             "rgb(97,30,82)"
            ],
            [
             0.3137254901960784,
             "rgb(123,30,89)"
            ],
            [
             0.3764705882352941,
             "rgb(150,27,91)"
            ],
            [
             0.4392156862745098,
             "rgb(177,22,88)"
            ],
            [
             0.5019607843137255,
             "rgb(203,26,79)"
            ],
            [
             0.5647058823529412,
             "rgb(223,47,67)"
            ],
            [
             0.6274509803921569,
             "rgb(236,76,61)"
            ],
            [
             0.6901960784313725,
             "rgb(242,107,73)"
            ],
            [
             0.7529411764705882,
             "rgb(244,135,95)"
            ],
            [
             0.8156862745098039,
             "rgb(245,162,122)"
            ],
            [
             0.8784313725490196,
             "rgb(246,188,153)"
            ],
            [
             0.9411764705882353,
             "rgb(247,212,187)"
            ],
            [
             1,
             "rgb(250,234,220)"
            ]
           ],
           "sequentialminus": [
            [
             0,
             "rgb(2,4,25)"
            ],
            [
             0.06274509803921569,
             "rgb(24,15,41)"
            ],
            [
             0.12549019607843137,
             "rgb(47,23,57)"
            ],
            [
             0.18823529411764706,
             "rgb(71,28,72)"
            ],
            [
             0.25098039215686274,
             "rgb(97,30,82)"
            ],
            [
             0.3137254901960784,
             "rgb(123,30,89)"
            ],
            [
             0.3764705882352941,
             "rgb(150,27,91)"
            ],
            [
             0.4392156862745098,
             "rgb(177,22,88)"
            ],
            [
             0.5019607843137255,
             "rgb(203,26,79)"
            ],
            [
             0.5647058823529412,
             "rgb(223,47,67)"
            ],
            [
             0.6274509803921569,
             "rgb(236,76,61)"
            ],
            [
             0.6901960784313725,
             "rgb(242,107,73)"
            ],
            [
             0.7529411764705882,
             "rgb(244,135,95)"
            ],
            [
             0.8156862745098039,
             "rgb(245,162,122)"
            ],
            [
             0.8784313725490196,
             "rgb(246,188,153)"
            ],
            [
             0.9411764705882353,
             "rgb(247,212,187)"
            ],
            [
             1,
             "rgb(250,234,220)"
            ]
           ]
          },
          "colorway": [
           "rgb(76,114,176)",
           "rgb(221,132,82)",
           "rgb(85,168,104)",
           "rgb(196,78,82)",
           "rgb(129,114,179)",
           "rgb(147,120,96)",
           "rgb(218,139,195)",
           "rgb(140,140,140)",
           "rgb(204,185,116)",
           "rgb(100,181,205)"
          ],
          "font": {
           "color": "rgb(36,36,36)"
          },
          "geo": {
           "bgcolor": "white",
           "lakecolor": "white",
           "landcolor": "rgb(234,234,242)",
           "showlakes": true,
           "showland": true,
           "subunitcolor": "white"
          },
          "hoverlabel": {
           "align": "left"
          },
          "hovermode": "closest",
          "paper_bgcolor": "white",
          "plot_bgcolor": "rgb(234,234,242)",
          "polar": {
           "angularaxis": {
            "gridcolor": "white",
            "linecolor": "white",
            "showgrid": true,
            "ticks": ""
           },
           "bgcolor": "rgb(234,234,242)",
           "radialaxis": {
            "gridcolor": "white",
            "linecolor": "white",
            "showgrid": true,
            "ticks": ""
           }
          },
          "scene": {
           "xaxis": {
            "backgroundcolor": "rgb(234,234,242)",
            "gridcolor": "white",
            "gridwidth": 2,
            "linecolor": "white",
            "showbackground": true,
            "showgrid": true,
            "ticks": "",
            "zerolinecolor": "white"
           },
           "yaxis": {
            "backgroundcolor": "rgb(234,234,242)",
            "gridcolor": "white",
            "gridwidth": 2,
            "linecolor": "white",
            "showbackground": true,
            "showgrid": true,
            "ticks": "",
            "zerolinecolor": "white"
           },
           "zaxis": {
            "backgroundcolor": "rgb(234,234,242)",
            "gridcolor": "white",
            "gridwidth": 2,
            "linecolor": "white",
            "showbackground": true,
            "showgrid": true,
            "ticks": "",
            "zerolinecolor": "white"
           }
          },
          "shapedefaults": {
           "fillcolor": "rgb(67,103,167)",
           "line": {
            "width": 0
           },
           "opacity": 0.5
          },
          "ternary": {
           "aaxis": {
            "gridcolor": "white",
            "linecolor": "white",
            "showgrid": true,
            "ticks": ""
           },
           "baxis": {
            "gridcolor": "white",
            "linecolor": "white",
            "showgrid": true,
            "ticks": ""
           },
           "bgcolor": "rgb(234,234,242)",
           "caxis": {
            "gridcolor": "white",
            "linecolor": "white",
            "showgrid": true,
            "ticks": ""
           }
          },
          "xaxis": {
           "automargin": true,
           "gridcolor": "white",
           "linecolor": "white",
           "showgrid": true,
           "ticks": "",
           "title": {
            "standoff": 15
           },
           "zerolinecolor": "white"
          },
          "yaxis": {
           "automargin": true,
           "gridcolor": "white",
           "linecolor": "white",
           "showgrid": true,
           "ticks": "",
           "title": {
            "standoff": 15
           },
           "zerolinecolor": "white"
          }
         }
        },
        "width": 800,
        "xaxis": {
         "anchor": "y",
         "autorange": false,
         "domain": [
          0,
          0.49
         ],
         "range": [
          -2.058154708159657,
          16.989699934445696
         ],
         "title": {
          "text": "Number of References"
         },
         "type": "linear"
        },
        "xaxis2": {
         "anchor": "y2",
         "autorange": false,
         "domain": [
          0.51,
          1
         ],
         "matches": "x",
         "range": [
          -2.058154708159657,
          16.989699934445696
         ],
         "title": {
          "text": "Number of References"
         },
         "type": "linear"
        },
        "yaxis": {
         "anchor": "x",
         "autorange": false,
         "domain": [
          0,
          1
         ],
         "range": [
          0.5814182692307693,
          0.8121875000000002
         ],
         "title": {
          "text": "Fraction of Poses < 2Å from Reference"
         },
         "type": "linear"
        },
        "yaxis2": {
         "anchor": "x2",
         "autorange": false,
         "domain": [
          0,
          1
         ],
         "matches": "y",
         "range": [
          0.5814182692307693,
          0.8121875000000002
         ],
         "showticklabels": false,
         "title": {
          "text": ""
         },
         "type": "linear"
        }
       }
      },
      "image/png": "[encoded data removed]",
      "text/html": [
       "<div>                            <div id=\"12b6d573-77c6-4f5b-a5bd-fc4f69f60ecf\" class=\"plotly-graph-div\" style=\"height:400px; width:800px;\"></div>            <script type=\"text/javascript\">                require([\"plotly\"], function(Plotly) {                    window.PLOTLYENV=window.PLOTLYENV || {};                                    if (document.getElementById(\"12b6d573-77c6-4f5b-a5bd-fc4f69f60ecf\")) {                    Plotly.newPlot(                        \"12b6d573-77c6-4f5b-a5bd-fc4f69f60ecf\",                        [{\"customdata\":[[\"All\",\"SASA (nm^2)\",29.20515206,29.24886382,0.0,0.0],[\"All\",\"SASA (nm^2)\",29.20515206,29.40370785,0.019758454106280188,0.023719806763285],[\"All\",\"SASA (nm^2)\",29.20515206,29.46273239,0.0214009661835749,0.029444444444444384],[\"All\",\"SASA (nm^2)\",29.20515206,29.56601627,0.02038647342995159,0.025628019323671536],[\"All\",\"SASA (nm^2)\",29.20515206,29.65866997,0.026473429951690775,0.03149758454106277],[\"All\",\"SASA (nm^2)\",29.20515206,29.7626721,0.027077294685990294,0.02147342995169088],[\"All\",\"SASA (nm^2)\",29.20515206,29.83830749,0.02316425120772936,0.022850241545893768],[\"All\",\"SASA (nm^2)\",29.20515206,29.96981044,0.02850241545893728,0.02946859903381638],[\"All\",\"SASA (nm^2)\",29.20515206,30.11763467,0.024420289855072497,0.026425120772946897],[\"All\",\"SASA (nm^2)\",29.20515206,30.57139977,0.024710144927536204,0.02613526570048308],[\"All\",\"SASA (nm^2)\",29.20515206,30.669590629999995,0.016521739130434754,0.01983091787439617],[\"All\",\"SASA (nm^2)\",29.20515206,30.669590629999995,0.01917874396135255,0.024299516908212637],[\"All\",\"SASA (nm^2)\",29.20515206,30.669590629999995,0.01758454106280205,0.016231884057970936],[\"All\",\"SASA (nm^2)\",29.20515206,30.669590629999995,0.021328502415458916,0.022391304347826102],[\"All\",\"SASA (nm^2)\",29.20515206,30.669590629999995,0.01746376811594208,0.018888888888888844],[\"All\",\"SASA (nm^2)\",29.20515206,30.669590629999995,0.01734299516908222,0.019009661835748703],[\"All\",\"SASA (nm^2)\",29.20515206,30.669590629999995,0.019275362318840417,0.014541062801932458],[\"All\",\"SASA (nm^2)\",29.20515206,30.669590629999995,0.016908212560386437,0.019444444444444375],[\"All\",\"SASA (nm^2)\",29.20515206,30.669590629999995,0.025821256038647267,0.02019323671497586],[\"All\",\"SASA (nm^2)\",29.20515206,30.669590629999995,0.01958937198067634,0.016763285024154584],[\"All\",\"SASA (nm^2)\",29.20515206,30.669590629999995,0.01666666666666672,0.017149758454106268],[\"All\",\"SASA (nm^2)\",29.20515206,30.669590629999995,0.021497584541062764,0.019685990338164205]],\"error_y\":{\"array\":[0.0,0.019758454106280188,0.0214009661835749,0.02038647342995159,0.026473429951690775,0.027077294685990294,0.02316425120772936,0.02850241545893728,0.024420289855072497,0.024710144927536204,0.016521739130434754,0.01917874396135255,0.01758454106280205,0.021328502415458916,0.01746376811594208,0.01734299516908222,0.019275362318840417,0.016908212560386437,0.025821256038647267,0.01958937198067634,0.01666666666666672,0.021497584541062764],\"arrayminus\":[0.0,0.023719806763285,0.029444444444444384,0.025628019323671536,0.03149758454106277,0.02147342995169088,0.022850241545893768,0.02946859903381638,0.026425120772946897,0.02613526570048308,0.01983091787439617,0.024299516908212637,0.016231884057970936,0.022391304347826102,0.018888888888888844,0.019009661835748703,0.014541062801932458,0.019444444444444375,0.02019323671497586,0.016763285024154584,0.017149758454106268,0.019685990338164205]},\"hovertemplate\":\"Structure_Split=%{customdata[1]}<br>Version=%{customdata[0]}<br>Number of References=%{x}<br>Fraction=%{y}<br>Split_Value_min=%{customdata[2]}<br>Split_Value_max=%{customdata[3]}<br>Max=%{customdata[4]}<br>Min=%{customdata[5]}<extra></extra>\",\"legendgroup\":\"SASA (nm^2)\",\"marker\":{\"color\":\"#2E91E5\",\"symbol\":\"circle\"},\"mode\":\"markers\",\"name\":\"SASA (nm^2)\",\"orientation\":\"v\",\"showlegend\":true,\"x\":[1,11,21,31,41,51,61,71,81,91,101,111,121,131,141,151,161,171,181,191,201,211],\"xaxis\":\"x\",\"y\":[0.1111111111111111,0.7097101449275363,0.7273913043478261,0.7235748792270532,0.7368115942028985,0.7339130434782609,0.7426570048309179,0.7589371980676328,0.7655555555555555,0.7990821256038647,0.7854106280193237,0.8020772946859904,0.8133333333333332,0.8169565217391305,0.811159420289855,0.8184057971014492,0.8213043478260871,0.8236714975845411,0.8221256038647343,0.8331884057971014,0.8384057971014492,0.8480676328502416],\"yaxis\":\"y\",\"type\":\"scatter\"},{\"customdata\":[[\"Hybrid-Only\",\"SASA (nm^2)\",29.20515206,29.24886382,0.0,0.0],[\"Hybrid-Only\",\"SASA (nm^2)\",29.20515206,29.40370785,0.013961352657004822,0.012729468599033789],[\"Hybrid-Only\",\"SASA (nm^2)\",29.20515206,29.46273239,0.00995169082125602,0.014202898550724652],[\"Hybrid-Only\",\"SASA (nm^2)\",29.20515206,29.56601627,0.018840579710144967,0.01497584541062802],[\"Hybrid-Only\",\"SASA (nm^2)\",29.20515206,29.65866997,0.013429951690821285,0.018091787439613483],[\"Hybrid-Only\",\"SASA (nm^2)\",29.20515206,29.7626721,0.016280193236714924,0.017536231884058062],[\"Hybrid-Only\",\"SASA (nm^2)\",29.20515206,29.83830749,0.014299516908212628,0.019516908212560358],[\"Hybrid-Only\",\"SASA (nm^2)\",29.20515206,29.96981044,0.007391304347826089,0.011932367149758427],[\"Hybrid-Only\",\"SASA (nm^2)\",29.20515206,30.11763467,0.007874396135265749,0.011449275362318767],[\"Hybrid-Only\",\"SASA (nm^2)\",29.20515206,30.57139977,0.01159420289855062,0.012560386473430052],[\"Hybrid-Only\",\"SASA (nm^2)\",29.20515206,30.669590629999995,0.012995169082125502,0.015990338164251217],[\"Hybrid-Only\",\"SASA (nm^2)\",29.20515206,30.669590629999995,0.012246376811594128,0.012149758454106263],[\"Hybrid-Only\",\"SASA (nm^2)\",29.20515206,30.669590629999995,0.011014492753623206,0.013140096618357466],[\"Hybrid-Only\",\"SASA (nm^2)\",29.20515206,30.669590629999995,0.00830917874396142,0.011014492753623095],[\"Hybrid-Only\",\"SASA (nm^2)\",29.20515206,30.669590629999995,0.009758454106280179,0.014396135265700494],[\"Hybrid-Only\",\"SASA (nm^2)\",29.20515206,30.669590629999995,0.00946859903381636,0.009855072463768155],[\"Hybrid-Only\",\"SASA (nm^2)\",29.20515206,30.669590629999995,0.008985507246376812,0.010338164251207704],[\"Hybrid-Only\",\"SASA (nm^2)\",29.20515206,30.669590629999995,0.010314009661835821,0.011545893719806632],[\"Hybrid-Only\",\"SASA (nm^2)\",29.20515206,30.669590629999995,0.01079710144927537,0.013599033816425021],[\"Hybrid-Only\",\"SASA (nm^2)\",29.20515206,30.669590629999995,0.008357487922705298,0.008671497584541],[\"Hybrid-Only\",\"SASA (nm^2)\",29.20515206,30.669590629999995,0.009710144927536302,0.009613526570048214],[\"Hybrid-Only\",\"SASA (nm^2)\",29.20515206,30.669590629999995,0.00951690821256046,0.009806763285024056]],\"error_y\":{\"array\":[0.0,0.013961352657004822,0.00995169082125602,0.018840579710144967,0.013429951690821285,0.016280193236714924,0.014299516908212628,0.007391304347826089,0.007874396135265749,0.01159420289855062,0.012995169082125502,0.012246376811594128,0.011014492753623206,0.00830917874396142,0.009758454106280179,0.00946859903381636,0.008985507246376812,0.010314009661835821,0.01079710144927537,0.008357487922705298,0.009710144927536302,0.00951690821256046],\"arrayminus\":[0.0,0.012729468599033789,0.014202898550724652,0.01497584541062802,0.018091787439613483,0.017536231884058062,0.019516908212560358,0.011932367149758427,0.011449275362318767,0.012560386473430052,0.015990338164251217,0.012149758454106263,0.013140096618357466,0.011014492753623095,0.014396135265700494,0.009855072463768155,0.010338164251207704,0.011545893719806632,0.013599033816425021,0.008671497584541,0.009613526570048214,0.009806763285024056]},\"hovertemplate\":\"Structure_Split=%{customdata[1]}<br>Version=%{customdata[0]}<br>Number of References=%{x}<br>Fraction=%{y}<br>Split_Value_min=%{customdata[2]}<br>Split_Value_max=%{customdata[3]}<br>Max=%{customdata[4]}<br>Min=%{customdata[5]}<extra></extra>\",\"legendgroup\":\"SASA (nm^2)\",\"marker\":{\"color\":\"#2E91E5\",\"symbol\":\"circle\"},\"mode\":\"markers\",\"name\":\"SASA (nm^2)\",\"orientation\":\"v\",\"showlegend\":false,\"x\":[1,11,21,31,41,51,61,71,81,91,101,111,121,131,141,151,161,171,181,191,201,211],\"xaxis\":\"x2\",\"y\":[0.0821256038647343,0.7541545893719807,0.8161352657004831,0.8314009661835748,0.8464734299516908,0.8629468599033817,0.8600966183574879,0.8718357487922705,0.8665217391304347,0.8531400966183575,0.8517391304347827,0.8598550724637681,0.8633816425120773,0.8709178743961352,0.888792270531401,0.8890821256038648,0.8895652173913043,0.8956038647342994,0.9096135265700482,0.9095169082125604,0.9129951690821255,0.9131884057971014],\"yaxis\":\"y2\",\"type\":\"scatter\"},{\"customdata\":[[\"All\",\"SASA_R\",-30.669590629999995,-30.46655614,0.0,0.0],[\"All\",\"SASA_R\",-30.669590629999995,-30.07587985,0.022898550724637534,0.018285024154589435],[\"All\",\"SASA_R\",-30.669590629999995,-29.93730052,0.02741545893719799,0.023429951690821293],[\"All\",\"SASA_R\",-30.669590629999995,-29.79386765,0.017487922705314074,0.01886473429951685],[\"All\",\"SASA_R\",-30.669590629999995,-29.68874533,0.01782608695652166,0.020821256038647373],[\"All\",\"SASA_R\",-30.669590629999995,-29.60027149,0.021545893719806752,0.024468599033816485],[\"All\",\"SASA_R\",-30.669590629999995,-29.52150475,0.017632850241545817,0.021014492753623215],[\"All\",\"SASA_R\",-30.669590629999995,-29.447555900000005,0.01958937198067634,0.02159420289855074],[\"All\",\"SASA_R\",-30.669590629999995,-29.37764067,0.01910628019323668,0.01978260869565207],[\"All\",\"SASA_R\",-30.669590629999995,-29.25277312,0.0180676328502416,0.020579710144927432],[\"All\",\"SASA_R\",-30.669590629999995,-29.20515206,0.016280193236715035,0.02007246376811589],[\"All\",\"SASA_R\",-30.669590629999995,-29.20515206,0.026280193236714933,0.019734299516908305],[\"All\",\"SASA_R\",-30.669590629999995,-29.20515206,0.019927536231884035,0.01642512077294689],[\"All\",\"SASA_R\",-30.669590629999995,-29.20515206,0.02328502415458933,0.025024154589372016],[\"All\",\"SASA_R\",-30.669590629999995,-29.20515206,0.01594202898550723,0.015579710144927428],[\"All\",\"SASA_R\",-30.669590629999995,-29.20515206,0.02099033816425122,0.01789855072463764],[\"All\",\"SASA_R\",-30.669590629999995,-29.20515206,0.016328502415459023,0.012657004830917806],[\"All\",\"SASA_R\",-30.669590629999995,-29.20515206,0.021932367149758547,0.019251207729468534],[\"All\",\"SASA_R\",-30.669590629999995,-29.20515206,0.016908212560386437,0.016908212560386437],[\"All\",\"SASA_R\",-30.669590629999995,-29.20515206,0.019323671497584516,0.01449275362318847],[\"All\",\"SASA_R\",-30.669590629999995,-29.20515206,0.019637681159420217,0.016714975845410596],[\"All\",\"SASA_R\",-30.669590629999995,-29.20515206,0.01917874396135255,0.029130434782608794]],\"error_y\":{\"array\":[0.0,0.022898550724637534,0.02741545893719799,0.017487922705314074,0.01782608695652166,0.021545893719806752,0.017632850241545817,0.01958937198067634,0.01910628019323668,0.0180676328502416,0.016280193236715035,0.026280193236714933,0.019927536231884035,0.02328502415458933,0.01594202898550723,0.02099033816425122,0.016328502415459023,0.021932367149758547,0.016908212560386437,0.019323671497584516,0.019637681159420217,0.01917874396135255],\"arrayminus\":[0.0,0.018285024154589435,0.023429951690821293,0.01886473429951685,0.020821256038647373,0.024468599033816485,0.021014492753623215,0.02159420289855074,0.01978260869565207,0.020579710144927432,0.02007246376811589,0.019734299516908305,0.01642512077294689,0.025024154589372016,0.015579710144927428,0.01789855072463764,0.012657004830917806,0.019251207729468534,0.016908212560386437,0.01449275362318847,0.016714975845410596,0.029130434782608794]},\"hovertemplate\":\"Structure_Split=%{customdata[1]}<br>Version=%{customdata[0]}<br>Number of References=%{x}<br>Fraction=%{y}<br>Split_Value_min=%{customdata[2]}<br>Split_Value_max=%{customdata[3]}<br>Max=%{customdata[4]}<br>Min=%{customdata[5]}<extra></extra>\",\"legendgroup\":\"SASA_R\",\"marker\":{\"color\":\"#E15F99\",\"symbol\":\"circle\"},\"mode\":\"markers\",\"name\":\"SASA_R\",\"orientation\":\"v\",\"showlegend\":true,\"x\":[1,11,21,31,41,51,61,71,81,91,101,111,121,131,141,151,161,171,181,191,201,211],\"xaxis\":\"x\",\"y\":[0.36231884057971014,0.6679227053140098,0.7094202898550726,0.736135265700483,0.75512077294686,0.7658937198067634,0.7794685990338165,0.7897101449275362,0.7757004830917874,0.7790338164251207,0.7856521739130434,0.7804830917874397,0.7893719806763285,0.7979710144927536,0.8004830917874396,0.812463768115942,0.8145893719806763,0.8138164251207729,0.8236714975845411,0.8309178743961353,0.8476328502415459,0.8455555555555556],\"yaxis\":\"y\",\"type\":\"scatter\"},{\"customdata\":[[\"Hybrid-Only\",\"SASA_R\",-30.669590629999995,-30.46655614,0.0,0.0],[\"Hybrid-Only\",\"SASA_R\",-30.669590629999995,-30.07587985,0.009275362318840519,0.007753623188405778],[\"Hybrid-Only\",\"SASA_R\",-30.669590629999995,-29.93730052,0.012294685990338117,0.012101449275362275],[\"Hybrid-Only\",\"SASA_R\",-30.669590629999995,-29.79386765,0.014396135265700494,0.014589371980676336],[\"Hybrid-Only\",\"SASA_R\",-30.669590629999995,-29.68874533,0.012004830917874298,0.009855072463768155],[\"Hybrid-Only\",\"SASA_R\",-30.669590629999995,-29.60027149,0.011932367149758538,0.014758454106280072],[\"Hybrid-Only\",\"SASA_R\",-30.669590629999995,-29.52150475,0.011690821256038708,0.007632850241545808],[\"Hybrid-Only\",\"SASA_R\",-30.669590629999995,-29.447555900000005,0.012584541062801935,0.014106280193236675],[\"Hybrid-Only\",\"SASA_R\",-30.669590629999995,-29.37764067,0.012826086956521765,0.013864734299516845],[\"Hybrid-Only\",\"SASA_R\",-30.669590629999995,-29.25277312,0.01396135265700471,0.0127294685990339],[\"Hybrid-Only\",\"SASA_R\",-30.669590629999995,-29.20515206,0.01031400966183571,0.011545893719806744],[\"Hybrid-Only\",\"SASA_R\",-30.669590629999995,-29.20515206,0.011739130434782585,0.012415458937198087],[\"Hybrid-Only\",\"SASA_R\",-30.669590629999995,-29.20515206,0.013913043478260945,0.012777777777777666],[\"Hybrid-Only\",\"SASA_R\",-30.669590629999995,-29.20515206,0.00879227053140097,0.015362318840579703],[\"Hybrid-Only\",\"SASA_R\",-30.669590629999995,-29.20515206,0.012512077294686064,0.011642512077294609],[\"Hybrid-Only\",\"SASA_R\",-30.669590629999995,-29.20515206,0.00971014492753619,0.009613526570048436],[\"Hybrid-Only\",\"SASA_R\",-30.669590629999995,-29.20515206,0.010772946859903376,0.013381642512077296],[\"Hybrid-Only\",\"SASA_R\",-30.669590629999995,-29.20515206,0.008888888888888946,0.01043478260869557],[\"Hybrid-Only\",\"SASA_R\",-30.669590629999995,-29.20515206,0.010000000000000009,0.009323671497584507],[\"Hybrid-Only\",\"SASA_R\",-30.669590629999995,-29.20515206,0.00995169082125602,0.009371980676328495],[\"Hybrid-Only\",\"SASA_R\",-30.669590629999995,-29.20515206,0.009082125603864788,0.010241545893719728],[\"Hybrid-Only\",\"SASA_R\",-30.669590629999995,-29.20515206,0.008454106280193274,0.006038647342995085]],\"error_y\":{\"array\":[0.0,0.009275362318840519,0.012294685990338117,0.014396135265700494,0.012004830917874298,0.011932367149758538,0.011690821256038708,0.012584541062801935,0.012826086956521765,0.01396135265700471,0.01031400966183571,0.011739130434782585,0.013913043478260945,0.00879227053140097,0.012512077294686064,0.00971014492753619,0.010772946859903376,0.008888888888888946,0.010000000000000009,0.00995169082125602,0.009082125603864788,0.008454106280193274],\"arrayminus\":[0.0,0.007753623188405778,0.012101449275362275,0.014589371980676336,0.009855072463768155,0.014758454106280072,0.007632850241545808,0.014106280193236675,0.013864734299516845,0.0127294685990339,0.011545893719806744,0.012415458937198087,0.012777777777777666,0.015362318840579703,0.011642512077294609,0.009613526570048436,0.013381642512077296,0.01043478260869557,0.009323671497584507,0.009371980676328495,0.010241545893719728,0.006038647342995085]},\"hovertemplate\":\"Structure_Split=%{customdata[1]}<br>Version=%{customdata[0]}<br>Number of References=%{x}<br>Fraction=%{y}<br>Split_Value_min=%{customdata[2]}<br>Split_Value_max=%{customdata[3]}<br>Max=%{customdata[4]}<br>Min=%{customdata[5]}<extra></extra>\",\"legendgroup\":\"SASA_R\",\"marker\":{\"color\":\"#E15F99\",\"symbol\":\"circle\"},\"mode\":\"markers\",\"name\":\"SASA_R\",\"orientation\":\"v\",\"showlegend\":false,\"x\":[1,11,21,31,41,51,61,71,81,91,101,111,121,131,141,151,161,171,181,191,201,211],\"xaxis\":\"x2\",\"y\":[0.3285024154589372,0.7298550724637681,0.8114975845410628,0.8310144927536232,0.8456038647342996,0.8576328502415458,0.8675362318840579,0.8691787439613526,0.8689371980676328,0.8797584541062803,0.8907729468599034,0.8868115942028986,0.8894685990338164,0.8945893719806763,0.8957004830917874,0.8985024154589373,0.9022705314009661,0.9138164251207729,0.9127053140096618,0.9127536231884058,0.913623188405797,0.9142512077294686],\"yaxis\":\"y2\",\"type\":\"scatter\"},{\"customdata\":[[\"All\",\"random\",\"Random\",\"Random\",0.05490338164251202,0.06381642512077296],[\"All\",\"random\",\"Random\",\"Random\",0.061521739130434794,0.049830917874396086],[\"All\",\"random\",\"Random\",\"Random\",0.04463768115942035,0.04714975845410618],[\"All\",\"random\",\"Random\",\"Random\",0.05915458937198059,0.040000000000000036],[\"All\",\"random\",\"Random\",\"Random\",0.05289855072463756,0.04166666666666663],[\"All\",\"random\",\"Random\",\"Random\",0.04760869565217396,0.041884057971014466],[\"All\",\"random\",\"Random\",\"Random\",0.04637681159420293,0.04311594202898539],[\"All\",\"random\",\"Random\",\"Random\",0.04519323671497577,0.042004830917874436],[\"All\",\"random\",\"Random\",\"Random\",0.03828502415458934,0.03925120772946855],[\"All\",\"random\",\"Random\",\"Random\",0.02637681159420291,0.03413043478260869],[\"All\",\"random\",\"Random\",\"Random\",0.03256038647342985,0.033019323671497625],[\"All\",\"random\",\"Random\",\"Random\",0.02898550724637672,0.033816425120772986],[\"All\",\"random\",\"Random\",\"Random\",0.027246376811594142,0.030724637681159406],[\"All\",\"random\",\"Random\",\"Random\",0.03555555555555556,0.0320772946859903],[\"All\",\"random\",\"Random\",\"Random\",0.03002415458937191,0.033019323671497625],[\"All\",\"random\",\"Random\",\"Random\",0.02838164251207731,0.02753623188405796],[\"All\",\"random\",\"Random\",\"Random\",0.02432367149758452,0.036183574879227076],[\"All\",\"random\",\"Random\",\"Random\",0.023913043478260954,0.02693236714975833],[\"All\",\"random\",\"Random\",\"Random\",0.022028985507246412,0.021449275362318887],[\"All\",\"random\",\"Random\",\"Random\",0.02086956521739136,0.022608695652173938],[\"All\",\"random\",\"Random\",\"Random\",0.01710144927536228,0.019251207729468645],[\"All\",\"random\",\"Random\",\"Random\",0.019420289855072492,0.024057971014492696]],\"error_y\":{\"array\":[0.05490338164251202,0.061521739130434794,0.04463768115942035,0.05915458937198059,0.05289855072463756,0.04760869565217396,0.04637681159420293,0.04519323671497577,0.03828502415458934,0.02637681159420291,0.03256038647342985,0.02898550724637672,0.027246376811594142,0.03555555555555556,0.03002415458937191,0.02838164251207731,0.02432367149758452,0.023913043478260954,0.022028985507246412,0.02086956521739136,0.01710144927536228,0.019420289855072492],\"arrayminus\":[0.06381642512077296,0.049830917874396086,0.04714975845410618,0.040000000000000036,0.04166666666666663,0.041884057971014466,0.04311594202898539,0.042004830917874436,0.03925120772946855,0.03413043478260869,0.033019323671497625,0.033816425120772986,0.030724637681159406,0.0320772946859903,0.033019323671497625,0.02753623188405796,0.036183574879227076,0.02693236714975833,0.021449275362318887,0.022608695652173938,0.019251207729468645,0.024057971014492696]},\"hovertemplate\":\"Structure_Split=%{customdata[1]}<br>Version=%{customdata[0]}<br>Number of References=%{x}<br>Fraction=%{y}<br>Split_Value_min=%{customdata[2]}<br>Split_Value_max=%{customdata[3]}<br>Max=%{customdata[4]}<br>Min=%{customdata[5]}<extra></extra>\",\"legendgroup\":\"random\",\"marker\":{\"color\":\"#1CA71C\",\"symbol\":\"circle\"},\"mode\":\"markers\",\"name\":\"random\",\"orientation\":\"v\",\"showlegend\":true,\"x\":[1,11,21,31,41,51,61,71,81,91,101,111,121,131,141,151,161,171,181,191,201,211],\"xaxis\":\"x\",\"y\":[0.4355555555555556,0.6946376811594203,0.7234782608695651,0.7356521739130435,0.7492753623188406,0.7616908212560386,0.77487922705314,0.7834299516908213,0.7903381642512077,0.7997101449275362,0.8034299516908213,0.8115942028985508,0.8181642512077295,0.8195169082125604,0.8227536231884058,0.8292270531400966,0.8332850241545894,0.8359903381642512,0.8378743961352657,0.8390338164251208,0.8428019323671498,0.8453140096618357],\"yaxis\":\"y\",\"type\":\"scatter\"},{\"customdata\":[[\"Hybrid-Only\",\"random\",\"Random\",\"Random\",0.0581642512077295,0.0481159420289855],[\"Hybrid-Only\",\"random\",\"Random\",\"Random\",0.0404106280193236,0.03966183574879234],[\"Hybrid-Only\",\"random\",\"Random\",\"Random\",0.0357246376811593,0.03698067632850244],[\"Hybrid-Only\",\"random\",\"Random\",\"Random\",0.029130434782608683,0.03367149758454113],[\"Hybrid-Only\",\"random\",\"Random\",\"Random\",0.026594202898550745,0.029082125603864695],[\"Hybrid-Only\",\"random\",\"Random\",\"Random\",0.02857487922705315,0.029637681159420226],[\"Hybrid-Only\",\"random\",\"Random\",\"Random\",0.024637681159420333,0.033333333333333215],[\"Hybrid-Only\",\"random\",\"Random\",\"Random\",0.02753623188405807,0.030434782608695587],[\"Hybrid-Only\",\"random\",\"Random\",\"Random\",0.02966183574879233,0.030845410628019265],[\"Hybrid-Only\",\"random\",\"Random\",\"Random\",0.021642512077294618,0.026666666666666727],[\"Hybrid-Only\",\"random\",\"Random\",\"Random\",0.024516908212560473,0.02632850241545881],[\"Hybrid-Only\",\"random\",\"Random\",\"Random\",0.0230434782608695,0.02043478260869569],[\"Hybrid-Only\",\"random\",\"Random\",\"Random\",0.026763285024154482,0.0240821256038648],[\"Hybrid-Only\",\"random\",\"Random\",\"Random\",0.025193236714975753,0.020821256038647373],[\"Hybrid-Only\",\"random\",\"Random\",\"Random\",0.02062801932367142,0.02055555555555555],[\"Hybrid-Only\",\"random\",\"Random\",\"Random\",0.020942028985507233,0.01541062801932358],[\"Hybrid-Only\",\"random\",\"Random\",\"Random\",0.01425120772946864,0.019565217391304235],[\"Hybrid-Only\",\"random\",\"Random\",\"Random\",0.01333333333333342,0.01565217391304341],[\"Hybrid-Only\",\"random\",\"Random\",\"Random\",0.015072463768115996,0.013913043478260834],[\"Hybrid-Only\",\"random\",\"Random\",\"Random\",0.009371980676328384,0.009951690821256132],[\"Hybrid-Only\",\"random\",\"Random\",\"Random\",0.011207729468599048,0.012946859903381625],[\"Hybrid-Only\",\"random\",\"Random\",\"Random\",0.011352657004830902,0.012801932367149771]],\"error_y\":{\"array\":[0.0581642512077295,0.0404106280193236,0.0357246376811593,0.029130434782608683,0.026594202898550745,0.02857487922705315,0.024637681159420333,0.02753623188405807,0.02966183574879233,0.021642512077294618,0.024516908212560473,0.0230434782608695,0.026763285024154482,0.025193236714975753,0.02062801932367142,0.020942028985507233,0.01425120772946864,0.01333333333333342,0.015072463768115996,0.009371980676328384,0.011207729468599048,0.011352657004830902],\"arrayminus\":[0.0481159420289855,0.03966183574879234,0.03698067632850244,0.03367149758454113,0.029082125603864695,0.029637681159420226,0.033333333333333215,0.030434782608695587,0.030845410628019265,0.026666666666666727,0.02632850241545881,0.02043478260869569,0.0240821256038648,0.020821256038647373,0.02055555555555555,0.01541062801932358,0.019565217391304235,0.01565217391304341,0.013913043478260834,0.009951690821256132,0.012946859903381625,0.012801932367149771]},\"hovertemplate\":\"Structure_Split=%{customdata[1]}<br>Version=%{customdata[0]}<br>Number of References=%{x}<br>Fraction=%{y}<br>Split_Value_min=%{customdata[2]}<br>Split_Value_max=%{customdata[3]}<br>Max=%{customdata[4]}<br>Min=%{customdata[5]}<extra></extra>\",\"legendgroup\":\"random\",\"marker\":{\"color\":\"#1CA71C\",\"symbol\":\"circle\"},\"mode\":\"markers\",\"name\":\"random\",\"orientation\":\"v\",\"showlegend\":false,\"x\":[1,11,21,31,41,51,61,71,81,91,101,111,121,131,141,151,161,171,181,191,201,211],\"xaxis\":\"x2\",\"y\":[0.37178743961352656,0.7546376811594203,0.8073913043478261,0.8307729468599034,0.8455072463768115,0.8531884057971014,0.8642512077294685,0.8710144927536231,0.8785507246376811,0.8817391304347827,0.8862318840579709,0.89,0.8911111111111112,0.8952173913043479,0.8972463768115942,0.8994685990338164,0.903623188405797,0.9045410628019322,0.9076328502415458,0.9085024154589373,0.9114975845410628,0.9113526570048309],\"yaxis\":\"y2\",\"type\":\"scatter\"}],                        {\"template\":{\"data\":{\"barpolar\":[{\"marker\":{\"line\":{\"color\":\"rgb(234,234,242)\",\"width\":0.5},\"pattern\":{\"fillmode\":\"overlay\",\"size\":10,\"solidity\":0.2}},\"type\":\"barpolar\"}],\"bar\":[{\"error_x\":{\"color\":\"rgb(36,36,36)\"},\"error_y\":{\"color\":\"rgb(36,36,36)\"},\"marker\":{\"line\":{\"color\":\"rgb(234,234,242)\",\"width\":0.5},\"pattern\":{\"fillmode\":\"overlay\",\"size\":10,\"solidity\":0.2}},\"type\":\"bar\"}],\"carpet\":[{\"aaxis\":{\"endlinecolor\":\"rgb(36,36,36)\",\"gridcolor\":\"white\",\"linecolor\":\"white\",\"minorgridcolor\":\"white\",\"startlinecolor\":\"rgb(36,36,36)\"},\"baxis\":{\"endlinecolor\":\"rgb(36,36,36)\",\"gridcolor\":\"white\",\"linecolor\":\"white\",\"minorgridcolor\":\"white\",\"startlinecolor\":\"rgb(36,36,36)\"},\"type\":\"carpet\"}],\"choropleth\":[{\"colorbar\":{\"outlinewidth\":0,\"tickcolor\":\"rgb(36,36,36)\",\"ticklen\":8,\"ticks\":\"outside\",\"tickwidth\":2},\"type\":\"choropleth\"}],\"contourcarpet\":[{\"colorbar\":{\"outlinewidth\":0,\"tickcolor\":\"rgb(36,36,36)\",\"ticklen\":8,\"ticks\":\"outside\",\"tickwidth\":2},\"type\":\"contourcarpet\"}],\"contour\":[{\"colorbar\":{\"outlinewidth\":0,\"tickcolor\":\"rgb(36,36,36)\",\"ticklen\":8,\"ticks\":\"outside\",\"tickwidth\":2},\"colorscale\":[[0.0,\"rgb(2,4,25)\"],[0.06274509803921569,\"rgb(24,15,41)\"],[0.12549019607843137,\"rgb(47,23,57)\"],[0.18823529411764706,\"rgb(71,28,72)\"],[0.25098039215686274,\"rgb(97,30,82)\"],[0.3137254901960784,\"rgb(123,30,89)\"],[0.3764705882352941,\"rgb(150,27,91)\"],[0.4392156862745098,\"rgb(177,22,88)\"],[0.5019607843137255,\"rgb(203,26,79)\"],[0.5647058823529412,\"rgb(223,47,67)\"],[0.6274509803921569,\"rgb(236,76,61)\"],[0.6901960784313725,\"rgb(242,107,73)\"],[0.7529411764705882,\"rgb(244,135,95)\"],[0.8156862745098039,\"rgb(245,162,122)\"],[0.8784313725490196,\"rgb(246,188,153)\"],[0.9411764705882353,\"rgb(247,212,187)\"],[1.0,\"rgb(250,234,220)\"]],\"type\":\"contour\"}],\"heatmapgl\":[{\"colorbar\":{\"outlinewidth\":0,\"tickcolor\":\"rgb(36,36,36)\",\"ticklen\":8,\"ticks\":\"outside\",\"tickwidth\":2},\"colorscale\":[[0.0,\"rgb(2,4,25)\"],[0.06274509803921569,\"rgb(24,15,41)\"],[0.12549019607843137,\"rgb(47,23,57)\"],[0.18823529411764706,\"rgb(71,28,72)\"],[0.25098039215686274,\"rgb(97,30,82)\"],[0.3137254901960784,\"rgb(123,30,89)\"],[0.3764705882352941,\"rgb(150,27,91)\"],[0.4392156862745098,\"rgb(177,22,88)\"],[0.5019607843137255,\"rgb(203,26,79)\"],[0.5647058823529412,\"rgb(223,47,67)\"],[0.6274509803921569,\"rgb(236,76,61)\"],[0.6901960784313725,\"rgb(242,107,73)\"],[0.7529411764705882,\"rgb(244,135,95)\"],[0.8156862745098039,\"rgb(245,162,122)\"],[0.8784313725490196,\"rgb(246,188,153)\"],[0.9411764705882353,\"rgb(247,212,187)\"],[1.0,\"rgb(250,234,220)\"]],\"type\":\"heatmapgl\"}],\"heatmap\":[{\"colorbar\":{\"outlinewidth\":0,\"tickcolor\":\"rgb(36,36,36)\",\"ticklen\":8,\"ticks\":\"outside\",\"tickwidth\":2},\"colorscale\":[[0.0,\"rgb(2,4,25)\"],[0.06274509803921569,\"rgb(24,15,41)\"],[0.12549019607843137,\"rgb(47,23,57)\"],[0.18823529411764706,\"rgb(71,28,72)\"],[0.25098039215686274,\"rgb(97,30,82)\"],[0.3137254901960784,\"rgb(123,30,89)\"],[0.3764705882352941,\"rgb(150,27,91)\"],[0.4392156862745098,\"rgb(177,22,88)\"],[0.5019607843137255,\"rgb(203,26,79)\"],[0.5647058823529412,\"rgb(223,47,67)\"],[0.6274509803921569,\"rgb(236,76,61)\"],[0.6901960784313725,\"rgb(242,107,73)\"],[0.7529411764705882,\"rgb(244,135,95)\"],[0.8156862745098039,\"rgb(245,162,122)\"],[0.8784313725490196,\"rgb(246,188,153)\"],[0.9411764705882353,\"rgb(247,212,187)\"],[1.0,\"rgb(250,234,220)\"]],\"type\":\"heatmap\"}],\"histogram2dcontour\":[{\"colorbar\":{\"outlinewidth\":0,\"tickcolor\":\"rgb(36,36,36)\",\"ticklen\":8,\"ticks\":\"outside\",\"tickwidth\":2},\"colorscale\":[[0.0,\"rgb(2,4,25)\"],[0.06274509803921569,\"rgb(24,15,41)\"],[0.12549019607843137,\"rgb(47,23,57)\"],[0.18823529411764706,\"rgb(71,28,72)\"],[0.25098039215686274,\"rgb(97,30,82)\"],[0.3137254901960784,\"rgb(123,30,89)\"],[0.3764705882352941,\"rgb(150,27,91)\"],[0.4392156862745098,\"rgb(177,22,88)\"],[0.5019607843137255,\"rgb(203,26,79)\"],[0.5647058823529412,\"rgb(223,47,67)\"],[0.6274509803921569,\"rgb(236,76,61)\"],[0.6901960784313725,\"rgb(242,107,73)\"],[0.7529411764705882,\"rgb(244,135,95)\"],[0.8156862745098039,\"rgb(245,162,122)\"],[0.8784313725490196,\"rgb(246,188,153)\"],[0.9411764705882353,\"rgb(247,212,187)\"],[1.0,\"rgb(250,234,220)\"]],\"type\":\"histogram2dcontour\"}],\"histogram2d\":[{\"colorbar\":{\"outlinewidth\":0,\"tickcolor\":\"rgb(36,36,36)\",\"ticklen\":8,\"ticks\":\"outside\",\"tickwidth\":2},\"colorscale\":[[0.0,\"rgb(2,4,25)\"],[0.06274509803921569,\"rgb(24,15,41)\"],[0.12549019607843137,\"rgb(47,23,57)\"],[0.18823529411764706,\"rgb(71,28,72)\"],[0.25098039215686274,\"rgb(97,30,82)\"],[0.3137254901960784,\"rgb(123,30,89)\"],[0.3764705882352941,\"rgb(150,27,91)\"],[0.4392156862745098,\"rgb(177,22,88)\"],[0.5019607843137255,\"rgb(203,26,79)\"],[0.5647058823529412,\"rgb(223,47,67)\"],[0.6274509803921569,\"rgb(236,76,61)\"],[0.6901960784313725,\"rgb(242,107,73)\"],[0.7529411764705882,\"rgb(244,135,95)\"],[0.8156862745098039,\"rgb(245,162,122)\"],[0.8784313725490196,\"rgb(246,188,153)\"],[0.9411764705882353,\"rgb(247,212,187)\"],[1.0,\"rgb(250,234,220)\"]],\"type\":\"histogram2d\"}],\"histogram\":[{\"marker\":{\"pattern\":{\"fillmode\":\"overlay\",\"size\":10,\"solidity\":0.2}},\"type\":\"histogram\"}],\"mesh3d\":[{\"colorbar\":{\"outlinewidth\":0,\"tickcolor\":\"rgb(36,36,36)\",\"ticklen\":8,\"ticks\":\"outside\",\"tickwidth\":2},\"type\":\"mesh3d\"}],\"parcoords\":[{\"line\":{\"colorbar\":{\"outlinewidth\":0,\"tickcolor\":\"rgb(36,36,36)\",\"ticklen\":8,\"ticks\":\"outside\",\"tickwidth\":2}},\"type\":\"parcoords\"}],\"pie\":[{\"automargin\":true,\"type\":\"pie\"}],\"scatter3d\":[{\"line\":{\"colorbar\":{\"outlinewidth\":0,\"tickcolor\":\"rgb(36,36,36)\",\"ticklen\":8,\"ticks\":\"outside\",\"tickwidth\":2}},\"marker\":{\"colorbar\":{\"outlinewidth\":0,\"tickcolor\":\"rgb(36,36,36)\",\"ticklen\":8,\"ticks\":\"outside\",\"tickwidth\":2}},\"type\":\"scatter3d\"}],\"scattercarpet\":[{\"marker\":{\"colorbar\":{\"outlinewidth\":0,\"tickcolor\":\"rgb(36,36,36)\",\"ticklen\":8,\"ticks\":\"outside\",\"tickwidth\":2}},\"type\":\"scattercarpet\"}],\"scattergeo\":[{\"marker\":{\"colorbar\":{\"outlinewidth\":0,\"tickcolor\":\"rgb(36,36,36)\",\"ticklen\":8,\"ticks\":\"outside\",\"tickwidth\":2}},\"type\":\"scattergeo\"}],\"scattergl\":[{\"marker\":{\"colorbar\":{\"outlinewidth\":0,\"tickcolor\":\"rgb(36,36,36)\",\"ticklen\":8,\"ticks\":\"outside\",\"tickwidth\":2}},\"type\":\"scattergl\"}],\"scattermapbox\":[{\"marker\":{\"colorbar\":{\"outlinewidth\":0,\"tickcolor\":\"rgb(36,36,36)\",\"ticklen\":8,\"ticks\":\"outside\",\"tickwidth\":2}},\"type\":\"scattermapbox\"}],\"scatterpolargl\":[{\"marker\":{\"colorbar\":{\"outlinewidth\":0,\"tickcolor\":\"rgb(36,36,36)\",\"ticklen\":8,\"ticks\":\"outside\",\"tickwidth\":2}},\"type\":\"scatterpolargl\"}],\"scatterpolar\":[{\"marker\":{\"colorbar\":{\"outlinewidth\":0,\"tickcolor\":\"rgb(36,36,36)\",\"ticklen\":8,\"ticks\":\"outside\",\"tickwidth\":2}},\"type\":\"scatterpolar\"}],\"scatter\":[{\"fillpattern\":{\"fillmode\":\"overlay\",\"size\":10,\"solidity\":0.2},\"type\":\"scatter\"}],\"scatterternary\":[{\"marker\":{\"colorbar\":{\"outlinewidth\":0,\"tickcolor\":\"rgb(36,36,36)\",\"ticklen\":8,\"ticks\":\"outside\",\"tickwidth\":2}},\"type\":\"scatterternary\"}],\"surface\":[{\"colorbar\":{\"outlinewidth\":0,\"tickcolor\":\"rgb(36,36,36)\",\"ticklen\":8,\"ticks\":\"outside\",\"tickwidth\":2},\"colorscale\":[[0.0,\"rgb(2,4,25)\"],[0.06274509803921569,\"rgb(24,15,41)\"],[0.12549019607843137,\"rgb(47,23,57)\"],[0.18823529411764706,\"rgb(71,28,72)\"],[0.25098039215686274,\"rgb(97,30,82)\"],[0.3137254901960784,\"rgb(123,30,89)\"],[0.3764705882352941,\"rgb(150,27,91)\"],[0.4392156862745098,\"rgb(177,22,88)\"],[0.5019607843137255,\"rgb(203,26,79)\"],[0.5647058823529412,\"rgb(223,47,67)\"],[0.6274509803921569,\"rgb(236,76,61)\"],[0.6901960784313725,\"rgb(242,107,73)\"],[0.7529411764705882,\"rgb(244,135,95)\"],[0.8156862745098039,\"rgb(245,162,122)\"],[0.8784313725490196,\"rgb(246,188,153)\"],[0.9411764705882353,\"rgb(247,212,187)\"],[1.0,\"rgb(250,234,220)\"]],\"type\":\"surface\"}],\"table\":[{\"cells\":{\"fill\":{\"color\":\"rgb(231,231,240)\"},\"line\":{\"color\":\"white\"}},\"header\":{\"fill\":{\"color\":\"rgb(183,183,191)\"},\"line\":{\"color\":\"white\"}},\"type\":\"table\"}]},\"layout\":{\"annotationdefaults\":{\"arrowcolor\":\"rgb(67,103,167)\"},\"autotypenumbers\":\"strict\",\"coloraxis\":{\"colorbar\":{\"outlinewidth\":0,\"tickcolor\":\"rgb(36,36,36)\",\"ticklen\":8,\"ticks\":\"outside\",\"tickwidth\":2}},\"colorscale\":{\"sequential\":[[0.0,\"rgb(2,4,25)\"],[0.06274509803921569,\"rgb(24,15,41)\"],[0.12549019607843137,\"rgb(47,23,57)\"],[0.18823529411764706,\"rgb(71,28,72)\"],[0.25098039215686274,\"rgb(97,30,82)\"],[0.3137254901960784,\"rgb(123,30,89)\"],[0.3764705882352941,\"rgb(150,27,91)\"],[0.4392156862745098,\"rgb(177,22,88)\"],[0.5019607843137255,\"rgb(203,26,79)\"],[0.5647058823529412,\"rgb(223,47,67)\"],[0.6274509803921569,\"rgb(236,76,61)\"],[0.6901960784313725,\"rgb(242,107,73)\"],[0.7529411764705882,\"rgb(244,135,95)\"],[0.8156862745098039,\"rgb(245,162,122)\"],[0.8784313725490196,\"rgb(246,188,153)\"],[0.9411764705882353,\"rgb(247,212,187)\"],[1.0,\"rgb(250,234,220)\"]],\"sequentialminus\":[[0.0,\"rgb(2,4,25)\"],[0.06274509803921569,\"rgb(24,15,41)\"],[0.12549019607843137,\"rgb(47,23,57)\"],[0.18823529411764706,\"rgb(71,28,72)\"],[0.25098039215686274,\"rgb(97,30,82)\"],[0.3137254901960784,\"rgb(123,30,89)\"],[0.3764705882352941,\"rgb(150,27,91)\"],[0.4392156862745098,\"rgb(177,22,88)\"],[0.5019607843137255,\"rgb(203,26,79)\"],[0.5647058823529412,\"rgb(223,47,67)\"],[0.6274509803921569,\"rgb(236,76,61)\"],[0.6901960784313725,\"rgb(242,107,73)\"],[0.7529411764705882,\"rgb(244,135,95)\"],[0.8156862745098039,\"rgb(245,162,122)\"],[0.8784313725490196,\"rgb(246,188,153)\"],[0.9411764705882353,\"rgb(247,212,187)\"],[1.0,\"rgb(250,234,220)\"]]},\"colorway\":[\"rgb(76,114,176)\",\"rgb(221,132,82)\",\"rgb(85,168,104)\",\"rgb(196,78,82)\",\"rgb(129,114,179)\",\"rgb(147,120,96)\",\"rgb(218,139,195)\",\"rgb(140,140,140)\",\"rgb(204,185,116)\",\"rgb(100,181,205)\"],\"font\":{\"color\":\"rgb(36,36,36)\"},\"geo\":{\"bgcolor\":\"white\",\"lakecolor\":\"white\",\"landcolor\":\"rgb(234,234,242)\",\"showlakes\":true,\"showland\":true,\"subunitcolor\":\"white\"},\"hoverlabel\":{\"align\":\"left\"},\"hovermode\":\"closest\",\"paper_bgcolor\":\"white\",\"plot_bgcolor\":\"rgb(234,234,242)\",\"polar\":{\"angularaxis\":{\"gridcolor\":\"white\",\"linecolor\":\"white\",\"showgrid\":true,\"ticks\":\"\"},\"bgcolor\":\"rgb(234,234,242)\",\"radialaxis\":{\"gridcolor\":\"white\",\"linecolor\":\"white\",\"showgrid\":true,\"ticks\":\"\"}},\"scene\":{\"xaxis\":{\"backgroundcolor\":\"rgb(234,234,242)\",\"gridcolor\":\"white\",\"gridwidth\":2,\"linecolor\":\"white\",\"showbackground\":true,\"showgrid\":true,\"ticks\":\"\",\"zerolinecolor\":\"white\"},\"yaxis\":{\"backgroundcolor\":\"rgb(234,234,242)\",\"gridcolor\":\"white\",\"gridwidth\":2,\"linecolor\":\"white\",\"showbackground\":true,\"showgrid\":true,\"ticks\":\"\",\"zerolinecolor\":\"white\"},\"zaxis\":{\"backgroundcolor\":\"rgb(234,234,242)\",\"gridcolor\":\"white\",\"gridwidth\":2,\"linecolor\":\"white\",\"showbackground\":true,\"showgrid\":true,\"ticks\":\"\",\"zerolinecolor\":\"white\"}},\"shapedefaults\":{\"fillcolor\":\"rgb(67,103,167)\",\"line\":{\"width\":0},\"opacity\":0.5},\"ternary\":{\"aaxis\":{\"gridcolor\":\"white\",\"linecolor\":\"white\",\"showgrid\":true,\"ticks\":\"\"},\"baxis\":{\"gridcolor\":\"white\",\"linecolor\":\"white\",\"showgrid\":true,\"ticks\":\"\"},\"bgcolor\":\"rgb(234,234,242)\",\"caxis\":{\"gridcolor\":\"white\",\"linecolor\":\"white\",\"showgrid\":true,\"ticks\":\"\"}},\"xaxis\":{\"automargin\":true,\"gridcolor\":\"white\",\"linecolor\":\"white\",\"showgrid\":true,\"ticks\":\"\",\"title\":{\"standoff\":15},\"zerolinecolor\":\"white\"},\"yaxis\":{\"automargin\":true,\"gridcolor\":\"white\",\"linecolor\":\"white\",\"showgrid\":true,\"ticks\":\"\",\"title\":{\"standoff\":15},\"zerolinecolor\":\"white\"}}},\"xaxis\":{\"anchor\":\"y\",\"domain\":[0.0,0.49],\"title\":{\"text\":\"Number of References\"}},\"yaxis\":{\"anchor\":\"x\",\"domain\":[0.0,1.0],\"title\":{\"text\":\"Fraction of Poses < 2\\u00c5 from Reference\"},\"range\":[-0.1,1.1]},\"xaxis2\":{\"anchor\":\"y2\",\"domain\":[0.51,1.0],\"matches\":\"x\",\"title\":{\"text\":\"Number of References\"}},\"yaxis2\":{\"anchor\":\"x2\",\"domain\":[0.0,1.0],\"matches\":\"y\",\"showticklabels\":false,\"title\":{\"text\":\"\"}},\"annotations\":[{\"font\":{},\"showarrow\":false,\"text\":\"All\",\"x\":0.245,\"xanchor\":\"center\",\"xref\":\"paper\",\"y\":1.0,\"yanchor\":\"bottom\",\"yref\":\"paper\"},{\"font\":{},\"showarrow\":false,\"text\":\"Hybrid-Only\",\"x\":0.755,\"xanchor\":\"center\",\"xref\":\"paper\",\"y\":1.0,\"yanchor\":\"bottom\",\"yref\":\"paper\"}],\"legend\":{\"title\":{\"text\":\"Structure_Split\"},\"tracegroupgap\":0},\"margin\":{\"t\":60},\"height\":400,\"width\":800},                        {\"responsive\": true}                    ).then(function(){\n",
       "                            \n",
       "var gd = document.getElementById('12b6d573-77c6-4f5b-a5bd-fc4f69f60ecf');\n",
       "var x = new MutationObserver(function (mutations, observer) {{\n",
       "        var display = window.getComputedStyle(gd).display;\n",
       "        if (!display || display === 'none') {{\n",
       "            console.log([gd, 'removed!']);\n",
       "            Plotly.purge(gd);\n",
       "            observer.disconnect();\n",
       "        }}\n",
       "}});\n",
       "\n",
       "// Listen for the removal of the full notebook cells\n",
       "var notebookContainer = gd.closest('#notebook-container');\n",
       "if (notebookContainer) {{\n",
       "    x.observe(notebookContainer, {childList: true});\n",
       "}}\n",
       "\n",
       "// Listen for the clearing of the current output cell\n",
       "var outputEl = gd.closest('.output');\n",
       "if (outputEl) {{\n",
       "    x.observe(outputEl, {childList: true});\n",
       "}}\n",
       "\n",
       "                        })                };                });            </script>        </div>"
      ]
     },
     "metadata": {},
     "output_type": "display_data"
    }
   ],
   "source": [
    "fig = scatter_wrapper(aggregated, \n",
    "                      dict(\n",
    "                          y=\"Fraction\", color=\"Structure_Split\", facet_col=\"Version\",\n",
    "                          color_discrete_sequence=px.colors.qualitative.Dark24,\n",
    "                          error_y=\"Max\", \n",
    "                          error_y_minus=\"Min\",\n",
    "                          template=\"seaborn\",\n",
    "                           **fraction_plot_kwargs,\n",
    "                           x=\"Number of References\", \n",
    "                          height=600,\n",
    "                          width=800\n",
    "                           # **single_plot_kwargs\n",
    "                      ),\n",
    "                     y_axis_title=frac_title,\n",
    "                     x_axis_title=\"Number of References\"\n",
    "                     )\n",
    "fig.for_each_yaxis(lambda y: y.update(title = ''))\n",
    "fig.update_layout(yaxis1=dict(title=frac_title), height=400, width=800)\n",
    "fig.show()\n",
    "fig.write_image(\"20231101_sasa_comparison.png\")"
   ]
  },
  {
   "cell_type": "code",
   "execution_count": null,
   "id": "015b5250-e8de-4856-bd07-3d4a5d40a12a",
   "metadata": {},
   "outputs": [],
   "source": []
  },
  {
   "cell_type": "code",
   "execution_count": null,
   "id": "c13ea583-3a30-4f60-83a5-3e249dc0444a",
   "metadata": {},
   "outputs": [],
   "source": []
  },
  {
   "cell_type": "code",
   "execution_count": null,
   "id": "32be384c-5816-464f-a7f1-bd398c423ca8",
   "metadata": {},
   "outputs": [],
   "source": []
  }
 ],
 "metadata": {
  "kernelspec": {
   "display_name": "Python 3 (ipykernel)",
   "language": "python",
   "name": "python3"
  },
  "language_info": {
   "codemirror_mode": {
    "name": "ipython",
    "version": 3
   },
   "file_extension": ".py",
   "mimetype": "text/x-python",
   "name": "python",
   "nbconvert_exporter": "python",
   "pygments_lexer": "ipython3",
   "version": "3.9.16"
  }
 },
 "nbformat": 4,
 "nbformat_minor": 5
}
