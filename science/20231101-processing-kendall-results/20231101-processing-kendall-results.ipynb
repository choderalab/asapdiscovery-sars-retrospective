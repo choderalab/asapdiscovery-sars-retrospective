{
 "cells": [
  {
   "cell_type": "markdown",
   "id": "f88160f2-e5de-4806-b9e1-8ef48e10ea9d",
   "metadata": {},
   "source": [
    "# Import "
   ]
  },
  {
   "cell_type": "code",
   "execution_count": null,
   "id": "6e886351-d7b0-4a77-b200-879bd0b47313",
   "metadata": {
    "tags": []
   },
   "outputs": [],
   "source": [
    "import pandas as pd\n",
    "from pathlib import Path\n",
    "import numpy as np\n",
    "import plotly.express as px\n",
    "from plotly.graph_objs import Figure\n",
    "from importlib import reload\n",
    "import software.analysis as a\n",
    "reload(a)"
   ]
  },
  {
   "cell_type": "markdown",
   "id": "0117792c-539c-4a44-9a69-3c0033aff245",
   "metadata": {},
   "source": [
    "# Load CSVs"
   ]
  },
  {
   "cell_type": "code",
   "execution_count": null,
   "id": "6d16f279-0fe7-4f72-991e-e64aa88f5952",
   "metadata": {
    "tags": []
   },
   "outputs": [],
   "source": [
    "active_site_torsions = pd.read_csv(\"/Users/alexpayne/Scientific_Projects/mers-drug-discovery/sars2-retrospective-analysis/torsion_actst.csv\")"
   ]
  },
  {
   "cell_type": "code",
   "execution_count": null,
   "id": "7ec64bdf-aefe-445c-829b-7f8a8e4b8162",
   "metadata": {
    "tags": []
   },
   "outputs": [],
   "source": [
    "active_site_sasa = pd.read_csv(\"/Users/alexpayne/Scientific_Projects/mers-drug-discovery/sars2-retrospective-analysis/summation_matrix(1).csv\")"
   ]
  },
  {
   "cell_type": "code",
   "execution_count": null,
   "id": "19de4ac0-ff2e-48a9-9836-79b8db074b46",
   "metadata": {
    "tags": []
   },
   "outputs": [],
   "source": [
    "active_site_sasa.iloc[4,0]"
   ]
  },
  {
   "cell_type": "code",
   "execution_count": null,
   "id": "164aa86e-d239-42a2-a916-c63a8716ed04",
   "metadata": {
    "tags": []
   },
   "outputs": [],
   "source": [
    "active_site_sasa.iloc[0, :]"
   ]
  },
  {
   "cell_type": "code",
   "execution_count": null,
   "id": "eda91a79-d908-4c91-9baf-5172690ed4d3",
   "metadata": {
    "tags": []
   },
   "outputs": [],
   "source": [
    "full_sasa = pd.read_csv(\"/Users/alexpayne/Scientific_Projects/mers-drug-discovery/sars2-retrospective-analysis/sasa_data.csv\")"
   ]
  },
  {
   "cell_type": "code",
   "execution_count": null,
   "id": "547e030b-b55d-4c0e-a244-a3ef6c5f88e5",
   "metadata": {
    "tags": []
   },
   "outputs": [],
   "source": [
    "full_sasa.sum(numeric_only=True, axis=1)"
   ]
  },
  {
   "cell_type": "code",
   "execution_count": null,
   "id": "d19e69b5-b314-45bc-9e00-373f080ef6ba",
   "metadata": {
    "tags": []
   },
   "outputs": [],
   "source": [
    "sasa_v2 = pd.read_csv(\"/Users/alexpayne/Scientific_Projects/mers-drug-discovery/sars2-retrospective-analysis/summation_matrix(2).csv\")\n",
    "sasa_v2[\"Structure_Source\"] = sasa_v2.Complex_File.apply(lambda x: Path(x).name.split(\"-prepped\")[0].split(\"_0\")[0])\n",
    "sasa_v2_edited = sasa_v2.drop(columns=[\"Complex_File\"])\n",
    "sasa_v2_edited.columns = [\"SASA (nm^2)\", \"Structure_Name\"]\n",
    "sasa_v2_edited"
   ]
  },
  {
   "cell_type": "markdown",
   "id": "69b7a9cc-b4cc-4723-bd66-3bfe33f40032",
   "metadata": {},
   "source": [
    "## load docking results"
   ]
  },
  {
   "cell_type": "code",
   "execution_count": null,
   "id": "b4d4d556-33ff-4f61-824e-7308e0a3466a",
   "metadata": {
    "tags": []
   },
   "outputs": [],
   "source": [
    "df = pd.read_csv(\"/Users/alexpayne/Scientific_Projects/mers-drug-discovery/sars2-retrospective-analysis/20230611-combined.csv\", index_col=0)"
   ]
  },
  {
   "cell_type": "code",
   "execution_count": null,
   "id": "e09e996a-5e16-4e74-9e94-c9156489f563",
   "metadata": {
    "tags": []
   },
   "outputs": [],
   "source": [
    "df.Structure_Name"
   ]
  },
  {
   "cell_type": "code",
   "execution_count": null,
   "id": "7a743fdb-0d99-4f7e-8f1f-f34abb2ddcf4",
   "metadata": {
    "tags": []
   },
   "outputs": [],
   "source": [
    "df_sasa = pd.merge(df, sasa_v2_edited, on=\"Structure_Name\", how=\"outer\")"
   ]
  },
  {
   "cell_type": "code",
   "execution_count": null,
   "id": "2f6ec313-1b0d-4282-aaeb-a23bcf93926f",
   "metadata": {
    "tags": []
   },
   "outputs": [],
   "source": [
    "df=df_sasa"
   ]
  },
  {
   "cell_type": "markdown",
   "id": "c0e4f49d-1e13-483d-8b08-ac0921fa7470",
   "metadata": {
    "tags": []
   },
   "source": [
    "## Add reverse TC score so that it can be ranked ascending"
   ]
  },
  {
   "cell_type": "code",
   "execution_count": null,
   "id": "d36c6f10-ebda-4e8b-a32a-79224ac555b1",
   "metadata": {
    "tags": []
   },
   "outputs": [],
   "source": [
    "df[\"TanimotoCombo_R\"] = 2-df.TanimotoCombo"
   ]
  },
  {
   "cell_type": "markdown",
   "id": "e74fc80e-025e-4464-9586-da9ec9474c40",
   "metadata": {},
   "source": [
    "# Overall Analysis"
   ]
  },
  {
   "cell_type": "code",
   "execution_count": null,
   "id": "f0e64cbd-625b-4ce0-9ee5-196928fc093c",
   "metadata": {
    "tags": []
   },
   "outputs": [],
   "source": [
    "df.groupby(\"Version\").nunique()[[\"Complex_ID\", \"Compound_ID\", \"Structure_Source\"]]"
   ]
  },
  {
   "cell_type": "markdown",
   "id": "75513c74-869c-4475-8a14-067738915af3",
   "metadata": {},
   "source": [
    "# Drop self docking results and results with diff compounds"
   ]
  },
  {
   "cell_type": "markdown",
   "id": "fa0c28a6-bedd-4105-9269-d8bb8fadc52b",
   "metadata": {},
   "source": [
    "# filter by hybrid-only ones"
   ]
  },
  {
   "cell_type": "code",
   "execution_count": null,
   "id": "c4fea02f-e629-4ded-a1ab-4354391c43c5",
   "metadata": {
    "tags": []
   },
   "outputs": [],
   "source": [
    "cmpds = df[df[\"Version\"] == \"Hybrid-Only\"].Compound_ID.unique()"
   ]
  },
  {
   "cell_type": "code",
   "execution_count": null,
   "id": "b44d1b56-65ee-4a4c-9836-09bc97c6213b",
   "metadata": {
    "tags": []
   },
   "outputs": [],
   "source": [
    "clean = df[df.Compound_ID.isin(cmpds)]"
   ]
  },
  {
   "cell_type": "code",
   "execution_count": null,
   "id": "7a3ad445-266e-432f-98e7-1d45c23d56a3",
   "metadata": {
    "tags": []
   },
   "outputs": [],
   "source": [
    "structures = clean[clean[\"Version\"] == \"Hybrid-Only\"].Structure_Source.unique()"
   ]
  },
  {
   "cell_type": "code",
   "execution_count": null,
   "id": "f66b085a-68c9-4698-b193-619e2db001e3",
   "metadata": {
    "tags": []
   },
   "outputs": [],
   "source": [
    "clean = clean[clean.Structure_Source.isin(structures)]"
   ]
  },
  {
   "cell_type": "markdown",
   "id": "5581cf14-a5f6-4058-b83f-c60c33f46616",
   "metadata": {},
   "source": [
    "## remove self-docked"
   ]
  },
  {
   "cell_type": "code",
   "execution_count": null,
   "id": "ad8cfb91-a944-42f7-9953-055923cfb9ab",
   "metadata": {
    "tags": []
   },
   "outputs": [],
   "source": [
    "clean = clean[clean.Compound_ID != clean.Reference_Ligand]"
   ]
  },
  {
   "cell_type": "code",
   "execution_count": null,
   "id": "2d191982-20b1-446a-98d1-30b8bdf47b98",
   "metadata": {
    "tags": []
   },
   "outputs": [],
   "source": [
    "clean.groupby(\"Version\").nunique()"
   ]
  },
  {
   "cell_type": "markdown",
   "id": "13c58477-8b86-47f0-ab85-0ba8187432b3",
   "metadata": {},
   "source": [
    "## remove failed hybrid-only ones"
   ]
  },
  {
   "cell_type": "code",
   "execution_count": null,
   "id": "3a8f8b46-5fc2-4a2b-9442-2a93b0dcfda6",
   "metadata": {
    "tags": []
   },
   "outputs": [],
   "source": [
    "ref_ligs = clean[clean[\"Version\"] == \"Hybrid-Only\"].Reference_Ligand.unique()"
   ]
  },
  {
   "cell_type": "code",
   "execution_count": null,
   "id": "03118488-87aa-41e4-8650-7137258fa247",
   "metadata": {
    "tags": []
   },
   "outputs": [],
   "source": [
    "len(np.intersect1d(ref_ligs, cmpds))"
   ]
  },
  {
   "cell_type": "code",
   "execution_count": null,
   "id": "910ac499-bba7-4063-b06f-4f70ba2f3e5d",
   "metadata": {
    "tags": []
   },
   "outputs": [],
   "source": [
    "n_successfully_docked =clean.groupby(\"Compound_ID\").nunique().Docked_File"
   ]
  },
  {
   "cell_type": "code",
   "execution_count": null,
   "id": "aac1e90d-169b-4093-9860-0d3753288d2b",
   "metadata": {
    "tags": []
   },
   "outputs": [],
   "source": [
    "px.histogram(n_successfully_docked / 2)"
   ]
  },
  {
   "cell_type": "code",
   "execution_count": null,
   "id": "636ada90-bace-49ff-a47f-6d93adbb9557",
   "metadata": {
    "tags": []
   },
   "outputs": [],
   "source": [
    "n_successfully_docked[n_successfully_docked < 308]"
   ]
  },
  {
   "cell_type": "code",
   "execution_count": null,
   "id": "78bddfb2-a031-42b6-b9bc-c4405e01bd36",
   "metadata": {
    "tags": []
   },
   "outputs": [],
   "source": [
    "clean[clean.Compound_ID == \"ALP-POS-ecbed2ba-12\"].groupby(\"Version\").nunique()"
   ]
  },
  {
   "cell_type": "code",
   "execution_count": null,
   "id": "9bbd706d-df70-4d23-99ea-14d602a56b35",
   "metadata": {
    "tags": []
   },
   "outputs": [],
   "source": [
    "minimal_success = clean[(clean.Compound_ID == \"ALP-POS-ecbed2ba-12\") & (clean.Version == \"Hybrid-Only\")].Reference_Ligand.unique()"
   ]
  },
  {
   "cell_type": "code",
   "execution_count": null,
   "id": "80850b0d-0559-40e4-a759-10cfe96400e5",
   "metadata": {
    "tags": []
   },
   "outputs": [],
   "source": [
    "superclean = clean[clean.Compound_ID.isin(minimal_success)]\n",
    "superclean = superclean[superclean.Reference_Ligand.isin(minimal_success)]"
   ]
  },
  {
   "cell_type": "code",
   "execution_count": null,
   "id": "eb591020-68cd-4522-8638-4d2694c3b847",
   "metadata": {
    "tags": []
   },
   "outputs": [],
   "source": [
    "n_successfully_docked_superclean = superclean.groupby(\"Compound_ID\").nunique().Docked_File"
   ]
  },
  {
   "cell_type": "code",
   "execution_count": null,
   "id": "6b88ca08-bd03-462c-8d4d-8ee06c3d7e88",
   "metadata": {
    "tags": []
   },
   "outputs": [],
   "source": [
    "px.histogram(n_successfully_docked_superclean / 2)"
   ]
  },
  {
   "cell_type": "code",
   "execution_count": null,
   "id": "af68662f-0f42-4eaa-a8cc-987c6c9eace5",
   "metadata": {
    "tags": []
   },
   "outputs": [],
   "source": [
    "minimal_success = superclean[(superclean.Compound_ID == \"MAT-POS-5cd9ea36-16\") & (superclean.Version == \"Hybrid-Only\")].Reference_Ligand.unique()"
   ]
  },
  {
   "cell_type": "code",
   "execution_count": null,
   "id": "317a18a8-a0f4-4e46-8a8f-7669eb912762",
   "metadata": {
    "tags": []
   },
   "outputs": [],
   "source": [
    "superclean = superclean[superclean.Compound_ID.isin(minimal_success)]\n",
    "superclean = superclean[superclean.Reference_Ligand.isin(minimal_success)]"
   ]
  },
  {
   "cell_type": "code",
   "execution_count": null,
   "id": "3ea52985-8280-4e5a-9863-f1f8093ec544",
   "metadata": {
    "tags": []
   },
   "outputs": [],
   "source": [
    "n_successfully_docked_superclean = superclean.groupby(\"Compound_ID\").nunique().Docked_File"
   ]
  },
  {
   "cell_type": "code",
   "execution_count": null,
   "id": "614484c3-be7b-4a0a-b132-077d9fac8858",
   "metadata": {
    "tags": []
   },
   "outputs": [],
   "source": [
    "px.histogram(n_successfully_docked_superclean / 2)"
   ]
  },
  {
   "cell_type": "code",
   "execution_count": null,
   "id": "7bacd14a-82cc-4e50-9257-8f025129fdd3",
   "metadata": {
    "tags": []
   },
   "outputs": [],
   "source": [
    "superclean.groupby(\"Compound_ID\").nunique().sort_values(\"Docked_File\")"
   ]
  },
  {
   "cell_type": "code",
   "execution_count": null,
   "id": "f2972a6f-c7b7-40de-8a5f-3694ef7018c9",
   "metadata": {
    "tags": []
   },
   "outputs": [],
   "source": [
    "minimal_success = superclean[(superclean.Compound_ID == \"MAT-POS-5cd9ea36-13\") & (superclean.Version == \"Hybrid-Only\")].Reference_Ligand.unique()"
   ]
  },
  {
   "cell_type": "code",
   "execution_count": null,
   "id": "ddadb338-945c-4fea-a310-b9a51c7300d1",
   "metadata": {
    "tags": []
   },
   "outputs": [],
   "source": [
    "superclean = superclean[superclean.Compound_ID.isin(minimal_success)]\n",
    "superclean = superclean[superclean.Reference_Ligand.isin(minimal_success)]"
   ]
  },
  {
   "cell_type": "code",
   "execution_count": null,
   "id": "2626189d-fbdb-4c6d-973e-37ed01372715",
   "metadata": {
    "tags": []
   },
   "outputs": [],
   "source": [
    "n_successfully_docked_superclean = superclean.groupby(\"Compound_ID\").nunique().Docked_File"
   ]
  },
  {
   "cell_type": "code",
   "execution_count": null,
   "id": "7911a98e-2eee-4dca-8612-7aaaf19874ae",
   "metadata": {
    "tags": []
   },
   "outputs": [],
   "source": [
    "px.histogram(n_successfully_docked_superclean / 2)"
   ]
  },
  {
   "cell_type": "code",
   "execution_count": null,
   "id": "d4c31b1e-3166-44cb-9cae-6caa7a86e3da",
   "metadata": {
    "tags": []
   },
   "outputs": [],
   "source": [
    "#clean = clean[clean.Complex_ID.isin(complexes)]"
   ]
  },
  {
   "cell_type": "code",
   "execution_count": null,
   "id": "ee94b857-0869-453f-a65f-e4b67c86efe2",
   "metadata": {
    "tags": []
   },
   "outputs": [],
   "source": [
    "#clean.groupby(\"Version\").nunique()[[\"Complex_ID\", \"Compound_ID\", \"Structure_Source\"]]"
   ]
  },
  {
   "cell_type": "code",
   "execution_count": null,
   "id": "9a0cfac7-43a0-411a-8be6-09081dcde038",
   "metadata": {
    "tags": []
   },
   "outputs": [],
   "source": [
    "clean_all = clean[clean.Version == \"All\"]"
   ]
  },
  {
   "cell_type": "code",
   "execution_count": null,
   "id": "c0d27507-b35c-4bf2-8b06-5f4fb8494ade",
   "metadata": {
    "tags": []
   },
   "outputs": [],
   "source": [
    "clean_all.groupby(\"Version\").nunique()[[\"Complex_ID\", \"Compound_ID\", \"Structure_Source\"]]"
   ]
  },
  {
   "cell_type": "markdown",
   "id": "b46f39d2-47da-412b-a36c-16636f679966",
   "metadata": {},
   "source": [
    "## Variables"
   ]
  },
  {
   "cell_type": "code",
   "execution_count": null,
   "id": "20b3a7a9-735c-494c-8e1d-8a495a4414d9",
   "metadata": {
    "tags": []
   },
   "outputs": [],
   "source": [
    "tc = \"TanimotoCombo\"\n",
    "tc_title = \"TanimotoCombo Cutoff for Inclusion of Reference Structures\"\n",
    "tcr = \"TanimotoCombo_R\"\n",
    "y=\"Fraction\"\n",
    "posit_r = \"POSIT_R\"\n",
    "posit_method=\"POSIT_Method\"\n",
    "color=\"Version\"\n",
    "id_col=\"Compound_ID\"\n",
    "rmsd=\"RMSD\"\n",
    "method_split=[posit_method]\n",
    "n=1\n",
    "good=2\n",
    "tc_cutoffs = np.linspace(0,2,50)\n",
    "tcr_cutoffs = np.linspace(2,0,50)\n",
    "sort_cols = [rmsd, posit_r, \"Chemgauss4\", tcr]\n",
    "dates = df.Structure_Date.unique()\n",
    "date_col = \"Structure_Date\"\n",
    "date_title = \"Date for Inclusion of Reference Structures\"\n",
    "reference_col = \"Structure_Source\"\n",
    "split_cols=[\"Version\"]\n",
    "sort_col_name=\"Sorted_By\"\n",
    "full_split_cols=[\"Version\", posit_method]\n",
    "split_column_sets={\"General\":split_cols, \"Detailed\":full_split_cols}\n",
    "general_split_cols = {\"General\":split_cols}\n",
    "detailed_split_cols = {\"Detailed\":full_split_cols}\n",
    "frac_title=f\"Fraction of Poses < {good}Å from Reference\""
   ]
  },
  {
   "cell_type": "markdown",
   "id": "7fd23315-08d4-4f20-bee7-8356a142a0c0",
   "metadata": {},
   "source": [
    "## Calculation Functions"
   ]
  },
  {
   "cell_type": "markdown",
   "id": "cfdfdc4e-3878-4950-8691-1cf74ec7834e",
   "metadata": {
    "tags": []
   },
   "source": [
    "## Plotting Functions"
   ]
  },
  {
   "cell_type": "markdown",
   "id": "35c3ee80-ca50-4970-a197-80b364a4b278",
   "metadata": {},
   "source": [
    "### plot kwargs"
   ]
  },
  {
   "cell_type": "code",
   "execution_count": null,
   "id": "f23d6a0f-c4e4-4a5f-880a-3819e65d8911",
   "metadata": {
    "tags": []
   },
   "outputs": [],
   "source": [
    "df.Version.unique()"
   ]
  },
  {
   "cell_type": "code",
   "execution_count": null,
   "id": "35f868a6-4163-4999-abe0-d8fd426efee1",
   "metadata": {
    "tags": []
   },
   "outputs": [],
   "source": [
    "df.POSIT_Method.unique()"
   ]
  },
  {
   "cell_type": "code",
   "execution_count": null,
   "id": "dc386378-78c5-4736-a5bf-9ee51bfe03d2",
   "metadata": {
    "tags": []
   },
   "outputs": [],
   "source": [
    "# this doesn't actually work\n",
    "full_versions = [(\"All\", method) for method in df.POSIT_Method.unique()] + [(\"Hybrid-Only\", \"HYBRID\")]\n",
    "full_version_labels = [f\"{version}: {method}\" for version, method in full_versions]\n",
    "full_version_label_dict = {og: label for og, label in zip(full_versions, full_version_labels)}"
   ]
  },
  {
   "cell_type": "code",
   "execution_count": null,
   "id": "ffcc2535-71c9-43aa-a9f1-b0bac289ac43",
   "metadata": {
    "tags": []
   },
   "outputs": [],
   "source": [
    "basic_plot_kwargs = dict(color=color, \n",
    "                         )"
   ]
  },
  {
   "cell_type": "code",
   "execution_count": null,
   "id": "3cfbf2f1-3a36-4fd3-af27-e94c8edbfa27",
   "metadata": {
    "tags": []
   },
   "outputs": [],
   "source": [
    "big_plot_kwargs = dict(facet_col=sort_col_name,\n",
    "                         facet_row=\"Split\", \n",
    "                         height=600, \n",
    "                         width=1200, )"
   ]
  },
  {
   "cell_type": "code",
   "execution_count": null,
   "id": "ea3af16a-a7bc-465e-b871-0d9196cf43ca",
   "metadata": {
    "tags": []
   },
   "outputs": [],
   "source": [
    "single_plot_kwargs = dict(height=400, width=600)"
   ]
  },
  {
   "cell_type": "code",
   "execution_count": null,
   "id": "012b99bc-815a-4f19-ad2d-66fd3af89b6d",
   "metadata": {
    "tags": []
   },
   "outputs": [],
   "source": [
    "tc_plot_kwargs = dict(x=tc,  \n",
    "                      labels={tc: tc_title},\n",
    "                     range_x=[-0.1,2.1],)"
   ]
  },
  {
   "cell_type": "code",
   "execution_count": null,
   "id": "a190f2cc-6262-4680-bb73-08b8d17d3394",
   "metadata": {
    "tags": []
   },
   "outputs": [],
   "source": [
    "date_plot_kwargs = dict(x=date_col,\n",
    "                        labels={date_col:date_title},\n",
    "                       )"
   ]
  },
  {
   "cell_type": "code",
   "execution_count": null,
   "id": "e30bd49a-75c6-4d6e-9485-ef2e12dae614",
   "metadata": {
    "tags": []
   },
   "outputs": [],
   "source": [
    "fraction_plot_kwargs = dict(range_y=[-0.1,1.1])"
   ]
  },
  {
   "cell_type": "code",
   "execution_count": null,
   "id": "19aab13b-40fd-4571-94f1-6e81952aa28a",
   "metadata": {
    "tags": []
   },
   "outputs": [],
   "source": [
    "stats_kwargs = dict(y=\"Value\", error_y=\"STD\")"
   ]
  },
  {
   "cell_type": "code",
   "execution_count": null,
   "id": "bc90ce7f-6bd5-43b5-aa2a-2c7eee42a6d3",
   "metadata": {
    "tags": []
   },
   "outputs": [],
   "source": [
    "def combine_labels_kwargs(list_of_kwargs):\n",
    "    new_dict = {}\n",
    "    for kwargs in list_of_kwargs:\n",
    "        for k,v in kwargs.items():\n",
    "            if k in new_dict.keys():\n",
    "                if isinstance(v, dict):\n",
    "                    for ik, iv in v.items():\n",
    "                        new_dict[k][ik] = iv\n",
    "                else:\n",
    "                    raise NotImplementedError(f\"combining these kwargs will not work due to repeated use of {k}\")\n",
    "            else:\n",
    "                new_dict[k] = v\n",
    "    return new_dict\n",
    "    "
   ]
  },
  {
   "cell_type": "code",
   "execution_count": null,
   "id": "cc1ef7b8-2fb7-44a0-9d66-c225f74ce975",
   "metadata": {
    "tags": []
   },
   "outputs": [],
   "source": [
    "combine_labels_kwargs([big_plot_kwargs, tc_plot_kwargs])"
   ]
  },
  {
   "cell_type": "code",
   "execution_count": null,
   "id": "2ec6599f-99d1-4c3b-a496-538b3c2a8a92",
   "metadata": {
    "tags": []
   },
   "outputs": [],
   "source": [
    "general_posit_kwargs = {sort_col_name: posit_r, \"Split\":\"General\"}"
   ]
  },
  {
   "cell_type": "markdown",
   "id": "34ba84b3-63e7-45c3-843f-6473471cfc82",
   "metadata": {},
   "source": [
    "### cleanup functions"
   ]
  },
  {
   "cell_type": "code",
   "execution_count": null,
   "id": "8f9a16ef-2c50-49b9-ab5e-1432bf97613b",
   "metadata": {
    "tags": []
   },
   "outputs": [],
   "source": [
    "def replace_xaxis_labels(fig: Figure, axis_title):\n",
    "    fig.for_each_xaxis(lambda x: x.update(title = ''))\n",
    "    fig.add_annotation(x=0.5,y=-0.15,\n",
    "                   text=axis_title, textangle=0,\n",
    "                       font=dict(size=16),\n",
    "                    xref=\"paper\", yref=\"paper\",\n",
    "            showarrow=False,)\n",
    "    return fig"
   ]
  },
  {
   "cell_type": "code",
   "execution_count": null,
   "id": "d3caa91b-6bf7-4650-82cf-cb0d46becc60",
   "metadata": {
    "tags": []
   },
   "outputs": [],
   "source": [
    "def replace_yaxis_labels(fig: Figure, axis_title):\n",
    "    fig.for_each_yaxis(lambda y: y.update(title = ''))\n",
    "    fig.add_annotation(x=-0.05,y=0.5,\n",
    "                   text=axis_title, textangle=-90,\n",
    "                       font=dict(size=16),\n",
    "                    xref=\"paper\", yref=\"paper\",\n",
    "            showarrow=False,)\n",
    "    return fig"
   ]
  },
  {
   "cell_type": "code",
   "execution_count": null,
   "id": "62361e7f-2eb5-470b-94b4-2d5f7af0e9ec",
   "metadata": {
    "tags": []
   },
   "outputs": [],
   "source": [
    "def clean_labels(fig):\n",
    "    fig.for_each_annotation(lambda a: a.update(text=a.text.split(\"=\")[-1]))\n",
    "    return fig"
   ]
  },
  {
   "cell_type": "markdown",
   "id": "8f025501-4324-4b2c-a353-9de60cbc7d2c",
   "metadata": {},
   "source": [
    "### scatterplot wrapper"
   ]
  },
  {
   "cell_type": "code",
   "execution_count": null,
   "id": "a40e6b82-e860-48a9-aa63-3ec44c25d174",
   "metadata": {
    "tags": []
   },
   "outputs": [],
   "source": [
    "def scatter_wrapper(df, kwarg_dict, \n",
    "                    x_axis_title=None, \n",
    "                    y_axis_title=None, \n",
    "                    replace_xaxis=False,\n",
    "                    replace_y_axis=False,\n",
    "                    clean=True,\n",
    "                    x_axis_reversed=False\n",
    "                   ):\n",
    "    fig:Figure = px.scatter(df, **kwarg_dict, hover_data=df.columns)\n",
    "    if x_axis_title:\n",
    "        if replace_xaxis:\n",
    "            fig = replace_xaxis_labels(fig, x_axis_title)\n",
    "        else:\n",
    "            fig.update_xaxes(title=x_axis_title)\n",
    "    \n",
    "    if y_axis_title:\n",
    "        if replace_y_axis:\n",
    "            fig = replace_yaxis_labels(fig, y_axis_title)\n",
    "        else:\n",
    "            fig.update_yaxes(title=y_axis_title)\n",
    "    \n",
    "    if clean:\n",
    "        fig = clean_labels(fig)\n",
    "    if x_axis_reversed:\n",
    "        fig.update_xaxes(autorange=\"reversed\")\n",
    "    return fig"
   ]
  },
  {
   "cell_type": "markdown",
   "id": "5ec319f9-e988-42d7-9cb6-d0b19f972eee",
   "metadata": {},
   "source": [
    "### splify df"
   ]
  },
  {
   "cell_type": "code",
   "execution_count": null,
   "id": "a4538940-df6d-4c80-9f95-3b570a604ba7",
   "metadata": {
    "tags": []
   },
   "outputs": [],
   "source": [
    "def simplify_df(df, condition_dict):\n",
    "    new_df = df.copy()\n",
    "    for column, value in condition_dict.items():\n",
    "        new_df = new_df[new_df[column] == value]\n",
    "    return new_df"
   ]
  },
  {
   "cell_type": "markdown",
   "id": "ec851812-6a3f-4419-b0d7-7767026fcc5b",
   "metadata": {},
   "source": [
    "# Add new analysis"
   ]
  },
  {
   "cell_type": "code",
   "execution_count": null,
   "id": "d3acf12c-ec77-4133-b8a8-d50d303ddb12",
   "metadata": {},
   "outputs": [],
   "source": []
  },
  {
   "cell_type": "code",
   "execution_count": null,
   "id": "f73c1454-d84f-4c69-b6b5-970d3c1b9f68",
   "metadata": {
    "tags": []
   },
   "outputs": [],
   "source": [
    "reload(a)\n",
    "random_stats = a.calculate_rmsd_stats(clean, query_mol_id=\"Compound_ID\", reference_selection=\"random\", ref_structure_stride=10, score_column=\"POSIT_R\", group_by=[\"Version\"], n_bootstraps=100)\n",
    "date_stats = a.calculate_rmsd_stats(clean, query_mol_id=\"Compound_ID\", reference_selection=\"Structure_Date\", ref_structure_stride=10, score_column=\"POSIT_R\", group_by=[\"Version\"], n_bootstraps=100)"
   ]
  },
  {
   "cell_type": "code",
   "execution_count": null,
   "id": "260165a8-292b-4cd3-a97b-066ee7625f3c",
   "metadata": {
    "tags": []
   },
   "outputs": [],
   "source": [
    "tc_stats = a.calculate_rmsd_stats(clean, query_mol_id=\"Compound_ID\", reference_selection=\"TanimotoCombo_R\", ref_structure_stride=10, score_column=\"POSIT_R\", group_by=[\"Version\"], n_bootstraps=100)"
   ]
  },
  {
   "cell_type": "code",
   "execution_count": null,
   "id": "34091677-7e58-4a33-bc8b-2a96c7a02bbd",
   "metadata": {
    "tags": []
   },
   "outputs": [],
   "source": [
    "tcr_stats = a.calculate_rmsd_stats(clean, query_mol_id=\"Compound_ID\", reference_selection=\"TanimotoCombo\", ref_structure_stride=10, score_column=\"POSIT_R\", group_by=[\"Version\"], n_bootstraps=100)"
   ]
  },
  {
   "cell_type": "code",
   "execution_count": null,
   "id": "fc33e5c3-3fad-418f-992d-9c55d3940065",
   "metadata": {
    "tags": []
   },
   "outputs": [],
   "source": [
    "sasa_stats = a.calculate_rmsd_stats(clean, query_mol_id=\"Compound_ID\", reference_selection=\"SASA (nm^2)\", ref_structure_stride=10, score_column=\"POSIT_R\", group_by=[\"Version\"], n_bootstraps=100)"
   ]
  },
  {
   "cell_type": "code",
   "execution_count": null,
   "id": "b1a41a2f-47f6-4c9d-9c5c-c0befb8aaf58",
   "metadata": {
    "tags": []
   },
   "outputs": [],
   "source": [
    "clean[\"SASA_R\"] = 0 - clean[\"SASA (nm^2)\"]"
   ]
  },
  {
   "cell_type": "code",
   "execution_count": null,
   "id": "bfa4699b-a17f-4e09-95cb-2a9e045289da",
   "metadata": {
    "tags": []
   },
   "outputs": [],
   "source": [
    "sasa_r_stats = a.calculate_rmsd_stats(clean, query_mol_id=\"Compound_ID\", reference_selection=\"SASA_R\", ref_structure_stride=10, score_column=\"POSIT_R\", group_by=[\"Version\"], n_bootstraps=100)"
   ]
  },
  {
   "cell_type": "code",
   "execution_count": null,
   "id": "a34e0759-a89b-4561-8db7-2a120feac822",
   "metadata": {
    "tags": []
   },
   "outputs": [],
   "source": [
    "all_stats = pd.concat([random_stats, date_stats, tc_stats, tcr_stats, sasa_stats, sasa_r_stats])"
   ]
  },
  {
   "cell_type": "code",
   "execution_count": null,
   "id": "ead1519b-1d91-46cc-b064-f0187d3ff330",
   "metadata": {
    "tags": []
   },
   "outputs": [],
   "source": [
    "tc_stats_1 = a.calculate_rmsd_stats(clean, query_mol_id=\"Compound_ID\", reference_selection=\"TanimotoCombo_R\", ref_structure_stride=10, score_column=\"POSIT_R\", group_by=[\"Version\"], n_bootstraps=1)"
   ]
  },
  {
   "cell_type": "code",
   "execution_count": null,
   "id": "f63053bf-ccab-4eec-a4fe-7a3317098596",
   "metadata": {
    "tags": []
   },
   "outputs": [],
   "source": [
    "clean.sort_values(\"TanimotoCombo_R\").groupby([\"Compound_ID\", \"Version\"]).head(11).max()"
   ]
  },
  {
   "cell_type": "code",
   "execution_count": null,
   "id": "884037d9-3011-42c9-8140-4e21d964fcb8",
   "metadata": {},
   "outputs": [],
   "source": []
  },
  {
   "cell_type": "code",
   "execution_count": null,
   "id": "83e83fce-9d4c-4999-9aa2-0d626e079448",
   "metadata": {
    "tags": []
   },
   "outputs": [],
   "source": [
    "aggregated = all_stats.groupby([\"Version\", \"Number of References\", \"Structure_Split\", \"Split_Value_min\", \"Split_Value_max\"]).mean().reset_index()\n",
    "aggregated[\"Max\"] = all_stats.groupby([\"Version\", \"Number of References\", \"Structure_Split\"]).quantile(0.975).reset_index()[\"Fraction\"] - aggregated[\"Fraction\"]\n",
    "aggregated[\"Min\"] = aggregated[\"Fraction\"] - all_stats.groupby([\"Version\", \"Number of References\", \"Structure_Split\"]).quantile(0.025).reset_index()[\"Fraction\"]"
   ]
  },
  {
   "cell_type": "code",
   "execution_count": null,
   "id": "643081ee-a8d5-42a8-a2fc-4308d96e5bb1",
   "metadata": {
    "tags": []
   },
   "outputs": [],
   "source": [
    "aggregated"
   ]
  },
  {
   "cell_type": "code",
   "execution_count": null,
   "id": "f0b499f7-995c-41e7-a187-75e95ad6e653",
   "metadata": {
    "tags": []
   },
   "outputs": [],
   "source": [
    "fig = scatter_wrapper(aggregated, \n",
    "                      dict(\n",
    "                          y=\"Fraction\", color=\"Structure_Split\", facet_col=\"Version\",\n",
    "                          color_discrete_sequence=px.colors.qualitative.Dark24,\n",
    "                          error_y=\"Max\", \n",
    "                          error_y_minus=\"Min\",\n",
    "                          template=\"seaborn\",\n",
    "                           **fraction_plot_kwargs,\n",
    "                           x=\"Number of References\", \n",
    "                          height=600,\n",
    "                          width=800\n",
    "                           # **single_plot_kwargs\n",
    "                      ),\n",
    "                     y_axis_title=frac_title,\n",
    "                     x_axis_title=\"Number of References\"\n",
    "                     )\n",
    "fig.for_each_yaxis(lambda y: y.update(title = ''))\n",
    "fig.update_layout(yaxis1=dict(title=frac_title), height=400, width=800)\n",
    "fig.show()\n",
    "fig.write_image(\"20231101_sasa_comparison.png\")"
   ]
  },
  {
   "cell_type": "code",
   "execution_count": null,
   "id": "3ff83ee5-dadb-45bb-988b-5e883800e953",
   "metadata": {
    "tags": []
   },
   "outputs": [],
   "source": [
    "aggregated"
   ]
  },
  {
   "cell_type": "code",
   "execution_count": null,
   "id": "0ed9105d-8fbf-4354-83c3-2ba9e6479ad4",
   "metadata": {},
   "outputs": [],
   "source": []
  }
 ],
 "metadata": {
  "kernelspec": {
   "display_name": "Python 3 (ipykernel)",
   "language": "python",
   "name": "python3"
  },
  "language_info": {
   "codemirror_mode": {
    "name": "ipython",
    "version": 3
   },
   "file_extension": ".py",
   "mimetype": "text/x-python",
   "name": "python",
   "nbconvert_exporter": "python",
   "pygments_lexer": "ipython3",
   "version": "3.9.16"
  }
 },
 "nbformat": 4,
 "nbformat_minor": 5
}