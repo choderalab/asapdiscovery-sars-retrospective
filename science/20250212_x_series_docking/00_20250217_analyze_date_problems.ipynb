{
 "cells": [
  {
   "cell_type": "markdown",
   "source": [
    "# Problem"
   ],
   "metadata": {
    "collapsed": false
   },
   "id": "8fca9c40d2a0b592"
  },
  {
   "cell_type": "markdown",
   "source": [
    "There is a date discrepency for some of the x-series structures"
   ],
   "metadata": {
    "collapsed": false
   },
   "id": "97506119453d27f2"
  },
  {
   "cell_type": "markdown",
   "source": [
    "# Imports"
   ],
   "metadata": {
    "collapsed": false
   },
   "id": "a267b94212197df7"
  },
  {
   "cell_type": "code",
   "outputs": [],
   "source": [
    "import pandas as pd\n",
    "import numpy as np\n",
    "from pathlib import Path\n",
    "import json\n",
    "from datetime import datetime\n",
    "import json"
   ],
   "metadata": {
    "collapsed": false
   },
   "id": "25d75d38534a832a",
   "execution_count": null
  },
  {
   "cell_type": "code",
   "outputs": [],
   "source": [
    "with open(\"/Users/alexpayne/Scientific_Projects/mers-drug-discovery/sars2-retrospective-analysis/20250212_p_to_x_fred/rmsd_csvs/20250217_combined_results_with_data.json\") as f:\n",
    "    problematic = json.load(f)"
   ],
   "metadata": {
    "collapsed": false
   },
   "id": "f697e73c11987448",
   "execution_count": null
  },
  {
   "cell_type": "code",
   "outputs": [],
   "source": [
    "frag_dir = Path(\"/Users/alexpayne/Scientific_Projects/mers-drug-discovery/sars2-retrospective-analysis/mpro_fragalysis-04-01-24\")\n",
    "soaks_path = frag_dir / \"extra_files\" / \"mpro_soaks.csv\"\n",
    "cocrystals_path = frag_dir / \"extra_files\" / \"Mpro_cocrystallisation.csv\""
   ],
   "metadata": {
    "collapsed": false
   },
   "id": "731fd940965da38f",
   "execution_count": null
  },
  {
   "cell_type": "code",
   "outputs": [],
   "source": [
    "err_msg = problematic[\"err_msg\"]"
   ],
   "metadata": {
    "collapsed": false
   },
   "id": "758d1f856c0fff10",
   "execution_count": null
  },
  {
   "cell_type": "code",
   "outputs": [],
   "source": [
    "err_msg"
   ],
   "metadata": {
    "collapsed": false
   },
   "id": "c9b6fa243725d87e",
   "execution_count": null
  },
  {
   "cell_type": "code",
   "outputs": [],
   "source": [
    "missing = [s[:-3] for s in problematic[\"missing_reference_structures\"]]"
   ],
   "metadata": {
    "collapsed": false
   },
   "id": "b3c6a730c7f41ec6",
   "execution_count": null
  },
  {
   "cell_type": "markdown",
   "source": [
    "## so what I had been doing previously was processing the mpro soaks file"
   ],
   "metadata": {
    "collapsed": false
   },
   "id": "5c33ce6716cfe2e4"
  },
  {
   "cell_type": "code",
   "outputs": [],
   "source": [
    "soaks = pd.read_csv(soaks_path)"
   ],
   "metadata": {
    "collapsed": false
   },
   "id": "5250ed68bed72197",
   "execution_count": null
  },
  {
   "cell_type": "markdown",
   "source": [
    "### process as in `/Users/alexpayne/Scientific_Projects/asapdiscovery-sars-retrospective/science/20240403_multi_pose_docking_v2/20240430_analyze_cross_docking_results/20240503_inputs_analysis/20240510_add_dates.ipynb`"
   ],
   "metadata": {
    "collapsed": false
   },
   "id": "15965898222ecada"
  },
  {
   "cell_type": "code",
   "outputs": [],
   "source": [
    "def date_processor(date_string):\n",
    "    if type(date_string) == str and not date_string == 'None':\n",
    "        try:\n",
    "            return datetime.strptime(date_string, \"%Y-%m-%d %H:%M:%S\")\n",
    "        except ValueError:\n",
    "            return datetime.strptime(date_string, \"%d/%m/%Y %H:%M\")\n",
    "    else:\n",
    "        return None\n",
    "def process_soaks(soaks):\n",
    "    ddf = soaks.loc[:, [\"Sample Name\", \"Data Collection Date\"]]\n",
    "    ddf['Sanitized_Date'] = ddf[\"Data Collection Date\"].apply(date_processor)\n",
    "    ddf.columns = [\"Structure_Name\", \"Data_Collection_Date\", \"Structure_Date\"]\n",
    "    date_dict = ddf.set_index(\"Structure_Name\").to_dict()[\"Structure_Date\"]\n",
    "    date_dict = {k: str(v) for k, v in date_dict.items() if str(v) != \"NaT\"}\n",
    "    frag_to_cmpd_dict = {row[\"Sample Name\"]: row[\"Compound ID\"] for idx, row in soaks.iterrows() if row[\"Sample Name\"] in date_dict}\n",
    "\n",
    "    return date_dict, frag_to_cmpd_dict"
   ],
   "metadata": {
    "collapsed": false
   },
   "id": "42c540021d7a91ca",
   "execution_count": null
  },
  {
   "cell_type": "code",
   "outputs": [],
   "source": [
    "soaks_date_dict, soaks_cmpd_to_frag_dict = process_soaks(soaks)\n",
    "with open(\"soaks_date_dict.json\", \"w\") as f:\n",
    "    json.dump(soaks_date_dict, f)\n",
    "with open(\"soaks_cmpd_to_frag_dict.json\", \"w\") as f:\n",
    "    json.dump(soaks_cmpd_to_frag_dict, f)"
   ],
   "metadata": {
    "collapsed": false
   },
   "id": "17a2edda46df8c5f",
   "execution_count": null
  },
  {
   "cell_type": "code",
   "outputs": [],
   "source": [
    "all(k not in soaks_date_dict for k in missing)"
   ],
   "metadata": {
    "collapsed": false
   },
   "id": "af505463c050710b",
   "execution_count": null
  },
  {
   "cell_type": "code",
   "outputs": [],
   "source": [
    "all(k not in soaks_cmpd_to_frag_dict for k in missing)"
   ],
   "metadata": {
    "collapsed": false
   },
   "id": "f2b2cd3666da5d9",
   "execution_count": null
  },
  {
   "cell_type": "code",
   "outputs": [],
   "source": [
    "cocrystals = pd.read_csv(cocrystals_path)"
   ],
   "metadata": {
    "collapsed": false
   },
   "id": "dd6f0b22af8a76ea",
   "execution_count": null
  },
  {
   "cell_type": "code",
   "outputs": [],
   "source": [
    "co_date_dict, co_cmpd_to_frag_dict = process_soaks(cocrystals)"
   ],
   "metadata": {
    "collapsed": false
   },
   "id": "66dabe82573fde57",
   "execution_count": null
  },
  {
   "cell_type": "code",
   "outputs": [],
   "source": [
    "co_set = set(co_date_dict.keys())\n",
    "so_set = set(soaks_date_dict.keys())"
   ],
   "metadata": {
    "collapsed": false
   },
   "id": "5daff46fcac971c0",
   "execution_count": null
  },
  {
   "cell_type": "code",
   "outputs": [],
   "source": [
    "len(co_set - so_set)"
   ],
   "metadata": {
    "collapsed": false
   },
   "id": "f1ed97c0cfa6e292",
   "execution_count": null
  },
  {
   "cell_type": "code",
   "outputs": [],
   "source": [
    "len(so_set - co_set)"
   ],
   "metadata": {
    "collapsed": false
   },
   "id": "cae08b097818ec1f",
   "execution_count": null
  },
  {
   "cell_type": "code",
   "outputs": [],
   "source": [
    "len(co_set & so_set)"
   ],
   "metadata": {
    "collapsed": false
   },
   "id": "24080bad507e84e",
   "execution_count": null
  },
  {
   "cell_type": "code",
   "outputs": [],
   "source": [
    "len(co_set | so_set)"
   ],
   "metadata": {
    "collapsed": false
   },
   "id": "cc5e4a9cc03e9c02",
   "execution_count": null
  },
  {
   "cell_type": "code",
   "outputs": [],
   "source": [
    "all(k in co_date_dict for k in missing)"
   ],
   "metadata": {
    "collapsed": false
   },
   "id": "49727720268f52b7",
   "execution_count": null
  },
  {
   "cell_type": "code",
   "outputs": [],
   "source": [
    "co_date_dict"
   ],
   "metadata": {
    "collapsed": false
   },
   "id": "884c337360dc4492",
   "execution_count": null
  },
  {
   "cell_type": "code",
   "outputs": [],
   "source": [
    "still_missing = [k for k in missing if k not in co_cmpd_to_frag_dict]"
   ],
   "metadata": {
    "collapsed": false
   },
   "id": "ede9e5b1a368b231",
   "execution_count": null
  },
  {
   "cell_type": "code",
   "outputs": [],
   "source": [
    "still_missing"
   ],
   "metadata": {
    "collapsed": false
   },
   "id": "6f613986c65d7951",
   "execution_count": null
  },
  {
   "cell_type": "code",
   "outputs": [],
   "source": [
    "co_cmpd_to_frag_dict"
   ],
   "metadata": {
    "collapsed": false
   },
   "id": "9a1332f8a6aefc1c",
   "execution_count": null
  },
  {
   "cell_type": "code",
   "outputs": [],
   "source": [
    "combined_date_dict = {**soaks_date_dict, **co_date_dict}"
   ],
   "metadata": {
    "collapsed": false
   },
   "id": "4dfc09592f44dd6",
   "execution_count": null
  },
  {
   "cell_type": "code",
   "outputs": [],
   "source": [
    "with open(\"combined_date_dict.json\", \"w\") as f:\n",
    "    json.dump(combined_date_dict, f)"
   ],
   "metadata": {
    "collapsed": false
   },
   "id": "46bb16485e7866b6",
   "execution_count": null
  },
  {
   "cell_type": "code",
   "outputs": [],
   "source": [],
   "metadata": {
    "collapsed": false
   },
   "id": "196c5560a67ddf34"
  }
 ],
 "metadata": {
  "kernelspec": {
   "display_name": "Python 3",
   "language": "python",
   "name": "python3"
  },
  "language_info": {
   "codemirror_mode": {
    "name": "ipython",
    "version": 2
   },
   "file_extension": ".py",
   "mimetype": "text/x-python",
   "name": "python",
   "nbconvert_exporter": "python",
   "pygments_lexer": "ipython2",
   "version": "2.7.6"
  }
 },
 "nbformat": 4,
 "nbformat_minor": 5
}
