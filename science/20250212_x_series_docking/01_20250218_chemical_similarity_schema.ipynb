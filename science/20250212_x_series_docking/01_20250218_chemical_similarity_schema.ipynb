{
 "cells": [
  {
   "cell_type": "code",
   "outputs": [],
   "source": [
    "from asapdiscovery.data.schema.ligand import Ligand\n",
    "from pydantic import BaseModel\n",
    "import json\n",
    "\n",
    "\n",
    "class LigandPair(BaseModel):\n",
    "    \"\"\"Class to represent a pair of ligands.\"\"\"\n",
    "\n",
    "    ref_ligand: Ligand\n",
    "    query_ligand: Ligand\n",
    "\n",
    "    @property\n",
    "    def unique_name(self):\n",
    "        return f\"{self.ref_ligand.compound_name}_{self.query_ligand.compound_name}\"\n",
    "\n",
    "    def __eq__(self, other):\n",
    "        if not isinstance(other, LigandPair):\n",
    "            return False\n",
    "        return (\n",
    "            self.ref_ligand == other.ref_ligand\n",
    "            and self.query_ligand == other.query_ligand\n",
    "        )\n",
    "\n",
    "    def __hash__(self):\n",
    "        return hash((self.ref_ligand, self.query_ligand))\n",
    "\n",
    "    def __repr__(self):\n",
    "        return f\"LigandPair(ref_ligand={self.ref_ligand.compound_name}, query_ligand={self.query_ligand.compound_name})\"\n",
    "\n",
    "    def to_tuple(self):\n",
    "        return (self.ref_ligand, self.query_ligand)\n",
    "\n",
    "    @classmethod\n",
    "    def from_tuple(cls, pair: tuple[Ligand, Ligand]):\n",
    "        return cls(ref_ligand=pair[0], query_ligand=pair[1])"
   ],
   "metadata": {
    "collapsed": false
   },
   "id": "408f166b198439d9",
   "execution_count": null
  },
  {
   "cell_type": "code",
   "outputs": [],
   "source": [
    "lig1 = Ligand.from_smiles(\"CC(C)C1=CC=C(C=C1)C(=O)O\", compound_name='lig1')\n",
    "lig2 = Ligand.from_smiles(\"CC(C)C1=CC=C(C=C1)C(=O)\", compound_name='lig2')"
   ],
   "metadata": {
    "collapsed": false
   },
   "id": "7aeb60c15886e043",
   "execution_count": null
  },
  {
   "cell_type": "code",
   "outputs": [],
   "source": [
    "lig_list = [lig1, lig2]"
   ],
   "metadata": {
    "collapsed": false
   },
   "id": "9e2bf4683d504d22",
   "execution_count": null
  },
  {
   "cell_type": "code",
   "outputs": [],
   "source": [
    "with open(\"failed_pairs.json\", \"w\") as f:\n",
    "    json.dump(lig_list, f)"
   ],
   "metadata": {
    "collapsed": false
   },
   "id": "5f2c8c99ba4eccfc",
   "execution_count": null
  },
  {
   "cell_type": "code",
   "outputs": [],
   "source": [
    "ligpair = LigandPair(ref_ligand=lig1, query_ligand=lig2)"
   ],
   "metadata": {
    "collapsed": false
   },
   "id": "af33b885cca759c1",
   "execution_count": null
  },
  {
   "cell_type": "code",
   "outputs": [],
   "source": [
    "ligpair_list = [ligpair, ligpair]"
   ],
   "metadata": {
    "collapsed": false
   },
   "id": "53e48c0cd7fae9c6",
   "execution_count": null
  },
  {
   "cell_type": "code",
   "outputs": [],
   "source": [
    "fpath = \"failed_pairs.json\""
   ],
   "metadata": {
    "collapsed": false
   },
   "id": "a4f089626a0823f1",
   "execution_count": null
  },
  {
   "cell_type": "code",
   "outputs": [],
   "source": [
    "with open(fpath, \"w\") as f:\n",
    "    json.dump(ligpair.json(), f)"
   ],
   "metadata": {
    "collapsed": false
   },
   "id": "b5a88a14d5d159b",
   "execution_count": null
  },
  {
   "cell_type": "code",
   "outputs": [],
   "source": [
    "with open(fpath, \"w\") as f:\n",
    "    json.dump([ligpair.json() for ligpair in ligpair_list], f)"
   ],
   "metadata": {
    "collapsed": false
   },
   "id": "13ad61ac2067e6b5",
   "execution_count": null
  },
  {
   "cell_type": "code",
   "outputs": [],
   "source": [
    "with open(fpath, \"r\") as f:\n",
    "    ligandpairs = json.load(f)"
   ],
   "metadata": {
    "collapsed": false
   },
   "id": "9ff191aba3d1c070",
   "execution_count": null
  },
  {
   "cell_type": "code",
   "outputs": [],
   "source": [
    "len(ligandpairs)"
   ],
   "metadata": {
    "collapsed": false
   },
   "id": "c3ecc282528f094c",
   "execution_count": null
  },
  {
   "cell_type": "code",
   "outputs": [],
   "source": [
    "# turn list of json strings into list of LigandPair objects\n",
    "ligandpairs = [LigandPair.parse_raw(ligandpair) for ligandpair in ligandpairs]"
   ],
   "metadata": {
    "collapsed": false
   },
   "id": "97c8db53f502e4c2",
   "execution_count": null
  },
  {
   "cell_type": "markdown",
   "source": [
    "# got it!"
   ],
   "metadata": {
    "collapsed": false
   },
   "id": "6a26594247585155"
  },
  {
   "cell_type": "code",
   "outputs": [],
   "source": [],
   "metadata": {
    "collapsed": false
   },
   "id": "8f047a64cc4982d8"
  }
 ],
 "metadata": {
  "kernelspec": {
   "display_name": "Python 3",
   "language": "python",
   "name": "python3"
  },
  "language_info": {
   "codemirror_mode": {
    "name": "ipython",
    "version": 2
   },
   "file_extension": ".py",
   "mimetype": "text/x-python",
   "name": "python",
   "nbconvert_exporter": "python",
   "pygments_lexer": "ipython2",
   "version": "2.7.6"
  }
 },
 "nbformat": 4,
 "nbformat_minor": 5
}
