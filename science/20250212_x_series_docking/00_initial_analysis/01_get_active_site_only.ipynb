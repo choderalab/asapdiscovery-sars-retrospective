{
 "cells": [
  {
   "cell_type": "markdown",
   "source": [
    "# Imports"
   ],
   "metadata": {
    "collapsed": false
   },
   "id": "38da3241fe656d6f"
  },
  {
   "cell_type": "code",
   "outputs": [],
   "source": [
    "import pandas as pd\n",
    "from asapdiscovery.data.services.fragalysis.fragalysis_reader import FragalysisFactory\n",
    "from pathlib import Path"
   ],
   "metadata": {
    "collapsed": false
   },
   "id": "acc7beb6053a98b5",
   "execution_count": null
  },
  {
   "cell_type": "code",
   "outputs": [],
   "source": [
    "xseries_dir = Path(\"/Users/alexpayne/Scientific_Projects/mers-drug-discovery/sars2-retrospective-analysis/mpro_fragalysis-04-01-24_x_series\")"
   ],
   "metadata": {
    "collapsed": false
   },
   "id": "74e028ca365a87f4",
   "execution_count": null
  },
  {
   "cell_type": "code",
   "outputs": [],
   "source": [
    "sf = FragalysisFactory(parent_dir=xseries_dir)"
   ],
   "metadata": {
    "collapsed": false
   },
   "id": "14cd3820ec9a4d64",
   "execution_count": null
  },
  {
   "cell_type": "code",
   "outputs": [],
   "source": [
    "complexes = sf.load()"
   ],
   "metadata": {
    "collapsed": false
   },
   "id": "9c6d9ac9f6d97f26",
   "execution_count": null
  },
  {
   "cell_type": "code",
   "outputs": [],
   "source": [
    "len(complexes)"
   ],
   "metadata": {
    "collapsed": false
   },
   "id": "3830517af57de1b7",
   "execution_count": null
  },
  {
   "cell_type": "code",
   "outputs": [],
   "source": [
    "metadata = pd.read_csv(xseries_dir / \"metadata.csv\", index_col=0)"
   ],
   "metadata": {
    "collapsed": false
   },
   "id": "25d8a76828e62f57",
   "execution_count": null
  },
  {
   "cell_type": "code",
   "outputs": [],
   "source": [
    "xseries = metadata[(metadata[\"crystal_name\"].str.contains(\"-x\"))]"
   ],
   "metadata": {
    "collapsed": false
   },
   "id": "3fd3a8e2fbdea26f",
   "execution_count": null
  },
  {
   "cell_type": "code",
   "outputs": [],
   "source": [
    "xseries.site_name.unique()"
   ],
   "metadata": {
    "collapsed": false
   },
   "id": "5b3eaa8697183fd0",
   "execution_count": null
  },
  {
   "cell_type": "code",
   "outputs": [],
   "source": [
    "bad_labels = [\"XChem screen - surface\", \"Moonshot - other active site\", \"XChem screen - dimer interface\", \"XChem Screen - xtal contact\", \"XChem Screen - Covalent hits\", \"Moonshot - allosteric\"]"
   ],
   "metadata": {
    "collapsed": false
   },
   "id": "98d90d2400ab8c1b",
   "execution_count": null
  },
  {
   "cell_type": "code",
   "outputs": [],
   "source": [
    "xactive = xseries[~xseries.site_name.isin(bad_labels)]"
   ],
   "metadata": {
    "collapsed": false
   },
   "id": "173335b314a49bc5",
   "execution_count": null
  },
  {
   "cell_type": "code",
   "outputs": [],
   "source": [
    "filtered_complexes = [_complex for _complex in complexes if _complex.ligand.compound_name in xactive.alternate_name.tolist()]"
   ],
   "metadata": {
    "collapsed": false
   },
   "id": "8fd2deee05c8b1b3",
   "execution_count": null
  },
  {
   "cell_type": "code",
   "outputs": [],
   "source": [
    "len(filtered_complexes)"
   ],
   "metadata": {
    "collapsed": false
   },
   "id": "60295925cd20fe4a",
   "execution_count": null
  },
  {
   "cell_type": "code",
   "outputs": [],
   "source": [
    "structure_names = [c.target.target_name for c in filtered_complexes]"
   ],
   "metadata": {
    "collapsed": false
   },
   "id": "ced9cea5ab5e7124",
   "execution_count": null
  },
  {
   "cell_type": "code",
   "outputs": [],
   "source": [
    "active_site_dir = xseries_dir.parent / \"mpro_fragalysis-04-01-24_x_series_active_site/aligned\"\n",
    "active_site_dir.mkdir(exist_ok=True)"
   ],
   "metadata": {
    "collapsed": false
   },
   "id": "8a0b9dc0fefa9a74",
   "execution_count": null
  },
  {
   "cell_type": "code",
   "outputs": [],
   "source": [
    "import shutil\n",
    "from tqdm import tqdm"
   ],
   "metadata": {
    "collapsed": false
   },
   "id": "8d263aae0ebd9196",
   "execution_count": null
  },
  {
   "cell_type": "code",
   "outputs": [],
   "source": [
    "source_path = xseries_dir / \"aligned\"\n",
    "source_dirs = [fp for fp in source_path.glob(\"*\") if fp.is_dir()]\n",
    "for fp in tqdm(source_dirs):\n",
    "    if not fp.is_dir():\n",
    "        continue\n",
    "    if fp.name in structure_names:\n",
    "        newpath = active_site_dir / fp.name\n",
    "        shutil.copytree(fp, newpath)"
   ],
   "metadata": {
    "collapsed": false
   },
   "id": "4131d1699777f5b",
   "execution_count": null
  },
  {
   "cell_type": "code",
   "outputs": [],
   "source": [],
   "metadata": {
    "collapsed": false
   },
   "id": "dbf06e46c177261b"
  }
 ],
 "metadata": {
  "kernelspec": {
   "display_name": "Python 3",
   "language": "python",
   "name": "python3"
  },
  "language_info": {
   "codemirror_mode": {
    "name": "ipython",
    "version": 2
   },
   "file_extension": ".py",
   "mimetype": "text/x-python",
   "name": "python",
   "nbconvert_exporter": "python",
   "pygments_lexer": "ipython2",
   "version": "2.7.6"
  }
 },
 "nbformat": 4,
 "nbformat_minor": 5
}
