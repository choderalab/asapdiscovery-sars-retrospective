{
 "cells": [
  {
   "cell_type": "markdown",
   "id": "c466417c-46af-410a-be65-99ab6178aace",
   "metadata": {},
   "source": [
    "# Imports"
   ]
  },
  {
   "cell_type": "code",
   "execution_count": null,
   "id": "c307ed9c-5782-44ee-82be-dba5de979e3d",
   "metadata": {},
   "outputs": [],
   "source": [
    "import pandas as pd\n",
    "from pathlib import Path\n",
    "from importlib import reload\n",
    "import software.analysis as a\n",
    "reload(a)\n"
   ]
  },
  {
   "cell_type": "code",
   "execution_count": null,
   "id": "d1ada1ed-cf56-4225-94fb-17b2249bea48",
   "metadata": {},
   "outputs": [],
   "source": []
  },
  {
   "cell_type": "code",
   "execution_count": null,
   "id": "13c8bb34-c8fa-4e4a-8682-45cfc07f8d7d",
   "metadata": {},
   "outputs": [],
   "source": [
    "local_analysis = Path(\"/Users/alexpayne/Scientific_Projects/mers-drug-discovery/sars2-retrospective-analysis/\")"
   ]
  },
  {
   "cell_type": "code",
   "execution_count": null,
   "id": "8fdecb8d-c876-4ea5-b0cf-08dd78beb50a",
   "metadata": {},
   "outputs": [],
   "source": [
    "#df = pd.read_csv(local_analysis / \"20230611-combined.csv\", index_col=0)"
   ]
  },
  {
   "cell_type": "markdown",
   "id": "6280b734-9e9e-40a6-adc6-870624a63635",
   "metadata": {},
   "source": [
    "## Add reverse TC score so that it can be ranked ascending"
   ]
  },
  {
   "cell_type": "code",
   "execution_count": null,
   "id": "ab6f4d6f-85ff-4669-8f61-12393b38d077",
   "metadata": {
    "tags": []
   },
   "outputs": [],
   "source": [
    "#df[\"TanimotoCombo_R\"] = 2-df.TanimotoCombo"
   ]
  },
  {
   "cell_type": "markdown",
   "id": "e469f1c4-3ded-4475-8a41-ede37787deeb",
   "metadata": {},
   "source": [
    "## save dataframe"
   ]
  },
  {
   "cell_type": "code",
   "execution_count": null,
   "id": "758c25e3-843b-444a-8b0a-88851335fb5f",
   "metadata": {},
   "outputs": [],
   "source": [
    "#df.to_csv(local_analysis / \"20230611-combined_tcr.csv\")"
   ]
  },
  {
   "cell_type": "markdown",
   "id": "0426a586-6c56-4487-92ca-bc519f05c119",
   "metadata": {},
   "source": [
    "### load new csv"
   ]
  },
  {
   "cell_type": "code",
   "execution_count": null,
   "id": "46b1b009-c732-4d7d-b69e-6e3a44c71008",
   "metadata": {},
   "outputs": [],
   "source": [
    "df = pd.read_csv(local_analysis / \"20230611-combined_tcr.csv\", index_col=0)"
   ]
  },
  {
   "cell_type": "markdown",
   "id": "d78e9f07-5621-423b-bae3-0da6d7930e61",
   "metadata": {},
   "source": [
    "# Overall Analysis"
   ]
  },
  {
   "cell_type": "code",
   "execution_count": null,
   "id": "99572300-7d77-4617-b865-c8a347beab75",
   "metadata": {},
   "outputs": [],
   "source": [
    "df.groupby(\"Version\").nunique()[[\"Complex_ID\", \"Compound_ID\", \"Structure_Source\"]]"
   ]
  },
  {
   "cell_type": "markdown",
   "id": "ce066bd3-ec39-4541-a0bf-93032a86da59",
   "metadata": {},
   "source": [
    "## calculate how many all and hybrid-only complex_id's there should be"
   ]
  },
  {
   "cell_type": "code",
   "execution_count": null,
   "id": "57c5441a-dfd7-4cf4-92fe-25460ae1e01e",
   "metadata": {},
   "outputs": [],
   "source": [
    "214*219"
   ]
  },
  {
   "cell_type": "code",
   "execution_count": null,
   "id": "9e705079-cf26-409e-b970-134adc295e15",
   "metadata": {},
   "outputs": [],
   "source": [
    "207*213"
   ]
  },
  {
   "cell_type": "code",
   "execution_count": null,
   "id": "c3ea706f-ffcf-40df-85b2-9c89c6dc0439",
   "metadata": {},
   "outputs": [],
   "source": [
    "46866 - 44091"
   ]
  },
  {
   "cell_type": "code",
   "execution_count": null,
   "id": "2801fbd6-6268-441a-9a71-0731283c98dc",
   "metadata": {},
   "outputs": [],
   "source": [
    "44091 - 37632"
   ]
  },
  {
   "cell_type": "markdown",
   "id": "a6ab39c8-e0d1-4347-a437-fdf2c41cc137",
   "metadata": {},
   "source": [
    "### so there are 2775 self-docked pairs missing from the Hybrid-Only results"
   ]
  },
  {
   "cell_type": "markdown",
   "id": "e9bec5db-f29b-430b-9791-07d44b049185",
   "metadata": {},
   "source": [
    "### and 6459 cross-docked results missing from Hybrid-Only Results"
   ]
  },
  {
   "cell_type": "code",
   "execution_count": null,
   "id": "d289bdc5-c4ee-4e16-8050-e13c897a5be7",
   "metadata": {},
   "outputs": [],
   "source": []
  },
  {
   "cell_type": "markdown",
   "id": "6e57871c-e755-4704-a554-ee139af78b21",
   "metadata": {},
   "source": [
    "## Check if any of the cross-docked pairs are actually duplicates"
   ]
  },
  {
   "cell_type": "markdown",
   "id": "7c6b7c75-4d9b-41af-888f-3f9a47091c6c",
   "metadata": {},
   "source": [
    "### these are copied and pasted from \n",
    "https://github.com/choderalab/asapdiscovery-sars-retrospective/blob/process_fragalysis_duplicates/science/20231117-process-fragalysis-duplicates/20231212-process-fragalysis-dups.ipynb"
   ]
  },
  {
   "cell_type": "code",
   "execution_count": null,
   "id": "0e01abc8-9b1a-4348-b874-d5dd2c0f7d1d",
   "metadata": {},
   "outputs": [],
   "source": [
    "duplicates = [\n",
    "    ('ALP-POS-4483ae88-4', 'MIK-UNK-78dbf1b8-1'),\n",
    "    ('BEN-BAS-c2bc0d80-6', 'VLA-UCB-50c39ae8-2'),\n",
    "    ('BEN-DND-f2e727cd-5', 'MAT-POS-3ccb8ef6-1'),\n",
    "    ('EDG-MED-0e5afe9d-3', 'PET-UNK-29afea89-2'),\n",
    "    ('EDG-MED-5d232de5-5', 'MIC-UNK-91acba05-6'),\n",
    "    ('EDG-MED-5d232de5-7', 'EDG-MED-5d232de5-8'),\n",
    "    ('EDG-MED-5d232de5-7', 'PET-UNK-c9c1e0d8-4'),\n",
    "    ('EDG-MED-5d232de5-8', 'PET-UNK-c9c1e0d8-4'),\n",
    "    ('EDJ-MED-015fb6b4-2', 'MAT-POS-a54ce14d-2'),\n",
    "    ('EDJ-MED-37aac4bd-4', 'MAT-POS-932d1078-3'),\n",
    "    ('EDJ-MED-8bb691af-4', 'MAT-POS-c7726e07-5'),\n",
    "    ('EDJ-MED-976a33d5-1', 'MAT-POS-e48723dc-2'),\n",
    "    ('MAT-POS-090737b9-1', 'VLA-UCB-50c39ae8-7'),\n",
    "    ('MAT-POS-7174c657-5', 'MAT-POS-7174c657-6'),\n",
    "    ('MAT-POS-7174c657-5', 'MAT-POS-a13804f0-4'),\n",
    "    ('MAT-POS-7174c657-6', 'MAT-POS-a13804f0-4'),\n",
    "    ('MAT-POS-a13804f0-3', 'RAL-THA-05e671eb-10'),\n",
    "    ('MIK-ENA-5d9157e9-5', 'MIK-ENA-5d9157e9-6'),\n",
    "    ('VLA-UCB-29506327-1', 'VLA-UNK-cf7facf1-1')\n",
    "]"
   ]
  },
  {
   "cell_type": "code",
   "execution_count": null,
   "id": "db45d644-5db8-4a09-a726-13de9f3547cf",
   "metadata": {},
   "outputs": [],
   "source": [
    "merged_duplicates = [f\"{a}_{b}\" for a, b in duplicates]"
   ]
  },
  {
   "cell_type": "code",
   "execution_count": null,
   "id": "50ebfcdb-e132-4850-bddc-d59ca4092bd4",
   "metadata": {},
   "outputs": [],
   "source": [
    "merged_duplicates"
   ]
  },
  {
   "cell_type": "code",
   "execution_count": null,
   "id": "ed073dc9-edd9-486a-b71f-8befef1dc161",
   "metadata": {},
   "outputs": [],
   "source": [
    "results = df.Compound_ID + \"_\" + df.Reference_Ligand"
   ]
  },
  {
   "cell_type": "code",
   "execution_count": null,
   "id": "9186c17e-7f41-40c6-8b68-49624093dfb7",
   "metadata": {},
   "outputs": [],
   "source": [
    "duplicated = [result not in merged_duplicates for result in results]"
   ]
  },
  {
   "cell_type": "code",
   "execution_count": null,
   "id": "583a6502-52c3-4c07-9fea-4864cebf9011",
   "metadata": {},
   "outputs": [],
   "source": [
    "len(duplicated)"
   ]
  },
  {
   "cell_type": "code",
   "execution_count": null,
   "id": "c2663863-95a3-44ad-a6a7-4b3e57a04277",
   "metadata": {},
   "outputs": [],
   "source": [
    "len(df)"
   ]
  },
  {
   "cell_type": "code",
   "execution_count": null,
   "id": "634fcf15-162e-4da3-8d07-402ee1fa5187",
   "metadata": {},
   "outputs": [],
   "source": [
    "df_no_dups = df[duplicated]"
   ]
  },
  {
   "cell_type": "code",
   "execution_count": null,
   "id": "2749d3bd-089b-4865-81f7-05e638ac6eb5",
   "metadata": {},
   "outputs": [],
   "source": [
    "len(df_no_dups)"
   ]
  },
  {
   "cell_type": "code",
   "execution_count": null,
   "id": "d0d292d5-4515-428e-ac0c-1358e568e02b",
   "metadata": {},
   "outputs": [],
   "source": [
    "len(df) - sum(duplicated)"
   ]
  },
  {
   "cell_type": "code",
   "execution_count": null,
   "id": "aaadcad0-836b-4720-a2de-e719323e70c3",
   "metadata": {},
   "outputs": [],
   "source": [
    "len(df) - len(df_no_dups)"
   ]
  },
  {
   "cell_type": "markdown",
   "id": "80b70e1b-df68-4a35-a567-61143d12fa5a",
   "metadata": {},
   "source": [
    "### 28 duplicate ligands were removed"
   ]
  },
  {
   "cell_type": "code",
   "execution_count": null,
   "id": "a7da1e71-f4cc-441c-ac56-37bc2c8ea873",
   "metadata": {},
   "outputs": [],
   "source": [
    "df_no_dups.to_csv(local_analysis / \"20230611-combined_tcr_no_dups.csv\")"
   ]
  },
  {
   "cell_type": "code",
   "execution_count": null,
   "id": "3d52d2d4-2fd4-4346-9f8a-c0a02bd7f094",
   "metadata": {},
   "outputs": [],
   "source": []
  },
  {
   "cell_type": "code",
   "execution_count": null,
   "id": "28e92944-308a-4afe-8ae4-8754f25f3aee",
   "metadata": {},
   "outputs": [],
   "source": []
  },
  {
   "cell_type": "markdown",
   "id": "c161651d-a0d6-4aee-a49e-2b4944d617d6",
   "metadata": {},
   "source": [
    "## Remove self-docked results"
   ]
  },
  {
   "cell_type": "code",
   "execution_count": null,
   "id": "37112e2a-9df7-4074-a866-7b9b1f19e27b",
   "metadata": {},
   "outputs": [],
   "source": [
    "df_no_dups_cross_docked = df_no_dups[df_no_dups.Compound_ID != df_no_dups.Reference_Ligand]"
   ]
  },
  {
   "cell_type": "code",
   "execution_count": null,
   "id": "ef27ca8a-e775-403a-b6ed-c6a3741f4239",
   "metadata": {},
   "outputs": [],
   "source": []
  },
  {
   "cell_type": "code",
   "execution_count": null,
   "id": "b6eff327-5085-43c3-894c-5e2db570dcbd",
   "metadata": {},
   "outputs": [],
   "source": []
  },
  {
   "cell_type": "code",
   "execution_count": null,
   "id": "a9ee6b66-8f7b-44d2-8133-d3e118cab17d",
   "metadata": {},
   "outputs": [],
   "source": [
    "df_no_dups_cross_docked.groupby(\"Version\").nunique()[[\"Complex_ID\", \"Compound_ID\", \"Structure_Source\"]]"
   ]
  },
  {
   "cell_type": "code",
   "execution_count": null,
   "id": "7bf86125-7090-44bd-8981-7d120ad77c8a",
   "metadata": {},
   "outputs": [],
   "source": [
    "df_no_dups_cross_docked.to_csv(local_analysis / \"20230611-combined_tcr_no_dups_cross_docked.csv\")"
   ]
  },
  {
   "cell_type": "markdown",
   "id": "ddd83c55-6c32-42d4-beb3-cf73603ffdba",
   "metadata": {},
   "source": [
    "# Actually I think instead of going ahead with this I'm going to re-run these docking runs and keep better notes"
   ]
  },
  {
   "cell_type": "code",
   "execution_count": null,
   "id": "bb53f530-2fc3-4180-bb60-31b52780e753",
   "metadata": {},
   "outputs": [],
   "source": []
  }
 ],
 "metadata": {
  "kernelspec": {
   "display_name": "Python 3 (ipykernel)",
   "language": "python",
   "name": "python3"
  },
  "language_info": {
   "codemirror_mode": {
    "name": "ipython",
    "version": 3
   },
   "file_extension": ".py",
   "mimetype": "text/x-python",
   "name": "python",
   "nbconvert_exporter": "python",
   "pygments_lexer": "ipython3",
   "version": "3.10.13"
  }
 },
 "nbformat": 4,
 "nbformat_minor": 5
}
