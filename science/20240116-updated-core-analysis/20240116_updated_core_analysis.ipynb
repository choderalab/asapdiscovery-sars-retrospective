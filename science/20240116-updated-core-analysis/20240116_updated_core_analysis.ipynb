{
 "cells": [
  {
   "cell_type": "markdown",
   "id": "0048ad31-49fb-45f0-9926-61fc96d42b34",
   "metadata": {
    "pycharm": {
     "is_executing": true
    }
   },
   "source": [
    "# Imports"
   ]
  },
  {
   "cell_type": "code",
   "execution_count": null,
   "id": "af40e0c7-0cc4-4bb2-9b8b-100fc1e062aa",
   "metadata": {
    "pycharm": {
     "is_executing": true
    },
    "tags": []
   },
   "outputs": [],
   "source": [
    "import pandas as pd, numpy as np\n",
    "import plotly.express as px\n",
    "from plotly.graph_objs import Figure\n",
    "from pathlib import Path\n",
    "from importlib import reload\n",
    "import software.analysis as a\n",
    "reload(a)"
   ]
  },
  {
   "cell_type": "markdown",
   "id": "745f6038-4659-42fe-8a84-e7d8454eb43c",
   "metadata": {},
   "source": [
    "# Load Paths"
   ]
  },
  {
   "cell_type": "code",
   "execution_count": null,
   "id": "377c3412-bd7c-4369-a898-99b3dcdd0f74",
   "metadata": {
    "tags": []
   },
   "outputs": [],
   "source": [
    "import sys\n",
    "sys.path.append(str(Path(\"../../../\").resolve()))\n",
    "from software.paths import paths"
   ]
  },
  {
   "cell_type": "code",
   "execution_count": null,
   "id": "a1f6aeaa-ca42-49a1-be71-085678f80fa8",
   "metadata": {
    "tags": []
   },
   "outputs": [],
   "source": [
    "local_analysis = Path(\"/Users/alexpayne/Scientific_Projects/mers-drug-discovery/sars2-retrospective-analysis/\")"
   ]
  },
  {
   "cell_type": "code",
   "execution_count": null,
   "id": "09ef9c7b-e668-4f64-8873-3eaeb076095b",
   "metadata": {
    "tags": []
   },
   "outputs": [],
   "source": [
    "df = pd.read_csv(local_analysis / \"20230611-combined.csv\", index_col=0)"
   ]
  },
  {
   "cell_type": "markdown",
   "id": "122add74-2b97-445d-acda-a36d46b538c9",
   "metadata": {},
   "source": [
    "## Add reverse TC score so that it can be ranked ascending"
   ]
  },
  {
   "cell_type": "code",
   "execution_count": null,
   "id": "9196e48b-82eb-44ea-8246-0d178740f63a",
   "metadata": {
    "tags": []
   },
   "outputs": [],
   "source": [
    "df[\"TanimotoCombo_R\"] = 2-df.TanimotoCombo"
   ]
  },
  {
   "cell_type": "code",
   "execution_count": null,
   "id": "e0204f53-ba63-46c5-a2ec-dcbe49639efd",
   "metadata": {},
   "outputs": [],
   "source": []
  },
  {
   "cell_type": "markdown",
   "id": "d876d741-3b4b-42d4-aa17-1dd816f85d74",
   "metadata": {
    "tags": []
   },
   "source": [
    "# Functions and Variables"
   ]
  },
  {
   "cell_type": "code",
   "execution_count": null,
   "id": "ff6465bd-2f5a-4c03-a129-c9954de8a747",
   "metadata": {},
   "outputs": [],
   "source": []
  },
  {
   "cell_type": "markdown",
   "id": "0e1f6100-b620-4191-affc-edc579e2e78d",
   "metadata": {},
   "source": [
    "## Variables"
   ]
  },
  {
   "cell_type": "code",
   "execution_count": null,
   "id": "5d5f3dfc-aef2-4356-96fc-92980c6f0076",
   "metadata": {
    "tags": []
   },
   "outputs": [],
   "source": [
    "tc = \"TanimotoCombo\"\n",
    "tc_title = \"TanimotoCombo Cutoff for Inclusion of Reference Structures\"\n",
    "tcr = \"TanimotoCombo_R\"\n",
    "y=\"Fraction\"\n",
    "posit_r = \"POSIT_R\"\n",
    "posit_method=\"POSIT_Method\"\n",
    "color=\"Version\"\n",
    "id_col=\"Compound_ID\"\n",
    "rmsd=\"RMSD\"\n",
    "method_split=[posit_method]\n",
    "n=1\n",
    "good=2\n",
    "tc_cutoffs = np.linspace(0,2,50)\n",
    "tcr_cutoffs = np.linspace(2,0,50)\n",
    "sort_cols = [rmsd, posit_r, \"Chemgauss4\", tcr]\n",
    "dates = df.Structure_Date.unique()\n",
    "date_col = \"Structure_Date\"\n",
    "date_title = \"Date for Inclusion of Reference Structures\"\n",
    "reference_col = \"Structure_Source\"\n",
    "split_cols=[\"Version\"]\n",
    "sort_col_name=\"Sorted_By\"\n",
    "full_split_cols=[\"Version\", posit_method]\n",
    "split_column_sets={\"General\":split_cols, \"Detailed\":full_split_cols}\n",
    "general_split_cols = {\"General\":split_cols}\n",
    "detailed_split_cols = {\"Detailed\":full_split_cols}\n",
    "frac_title=f\"Fraction of Poses < {good}Å from Reference\""
   ]
  },
  {
   "cell_type": "markdown",
   "id": "2a3eb223-4019-45c7-a186-25a69cd9a40e",
   "metadata": {},
   "source": [
    "## Calculation Functions"
   ]
  },
  {
   "cell_type": "code",
   "execution_count": null,
   "id": "36e0e02a-202c-443e-b6bf-ce291d89b39a",
   "metadata": {},
   "outputs": [],
   "source": []
  },
  {
   "cell_type": "code",
   "execution_count": null,
   "id": "43785659-ef64-4936-9006-0bbc8cf7655f",
   "metadata": {},
   "outputs": [],
   "source": []
  },
  {
   "cell_type": "code",
   "execution_count": null,
   "id": "6c0d6217-747d-4a38-b6b6-94a23027eedb",
   "metadata": {},
   "outputs": [],
   "source": []
  },
  {
   "cell_type": "markdown",
   "id": "71655e17-bddc-40c0-bdd9-cf998fa601c1",
   "metadata": {},
   "source": [
    "## Plotting Functions"
   ]
  },
  {
   "cell_type": "markdown",
   "id": "fd74d81a-c5f9-433d-920c-2d5a5793332b",
   "metadata": {},
   "source": [
    "### plot kwargs"
   ]
  },
  {
   "cell_type": "code",
   "execution_count": null,
   "id": "d0344ea6-15fe-4933-824e-9e1f0badb678",
   "metadata": {
    "tags": []
   },
   "outputs": [],
   "source": [
    "df.Version.unique()"
   ]
  },
  {
   "cell_type": "code",
   "execution_count": null,
   "id": "1c35d34c-88dc-4b76-8683-d9269df1e098",
   "metadata": {
    "tags": []
   },
   "outputs": [],
   "source": [
    "df.POSIT_Method.unique()"
   ]
  },
  {
   "cell_type": "code",
   "execution_count": null,
   "id": "e73e4c10-2d3f-4f85-b478-94a80d4283cb",
   "metadata": {
    "tags": []
   },
   "outputs": [],
   "source": [
    "# this doesn't actually work\n",
    "full_versions = [(\"All\", method) for method in df.POSIT_Method.unique()] + [(\"Hybrid-Only\", \"HYBRID\")]\n",
    "full_version_labels = [f\"{version}: {method}\" for version, method in full_versions]\n",
    "full_version_label_dict = {og: label for og, label in zip(full_versions, full_version_labels)}"
   ]
  },
  {
   "cell_type": "code",
   "execution_count": null,
   "id": "136655b7-00bc-4971-909a-91af97fa3163",
   "metadata": {
    "tags": []
   },
   "outputs": [],
   "source": [
    "basic_plot_kwargs = dict(color=color, \n",
    "                         )"
   ]
  },
  {
   "cell_type": "code",
   "execution_count": null,
   "id": "9d6a5a25-d3ef-4408-89f2-a4dac77bbb99",
   "metadata": {
    "tags": []
   },
   "outputs": [],
   "source": [
    "big_plot_kwargs = dict(facet_col=sort_col_name,\n",
    "                         facet_row=\"Split\", \n",
    "                         height=600, \n",
    "                         width=1200, )"
   ]
  },
  {
   "cell_type": "code",
   "execution_count": null,
   "id": "3e5e97b6-6b06-4fec-bcfc-2073c12e9aa9",
   "metadata": {
    "tags": []
   },
   "outputs": [],
   "source": [
    "single_plot_kwargs = dict(height=400, width=600)"
   ]
  },
  {
   "cell_type": "code",
   "execution_count": null,
   "id": "e9d618ab-bca8-4d3d-98b1-e284aac883a5",
   "metadata": {
    "tags": []
   },
   "outputs": [],
   "source": [
    "tc_plot_kwargs = dict(x=tc,  \n",
    "                      labels={tc: tc_title},\n",
    "                     range_x=[-0.1,2.1],)"
   ]
  },
  {
   "cell_type": "code",
   "execution_count": null,
   "id": "430c70d4-4ef2-4dc1-bad8-0a50b4d3f32a",
   "metadata": {
    "tags": []
   },
   "outputs": [],
   "source": [
    "date_plot_kwargs = dict(x=date_col,\n",
    "                        labels={date_col:date_title},\n",
    "                       )"
   ]
  },
  {
   "cell_type": "code",
   "execution_count": null,
   "id": "4dccba2b-a5a3-4067-ac20-b3ca99e01dda",
   "metadata": {
    "tags": []
   },
   "outputs": [],
   "source": [
    "fraction_plot_kwargs = dict(range_y=[-0.1,1.1])"
   ]
  },
  {
   "cell_type": "code",
   "execution_count": null,
   "id": "3ab43d8f-e55e-4fb3-9043-58c59cee66e7",
   "metadata": {
    "tags": []
   },
   "outputs": [],
   "source": [
    "stats_kwargs = dict(y=\"Value\", error_y=\"STD\")"
   ]
  },
  {
   "cell_type": "code",
   "execution_count": null,
   "id": "6de6bd54-de29-48d0-bf99-462281af251f",
   "metadata": {
    "tags": []
   },
   "outputs": [],
   "source": [
    "def combine_labels_kwargs(list_of_kwargs):\n",
    "    new_dict = {}\n",
    "    for kwargs in list_of_kwargs:\n",
    "        for k,v in kwargs.items():\n",
    "            if k in new_dict.keys():\n",
    "                if isinstance(v, dict):\n",
    "                    for ik, iv in v.items():\n",
    "                        new_dict[k][ik] = iv\n",
    "                else:\n",
    "                    raise NotImplementedError(f\"combining these kwargs will not work due to repeated use of {k}\")\n",
    "            else:\n",
    "                new_dict[k] = v\n",
    "    return new_dict\n",
    "    "
   ]
  },
  {
   "cell_type": "code",
   "execution_count": null,
   "id": "2ac5bfa2-0b52-433b-8ee9-2671108e739d",
   "metadata": {
    "tags": []
   },
   "outputs": [],
   "source": [
    "combine_labels_kwargs([big_plot_kwargs, tc_plot_kwargs])"
   ]
  },
  {
   "cell_type": "code",
   "execution_count": null,
   "id": "08f135fc-de66-4169-b5a9-c549efae6714",
   "metadata": {
    "tags": []
   },
   "outputs": [],
   "source": [
    "general_posit_kwargs = {sort_col_name: posit_r, \"Split\":\"General\"}"
   ]
  },
  {
   "cell_type": "markdown",
   "id": "912dfff7-ed7c-4406-8e89-e99b99528542",
   "metadata": {},
   "source": [
    "### cleanup functions"
   ]
  },
  {
   "cell_type": "code",
   "execution_count": null,
   "id": "def42be0-446d-4f93-a88c-8b551ef1cc75",
   "metadata": {
    "tags": []
   },
   "outputs": [],
   "source": [
    "def replace_xaxis_labels(fig: Figure, axis_title):\n",
    "    fig.for_each_xaxis(lambda x: x.update(title = ''))\n",
    "    fig.add_annotation(x=0.5,y=-0.15,\n",
    "                   text=axis_title, textangle=0,\n",
    "                       font=dict(size=16),\n",
    "                    xref=\"paper\", yref=\"paper\",\n",
    "            showarrow=False,)\n",
    "    return fig"
   ]
  },
  {
   "cell_type": "code",
   "execution_count": null,
   "id": "9db32095-f8f8-43c5-b616-a2b66dcc9fe3",
   "metadata": {
    "tags": []
   },
   "outputs": [],
   "source": [
    "def replace_yaxis_labels(fig: Figure, axis_title):\n",
    "    fig.for_each_yaxis(lambda y: y.update(title = ''))\n",
    "    fig.add_annotation(x=-0.05,y=0.5,\n",
    "                   text=axis_title, textangle=-90,\n",
    "                       font=dict(size=16),\n",
    "                    xref=\"paper\", yref=\"paper\",\n",
    "            showarrow=False,)\n",
    "    return fig"
   ]
  },
  {
   "cell_type": "code",
   "execution_count": null,
   "id": "70cc3f93-4818-461d-b8d8-67f11cd7a4e6",
   "metadata": {
    "tags": []
   },
   "outputs": [],
   "source": [
    "def clean_labels(fig):\n",
    "    fig.for_each_annotation(lambda a: a.update(text=a.text.split(\"=\")[-1]))\n",
    "    return fig"
   ]
  },
  {
   "cell_type": "markdown",
   "id": "ddb488fc-f03e-40bb-98a5-6f84bd20c029",
   "metadata": {},
   "source": [
    "### scatterplot wrapper"
   ]
  },
  {
   "cell_type": "code",
   "execution_count": null,
   "id": "3e124eb8-e8c8-4792-b9aa-45797ae4ea2f",
   "metadata": {
    "tags": []
   },
   "outputs": [],
   "source": [
    "def scatter_wrapper(df, kwarg_dict, \n",
    "                    x_axis_title=None, \n",
    "                    y_axis_title=None, \n",
    "                    replace_xaxis=False,\n",
    "                    replace_y_axis=False,\n",
    "                    clean=True,\n",
    "                    x_axis_reversed=False\n",
    "                   ):\n",
    "    fig:Figure = px.scatter(df, **kwarg_dict, hover_data=df.columns)\n",
    "    if x_axis_title:\n",
    "        if replace_xaxis:\n",
    "            fig = replace_xaxis_labels(fig, x_axis_title)\n",
    "        else:\n",
    "            fig.update_xaxes(title=x_axis_title)\n",
    "    \n",
    "    if y_axis_title:\n",
    "        if replace_y_axis:\n",
    "            fig = replace_yaxis_labels(fig, y_axis_title)\n",
    "        else:\n",
    "            fig.update_yaxes(title=y_axis_title)\n",
    "    \n",
    "    if clean:\n",
    "        fig = clean_labels(fig)\n",
    "    if x_axis_reversed:\n",
    "        fig.update_xaxes(autorange=\"reversed\")\n",
    "    return fig"
   ]
  },
  {
   "cell_type": "markdown",
   "id": "1f03eefa-ccb2-4f24-ab74-d60f9a504770",
   "metadata": {},
   "source": [
    "### splify df"
   ]
  },
  {
   "cell_type": "code",
   "execution_count": null,
   "id": "e43b4552-6167-4050-a3f1-63052bcbab97",
   "metadata": {
    "tags": []
   },
   "outputs": [],
   "source": [
    "def simplify_df(df, condition_dict):\n",
    "    new_df = df.copy()\n",
    "    for column, value in condition_dict.items():\n",
    "        new_df = new_df[new_df[column] == value]\n",
    "    return new_df"
   ]
  },
  {
   "cell_type": "markdown",
   "id": "2e420dae-8e8c-41ea-bd11-96433a5f530b",
   "metadata": {},
   "source": [
    "# Overall Analysis"
   ]
  },
  {
   "cell_type": "code",
   "execution_count": null,
   "id": "6002b158-321d-442c-874f-bb694f5ca006",
   "metadata": {
    "tags": []
   },
   "outputs": [],
   "source": [
    "df.groupby(\"Version\").nunique()[[\"Complex_ID\", \"Compound_ID\", \"Structure_Source\"]]"
   ]
  },
  {
   "cell_type": "markdown",
   "id": "22b28b36-42e0-482a-9e6b-51e54ff7e4f4",
   "metadata": {},
   "source": [
    "# Drop self docking results and results with diff compounds"
   ]
  },
  {
   "cell_type": "markdown",
   "id": "4591fd62-69a8-44f2-8d1b-7f4c739d391f",
   "metadata": {},
   "source": [
    "# filter by hybrid-only ones"
   ]
  },
  {
   "cell_type": "code",
   "execution_count": null,
   "id": "7376bba3-56c9-458a-ab54-5bb0bc7c572c",
   "metadata": {
    "tags": []
   },
   "outputs": [],
   "source": [
    "cmpds = df[df[\"Version\"] == \"Hybrid-Only\"].Compound_ID.unique()"
   ]
  },
  {
   "cell_type": "code",
   "execution_count": null,
   "id": "9a048a61-ad86-4f13-9b72-d1580737016a",
   "metadata": {
    "tags": []
   },
   "outputs": [],
   "source": [
    "clean = df[df.Compound_ID.isin(cmpds)]"
   ]
  },
  {
   "cell_type": "code",
   "execution_count": null,
   "id": "c7fc03ed-da20-43b5-bd7a-373d4f8ac68e",
   "metadata": {
    "tags": []
   },
   "outputs": [],
   "source": [
    "structures = clean[clean[\"Version\"] == \"Hybrid-Only\"].Structure_Source.unique()"
   ]
  },
  {
   "cell_type": "code",
   "execution_count": null,
   "id": "cb21f318-5bdb-4405-af72-a5db13273954",
   "metadata": {
    "tags": []
   },
   "outputs": [],
   "source": [
    "clean = clean[clean.Structure_Source.isin(structures)]"
   ]
  },
  {
   "cell_type": "markdown",
   "id": "a217a051-d27b-4a35-a57b-d293f432db0c",
   "metadata": {},
   "source": [
    "## remove self-docked"
   ]
  },
  {
   "cell_type": "code",
   "execution_count": null,
   "id": "3189585e-9f01-4a10-8cdd-2d52443084b7",
   "metadata": {
    "tags": []
   },
   "outputs": [],
   "source": [
    "clean = clean[clean.Compound_ID != clean.Reference_Ligand]"
   ]
  },
  {
   "cell_type": "code",
   "execution_count": null,
   "id": "1f461e95-279b-46ca-9a5f-ffbdc5da27fb",
   "metadata": {
    "tags": []
   },
   "outputs": [],
   "source": [
    "clean.groupby(\"Version\").nunique()"
   ]
  },
  {
   "cell_type": "markdown",
   "id": "a1d82629-2d03-4037-b29b-f44bcd09e811",
   "metadata": {},
   "source": [
    "## remove failed hybrid-only ones"
   ]
  },
  {
   "cell_type": "code",
   "execution_count": null,
   "id": "40e9ca8b-5667-481f-840a-16e978ea4744",
   "metadata": {
    "tags": []
   },
   "outputs": [],
   "source": [
    "ref_ligs = clean[clean[\"Version\"] == \"Hybrid-Only\"].Reference_Ligand.unique()"
   ]
  },
  {
   "cell_type": "code",
   "execution_count": null,
   "id": "a2439928-f624-42b6-8df6-f7220f313215",
   "metadata": {
    "tags": []
   },
   "outputs": [],
   "source": [
    "len(np.intersect1d(ref_ligs, cmpds))"
   ]
  },
  {
   "cell_type": "code",
   "execution_count": null,
   "id": "9a289524-c302-48b8-b25d-fc19bcc909d6",
   "metadata": {
    "tags": []
   },
   "outputs": [],
   "source": [
    "n_successfully_docked =clean.groupby(\"Compound_ID\").nunique().Docked_File"
   ]
  },
  {
   "cell_type": "code",
   "execution_count": null,
   "id": "e63eba50-92cb-4399-8de2-e635db947a73",
   "metadata": {
    "tags": []
   },
   "outputs": [],
   "source": [
    "px.histogram(n_successfully_docked / 2)"
   ]
  },
  {
   "cell_type": "code",
   "execution_count": null,
   "id": "b68f1990-5933-4a82-b8e0-c0143755366b",
   "metadata": {
    "tags": []
   },
   "outputs": [],
   "source": [
    "n_successfully_docked[n_successfully_docked < 308]"
   ]
  },
  {
   "cell_type": "code",
   "execution_count": null,
   "id": "0a908fc1-a457-4816-92dd-acc358ff1741",
   "metadata": {
    "tags": []
   },
   "outputs": [],
   "source": [
    "clean[clean.Compound_ID == \"ALP-POS-ecbed2ba-12\"].groupby(\"Version\").nunique()"
   ]
  },
  {
   "cell_type": "code",
   "execution_count": null,
   "id": "275c1fd6-edd0-4b97-aa44-766242e43cfe",
   "metadata": {
    "tags": []
   },
   "outputs": [],
   "source": [
    "minimal_success = clean[(clean.Compound_ID == \"ALP-POS-ecbed2ba-12\") & (clean.Version == \"Hybrid-Only\")].Reference_Ligand.unique()"
   ]
  },
  {
   "cell_type": "code",
   "execution_count": null,
   "id": "e059abb0-8e53-42e6-9761-39103b57a67a",
   "metadata": {
    "tags": []
   },
   "outputs": [],
   "source": [
    "superclean = clean[clean.Compound_ID.isin(minimal_success)]\n",
    "superclean = superclean[superclean.Reference_Ligand.isin(minimal_success)]"
   ]
  },
  {
   "cell_type": "code",
   "execution_count": null,
   "id": "6da591c7-8eeb-4201-b1cb-481b4808fe71",
   "metadata": {
    "tags": []
   },
   "outputs": [],
   "source": [
    "n_successfully_docked_superclean = superclean.groupby(\"Compound_ID\").nunique().Docked_File"
   ]
  },
  {
   "cell_type": "code",
   "execution_count": null,
   "id": "fab34cf5-4f00-427a-882e-da886c8b4901",
   "metadata": {
    "tags": []
   },
   "outputs": [],
   "source": [
    "px.histogram(n_successfully_docked_superclean / 2)"
   ]
  },
  {
   "cell_type": "code",
   "execution_count": null,
   "id": "d0a6f4e3-89c0-4234-b5dc-b023f8d8c184",
   "metadata": {
    "tags": []
   },
   "outputs": [],
   "source": [
    "minimal_success = superclean[(superclean.Compound_ID == \"MAT-POS-5cd9ea36-16\") & (superclean.Version == \"Hybrid-Only\")].Reference_Ligand.unique()"
   ]
  },
  {
   "cell_type": "code",
   "execution_count": null,
   "id": "6c709054-2460-45db-9e87-4bc8e754a777",
   "metadata": {
    "tags": []
   },
   "outputs": [],
   "source": [
    "superclean = superclean[superclean.Compound_ID.isin(minimal_success)]\n",
    "superclean = superclean[superclean.Reference_Ligand.isin(minimal_success)]"
   ]
  },
  {
   "cell_type": "code",
   "execution_count": null,
   "id": "d69c79c8-595d-40f9-b894-ff47253a8228",
   "metadata": {
    "tags": []
   },
   "outputs": [],
   "source": [
    "n_successfully_docked_superclean = superclean.groupby(\"Compound_ID\").nunique().Docked_File"
   ]
  },
  {
   "cell_type": "code",
   "execution_count": null,
   "id": "c5e390d4-396a-4e10-ad85-de34a5fce92c",
   "metadata": {
    "tags": []
   },
   "outputs": [],
   "source": [
    "px.histogram(n_successfully_docked_superclean / 2)"
   ]
  },
  {
   "cell_type": "code",
   "execution_count": null,
   "id": "8cb5e3b4-e7de-4acc-8d43-360155983e69",
   "metadata": {
    "tags": []
   },
   "outputs": [],
   "source": [
    "superclean.groupby(\"Compound_ID\").nunique().sort_values(\"Docked_File\")"
   ]
  },
  {
   "cell_type": "code",
   "execution_count": null,
   "id": "4a8466b8-e798-4d0b-9a97-6f10897af262",
   "metadata": {
    "tags": []
   },
   "outputs": [],
   "source": [
    "minimal_success = superclean[(superclean.Compound_ID == \"MAT-POS-5cd9ea36-13\") & (superclean.Version == \"Hybrid-Only\")].Reference_Ligand.unique()"
   ]
  },
  {
   "cell_type": "code",
   "execution_count": null,
   "id": "60feeb28-14f2-4244-9813-55c2057ed44a",
   "metadata": {
    "tags": []
   },
   "outputs": [],
   "source": [
    "superclean = superclean[superclean.Compound_ID.isin(minimal_success)]\n",
    "superclean = superclean[superclean.Reference_Ligand.isin(minimal_success)]"
   ]
  },
  {
   "cell_type": "code",
   "execution_count": null,
   "id": "929b1949-2b9f-489b-8adb-184a2409937a",
   "metadata": {
    "tags": []
   },
   "outputs": [],
   "source": [
    "n_successfully_docked_superclean = superclean.groupby(\"Compound_ID\").nunique().Docked_File"
   ]
  },
  {
   "cell_type": "code",
   "execution_count": null,
   "id": "03a0bd2b-da94-41da-9357-2be828ad6b8b",
   "metadata": {
    "tags": []
   },
   "outputs": [],
   "source": [
    "px.histogram(n_successfully_docked_superclean / 2)"
   ]
  },
  {
   "cell_type": "code",
   "execution_count": null,
   "id": "54ccfb61-1b6d-435d-9d88-ac8538f6ead1",
   "metadata": {
    "tags": []
   },
   "outputs": [],
   "source": [
    "#clean = clean[clean.Complex_ID.isin(complexes)]"
   ]
  },
  {
   "cell_type": "code",
   "execution_count": null,
   "id": "18c05108-f6f8-4ecd-af46-7d86803126ab",
   "metadata": {
    "tags": []
   },
   "outputs": [],
   "source": [
    "#clean.groupby(\"Version\").nunique()[[\"Complex_ID\", \"Compound_ID\", \"Structure_Source\"]]"
   ]
  },
  {
   "cell_type": "code",
   "execution_count": null,
   "id": "55659563-fdb4-4d35-83ca-a2809ad17110",
   "metadata": {
    "tags": []
   },
   "outputs": [],
   "source": [
    "clean_all = clean[clean.Version == \"All\"]"
   ]
  },
  {
   "cell_type": "code",
   "execution_count": null,
   "id": "a96e076d-28ea-409a-8441-c17d26472544",
   "metadata": {
    "tags": []
   },
   "outputs": [],
   "source": [
    "clean_all.groupby(\"Version\").nunique()[[\"Complex_ID\", \"Compound_ID\", \"Structure_Source\"]]"
   ]
  },
  {
   "cell_type": "markdown",
   "id": "4a96f7b9-d277-487b-8d29-0826afda2365",
   "metadata": {},
   "source": [
    "# By Random Sort"
   ]
  },
  {
   "cell_type": "code",
   "execution_count": null,
   "id": "65510abd-4859-45fc-89d6-4cc38459c9a4",
   "metadata": {
    "tags": []
   },
   "outputs": [],
   "source": [
    "from tqdm import tqdm"
   ]
  },
  {
   "cell_type": "code",
   "execution_count": null,
   "id": "9666929e-6dc3-4a00-8dfb-0fcb2f96e19c",
   "metadata": {
    "tags": []
   },
   "outputs": [],
   "source": [
    "structures = clean.Structure_Source.unique()\n",
    "random_dfs = []\n",
    "for i in tqdm(range(0,100)):\n",
    "    shuffled_structures = np.random.choice(structures, len(structures))\n",
    "    # print(structures)\n",
    "    # print(shuffled_structures)\n",
    "    split_cols_list = []\n",
    "    score_list = []\n",
    "    cutoff_list = []\n",
    "    perc_mols_list = []\n",
    "    n_references = []\n",
    "    for n_refs in range(1,len(structures), 5):\n",
    "        # get a random set of structures\n",
    "        sampled_structures = shuffled_structures[0:n_refs]\n",
    "        df_subset = clean[clean.Structure_Source.isin(sampled_structures)]\n",
    "\n",
    "        # now sort by posit score\n",
    "        best = df_subset.sort_values(\"POSIT\", ascending=False).groupby([\"Version\", \"Compound_ID\"]).head(1)\n",
    "\n",
    "        # print(best.groupby(\"Version\").nunique())\n",
    "        perc_good = a.calc_perc_good(best, \n",
    "                         score_column=rmsd, \n",
    "                         good_score=good,\n",
    "                         total_mol=len(df_subset.Compound_ID.unique()))\n",
    "        for split_col in perc_good.index:\n",
    "            split_cols_list.append(split_col)\n",
    "            score_list.append(perc_good[split_col])\n",
    "            n_references.append(n_refs)\n",
    "\n",
    "    return_df = pd.DataFrame(\n",
    "        {\n",
    "            \"Fraction\": score_list,\n",
    "            \"Version\": split_cols_list,\n",
    "            \"Number of References\": n_references,\n",
    "        }\n",
    "    )\n",
    "    random_dfs.append(return_df)"
   ]
  },
  {
   "cell_type": "code",
   "execution_count": null,
   "id": "7ece8b2c-c2a6-43fe-998f-1475bb725b0a",
   "metadata": {
    "tags": []
   },
   "outputs": [],
   "source": [
    "combined = pd.concat(random_dfs)"
   ]
  },
  {
   "cell_type": "code",
   "execution_count": null,
   "id": "e40dc51f-7088-4291-a0ae-d09acc8078bd",
   "metadata": {
    "tags": []
   },
   "outputs": [],
   "source": [
    "stats = combined.groupby([\"Version\", \"Number of References\"]).describe().reset_index()"
   ]
  },
  {
   "cell_type": "code",
   "execution_count": null,
   "id": "64104bf9-47c5-449c-8ef7-11db9d467f35",
   "metadata": {
    "tags": []
   },
   "outputs": [],
   "source": [
    "stats.columns = [\"Version\", \"Number of References\", \"count\", \"mean\", \"std\", \"min\", \"25%\", \"50%\", \"75%\", \"max\"]"
   ]
  },
  {
   "cell_type": "code",
   "execution_count": null,
   "id": "515a3aa0-35c0-4353-8e95-113d6b91d7dd",
   "metadata": {
    "tags": []
   },
   "outputs": [],
   "source": [
    "stats"
   ]
  },
  {
   "cell_type": "code",
   "execution_count": null,
   "id": "cc3a0c1d-6529-4b69-b927-44406cb32fd3",
   "metadata": {
    "tags": []
   },
   "outputs": [],
   "source": [
    "fig = scatter_wrapper(stats, kwarg_dict=dict(y=\"mean\", x=\"Number of References\", error_y=\"std\", **basic_plot_kwargs, **single_plot_kwargs, **fraction_plot_kwargs))\n",
    "fig.update_yaxes(title=frac_title)\n",
    "fig.update_xaxes(title=\"Number of References\")\n",
    "fig.show()\n",
    "fig.write_image(\"20231002_random_posit_full_all.png\")"
   ]
  },
  {
   "cell_type": "markdown",
   "id": "a09fdcb8-4ff0-4664-ab17-5ad1eeb677a8",
   "metadata": {},
   "source": [
    "## use new calculation function"
   ]
  },
  {
   "cell_type": "code",
   "execution_count": null,
   "id": "9523fddc-c0e1-4bd6-93bf-43e806a3a684",
   "metadata": {
    "tags": []
   },
   "outputs": [],
   "source": [
    "reload(a)\n",
    "random_stats = a.calculate_rmsd_stats(clean, query_mol_id=\"Compound_ID\", reference_selection=\"random\", ref_structure_stride=10, score_column=\"POSIT_R\", group_by=[\"Version\"], n_bootstraps=100)\n",
    "date_stats = a.calculate_rmsd_stats(clean, query_mol_id=\"Compound_ID\", reference_selection=\"Structure_Date\", ref_structure_stride=10, score_column=\"POSIT_R\", group_by=[\"Version\"], n_bootstraps=100)"
   ]
  },
  {
   "cell_type": "code",
   "execution_count": null,
   "id": "3e97ec9c-cb0b-49c1-85f3-0b5af55b5753",
   "metadata": {
    "tags": []
   },
   "outputs": [],
   "source": [
    "tc_stats = a.calculate_rmsd_stats(clean, query_mol_id=\"Compound_ID\", reference_selection=\"TanimotoCombo_R\", ref_structure_stride=10, score_column=\"POSIT_R\", group_by=[\"Version\"], n_bootstraps=100)"
   ]
  },
  {
   "cell_type": "code",
   "execution_count": null,
   "id": "e1686459-5af6-45d4-9bd9-cee9ccb9f7ee",
   "metadata": {
    "tags": []
   },
   "outputs": [],
   "source": [
    "tcr_stats = a.calculate_rmsd_stats(clean, query_mol_id=\"Compound_ID\", reference_selection=\"TanimotoCombo\", ref_structure_stride=10, score_column=\"POSIT_R\", group_by=[\"Version\"], n_bootstraps=100)"
   ]
  },
  {
   "cell_type": "code",
   "execution_count": null,
   "id": "be02094b-46b7-41e1-b9b2-df2ba30a9f24",
   "metadata": {
    "tags": []
   },
   "outputs": [],
   "source": [
    "all_stats = pd.concat([random_stats, date_stats, tc_stats, tcr_stats])"
   ]
  },
  {
   "cell_type": "code",
   "execution_count": null,
   "id": "82c728d2-994d-4a1c-9b65-e6fadb83db0b",
   "metadata": {},
   "outputs": [],
   "source": [
    "all_stats"
   ]
  },
  {
   "cell_type": "code",
   "execution_count": null,
   "id": "ac1be9e4-91e4-426b-a495-7be9f5879e4c",
   "metadata": {
    "tags": []
   },
   "outputs": [],
   "source": [
    "simple = all_stats.drop(columns=[\"Mean Number of References\", \"Max Number of References\", \"Min Number of References\", \"Split_Value_min\", \"Split_Value_max\"])\n",
    "aggregated = simple.groupby([\"Version\", \"Number of References\", \"Structure_Split\"]).mean().reset_index()\n",
    "aggregated[\"Max\"] = simple.groupby([\"Version\", \"Number of References\", \"Structure_Split\"]).quantile(0.975).reset_index()[\"Fraction\"] - aggregated[\"Fraction\"]\n",
    "aggregated[\"Min\"] = aggregated[\"Fraction\"] - simple.groupby([\"Version\", \"Number of References\", \"Structure_Split\"]).quantile(0.025).reset_index()[\"Fraction\"]"
   ]
  },
  {
   "cell_type": "code",
   "execution_count": null,
   "id": "1f420879-2f3f-41ba-8116-afaa6be40bf2",
   "metadata": {},
   "outputs": [],
   "source": [
    "aggregated.to_csv(\"20240120_aggregated_all_stats_bootstraps100_stride10\")"
   ]
  },
  {
   "cell_type": "code",
   "execution_count": null,
   "id": "6d658b9c-425c-496c-b598-6fff679b0cc1",
   "metadata": {
    "tags": []
   },
   "outputs": [],
   "source": [
    "fig = scatter_wrapper(aggregated[aggregated[\"Version\"] == \"Hybrid-Only\"], \n",
    "                      dict(\n",
    "                          y=\"Fraction\", color=\"Structure_Split\", facet_col=\"Version\",\n",
    "                          color_discrete_sequence=px.colors.qualitative.Dark24,\n",
    "                          error_y=\"Max\", \n",
    "                          error_y_minus=\"Min\",\n",
    "                          template=\"seaborn\",\n",
    "                           **fraction_plot_kwargs,\n",
    "                           x=\"Number of References\", \n",
    "                          height=400,\n",
    "                          width=600,\n",
    "                           # **single_plot_kwargs\n",
    "                          labels={\"Structure_Date\": \"Date of Structure Deposition\", \n",
    "                                  \"TanimotoCombo\": \"Decreasing Chemical Similarity (TC)\", \n",
    "                                  \"TanimotoCombo_R\": \"Increasing Chemical Similarity (TC)\",\n",
    "                                  \"random\":\"Random\"}\n",
    "                      ),\n",
    "                     y_axis_title=frac_title,\n",
    "                     x_axis_title=\"Number of References\",\n",
    "                     )\n",
    "fig.show()\n",
    "fig.write_image(\"20240116_structure_splits_hybrid.png\")"
   ]
  },
  {
   "cell_type": "code",
   "execution_count": null,
   "id": "bdef569e-aa9d-4eef-8228-216cc29961ca",
   "metadata": {
    "tags": []
   },
   "outputs": [],
   "source": [
    "fig = scatter_wrapper(aggregated, \n",
    "                      dict(\n",
    "                          y=\"Fraction\", color=\"Structure_Split\", facet_col=\"Version\",\n",
    "                          color_discrete_sequence=px.colors.qualitative.Dark24,\n",
    "                          error_y=\"Max\", \n",
    "                          error_y_minus=\"Min\",\n",
    "                          template=\"seaborn\",\n",
    "                           **fraction_plot_kwargs,\n",
    "                           x=\"Number of References\", \n",
    "                          height=600,\n",
    "                          width=800\n",
    "                           # **single_plot_kwargs\n",
    "                      ),\n",
    "                     y_axis_title=frac_title,\n",
    "                     x_axis_title=\"Number of References\"\n",
    "                     )\n",
    "fig.for_each_yaxis(lambda y: y.update(title = ''))\n",
    "# fig.add_annotation(x=-0.03, y=0.5,text=frac_title, textangle=-90,\n",
    "#                     xref=\"paper\", yref=\"paper\")\n",
    "# fig.update_yaxes(title=frac_title)\n",
    "fig.update_layout(yaxis1=dict(title=frac_title), height=400, width=800)\n",
    "fig.show()\n",
    "fig.write_image(\"20240116_structure_splits_big.png\")"
   ]
  },
  {
   "cell_type": "markdown",
   "id": "34d8d22e-3152-4174-82bb-19c7466e2502",
   "metadata": {
    "tags": []
   },
   "source": [
    "# Test different scoring functions for Chemical Similarity"
   ]
  },
  {
   "cell_type": "code",
   "execution_count": null,
   "id": "8b5f7c88-f283-43c2-9717-7a76c5db1128",
   "metadata": {
    "tags": []
   },
   "outputs": [],
   "source": [
    "tcr_posit = a.calculate_rmsd_stats(clean, \n",
    "                       query_mol_id=\"Compound_ID\", \n",
    "                       reference_selection=\"TanimotoCombo\", \n",
    "                       ref_structure_stride=10, score_column=\"POSIT_R\", group_by=[\"Version\"], n_bootstraps=100)"
   ]
  },
  {
   "cell_type": "code",
   "execution_count": null,
   "id": "bd5f51d6-4816-447e-ab7f-106fd6276fde",
   "metadata": {
    "tags": []
   },
   "outputs": [],
   "source": [
    "tcr_rmsd = a.calculate_rmsd_stats(clean, \n",
    "                       query_mol_id=\"Compound_ID\", \n",
    "                       reference_selection=\"TanimotoCombo\", \n",
    "                       ref_structure_stride=10, score_column=\"RMSD\", group_by=[\"Version\"], n_bootstraps=100)"
   ]
  },
  {
   "cell_type": "code",
   "execution_count": null,
   "id": "599d73b3-ab2b-4d08-959f-e022d6cbc52a",
   "metadata": {
    "tags": []
   },
   "outputs": [],
   "source": [
    "tcr_chemgauss = a.calculate_rmsd_stats(clean, \n",
    "                       query_mol_id=\"Compound_ID\", \n",
    "                       reference_selection=\"TanimotoCombo\", \n",
    "                       ref_structure_stride=10, score_column=\"Chemgauss4\", group_by=[\"Version\"], n_bootstraps=100)"
   ]
  },
  {
   "cell_type": "code",
   "execution_count": null,
   "id": "fe069056-efd1-4270-b0bd-e0dddaea0faf",
   "metadata": {
    "tags": []
   },
   "outputs": [],
   "source": [
    "tcr_tcr = a.calculate_rmsd_stats(clean, \n",
    "                       query_mol_id=\"Compound_ID\", \n",
    "                       reference_selection=\"TanimotoCombo\", \n",
    "                       ref_structure_stride=10, score_column=\"TanimotoCombo_R\", group_by=[\"Version\"], n_bootstraps=100)"
   ]
  },
  {
   "cell_type": "code",
   "execution_count": null,
   "id": "87577ead-31d5-471f-8f8d-39ee4a05451c",
   "metadata": {
    "tags": []
   },
   "outputs": [],
   "source": [
    "clean.columns"
   ]
  },
  {
   "cell_type": "code",
   "execution_count": null,
   "id": "f4b6ef2d-5fb7-42ce-8cee-3b30a841f77b",
   "metadata": {
    "tags": []
   },
   "outputs": [],
   "source": [
    "random = clean.sample(frac=1)\n",
    "subset_df = random.sort_values(\"SCHNET_score\").groupby([\"Compound_ID\", \"Version\"]).head(1)"
   ]
  },
  {
   "cell_type": "code",
   "execution_count": null,
   "id": "b1633f09-4d5b-4ce0-bc7d-c12b3174497d",
   "metadata": {
    "tags": []
   },
   "outputs": [],
   "source": [
    "rmsd_col = subset_df.groupby(\"Version\", group_keys=True)[\"RMSD\"].apply(lambda x: x <= 2).groupby(\"Version\").sum() / len(random[\"Compound_ID\"].unique())"
   ]
  },
  {
   "cell_type": "code",
   "execution_count": null,
   "id": "964f4e63-bedd-4418-be55-e8ca6e27230f",
   "metadata": {
    "tags": []
   },
   "outputs": [],
   "source": [
    "rmsd_col"
   ]
  },
  {
   "cell_type": "code",
   "execution_count": null,
   "id": "595522ca-dcbc-43f5-9215-43cc9dc039d9",
   "metadata": {
    "tags": []
   },
   "outputs": [],
   "source": [
    "tcr_random = a.calculate_rmsd_stats(clean, \n",
    "                       query_mol_id=\"Compound_ID\", \n",
    "                       reference_selection=\"TanimotoCombo_R\", \n",
    "                       ref_structure_stride=10, score_column=\"SCHNET_score\", group_by=[\"Version\"], n_bootstraps=100)"
   ]
  },
  {
   "cell_type": "code",
   "execution_count": null,
   "id": "c76711e1-e660-4413-a1d1-abfdd85f7ac7",
   "metadata": {
    "tags": []
   },
   "outputs": [],
   "source": [
    "tcr_random"
   ]
  },
  {
   "cell_type": "code",
   "execution_count": null,
   "id": "8c336dde-97b0-48e8-8306-cbd8d4db06ce",
   "metadata": {
    "tags": []
   },
   "outputs": [],
   "source": [
    "tcr_posit[\"Score\"] = \"POSIT_R\"\n",
    "tcr_rmsd[\"Score\"] = \"RMSD\"\n",
    "tcr_chemgauss[\"Score\"] = \"Chemgauss4\"\n",
    "tcr_tcr[\"Score\"] = \"TanimotoCombo\"\n",
    "tcr_random[\"Score\"] = \"Random\""
   ]
  },
  {
   "cell_type": "code",
   "execution_count": null,
   "id": "937d2661-e1c7-46e7-890d-d321816ebc3d",
   "metadata": {
    "tags": []
   },
   "outputs": [],
   "source": [
    "tcr_combined = pd.concat([tcr_rmsd, tcr_posit, tcr_chemgauss, tcr_tcr, tcr_random])"
   ]
  },
  {
   "cell_type": "code",
   "execution_count": null,
   "id": "d93b96fb-607c-48fe-8b3c-48c60ff8e94a",
   "metadata": {},
   "outputs": [],
   "source": [
    "tcr_combined"
   ]
  },
  {
   "cell_type": "code",
   "execution_count": null,
   "id": "5349bf10-a509-4d4b-800c-07ebccc5cd5b",
   "metadata": {},
   "outputs": [],
   "source": [
    "tcr_simple = tcr_combined.drop(columns=[\"Mean Number of References\", \"Max Number of References\", \"Min Number of References\", \"Split_Value_min\", \"Split_Value_max\", \"Structure_Split\"])"
   ]
  },
  {
   "cell_type": "code",
   "execution_count": null,
   "id": "7eb4bd8b-657e-4145-b3a4-486766616938",
   "metadata": {},
   "outputs": [],
   "source": [
    "tcr_simple"
   ]
  },
  {
   "cell_type": "code",
   "execution_count": null,
   "id": "ddd64e58-ea3a-4a1b-ab3a-d622e59351a6",
   "metadata": {
    "tags": []
   },
   "outputs": [],
   "source": [
    "tcr_agg = tcr_simple.groupby([\"Version\", \"Number of References\", \"Score\"]).mean().reset_index()\n",
    "# tcr_agg = tcr_agg[\"Score\"] != \"Random\"\n",
    "tcr_agg[\"Max\"] = tcr_simple.groupby([\"Version\", \"Number of References\", \"Score\"]).quantile(0.975).reset_index()[\"Fraction\"] - tcr_agg[\"Fraction\"]\n",
    "tcr_agg[\"Min\"] = tcr_agg[\"Fraction\"] - tcr_simple.groupby([\"Version\", \"Number of References\", \"Score\"]).quantile(0.025).reset_index()[\"Fraction\"]"
   ]
  },
  {
   "cell_type": "code",
   "execution_count": null,
   "id": "3a82039f-c9f6-4643-a143-717bfcd5917c",
   "metadata": {},
   "outputs": [],
   "source": [
    "tcr_simple.groupby([\"Version\", \"Number of References\", \"Score\"]).quantile(0.025)"
   ]
  },
  {
   "cell_type": "code",
   "execution_count": null,
   "id": "6b90dafa-0fcf-4c52-9cf6-61308d9dc90e",
   "metadata": {
    "tags": []
   },
   "outputs": [],
   "source": [
    "fig = scatter_wrapper(tcr_agg[tcr_agg.Version == \"Hybrid-Only\"], \n",
    "                      dict(\n",
    "                          y=\"Fraction\", color=\"Score\",\n",
    "                          color_discrete_sequence=px.colors.qualitative.Pastel,\n",
    "                          error_y=\"Max\", \n",
    "                          error_y_minus=\"Min\",\n",
    "                          template=\"simple_white\",\n",
    "                           **fraction_plot_kwargs,\n",
    "                           x=\"Number of References\", \n",
    "                          height=600,\n",
    "                          width=800,\n",
    "                           # **single_plot_kwargs\n",
    "                          category_orders=dict(Score=[\"RMSD\", \"POSIT_R\", \"Chemgauss4\"])\n",
    "                      ),\n",
    "                     y_axis_title=frac_title,\n",
    "                     x_axis_title=\"Number of References\"\n",
    "                     )\n",
    "fig.for_each_yaxis(lambda y: y.update(title = ''))\n",
    "# fig.add_annotation(x=-0.03, y=0.5,text=frac_title, textangle=-90,\n",
    "#                     xref=\"paper\", yref=\"paper\")\n",
    "fig.update_yaxes(title=frac_title)\n",
    "fig.update_layout(title=\"Posed by: Hybrid-Only POSIT\", yaxis1=dict(title=frac_title), height=400, width=600)\n",
    "fig.show()\n",
    "fig.write_image(\"20231017_hybrid_score_comparison_increasing similarity.png\")"
   ]
  },
  {
   "cell_type": "code",
   "execution_count": null,
   "id": "ace5063e-75be-4a6e-b8a8-bc98d76a1ee2",
   "metadata": {
    "tags": []
   },
   "outputs": [],
   "source": [
    "fig = scatter_wrapper(tcr_agg, \n",
    "                      dict(\n",
    "                          y=\"Fraction\", color=\"Version\", facet_col=\"Score\",\n",
    "                          color_discrete_sequence=px.colors.qualitative.Pastel,\n",
    "                          # error_y=\"Max\", \n",
    "                          # error_y_minus=\"Min\",\n",
    "                          template=\"simple_white\",\n",
    "                           **fraction_plot_kwargs,\n",
    "                           x=\"Number of References\", \n",
    "                          height=600,\n",
    "                          width=800,\n",
    "                           # **single_plot_kwargs\n",
    "                          category_orders=dict(Score=[\"RMSD\", \"POSIT_R\", \"Chemgauss4\"])\n",
    "                      ),\n",
    "                     y_axis_title=frac_title,\n",
    "                     x_axis_title=\"Number of References\"\n",
    "                     )\n",
    "fig.for_each_yaxis(lambda y: y.update(title = ''))\n",
    "# fig.add_annotation(x=-0.03, y=0.5,text=frac_title, textangle=-90,\n",
    "#                     xref=\"paper\", yref=\"paper\")\n",
    "# fig.update_yaxes(title=frac_title)\n",
    "fig.update_layout(title=\"Variance of Docking Performance with Increasing Chemical Similarity\", yaxis1=dict(title=frac_title), height=400, width=1200)\n",
    "fig.show()\n",
    "fig.write_image(\"20231017_all_score_comparison_increasing_similarity.png\")"
   ]
  },
  {
   "cell_type": "markdown",
   "id": "475f8fce-3b4d-4a47-aad8-493b51b90a25",
   "metadata": {},
   "source": [
    "## group by POSIT_Method as well"
   ]
  },
  {
   "cell_type": "code",
   "execution_count": null,
   "id": "b98a1c66-3a1b-42a2-ab07-d587646e0b75",
   "metadata": {
    "tags": []
   },
   "outputs": [],
   "source": [
    "tcr_posit = a.calculate_rmsd_stats(clean, \n",
    "                       query_mol_id=\"Compound_ID\", \n",
    "                       reference_selection=\"TanimotoCombo\", \n",
    "                       ref_structure_stride=10, score_column=\"POSIT_R\", group_by=[\"Version\", \"POSIT_Method\"], n_bootstraps=1)"
   ]
  },
  {
   "cell_type": "code",
   "execution_count": null,
   "id": "b26200e1-55d0-49a3-94ac-45981f051d22",
   "metadata": {
    "tags": []
   },
   "outputs": [],
   "source": [
    "tcr_rmsd = a.calculate_rmsd_stats(clean, \n",
    "                       query_mol_id=\"Compound_ID\", \n",
    "                       reference_selection=\"TanimotoCombo\", \n",
    "                       ref_structure_stride=10, score_column=\"RMSD\", group_by=[\"Version\", \"POSIT_Method\"], n_bootstraps=1)"
   ]
  },
  {
   "cell_type": "code",
   "execution_count": null,
   "id": "1978c616-d778-4ac5-b2a9-625947047b93",
   "metadata": {
    "tags": []
   },
   "outputs": [],
   "source": [
    "tcr_chemgauss = a.calculate_rmsd_stats(clean, \n",
    "                       query_mol_id=\"Compound_ID\", \n",
    "                       reference_selection=\"TanimotoCombo\", \n",
    "                       ref_structure_stride=10, score_column=\"Chemgauss4\", group_by=[\"Version\", \"POSIT_Method\"], n_bootstraps=1)"
   ]
  },
  {
   "cell_type": "code",
   "execution_count": null,
   "id": "fca20b1d-60bd-4bec-be46-f848df2cd56d",
   "metadata": {
    "tags": []
   },
   "outputs": [],
   "source": [
    "tcr_tcr = a.calculate_rmsd_stats(clean, \n",
    "                       query_mol_id=\"Compound_ID\", \n",
    "                       reference_selection=\"TanimotoCombo\", \n",
    "                       ref_structure_stride=10, score_column=\"TanimotoCombo_R\", group_by=[\"Version\", \"POSIT_Method\"], n_bootstraps=1)"
   ]
  },
  {
   "cell_type": "code",
   "execution_count": null,
   "id": "6b57a8da-fc2b-42e4-b60c-abc059a729ed",
   "metadata": {
    "tags": []
   },
   "outputs": [],
   "source": [
    "tcr_posit[\"Score\"] = \"POSIT_R\"\n",
    "tcr_rmsd[\"Score\"] = \"RMSD\"\n",
    "tcr_chemgauss[\"Score\"] = \"Chemgauss4\"\n",
    "tcr_tcr[\"Score\"] = \"TanimotoCombo\""
   ]
  },
  {
   "cell_type": "code",
   "execution_count": null,
   "id": "3028bcf4-6732-430c-aed5-9f956e3615b4",
   "metadata": {
    "tags": []
   },
   "outputs": [],
   "source": [
    "tcr_combined = pd.concat([tcr_rmsd, tcr_posit, tcr_chemgauss, tcr_tcr])"
   ]
  },
  {
   "cell_type": "code",
   "execution_count": null,
   "id": "661a52a9-7bc5-48a9-82c7-0b188ea219c3",
   "metadata": {
    "tags": []
   },
   "outputs": [],
   "source": [
    "tcr_agg = tcr_combined.groupby([\"Version\", \"Number of References\", \"Structure_Split\", \"Split_Value_min\", \"Split_Value_max\", \"Score\"]).mean().reset_index()\n",
    "tcr_agg[\"Max\"] = tcr_agg.groupby([\"Version\", \"Number of References\", \"Structure_Split\"]).quantile(0.975).reset_index()[\"Fraction\"] - tcr_agg[\"Fraction\"]\n",
    "tcr_agg[\"Min\"] = tcr_agg[\"Fraction\"] - tcr_combined.groupby([\"Version\", \"Number of References\", \"Structure_Split\"]).quantile(0.025).reset_index()[\"Fraction\"]"
   ]
  },
  {
   "cell_type": "code",
   "execution_count": null,
   "id": "dd298237-4f4f-4498-b0ee-96d2fb6094ed",
   "metadata": {
    "tags": []
   },
   "outputs": [],
   "source": [
    "fig = scatter_wrapper(tcr_agg, \n",
    "                      dict(\n",
    "                          y=\"Fraction\", color=\"Version\", facet_col=\"Score\",\n",
    "                          color_discrete_sequence=px.colors.qualitative.Pastel,\n",
    "                          # error_y=\"Max\", \n",
    "                          # error_y_minus=\"Min\",\n",
    "                          template=\"simple_white\",\n",
    "                           **fraction_plot_kwargs,\n",
    "                           x=\"Number of References\", \n",
    "                          height=600,\n",
    "                          width=800,\n",
    "                           # **single_plot_kwargs\n",
    "                          category_orders=dict(Score=[\"RMSD\", \"POSIT_R\", \"Chemgauss4\"])\n",
    "                      ),\n",
    "                     y_axis_title=frac_title,\n",
    "                     x_axis_title=\"Number of References\"\n",
    "                     )\n",
    "fig.for_each_yaxis(lambda y: y.update(title = ''))\n",
    "# fig.add_annotation(x=-0.03, y=0.5,text=frac_title, textangle=-90,\n",
    "#                     xref=\"paper\", yref=\"paper\")\n",
    "# fig.update_yaxes(title=frac_title)\n",
    "fig.update_layout(yaxis1=dict(title=frac_title), height=400, width=1200)\n",
    "fig.show()\n",
    "fig.write_image(\"20231019_scoring_comparison_by_poser.png\")"
   ]
  },
  {
   "cell_type": "code",
   "execution_count": null,
   "id": "0c25959b-c3b8-4cc5-bcd8-63cd24a8ed93",
   "metadata": {
    "tags": []
   },
   "outputs": [],
   "source": [
    "tcr_subset = tcr_agg[tcr_agg.Score == \"TanimotoCombo\"]\n",
    "tcr_subset"
   ]
  },
  {
   "cell_type": "code",
   "execution_count": null,
   "id": "9e78c7bb-b9b1-42b6-a67a-05b0f32c35dd",
   "metadata": {
    "tags": []
   },
   "outputs": [],
   "source": [
    "fig = scatter_wrapper(tcr_subset, \n",
    "                      dict(\n",
    "                          y=\"Fraction\", color=\"Version\", \n",
    "                          # facet_col=\"Score\",\n",
    "                          color_discrete_sequence=px.colors.qualitative.Pastel,\n",
    "                          # error_y=\"Max\", \n",
    "                          # error_y_minus=\"Min\",\n",
    "                          template=\"simple_white\",\n",
    "                           **fraction_plot_kwargs,\n",
    "                           x=\"Number of References\", \n",
    "                          height=600,\n",
    "                          width=800,\n",
    "                           # **single_plot_kwargs\n",
    "                          # category_orders=dict(Score=[\"RMSD\", \"POSIT_R\", \"Chemgauss4\"])\n",
    "                      ),\n",
    "                     y_axis_title=frac_title,\n",
    "                     x_axis_title=\"Number of References\"\n",
    "                     )\n",
    "fig.for_each_yaxis(lambda y: y.update(title = ''))\n",
    "# fig.add_annotation(x=-0.03, y=0.5,text=frac_title, textangle=-90,\n",
    "#                     xref=\"paper\", yref=\"paper\")\n",
    "# fig.update_yaxes(title=frac_title)\n",
    "fig.update_layout(yaxis1=dict(title=frac_title), height=400, width=600)\n",
    "fig.show()\n",
    "fig.write_image(\"20231019_tcr_posing_function_comparison.png\")"
   ]
  },
  {
   "cell_type": "code",
   "execution_count": null,
   "id": "799b7c26-40db-445d-8dd8-e54a08950907",
   "metadata": {},
   "outputs": [],
   "source": []
  },
  {
   "cell_type": "markdown",
   "id": "887f4df3-9748-4475-9c2f-9e0db573f20b",
   "metadata": {},
   "source": [
    "# Test getting traunches of structures"
   ]
  },
  {
   "cell_type": "code",
   "execution_count": null,
   "id": "58af6dc1-c516-4dc6-82b8-5b43d4844dee",
   "metadata": {
    "tags": []
   },
   "outputs": [],
   "source": [
    "reload(a)\n",
    "traunch_random_stats = a.calculate_rmsd_stats(clean, query_mol_id=\"Compound_ID\", reference_selection=\"random\", ref_structure_stride=10, score_column=\"POSIT_R\", group_by=[\"Version\"], n_bootstraps=3, cumulative=False, count_nrefs=True)\n",
    "traunch_date_stats = a.calculate_rmsd_stats(clean, query_mol_id=\"Compound_ID\", reference_selection=\"Structure_Date\", ref_structure_stride=10, score_column=\"POSIT_R\", group_by=[\"Version\"], n_bootstraps=3, cumulative=False, count_nrefs=True)"
   ]
  },
  {
   "cell_type": "code",
   "execution_count": null,
   "id": "dfad084c-9433-4c0b-bf49-f04eec00de52",
   "metadata": {
    "tags": []
   },
   "outputs": [],
   "source": [
    "traunch_tc_stats = a.calculate_rmsd_stats(clean, query_mol_id=\"Compound_ID\", reference_selection=\"TanimotoCombo_R\", ref_structure_stride=10, score_column=\"POSIT_R\", group_by=[\"Version\"], n_bootstraps=3, cumulative=False, count_nrefs=True)"
   ]
  },
  {
   "cell_type": "code",
   "execution_count": null,
   "id": "23379ef9-11a9-47f3-88bb-d767238184ce",
   "metadata": {
    "tags": []
   },
   "outputs": [],
   "source": [
    "traunch_tcr_stats = a.calculate_rmsd_stats(clean, query_mol_id=\"Compound_ID\", reference_selection=\"TanimotoCombo\", ref_structure_stride=10, score_column=\"POSIT_R\", group_by=[\"Version\", \"POSIT_Method\"], n_bootstraps=3, cumulative=False, count_nrefs=True)"
   ]
  },
  {
   "cell_type": "code",
   "execution_count": null,
   "id": "e63c7a1a-feca-4270-aee6-9fd7ffd5c138",
   "metadata": {
    "tags": []
   },
   "outputs": [],
   "source": [
    "traunch_all_stats = pd.concat([\n",
    "    # traunch_random_stats, \n",
    "    # traunch_date_stats, \n",
    "    # traunch_tc_stats, \n",
    "    traunch_tcr_stats\n",
    "])"
   ]
  },
  {
   "cell_type": "code",
   "execution_count": null,
   "id": "3f6e287d-f2ed-435e-a8cd-6dc0958cf22a",
   "metadata": {
    "tags": []
   },
   "outputs": [],
   "source": [
    "traunch_all_stats"
   ]
  },
  {
   "cell_type": "code",
   "execution_count": null,
   "id": "98ad3fea-7050-413e-bc92-67e2ac4842af",
   "metadata": {
    "tags": []
   },
   "outputs": [],
   "source": [
    "traunch_aggregated = traunch_all_stats.groupby([\"Version\", \"Number of References\", \"Structure_Split\", \"Split_Value_min\", \"Split_Value_max\", \"Mean Number of References\", \"Max Number of References\", \"Min Number of References\"]).mean().reset_index()\n",
    "traunch_aggregated[\"Max\"] = traunch_all_stats.groupby([\"Version\", \"Number of References\", \"Structure_Split\"]).quantile(0.975).reset_index()[\"Fraction\"] - traunch_aggregated[\"Fraction\"]\n",
    "traunch_aggregated[\"Min\"] = traunch_aggregated[\"Fraction\"] - traunch_all_stats.groupby([\"Version\", \"Number of References\", \"Structure_Split\"]).quantile(0.025).reset_index()[\"Fraction\"]"
   ]
  },
  {
   "cell_type": "code",
   "execution_count": null,
   "id": "d490fd44-f06c-489b-bc1f-4a577364163a",
   "metadata": {
    "tags": []
   },
   "outputs": [],
   "source": [
    "traunch_aggregated"
   ]
  },
  {
   "cell_type": "code",
   "execution_count": null,
   "id": "1f4f7545-4963-4f1f-9cb6-1e01f4d9f940",
   "metadata": {
    "tags": []
   },
   "outputs": [],
   "source": [
    "n_docked = clean[clean[\"Version\"] == \"Hybrid-Only\"].groupby(\"Compound_ID\").count()[\"Docked_File\"]"
   ]
  },
  {
   "cell_type": "code",
   "execution_count": null,
   "id": "acce8975-31ac-49d5-9ee6-cc0f66beb16f",
   "metadata": {
    "tags": []
   },
   "outputs": [],
   "source": [
    "n_docked.sum()"
   ]
  },
  {
   "cell_type": "code",
   "execution_count": null,
   "id": "c00ce487-a4fe-4774-bcfe-c7c3545a8802",
   "metadata": {
    "tags": []
   },
   "outputs": [],
   "source": [
    "fig = px.histogram(n_docked, height=600, width=600)\n",
    "fig.update_layout(title=\"Distribution of Successful Docking Runs\")\n",
    "fig.update_xaxes(title=\"Number of Successful Docked Runs\")\n",
    "fig.show()\n",
    "fig.write_image(\"20231010_distribution_successful_docking_runs.png\")"
   ]
  },
  {
   "cell_type": "code",
   "execution_count": null,
   "id": "94a5c128-ddec-4673-8e0b-14ab60205969",
   "metadata": {},
   "outputs": [],
   "source": []
  },
  {
   "cell_type": "code",
   "execution_count": null,
   "id": "0890ac9f-19fa-4bb2-8346-0c2a1e2a059d",
   "metadata": {
    "tags": []
   },
   "outputs": [],
   "source": [
    "traunch_aggregated[\"Range\"] = [f\"{i}-->{j}\" for i,j in zip(traunch_aggregated[\"Number of References\"], traunch_aggregated[\"Number of References\"] + 10)]"
   ]
  },
  {
   "cell_type": "code",
   "execution_count": null,
   "id": "9511b0a4-9270-4edf-9371-3805dfc57726",
   "metadata": {
    "tags": []
   },
   "outputs": [],
   "source": [
    "traunch_aggregated"
   ]
  },
  {
   "cell_type": "code",
   "execution_count": null,
   "id": "129c603e-f950-4713-a4dc-aed4f710ade2",
   "metadata": {},
   "outputs": [],
   "source": []
  },
  {
   "cell_type": "code",
   "execution_count": null,
   "id": "8f382220-9729-40b5-873c-3e298b9c9161",
   "metadata": {
    "tags": []
   },
   "outputs": [],
   "source": [
    "fig = scatter_wrapper(traunch_aggregated, \n",
    "                      dict(\n",
    "                          y=\"Mean Number of References\", color=\"Version\",\n",
    "                          color_discrete_sequence=px.colors.qualitative.Dark24,\n",
    "                          template=\"seaborn\",\n",
    "                           # **fraction_plot_kwargs,\n",
    "                           x=\"Range\", \n",
    "                          height=400,\n",
    "                          width=600\n",
    "                           # **single_plot_kwargs\n",
    "                      ),\n",
    "                     # y_axis_title=frac_title,\n",
    "                     x_axis_title=\"Number of References\"\n",
    "                     )\n",
    "fig.show()\n"
   ]
  },
  {
   "cell_type": "code",
   "execution_count": null,
   "id": "9b88d7c0-f505-4f76-bcd9-e03441ecb4d9",
   "metadata": {
    "tags": []
   },
   "outputs": [],
   "source": [
    "fig = scatter_wrapper(traunch_aggregated[traunch_aggregated[\"Version\"] == \"Hybrid-Only\"], \n",
    "                      dict(\n",
    "                          y=\"Min Number of References\", color=\"Structure_Split\", facet_col=\"Version\",\n",
    "                          color_discrete_sequence=px.colors.qualitative.Dark24,\n",
    "                          template=\"seaborn\",\n",
    "                           # **fraction_plot_kwargs,\n",
    "                           x=\"Range\", \n",
    "                          height=400,\n",
    "                          width=600\n",
    "                           # **single_plot_kwargs\n",
    "                      ),\n",
    "                     # y_axis_title=frac_title,\n",
    "                     x_axis_title=\"Number of References\"\n",
    "                     )\n",
    "fig.show()"
   ]
  },
  {
   "cell_type": "code",
   "execution_count": null,
   "id": "50a16245-50d4-43c2-894b-0e026373f2ea",
   "metadata": {
    "tags": []
   },
   "outputs": [],
   "source": [
    "fig = scatter_wrapper(traunch_aggregated, \n",
    "                      dict(\n",
    "                          y=\"Mean Number of References\", color=\"Structure_Split\", facet_col=\"Version\",\n",
    "                          color_discrete_sequence=px.colors.qualitative.Dark24,\n",
    "                          template=\"seaborn\",\n",
    "                           # **fraction_plot_kwargs,\n",
    "                           x=\"Range\", \n",
    "                          height=400,\n",
    "                          width=600\n",
    "                           # **single_plot_kwargs\n",
    "                      ),\n",
    "                     y_axis_title=frac_title,\n",
    "                     x_axis_title=\"Number of References\"\n",
    "                     )\n",
    "fig.show()"
   ]
  },
  {
   "cell_type": "code",
   "execution_count": null,
   "id": "de06b81e-99af-48e7-af3f-ca80b411861c",
   "metadata": {
    "tags": []
   },
   "outputs": [],
   "source": [
    "fig = scatter_wrapper(traunch_aggregated, \n",
    "                      dict(\n",
    "                          y=\"Fraction\", color=\"Structure_Split\", facet_col=\"Version\",\n",
    "                          color_discrete_sequence=px.colors.qualitative.Dark24,\n",
    "                          error_y=\"Max\", \n",
    "                          error_y_minus=\"Min\",\n",
    "                          template=\"seaborn\",\n",
    "                           **fraction_plot_kwargs,\n",
    "                           x=\"Range\", \n",
    "                          height=600,\n",
    "                          width=800\n",
    "                           # **single_plot_kwargs\n",
    "                      ),\n",
    "                     y_axis_title=frac_title,\n",
    "                     x_axis_title=\"Number of References\"\n",
    "                     )\n",
    "fig.for_each_yaxis(lambda y: y.update(title = ''))\n",
    "# fig.add_annotation(x=-0.03, y=0.5,text=frac_title, textangle=-90,\n",
    "#                     xref=\"paper\", yref=\"paper\")\n",
    "# fig.update_yaxes(title=frac_title)\n",
    "fig.update_layout(yaxis1=dict(title=frac_title), height=400, width=800)\n",
    "fig.show()\n"
   ]
  },
  {
   "cell_type": "markdown",
   "id": "e88a867c-f933-4103-a1e8-30bb0c0b5465",
   "metadata": {},
   "source": [
    "## Using the Kneed Package to "
   ]
  },
  {
   "cell_type": "code",
   "execution_count": null,
   "id": "cb0acf12-2c4e-4cb6-8938-4e67d68e5298",
   "metadata": {},
   "outputs": [],
   "source": [
    "from kneed import KneeLocator"
   ]
  },
  {
   "cell_type": "code",
   "execution_count": null,
   "id": "3950a318-2427-4247-8df4-ed38e660ed09",
   "metadata": {
    "tags": []
   },
   "outputs": [],
   "source": [
    "x1 = stats[stats[\"Version\"] == \"All\"][\"Number of References\"].unique()"
   ]
  },
  {
   "cell_type": "code",
   "execution_count": null,
   "id": "28a1cdeb-ca02-4436-8de0-816e8cfe0949",
   "metadata": {
    "tags": []
   },
   "outputs": [],
   "source": [
    "x2 = stats[stats[\"Version\"] == \"Hybrid-Only\"][\"Number of References\"].unique()"
   ]
  },
  {
   "cell_type": "code",
   "execution_count": null,
   "id": "b34ef504-3107-4d6d-9edd-d0f03ba0143c",
   "metadata": {
    "tags": []
   },
   "outputs": [],
   "source": [
    "x1 == x2"
   ]
  },
  {
   "cell_type": "markdown",
   "id": "20c1278b-4aa8-4483-9123-dae5016c782b",
   "metadata": {},
   "source": [
    "### convert hybrid_only points to x,y"
   ]
  },
  {
   "cell_type": "code",
   "execution_count": null,
   "id": "095a0cac-23d2-4c3f-8d23-2c186db24b71",
   "metadata": {
    "tags": []
   },
   "outputs": [],
   "source": [
    "x = stats[\"Number of References\"].unique()\n",
    "for version in stats.Version.unique():\n",
    "    y = stats[stats[\"Version\"] == version][\"mean\"].to_list()\n",
    "    kneedle = KneeLocator(x, y, S=1.0, curve=\"concave\", direction=\"increasing\")\n",
    "    kneedle.plot_knee_normalized(title=f\"{version} Difference Plot\")\n",
    "    print(version, kneedle.knee)"
   ]
  },
  {
   "cell_type": "code",
   "execution_count": null,
   "id": "f0267db3-fd18-4120-b62e-0ac59a7ac61f",
   "metadata": {},
   "outputs": [],
   "source": []
  },
  {
   "cell_type": "code",
   "execution_count": null,
   "id": "7d2629c9-821b-4299-9aa7-99dd40423bb4",
   "metadata": {},
   "outputs": [],
   "source": []
  },
  {
   "cell_type": "code",
   "execution_count": null,
   "id": "a1e9913f-7892-4870-ae8f-958afe6519de",
   "metadata": {},
   "outputs": [],
   "source": []
  }
 ],
 "metadata": {
  "kernelspec": {
   "display_name": "Python 3 (ipykernel)",
   "language": "python",
   "name": "python3"
  },
  "language_info": {
   "codemirror_mode": {
    "name": "ipython",
    "version": 3
   },
   "file_extension": ".py",
   "mimetype": "text/x-python",
   "name": "python",
   "nbconvert_exporter": "python",
   "pygments_lexer": "ipython3",
   "version": "3.10.13"
  }
 },
 "nbformat": 4,
 "nbformat_minor": 5
}
