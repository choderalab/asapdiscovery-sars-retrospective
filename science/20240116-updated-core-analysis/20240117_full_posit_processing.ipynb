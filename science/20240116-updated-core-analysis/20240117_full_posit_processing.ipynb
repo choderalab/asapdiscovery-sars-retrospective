{
 "cells": [
  {
   "cell_type": "markdown",
   "id": "6a4687bc-4ea6-474e-a8a1-d2bb5cd0dc7f",
   "metadata": {},
   "source": [
    "# Imports"
   ]
  },
  {
   "cell_type": "code",
   "execution_count": null,
   "id": "9ded6bd9-89c4-4a47-8c1a-b7501daa876a",
   "metadata": {},
   "outputs": [],
   "source": [
    "from tqdm import tqdm\n",
    "import pandas as pd\n",
    "from pathlib import Path\n",
    "from importlib import reload\n",
    "import software.analysis as a\n",
    "reload(a)\n"
   ]
  },
  {
   "cell_type": "code",
   "execution_count": null,
   "id": "e2088f2d-6f97-4e48-a3b6-4ad510f548ee",
   "metadata": {},
   "outputs": [],
   "source": [
    "local_analysis = Path(\"/Users/alexpayne/Scientific_Projects/mers-drug-discovery/sars2-retrospective-analysis/\")"
   ]
  },
  {
   "cell_type": "markdown",
   "id": "4474cae9-7868-47d6-8ecb-390b955ddfea",
   "metadata": {},
   "source": [
    "# load full posit results"
   ]
  },
  {
   "cell_type": "code",
   "execution_count": null,
   "id": "9246911d-cad4-4889-8b99-fc3162948a94",
   "metadata": {},
   "outputs": [],
   "source": [
    "csv_path = local_analysis / \"20230411_full_posit_results/analysis\""
   ]
  },
  {
   "cell_type": "code",
   "execution_count": null,
   "id": "cf687f6f-c7b5-4a3a-a510-af16b25f8a57",
   "metadata": {},
   "outputs": [],
   "source": [
    "csvs = list(csv_path.glob(\"run_docking_oe.*-results.csv\"))"
   ]
  },
  {
   "cell_type": "code",
   "execution_count": null,
   "id": "71964c68-f0f5-4290-82f0-85fe188ad3ca",
   "metadata": {},
   "outputs": [],
   "source": [
    "dfs = [pd.read_csv(csv_path) for csv_path in tqdm(csvs)]"
   ]
  },
  {
   "cell_type": "code",
   "execution_count": null,
   "id": "476bb806-511d-4de4-a88b-d6076827dff9",
   "metadata": {},
   "outputs": [],
   "source": [
    "df = pd.concat(dfs)"
   ]
  },
  {
   "cell_type": "code",
   "execution_count": null,
   "id": "4013d2cd-b2ea-4c6f-b4bb-1c708160dddb",
   "metadata": {},
   "outputs": [],
   "source": [
    "df.to_csv(csv_path / \"20240117_01_recombined.csv\")"
   ]
  },
  {
   "cell_type": "markdown",
   "id": "ebf88c44-f8b8-42c5-bcf1-6b76b1dbf140",
   "metadata": {},
   "source": [
    "## rename columns"
   ]
  },
  {
   "cell_type": "code",
   "execution_count": null,
   "id": "edd7fee6-21ba-41a0-aab9-f8b386c18926",
   "metadata": {},
   "outputs": [],
   "source": [
    "df.columns"
   ]
  },
  {
   "cell_type": "code",
   "execution_count": null,
   "id": "f54ae37b-0b05-4e30-991f-3494ba970516",
   "metadata": {},
   "outputs": [],
   "source": [
    "df.columns = [\"Compound_ID\", \n",
    "              \"Structure_Source\", \n",
    "              \"Docked_File\", \n",
    "              \"Pose_ID\", \n",
    "              \"RMSD\", \n",
    "              \"POSIT\", \n",
    "              \"POSIT_Method\",\n",
    "              \"Chemgauss4\",\n",
    "              \"Clash\",\n",
    "              \"SMILES\",\n",
    "              \"GAT_score\"]"
   ]
  },
  {
   "cell_type": "code",
   "execution_count": null,
   "id": "385d8563-0aef-4c38-8b04-e6ebd5291255",
   "metadata": {},
   "outputs": [],
   "source": []
  },
  {
   "cell_type": "markdown",
   "id": "36e96b0b-06e3-4513-bd1c-87a859ecb740",
   "metadata": {},
   "source": [
    "## add complex id"
   ]
  },
  {
   "cell_type": "code",
   "execution_count": null,
   "id": "53a6ca4b-10c1-4686-9c3f-6a076c52a2ca",
   "metadata": {},
   "outputs": [],
   "source": [
    "df[\"Complex_ID\"] = df.Compound_ID + \"_\" + df.Structure_Source"
   ]
  },
  {
   "cell_type": "markdown",
   "id": "424e5891-94d5-4205-8f3e-71e318866756",
   "metadata": {},
   "source": [
    "# Add Compound Info"
   ]
  },
  {
   "cell_type": "code",
   "execution_count": null,
   "id": "187edaad-9b72-414e-84ab-6efe23443606",
   "metadata": {
    "scrolled": true
   },
   "outputs": [],
   "source": [
    "from asapdiscovery.data.utils import get_compound_id_xtal_dicts\n",
    "import yaml"
   ]
  },
  {
   "cell_type": "code",
   "execution_count": null,
   "id": "ba6f037e-5249-4f03-bb41-fce042cdba09",
   "metadata": {
    "scrolled": true
   },
   "outputs": [],
   "source": [
    "with open(\"/Users/alexpayne/Scientific_Projects/asapdiscovery/asapdiscovery-data/asapdiscovery/data/metadata/cmpd_to_frag.yaml\") as f:\n",
    "    cmpd_to_frag_dict = yaml.safe_load(f)"
   ]
  },
  {
   "cell_type": "code",
   "execution_count": null,
   "id": "a083b7cc-1d55-4547-af3b-dd84fda295fd",
   "metadata": {},
   "outputs": [],
   "source": [
    "frag_to_cmpd_dict = {v: k for k,v in cmpd_to_frag_dict.items()}"
   ]
  },
  {
   "cell_type": "code",
   "execution_count": null,
   "id": "861d44b8-1972-460b-b797-d2fd64e32d11",
   "metadata": {},
   "outputs": [],
   "source": [
    "cmpds_to_remove = [cmpd for dataset, cmpd in frag_to_cmpd_dict.items() if \"Mpro-x\" in dataset]"
   ]
  },
  {
   "cell_type": "code",
   "execution_count": null,
   "id": "2b21bcd7-7de5-4ff6-8ed6-e7f2c5b710d9",
   "metadata": {},
   "outputs": [],
   "source": [
    "duplicates = [\n",
    "    ('ALP-POS-4483ae88-4', 'MIK-UNK-78dbf1b8-1'),\n",
    "    ('BEN-BAS-c2bc0d80-6', 'VLA-UCB-50c39ae8-2'),\n",
    "    ('BEN-DND-f2e727cd-5', 'MAT-POS-3ccb8ef6-1'),\n",
    "    ('EDG-MED-0e5afe9d-3', 'PET-UNK-29afea89-2'),\n",
    "    ('EDG-MED-5d232de5-5', 'MIC-UNK-91acba05-6'),\n",
    "    ('EDG-MED-5d232de5-7', 'EDG-MED-5d232de5-8'),\n",
    "    ('EDG-MED-5d232de5-7', 'PET-UNK-c9c1e0d8-4'),\n",
    "    ('EDG-MED-5d232de5-8', 'PET-UNK-c9c1e0d8-4'),\n",
    "    ('EDJ-MED-015fb6b4-2', 'MAT-POS-a54ce14d-2'),\n",
    "    ('EDJ-MED-37aac4bd-4', 'MAT-POS-932d1078-3'),\n",
    "    ('EDJ-MED-8bb691af-4', 'MAT-POS-c7726e07-5'),\n",
    "    ('EDJ-MED-976a33d5-1', 'MAT-POS-e48723dc-2'),\n",
    "    ('MAT-POS-090737b9-1', 'VLA-UCB-50c39ae8-7'),\n",
    "    ('MAT-POS-7174c657-5', 'MAT-POS-7174c657-6'),\n",
    "    ('MAT-POS-7174c657-5', 'MAT-POS-a13804f0-4'),\n",
    "    ('MAT-POS-7174c657-6', 'MAT-POS-a13804f0-4'),\n",
    "    ('MAT-POS-a13804f0-3', 'RAL-THA-05e671eb-10'),\n",
    "    ('MIK-ENA-5d9157e9-5', 'MIK-ENA-5d9157e9-6'),\n",
    "    ('VLA-UCB-29506327-1', 'VLA-UNK-cf7facf1-1')\n",
    "]"
   ]
  },
  {
   "cell_type": "code",
   "execution_count": null,
   "id": "14b6e8b2-a529-4b14-a705-4e8f6357f2c5",
   "metadata": {},
   "outputs": [],
   "source": []
  },
  {
   "cell_type": "markdown",
   "id": "9d69c6ee-eabc-4003-a035-3ea99f42a556",
   "metadata": {},
   "source": [
    "## remove x series"
   ]
  },
  {
   "cell_type": "code",
   "execution_count": null,
   "id": "7eb8fce9-c5ba-4f11-bd4e-89fbd44bcd65",
   "metadata": {},
   "outputs": [],
   "source": []
  },
  {
   "cell_type": "code",
   "execution_count": null,
   "id": "5906d3ea-49a5-4a45-afd4-e0843cfa80c9",
   "metadata": {},
   "outputs": [],
   "source": [
    "p_series = df[df.Structure_Source.str.contains(\"Mpro-P\")]"
   ]
  },
  {
   "cell_type": "code",
   "execution_count": null,
   "id": "531b0569-1c8a-4d15-82c4-e2aa4bc67db1",
   "metadata": {},
   "outputs": [],
   "source": [
    "len(p_series)"
   ]
  },
  {
   "cell_type": "code",
   "execution_count": null,
   "id": "c78f825a-6522-4d64-9898-6a1b20812b01",
   "metadata": {},
   "outputs": [],
   "source": [
    "p_series.nunique()[[\"Complex_ID\", \"Compound_ID\", \"Structure_Source\"]]"
   ]
  },
  {
   "cell_type": "code",
   "execution_count": null,
   "id": "97bac07f-9221-4f00-b091-03575fb63581",
   "metadata": {},
   "outputs": [],
   "source": []
  },
  {
   "cell_type": "markdown",
   "id": "193915a0-3028-43c7-9fa4-aa34d45162ff",
   "metadata": {},
   "source": [
    "## remove the rows containing a ligand from a x series"
   ]
  },
  {
   "cell_type": "code",
   "execution_count": null,
   "id": "c5c46f70-43ab-408e-9dc1-d7ce759f3e51",
   "metadata": {},
   "outputs": [],
   "source": [
    "p_series = p_series[-p_series.Compound_ID.isin(cmpds_to_remove)]"
   ]
  },
  {
   "cell_type": "code",
   "execution_count": null,
   "id": "3f202afa-e240-47c3-b9fb-dadf2649d057",
   "metadata": {},
   "outputs": [],
   "source": [
    "p_series.nunique()[[\"Complex_ID\", \"Compound_ID\", \"Structure_Source\"]]"
   ]
  },
  {
   "cell_type": "code",
   "execution_count": null,
   "id": "4c64904e-99ed-4516-b4f0-c208359accd9",
   "metadata": {},
   "outputs": [],
   "source": [
    "p_series.to_csv(csv_path / \"20240117_02_recombined_p_series.csv\")"
   ]
  },
  {
   "cell_type": "markdown",
   "id": "65fd2486-d518-4fea-b99d-5e4d9aa4e81d",
   "metadata": {},
   "source": [
    "## Add Reference Compound"
   ]
  },
  {
   "cell_type": "code",
   "execution_count": null,
   "id": "885f6029-bbf6-4650-9e59-50fdf4db8438",
   "metadata": {
    "tags": []
   },
   "outputs": [],
   "source": [
    "Structure_Source = p_series.Structure_Source.apply(lambda x: x.split(\"_\")[0])"
   ]
  },
  {
   "cell_type": "code",
   "execution_count": null,
   "id": "f34f9fe4-bfb6-402b-a63f-efaa55c19a03",
   "metadata": {
    "tags": []
   },
   "outputs": [],
   "source": [
    "ref_lig = Structure_Source.apply(lambda x: frag_to_cmpd_dict[x])"
   ]
  },
  {
   "cell_type": "code",
   "execution_count": null,
   "id": "010e9c23-084a-42d7-927a-64725152239a",
   "metadata": {
    "tags": []
   },
   "outputs": [],
   "source": [
    "p_series[\"Reference_Ligand\"] = ref_lig\n",
    "p_series[\"Structure_Name\"] = Structure_Source"
   ]
  },
  {
   "cell_type": "markdown",
   "id": "ead9c178-0765-489e-82b9-32bcc6d659cf",
   "metadata": {
    "tags": []
   },
   "source": [
    "# Add Dates"
   ]
  },
  {
   "cell_type": "code",
   "execution_count": null,
   "id": "2acf9fe1-87a7-4929-996d-1cda63631174",
   "metadata": {},
   "outputs": [],
   "source": [
    "from datetime import datetime"
   ]
  },
  {
   "cell_type": "code",
   "execution_count": null,
   "id": "c8193e43-2608-44b4-8f8a-49f648afc68a",
   "metadata": {
    "tags": []
   },
   "outputs": [],
   "source": [
    "mpro_soaks = Path(\"/Users/alexpayne/Scientific_Projects/mers-drug-discovery/fragalysis_downloads/20230611-mpro/extra_files/Mpro_soaks.csv\")"
   ]
  },
  {
   "cell_type": "code",
   "execution_count": null,
   "id": "fb475a5f-26f3-4dc7-9a3b-0a9b15d1ddce",
   "metadata": {
    "tags": []
   },
   "outputs": [],
   "source": [
    "mpro_soaks.exists()"
   ]
  },
  {
   "cell_type": "code",
   "execution_count": null,
   "id": "f31257a4-773d-4a94-9002-3a8ea08f3281",
   "metadata": {},
   "outputs": [],
   "source": [
    "date_df = pd.read_csv(mpro_soaks)"
   ]
  },
  {
   "cell_type": "code",
   "execution_count": null,
   "id": "dd603bec-0225-441d-a363-81b5d5d52bd4",
   "metadata": {},
   "outputs": [],
   "source": [
    "ddf = date_df.loc[:, [\"Sample Name\", \"Data Collection Date\"]]"
   ]
  },
  {
   "cell_type": "code",
   "execution_count": null,
   "id": "b35e80fe-107b-421d-a954-cad75035b4bf",
   "metadata": {},
   "outputs": [],
   "source": [
    "ddf.head()"
   ]
  },
  {
   "cell_type": "code",
   "execution_count": null,
   "id": "250127c0-39b1-47a2-a2f4-40b79b5f4af7",
   "metadata": {},
   "outputs": [],
   "source": [
    "def date_processor(date_string):\n",
    "    if type(date_string) == str and not date_string == 'None':\n",
    "        try:\n",
    "            return datetime.strptime(date_string, \"%Y-%m-%d %H:%M:%S\").date()\n",
    "        except ValueError:\n",
    "            return datetime.strptime(date_string, \"%d/%m/%Y %H:%M\").date()\n",
    "    else:\n",
    "        return None"
   ]
  },
  {
   "cell_type": "code",
   "execution_count": null,
   "id": "6bd71ba4-333f-49a6-96e7-b3decd73cbba",
   "metadata": {
    "tags": []
   },
   "outputs": [],
   "source": [
    "to_merge = pd.DataFrame({\"Structure_Name\":ddf[\"Sample Name\"], \"Structure_Date\":ddf[\"Data Collection Date\"].apply(date_processor)})"
   ]
  },
  {
   "cell_type": "code",
   "execution_count": null,
   "id": "9637d327-3e6d-454e-bf59-2a10469e92be",
   "metadata": {
    "tags": []
   },
   "outputs": [],
   "source": [
    "merged = pd.merge(p_series, to_merge, on=\"Structure_Name\")"
   ]
  },
  {
   "cell_type": "code",
   "execution_count": null,
   "id": "6abe8373-b5c3-41cf-88ab-e1e7e1eeabf0",
   "metadata": {},
   "outputs": [],
   "source": [
    "merged.nunique()[[\"Complex_ID\", \"Compound_ID\", \"Structure_Source\"]]"
   ]
  },
  {
   "cell_type": "code",
   "execution_count": null,
   "id": "268f2681-8d62-44d0-aeca-0d937d6ba5b2",
   "metadata": {
    "tags": []
   },
   "outputs": [],
   "source": [
    "merged.to_csv(csv_path / \"20240117_03_with_info.csv\")"
   ]
  },
  {
   "cell_type": "code",
   "execution_count": null,
   "id": "29134648-98f1-486a-8bb1-d5355838cc64",
   "metadata": {},
   "outputs": [],
   "source": [
    "merged.nunique()"
   ]
  },
  {
   "cell_type": "markdown",
   "id": "de0e56e5-d7f5-4734-8919-9474ad6bc319",
   "metadata": {},
   "source": [
    "# What compound ids are not included in the structures?"
   ]
  },
  {
   "cell_type": "code",
   "execution_count": null,
   "id": "a7b552de-ee15-41e3-b79a-8e5024fb296b",
   "metadata": {},
   "outputs": [],
   "source": [
    "missing_cmpd_ids = set(merged.Compound_ID.unique()) - set(merged.Reference_Ligand.unique())"
   ]
  },
  {
   "cell_type": "code",
   "execution_count": null,
   "id": "1955c280-3911-4976-8fa2-45e7c069824a",
   "metadata": {},
   "outputs": [],
   "source": [
    "missing_datasets = [cmpd_to_frag_dict.get(cmpd, None) for cmpd in missing_cmpd_ids]"
   ]
  },
  {
   "cell_type": "code",
   "execution_count": null,
   "id": "c6c3b949-d2dc-4215-9793-3d05761a64d3",
   "metadata": {},
   "outputs": [],
   "source": [
    "missing_datasets"
   ]
  },
  {
   "cell_type": "code",
   "execution_count": null,
   "id": "529babac-1d8d-4466-bdfe-85f303c0c2c0",
   "metadata": {},
   "outputs": [],
   "source": [
    "missing_cmpd_ids"
   ]
  },
  {
   "cell_type": "markdown",
   "id": "c80c1ba0-bc74-4f16-bc9b-346af44ea104",
   "metadata": {},
   "source": [
    "## these cmpd ids are missing\n",
    "{'ALP-POS-ce760d3f-2',\n",
    " 'EDG-MED-5d232de5-3',\n",
    " 'EDG-MED-5d232de5-6',\n",
    " 'EDG-MED-971238d3-4',\n",
    " 'EDJ-MED-eff36d94-1',\n",
    " 'MAT-POS-b3e365b9-4',\n",
    " 'VLA-UCB-34f3ed0c-11'}"
   ]
  },
  {
   "cell_type": "code",
   "execution_count": null,
   "id": "4109accc-e2ee-449d-9a48-894338dde561",
   "metadata": {},
   "outputs": [],
   "source": [
    "merged[merged.Structure_Name == \"Mpro-P0012\"]"
   ]
  },
  {
   "cell_type": "code",
   "execution_count": null,
   "id": "c438054e-33fc-417d-bb76-a3a084dac067",
   "metadata": {},
   "outputs": [],
   "source": []
  }
 ],
 "metadata": {
  "kernelspec": {
   "display_name": "Python 3 (ipykernel)",
   "language": "python",
   "name": "python3"
  },
  "language_info": {
   "codemirror_mode": {
    "name": "ipython",
    "version": 3
   },
   "file_extension": ".py",
   "mimetype": "text/x-python",
   "name": "python",
   "nbconvert_exporter": "python",
   "pygments_lexer": "ipython3",
   "version": "3.10.13"
  }
 },
 "nbformat": 4,
 "nbformat_minor": 5
}
