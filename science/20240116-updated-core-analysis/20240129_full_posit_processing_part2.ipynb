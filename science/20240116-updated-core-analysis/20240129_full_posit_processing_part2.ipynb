{
 "cells": [
  {
   "cell_type": "markdown",
   "id": "43e1cf36-60e8-489e-b6bd-a1c25a410c6f",
   "metadata": {},
   "source": [
    "# Imports"
   ]
  },
  {
   "cell_type": "code",
   "execution_count": null,
   "id": "b9c3034f-cf91-4afe-b3ec-0d6abb120f36",
   "metadata": {},
   "outputs": [],
   "source": [
    "from tqdm import tqdm\n",
    "import pandas as pd\n",
    "from pathlib import Path\n",
    "from importlib import reload\n",
    "import software.analysis as a\n",
    "reload(a)"
   ]
  },
  {
   "cell_type": "code",
   "execution_count": null,
   "id": "6b33faf1-224e-4c13-a8f1-9b0862042745",
   "metadata": {},
   "outputs": [],
   "source": [
    "local_analysis = Path(\"/Users/alexpayne/Scientific_Projects/mers-drug-discovery/sars2-retrospective-analysis/\")"
   ]
  },
  {
   "cell_type": "code",
   "execution_count": null,
   "id": "3c11def5-caf1-4ccd-ba32-9bd0c22d407c",
   "metadata": {},
   "outputs": [],
   "source": [
    "csv_path = local_analysis / \"20230411_full_posit_results/analysis\""
   ]
  },
  {
   "cell_type": "markdown",
   "id": "804a74b6-01ae-49b3-8e4c-1990066165cb",
   "metadata": {},
   "source": [
    "# Load Processed Results"
   ]
  },
  {
   "cell_type": "code",
   "execution_count": null,
   "id": "1dbd49e1-cf5e-4fac-9101-2ef4a58236d2",
   "metadata": {},
   "outputs": [],
   "source": [
    "df = pd.read_csv(csv_path / \"20240117_03_with_info.csv\", index_col=0)"
   ]
  },
  {
   "cell_type": "code",
   "execution_count": null,
   "id": "046bbf9c-1867-43f9-b9ed-616a91d89883",
   "metadata": {},
   "outputs": [],
   "source": [
    "missing_cmpd_ids = set(df.Compound_ID.unique()) - set(df.Reference_Ligand.unique())"
   ]
  },
  {
   "cell_type": "code",
   "execution_count": null,
   "id": "38690051-0b67-4f2d-96af-a7b797d2190d",
   "metadata": {},
   "outputs": [],
   "source": [
    "missing_cmpd_ids"
   ]
  },
  {
   "cell_type": "markdown",
   "id": "c75388b4-108c-411e-87cc-b919f26de275",
   "metadata": {},
   "source": [
    "# Load Mpro Soaks and get correct data info"
   ]
  },
  {
   "cell_type": "code",
   "execution_count": null,
   "id": "88fe23cd-7a6f-4b65-88ba-5270bb373bbc",
   "metadata": {},
   "outputs": [],
   "source": [
    "soaks = pd.read_csv(\"/Users/alexpayne/Scientific_Projects/mers-drug-discovery/fragalysis_downloads/20240129_fragalysis_download/extra_files/Mpro_soaks.csv\")"
   ]
  },
  {
   "cell_type": "code",
   "execution_count": null,
   "id": "2406525a-3c7f-4d42-8152-5644e05440b1",
   "metadata": {},
   "outputs": [],
   "source": [
    "filtered = soaks[(-soaks[\"Compound ID\"].isna())&(-soaks[\"Sample Name\"].isna())&(soaks[\"Data Collection Outcome\"] == \"success\")]"
   ]
  },
  {
   "cell_type": "code",
   "execution_count": null,
   "id": "a14e2d60-590c-4fe5-b1db-6b906e946490",
   "metadata": {},
   "outputs": [],
   "source": [
    "filtered_sorted = filtered.sort_values(\"Sample Name\", ascending=True)"
   ]
  },
  {
   "cell_type": "code",
   "execution_count": null,
   "id": "b801a765-4af6-4bb6-9f92-97abddc24b48",
   "metadata": {},
   "outputs": [],
   "source": [
    "p_only = filtered_sorted[filtered_sorted[\"Sample Name\"].str.contains(\"Mpro-P\")]"
   ]
  },
  {
   "cell_type": "code",
   "execution_count": null,
   "id": "60660376-93f8-4e51-aaf1-ef213273f4c0",
   "metadata": {},
   "outputs": [],
   "source": [
    "p_only = p_only[p_only[\"Compound ID\"] != \"Apo\"]\n",
    "p_only = p_only[p_only[\"Refinement Outcome\"].isin([\"5 - Deposition ready\", \"6 - Deposited\"])]"
   ]
  },
  {
   "cell_type": "code",
   "execution_count": null,
   "id": "4e9ee71a-2f21-4245-a958-85cac2cabe89",
   "metadata": {},
   "outputs": [],
   "source": [
    "p_only.groupby(\"Compound ID\").count()"
   ]
  },
  {
   "cell_type": "code",
   "execution_count": null,
   "id": "76bb7286-4412-48fc-90e8-5f1e0ec8022c",
   "metadata": {},
   "outputs": [],
   "source": [
    "p_only[p_only[\"Compound ID\"] == \"ERI-UCB-ce40166b-17\"].columns"
   ]
  },
  {
   "cell_type": "code",
   "execution_count": null,
   "id": "132688ac-7310-4774-84bb-d7acb294f818",
   "metadata": {},
   "outputs": [],
   "source": [
    "p_only[p_only[\"Compound ID\"] == \"ERI-UCB-ce40166b-17\"][[\"Sample Name\", \"Data Collection Outcome\", \"Refinement Outcome\"]]"
   ]
  },
  {
   "cell_type": "code",
   "execution_count": null,
   "id": "61e09983-5d62-4dc6-b7e2-277c77b28a53",
   "metadata": {},
   "outputs": [],
   "source": [
    "cmpd_to_frag = {cmpd: frag for cmpd, frag in zip(p_only[\"Compound ID\"], p_only[\"Sample Name\"])}"
   ]
  },
  {
   "cell_type": "code",
   "execution_count": null,
   "id": "6f0d4375-e165-473a-917c-08d901bcb398",
   "metadata": {},
   "outputs": [],
   "source": [
    "cmpd_to_frag"
   ]
  },
  {
   "cell_type": "code",
   "execution_count": null,
   "id": "b1247d93-f363-4af9-a8a3-917a7b462ef1",
   "metadata": {},
   "outputs": [],
   "source": [
    "for id in missing_cmpd_ids:\n",
    "    print(cmpd_to_frag.get(id, None))"
   ]
  },
  {
   "cell_type": "code",
   "execution_count": null,
   "id": "7a03fbdd-8fe3-437e-9a0e-99d5368b369e",
   "metadata": {},
   "outputs": [],
   "source": [
    "len(df.Reference_Ligand.unique())"
   ]
  },
  {
   "cell_type": "code",
   "execution_count": null,
   "id": "b07432f3-582c-4e12-85e3-2fef1b9842b4",
   "metadata": {},
   "outputs": [],
   "source": [
    "set(df.Reference_Ligand) - set(df.Compound_ID)"
   ]
  },
  {
   "cell_type": "code",
   "execution_count": null,
   "id": "f7d34ca2-9df2-4d24-88f6-480039fc8628",
   "metadata": {},
   "outputs": [],
   "source": [
    "missing = [lig for lig in df.Reference_Ligand.unique() if not lig in cmpd_to_frag.keys()]"
   ]
  },
  {
   "cell_type": "code",
   "execution_count": null,
   "id": "c526bfa3-fa5c-46d6-b938-833e88f1282d",
   "metadata": {},
   "outputs": [],
   "source": [
    "missing"
   ]
  },
  {
   "cell_type": "code",
   "execution_count": null,
   "id": "e448f7e3-010a-48f6-9ed5-3a1ffc6bc843",
   "metadata": {},
   "outputs": [],
   "source": [
    "missing = [lig for lig in df.Compound_ID.unique() if not lig in cmpd_to_frag.keys()]"
   ]
  },
  {
   "cell_type": "code",
   "execution_count": null,
   "id": "e8437ad6-c233-4c5f-926a-9137974d909c",
   "metadata": {},
   "outputs": [],
   "source": [
    "missing"
   ]
  },
  {
   "cell_type": "code",
   "execution_count": null,
   "id": "ec93bf98-cd28-426d-9431-a97903099f1f",
   "metadata": {},
   "outputs": [],
   "source": [
    "soaks[soaks[\"Compound ID\"] == 'LON-WEI-adc59df6-47'][[\"Data Collection Outcome\", \"Status\", \"Sample Name\", \"Refinement Outcome\", \"SMILES\"]]"
   ]
  },
  {
   "cell_type": "code",
   "execution_count": null,
   "id": "d1f75a66-1f55-4138-88bc-b2649d431c37",
   "metadata": {},
   "outputs": [],
   "source": [
    "soaks[soaks[\"Compound ID\"] == 'LON-WEI-adc59df6-47'][\"SMILES\"].to_list()[0]"
   ]
  },
  {
   "cell_type": "code",
   "execution_count": null,
   "id": "7b8a3f73-eaeb-4a13-b0b4-4751e79f1989",
   "metadata": {},
   "outputs": [],
   "source": [
    "import rdkit.Chem as chem"
   ]
  },
  {
   "cell_type": "code",
   "execution_count": null,
   "id": "eef054ae-c9ff-489c-99dd-de856a4e072b",
   "metadata": {},
   "outputs": [],
   "source": [
    "chem.MolFromSmiles('CCC(=O)N(C(C(=O)NCCC1=CC(F)=CC=C1)C1=CN=CC=C1)C1=CC=C(C=C1)C(C)(C)C')"
   ]
  },
  {
   "cell_type": "code",
   "execution_count": null,
   "id": "bf77e5ce-a778-4241-bfee-7bbba741dcfa",
   "metadata": {},
   "outputs": [],
   "source": []
  },
  {
   "cell_type": "code",
   "execution_count": null,
   "id": "aad13c1c-16e8-4347-9278-f99ffc706bbd",
   "metadata": {},
   "outputs": [],
   "source": [
    "soaks[soaks[\"Compound ID\"] == 'EDJ-MED-705e09b8-1'][[\"Data Collection Outcome\", \"Status\", \"Sample Name\", \"Refinement Outcome\", \"SMILES\"]]"
   ]
  },
  {
   "cell_type": "code",
   "execution_count": null,
   "id": "f26ff4de-bc35-4c45-99c0-d0e3a3a60439",
   "metadata": {},
   "outputs": [],
   "source": [
    "soaks[soaks[\"Refinement Outcome\"] == \"7 - Analysed & Rejected\"]"
   ]
  },
  {
   "cell_type": "markdown",
   "id": "cc7339aa-2252-49c7-baed-c68e4ac96bfe",
   "metadata": {},
   "source": [
    "## So since there are discrepancies in the system of record I will manually add the two missing ones"
   ]
  },
  {
   "cell_type": "code",
   "execution_count": null,
   "id": "3e84fd32-f24b-49d8-94cd-ba10ebd5d500",
   "metadata": {},
   "outputs": [],
   "source": [
    "cmpd_to_frag['LON-WEI-adc59df6-47'] = 'Mpro-P0047'\n",
    "cmpd_to_frag['EDJ-MED-705e09b8-1'] = 'Mpro-P2607'"
   ]
  },
  {
   "cell_type": "code",
   "execution_count": null,
   "id": "f6a309f9-cf44-48ff-95cd-0b58e514b3b6",
   "metadata": {},
   "outputs": [],
   "source": [
    "len(cmpd_to_frag)"
   ]
  },
  {
   "cell_type": "code",
   "execution_count": null,
   "id": "184835f9-c1e9-4806-b33b-004fe17e3c60",
   "metadata": {},
   "outputs": [],
   "source": [
    "len(set(cmpd_to_frag.values()))"
   ]
  },
  {
   "cell_type": "code",
   "execution_count": null,
   "id": "ea08d601-ca69-421a-9a13-4a840559f566",
   "metadata": {},
   "outputs": [],
   "source": [
    "len(set(cmpd_to_frag.keys()))"
   ]
  },
  {
   "cell_type": "markdown",
   "id": "8a03f4f3-e7fe-4d19-a403-9cc025545191",
   "metadata": {},
   "source": [
    "## So now what's missing from `Reference Ligs` that is in cmpd to frag?"
   ]
  },
  {
   "cell_type": "code",
   "execution_count": null,
   "id": "7093281f-b0bc-4c4a-a146-ceb7657a70e7",
   "metadata": {},
   "outputs": [],
   "source": [
    "missing = [lig for lig in cmpd_to_frag.keys() if not lig in df.Reference_Ligand.unique()]"
   ]
  },
  {
   "cell_type": "code",
   "execution_count": null,
   "id": "903f38b1-c90f-41d5-a590-122a1f3aabc8",
   "metadata": {},
   "outputs": [],
   "source": [
    "missing"
   ]
  },
  {
   "cell_type": "code",
   "execution_count": null,
   "id": "f7d84fa9-e858-4788-b3b6-cc1c8e79591d",
   "metadata": {},
   "outputs": [],
   "source": [
    "cmpd_to_frag[missing[0]]"
   ]
  },
  {
   "cell_type": "markdown",
   "id": "f9651908-d85f-4e75-80b4-0e3d767fde78",
   "metadata": {},
   "source": [
    "in mpro_compound_tracker.csv this is 'EDJ-MED-976a33d5-1'"
   ]
  },
  {
   "cell_type": "code",
   "execution_count": null,
   "id": "924e7e54-1707-4b75-b098-a25be9dd8aed",
   "metadata": {},
   "outputs": [],
   "source": [
    "'Mpro-P2724' in df.Structure_Name"
   ]
  },
  {
   "cell_type": "code",
   "execution_count": null,
   "id": "7accbb9d-7663-42b0-bdb9-0f85500c2d8b",
   "metadata": {},
   "outputs": [],
   "source": [
    "'EDJ-MED-976a33d5-1' in df.Reference_Ligand"
   ]
  },
  {
   "cell_type": "code",
   "execution_count": null,
   "id": "37e0f8fe-b67e-4fae-beea-184fc8ee0cb5",
   "metadata": {},
   "outputs": [],
   "source": [
    "'EDJ-MED-976a33d5-1' in df.Compound_ID"
   ]
  },
  {
   "cell_type": "markdown",
   "id": "29a0879d-76a6-4766-bd48-6e6e68bb386c",
   "metadata": {},
   "source": [
    "maybe it's new?"
   ]
  },
  {
   "cell_type": "code",
   "execution_count": null,
   "id": "35af6b97-83c8-43e1-991a-80ee74ecf973",
   "metadata": {},
   "outputs": [],
   "source": [
    "soaks[soaks['Compound ID'] == 'EDJ-MED-976a33d5-1']"
   ]
  },
  {
   "cell_type": "code",
   "execution_count": null,
   "id": "d2784506-83f2-4239-bd4e-5ac2b7dfc204",
   "metadata": {},
   "outputs": [],
   "source": [
    "import numpy as np\n",
    "filteredv2 = soaks[(-soaks[\"Fragalysis Link\"].isna())&(soaks[\"Sample Name\"].str.contains(\"Mpro-P\"))]"
   ]
  },
  {
   "cell_type": "code",
   "execution_count": null,
   "id": "1cdf2182-7b75-4d6e-8d61-19159ade5d8b",
   "metadata": {},
   "outputs": [],
   "source": [
    "filteredv2.groupby([\"Compound ID\"]).count()"
   ]
  },
  {
   "cell_type": "code",
   "execution_count": null,
   "id": "41ee6ab3-c683-49c8-b092-ba0d28d7be51",
   "metadata": {},
   "outputs": [],
   "source": [
    "newdata = filteredv2[\"Sample Name\"].unique()"
   ]
  },
  {
   "cell_type": "code",
   "execution_count": null,
   "id": "448fba5d-4fb9-481d-a577-7211fe26c563",
   "metadata": {},
   "outputs": [],
   "source": [
    "whatarethese = [lig for lig in newdata if not lig in cmpd_to_frag.values()]"
   ]
  },
  {
   "cell_type": "code",
   "execution_count": null,
   "id": "90ffcbdf-0021-40b8-83dd-331be8ff8b37",
   "metadata": {},
   "outputs": [],
   "source": [
    "whatarethese"
   ]
  },
  {
   "cell_type": "code",
   "execution_count": null,
   "id": "99fa9c68-864f-4f22-9a65-cc8574b2c84d",
   "metadata": {},
   "outputs": [],
   "source": [
    "soaks[soaks[\"Sample Name\"] == \"Mpro-P0050\"][\"Fragalysis Link\"].to_list()"
   ]
  },
  {
   "cell_type": "code",
   "execution_count": null,
   "id": "46315677-0b42-404f-b061-f10dba3fedea",
   "metadata": {},
   "outputs": [],
   "source": [
    "soaks[soaks[\"Sample Name\"] == \"Mpro-P0050\"].columns"
   ]
  },
  {
   "cell_type": "code",
   "execution_count": null,
   "id": "11b453b2-bca8-46d7-be34-e4759ded7064",
   "metadata": {},
   "outputs": [],
   "source": [
    "soaks[soaks[\"Sample Name\"] == \"Mpro-P0050\"][[\"Refinement Outcome\", \"Zenodo Status\", \"Postera series\"]]"
   ]
  },
  {
   "cell_type": "markdown",
   "id": "2893526d-c0f1-4b3c-b3b9-969746760736",
   "metadata": {},
   "source": [
    "ok this is a terrifying rabbit hole"
   ]
  },
  {
   "cell_type": "markdown",
   "id": "4f3f0dea-ce88-4df8-8608-d3ddca5f7996",
   "metadata": {},
   "source": [
    "# Save new cmpd_to_frag data"
   ]
  },
  {
   "cell_type": "code",
   "execution_count": null,
   "id": "0bbb4d13-b0c9-4642-a759-94541a08e41d",
   "metadata": {},
   "outputs": [],
   "source": [
    "import yaml"
   ]
  },
  {
   "cell_type": "code",
   "execution_count": null,
   "id": "723cf9b1-b245-4c03-bf96-df35ee716b9e",
   "metadata": {},
   "outputs": [],
   "source": [
    "output = Path(\"../../data/\")"
   ]
  },
  {
   "cell_type": "code",
   "execution_count": null,
   "id": "064b9a87-3468-4baf-bdb2-bb94649d9928",
   "metadata": {},
   "outputs": [],
   "source": [
    "output.mkdir()"
   ]
  },
  {
   "cell_type": "code",
   "execution_count": null,
   "id": "fbebe21f-8b20-48e0-af51-69c30bad748d",
   "metadata": {},
   "outputs": [],
   "source": [
    "with open(output / '202240129_p_only_cmpd_to_frag.yaml', 'w') as f:\n",
    "    yaml.safe_dump(cmpd_to_frag, f)"
   ]
  },
  {
   "cell_type": "markdown",
   "id": "93d14571-1e7c-4f19-94ef-c51e21e7cd12",
   "metadata": {},
   "source": [
    "# check if all those datasets actually exist in the output"
   ]
  },
  {
   "cell_type": "code",
   "execution_count": null,
   "id": "c7e62d0f-1cef-43bf-9422-eaa3407f8463",
   "metadata": {},
   "outputs": [],
   "source": [
    "aligned_path = Path(\"/Users/alexpayne/Scientific_Projects/mers-drug-discovery/fragalysis_downloads/20240129_fragalysis_download/aligned/\")"
   ]
  },
  {
   "cell_type": "code",
   "execution_count": null,
   "id": "e9cc7fec-1b47-470e-8bff-8b516e361d6a",
   "metadata": {},
   "outputs": [],
   "source": [
    "p_structures = [pdb for pdb in aligned_path.glob(\"Mpro-P*/*.pdb\")]"
   ]
  },
  {
   "cell_type": "code",
   "execution_count": null,
   "id": "41a646b5-1743-4682-9518-eac19fe140a0",
   "metadata": {},
   "outputs": [],
   "source": [
    "len(p_structures)"
   ]
  },
  {
   "cell_type": "code",
   "execution_count": null,
   "id": "00001b69-9018-48eb-b18b-944a811a47fc",
   "metadata": {},
   "outputs": [],
   "source": [
    "datasets = {}\n",
    "for path in p_structures:\n",
    "    name = path.stem.split(\"_\")[0]\n",
    "    new_path = datasets.get(name, None)\n",
    "    if not new_path:\n",
    "        datasets[name] = path"
   ]
  },
  {
   "cell_type": "code",
   "execution_count": null,
   "id": "06483e00-28d3-4bcc-b19c-ac1b747149ef",
   "metadata": {},
   "outputs": [],
   "source": [
    "len(datasets)"
   ]
  },
  {
   "cell_type": "code",
   "execution_count": null,
   "id": "6cf2e177-c5b5-43bc-aa47-fd7313c494e5",
   "metadata": {},
   "outputs": [],
   "source": [
    "missing = [dataset for dataset in cmpd_to_frag.values() if not dataset in datasets.keys()]"
   ]
  },
  {
   "cell_type": "code",
   "execution_count": null,
   "id": "020049c9-04c6-444c-a8b4-1e2f41e6b054",
   "metadata": {},
   "outputs": [],
   "source": [
    "missing"
   ]
  },
  {
   "cell_type": "markdown",
   "id": "0775e860-2003-41d2-aaf5-8f4cac855adb",
   "metadata": {},
   "source": [
    "## make sure all the pdb files exist"
   ]
  },
  {
   "cell_type": "code",
   "execution_count": null,
   "id": "11585e77-e2c8-4f11-9651-5dd7bfce58fa",
   "metadata": {},
   "outputs": [],
   "source": [
    "all([path.exists for path in datasets.values()])"
   ]
  },
  {
   "cell_type": "markdown",
   "id": "bef757f3-8c77-46a6-a4e3-589448bd76f4",
   "metadata": {},
   "source": [
    "## they do!"
   ]
  },
  {
   "cell_type": "markdown",
   "id": "c977e295-a60b-4c7b-80cf-ac8dd7b5278b",
   "metadata": {},
   "source": [
    "## make sure all sdfs exist"
   ]
  },
  {
   "cell_type": "code",
   "execution_count": null,
   "id": "b85f0980-2733-47d3-83c3-bb0b8793a8a6",
   "metadata": {},
   "outputs": [],
   "source": [
    "all([path.with_suffix(\".sdf\") for path in datasets.values()])"
   ]
  },
  {
   "cell_type": "markdown",
   "id": "727edb62-43fc-46a7-a94b-a26c03c90234",
   "metadata": {},
   "source": [
    "## they do! woo!"
   ]
  }
 ],
 "metadata": {
  "kernelspec": {
   "display_name": "Python 3 (ipykernel)",
   "language": "python",
   "name": "python3"
  },
  "language_info": {
   "codemirror_mode": {
    "name": "ipython",
    "version": 3
   },
   "file_extension": ".py",
   "mimetype": "text/x-python",
   "name": "python",
   "nbconvert_exporter": "python",
   "pygments_lexer": "ipython3",
   "version": "3.10.13"
  }
 },
 "nbformat": 4,
 "nbformat_minor": 5
}
