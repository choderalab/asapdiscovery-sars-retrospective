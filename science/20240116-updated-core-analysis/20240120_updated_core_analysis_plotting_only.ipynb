{
 "cells": [
  {
   "cell_type": "markdown",
   "id": "b6af3a4e-ba3a-4c02-a6da-789ba1544c6b",
   "metadata": {},
   "source": [
    "# Import"
   ]
  },
  {
   "cell_type": "code",
   "execution_count": null,
   "id": "b0383939-faa5-46ce-953b-672f58fd4ed9",
   "metadata": {},
   "outputs": [],
   "source": [
    "import pandas as pd, numpy as np\n",
    "import plotly.express as px\n",
    "from plotly.graph_objs import Figure\n",
    "from pathlib import Path\n",
    "from importlib import reload\n",
    "import software.analysis as a\n",
    "reload(a)"
   ]
  },
  {
   "cell_type": "markdown",
   "id": "d564e2ac-da6a-466e-9326-73b6fa5e544f",
   "metadata": {},
   "source": [
    "## Import CSV"
   ]
  },
  {
   "cell_type": "code",
   "execution_count": null,
   "id": "f372f6c7-ea5d-4e2b-bb0c-9e6c6e522841",
   "metadata": {},
   "outputs": [],
   "source": [
    "df = pd.read_csv(\"20240120_aggregated_all_stats_bootstraps100_stride10\")"
   ]
  },
  {
   "cell_type": "markdown",
   "id": "3dde7c0a-549b-45b3-917b-43e54b0b9212",
   "metadata": {},
   "source": [
    "# Some of the Core Functions and Variables"
   ]
  },
  {
   "cell_type": "code",
   "execution_count": null,
   "id": "db1481a5-8d4e-4fd0-8f0b-9f090e393e9a",
   "metadata": {},
   "outputs": [],
   "source": [
    "color=\"Version\"\n",
    "sort_col_name=\"Sorted_By\"\n",
    "date_title = \"Date for Inclusion of Reference Structures\"\n",
    "good = 2\n",
    "frac_title=f\"Fraction of Poses < {good}Å from Reference\""
   ]
  },
  {
   "cell_type": "code",
   "execution_count": null,
   "id": "c9b1f018-17ce-4653-a258-336ad0aa2b3b",
   "metadata": {},
   "outputs": [],
   "source": [
    "def rename_legend_labels(newname_dict, fig):\n",
    "    fig.for_each_trace(lambda t: t.update(name = newname_dict[t.name],\n",
    "                                          legendgroup = newname_dict[t.name],\n",
    "                                          hovertemplate = t.hovertemplate.replace(t.name, newname_dict[t.name])\n",
    "                                         ))\n",
    "    return fig"
   ]
  },
  {
   "cell_type": "code",
   "execution_count": null,
   "id": "dc3ba6f7-2b0d-4981-9898-05df1547dd13",
   "metadata": {
    "tags": []
   },
   "outputs": [],
   "source": [
    "def replace_xaxis_labels(fig: Figure, axis_title):\n",
    "    fig.for_each_xaxis(lambda x: x.update(title = ''))\n",
    "    fig.add_annotation(x=0.5,y=-0.15,\n",
    "                   text=axis_title, textangle=0,\n",
    "                       font=dict(size=16),\n",
    "                    xref=\"paper\", yref=\"paper\",\n",
    "            showarrow=False,)\n",
    "    return fig"
   ]
  },
  {
   "cell_type": "code",
   "execution_count": null,
   "id": "86a3b7f2-3518-4ceb-96e8-ecd42aa66a4a",
   "metadata": {
    "tags": []
   },
   "outputs": [],
   "source": [
    "def replace_yaxis_labels(fig: Figure, axis_title):\n",
    "    fig.for_each_yaxis(lambda y: y.update(title = ''))\n",
    "    fig.add_annotation(x=-0.05,y=0.5,\n",
    "                   text=axis_title, textangle=-90,\n",
    "                       font=dict(size=16),\n",
    "                    xref=\"paper\", yref=\"paper\",\n",
    "            showarrow=False,)\n",
    "    return fig"
   ]
  },
  {
   "cell_type": "code",
   "execution_count": null,
   "id": "c2a71c71-1e09-44a2-ae6b-2a2d0c9b66f5",
   "metadata": {
    "tags": []
   },
   "outputs": [],
   "source": [
    "def clean_labels(fig):\n",
    "    fig.for_each_annotation(lambda a: a.update(text=a.text.split(\"=\")[-1]))\n",
    "    return fig"
   ]
  },
  {
   "cell_type": "code",
   "execution_count": null,
   "id": "41b6d579-d82d-4be8-8a40-198a084bca6a",
   "metadata": {},
   "outputs": [],
   "source": [
    "def scatter_wrapper(df, kwarg_dict, \n",
    "                    x_axis_title=None, \n",
    "                    y_axis_title=None, \n",
    "                    replace_xaxis=False,\n",
    "                    replace_y_axis=False,\n",
    "                    clean=True,\n",
    "                    x_axis_reversed=False\n",
    "                   ):\n",
    "    fig:Figure = px.scatter(df, **kwarg_dict, hover_data=df.columns)\n",
    "    if x_axis_title:\n",
    "        if replace_xaxis:\n",
    "            fig = replace_xaxis_labels(fig, x_axis_title)\n",
    "        else:\n",
    "            fig.update_xaxes(title=x_axis_title)\n",
    "    \n",
    "    if y_axis_title:\n",
    "        if replace_y_axis:\n",
    "            fig = replace_yaxis_labels(fig, y_axis_title)\n",
    "        else:\n",
    "            fig.update_yaxes(title=y_axis_title)\n",
    "    \n",
    "    if clean:\n",
    "        fig = clean_labels(fig)\n",
    "    if x_axis_reversed:\n",
    "        fig.update_xaxes(autorange=\"reversed\")\n",
    "    return fig"
   ]
  },
  {
   "cell_type": "code",
   "execution_count": null,
   "id": "29925a0c-4075-486f-87ac-27c37fafaf0b",
   "metadata": {},
   "outputs": [],
   "source": []
  },
  {
   "cell_type": "code",
   "execution_count": null,
   "id": "892f8021-02d4-4e62-85e5-671d9d4f5013",
   "metadata": {
    "tags": []
   },
   "outputs": [],
   "source": [
    "basic_plot_kwargs = dict(color=color, \n",
    "                         )"
   ]
  },
  {
   "cell_type": "code",
   "execution_count": null,
   "id": "29a29f72-319d-4873-9449-fadfdd4a3350",
   "metadata": {
    "tags": []
   },
   "outputs": [],
   "source": [
    "big_plot_kwargs = dict(facet_col=sort_col_name,\n",
    "                         facet_row=\"Split\", \n",
    "                         height=600, \n",
    "                         width=1200, )"
   ]
  },
  {
   "cell_type": "code",
   "execution_count": null,
   "id": "2f491b44-7a01-48a7-a04a-6d0598043907",
   "metadata": {
    "tags": []
   },
   "outputs": [],
   "source": [
    "single_plot_kwargs = dict(height=400, width=600)"
   ]
  },
  {
   "cell_type": "code",
   "execution_count": null,
   "id": "c7c37939-e158-4421-9771-32289b746a89",
   "metadata": {
    "tags": []
   },
   "outputs": [],
   "source": [
    "tc_plot_kwargs = dict(x=tc,  \n",
    "                      labels={tc: tc_title},\n",
    "                     range_x=[-0.1,2.1],)"
   ]
  },
  {
   "cell_type": "code",
   "execution_count": null,
   "id": "585daec6-d799-4684-bc69-649daf0051ca",
   "metadata": {
    "tags": []
   },
   "outputs": [],
   "source": [
    "fraction_plot_kwargs = dict(range_y=[-0.1,1.1])"
   ]
  },
  {
   "cell_type": "code",
   "execution_count": null,
   "id": "78fead0f-213d-4d8e-ac33-dfbe77bf4170",
   "metadata": {
    "tags": []
   },
   "outputs": [],
   "source": [
    "stats_kwargs = dict(y=\"Value\", error_y=\"STD\")"
   ]
  },
  {
   "cell_type": "markdown",
   "id": "fbd79535-4a86-4e49-8510-e00c198f116c",
   "metadata": {},
   "source": [
    "## Hybrid Only Plot"
   ]
  },
  {
   "cell_type": "code",
   "execution_count": null,
   "id": "832f440f-ab82-4344-8d9a-809d5f087b40",
   "metadata": {},
   "outputs": [],
   "source": [
    "from plotly."
   ]
  },
  {
   "cell_type": "code",
   "execution_count": null,
   "id": "062c41fe-a7b9-48eb-9d5c-9f45353c6d85",
   "metadata": {},
   "outputs": [],
   "source": [
    "fig = scatter_wrapper(df[df[\"Version\"] == \"Hybrid-Only\"], \n",
    "                      dict(\n",
    "                          y=\"Fraction\", color=\"Structure_Split\", #facet_col=\"Version\",\n",
    "                          category_orders={\"Structure_Split\":[\"Random\", \"Structure_Date\", \"TanimotoCombo\", \"TanimotoCombo_R\"]},\n",
    "                          color_discrete_sequence=[\"#5ba300\",\"#89ce00\", \"#0073e6\",\"#e6308a\",\"#b51963\",],\n",
    "                          error_y=\"Max\", \n",
    "                          error_y_minus=\"Min\",\n",
    "                          template=\"plotly_white\",\n",
    "                           # **fraction_plot_kwargs,\n",
    "                           x=\"Number of References\", \n",
    "                          height=600,\n",
    "                          width=800,\n",
    "                           # **single_plot_kwargs\n",
    "                          \n",
    "                      ),\n",
    "                     y_axis_title=frac_title,\n",
    "                     x_axis_title=\"Number of References\",\n",
    "                     )\n",
    "newlabels = {\"random\":\"Random\",\n",
    "                                  \"TanimotoCombo\": \"Increasing Chemical Similarity\", \n",
    "                                  \"TanimotoCombo_R\": \"Decreasing Chemical Similarity\",\n",
    "                                  \"Structure_Date\": \"Date of Structure Deposition\", }\n",
    "fig = rename_legend_labels(newlabels, fig)\n",
    "fig.update_layout(legend=dict(title=\"Structure Selection\", \n",
    "                              x=0.5, y=0.1, \n",
    "                              traceorder='reversed', \n",
    "                              title_font_size=24, \n",
    "                              font_size=18, \n",
    "                              font_color='black'),\n",
    "                 xaxis=dict(title_font=dict(size=24), color='black', tickfont=dict(size=18)), yaxis=dict(title_font=dict(size=24), color='black', tickfont=dict(size=18)))\n",
    "fig.update_yaxes(tickvals=np.arange(0, 1.1, 0.1)) \n",
    "fig.show()\n",
    "fig.write_image(\"20240120_structure_splits_hybrid.svg\")"
   ]
  },
  {
   "cell_type": "code",
   "execution_count": null,
   "id": "6c9f5550-80b0-460f-a286-419b2108e899",
   "metadata": {},
   "outputs": [],
   "source": [
    "import plotly\n",
    "plotly.graph_objs.layout.Template()"
   ]
  },
  {
   "cell_type": "code",
   "execution_count": null,
   "id": "e8868f08-7a92-4f21-aaa1-74e6f609a1e7",
   "metadata": {},
   "outputs": [],
   "source": [
    "list(np.range(0,1,20))"
   ]
  },
  {
   "cell_type": "code",
   "execution_count": null,
   "id": "d95e7b49-d2b1-4d0c-bf31-1599cc018d0b",
   "metadata": {},
   "outputs": [],
   "source": [
    "np.arange(0, 1.1, 0.05)"
   ]
  },
  {
   "cell_type": "code",
   "execution_count": null,
   "id": "34369c49-f3a4-4811-bf43-ca5c06789a8e",
   "metadata": {},
   "outputs": [],
   "source": []
  }
 ],
 "metadata": {
  "kernelspec": {
   "display_name": "Python 3 (ipykernel)",
   "language": "python",
   "name": "python3"
  },
  "language_info": {
   "codemirror_mode": {
    "name": "ipython",
    "version": 3
   },
   "file_extension": ".py",
   "mimetype": "text/x-python",
   "name": "python",
   "nbconvert_exporter": "python",
   "pygments_lexer": "ipython3",
   "version": "3.10.13"
  }
 },
 "nbformat": 4,
 "nbformat_minor": 5
}
