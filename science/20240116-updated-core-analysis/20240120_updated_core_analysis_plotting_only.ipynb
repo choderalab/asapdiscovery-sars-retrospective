{
 "cells": [
  {
   "cell_type": "markdown",
   "id": "b6af3a4e-ba3a-4c02-a6da-789ba1544c6b",
   "metadata": {},
   "source": [
    "# Import"
   ]
  },
  {
   "cell_type": "code",
   "execution_count": null,
   "id": "b0383939-faa5-46ce-953b-672f58fd4ed9",
   "metadata": {},
   "outputs": [],
   "source": [
    "import pandas as pd, numpy as np\n",
    "import plotly.express as px\n",
    "from plotly.graph_objs import Figure\n",
    "from pathlib import Path\n",
    "from importlib import reload\n",
    "import software.analysis as a\n",
    "from software.plotting import plot_kde, rename_legend_labels, replace_xaxis_labels, replace_yaxis_labels, clean_labels, scatter_wrapper\n",
    "reload(a)"
   ]
  },
  {
   "cell_type": "markdown",
   "id": "d564e2ac-da6a-466e-9326-73b6fa5e544f",
   "metadata": {},
   "source": [
    "## Import CSV"
   ]
  },
  {
   "cell_type": "code",
   "execution_count": null,
   "id": "f372f6c7-ea5d-4e2b-bb0c-9e6c6e522841",
   "metadata": {},
   "outputs": [],
   "source": [
    "df = pd.read_csv(\"20240120_aggregated_all_stats_bootstraps100_stride10.csv\")"
   ]
  },
  {
   "cell_type": "markdown",
   "id": "3dde7c0a-549b-45b3-917b-43e54b0b9212",
   "metadata": {},
   "source": [
    "# Some of the Core Functions and Variables"
   ]
  },
  {
   "cell_type": "code",
   "execution_count": null,
   "id": "db1481a5-8d4e-4fd0-8f0b-9f090e393e9a",
   "metadata": {},
   "outputs": [],
   "source": [
    "color=\"Version\"\n",
    "tc = \"TanimotoCombo\"\n",
    "sort_col_name=\"Sorted_By\"\n",
    "date_title = \"Date for Inclusion of Reference Structures\"\n",
    "tc_title = \"TanimotoCombo Cutoff for Inclusion of Reference Structures\"\n",
    "good = 2\n",
    "frac_title=f\"Fraction of Poses < {good}Å from Reference\""
   ]
  },
  {
   "cell_type": "code",
   "execution_count": null,
   "id": "892f8021-02d4-4e62-85e5-671d9d4f5013",
   "metadata": {
    "tags": []
   },
   "outputs": [],
   "source": [
    "basic_plot_kwargs = dict(color=color, \n",
    "                         )"
   ]
  },
  {
   "cell_type": "code",
   "execution_count": null,
   "id": "29a29f72-319d-4873-9449-fadfdd4a3350",
   "metadata": {
    "tags": []
   },
   "outputs": [],
   "source": [
    "big_plot_kwargs = dict(facet_col=sort_col_name,\n",
    "                         facet_row=\"Split\", \n",
    "                         height=600, \n",
    "                         width=1200, )"
   ]
  },
  {
   "cell_type": "code",
   "execution_count": null,
   "id": "2f491b44-7a01-48a7-a04a-6d0598043907",
   "metadata": {
    "tags": []
   },
   "outputs": [],
   "source": [
    "single_plot_kwargs = dict(height=400, width=600)"
   ]
  },
  {
   "cell_type": "code",
   "execution_count": null,
   "id": "c7c37939-e158-4421-9771-32289b746a89",
   "metadata": {
    "tags": []
   },
   "outputs": [],
   "source": [
    "tc_plot_kwargs = dict(x=tc,  \n",
    "                      labels={tc: tc_title},\n",
    "                     range_x=[-0.1,2.1],)"
   ]
  },
  {
   "cell_type": "code",
   "execution_count": null,
   "id": "585daec6-d799-4684-bc69-649daf0051ca",
   "metadata": {
    "tags": []
   },
   "outputs": [],
   "source": [
    "fraction_plot_kwargs = dict(range_y=[-0.1,1.1])"
   ]
  },
  {
   "cell_type": "code",
   "execution_count": null,
   "id": "78fead0f-213d-4d8e-ac33-dfbe77bf4170",
   "metadata": {
    "tags": []
   },
   "outputs": [],
   "source": [
    "stats_kwargs = dict(y=\"Value\", error_y=\"STD\")"
   ]
  },
  {
   "cell_type": "markdown",
   "id": "fbd79535-4a86-4e49-8510-e00c198f116c",
   "metadata": {},
   "source": [
    "## Hybrid Only Plot"
   ]
  },
  {
   "cell_type": "code",
   "execution_count": null,
   "id": "062c41fe-a7b9-48eb-9d5c-9f45353c6d85",
   "metadata": {},
   "outputs": [],
   "source": [
    "fig = scatter_wrapper(df[df[\"Version\"] == \"Hybrid-Only\"], \n",
    "                      dict(\n",
    "                          y=\"Fraction\", color=\"Structure_Split\", #facet_col=\"Version\",\n",
    "                          category_orders={\"Structure_Split\":[\"Random\", \"Structure_Date\", \"TanimotoCombo\", \"TanimotoCombo_R\"]},\n",
    "                          color_discrete_sequence=[\"#5ba300\",\"#89ce00\", \"#0073e6\",\"#e6308a\",\"#b51963\",],\n",
    "                          error_y=\"Max\", \n",
    "                          error_y_minus=\"Min\",\n",
    "                          template=\"plotly_white\",\n",
    "                           # **fraction_plot_kwargs,\n",
    "                           x=\"Number of References\", \n",
    "                          height=600,\n",
    "                          width=800,\n",
    "                           # **single_plot_kwargs\n",
    "                          \n",
    "                      ),\n",
    "                     y_axis_title=frac_title,\n",
    "                     x_axis_title=\"Number of References\",\n",
    "                     )\n",
    "newlabels = {\"random\":\"Random\",\n",
    "                                  \"TanimotoCombo\": \"Increasing Chemical Similarity\", \n",
    "                                  \"TanimotoCombo_R\": \"Decreasing Chemical Similarity\",\n",
    "                                  \"Structure_Date\": \"Date of Structure Deposition\", }\n",
    "fig = rename_legend_labels(newlabels, fig)\n",
    "fig.update_layout(legend=dict(title=\"Structure Selection\", \n",
    "                              x=0.5, y=0.1, \n",
    "                              traceorder='reversed', \n",
    "                              title_font_size=24, \n",
    "                              font_size=18, \n",
    "                              font_color='black'),\n",
    "                 xaxis=dict(title_font=dict(size=24), color='black', tickfont=dict(size=18)), yaxis=dict(title_font=dict(size=24), color='black', tickfont=dict(size=18)))\n",
    "fig.update_yaxes(tickvals=np.arange(0, 1.1, 0.1)) \n",
    "fig.show()\n",
    "fig.write_image(\"20240120_structure_splits_hybrid.svg\")\n",
    "fig.write_image(\"20240120_structure_splits_hybrid.png\")"
   ]
  },
  {
   "cell_type": "code",
   "outputs": [],
   "source": [
    "import plotly.graph_objects as go\n",
    "def plot_scatter_with_confidence_bands(df, x, y, split_by, error_y_plus, error_y_minus, template=\"plotly_white\", height=600, width=800, colors=px.colors.qualitative.Plotly):\n",
    "    traces = []\n",
    "    \n",
    "    # order by mean\n",
    "    ordered_splits = df.groupby(split_by)[y].mean().sort_values().index\n",
    "    for i, split in enumerate(ordered_splits):\n",
    "        subdf = df[df[split_by] == split]\n",
    "        traces.append(go.Scatter(name=split,\n",
    "                                 x=subdf[x],\n",
    "                                 y=subdf[y],\n",
    "                                 mode='lines',\n",
    "                                 showlegend=True,\n",
    "                                 line_color=colors[i]))\n",
    "        traces.append(go.Scatter(name=split,\n",
    "                                 x=subdf[x],\n",
    "                                 y=subdf[y] + subdf[error_y_plus],\n",
    "                                 mode='lines',\n",
    "                                 line_color=colors[i],\n",
    "                                 line_width=0,\n",
    "                                 showlegend=False))\n",
    "        traces.append(go.Scatter(name=split,\n",
    "                                 x=subdf[x],\n",
    "                                 y=subdf[y] - subdf[error_y_minus],\n",
    "                                 fill='tonexty',\n",
    "                                 mode='lines',\n",
    "                                    line_color=colors[i],\n",
    "                                 line_width=0,\n",
    "                                 showlegend=False))\n",
    "    fig = go.Figure(traces)\n",
    "    fig.update_layout(template=template, height=height, width=width) \n",
    "    return fig\n",
    "        \n",
    "    \n",
    "    "
   ],
   "metadata": {
    "collapsed": false
   },
   "id": "71eec569feccfb01",
   "execution_count": null
  },
  {
   "cell_type": "code",
   "outputs": [],
   "source": [
    "fig = plot_scatter_with_confidence_bands(df[df[\"Version\"] == \"Hybrid-Only\"], \n",
    "                                         \"Number of References\", \n",
    "                                         \"Fraction\", \n",
    "                                         \"Structure_Split\", \n",
    "                                         \"Max\", \n",
    "                                         \"Min\", \n",
    "                                         template=\"simple_white\", \n",
    "                                         height=600, \n",
    "                                         width=800, \n",
    "                                         colors=px.colors.qualitative.Safe)\n",
    "newlabels = {\"random\":\"Random\",\n",
    "              \"TanimotoCombo\": \"Picking <b> least </b> similar reference\", \n",
    "              \"TanimotoCombo_R\": \"Picking <b> most </b> similar reference\",\n",
    "              \"Structure_Date\": \"Picking the earliest deposition date\", }\n",
    "fig.for_each_trace(lambda t: t.update(name = newlabels[t.name],\n",
    "                                          # legendgroup = newlabels[t.name],\n",
    "                                          # hovertemplate = t.hovertemplate.replace(t.name, newlabels[t.name])\n",
    "                                         ))\n",
    "large_font = 18\n",
    "small_font = 12\n",
    "fig.update_layout(\n",
    "    font=dict(size=small_font, \n",
    "              family='Arial'\n",
    "              ),\n",
    "    legend=dict(title=\"<b> Reference Selection Strategy </b>\", \n",
    "                              x=0.4, y=0.1, \n",
    "                              traceorder='reversed', \n",
    "                              title_font_size=large_font, \n",
    "                              font_color='black'),\n",
    "                 xaxis=dict(title=\"<b> Total Number of References Available to Use </b>\", \n",
    "                            title_font=dict(size=large_font), \n",
    "                            color='black', \n",
    "                            ),\n",
    "                  yaxis=dict(range=(0,1), \n",
    "                             title=\"<b> Fraction of Poses Docked < 2Å from Reference </b>\", \n",
    "                      title_font=dict(size=large_font), \n",
    "                             color='black', \n",
    "                             ),)\n",
    "fig.update_yaxes(tickvals=np.arange(0, 1.1, 0.1)) \n",
    "fig.show()"
   ],
   "metadata": {
    "collapsed": false
   },
   "id": "1e78277e081d2cd6",
   "execution_count": null
  },
  {
   "cell_type": "code",
   "outputs": [],
   "source": [
    "fig.write_image(\"20240229_structure_splits_hybrid.svg\")\n",
    "fig.write_image(\"20240229_structure_splits_hybrid.png\")"
   ],
   "metadata": {
    "collapsed": false
   },
   "id": "555e2897df29080f",
   "execution_count": null
  },
  {
   "cell_type": "code",
   "outputs": [],
   "source": [],
   "metadata": {
    "collapsed": false
   },
   "id": "fc522b37bddd9508"
  }
 ],
 "metadata": {
  "kernelspec": {
   "display_name": "Python 3 (ipykernel)",
   "language": "python",
   "name": "python3"
  },
  "language_info": {
   "codemirror_mode": {
    "name": "ipython",
    "version": 3
   },
   "file_extension": ".py",
   "mimetype": "text/x-python",
   "name": "python",
   "nbconvert_exporter": "python",
   "pygments_lexer": "ipython3",
   "version": "3.10.13"
  }
 },
 "nbformat": 4,
 "nbformat_minor": 5
}
