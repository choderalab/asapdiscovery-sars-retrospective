{
 "cells": [
  {
   "cell_type": "markdown",
   "id": "94038bbd-0373-406d-a079-854cb21dea9d",
   "metadata": {},
   "source": [
    "# Import"
   ]
  },
  {
   "cell_type": "code",
   "execution_count": null,
   "id": "c047baf1-a93e-4465-9015-65af83af6f88",
   "metadata": {},
   "outputs": [],
   "source": [
    "import pandas as pd\n",
    "import plotly.express as px"
   ]
  },
  {
   "cell_type": "code",
   "execution_count": null,
   "id": "20394ed3-b0c1-450f-b0c0-0703d853989c",
   "metadata": {},
   "outputs": [],
   "source": [
    "df = pd.read_csv(\"rmsd_calculated_combined.csv\", index_col=0)"
   ]
  },
  {
   "cell_type": "code",
   "outputs": [],
   "source": [
    "df"
   ],
   "metadata": {
    "collapsed": false
   },
   "id": "6bb121d08dd24f51",
   "execution_count": null
  },
  {
   "cell_type": "markdown",
   "id": "807f4f1b-68e8-4675-97fd-913cf81f68a8",
   "metadata": {},
   "source": [
    "# how many <2?"
   ]
  },
  {
   "cell_type": "markdown",
   "source": [
    "bootstrap frac < 2A - actually I don't think this makes sense. \n",
    "bootstrapping over the dataset split is really the only thing that makes sense? "
   ],
   "metadata": {
    "collapsed": false
   },
   "id": "1bb0461dbb34ab79"
  },
  {
   "cell_type": "code",
   "outputs": [],
   "source": [
    "frac_good = sum(df.RMSD <= 2) / len(df.RMSD)"
   ],
   "metadata": {
    "collapsed": false
   },
   "id": "7ade2d0f5a27c010",
   "execution_count": null
  },
  {
   "cell_type": "code",
   "execution_count": null,
   "id": "e96d28f6-9eeb-451b-8c4f-1b1a675ccc1c",
   "metadata": {},
   "outputs": [],
   "source": [
    "# fracs = []\n",
    "# for i in range(10000):\n",
    "#     sub_df = df.sample(frac=1, replace=True)\n",
    "#     fracs.append(sum(sub_df.RMSD <= 2) / len(sub_df.RMSD))"
   ]
  },
  {
   "cell_type": "code",
   "outputs": [],
   "source": [
    "# fracs.sort()"
   ],
   "metadata": {
    "collapsed": false
   },
   "id": "334606cded181286",
   "execution_count": null
  },
  {
   "cell_type": "code",
   "outputs": [],
   "source": [
    "# len(fracs)"
   ],
   "metadata": {
    "collapsed": false
   },
   "id": "4e7d62b4abd97c21",
   "execution_count": null
  },
  {
   "cell_type": "code",
   "outputs": [],
   "source": [
    "# ci_lower = fracs[int(0.025 * 10000)]\n",
    "# ci_upper = fracs[int(0.975 * 10000)]"
   ],
   "metadata": {
    "collapsed": false
   },
   "id": "c53bd30f0cfde052",
   "execution_count": null
  },
  {
   "cell_type": "code",
   "outputs": [],
   "source": [
    "# ci_lower"
   ],
   "metadata": {
    "collapsed": false
   },
   "id": "8d79237e99571b9",
   "execution_count": null
  },
  {
   "cell_type": "code",
   "outputs": [],
   "source": [
    "# ci_upper"
   ],
   "metadata": {
    "collapsed": false
   },
   "id": "a93d75220940dfb1",
   "execution_count": null
  },
  {
   "cell_type": "markdown",
   "source": [
    "# make normal-looking plot"
   ],
   "metadata": {
    "collapsed": false
   },
   "id": "3e2f6ad8edf43195"
  },
  {
   "cell_type": "code",
   "outputs": [],
   "source": [
    "frac_df = pd.DataFrame({\"Structures\": [219], \"Fraction\": [frac_good], \"Label\": [\"POSIT Multi-reference Docking\"]})"
   ],
   "metadata": {
    "collapsed": false
   },
   "id": "4edc4a7718f8d00",
   "execution_count": null
  },
  {
   "cell_type": "code",
   "outputs": [],
   "source": [
    "fig = px.scatter(frac_df, x=\"Structures\", y=\"Fraction\", range_x=[0, 220], range_y=[0, 1], template=\"simple_white\", width=500, height=500, color=\"Label\")"
   ],
   "metadata": {
    "collapsed": false
   },
   "id": "6ac6caa409f4c27",
   "execution_count": null
  },
  {
   "cell_type": "code",
   "outputs": [],
   "source": [
    "large_font = 18\n",
    "small_font = 12\n",
    "fig.update_layout(\n",
    "font=dict(size=small_font, \n",
    "              family='Arial'\n",
    "              ),\n",
    "    legend=dict(title=\"<b> Reference Selection Strategy </b>\", \n",
    "                              x=0.4, y=0.5, \n",
    "                              traceorder='reversed', \n",
    "                              title_font_size=large_font, \n",
    "                              font_color='black'),\n",
    "                 xaxis=dict(title=\"<b> Total Number of References Available to Use </b>\", \n",
    "                            title_font=dict(size=large_font), \n",
    "                            color='black', \n",
    "                            ),\n",
    "                  yaxis=dict(range=(0,1), \n",
    "                             title=\"<b> Fraction of Poses Docked < 2Å from Reference </b>\", \n",
    "                      title_font=dict(size=large_font), \n",
    "                             color='black', \n",
    "                             ),)\n",
    "fig.show()"
   ],
   "metadata": {
    "collapsed": false
   },
   "id": "8b431e8d59ceb9b1",
   "execution_count": null
  },
  {
   "cell_type": "code",
   "outputs": [],
   "source": [
    "fig.write_image(\"POSIT_frac.png\")"
   ],
   "metadata": {
    "collapsed": false
   },
   "id": "6e762e3387eb32cf",
   "execution_count": null
  },
  {
   "cell_type": "code",
   "outputs": [],
   "source": [],
   "metadata": {
    "collapsed": false
   },
   "id": "d9e2915f8d7783b4"
  },
  {
   "cell_type": "code",
   "outputs": [],
   "source": [],
   "metadata": {
    "collapsed": false
   },
   "id": "654837b5936bab7c"
  },
  {
   "cell_type": "code",
   "execution_count": null,
   "id": "c8a237c4-23ff-4c4a-a2bf-c938bb0a8cc1",
   "metadata": {},
   "outputs": [],
   "source": [
    "fig = px.scatter(df, x=\"POSIT\", y=\"RMSD\", color=\"TanimotoCombo\", template=\"simple_white\", width=600, height=600)\n",
    "fig.show()\n",
    "fig.write_image(\"RMSD_vs_POSIT.png\")"
   ]
  },
  {
   "cell_type": "markdown",
   "id": "32b44c60-c82b-4388-a6d8-5528dd358391",
   "metadata": {},
   "source": [
    "# TC Score analysis"
   ]
  },
  {
   "cell_type": "code",
   "execution_count": null,
   "id": "74383978-151a-41a3-8711-757ae5383cfa",
   "metadata": {},
   "outputs": [],
   "source": [
    "fig = px.scatter(df, x=\"TanimotoCombo\", y=\"RMSD\", color=\"POSIT\", template=\"simple_white\", width=600, height=600)\n",
    "fig.show()\n",
    "fig.write_image(\"RMSD_vs_TC.png\")"
   ]
  },
  {
   "cell_type": "code",
   "execution_count": null,
   "id": "7d347751-79dc-4f4f-96fe-e2f120fbe2d9",
   "metadata": {},
   "outputs": [],
   "source": []
  }
 ],
 "metadata": {
  "kernelspec": {
   "display_name": "Python 3 (ipykernel)",
   "language": "python",
   "name": "python3"
  },
  "language_info": {
   "codemirror_mode": {
    "name": "ipython",
    "version": 3
   },
   "file_extension": ".py",
   "mimetype": "text/x-python",
   "name": "python",
   "nbconvert_exporter": "python",
   "pygments_lexer": "ipython3",
   "version": "3.10.13"
  }
 },
 "nbformat": 4,
 "nbformat_minor": 5
}
