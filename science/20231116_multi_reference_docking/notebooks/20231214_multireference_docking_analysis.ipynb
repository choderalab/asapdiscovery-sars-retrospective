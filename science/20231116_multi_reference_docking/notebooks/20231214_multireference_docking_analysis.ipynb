{
 "cells": [
  {
   "cell_type": "markdown",
   "id": "94038bbd-0373-406d-a079-854cb21dea9d",
   "metadata": {},
   "source": [
    "# Import"
   ]
  },
  {
   "cell_type": "code",
   "execution_count": null,
   "id": "c047baf1-a93e-4465-9015-65af83af6f88",
   "metadata": {},
   "outputs": [],
   "source": [
    "import pandas as pd\n",
    "import plotly.express as px"
   ]
  },
  {
   "cell_type": "code",
   "execution_count": null,
   "id": "20394ed3-b0c1-450f-b0c0-0703d853989c",
   "metadata": {},
   "outputs": [],
   "source": [
    "df = pd.read_csv(\"rmsd_calculated_combined.csv\", index_col=0)"
   ]
  },
  {
   "cell_type": "markdown",
   "id": "807f4f1b-68e8-4675-97fd-913cf81f68a8",
   "metadata": {},
   "source": [
    "# how many <2?"
   ]
  },
  {
   "cell_type": "code",
   "execution_count": null,
   "id": "e96d28f6-9eeb-451b-8c4f-1b1a675ccc1c",
   "metadata": {},
   "outputs": [],
   "source": [
    "sum(df.RMSD <= 2) / len(df.RMSD)"
   ]
  },
  {
   "cell_type": "code",
   "execution_count": null,
   "id": "c8a237c4-23ff-4c4a-a2bf-c938bb0a8cc1",
   "metadata": {},
   "outputs": [],
   "source": [
    "fig = px.scatter(df, x=\"POSIT\", y=\"RMSD\", color=\"TanimotoCombo\", template=\"simple_white\", width=600, height=600)\n",
    "fig.show()\n",
    "fig.write_image(\"RMSD_vs_POSIT.png\")"
   ]
  },
  {
   "cell_type": "markdown",
   "id": "32b44c60-c82b-4388-a6d8-5528dd358391",
   "metadata": {},
   "source": [
    "# TC Score analysis"
   ]
  },
  {
   "cell_type": "code",
   "execution_count": null,
   "id": "74383978-151a-41a3-8711-757ae5383cfa",
   "metadata": {},
   "outputs": [],
   "source": [
    "fig = px.scatter(df, x=\"TanimotoCombo\", y=\"RMSD\", color=\"POSIT\", template=\"simple_white\", width=600, height=600)\n",
    "fig.show()\n",
    "fig.write_image(\"RMSD_vs_TC.png\")"
   ]
  },
  {
   "cell_type": "code",
   "execution_count": null,
   "id": "7d347751-79dc-4f4f-96fe-e2f120fbe2d9",
   "metadata": {},
   "outputs": [],
   "source": []
  }
 ],
 "metadata": {
  "kernelspec": {
   "display_name": "Python 3 (ipykernel)",
   "language": "python",
   "name": "python3"
  },
  "language_info": {
   "codemirror_mode": {
    "name": "ipython",
    "version": 3
   },
   "file_extension": ".py",
   "mimetype": "text/x-python",
   "name": "python",
   "nbconvert_exporter": "python",
   "pygments_lexer": "ipython3",
   "version": "3.10.13"
  }
 },
 "nbformat": 4,
 "nbformat_minor": 5
}
