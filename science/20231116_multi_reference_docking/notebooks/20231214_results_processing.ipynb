{
 "cells": [
  {
   "cell_type": "markdown",
   "id": "70320a5b-40fc-4b51-afb9-b4fcf6d3b05f",
   "metadata": {},
   "source": [
    "# Imports"
   ]
  },
  {
   "cell_type": "code",
   "execution_count": null,
   "id": "082ae566-27f5-4fa1-b164-d55b89636ef1",
   "metadata": {},
   "outputs": [],
   "source": [
    "from asapdiscovery.data.schema_v2.ligand import Ligand\n",
    "from asapdiscovery.docking.openeye import POSITDockingResults\n",
    "from asapdiscovery.docking import DockingResults\n",
    "from pathlib import Path\n",
    "import pandas as pd\n",
    "from tqdm import tqdm"
   ]
  },
  {
   "cell_type": "markdown",
   "id": "604db2bf-e70d-4763-b4f3-91a8f299d931",
   "metadata": {},
   "source": [
    "## load as csv"
   ]
  },
  {
   "cell_type": "code",
   "execution_count": null,
   "id": "d203b755-444a-44ab-a1fd-d38e5463a230",
   "metadata": {},
   "outputs": [],
   "source": [
    "results_files = list(Path(\"/Users/alexpayne/Scientific_Projects/mers-drug-discovery/sars2-retrospective-analysis/20231116_cross_docking_p_only_2d_multi_reference/\").glob(\"*/docking_results_final.csv\"))"
   ]
  },
  {
   "cell_type": "code",
   "execution_count": null,
   "id": "47377311-7812-4705-8c00-d39009f6def3",
   "metadata": {},
   "outputs": [],
   "source": [
    "len(results_files)"
   ]
  },
  {
   "cell_type": "code",
   "execution_count": null,
   "id": "aa9f365c-8c2b-4b6b-b408-0f7c31bfb245",
   "metadata": {},
   "outputs": [],
   "source": [
    "dfs = [pd.read_csv(results_file) for results_file in tqdm(results_files)]"
   ]
  },
  {
   "cell_type": "code",
   "execution_count": null,
   "id": "f5a638bf-4170-447b-837d-ff085dc12959",
   "metadata": {},
   "outputs": [],
   "source": [
    "df = pd.concat(dfs)"
   ]
  },
  {
   "cell_type": "code",
   "execution_count": null,
   "id": "da9dce15-a682-4382-8695-d06abb44a1bf",
   "metadata": {},
   "outputs": [],
   "source": [
    "df.to_csv(\"combined.csv\")"
   ]
  },
  {
   "cell_type": "markdown",
   "id": "e42f383d-7754-49c5-8e5b-eb0b08bbb86e",
   "metadata": {},
   "source": [
    "## Load as Docking Results Object"
   ]
  },
  {
   "cell_type": "code",
   "execution_count": null,
   "id": "bb466ab8-1a59-478a-bfc3-4a2755969744",
   "metadata": {},
   "outputs": [],
   "source": [
    "# results_files = list(Path(\"/Users/alexpayne/Scientific_Projects/mers-drug-discovery/sars2-retrospective-analysis/20231116_cross_docking_p_only_2d_multi_reference/\").glob(\"*/*/*/*.json\"))"
   ]
  },
  {
   "cell_type": "code",
   "execution_count": null,
   "id": "4f27fc6f-73d2-4d8b-bd55-c5624889c6d1",
   "metadata": {
    "scrolled": true
   },
   "outputs": [],
   "source": [
    "# len(results_files)"
   ]
  },
  {
   "cell_type": "code",
   "execution_count": null,
   "id": "00a33464-8c2e-416d-a744-c8f1533651b8",
   "metadata": {},
   "outputs": [],
   "source": [
    "# import json"
   ]
  },
  {
   "cell_type": "code",
   "execution_count": null,
   "id": "bd57c8e6-8975-4bf5-bf73-3146fccb6ae6",
   "metadata": {},
   "outputs": [],
   "source": [
    "# with open(results_files[0]) as f:\n",
    "#     loaded = json.load(f)\n",
    "#    # pdr = POSITDockingResults.parse_obj() "
   ]
  },
  {
   "cell_type": "code",
   "execution_count": null,
   "id": "68d4441f-1b5d-41a2-abba-744246d50b48",
   "metadata": {},
   "outputs": [],
   "source": [
    "# results = [POSITDockingResults.from_json_file(json_file) for json_file in results_files]"
   ]
  },
  {
   "cell_type": "markdown",
   "id": "39753b6b-f83a-4fe9-a03e-920b464f079b",
   "metadata": {},
   "source": [
    "## unfortunately this object doesn't contain the chemgauss results"
   ]
  },
  {
   "cell_type": "markdown",
   "id": "44f80928-4111-42af-b346-e3d50a209051",
   "metadata": {},
   "source": [
    "# Load reference sdfs"
   ]
  },
  {
   "cell_type": "code",
   "execution_count": null,
   "id": "60044b15-8efe-408d-8400-464ca1a7aece",
   "metadata": {},
   "outputs": [],
   "source": [
    "sdf_dir = Path(\"/Users/alexpayne/Scientific_Projects/mers-drug-discovery/sars2-retrospective-analysis/full_frag_prepped_mpro_20230603/sdf_lsf_array_p_only_by_name/\")\n",
    "ligs = [Ligand.from_sdf(sdf) for sdf in sdf_dir.glob(\"*.sdf\")]\n",
    "lig_dict = {lig.compound_name: lig for lig in ligs}"
   ]
  },
  {
   "cell_type": "code",
   "execution_count": null,
   "id": "a5a21305-489f-4276-a646-45d3a215daf3",
   "metadata": {},
   "outputs": [],
   "source": []
  },
  {
   "cell_type": "markdown",
   "id": "64fd17f0-562b-4da2-b746-ca3d225167a2",
   "metadata": {},
   "source": [
    "# Load docked SDFs"
   ]
  },
  {
   "cell_type": "code",
   "execution_count": null,
   "id": "21d7b659-db1c-4a0f-8cb1-6f207be0a44e",
   "metadata": {},
   "outputs": [],
   "source": [
    "# load docked mols\n",
    "docked_sdfs = [path for path in Path(\"/Users/alexpayne/Scientific_Projects/mers-drug-discovery/sars2-retrospective-analysis/20231116_cross_docking_p_only_2d_multi_reference/\").glob(\"*/*.sdf\")]"
   ]
  },
  {
   "cell_type": "code",
   "execution_count": null,
   "id": "74b57411-60d6-475e-9d8f-c4ec36c67afe",
   "metadata": {},
   "outputs": [],
   "source": [
    "docked_ligs = [Ligand.from_sdf(sdf) for sdf in tqdm(docked_sdfs)]"
   ]
  },
  {
   "cell_type": "markdown",
   "id": "0b94a3eb-1e42-485d-accb-eefeb3268b30",
   "metadata": {},
   "source": [
    "# Calculate RMSD"
   ]
  },
  {
   "cell_type": "code",
   "execution_count": null,
   "id": "a75875d4-1fdb-4b77-b39d-8716f91fb507",
   "metadata": {},
   "outputs": [],
   "source": [
    "df.head()"
   ]
  },
  {
   "cell_type": "code",
   "execution_count": null,
   "id": "e3b0f081-20f9-42e5-a9d7-2acc8ccd7e89",
   "metadata": {},
   "outputs": [],
   "source": [
    "docked_ligs[0]"
   ]
  },
  {
   "cell_type": "code",
   "execution_count": null,
   "id": "c6bd41f3-68de-4354-b042-4750f6ff29e4",
   "metadata": {},
   "outputs": [],
   "source": [
    "from asapdiscovery.docking.analysis import calculate_rmsd_openeye\n",
    "compound_ids = []\n",
    "rmsds = []\n",
    "smiles = []\n",
    "posit_method = []\n",
    "posit_score = []\n",
    "\n",
    "for lig in tqdm(docked_ligs):\n",
    "    smiles.append(lig.smiles)\n",
    "    posit_method.append(lig.tags[\"_POSIT_method\"])\n",
    "    posit_score.append(lig.tags[\"docking-confidence-POSIT\"])\n",
    "    ref_lig = lig_dict[lig.compound_name]\n",
    "    compound_ids.append(lig.compound_name)\n",
    "    rmsds.append(calculate_rmsd_openeye(ref_lig.to_oemol(), lig.to_oemol()))"
   ]
  },
  {
   "cell_type": "markdown",
   "id": "00e46f6f-111b-4043-80f3-1d6f76ef31b1",
   "metadata": {},
   "source": [
    "# Make Complete File"
   ]
  },
  {
   "cell_type": "code",
   "execution_count": null,
   "id": "8cdc5733-f650-40b8-a55d-afb0283b5a9f",
   "metadata": {},
   "outputs": [],
   "source": [
    "data_df = pd.DataFrame({\n",
    "                        \"POSIT_Method\": posit_method, \n",
    "                        \"POSIT\": posit_score,\n",
    "                       \"Compound_ID\": compound_ids,\n",
    "                        \"RMSD\": rmsds\n",
    "                       })\n",
    "data_df.to_csv(\"rmsd_data_with_all_info.csv\")"
   ]
  },
  {
   "cell_type": "code",
   "execution_count": null,
   "id": "04c447f9-a2d1-44c1-a7c0-c56921f214c5",
   "metadata": {},
   "outputs": [],
   "source": [
    "df = df.rename(columns = {\"ligand_id\": \"Compound_ID\"})"
   ]
  },
  {
   "cell_type": "code",
   "execution_count": null,
   "id": "0f1ffc0d-4816-4963-bd85-bb634ed0ea1b",
   "metadata": {},
   "outputs": [],
   "source": [
    "combined = pd.merge(df, data_df, on=\"Compound_ID\")"
   ]
  },
  {
   "cell_type": "code",
   "execution_count": null,
   "id": "55cf4f2f-d28d-4808-8d9d-39ce550b41b9",
   "metadata": {},
   "outputs": [],
   "source": [
    "combined[\"Dataset\"] = combined.in_silico_SARS_CoV_2_Mpro_docking_structure_POSIT_msk.apply(lambda x: \"_\".join(x.split(\"_\")[0:2]))"
   ]
  },
  {
   "cell_type": "code",
   "execution_count": null,
   "id": "835a668b-adbc-44fb-84ae-ae4379b9fbca",
   "metadata": {},
   "outputs": [],
   "source": [
    "combined[\"Complex_ID\"] = combined.Compound_ID +\"_\"+ combined.Dataset"
   ]
  },
  {
   "cell_type": "markdown",
   "id": "298cc634-e9e9-4ecf-9add-4c0b80fad82c",
   "metadata": {},
   "source": [
    "# save combined"
   ]
  },
  {
   "cell_type": "code",
   "execution_count": null,
   "id": "c07837d4-e8be-4caa-87b3-f7bf45851948",
   "metadata": {},
   "outputs": [],
   "source": [
    "combined.to_csv(\"rmsd_calculated_combined.csv\")"
   ]
  },
  {
   "cell_type": "code",
   "execution_count": null,
   "id": "f65baf18-a1a6-46c4-a909-b48857231595",
   "metadata": {},
   "outputs": [],
   "source": []
  },
  {
   "cell_type": "markdown",
   "id": "38f432cc-b246-4e3b-842e-d307c736effd",
   "metadata": {},
   "source": [
    "# Add tanimoto analysis"
   ]
  },
  {
   "cell_type": "code",
   "execution_count": null,
   "id": "e6475f0a-42c4-4099-824a-389cbb2ceea8",
   "metadata": {},
   "outputs": [],
   "source": [
    "docked_ligs[0]"
   ]
  },
  {
   "cell_type": "code",
   "execution_count": null,
   "id": "5e26cd7a-c75a-4327-8f37-baa62f0b1b54",
   "metadata": {},
   "outputs": [],
   "source": []
  },
  {
   "cell_type": "code",
   "execution_count": null,
   "id": "cb262677-0e17-496b-9727-3c364dc77890",
   "metadata": {},
   "outputs": [],
   "source": [
    "combined[\"Reference_Ligand\"] = combined.in_silico_SARS_CoV_2_Mpro_docking_structure_POSIT_msk.apply(lambda x: x.split(\"_\")[2])"
   ]
  },
  {
   "cell_type": "code",
   "execution_count": null,
   "id": "d8c2313b-c035-409c-9e03-b303b00af37d",
   "metadata": {},
   "outputs": [],
   "source": [
    "from importlib import reload\n",
    "from asapdiscovery.docking import analysis as a"
   ]
  },
  {
   "cell_type": "code",
   "execution_count": null,
   "id": "829d76aa-bbcb-4f75-925a-33fc9b0998bc",
   "metadata": {},
   "outputs": [],
   "source": [
    "reload(a)"
   ]
  },
  {
   "cell_type": "code",
   "execution_count": null,
   "id": "410c0b57-ee06-4993-81b2-554b1e1f1e67",
   "metadata": {},
   "outputs": [],
   "source": [
    "a.calculate_tanimoto_oe(docked_ligs[0], ref_lig)"
   ]
  },
  {
   "cell_type": "code",
   "execution_count": null,
   "id": "9f86c7a1-d3da-4ea8-a3c8-2c748810ea76",
   "metadata": {},
   "outputs": [],
   "source": [
    "combined[\"TanimotoCombo\"] = [a.calculate_tanimoto_oe(docked_lig, lig_dict[docked_lig.compound_name]) for docked_lig in tqdm(docked_ligs)]"
   ]
  },
  {
   "cell_type": "code",
   "execution_count": null,
   "id": "fe022fa5-b8cd-4a91-b0e5-05ed7a2041c7",
   "metadata": {},
   "outputs": [],
   "source": [
    "combined.to_csv(\"rmsd_calculated_combined.csv\")"
   ]
  },
  {
   "cell_type": "code",
   "execution_count": null,
   "id": "7b3378f9-aefe-44df-b997-52b7f266de1c",
   "metadata": {},
   "outputs": [],
   "source": []
  }
 ],
 "metadata": {
  "kernelspec": {
   "display_name": "Python 3 (ipykernel)",
   "language": "python",
   "name": "python3"
  },
  "language_info": {
   "codemirror_mode": {
    "name": "ipython",
    "version": 3
   },
   "file_extension": ".py",
   "mimetype": "text/x-python",
   "name": "python",
   "nbconvert_exporter": "python",
   "pygments_lexer": "ipython3",
   "version": "3.10.13"
  }
 },
 "nbformat": 4,
 "nbformat_minor": 5
}
