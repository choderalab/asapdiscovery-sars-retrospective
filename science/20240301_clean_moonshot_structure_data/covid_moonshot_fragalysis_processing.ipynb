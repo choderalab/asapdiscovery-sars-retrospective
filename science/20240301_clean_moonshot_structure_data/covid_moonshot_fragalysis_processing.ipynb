{
 "cells": [
  {
   "cell_type": "markdown",
   "id": "8a43eef9-807c-4e38-9bc2-88239abae94d",
   "metadata": {},
   "source": [
    "# Intro"
   ]
  },
  {
   "cell_type": "markdown",
   "id": "7b742786-3c02-427c-ab41-b6a96b59be67",
   "metadata": {},
   "source": [
    "## 1) First we can download the covid moonshot data using asapdiscovery"
   ]
  },
  {
   "cell_type": "markdown",
   "id": "94967334-571d-4be9-831a-b9b06025059d",
   "metadata": {},
   "source": [
    "```\n",
    "$ download-fragalysis-data -t mpro ...\n",
    "```"
   ]
  },
  {
   "cell_type": "markdown",
   "id": "802c2ff4-307e-4ce5-afad-c557313ee391",
   "metadata": {},
   "source": [
    "For structure-based work, I've decided to use the `Mpro_soaks.csv` file"
   ]
  },
  {
   "cell_type": "markdown",
   "id": "4640435e-0d36-44c6-84e8-a3a8cef2490b",
   "metadata": {},
   "source": [
    "## 2) The next step is processing the ligand info into the asapdiscovery schema"
   ]
  },
  {
   "cell_type": "code",
   "execution_count": null,
   "id": "42fd562a-273a-46f3-9b46-1656bac082c1",
   "metadata": {},
   "outputs": [],
   "source": []
  },
  {
   "cell_type": "markdown",
   "id": "9682a97a-848b-4325-8fde-27434539a473",
   "metadata": {},
   "source": [
    "# Import `Mpro_soaks` into a dataframe"
   ]
  },
  {
   "cell_type": "markdown",
   "id": "d6c34381-b4f7-4e7d-a300-68921faf6deb",
   "metadata": {},
   "source": [
    "## YOUR LOCAL PATH HERE"
   ]
  },
  {
   "cell_type": "code",
   "execution_count": null,
   "id": "99732532-7e0f-40c1-bd78-9602a324b2c7",
   "metadata": {},
   "outputs": [],
   "source": [
    "from pathlib import Path\n",
    "frag_path = Path(\"/Users/alexpayne/Scientific_Projects/mers-drug-discovery/fragalysis_downloads/20240129_fragalysis_download/\")"
   ]
  },
  {
   "cell_type": "markdown",
   "id": "b878e057-1b56-4fed-af35-d51940c73516",
   "metadata": {},
   "source": [
    "## load into pandas dataframe"
   ]
  },
  {
   "cell_type": "code",
   "execution_count": null,
   "id": "9bbf4dac-1f5d-4447-a462-fed489495b99",
   "metadata": {},
   "outputs": [],
   "source": [
    "import pandas as pd\n",
    "soaks = pd.read_csv(frag_path / \"extra_files/Mpro_soaks.csv\")"
   ]
  },
  {
   "cell_type": "code",
   "execution_count": null,
   "id": "e901ceb3-811c-47f9-aad8-20ec49b6141a",
   "metadata": {},
   "outputs": [],
   "source": [
    "# We want there to be a Compound ID, a Sample Name, and for data collection to be a success\n",
    "filtered = soaks[\n",
    "(-soaks[\"Compound ID\"].isna())\n",
    "&(-soaks[\"Sample Name\"].isna())\n",
    "&(soaks[\"Data Collection Outcome\"] == \"success\")\n",
    "&(soaks[\"Compound ID\"] != \"Apo\")\n",
    "&(-soaks[\"Fragalysis Link\"].isna())\n",
    "&(soaks[\"Refinement Outcome\"].isin([\"5 - Deposition ready\", \"6 - Deposited\"]))\n",
    "]"
   ]
  },
  {
   "cell_type": "code",
   "execution_count": null,
   "id": "b24e1531-70d5-47cf-8b96-215560715e6f",
   "metadata": {},
   "outputs": [],
   "source": [
    "# Keep only the p-series structures\n",
    "p_only = filtered[filtered[\"Sample Name\"].str.contains(\"Mpro-P\")]"
   ]
  },
  {
   "cell_type": "code",
   "execution_count": null,
   "id": "ee2610c1-6cc8-4d7e-a4b0-e5347baf678c",
   "metadata": {},
   "outputs": [],
   "source": [
    "# for some reason these two dataset entries aren't quite right so I'm going to manually keep them\n",
    "final = pd.concat([p_only, \n",
    "                   soaks[soaks[\"Sample Name\"] == 'Mpro-P0047'],\n",
    "                   soaks[soaks[\"Sample Name\"] == 'Mpro-P2607']])"
   ]
  },
  {
   "cell_type": "code",
   "execution_count": null,
   "id": "219455ea-055c-4c9d-ab55-575cf9c97c03",
   "metadata": {},
   "outputs": [],
   "source": [
    "len(final)"
   ]
  },
  {
   "cell_type": "code",
   "execution_count": null,
   "id": "8a27d0a9-e37c-4414-af4f-a2c46e8647e1",
   "metadata": {},
   "outputs": [],
   "source": [
    "# save the p_series to a csv in data\n",
    "csv_path = Path(\"../data/covid_moonshot_p_series.csv\")\n",
    "final.to_csv(csv_path)"
   ]
  },
  {
   "cell_type": "markdown",
   "id": "8ec2ecb9-8a5b-433e-a4fd-8821705d9239",
   "metadata": {},
   "source": [
    "# Use the asapdiscovery factories to read moonshot data"
   ]
  },
  {
   "cell_type": "code",
   "execution_count": null,
   "id": "3c5916d8-6544-4550-b693-d1d5ca868d49",
   "metadata": {},
   "outputs": [],
   "source": [
    "from asapdiscovery.data.schema_v2.fragalysis import FragalysisFactory"
   ]
  },
  {
   "cell_type": "code",
   "execution_count": null,
   "id": "dd7d9c5c-9456-4fc0-a3a1-5ababee09ec1",
   "metadata": {},
   "outputs": [],
   "source": [
    "ff = FragalysisFactory(parent_dir=frag_path)"
   ]
  },
  {
   "cell_type": "code",
   "execution_count": null,
   "id": "90b016bb-1262-4856-a7be-2e37eeb6782b",
   "metadata": {},
   "outputs": [],
   "source": [
    "targets = ff.load()"
   ]
  },
  {
   "cell_type": "code",
   "execution_count": null,
   "id": "e408d07a-c669-43f0-a465-fa8f54972b6a",
   "metadata": {},
   "outputs": [],
   "source": [
    "targets = [target for target in targets \n",
    "           if \"Mpro-P\" in target.target.target_name\n",
    "          if len(target.target.data) > 0]"
   ]
  },
  {
   "cell_type": "code",
   "execution_count": null,
   "id": "c99595d7-32c8-4e63-913b-c097285f420b",
   "metadata": {},
   "outputs": [],
   "source": [
    "# use the first target structure\n",
    "single_targets = {}\n",
    "for target in targets:\n",
    "    if not single_targets.get(target.ligand.compound_name, None):\n",
    "        single_targets[target.ligand.compound_name] = target"
   ]
  },
  {
   "cell_type": "code",
   "execution_count": null,
   "id": "a907d2c8-5980-49c7-8f26-bf675d5da7cf",
   "metadata": {},
   "outputs": [],
   "source": [
    "len(single_targets)"
   ]
  },
  {
   "cell_type": "markdown",
   "id": "b464f800-9a63-41c0-9eca-13d32bd9b135",
   "metadata": {},
   "source": [
    "## now both datasets have the same number of structures : 220"
   ]
  },
  {
   "cell_type": "markdown",
   "id": "eef64df1-f9b8-4be4-b696-71e8abb3fb04",
   "metadata": {},
   "source": [
    "## but do they have the same compound IDs?"
   ]
  },
  {
   "cell_type": "code",
   "execution_count": null,
   "id": "d6d4ff95-5b68-4731-be8f-d92637843bf4",
   "metadata": {},
   "outputs": [],
   "source": [
    "# from the soaks csv\n",
    "soaksset = set(final[\"Compound ID\"].unique())\n",
    "\n",
    "# from the FragalysisFactory\n",
    "ffset = set([t.ligand.compound_name for t in single_targets.values()])"
   ]
  },
  {
   "cell_type": "code",
   "execution_count": null,
   "id": "7917936d-669d-4b75-a060-f5edc8bdf6bb",
   "metadata": {},
   "outputs": [],
   "source": [
    "soaksset - ffset"
   ]
  },
  {
   "cell_type": "code",
   "execution_count": null,
   "id": "1f3f33d1-ab69-46ac-bf5d-aae557f8855e",
   "metadata": {},
   "outputs": [],
   "source": [
    "ffset - soaksset"
   ]
  },
  {
   "cell_type": "markdown",
   "id": "6932372c-e424-4f8c-b092-ea8ec17d36f4",
   "metadata": {},
   "source": [
    "## no! Of course they don't."
   ]
  },
  {
   "cell_type": "code",
   "execution_count": null,
   "id": "91c2e030-f805-4cd0-ba68-5dd4359db495",
   "metadata": {},
   "outputs": [],
   "source": [
    "from collections import namedtuple"
   ]
  },
  {
   "cell_type": "code",
   "execution_count": null,
   "id": "0f5b1f71-73b1-4d0b-b550-427c6a66319d",
   "metadata": {},
   "outputs": [],
   "source": [
    "id_pair = namedtuple(\"Correct\", \"Incorrect\")"
   ]
  },
  {
   "cell_type": "code",
   "execution_count": null,
   "id": "7e29d2f8-8d50-44e0-b7fe-735fa7ac3992",
   "metadata": {},
   "outputs": [],
   "source": [
    "correct_compound_ids = [id_pair(\"MAT-POS-7174c657-5\", \"MAT-POS-7174c657-6\"),\n",
    "                        id_pair(\"MAT-POS-7174c657-6\", \""
   ]
  },
  {
   "cell_type": "markdown",
   "id": "07ba9d24-4c33-41a1-ad87-de2f817ffecd",
   "metadata": {},
   "source": [
    "# So now we update the list of Complexes with the correct compound names"
   ]
  },
  {
   "cell_type": "code",
   "execution_count": null,
   "id": "75ea208b-c4e5-425e-bfb1-5806d7ed4f58",
   "metadata": {},
   "outputs": [],
   "source": [
    "from asapdiscovery.data.schema_v2.ligand import Ligand"
   ]
  },
  {
   "cell_type": "code",
   "execution_count": null,
   "id": "5f6ae0a2-a91f-4638-a0d9-58108a3fbec2",
   "metadata": {
    "scrolled": true
   },
   "outputs": [],
   "source": [
    "for target in single_targets.values():\n",
    "    sample_name = target.target.target_name.split(\"_\")[0]\n",
    "    soak_info = soaks[soaks[\"Sample Name\"] == sample_name]\n",
    "    soaks_smiles = soak_info[\"SMILES\"].to_list()[0]\n",
    "    cmpd_name = soak_info[\"Compound ID\"].to_list()[0]\n",
    "    lig = Ligand.from_smiles(smiles=soaks_smiles, compound_name=cmpd_name)\n",
    "    if not lig.compound_name == target.ligand.compound_name:\n",
    "        print(target.target.target_name)\n",
    "        print(lig.compound_name, lig.smiles)\n",
    "        print(target.ligand.compound_name, target.ligand.smiles)"
   ]
  },
  {
   "cell_type": "markdown",
   "id": "f9637e30-114d-493a-a527-b71acc426fc1",
   "metadata": {},
   "source": [
    "## Mpro-P2141_0A and Mpro-P2176_0A are duplicates of each other"
   ]
  },
  {
   "cell_type": "raw",
   "id": "2960e676-66ed-4abe-b704-5566304244fa",
   "metadata": {},
   "source": [
    "the correct molecule should be: \n",
    "MAT-POS-7174c657-5 \n",
    "c1ccc2c(c1)cncc2NC(=O)[C@@H](c3cccc(c3)Cl)NC(=O)[C@@H]4CC[C@@H](O4)C(=O)N5CCCC5 \n",
    "P2176"
   ]
  },
  {
   "cell_type": "code",
   "execution_count": null,
   "id": "56aaef53-d242-43a2-bab5-6defb6d75d04",
   "metadata": {},
   "outputs": [],
   "source": [
    "cmpd_to_frag = {target.ligand.compound_name: target.target.target_name.split(\"_\")[0] for target in single_targets.values()}"
   ]
  },
  {
   "cell_type": "code",
   "execution_count": null,
   "id": "9ef5ff70-9871-4c52-9db3-e3fe847dab2d",
   "metadata": {},
   "outputs": [],
   "source": [
    "import yaml\n",
    "with open(\"../data/20240201_cmpd_to_frag_from_metadata.yaml\", \"w\") as f:\n",
    "    yaml.safe_dump(cmpd_to_frag, f)"
   ]
  },
  {
   "cell_type": "code",
   "execution_count": null,
   "id": "d82c9980-4a9c-4753-885e-8849b4fa72fa",
   "metadata": {},
   "outputs": [],
   "source": [
    "to_check = [\"EDG-MED-5d232de5-3\",\n",
    "            \"LON-WEI-adc59df6-47\",\n",
    "            \"EDJ-MED-705e09b8-1\",\n",
    "            \"EDG-MED-5d232de5-6\",\n",
    "            \"VLA-UCB-34f3ed0c-11\",\n",
    "            \"MAT-POS-7174c657-6\",\n",
    "            \"MAT-POS-7174c657-5\",\n",
    "            \"BEN-DND-4f474d93-1\"\n",
    "           ]\n",
    "            "
   ]
  },
  {
   "cell_type": "code",
   "execution_count": null,
   "id": "c724b8a0-157f-411e-8ba7-e1d995a10907",
   "metadata": {},
   "outputs": [],
   "source": [
    "[cmpd_id in list(cmpd_to_frag.keys()) for cmpd_id in to_check]"
   ]
  },
  {
   "cell_type": "markdown",
   "id": "5bdbd25c-06ec-41a0-8426-bfaca66c61ce",
   "metadata": {},
   "source": [
    "# Manual Curration\n",
    "- So we only keep P2176, removing \"MAT-POS-7174c657-6\" entry\n",
    "- use \"BEN-DND-4f474d93-1\" instead of \"ALP-POS-ce760d3f-2\""
   ]
  },
  {
   "cell_type": "code",
   "execution_count": null,
   "id": "a15b5c54-9416-49e8-b6ea-792aa7c3b458",
   "metadata": {},
   "outputs": [],
   "source": [
    "_ = single_targets.pop(\"MAT-POS-7174c657-6\")"
   ]
  },
  {
   "cell_type": "code",
   "execution_count": null,
   "id": "3b70a9e6-5bd9-403e-b7f8-4f9a542cb444",
   "metadata": {},
   "outputs": [],
   "source": [
    "to_change = single_targets.pop(\"ALP-POS-ce760d3f-2\")"
   ]
  },
  {
   "cell_type": "code",
   "execution_count": null,
   "id": "c829a33b-4fc9-4fa7-856d-1ac13434bd77",
   "metadata": {},
   "outputs": [],
   "source": [
    "single_targets.get(\"ALP-POS-ce760d3f-2\", False)"
   ]
  },
  {
   "cell_type": "code",
   "execution_count": null,
   "id": "b808166e-0bff-493d-a716-6e0a5e197897",
   "metadata": {},
   "outputs": [],
   "source": [
    "to_change.ligand.compound_name = \"BEN-DND-4f474d93-1\""
   ]
  },
  {
   "cell_type": "code",
   "execution_count": null,
   "id": "e37245f6-ca0c-46f9-9a58-e68c6f48fd2e",
   "metadata": {},
   "outputs": [],
   "source": [
    "single_targets[\"BEN-DND-4f474d93-1\"] = to_change"
   ]
  },
  {
   "cell_type": "code",
   "execution_count": null,
   "id": "ed95ee1c-5968-4e1d-803d-4776c58c557d",
   "metadata": {},
   "outputs": [],
   "source": [
    "single_targets.get(\"ALP-POS-ce760d3f-2\", False)"
   ]
  },
  {
   "cell_type": "code",
   "execution_count": null,
   "id": "7ce13fb7-d2e3-4ec7-acaf-50789d6f59b6",
   "metadata": {},
   "outputs": [],
   "source": [
    "cmplx = single_targets.get(\"BEN-DND-4f474d93-1\", False)"
   ]
  },
  {
   "cell_type": "code",
   "execution_count": null,
   "id": "567f4b7d-aea5-4e25-bfbc-a876ba5fa480",
   "metadata": {},
   "outputs": [],
   "source": [
    "cmplx.unique_name"
   ]
  },
  {
   "cell_type": "code",
   "execution_count": null,
   "id": "7f659ca1-6556-4d1d-b83c-fee282e9ef39",
   "metadata": {},
   "outputs": [],
   "source": [
    "for data in single_targets.values():\n",
    "    data.to_json_file(f\"../data/20240202_fragalysis_p_series_schema/{data.unique_name}.json\")"
   ]
  },
  {
   "cell_type": "code",
   "execution_count": null,
   "id": "b0dabcd8-3789-4757-b35f-c592c8eebba1",
   "metadata": {},
   "outputs": [],
   "source": []
  }
 ],
 "metadata": {
  "kernelspec": {
   "display_name": "Python 3 (ipykernel)",
   "language": "python",
   "name": "python3"
  },
  "language_info": {
   "codemirror_mode": {
    "name": "ipython",
    "version": 3
   },
   "file_extension": ".py",
   "mimetype": "text/x-python",
   "name": "python",
   "nbconvert_exporter": "python",
   "pygments_lexer": "ipython3",
   "version": "3.10.13"
  }
 },
 "nbformat": 4,
 "nbformat_minor": 5
}
