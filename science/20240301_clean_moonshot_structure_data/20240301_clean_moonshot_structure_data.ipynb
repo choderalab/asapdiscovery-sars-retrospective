{
 "cells": [
  {
   "cell_type": "markdown",
   "source": [
    "# Imports"
   ],
   "metadata": {
    "collapsed": false
   },
   "id": "d349b6b5621aee39"
  },
  {
   "cell_type": "code",
   "outputs": [],
   "source": [
    "from pathlib import Path\n",
    "import pandas as pd\n",
    "from asapdiscovery.data.schema.complex import Complex, PreppedComplex\n",
    "import json\n",
    "from tqdm import tqdm"
   ],
   "metadata": {
    "collapsed": false
   },
   "id": "ddada3d0c96f1a16",
   "execution_count": null
  },
  {
   "cell_type": "markdown",
   "source": [
    "## your path here:"
   ],
   "metadata": {
    "collapsed": false
   },
   "id": "3d5da4991624c18a"
  },
  {
   "cell_type": "code",
   "outputs": [],
   "source": [
    "data_dir = Path('/Users/alexpayne/Scientific_Projects/mers-drug-discovery/sars2-retrospective-analysis/mpro_fragalysis-04-01-24_cache')\n",
    "schema_paths = list(data_dir.glob(\"Mpro-P*/*.json\"))"
   ],
   "metadata": {
    "collapsed": false
   },
   "id": "ef40527685efadd9",
   "execution_count": null
  },
  {
   "cell_type": "code",
   "outputs": [],
   "source": [
    "complexes = [PreppedComplex(**json.load(open(complex_json, 'r'))) for complex_json in tqdm(schema_paths)]"
   ],
   "metadata": {
    "collapsed": false
   },
   "id": "2aa7fbdece80e45d",
   "execution_count": null
  },
  {
   "cell_type": "code",
   "outputs": [],
   "source": [
    "ligs = [c.ligand for c in complexes]"
   ],
   "metadata": {
    "collapsed": false
   },
   "id": "8e36dd39fd0798eb",
   "execution_count": null
  },
  {
   "cell_type": "markdown",
   "source": [
    "# Get just a single structure for each molecule"
   ],
   "metadata": {
    "collapsed": false
   },
   "id": "fcfec15be70a2115"
  },
  {
   "cell_type": "code",
   "outputs": [],
   "source": [
    "from collections import defaultdict\n",
    "new_structures = defaultdict(None)\n",
    "for complex in complexes:\n",
    "    old_complex = new_structures.get(complex.ligand.smiles, None)\n",
    "    if not old_complex:\n",
    "        new_structures[complex.ligand.smiles] = complex\n",
    "        continue\n",
    "        \n",
    "    old_dataset_number = old_complex.target.target_name.split(\"_\")[0]\n",
    "    old_dataset_letter = old_complex.target.target_name.split(\"_\")[-1]\n",
    "    new_dataset_number = complex.target.target_name.split(\"_\")[0]\n",
    "    new_dataset_letter = complex.target.target_name.split(\"_\")[-1]\n",
    "    if new_dataset_number > old_dataset_number:\n",
    "        new_structures[complex.ligand.smiles] = complex\n",
    "        continue\n",
    "    if new_dataset_number == old_dataset_number and new_dataset_letter < old_dataset_letter:\n",
    "        new_structures[complex.ligand.smiles] = complex\n",
    "        continue"
   ],
   "metadata": {
    "collapsed": false
   },
   "id": "9553420aaa77b446",
   "execution_count": null
  },
  {
   "cell_type": "code",
   "outputs": [],
   "source": [
    "all_names = {c.target.target_name for c in complexes}"
   ],
   "metadata": {
    "collapsed": false
   },
   "id": "fc42f5b8ecf1bfbc",
   "execution_count": null
  },
  {
   "cell_type": "code",
   "outputs": [],
   "source": [
    "len(all_names)"
   ],
   "metadata": {
    "collapsed": false
   },
   "id": "19a639e2f7e3d885",
   "execution_count": null
  },
  {
   "cell_type": "code",
   "outputs": [],
   "source": [
    "selected_names = {complex.target.target_name for complex in new_structures.values()}"
   ],
   "metadata": {
    "collapsed": false
   },
   "id": "6f6da958079f0695",
   "execution_count": null
  },
  {
   "cell_type": "code",
   "outputs": [],
   "source": [
    "len(selected_names)"
   ],
   "metadata": {
    "collapsed": false
   },
   "id": "f9c6227cbf73cd9a",
   "execution_count": null
  },
  {
   "cell_type": "code",
   "outputs": [],
   "source": [
    "all_names - selected_names"
   ],
   "metadata": {
    "collapsed": false
   },
   "id": "294a9c44839d287b",
   "execution_count": null
  },
  {
   "cell_type": "code",
   "outputs": [],
   "source": [
    "complex_dict = {complex.target.target_name: complex for complex in complexes}"
   ],
   "metadata": {
    "collapsed": false
   },
   "id": "809ad750c4729170",
   "execution_count": null
  },
  {
   "cell_type": "code",
   "outputs": [],
   "source": [
    "missing = all_names - selected_names"
   ],
   "metadata": {
    "collapsed": false
   },
   "id": "30af4dfd4581c8fa",
   "execution_count": null
  },
  {
   "cell_type": "markdown",
   "source": [
    "## import fragalysis duplicates"
   ],
   "metadata": {
    "collapsed": false
   },
   "id": "94ef098370a950c0"
  },
  {
   "cell_type": "code",
   "outputs": [],
   "source": [
    "dups = pd.read_csv(\"../20231117-process-fragalysis-duplicates/20231212_fragalysis_duplicates.csv\", index_col=0)"
   ],
   "metadata": {
    "collapsed": false
   },
   "id": "7dd76c731549165",
   "execution_count": null
  },
  {
   "cell_type": "code",
   "outputs": [],
   "source": [
    "dups.columns"
   ],
   "metadata": {
    "collapsed": false
   },
   "id": "fcc4f78c6c039305",
   "execution_count": null
  },
  {
   "cell_type": "code",
   "outputs": [],
   "source": [
    "lig1 = dups[\"Lig1\"].to_list()"
   ],
   "metadata": {
    "collapsed": false
   },
   "id": "a1c0763d5855df24",
   "execution_count": null
  },
  {
   "cell_type": "code",
   "outputs": [],
   "source": [
    "lig2 = dups[\"Lig2\"].to_list()"
   ],
   "metadata": {
    "collapsed": false
   },
   "id": "6bbc478ef6aa0e8b",
   "execution_count": null
  },
  {
   "cell_type": "code",
   "outputs": [],
   "source": [
    "lig1_stereo = dups[\"Lig1 Stereospecific\"].to_list()"
   ],
   "metadata": {
    "collapsed": false
   },
   "id": "a852b308aa793caa",
   "execution_count": null
  },
  {
   "cell_type": "code",
   "outputs": [],
   "source": [
    "lig2_stereo = dups[\"Lig2 Stereospecific\"].to_list()"
   ],
   "metadata": {
    "collapsed": false
   },
   "id": "f5dfb2b8e28d8c40",
   "execution_count": null
  },
  {
   "cell_type": "code",
   "outputs": [],
   "source": [
    "missing_0a = {name for name in missing if name.split(\"_\")[-1] == \"0A\"}"
   ],
   "metadata": {
    "collapsed": false
   },
   "id": "e43c2876105dd331",
   "execution_count": null
  },
  {
   "cell_type": "code",
   "outputs": [],
   "source": [
    "missing_0a_complexes = [complex_dict[name] for name in missing_0a]"
   ],
   "metadata": {
    "collapsed": false
   },
   "id": "6941b0a81579c785",
   "execution_count": null
  },
  {
   "cell_type": "code",
   "outputs": [],
   "source": [
    "missing_0a_ligs = [c.ligand.compound_name for c in missing_0a_complexes]"
   ],
   "metadata": {
    "collapsed": false
   },
   "id": "e56593662f0afc1",
   "execution_count": null
  },
  {
   "cell_type": "code",
   "outputs": [],
   "source": [
    "preferred_dataset = []\n",
    "preferred_compound = []\n",
    "preferred_stereo = []\n",
    "excluded_dataset = []\n",
    "excluded_compound = []\n",
    "excluded_stereo = []\n",
    "for complex in missing_0a_complexes:\n",
    "    if complex.ligand.compound_name in lig1:\n",
    "        col = \"Lig1\"\n",
    "        other_col = \"Lig2\"\n",
    "        stereo_bool = \"Lig1 Stereospecific\"\n",
    "        other_stereo_bool = \"Lig2 Stereospecific\"\n",
    "    elif complex.ligand.compound_name in lig2:\n",
    "        col = \"Lig2\"\n",
    "        stereo_bool = \"Lig2 Stereospecific\"\n",
    "        other_col = \"Lig1\"\n",
    "        other_stereo_bool = \"Lig1 Stereospecific\"\n",
    "    else:\n",
    "        raise ValueError(\"Ligand not found\")\n",
    "    new_complex = new_structures[complex.ligand.smiles]\n",
    "    stereo_dict = dups[dups[col] == complex.ligand.compound_name].to_dict(orient='records')[0]\n",
    "    preferred_dataset.append(new_complex.target.target_name)\n",
    "    preferred_compound.append(new_complex.ligand.compound_name)\n",
    "    preferred_stereo.append(\"Stereospecific\" if stereo_dict[other_stereo_bool] else \"Racemic\")\n",
    "    excluded_dataset.append(complex.target.target_name)\n",
    "    excluded_compound.append(complex.ligand.compound_name)\n",
    "    excluded_stereo.append(\"Stereospecific\" if stereo_dict[stereo_bool] else \"Racemic\")\n",
    "\n",
    "df = pd.DataFrame({\n",
    "    \"Preferred Dataset\": preferred_dataset,\n",
    "    \"Preferred Compound\": preferred_compound,\n",
    "    \"Preferred Stereo\": preferred_stereo,\n",
    "    \"Excluded Dataset\": excluded_dataset,\n",
    "    \"Excluded Compound\": excluded_compound,\n",
    "    \"Excluded Stereo\": excluded_stereo\n",
    "})"
   ],
   "metadata": {
    "collapsed": false
   },
   "id": "999e18020aaeeebe",
   "execution_count": null
  },
  {
   "cell_type": "code",
   "outputs": [],
   "source": [
    "df"
   ],
   "metadata": {
    "collapsed": false
   },
   "id": "26db83dad6d4f8ab",
   "execution_count": null
  },
  {
   "cell_type": "code",
   "outputs": [],
   "source": [
    "df.to_csv(\"20240203_duplicate_explanation.csv\")"
   ],
   "metadata": {
    "collapsed": false
   },
   "id": "6dbb869ac255dd1a",
   "execution_count": null
  },
  {
   "cell_type": "markdown",
   "source": [
    "# Save the new structures"
   ],
   "metadata": {
    "collapsed": false
   },
   "id": "329150b370a278ec"
  },
  {
   "cell_type": "code",
   "outputs": [],
   "source": [
    "from asapdiscovery.modeling.protein_prep import ProteinPrepper"
   ],
   "metadata": {
    "collapsed": false
   },
   "id": "67e3f599c48503eb",
   "execution_count": null
  },
  {
   "cell_type": "code",
   "outputs": [],
   "source": [
    "protein_prepper = ProteinPrepper()"
   ],
   "metadata": {
    "collapsed": false
   },
   "id": "fd982f5b307e6def",
   "execution_count": null
  },
  {
   "cell_type": "code",
   "outputs": [],
   "source": [
    "protein_prepper.cache(list(new_structures.values()), cache_dir=data_dir.parent / \"20240403_fragalysis_p_series_curated_cache\")"
   ],
   "metadata": {
    "collapsed": false
   },
   "id": "f7cfdc1f8d13b580",
   "execution_count": null
  },
  {
   "cell_type": "code",
   "outputs": [],
   "source": [
    "with open(data_dir.parent / \"20240403_fragalysis_p_series_curated_cache\" / \"README.md\", 'w') as f:\n",
    "    f.write(f\"This cache was created by selecting a single structure for each ligand (identified by the smiles string, not the compound ID) in the P series from the fragalysis cache: '{data_dir.absolute()}'. The selection was based on the dataset number and letter, with the highest dataset number and lowest letter being selected (i.e. datasets that were collected later and chain A if possible). This was performed in the notebook at '{Path.cwd()}'\")"
   ],
   "metadata": {
    "collapsed": false
   },
   "id": "72d195d0758fb9eb",
   "execution_count": null
  },
  {
   "cell_type": "code",
   "outputs": [],
   "source": [],
   "metadata": {
    "collapsed": false
   },
   "id": "92a58085e32fcded"
  }
 ],
 "metadata": {
  "kernelspec": {
   "display_name": "Python 3",
   "language": "python",
   "name": "python3"
  },
  "language_info": {
   "codemirror_mode": {
    "name": "ipython",
    "version": 2
   },
   "file_extension": ".py",
   "mimetype": "text/x-python",
   "name": "python",
   "nbconvert_exporter": "python",
   "pygments_lexer": "ipython2",
   "version": "2.7.6"
  }
 },
 "nbformat": 4,
 "nbformat_minor": 5
}
