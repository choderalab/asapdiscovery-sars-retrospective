{
 "cells": [
  {
   "cell_type": "markdown",
   "source": [
    "# Imports"
   ],
   "metadata": {
    "collapsed": false
   },
   "id": "d349b6b5621aee39"
  },
  {
   "cell_type": "code",
   "outputs": [],
   "source": [
    "from pathlib import Path\n",
    "from asapdiscovery.data.schema.complex import Complex, PreppedComplex\n",
    "from asapdiscovery.data.schema.ligand import Ligand, ChemicalRelationship\n",
    "import json\n",
    "from tqdm import tqdm\n",
    "import numpy as np"
   ],
   "metadata": {
    "collapsed": false
   },
   "id": "ddada3d0c96f1a16",
   "execution_count": null
  },
  {
   "cell_type": "markdown",
   "source": [
    "## your path here:"
   ],
   "metadata": {
    "collapsed": false
   },
   "id": "3d5da4991624c18a"
  },
  {
   "cell_type": "code",
   "outputs": [],
   "source": [
    "data_dir = Path('/Users/alexpayne/Scientific_Projects/mers-drug-discovery/sars2-retrospective-analysis/mpro_fragalysis-04-01-24_cache')\n",
    "schema_paths = list(data_dir.glob(\"Mpro-P*/*.json\"))"
   ],
   "metadata": {
    "collapsed": false
   },
   "id": "ef40527685efadd9",
   "execution_count": null
  },
  {
   "cell_type": "code",
   "outputs": [],
   "source": [
    "complexes = [PreppedComplex(**json.load(open(complex_json, 'r'))) for complex_json in tqdm(schema_paths)]"
   ],
   "metadata": {
    "collapsed": false
   },
   "id": "2aa7fbdece80e45d",
   "execution_count": null
  },
  {
   "cell_type": "code",
   "outputs": [],
   "source": [
    "ligs = [c.ligand for c in complexes]"
   ],
   "metadata": {
    "collapsed": false
   },
   "id": "8e36dd39fd0798eb",
   "execution_count": null
  },
  {
   "cell_type": "code",
   "outputs": [],
   "source": [
    "similarity_matrix = np.array([l1.get_chemical_relationship(l2) for l1 in ligs for l2 in ligs]).reshape((len(ligs), len(ligs)))"
   ],
   "metadata": {
    "collapsed": false
   },
   "id": "ae2e770428186d7",
   "execution_count": null
  },
  {
   "cell_type": "code",
   "outputs": [],
   "source": [],
   "metadata": {
    "collapsed": false
   },
   "id": "faca47c505f5760b"
  }
 ],
 "metadata": {
  "kernelspec": {
   "display_name": "Python 3",
   "language": "python",
   "name": "python3"
  },
  "language_info": {
   "codemirror_mode": {
    "name": "ipython",
    "version": 2
   },
   "file_extension": ".py",
   "mimetype": "text/x-python",
   "name": "python",
   "nbconvert_exporter": "python",
   "pygments_lexer": "ipython2",
   "version": "2.7.6"
  }
 },
 "nbformat": 4,
 "nbformat_minor": 5
}
