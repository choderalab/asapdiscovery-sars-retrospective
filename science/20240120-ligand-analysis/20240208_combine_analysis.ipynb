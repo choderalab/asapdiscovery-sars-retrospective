{
 "cells": [
  {
   "cell_type": "code",
   "execution_count": null,
   "id": "initial_id",
   "metadata": {
    "collapsed": true
   },
   "outputs": [],
   "source": [
    "import numpy as np\n",
    "import pandas as pd"
   ]
  },
  {
   "cell_type": "code",
   "outputs": [],
   "source": [
    "# Load the data"
   ],
   "metadata": {
    "collapsed": false
   },
   "id": "fee1c7be2d03b408",
   "execution_count": null
  },
  {
   "cell_type": "code",
   "outputs": [],
   "source": [
    "tc = pd.read_csv('tanimoto_combo.csv')"
   ],
   "metadata": {
    "collapsed": false
   },
   "id": "4bb934402b937080",
   "execution_count": null
  },
  {
   "cell_type": "code",
   "outputs": [],
   "source": [
    "mcss = pd.read_csv('mcss_tanimoto.csv')"
   ],
   "metadata": {
    "collapsed": false
   },
   "id": "f1f0498d4022424c",
   "execution_count": null
  },
  {
   "cell_type": "code",
   "outputs": [],
   "source": [
    "fp = pd.read_csv('tanimoto_fingerprint_comparison.csv')"
   ],
   "metadata": {
    "collapsed": false
   },
   "id": "46feab900a08ffe3",
   "execution_count": null
  },
  {
   "cell_type": "code",
   "outputs": [],
   "source": [
    "tc"
   ],
   "metadata": {
    "collapsed": false
   },
   "id": "14359b03d02257d3",
   "execution_count": null
  },
  {
   "cell_type": "code",
   "outputs": [],
   "source": [
    "mcss"
   ],
   "metadata": {
    "collapsed": false
   },
   "id": "7468b379e67cc25",
   "execution_count": null
  },
  {
   "cell_type": "code",
   "outputs": [],
   "source": [
    "fp"
   ],
   "metadata": {
    "collapsed": false
   },
   "id": "68a23e2072214669",
   "execution_count": null
  },
  {
   "cell_type": "code",
   "outputs": [],
   "source": [
    "import plotly.express as px\n",
    "px.histogram(fp.groupby(\"Mol1\")[[\"Tanimoto\"]].max()[[\"Tanimoto\"]], x=\"Tanimoto\")"
   ],
   "metadata": {
    "collapsed": false
   },
   "id": "8480ef560a7c6416",
   "execution_count": null
  },
  {
   "cell_type": "markdown",
   "source": [
    "## Rename \"Fingerprint\""
   ],
   "metadata": {
    "collapsed": false
   },
   "id": "ca2218a95653ec74"
  },
  {
   "cell_type": "code",
   "outputs": [],
   "source": [
    "fp = fp.rename(columns={'Fingerprint': 'Similarity Metric'})"
   ],
   "metadata": {
    "collapsed": false
   },
   "id": "838d94ae38e73d75",
   "execution_count": null
  },
  {
   "cell_type": "markdown",
   "source": [
    "### remove 1024 bit fingerprint and ECFP8"
   ],
   "metadata": {
    "collapsed": false
   },
   "id": "b74493e49b8874a3"
  },
  {
   "cell_type": "code",
   "outputs": [],
   "source": [
    "fp = fp[fp[\"BitSize\"] != \"1024 bits\"]\n",
    "fp = fp[fp[\"Similarity Metric\"] != \"ECFP8\"]"
   ],
   "metadata": {
    "collapsed": false
   },
   "id": "f05dec1634f3505e",
   "execution_count": null
  },
  {
   "cell_type": "code",
   "outputs": [],
   "source": [
    "px.histogram(fp.groupby(\"Mol1\")[[\"Tanimoto\"]].max()[[\"Tanimoto\"]], x=\"Tanimoto\")"
   ],
   "metadata": {
    "collapsed": false
   },
   "id": "ba933567b38f19f5",
   "execution_count": null
  },
  {
   "cell_type": "code",
   "outputs": [],
   "source": [
    "mcss[\"Similarity Metric\"] = \"MCSS (N Atoms)\""
   ],
   "metadata": {
    "collapsed": false
   },
   "id": "e9579a03d2b8c91a",
   "execution_count": null
  },
  {
   "cell_type": "code",
   "outputs": [],
   "source": [
    "tc[\"Similarity Metric\"] = \"0.5*TanimotoCombo (OpenEye)\""
   ],
   "metadata": {
    "collapsed": false
   },
   "id": "c658ef818d4b48c",
   "execution_count": null
  },
  {
   "cell_type": "markdown",
   "source": [
    "### divide tc by 2"
   ],
   "metadata": {
    "collapsed": false
   },
   "id": "6c985b4c935603ba"
  },
  {
   "cell_type": "code",
   "outputs": [],
   "source": [
    "tc[\"Tanimoto\"] = tc[\"Tanimoto\"] / 2"
   ],
   "metadata": {
    "collapsed": false
   },
   "id": "cdd0255c35aea8f5",
   "execution_count": null
  },
  {
   "cell_type": "code",
   "outputs": [],
   "source": [
    "df = pd.concat([tc, mcss, fp])"
   ],
   "metadata": {
    "collapsed": false
   },
   "id": "da2ad2ad86ce61d1",
   "execution_count": null
  },
  {
   "cell_type": "markdown",
   "source": [
    "## remove self-comparisons"
   ],
   "metadata": {
    "collapsed": false
   },
   "id": "ed7508b489e1f4ba"
  },
  {
   "cell_type": "code",
   "outputs": [],
   "source": [
    "df = df[df[\"Mol1\"] != df[\"Mol2\"]]"
   ],
   "metadata": {
    "collapsed": false
   },
   "id": "22731894ad62ddb2",
   "execution_count": null
  },
  {
   "cell_type": "markdown",
   "source": [
    "## Save the data"
   ],
   "metadata": {
    "collapsed": false
   },
   "id": "93a666cdd2cafd4a"
  },
  {
   "cell_type": "code",
   "outputs": [],
   "source": [
    "df.to_csv('all_tanimoto.csv', index=False)"
   ],
   "metadata": {
    "collapsed": false
   },
   "id": "d597f1800f5e9ab2",
   "execution_count": null
  },
  {
   "cell_type": "markdown",
   "source": [
    "## Plot the data"
   ],
   "metadata": {
    "collapsed": false
   },
   "id": "ebc17124ba41c5ff"
  },
  {
   "cell_type": "code",
   "outputs": [],
   "source": [
    "import plotly.figure_factory as ff\n",
    "hist_data = [df[df[\"Similarity Metric\"] == fp].groupby(\"Mol1\")[[\"Tanimoto\"]].max()[\"Tanimoto\"] for fp in df[\"Similarity Metric\"].unique()]"
   ],
   "metadata": {
    "collapsed": false
   },
   "id": "2004c89dd20e70af",
   "execution_count": null
  },
  {
   "cell_type": "code",
   "outputs": [],
   "source": [
    "fig = ff.create_distplot(hist_data,\n",
    "                         group_labels=df[\"Similarity Metric\"].unique(),\n",
    "                         bin_size=0.1,\n",
    "                         histnorm=\"probability\",\n",
    "                         show_rug=False,\n",
    "                         show_hist=False,\n",
    "                         # show_curve=False,\n",
    "                         colors=[\"#5ba300\",\"#89ce00\", \"#0073e6\", \"#5928ed\",\"#e6308a\",\"#b51963\",]\n",
    "                         )\n",
    "fig.update_xaxes(range=[0, 1])\n",
    "fig.update_yaxes(range=[0, 1])"
   ],
   "metadata": {
    "collapsed": false
   },
   "id": "f07ee83a79c2d7cc",
   "execution_count": null
  },
  {
   "cell_type": "code",
   "outputs": [],
   "source": [
    "fig.update_layout(template=\"simple_white\",\n",
    "                  xaxis_title=\"Tanimoto Coefficients\",\n",
    "                  yaxis_title=\"Probability\",\n",
    "                  height=400,\n",
    "                  width=600,\n",
    "                  legend=dict(title=\"Similarity Metric\", y=0.9, x=0.1),)"
   ],
   "metadata": {
    "collapsed": false
   },
   "id": "680605880f916d31",
   "execution_count": null
  },
  {
   "cell_type": "code",
   "outputs": [],
   "source": [
    "fig.write_image(\"20240208_combined_analysis_max_tanimoto.svg\")\n",
    "fig.write_image(\"20240208_combined_analysis_max_tanimoto.png\")"
   ],
   "metadata": {
    "collapsed": false
   },
   "id": "eb0a3fbac59b20bf",
   "execution_count": null
  },
  {
   "cell_type": "markdown",
   "source": [
    "# Use all data instead of max"
   ],
   "metadata": {
    "collapsed": false
   },
   "id": "e3878908858d288b"
  },
  {
   "cell_type": "code",
   "outputs": [],
   "source": [
    "hist_data = [df[df[\"Similarity Metric\"] == fp][\"Tanimoto\"] for fp in df[\"Similarity Metric\"].unique()]"
   ],
   "metadata": {
    "collapsed": false
   },
   "id": "4f3d3096190eb4f2",
   "execution_count": null
  },
  {
   "cell_type": "code",
   "outputs": [],
   "source": [
    "fig = ff.create_distplot(hist_data,\n",
    "                         group_labels=df[\"Similarity Metric\"].unique(),\n",
    "                         bin_size=0.1,\n",
    "                         histnorm=\"probability\",\n",
    "                         show_rug=False,\n",
    "                         show_hist=False,\n",
    "                         # show_curve=False,\n",
    "                         colors=[\"#5ba300\",\"#89ce00\", \"#0073e6\", \"#5928ed\",\"#e6308a\",\"#b51963\",]\n",
    "                         )"
   ],
   "metadata": {
    "collapsed": false
   },
   "id": "577488e7db1d75ed",
   "execution_count": null
  },
  {
   "cell_type": "code",
   "outputs": [],
   "source": [
    "fig.update_xaxes(range=[0, 1])\n",
    "fig.update_yaxes(range=[0, 1])\n",
    "fig.update_layout(template=\"simple_white\",\n",
    "                  xaxis_title=\"Tanimoto Coefficients\",\n",
    "                  yaxis_title=\"Probability\",\n",
    "                  height=400,\n",
    "                  width=600,\n",
    "                  legend=dict(title=\"Similarity Metric\", y=0.8, x=0.5),)"
   ],
   "metadata": {
    "collapsed": false
   },
   "id": "28a673d93d5f1568",
   "execution_count": null
  },
  {
   "cell_type": "code",
   "outputs": [],
   "source": [
    "fig.write_image(\"20240208_combined_analysis_all_tanimoto.svg\")\n",
    "fig.write_image(\"20240208_combined_analysis_all_tanimoto.png\")"
   ],
   "metadata": {
    "collapsed": false
   },
   "id": "ea88b018e4324ecd",
   "execution_count": null
  },
  {
   "cell_type": "code",
   "outputs": [],
   "source": [],
   "metadata": {
    "collapsed": false
   },
   "id": "90917c4528631b9b"
  }
 ],
 "metadata": {
  "kernelspec": {
   "display_name": "Python 3",
   "language": "python",
   "name": "python3"
  },
  "language_info": {
   "codemirror_mode": {
    "name": "ipython",
    "version": 2
   },
   "file_extension": ".py",
   "mimetype": "text/x-python",
   "name": "python",
   "nbconvert_exporter": "python",
   "pygments_lexer": "ipython2",
   "version": "2.7.6"
  }
 },
 "nbformat": 4,
 "nbformat_minor": 5
}
