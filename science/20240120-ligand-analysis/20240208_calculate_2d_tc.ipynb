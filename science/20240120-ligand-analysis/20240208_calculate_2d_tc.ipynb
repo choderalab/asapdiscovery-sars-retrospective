{
 "cells": [
  {
   "cell_type": "markdown",
   "source": [
    "# Imports"
   ],
   "metadata": {
    "collapsed": false
   },
   "id": "25987546f2f229b7"
  },
  {
   "cell_type": "code",
   "outputs": [],
   "source": [
    "import numpy as np\n",
    "import pandas as pd\n",
    "from asapdiscovery.docking import analysis as a\n",
    "from importlib import reload\n",
    "reload(a)\n",
    "from asapdiscovery.data.schema_v2.ligand import Ligand\n",
    "from asapdiscovery.data.schema_v2.complex import Complex\n",
    "from asapdiscovery.data.selectors.mcs_selector import MCSSelector\n",
    "from openeye import oegraphsim\n",
    "from tqdm import tqdm\n",
    "from pathlib import Path\n",
    "import json\n",
    "from itertools import combinations # only need to do the combinations once since the Tanimoto is symmetric"
   ],
   "metadata": {
    "collapsed": false
   },
   "id": "4cb2d415d74fbec1",
   "execution_count": null
  },
  {
   "cell_type": "markdown",
   "source": [
    "## Load the data"
   ],
   "metadata": {
    "collapsed": false
   },
   "id": "f0694ba3f873a89f"
  },
  {
   "cell_type": "code",
   "outputs": [],
   "source": [
    "data_path = Path(\"../../data/20240202_fragalysis_p_series_schema\")"
   ],
   "metadata": {
    "collapsed": false
   },
   "id": "b5eb85476aa9ef5b",
   "execution_count": null
  },
  {
   "cell_type": "code",
   "outputs": [],
   "source": [
    "complexes = [Complex.from_dict(json.load(open(p))) for p in data_path.glob(\"*.json\")]"
   ],
   "metadata": {
    "collapsed": false
   },
   "id": "32ce9cf9bba31adf",
   "execution_count": null
  },
  {
   "cell_type": "code",
   "outputs": [],
   "source": [
    "mols = [c.ligand for c in complexes]"
   ],
   "metadata": {
    "collapsed": false
   },
   "id": "eeab15d46a454d52",
   "execution_count": null
  },
  {
   "cell_type": "code",
   "outputs": [],
   "source": [
    "def get_fp(mol, bit_size=2048, radius=2):\n",
    "    fp = oegraphsim.OEFingerPrint()\n",
    "    oegraphsim.OEMakeCircularFP(fp, mol, bit_size, 0, radius, oegraphsim.OEFPAtomType_DefaultCircularAtom, oegraphsim.OEFPBondType_DefaultCircularBond)\n",
    "    return fp"
   ],
   "metadata": {
    "collapsed": false
   },
   "id": "8627448147b118b4",
   "execution_count": null
  },
  {
   "cell_type": "code",
   "outputs": [],
   "source": [
    "oegraphsim.OEGetFPAtomType(oegraphsim.OEFPAtomType_DefaultCircularAtom)"
   ],
   "metadata": {
    "collapsed": false
   },
   "id": "2f4b2ff4e72872a4",
   "execution_count": null
  },
  {
   "cell_type": "code",
   "outputs": [],
   "source": [
    "fps = [get_fp(mol.to_oemol()) for mol in mols]"
   ],
   "metadata": {
    "collapsed": false
   },
   "id": "fa5ed14f8757daf1",
   "execution_count": null
  },
  {
   "cell_type": "code",
   "outputs": [],
   "source": [
    "def calculate_tanimoto(fp1, fp2):\n",
    "    return oegraphsim.OETanimoto(fp1, fp2)"
   ],
   "metadata": {
    "collapsed": false
   },
   "id": "afdbc3f4064ed6a8",
   "execution_count": null
  },
  {
   "cell_type": "code",
   "outputs": [],
   "source": [
    "tc_list = [calculate_tanimoto(fp1, fp2) for fp1 in fps for fp2 in fps]"
   ],
   "metadata": {
    "collapsed": false
   },
   "id": "857cd4d0f73f3bc2",
   "execution_count": null
  },
  {
   "cell_type": "code",
   "outputs": [],
   "source": [
    "tc_matrix = np.array(tc_list).reshape(len(fps), len(fps))"
   ],
   "metadata": {
    "collapsed": false
   },
   "id": "4838397cbae18cfc",
   "execution_count": null
  },
  {
   "cell_type": "code",
   "outputs": [],
   "source": [
    "import plotly.express as px"
   ],
   "metadata": {
    "collapsed": false
   },
   "id": "9e2a969b9152e044",
   "execution_count": null
  },
  {
   "cell_type": "code",
   "outputs": [],
   "source": [
    "px.imshow(tc_matrix)"
   ],
   "metadata": {
    "collapsed": false
   },
   "id": "ff3835fd1470de6f",
   "execution_count": null
  },
  {
   "cell_type": "code",
   "outputs": [],
   "source": [
    "df = pd.DataFrame({\"Mol1\": [m.compound_name for m in mols for _ in mols], \"Mol2\": [m.compound_name for _ in mols for m in mols], \"Tanimoto\": tc_list})"
   ],
   "metadata": {
    "collapsed": false
   },
   "id": "ef859823db500c9a",
   "execution_count": null
  },
  {
   "cell_type": "code",
   "outputs": [],
   "source": [
    "df_filtered = df[df[\"Mol1\"] != df[\"Mol2\"]]"
   ],
   "metadata": {
    "collapsed": false
   },
   "id": "772bb55d6317380a",
   "execution_count": null
  },
  {
   "cell_type": "code",
   "outputs": [],
   "source": [
    "top10_df = df_filtered.groupby(['Mol1']).head(10)"
   ],
   "metadata": {
    "collapsed": false
   },
   "id": "b01bd591a63dc51e",
   "execution_count": null
  },
  {
   "cell_type": "code",
   "outputs": [],
   "source": [
    "top_df = df_filtered.groupby(['Mol1']).head(1)"
   ],
   "metadata": {
    "collapsed": false
   },
   "id": "76a25a7767e7f783",
   "execution_count": null
  },
  {
   "cell_type": "code",
   "outputs": [],
   "source": [
    "mean_df = top10_df.groupby(['Mol1'])[[\"Tanimoto\"]].mean().reset_index()"
   ],
   "metadata": {
    "collapsed": false
   },
   "id": "720fa39975df7122",
   "execution_count": null
  },
  {
   "cell_type": "code",
   "outputs": [],
   "source": [
    "px.strip(top10_df, x=\"Mol1\", y=\"Tanimoto\", category_orders={\"Mol1\": mean_df.sort_values(\"Tanimoto\")[\"Mol1\"]})"
   ],
   "metadata": {
    "collapsed": false
   },
   "id": "fef69082ff43cfe3",
   "execution_count": null
  },
  {
   "cell_type": "code",
   "outputs": [],
   "source": [],
   "metadata": {
    "collapsed": false
   },
   "id": "4e22348467d22e0e"
  },
  {
   "cell_type": "code",
   "outputs": [],
   "source": [
    "def get_tc_df(mols, bit_size=2048, radius=2):\n",
    "    fps = [get_fp(mol.to_oemol(), bit_size, radius) for mol in mols]\n",
    "    tc_list = [calculate_tanimoto(fp1, fp2) for fp1 in fps for fp2 in fps]\n",
    "    df = pd.DataFrame({\"Mol1\": [m.compound_name for m in mols for _ in mols], \n",
    "                       \"Mol2\": [m.compound_name for _ in mols for m in mols], \n",
    "                       \"Tanimoto\": tc_list,\n",
    "                       \"Fingerprint\": f\"ECFP{2*radius}\",\n",
    "                       \"BitSize\": f\"{bit_size} bits\"})\n",
    "    df_filtered = df[df[\"Mol1\"] != df[\"Mol2\"]]\n",
    "    return df_filtered"
   ],
   "metadata": {
    "collapsed": false
   },
   "id": "f7edfb6fc3da1deb",
   "execution_count": null
  },
  {
   "cell_type": "code",
   "outputs": [],
   "source": [
    "dfs = []\n",
    "for radius in [2, 3, 4, 5]:\n",
    "    for bit_size in [2048]:\n",
    "        df = get_tc_df(mols, bit_size, radius)\n",
    "        dfs.append(df)"
   ],
   "metadata": {
    "collapsed": false
   },
   "id": "8fe90c37b6573cb9",
   "execution_count": null
  },
  {
   "cell_type": "code",
   "outputs": [],
   "source": [
    "all_df = pd.concat(dfs)"
   ],
   "metadata": {
    "collapsed": false
   },
   "id": "5c6f74b00a358d54",
   "execution_count": null
  },
  {
   "cell_type": "code",
   "outputs": [],
   "source": [
    "all_df.to_csv(\"tanimoto_fingerprint_comparison.csv\", index=False)"
   ],
   "metadata": {
    "collapsed": false
   },
   "id": "8da0254a6ff0d517",
   "execution_count": null
  },
  {
   "cell_type": "code",
   "outputs": [],
   "source": [
    "all_top_df = all_df.groupby(['Mol1', 'Fingerprint']).head(1)"
   ],
   "metadata": {
    "collapsed": false
   },
   "id": "15cb7a62dc0fbacf",
   "execution_count": null
  },
  {
   "cell_type": "code",
   "outputs": [],
   "source": [
    "px.histogram(all_top_df, \n",
    "             x=\"Tanimoto\", \n",
    "             nbins=20, \n",
    "             title=\"Tanimoto similarity between the most similar ligands\", \n",
    "             range_x=[0, 1], \n",
    "             template=\"plotly_white\", \n",
    "             labels={\"Tanimoto\": \"Tanimoto similarity (ECFP4 Fingerprints)\"},\n",
    "                color=\"Fingerprint\",\n",
    "             barmode=\"overlay\",\n",
    "             opacity=0.75)"
   ],
   "metadata": {
    "collapsed": false
   },
   "id": "7c24e67a1e2504e8",
   "execution_count": null
  },
  {
   "cell_type": "markdown",
   "source": [
    "## kde distplot"
   ],
   "metadata": {
    "collapsed": false
   },
   "id": "1ac55e47b7ecd565"
  },
  {
   "cell_type": "code",
   "outputs": [],
   "source": [
    "import plotly.figure_factory as ff"
   ],
   "metadata": {
    "collapsed": false
   },
   "id": "4a391b602c770729",
   "execution_count": null
  },
  {
   "cell_type": "code",
   "outputs": [],
   "source": [
    "hist_data = [all_top_df[all_top_df[\"Fingerprint\"] == fp][\"Tanimoto\"] for fp in all_top_df.Fingerprint.unique()]"
   ],
   "metadata": {
    "collapsed": false
   },
   "id": "3f9a974f275cdc90",
   "execution_count": null
  },
  {
   "cell_type": "code",
   "outputs": [],
   "source": [
    "fig = ff.create_distplot(hist_data, \n",
    "                         group_labels=[fp for fp in all_top_df.Fingerprint.unique()], \n",
    "                         bin_size=0.1, \n",
    "                         histnorm=\"probability\", \n",
    "                         show_rug=False,\n",
    "                         show_hist=False)"
   ],
   "metadata": {
    "collapsed": false
   },
   "id": "49e73e76c1a68d5a",
   "execution_count": null
  },
  {
   "cell_type": "code",
   "outputs": [],
   "source": [
    "fig.update_xaxes(range=[0, 1])\n",
    "fig.update_yaxes(range=[0, 1])\n",
    "fig.update_layout(template=\"simple_white\", \n",
    "                  title=\"Maximum Tanimoto similarities in this dataset\", \n",
    "                  xaxis_title=\"Tanimoto similarity\", \n",
    "                  yaxis_title=\"Probability\", \n",
    "                  height=400, \n",
    "                  width=600,\n",
    "                  legend=dict(title=\"Fingerprint Type\", y=0.5, x=0.8))\n",
    "fig.write_image(\"tanimoto_kde.svg\")"
   ],
   "metadata": {
    "collapsed": false
   },
   "id": "7e7fbf8a684f91f7",
   "execution_count": null
  },
  {
   "cell_type": "code",
   "outputs": [],
   "source": [],
   "metadata": {
    "collapsed": false
   },
   "id": "13db9d50da8cdcae"
  },
  {
   "cell_type": "markdown",
   "source": [
    "## add MCSS to the mix"
   ],
   "metadata": {
    "collapsed": false
   },
   "id": "85c1b2fc64438967"
  },
  {
   "cell_type": "code",
   "outputs": [],
   "source": [
    "mcss_hist_data = np.load(\"mcss_tanimoto.npy\")"
   ],
   "metadata": {
    "collapsed": false
   },
   "id": "b317f5a4765aca21",
   "execution_count": null
  },
  {
   "cell_type": "code",
   "outputs": [],
   "source": [],
   "metadata": {
    "collapsed": false
   },
   "id": "6cefd847326ac434"
  },
  {
   "cell_type": "code",
   "outputs": [],
   "source": [
    "fig = ff.create_distplot(hist_data + [mcss_hist_data], \n",
    "                         group_labels=[fp for fp in all_top_df.Fingerprint.unique()] + [\"Number of Atoms in the MCSS\"], \n",
    "                         bin_size=0.1, \n",
    "                         histnorm=\"probability\", \n",
    "                         show_rug=False,\n",
    "                         show_hist=False)"
   ],
   "metadata": {
    "collapsed": false
   },
   "id": "b3897fd26c3729de",
   "execution_count": null
  },
  {
   "cell_type": "code",
   "outputs": [],
   "source": [
    "fig.update_xaxes(range=[0, 1])\n",
    "fig.update_yaxes(range=[0, 1])\n",
    "fig.update_layout(template=\"simple_white\", \n",
    "                  title=\"Maximum Tanimoto similarities in this dataset\", \n",
    "                  xaxis_title=\"Tanimoto similarity\", \n",
    "                  yaxis_title=\"Probability\", \n",
    "                  height=400, \n",
    "                  width=600,\n",
    "                  legend=dict(title=\"Fingerprint Type\", y=0.5, x=0.8))\n",
    "fig.write_image(\"tanimoto_kde.svg\")"
   ],
   "metadata": {
    "collapsed": false
   },
   "id": "327ebc4f8a039764",
   "execution_count": null
  },
  {
   "cell_type": "code",
   "outputs": [],
   "source": [
    "mol1 = mols[72]\n",
    "mol2 = mols[52]"
   ],
   "metadata": {
    "collapsed": false
   },
   "id": "d68003491b2ce3c5",
   "execution_count": null
  },
  {
   "cell_type": "code",
   "outputs": [],
   "source": [
    "from rdkit import Chem"
   ],
   "metadata": {
    "collapsed": false
   },
   "id": "1011b64dcca537c8",
   "execution_count": null
  },
  {
   "cell_type": "code",
   "outputs": [],
   "source": [
    "Chem.MolFromSmiles(mol1.smiles)"
   ],
   "metadata": {
    "collapsed": false
   },
   "id": "e8449594b4b3ecdb",
   "execution_count": null
  },
  {
   "cell_type": "code",
   "outputs": [],
   "source": [
    "Chem.MolFromSmiles(mol2.smiles)"
   ],
   "metadata": {
    "collapsed": false
   },
   "id": "cf27eab6e36b2d08",
   "execution_count": null
  },
  {
   "cell_type": "code",
   "outputs": [],
   "source": [
    "from rdkit.Chem import MACCSkeys, rdFingerprintGenerator, DataStructs"
   ],
   "metadata": {
    "collapsed": false
   },
   "id": "30965e3965df8c73",
   "execution_count": null
  },
  {
   "cell_type": "code",
   "outputs": [],
   "source": [
    "fpg = rdFingerprintGenerator.GetMorganGenerator(radius=2, fpSize=2048)"
   ],
   "metadata": {
    "collapsed": false
   },
   "id": "6e67f5d6954cb729",
   "execution_count": null
  },
  {
   "cell_type": "code",
   "outputs": [],
   "source": [
    "fp1 = fpg.GetFingerprint(Chem.MolFromSmiles(mol1.smiles))"
   ],
   "metadata": {
    "collapsed": false
   },
   "id": "69572da9f63386d",
   "execution_count": null
  },
  {
   "cell_type": "code",
   "outputs": [],
   "source": [
    "fp2 = fpg.GetFingerprint(Chem.MolFromSmiles(mol2.smiles))"
   ],
   "metadata": {
    "collapsed": false
   },
   "id": "fa0ed39fae4a31cf",
   "execution_count": null
  },
  {
   "cell_type": "code",
   "outputs": [],
   "source": [
    "DataStructs.TanimotoSimilarity(fp1, fp2)"
   ],
   "metadata": {
    "collapsed": false
   },
   "id": "c1fea42daa45813e",
   "execution_count": null
  },
  {
   "cell_type": "code",
   "outputs": [],
   "source": [
    "tc_matrix[97, 143]"
   ],
   "metadata": {
    "collapsed": false
   },
   "id": "80c3c010c05b85f2",
   "execution_count": null
  },
  {
   "cell_type": "code",
   "outputs": [],
   "source": [
    "tc_matrix[143, 97]"
   ],
   "metadata": {
    "collapsed": false
   },
   "id": "37844846998dfd15",
   "execution_count": null
  },
  {
   "cell_type": "code",
   "outputs": [],
   "source": [
    "fptype = oegraphsim.OEGetFPType(oegraphsim.OEFPType_Circular)\n",
    "print(fptype.GetFPTypeString())"
   ],
   "metadata": {
    "collapsed": false
   },
   "id": "9250ea61a1319cb0",
   "execution_count": null
  },
  {
   "cell_type": "code",
   "outputs": [],
   "source": [],
   "metadata": {
    "collapsed": false
   },
   "id": "27c9677806932127"
  }
 ],
 "metadata": {
  "kernelspec": {
   "display_name": "Python 3",
   "language": "python",
   "name": "python3"
  },
  "language_info": {
   "codemirror_mode": {
    "name": "ipython",
    "version": 2
   },
   "file_extension": ".py",
   "mimetype": "text/x-python",
   "name": "python",
   "nbconvert_exporter": "python",
   "pygments_lexer": "ipython2",
   "version": "2.7.6"
  }
 },
 "nbformat": 4,
 "nbformat_minor": 5
}
