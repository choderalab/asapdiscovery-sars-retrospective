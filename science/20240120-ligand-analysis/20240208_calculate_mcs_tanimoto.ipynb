{
 "cells": [
  {
   "cell_type": "code",
   "execution_count": null,
   "id": "initial_id",
   "metadata": {
    "collapsed": true
   },
   "outputs": [],
   "source": [
    "import numpy as np\n",
    "import pandas as pd\n",
    "from asapdiscovery.docking import analysis as a\n",
    "from importlib import reload\n",
    "reload(a)\n",
    "from asapdiscovery.data.schema_v2.ligand import Ligand\n",
    "from asapdiscovery.data.schema_v2.complex import Complex\n",
    "from asapdiscovery.data.selectors.mcs_selector import MCSSelector\n",
    "from openeye import oegraphsim\n",
    "from tqdm import tqdm\n",
    "from pathlib import Path\n",
    "import json\n",
    "from itertools import combinations, permutations, product"
   ]
  },
  {
   "cell_type": "code",
   "outputs": [],
   "source": [
    "# Load the data"
   ],
   "metadata": {
    "collapsed": false
   },
   "id": "d27cafa5438db6b6",
   "execution_count": null
  },
  {
   "cell_type": "markdown",
   "source": [
    "## Load the data"
   ],
   "metadata": {
    "collapsed": false
   },
   "id": "be5bce62cae691b"
  },
  {
   "cell_type": "code",
   "outputs": [],
   "source": [
    "data_path = Path(\"../../data/20240202_fragalysis_p_series_schema\")"
   ],
   "metadata": {
    "collapsed": false
   },
   "id": "1a31ced554ff5316",
   "execution_count": null
  },
  {
   "cell_type": "code",
   "outputs": [],
   "source": [
    "complexes = [Complex.from_dict(json.load(open(p))) for p in data_path.glob(\"*.json\")]"
   ],
   "metadata": {
    "collapsed": false
   },
   "id": "b581b41b11a0e631",
   "execution_count": null
  },
  {
   "cell_type": "code",
   "outputs": [],
   "source": [
    "mols = [c.ligand for c in complexes]"
   ],
   "metadata": {
    "collapsed": false
   },
   "id": "60da3cfa1e7ad52e",
   "execution_count": null
  },
  {
   "cell_type": "code",
   "outputs": [],
   "source": [
    "def get_n_to_n_mcs(mols: list[Ligand]):\n",
    "    from asapdiscovery.data.openeye import oechem\n",
    "    atomexpr = oechem.OEExprOpts_AutomorphAtoms\n",
    "    bondexpr = (\n",
    "        oechem.OEExprOpts_Aromaticity\n",
    "        | oechem.OEExprOpts_BondOrder\n",
    "        | oechem.OEExprOpts_RingMember\n",
    "    )\n",
    "    \n",
    "    refmols = [mol.to_oemol() for mol in mols]\n",
    "    querymols = [mol.to_oemol() for mol in mols]\n",
    "    \n",
    "    # Set up the search pattern and MCS objects\n",
    "    mcs_num_atoms = np.zeros((len(refmols), len(querymols)), dtype=int)\n",
    "    for i, refmol in tqdm(enumerate(refmols)):\n",
    "        pattern_query = oechem.OEQMol(refmol)\n",
    "        pattern_query.BuildExpressions(atomexpr, bondexpr)\n",
    "        mcss = oechem.OEMCSSearch(pattern_query)\n",
    "        mcss.SetMCSFunc(oechem.OEMCSMaxAtomsCompleteCycles())\n",
    "\n",
    "        for j, querymol in enumerate(querymols):\n",
    "            # MCS search\n",
    "            try:\n",
    "                mcs = next(iter(mcss.Match(querymol, True)))\n",
    "                mcs_num_atoms[i, j] = mcs.NumAtoms()\n",
    "            except StopIteration:  # no match found\n",
    "                mcs_num_atoms[i, j] = 0\n",
    "    return mcs_num_atoms"
   ],
   "metadata": {
    "collapsed": false
   },
   "id": "d27716684d633f4c",
   "execution_count": null
  },
  {
   "cell_type": "code",
   "outputs": [],
   "source": [
    "mcs_num_atoms = get_n_to_n_mcs(mols)"
   ],
   "metadata": {
    "collapsed": false
   },
   "id": "8115ae9c1bd79a3",
   "execution_count": null
  },
  {
   "cell_type": "code",
   "outputs": [],
   "source": [
    "mcs_num_atoms"
   ],
   "metadata": {
    "collapsed": false
   },
   "id": "19ba476d20700614",
   "execution_count": null
  },
  {
   "cell_type": "code",
   "outputs": [],
   "source": [
    "num_atoms = np.array([mol.to_oemol().NumAtoms() for mol in mols])"
   ],
   "metadata": {
    "collapsed": false
   },
   "id": "49fbc6c6c0047f5e",
   "execution_count": null
  },
  {
   "cell_type": "code",
   "outputs": [],
   "source": [
    "total_atoms = np.array([i+j for i, j in product(num_atoms, num_atoms)])"
   ],
   "metadata": {
    "collapsed": false
   },
   "id": "278732cd2f6a178b",
   "execution_count": null
  },
  {
   "cell_type": "code",
   "outputs": [],
   "source": [
    "total_atoms_matrix = total_atoms.reshape((len(mols), len(mols)))"
   ],
   "metadata": {
    "collapsed": false
   },
   "id": "1d1369d37a46e13b",
   "execution_count": null
  },
  {
   "cell_type": "code",
   "outputs": [],
   "source": [
    "total_atoms_matrix"
   ],
   "metadata": {
    "collapsed": false
   },
   "id": "aad69a3bdb3a1bb6",
   "execution_count": null
  },
  {
   "cell_type": "code",
   "outputs": [],
   "source": [
    "union_matrix = total_atoms_matrix - mcs_num_atoms"
   ],
   "metadata": {
    "collapsed": false
   },
   "id": "282467b07785f30",
   "execution_count": null
  },
  {
   "cell_type": "code",
   "outputs": [],
   "source": [
    "tc_matrix = mcs_num_atoms / union_matrix"
   ],
   "metadata": {
    "collapsed": false
   },
   "id": "1ef538f0fd405f3c",
   "execution_count": null
  },
  {
   "cell_type": "code",
   "outputs": [],
   "source": [
    "tc_matrix"
   ],
   "metadata": {
    "collapsed": false
   },
   "id": "1e6bd03eeed45cba",
   "execution_count": null
  },
  {
   "cell_type": "code",
   "outputs": [],
   "source": [
    "import plotly.express as px"
   ],
   "metadata": {
    "collapsed": false
   },
   "id": "96ab48c92c7e01c3",
   "execution_count": null
  },
  {
   "cell_type": "code",
   "outputs": [],
   "source": [
    "px.imshow(tc_matrix)"
   ],
   "metadata": {
    "collapsed": false
   },
   "id": "61b5ea76d616cd42",
   "execution_count": null
  },
  {
   "cell_type": "code",
   "outputs": [],
   "source": [
    "def get_tc_matrix(mols):\n",
    "    mcs_num_atoms = get_n_to_n_mcs(mols)\n",
    "    num_atoms = np.array([mol.to_oemol().NumAtoms() for mol in mols])\n",
    "    total_atoms = np.array([i+j for i, j in product(num_atoms, num_atoms)])\n",
    "    total_atoms_matrix = total_atoms.reshape((len(mols), len(mols)))\n",
    "    union_matrix = total_atoms_matrix - mcs_num_atoms\n",
    "    tc_matrix = mcs_num_atoms / union_matrix\n",
    "    return tc_matrix"
   ],
   "metadata": {
    "collapsed": false
   },
   "id": "734c15649972cbf6",
   "execution_count": null
  },
  {
   "cell_type": "code",
   "outputs": [],
   "source": [
    "def get_tc_df(mols, tc_matrix):\n",
    "    df = pd.DataFrame({\"Mol1\": [m.compound_name for m in mols for _ in mols], \n",
    "                       \"Mol2\": [m.compound_name for _ in mols for m in mols], \n",
    "                       \"Tanimoto\": tc_matrix.reshape(-1),\n",
    "                       })\n",
    "    df_filtered = df[df[\"Mol1\"] != df[\"Mol2\"]]\n",
    "    return df_filtered"
   ],
   "metadata": {
    "collapsed": false
   },
   "id": "eb027385398b80a4",
   "execution_count": null
  },
  {
   "cell_type": "code",
   "outputs": [],
   "source": [
    "df = get_tc_df(mols, tc_matrix)"
   ],
   "metadata": {
    "collapsed": false
   },
   "id": "493d5d160d38e49a",
   "execution_count": null
  },
  {
   "cell_type": "markdown",
   "source": [
    "## Save the Tanimoto similarity matrix"
   ],
   "metadata": {
    "collapsed": false
   },
   "id": "3d7489ae0c05ced"
  },
  {
   "cell_type": "code",
   "outputs": [],
   "source": [
    "df.to_csv(\"mcss_tanimoto.csv\", index=False)"
   ],
   "metadata": {
    "collapsed": false
   },
   "id": "d68335f23bb8c28f",
   "execution_count": null
  },
  {
   "cell_type": "code",
   "outputs": [],
   "source": [
    "import plotly.figure_factory as ff"
   ],
   "metadata": {
    "collapsed": false
   },
   "id": "76bdb2a678a46a20",
   "execution_count": null
  },
  {
   "cell_type": "code",
   "outputs": [],
   "source": [
    "hist_data = df[\"Tanimoto\"]"
   ],
   "metadata": {
    "collapsed": false
   },
   "id": "3dd9fe851dfacaeb",
   "execution_count": null
  },
  {
   "cell_type": "code",
   "outputs": [],
   "source": [
    "np.save(\"mcss_tanimoto.npy\", hist_data)"
   ],
   "metadata": {
    "collapsed": false
   },
   "id": "694a655921a72ac9",
   "execution_count": null
  },
  {
   "cell_type": "code",
   "outputs": [],
   "source": [
    "fig = ff.create_distplot([hist_data], \n",
    "                         group_labels=[\"Maximum Common Substructure\"], \n",
    "                         bin_size=0.1, \n",
    "                         histnorm=\"probability\", \n",
    "                         show_rug=False,\n",
    "                         show_hist=False)"
   ],
   "metadata": {
    "collapsed": false
   },
   "id": "6c884c823feec551",
   "execution_count": null
  },
  {
   "cell_type": "code",
   "outputs": [],
   "source": [
    "fig.update_xaxes(range=[0, 1])\n",
    "fig.update_yaxes(range=[0, 1])\n",
    "fig.update_layout(template=\"simple_white\", \n",
    "                  title=\"Maximum Tanimoto similarities in this dataset\", \n",
    "                  xaxis_title=\"Tanimoto similarity\", \n",
    "                  yaxis_title=\"Probability\", \n",
    "                  height=400, \n",
    "                  width=600,\n",
    "                  )\n",
    "fig.write_image(\"mcss_tanimoto_kde.svg\")"
   ],
   "metadata": {
    "collapsed": false
   },
   "id": "8d75011868146a43",
   "execution_count": null
  },
  {
   "cell_type": "code",
   "outputs": [],
   "source": [],
   "metadata": {
    "collapsed": false
   },
   "id": "73435e40a8f27ac1"
  }
 ],
 "metadata": {
  "kernelspec": {
   "display_name": "Python 3",
   "language": "python",
   "name": "python3"
  },
  "language_info": {
   "codemirror_mode": {
    "name": "ipython",
    "version": 2
   },
   "file_extension": ".py",
   "mimetype": "text/x-python",
   "name": "python",
   "nbconvert_exporter": "python",
   "pygments_lexer": "ipython2",
   "version": "2.7.6"
  }
 },
 "nbformat": 4,
 "nbformat_minor": 5
}
