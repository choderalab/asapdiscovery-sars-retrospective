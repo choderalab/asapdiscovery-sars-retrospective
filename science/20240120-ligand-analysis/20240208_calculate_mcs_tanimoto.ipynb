{
 "cells": [
  {
   "cell_type": "code",
   "execution_count": null,
   "id": "initial_id",
   "metadata": {
    "collapsed": true,
    "jupyter": {
     "outputs_hidden": true
    }
   },
   "outputs": [],
   "source": [
    "import numpy as np\n",
    "import pandas as pd\n",
    "from asapdiscovery.docking import analysis as a\n",
    "from importlib import reload\n",
    "reload(a)\n",
    "from asapdiscovery.data.schema.ligand import Ligand\n",
    "from asapdiscovery.data.schema.complex import Complex\n",
    "from asapdiscovery.data.operators.selectors.mcs_selector import MCSSelector\n",
    "from openeye import oegraphsim\n",
    "from tqdm import tqdm\n",
    "from pathlib import Path\n",
    "import json\n",
    "from itertools import combinations, permutations, product"
   ]
  },
  {
   "cell_type": "markdown",
   "id": "630bf8895f5fb8d5",
   "metadata": {},
   "source": [
    "# Load the data"
   ]
  },
  {
   "cell_type": "markdown",
   "id": "be5bce62cae691b",
   "metadata": {},
   "source": [
    "## Load the data"
   ]
  },
  {
   "cell_type": "code",
   "execution_count": null,
   "id": "1a31ced554ff5316",
   "metadata": {
    "collapsed": false,
    "jupyter": {
     "outputs_hidden": false
    }
   },
   "outputs": [],
   "source": [
    "data_path = Path(\"../../data/20240202_fragalysis_p_series_schema\")"
   ]
  },
  {
   "cell_type": "code",
   "execution_count": null,
   "id": "b581b41b11a0e631",
   "metadata": {
    "collapsed": false,
    "jupyter": {
     "outputs_hidden": false
    }
   },
   "outputs": [],
   "source": [
    "complexes = [Complex.from_dict(json.load(open(p))) for p in data_path.glob(\"*.json\")]"
   ]
  },
  {
   "cell_type": "code",
   "execution_count": null,
   "id": "60da3cfa1e7ad52e",
   "metadata": {
    "collapsed": false,
    "jupyter": {
     "outputs_hidden": false
    }
   },
   "outputs": [],
   "source": [
    "mols = [c.ligand for c in complexes]"
   ]
  },
  {
   "cell_type": "code",
   "execution_count": null,
   "id": "d27716684d633f4c",
   "metadata": {
    "collapsed": false,
    "jupyter": {
     "outputs_hidden": false
    }
   },
   "outputs": [],
   "source": [
    "def get_n_to_n_mcs(mols: list[Ligand]):\n",
    "    from asapdiscovery.data.backend.openeye import oechem\n",
    "   # these are the defaaults for atom and bond expressions but just to be explicit I'm putting them here\n",
    "    atomexpr = (\n",
    "        oechem.OEExprOpts_Aromaticity\n",
    "        | oechem.OEExprOpts_AtomicNumber\n",
    "        | oechem.OEExprOpts_FormalCharge\n",
    "    )\n",
    "    bondexpr = (\n",
    "        oechem.OEExprOpts_Aromaticity\n",
    "        | oechem.OEExprOpts_BondOrder\n",
    "    )\n",
    "    \n",
    "    refmols = [mol.to_oemol() for mol in mols]\n",
    "    querymols = [mol.to_oemol() for mol in mols]\n",
    "    \n",
    "    # Set up the search pattern and MCS objects\n",
    "    mcs_num_atoms = np.zeros((len(refmols), len(querymols)), dtype=int)\n",
    "    for i, refmol in tqdm(enumerate(refmols), total=len(refmols)):\n",
    "        pattern_query = oechem.OEQMol(refmol)\n",
    "        pattern_query.BuildExpressions(atomexpr, bondexpr)\n",
    "        mcss = oechem.OEMCSSearch(pattern_query)\n",
    "        mcss.SetMCSFunc(oechem.OEMCSMaxAtomsCompleteCycles())\n",
    "\n",
    "        for j, querymol in enumerate(querymols):\n",
    "            # MCS search\n",
    "            try:\n",
    "                mcs = next(iter(mcss.Match(querymol, True)))\n",
    "                mcs_num_atoms[i, j] = mcs.NumAtoms()\n",
    "            except StopIteration:  # no match found\n",
    "                mcs_num_atoms[i, j] = 0\n",
    "    return mcs_num_atoms"
   ]
  },
  {
   "cell_type": "code",
   "execution_count": null,
   "id": "8115ae9c1bd79a3",
   "metadata": {
    "collapsed": false,
    "jupyter": {
     "outputs_hidden": false
    }
   },
   "outputs": [],
   "source": [
    "mcs_num_atoms = get_n_to_n_mcs(mols)"
   ]
  },
  {
   "cell_type": "code",
   "execution_count": null,
   "id": "19ba476d20700614",
   "metadata": {
    "collapsed": false,
    "jupyter": {
     "outputs_hidden": false
    }
   },
   "outputs": [],
   "source": [
    "mcs_num_atoms"
   ]
  },
  {
   "cell_type": "code",
   "execution_count": null,
   "id": "49fbc6c6c0047f5e",
   "metadata": {
    "collapsed": false,
    "jupyter": {
     "outputs_hidden": false
    }
   },
   "outputs": [],
   "source": [
    "num_atoms = np.array([mol.to_oemol().NumAtoms() for mol in mols])"
   ]
  },
  {
   "cell_type": "code",
   "execution_count": null,
   "id": "278732cd2f6a178b",
   "metadata": {
    "collapsed": false,
    "jupyter": {
     "outputs_hidden": false
    }
   },
   "outputs": [],
   "source": [
    "total_atoms = np.array([i+j for i, j in product(num_atoms, num_atoms)])"
   ]
  },
  {
   "cell_type": "code",
   "execution_count": null,
   "id": "1d1369d37a46e13b",
   "metadata": {
    "collapsed": false,
    "jupyter": {
     "outputs_hidden": false
    }
   },
   "outputs": [],
   "source": [
    "total_atoms_matrix = total_atoms.reshape((len(mols), len(mols)))"
   ]
  },
  {
   "cell_type": "code",
   "execution_count": null,
   "id": "aad69a3bdb3a1bb6",
   "metadata": {
    "collapsed": false,
    "jupyter": {
     "outputs_hidden": false
    }
   },
   "outputs": [],
   "source": [
    "total_atoms_matrix"
   ]
  },
  {
   "cell_type": "code",
   "execution_count": null,
   "id": "282467b07785f30",
   "metadata": {
    "collapsed": false,
    "jupyter": {
     "outputs_hidden": false
    }
   },
   "outputs": [],
   "source": [
    "union_matrix = total_atoms_matrix - mcs_num_atoms"
   ]
  },
  {
   "cell_type": "code",
   "execution_count": null,
   "id": "1ef538f0fd405f3c",
   "metadata": {
    "collapsed": false,
    "jupyter": {
     "outputs_hidden": false
    }
   },
   "outputs": [],
   "source": [
    "tc_matrix = mcs_num_atoms / union_matrix"
   ]
  },
  {
   "cell_type": "code",
   "execution_count": null,
   "id": "1e6bd03eeed45cba",
   "metadata": {
    "collapsed": false,
    "jupyter": {
     "outputs_hidden": false
    }
   },
   "outputs": [],
   "source": [
    "tc_matrix"
   ]
  },
  {
   "cell_type": "code",
   "execution_count": null,
   "id": "96ab48c92c7e01c3",
   "metadata": {
    "collapsed": false,
    "jupyter": {
     "outputs_hidden": false
    }
   },
   "outputs": [],
   "source": [
    "import plotly.express as px"
   ]
  },
  {
   "cell_type": "code",
   "execution_count": null,
   "id": "61b5ea76d616cd42",
   "metadata": {
    "collapsed": false,
    "jupyter": {
     "outputs_hidden": false
    }
   },
   "outputs": [],
   "source": [
    "px.imshow(tc_matrix)"
   ]
  },
  {
   "cell_type": "code",
   "execution_count": null,
   "id": "734c15649972cbf6",
   "metadata": {
    "collapsed": false,
    "jupyter": {
     "outputs_hidden": false
    }
   },
   "outputs": [],
   "source": [
    "def get_tc_matrix(mols):\n",
    "    mcs_num_atoms = get_n_to_n_mcs(mols)\n",
    "    num_atoms = np.array([mol.to_oemol().NumAtoms() for mol in mols])\n",
    "    total_atoms = np.array([i+j for i, j in product(num_atoms, num_atoms)])\n",
    "    total_atoms_matrix = total_atoms.reshape((len(mols), len(mols)))\n",
    "    union_matrix = total_atoms_matrix - mcs_num_atoms\n",
    "    tc_matrix = mcs_num_atoms / union_matrix\n",
    "    return tc_matrix"
   ]
  },
  {
   "cell_type": "code",
   "execution_count": null,
   "id": "eb027385398b80a4",
   "metadata": {
    "collapsed": false,
    "jupyter": {
     "outputs_hidden": false
    }
   },
   "outputs": [],
   "source": [
    "def get_tc_df(mols, tc_matrix):\n",
    "    df = pd.DataFrame({\"Mol1\": [m.compound_name for m in mols for _ in mols], \n",
    "                       \"Mol2\": [m.compound_name for _ in mols for m in mols], \n",
    "                       \"Tanimoto\": tc_matrix.reshape(-1),\n",
    "                       })\n",
    "    df_filtered = df[df[\"Mol1\"] != df[\"Mol2\"]]\n",
    "    return df_filtered"
   ]
  },
  {
   "cell_type": "code",
   "execution_count": null,
   "id": "493d5d160d38e49a",
   "metadata": {
    "collapsed": false,
    "jupyter": {
     "outputs_hidden": false
    }
   },
   "outputs": [],
   "source": [
    "df = get_tc_df(mols, tc_matrix)"
   ]
  },
  {
   "cell_type": "markdown",
   "id": "3d7489ae0c05ced",
   "metadata": {},
   "source": [
    "## Save the Tanimoto similarity matrix"
   ]
  },
  {
   "cell_type": "code",
   "execution_count": null,
   "id": "d68335f23bb8c28f",
   "metadata": {
    "collapsed": false,
    "jupyter": {
     "outputs_hidden": false
    }
   },
   "outputs": [],
   "source": [
    "df.to_csv(\"mcss_tanimoto.csv\", index=False)"
   ]
  },
  {
   "cell_type": "code",
   "execution_count": null,
   "id": "76bdb2a678a46a20",
   "metadata": {
    "collapsed": false,
    "jupyter": {
     "outputs_hidden": false
    }
   },
   "outputs": [],
   "source": [
    "import plotly.figure_factory as ff"
   ]
  },
  {
   "cell_type": "code",
   "execution_count": null,
   "id": "3dd9fe851dfacaeb",
   "metadata": {
    "collapsed": false,
    "jupyter": {
     "outputs_hidden": false
    }
   },
   "outputs": [],
   "source": [
    "hist_data = df[\"Tanimoto\"]"
   ]
  },
  {
   "cell_type": "code",
   "execution_count": null,
   "id": "694a655921a72ac9",
   "metadata": {
    "collapsed": false,
    "jupyter": {
     "outputs_hidden": false
    }
   },
   "outputs": [],
   "source": [
    "np.save(\"mcss_tanimoto.npy\", hist_data)"
   ]
  },
  {
   "cell_type": "code",
   "execution_count": null,
   "id": "6c884c823feec551",
   "metadata": {
    "collapsed": false,
    "jupyter": {
     "outputs_hidden": false
    }
   },
   "outputs": [],
   "source": [
    "fig = ff.create_distplot([hist_data], \n",
    "                         group_labels=[\"Maximum Common Substructure\"], \n",
    "                         bin_size=0.1, \n",
    "                         histnorm=\"probability\", \n",
    "                         show_rug=False,\n",
    "                         show_hist=False)"
   ]
  },
  {
   "cell_type": "code",
   "execution_count": null,
   "id": "8d75011868146a43",
   "metadata": {
    "collapsed": false,
    "jupyter": {
     "outputs_hidden": false
    }
   },
   "outputs": [],
   "source": [
    "fig.update_xaxes(range=[0, 1])\n",
    "fig.update_yaxes(range=[0, 1])\n",
    "fig.update_layout(template=\"simple_white\", \n",
    "                  title=\"Maximum Tanimoto similarities in this dataset\", \n",
    "                  xaxis_title=\"Tanimoto similarity\", \n",
    "                  yaxis_title=\"Probability\", \n",
    "                  height=400, \n",
    "                  width=600,\n",
    "                  )\n",
    "fig.write_image(\"mcss_tanimoto_kde.svg\")\n",
    "fig.write_image(\"mcss_tanimoto_kde.png\")"
   ]
  },
  {
   "cell_type": "code",
   "execution_count": null,
   "id": "ff07ce730a53d3ad",
   "metadata": {
    "collapsed": false,
    "jupyter": {
     "outputs_hidden": false
    }
   },
   "outputs": [],
   "source": []
  }
 ],
 "metadata": {
  "kernelspec": {
   "display_name": "Python 3 (ipykernel)",
   "language": "python",
   "name": "python3"
  },
  "language_info": {
   "codemirror_mode": {
    "name": "ipython",
    "version": 3
   },
   "file_extension": ".py",
   "mimetype": "text/x-python",
   "name": "python",
   "nbconvert_exporter": "python",
   "pygments_lexer": "ipython3",
   "version": "3.9.7"
  }
 },
 "nbformat": 4,
 "nbformat_minor": 5
}
