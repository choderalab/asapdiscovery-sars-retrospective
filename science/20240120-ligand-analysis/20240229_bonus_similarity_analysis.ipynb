{
 "cells": [
  {
   "cell_type": "code",
   "execution_count": null,
   "id": "initial_id",
   "metadata": {
    "collapsed": true
   },
   "outputs": [],
   "source": [
    "import pandas as pd\n",
    "from pathlib import Path\n",
    "import plotly.express as px"
   ]
  },
  {
   "cell_type": "code",
   "outputs": [],
   "source": [
    "data_path = Path('../../data')"
   ],
   "metadata": {
    "collapsed": false
   },
   "id": "1b358cc822f06072",
   "execution_count": null
  },
  {
   "cell_type": "code",
   "outputs": [],
   "source": [
    "similarity_metrics = pd.read_csv(data_path / 'all_tanimoto.csv')"
   ],
   "metadata": {
    "collapsed": false
   },
   "id": "875cc09a56eea753",
   "execution_count": null
  },
  {
   "cell_type": "code",
   "outputs": [],
   "source": [
    "similarity_metrics[(similarity_metrics['Mol1'] == 'MAT-POS-f9802937-7') & (similarity_metrics['Mol2'] == 'EDG-MED-971238d3-5')]"
   ],
   "metadata": {
    "collapsed": false
   },
   "id": "5b5776289a7c108b",
   "execution_count": null
  },
  {
   "cell_type": "code",
   "outputs": [],
   "source": [
    "similarity_metrics['Index'] = similarity_metrics['Mol1'] + \"_\" + similarity_metrics['Mol2']"
   ],
   "metadata": {
    "collapsed": false
   },
   "id": "70f4e9bccce948a7",
   "execution_count": null
  },
  {
   "cell_type": "code",
   "outputs": [],
   "source": [
    "wide = similarity_metrics.pivot(index=['Index'], columns=['Similarity Metric'], values=['Tanimoto']).reindex()"
   ],
   "metadata": {
    "collapsed": false
   },
   "id": "5c5b241fdb2f2c85",
   "execution_count": null
  },
  {
   "cell_type": "code",
   "outputs": [],
   "source": [
    "wide.columns = wide.columns.droplevel()"
   ],
   "metadata": {
    "collapsed": false
   },
   "id": "287e58451f2cb752",
   "execution_count": null
  },
  {
   "cell_type": "code",
   "outputs": [],
   "source": [
    "wide['Mol1'] = wide.index.str.split('_').str[0]"
   ],
   "metadata": {
    "collapsed": false
   },
   "id": "50de1160bf390a3",
   "execution_count": null
  },
  {
   "cell_type": "code",
   "outputs": [],
   "source": [
    "fig = px.scatter_matrix(wide[wide['Mol1'] == 'MAT-POS-f9802937-7'], dimensions=similarity_metrics['Similarity Metric'].unique())\n",
    "fig.update_layout(width=1200, height=1200)"
   ],
   "metadata": {
    "collapsed": false
   },
   "id": "2417aa50107a32a2",
   "execution_count": null
  },
  {
   "cell_type": "code",
   "outputs": [],
   "source": [],
   "metadata": {
    "collapsed": false
   },
   "id": "41a420875d7469c6"
  }
 ],
 "metadata": {
  "kernelspec": {
   "display_name": "Python 3",
   "language": "python",
   "name": "python3"
  },
  "language_info": {
   "codemirror_mode": {
    "name": "ipython",
    "version": 2
   },
   "file_extension": ".py",
   "mimetype": "text/x-python",
   "name": "python",
   "nbconvert_exporter": "python",
   "pygments_lexer": "ipython2",
   "version": "2.7.6"
  }
 },
 "nbformat": 4,
 "nbformat_minor": 5
}
