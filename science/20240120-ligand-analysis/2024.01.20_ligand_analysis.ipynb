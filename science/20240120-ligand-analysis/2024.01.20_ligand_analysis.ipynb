{
 "cells": [
  {
   "cell_type": "markdown",
   "id": "4f380e70-fc07-4692-97f5-56f78e476e14",
   "metadata": {},
   "source": [
    "# Imports"
   ]
  },
  {
   "cell_type": "markdown",
   "id": "2d514f17-b809-4377-8079-f37f64b993d7",
   "metadata": {},
   "source": [
    "## The purpose of this notebook will be to provide an example of finding and showing the maximum common substructure between two ligands"
   ]
  },
  {
   "cell_type": "code",
   "execution_count": null,
   "id": "f1130026-799f-4ce9-9eb9-942cad720a71",
   "metadata": {},
   "outputs": [],
   "source": [
    "from asapdiscovery.data.schema_v2.ligand import Ligand\n",
    "from pathlib import Path\n",
    "from IPython.display import Image"
   ]
  },
  {
   "cell_type": "code",
   "execution_count": null,
   "id": "6f0a3563-5d12-4ca2-99cd-8156401f5ef4",
   "metadata": {},
   "outputs": [],
   "source": []
  },
  {
   "cell_type": "code",
   "execution_count": null,
   "id": "fa0b74ba-91e2-4187-90ca-2a8d6573e64a",
   "metadata": {},
   "outputs": [],
   "source": []
  },
  {
   "cell_type": "markdown",
   "id": "f65044ed-ee73-4263-bfa4-452ca8505a28",
   "metadata": {},
   "source": [
    "# Import ligands"
   ]
  },
  {
   "cell_type": "code",
   "execution_count": null,
   "id": "a242218a-9376-4c62-82f4-d0d13672e509",
   "metadata": {},
   "outputs": [],
   "source": [
    "mols = [Ligand.from_sdf(sdf) for sdf in Path(\"/Users/alexpayne/Scientific_Projects/mers-drug-discovery/sars2-retrospective-analysis/sdf_lsf_array_p_only_by_name_2d/\").glob('*.sdf')]"
   ]
  },
  {
   "cell_type": "code",
   "execution_count": null,
   "id": "b8d10a99-ef92-476d-a47d-1cdcc25b7783",
   "metadata": {},
   "outputs": [],
   "source": [
    "mol1 = mols[0]\n",
    "mol2 = mols[1]"
   ]
  },
  {
   "cell_type": "code",
   "execution_count": null,
   "id": "ed0db52e-6360-456a-a766-ae5d83a31db9",
   "metadata": {},
   "outputs": [],
   "source": [
    "from asapdiscovery.dataviz.molecules import display_openeye_ligand"
   ]
  },
  {
   "cell_type": "code",
   "execution_count": null,
   "id": "b7ffe74f-a4c3-4da5-ab83-94ea7dd2dc34",
   "metadata": {},
   "outputs": [],
   "source": [
    "display_openeye_ligand(mol1.to_oemol())"
   ]
  },
  {
   "cell_type": "code",
   "execution_count": null,
   "id": "d59df04e-86ec-44d8-aef6-a17e2941fe4f",
   "metadata": {},
   "outputs": [],
   "source": [
    "def display_openeye_ligand(mol, out_fn=\"test.png\", aligned=False):\n",
    "    from asapdiscovery.data.openeye import oedepict\n",
    "\n",
    "    if not aligned:\n",
    "        oedepict.OEPrepareDepiction(mol)\n",
    "    disp = oedepict.OE2DMolDisplay(mol)\n",
    "    clearbackground = False\n",
    "    oedepict.OERenderMolecule(out_fn, disp, clearbackground)"
   ]
  },
  {
   "cell_type": "code",
   "execution_count": null,
   "id": "5b389abb-3366-406d-8e38-9842453bb5d0",
   "metadata": {},
   "outputs": [],
   "source": [
    "from rdkit import Chem, Geometry\n",
    "from rdkit.Chem import AllChem\n",
    "from rdkit.Chem import Draw\n",
    "from rdkit.Chem import MCS\n",
    "\n",
    "# Function to load molecules from SMILES strings\n",
    "def load_molecule(smiles):\n",
    "    mol = Chem.MolFromSmiles(smiles)\n",
    "    return mol\n",
    "\n",
    "# Function to find and plot maximum common substructure\n",
    "def find_and_plot_mcss(mol1, mol2):\n",
    "    # Generate Morgan fingerprints for each molecule\n",
    "    fp1 = AllChem.GetMorganFingerprint(mol1, 2)\n",
    "    fp2 = AllChem.GetMorganFingerprint(mol2, 2)\n",
    "\n",
    "    # Find MCS\n",
    "    mcs_result = MCS.FindMCS([mol1, mol2])\n",
    "    mcs_smarts = mcs_result.smarts\n",
    "\n",
    "    # Highlight MCS in the molecules\n",
    "    pattern = Chem.MolFromSmarts(mcs_smarts)\n",
    "\n",
    "    matching = [molecule.GetSubstructMatch(pattern) for molecule in [mol1, mol2]]\n",
    "    molecules = [mol1, mol2]\n",
    "    number = -1\n",
    "    mol, match = molecules[0], matching[0]\n",
    "    AllChem.Compute2DCoords(mol)\n",
    "    coords = [mol.GetConformer().GetAtomPosition(x) for x in match]\n",
    "    coords2D = [Geometry.Point2D(pt.x, pt.y) for pt in coords]\n",
    "    for mol, match in zip(molecules, matching):\n",
    "        if not match:\n",
    "            continue\n",
    "        coord_dict = {match[i]: coord for i, coord in enumerate(coords2D)}\n",
    "        AllChem.Compute2DCoords(mol, coordMap=coord_dict)\n",
    "\n",
    "    # Draw the molecules with the highlighted MCS\n",
    "    legends = [\"Mol1\", \"Mol2\"]\n",
    "    return Draw.MolsToGridImage(\n",
    "        molecules,\n",
    "        legends=legends,\n",
    "        molsPerRow=5,\n",
    "        highlightAtomLists=matching,\n",
    "        subImgSize=(200, 200),\n",
    "    )\n",
    "    return img"
   ]
  },
  {
   "cell_type": "code",
   "execution_count": null,
   "id": "3d7eb54d-0b16-49fb-a385-b31c5eb6b4a9",
   "metadata": {},
   "outputs": [],
   "source": [
    "mol1_rdkit = load_molecule(mol1.smiles)\n",
    "mol2_rdkit = load_molecule(mol2.smiles)"
   ]
  },
  {
   "cell_type": "code",
   "execution_count": null,
   "id": "2fcff2bb-fb9b-437d-8483-532022cece59",
   "metadata": {},
   "outputs": [],
   "source": [
    "find_and_plot_mcss(mol1_rdkit, mol2_rdkit)"
   ]
  },
  {
   "cell_type": "code",
   "execution_count": null,
   "id": "f6e0ad07-3bbe-40c4-bf8e-39d276c1a544",
   "metadata": {},
   "outputs": [],
   "source": []
  },
  {
   "cell_type": "code",
   "execution_count": null,
   "id": "4d02681e-e888-4b1e-bbb4-32fd2df5bc49",
   "metadata": {},
   "outputs": [],
   "source": []
  },
  {
   "cell_type": "code",
   "execution_count": null,
   "id": "0c660d37-c01c-4168-a169-b26609e68bf4",
   "metadata": {},
   "outputs": [],
   "source": [
    "from asapdiscovery.data.openeye import oechem, oedepict\n",
    "from openeye import oegraphsim\n",
    "\n",
    "# Function to load molecules from SMILES strings\n",
    "def load_molecule(smiles):\n",
    "    mol = oechem.OEGraphMol()\n",
    "    oechem.OESmilesToMol(mol, smiles)\n",
    "    return mol\n",
    "\n",
    "# Function to find and plot maximum common substructure\n",
    "def find_and_plot_mcss(mol1, mol2):\n",
    "    \n",
    "    # Find MCS\n",
    "    atomexpr = oechem.OEExprOpts_AutomorphAtoms\n",
    "    bondexpr = (\n",
    "        oechem.OEExprOpts_Aromaticity\n",
    "        | oechem.OEExprOpts_BondOrder\n",
    "        | oechem.OEExprOpts_RingMember\n",
    "    )\n",
    "\n",
    "    pattern_query = oechem.OEQMol(mol1.to_oemol())\n",
    "    pattern_query.BuildExpressions(atomexpr, bondexpr)\n",
    "    mcss = oechem.OEMCSSearch(pattern_query)\n",
    "    mcss.SetMCSFunc(oechem.OEMCSMaxAtomsCompleteCycles())\n",
    "\n",
    "    mcs_results = [match for match in mcss.Match(mol2.to_oemol(), True)]\n",
    "    print(mcs_results)\n",
    "    found_mcs = oechem.OEGraphMol()\n",
    "    oechem.OESubsetMol(found_mcs, mcs_results[0], True)\n",
    "        \n",
    "    # Highlight MCS in the molecules\n",
    "    mol1_highlight = oechem.OEGraphMol()\n",
    "    oechem.OESubsetMol(mol1_highlight, mol1, mcs_result.GetPattern())\n",
    "    mol2_highlight = oechem.OEGraphMol()\n",
    "    oechem.OESubsetMol(mol2_highlight, mol2, mcs_result.GetPattern())\n",
    "\n",
    "    # Draw the molecules with the highlighted MCS\n",
    "    opts = oedepict.OE2DMolDisplayOptions(400, 200, oedepict.OEScale_AutoScale)\n",
    "    disp = oedepict.OE2DMolDisplay(mol1, opts)\n",
    "    oedepict.OEAddHighlighting(disp, oechem.OEColor(oechem.OEYellow), oechem.OEColor(oechem.OEBlack), mcs_smarts)\n",
    "    img = oedepict.OEImage(400, 200)\n",
    "    oedepict.OERenderMolecule(img, disp)\n",
    "\n",
    "    opts = oedepict.OE2DMolDisplayOptions(400, 200, oedepict.OEScale_AutoScale)\n",
    "    disp = oedepict.OE2DMolDisplay(mol2, opts)\n",
    "    oedepict.OEAddHighlighting(disp, oechem.OEColor(oechem.OEYellow), oechem.OEColor(oechem.OEBlack), mcs_smarts)\n",
    "    img2 = oedepict.OEImage(400, 200)\n",
    "    oedepict.OERenderMolecule(img2, disp)\n",
    "\n",
    "    # Display the images\n",
    "    oedepict.OEWriteImage(\"molecule1.png\", img)\n",
    "    oedepict.OEWriteImage(\"molecule2.png\", img2)"
   ]
  },
  {
   "cell_type": "code",
   "execution_count": null,
   "id": "4f4f386c-8b9c-4e2d-8fdb-b2c73c5edd12",
   "metadata": {},
   "outputs": [],
   "source": [
    "find_and_plot_mcss(mol1, mol2)"
   ]
  },
  {
   "cell_type": "code",
   "execution_count": null,
   "id": "66c036c3-7c84-4b42-bbf3-41d068756a69",
   "metadata": {},
   "outputs": [],
   "source": []
  },
  {
   "cell_type": "code",
   "execution_count": null,
   "id": "714adb30-de0f-429e-9e13-d597f8c7dd84",
   "metadata": {},
   "outputs": [],
   "source": []
  },
  {
   "cell_type": "code",
   "execution_count": null,
   "id": "a68b018c-bcc2-4237-8531-79be16724bbe",
   "metadata": {},
   "outputs": [],
   "source": [
    "mcs_results = [match for match in mcss.Match(mol2.to_oemol(), True)]"
   ]
  },
  {
   "cell_type": "code",
   "execution_count": null,
   "id": "273390fe-b51b-4f06-a1dc-eb847c28590a",
   "metadata": {},
   "outputs": [],
   "source": [
    "print(mcs_results)"
   ]
  },
  {
   "cell_type": "code",
   "execution_count": null,
   "id": "c3f94bc0-1cef-44e2-a764-7a7cf6870c40",
   "metadata": {},
   "outputs": [],
   "source": [
    "type(mcs_results[0])"
   ]
  },
  {
   "cell_type": "code",
   "execution_count": null,
   "id": "b45190bf-5d75-4ac2-aeeb-fcb467ae3c61",
   "metadata": {},
   "outputs": [],
   "source": [
    "m = oechem.OEGraphMol()"
   ]
  },
  {
   "cell_type": "code",
   "execution_count": null,
   "id": "708528cd-36e8-4304-9a77-da6ac0087267",
   "metadata": {},
   "outputs": [],
   "source": [
    "match = mcs_results[0]"
   ]
  },
  {
   "cell_type": "code",
   "execution_count": null,
   "id": "eb9972c6-9fac-4780-94a9-922451349a5b",
   "metadata": {},
   "outputs": [],
   "source": [
    "match.NumAtoms()"
   ]
  },
  {
   "cell_type": "code",
   "execution_count": null,
   "id": "3099766e-b00b-4097-86b4-4a6ec2a50c73",
   "metadata": {},
   "outputs": [],
   "source": [
    "match.NumBonds()"
   ]
  },
  {
   "cell_type": "code",
   "execution_count": null,
   "id": "0d88e57b-80c0-40fa-b3f6-76d57bccbe1b",
   "metadata": {},
   "outputs": [],
   "source": [
    "match.GetPatternAtoms()"
   ]
  },
  {
   "cell_type": "code",
   "execution_count": null,
   "id": "1c1ec751-f377-4e7f-8cde-f98b2dee06c6",
   "metadata": {},
   "outputs": [],
   "source": [
    "oechem.OESubsetMol(m, match, True)"
   ]
  },
  {
   "cell_type": "code",
   "execution_count": null,
   "id": "556ca057-ea5e-4722-95f4-fcd206f648ef",
   "metadata": {},
   "outputs": [],
   "source": []
  },
  {
   "cell_type": "code",
   "execution_count": null,
   "id": "9035a7d4-8fc5-44c3-b53d-36f9606914a3",
   "metadata": {},
   "outputs": [],
   "source": [
    "refmol = mols[4].to_oemol()\n",
    "fitmol = mols[100].to_oemol()\n",
    "\n",
    "# Find MCS\n",
    "atomexpr = oechem.OEExprOpts_DefaultAtoms\n",
    "bondexpr = oechem.OEExprOpts_AutomorphBonds\n",
    "# create maximum common substructure object\n",
    "\n",
    "\n",
    "pattern_query = oechem.OEQMol(refmol)\n",
    "pattern_query.BuildExpressions(atomexpr, bondexpr)\n",
    "mcss = oechem.OEMCSSearch(pattern_query)\n",
    "mcss.SetMCSFunc(oechem.OEMCSMaxAtoms())\n",
    "\n",
    "alignres = oedepict.OEPrepareAlignedDepiction(fitmol, mcss)\n",
    "\n",
    "image = oedepict.OEImage(400, 200)\n",
    "\n",
    "rows, cols = 1, 2\n",
    "grid = oedepict.OEImageGrid(image, rows, cols)\n",
    "\n",
    "opts = oedepict.OE2DMolDisplayOptions(grid.GetCellWidth(), grid.GetCellHeight(),\n",
    "                                      oedepict.OEScale_AutoScale)\n",
    "opts.SetTitleLocation(oedepict.OETitleLocation_Bottom)\n",
    "opts.SetHydrogenStyle(oedepict.OEHydrogenStyle_Hidden)\n",
    "\n",
    "refscale = oedepict.OEGetMoleculeScale(refmol, opts)\n",
    "fitscale = oedepict.OEGetMoleculeScale(fitmol, opts)\n",
    "opts.SetScale(min(refscale, fitscale))\n",
    "\n",
    "refdisp = oedepict.OE2DMolDisplay(mcss.GetPattern(), opts)\n",
    "fitdisp = oedepict.OE2DMolDisplay(fitmol, opts)\n",
    "\n",
    "if alignres.IsValid():\n",
    "    refabset = oechem.OEAtomBondSet(alignres.GetPatternAtoms(), alignres.GetPatternBonds())\n",
    "    oedepict.OEAddHighlighting(refdisp, oechem.OEBlueTint,\n",
    "                               oedepict.OEHighlightStyle_BallAndStick, refabset)\n",
    "\n",
    "    fitabset = oechem.OEAtomBondSet(alignres.GetTargetAtoms(), alignres.GetTargetBonds())\n",
    "    oedepict.OEAddHighlighting(fitdisp, oechem.OEBlueTint,\n",
    "                               oedepict.OEHighlightStyle_BallAndStick, fitabset)\n",
    "\n",
    "refcell = grid.GetCell(1, 1)\n",
    "oedepict.OERenderMolecule(refcell, refdisp)\n",
    "\n",
    "fitcell = grid.GetCell(1, 2)\n",
    "oedepict.OERenderMolecule(fitcell, fitdisp)\n",
    "\n",
    "oedepict.OEWriteImage(\"MCSAlign.png\", image)\n",
    "Image(\"MCSAlign.png\")"
   ]
  },
  {
   "cell_type": "code",
   "execution_count": null,
   "id": "2c2e8b51-f4df-42ed-9f75-8d9b136c2332",
   "metadata": {},
   "outputs": [],
   "source": [
    "smiles = [len(mol.smiles) for mol in mols]"
   ]
  },
  {
   "cell_type": "code",
   "execution_count": null,
   "id": "bb3b8102-b5fb-4fbb-9229-31875cab993a",
   "metadata": {},
   "outputs": [],
   "source": [
    "smiles"
   ]
  },
  {
   "cell_type": "code",
   "execution_count": null,
   "id": "070704a5-dddc-4663-9241-b8ec7dea67d4",
   "metadata": {},
   "outputs": [],
   "source": [
    "mols[4]"
   ]
  },
  {
   "cell_type": "code",
   "execution_count": null,
   "id": "56df18be-2f88-46e7-8189-7ad70859a553",
   "metadata": {},
   "outputs": [],
   "source": [
    "mols[100]"
   ]
  },
  {
   "cell_type": "code",
   "execution_count": null,
   "id": "a0ca54e3-443c-451b-b6d8-9c887e4a950f",
   "metadata": {},
   "outputs": [],
   "source": [
    "from asapdiscovery.docking.analysis import calculate_tanimoto_oe, TanimotoType"
   ]
  },
  {
   "cell_type": "code",
   "execution_count": null,
   "id": "67ad4dfd-59e0-49d7-b5df-4cfe93c6ba81",
   "metadata": {},
   "outputs": [],
   "source": [
    "calculate_tanimoto_oe(mols[4], mols[100], compute_type=TanimotoType.COLOR)"
   ]
  },
  {
   "cell_type": "code",
   "execution_count": null,
   "id": "20e5296d-5177-47df-bc40-af11dca876ad",
   "metadata": {},
   "outputs": [],
   "source": [
    "calculate_tanimoto_oe(mols[4], mols[100], compute_type=TanimotoType.SHAPE)"
   ]
  },
  {
   "cell_type": "code",
   "outputs": [],
   "source": [],
   "metadata": {
    "collapsed": false
   },
   "id": "9d82cf151acb95ec"
  }
 ],
 "metadata": {
  "kernelspec": {
   "display_name": "Python 3 (ipykernel)",
   "language": "python",
   "name": "python3"
  },
  "language_info": {
   "codemirror_mode": {
    "name": "ipython",
    "version": 3
   },
   "file_extension": ".py",
   "mimetype": "text/x-python",
   "name": "python",
   "nbconvert_exporter": "python",
   "pygments_lexer": "ipython3",
   "version": "3.10.13"
  }
 },
 "nbformat": 4,
 "nbformat_minor": 5
}
