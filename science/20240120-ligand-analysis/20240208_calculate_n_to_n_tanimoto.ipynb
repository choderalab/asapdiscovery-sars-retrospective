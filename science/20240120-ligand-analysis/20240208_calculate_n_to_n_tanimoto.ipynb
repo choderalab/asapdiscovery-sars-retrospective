{
 "cells": [
  {
   "cell_type": "markdown",
   "source": [
    "# Imports"
   ],
   "metadata": {
    "collapsed": false
   },
   "id": "4407a77339629e92"
  },
  {
   "cell_type": "code",
   "outputs": [],
   "source": [
    "import numpy as np\n",
    "import pandas as pd\n",
    "from asapdiscovery.docking import analysis as a\n",
    "from importlib import reload\n",
    "reload(a)\n",
    "from asapdiscovery.data.schema_v2.ligand import Ligand\n",
    "from asapdiscovery.data.schema_v2.complex import Complex\n",
    "from asapdiscovery.data.selectors.mcs_selector import MCSSelector\n",
    "from tqdm import tqdm\n",
    "from pathlib import Path\n",
    "import json\n",
    "from itertools import combinations # only need to do the combinations once since the Tanimoto is symmetric"
   ],
   "metadata": {
    "collapsed": false
   },
   "id": "efa641a488b96a95",
   "execution_count": null
  },
  {
   "cell_type": "markdown",
   "source": [
    "## Load the data"
   ],
   "metadata": {
    "collapsed": false
   },
   "id": "6b64bd0dcda7e7a5"
  },
  {
   "cell_type": "code",
   "outputs": [],
   "source": [
    "data_path = Path(\"../../data/20240202_fragalysis_p_series_schema\")"
   ],
   "metadata": {
    "collapsed": false
   },
   "id": "aeb95a9f686e7c58",
   "execution_count": null
  },
  {
   "cell_type": "code",
   "outputs": [],
   "source": [
    "complexes = [Complex.from_dict(json.load(open(p))) for p in data_path.glob(\"*.json\")]"
   ],
   "metadata": {
    "collapsed": false
   },
   "id": "c1cfcd3c8265e6d7",
   "execution_count": null
  },
  {
   "cell_type": "code",
   "outputs": [],
   "source": [
    "mols = [c.ligand for c in complexes]"
   ],
   "metadata": {
    "collapsed": false
   },
   "id": "a44846bd3b03422f",
   "execution_count": null
  },
  {
   "cell_type": "code",
   "outputs": [],
   "source": [
    "pairs = list(combinations(mols, 2))"
   ],
   "metadata": {
    "collapsed": false
   },
   "id": "e78a4e1a5ddfb8d",
   "execution_count": null
  },
  {
   "cell_type": "code",
   "outputs": [],
   "source": [
    "len(pairs)"
   ],
   "metadata": {
    "collapsed": false
   },
   "id": "3f0c3604e77fb856",
   "execution_count": null
  },
  {
   "cell_type": "markdown",
   "source": [
    "# Calculate N to N Tanimoto"
   ],
   "metadata": {
    "collapsed": false
   },
   "id": "d7b19bd729755e2d"
  },
  {
   "cell_type": "code",
   "outputs": [],
   "source": [
    "for mol1 in mols:\n",
    "    tc_list = []\n",
    "    for mol2 in tqdm(mols):\n",
    "        tc = a.calculate_tanimoto_oe(mol1.to_oemol(), mol2.to_oemol(), \"combo\")\n",
    "        tc_list.append(tc)\n",
    "        "
   ],
   "metadata": {
    "collapsed": false
   },
   "id": "9873b98714e16c46",
   "execution_count": null
  },
  {
   "cell_type": "code",
   "outputs": [],
   "source": [
    "tc = [a.calculate_tanimoto_oe(mol1.to_oemol(), mol2.to_oemol(), \"combo\") for mol1, mol2 in tqdm(permuts)]"
   ],
   "metadata": {
    "collapsed": false
   },
   "id": "671c6acd80f8dd03",
   "execution_count": null
  },
  {
   "cell_type": "code",
   "outputs": [],
   "source": [
    "def calculate_n_to_n_tanimoto(mols: list[Ligand], compute_type: a.TanimotoType = a.TanimotoType.COMBO):\n",
    "    from asapdiscovery.data.openeye import oeshape\n",
    "    refmols = [mol.to_oemol() for mol in mols]\n",
    "    querymols = [mol.to_oemol() for mol in mols]\n",
    "    \n",
    "    tc_list = []\n",
    "    for refmol in refmols:\n",
    "        # Prepare reference molecule for calculation\n",
    "        # With default options this will remove any explicit hydrogens present\n",
    "        prep = oeshape.OEOverlapPrep()\n",
    "        prep.Prep(refmol)\n",
    "    \n",
    "        # Get appropriate function to calculate exact shape\n",
    "        shapeFunc = oeshape.OEOverlapFunc()\n",
    "        shapeFunc.SetupRef(refmol)\n",
    "    \n",
    "        for fitmol in querymols:\n",
    "            res = oeshape.OEOverlapResults()\n",
    "            prep.Prep(fitmol)\n",
    "            shapeFunc.Overlap(fitmol, res)\n",
    "            \n",
    "            if compute_type == a.TanimotoType.SHAPE:\n",
    "                tc_list.append(res.GetShapeTanimoto())\n",
    "            elif compute_type == a.TanimotoType.COLOR:\n",
    "                tc_list.append(res.GetColorTanimoto())\n",
    "            elif compute_type == a.TanimotoType.COMBO:\n",
    "                tc_list.append(res.GetTanimotoCombo())\n",
    "    return tc_list"
   ],
   "metadata": {
    "collapsed": false
   },
   "id": "58fdc39ebd4db549",
   "execution_count": null
  },
  {
   "cell_type": "code",
   "outputs": [],
   "source": [
    "tc_list = calculate_n_to_n_tanimoto(mols)"
   ],
   "metadata": {
    "collapsed": false
   },
   "id": "1831c435d96efa45",
   "execution_count": null
  },
  {
   "cell_type": "code",
   "outputs": [],
   "source": [
    "matrix = np.array(tc_list).reshape(len(mols), len(mols))"
   ],
   "metadata": {
    "collapsed": false
   },
   "id": "5bac7bb1b0fc78c8",
   "execution_count": null
  },
  {
   "cell_type": "markdown",
   "source": [],
   "metadata": {
    "collapsed": false
   },
   "id": "435c04f46d98a52e"
  },
  {
   "cell_type": "code",
   "outputs": [],
   "source": [
    "mol_array = np.array(mols)"
   ],
   "metadata": {
    "collapsed": false
   },
   "id": "79ed1f62aef04ac7",
   "execution_count": null
  },
  {
   "cell_type": "code",
   "outputs": [],
   "source": [
    "top10_dict = {}\n",
    "for i, row in enumerate(matrix):\n",
    "    idx = np.argsort(row)[-11:]\n",
    "    top10_dict[mol_array[i]] = {'mols': mol_array[idx][-11:-1],\n",
    "                                'tcs': row[idx][-11:-1]}\n",
    "    "
   ],
   "metadata": {
    "collapsed": false
   },
   "id": "c2a14cc871255472",
   "execution_count": null
  },
  {
   "cell_type": "code",
   "outputs": [],
   "source": [
    "top10_dict[mol_array[0]]"
   ],
   "metadata": {
    "collapsed": false
   },
   "id": "e47527ef91f0d951",
   "execution_count": null
  },
  {
   "cell_type": "code",
   "outputs": [],
   "source": [
    "import plotly.express as px"
   ],
   "metadata": {
    "collapsed": false
   },
   "id": "27f1e1768cc3bbe0",
   "execution_count": null
  },
  {
   "cell_type": "code",
   "outputs": [],
   "source": [
    "px.imshow(matrix)"
   ],
   "metadata": {
    "collapsed": false
   },
   "id": "41f3c5b486d64af9",
   "execution_count": null
  },
  {
   "cell_type": "code",
   "outputs": [],
   "source": [
    "px.imshow(2 - matrix)"
   ],
   "metadata": {
    "collapsed": false
   },
   "id": "68a1fbdfded1ccbc",
   "execution_count": null
  },
  {
   "cell_type": "markdown",
   "source": [
    "# convert to df and save"
   ],
   "metadata": {
    "collapsed": false
   },
   "id": "fef8e37619228c0e"
  },
  {
   "cell_type": "code",
   "outputs": [],
   "source": [
    "df = pd.DataFrame({\"Mol1\": [m.compound_name for m in mols for _ in mols], \n",
    "                       \"Mol2\": [m.compound_name for _ in mols for m in mols], \n",
    "                       \"Tanimoto\": matrix.reshape(-1),\n",
    "                   })"
   ],
   "metadata": {
    "collapsed": false
   },
   "id": "c3d5dde3a2d43024",
   "execution_count": null
  },
  {
   "cell_type": "code",
   "outputs": [],
   "source": [
    "df.to_csv(\"tanimoto_combo.csv\", index=False)"
   ],
   "metadata": {
    "collapsed": false
   },
   "id": "8c16fb3ff5382895",
   "execution_count": null
  },
  {
   "cell_type": "code",
   "outputs": [],
   "source": [],
   "metadata": {
    "collapsed": false
   },
   "id": "e4dc9310eaf48649"
  }
 ],
 "metadata": {
  "kernelspec": {
   "display_name": "Python 3",
   "language": "python",
   "name": "python3"
  },
  "language_info": {
   "codemirror_mode": {
    "name": "ipython",
    "version": 2
   },
   "file_extension": ".py",
   "mimetype": "text/x-python",
   "name": "python",
   "nbconvert_exporter": "python",
   "pygments_lexer": "ipython2",
   "version": "2.7.6"
  }
 },
 "nbformat": 4,
 "nbformat_minor": 5
}
