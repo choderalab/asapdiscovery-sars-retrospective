{
 "cells": [
  {
   "cell_type": "markdown",
   "metadata": {
    "jp-MarkdownHeadingCollapsed": true,
    "pycharm": {
     "is_executing": true
    },
    "tags": []
   },
   "source": [
    "# Imports"
   ]
  },
  {
   "cell_type": "code",
   "execution_count": null,
   "metadata": {
    "pycharm": {
     "name": "#%%\n"
    },
    "tags": []
   },
   "outputs": [],
   "source": [
    "import pandas as pd, numpy as np\n",
    "import plotly.express as px\n",
    "from plotly.graph_objs import Figure\n",
    "from pathlib import Path\n",
    "from importlib import reload\n",
    "import software.analysis as a\n",
    "import software.plotting as pl\n",
    "reload(a)"
   ]
  },
  {
   "cell_type": "markdown",
   "metadata": {},
   "source": [
    "# Load Paths"
   ]
  },
  {
   "cell_type": "code",
   "execution_count": null,
   "metadata": {
    "tags": []
   },
   "outputs": [],
   "source": [
    "import sys\n",
    "sys.path.append(str(Path(\"../../../\").resolve()))\n",
    "from software.paths import paths"
   ]
  },
  {
   "cell_type": "code",
   "execution_count": null,
   "metadata": {
    "tags": []
   },
   "outputs": [],
   "source": [
    "local_analysis = Path(\"/Users/alexpayne/Scientific_Projects/mers-drug-discovery/sars2-retrospective-analysis/\")"
   ]
  },
  {
   "cell_type": "code",
   "execution_count": null,
   "metadata": {
    "tags": []
   },
   "outputs": [],
   "source": [
    "df = pd.read_csv(local_analysis / \"20231016_combined.csv\", index_col=0)"
   ]
  },
  {
   "cell_type": "code",
   "execution_count": null,
   "metadata": {
    "tags": []
   },
   "outputs": [],
   "source": [
    "df.groupby(\"POSIT_Method\").nunique()"
   ]
  },
  {
   "cell_type": "code",
   "execution_count": null,
   "metadata": {
    "tags": []
   },
   "outputs": [],
   "source": [
    "fig = pl.plot_kde(df, \"RMSD\", \"POSIT_Method\")\n",
    "fig.update_layout(title=\"RMSD Distribution for Self-Docking Results\")\n",
    "fig.write_image(\"20231017_rmsd_kde_self_docking.png\")"
   ]
  },
  {
   "cell_type": "code",
   "execution_count": null,
   "metadata": {
    "tags": []
   },
   "outputs": [],
   "source": [
    "import plotly.figure_factory as ff\n",
    "group_column=\"POSIT_Method\"\n",
    "groups = df[group_column].unique()\n",
    "value_column=\"POSIT\"\n",
    "arrays = [df[df[group_column] == group][value_column] for group in groups]"
   ]
  },
  {
   "cell_type": "code",
   "execution_count": null,
   "metadata": {
    "tags": []
   },
   "outputs": [],
   "source": [
    "fig = ff.create_distplot(arrays, group_labels=groups, bin_size=0.1, histnorm=\"probability\", show_rug=False)\n",
    "fig.update_layout(title=\"POSIT Score Distribution for Self-Docking\", width=600, height=400)\n",
    "fig.update_yaxes(title=\"Frequency\", range=[0,1])\n",
    "fig.update_xaxes(title=\"POSIT\", range=[0,1])\n",
    "fig.show()\n",
    "fig.write_image(\"202301017_posit_kde_self_docking.png\")"
   ]
  },
  {
   "cell_type": "code",
   "execution_count": null,
   "metadata": {},
   "outputs": [],
   "source": []
  },
  {
   "cell_type": "markdown",
   "metadata": {},
   "source": [
    "# In what percentage of cases is HYBRID outperforming SHAPEFIT?"
   ]
  },
  {
   "cell_type": "code",
   "execution_count": null,
   "metadata": {
    "tags": []
   },
   "outputs": [],
   "source": [
    "best_poses = df.loc[df.groupby('Compound_ID')['RMSD'].idxmin()]"
   ]
  },
  {
   "cell_type": "code",
   "execution_count": null,
   "metadata": {
    "tags": []
   },
   "outputs": [],
   "source": [
    "best_poses.groupby(\"POSIT_Method\").nunique()"
   ]
  },
  {
   "cell_type": "code",
   "execution_count": null,
   "metadata": {
    "tags": []
   },
   "outputs": [],
   "source": [
    "df.loc[df.groupby('Compound_ID')['RMSD'].idxmin()].groupby(\"POSIT_Method\")[[\"Compound_ID\"]].count() / df.Compound_ID.nunique()"
   ]
  },
  {
   "cell_type": "code",
   "execution_count": null,
   "metadata": {
    "tags": []
   },
   "outputs": [],
   "source": [
    "df.loc[df.groupby('Compound_ID')['POSIT'].idxmax()].groupby(\"POSIT_Method\")[[\"Compound_ID\"]].count() / df.Compound_ID.nunique()"
   ]
  },
  {
   "cell_type": "markdown",
   "metadata": {},
   "source": [
    "# If we pull out the best score based on POSIT, do we do a better job?"
   ]
  },
  {
   "cell_type": "code",
   "execution_count": null,
   "metadata": {
    "tags": []
   },
   "outputs": [],
   "source": [
    "df = df.sample(frac=1)\n",
    "combined = df.loc[df.groupby('Complex_ID')['POSIT'].idxmax()]"
   ]
  },
  {
   "cell_type": "code",
   "execution_count": null,
   "metadata": {
    "tags": []
   },
   "outputs": [],
   "source": [
    "combined.groupby(\"POSIT_Method\").nunique()"
   ]
  },
  {
   "cell_type": "code",
   "execution_count": null,
   "metadata": {
    "tags": []
   },
   "outputs": [],
   "source": [
    "combined.POSIT_Method = \"COMBINED\""
   ]
  },
  {
   "cell_type": "code",
   "execution_count": null,
   "metadata": {
    "tags": []
   },
   "outputs": [],
   "source": [
    "full_comparison = pd.concat([df, combined])"
   ]
  },
  {
   "cell_type": "code",
   "execution_count": null,
   "metadata": {
    "tags": []
   },
   "outputs": [],
   "source": [
    "fig = pl.plot_kde(full_comparison, \"RMSD\", \"POSIT_Method\")\n",
    "fig.update_layout(title=\"RMSD Distribution for Self-Docking Results\")\n",
    "fig.show()\n",
    "fig.write_image(\"20231017_rmsd_kde_self_docking_with_combined.png\")"
   ]
  },
  {
   "cell_type": "code",
   "execution_count": null,
   "metadata": {
    "tags": []
   },
   "outputs": [],
   "source": [
    "px.violin(full_comparison, y=\"POSIT\", x=\"POSIT_Method\", height=400, width=800)"
   ]
  },
  {
   "cell_type": "code",
   "execution_count": null,
   "metadata": {
    "tags": []
   },
   "outputs": [],
   "source": [
    "fig = px.violin(full_comparison, y=\"RMSD\", x=\"POSIT_Method\", template=\"simple_white\", width=800, height=400)\n",
    "fig.show()\n",
    "fig.write_image(\"20231017_rmsd_violin_plot.png\")"
   ]
  },
  {
   "cell_type": "markdown",
   "metadata": {},
   "source": [
    "## how well correlated are POSIT and RMSD for the combined case?"
   ]
  },
  {
   "cell_type": "code",
   "execution_count": null,
   "metadata": {
    "tags": []
   },
   "outputs": [],
   "source": [
    "fig = px.density_contour(combined, x=\"POSIT\", y=\"RMSD\", marginal_x=\"histogram\", marginal_y=\"histogram\")\n",
    "fig.update_layout(title=\"POSIT vs RMSD\", width=600, height=400)"
   ]
  },
  {
   "cell_type": "markdown",
   "metadata": {},
   "source": [
    "## For each protocol, which has the best frequency of <2Å RMSD structures?"
   ]
  },
  {
   "cell_type": "code",
   "execution_count": null,
   "metadata": {
    "tags": []
   },
   "outputs": [],
   "source": [
    "rmsd_results = []\n",
    "for val in [0.5, 1, 1.5, 2, 3, 5, 8]:\n",
    "    rmsd_result = pd.DataFrame(a.calc_perc_good(full_comparison, \n",
    "                                 score_column=\"RMSD\", \n",
    "                                 good_score=val, \n",
    "                                 total_mol=1, \n",
    "                                 split_cols=[\"POSIT_Method\"]))\n",
    "    rmsd_result[\"RMSD Cutoff (Å)\"] = val\n",
    "    rmsd_results.append(rmsd_result)"
   ]
  },
  {
   "cell_type": "code",
   "execution_count": null,
   "metadata": {
    "tags": []
   },
   "outputs": [],
   "source": [
    "rmsd_analysis = pd.concat(rmsd_results)"
   ]
  },
  {
   "cell_type": "code",
   "execution_count": null,
   "metadata": {
    "tags": []
   },
   "outputs": [],
   "source": [
    "rmsd_analysis[\"Percentage < Cutoff\"] = rmsd_analysis.RMSD / 218"
   ]
  },
  {
   "cell_type": "code",
   "execution_count": null,
   "metadata": {
    "tags": []
   },
   "outputs": [],
   "source": [
    "fig = px.line(rmsd_analysis, x=\"RMSD Cutoff (Å)\", y=\"RMSD\", color=rmsd_analysis.index)\n",
    "fig.update_layout(title=\"Number Self-Docked Structures Below an RMSD Cutoff\", width=600, height=400)\n",
    "fig.update_yaxes(title=\"# of Structures\")\n",
    "fig.show()\n",
    "fig.write_image(\"2023107_self_docked_below_rmsd_cutoff.png\")"
   ]
  },
  {
   "cell_type": "code",
   "execution_count": null,
   "metadata": {
    "tags": []
   },
   "outputs": [],
   "source": [
    "fig = px.line(rmsd_analysis, x=\"RMSD Cutoff (Å)\", y=\"Percentage < Cutoff\", color=rmsd_analysis.index)\n",
    "fig.update_layout(title=\"Percentage of Self-Docked Structures Below an RMSD Cutoff\", width=600, height=400)\n",
    "fig.show()\n",
    "fig.write_image(\"2023107_self_docked_below_rmsd_cutoff_perc.png\")"
   ]
  },
  {
   "cell_type": "code",
   "execution_count": null,
   "metadata": {},
   "outputs": [],
   "source": []
  }
 ],
 "metadata": {
  "kernelspec": {
   "display_name": "Python 3 (ipykernel)",
   "language": "python",
   "name": "python3"
  },
  "language_info": {
   "codemirror_mode": {
    "name": "ipython",
    "version": 3
   },
   "file_extension": ".py",
   "mimetype": "text/x-python",
   "name": "python",
   "nbconvert_exporter": "python",
   "pygments_lexer": "ipython3",
   "version": "3.9.16"
  }
 },
 "nbformat": 4,
 "nbformat_minor": 4
}