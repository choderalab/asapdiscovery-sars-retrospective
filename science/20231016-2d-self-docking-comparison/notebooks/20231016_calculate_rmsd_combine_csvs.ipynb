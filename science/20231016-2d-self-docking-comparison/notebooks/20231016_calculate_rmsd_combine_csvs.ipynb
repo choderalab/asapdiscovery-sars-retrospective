{
 "cells": [
  {
   "cell_type": "markdown",
   "id": "62fcbebe-92b3-4a8c-9368-72ebcb12ab82",
   "metadata": {},
   "source": [
    "# Imports"
   ]
  },
  {
   "cell_type": "code",
   "execution_count": null,
   "id": "d01d7c45-8a92-4ea6-95af-a1514087d8dd",
   "metadata": {
    "tags": []
   },
   "outputs": [],
   "source": [
    "from pathlib import Path\n",
    "import pandas as pd\n",
    "from asapdiscovery.docking.analysis import calculate_rmsd_openeye\n",
    "from asapdiscovery.data.openeye import load_openeye_sdf"
   ]
  },
  {
   "cell_type": "code",
   "execution_count": null,
   "id": "57efb062-99a1-449f-83e7-eeeee5ed4770",
   "metadata": {},
   "outputs": [],
   "source": []
  },
  {
   "cell_type": "code",
   "execution_count": null,
   "id": "02e60118-fda2-4794-b45e-9e12f677b43c",
   "metadata": {
    "pycharm": {
     "is_executing": true
    },
    "tags": []
   },
   "outputs": [],
   "source": [
    "local_analysis = Path(\"/Users/alexpayne/Scientific_Projects/mers-drug-discovery/sars2-retrospective-analysis/\")"
   ]
  },
  {
   "cell_type": "code",
   "execution_count": null,
   "id": "7ef6b205-39f3-41e5-a86b-f160e8310b1d",
   "metadata": {
    "tags": []
   },
   "outputs": [],
   "source": [
    "csvs = local_analysis.glob(\"20231016_self_docked*/run_docking_oe.*-results.csv\")"
   ]
  },
  {
   "cell_type": "code",
   "execution_count": null,
   "id": "70abc25d-fd2c-48a8-8bfb-9158ba53c9d7",
   "metadata": {
    "tags": []
   },
   "outputs": [],
   "source": [
    "df = pd.concat(map(pd.read_csv, csvs), ignore_index= True)"
   ]
  },
  {
   "cell_type": "code",
   "execution_count": null,
   "id": "a787088e-6285-4bb1-a358-c6ed71b37a3b",
   "metadata": {
    "tags": []
   },
   "outputs": [],
   "source": [
    "df.groupby([\"POSIT_method\"]).nunique()"
   ]
  },
  {
   "cell_type": "code",
   "execution_count": null,
   "id": "c8f9b0b8-f06c-48a8-b083-4fd2c7079751",
   "metadata": {
    "tags": []
   },
   "outputs": [],
   "source": [
    "df.columns"
   ]
  },
  {
   "cell_type": "markdown",
   "id": "c3c0fa07-d189-4530-94da-8e85ef6c9f2d",
   "metadata": {},
   "source": [
    "# Cleanup"
   ]
  },
  {
   "cell_type": "code",
   "execution_count": null,
   "id": "83e281a0-d4cf-4a54-83f7-0dde00ceecc7",
   "metadata": {
    "tags": []
   },
   "outputs": [],
   "source": [
    "df.columns = [\"Compound_ID\", \n",
    "                 \"Structure_Source\", \n",
    "                 \"Docked_File\", \n",
    "                 \"Pose_ID\", \n",
    "                 \"RMSD\", \n",
    "                 \"POSIT\", \n",
    "                 \"POSIT_Method\", \n",
    "                 \"Chemgauss4\", \n",
    "                 \"Clash\", \n",
    "                 \"SMILES\", \n",
    "                 \"GAT_Score\",\n",
    "                \"SCHNET_score\"]"
   ]
  },
  {
   "cell_type": "code",
   "execution_count": null,
   "id": "4244d2c1-e507-4aa4-a58b-17908a341087",
   "metadata": {
    "tags": []
   },
   "outputs": [],
   "source": [
    "df[\"POSIT_R\"] = 1-df[\"POSIT\"]\n",
    "df[\"Complex_ID\"] = df.Compound_ID.apply(str) + \"_\" + df.Structure_Source"
   ]
  },
  {
   "cell_type": "markdown",
   "id": "10f377b6-79f3-4776-b8c2-ae5e1271f0dc",
   "metadata": {
    "tags": []
   },
   "source": [
    "## remove non-p series structures"
   ]
  },
  {
   "cell_type": "code",
   "execution_count": null,
   "id": "9597c882-4d90-494e-a608-fd7f1bb19858",
   "metadata": {
    "tags": []
   },
   "outputs": [],
   "source": [
    "p_only = df[df.Structure_Source.str.contains(\"Mpro-P\")]"
   ]
  },
  {
   "cell_type": "code",
   "execution_count": null,
   "id": "bc580ccd-0c85-4adb-a851-ad2fe84bde54",
   "metadata": {
    "tags": []
   },
   "outputs": [],
   "source": [
    "p_only.groupby([\"POSIT_Method\"]).count()"
   ]
  },
  {
   "cell_type": "code",
   "execution_count": null,
   "id": "a9ff2121-dddf-4415-bb2f-4c8e29ad7cb4",
   "metadata": {},
   "outputs": [],
   "source": []
  },
  {
   "cell_type": "markdown",
   "id": "da7590db-6057-4496-883f-8298db27cc18",
   "metadata": {},
   "source": [
    "## get intersection"
   ]
  },
  {
   "cell_type": "code",
   "execution_count": null,
   "id": "900b0df5-025f-4f98-a025-6053ae398b8c",
   "metadata": {
    "tags": []
   },
   "outputs": [],
   "source": [
    "p_only.groupby([\"Compound_ID\", \"POSIT_Method\"]).count()"
   ]
  },
  {
   "cell_type": "code",
   "execution_count": null,
   "id": "80acdf28-c353-478e-9cf6-9e8861cd393e",
   "metadata": {
    "tags": []
   },
   "outputs": [],
   "source": [
    "p_only[p_only.Compound_ID == \"ALP-POS-133e7cd9-2\"]"
   ]
  },
  {
   "cell_type": "code",
   "execution_count": null,
   "id": "4d69cd8a-3412-4e9e-aada-0d5e85b616bc",
   "metadata": {
    "tags": []
   },
   "outputs": [],
   "source": [
    "print([file for file in p_only[p_only.Compound_ID == \"ALP-POS-133e7cd9-2\"][\"Docked_File\"]])"
   ]
  },
  {
   "cell_type": "markdown",
   "id": "dc49e995-5c37-4f03-9764-3bec9770d348",
   "metadata": {},
   "source": [
    "# get intersection"
   ]
  },
  {
   "cell_type": "code",
   "execution_count": null,
   "id": "b22c3659-52a4-4195-b2ae-8505432307f7",
   "metadata": {
    "tags": []
   },
   "outputs": [],
   "source": [
    "cmpds = p_only[p_only.POSIT_Method == \"SHAPEFIT\"][\"Compound_ID\"]"
   ]
  },
  {
   "cell_type": "code",
   "execution_count": null,
   "id": "fe20d8dc-6be3-49da-b50d-8289ca038f8f",
   "metadata": {
    "tags": []
   },
   "outputs": [],
   "source": [
    "intersection = p_only[p_only.Compound_ID.isin(cmpds)]"
   ]
  },
  {
   "cell_type": "code",
   "execution_count": null,
   "id": "da9f61b4-e918-4254-9cd5-236c7710bc35",
   "metadata": {
    "tags": []
   },
   "outputs": [],
   "source": [
    "intersection.groupby([\"POSIT_Method\"]).count()"
   ]
  },
  {
   "cell_type": "code",
   "execution_count": null,
   "id": "80755ba7-4bb7-4497-b462-47bacc9567be",
   "metadata": {
    "tags": []
   },
   "outputs": [],
   "source": [
    "#cmpds = intersection[intersection.POSIT_Method == \"FRED\"][\"Compound_ID\"]"
   ]
  },
  {
   "cell_type": "code",
   "execution_count": null,
   "id": "1800cb84-8975-42f7-848a-f96fd440fd36",
   "metadata": {
    "tags": []
   },
   "outputs": [],
   "source": [
    "intersection = intersection[intersection.Compound_ID.isin(cmpds)]"
   ]
  },
  {
   "cell_type": "code",
   "execution_count": null,
   "id": "e195a404-4e56-4da8-901e-bb9667dc5702",
   "metadata": {
    "scrolled": true,
    "tags": []
   },
   "outputs": [],
   "source": [
    "intersection.groupby([\"POSIT_Method\"]).count()"
   ]
  },
  {
   "cell_type": "code",
   "execution_count": null,
   "id": "d2446f22-3af3-4336-aa56-4243939304e5",
   "metadata": {
    "tags": []
   },
   "outputs": [],
   "source": [
    "cmpds = intersection[intersection.POSIT_Method == \"HYBRID\"][\"Compound_ID\"]"
   ]
  },
  {
   "cell_type": "code",
   "execution_count": null,
   "id": "7f5d7db0-a9f6-4cb1-802e-314b2828deaf",
   "metadata": {
    "tags": []
   },
   "outputs": [],
   "source": [
    "intersection = intersection[intersection.Compound_ID.isin(cmpds)]"
   ]
  },
  {
   "cell_type": "code",
   "execution_count": null,
   "id": "930676dd-bd50-492a-94c1-5452a308c5e4",
   "metadata": {
    "scrolled": true,
    "tags": []
   },
   "outputs": [],
   "source": [
    "intersection.groupby([\"POSIT_Method\"]).count()"
   ]
  },
  {
   "cell_type": "markdown",
   "id": "e2224b2a-86a5-401f-8802-9fa9a97e1456",
   "metadata": {},
   "source": [
    "# save csv"
   ]
  },
  {
   "cell_type": "code",
   "execution_count": null,
   "id": "2716f302-7d50-405f-bcfe-e1dc56b76edc",
   "metadata": {
    "tags": []
   },
   "outputs": [],
   "source": [
    "intersection.to_csv(local_analysis / \"20231016_combined.csv\")"
   ]
  },
  {
   "cell_type": "code",
   "execution_count": null,
   "id": "0aab7bf0-97e0-4bd3-b7df-7c3cdfbd5876",
   "metadata": {
    "tags": []
   },
   "outputs": [],
   "source": [
    "intersection"
   ]
  },
  {
   "cell_type": "markdown",
   "id": "f7377ec8-32d1-4ed1-aa56-b1372f2f8383",
   "metadata": {},
   "source": [
    "# Calculate RMSD"
   ]
  },
  {
   "cell_type": "code",
   "execution_count": null,
   "id": "7d4c30db-2453-4831-9a69-a33f1887eb2e",
   "metadata": {
    "tags": []
   },
   "outputs": [],
   "source": [
    "docked_mols = [load_openeye_sdf(str(local_analysis.joinpath(*Path(file).parts[-3:]))) for file in intersection.Docked_File]"
   ]
  },
  {
   "cell_type": "code",
   "execution_count": null,
   "id": "7b1ad35c-4ba4-4fb9-89fd-0e80eecccf3f",
   "metadata": {
    "tags": []
   },
   "outputs": [],
   "source": [
    "ref_mols = [load_openeye_sdf(str(local_analysis.joinpath(\"sdf_lsf_array_p_only_by_name\", f\"{compound_id.strip()}.sdf\")))  for compound_id in intersection.Compound_ID]"
   ]
  },
  {
   "cell_type": "code",
   "execution_count": null,
   "id": "1f2bca59-fe61-4369-9946-79340957f586",
   "metadata": {
    "tags": []
   },
   "outputs": [],
   "source": [
    "len(docked_mols)"
   ]
  },
  {
   "cell_type": "code",
   "execution_count": null,
   "id": "c4ed67bd-99ed-4d5f-b356-37b2fa339676",
   "metadata": {
    "tags": []
   },
   "outputs": [],
   "source": [
    "len(ref_mols)"
   ]
  },
  {
   "cell_type": "code",
   "execution_count": null,
   "id": "60e1aa90-589d-417c-8418-38b0e65ae87f",
   "metadata": {
    "tags": []
   },
   "outputs": [],
   "source": [
    "rmsds = [calculate_rmsd_openeye(docked, ref) for docked, ref in zip(docked_mols, ref_mols)]"
   ]
  },
  {
   "cell_type": "code",
   "execution_count": null,
   "id": "b6566dae-d2ae-4bb4-b181-774691f98553",
   "metadata": {
    "tags": []
   },
   "outputs": [],
   "source": [
    "intersection.RMSD = rmsds"
   ]
  },
  {
   "cell_type": "code",
   "execution_count": null,
   "id": "93e2c88f-bd03-49a9-aa50-183230a4a80c",
   "metadata": {
    "tags": []
   },
   "outputs": [],
   "source": [
    "intersection.to_csv(local_analysis / \"20231016_combined.csv\")"
   ]
  }
 ],
 "metadata": {
  "kernelspec": {
   "display_name": "Python 3 (ipykernel)",
   "language": "python",
   "name": "python3"
  },
  "language_info": {
   "codemirror_mode": {
    "name": "ipython",
    "version": 3
   },
   "file_extension": ".py",
   "mimetype": "text/x-python",
   "name": "python",
   "nbconvert_exporter": "python",
   "pygments_lexer": "ipython3",
   "version": "3.9.16"
  }
 },
 "nbformat": 4,
 "nbformat_minor": 5
}
